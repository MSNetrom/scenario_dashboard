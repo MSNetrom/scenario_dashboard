{
 "cells": [
  {
   "cell_type": "code",
   "execution_count": 1,
   "metadata": {},
   "outputs": [],
   "source": [
    "from facilitators import HourlyTechActivityRateSolutionCompareFacilitator"
   ]
  },
  {
   "cell_type": "code",
   "execution_count": 1,
   "metadata": {},
   "outputs": [],
   "source": [
    "%load_ext autoreload\n",
    "%autoreload 2\n",
    "\n",
    "from pathlib import Path\n",
    "\n",
    "from data import (TradeCapacityMapFacilitator, StackedQuantityEvolutionFacilitator, \n",
    "                  StackedQuantityEvolutionFacilitatorBase, HourlyTechActivityRateFacilitator,\n",
    "                  ProductionByTechnologyForFuelStackedQuantityEvolutionFacilitator)"
   ]
  },
  {
   "cell_type": "code",
   "execution_count": 2,
   "metadata": {},
   "outputs": [],
   "source": [
    "CURRENT_DIR = Path().resolve()\n",
    "SOLUTION_FILEPATH = CURRENT_DIR / \"season_vs_daily_data\" / \"solution_season_data4.sol\"\n",
    "TITLE_ADDON = \" - Season\"\n",
    "WRITE_IMAGE = False"
   ]
  },
  {
   "cell_type": "markdown",
   "metadata": {},
   "source": [
    "### Trade capacities between European countries 2018 and 2050"
   ]
  },
  {
   "cell_type": "code",
   "execution_count": 3,
   "metadata": {},
   "outputs": [
    {
     "name": "stdout",
     "output_type": "stream",
     "text": [
      "No unit conversion applied!\n"
     ]
    },
    {
     "data": {
      "application/vnd.plotly.v1+json": {
       "config": {
        "plotlyServerURL": "https://plot.ly"
       },
       "data": [
        {
         "lat": [
          46.818188,
          47.516231
         ],
         "legendgroup": "AT CH",
         "line": {
          "color": "#f4b6c2",
          "width": 2.48
         },
         "locationmode": "country names",
         "lon": [
          8.227512,
          14.550072
         ],
         "mode": "lines+markers",
         "name": "AT CH",
         "showlegend": false,
         "type": "scattergeo"
        },
        {
         "lat": [
          49.817492,
          47.516231
         ],
         "legendgroup": "AT CZ",
         "line": {
          "color": "#f4b6c2",
          "width": 5.142857142857143
         },
         "locationmode": "country names",
         "lon": [
          15.472962,
          14.550072
         ],
         "mode": "lines+markers",
         "name": "AT CZ",
         "showlegend": false,
         "type": "scattergeo"
        },
        {
         "lat": [
          51.165691,
          47.516231
         ],
         "legendgroup": "AT DE",
         "line": {
          "color": "#f4b6c2",
          "width": 11.428571428571427
         },
         "locationmode": "country names",
         "lon": [
          10.451526,
          14.550072
         ],
         "mode": "lines+markers",
         "name": "AT DE",
         "showlegend": false,
         "type": "scattergeo"
        },
        {
         "lat": [
          47.162494,
          47.516231
         ],
         "legendgroup": "AT HU",
         "line": {
          "color": "#f4b6c2",
          "width": 4.571428571428572
         },
         "locationmode": "country names",
         "lon": [
          19.503304,
          14.550072
         ],
         "mode": "lines+markers",
         "name": "AT HU",
         "showlegend": false,
         "type": "scattergeo"
        },
        {
         "lat": [
          41.87194,
          47.516231
         ],
         "legendgroup": "AT IT",
         "line": {
          "color": "#f4b6c2",
          "width": 0.4057142857142857
         },
         "locationmode": "country names",
         "lon": [
          12.56738,
          14.550072
         ],
         "mode": "lines+markers",
         "name": "AT IT",
         "showlegend": false,
         "type": "scattergeo"
        },
        {
         "lat": [
          46.151241,
          47.516231
         ],
         "legendgroup": "AT SI",
         "line": {
          "color": "#f4b6c2",
          "width": 5.4290476171428566
         },
         "locationmode": "country names",
         "lon": [
          14.995463,
          14.550072
         ],
         "mode": "lines+markers",
         "name": "AT SI",
         "showlegend": false,
         "type": "scattergeo"
        },
        {
         "lat": [
          46.227638,
          50.503887
         ],
         "legendgroup": "BE FR",
         "line": {
          "color": "#f4b6c2",
          "width": 8.571428571428571
         },
         "locationmode": "country names",
         "lon": [
          2.213749,
          4.469936
         ],
         "mode": "lines+markers",
         "name": "BE FR",
         "showlegend": false,
         "type": "scattergeo"
        },
        {
         "lat": [
          52.132633,
          50.503887
         ],
         "legendgroup": "BE NL",
         "line": {
          "color": "#f4b6c2",
          "width": 8.148571428571428
         },
         "locationmode": "country names",
         "lon": [
          5.291266,
          4.469936
         ],
         "mode": "lines+markers",
         "name": "BE NL",
         "showlegend": false,
         "type": "scattergeo"
        },
        {
         "lat": [
          44.29182,
          42.733883
         ],
         "legendgroup": "BG NONEU_Balkan",
         "line": {
          "color": "#f4b6c2",
          "width": 1.9999999999999998
         },
         "locationmode": "country names",
         "lon": [
          19.24671,
          25.48583
         ],
         "mode": "lines+markers",
         "name": "BG NONEU_Balkan",
         "showlegend": false,
         "type": "scattergeo"
        },
        {
         "lat": [
          45.943161,
          42.733883
         ],
         "legendgroup": "BG RO",
         "line": {
          "color": "#f4b6c2",
          "width": 0.8571428571428572
         },
         "locationmode": "country names",
         "lon": [
          24.96676,
          25.48583
         ],
         "mode": "lines+markers",
         "name": "BG RO",
         "showlegend": false,
         "type": "scattergeo"
        },
        {
         "lat": [
          38.963745,
          42.733883
         ],
         "legendgroup": "BG TR",
         "line": {
          "color": "#f4b6c2",
          "width": 5.7142857142857135
         },
         "locationmode": "country names",
         "lon": [
          35.243322,
          25.48583
         ],
         "mode": "lines+markers",
         "name": "BG TR",
         "showlegend": false,
         "type": "scattergeo"
        },
        {
         "lat": [
          51.165691,
          46.818188
         ],
         "legendgroup": "CH DE",
         "line": {
          "color": "#f4b6c2",
          "width": 20
         },
         "locationmode": "country names",
         "lon": [
          10.451526,
          8.227512
         ],
         "mode": "lines+markers",
         "name": "CH DE",
         "showlegend": false,
         "type": "scattergeo"
        },
        {
         "lat": [
          46.227638,
          46.818188
         ],
         "legendgroup": "CH FR",
         "line": {
          "color": "#f4b6c2",
          "width": 6.2857142857142865
         },
         "locationmode": "country names",
         "lon": [
          2.213749,
          8.227512
         ],
         "mode": "lines+markers",
         "name": "CH FR",
         "showlegend": false,
         "type": "scattergeo"
        },
        {
         "lat": [
          41.87194,
          46.818188
         ],
         "legendgroup": "CH IT",
         "line": {
          "color": "#f4b6c2",
          "width": 7.634285714285714
         },
         "locationmode": "country names",
         "lon": [
          12.56738,
          8.227512
         ],
         "mode": "lines+markers",
         "name": "CH IT",
         "showlegend": false,
         "type": "scattergeo"
        },
        {
         "lat": [
          51.165691,
          49.817492
         ],
         "legendgroup": "CZ DE",
         "line": {
          "color": "#f4b6c2",
          "width": 10.142857142857142
         },
         "locationmode": "country names",
         "lon": [
          10.451526,
          15.472962
         ],
         "mode": "lines+markers",
         "name": "CZ DE",
         "showlegend": false,
         "type": "scattergeo"
        },
        {
         "lat": [
          51.919438,
          49.817492
         ],
         "legendgroup": "CZ PL",
         "line": {
          "color": "#f4b6c2",
          "width": 0.5714285714285715
         },
         "locationmode": "country names",
         "lon": [
          19.145136,
          15.472962
         ],
         "mode": "lines+markers",
         "name": "CZ PL",
         "showlegend": false,
         "type": "scattergeo"
        },
        {
         "lat": [
          48.669026,
          49.817492
         ],
         "legendgroup": "CZ SK",
         "line": {
          "color": "#f4b6c2",
          "width": 9.714285714285714
         },
         "locationmode": "country names",
         "lon": [
          19.699024,
          15.472962
         ],
         "mode": "lines+markers",
         "name": "CZ SK",
         "showlegend": false,
         "type": "scattergeo"
        },
        {
         "lat": [
          56.26392,
          51.165691
         ],
         "legendgroup": "DE DK",
         "line": {
          "color": "#f4b6c2",
          "width": 17.714285714285715
         },
         "locationmode": "country names",
         "lon": [
          9.501785,
          10.451526
         ],
         "mode": "lines+markers",
         "name": "DE DK",
         "showlegend": false,
         "type": "scattergeo"
        },
        {
         "lat": [
          46.227638,
          51.165691
         ],
         "legendgroup": "DE FR",
         "line": {
          "color": "#f4b6c2",
          "width": 9.571428571428571
         },
         "locationmode": "country names",
         "lon": [
          2.213749,
          10.451526
         ],
         "mode": "lines+markers",
         "name": "DE FR",
         "showlegend": false,
         "type": "scattergeo"
        },
        {
         "lat": [
          49.815273,
          51.165691
         ],
         "legendgroup": "DE LU",
         "line": {
          "color": "#f4b6c2",
          "width": 5.6
         },
         "locationmode": "country names",
         "lon": [
          6.129583,
          10.451526
         ],
         "mode": "lines+markers",
         "name": "DE LU",
         "showlegend": false,
         "type": "scattergeo"
        },
        {
         "lat": [
          52.132633,
          51.165691
         ],
         "legendgroup": "DE NL",
         "line": {
          "color": "#f4b6c2",
          "width": 16.285714285714285
         },
         "locationmode": "country names",
         "lon": [
          5.291266,
          10.451526
         ],
         "mode": "lines+markers",
         "name": "DE NL",
         "showlegend": false,
         "type": "scattergeo"
        },
        {
         "lat": [
          60,
          51.165691
         ],
         "legendgroup": "DE NO",
         "line": {
          "color": "#f4b6c2",
          "width": 8.251428571428571
         },
         "locationmode": "country names",
         "lon": [
          6,
          10.451526
         ],
         "mode": "lines+markers",
         "name": "DE NO",
         "showlegend": false,
         "type": "scattergeo"
        },
        {
         "lat": [
          51.919438,
          51.165691
         ],
         "legendgroup": "DE PL",
         "line": {
          "color": "#f4b6c2",
          "width": 0.5714285714285715
         },
         "locationmode": "country names",
         "lon": [
          19.145136,
          10.451526
         ],
         "mode": "lines+markers",
         "name": "DE PL",
         "showlegend": false,
         "type": "scattergeo"
        },
        {
         "lat": [
          60,
          56.26392
         ],
         "legendgroup": "DK NO",
         "line": {
          "color": "#f4b6c2",
          "width": 9.714285714285714
         },
         "locationmode": "country names",
         "lon": [
          6,
          9.501785
         ],
         "mode": "lines+markers",
         "name": "DK NO",
         "showlegend": false,
         "type": "scattergeo"
        },
        {
         "lat": [
          60.128161,
          56.26392
         ],
         "legendgroup": "DK SE",
         "line": {
          "color": "#f4b6c2",
          "width": 13.942857142857143
         },
         "locationmode": "country names",
         "lon": [
          15,
          9.501785
         ],
         "mode": "lines+markers",
         "name": "DK SE",
         "showlegend": false,
         "type": "scattergeo"
        },
        {
         "lat": [
          61.92411,
          58.595272
         ],
         "legendgroup": "EE FI",
         "line": {
          "color": "#f4b6c2",
          "width": 2.085714285714286
         },
         "locationmode": "country names",
         "lon": [
          25.748151,
          25.013607
         ],
         "mode": "lines+markers",
         "name": "EE FI",
         "showlegend": false,
         "type": "scattergeo"
        },
        {
         "lat": [
          56.879635,
          58.595272
         ],
         "legendgroup": "EE LV",
         "line": {
          "color": "#f4b6c2",
          "width": 4.571428571428572
         },
         "locationmode": "country names",
         "lon": [
          24.603189,
          25.013607
         ],
         "mode": "lines+markers",
         "name": "EE LV",
         "showlegend": false,
         "type": "scattergeo"
        },
        {
         "lat": [
          46.227638,
          40.463667
         ],
         "legendgroup": "ES FR",
         "line": {
          "color": "#f4b6c2",
          "width": 6.119047617142856
         },
         "locationmode": "country names",
         "lon": [
          2.213749,
          -3.74922
         ],
         "mode": "lines+markers",
         "name": "ES FR",
         "showlegend": false,
         "type": "scattergeo"
        },
        {
         "lat": [
          39.399872,
          40.463667
         ],
         "legendgroup": "ES PT",
         "line": {
          "color": "#f4b6c2",
          "width": 8.392857142857142
         },
         "locationmode": "country names",
         "lon": [
          -8.224454,
          -3.74922
         ],
         "mode": "lines+markers",
         "name": "ES PT",
         "showlegend": false,
         "type": "scattergeo"
        },
        {
         "lat": [
          60.128161,
          61.92411
         ],
         "legendgroup": "FI SE",
         "line": {
          "color": "#f4b6c2",
          "width": 11.142857142857142
         },
         "locationmode": "country names",
         "lon": [
          15,
          25.748151
         ],
         "mode": "lines+markers",
         "name": "FI SE",
         "showlegend": false,
         "type": "scattergeo"
        },
        {
         "lat": [
          41.87194,
          46.227638
         ],
         "legendgroup": "FR IT",
         "line": {
          "color": "#f4b6c2",
          "width": 4.948571428571428
         },
         "locationmode": "country names",
         "lon": [
          12.56738,
          2.213749
         ],
         "mode": "lines+markers",
         "name": "FR IT",
         "showlegend": false,
         "type": "scattergeo"
        },
        {
         "lat": [
          55.378051,
          46.227638
         ],
         "legendgroup": "FR UK",
         "line": {
          "color": "#f4b6c2",
          "width": 11.428571428571427
         },
         "locationmode": "country names",
         "lon": [
          -3.435973,
          2.213749
         ],
         "mode": "lines+markers",
         "name": "FR UK",
         "showlegend": false,
         "type": "scattergeo"
        },
        {
         "lat": [
          41.87194,
          39.074208
         ],
         "legendgroup": "GR IT",
         "line": {
          "color": "#f4b6c2",
          "width": 2.8571428571428568
         },
         "locationmode": "country names",
         "lon": [
          12.56738,
          21.824312
         ],
         "mode": "lines+markers",
         "name": "GR IT",
         "showlegend": false,
         "type": "scattergeo"
        },
        {
         "lat": [
          44.29182,
          39.074208
         ],
         "legendgroup": "GR NONEU_Balkan",
         "line": {
          "color": "#f4b6c2",
          "width": 1.7142857142857144
         },
         "locationmode": "country names",
         "lon": [
          19.24671,
          21.824312
         ],
         "mode": "lines+markers",
         "name": "GR NONEU_Balkan",
         "showlegend": false,
         "type": "scattergeo"
        },
        {
         "lat": [
          38.963745,
          39.074208
         ],
         "legendgroup": "GR TR",
         "line": {
          "color": "#f4b6c2",
          "width": 5.7142857142857135
         },
         "locationmode": "country names",
         "lon": [
          35.243322,
          21.824312
         ],
         "mode": "lines+markers",
         "name": "GR TR",
         "showlegend": false,
         "type": "scattergeo"
        },
        {
         "lat": [
          47.162494,
          45.1
         ],
         "legendgroup": "HR HU",
         "line": {
          "color": "#f4b6c2",
          "width": 5.7142857142857135
         },
         "locationmode": "country names",
         "lon": [
          19.503304,
          15.2
         ],
         "mode": "lines+markers",
         "name": "HR HU",
         "showlegend": false,
         "type": "scattergeo"
        },
        {
         "lat": [
          44.29182,
          45.1
         ],
         "legendgroup": "HR NONEU_Balkan",
         "line": {
          "color": "#f4b6c2",
          "width": 6.2857142857142865
         },
         "locationmode": "country names",
         "lon": [
          19.24671,
          15.2
         ],
         "mode": "lines+markers",
         "name": "HR NONEU_Balkan",
         "showlegend": false,
         "type": "scattergeo"
        },
        {
         "lat": [
          44.29182,
          47.162494
         ],
         "legendgroup": "HU NONEU_Balkan",
         "line": {
          "color": "#f4b6c2",
          "width": 3.9999999999999996
         },
         "locationmode": "country names",
         "lon": [
          19.24671,
          19.503304
         ],
         "mode": "lines+markers",
         "name": "HU NONEU_Balkan",
         "showlegend": false,
         "type": "scattergeo"
        },
        {
         "lat": [
          45.943161,
          47.162494
         ],
         "legendgroup": "HU RO",
         "line": {
          "color": "#f4b6c2",
          "width": 2.285714285714286
         },
         "locationmode": "country names",
         "lon": [
          24.96676,
          19.503304
         ],
         "mode": "lines+markers",
         "name": "HU RO",
         "showlegend": false,
         "type": "scattergeo"
        },
        {
         "lat": [
          48.669026,
          47.162494
         ],
         "legendgroup": "HU SK",
         "line": {
          "color": "#f4b6c2",
          "width": 4.571428571428572
         },
         "locationmode": "country names",
         "lon": [
          19.699024,
          19.503304
         ],
         "mode": "lines+markers",
         "name": "HU SK",
         "showlegend": false,
         "type": "scattergeo"
        },
        {
         "lat": [
          55.378051,
          53.41291
         ],
         "legendgroup": "IE UK",
         "line": {
          "color": "#f4b6c2",
          "width": 2.5714285714285716
         },
         "locationmode": "country names",
         "lon": [
          -3.435973,
          -8.24389
         ],
         "mode": "lines+markers",
         "name": "IE UK",
         "showlegend": false,
         "type": "scattergeo"
        },
        {
         "lat": [
          46.151241,
          41.87194
         ],
         "legendgroup": "IT SI",
         "line": {
          "color": "#f4b6c2",
          "width": 1.0285714285714285
         },
         "locationmode": "country names",
         "lon": [
          14.995463,
          12.56738
         ],
         "mode": "lines+markers",
         "name": "IT SI",
         "showlegend": false,
         "type": "scattergeo"
        },
        {
         "lat": [
          56.879635,
          55.169438
         ],
         "legendgroup": "LT LV",
         "line": {
          "color": "#f4b6c2",
          "width": 8.571428571428571
         },
         "locationmode": "country names",
         "lon": [
          24.603189,
          23.881275
         ],
         "mode": "lines+markers",
         "name": "LT LV",
         "showlegend": false,
         "type": "scattergeo"
        },
        {
         "lat": [
          55.378051,
          52.132633
         ],
         "legendgroup": "NL UK",
         "line": {
          "color": "#f4b6c2",
          "width": 5.805714285714286
         },
         "locationmode": "country names",
         "lon": [
          -3.435973,
          5.291266
         ],
         "mode": "lines+markers",
         "name": "NL UK",
         "showlegend": false,
         "type": "scattergeo"
        },
        {
         "lat": [
          60.128161,
          60
         ],
         "legendgroup": "NO SE",
         "line": {
          "color": "#f4b6c2",
          "width": 19.685714285714283
         },
         "locationmode": "country names",
         "lon": [
          15,
          6
         ],
         "mode": "lines+markers",
         "name": "NO SE",
         "showlegend": false,
         "type": "scattergeo"
        },
        {
         "lat": [
          55.378051,
          60
         ],
         "legendgroup": "NO UK",
         "line": {
          "color": "#f4b6c2",
          "width": 15.999999999999998
         },
         "locationmode": "country names",
         "lon": [
          -3.435973,
          6
         ],
         "mode": "lines+markers",
         "name": "NO UK",
         "showlegend": false,
         "type": "scattergeo"
        },
        {
         "lat": [
          45.943161,
          44.29182
         ],
         "legendgroup": "NONEU_Balkan RO",
         "line": {
          "color": "#f4b6c2",
          "width": 1.142857142857143
         },
         "locationmode": "country names",
         "lon": [
          24.96676,
          19.24671
         ],
         "mode": "lines+markers",
         "name": "NONEU_Balkan RO",
         "showlegend": false,
         "type": "scattergeo"
        },
        {
         "lat": [
          60.128161,
          51.919438
         ],
         "legendgroup": "PL SE",
         "line": {
          "color": "#f4b6c2",
          "width": 1.5195238114285714
         },
         "locationmode": "country names",
         "lon": [
          15,
          19.145136
         ],
         "mode": "lines+markers",
         "name": "PL SE",
         "showlegend": false,
         "type": "scattergeo"
        },
        {
         "lat": [
          48.669026,
          51.919438
         ],
         "legendgroup": "PL SK",
         "line": {
          "color": "#f4b6c2",
          "width": 3.428571428571429
         },
         "locationmode": "country names",
         "lon": [
          19.699024,
          19.145136
         ],
         "mode": "lines+markers",
         "name": "PL SK",
         "showlegend": false,
         "type": "scattergeo"
        },
        {
         "lat": [
          47.166511457
         ],
         "locationmode": "country names",
         "lon": [
          11.382469440000001
         ],
         "mode": "text",
         "showlegend": false,
         "text": " 0.43 GW",
         "textfont": {
          "color": "black",
          "size": 8
         },
         "textposition": "top center",
         "type": "scattergeo"
        },
        {
         "lat": [
          48.669162761
         ],
         "locationmode": "country names",
         "lon": [
          15.01243989
         ],
         "mode": "text",
         "showlegend": false,
         "text": " 0.90 GW",
         "textfont": {
          "color": "black",
          "size": 8
         },
         "textposition": "top center",
         "type": "scattergeo"
        },
        {
         "lat": [
          49.34461046
         ],
         "locationmode": "country names",
         "lon": [
          12.496700453999999
         ],
         "mode": "text",
         "showlegend": false,
         "text": " 2.00 GW",
         "textfont": {
          "color": "black",
          "size": 8
         },
         "textposition": "top center",
         "type": "scattergeo"
        },
        {
         "lat": [
          47.339008763
         ],
         "locationmode": "country names",
         "lon": [
          17.031641232
         ],
         "mode": "text",
         "showlegend": false,
         "text": " 0.80 GW",
         "textfont": {
          "color": "black",
          "size": 8
         },
         "textposition": "top center",
         "type": "scattergeo"
        },
        {
         "lat": [
          44.688441209
         ],
         "locationmode": "country names",
         "lon": [
          13.556743308
         ],
         "mode": "text",
         "showlegend": false,
         "text": " 0.07 GW",
         "textfont": {
          "color": "black",
          "size": 8
         },
         "textposition": "top center",
         "type": "scattergeo"
        },
        {
         "lat": [
          46.832371009999996
         ],
         "locationmode": "country names",
         "lon": [
          14.773212891
         ],
         "mode": "text",
         "showlegend": false,
         "text": " 0.95 GW",
         "textfont": {
          "color": "black",
          "size": 8
         },
         "textposition": "top center",
         "type": "scattergeo"
        },
        {
         "lat": [
          48.361486251
         ],
         "locationmode": "country names",
         "lon": [
          3.339586313
         ],
         "mode": "text",
         "showlegend": false,
         "text": " 1.50 GW",
         "textfont": {
          "color": "black",
          "size": 8
         },
         "textposition": "top center",
         "type": "scattergeo"
        },
        {
         "lat": [
          51.319888746
         ],
         "locationmode": "country names",
         "lon": [
          4.88142233
         ],
         "mode": "text",
         "showlegend": false,
         "text": " 1.43 GW",
         "textfont": {
          "color": "black",
          "size": 8
         },
         "textposition": "top center",
         "type": "scattergeo"
        },
        {
         "lat": [
          43.514409437
         ],
         "locationmode": "country names",
         "lon": [
          22.36003088
         ],
         "mode": "text",
         "showlegend": false,
         "text": " 0.35 GW",
         "textfont": {
          "color": "black",
          "size": 8
         },
         "textposition": "top center",
         "type": "scattergeo"
        },
        {
         "lat": [
          44.341731278
         ],
         "locationmode": "country names",
         "lon": [
          25.22577593
         ],
         "mode": "text",
         "showlegend": false,
         "text": " 0.15 GW",
         "textfont": {
          "color": "black",
          "size": 8
         },
         "textposition": "top center",
         "type": "scattergeo"
        },
        {
         "lat": [
          40.845043862000004
         ],
         "locationmode": "country names",
         "lon": [
          30.374333491999998
         ],
         "mode": "text",
         "showlegend": false,
         "text": " 1.00 GW",
         "textfont": {
          "color": "black",
          "size": 8
         },
         "textposition": "top center",
         "type": "scattergeo"
        },
        {
         "lat": [
          48.996287003
         ],
         "locationmode": "country names",
         "lon": [
          9.341743014
         ],
         "mode": "text",
         "showlegend": false,
         "text": " 3.50 GW",
         "textfont": {
          "color": "black",
          "size": 8
         },
         "textposition": "top center",
         "type": "scattergeo"
        },
        {
         "lat": [
          46.52232245
         ],
         "locationmode": "country names",
         "lon": [
          5.214616737
         ],
         "mode": "text",
         "showlegend": false,
         "text": " 1.10 GW",
         "textfont": {
          "color": "black",
          "size": 8
         },
         "textposition": "top center",
         "type": "scattergeo"
        },
        {
         "lat": [
          44.340117752
         ],
         "locationmode": "country names",
         "lon": [
          10.401785868000001
         ],
         "mode": "text",
         "showlegend": false,
         "text": " 1.34 GW",
         "textfont": {
          "color": "black",
          "size": 8
         },
         "textposition": "top center",
         "type": "scattergeo"
        },
        {
         "lat": [
          50.492939699000004
         ],
         "locationmode": "country names",
         "lon": [
          12.957222564
         ],
         "mode": "text",
         "showlegend": false,
         "text": " 1.77 GW",
         "textfont": {
          "color": "black",
          "size": 8
         },
         "textposition": "top center",
         "type": "scattergeo"
        },
        {
         "lat": [
          50.870566946000004
         ],
         "locationmode": "country names",
         "lon": [
          17.312721174
         ],
         "mode": "text",
         "showlegend": false,
         "text": " 0.10 GW",
         "textfont": {
          "color": "black",
          "size": 8
         },
         "textposition": "top center",
         "type": "scattergeo"
        },
        {
         "lat": [
          49.242110534000005
         ],
         "locationmode": "country names",
         "lon": [
          17.590219062000003
         ],
         "mode": "text",
         "showlegend": false,
         "text": " 1.70 GW",
         "textfont": {
          "color": "black",
          "size": 8
         },
         "textposition": "top center",
         "type": "scattergeo"
        },
        {
         "lat": [
          53.719903729
         ],
         "locationmode": "country names",
         "lon": [
          9.975705759
         ],
         "mode": "text",
         "showlegend": false,
         "text": " 3.10 GW",
         "textfont": {
          "color": "black",
          "size": 8
         },
         "textposition": "top center",
         "type": "scattergeo"
        },
        {
         "lat": [
          48.691726447
         ],
         "locationmode": "country names",
         "lon": [
          6.324399723
         ],
         "mode": "text",
         "showlegend": false,
         "text": " 1.68 GW",
         "textfont": {
          "color": "black",
          "size": 8
         },
         "textposition": "top center",
         "type": "scattergeo"
        },
        {
         "lat": [
          50.489131582
         ],
         "locationmode": "country names",
         "lon": [
          8.286232557
         ],
         "mode": "text",
         "showlegend": false,
         "text": " 0.98 GW",
         "textfont": {
          "color": "black",
          "size": 8
         },
         "textposition": "top center",
         "type": "scattergeo"
        },
        {
         "lat": [
          51.650128942
         ],
         "locationmode": "country names",
         "lon": [
          7.8662357400000005
         ],
         "mode": "text",
         "showlegend": false,
         "text": " 2.85 GW",
         "textfont": {
          "color": "black",
          "size": 8
         },
         "textposition": "top center",
         "type": "scattergeo"
        },
        {
         "lat": [
          55.591679809
         ],
         "locationmode": "country names",
         "lon": [
          8.221311474
         ],
         "mode": "text",
         "showlegend": false,
         "text": " 1.44 GW",
         "textfont": {
          "color": "black",
          "size": 8
         },
         "textposition": "top center",
         "type": "scattergeo"
        },
        {
         "lat": [
          51.543318247
         ],
         "locationmode": "country names",
         "lon": [
          14.80702461
         ],
         "mode": "text",
         "showlegend": false,
         "text": " 0.10 GW",
         "textfont": {
          "color": "black",
          "size": 8
         },
         "textposition": "top center",
         "type": "scattergeo"
        },
        {
         "lat": [
          58.13569608
         ],
         "locationmode": "country names",
         "lon": [
          7.747390715
         ],
         "mode": "text",
         "showlegend": false,
         "text": " 1.70 GW",
         "textfont": {
          "color": "black",
          "size": 8
         },
         "textposition": "top center",
         "type": "scattergeo"
        },
        {
         "lat": [
          58.199904741
         ],
         "locationmode": "country names",
         "lon": [
          12.256390715
         ],
         "mode": "text",
         "showlegend": false,
         "text": " 2.44 GW",
         "textfont": {
          "color": "black",
          "size": 8
         },
         "textposition": "top center",
         "type": "scattergeo"
        },
        {
         "lat": [
          60.263019838
         ],
         "locationmode": "country names",
         "lon": [
          25.381613544
         ],
         "mode": "text",
         "showlegend": false,
         "text": " 0.36 GW",
         "textfont": {
          "color": "black",
          "size": 8
         },
         "textposition": "top center",
         "type": "scattergeo"
        },
        {
         "lat": [
          57.735737863000004
         ],
         "locationmode": "country names",
         "lon": [
          24.807987582
         ],
         "mode": "text",
         "showlegend": false,
         "text": " 0.80 GW",
         "textfont": {
          "color": "black",
          "size": 8
         },
         "textposition": "top center",
         "type": "scattergeo"
        },
        {
         "lat": [
          43.351416471
         ],
         "locationmode": "country names",
         "lon": [
          -0.7617725310000001
         ],
         "mode": "text",
         "showlegend": false,
         "text": " 1.07 GW",
         "textfont": {
          "color": "black",
          "size": 8
         },
         "textposition": "top center",
         "type": "scattergeo"
        },
        {
         "lat": [
          39.930705705
         ],
         "locationmode": "country names",
         "lon": [
          -5.9913122340000005
         ],
         "mode": "text",
         "showlegend": false,
         "text": " 1.47 GW",
         "textfont": {
          "color": "black",
          "size": 8
         },
         "textposition": "top center",
         "type": "scattergeo"
        },
        {
         "lat": [
          61.024339551
         ],
         "locationmode": "country names",
         "lon": [
          20.363327349000002
         ],
         "mode": "text",
         "showlegend": false,
         "text": " 1.95 GW",
         "textfont": {
          "color": "black",
          "size": 8
         },
         "textposition": "top center",
         "type": "scattergeo"
        },
        {
         "lat": [
          44.045433302
         ],
         "locationmode": "country names",
         "lon": [
          7.400918131
         ],
         "mode": "text",
         "showlegend": false,
         "text": " 0.87 GW",
         "textfont": {
          "color": "black",
          "size": 8
         },
         "textposition": "top center",
         "type": "scattergeo"
        },
        {
         "lat": [
          50.811994913
         ],
         "locationmode": "country names",
         "lon": [
          -0.6167617219999997
         ],
         "mode": "text",
         "showlegend": false,
         "text": " 2.00 GW",
         "textfont": {
          "color": "black",
          "size": 8
         },
         "textposition": "top center",
         "type": "scattergeo"
        },
        {
         "lat": [
          40.475871732
         ],
         "locationmode": "country names",
         "lon": [
          17.186589068
         ],
         "mode": "text",
         "showlegend": false,
         "text": " 0.50 GW",
         "textfont": {
          "color": "black",
          "size": 8
         },
         "textposition": "top center",
         "type": "scattergeo"
        },
        {
         "lat": [
          41.688231612
         ],
         "locationmode": "country names",
         "lon": [
          20.532933398
         ],
         "mode": "text",
         "showlegend": false,
         "text": " 0.30 GW",
         "textfont": {
          "color": "black",
          "size": 8
         },
         "textposition": "top center",
         "type": "scattergeo"
        },
        {
         "lat": [
          39.018866037
         ],
         "locationmode": "country names",
         "lon": [
          28.54723601
         ],
         "mode": "text",
         "showlegend": false,
         "text": " 1.00 GW",
         "textfont": {
          "color": "black",
          "size": 8
         },
         "textposition": "top center",
         "type": "scattergeo"
        },
        {
         "lat": [
          46.133309494
         ],
         "locationmode": "country names",
         "lon": [
          17.355955304
         ],
         "mode": "text",
         "showlegend": false,
         "text": " 1.00 GW",
         "textfont": {
          "color": "black",
          "size": 8
         },
         "textposition": "top center",
         "type": "scattergeo"
        },
        {
         "lat": [
          44.69510182
         ],
         "locationmode": "country names",
         "lon": [
          17.22740171
         ],
         "mode": "text",
         "showlegend": false,
         "text": " 1.10 GW",
         "textfont": {
          "color": "black",
          "size": 8
         },
         "textposition": "top center",
         "type": "scattergeo"
        },
        {
         "lat": [
          45.724286326000005
         ],
         "locationmode": "country names",
         "lon": [
          19.374750406
         ],
         "mode": "text",
         "showlegend": false,
         "text": " 0.70 GW",
         "textfont": {
          "color": "black",
          "size": 8
         },
         "textposition": "top center",
         "type": "scattergeo"
        },
        {
         "lat": [
          46.551608167000005
         ],
         "locationmode": "country names",
         "lon": [
          22.240495456
         ],
         "mode": "text",
         "showlegend": false,
         "text": " 0.40 GW",
         "textfont": {
          "color": "black",
          "size": 8
         },
         "textposition": "top center",
         "type": "scattergeo"
        },
        {
         "lat": [
          47.917266532
         ],
         "locationmode": "country names",
         "lon": [
          19.60135972
         ],
         "mode": "text",
         "showlegend": false,
         "text": " 0.80 GW",
         "textfont": {
          "color": "black",
          "size": 8
         },
         "textposition": "top center",
         "type": "scattergeo"
        },
        {
         "lat": [
          54.397445641
         ],
         "locationmode": "country names",
         "lon": [
          -5.835123583
         ],
         "mode": "text",
         "showlegend": false,
         "text": " 0.45 GW",
         "textfont": {
          "color": "black",
          "size": 8
         },
         "textposition": "top center",
         "type": "scattergeo"
        },
        {
         "lat": [
          44.015869801
         ],
         "locationmode": "country names",
         "lon": [
          13.783849583
         ],
         "mode": "text",
         "showlegend": false,
         "text": " 0.18 GW",
         "textfont": {
          "color": "black",
          "size": 8
         },
         "textposition": "top center",
         "type": "scattergeo"
        },
        {
         "lat": [
          56.026246697
         ],
         "locationmode": "country names",
         "lon": [
          24.242953914
         ],
         "mode": "text",
         "showlegend": false,
         "text": " 1.50 GW",
         "textfont": {
          "color": "black",
          "size": 8
         },
         "textposition": "top center",
         "type": "scattergeo"
        },
        {
         "lat": [
          53.758587418
         ],
         "locationmode": "country names",
         "lon": [
          0.9189192610000005
         ],
         "mode": "text",
         "showlegend": false,
         "text": " 1.02 GW",
         "textfont": {
          "color": "black",
          "size": 8
         },
         "textposition": "top center",
         "type": "scattergeo"
        },
        {
         "lat": [
          60.064208661
         ],
         "locationmode": "country names",
         "lon": [
          10.509
         ],
         "mode": "text",
         "showlegend": false,
         "text": " 3.44 GW",
         "textfont": {
          "color": "black",
          "size": 8
         },
         "textposition": "top center",
         "type": "scattergeo"
        },
        {
         "lat": [
          57.684403551
         ],
         "locationmode": "country names",
         "lon": [
          1.2725775269999997
         ],
         "mode": "text",
         "showlegend": false,
         "text": " 2.80 GW",
         "textfont": {
          "color": "black",
          "size": 8
         },
         "textposition": "top center",
         "type": "scattergeo"
        },
        {
         "lat": [
          45.119141841
         ],
         "locationmode": "country names",
         "lon": [
          22.11245505
         ],
         "mode": "text",
         "showlegend": false,
         "text": " 0.20 GW",
         "textfont": {
          "color": "black",
          "size": 8
         },
         "textposition": "top center",
         "type": "scattergeo"
        },
        {
         "lat": [
          56.032008223
         ],
         "locationmode": "country names",
         "lon": [
          17.068422864
         ],
         "mode": "text",
         "showlegend": false,
         "text": " 0.27 GW",
         "textfont": {
          "color": "black",
          "size": 8
         },
         "textposition": "top center",
         "type": "scattergeo"
        },
        {
         "lat": [
          50.290981588
         ],
         "locationmode": "country names",
         "lon": [
          19.422633888
         ],
         "mode": "text",
         "showlegend": false,
         "text": " 0.60 GW",
         "textfont": {
          "color": "black",
          "size": 8
         },
         "textposition": "top center",
         "type": "scattergeo"
        }
       ],
       "layout": {
        "geo": {
         "countrycolor": "white",
         "countrywidth": 1,
         "lakecolor": "#DEF4FC",
         "landcolor": "rgb(229, 229, 229)",
         "lataxis": {
          "range": [
           35,
           70
          ]
         },
         "lonaxis": {
          "range": [
           -9.7,
           38
          ]
         },
         "oceancolor": "#DCFBFB",
         "showcoastlines": false,
         "showcountries": true,
         "showlakes": true,
         "showland": true,
         "showocean": true
        },
        "height": 900,
        "margin": {
         "b": 0,
         "l": 0,
         "r": 0,
         "t": 30
        },
        "template": {
         "data": {
          "bar": [
           {
            "error_x": {
             "color": "#2a3f5f"
            },
            "error_y": {
             "color": "#2a3f5f"
            },
            "marker": {
             "line": {
              "color": "#E5ECF6",
              "width": 0.5
             },
             "pattern": {
              "fillmode": "overlay",
              "size": 10,
              "solidity": 0.2
             }
            },
            "type": "bar"
           }
          ],
          "barpolar": [
           {
            "marker": {
             "line": {
              "color": "#E5ECF6",
              "width": 0.5
             },
             "pattern": {
              "fillmode": "overlay",
              "size": 10,
              "solidity": 0.2
             }
            },
            "type": "barpolar"
           }
          ],
          "carpet": [
           {
            "aaxis": {
             "endlinecolor": "#2a3f5f",
             "gridcolor": "white",
             "linecolor": "white",
             "minorgridcolor": "white",
             "startlinecolor": "#2a3f5f"
            },
            "baxis": {
             "endlinecolor": "#2a3f5f",
             "gridcolor": "white",
             "linecolor": "white",
             "minorgridcolor": "white",
             "startlinecolor": "#2a3f5f"
            },
            "type": "carpet"
           }
          ],
          "choropleth": [
           {
            "colorbar": {
             "outlinewidth": 0,
             "ticks": ""
            },
            "type": "choropleth"
           }
          ],
          "contour": [
           {
            "colorbar": {
             "outlinewidth": 0,
             "ticks": ""
            },
            "colorscale": [
             [
              0,
              "#0d0887"
             ],
             [
              0.1111111111111111,
              "#46039f"
             ],
             [
              0.2222222222222222,
              "#7201a8"
             ],
             [
              0.3333333333333333,
              "#9c179e"
             ],
             [
              0.4444444444444444,
              "#bd3786"
             ],
             [
              0.5555555555555556,
              "#d8576b"
             ],
             [
              0.6666666666666666,
              "#ed7953"
             ],
             [
              0.7777777777777778,
              "#fb9f3a"
             ],
             [
              0.8888888888888888,
              "#fdca26"
             ],
             [
              1,
              "#f0f921"
             ]
            ],
            "type": "contour"
           }
          ],
          "contourcarpet": [
           {
            "colorbar": {
             "outlinewidth": 0,
             "ticks": ""
            },
            "type": "contourcarpet"
           }
          ],
          "heatmap": [
           {
            "colorbar": {
             "outlinewidth": 0,
             "ticks": ""
            },
            "colorscale": [
             [
              0,
              "#0d0887"
             ],
             [
              0.1111111111111111,
              "#46039f"
             ],
             [
              0.2222222222222222,
              "#7201a8"
             ],
             [
              0.3333333333333333,
              "#9c179e"
             ],
             [
              0.4444444444444444,
              "#bd3786"
             ],
             [
              0.5555555555555556,
              "#d8576b"
             ],
             [
              0.6666666666666666,
              "#ed7953"
             ],
             [
              0.7777777777777778,
              "#fb9f3a"
             ],
             [
              0.8888888888888888,
              "#fdca26"
             ],
             [
              1,
              "#f0f921"
             ]
            ],
            "type": "heatmap"
           }
          ],
          "heatmapgl": [
           {
            "colorbar": {
             "outlinewidth": 0,
             "ticks": ""
            },
            "colorscale": [
             [
              0,
              "#0d0887"
             ],
             [
              0.1111111111111111,
              "#46039f"
             ],
             [
              0.2222222222222222,
              "#7201a8"
             ],
             [
              0.3333333333333333,
              "#9c179e"
             ],
             [
              0.4444444444444444,
              "#bd3786"
             ],
             [
              0.5555555555555556,
              "#d8576b"
             ],
             [
              0.6666666666666666,
              "#ed7953"
             ],
             [
              0.7777777777777778,
              "#fb9f3a"
             ],
             [
              0.8888888888888888,
              "#fdca26"
             ],
             [
              1,
              "#f0f921"
             ]
            ],
            "type": "heatmapgl"
           }
          ],
          "histogram": [
           {
            "marker": {
             "pattern": {
              "fillmode": "overlay",
              "size": 10,
              "solidity": 0.2
             }
            },
            "type": "histogram"
           }
          ],
          "histogram2d": [
           {
            "colorbar": {
             "outlinewidth": 0,
             "ticks": ""
            },
            "colorscale": [
             [
              0,
              "#0d0887"
             ],
             [
              0.1111111111111111,
              "#46039f"
             ],
             [
              0.2222222222222222,
              "#7201a8"
             ],
             [
              0.3333333333333333,
              "#9c179e"
             ],
             [
              0.4444444444444444,
              "#bd3786"
             ],
             [
              0.5555555555555556,
              "#d8576b"
             ],
             [
              0.6666666666666666,
              "#ed7953"
             ],
             [
              0.7777777777777778,
              "#fb9f3a"
             ],
             [
              0.8888888888888888,
              "#fdca26"
             ],
             [
              1,
              "#f0f921"
             ]
            ],
            "type": "histogram2d"
           }
          ],
          "histogram2dcontour": [
           {
            "colorbar": {
             "outlinewidth": 0,
             "ticks": ""
            },
            "colorscale": [
             [
              0,
              "#0d0887"
             ],
             [
              0.1111111111111111,
              "#46039f"
             ],
             [
              0.2222222222222222,
              "#7201a8"
             ],
             [
              0.3333333333333333,
              "#9c179e"
             ],
             [
              0.4444444444444444,
              "#bd3786"
             ],
             [
              0.5555555555555556,
              "#d8576b"
             ],
             [
              0.6666666666666666,
              "#ed7953"
             ],
             [
              0.7777777777777778,
              "#fb9f3a"
             ],
             [
              0.8888888888888888,
              "#fdca26"
             ],
             [
              1,
              "#f0f921"
             ]
            ],
            "type": "histogram2dcontour"
           }
          ],
          "mesh3d": [
           {
            "colorbar": {
             "outlinewidth": 0,
             "ticks": ""
            },
            "type": "mesh3d"
           }
          ],
          "parcoords": [
           {
            "line": {
             "colorbar": {
              "outlinewidth": 0,
              "ticks": ""
             }
            },
            "type": "parcoords"
           }
          ],
          "pie": [
           {
            "automargin": true,
            "type": "pie"
           }
          ],
          "scatter": [
           {
            "fillpattern": {
             "fillmode": "overlay",
             "size": 10,
             "solidity": 0.2
            },
            "type": "scatter"
           }
          ],
          "scatter3d": [
           {
            "line": {
             "colorbar": {
              "outlinewidth": 0,
              "ticks": ""
             }
            },
            "marker": {
             "colorbar": {
              "outlinewidth": 0,
              "ticks": ""
             }
            },
            "type": "scatter3d"
           }
          ],
          "scattercarpet": [
           {
            "marker": {
             "colorbar": {
              "outlinewidth": 0,
              "ticks": ""
             }
            },
            "type": "scattercarpet"
           }
          ],
          "scattergeo": [
           {
            "marker": {
             "colorbar": {
              "outlinewidth": 0,
              "ticks": ""
             }
            },
            "type": "scattergeo"
           }
          ],
          "scattergl": [
           {
            "marker": {
             "colorbar": {
              "outlinewidth": 0,
              "ticks": ""
             }
            },
            "type": "scattergl"
           }
          ],
          "scattermapbox": [
           {
            "marker": {
             "colorbar": {
              "outlinewidth": 0,
              "ticks": ""
             }
            },
            "type": "scattermapbox"
           }
          ],
          "scatterpolar": [
           {
            "marker": {
             "colorbar": {
              "outlinewidth": 0,
              "ticks": ""
             }
            },
            "type": "scatterpolar"
           }
          ],
          "scatterpolargl": [
           {
            "marker": {
             "colorbar": {
              "outlinewidth": 0,
              "ticks": ""
             }
            },
            "type": "scatterpolargl"
           }
          ],
          "scatterternary": [
           {
            "marker": {
             "colorbar": {
              "outlinewidth": 0,
              "ticks": ""
             }
            },
            "type": "scatterternary"
           }
          ],
          "surface": [
           {
            "colorbar": {
             "outlinewidth": 0,
             "ticks": ""
            },
            "colorscale": [
             [
              0,
              "#0d0887"
             ],
             [
              0.1111111111111111,
              "#46039f"
             ],
             [
              0.2222222222222222,
              "#7201a8"
             ],
             [
              0.3333333333333333,
              "#9c179e"
             ],
             [
              0.4444444444444444,
              "#bd3786"
             ],
             [
              0.5555555555555556,
              "#d8576b"
             ],
             [
              0.6666666666666666,
              "#ed7953"
             ],
             [
              0.7777777777777778,
              "#fb9f3a"
             ],
             [
              0.8888888888888888,
              "#fdca26"
             ],
             [
              1,
              "#f0f921"
             ]
            ],
            "type": "surface"
           }
          ],
          "table": [
           {
            "cells": {
             "fill": {
              "color": "#EBF0F8"
             },
             "line": {
              "color": "white"
             }
            },
            "header": {
             "fill": {
              "color": "#C8D4E3"
             },
             "line": {
              "color": "white"
             }
            },
            "type": "table"
           }
          ]
         },
         "layout": {
          "annotationdefaults": {
           "arrowcolor": "#2a3f5f",
           "arrowhead": 0,
           "arrowwidth": 1
          },
          "autotypenumbers": "strict",
          "coloraxis": {
           "colorbar": {
            "outlinewidth": 0,
            "ticks": ""
           }
          },
          "colorscale": {
           "diverging": [
            [
             0,
             "#8e0152"
            ],
            [
             0.1,
             "#c51b7d"
            ],
            [
             0.2,
             "#de77ae"
            ],
            [
             0.3,
             "#f1b6da"
            ],
            [
             0.4,
             "#fde0ef"
            ],
            [
             0.5,
             "#f7f7f7"
            ],
            [
             0.6,
             "#e6f5d0"
            ],
            [
             0.7,
             "#b8e186"
            ],
            [
             0.8,
             "#7fbc41"
            ],
            [
             0.9,
             "#4d9221"
            ],
            [
             1,
             "#276419"
            ]
           ],
           "sequential": [
            [
             0,
             "#0d0887"
            ],
            [
             0.1111111111111111,
             "#46039f"
            ],
            [
             0.2222222222222222,
             "#7201a8"
            ],
            [
             0.3333333333333333,
             "#9c179e"
            ],
            [
             0.4444444444444444,
             "#bd3786"
            ],
            [
             0.5555555555555556,
             "#d8576b"
            ],
            [
             0.6666666666666666,
             "#ed7953"
            ],
            [
             0.7777777777777778,
             "#fb9f3a"
            ],
            [
             0.8888888888888888,
             "#fdca26"
            ],
            [
             1,
             "#f0f921"
            ]
           ],
           "sequentialminus": [
            [
             0,
             "#0d0887"
            ],
            [
             0.1111111111111111,
             "#46039f"
            ],
            [
             0.2222222222222222,
             "#7201a8"
            ],
            [
             0.3333333333333333,
             "#9c179e"
            ],
            [
             0.4444444444444444,
             "#bd3786"
            ],
            [
             0.5555555555555556,
             "#d8576b"
            ],
            [
             0.6666666666666666,
             "#ed7953"
            ],
            [
             0.7777777777777778,
             "#fb9f3a"
            ],
            [
             0.8888888888888888,
             "#fdca26"
            ],
            [
             1,
             "#f0f921"
            ]
           ]
          },
          "colorway": [
           "#636efa",
           "#EF553B",
           "#00cc96",
           "#ab63fa",
           "#FFA15A",
           "#19d3f3",
           "#FF6692",
           "#B6E880",
           "#FF97FF",
           "#FECB52"
          ],
          "font": {
           "color": "#2a3f5f"
          },
          "geo": {
           "bgcolor": "white",
           "lakecolor": "white",
           "landcolor": "#E5ECF6",
           "showlakes": true,
           "showland": true,
           "subunitcolor": "white"
          },
          "hoverlabel": {
           "align": "left"
          },
          "hovermode": "closest",
          "mapbox": {
           "style": "light"
          },
          "paper_bgcolor": "white",
          "plot_bgcolor": "#E5ECF6",
          "polar": {
           "angularaxis": {
            "gridcolor": "white",
            "linecolor": "white",
            "ticks": ""
           },
           "bgcolor": "#E5ECF6",
           "radialaxis": {
            "gridcolor": "white",
            "linecolor": "white",
            "ticks": ""
           }
          },
          "scene": {
           "xaxis": {
            "backgroundcolor": "#E5ECF6",
            "gridcolor": "white",
            "gridwidth": 2,
            "linecolor": "white",
            "showbackground": true,
            "ticks": "",
            "zerolinecolor": "white"
           },
           "yaxis": {
            "backgroundcolor": "#E5ECF6",
            "gridcolor": "white",
            "gridwidth": 2,
            "linecolor": "white",
            "showbackground": true,
            "ticks": "",
            "zerolinecolor": "white"
           },
           "zaxis": {
            "backgroundcolor": "#E5ECF6",
            "gridcolor": "white",
            "gridwidth": 2,
            "linecolor": "white",
            "showbackground": true,
            "ticks": "",
            "zerolinecolor": "white"
           }
          },
          "shapedefaults": {
           "line": {
            "color": "#2a3f5f"
           }
          },
          "ternary": {
           "aaxis": {
            "gridcolor": "white",
            "linecolor": "white",
            "ticks": ""
           },
           "baxis": {
            "gridcolor": "white",
            "linecolor": "white",
            "ticks": ""
           },
           "bgcolor": "#E5ECF6",
           "caxis": {
            "gridcolor": "white",
            "linecolor": "white",
            "ticks": ""
           }
          },
          "title": {
           "x": 0.05
          },
          "xaxis": {
           "automargin": true,
           "gridcolor": "white",
           "linecolor": "white",
           "ticks": "",
           "title": {
            "standoff": 15
           },
           "zerolinecolor": "white",
           "zerolinewidth": 2
          },
          "yaxis": {
           "automargin": true,
           "gridcolor": "white",
           "linecolor": "white",
           "ticks": "",
           "title": {
            "standoff": 15
           },
           "zerolinecolor": "white",
           "zerolinewidth": 2
          }
         }
        },
        "title": {
         "text": "Power Trade Capacity in 2018 - Season"
        },
        "width": 1620
       }
      }
     },
     "metadata": {},
     "output_type": "display_data"
    }
   ],
   "source": [
    "trade_capacity_plotter = TradeCapacityMapFacilitator(sol_path=SOLUTION_FILEPATH, year=2018)\n",
    "\n",
    "relevant_data = trade_capacity_plotter.get_relevant_data()\n",
    "\n",
    "relevant_data.TotalTradeCapacity.filter_by_identifier(column=\"Fuel\", identifier=\"Power\")\n",
    "\n",
    "fig = trade_capacity_plotter.plot(relevant_data)\n",
    "\n",
    "fig.layout.title = \"Power Trade Capacity in 2018\" + TITLE_ADDON\n",
    "\n",
    "fig.update_layout(margin=dict(l=0, r=0, t=30, b=0))\n",
    "\n",
    "if WRITE_IMAGE:\n",
    "    fig.write_image(\"PowerTradeCapacity2018\" + TITLE_ADDON.replace(\" \", \"\") + \".png\")\n",
    "\n",
    "fig.show()"
   ]
  },
  {
   "cell_type": "code",
   "execution_count": 4,
   "metadata": {},
   "outputs": [
    {
     "name": "stdout",
     "output_type": "stream",
     "text": [
      "No unit conversion applied!\n",
      "[2050]\n"
     ]
    },
    {
     "data": {
      "application/vnd.plotly.v1+json": {
       "config": {
        "plotlyServerURL": "https://plot.ly"
       },
       "data": [
        {
         "lat": [
          46.818188,
          47.516231
         ],
         "legendgroup": "AT CH",
         "line": {
          "color": "#f4b6c2",
          "width": 2.48
         },
         "locationmode": "country names",
         "lon": [
          8.227512,
          14.550072
         ],
         "mode": "lines+markers",
         "name": "AT CH",
         "showlegend": false,
         "type": "scattergeo"
        },
        {
         "lat": [
          49.817492,
          47.516231
         ],
         "legendgroup": "AT CZ",
         "line": {
          "color": "#f4b6c2",
          "width": 5.142857142857143
         },
         "locationmode": "country names",
         "lon": [
          15.472962,
          14.550072
         ],
         "mode": "lines+markers",
         "name": "AT CZ",
         "showlegend": false,
         "type": "scattergeo"
        },
        {
         "lat": [
          51.165691,
          47.516231
         ],
         "legendgroup": "AT DE",
         "line": {
          "color": "#f4b6c2",
          "width": 11.428571428571427
         },
         "locationmode": "country names",
         "lon": [
          10.451526,
          14.550072
         ],
         "mode": "lines+markers",
         "name": "AT DE",
         "showlegend": false,
         "type": "scattergeo"
        },
        {
         "lat": [
          47.162494,
          47.516231
         ],
         "legendgroup": "AT HU",
         "line": {
          "color": "#f4b6c2",
          "width": 4.571428571428572
         },
         "locationmode": "country names",
         "lon": [
          19.503304,
          14.550072
         ],
         "mode": "lines+markers",
         "name": "AT HU",
         "showlegend": false,
         "type": "scattergeo"
        },
        {
         "lat": [
          41.87194,
          47.516231
         ],
         "legendgroup": "AT IT",
         "line": {
          "color": "#f4b6c2",
          "width": 0.4057142857142857
         },
         "locationmode": "country names",
         "lon": [
          12.56738,
          14.550072
         ],
         "mode": "lines+markers",
         "name": "AT IT",
         "showlegend": false,
         "type": "scattergeo"
        },
        {
         "lat": [
          46.151241,
          47.516231
         ],
         "legendgroup": "AT SI",
         "line": {
          "color": "#f4b6c2",
          "width": 5.4290476171428566
         },
         "locationmode": "country names",
         "lon": [
          14.995463,
          14.550072
         ],
         "mode": "lines+markers",
         "name": "AT SI",
         "showlegend": false,
         "type": "scattergeo"
        },
        {
         "lat": [
          46.227638,
          50.503887
         ],
         "legendgroup": "BE FR",
         "line": {
          "color": "#f4b6c2",
          "width": 8.571428571428571
         },
         "locationmode": "country names",
         "lon": [
          2.213749,
          4.469936
         ],
         "mode": "lines+markers",
         "name": "BE FR",
         "showlegend": false,
         "type": "scattergeo"
        },
        {
         "lat": [
          52.132633,
          50.503887
         ],
         "legendgroup": "BE NL",
         "line": {
          "color": "#f4b6c2",
          "width": 8.148571428571428
         },
         "locationmode": "country names",
         "lon": [
          5.291266,
          4.469936
         ],
         "mode": "lines+markers",
         "name": "BE NL",
         "showlegend": false,
         "type": "scattergeo"
        },
        {
         "lat": [
          44.29182,
          42.733883
         ],
         "legendgroup": "BG NONEU_Balkan",
         "line": {
          "color": "#f4b6c2",
          "width": 1.9999999999999998
         },
         "locationmode": "country names",
         "lon": [
          19.24671,
          25.48583
         ],
         "mode": "lines+markers",
         "name": "BG NONEU_Balkan",
         "showlegend": false,
         "type": "scattergeo"
        },
        {
         "lat": [
          45.943161,
          42.733883
         ],
         "legendgroup": "BG RO",
         "line": {
          "color": "#f4b6c2",
          "width": 0.8571428571428572
         },
         "locationmode": "country names",
         "lon": [
          24.96676,
          25.48583
         ],
         "mode": "lines+markers",
         "name": "BG RO",
         "showlegend": false,
         "type": "scattergeo"
        },
        {
         "lat": [
          38.963745,
          42.733883
         ],
         "legendgroup": "BG TR",
         "line": {
          "color": "#f4b6c2",
          "width": 5.7142857142857135
         },
         "locationmode": "country names",
         "lon": [
          35.243322,
          25.48583
         ],
         "mode": "lines+markers",
         "name": "BG TR",
         "showlegend": false,
         "type": "scattergeo"
        },
        {
         "lat": [
          51.165691,
          46.818188
         ],
         "legendgroup": "CH DE",
         "line": {
          "color": "#f4b6c2",
          "width": 20
         },
         "locationmode": "country names",
         "lon": [
          10.451526,
          8.227512
         ],
         "mode": "lines+markers",
         "name": "CH DE",
         "showlegend": false,
         "type": "scattergeo"
        },
        {
         "lat": [
          46.227638,
          46.818188
         ],
         "legendgroup": "CH FR",
         "line": {
          "color": "#f4b6c2",
          "width": 6.2857142857142865
         },
         "locationmode": "country names",
         "lon": [
          2.213749,
          8.227512
         ],
         "mode": "lines+markers",
         "name": "CH FR",
         "showlegend": false,
         "type": "scattergeo"
        },
        {
         "lat": [
          41.87194,
          46.818188
         ],
         "legendgroup": "CH IT",
         "line": {
          "color": "#f4b6c2",
          "width": 7.634285714285714
         },
         "locationmode": "country names",
         "lon": [
          12.56738,
          8.227512
         ],
         "mode": "lines+markers",
         "name": "CH IT",
         "showlegend": false,
         "type": "scattergeo"
        },
        {
         "lat": [
          51.165691,
          49.817492
         ],
         "legendgroup": "CZ DE",
         "line": {
          "color": "#f4b6c2",
          "width": 10.142857142857142
         },
         "locationmode": "country names",
         "lon": [
          10.451526,
          15.472962
         ],
         "mode": "lines+markers",
         "name": "CZ DE",
         "showlegend": false,
         "type": "scattergeo"
        },
        {
         "lat": [
          51.919438,
          49.817492
         ],
         "legendgroup": "CZ PL",
         "line": {
          "color": "#f4b6c2",
          "width": 0.5714285714285715
         },
         "locationmode": "country names",
         "lon": [
          19.145136,
          15.472962
         ],
         "mode": "lines+markers",
         "name": "CZ PL",
         "showlegend": false,
         "type": "scattergeo"
        },
        {
         "lat": [
          48.669026,
          49.817492
         ],
         "legendgroup": "CZ SK",
         "line": {
          "color": "#f4b6c2",
          "width": 9.714285714285714
         },
         "locationmode": "country names",
         "lon": [
          19.699024,
          15.472962
         ],
         "mode": "lines+markers",
         "name": "CZ SK",
         "showlegend": false,
         "type": "scattergeo"
        },
        {
         "lat": [
          56.26392,
          51.165691
         ],
         "legendgroup": "DE DK",
         "line": {
          "color": "#f4b6c2",
          "width": 17.714285714285715
         },
         "locationmode": "country names",
         "lon": [
          9.501785,
          10.451526
         ],
         "mode": "lines+markers",
         "name": "DE DK",
         "showlegend": false,
         "type": "scattergeo"
        },
        {
         "lat": [
          46.227638,
          51.165691
         ],
         "legendgroup": "DE FR",
         "line": {
          "color": "#f4b6c2",
          "width": 9.571428571428571
         },
         "locationmode": "country names",
         "lon": [
          2.213749,
          10.451526
         ],
         "mode": "lines+markers",
         "name": "DE FR",
         "showlegend": false,
         "type": "scattergeo"
        },
        {
         "lat": [
          49.815273,
          51.165691
         ],
         "legendgroup": "DE LU",
         "line": {
          "color": "#f4b6c2",
          "width": 5.6
         },
         "locationmode": "country names",
         "lon": [
          6.129583,
          10.451526
         ],
         "mode": "lines+markers",
         "name": "DE LU",
         "showlegend": false,
         "type": "scattergeo"
        },
        {
         "lat": [
          52.132633,
          51.165691
         ],
         "legendgroup": "DE NL",
         "line": {
          "color": "#f4b6c2",
          "width": 16.285714285714285
         },
         "locationmode": "country names",
         "lon": [
          5.291266,
          10.451526
         ],
         "mode": "lines+markers",
         "name": "DE NL",
         "showlegend": false,
         "type": "scattergeo"
        },
        {
         "lat": [
          60,
          51.165691
         ],
         "legendgroup": "DE NO",
         "line": {
          "color": "#f4b6c2",
          "width": 8.251428571428571
         },
         "locationmode": "country names",
         "lon": [
          6,
          10.451526
         ],
         "mode": "lines+markers",
         "name": "DE NO",
         "showlegend": false,
         "type": "scattergeo"
        },
        {
         "lat": [
          51.919438,
          51.165691
         ],
         "legendgroup": "DE PL",
         "line": {
          "color": "#f4b6c2",
          "width": 0.5714285714285715
         },
         "locationmode": "country names",
         "lon": [
          19.145136,
          10.451526
         ],
         "mode": "lines+markers",
         "name": "DE PL",
         "showlegend": false,
         "type": "scattergeo"
        },
        {
         "lat": [
          60,
          56.26392
         ],
         "legendgroup": "DK NO",
         "line": {
          "color": "#f4b6c2",
          "width": 9.714285714285714
         },
         "locationmode": "country names",
         "lon": [
          6,
          9.501785
         ],
         "mode": "lines+markers",
         "name": "DK NO",
         "showlegend": false,
         "type": "scattergeo"
        },
        {
         "lat": [
          60.128161,
          56.26392
         ],
         "legendgroup": "DK SE",
         "line": {
          "color": "#f4b6c2",
          "width": 13.942857142857143
         },
         "locationmode": "country names",
         "lon": [
          15,
          9.501785
         ],
         "mode": "lines+markers",
         "name": "DK SE",
         "showlegend": false,
         "type": "scattergeo"
        },
        {
         "lat": [
          61.92411,
          58.595272
         ],
         "legendgroup": "EE FI",
         "line": {
          "color": "#f4b6c2",
          "width": 2.085714285714286
         },
         "locationmode": "country names",
         "lon": [
          25.748151,
          25.013607
         ],
         "mode": "lines+markers",
         "name": "EE FI",
         "showlegend": false,
         "type": "scattergeo"
        },
        {
         "lat": [
          56.879635,
          58.595272
         ],
         "legendgroup": "EE LV",
         "line": {
          "color": "#f4b6c2",
          "width": 4.571428571428572
         },
         "locationmode": "country names",
         "lon": [
          24.603189,
          25.013607
         ],
         "mode": "lines+markers",
         "name": "EE LV",
         "showlegend": false,
         "type": "scattergeo"
        },
        {
         "lat": [
          46.227638,
          40.463667
         ],
         "legendgroup": "ES FR",
         "line": {
          "color": "#f4b6c2",
          "width": 6.119047617142856
         },
         "locationmode": "country names",
         "lon": [
          2.213749,
          -3.74922
         ],
         "mode": "lines+markers",
         "name": "ES FR",
         "showlegend": false,
         "type": "scattergeo"
        },
        {
         "lat": [
          39.399872,
          40.463667
         ],
         "legendgroup": "ES PT",
         "line": {
          "color": "#f4b6c2",
          "width": 8.392857142857142
         },
         "locationmode": "country names",
         "lon": [
          -8.224454,
          -3.74922
         ],
         "mode": "lines+markers",
         "name": "ES PT",
         "showlegend": false,
         "type": "scattergeo"
        },
        {
         "lat": [
          60.128161,
          61.92411
         ],
         "legendgroup": "FI SE",
         "line": {
          "color": "#f4b6c2",
          "width": 11.142857142857142
         },
         "locationmode": "country names",
         "lon": [
          15,
          25.748151
         ],
         "mode": "lines+markers",
         "name": "FI SE",
         "showlegend": false,
         "type": "scattergeo"
        },
        {
         "lat": [
          41.87194,
          46.227638
         ],
         "legendgroup": "FR IT",
         "line": {
          "color": "#f4b6c2",
          "width": 4.948571428571428
         },
         "locationmode": "country names",
         "lon": [
          12.56738,
          2.213749
         ],
         "mode": "lines+markers",
         "name": "FR IT",
         "showlegend": false,
         "type": "scattergeo"
        },
        {
         "lat": [
          55.378051,
          46.227638
         ],
         "legendgroup": "FR UK",
         "line": {
          "color": "#f4b6c2",
          "width": 11.428571428571427
         },
         "locationmode": "country names",
         "lon": [
          -3.435973,
          2.213749
         ],
         "mode": "lines+markers",
         "name": "FR UK",
         "showlegend": false,
         "type": "scattergeo"
        },
        {
         "lat": [
          41.87194,
          39.074208
         ],
         "legendgroup": "GR IT",
         "line": {
          "color": "#f4b6c2",
          "width": 2.8571428571428568
         },
         "locationmode": "country names",
         "lon": [
          12.56738,
          21.824312
         ],
         "mode": "lines+markers",
         "name": "GR IT",
         "showlegend": false,
         "type": "scattergeo"
        },
        {
         "lat": [
          44.29182,
          39.074208
         ],
         "legendgroup": "GR NONEU_Balkan",
         "line": {
          "color": "#f4b6c2",
          "width": 1.7142857142857144
         },
         "locationmode": "country names",
         "lon": [
          19.24671,
          21.824312
         ],
         "mode": "lines+markers",
         "name": "GR NONEU_Balkan",
         "showlegend": false,
         "type": "scattergeo"
        },
        {
         "lat": [
          38.963745,
          39.074208
         ],
         "legendgroup": "GR TR",
         "line": {
          "color": "#f4b6c2",
          "width": 5.7142857142857135
         },
         "locationmode": "country names",
         "lon": [
          35.243322,
          21.824312
         ],
         "mode": "lines+markers",
         "name": "GR TR",
         "showlegend": false,
         "type": "scattergeo"
        },
        {
         "lat": [
          47.162494,
          45.1
         ],
         "legendgroup": "HR HU",
         "line": {
          "color": "#f4b6c2",
          "width": 6.2857142857142865
         },
         "locationmode": "country names",
         "lon": [
          19.503304,
          15.2
         ],
         "mode": "lines+markers",
         "name": "HR HU",
         "showlegend": false,
         "type": "scattergeo"
        },
        {
         "lat": [
          44.29182,
          45.1
         ],
         "legendgroup": "HR NONEU_Balkan",
         "line": {
          "color": "#f4b6c2",
          "width": 6.2857142857142865
         },
         "locationmode": "country names",
         "lon": [
          19.24671,
          15.2
         ],
         "mode": "lines+markers",
         "name": "HR NONEU_Balkan",
         "showlegend": false,
         "type": "scattergeo"
        },
        {
         "lat": [
          44.29182,
          47.162494
         ],
         "legendgroup": "HU NONEU_Balkan",
         "line": {
          "color": "#f4b6c2",
          "width": 3.9999999999999996
         },
         "locationmode": "country names",
         "lon": [
          19.24671,
          19.503304
         ],
         "mode": "lines+markers",
         "name": "HU NONEU_Balkan",
         "showlegend": false,
         "type": "scattergeo"
        },
        {
         "lat": [
          45.943161,
          47.162494
         ],
         "legendgroup": "HU RO",
         "line": {
          "color": "#f4b6c2",
          "width": 2.285714285714286
         },
         "locationmode": "country names",
         "lon": [
          24.96676,
          19.503304
         ],
         "mode": "lines+markers",
         "name": "HU RO",
         "showlegend": false,
         "type": "scattergeo"
        },
        {
         "lat": [
          48.669026,
          47.162494
         ],
         "legendgroup": "HU SK",
         "line": {
          "color": "#f4b6c2",
          "width": 5.394474537743688
         },
         "locationmode": "country names",
         "lon": [
          19.699024,
          19.503304
         ],
         "mode": "lines+markers",
         "name": "HU SK",
         "showlegend": false,
         "type": "scattergeo"
        },
        {
         "lat": [
          55.378051,
          53.41291
         ],
         "legendgroup": "IE UK",
         "line": {
          "color": "#f4b6c2",
          "width": 2.5714285714285716
         },
         "locationmode": "country names",
         "lon": [
          -3.435973,
          -8.24389
         ],
         "mode": "lines+markers",
         "name": "IE UK",
         "showlegend": false,
         "type": "scattergeo"
        },
        {
         "lat": [
          46.151241,
          41.87194
         ],
         "legendgroup": "IT SI",
         "line": {
          "color": "#f4b6c2",
          "width": 1.0285714285714285
         },
         "locationmode": "country names",
         "lon": [
          14.995463,
          12.56738
         ],
         "mode": "lines+markers",
         "name": "IT SI",
         "showlegend": false,
         "type": "scattergeo"
        },
        {
         "lat": [
          56.879635,
          55.169438
         ],
         "legendgroup": "LT LV",
         "line": {
          "color": "#f4b6c2",
          "width": 8.571428571428571
         },
         "locationmode": "country names",
         "lon": [
          24.603189,
          23.881275
         ],
         "mode": "lines+markers",
         "name": "LT LV",
         "showlegend": false,
         "type": "scattergeo"
        },
        {
         "lat": [
          55.378051,
          52.132633
         ],
         "legendgroup": "NL UK",
         "line": {
          "color": "#f4b6c2",
          "width": 5.805714285714286
         },
         "locationmode": "country names",
         "lon": [
          -3.435973,
          5.291266
         ],
         "mode": "lines+markers",
         "name": "NL UK",
         "showlegend": false,
         "type": "scattergeo"
        },
        {
         "lat": [
          60.128161,
          60
         ],
         "legendgroup": "NO SE",
         "line": {
          "color": "#f4b6c2",
          "width": 19.685714285714283
         },
         "locationmode": "country names",
         "lon": [
          15,
          6
         ],
         "mode": "lines+markers",
         "name": "NO SE",
         "showlegend": false,
         "type": "scattergeo"
        },
        {
         "lat": [
          55.378051,
          60
         ],
         "legendgroup": "NO UK",
         "line": {
          "color": "#f4b6c2",
          "width": 15.999999999999998
         },
         "locationmode": "country names",
         "lon": [
          -3.435973,
          6
         ],
         "mode": "lines+markers",
         "name": "NO UK",
         "showlegend": false,
         "type": "scattergeo"
        },
        {
         "lat": [
          45.943161,
          44.29182
         ],
         "legendgroup": "NONEU_Balkan RO",
         "line": {
          "color": "#f4b6c2",
          "width": 1.142857142857143
         },
         "locationmode": "country names",
         "lon": [
          24.96676,
          19.24671
         ],
         "mode": "lines+markers",
         "name": "NONEU_Balkan RO",
         "showlegend": false,
         "type": "scattergeo"
        },
        {
         "lat": [
          60.128161,
          51.919438
         ],
         "legendgroup": "PL SE",
         "line": {
          "color": "#f4b6c2",
          "width": 1.5195238114285714
         },
         "locationmode": "country names",
         "lon": [
          15,
          19.145136
         ],
         "mode": "lines+markers",
         "name": "PL SE",
         "showlegend": false,
         "type": "scattergeo"
        },
        {
         "lat": [
          48.669026,
          51.919438
         ],
         "legendgroup": "PL SK",
         "line": {
          "color": "#f4b6c2",
          "width": 3.428571428571429
         },
         "locationmode": "country names",
         "lon": [
          19.699024,
          19.145136
         ],
         "mode": "lines+markers",
         "name": "PL SK",
         "showlegend": false,
         "type": "scattergeo"
        },
        {
         "lat": [
          47.166511457
         ],
         "locationmode": "country names",
         "lon": [
          11.382469440000001
         ],
         "mode": "text",
         "showlegend": false,
         "text": " 0.43 GW",
         "textfont": {
          "color": "black",
          "size": 8
         },
         "textposition": "top center",
         "type": "scattergeo"
        },
        {
         "lat": [
          48.669162761
         ],
         "locationmode": "country names",
         "lon": [
          15.01243989
         ],
         "mode": "text",
         "showlegend": false,
         "text": " 0.90 GW",
         "textfont": {
          "color": "black",
          "size": 8
         },
         "textposition": "top center",
         "type": "scattergeo"
        },
        {
         "lat": [
          49.34461046
         ],
         "locationmode": "country names",
         "lon": [
          12.496700453999999
         ],
         "mode": "text",
         "showlegend": false,
         "text": " 2.00 GW",
         "textfont": {
          "color": "black",
          "size": 8
         },
         "textposition": "top center",
         "type": "scattergeo"
        },
        {
         "lat": [
          47.339008763
         ],
         "locationmode": "country names",
         "lon": [
          17.031641232
         ],
         "mode": "text",
         "showlegend": false,
         "text": " 0.80 GW",
         "textfont": {
          "color": "black",
          "size": 8
         },
         "textposition": "top center",
         "type": "scattergeo"
        },
        {
         "lat": [
          44.688441209
         ],
         "locationmode": "country names",
         "lon": [
          13.556743308
         ],
         "mode": "text",
         "showlegend": false,
         "text": " 0.07 GW",
         "textfont": {
          "color": "black",
          "size": 8
         },
         "textposition": "top center",
         "type": "scattergeo"
        },
        {
         "lat": [
          46.832371009999996
         ],
         "locationmode": "country names",
         "lon": [
          14.773212891
         ],
         "mode": "text",
         "showlegend": false,
         "text": " 0.95 GW",
         "textfont": {
          "color": "black",
          "size": 8
         },
         "textposition": "top center",
         "type": "scattergeo"
        },
        {
         "lat": [
          48.361486251
         ],
         "locationmode": "country names",
         "lon": [
          3.339586313
         ],
         "mode": "text",
         "showlegend": false,
         "text": " 1.50 GW",
         "textfont": {
          "color": "black",
          "size": 8
         },
         "textposition": "top center",
         "type": "scattergeo"
        },
        {
         "lat": [
          51.319888746
         ],
         "locationmode": "country names",
         "lon": [
          4.88142233
         ],
         "mode": "text",
         "showlegend": false,
         "text": " 1.43 GW",
         "textfont": {
          "color": "black",
          "size": 8
         },
         "textposition": "top center",
         "type": "scattergeo"
        },
        {
         "lat": [
          43.514409437
         ],
         "locationmode": "country names",
         "lon": [
          22.36003088
         ],
         "mode": "text",
         "showlegend": false,
         "text": " 0.35 GW",
         "textfont": {
          "color": "black",
          "size": 8
         },
         "textposition": "top center",
         "type": "scattergeo"
        },
        {
         "lat": [
          44.341731278
         ],
         "locationmode": "country names",
         "lon": [
          25.22577593
         ],
         "mode": "text",
         "showlegend": false,
         "text": " 0.15 GW",
         "textfont": {
          "color": "black",
          "size": 8
         },
         "textposition": "top center",
         "type": "scattergeo"
        },
        {
         "lat": [
          40.845043862000004
         ],
         "locationmode": "country names",
         "lon": [
          30.374333491999998
         ],
         "mode": "text",
         "showlegend": false,
         "text": " 1.00 GW",
         "textfont": {
          "color": "black",
          "size": 8
         },
         "textposition": "top center",
         "type": "scattergeo"
        },
        {
         "lat": [
          48.996287003
         ],
         "locationmode": "country names",
         "lon": [
          9.341743014
         ],
         "mode": "text",
         "showlegend": false,
         "text": " 3.50 GW",
         "textfont": {
          "color": "black",
          "size": 8
         },
         "textposition": "top center",
         "type": "scattergeo"
        },
        {
         "lat": [
          46.52232245
         ],
         "locationmode": "country names",
         "lon": [
          5.214616737
         ],
         "mode": "text",
         "showlegend": false,
         "text": " 1.10 GW",
         "textfont": {
          "color": "black",
          "size": 8
         },
         "textposition": "top center",
         "type": "scattergeo"
        },
        {
         "lat": [
          44.340117752
         ],
         "locationmode": "country names",
         "lon": [
          10.401785868000001
         ],
         "mode": "text",
         "showlegend": false,
         "text": " 1.34 GW",
         "textfont": {
          "color": "black",
          "size": 8
         },
         "textposition": "top center",
         "type": "scattergeo"
        },
        {
         "lat": [
          50.492939699000004
         ],
         "locationmode": "country names",
         "lon": [
          12.957222564
         ],
         "mode": "text",
         "showlegend": false,
         "text": " 1.77 GW",
         "textfont": {
          "color": "black",
          "size": 8
         },
         "textposition": "top center",
         "type": "scattergeo"
        },
        {
         "lat": [
          50.870566946000004
         ],
         "locationmode": "country names",
         "lon": [
          17.312721174
         ],
         "mode": "text",
         "showlegend": false,
         "text": " 0.10 GW",
         "textfont": {
          "color": "black",
          "size": 8
         },
         "textposition": "top center",
         "type": "scattergeo"
        },
        {
         "lat": [
          49.242110534000005
         ],
         "locationmode": "country names",
         "lon": [
          17.590219062000003
         ],
         "mode": "text",
         "showlegend": false,
         "text": " 1.70 GW",
         "textfont": {
          "color": "black",
          "size": 8
         },
         "textposition": "top center",
         "type": "scattergeo"
        },
        {
         "lat": [
          53.719903729
         ],
         "locationmode": "country names",
         "lon": [
          9.975705759
         ],
         "mode": "text",
         "showlegend": false,
         "text": " 3.10 GW",
         "textfont": {
          "color": "black",
          "size": 8
         },
         "textposition": "top center",
         "type": "scattergeo"
        },
        {
         "lat": [
          48.691726447
         ],
         "locationmode": "country names",
         "lon": [
          6.324399723
         ],
         "mode": "text",
         "showlegend": false,
         "text": " 1.68 GW",
         "textfont": {
          "color": "black",
          "size": 8
         },
         "textposition": "top center",
         "type": "scattergeo"
        },
        {
         "lat": [
          50.489131582
         ],
         "locationmode": "country names",
         "lon": [
          8.286232557
         ],
         "mode": "text",
         "showlegend": false,
         "text": " 0.98 GW",
         "textfont": {
          "color": "black",
          "size": 8
         },
         "textposition": "top center",
         "type": "scattergeo"
        },
        {
         "lat": [
          51.650128942
         ],
         "locationmode": "country names",
         "lon": [
          7.8662357400000005
         ],
         "mode": "text",
         "showlegend": false,
         "text": " 2.85 GW",
         "textfont": {
          "color": "black",
          "size": 8
         },
         "textposition": "top center",
         "type": "scattergeo"
        },
        {
         "lat": [
          55.591679809
         ],
         "locationmode": "country names",
         "lon": [
          8.221311474
         ],
         "mode": "text",
         "showlegend": false,
         "text": " 1.44 GW",
         "textfont": {
          "color": "black",
          "size": 8
         },
         "textposition": "top center",
         "type": "scattergeo"
        },
        {
         "lat": [
          51.543318247
         ],
         "locationmode": "country names",
         "lon": [
          14.80702461
         ],
         "mode": "text",
         "showlegend": false,
         "text": " 0.10 GW",
         "textfont": {
          "color": "black",
          "size": 8
         },
         "textposition": "top center",
         "type": "scattergeo"
        },
        {
         "lat": [
          58.13569608
         ],
         "locationmode": "country names",
         "lon": [
          7.747390715
         ],
         "mode": "text",
         "showlegend": false,
         "text": " 1.70 GW",
         "textfont": {
          "color": "black",
          "size": 8
         },
         "textposition": "top center",
         "type": "scattergeo"
        },
        {
         "lat": [
          58.199904741
         ],
         "locationmode": "country names",
         "lon": [
          12.256390715
         ],
         "mode": "text",
         "showlegend": false,
         "text": " 2.44 GW",
         "textfont": {
          "color": "black",
          "size": 8
         },
         "textposition": "top center",
         "type": "scattergeo"
        },
        {
         "lat": [
          60.263019838
         ],
         "locationmode": "country names",
         "lon": [
          25.381613544
         ],
         "mode": "text",
         "showlegend": false,
         "text": " 0.36 GW",
         "textfont": {
          "color": "black",
          "size": 8
         },
         "textposition": "top center",
         "type": "scattergeo"
        },
        {
         "lat": [
          57.735737863000004
         ],
         "locationmode": "country names",
         "lon": [
          24.807987582
         ],
         "mode": "text",
         "showlegend": false,
         "text": " 0.80 GW",
         "textfont": {
          "color": "black",
          "size": 8
         },
         "textposition": "top center",
         "type": "scattergeo"
        },
        {
         "lat": [
          43.351416471
         ],
         "locationmode": "country names",
         "lon": [
          -0.7617725310000001
         ],
         "mode": "text",
         "showlegend": false,
         "text": " 1.07 GW",
         "textfont": {
          "color": "black",
          "size": 8
         },
         "textposition": "top center",
         "type": "scattergeo"
        },
        {
         "lat": [
          39.930705705
         ],
         "locationmode": "country names",
         "lon": [
          -5.9913122340000005
         ],
         "mode": "text",
         "showlegend": false,
         "text": " 1.47 GW",
         "textfont": {
          "color": "black",
          "size": 8
         },
         "textposition": "top center",
         "type": "scattergeo"
        },
        {
         "lat": [
          61.024339551
         ],
         "locationmode": "country names",
         "lon": [
          20.363327349000002
         ],
         "mode": "text",
         "showlegend": false,
         "text": " 1.95 GW",
         "textfont": {
          "color": "black",
          "size": 8
         },
         "textposition": "top center",
         "type": "scattergeo"
        },
        {
         "lat": [
          44.045433302
         ],
         "locationmode": "country names",
         "lon": [
          7.400918131
         ],
         "mode": "text",
         "showlegend": false,
         "text": " 0.87 GW",
         "textfont": {
          "color": "black",
          "size": 8
         },
         "textposition": "top center",
         "type": "scattergeo"
        },
        {
         "lat": [
          50.811994913
         ],
         "locationmode": "country names",
         "lon": [
          -0.6167617219999997
         ],
         "mode": "text",
         "showlegend": false,
         "text": " 2.00 GW",
         "textfont": {
          "color": "black",
          "size": 8
         },
         "textposition": "top center",
         "type": "scattergeo"
        },
        {
         "lat": [
          40.475871732
         ],
         "locationmode": "country names",
         "lon": [
          17.186589068
         ],
         "mode": "text",
         "showlegend": false,
         "text": " 0.50 GW",
         "textfont": {
          "color": "black",
          "size": 8
         },
         "textposition": "top center",
         "type": "scattergeo"
        },
        {
         "lat": [
          41.688231612
         ],
         "locationmode": "country names",
         "lon": [
          20.532933398
         ],
         "mode": "text",
         "showlegend": false,
         "text": " 0.30 GW",
         "textfont": {
          "color": "black",
          "size": 8
         },
         "textposition": "top center",
         "type": "scattergeo"
        },
        {
         "lat": [
          39.018866037
         ],
         "locationmode": "country names",
         "lon": [
          28.54723601
         ],
         "mode": "text",
         "showlegend": false,
         "text": " 1.00 GW",
         "textfont": {
          "color": "black",
          "size": 8
         },
         "textposition": "top center",
         "type": "scattergeo"
        },
        {
         "lat": [
          46.133309494
         ],
         "locationmode": "country names",
         "lon": [
          17.355955304
         ],
         "mode": "text",
         "showlegend": false,
         "text": " 1.10 GW",
         "textfont": {
          "color": "black",
          "size": 8
         },
         "textposition": "top center",
         "type": "scattergeo"
        },
        {
         "lat": [
          44.69510182
         ],
         "locationmode": "country names",
         "lon": [
          17.22740171
         ],
         "mode": "text",
         "showlegend": false,
         "text": " 1.10 GW",
         "textfont": {
          "color": "black",
          "size": 8
         },
         "textposition": "top center",
         "type": "scattergeo"
        },
        {
         "lat": [
          45.724286326000005
         ],
         "locationmode": "country names",
         "lon": [
          19.374750406
         ],
         "mode": "text",
         "showlegend": false,
         "text": " 0.70 GW",
         "textfont": {
          "color": "black",
          "size": 8
         },
         "textposition": "top center",
         "type": "scattergeo"
        },
        {
         "lat": [
          46.551608167000005
         ],
         "locationmode": "country names",
         "lon": [
          22.240495456
         ],
         "mode": "text",
         "showlegend": false,
         "text": " 0.40 GW",
         "textfont": {
          "color": "black",
          "size": 8
         },
         "textposition": "top center",
         "type": "scattergeo"
        },
        {
         "lat": [
          47.917266532
         ],
         "locationmode": "country names",
         "lon": [
          19.60135972
         ],
         "mode": "text",
         "showlegend": false,
         "text": " 0.94 GW",
         "textfont": {
          "color": "black",
          "size": 8
         },
         "textposition": "top center",
         "type": "scattergeo"
        },
        {
         "lat": [
          54.397445641
         ],
         "locationmode": "country names",
         "lon": [
          -5.835123583
         ],
         "mode": "text",
         "showlegend": false,
         "text": " 0.45 GW",
         "textfont": {
          "color": "black",
          "size": 8
         },
         "textposition": "top center",
         "type": "scattergeo"
        },
        {
         "lat": [
          44.015869801
         ],
         "locationmode": "country names",
         "lon": [
          13.783849583
         ],
         "mode": "text",
         "showlegend": false,
         "text": " 0.18 GW",
         "textfont": {
          "color": "black",
          "size": 8
         },
         "textposition": "top center",
         "type": "scattergeo"
        },
        {
         "lat": [
          56.026246697
         ],
         "locationmode": "country names",
         "lon": [
          24.242953914
         ],
         "mode": "text",
         "showlegend": false,
         "text": " 1.50 GW",
         "textfont": {
          "color": "black",
          "size": 8
         },
         "textposition": "top center",
         "type": "scattergeo"
        },
        {
         "lat": [
          53.758587418
         ],
         "locationmode": "country names",
         "lon": [
          0.9189192610000005
         ],
         "mode": "text",
         "showlegend": false,
         "text": " 1.02 GW",
         "textfont": {
          "color": "black",
          "size": 8
         },
         "textposition": "top center",
         "type": "scattergeo"
        },
        {
         "lat": [
          60.064208661
         ],
         "locationmode": "country names",
         "lon": [
          10.509
         ],
         "mode": "text",
         "showlegend": false,
         "text": " 3.44 GW",
         "textfont": {
          "color": "black",
          "size": 8
         },
         "textposition": "top center",
         "type": "scattergeo"
        },
        {
         "lat": [
          57.684403551
         ],
         "locationmode": "country names",
         "lon": [
          1.2725775269999997
         ],
         "mode": "text",
         "showlegend": false,
         "text": " 2.80 GW",
         "textfont": {
          "color": "black",
          "size": 8
         },
         "textposition": "top center",
         "type": "scattergeo"
        },
        {
         "lat": [
          45.119141841
         ],
         "locationmode": "country names",
         "lon": [
          22.11245505
         ],
         "mode": "text",
         "showlegend": false,
         "text": " 0.20 GW",
         "textfont": {
          "color": "black",
          "size": 8
         },
         "textposition": "top center",
         "type": "scattergeo"
        },
        {
         "lat": [
          56.032008223
         ],
         "locationmode": "country names",
         "lon": [
          17.068422864
         ],
         "mode": "text",
         "showlegend": false,
         "text": " 0.27 GW",
         "textfont": {
          "color": "black",
          "size": 8
         },
         "textposition": "top center",
         "type": "scattergeo"
        },
        {
         "lat": [
          50.290981588
         ],
         "locationmode": "country names",
         "lon": [
          19.422633888
         ],
         "mode": "text",
         "showlegend": false,
         "text": " 0.60 GW",
         "textfont": {
          "color": "black",
          "size": 8
         },
         "textposition": "top center",
         "type": "scattergeo"
        }
       ],
       "layout": {
        "geo": {
         "countrycolor": "white",
         "countrywidth": 1,
         "lakecolor": "#DEF4FC",
         "landcolor": "rgb(229, 229, 229)",
         "lataxis": {
          "range": [
           35,
           70
          ]
         },
         "lonaxis": {
          "range": [
           -9.7,
           38
          ]
         },
         "oceancolor": "#DCFBFB",
         "showcoastlines": false,
         "showcountries": true,
         "showlakes": true,
         "showland": true,
         "showocean": true
        },
        "height": 900,
        "margin": {
         "b": 0,
         "l": 0,
         "r": 0,
         "t": 30
        },
        "template": {
         "data": {
          "bar": [
           {
            "error_x": {
             "color": "#2a3f5f"
            },
            "error_y": {
             "color": "#2a3f5f"
            },
            "marker": {
             "line": {
              "color": "#E5ECF6",
              "width": 0.5
             },
             "pattern": {
              "fillmode": "overlay",
              "size": 10,
              "solidity": 0.2
             }
            },
            "type": "bar"
           }
          ],
          "barpolar": [
           {
            "marker": {
             "line": {
              "color": "#E5ECF6",
              "width": 0.5
             },
             "pattern": {
              "fillmode": "overlay",
              "size": 10,
              "solidity": 0.2
             }
            },
            "type": "barpolar"
           }
          ],
          "carpet": [
           {
            "aaxis": {
             "endlinecolor": "#2a3f5f",
             "gridcolor": "white",
             "linecolor": "white",
             "minorgridcolor": "white",
             "startlinecolor": "#2a3f5f"
            },
            "baxis": {
             "endlinecolor": "#2a3f5f",
             "gridcolor": "white",
             "linecolor": "white",
             "minorgridcolor": "white",
             "startlinecolor": "#2a3f5f"
            },
            "type": "carpet"
           }
          ],
          "choropleth": [
           {
            "colorbar": {
             "outlinewidth": 0,
             "ticks": ""
            },
            "type": "choropleth"
           }
          ],
          "contour": [
           {
            "colorbar": {
             "outlinewidth": 0,
             "ticks": ""
            },
            "colorscale": [
             [
              0,
              "#0d0887"
             ],
             [
              0.1111111111111111,
              "#46039f"
             ],
             [
              0.2222222222222222,
              "#7201a8"
             ],
             [
              0.3333333333333333,
              "#9c179e"
             ],
             [
              0.4444444444444444,
              "#bd3786"
             ],
             [
              0.5555555555555556,
              "#d8576b"
             ],
             [
              0.6666666666666666,
              "#ed7953"
             ],
             [
              0.7777777777777778,
              "#fb9f3a"
             ],
             [
              0.8888888888888888,
              "#fdca26"
             ],
             [
              1,
              "#f0f921"
             ]
            ],
            "type": "contour"
           }
          ],
          "contourcarpet": [
           {
            "colorbar": {
             "outlinewidth": 0,
             "ticks": ""
            },
            "type": "contourcarpet"
           }
          ],
          "heatmap": [
           {
            "colorbar": {
             "outlinewidth": 0,
             "ticks": ""
            },
            "colorscale": [
             [
              0,
              "#0d0887"
             ],
             [
              0.1111111111111111,
              "#46039f"
             ],
             [
              0.2222222222222222,
              "#7201a8"
             ],
             [
              0.3333333333333333,
              "#9c179e"
             ],
             [
              0.4444444444444444,
              "#bd3786"
             ],
             [
              0.5555555555555556,
              "#d8576b"
             ],
             [
              0.6666666666666666,
              "#ed7953"
             ],
             [
              0.7777777777777778,
              "#fb9f3a"
             ],
             [
              0.8888888888888888,
              "#fdca26"
             ],
             [
              1,
              "#f0f921"
             ]
            ],
            "type": "heatmap"
           }
          ],
          "heatmapgl": [
           {
            "colorbar": {
             "outlinewidth": 0,
             "ticks": ""
            },
            "colorscale": [
             [
              0,
              "#0d0887"
             ],
             [
              0.1111111111111111,
              "#46039f"
             ],
             [
              0.2222222222222222,
              "#7201a8"
             ],
             [
              0.3333333333333333,
              "#9c179e"
             ],
             [
              0.4444444444444444,
              "#bd3786"
             ],
             [
              0.5555555555555556,
              "#d8576b"
             ],
             [
              0.6666666666666666,
              "#ed7953"
             ],
             [
              0.7777777777777778,
              "#fb9f3a"
             ],
             [
              0.8888888888888888,
              "#fdca26"
             ],
             [
              1,
              "#f0f921"
             ]
            ],
            "type": "heatmapgl"
           }
          ],
          "histogram": [
           {
            "marker": {
             "pattern": {
              "fillmode": "overlay",
              "size": 10,
              "solidity": 0.2
             }
            },
            "type": "histogram"
           }
          ],
          "histogram2d": [
           {
            "colorbar": {
             "outlinewidth": 0,
             "ticks": ""
            },
            "colorscale": [
             [
              0,
              "#0d0887"
             ],
             [
              0.1111111111111111,
              "#46039f"
             ],
             [
              0.2222222222222222,
              "#7201a8"
             ],
             [
              0.3333333333333333,
              "#9c179e"
             ],
             [
              0.4444444444444444,
              "#bd3786"
             ],
             [
              0.5555555555555556,
              "#d8576b"
             ],
             [
              0.6666666666666666,
              "#ed7953"
             ],
             [
              0.7777777777777778,
              "#fb9f3a"
             ],
             [
              0.8888888888888888,
              "#fdca26"
             ],
             [
              1,
              "#f0f921"
             ]
            ],
            "type": "histogram2d"
           }
          ],
          "histogram2dcontour": [
           {
            "colorbar": {
             "outlinewidth": 0,
             "ticks": ""
            },
            "colorscale": [
             [
              0,
              "#0d0887"
             ],
             [
              0.1111111111111111,
              "#46039f"
             ],
             [
              0.2222222222222222,
              "#7201a8"
             ],
             [
              0.3333333333333333,
              "#9c179e"
             ],
             [
              0.4444444444444444,
              "#bd3786"
             ],
             [
              0.5555555555555556,
              "#d8576b"
             ],
             [
              0.6666666666666666,
              "#ed7953"
             ],
             [
              0.7777777777777778,
              "#fb9f3a"
             ],
             [
              0.8888888888888888,
              "#fdca26"
             ],
             [
              1,
              "#f0f921"
             ]
            ],
            "type": "histogram2dcontour"
           }
          ],
          "mesh3d": [
           {
            "colorbar": {
             "outlinewidth": 0,
             "ticks": ""
            },
            "type": "mesh3d"
           }
          ],
          "parcoords": [
           {
            "line": {
             "colorbar": {
              "outlinewidth": 0,
              "ticks": ""
             }
            },
            "type": "parcoords"
           }
          ],
          "pie": [
           {
            "automargin": true,
            "type": "pie"
           }
          ],
          "scatter": [
           {
            "fillpattern": {
             "fillmode": "overlay",
             "size": 10,
             "solidity": 0.2
            },
            "type": "scatter"
           }
          ],
          "scatter3d": [
           {
            "line": {
             "colorbar": {
              "outlinewidth": 0,
              "ticks": ""
             }
            },
            "marker": {
             "colorbar": {
              "outlinewidth": 0,
              "ticks": ""
             }
            },
            "type": "scatter3d"
           }
          ],
          "scattercarpet": [
           {
            "marker": {
             "colorbar": {
              "outlinewidth": 0,
              "ticks": ""
             }
            },
            "type": "scattercarpet"
           }
          ],
          "scattergeo": [
           {
            "marker": {
             "colorbar": {
              "outlinewidth": 0,
              "ticks": ""
             }
            },
            "type": "scattergeo"
           }
          ],
          "scattergl": [
           {
            "marker": {
             "colorbar": {
              "outlinewidth": 0,
              "ticks": ""
             }
            },
            "type": "scattergl"
           }
          ],
          "scattermapbox": [
           {
            "marker": {
             "colorbar": {
              "outlinewidth": 0,
              "ticks": ""
             }
            },
            "type": "scattermapbox"
           }
          ],
          "scatterpolar": [
           {
            "marker": {
             "colorbar": {
              "outlinewidth": 0,
              "ticks": ""
             }
            },
            "type": "scatterpolar"
           }
          ],
          "scatterpolargl": [
           {
            "marker": {
             "colorbar": {
              "outlinewidth": 0,
              "ticks": ""
             }
            },
            "type": "scatterpolargl"
           }
          ],
          "scatterternary": [
           {
            "marker": {
             "colorbar": {
              "outlinewidth": 0,
              "ticks": ""
             }
            },
            "type": "scatterternary"
           }
          ],
          "surface": [
           {
            "colorbar": {
             "outlinewidth": 0,
             "ticks": ""
            },
            "colorscale": [
             [
              0,
              "#0d0887"
             ],
             [
              0.1111111111111111,
              "#46039f"
             ],
             [
              0.2222222222222222,
              "#7201a8"
             ],
             [
              0.3333333333333333,
              "#9c179e"
             ],
             [
              0.4444444444444444,
              "#bd3786"
             ],
             [
              0.5555555555555556,
              "#d8576b"
             ],
             [
              0.6666666666666666,
              "#ed7953"
             ],
             [
              0.7777777777777778,
              "#fb9f3a"
             ],
             [
              0.8888888888888888,
              "#fdca26"
             ],
             [
              1,
              "#f0f921"
             ]
            ],
            "type": "surface"
           }
          ],
          "table": [
           {
            "cells": {
             "fill": {
              "color": "#EBF0F8"
             },
             "line": {
              "color": "white"
             }
            },
            "header": {
             "fill": {
              "color": "#C8D4E3"
             },
             "line": {
              "color": "white"
             }
            },
            "type": "table"
           }
          ]
         },
         "layout": {
          "annotationdefaults": {
           "arrowcolor": "#2a3f5f",
           "arrowhead": 0,
           "arrowwidth": 1
          },
          "autotypenumbers": "strict",
          "coloraxis": {
           "colorbar": {
            "outlinewidth": 0,
            "ticks": ""
           }
          },
          "colorscale": {
           "diverging": [
            [
             0,
             "#8e0152"
            ],
            [
             0.1,
             "#c51b7d"
            ],
            [
             0.2,
             "#de77ae"
            ],
            [
             0.3,
             "#f1b6da"
            ],
            [
             0.4,
             "#fde0ef"
            ],
            [
             0.5,
             "#f7f7f7"
            ],
            [
             0.6,
             "#e6f5d0"
            ],
            [
             0.7,
             "#b8e186"
            ],
            [
             0.8,
             "#7fbc41"
            ],
            [
             0.9,
             "#4d9221"
            ],
            [
             1,
             "#276419"
            ]
           ],
           "sequential": [
            [
             0,
             "#0d0887"
            ],
            [
             0.1111111111111111,
             "#46039f"
            ],
            [
             0.2222222222222222,
             "#7201a8"
            ],
            [
             0.3333333333333333,
             "#9c179e"
            ],
            [
             0.4444444444444444,
             "#bd3786"
            ],
            [
             0.5555555555555556,
             "#d8576b"
            ],
            [
             0.6666666666666666,
             "#ed7953"
            ],
            [
             0.7777777777777778,
             "#fb9f3a"
            ],
            [
             0.8888888888888888,
             "#fdca26"
            ],
            [
             1,
             "#f0f921"
            ]
           ],
           "sequentialminus": [
            [
             0,
             "#0d0887"
            ],
            [
             0.1111111111111111,
             "#46039f"
            ],
            [
             0.2222222222222222,
             "#7201a8"
            ],
            [
             0.3333333333333333,
             "#9c179e"
            ],
            [
             0.4444444444444444,
             "#bd3786"
            ],
            [
             0.5555555555555556,
             "#d8576b"
            ],
            [
             0.6666666666666666,
             "#ed7953"
            ],
            [
             0.7777777777777778,
             "#fb9f3a"
            ],
            [
             0.8888888888888888,
             "#fdca26"
            ],
            [
             1,
             "#f0f921"
            ]
           ]
          },
          "colorway": [
           "#636efa",
           "#EF553B",
           "#00cc96",
           "#ab63fa",
           "#FFA15A",
           "#19d3f3",
           "#FF6692",
           "#B6E880",
           "#FF97FF",
           "#FECB52"
          ],
          "font": {
           "color": "#2a3f5f"
          },
          "geo": {
           "bgcolor": "white",
           "lakecolor": "white",
           "landcolor": "#E5ECF6",
           "showlakes": true,
           "showland": true,
           "subunitcolor": "white"
          },
          "hoverlabel": {
           "align": "left"
          },
          "hovermode": "closest",
          "mapbox": {
           "style": "light"
          },
          "paper_bgcolor": "white",
          "plot_bgcolor": "#E5ECF6",
          "polar": {
           "angularaxis": {
            "gridcolor": "white",
            "linecolor": "white",
            "ticks": ""
           },
           "bgcolor": "#E5ECF6",
           "radialaxis": {
            "gridcolor": "white",
            "linecolor": "white",
            "ticks": ""
           }
          },
          "scene": {
           "xaxis": {
            "backgroundcolor": "#E5ECF6",
            "gridcolor": "white",
            "gridwidth": 2,
            "linecolor": "white",
            "showbackground": true,
            "ticks": "",
            "zerolinecolor": "white"
           },
           "yaxis": {
            "backgroundcolor": "#E5ECF6",
            "gridcolor": "white",
            "gridwidth": 2,
            "linecolor": "white",
            "showbackground": true,
            "ticks": "",
            "zerolinecolor": "white"
           },
           "zaxis": {
            "backgroundcolor": "#E5ECF6",
            "gridcolor": "white",
            "gridwidth": 2,
            "linecolor": "white",
            "showbackground": true,
            "ticks": "",
            "zerolinecolor": "white"
           }
          },
          "shapedefaults": {
           "line": {
            "color": "#2a3f5f"
           }
          },
          "ternary": {
           "aaxis": {
            "gridcolor": "white",
            "linecolor": "white",
            "ticks": ""
           },
           "baxis": {
            "gridcolor": "white",
            "linecolor": "white",
            "ticks": ""
           },
           "bgcolor": "#E5ECF6",
           "caxis": {
            "gridcolor": "white",
            "linecolor": "white",
            "ticks": ""
           }
          },
          "title": {
           "x": 0.05
          },
          "xaxis": {
           "automargin": true,
           "gridcolor": "white",
           "linecolor": "white",
           "ticks": "",
           "title": {
            "standoff": 15
           },
           "zerolinecolor": "white",
           "zerolinewidth": 2
          },
          "yaxis": {
           "automargin": true,
           "gridcolor": "white",
           "linecolor": "white",
           "ticks": "",
           "title": {
            "standoff": 15
           },
           "zerolinecolor": "white",
           "zerolinewidth": 2
          }
         }
        },
        "title": {
         "text": "Power Trade Capacity in 2050 - Season"
        },
        "width": 1620
       }
      }
     },
     "metadata": {},
     "output_type": "display_data"
    }
   ],
   "source": [
    "trade_capacity_plotter = TradeCapacityMapFacilitator(sol_path=SOLUTION_FILEPATH, year=2050)\n",
    "\n",
    "relevant_data = trade_capacity_plotter.get_relevant_data()\n",
    "print(relevant_data.TotalTradeCapacity.df[\"Year\"].unique())\n",
    "\n",
    "relevant_data.TotalTradeCapacity.filter_by_identifier(column=\"Fuel\", identifier=\"Power\")\n",
    "\n",
    "fig = trade_capacity_plotter.plot(relevant_data)\n",
    "\n",
    "fig.update_layout(margin=dict(l=0, r=0, t=30, b=0))\n",
    "\n",
    "fig.layout.title = \"Power Trade Capacity in 2050\" + TITLE_ADDON\n",
    "\n",
    "if WRITE_IMAGE:\n",
    "    fig.write_image(\"PowerTradeCapacity2050.pdf\" + TITLE_ADDON.replace(\" \", \"\") + \".png\")\n",
    "\n",
    "fig.show()"
   ]
  },
  {
   "cell_type": "markdown",
   "metadata": {},
   "source": [
    "### Storage capacities"
   ]
  },
  {
   "cell_type": "code",
   "execution_count": 5,
   "metadata": {},
   "outputs": [
    {
     "name": "stdout",
     "output_type": "stream",
     "text": [
      "No unit conversion applied!\n"
     ]
    },
    {
     "data": {
      "application/vnd.plotly.v1+json": {
       "config": {
        "plotlyServerURL": "https://plot.ly"
       },
       "data": [
        {
         "fillcolor": "#def6d1",
         "legendgroup": "D_PHS",
         "line": {
          "color": "#def6d1"
         },
         "mode": "lines",
         "name": "D_PHS",
         "showlegend": true,
         "stackgroup": "one",
         "type": "scatter",
         "x": [
          2018,
          2025,
          2030,
          2035,
          2040,
          2045,
          2050
         ],
         "y": [
          8.918,
          5.8311,
          5.8311,
          5.8311,
          5.8311,
          5.8311,
          5.8311
         ]
        },
        {
         "fillcolor": "#928df6",
         "legendgroup": "D_PHS_Residual",
         "line": {
          "color": "#928df6"
         },
         "mode": "lines",
         "name": "D_PHS_Residual",
         "showlegend": true,
         "stackgroup": "one",
         "type": "scatter",
         "x": [
          2018,
          2025,
          2030,
          2035,
          2040,
          2045,
          2050
         ],
         "y": [
          0,
          0,
          0,
          0,
          0,
          0,
          0
         ]
        },
        {
         "fillcolor": "#91d9fe",
         "legendgroup": "D_Battery_Li-Ion",
         "line": {
          "color": "#91d9fe"
         },
         "mode": "lines",
         "name": "D_Battery_Li-Ion",
         "showlegend": true,
         "stackgroup": "one",
         "type": "scatter",
         "x": [
          2018,
          2025,
          2030,
          2035,
          2040,
          2045,
          2050
         ],
         "y": [
          0,
          0,
          82.76893096677169,
          183.51571951640489,
          183.51571951640489,
          183.51571951640489,
          146.66335034860913
         ]
        },
        {
         "fillcolor": "#c6d1cb",
         "legendgroup": "D_Battery_Redox",
         "line": {
          "color": "#c6d1cb"
         },
         "mode": "lines",
         "name": "D_Battery_Redox",
         "showlegend": true,
         "stackgroup": "one",
         "type": "scatter",
         "x": [
          2018,
          2025,
          2030,
          2035,
          2040,
          2045,
          2050
         ],
         "y": [
          0,
          0,
          0,
          0,
          0,
          0,
          0
         ]
        },
        {
         "fillcolor": "#9ab5ea",
         "legendgroup": "D_CAES",
         "line": {
          "color": "#9ab5ea"
         },
         "mode": "lines",
         "name": "D_CAES",
         "showlegend": true,
         "stackgroup": "one",
         "type": "scatter",
         "x": [
          2018,
          2025,
          2030,
          2035,
          2040,
          2045,
          2050
         ],
         "y": [
          0,
          0,
          0,
          0,
          0,
          0,
          0
         ]
        },
        {
         "fillcolor": "#a4dfe5",
         "legendgroup": "D_Gas_H2",
         "line": {
          "color": "#a4dfe5"
         },
         "mode": "lines",
         "name": "D_Gas_H2",
         "showlegend": true,
         "stackgroup": "one",
         "type": "scatter",
         "x": [
          2018,
          2025,
          2030,
          2035,
          2040,
          2045,
          2050
         ],
         "y": [
          0,
          0,
          0.5548666699792928,
          0.5548666699792928,
          0.91963513058512,
          2.585830934196548,
          8.572439612356412
         ]
        },
        {
         "fillcolor": "#9185f3",
         "legendgroup": "D_Gas_Methane",
         "line": {
          "color": "#9185f3"
         },
         "mode": "lines",
         "name": "D_Gas_Methane",
         "showlegend": true,
         "stackgroup": "one",
         "type": "scatter",
         "x": [
          2018,
          2025,
          2030,
          2035,
          2040,
          2045,
          2050
         ],
         "y": [
          0,
          0,
          0,
          0,
          0,
          0,
          0
         ]
        },
        {
         "fillcolor": "#a7c9f5",
         "legendgroup": "D_Heat_HLI",
         "line": {
          "color": "#a7c9f5"
         },
         "mode": "lines",
         "name": "D_Heat_HLI",
         "showlegend": true,
         "stackgroup": "one",
         "type": "scatter",
         "x": [
          2018,
          2025,
          2030,
          2035,
          2040,
          2045,
          2050
         ],
         "y": [
          0,
          0,
          0.9214118717555718,
          1.5106833540524396,
          1.5106833540524405,
          1.5106833540524391,
          1.5106833540524396
         ]
        },
        {
         "fillcolor": "#c8fa8a",
         "legendgroup": "D_Heat_HLR",
         "line": {
          "color": "#c8fa8a"
         },
         "mode": "lines",
         "name": "D_Heat_HLR",
         "showlegend": true,
         "stackgroup": "one",
         "type": "scatter",
         "x": [
          2018,
          2025,
          2030,
          2035,
          2040,
          2045,
          2050
         ],
         "y": [
          0,
          0,
          0,
          0,
          0,
          0,
          0
         ]
        },
        {
         "fillcolor": "#fafa9d",
         "legendgroup": "D_Heat_HLDH",
         "line": {
          "color": "#fafa9d"
         },
         "mode": "lines",
         "name": "D_Heat_HLDH",
         "showlegend": true,
         "stackgroup": "one",
         "type": "scatter",
         "x": [
          2018,
          2025,
          2030,
          2035,
          2040,
          2045,
          2050
         ],
         "y": [
          0,
          0,
          0,
          2.982589718825771,
          2.982589718825771,
          2.982589718825771,
          2.982589718825771
         ]
        },
        {
         "fillcolor": "#9dd8fa",
         "legendgroup": "D_Heat_HLB",
         "line": {
          "color": "#9dd8fa"
         },
         "mode": "lines",
         "name": "D_Heat_HLB",
         "showlegend": true,
         "stackgroup": "one",
         "type": "scatter",
         "x": [
          2018,
          2025,
          2030,
          2035,
          2040,
          2045,
          2050
         ],
         "y": [
          0,
          40.83243022434792,
          46.156968776728654,
          75.75738331053024,
          84.10179157806134,
          84.10179157806134,
          84.10179157806134
         ]
        }
       ],
       "layout": {
        "barmode": "stack",
        "font": {
         "size": 22
        },
        "height": 800,
        "template": {
         "data": {
          "bar": [
           {
            "error_x": {
             "color": "#2a3f5f"
            },
            "error_y": {
             "color": "#2a3f5f"
            },
            "marker": {
             "line": {
              "color": "#E5ECF6",
              "width": 0.5
             },
             "pattern": {
              "fillmode": "overlay",
              "size": 10,
              "solidity": 0.2
             }
            },
            "type": "bar"
           }
          ],
          "barpolar": [
           {
            "marker": {
             "line": {
              "color": "#E5ECF6",
              "width": 0.5
             },
             "pattern": {
              "fillmode": "overlay",
              "size": 10,
              "solidity": 0.2
             }
            },
            "type": "barpolar"
           }
          ],
          "carpet": [
           {
            "aaxis": {
             "endlinecolor": "#2a3f5f",
             "gridcolor": "white",
             "linecolor": "white",
             "minorgridcolor": "white",
             "startlinecolor": "#2a3f5f"
            },
            "baxis": {
             "endlinecolor": "#2a3f5f",
             "gridcolor": "white",
             "linecolor": "white",
             "minorgridcolor": "white",
             "startlinecolor": "#2a3f5f"
            },
            "type": "carpet"
           }
          ],
          "choropleth": [
           {
            "colorbar": {
             "outlinewidth": 0,
             "ticks": ""
            },
            "type": "choropleth"
           }
          ],
          "contour": [
           {
            "colorbar": {
             "outlinewidth": 0,
             "ticks": ""
            },
            "colorscale": [
             [
              0,
              "#0d0887"
             ],
             [
              0.1111111111111111,
              "#46039f"
             ],
             [
              0.2222222222222222,
              "#7201a8"
             ],
             [
              0.3333333333333333,
              "#9c179e"
             ],
             [
              0.4444444444444444,
              "#bd3786"
             ],
             [
              0.5555555555555556,
              "#d8576b"
             ],
             [
              0.6666666666666666,
              "#ed7953"
             ],
             [
              0.7777777777777778,
              "#fb9f3a"
             ],
             [
              0.8888888888888888,
              "#fdca26"
             ],
             [
              1,
              "#f0f921"
             ]
            ],
            "type": "contour"
           }
          ],
          "contourcarpet": [
           {
            "colorbar": {
             "outlinewidth": 0,
             "ticks": ""
            },
            "type": "contourcarpet"
           }
          ],
          "heatmap": [
           {
            "colorbar": {
             "outlinewidth": 0,
             "ticks": ""
            },
            "colorscale": [
             [
              0,
              "#0d0887"
             ],
             [
              0.1111111111111111,
              "#46039f"
             ],
             [
              0.2222222222222222,
              "#7201a8"
             ],
             [
              0.3333333333333333,
              "#9c179e"
             ],
             [
              0.4444444444444444,
              "#bd3786"
             ],
             [
              0.5555555555555556,
              "#d8576b"
             ],
             [
              0.6666666666666666,
              "#ed7953"
             ],
             [
              0.7777777777777778,
              "#fb9f3a"
             ],
             [
              0.8888888888888888,
              "#fdca26"
             ],
             [
              1,
              "#f0f921"
             ]
            ],
            "type": "heatmap"
           }
          ],
          "heatmapgl": [
           {
            "colorbar": {
             "outlinewidth": 0,
             "ticks": ""
            },
            "colorscale": [
             [
              0,
              "#0d0887"
             ],
             [
              0.1111111111111111,
              "#46039f"
             ],
             [
              0.2222222222222222,
              "#7201a8"
             ],
             [
              0.3333333333333333,
              "#9c179e"
             ],
             [
              0.4444444444444444,
              "#bd3786"
             ],
             [
              0.5555555555555556,
              "#d8576b"
             ],
             [
              0.6666666666666666,
              "#ed7953"
             ],
             [
              0.7777777777777778,
              "#fb9f3a"
             ],
             [
              0.8888888888888888,
              "#fdca26"
             ],
             [
              1,
              "#f0f921"
             ]
            ],
            "type": "heatmapgl"
           }
          ],
          "histogram": [
           {
            "marker": {
             "pattern": {
              "fillmode": "overlay",
              "size": 10,
              "solidity": 0.2
             }
            },
            "type": "histogram"
           }
          ],
          "histogram2d": [
           {
            "colorbar": {
             "outlinewidth": 0,
             "ticks": ""
            },
            "colorscale": [
             [
              0,
              "#0d0887"
             ],
             [
              0.1111111111111111,
              "#46039f"
             ],
             [
              0.2222222222222222,
              "#7201a8"
             ],
             [
              0.3333333333333333,
              "#9c179e"
             ],
             [
              0.4444444444444444,
              "#bd3786"
             ],
             [
              0.5555555555555556,
              "#d8576b"
             ],
             [
              0.6666666666666666,
              "#ed7953"
             ],
             [
              0.7777777777777778,
              "#fb9f3a"
             ],
             [
              0.8888888888888888,
              "#fdca26"
             ],
             [
              1,
              "#f0f921"
             ]
            ],
            "type": "histogram2d"
           }
          ],
          "histogram2dcontour": [
           {
            "colorbar": {
             "outlinewidth": 0,
             "ticks": ""
            },
            "colorscale": [
             [
              0,
              "#0d0887"
             ],
             [
              0.1111111111111111,
              "#46039f"
             ],
             [
              0.2222222222222222,
              "#7201a8"
             ],
             [
              0.3333333333333333,
              "#9c179e"
             ],
             [
              0.4444444444444444,
              "#bd3786"
             ],
             [
              0.5555555555555556,
              "#d8576b"
             ],
             [
              0.6666666666666666,
              "#ed7953"
             ],
             [
              0.7777777777777778,
              "#fb9f3a"
             ],
             [
              0.8888888888888888,
              "#fdca26"
             ],
             [
              1,
              "#f0f921"
             ]
            ],
            "type": "histogram2dcontour"
           }
          ],
          "mesh3d": [
           {
            "colorbar": {
             "outlinewidth": 0,
             "ticks": ""
            },
            "type": "mesh3d"
           }
          ],
          "parcoords": [
           {
            "line": {
             "colorbar": {
              "outlinewidth": 0,
              "ticks": ""
             }
            },
            "type": "parcoords"
           }
          ],
          "pie": [
           {
            "automargin": true,
            "type": "pie"
           }
          ],
          "scatter": [
           {
            "fillpattern": {
             "fillmode": "overlay",
             "size": 10,
             "solidity": 0.2
            },
            "type": "scatter"
           }
          ],
          "scatter3d": [
           {
            "line": {
             "colorbar": {
              "outlinewidth": 0,
              "ticks": ""
             }
            },
            "marker": {
             "colorbar": {
              "outlinewidth": 0,
              "ticks": ""
             }
            },
            "type": "scatter3d"
           }
          ],
          "scattercarpet": [
           {
            "marker": {
             "colorbar": {
              "outlinewidth": 0,
              "ticks": ""
             }
            },
            "type": "scattercarpet"
           }
          ],
          "scattergeo": [
           {
            "marker": {
             "colorbar": {
              "outlinewidth": 0,
              "ticks": ""
             }
            },
            "type": "scattergeo"
           }
          ],
          "scattergl": [
           {
            "marker": {
             "colorbar": {
              "outlinewidth": 0,
              "ticks": ""
             }
            },
            "type": "scattergl"
           }
          ],
          "scattermapbox": [
           {
            "marker": {
             "colorbar": {
              "outlinewidth": 0,
              "ticks": ""
             }
            },
            "type": "scattermapbox"
           }
          ],
          "scatterpolar": [
           {
            "marker": {
             "colorbar": {
              "outlinewidth": 0,
              "ticks": ""
             }
            },
            "type": "scatterpolar"
           }
          ],
          "scatterpolargl": [
           {
            "marker": {
             "colorbar": {
              "outlinewidth": 0,
              "ticks": ""
             }
            },
            "type": "scatterpolargl"
           }
          ],
          "scatterternary": [
           {
            "marker": {
             "colorbar": {
              "outlinewidth": 0,
              "ticks": ""
             }
            },
            "type": "scatterternary"
           }
          ],
          "surface": [
           {
            "colorbar": {
             "outlinewidth": 0,
             "ticks": ""
            },
            "colorscale": [
             [
              0,
              "#0d0887"
             ],
             [
              0.1111111111111111,
              "#46039f"
             ],
             [
              0.2222222222222222,
              "#7201a8"
             ],
             [
              0.3333333333333333,
              "#9c179e"
             ],
             [
              0.4444444444444444,
              "#bd3786"
             ],
             [
              0.5555555555555556,
              "#d8576b"
             ],
             [
              0.6666666666666666,
              "#ed7953"
             ],
             [
              0.7777777777777778,
              "#fb9f3a"
             ],
             [
              0.8888888888888888,
              "#fdca26"
             ],
             [
              1,
              "#f0f921"
             ]
            ],
            "type": "surface"
           }
          ],
          "table": [
           {
            "cells": {
             "fill": {
              "color": "#EBF0F8"
             },
             "line": {
              "color": "white"
             }
            },
            "header": {
             "fill": {
              "color": "#C8D4E3"
             },
             "line": {
              "color": "white"
             }
            },
            "type": "table"
           }
          ]
         },
         "layout": {
          "annotationdefaults": {
           "arrowcolor": "#2a3f5f",
           "arrowhead": 0,
           "arrowwidth": 1
          },
          "autotypenumbers": "strict",
          "coloraxis": {
           "colorbar": {
            "outlinewidth": 0,
            "ticks": ""
           }
          },
          "colorscale": {
           "diverging": [
            [
             0,
             "#8e0152"
            ],
            [
             0.1,
             "#c51b7d"
            ],
            [
             0.2,
             "#de77ae"
            ],
            [
             0.3,
             "#f1b6da"
            ],
            [
             0.4,
             "#fde0ef"
            ],
            [
             0.5,
             "#f7f7f7"
            ],
            [
             0.6,
             "#e6f5d0"
            ],
            [
             0.7,
             "#b8e186"
            ],
            [
             0.8,
             "#7fbc41"
            ],
            [
             0.9,
             "#4d9221"
            ],
            [
             1,
             "#276419"
            ]
           ],
           "sequential": [
            [
             0,
             "#0d0887"
            ],
            [
             0.1111111111111111,
             "#46039f"
            ],
            [
             0.2222222222222222,
             "#7201a8"
            ],
            [
             0.3333333333333333,
             "#9c179e"
            ],
            [
             0.4444444444444444,
             "#bd3786"
            ],
            [
             0.5555555555555556,
             "#d8576b"
            ],
            [
             0.6666666666666666,
             "#ed7953"
            ],
            [
             0.7777777777777778,
             "#fb9f3a"
            ],
            [
             0.8888888888888888,
             "#fdca26"
            ],
            [
             1,
             "#f0f921"
            ]
           ],
           "sequentialminus": [
            [
             0,
             "#0d0887"
            ],
            [
             0.1111111111111111,
             "#46039f"
            ],
            [
             0.2222222222222222,
             "#7201a8"
            ],
            [
             0.3333333333333333,
             "#9c179e"
            ],
            [
             0.4444444444444444,
             "#bd3786"
            ],
            [
             0.5555555555555556,
             "#d8576b"
            ],
            [
             0.6666666666666666,
             "#ed7953"
            ],
            [
             0.7777777777777778,
             "#fb9f3a"
            ],
            [
             0.8888888888888888,
             "#fdca26"
            ],
            [
             1,
             "#f0f921"
            ]
           ]
          },
          "colorway": [
           "#636efa",
           "#EF553B",
           "#00cc96",
           "#ab63fa",
           "#FFA15A",
           "#19d3f3",
           "#FF6692",
           "#B6E880",
           "#FF97FF",
           "#FECB52"
          ],
          "font": {
           "color": "#2a3f5f"
          },
          "geo": {
           "bgcolor": "white",
           "lakecolor": "white",
           "landcolor": "#E5ECF6",
           "showlakes": true,
           "showland": true,
           "subunitcolor": "white"
          },
          "hoverlabel": {
           "align": "left"
          },
          "hovermode": "closest",
          "mapbox": {
           "style": "light"
          },
          "paper_bgcolor": "white",
          "plot_bgcolor": "#E5ECF6",
          "polar": {
           "angularaxis": {
            "gridcolor": "white",
            "linecolor": "white",
            "ticks": ""
           },
           "bgcolor": "#E5ECF6",
           "radialaxis": {
            "gridcolor": "white",
            "linecolor": "white",
            "ticks": ""
           }
          },
          "scene": {
           "xaxis": {
            "backgroundcolor": "#E5ECF6",
            "gridcolor": "white",
            "gridwidth": 2,
            "linecolor": "white",
            "showbackground": true,
            "ticks": "",
            "zerolinecolor": "white"
           },
           "yaxis": {
            "backgroundcolor": "#E5ECF6",
            "gridcolor": "white",
            "gridwidth": 2,
            "linecolor": "white",
            "showbackground": true,
            "ticks": "",
            "zerolinecolor": "white"
           },
           "zaxis": {
            "backgroundcolor": "#E5ECF6",
            "gridcolor": "white",
            "gridwidth": 2,
            "linecolor": "white",
            "showbackground": true,
            "ticks": "",
            "zerolinecolor": "white"
           }
          },
          "shapedefaults": {
           "line": {
            "color": "#2a3f5f"
           }
          },
          "ternary": {
           "aaxis": {
            "gridcolor": "white",
            "linecolor": "white",
            "ticks": ""
           },
           "baxis": {
            "gridcolor": "white",
            "linecolor": "white",
            "ticks": ""
           },
           "bgcolor": "#E5ECF6",
           "caxis": {
            "gridcolor": "white",
            "linecolor": "white",
            "ticks": ""
           }
          },
          "title": {
           "x": 0.05
          },
          "xaxis": {
           "automargin": true,
           "gridcolor": "white",
           "linecolor": "white",
           "ticks": "",
           "title": {
            "standoff": 15
           },
           "zerolinecolor": "white",
           "zerolinewidth": 2
          },
          "yaxis": {
           "automargin": true,
           "gridcolor": "white",
           "linecolor": "white",
           "ticks": "",
           "title": {
            "standoff": 15
           },
           "zerolinecolor": "white",
           "zerolinewidth": 2
          }
         }
        },
        "title": {
         "text": "Storage Capacity Germany - Season"
        },
        "width": 1400,
        "xaxis": {
         "title": {
          "text": "Year"
         }
        },
        "yaxis": {
         "title": {
          "text": "GW"
         }
        }
       }
      }
     },
     "metadata": {},
     "output_type": "display_data"
    }
   ],
   "source": [
    "storage_capacity_plotter = StackedQuantityEvolutionFacilitator(sol_path=SOLUTION_FILEPATH, region=\"DE\")\n",
    "\n",
    "relevant_data = storage_capacity_plotter.get_relevant_data()\n",
    "#relevant_data.filter_by_containing_string(column=\"Technology\", identifier=\"D_\")\n",
    "#relevant_data.filter_by_list(column=\"Technology\", by_filter=[\"D_Heat_HLDH\", \"D_Heat_HLI\", \"D_Heat_HLB\", \n",
    "#                                                             \"D_Battery_Li-Ion\", \"D_Battery_Redox\", \"D_Heat_HLR\"])\n",
    "relevant_data.filter_by_containing_string(column=\"Technology\", identifier=\"D_\")\n",
    "\n",
    "\n",
    "fig = storage_capacity_plotter.plot(relevant_data)\n",
    "\n",
    "fig.update_layout(\n",
    "    width=1400,\n",
    "    height=800,\n",
    "    title=\"Storage Capacity Germany\" + TITLE_ADDON,\n",
    "    yaxis_title=\"GW\",\n",
    "    xaxis_title=\"Year\",\n",
    ")\n",
    "\n",
    "if WRITE_IMAGE:\n",
    "    fig.write_image(\"StorageProductionGermany.pdf\" + TITLE_ADDON.replace(\" \", \"\") + \".png\")\n",
    "\n",
    "fig.show()"
   ]
  },
  {
   "cell_type": "code",
   "execution_count": 6,
   "metadata": {},
   "outputs": [
    {
     "name": "stdout",
     "output_type": "stream",
     "text": [
      "No unit conversion applied!\n"
     ]
    },
    {
     "data": {
      "application/vnd.plotly.v1+json": {
       "config": {
        "plotlyServerURL": "https://plot.ly"
       },
       "data": [
        {
         "fillcolor": "#def6d1",
         "legendgroup": "D_PHS",
         "line": {
          "color": "#def6d1"
         },
         "mode": "lines",
         "name": "D_PHS",
         "showlegend": true,
         "stackgroup": "one",
         "type": "scatter",
         "x": [
          2018,
          2025,
          2030,
          2035,
          2040,
          2045,
          2050
         ],
         "y": [
          52.658,
          45.464546452,
          45.464546452,
          45.459758676,
          45.459758676,
          42.715758676,
          42.715758676
         ]
        },
        {
         "fillcolor": "#91d9fe",
         "legendgroup": "D_Battery_Li-Ion",
         "line": {
          "color": "#91d9fe"
         },
         "mode": "lines",
         "name": "D_Battery_Li-Ion",
         "showlegend": true,
         "stackgroup": "one",
         "type": "scatter",
         "x": [
          2018,
          2025,
          2030,
          2035,
          2040,
          2045,
          2050
         ],
         "y": [
          0,
          68.15542350268083,
          792.7980941052482,
          1329.814672948091,
          1382.3167156937989,
          1336.3609972819052,
          1078.676155878998
         ]
        },
        {
         "fillcolor": "#c6d1cb",
         "legendgroup": "D_Battery_Redox",
         "line": {
          "color": "#c6d1cb"
         },
         "mode": "lines",
         "name": "D_Battery_Redox",
         "showlegend": true,
         "stackgroup": "one",
         "type": "scatter",
         "x": [
          2018,
          2025,
          2030,
          2035,
          2040,
          2045,
          2050
         ],
         "y": [
          0,
          0,
          0,
          0,
          0,
          0,
          0
         ]
        },
        {
         "fillcolor": "#9ab5ea",
         "legendgroup": "D_CAES",
         "line": {
          "color": "#9ab5ea"
         },
         "mode": "lines",
         "name": "D_CAES",
         "showlegend": true,
         "stackgroup": "one",
         "type": "scatter",
         "x": [
          2018,
          2025,
          2030,
          2035,
          2040,
          2045,
          2050
         ],
         "y": [
          0,
          0,
          0,
          0,
          0,
          0,
          0
         ]
        },
        {
         "fillcolor": "#a4dfe5",
         "legendgroup": "D_Gas_H2",
         "line": {
          "color": "#a4dfe5"
         },
         "mode": "lines",
         "name": "D_Gas_H2",
         "showlegend": true,
         "stackgroup": "one",
         "type": "scatter",
         "x": [
          2018,
          2025,
          2030,
          2035,
          2040,
          2045,
          2050
         ],
         "y": [
          0,
          0,
          16.610779046702145,
          54.199647830938524,
          75.99585783151207,
          88.06050579112633,
          164.25505352501736
         ]
        },
        {
         "fillcolor": "#9185f3",
         "legendgroup": "D_Gas_Methane",
         "line": {
          "color": "#9185f3"
         },
         "mode": "lines",
         "name": "D_Gas_Methane",
         "showlegend": true,
         "stackgroup": "one",
         "type": "scatter",
         "x": [
          2018,
          2025,
          2030,
          2035,
          2040,
          2045,
          2050
         ],
         "y": [
          0,
          0,
          0,
          0,
          0,
          0,
          0
         ]
        },
        {
         "fillcolor": "#9dd8fa",
         "legendgroup": "D_Heat_HLB",
         "line": {
          "color": "#9dd8fa"
         },
         "mode": "lines",
         "name": "D_Heat_HLB",
         "showlegend": true,
         "stackgroup": "one",
         "type": "scatter",
         "x": [
          2018,
          2025,
          2030,
          2035,
          2040,
          2045,
          2050
         ],
         "y": [
          0,
          187.2999820305698,
          290.9501914658053,
          414.78228730022545,
          488.19096363988444,
          488.1909636398845,
          488.19096363988444
         ]
        },
        {
         "fillcolor": "#fafa9d",
         "legendgroup": "D_Heat_HLDH",
         "line": {
          "color": "#fafa9d"
         },
         "mode": "lines",
         "name": "D_Heat_HLDH",
         "showlegend": true,
         "stackgroup": "one",
         "type": "scatter",
         "x": [
          2018,
          2025,
          2030,
          2035,
          2040,
          2045,
          2050
         ],
         "y": [
          0,
          0,
          1.4078700950331149,
          5.1058154255101185,
          5.105815425510119,
          5.1058154255101185,
          5.105815425510071
         ]
        },
        {
         "fillcolor": "#a7c9f5",
         "legendgroup": "D_Heat_HLI",
         "line": {
          "color": "#a7c9f5"
         },
         "mode": "lines",
         "name": "D_Heat_HLI",
         "showlegend": true,
         "stackgroup": "one",
         "type": "scatter",
         "x": [
          2018,
          2025,
          2030,
          2035,
          2040,
          2045,
          2050
         ],
         "y": [
          0,
          0,
          3.304683982289529,
          6.873360903427361,
          6.960576493513878,
          6.9605764935138765,
          6.9605764935138765
         ]
        },
        {
         "fillcolor": "#c8fa8a",
         "legendgroup": "D_Heat_HLR",
         "line": {
          "color": "#c8fa8a"
         },
         "mode": "lines",
         "name": "D_Heat_HLR",
         "showlegend": true,
         "stackgroup": "one",
         "type": "scatter",
         "x": [
          2018,
          2025,
          2030,
          2035,
          2040,
          2045,
          2050
         ],
         "y": [
          0,
          0,
          0,
          0,
          0,
          0,
          0
         ]
        },
        {
         "fillcolor": "#928df6",
         "legendgroup": "D_PHS_Residual",
         "line": {
          "color": "#928df6"
         },
         "mode": "lines",
         "name": "D_PHS_Residual",
         "showlegend": true,
         "stackgroup": "one",
         "type": "scatter",
         "x": [
          2018,
          2025,
          2030,
          2035,
          2040,
          2045,
          2050
         ],
         "y": [
          0,
          0,
          0,
          0,
          0,
          0,
          0
         ]
        }
       ],
       "layout": {
        "barmode": "stack",
        "font": {
         "size": 22
        },
        "height": 800,
        "template": {
         "data": {
          "bar": [
           {
            "error_x": {
             "color": "#2a3f5f"
            },
            "error_y": {
             "color": "#2a3f5f"
            },
            "marker": {
             "line": {
              "color": "#E5ECF6",
              "width": 0.5
             },
             "pattern": {
              "fillmode": "overlay",
              "size": 10,
              "solidity": 0.2
             }
            },
            "type": "bar"
           }
          ],
          "barpolar": [
           {
            "marker": {
             "line": {
              "color": "#E5ECF6",
              "width": 0.5
             },
             "pattern": {
              "fillmode": "overlay",
              "size": 10,
              "solidity": 0.2
             }
            },
            "type": "barpolar"
           }
          ],
          "carpet": [
           {
            "aaxis": {
             "endlinecolor": "#2a3f5f",
             "gridcolor": "white",
             "linecolor": "white",
             "minorgridcolor": "white",
             "startlinecolor": "#2a3f5f"
            },
            "baxis": {
             "endlinecolor": "#2a3f5f",
             "gridcolor": "white",
             "linecolor": "white",
             "minorgridcolor": "white",
             "startlinecolor": "#2a3f5f"
            },
            "type": "carpet"
           }
          ],
          "choropleth": [
           {
            "colorbar": {
             "outlinewidth": 0,
             "ticks": ""
            },
            "type": "choropleth"
           }
          ],
          "contour": [
           {
            "colorbar": {
             "outlinewidth": 0,
             "ticks": ""
            },
            "colorscale": [
             [
              0,
              "#0d0887"
             ],
             [
              0.1111111111111111,
              "#46039f"
             ],
             [
              0.2222222222222222,
              "#7201a8"
             ],
             [
              0.3333333333333333,
              "#9c179e"
             ],
             [
              0.4444444444444444,
              "#bd3786"
             ],
             [
              0.5555555555555556,
              "#d8576b"
             ],
             [
              0.6666666666666666,
              "#ed7953"
             ],
             [
              0.7777777777777778,
              "#fb9f3a"
             ],
             [
              0.8888888888888888,
              "#fdca26"
             ],
             [
              1,
              "#f0f921"
             ]
            ],
            "type": "contour"
           }
          ],
          "contourcarpet": [
           {
            "colorbar": {
             "outlinewidth": 0,
             "ticks": ""
            },
            "type": "contourcarpet"
           }
          ],
          "heatmap": [
           {
            "colorbar": {
             "outlinewidth": 0,
             "ticks": ""
            },
            "colorscale": [
             [
              0,
              "#0d0887"
             ],
             [
              0.1111111111111111,
              "#46039f"
             ],
             [
              0.2222222222222222,
              "#7201a8"
             ],
             [
              0.3333333333333333,
              "#9c179e"
             ],
             [
              0.4444444444444444,
              "#bd3786"
             ],
             [
              0.5555555555555556,
              "#d8576b"
             ],
             [
              0.6666666666666666,
              "#ed7953"
             ],
             [
              0.7777777777777778,
              "#fb9f3a"
             ],
             [
              0.8888888888888888,
              "#fdca26"
             ],
             [
              1,
              "#f0f921"
             ]
            ],
            "type": "heatmap"
           }
          ],
          "heatmapgl": [
           {
            "colorbar": {
             "outlinewidth": 0,
             "ticks": ""
            },
            "colorscale": [
             [
              0,
              "#0d0887"
             ],
             [
              0.1111111111111111,
              "#46039f"
             ],
             [
              0.2222222222222222,
              "#7201a8"
             ],
             [
              0.3333333333333333,
              "#9c179e"
             ],
             [
              0.4444444444444444,
              "#bd3786"
             ],
             [
              0.5555555555555556,
              "#d8576b"
             ],
             [
              0.6666666666666666,
              "#ed7953"
             ],
             [
              0.7777777777777778,
              "#fb9f3a"
             ],
             [
              0.8888888888888888,
              "#fdca26"
             ],
             [
              1,
              "#f0f921"
             ]
            ],
            "type": "heatmapgl"
           }
          ],
          "histogram": [
           {
            "marker": {
             "pattern": {
              "fillmode": "overlay",
              "size": 10,
              "solidity": 0.2
             }
            },
            "type": "histogram"
           }
          ],
          "histogram2d": [
           {
            "colorbar": {
             "outlinewidth": 0,
             "ticks": ""
            },
            "colorscale": [
             [
              0,
              "#0d0887"
             ],
             [
              0.1111111111111111,
              "#46039f"
             ],
             [
              0.2222222222222222,
              "#7201a8"
             ],
             [
              0.3333333333333333,
              "#9c179e"
             ],
             [
              0.4444444444444444,
              "#bd3786"
             ],
             [
              0.5555555555555556,
              "#d8576b"
             ],
             [
              0.6666666666666666,
              "#ed7953"
             ],
             [
              0.7777777777777778,
              "#fb9f3a"
             ],
             [
              0.8888888888888888,
              "#fdca26"
             ],
             [
              1,
              "#f0f921"
             ]
            ],
            "type": "histogram2d"
           }
          ],
          "histogram2dcontour": [
           {
            "colorbar": {
             "outlinewidth": 0,
             "ticks": ""
            },
            "colorscale": [
             [
              0,
              "#0d0887"
             ],
             [
              0.1111111111111111,
              "#46039f"
             ],
             [
              0.2222222222222222,
              "#7201a8"
             ],
             [
              0.3333333333333333,
              "#9c179e"
             ],
             [
              0.4444444444444444,
              "#bd3786"
             ],
             [
              0.5555555555555556,
              "#d8576b"
             ],
             [
              0.6666666666666666,
              "#ed7953"
             ],
             [
              0.7777777777777778,
              "#fb9f3a"
             ],
             [
              0.8888888888888888,
              "#fdca26"
             ],
             [
              1,
              "#f0f921"
             ]
            ],
            "type": "histogram2dcontour"
           }
          ],
          "mesh3d": [
           {
            "colorbar": {
             "outlinewidth": 0,
             "ticks": ""
            },
            "type": "mesh3d"
           }
          ],
          "parcoords": [
           {
            "line": {
             "colorbar": {
              "outlinewidth": 0,
              "ticks": ""
             }
            },
            "type": "parcoords"
           }
          ],
          "pie": [
           {
            "automargin": true,
            "type": "pie"
           }
          ],
          "scatter": [
           {
            "fillpattern": {
             "fillmode": "overlay",
             "size": 10,
             "solidity": 0.2
            },
            "type": "scatter"
           }
          ],
          "scatter3d": [
           {
            "line": {
             "colorbar": {
              "outlinewidth": 0,
              "ticks": ""
             }
            },
            "marker": {
             "colorbar": {
              "outlinewidth": 0,
              "ticks": ""
             }
            },
            "type": "scatter3d"
           }
          ],
          "scattercarpet": [
           {
            "marker": {
             "colorbar": {
              "outlinewidth": 0,
              "ticks": ""
             }
            },
            "type": "scattercarpet"
           }
          ],
          "scattergeo": [
           {
            "marker": {
             "colorbar": {
              "outlinewidth": 0,
              "ticks": ""
             }
            },
            "type": "scattergeo"
           }
          ],
          "scattergl": [
           {
            "marker": {
             "colorbar": {
              "outlinewidth": 0,
              "ticks": ""
             }
            },
            "type": "scattergl"
           }
          ],
          "scattermapbox": [
           {
            "marker": {
             "colorbar": {
              "outlinewidth": 0,
              "ticks": ""
             }
            },
            "type": "scattermapbox"
           }
          ],
          "scatterpolar": [
           {
            "marker": {
             "colorbar": {
              "outlinewidth": 0,
              "ticks": ""
             }
            },
            "type": "scatterpolar"
           }
          ],
          "scatterpolargl": [
           {
            "marker": {
             "colorbar": {
              "outlinewidth": 0,
              "ticks": ""
             }
            },
            "type": "scatterpolargl"
           }
          ],
          "scatterternary": [
           {
            "marker": {
             "colorbar": {
              "outlinewidth": 0,
              "ticks": ""
             }
            },
            "type": "scatterternary"
           }
          ],
          "surface": [
           {
            "colorbar": {
             "outlinewidth": 0,
             "ticks": ""
            },
            "colorscale": [
             [
              0,
              "#0d0887"
             ],
             [
              0.1111111111111111,
              "#46039f"
             ],
             [
              0.2222222222222222,
              "#7201a8"
             ],
             [
              0.3333333333333333,
              "#9c179e"
             ],
             [
              0.4444444444444444,
              "#bd3786"
             ],
             [
              0.5555555555555556,
              "#d8576b"
             ],
             [
              0.6666666666666666,
              "#ed7953"
             ],
             [
              0.7777777777777778,
              "#fb9f3a"
             ],
             [
              0.8888888888888888,
              "#fdca26"
             ],
             [
              1,
              "#f0f921"
             ]
            ],
            "type": "surface"
           }
          ],
          "table": [
           {
            "cells": {
             "fill": {
              "color": "#EBF0F8"
             },
             "line": {
              "color": "white"
             }
            },
            "header": {
             "fill": {
              "color": "#C8D4E3"
             },
             "line": {
              "color": "white"
             }
            },
            "type": "table"
           }
          ]
         },
         "layout": {
          "annotationdefaults": {
           "arrowcolor": "#2a3f5f",
           "arrowhead": 0,
           "arrowwidth": 1
          },
          "autotypenumbers": "strict",
          "coloraxis": {
           "colorbar": {
            "outlinewidth": 0,
            "ticks": ""
           }
          },
          "colorscale": {
           "diverging": [
            [
             0,
             "#8e0152"
            ],
            [
             0.1,
             "#c51b7d"
            ],
            [
             0.2,
             "#de77ae"
            ],
            [
             0.3,
             "#f1b6da"
            ],
            [
             0.4,
             "#fde0ef"
            ],
            [
             0.5,
             "#f7f7f7"
            ],
            [
             0.6,
             "#e6f5d0"
            ],
            [
             0.7,
             "#b8e186"
            ],
            [
             0.8,
             "#7fbc41"
            ],
            [
             0.9,
             "#4d9221"
            ],
            [
             1,
             "#276419"
            ]
           ],
           "sequential": [
            [
             0,
             "#0d0887"
            ],
            [
             0.1111111111111111,
             "#46039f"
            ],
            [
             0.2222222222222222,
             "#7201a8"
            ],
            [
             0.3333333333333333,
             "#9c179e"
            ],
            [
             0.4444444444444444,
             "#bd3786"
            ],
            [
             0.5555555555555556,
             "#d8576b"
            ],
            [
             0.6666666666666666,
             "#ed7953"
            ],
            [
             0.7777777777777778,
             "#fb9f3a"
            ],
            [
             0.8888888888888888,
             "#fdca26"
            ],
            [
             1,
             "#f0f921"
            ]
           ],
           "sequentialminus": [
            [
             0,
             "#0d0887"
            ],
            [
             0.1111111111111111,
             "#46039f"
            ],
            [
             0.2222222222222222,
             "#7201a8"
            ],
            [
             0.3333333333333333,
             "#9c179e"
            ],
            [
             0.4444444444444444,
             "#bd3786"
            ],
            [
             0.5555555555555556,
             "#d8576b"
            ],
            [
             0.6666666666666666,
             "#ed7953"
            ],
            [
             0.7777777777777778,
             "#fb9f3a"
            ],
            [
             0.8888888888888888,
             "#fdca26"
            ],
            [
             1,
             "#f0f921"
            ]
           ]
          },
          "colorway": [
           "#636efa",
           "#EF553B",
           "#00cc96",
           "#ab63fa",
           "#FFA15A",
           "#19d3f3",
           "#FF6692",
           "#B6E880",
           "#FF97FF",
           "#FECB52"
          ],
          "font": {
           "color": "#2a3f5f"
          },
          "geo": {
           "bgcolor": "white",
           "lakecolor": "white",
           "landcolor": "#E5ECF6",
           "showlakes": true,
           "showland": true,
           "subunitcolor": "white"
          },
          "hoverlabel": {
           "align": "left"
          },
          "hovermode": "closest",
          "mapbox": {
           "style": "light"
          },
          "paper_bgcolor": "white",
          "plot_bgcolor": "#E5ECF6",
          "polar": {
           "angularaxis": {
            "gridcolor": "white",
            "linecolor": "white",
            "ticks": ""
           },
           "bgcolor": "#E5ECF6",
           "radialaxis": {
            "gridcolor": "white",
            "linecolor": "white",
            "ticks": ""
           }
          },
          "scene": {
           "xaxis": {
            "backgroundcolor": "#E5ECF6",
            "gridcolor": "white",
            "gridwidth": 2,
            "linecolor": "white",
            "showbackground": true,
            "ticks": "",
            "zerolinecolor": "white"
           },
           "yaxis": {
            "backgroundcolor": "#E5ECF6",
            "gridcolor": "white",
            "gridwidth": 2,
            "linecolor": "white",
            "showbackground": true,
            "ticks": "",
            "zerolinecolor": "white"
           },
           "zaxis": {
            "backgroundcolor": "#E5ECF6",
            "gridcolor": "white",
            "gridwidth": 2,
            "linecolor": "white",
            "showbackground": true,
            "ticks": "",
            "zerolinecolor": "white"
           }
          },
          "shapedefaults": {
           "line": {
            "color": "#2a3f5f"
           }
          },
          "ternary": {
           "aaxis": {
            "gridcolor": "white",
            "linecolor": "white",
            "ticks": ""
           },
           "baxis": {
            "gridcolor": "white",
            "linecolor": "white",
            "ticks": ""
           },
           "bgcolor": "#E5ECF6",
           "caxis": {
            "gridcolor": "white",
            "linecolor": "white",
            "ticks": ""
           }
          },
          "title": {
           "x": 0.05
          },
          "xaxis": {
           "automargin": true,
           "gridcolor": "white",
           "linecolor": "white",
           "ticks": "",
           "title": {
            "standoff": 15
           },
           "zerolinecolor": "white",
           "zerolinewidth": 2
          },
          "yaxis": {
           "automargin": true,
           "gridcolor": "white",
           "linecolor": "white",
           "ticks": "",
           "title": {
            "standoff": 15
           },
           "zerolinecolor": "white",
           "zerolinewidth": 2
          }
         }
        },
        "title": {
         "text": "Storage Capacity All Regions - Season"
        },
        "width": 1400,
        "xaxis": {
         "title": {
          "text": "Year"
         }
        },
        "yaxis": {
         "title": {
          "text": "GW"
         }
        }
       }
      }
     },
     "metadata": {},
     "output_type": "display_data"
    }
   ],
   "source": [
    "storage_capacity_plotter = StackedQuantityEvolutionFacilitator(sol_path=SOLUTION_FILEPATH, region=\"All\")\n",
    "\n",
    "relevant_data = storage_capacity_plotter.get_relevant_data()\n",
    "#relevant_data.filter_by_containing_string(column=\"Technology\", identifier=\"D_\")\n",
    "#relevant_data.filter_by_list(column=\"Technology\", by_filter=[\"D_Heat_HLDH\", \"D_Heat_HLI\", \"D_Heat_HLB\", \n",
    "#                                                             \"D_Battery_Li-Ion\", \"D_Battery_Redox\", \"D_Heat_HLR\"])\n",
    "relevant_data.filter_by_containing_string(column=\"Technology\", identifier=\"D_\")\n",
    "relevant_data.aggreagate_all_by_sum(column_to_aggregate=\"Region\", aggregated_entry_name=\"All\", column_to_sum=\"Value\")\n",
    "\n",
    "fig = storage_capacity_plotter.plot(relevant_data)\n",
    "\n",
    "fig.update_layout(\n",
    "    width=1400,\n",
    "    height=800,\n",
    "    title=\"Storage Capacity All Regions\" + TITLE_ADDON,\n",
    "    yaxis_title=\"GW\",\n",
    "    xaxis_title=\"Year\",\n",
    ")\n",
    "\n",
    "#if WRITE_IMAGE:\n",
    "fig.write_image(\"StorageProductionAllRegions.pdf\" + TITLE_ADDON.replace(\" \", \"\") + \".png\")\n",
    "\n",
    "fig.show()"
   ]
  },
  {
   "cell_type": "markdown",
   "metadata": {},
   "source": [
    "### Hourly data"
   ]
  },
  {
   "cell_type": "code",
   "execution_count": 7,
   "metadata": {},
   "outputs": [
    {
     "data": {
      "application/vnd.plotly.v1+json": {
       "config": {
        "plotlyServerURL": "https://plot.ly"
       },
       "data": [
        {
         "marker": {
          "color": "#9dd8fa"
         },
         "name": "D_Heat_HLB",
         "showlegend": true,
         "type": "bar",
         "x": [
          "964",
          "964",
          "964",
          "964",
          "1928",
          "1928",
          "1928",
          "1928",
          "2892",
          "2892",
          "2892",
          "2892",
          "3856",
          "3856",
          "3856",
          "3856",
          "4820",
          "4820",
          "4820",
          "4820",
          "5784",
          "5784",
          "5784",
          "5784",
          "6748",
          "6748",
          "6748",
          "6748",
          "7712",
          "7712",
          "7712",
          "7712",
          "8676",
          "8676",
          "8676",
          "8676"
         ],
         "y": [
          0,
          4266.952763716125,
          0,
          0,
          9.87796185217018,
          1772.8521379738759,
          0,
          0,
          2003.970366594765,
          4.159101025170733,
          0,
          0,
          2416.266135439104,
          0,
          0,
          0,
          2747.417821232388,
          0,
          0,
          0,
          2469.3387593894477,
          0,
          0,
          0,
          1037.9121996881784,
          40.380655164512596,
          0,
          0,
          1.783482368386502,
          1482.0190709030728,
          0,
          0,
          3.1309466574445963,
          3123.3339444391268,
          0,
          0
         ]
        },
        {
         "marker": {
          "color": "#fafa9d"
         },
         "name": "D_Heat_HLDH",
         "showlegend": true,
         "type": "bar",
         "x": [
          "964",
          "964",
          "964",
          "964",
          "1928",
          "1928",
          "1928",
          "1928",
          "2892",
          "2892",
          "2892",
          "2892",
          "3856",
          "3856",
          "3856",
          "3856",
          "4820",
          "4820",
          "4820",
          "4820",
          "5784",
          "5784",
          "5784",
          "5784",
          "6748",
          "6748",
          "6748",
          "6748",
          "7712",
          "7712",
          "7712",
          "7712",
          "8676",
          "8676",
          "8676",
          "8676"
         ],
         "y": [
          0,
          44.72694312746823,
          0,
          0,
          0,
          43.96426276926906,
          0,
          0,
          42.31283831867443,
          0,
          0,
          0,
          39.05547390333855,
          1.7997130482488728,
          0,
          0,
          43.41132164446036,
          0,
          0,
          0,
          33.832653700035365,
          0,
          0,
          0,
          6.540933303740394,
          0,
          0,
          0,
          0,
          29.969353346291868,
          0,
          0,
          0,
          44.69294857897106,
          0,
          0
         ]
        },
        {
         "marker": {
          "color": "#a7c9f5"
         },
         "name": "D_Heat_HLI",
         "showlegend": true,
         "type": "bar",
         "x": [
          "964",
          "964",
          "964",
          "964",
          "1928",
          "1928",
          "1928",
          "1928",
          "2892",
          "2892",
          "2892",
          "2892",
          "3856",
          "3856",
          "3856",
          "3856",
          "4820",
          "4820",
          "4820",
          "4820",
          "5784",
          "5784",
          "5784",
          "5784",
          "6748",
          "6748",
          "6748",
          "6748",
          "7712",
          "7712",
          "7712",
          "7712",
          "8676",
          "8676",
          "8676",
          "8676"
         ],
         "y": [
          0,
          54.90542830464493,
          0,
          0,
          11.616804661600714,
          37.7552203592778,
          0,
          0,
          45.621198141871915,
          0,
          0,
          0,
          11.276041694817254,
          30.794113375845733,
          0,
          0,
          49.50449272142447,
          0,
          0,
          0,
          24.671889267699463,
          16.69360892038889,
          0,
          0,
          48.92531325826386,
          0,
          0,
          0,
          8.189694139128111,
          15.284772159383706,
          0,
          0,
          2.5767700215349043,
          46.94906078679965,
          0,
          0
         ]
        }
       ],
       "layout": {
        "barmode": "stack",
        "font": {
         "size": 16
        },
        "height": 800,
        "template": {
         "data": {
          "bar": [
           {
            "error_x": {
             "color": "#2a3f5f"
            },
            "error_y": {
             "color": "#2a3f5f"
            },
            "marker": {
             "line": {
              "color": "#E5ECF6",
              "width": 0.5
             },
             "pattern": {
              "fillmode": "overlay",
              "size": 10,
              "solidity": 0.2
             }
            },
            "type": "bar"
           }
          ],
          "barpolar": [
           {
            "marker": {
             "line": {
              "color": "#E5ECF6",
              "width": 0.5
             },
             "pattern": {
              "fillmode": "overlay",
              "size": 10,
              "solidity": 0.2
             }
            },
            "type": "barpolar"
           }
          ],
          "carpet": [
           {
            "aaxis": {
             "endlinecolor": "#2a3f5f",
             "gridcolor": "white",
             "linecolor": "white",
             "minorgridcolor": "white",
             "startlinecolor": "#2a3f5f"
            },
            "baxis": {
             "endlinecolor": "#2a3f5f",
             "gridcolor": "white",
             "linecolor": "white",
             "minorgridcolor": "white",
             "startlinecolor": "#2a3f5f"
            },
            "type": "carpet"
           }
          ],
          "choropleth": [
           {
            "colorbar": {
             "outlinewidth": 0,
             "ticks": ""
            },
            "type": "choropleth"
           }
          ],
          "contour": [
           {
            "colorbar": {
             "outlinewidth": 0,
             "ticks": ""
            },
            "colorscale": [
             [
              0,
              "#0d0887"
             ],
             [
              0.1111111111111111,
              "#46039f"
             ],
             [
              0.2222222222222222,
              "#7201a8"
             ],
             [
              0.3333333333333333,
              "#9c179e"
             ],
             [
              0.4444444444444444,
              "#bd3786"
             ],
             [
              0.5555555555555556,
              "#d8576b"
             ],
             [
              0.6666666666666666,
              "#ed7953"
             ],
             [
              0.7777777777777778,
              "#fb9f3a"
             ],
             [
              0.8888888888888888,
              "#fdca26"
             ],
             [
              1,
              "#f0f921"
             ]
            ],
            "type": "contour"
           }
          ],
          "contourcarpet": [
           {
            "colorbar": {
             "outlinewidth": 0,
             "ticks": ""
            },
            "type": "contourcarpet"
           }
          ],
          "heatmap": [
           {
            "colorbar": {
             "outlinewidth": 0,
             "ticks": ""
            },
            "colorscale": [
             [
              0,
              "#0d0887"
             ],
             [
              0.1111111111111111,
              "#46039f"
             ],
             [
              0.2222222222222222,
              "#7201a8"
             ],
             [
              0.3333333333333333,
              "#9c179e"
             ],
             [
              0.4444444444444444,
              "#bd3786"
             ],
             [
              0.5555555555555556,
              "#d8576b"
             ],
             [
              0.6666666666666666,
              "#ed7953"
             ],
             [
              0.7777777777777778,
              "#fb9f3a"
             ],
             [
              0.8888888888888888,
              "#fdca26"
             ],
             [
              1,
              "#f0f921"
             ]
            ],
            "type": "heatmap"
           }
          ],
          "heatmapgl": [
           {
            "colorbar": {
             "outlinewidth": 0,
             "ticks": ""
            },
            "colorscale": [
             [
              0,
              "#0d0887"
             ],
             [
              0.1111111111111111,
              "#46039f"
             ],
             [
              0.2222222222222222,
              "#7201a8"
             ],
             [
              0.3333333333333333,
              "#9c179e"
             ],
             [
              0.4444444444444444,
              "#bd3786"
             ],
             [
              0.5555555555555556,
              "#d8576b"
             ],
             [
              0.6666666666666666,
              "#ed7953"
             ],
             [
              0.7777777777777778,
              "#fb9f3a"
             ],
             [
              0.8888888888888888,
              "#fdca26"
             ],
             [
              1,
              "#f0f921"
             ]
            ],
            "type": "heatmapgl"
           }
          ],
          "histogram": [
           {
            "marker": {
             "pattern": {
              "fillmode": "overlay",
              "size": 10,
              "solidity": 0.2
             }
            },
            "type": "histogram"
           }
          ],
          "histogram2d": [
           {
            "colorbar": {
             "outlinewidth": 0,
             "ticks": ""
            },
            "colorscale": [
             [
              0,
              "#0d0887"
             ],
             [
              0.1111111111111111,
              "#46039f"
             ],
             [
              0.2222222222222222,
              "#7201a8"
             ],
             [
              0.3333333333333333,
              "#9c179e"
             ],
             [
              0.4444444444444444,
              "#bd3786"
             ],
             [
              0.5555555555555556,
              "#d8576b"
             ],
             [
              0.6666666666666666,
              "#ed7953"
             ],
             [
              0.7777777777777778,
              "#fb9f3a"
             ],
             [
              0.8888888888888888,
              "#fdca26"
             ],
             [
              1,
              "#f0f921"
             ]
            ],
            "type": "histogram2d"
           }
          ],
          "histogram2dcontour": [
           {
            "colorbar": {
             "outlinewidth": 0,
             "ticks": ""
            },
            "colorscale": [
             [
              0,
              "#0d0887"
             ],
             [
              0.1111111111111111,
              "#46039f"
             ],
             [
              0.2222222222222222,
              "#7201a8"
             ],
             [
              0.3333333333333333,
              "#9c179e"
             ],
             [
              0.4444444444444444,
              "#bd3786"
             ],
             [
              0.5555555555555556,
              "#d8576b"
             ],
             [
              0.6666666666666666,
              "#ed7953"
             ],
             [
              0.7777777777777778,
              "#fb9f3a"
             ],
             [
              0.8888888888888888,
              "#fdca26"
             ],
             [
              1,
              "#f0f921"
             ]
            ],
            "type": "histogram2dcontour"
           }
          ],
          "mesh3d": [
           {
            "colorbar": {
             "outlinewidth": 0,
             "ticks": ""
            },
            "type": "mesh3d"
           }
          ],
          "parcoords": [
           {
            "line": {
             "colorbar": {
              "outlinewidth": 0,
              "ticks": ""
             }
            },
            "type": "parcoords"
           }
          ],
          "pie": [
           {
            "automargin": true,
            "type": "pie"
           }
          ],
          "scatter": [
           {
            "fillpattern": {
             "fillmode": "overlay",
             "size": 10,
             "solidity": 0.2
            },
            "type": "scatter"
           }
          ],
          "scatter3d": [
           {
            "line": {
             "colorbar": {
              "outlinewidth": 0,
              "ticks": ""
             }
            },
            "marker": {
             "colorbar": {
              "outlinewidth": 0,
              "ticks": ""
             }
            },
            "type": "scatter3d"
           }
          ],
          "scattercarpet": [
           {
            "marker": {
             "colorbar": {
              "outlinewidth": 0,
              "ticks": ""
             }
            },
            "type": "scattercarpet"
           }
          ],
          "scattergeo": [
           {
            "marker": {
             "colorbar": {
              "outlinewidth": 0,
              "ticks": ""
             }
            },
            "type": "scattergeo"
           }
          ],
          "scattergl": [
           {
            "marker": {
             "colorbar": {
              "outlinewidth": 0,
              "ticks": ""
             }
            },
            "type": "scattergl"
           }
          ],
          "scattermapbox": [
           {
            "marker": {
             "colorbar": {
              "outlinewidth": 0,
              "ticks": ""
             }
            },
            "type": "scattermapbox"
           }
          ],
          "scatterpolar": [
           {
            "marker": {
             "colorbar": {
              "outlinewidth": 0,
              "ticks": ""
             }
            },
            "type": "scatterpolar"
           }
          ],
          "scatterpolargl": [
           {
            "marker": {
             "colorbar": {
              "outlinewidth": 0,
              "ticks": ""
             }
            },
            "type": "scatterpolargl"
           }
          ],
          "scatterternary": [
           {
            "marker": {
             "colorbar": {
              "outlinewidth": 0,
              "ticks": ""
             }
            },
            "type": "scatterternary"
           }
          ],
          "surface": [
           {
            "colorbar": {
             "outlinewidth": 0,
             "ticks": ""
            },
            "colorscale": [
             [
              0,
              "#0d0887"
             ],
             [
              0.1111111111111111,
              "#46039f"
             ],
             [
              0.2222222222222222,
              "#7201a8"
             ],
             [
              0.3333333333333333,
              "#9c179e"
             ],
             [
              0.4444444444444444,
              "#bd3786"
             ],
             [
              0.5555555555555556,
              "#d8576b"
             ],
             [
              0.6666666666666666,
              "#ed7953"
             ],
             [
              0.7777777777777778,
              "#fb9f3a"
             ],
             [
              0.8888888888888888,
              "#fdca26"
             ],
             [
              1,
              "#f0f921"
             ]
            ],
            "type": "surface"
           }
          ],
          "table": [
           {
            "cells": {
             "fill": {
              "color": "#EBF0F8"
             },
             "line": {
              "color": "white"
             }
            },
            "header": {
             "fill": {
              "color": "#C8D4E3"
             },
             "line": {
              "color": "white"
             }
            },
            "type": "table"
           }
          ]
         },
         "layout": {
          "annotationdefaults": {
           "arrowcolor": "#2a3f5f",
           "arrowhead": 0,
           "arrowwidth": 1
          },
          "autotypenumbers": "strict",
          "coloraxis": {
           "colorbar": {
            "outlinewidth": 0,
            "ticks": ""
           }
          },
          "colorscale": {
           "diverging": [
            [
             0,
             "#8e0152"
            ],
            [
             0.1,
             "#c51b7d"
            ],
            [
             0.2,
             "#de77ae"
            ],
            [
             0.3,
             "#f1b6da"
            ],
            [
             0.4,
             "#fde0ef"
            ],
            [
             0.5,
             "#f7f7f7"
            ],
            [
             0.6,
             "#e6f5d0"
            ],
            [
             0.7,
             "#b8e186"
            ],
            [
             0.8,
             "#7fbc41"
            ],
            [
             0.9,
             "#4d9221"
            ],
            [
             1,
             "#276419"
            ]
           ],
           "sequential": [
            [
             0,
             "#0d0887"
            ],
            [
             0.1111111111111111,
             "#46039f"
            ],
            [
             0.2222222222222222,
             "#7201a8"
            ],
            [
             0.3333333333333333,
             "#9c179e"
            ],
            [
             0.4444444444444444,
             "#bd3786"
            ],
            [
             0.5555555555555556,
             "#d8576b"
            ],
            [
             0.6666666666666666,
             "#ed7953"
            ],
            [
             0.7777777777777778,
             "#fb9f3a"
            ],
            [
             0.8888888888888888,
             "#fdca26"
            ],
            [
             1,
             "#f0f921"
            ]
           ],
           "sequentialminus": [
            [
             0,
             "#0d0887"
            ],
            [
             0.1111111111111111,
             "#46039f"
            ],
            [
             0.2222222222222222,
             "#7201a8"
            ],
            [
             0.3333333333333333,
             "#9c179e"
            ],
            [
             0.4444444444444444,
             "#bd3786"
            ],
            [
             0.5555555555555556,
             "#d8576b"
            ],
            [
             0.6666666666666666,
             "#ed7953"
            ],
            [
             0.7777777777777778,
             "#fb9f3a"
            ],
            [
             0.8888888888888888,
             "#fdca26"
            ],
            [
             1,
             "#f0f921"
            ]
           ]
          },
          "colorway": [
           "#636efa",
           "#EF553B",
           "#00cc96",
           "#ab63fa",
           "#FFA15A",
           "#19d3f3",
           "#FF6692",
           "#B6E880",
           "#FF97FF",
           "#FECB52"
          ],
          "font": {
           "color": "#2a3f5f"
          },
          "geo": {
           "bgcolor": "white",
           "lakecolor": "white",
           "landcolor": "#E5ECF6",
           "showlakes": true,
           "showland": true,
           "subunitcolor": "white"
          },
          "hoverlabel": {
           "align": "left"
          },
          "hovermode": "closest",
          "mapbox": {
           "style": "light"
          },
          "paper_bgcolor": "white",
          "plot_bgcolor": "#E5ECF6",
          "polar": {
           "angularaxis": {
            "gridcolor": "white",
            "linecolor": "white",
            "ticks": ""
           },
           "bgcolor": "#E5ECF6",
           "radialaxis": {
            "gridcolor": "white",
            "linecolor": "white",
            "ticks": ""
           }
          },
          "scene": {
           "xaxis": {
            "backgroundcolor": "#E5ECF6",
            "gridcolor": "white",
            "gridwidth": 2,
            "linecolor": "white",
            "showbackground": true,
            "ticks": "",
            "zerolinecolor": "white"
           },
           "yaxis": {
            "backgroundcolor": "#E5ECF6",
            "gridcolor": "white",
            "gridwidth": 2,
            "linecolor": "white",
            "showbackground": true,
            "ticks": "",
            "zerolinecolor": "white"
           },
           "zaxis": {
            "backgroundcolor": "#E5ECF6",
            "gridcolor": "white",
            "gridwidth": 2,
            "linecolor": "white",
            "showbackground": true,
            "ticks": "",
            "zerolinecolor": "white"
           }
          },
          "shapedefaults": {
           "line": {
            "color": "#2a3f5f"
           }
          },
          "ternary": {
           "aaxis": {
            "gridcolor": "white",
            "linecolor": "white",
            "ticks": ""
           },
           "baxis": {
            "gridcolor": "white",
            "linecolor": "white",
            "ticks": ""
           },
           "bgcolor": "#E5ECF6",
           "caxis": {
            "gridcolor": "white",
            "linecolor": "white",
            "ticks": ""
           }
          },
          "title": {
           "x": 0.05
          },
          "xaxis": {
           "automargin": true,
           "gridcolor": "white",
           "linecolor": "white",
           "ticks": "",
           "title": {
            "standoff": 15
           },
           "zerolinecolor": "white",
           "zerolinewidth": 2
          },
          "yaxis": {
           "automargin": true,
           "gridcolor": "white",
           "linecolor": "white",
           "ticks": "",
           "title": {
            "standoff": 15
           },
           "zerolinecolor": "white",
           "zerolinewidth": 2
          }
         }
        },
        "title": {
         "text": "Hourly Storage Tech Activity All Regions - Season"
        },
        "width": 1400,
        "xaxis": {
         "title": {
          "text": "Hour"
         }
        },
        "yaxis": {
         "title": {
          "text": "Rate of Activity [TWh]"
         }
        }
       }
      }
     },
     "metadata": {},
     "output_type": "display_data"
    }
   ],
   "source": [
    "tech_activity_hourly_facilitation = HourlyTechActivityRateFacilitator(sol_path=SOLUTION_FILEPATH, region=\"All\", year=2050)\n",
    "\n",
    "relevant_data = tech_activity_hourly_facilitation.get_relevant_data()\n",
    "\n",
    "relevant_data.filter_by_list(column=\"Technology\", by_filter=[\"D_Heat_HLDH\", \"D_Heat_HLI\", \"D_Heat_HLB\"])\n",
    "relevant_data.aggreagate_all_by_sum(column_to_aggregate=\"Region\", aggregated_entry_name=\"All\", column_to_sum=\"Value\")\n",
    "\n",
    "fig = tech_activity_hourly_facilitation.plot(relevant_data)\n",
    "\n",
    "fig.update_layout(title=\"Hourly Storage Tech Activity All Regions\" + TITLE_ADDON, height=800, width=1400, font=dict(size=16))\n",
    "\n",
    "if WRITE_IMAGE:\n",
    "    fig.write_image(\"HourlyTechActivityAllRegions.pdf\" + TITLE_ADDON.replace(\" \", \"\") + \".png\")\n",
    "\n",
    "fig.show()"
   ]
  },
  {
   "cell_type": "markdown",
   "metadata": {},
   "source": [
    "### Production of fuel by technology"
   ]
  },
  {
   "cell_type": "code",
   "execution_count": 8,
   "metadata": {},
   "outputs": [
    {
     "data": {
      "application/vnd.plotly.v1+json": {
       "config": {
        "plotlyServerURL": "https://plot.ly"
       },
       "data": [
        {
         "fillcolor": "#9cf881",
         "legendgroup": "CHP_Biomass_Solid -> Heat_District",
         "line": {
          "color": "#9cf881"
         },
         "name": "CHP_Biomass_Solid -> Heat_District",
         "showlegend": true,
         "stackgroup": "one",
         "type": "scatter",
         "x": [
          2018
         ],
         "y": [
          360.40848303630645
         ]
        },
        {
         "fillcolor": "#9cf881",
         "legendgroup": "CHP_Biomass_Solid -> Heat_District",
         "line": {
          "color": "#9cf881"
         },
         "name": "CHP_Biomass_Solid -> Heat_District",
         "showlegend": false,
         "stackgroup": "one",
         "type": "scatter",
         "x": [
          2025
         ],
         "y": [
          418.4960684649934
         ]
        },
        {
         "fillcolor": "#9cf881",
         "legendgroup": "CHP_Biomass_Solid -> Heat_District",
         "line": {
          "color": "#9cf881"
         },
         "name": "CHP_Biomass_Solid -> Heat_District",
         "showlegend": false,
         "stackgroup": "one",
         "type": "scatter",
         "x": [
          2030
         ],
         "y": [
          250.99457857243684
         ]
        },
        {
         "fillcolor": "#9cf881",
         "legendgroup": "CHP_Biomass_Solid -> Heat_District",
         "line": {
          "color": "#9cf881"
         },
         "name": "CHP_Biomass_Solid -> Heat_District",
         "showlegend": false,
         "stackgroup": "one",
         "type": "scatter",
         "x": [
          2035
         ],
         "y": [
          113.79293521298094
         ]
        },
        {
         "fillcolor": "#9cf881",
         "legendgroup": "CHP_Biomass_Solid -> Heat_District",
         "line": {
          "color": "#9cf881"
         },
         "name": "CHP_Biomass_Solid -> Heat_District",
         "showlegend": false,
         "stackgroup": "one",
         "type": "scatter",
         "x": [
          2040
         ],
         "y": [
          107.90247932133256
         ]
        },
        {
         "fillcolor": "#9cf881",
         "legendgroup": "CHP_Biomass_Solid -> Heat_District",
         "line": {
          "color": "#9cf881"
         },
         "name": "CHP_Biomass_Solid -> Heat_District",
         "showlegend": false,
         "stackgroup": "one",
         "type": "scatter",
         "x": [
          2045
         ],
         "y": [
          117.07981182529109
         ]
        },
        {
         "fillcolor": "#9cf881",
         "legendgroup": "CHP_Biomass_Solid -> Heat_District",
         "line": {
          "color": "#9cf881"
         },
         "name": "CHP_Biomass_Solid -> Heat_District",
         "showlegend": false,
         "stackgroup": "one",
         "type": "scatter",
         "x": [
          2050
         ],
         "y": [
          123.53772767261334
         ]
        },
        {
         "fillcolor": "#b2f1af",
         "legendgroup": "CHP_Coal_Hardcoal -> Heat_District",
         "line": {
          "color": "#b2f1af"
         },
         "name": "CHP_Coal_Hardcoal -> Heat_District",
         "showlegend": true,
         "stackgroup": "one",
         "type": "scatter",
         "x": [
          2018
         ],
         "y": [
          160.53414698408403
         ]
        },
        {
         "fillcolor": "#b2f1af",
         "legendgroup": "CHP_Coal_Hardcoal -> Heat_District",
         "line": {
          "color": "#b2f1af"
         },
         "name": "CHP_Coal_Hardcoal -> Heat_District",
         "showlegend": false,
         "stackgroup": "one",
         "type": "scatter",
         "x": [
          2025
         ],
         "y": [
          48.534869101998304
         ]
        },
        {
         "fillcolor": "#b2f1af",
         "legendgroup": "CHP_Coal_Hardcoal -> Heat_District",
         "line": {
          "color": "#b2f1af"
         },
         "name": "CHP_Coal_Hardcoal -> Heat_District",
         "showlegend": false,
         "stackgroup": "one",
         "type": "scatter",
         "x": [
          2030
         ],
         "y": [
          0
         ]
        },
        {
         "fillcolor": "#b2f1af",
         "legendgroup": "CHP_Coal_Hardcoal -> Heat_District",
         "line": {
          "color": "#b2f1af"
         },
         "name": "CHP_Coal_Hardcoal -> Heat_District",
         "showlegend": false,
         "stackgroup": "one",
         "type": "scatter",
         "x": [
          2035
         ],
         "y": [
          0
         ]
        },
        {
         "fillcolor": "#b2f1af",
         "legendgroup": "CHP_Coal_Hardcoal -> Heat_District",
         "line": {
          "color": "#b2f1af"
         },
         "name": "CHP_Coal_Hardcoal -> Heat_District",
         "showlegend": false,
         "stackgroup": "one",
         "type": "scatter",
         "x": [
          2040
         ],
         "y": [
          0
         ]
        },
        {
         "fillcolor": "#b2f1af",
         "legendgroup": "CHP_Coal_Hardcoal -> Heat_District",
         "line": {
          "color": "#b2f1af"
         },
         "name": "CHP_Coal_Hardcoal -> Heat_District",
         "showlegend": false,
         "stackgroup": "one",
         "type": "scatter",
         "x": [
          2045
         ],
         "y": [
          0
         ]
        },
        {
         "fillcolor": "#b2f1af",
         "legendgroup": "CHP_Coal_Hardcoal -> Heat_District",
         "line": {
          "color": "#b2f1af"
         },
         "name": "CHP_Coal_Hardcoal -> Heat_District",
         "showlegend": false,
         "stackgroup": "one",
         "type": "scatter",
         "x": [
          2050
         ],
         "y": [
          0
         ]
        },
        {
         "fillcolor": "#85f6f9",
         "legendgroup": "CHP_Coal_Lignite -> Heat_District",
         "line": {
          "color": "#85f6f9"
         },
         "name": "CHP_Coal_Lignite -> Heat_District",
         "showlegend": true,
         "stackgroup": "one",
         "type": "scatter",
         "x": [
          2018
         ],
         "y": [
          2.3915743254823933
         ]
        },
        {
         "fillcolor": "#85f6f9",
         "legendgroup": "CHP_Coal_Lignite -> Heat_District",
         "line": {
          "color": "#85f6f9"
         },
         "name": "CHP_Coal_Lignite -> Heat_District",
         "showlegend": false,
         "stackgroup": "one",
         "type": "scatter",
         "x": [
          2025
         ],
         "y": [
          4.281166536811483
         ]
        },
        {
         "fillcolor": "#85f6f9",
         "legendgroup": "CHP_Coal_Lignite -> Heat_District",
         "line": {
          "color": "#85f6f9"
         },
         "name": "CHP_Coal_Lignite -> Heat_District",
         "showlegend": false,
         "stackgroup": "one",
         "type": "scatter",
         "x": [
          2030
         ],
         "y": [
          0
         ]
        },
        {
         "fillcolor": "#85f6f9",
         "legendgroup": "CHP_Coal_Lignite -> Heat_District",
         "line": {
          "color": "#85f6f9"
         },
         "name": "CHP_Coal_Lignite -> Heat_District",
         "showlegend": false,
         "stackgroup": "one",
         "type": "scatter",
         "x": [
          2035
         ],
         "y": [
          0
         ]
        },
        {
         "fillcolor": "#85f6f9",
         "legendgroup": "CHP_Coal_Lignite -> Heat_District",
         "line": {
          "color": "#85f6f9"
         },
         "name": "CHP_Coal_Lignite -> Heat_District",
         "showlegend": false,
         "stackgroup": "one",
         "type": "scatter",
         "x": [
          2040
         ],
         "y": [
          0
         ]
        },
        {
         "fillcolor": "#85f6f9",
         "legendgroup": "CHP_Coal_Lignite -> Heat_District",
         "line": {
          "color": "#85f6f9"
         },
         "name": "CHP_Coal_Lignite -> Heat_District",
         "showlegend": false,
         "stackgroup": "one",
         "type": "scatter",
         "x": [
          2045
         ],
         "y": [
          0
         ]
        },
        {
         "fillcolor": "#85f6f9",
         "legendgroup": "CHP_Coal_Lignite -> Heat_District",
         "line": {
          "color": "#85f6f9"
         },
         "name": "CHP_Coal_Lignite -> Heat_District",
         "showlegend": false,
         "stackgroup": "one",
         "type": "scatter",
         "x": [
          2050
         ],
         "y": [
          0
         ]
        },
        {
         "fillcolor": "#f1c1d8",
         "legendgroup": "CHP_Gas_CCGT_Natural -> Heat_District",
         "line": {
          "color": "#f1c1d8"
         },
         "name": "CHP_Gas_CCGT_Natural -> Heat_District",
         "showlegend": true,
         "stackgroup": "one",
         "type": "scatter",
         "x": [
          2018
         ],
         "y": [
          445.20556064513806
         ]
        },
        {
         "fillcolor": "#f1c1d8",
         "legendgroup": "CHP_Gas_CCGT_Natural -> Heat_District",
         "line": {
          "color": "#f1c1d8"
         },
         "name": "CHP_Gas_CCGT_Natural -> Heat_District",
         "showlegend": false,
         "stackgroup": "one",
         "type": "scatter",
         "x": [
          2025
         ],
         "y": [
          349.555168844238
         ]
        },
        {
         "fillcolor": "#f1c1d8",
         "legendgroup": "CHP_Gas_CCGT_Natural -> Heat_District",
         "line": {
          "color": "#f1c1d8"
         },
         "name": "CHP_Gas_CCGT_Natural -> Heat_District",
         "showlegend": false,
         "stackgroup": "one",
         "type": "scatter",
         "x": [
          2030
         ],
         "y": [
          144.3174617619173
         ]
        },
        {
         "fillcolor": "#f1c1d8",
         "legendgroup": "CHP_Gas_CCGT_Natural -> Heat_District",
         "line": {
          "color": "#f1c1d8"
         },
         "name": "CHP_Gas_CCGT_Natural -> Heat_District",
         "showlegend": false,
         "stackgroup": "one",
         "type": "scatter",
         "x": [
          2035
         ],
         "y": [
          0
         ]
        },
        {
         "fillcolor": "#f1c1d8",
         "legendgroup": "CHP_Gas_CCGT_Natural -> Heat_District",
         "line": {
          "color": "#f1c1d8"
         },
         "name": "CHP_Gas_CCGT_Natural -> Heat_District",
         "showlegend": false,
         "stackgroup": "one",
         "type": "scatter",
         "x": [
          2040
         ],
         "y": [
          0
         ]
        },
        {
         "fillcolor": "#f1c1d8",
         "legendgroup": "CHP_Gas_CCGT_Natural -> Heat_District",
         "line": {
          "color": "#f1c1d8"
         },
         "name": "CHP_Gas_CCGT_Natural -> Heat_District",
         "showlegend": false,
         "stackgroup": "one",
         "type": "scatter",
         "x": [
          2045
         ],
         "y": [
          0
         ]
        },
        {
         "fillcolor": "#f1c1d8",
         "legendgroup": "CHP_Gas_CCGT_Natural -> Heat_District",
         "line": {
          "color": "#f1c1d8"
         },
         "name": "CHP_Gas_CCGT_Natural -> Heat_District",
         "showlegend": false,
         "stackgroup": "one",
         "type": "scatter",
         "x": [
          2050
         ],
         "y": [
          0
         ]
        },
        {
         "fillcolor": "#e1b7f2",
         "legendgroup": "CHP_Gas_CCGT_SynGas -> Heat_District",
         "line": {
          "color": "#e1b7f2"
         },
         "name": "CHP_Gas_CCGT_SynGas -> Heat_District",
         "showlegend": true,
         "stackgroup": "one",
         "type": "scatter",
         "x": [
          2018
         ],
         "y": [
          0
         ]
        },
        {
         "fillcolor": "#e1b7f2",
         "legendgroup": "CHP_Gas_CCGT_SynGas -> Heat_District",
         "line": {
          "color": "#e1b7f2"
         },
         "name": "CHP_Gas_CCGT_SynGas -> Heat_District",
         "showlegend": false,
         "stackgroup": "one",
         "type": "scatter",
         "x": [
          2025
         ],
         "y": [
          0
         ]
        },
        {
         "fillcolor": "#e1b7f2",
         "legendgroup": "CHP_Gas_CCGT_SynGas -> Heat_District",
         "line": {
          "color": "#e1b7f2"
         },
         "name": "CHP_Gas_CCGT_SynGas -> Heat_District",
         "showlegend": false,
         "stackgroup": "one",
         "type": "scatter",
         "x": [
          2030
         ],
         "y": [
          0
         ]
        },
        {
         "fillcolor": "#e1b7f2",
         "legendgroup": "CHP_Gas_CCGT_SynGas -> Heat_District",
         "line": {
          "color": "#e1b7f2"
         },
         "name": "CHP_Gas_CCGT_SynGas -> Heat_District",
         "showlegend": false,
         "stackgroup": "one",
         "type": "scatter",
         "x": [
          2035
         ],
         "y": [
          0
         ]
        },
        {
         "fillcolor": "#e1b7f2",
         "legendgroup": "CHP_Gas_CCGT_SynGas -> Heat_District",
         "line": {
          "color": "#e1b7f2"
         },
         "name": "CHP_Gas_CCGT_SynGas -> Heat_District",
         "showlegend": false,
         "stackgroup": "one",
         "type": "scatter",
         "x": [
          2040
         ],
         "y": [
          2.316040913888037
         ]
        },
        {
         "fillcolor": "#e1b7f2",
         "legendgroup": "CHP_Gas_CCGT_SynGas -> Heat_District",
         "line": {
          "color": "#e1b7f2"
         },
         "name": "CHP_Gas_CCGT_SynGas -> Heat_District",
         "showlegend": false,
         "stackgroup": "one",
         "type": "scatter",
         "x": [
          2045
         ],
         "y": [
          18.60782482353288
         ]
        },
        {
         "fillcolor": "#e1b7f2",
         "legendgroup": "CHP_Gas_CCGT_SynGas -> Heat_District",
         "line": {
          "color": "#e1b7f2"
         },
         "name": "CHP_Gas_CCGT_SynGas -> Heat_District",
         "showlegend": false,
         "stackgroup": "one",
         "type": "scatter",
         "x": [
          2050
         ],
         "y": [
          88.79549566897798
         ]
        },
        {
         "fillcolor": "#f4a8de",
         "legendgroup": "CHP_Hydrogen_FuelCell -> Heat_District",
         "line": {
          "color": "#f4a8de"
         },
         "name": "CHP_Hydrogen_FuelCell -> Heat_District",
         "showlegend": true,
         "stackgroup": "one",
         "type": "scatter",
         "x": [
          2018
         ],
         "y": [
          0
         ]
        },
        {
         "fillcolor": "#f4a8de",
         "legendgroup": "CHP_Hydrogen_FuelCell -> Heat_District",
         "line": {
          "color": "#f4a8de"
         },
         "name": "CHP_Hydrogen_FuelCell -> Heat_District",
         "showlegend": false,
         "stackgroup": "one",
         "type": "scatter",
         "x": [
          2025
         ],
         "y": [
          0
         ]
        },
        {
         "fillcolor": "#f4a8de",
         "legendgroup": "CHP_Hydrogen_FuelCell -> Heat_District",
         "line": {
          "color": "#f4a8de"
         },
         "name": "CHP_Hydrogen_FuelCell -> Heat_District",
         "showlegend": false,
         "stackgroup": "one",
         "type": "scatter",
         "x": [
          2030
         ],
         "y": [
          0
         ]
        },
        {
         "fillcolor": "#f4a8de",
         "legendgroup": "CHP_Hydrogen_FuelCell -> Heat_District",
         "line": {
          "color": "#f4a8de"
         },
         "name": "CHP_Hydrogen_FuelCell -> Heat_District",
         "showlegend": false,
         "stackgroup": "one",
         "type": "scatter",
         "x": [
          2035
         ],
         "y": [
          14.055971477339723
         ]
        },
        {
         "fillcolor": "#f4a8de",
         "legendgroup": "CHP_Hydrogen_FuelCell -> Heat_District",
         "line": {
          "color": "#f4a8de"
         },
         "name": "CHP_Hydrogen_FuelCell -> Heat_District",
         "showlegend": false,
         "stackgroup": "one",
         "type": "scatter",
         "x": [
          2040
         ],
         "y": [
          15.5124312739287
         ]
        },
        {
         "fillcolor": "#f4a8de",
         "legendgroup": "CHP_Hydrogen_FuelCell -> Heat_District",
         "line": {
          "color": "#f4a8de"
         },
         "name": "CHP_Hydrogen_FuelCell -> Heat_District",
         "showlegend": false,
         "stackgroup": "one",
         "type": "scatter",
         "x": [
          2045
         ],
         "y": [
          18.38676633603692
         ]
        },
        {
         "fillcolor": "#f4a8de",
         "legendgroup": "CHP_Hydrogen_FuelCell -> Heat_District",
         "line": {
          "color": "#f4a8de"
         },
         "name": "CHP_Hydrogen_FuelCell -> Heat_District",
         "showlegend": false,
         "stackgroup": "one",
         "type": "scatter",
         "x": [
          2050
         ],
         "y": [
          8.620507584925827
         ]
        },
        {
         "fillcolor": "#fbb286",
         "legendgroup": "D_Heat_HLDH -> Heat_District",
         "line": {
          "color": "#fbb286"
         },
         "name": "D_Heat_HLDH -> Heat_District",
         "showlegend": true,
         "stackgroup": "one",
         "type": "scatter",
         "x": [
          2018
         ],
         "y": [
          0
         ]
        },
        {
         "fillcolor": "#fbb286",
         "legendgroup": "D_Heat_HLDH -> Heat_District",
         "line": {
          "color": "#fbb286"
         },
         "name": "D_Heat_HLDH -> Heat_District",
         "showlegend": false,
         "stackgroup": "one",
         "type": "scatter",
         "x": [
          2025
         ],
         "y": [
          0
         ]
        },
        {
         "fillcolor": "#fbb286",
         "legendgroup": "D_Heat_HLDH -> Heat_District",
         "line": {
          "color": "#fbb286"
         },
         "name": "D_Heat_HLDH -> Heat_District",
         "showlegend": false,
         "stackgroup": "one",
         "type": "scatter",
         "x": [
          2030
         ],
         "y": [
          5.123418013390447
         ]
        },
        {
         "fillcolor": "#fbb286",
         "legendgroup": "D_Heat_HLDH -> Heat_District",
         "line": {
          "color": "#fbb286"
         },
         "name": "D_Heat_HLDH -> Heat_District",
         "showlegend": false,
         "stackgroup": "one",
         "type": "scatter",
         "x": [
          2035
         ],
         "y": [
          19.48433889888851
         ]
        },
        {
         "fillcolor": "#fbb286",
         "legendgroup": "D_Heat_HLDH -> Heat_District",
         "line": {
          "color": "#fbb286"
         },
         "name": "D_Heat_HLDH -> Heat_District",
         "showlegend": false,
         "stackgroup": "one",
         "type": "scatter",
         "x": [
          2040
         ],
         "y": [
          19.348283599454007
         ]
        },
        {
         "fillcolor": "#fbb286",
         "legendgroup": "D_Heat_HLDH -> Heat_District",
         "line": {
          "color": "#fbb286"
         },
         "name": "D_Heat_HLDH -> Heat_District",
         "showlegend": false,
         "stackgroup": "one",
         "type": "scatter",
         "x": [
          2045
         ],
         "y": [
          19.478715316021983
         ]
        },
        {
         "fillcolor": "#fbb286",
         "legendgroup": "D_Heat_HLDH -> Heat_District",
         "line": {
          "color": "#fbb286"
         },
         "name": "D_Heat_HLDH -> Heat_District",
         "showlegend": false,
         "stackgroup": "one",
         "type": "scatter",
         "x": [
          2050
         ],
         "y": [
          18.350357874472124
         ]
        },
        {
         "fillcolor": "#d7e8ad",
         "legendgroup": "HHI_Bio_BF_BOF -> Heat_District",
         "line": {
          "color": "#d7e8ad"
         },
         "name": "HHI_Bio_BF_BOF -> Heat_District",
         "showlegend": true,
         "stackgroup": "one",
         "type": "scatter",
         "x": [
          2018
         ],
         "y": [
          0
         ]
        },
        {
         "fillcolor": "#d7e8ad",
         "legendgroup": "HHI_Bio_BF_BOF -> Heat_District",
         "line": {
          "color": "#d7e8ad"
         },
         "name": "HHI_Bio_BF_BOF -> Heat_District",
         "showlegend": false,
         "stackgroup": "one",
         "type": "scatter",
         "x": [
          2025
         ],
         "y": [
          544.6521980411417
         ]
        },
        {
         "fillcolor": "#d7e8ad",
         "legendgroup": "HHI_Bio_BF_BOF -> Heat_District",
         "line": {
          "color": "#d7e8ad"
         },
         "name": "HHI_Bio_BF_BOF -> Heat_District",
         "showlegend": false,
         "stackgroup": "one",
         "type": "scatter",
         "x": [
          2030
         ],
         "y": [
          926.3227376709583
         ]
        },
        {
         "fillcolor": "#d7e8ad",
         "legendgroup": "HHI_Bio_BF_BOF -> Heat_District",
         "line": {
          "color": "#d7e8ad"
         },
         "name": "HHI_Bio_BF_BOF -> Heat_District",
         "showlegend": false,
         "stackgroup": "one",
         "type": "scatter",
         "x": [
          2035
         ],
         "y": [
          1276.3049666280037
         ]
        },
        {
         "fillcolor": "#d7e8ad",
         "legendgroup": "HHI_Bio_BF_BOF -> Heat_District",
         "line": {
          "color": "#d7e8ad"
         },
         "name": "HHI_Bio_BF_BOF -> Heat_District",
         "showlegend": false,
         "stackgroup": "one",
         "type": "scatter",
         "x": [
          2040
         ],
         "y": [
          1494.971384653941
         ]
        },
        {
         "fillcolor": "#d7e8ad",
         "legendgroup": "HHI_Bio_BF_BOF -> Heat_District",
         "line": {
          "color": "#d7e8ad"
         },
         "name": "HHI_Bio_BF_BOF -> Heat_District",
         "showlegend": false,
         "stackgroup": "one",
         "type": "scatter",
         "x": [
          2045
         ],
         "y": [
          1683.362665870844
         ]
        },
        {
         "fillcolor": "#d7e8ad",
         "legendgroup": "HHI_Bio_BF_BOF -> Heat_District",
         "line": {
          "color": "#d7e8ad"
         },
         "name": "HHI_Bio_BF_BOF -> Heat_District",
         "showlegend": false,
         "stackgroup": "one",
         "type": "scatter",
         "x": [
          2050
         ],
         "y": [
          1828.982859151189
         ]
        },
        {
         "fillcolor": "#d8b7f3",
         "legendgroup": "HLDH_Coal_Boiler -> Heat_District",
         "line": {
          "color": "#d8b7f3"
         },
         "name": "HLDH_Coal_Boiler -> Heat_District",
         "showlegend": true,
         "stackgroup": "one",
         "type": "scatter",
         "x": [
          2018
         ],
         "y": [
          374.0349464154949
         ]
        },
        {
         "fillcolor": "#d8b7f3",
         "legendgroup": "HLDH_Coal_Boiler -> Heat_District",
         "line": {
          "color": "#d8b7f3"
         },
         "name": "HLDH_Coal_Boiler -> Heat_District",
         "showlegend": false,
         "stackgroup": "one",
         "type": "scatter",
         "x": [
          2025
         ],
         "y": [
          358.793890628307
         ]
        },
        {
         "fillcolor": "#d8b7f3",
         "legendgroup": "HLDH_Coal_Boiler -> Heat_District",
         "line": {
          "color": "#d8b7f3"
         },
         "name": "HLDH_Coal_Boiler -> Heat_District",
         "showlegend": false,
         "stackgroup": "one",
         "type": "scatter",
         "x": [
          2030
         ],
         "y": [
          1.6689811561706283
         ]
        },
        {
         "fillcolor": "#d8b7f3",
         "legendgroup": "HLDH_Coal_Boiler -> Heat_District",
         "line": {
          "color": "#d8b7f3"
         },
         "name": "HLDH_Coal_Boiler -> Heat_District",
         "showlegend": false,
         "stackgroup": "one",
         "type": "scatter",
         "x": [
          2035
         ],
         "y": [
          0
         ]
        },
        {
         "fillcolor": "#d8b7f3",
         "legendgroup": "HLDH_Coal_Boiler -> Heat_District",
         "line": {
          "color": "#d8b7f3"
         },
         "name": "HLDH_Coal_Boiler -> Heat_District",
         "showlegend": false,
         "stackgroup": "one",
         "type": "scatter",
         "x": [
          2040
         ],
         "y": [
          0
         ]
        },
        {
         "fillcolor": "#d8b7f3",
         "legendgroup": "HLDH_Coal_Boiler -> Heat_District",
         "line": {
          "color": "#d8b7f3"
         },
         "name": "HLDH_Coal_Boiler -> Heat_District",
         "showlegend": false,
         "stackgroup": "one",
         "type": "scatter",
         "x": [
          2045
         ],
         "y": [
          0
         ]
        },
        {
         "fillcolor": "#d8b7f3",
         "legendgroup": "HLDH_Coal_Boiler -> Heat_District",
         "line": {
          "color": "#d8b7f3"
         },
         "name": "HLDH_Coal_Boiler -> Heat_District",
         "showlegend": false,
         "stackgroup": "one",
         "type": "scatter",
         "x": [
          2050
         ],
         "y": [
          0
         ]
        },
        {
         "fillcolor": "#f4bc85",
         "legendgroup": "HLDH_Electric_Boiler -> Heat_District",
         "line": {
          "color": "#f4bc85"
         },
         "name": "HLDH_Electric_Boiler -> Heat_District",
         "showlegend": true,
         "stackgroup": "one",
         "type": "scatter",
         "x": [
          2018
         ],
         "y": [
          27.653772869742042
         ]
        },
        {
         "fillcolor": "#f4bc85",
         "legendgroup": "HLDH_Electric_Boiler -> Heat_District",
         "line": {
          "color": "#f4bc85"
         },
         "name": "HLDH_Electric_Boiler -> Heat_District",
         "showlegend": false,
         "stackgroup": "one",
         "type": "scatter",
         "x": [
          2025
         ],
         "y": [
          58.27820630065741
         ]
        },
        {
         "fillcolor": "#f4bc85",
         "legendgroup": "HLDH_Electric_Boiler -> Heat_District",
         "line": {
          "color": "#f4bc85"
         },
         "name": "HLDH_Electric_Boiler -> Heat_District",
         "showlegend": false,
         "stackgroup": "one",
         "type": "scatter",
         "x": [
          2030
         ],
         "y": [
          54.433277894685475
         ]
        },
        {
         "fillcolor": "#f4bc85",
         "legendgroup": "HLDH_Electric_Boiler -> Heat_District",
         "line": {
          "color": "#f4bc85"
         },
         "name": "HLDH_Electric_Boiler -> Heat_District",
         "showlegend": false,
         "stackgroup": "one",
         "type": "scatter",
         "x": [
          2035
         ],
         "y": [
          51.727023772768185
         ]
        },
        {
         "fillcolor": "#f4bc85",
         "legendgroup": "HLDH_Electric_Boiler -> Heat_District",
         "line": {
          "color": "#f4bc85"
         },
         "name": "HLDH_Electric_Boiler -> Heat_District",
         "showlegend": false,
         "stackgroup": "one",
         "type": "scatter",
         "x": [
          2040
         ],
         "y": [
          51.99237194513542
         ]
        },
        {
         "fillcolor": "#f4bc85",
         "legendgroup": "HLDH_Electric_Boiler -> Heat_District",
         "line": {
          "color": "#f4bc85"
         },
         "name": "HLDH_Electric_Boiler -> Heat_District",
         "showlegend": false,
         "stackgroup": "one",
         "type": "scatter",
         "x": [
          2045
         ],
         "y": [
          69.51304247307867
         ]
        },
        {
         "fillcolor": "#f4bc85",
         "legendgroup": "HLDH_Electric_Boiler -> Heat_District",
         "line": {
          "color": "#f4bc85"
         },
         "name": "HLDH_Electric_Boiler -> Heat_District",
         "showlegend": false,
         "stackgroup": "one",
         "type": "scatter",
         "x": [
          2050
         ],
         "y": [
          136.33477352303848
         ]
        },
        {
         "fillcolor": "#b8ef82",
         "legendgroup": "HLDH_Gas_Boiler -> Heat_District",
         "line": {
          "color": "#b8ef82"
         },
         "name": "HLDH_Gas_Boiler -> Heat_District",
         "showlegend": true,
         "stackgroup": "one",
         "type": "scatter",
         "x": [
          2018
         ],
         "y": [
          0
         ]
        },
        {
         "fillcolor": "#b8ef82",
         "legendgroup": "HLDH_Gas_Boiler -> Heat_District",
         "line": {
          "color": "#b8ef82"
         },
         "name": "HLDH_Gas_Boiler -> Heat_District",
         "showlegend": false,
         "stackgroup": "one",
         "type": "scatter",
         "x": [
          2025
         ],
         "y": [
          0.4761467381561333
         ]
        },
        {
         "fillcolor": "#b8ef82",
         "legendgroup": "HLDH_Gas_Boiler -> Heat_District",
         "line": {
          "color": "#b8ef82"
         },
         "name": "HLDH_Gas_Boiler -> Heat_District",
         "showlegend": false,
         "stackgroup": "one",
         "type": "scatter",
         "x": [
          2030
         ],
         "y": [
          0.4662160308317314
         ]
        },
        {
         "fillcolor": "#b8ef82",
         "legendgroup": "HLDH_Gas_Boiler -> Heat_District",
         "line": {
          "color": "#b8ef82"
         },
         "name": "HLDH_Gas_Boiler -> Heat_District",
         "showlegend": false,
         "stackgroup": "one",
         "type": "scatter",
         "x": [
          2035
         ],
         "y": [
          0.00993070732440189
         ]
        },
        {
         "fillcolor": "#b8ef82",
         "legendgroup": "HLDH_Gas_Boiler -> Heat_District",
         "line": {
          "color": "#b8ef82"
         },
         "name": "HLDH_Gas_Boiler -> Heat_District",
         "showlegend": false,
         "stackgroup": "one",
         "type": "scatter",
         "x": [
          2040
         ],
         "y": [
          0
         ]
        },
        {
         "fillcolor": "#b8ef82",
         "legendgroup": "HLDH_Gas_Boiler -> Heat_District",
         "line": {
          "color": "#b8ef82"
         },
         "name": "HLDH_Gas_Boiler -> Heat_District",
         "showlegend": false,
         "stackgroup": "one",
         "type": "scatter",
         "x": [
          2045
         ],
         "y": [
          0
         ]
        },
        {
         "fillcolor": "#b8ef82",
         "legendgroup": "HLDH_Gas_Boiler -> Heat_District",
         "line": {
          "color": "#b8ef82"
         },
         "name": "HLDH_Gas_Boiler -> Heat_District",
         "showlegend": false,
         "stackgroup": "one",
         "type": "scatter",
         "x": [
          2050
         ],
         "y": [
          0
         ]
        },
        {
         "fillcolor": "#ebabcd",
         "legendgroup": "HLDH_Geothermal -> Heat_District",
         "line": {
          "color": "#ebabcd"
         },
         "name": "HLDH_Geothermal -> Heat_District",
         "showlegend": true,
         "stackgroup": "one",
         "type": "scatter",
         "x": [
          2018
         ],
         "y": [
          15.943200000000001
         ]
        },
        {
         "fillcolor": "#ebabcd",
         "legendgroup": "HLDH_Geothermal -> Heat_District",
         "line": {
          "color": "#ebabcd"
         },
         "name": "HLDH_Geothermal -> Heat_District",
         "showlegend": false,
         "stackgroup": "one",
         "type": "scatter",
         "x": [
          2025
         ],
         "y": [
          36.00721664187972
         ]
        },
        {
         "fillcolor": "#ebabcd",
         "legendgroup": "HLDH_Geothermal -> Heat_District",
         "line": {
          "color": "#ebabcd"
         },
         "name": "HLDH_Geothermal -> Heat_District",
         "showlegend": false,
         "stackgroup": "one",
         "type": "scatter",
         "x": [
          2030
         ],
         "y": [
          538.6126551668026
         ]
        },
        {
         "fillcolor": "#ebabcd",
         "legendgroup": "HLDH_Geothermal -> Heat_District",
         "line": {
          "color": "#ebabcd"
         },
         "name": "HLDH_Geothermal -> Heat_District",
         "showlegend": false,
         "stackgroup": "one",
         "type": "scatter",
         "x": [
          2035
         ],
         "y": [
          852.4105118191637
         ]
        },
        {
         "fillcolor": "#ebabcd",
         "legendgroup": "HLDH_Geothermal -> Heat_District",
         "line": {
          "color": "#ebabcd"
         },
         "name": "HLDH_Geothermal -> Heat_District",
         "showlegend": false,
         "stackgroup": "one",
         "type": "scatter",
         "x": [
          2040
         ],
         "y": [
          901.2894240602996
         ]
        },
        {
         "fillcolor": "#ebabcd",
         "legendgroup": "HLDH_Geothermal -> Heat_District",
         "line": {
          "color": "#ebabcd"
         },
         "name": "HLDH_Geothermal -> Heat_District",
         "showlegend": false,
         "stackgroup": "one",
         "type": "scatter",
         "x": [
          2045
         ],
         "y": [
          909.8920759715559
         ]
        },
        {
         "fillcolor": "#ebabcd",
         "legendgroup": "HLDH_Geothermal -> Heat_District",
         "line": {
          "color": "#ebabcd"
         },
         "name": "HLDH_Geothermal -> Heat_District",
         "showlegend": false,
         "stackgroup": "one",
         "type": "scatter",
         "x": [
          2050
         ],
         "y": [
          883.8294280388693
         ]
        },
        {
         "fillcolor": "#92f9a1",
         "legendgroup": "HLDH_Heatpump_ExcessHeat -> Heat_District",
         "line": {
          "color": "#92f9a1"
         },
         "name": "HLDH_Heatpump_ExcessHeat -> Heat_District",
         "showlegend": true,
         "stackgroup": "one",
         "type": "scatter",
         "x": [
          2018
         ],
         "y": [
          0
         ]
        },
        {
         "fillcolor": "#92f9a1",
         "legendgroup": "HLDH_Heatpump_ExcessHeat -> Heat_District",
         "line": {
          "color": "#92f9a1"
         },
         "name": "HLDH_Heatpump_ExcessHeat -> Heat_District",
         "showlegend": false,
         "stackgroup": "one",
         "type": "scatter",
         "x": [
          2025
         ],
         "y": [
          0
         ]
        },
        {
         "fillcolor": "#92f9a1",
         "legendgroup": "HLDH_Heatpump_ExcessHeat -> Heat_District",
         "line": {
          "color": "#92f9a1"
         },
         "name": "HLDH_Heatpump_ExcessHeat -> Heat_District",
         "showlegend": false,
         "stackgroup": "one",
         "type": "scatter",
         "x": [
          2030
         ],
         "y": [
          48.8931191171587
         ]
        },
        {
         "fillcolor": "#92f9a1",
         "legendgroup": "HLDH_Heatpump_ExcessHeat -> Heat_District",
         "line": {
          "color": "#92f9a1"
         },
         "name": "HLDH_Heatpump_ExcessHeat -> Heat_District",
         "showlegend": false,
         "stackgroup": "one",
         "type": "scatter",
         "x": [
          2035
         ],
         "y": [
          48.8931191171587
         ]
        },
        {
         "fillcolor": "#92f9a1",
         "legendgroup": "HLDH_Heatpump_ExcessHeat -> Heat_District",
         "line": {
          "color": "#92f9a1"
         },
         "name": "HLDH_Heatpump_ExcessHeat -> Heat_District",
         "showlegend": false,
         "stackgroup": "one",
         "type": "scatter",
         "x": [
          2040
         ],
         "y": [
          48.8931191171587
         ]
        },
        {
         "fillcolor": "#92f9a1",
         "legendgroup": "HLDH_Heatpump_ExcessHeat -> Heat_District",
         "line": {
          "color": "#92f9a1"
         },
         "name": "HLDH_Heatpump_ExcessHeat -> Heat_District",
         "showlegend": false,
         "stackgroup": "one",
         "type": "scatter",
         "x": [
          2045
         ],
         "y": [
          48.8931191171587
         ]
        },
        {
         "fillcolor": "#92f9a1",
         "legendgroup": "HLDH_Heatpump_ExcessHeat -> Heat_District",
         "line": {
          "color": "#92f9a1"
         },
         "name": "HLDH_Heatpump_ExcessHeat -> Heat_District",
         "showlegend": false,
         "stackgroup": "one",
         "type": "scatter",
         "x": [
          2050
         ],
         "y": [
          48.8931191171587
         ]
        },
        {
         "fillcolor": "#8df5f1",
         "legendgroup": "HLDH_Solar_Thermal -> Heat_District",
         "line": {
          "color": "#8df5f1"
         },
         "name": "HLDH_Solar_Thermal -> Heat_District",
         "showlegend": true,
         "stackgroup": "one",
         "type": "scatter",
         "x": [
          2018
         ],
         "y": [
          424.1981532979233
         ]
        },
        {
         "fillcolor": "#8df5f1",
         "legendgroup": "HLDH_Solar_Thermal -> Heat_District",
         "line": {
          "color": "#8df5f1"
         },
         "name": "HLDH_Solar_Thermal -> Heat_District",
         "showlegend": false,
         "stackgroup": "one",
         "type": "scatter",
         "x": [
          2025
         ],
         "y": [
          446.271812858675
         ]
        },
        {
         "fillcolor": "#8df5f1",
         "legendgroup": "HLDH_Solar_Thermal -> Heat_District",
         "line": {
          "color": "#8df5f1"
         },
         "name": "HLDH_Solar_Thermal -> Heat_District",
         "showlegend": false,
         "stackgroup": "one",
         "type": "scatter",
         "x": [
          2030
         ],
         "y": [
          460.6676777896001
         ]
        },
        {
         "fillcolor": "#8df5f1",
         "legendgroup": "HLDH_Solar_Thermal -> Heat_District",
         "line": {
          "color": "#8df5f1"
         },
         "name": "HLDH_Solar_Thermal -> Heat_District",
         "showlegend": false,
         "stackgroup": "one",
         "type": "scatter",
         "x": [
          2035
         ],
         "y": [
          465.4662994332416
         ]
        },
        {
         "fillcolor": "#8df5f1",
         "legendgroup": "HLDH_Solar_Thermal -> Heat_District",
         "line": {
          "color": "#8df5f1"
         },
         "name": "HLDH_Solar_Thermal -> Heat_District",
         "showlegend": false,
         "stackgroup": "one",
         "type": "scatter",
         "x": [
          2040
         ],
         "y": [
          470.26492107688335
         ]
        },
        {
         "fillcolor": "#8df5f1",
         "legendgroup": "HLDH_Solar_Thermal -> Heat_District",
         "line": {
          "color": "#8df5f1"
         },
         "name": "HLDH_Solar_Thermal -> Heat_District",
         "showlegend": false,
         "stackgroup": "one",
         "type": "scatter",
         "x": [
          2045
         ],
         "y": [
          475.06354272052505
         ]
        },
        {
         "fillcolor": "#8df5f1",
         "legendgroup": "HLDH_Solar_Thermal -> Heat_District",
         "line": {
          "color": "#8df5f1"
         },
         "name": "HLDH_Solar_Thermal -> Heat_District",
         "showlegend": false,
         "stackgroup": "one",
         "type": "scatter",
         "x": [
          2050
         ],
         "y": [
          479.8621643641667
         ]
        }
       ],
       "layout": {
        "barmode": "stack",
        "font": {
         "size": 22
        },
        "height": 1100,
        "template": {
         "data": {
          "bar": [
           {
            "error_x": {
             "color": "#2a3f5f"
            },
            "error_y": {
             "color": "#2a3f5f"
            },
            "marker": {
             "line": {
              "color": "#E5ECF6",
              "width": 0.5
             },
             "pattern": {
              "fillmode": "overlay",
              "size": 10,
              "solidity": 0.2
             }
            },
            "type": "bar"
           }
          ],
          "barpolar": [
           {
            "marker": {
             "line": {
              "color": "#E5ECF6",
              "width": 0.5
             },
             "pattern": {
              "fillmode": "overlay",
              "size": 10,
              "solidity": 0.2
             }
            },
            "type": "barpolar"
           }
          ],
          "carpet": [
           {
            "aaxis": {
             "endlinecolor": "#2a3f5f",
             "gridcolor": "white",
             "linecolor": "white",
             "minorgridcolor": "white",
             "startlinecolor": "#2a3f5f"
            },
            "baxis": {
             "endlinecolor": "#2a3f5f",
             "gridcolor": "white",
             "linecolor": "white",
             "minorgridcolor": "white",
             "startlinecolor": "#2a3f5f"
            },
            "type": "carpet"
           }
          ],
          "choropleth": [
           {
            "colorbar": {
             "outlinewidth": 0,
             "ticks": ""
            },
            "type": "choropleth"
           }
          ],
          "contour": [
           {
            "colorbar": {
             "outlinewidth": 0,
             "ticks": ""
            },
            "colorscale": [
             [
              0,
              "#0d0887"
             ],
             [
              0.1111111111111111,
              "#46039f"
             ],
             [
              0.2222222222222222,
              "#7201a8"
             ],
             [
              0.3333333333333333,
              "#9c179e"
             ],
             [
              0.4444444444444444,
              "#bd3786"
             ],
             [
              0.5555555555555556,
              "#d8576b"
             ],
             [
              0.6666666666666666,
              "#ed7953"
             ],
             [
              0.7777777777777778,
              "#fb9f3a"
             ],
             [
              0.8888888888888888,
              "#fdca26"
             ],
             [
              1,
              "#f0f921"
             ]
            ],
            "type": "contour"
           }
          ],
          "contourcarpet": [
           {
            "colorbar": {
             "outlinewidth": 0,
             "ticks": ""
            },
            "type": "contourcarpet"
           }
          ],
          "heatmap": [
           {
            "colorbar": {
             "outlinewidth": 0,
             "ticks": ""
            },
            "colorscale": [
             [
              0,
              "#0d0887"
             ],
             [
              0.1111111111111111,
              "#46039f"
             ],
             [
              0.2222222222222222,
              "#7201a8"
             ],
             [
              0.3333333333333333,
              "#9c179e"
             ],
             [
              0.4444444444444444,
              "#bd3786"
             ],
             [
              0.5555555555555556,
              "#d8576b"
             ],
             [
              0.6666666666666666,
              "#ed7953"
             ],
             [
              0.7777777777777778,
              "#fb9f3a"
             ],
             [
              0.8888888888888888,
              "#fdca26"
             ],
             [
              1,
              "#f0f921"
             ]
            ],
            "type": "heatmap"
           }
          ],
          "heatmapgl": [
           {
            "colorbar": {
             "outlinewidth": 0,
             "ticks": ""
            },
            "colorscale": [
             [
              0,
              "#0d0887"
             ],
             [
              0.1111111111111111,
              "#46039f"
             ],
             [
              0.2222222222222222,
              "#7201a8"
             ],
             [
              0.3333333333333333,
              "#9c179e"
             ],
             [
              0.4444444444444444,
              "#bd3786"
             ],
             [
              0.5555555555555556,
              "#d8576b"
             ],
             [
              0.6666666666666666,
              "#ed7953"
             ],
             [
              0.7777777777777778,
              "#fb9f3a"
             ],
             [
              0.8888888888888888,
              "#fdca26"
             ],
             [
              1,
              "#f0f921"
             ]
            ],
            "type": "heatmapgl"
           }
          ],
          "histogram": [
           {
            "marker": {
             "pattern": {
              "fillmode": "overlay",
              "size": 10,
              "solidity": 0.2
             }
            },
            "type": "histogram"
           }
          ],
          "histogram2d": [
           {
            "colorbar": {
             "outlinewidth": 0,
             "ticks": ""
            },
            "colorscale": [
             [
              0,
              "#0d0887"
             ],
             [
              0.1111111111111111,
              "#46039f"
             ],
             [
              0.2222222222222222,
              "#7201a8"
             ],
             [
              0.3333333333333333,
              "#9c179e"
             ],
             [
              0.4444444444444444,
              "#bd3786"
             ],
             [
              0.5555555555555556,
              "#d8576b"
             ],
             [
              0.6666666666666666,
              "#ed7953"
             ],
             [
              0.7777777777777778,
              "#fb9f3a"
             ],
             [
              0.8888888888888888,
              "#fdca26"
             ],
             [
              1,
              "#f0f921"
             ]
            ],
            "type": "histogram2d"
           }
          ],
          "histogram2dcontour": [
           {
            "colorbar": {
             "outlinewidth": 0,
             "ticks": ""
            },
            "colorscale": [
             [
              0,
              "#0d0887"
             ],
             [
              0.1111111111111111,
              "#46039f"
             ],
             [
              0.2222222222222222,
              "#7201a8"
             ],
             [
              0.3333333333333333,
              "#9c179e"
             ],
             [
              0.4444444444444444,
              "#bd3786"
             ],
             [
              0.5555555555555556,
              "#d8576b"
             ],
             [
              0.6666666666666666,
              "#ed7953"
             ],
             [
              0.7777777777777778,
              "#fb9f3a"
             ],
             [
              0.8888888888888888,
              "#fdca26"
             ],
             [
              1,
              "#f0f921"
             ]
            ],
            "type": "histogram2dcontour"
           }
          ],
          "mesh3d": [
           {
            "colorbar": {
             "outlinewidth": 0,
             "ticks": ""
            },
            "type": "mesh3d"
           }
          ],
          "parcoords": [
           {
            "line": {
             "colorbar": {
              "outlinewidth": 0,
              "ticks": ""
             }
            },
            "type": "parcoords"
           }
          ],
          "pie": [
           {
            "automargin": true,
            "type": "pie"
           }
          ],
          "scatter": [
           {
            "fillpattern": {
             "fillmode": "overlay",
             "size": 10,
             "solidity": 0.2
            },
            "type": "scatter"
           }
          ],
          "scatter3d": [
           {
            "line": {
             "colorbar": {
              "outlinewidth": 0,
              "ticks": ""
             }
            },
            "marker": {
             "colorbar": {
              "outlinewidth": 0,
              "ticks": ""
             }
            },
            "type": "scatter3d"
           }
          ],
          "scattercarpet": [
           {
            "marker": {
             "colorbar": {
              "outlinewidth": 0,
              "ticks": ""
             }
            },
            "type": "scattercarpet"
           }
          ],
          "scattergeo": [
           {
            "marker": {
             "colorbar": {
              "outlinewidth": 0,
              "ticks": ""
             }
            },
            "type": "scattergeo"
           }
          ],
          "scattergl": [
           {
            "marker": {
             "colorbar": {
              "outlinewidth": 0,
              "ticks": ""
             }
            },
            "type": "scattergl"
           }
          ],
          "scattermapbox": [
           {
            "marker": {
             "colorbar": {
              "outlinewidth": 0,
              "ticks": ""
             }
            },
            "type": "scattermapbox"
           }
          ],
          "scatterpolar": [
           {
            "marker": {
             "colorbar": {
              "outlinewidth": 0,
              "ticks": ""
             }
            },
            "type": "scatterpolar"
           }
          ],
          "scatterpolargl": [
           {
            "marker": {
             "colorbar": {
              "outlinewidth": 0,
              "ticks": ""
             }
            },
            "type": "scatterpolargl"
           }
          ],
          "scatterternary": [
           {
            "marker": {
             "colorbar": {
              "outlinewidth": 0,
              "ticks": ""
             }
            },
            "type": "scatterternary"
           }
          ],
          "surface": [
           {
            "colorbar": {
             "outlinewidth": 0,
             "ticks": ""
            },
            "colorscale": [
             [
              0,
              "#0d0887"
             ],
             [
              0.1111111111111111,
              "#46039f"
             ],
             [
              0.2222222222222222,
              "#7201a8"
             ],
             [
              0.3333333333333333,
              "#9c179e"
             ],
             [
              0.4444444444444444,
              "#bd3786"
             ],
             [
              0.5555555555555556,
              "#d8576b"
             ],
             [
              0.6666666666666666,
              "#ed7953"
             ],
             [
              0.7777777777777778,
              "#fb9f3a"
             ],
             [
              0.8888888888888888,
              "#fdca26"
             ],
             [
              1,
              "#f0f921"
             ]
            ],
            "type": "surface"
           }
          ],
          "table": [
           {
            "cells": {
             "fill": {
              "color": "#EBF0F8"
             },
             "line": {
              "color": "white"
             }
            },
            "header": {
             "fill": {
              "color": "#C8D4E3"
             },
             "line": {
              "color": "white"
             }
            },
            "type": "table"
           }
          ]
         },
         "layout": {
          "annotationdefaults": {
           "arrowcolor": "#2a3f5f",
           "arrowhead": 0,
           "arrowwidth": 1
          },
          "autotypenumbers": "strict",
          "coloraxis": {
           "colorbar": {
            "outlinewidth": 0,
            "ticks": ""
           }
          },
          "colorscale": {
           "diverging": [
            [
             0,
             "#8e0152"
            ],
            [
             0.1,
             "#c51b7d"
            ],
            [
             0.2,
             "#de77ae"
            ],
            [
             0.3,
             "#f1b6da"
            ],
            [
             0.4,
             "#fde0ef"
            ],
            [
             0.5,
             "#f7f7f7"
            ],
            [
             0.6,
             "#e6f5d0"
            ],
            [
             0.7,
             "#b8e186"
            ],
            [
             0.8,
             "#7fbc41"
            ],
            [
             0.9,
             "#4d9221"
            ],
            [
             1,
             "#276419"
            ]
           ],
           "sequential": [
            [
             0,
             "#0d0887"
            ],
            [
             0.1111111111111111,
             "#46039f"
            ],
            [
             0.2222222222222222,
             "#7201a8"
            ],
            [
             0.3333333333333333,
             "#9c179e"
            ],
            [
             0.4444444444444444,
             "#bd3786"
            ],
            [
             0.5555555555555556,
             "#d8576b"
            ],
            [
             0.6666666666666666,
             "#ed7953"
            ],
            [
             0.7777777777777778,
             "#fb9f3a"
            ],
            [
             0.8888888888888888,
             "#fdca26"
            ],
            [
             1,
             "#f0f921"
            ]
           ],
           "sequentialminus": [
            [
             0,
             "#0d0887"
            ],
            [
             0.1111111111111111,
             "#46039f"
            ],
            [
             0.2222222222222222,
             "#7201a8"
            ],
            [
             0.3333333333333333,
             "#9c179e"
            ],
            [
             0.4444444444444444,
             "#bd3786"
            ],
            [
             0.5555555555555556,
             "#d8576b"
            ],
            [
             0.6666666666666666,
             "#ed7953"
            ],
            [
             0.7777777777777778,
             "#fb9f3a"
            ],
            [
             0.8888888888888888,
             "#fdca26"
            ],
            [
             1,
             "#f0f921"
            ]
           ]
          },
          "colorway": [
           "#636efa",
           "#EF553B",
           "#00cc96",
           "#ab63fa",
           "#FFA15A",
           "#19d3f3",
           "#FF6692",
           "#B6E880",
           "#FF97FF",
           "#FECB52"
          ],
          "font": {
           "color": "#2a3f5f"
          },
          "geo": {
           "bgcolor": "white",
           "lakecolor": "white",
           "landcolor": "#E5ECF6",
           "showlakes": true,
           "showland": true,
           "subunitcolor": "white"
          },
          "hoverlabel": {
           "align": "left"
          },
          "hovermode": "closest",
          "mapbox": {
           "style": "light"
          },
          "paper_bgcolor": "white",
          "plot_bgcolor": "#E5ECF6",
          "polar": {
           "angularaxis": {
            "gridcolor": "white",
            "linecolor": "white",
            "ticks": ""
           },
           "bgcolor": "#E5ECF6",
           "radialaxis": {
            "gridcolor": "white",
            "linecolor": "white",
            "ticks": ""
           }
          },
          "scene": {
           "xaxis": {
            "backgroundcolor": "#E5ECF6",
            "gridcolor": "white",
            "gridwidth": 2,
            "linecolor": "white",
            "showbackground": true,
            "ticks": "",
            "zerolinecolor": "white"
           },
           "yaxis": {
            "backgroundcolor": "#E5ECF6",
            "gridcolor": "white",
            "gridwidth": 2,
            "linecolor": "white",
            "showbackground": true,
            "ticks": "",
            "zerolinecolor": "white"
           },
           "zaxis": {
            "backgroundcolor": "#E5ECF6",
            "gridcolor": "white",
            "gridwidth": 2,
            "linecolor": "white",
            "showbackground": true,
            "ticks": "",
            "zerolinecolor": "white"
           }
          },
          "shapedefaults": {
           "line": {
            "color": "#2a3f5f"
           }
          },
          "ternary": {
           "aaxis": {
            "gridcolor": "white",
            "linecolor": "white",
            "ticks": ""
           },
           "baxis": {
            "gridcolor": "white",
            "linecolor": "white",
            "ticks": ""
           },
           "bgcolor": "#E5ECF6",
           "caxis": {
            "gridcolor": "white",
            "linecolor": "white",
            "ticks": ""
           }
          },
          "title": {
           "x": 0.05
          },
          "xaxis": {
           "automargin": true,
           "gridcolor": "white",
           "linecolor": "white",
           "ticks": "",
           "title": {
            "standoff": 15
           },
           "zerolinecolor": "white",
           "zerolinewidth": 2
          },
          "yaxis": {
           "automargin": true,
           "gridcolor": "white",
           "linecolor": "white",
           "ticks": "",
           "title": {
            "standoff": 15
           },
           "zerolinecolor": "white",
           "zerolinewidth": 2
          }
         }
        },
        "title": {
         "text": "Production of Low District Heat ALL Regions - Season"
        },
        "width": 1400,
        "xaxis": {
         "title": {
          "text": "Year"
         }
        },
        "yaxis": {
         "title": {
          "text": "Production [TWh]"
         }
        }
       }
      }
     },
     "metadata": {},
     "output_type": "display_data"
    }
   ],
   "source": [
    "production_fuel = ProductionByTechnologyForFuelStackedQuantityEvolutionFacilitator(SOLUTION_FILEPATH, region=\"All\",\n",
    "                                                                                   fuels=[\"Heat_District\"])#, \"Heat_Low_Industrial\", \"Heat_Low_Building\"])\n",
    "\n",
    "relevant_data = production_fuel.get_relevant_data()\n",
    "relevant_data.aggreagate_all_by_sum(column_to_aggregate=\"Region\", aggregated_entry_name=\"All\", column_to_sum=\"Value\")\n",
    "\n",
    "# If \"Value\" is bigger than zero for a specific tech for any year, keep all\n",
    "techs_over_zero = relevant_data.df[relevant_data.df[\"Value\"] > 0][\"Technology\"].unique()\n",
    "relevant_data.df = relevant_data.df[relevant_data.df[\"Technology\"].isin(techs_over_zero)]\n",
    "\n",
    "#relevant_data.df = relevant_data.df[relevant_data.df[\"Value\"] > 0]\n",
    "\n",
    "fig = production_fuel.plot(relevant_data)\n",
    "fig.update_layout(title=\"Production of Low District Heat ALL Regions\" + TITLE_ADDON)\n",
    "\n",
    "fig.update_layout(width=1400, height=1100)\n",
    "\n",
    "#if WRITE_IMAGE:\n",
    "fig.write_image(\"ProductionLowDistrictHeatAllRegions\" + TITLE_ADDON.replace(\" \", \"\") + \".png\")\n",
    "\n",
    "fig.show()"
   ]
  }
 ],
 "metadata": {
  "kernelspec": {
   "display_name": "scenario_dashboard",
   "language": "python",
   "name": "python3"
  },
  "language_info": {
   "codemirror_mode": {
    "name": "ipython",
    "version": 3
   },
   "file_extension": ".py",
   "mimetype": "text/x-python",
   "name": "python",
   "nbconvert_exporter": "python",
   "pygments_lexer": "ipython3",
   "version": "3.12.4"
  }
 },
 "nbformat": 4,
 "nbformat_minor": 2
}
