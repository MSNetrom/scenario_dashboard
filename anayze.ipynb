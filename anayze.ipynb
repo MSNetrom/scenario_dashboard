{
 "cells": [
  {
   "cell_type": "code",
   "execution_count": 34,
   "metadata": {},
   "outputs": [
    {
     "name": "stdout",
     "output_type": "stream",
     "text": [
      "The autoreload extension is already loaded. To reload it, use:\n",
      "  %reload_ext autoreload\n"
     ]
    }
   ],
   "source": [
    "%load_ext autoreload\n",
    "%autoreload 2\n",
    "\n",
    "from pathlib import Path\n",
    "\n",
    "from data import (TradeCapacityMapFacilitator, StackedQuantityEvolutionFacilitator, \n",
    "                  StackedQuantityEvolutionFacilitatorBase, HourlyTechActivityRateFacilitator,\n",
    "                  ProductionByTechnologyForFuelStackedQuantityEvolutionFacilitator,\n",
    "                  StorageDischargeHourlyRateFacilitator, AnnualUseStackedQuantityEvolutionFacilitator)"
   ]
  },
  {
   "cell_type": "code",
   "execution_count": 35,
   "metadata": {},
   "outputs": [],
   "source": [
    "CURRENT_DIR = Path().resolve()\n",
    "SOLUTION_FILEPATH = CURRENT_DIR / \"season_vs_daily_data\" / \"solution_season_data_daily.sol\"\n",
    "TITLE_ADDON = \" - Season\"\n",
    "WRITE_IMAGE = False"
   ]
  },
  {
   "cell_type": "markdown",
   "metadata": {},
   "source": [
    "### Trade capacities between European countries 2018 and 2050"
   ]
  },
  {
   "cell_type": "code",
   "execution_count": 36,
   "metadata": {},
   "outputs": [
    {
     "name": "stdout",
     "output_type": "stream",
     "text": [
      "No unit conversion applied!\n"
     ]
    },
    {
     "data": {
      "application/vnd.plotly.v1+json": {
       "config": {
        "plotlyServerURL": "https://plot.ly"
       },
       "data": [
        {
         "lat": [
          46.818188,
          47.516231
         ],
         "legendgroup": "AT CH",
         "line": {
          "color": "#f4b6c2",
          "width": 2.48
         },
         "locationmode": "country names",
         "lon": [
          8.227512,
          14.550072
         ],
         "mode": "lines+markers",
         "name": "AT CH",
         "showlegend": false,
         "type": "scattergeo"
        },
        {
         "lat": [
          49.817492,
          47.516231
         ],
         "legendgroup": "AT CZ",
         "line": {
          "color": "#f4b6c2",
          "width": 5.142857142857143
         },
         "locationmode": "country names",
         "lon": [
          15.472962,
          14.550072
         ],
         "mode": "lines+markers",
         "name": "AT CZ",
         "showlegend": false,
         "type": "scattergeo"
        },
        {
         "lat": [
          51.165691,
          47.516231
         ],
         "legendgroup": "AT DE",
         "line": {
          "color": "#f4b6c2",
          "width": 11.428571428571427
         },
         "locationmode": "country names",
         "lon": [
          10.451526,
          14.550072
         ],
         "mode": "lines+markers",
         "name": "AT DE",
         "showlegend": false,
         "type": "scattergeo"
        },
        {
         "lat": [
          47.162494,
          47.516231
         ],
         "legendgroup": "AT HU",
         "line": {
          "color": "#f4b6c2",
          "width": 4.571428571428572
         },
         "locationmode": "country names",
         "lon": [
          19.503304,
          14.550072
         ],
         "mode": "lines+markers",
         "name": "AT HU",
         "showlegend": false,
         "type": "scattergeo"
        },
        {
         "lat": [
          41.87194,
          47.516231
         ],
         "legendgroup": "AT IT",
         "line": {
          "color": "#f4b6c2",
          "width": 0.4057142857142857
         },
         "locationmode": "country names",
         "lon": [
          12.56738,
          14.550072
         ],
         "mode": "lines+markers",
         "name": "AT IT",
         "showlegend": false,
         "type": "scattergeo"
        },
        {
         "lat": [
          46.151241,
          47.516231
         ],
         "legendgroup": "AT SI",
         "line": {
          "color": "#f4b6c2",
          "width": 5.4290476171428566
         },
         "locationmode": "country names",
         "lon": [
          14.995463,
          14.550072
         ],
         "mode": "lines+markers",
         "name": "AT SI",
         "showlegend": false,
         "type": "scattergeo"
        },
        {
         "lat": [
          46.227638,
          50.503887
         ],
         "legendgroup": "BE FR",
         "line": {
          "color": "#f4b6c2",
          "width": 8.571428571428571
         },
         "locationmode": "country names",
         "lon": [
          2.213749,
          4.469936
         ],
         "mode": "lines+markers",
         "name": "BE FR",
         "showlegend": false,
         "type": "scattergeo"
        },
        {
         "lat": [
          52.132633,
          50.503887
         ],
         "legendgroup": "BE NL",
         "line": {
          "color": "#f4b6c2",
          "width": 8.148571428571428
         },
         "locationmode": "country names",
         "lon": [
          5.291266,
          4.469936
         ],
         "mode": "lines+markers",
         "name": "BE NL",
         "showlegend": false,
         "type": "scattergeo"
        },
        {
         "lat": [
          44.29182,
          42.733883
         ],
         "legendgroup": "BG NONEU_Balkan",
         "line": {
          "color": "#f4b6c2",
          "width": 1.9999999999999998
         },
         "locationmode": "country names",
         "lon": [
          19.24671,
          25.48583
         ],
         "mode": "lines+markers",
         "name": "BG NONEU_Balkan",
         "showlegend": false,
         "type": "scattergeo"
        },
        {
         "lat": [
          45.943161,
          42.733883
         ],
         "legendgroup": "BG RO",
         "line": {
          "color": "#f4b6c2",
          "width": 0.8571428571428572
         },
         "locationmode": "country names",
         "lon": [
          24.96676,
          25.48583
         ],
         "mode": "lines+markers",
         "name": "BG RO",
         "showlegend": false,
         "type": "scattergeo"
        },
        {
         "lat": [
          38.963745,
          42.733883
         ],
         "legendgroup": "BG TR",
         "line": {
          "color": "#f4b6c2",
          "width": 5.7142857142857135
         },
         "locationmode": "country names",
         "lon": [
          35.243322,
          25.48583
         ],
         "mode": "lines+markers",
         "name": "BG TR",
         "showlegend": false,
         "type": "scattergeo"
        },
        {
         "lat": [
          51.165691,
          46.818188
         ],
         "legendgroup": "CH DE",
         "line": {
          "color": "#f4b6c2",
          "width": 20
         },
         "locationmode": "country names",
         "lon": [
          10.451526,
          8.227512
         ],
         "mode": "lines+markers",
         "name": "CH DE",
         "showlegend": false,
         "type": "scattergeo"
        },
        {
         "lat": [
          46.227638,
          46.818188
         ],
         "legendgroup": "CH FR",
         "line": {
          "color": "#f4b6c2",
          "width": 6.2857142857142865
         },
         "locationmode": "country names",
         "lon": [
          2.213749,
          8.227512
         ],
         "mode": "lines+markers",
         "name": "CH FR",
         "showlegend": false,
         "type": "scattergeo"
        },
        {
         "lat": [
          41.87194,
          46.818188
         ],
         "legendgroup": "CH IT",
         "line": {
          "color": "#f4b6c2",
          "width": 7.634285714285714
         },
         "locationmode": "country names",
         "lon": [
          12.56738,
          8.227512
         ],
         "mode": "lines+markers",
         "name": "CH IT",
         "showlegend": false,
         "type": "scattergeo"
        },
        {
         "lat": [
          51.165691,
          49.817492
         ],
         "legendgroup": "CZ DE",
         "line": {
          "color": "#f4b6c2",
          "width": 10.142857142857142
         },
         "locationmode": "country names",
         "lon": [
          10.451526,
          15.472962
         ],
         "mode": "lines+markers",
         "name": "CZ DE",
         "showlegend": false,
         "type": "scattergeo"
        },
        {
         "lat": [
          51.919438,
          49.817492
         ],
         "legendgroup": "CZ PL",
         "line": {
          "color": "#f4b6c2",
          "width": 0.5714285714285715
         },
         "locationmode": "country names",
         "lon": [
          19.145136,
          15.472962
         ],
         "mode": "lines+markers",
         "name": "CZ PL",
         "showlegend": false,
         "type": "scattergeo"
        },
        {
         "lat": [
          48.669026,
          49.817492
         ],
         "legendgroup": "CZ SK",
         "line": {
          "color": "#f4b6c2",
          "width": 9.714285714285714
         },
         "locationmode": "country names",
         "lon": [
          19.699024,
          15.472962
         ],
         "mode": "lines+markers",
         "name": "CZ SK",
         "showlegend": false,
         "type": "scattergeo"
        },
        {
         "lat": [
          56.26392,
          51.165691
         ],
         "legendgroup": "DE DK",
         "line": {
          "color": "#f4b6c2",
          "width": 17.714285714285715
         },
         "locationmode": "country names",
         "lon": [
          9.501785,
          10.451526
         ],
         "mode": "lines+markers",
         "name": "DE DK",
         "showlegend": false,
         "type": "scattergeo"
        },
        {
         "lat": [
          46.227638,
          51.165691
         ],
         "legendgroup": "DE FR",
         "line": {
          "color": "#f4b6c2",
          "width": 9.571428571428571
         },
         "locationmode": "country names",
         "lon": [
          2.213749,
          10.451526
         ],
         "mode": "lines+markers",
         "name": "DE FR",
         "showlegend": false,
         "type": "scattergeo"
        },
        {
         "lat": [
          49.815273,
          51.165691
         ],
         "legendgroup": "DE LU",
         "line": {
          "color": "#f4b6c2",
          "width": 5.6
         },
         "locationmode": "country names",
         "lon": [
          6.129583,
          10.451526
         ],
         "mode": "lines+markers",
         "name": "DE LU",
         "showlegend": false,
         "type": "scattergeo"
        },
        {
         "lat": [
          52.132633,
          51.165691
         ],
         "legendgroup": "DE NL",
         "line": {
          "color": "#f4b6c2",
          "width": 16.285714285714285
         },
         "locationmode": "country names",
         "lon": [
          5.291266,
          10.451526
         ],
         "mode": "lines+markers",
         "name": "DE NL",
         "showlegend": false,
         "type": "scattergeo"
        },
        {
         "lat": [
          60,
          51.165691
         ],
         "legendgroup": "DE NO",
         "line": {
          "color": "#f4b6c2",
          "width": 8.251428571428571
         },
         "locationmode": "country names",
         "lon": [
          6,
          10.451526
         ],
         "mode": "lines+markers",
         "name": "DE NO",
         "showlegend": false,
         "type": "scattergeo"
        },
        {
         "lat": [
          51.919438,
          51.165691
         ],
         "legendgroup": "DE PL",
         "line": {
          "color": "#f4b6c2",
          "width": 0.5714285714285715
         },
         "locationmode": "country names",
         "lon": [
          19.145136,
          10.451526
         ],
         "mode": "lines+markers",
         "name": "DE PL",
         "showlegend": false,
         "type": "scattergeo"
        },
        {
         "lat": [
          60,
          56.26392
         ],
         "legendgroup": "DK NO",
         "line": {
          "color": "#f4b6c2",
          "width": 9.714285714285714
         },
         "locationmode": "country names",
         "lon": [
          6,
          9.501785
         ],
         "mode": "lines+markers",
         "name": "DK NO",
         "showlegend": false,
         "type": "scattergeo"
        },
        {
         "lat": [
          60.128161,
          56.26392
         ],
         "legendgroup": "DK SE",
         "line": {
          "color": "#f4b6c2",
          "width": 13.942857142857143
         },
         "locationmode": "country names",
         "lon": [
          15,
          9.501785
         ],
         "mode": "lines+markers",
         "name": "DK SE",
         "showlegend": false,
         "type": "scattergeo"
        },
        {
         "lat": [
          61.92411,
          58.595272
         ],
         "legendgroup": "EE FI",
         "line": {
          "color": "#f4b6c2",
          "width": 2.085714285714286
         },
         "locationmode": "country names",
         "lon": [
          25.748151,
          25.013607
         ],
         "mode": "lines+markers",
         "name": "EE FI",
         "showlegend": false,
         "type": "scattergeo"
        },
        {
         "lat": [
          56.879635,
          58.595272
         ],
         "legendgroup": "EE LV",
         "line": {
          "color": "#f4b6c2",
          "width": 4.571428571428572
         },
         "locationmode": "country names",
         "lon": [
          24.603189,
          25.013607
         ],
         "mode": "lines+markers",
         "name": "EE LV",
         "showlegend": false,
         "type": "scattergeo"
        },
        {
         "lat": [
          46.227638,
          40.463667
         ],
         "legendgroup": "ES FR",
         "line": {
          "color": "#f4b6c2",
          "width": 6.119047617142856
         },
         "locationmode": "country names",
         "lon": [
          2.213749,
          -3.74922
         ],
         "mode": "lines+markers",
         "name": "ES FR",
         "showlegend": false,
         "type": "scattergeo"
        },
        {
         "lat": [
          39.399872,
          40.463667
         ],
         "legendgroup": "ES PT",
         "line": {
          "color": "#f4b6c2",
          "width": 8.392857142857142
         },
         "locationmode": "country names",
         "lon": [
          -8.224454,
          -3.74922
         ],
         "mode": "lines+markers",
         "name": "ES PT",
         "showlegend": false,
         "type": "scattergeo"
        },
        {
         "lat": [
          60.128161,
          61.92411
         ],
         "legendgroup": "FI SE",
         "line": {
          "color": "#f4b6c2",
          "width": 11.142857142857142
         },
         "locationmode": "country names",
         "lon": [
          15,
          25.748151
         ],
         "mode": "lines+markers",
         "name": "FI SE",
         "showlegend": false,
         "type": "scattergeo"
        },
        {
         "lat": [
          41.87194,
          46.227638
         ],
         "legendgroup": "FR IT",
         "line": {
          "color": "#f4b6c2",
          "width": 4.948571428571428
         },
         "locationmode": "country names",
         "lon": [
          12.56738,
          2.213749
         ],
         "mode": "lines+markers",
         "name": "FR IT",
         "showlegend": false,
         "type": "scattergeo"
        },
        {
         "lat": [
          55.378051,
          46.227638
         ],
         "legendgroup": "FR UK",
         "line": {
          "color": "#f4b6c2",
          "width": 11.428571428571427
         },
         "locationmode": "country names",
         "lon": [
          -3.435973,
          2.213749
         ],
         "mode": "lines+markers",
         "name": "FR UK",
         "showlegend": false,
         "type": "scattergeo"
        },
        {
         "lat": [
          41.87194,
          39.074208
         ],
         "legendgroup": "GR IT",
         "line": {
          "color": "#f4b6c2",
          "width": 2.8571428571428568
         },
         "locationmode": "country names",
         "lon": [
          12.56738,
          21.824312
         ],
         "mode": "lines+markers",
         "name": "GR IT",
         "showlegend": false,
         "type": "scattergeo"
        },
        {
         "lat": [
          44.29182,
          39.074208
         ],
         "legendgroup": "GR NONEU_Balkan",
         "line": {
          "color": "#f4b6c2",
          "width": 1.7142857142857144
         },
         "locationmode": "country names",
         "lon": [
          19.24671,
          21.824312
         ],
         "mode": "lines+markers",
         "name": "GR NONEU_Balkan",
         "showlegend": false,
         "type": "scattergeo"
        },
        {
         "lat": [
          38.963745,
          39.074208
         ],
         "legendgroup": "GR TR",
         "line": {
          "color": "#f4b6c2",
          "width": 5.7142857142857135
         },
         "locationmode": "country names",
         "lon": [
          35.243322,
          21.824312
         ],
         "mode": "lines+markers",
         "name": "GR TR",
         "showlegend": false,
         "type": "scattergeo"
        },
        {
         "lat": [
          47.162494,
          45.1
         ],
         "legendgroup": "HR HU",
         "line": {
          "color": "#f4b6c2",
          "width": 5.7142857142857135
         },
         "locationmode": "country names",
         "lon": [
          19.503304,
          15.2
         ],
         "mode": "lines+markers",
         "name": "HR HU",
         "showlegend": false,
         "type": "scattergeo"
        },
        {
         "lat": [
          44.29182,
          45.1
         ],
         "legendgroup": "HR NONEU_Balkan",
         "line": {
          "color": "#f4b6c2",
          "width": 6.2857142857142865
         },
         "locationmode": "country names",
         "lon": [
          19.24671,
          15.2
         ],
         "mode": "lines+markers",
         "name": "HR NONEU_Balkan",
         "showlegend": false,
         "type": "scattergeo"
        },
        {
         "lat": [
          44.29182,
          47.162494
         ],
         "legendgroup": "HU NONEU_Balkan",
         "line": {
          "color": "#f4b6c2",
          "width": 3.9999999999999996
         },
         "locationmode": "country names",
         "lon": [
          19.24671,
          19.503304
         ],
         "mode": "lines+markers",
         "name": "HU NONEU_Balkan",
         "showlegend": false,
         "type": "scattergeo"
        },
        {
         "lat": [
          45.943161,
          47.162494
         ],
         "legendgroup": "HU RO",
         "line": {
          "color": "#f4b6c2",
          "width": 2.285714285714286
         },
         "locationmode": "country names",
         "lon": [
          24.96676,
          19.503304
         ],
         "mode": "lines+markers",
         "name": "HU RO",
         "showlegend": false,
         "type": "scattergeo"
        },
        {
         "lat": [
          48.669026,
          47.162494
         ],
         "legendgroup": "HU SK",
         "line": {
          "color": "#f4b6c2",
          "width": 4.571428571428572
         },
         "locationmode": "country names",
         "lon": [
          19.699024,
          19.503304
         ],
         "mode": "lines+markers",
         "name": "HU SK",
         "showlegend": false,
         "type": "scattergeo"
        },
        {
         "lat": [
          55.378051,
          53.41291
         ],
         "legendgroup": "IE UK",
         "line": {
          "color": "#f4b6c2",
          "width": 2.5714285714285716
         },
         "locationmode": "country names",
         "lon": [
          -3.435973,
          -8.24389
         ],
         "mode": "lines+markers",
         "name": "IE UK",
         "showlegend": false,
         "type": "scattergeo"
        },
        {
         "lat": [
          46.151241,
          41.87194
         ],
         "legendgroup": "IT SI",
         "line": {
          "color": "#f4b6c2",
          "width": 1.0285714285714285
         },
         "locationmode": "country names",
         "lon": [
          14.995463,
          12.56738
         ],
         "mode": "lines+markers",
         "name": "IT SI",
         "showlegend": false,
         "type": "scattergeo"
        },
        {
         "lat": [
          56.879635,
          55.169438
         ],
         "legendgroup": "LT LV",
         "line": {
          "color": "#f4b6c2",
          "width": 8.571428571428571
         },
         "locationmode": "country names",
         "lon": [
          24.603189,
          23.881275
         ],
         "mode": "lines+markers",
         "name": "LT LV",
         "showlegend": false,
         "type": "scattergeo"
        },
        {
         "lat": [
          55.378051,
          52.132633
         ],
         "legendgroup": "NL UK",
         "line": {
          "color": "#f4b6c2",
          "width": 5.805714285714286
         },
         "locationmode": "country names",
         "lon": [
          -3.435973,
          5.291266
         ],
         "mode": "lines+markers",
         "name": "NL UK",
         "showlegend": false,
         "type": "scattergeo"
        },
        {
         "lat": [
          60.128161,
          60
         ],
         "legendgroup": "NO SE",
         "line": {
          "color": "#f4b6c2",
          "width": 19.685714285714283
         },
         "locationmode": "country names",
         "lon": [
          15,
          6
         ],
         "mode": "lines+markers",
         "name": "NO SE",
         "showlegend": false,
         "type": "scattergeo"
        },
        {
         "lat": [
          55.378051,
          60
         ],
         "legendgroup": "NO UK",
         "line": {
          "color": "#f4b6c2",
          "width": 15.999999999999998
         },
         "locationmode": "country names",
         "lon": [
          -3.435973,
          6
         ],
         "mode": "lines+markers",
         "name": "NO UK",
         "showlegend": false,
         "type": "scattergeo"
        },
        {
         "lat": [
          45.943161,
          44.29182
         ],
         "legendgroup": "NONEU_Balkan RO",
         "line": {
          "color": "#f4b6c2",
          "width": 1.142857142857143
         },
         "locationmode": "country names",
         "lon": [
          24.96676,
          19.24671
         ],
         "mode": "lines+markers",
         "name": "NONEU_Balkan RO",
         "showlegend": false,
         "type": "scattergeo"
        },
        {
         "lat": [
          60.128161,
          51.919438
         ],
         "legendgroup": "PL SE",
         "line": {
          "color": "#f4b6c2",
          "width": 1.5195238114285714
         },
         "locationmode": "country names",
         "lon": [
          15,
          19.145136
         ],
         "mode": "lines+markers",
         "name": "PL SE",
         "showlegend": false,
         "type": "scattergeo"
        },
        {
         "lat": [
          48.669026,
          51.919438
         ],
         "legendgroup": "PL SK",
         "line": {
          "color": "#f4b6c2",
          "width": 3.428571428571429
         },
         "locationmode": "country names",
         "lon": [
          19.699024,
          19.145136
         ],
         "mode": "lines+markers",
         "name": "PL SK",
         "showlegend": false,
         "type": "scattergeo"
        },
        {
         "lat": [
          47.166511457
         ],
         "locationmode": "country names",
         "lon": [
          11.382469440000001
         ],
         "mode": "text",
         "showlegend": false,
         "text": " 0.43 GW",
         "textfont": {
          "color": "black",
          "size": 8
         },
         "textposition": "top center",
         "type": "scattergeo"
        },
        {
         "lat": [
          48.669162761
         ],
         "locationmode": "country names",
         "lon": [
          15.01243989
         ],
         "mode": "text",
         "showlegend": false,
         "text": " 0.90 GW",
         "textfont": {
          "color": "black",
          "size": 8
         },
         "textposition": "top center",
         "type": "scattergeo"
        },
        {
         "lat": [
          49.34461046
         ],
         "locationmode": "country names",
         "lon": [
          12.496700453999999
         ],
         "mode": "text",
         "showlegend": false,
         "text": " 2.00 GW",
         "textfont": {
          "color": "black",
          "size": 8
         },
         "textposition": "top center",
         "type": "scattergeo"
        },
        {
         "lat": [
          47.339008763
         ],
         "locationmode": "country names",
         "lon": [
          17.031641232
         ],
         "mode": "text",
         "showlegend": false,
         "text": " 0.80 GW",
         "textfont": {
          "color": "black",
          "size": 8
         },
         "textposition": "top center",
         "type": "scattergeo"
        },
        {
         "lat": [
          44.688441209
         ],
         "locationmode": "country names",
         "lon": [
          13.556743308
         ],
         "mode": "text",
         "showlegend": false,
         "text": " 0.07 GW",
         "textfont": {
          "color": "black",
          "size": 8
         },
         "textposition": "top center",
         "type": "scattergeo"
        },
        {
         "lat": [
          46.832371009999996
         ],
         "locationmode": "country names",
         "lon": [
          14.773212891
         ],
         "mode": "text",
         "showlegend": false,
         "text": " 0.95 GW",
         "textfont": {
          "color": "black",
          "size": 8
         },
         "textposition": "top center",
         "type": "scattergeo"
        },
        {
         "lat": [
          48.361486251
         ],
         "locationmode": "country names",
         "lon": [
          3.339586313
         ],
         "mode": "text",
         "showlegend": false,
         "text": " 1.50 GW",
         "textfont": {
          "color": "black",
          "size": 8
         },
         "textposition": "top center",
         "type": "scattergeo"
        },
        {
         "lat": [
          51.319888746
         ],
         "locationmode": "country names",
         "lon": [
          4.88142233
         ],
         "mode": "text",
         "showlegend": false,
         "text": " 1.43 GW",
         "textfont": {
          "color": "black",
          "size": 8
         },
         "textposition": "top center",
         "type": "scattergeo"
        },
        {
         "lat": [
          43.514409437
         ],
         "locationmode": "country names",
         "lon": [
          22.36003088
         ],
         "mode": "text",
         "showlegend": false,
         "text": " 0.35 GW",
         "textfont": {
          "color": "black",
          "size": 8
         },
         "textposition": "top center",
         "type": "scattergeo"
        },
        {
         "lat": [
          44.341731278
         ],
         "locationmode": "country names",
         "lon": [
          25.22577593
         ],
         "mode": "text",
         "showlegend": false,
         "text": " 0.15 GW",
         "textfont": {
          "color": "black",
          "size": 8
         },
         "textposition": "top center",
         "type": "scattergeo"
        },
        {
         "lat": [
          40.845043862000004
         ],
         "locationmode": "country names",
         "lon": [
          30.374333491999998
         ],
         "mode": "text",
         "showlegend": false,
         "text": " 1.00 GW",
         "textfont": {
          "color": "black",
          "size": 8
         },
         "textposition": "top center",
         "type": "scattergeo"
        },
        {
         "lat": [
          48.996287003
         ],
         "locationmode": "country names",
         "lon": [
          9.341743014
         ],
         "mode": "text",
         "showlegend": false,
         "text": " 3.50 GW",
         "textfont": {
          "color": "black",
          "size": 8
         },
         "textposition": "top center",
         "type": "scattergeo"
        },
        {
         "lat": [
          46.52232245
         ],
         "locationmode": "country names",
         "lon": [
          5.214616737
         ],
         "mode": "text",
         "showlegend": false,
         "text": " 1.10 GW",
         "textfont": {
          "color": "black",
          "size": 8
         },
         "textposition": "top center",
         "type": "scattergeo"
        },
        {
         "lat": [
          44.340117752
         ],
         "locationmode": "country names",
         "lon": [
          10.401785868000001
         ],
         "mode": "text",
         "showlegend": false,
         "text": " 1.34 GW",
         "textfont": {
          "color": "black",
          "size": 8
         },
         "textposition": "top center",
         "type": "scattergeo"
        },
        {
         "lat": [
          50.492939699000004
         ],
         "locationmode": "country names",
         "lon": [
          12.957222564
         ],
         "mode": "text",
         "showlegend": false,
         "text": " 1.77 GW",
         "textfont": {
          "color": "black",
          "size": 8
         },
         "textposition": "top center",
         "type": "scattergeo"
        },
        {
         "lat": [
          50.870566946000004
         ],
         "locationmode": "country names",
         "lon": [
          17.312721174
         ],
         "mode": "text",
         "showlegend": false,
         "text": " 0.10 GW",
         "textfont": {
          "color": "black",
          "size": 8
         },
         "textposition": "top center",
         "type": "scattergeo"
        },
        {
         "lat": [
          49.242110534000005
         ],
         "locationmode": "country names",
         "lon": [
          17.590219062000003
         ],
         "mode": "text",
         "showlegend": false,
         "text": " 1.70 GW",
         "textfont": {
          "color": "black",
          "size": 8
         },
         "textposition": "top center",
         "type": "scattergeo"
        },
        {
         "lat": [
          53.719903729
         ],
         "locationmode": "country names",
         "lon": [
          9.975705759
         ],
         "mode": "text",
         "showlegend": false,
         "text": " 3.10 GW",
         "textfont": {
          "color": "black",
          "size": 8
         },
         "textposition": "top center",
         "type": "scattergeo"
        },
        {
         "lat": [
          48.691726447
         ],
         "locationmode": "country names",
         "lon": [
          6.324399723
         ],
         "mode": "text",
         "showlegend": false,
         "text": " 1.68 GW",
         "textfont": {
          "color": "black",
          "size": 8
         },
         "textposition": "top center",
         "type": "scattergeo"
        },
        {
         "lat": [
          50.489131582
         ],
         "locationmode": "country names",
         "lon": [
          8.286232557
         ],
         "mode": "text",
         "showlegend": false,
         "text": " 0.98 GW",
         "textfont": {
          "color": "black",
          "size": 8
         },
         "textposition": "top center",
         "type": "scattergeo"
        },
        {
         "lat": [
          51.650128942
         ],
         "locationmode": "country names",
         "lon": [
          7.8662357400000005
         ],
         "mode": "text",
         "showlegend": false,
         "text": " 2.85 GW",
         "textfont": {
          "color": "black",
          "size": 8
         },
         "textposition": "top center",
         "type": "scattergeo"
        },
        {
         "lat": [
          55.591679809
         ],
         "locationmode": "country names",
         "lon": [
          8.221311474
         ],
         "mode": "text",
         "showlegend": false,
         "text": " 1.44 GW",
         "textfont": {
          "color": "black",
          "size": 8
         },
         "textposition": "top center",
         "type": "scattergeo"
        },
        {
         "lat": [
          51.543318247
         ],
         "locationmode": "country names",
         "lon": [
          14.80702461
         ],
         "mode": "text",
         "showlegend": false,
         "text": " 0.10 GW",
         "textfont": {
          "color": "black",
          "size": 8
         },
         "textposition": "top center",
         "type": "scattergeo"
        },
        {
         "lat": [
          58.13569608
         ],
         "locationmode": "country names",
         "lon": [
          7.747390715
         ],
         "mode": "text",
         "showlegend": false,
         "text": " 1.70 GW",
         "textfont": {
          "color": "black",
          "size": 8
         },
         "textposition": "top center",
         "type": "scattergeo"
        },
        {
         "lat": [
          58.199904741
         ],
         "locationmode": "country names",
         "lon": [
          12.256390715
         ],
         "mode": "text",
         "showlegend": false,
         "text": " 2.44 GW",
         "textfont": {
          "color": "black",
          "size": 8
         },
         "textposition": "top center",
         "type": "scattergeo"
        },
        {
         "lat": [
          60.263019838
         ],
         "locationmode": "country names",
         "lon": [
          25.381613544
         ],
         "mode": "text",
         "showlegend": false,
         "text": " 0.36 GW",
         "textfont": {
          "color": "black",
          "size": 8
         },
         "textposition": "top center",
         "type": "scattergeo"
        },
        {
         "lat": [
          57.735737863000004
         ],
         "locationmode": "country names",
         "lon": [
          24.807987582
         ],
         "mode": "text",
         "showlegend": false,
         "text": " 0.80 GW",
         "textfont": {
          "color": "black",
          "size": 8
         },
         "textposition": "top center",
         "type": "scattergeo"
        },
        {
         "lat": [
          43.351416471
         ],
         "locationmode": "country names",
         "lon": [
          -0.7617725310000001
         ],
         "mode": "text",
         "showlegend": false,
         "text": " 1.07 GW",
         "textfont": {
          "color": "black",
          "size": 8
         },
         "textposition": "top center",
         "type": "scattergeo"
        },
        {
         "lat": [
          39.930705705
         ],
         "locationmode": "country names",
         "lon": [
          -5.9913122340000005
         ],
         "mode": "text",
         "showlegend": false,
         "text": " 1.47 GW",
         "textfont": {
          "color": "black",
          "size": 8
         },
         "textposition": "top center",
         "type": "scattergeo"
        },
        {
         "lat": [
          61.024339551
         ],
         "locationmode": "country names",
         "lon": [
          20.363327349000002
         ],
         "mode": "text",
         "showlegend": false,
         "text": " 1.95 GW",
         "textfont": {
          "color": "black",
          "size": 8
         },
         "textposition": "top center",
         "type": "scattergeo"
        },
        {
         "lat": [
          44.045433302
         ],
         "locationmode": "country names",
         "lon": [
          7.400918131
         ],
         "mode": "text",
         "showlegend": false,
         "text": " 0.87 GW",
         "textfont": {
          "color": "black",
          "size": 8
         },
         "textposition": "top center",
         "type": "scattergeo"
        },
        {
         "lat": [
          50.811994913
         ],
         "locationmode": "country names",
         "lon": [
          -0.6167617219999997
         ],
         "mode": "text",
         "showlegend": false,
         "text": " 2.00 GW",
         "textfont": {
          "color": "black",
          "size": 8
         },
         "textposition": "top center",
         "type": "scattergeo"
        },
        {
         "lat": [
          40.475871732
         ],
         "locationmode": "country names",
         "lon": [
          17.186589068
         ],
         "mode": "text",
         "showlegend": false,
         "text": " 0.50 GW",
         "textfont": {
          "color": "black",
          "size": 8
         },
         "textposition": "top center",
         "type": "scattergeo"
        },
        {
         "lat": [
          41.688231612
         ],
         "locationmode": "country names",
         "lon": [
          20.532933398
         ],
         "mode": "text",
         "showlegend": false,
         "text": " 0.30 GW",
         "textfont": {
          "color": "black",
          "size": 8
         },
         "textposition": "top center",
         "type": "scattergeo"
        },
        {
         "lat": [
          39.018866037
         ],
         "locationmode": "country names",
         "lon": [
          28.54723601
         ],
         "mode": "text",
         "showlegend": false,
         "text": " 1.00 GW",
         "textfont": {
          "color": "black",
          "size": 8
         },
         "textposition": "top center",
         "type": "scattergeo"
        },
        {
         "lat": [
          46.133309494
         ],
         "locationmode": "country names",
         "lon": [
          17.355955304
         ],
         "mode": "text",
         "showlegend": false,
         "text": " 1.00 GW",
         "textfont": {
          "color": "black",
          "size": 8
         },
         "textposition": "top center",
         "type": "scattergeo"
        },
        {
         "lat": [
          44.69510182
         ],
         "locationmode": "country names",
         "lon": [
          17.22740171
         ],
         "mode": "text",
         "showlegend": false,
         "text": " 1.10 GW",
         "textfont": {
          "color": "black",
          "size": 8
         },
         "textposition": "top center",
         "type": "scattergeo"
        },
        {
         "lat": [
          45.724286326000005
         ],
         "locationmode": "country names",
         "lon": [
          19.374750406
         ],
         "mode": "text",
         "showlegend": false,
         "text": " 0.70 GW",
         "textfont": {
          "color": "black",
          "size": 8
         },
         "textposition": "top center",
         "type": "scattergeo"
        },
        {
         "lat": [
          46.551608167000005
         ],
         "locationmode": "country names",
         "lon": [
          22.240495456
         ],
         "mode": "text",
         "showlegend": false,
         "text": " 0.40 GW",
         "textfont": {
          "color": "black",
          "size": 8
         },
         "textposition": "top center",
         "type": "scattergeo"
        },
        {
         "lat": [
          47.917266532
         ],
         "locationmode": "country names",
         "lon": [
          19.60135972
         ],
         "mode": "text",
         "showlegend": false,
         "text": " 0.80 GW",
         "textfont": {
          "color": "black",
          "size": 8
         },
         "textposition": "top center",
         "type": "scattergeo"
        },
        {
         "lat": [
          54.397445641
         ],
         "locationmode": "country names",
         "lon": [
          -5.835123583
         ],
         "mode": "text",
         "showlegend": false,
         "text": " 0.45 GW",
         "textfont": {
          "color": "black",
          "size": 8
         },
         "textposition": "top center",
         "type": "scattergeo"
        },
        {
         "lat": [
          44.015869801
         ],
         "locationmode": "country names",
         "lon": [
          13.783849583
         ],
         "mode": "text",
         "showlegend": false,
         "text": " 0.18 GW",
         "textfont": {
          "color": "black",
          "size": 8
         },
         "textposition": "top center",
         "type": "scattergeo"
        },
        {
         "lat": [
          56.026246697
         ],
         "locationmode": "country names",
         "lon": [
          24.242953914
         ],
         "mode": "text",
         "showlegend": false,
         "text": " 1.50 GW",
         "textfont": {
          "color": "black",
          "size": 8
         },
         "textposition": "top center",
         "type": "scattergeo"
        },
        {
         "lat": [
          53.758587418
         ],
         "locationmode": "country names",
         "lon": [
          0.9189192610000005
         ],
         "mode": "text",
         "showlegend": false,
         "text": " 1.02 GW",
         "textfont": {
          "color": "black",
          "size": 8
         },
         "textposition": "top center",
         "type": "scattergeo"
        },
        {
         "lat": [
          60.064208661
         ],
         "locationmode": "country names",
         "lon": [
          10.509
         ],
         "mode": "text",
         "showlegend": false,
         "text": " 3.44 GW",
         "textfont": {
          "color": "black",
          "size": 8
         },
         "textposition": "top center",
         "type": "scattergeo"
        },
        {
         "lat": [
          57.684403551
         ],
         "locationmode": "country names",
         "lon": [
          1.2725775269999997
         ],
         "mode": "text",
         "showlegend": false,
         "text": " 2.80 GW",
         "textfont": {
          "color": "black",
          "size": 8
         },
         "textposition": "top center",
         "type": "scattergeo"
        },
        {
         "lat": [
          45.119141841
         ],
         "locationmode": "country names",
         "lon": [
          22.11245505
         ],
         "mode": "text",
         "showlegend": false,
         "text": " 0.20 GW",
         "textfont": {
          "color": "black",
          "size": 8
         },
         "textposition": "top center",
         "type": "scattergeo"
        },
        {
         "lat": [
          56.032008223
         ],
         "locationmode": "country names",
         "lon": [
          17.068422864
         ],
         "mode": "text",
         "showlegend": false,
         "text": " 0.27 GW",
         "textfont": {
          "color": "black",
          "size": 8
         },
         "textposition": "top center",
         "type": "scattergeo"
        },
        {
         "lat": [
          50.290981588
         ],
         "locationmode": "country names",
         "lon": [
          19.422633888
         ],
         "mode": "text",
         "showlegend": false,
         "text": " 0.60 GW",
         "textfont": {
          "color": "black",
          "size": 8
         },
         "textposition": "top center",
         "type": "scattergeo"
        }
       ],
       "layout": {
        "geo": {
         "countrycolor": "white",
         "countrywidth": 1,
         "lakecolor": "#DEF4FC",
         "landcolor": "rgb(229, 229, 229)",
         "lataxis": {
          "range": [
           35,
           70
          ]
         },
         "lonaxis": {
          "range": [
           -9.7,
           38
          ]
         },
         "oceancolor": "#DCFBFB",
         "showcoastlines": false,
         "showcountries": true,
         "showlakes": true,
         "showland": true,
         "showocean": true
        },
        "height": 900,
        "margin": {
         "b": 0,
         "l": 0,
         "r": 0,
         "t": 30
        },
        "template": {
         "data": {
          "bar": [
           {
            "error_x": {
             "color": "#2a3f5f"
            },
            "error_y": {
             "color": "#2a3f5f"
            },
            "marker": {
             "line": {
              "color": "#E5ECF6",
              "width": 0.5
             },
             "pattern": {
              "fillmode": "overlay",
              "size": 10,
              "solidity": 0.2
             }
            },
            "type": "bar"
           }
          ],
          "barpolar": [
           {
            "marker": {
             "line": {
              "color": "#E5ECF6",
              "width": 0.5
             },
             "pattern": {
              "fillmode": "overlay",
              "size": 10,
              "solidity": 0.2
             }
            },
            "type": "barpolar"
           }
          ],
          "carpet": [
           {
            "aaxis": {
             "endlinecolor": "#2a3f5f",
             "gridcolor": "white",
             "linecolor": "white",
             "minorgridcolor": "white",
             "startlinecolor": "#2a3f5f"
            },
            "baxis": {
             "endlinecolor": "#2a3f5f",
             "gridcolor": "white",
             "linecolor": "white",
             "minorgridcolor": "white",
             "startlinecolor": "#2a3f5f"
            },
            "type": "carpet"
           }
          ],
          "choropleth": [
           {
            "colorbar": {
             "outlinewidth": 0,
             "ticks": ""
            },
            "type": "choropleth"
           }
          ],
          "contour": [
           {
            "colorbar": {
             "outlinewidth": 0,
             "ticks": ""
            },
            "colorscale": [
             [
              0,
              "#0d0887"
             ],
             [
              0.1111111111111111,
              "#46039f"
             ],
             [
              0.2222222222222222,
              "#7201a8"
             ],
             [
              0.3333333333333333,
              "#9c179e"
             ],
             [
              0.4444444444444444,
              "#bd3786"
             ],
             [
              0.5555555555555556,
              "#d8576b"
             ],
             [
              0.6666666666666666,
              "#ed7953"
             ],
             [
              0.7777777777777778,
              "#fb9f3a"
             ],
             [
              0.8888888888888888,
              "#fdca26"
             ],
             [
              1,
              "#f0f921"
             ]
            ],
            "type": "contour"
           }
          ],
          "contourcarpet": [
           {
            "colorbar": {
             "outlinewidth": 0,
             "ticks": ""
            },
            "type": "contourcarpet"
           }
          ],
          "heatmap": [
           {
            "colorbar": {
             "outlinewidth": 0,
             "ticks": ""
            },
            "colorscale": [
             [
              0,
              "#0d0887"
             ],
             [
              0.1111111111111111,
              "#46039f"
             ],
             [
              0.2222222222222222,
              "#7201a8"
             ],
             [
              0.3333333333333333,
              "#9c179e"
             ],
             [
              0.4444444444444444,
              "#bd3786"
             ],
             [
              0.5555555555555556,
              "#d8576b"
             ],
             [
              0.6666666666666666,
              "#ed7953"
             ],
             [
              0.7777777777777778,
              "#fb9f3a"
             ],
             [
              0.8888888888888888,
              "#fdca26"
             ],
             [
              1,
              "#f0f921"
             ]
            ],
            "type": "heatmap"
           }
          ],
          "heatmapgl": [
           {
            "colorbar": {
             "outlinewidth": 0,
             "ticks": ""
            },
            "colorscale": [
             [
              0,
              "#0d0887"
             ],
             [
              0.1111111111111111,
              "#46039f"
             ],
             [
              0.2222222222222222,
              "#7201a8"
             ],
             [
              0.3333333333333333,
              "#9c179e"
             ],
             [
              0.4444444444444444,
              "#bd3786"
             ],
             [
              0.5555555555555556,
              "#d8576b"
             ],
             [
              0.6666666666666666,
              "#ed7953"
             ],
             [
              0.7777777777777778,
              "#fb9f3a"
             ],
             [
              0.8888888888888888,
              "#fdca26"
             ],
             [
              1,
              "#f0f921"
             ]
            ],
            "type": "heatmapgl"
           }
          ],
          "histogram": [
           {
            "marker": {
             "pattern": {
              "fillmode": "overlay",
              "size": 10,
              "solidity": 0.2
             }
            },
            "type": "histogram"
           }
          ],
          "histogram2d": [
           {
            "colorbar": {
             "outlinewidth": 0,
             "ticks": ""
            },
            "colorscale": [
             [
              0,
              "#0d0887"
             ],
             [
              0.1111111111111111,
              "#46039f"
             ],
             [
              0.2222222222222222,
              "#7201a8"
             ],
             [
              0.3333333333333333,
              "#9c179e"
             ],
             [
              0.4444444444444444,
              "#bd3786"
             ],
             [
              0.5555555555555556,
              "#d8576b"
             ],
             [
              0.6666666666666666,
              "#ed7953"
             ],
             [
              0.7777777777777778,
              "#fb9f3a"
             ],
             [
              0.8888888888888888,
              "#fdca26"
             ],
             [
              1,
              "#f0f921"
             ]
            ],
            "type": "histogram2d"
           }
          ],
          "histogram2dcontour": [
           {
            "colorbar": {
             "outlinewidth": 0,
             "ticks": ""
            },
            "colorscale": [
             [
              0,
              "#0d0887"
             ],
             [
              0.1111111111111111,
              "#46039f"
             ],
             [
              0.2222222222222222,
              "#7201a8"
             ],
             [
              0.3333333333333333,
              "#9c179e"
             ],
             [
              0.4444444444444444,
              "#bd3786"
             ],
             [
              0.5555555555555556,
              "#d8576b"
             ],
             [
              0.6666666666666666,
              "#ed7953"
             ],
             [
              0.7777777777777778,
              "#fb9f3a"
             ],
             [
              0.8888888888888888,
              "#fdca26"
             ],
             [
              1,
              "#f0f921"
             ]
            ],
            "type": "histogram2dcontour"
           }
          ],
          "mesh3d": [
           {
            "colorbar": {
             "outlinewidth": 0,
             "ticks": ""
            },
            "type": "mesh3d"
           }
          ],
          "parcoords": [
           {
            "line": {
             "colorbar": {
              "outlinewidth": 0,
              "ticks": ""
             }
            },
            "type": "parcoords"
           }
          ],
          "pie": [
           {
            "automargin": true,
            "type": "pie"
           }
          ],
          "scatter": [
           {
            "fillpattern": {
             "fillmode": "overlay",
             "size": 10,
             "solidity": 0.2
            },
            "type": "scatter"
           }
          ],
          "scatter3d": [
           {
            "line": {
             "colorbar": {
              "outlinewidth": 0,
              "ticks": ""
             }
            },
            "marker": {
             "colorbar": {
              "outlinewidth": 0,
              "ticks": ""
             }
            },
            "type": "scatter3d"
           }
          ],
          "scattercarpet": [
           {
            "marker": {
             "colorbar": {
              "outlinewidth": 0,
              "ticks": ""
             }
            },
            "type": "scattercarpet"
           }
          ],
          "scattergeo": [
           {
            "marker": {
             "colorbar": {
              "outlinewidth": 0,
              "ticks": ""
             }
            },
            "type": "scattergeo"
           }
          ],
          "scattergl": [
           {
            "marker": {
             "colorbar": {
              "outlinewidth": 0,
              "ticks": ""
             }
            },
            "type": "scattergl"
           }
          ],
          "scattermapbox": [
           {
            "marker": {
             "colorbar": {
              "outlinewidth": 0,
              "ticks": ""
             }
            },
            "type": "scattermapbox"
           }
          ],
          "scatterpolar": [
           {
            "marker": {
             "colorbar": {
              "outlinewidth": 0,
              "ticks": ""
             }
            },
            "type": "scatterpolar"
           }
          ],
          "scatterpolargl": [
           {
            "marker": {
             "colorbar": {
              "outlinewidth": 0,
              "ticks": ""
             }
            },
            "type": "scatterpolargl"
           }
          ],
          "scatterternary": [
           {
            "marker": {
             "colorbar": {
              "outlinewidth": 0,
              "ticks": ""
             }
            },
            "type": "scatterternary"
           }
          ],
          "surface": [
           {
            "colorbar": {
             "outlinewidth": 0,
             "ticks": ""
            },
            "colorscale": [
             [
              0,
              "#0d0887"
             ],
             [
              0.1111111111111111,
              "#46039f"
             ],
             [
              0.2222222222222222,
              "#7201a8"
             ],
             [
              0.3333333333333333,
              "#9c179e"
             ],
             [
              0.4444444444444444,
              "#bd3786"
             ],
             [
              0.5555555555555556,
              "#d8576b"
             ],
             [
              0.6666666666666666,
              "#ed7953"
             ],
             [
              0.7777777777777778,
              "#fb9f3a"
             ],
             [
              0.8888888888888888,
              "#fdca26"
             ],
             [
              1,
              "#f0f921"
             ]
            ],
            "type": "surface"
           }
          ],
          "table": [
           {
            "cells": {
             "fill": {
              "color": "#EBF0F8"
             },
             "line": {
              "color": "white"
             }
            },
            "header": {
             "fill": {
              "color": "#C8D4E3"
             },
             "line": {
              "color": "white"
             }
            },
            "type": "table"
           }
          ]
         },
         "layout": {
          "annotationdefaults": {
           "arrowcolor": "#2a3f5f",
           "arrowhead": 0,
           "arrowwidth": 1
          },
          "autotypenumbers": "strict",
          "coloraxis": {
           "colorbar": {
            "outlinewidth": 0,
            "ticks": ""
           }
          },
          "colorscale": {
           "diverging": [
            [
             0,
             "#8e0152"
            ],
            [
             0.1,
             "#c51b7d"
            ],
            [
             0.2,
             "#de77ae"
            ],
            [
             0.3,
             "#f1b6da"
            ],
            [
             0.4,
             "#fde0ef"
            ],
            [
             0.5,
             "#f7f7f7"
            ],
            [
             0.6,
             "#e6f5d0"
            ],
            [
             0.7,
             "#b8e186"
            ],
            [
             0.8,
             "#7fbc41"
            ],
            [
             0.9,
             "#4d9221"
            ],
            [
             1,
             "#276419"
            ]
           ],
           "sequential": [
            [
             0,
             "#0d0887"
            ],
            [
             0.1111111111111111,
             "#46039f"
            ],
            [
             0.2222222222222222,
             "#7201a8"
            ],
            [
             0.3333333333333333,
             "#9c179e"
            ],
            [
             0.4444444444444444,
             "#bd3786"
            ],
            [
             0.5555555555555556,
             "#d8576b"
            ],
            [
             0.6666666666666666,
             "#ed7953"
            ],
            [
             0.7777777777777778,
             "#fb9f3a"
            ],
            [
             0.8888888888888888,
             "#fdca26"
            ],
            [
             1,
             "#f0f921"
            ]
           ],
           "sequentialminus": [
            [
             0,
             "#0d0887"
            ],
            [
             0.1111111111111111,
             "#46039f"
            ],
            [
             0.2222222222222222,
             "#7201a8"
            ],
            [
             0.3333333333333333,
             "#9c179e"
            ],
            [
             0.4444444444444444,
             "#bd3786"
            ],
            [
             0.5555555555555556,
             "#d8576b"
            ],
            [
             0.6666666666666666,
             "#ed7953"
            ],
            [
             0.7777777777777778,
             "#fb9f3a"
            ],
            [
             0.8888888888888888,
             "#fdca26"
            ],
            [
             1,
             "#f0f921"
            ]
           ]
          },
          "colorway": [
           "#636efa",
           "#EF553B",
           "#00cc96",
           "#ab63fa",
           "#FFA15A",
           "#19d3f3",
           "#FF6692",
           "#B6E880",
           "#FF97FF",
           "#FECB52"
          ],
          "font": {
           "color": "#2a3f5f"
          },
          "geo": {
           "bgcolor": "white",
           "lakecolor": "white",
           "landcolor": "#E5ECF6",
           "showlakes": true,
           "showland": true,
           "subunitcolor": "white"
          },
          "hoverlabel": {
           "align": "left"
          },
          "hovermode": "closest",
          "mapbox": {
           "style": "light"
          },
          "paper_bgcolor": "white",
          "plot_bgcolor": "#E5ECF6",
          "polar": {
           "angularaxis": {
            "gridcolor": "white",
            "linecolor": "white",
            "ticks": ""
           },
           "bgcolor": "#E5ECF6",
           "radialaxis": {
            "gridcolor": "white",
            "linecolor": "white",
            "ticks": ""
           }
          },
          "scene": {
           "xaxis": {
            "backgroundcolor": "#E5ECF6",
            "gridcolor": "white",
            "gridwidth": 2,
            "linecolor": "white",
            "showbackground": true,
            "ticks": "",
            "zerolinecolor": "white"
           },
           "yaxis": {
            "backgroundcolor": "#E5ECF6",
            "gridcolor": "white",
            "gridwidth": 2,
            "linecolor": "white",
            "showbackground": true,
            "ticks": "",
            "zerolinecolor": "white"
           },
           "zaxis": {
            "backgroundcolor": "#E5ECF6",
            "gridcolor": "white",
            "gridwidth": 2,
            "linecolor": "white",
            "showbackground": true,
            "ticks": "",
            "zerolinecolor": "white"
           }
          },
          "shapedefaults": {
           "line": {
            "color": "#2a3f5f"
           }
          },
          "ternary": {
           "aaxis": {
            "gridcolor": "white",
            "linecolor": "white",
            "ticks": ""
           },
           "baxis": {
            "gridcolor": "white",
            "linecolor": "white",
            "ticks": ""
           },
           "bgcolor": "#E5ECF6",
           "caxis": {
            "gridcolor": "white",
            "linecolor": "white",
            "ticks": ""
           }
          },
          "title": {
           "x": 0.05
          },
          "xaxis": {
           "automargin": true,
           "gridcolor": "white",
           "linecolor": "white",
           "ticks": "",
           "title": {
            "standoff": 15
           },
           "zerolinecolor": "white",
           "zerolinewidth": 2
          },
          "yaxis": {
           "automargin": true,
           "gridcolor": "white",
           "linecolor": "white",
           "ticks": "",
           "title": {
            "standoff": 15
           },
           "zerolinecolor": "white",
           "zerolinewidth": 2
          }
         }
        },
        "title": {
         "text": "Power Trade Capacity in 2018 - Season"
        },
        "width": 1620
       }
      }
     },
     "metadata": {},
     "output_type": "display_data"
    }
   ],
   "source": [
    "trade_capacity_plotter = TradeCapacityMapFacilitator(sol_path=SOLUTION_FILEPATH, year=2018)\n",
    "\n",
    "relevant_data = trade_capacity_plotter.get_relevant_data()\n",
    "\n",
    "relevant_data.TotalTradeCapacity.filter_by_identifier(column=\"Fuel\", identifier=\"Power\")\n",
    "\n",
    "fig = trade_capacity_plotter.plot(relevant_data)\n",
    "\n",
    "fig.layout.title = \"Power Trade Capacity in 2018\" + TITLE_ADDON\n",
    "\n",
    "fig.update_layout(margin=dict(l=0, r=0, t=30, b=0))\n",
    "\n",
    "if WRITE_IMAGE:\n",
    "    fig.write_image(\"PowerTradeCapacity2018\" + TITLE_ADDON.replace(\" \", \"\") + \".png\")\n",
    "\n",
    "fig.show()"
   ]
  },
  {
   "cell_type": "code",
   "execution_count": 37,
   "metadata": {},
   "outputs": [
    {
     "name": "stdout",
     "output_type": "stream",
     "text": [
      "No unit conversion applied!\n"
     ]
    },
    {
     "data": {
      "application/vnd.plotly.v1+json": {
       "config": {
        "plotlyServerURL": "https://plot.ly"
       },
       "data": [
        {
         "lat": [
          46.818188,
          47.516231
         ],
         "legendgroup": "AT CH",
         "line": {
          "color": "#f4b6c2",
          "width": 2.48
         },
         "locationmode": "country names",
         "lon": [
          8.227512,
          14.550072
         ],
         "mode": "lines+markers",
         "name": "AT CH",
         "showlegend": false,
         "type": "scattergeo"
        },
        {
         "lat": [
          49.817492,
          47.516231
         ],
         "legendgroup": "AT CZ",
         "line": {
          "color": "#f4b6c2",
          "width": 5.142857142857143
         },
         "locationmode": "country names",
         "lon": [
          15.472962,
          14.550072
         ],
         "mode": "lines+markers",
         "name": "AT CZ",
         "showlegend": false,
         "type": "scattergeo"
        },
        {
         "lat": [
          51.165691,
          47.516231
         ],
         "legendgroup": "AT DE",
         "line": {
          "color": "#f4b6c2",
          "width": 11.428571428571427
         },
         "locationmode": "country names",
         "lon": [
          10.451526,
          14.550072
         ],
         "mode": "lines+markers",
         "name": "AT DE",
         "showlegend": false,
         "type": "scattergeo"
        },
        {
         "lat": [
          47.162494,
          47.516231
         ],
         "legendgroup": "AT HU",
         "line": {
          "color": "#f4b6c2",
          "width": 4.571428571428572
         },
         "locationmode": "country names",
         "lon": [
          19.503304,
          14.550072
         ],
         "mode": "lines+markers",
         "name": "AT HU",
         "showlegend": false,
         "type": "scattergeo"
        },
        {
         "lat": [
          41.87194,
          47.516231
         ],
         "legendgroup": "AT IT",
         "line": {
          "color": "#f4b6c2",
          "width": 0.4057142857142857
         },
         "locationmode": "country names",
         "lon": [
          12.56738,
          14.550072
         ],
         "mode": "lines+markers",
         "name": "AT IT",
         "showlegend": false,
         "type": "scattergeo"
        },
        {
         "lat": [
          46.151241,
          47.516231
         ],
         "legendgroup": "AT SI",
         "line": {
          "color": "#f4b6c2",
          "width": 5.4290476171428566
         },
         "locationmode": "country names",
         "lon": [
          14.995463,
          14.550072
         ],
         "mode": "lines+markers",
         "name": "AT SI",
         "showlegend": false,
         "type": "scattergeo"
        },
        {
         "lat": [
          46.227638,
          50.503887
         ],
         "legendgroup": "BE FR",
         "line": {
          "color": "#f4b6c2",
          "width": 8.571428571428571
         },
         "locationmode": "country names",
         "lon": [
          2.213749,
          4.469936
         ],
         "mode": "lines+markers",
         "name": "BE FR",
         "showlegend": false,
         "type": "scattergeo"
        },
        {
         "lat": [
          52.132633,
          50.503887
         ],
         "legendgroup": "BE NL",
         "line": {
          "color": "#f4b6c2",
          "width": 8.148571428571428
         },
         "locationmode": "country names",
         "lon": [
          5.291266,
          4.469936
         ],
         "mode": "lines+markers",
         "name": "BE NL",
         "showlegend": false,
         "type": "scattergeo"
        },
        {
         "lat": [
          44.29182,
          42.733883
         ],
         "legendgroup": "BG NONEU_Balkan",
         "line": {
          "color": "#f4b6c2",
          "width": 1.9999999999999998
         },
         "locationmode": "country names",
         "lon": [
          19.24671,
          25.48583
         ],
         "mode": "lines+markers",
         "name": "BG NONEU_Balkan",
         "showlegend": false,
         "type": "scattergeo"
        },
        {
         "lat": [
          45.943161,
          42.733883
         ],
         "legendgroup": "BG RO",
         "line": {
          "color": "#f4b6c2",
          "width": 0.8571428571428572
         },
         "locationmode": "country names",
         "lon": [
          24.96676,
          25.48583
         ],
         "mode": "lines+markers",
         "name": "BG RO",
         "showlegend": false,
         "type": "scattergeo"
        },
        {
         "lat": [
          38.963745,
          42.733883
         ],
         "legendgroup": "BG TR",
         "line": {
          "color": "#f4b6c2",
          "width": 5.7142857142857135
         },
         "locationmode": "country names",
         "lon": [
          35.243322,
          25.48583
         ],
         "mode": "lines+markers",
         "name": "BG TR",
         "showlegend": false,
         "type": "scattergeo"
        },
        {
         "lat": [
          51.165691,
          46.818188
         ],
         "legendgroup": "CH DE",
         "line": {
          "color": "#f4b6c2",
          "width": 20
         },
         "locationmode": "country names",
         "lon": [
          10.451526,
          8.227512
         ],
         "mode": "lines+markers",
         "name": "CH DE",
         "showlegend": false,
         "type": "scattergeo"
        },
        {
         "lat": [
          46.227638,
          46.818188
         ],
         "legendgroup": "CH FR",
         "line": {
          "color": "#f4b6c2",
          "width": 6.2857142857142865
         },
         "locationmode": "country names",
         "lon": [
          2.213749,
          8.227512
         ],
         "mode": "lines+markers",
         "name": "CH FR",
         "showlegend": false,
         "type": "scattergeo"
        },
        {
         "lat": [
          41.87194,
          46.818188
         ],
         "legendgroup": "CH IT",
         "line": {
          "color": "#f4b6c2",
          "width": 7.634285714285714
         },
         "locationmode": "country names",
         "lon": [
          12.56738,
          8.227512
         ],
         "mode": "lines+markers",
         "name": "CH IT",
         "showlegend": false,
         "type": "scattergeo"
        },
        {
         "lat": [
          51.165691,
          49.817492
         ],
         "legendgroup": "CZ DE",
         "line": {
          "color": "#f4b6c2",
          "width": 10.142857142857142
         },
         "locationmode": "country names",
         "lon": [
          10.451526,
          15.472962
         ],
         "mode": "lines+markers",
         "name": "CZ DE",
         "showlegend": false,
         "type": "scattergeo"
        },
        {
         "lat": [
          51.919438,
          49.817492
         ],
         "legendgroup": "CZ PL",
         "line": {
          "color": "#f4b6c2",
          "width": 0.5714285714285715
         },
         "locationmode": "country names",
         "lon": [
          19.145136,
          15.472962
         ],
         "mode": "lines+markers",
         "name": "CZ PL",
         "showlegend": false,
         "type": "scattergeo"
        },
        {
         "lat": [
          48.669026,
          49.817492
         ],
         "legendgroup": "CZ SK",
         "line": {
          "color": "#f4b6c2",
          "width": 9.714285714285714
         },
         "locationmode": "country names",
         "lon": [
          19.699024,
          15.472962
         ],
         "mode": "lines+markers",
         "name": "CZ SK",
         "showlegend": false,
         "type": "scattergeo"
        },
        {
         "lat": [
          56.26392,
          51.165691
         ],
         "legendgroup": "DE DK",
         "line": {
          "color": "#f4b6c2",
          "width": 17.714285714285715
         },
         "locationmode": "country names",
         "lon": [
          9.501785,
          10.451526
         ],
         "mode": "lines+markers",
         "name": "DE DK",
         "showlegend": false,
         "type": "scattergeo"
        },
        {
         "lat": [
          46.227638,
          51.165691
         ],
         "legendgroup": "DE FR",
         "line": {
          "color": "#f4b6c2",
          "width": 9.571428571428571
         },
         "locationmode": "country names",
         "lon": [
          2.213749,
          10.451526
         ],
         "mode": "lines+markers",
         "name": "DE FR",
         "showlegend": false,
         "type": "scattergeo"
        },
        {
         "lat": [
          49.815273,
          51.165691
         ],
         "legendgroup": "DE LU",
         "line": {
          "color": "#f4b6c2",
          "width": 5.6
         },
         "locationmode": "country names",
         "lon": [
          6.129583,
          10.451526
         ],
         "mode": "lines+markers",
         "name": "DE LU",
         "showlegend": false,
         "type": "scattergeo"
        },
        {
         "lat": [
          52.132633,
          51.165691
         ],
         "legendgroup": "DE NL",
         "line": {
          "color": "#f4b6c2",
          "width": 16.285714285714285
         },
         "locationmode": "country names",
         "lon": [
          5.291266,
          10.451526
         ],
         "mode": "lines+markers",
         "name": "DE NL",
         "showlegend": false,
         "type": "scattergeo"
        },
        {
         "lat": [
          60,
          51.165691
         ],
         "legendgroup": "DE NO",
         "line": {
          "color": "#f4b6c2",
          "width": 8.251428571428571
         },
         "locationmode": "country names",
         "lon": [
          6,
          10.451526
         ],
         "mode": "lines+markers",
         "name": "DE NO",
         "showlegend": false,
         "type": "scattergeo"
        },
        {
         "lat": [
          51.919438,
          51.165691
         ],
         "legendgroup": "DE PL",
         "line": {
          "color": "#f4b6c2",
          "width": 0.5714285714285715
         },
         "locationmode": "country names",
         "lon": [
          19.145136,
          10.451526
         ],
         "mode": "lines+markers",
         "name": "DE PL",
         "showlegend": false,
         "type": "scattergeo"
        },
        {
         "lat": [
          60,
          56.26392
         ],
         "legendgroup": "DK NO",
         "line": {
          "color": "#f4b6c2",
          "width": 9.714285714285714
         },
         "locationmode": "country names",
         "lon": [
          6,
          9.501785
         ],
         "mode": "lines+markers",
         "name": "DK NO",
         "showlegend": false,
         "type": "scattergeo"
        },
        {
         "lat": [
          60.128161,
          56.26392
         ],
         "legendgroup": "DK SE",
         "line": {
          "color": "#f4b6c2",
          "width": 13.942857142857143
         },
         "locationmode": "country names",
         "lon": [
          15,
          9.501785
         ],
         "mode": "lines+markers",
         "name": "DK SE",
         "showlegend": false,
         "type": "scattergeo"
        },
        {
         "lat": [
          61.92411,
          58.595272
         ],
         "legendgroup": "EE FI",
         "line": {
          "color": "#f4b6c2",
          "width": 2.085714285714286
         },
         "locationmode": "country names",
         "lon": [
          25.748151,
          25.013607
         ],
         "mode": "lines+markers",
         "name": "EE FI",
         "showlegend": false,
         "type": "scattergeo"
        },
        {
         "lat": [
          56.879635,
          58.595272
         ],
         "legendgroup": "EE LV",
         "line": {
          "color": "#f4b6c2",
          "width": 4.571428571428572
         },
         "locationmode": "country names",
         "lon": [
          24.603189,
          25.013607
         ],
         "mode": "lines+markers",
         "name": "EE LV",
         "showlegend": false,
         "type": "scattergeo"
        },
        {
         "lat": [
          46.227638,
          40.463667
         ],
         "legendgroup": "ES FR",
         "line": {
          "color": "#f4b6c2",
          "width": 6.730952378857143
         },
         "locationmode": "country names",
         "lon": [
          2.213749,
          -3.74922
         ],
         "mode": "lines+markers",
         "name": "ES FR",
         "showlegend": false,
         "type": "scattergeo"
        },
        {
         "lat": [
          39.399872,
          40.463667
         ],
         "legendgroup": "ES PT",
         "line": {
          "color": "#f4b6c2",
          "width": 8.392857142857142
         },
         "locationmode": "country names",
         "lon": [
          -8.224454,
          -3.74922
         ],
         "mode": "lines+markers",
         "name": "ES PT",
         "showlegend": false,
         "type": "scattergeo"
        },
        {
         "lat": [
          60.128161,
          61.92411
         ],
         "legendgroup": "FI SE",
         "line": {
          "color": "#f4b6c2",
          "width": 11.142857142857142
         },
         "locationmode": "country names",
         "lon": [
          15,
          25.748151
         ],
         "mode": "lines+markers",
         "name": "FI SE",
         "showlegend": false,
         "type": "scattergeo"
        },
        {
         "lat": [
          41.87194,
          46.227638
         ],
         "legendgroup": "FR IT",
         "line": {
          "color": "#f4b6c2",
          "width": 4.948571428571428
         },
         "locationmode": "country names",
         "lon": [
          12.56738,
          2.213749
         ],
         "mode": "lines+markers",
         "name": "FR IT",
         "showlegend": false,
         "type": "scattergeo"
        },
        {
         "lat": [
          55.378051,
          46.227638
         ],
         "legendgroup": "FR UK",
         "line": {
          "color": "#f4b6c2",
          "width": 11.428571428571427
         },
         "locationmode": "country names",
         "lon": [
          -3.435973,
          2.213749
         ],
         "mode": "lines+markers",
         "name": "FR UK",
         "showlegend": false,
         "type": "scattergeo"
        },
        {
         "lat": [
          41.87194,
          39.074208
         ],
         "legendgroup": "GR IT",
         "line": {
          "color": "#f4b6c2",
          "width": 2.8571428571428568
         },
         "locationmode": "country names",
         "lon": [
          12.56738,
          21.824312
         ],
         "mode": "lines+markers",
         "name": "GR IT",
         "showlegend": false,
         "type": "scattergeo"
        },
        {
         "lat": [
          44.29182,
          39.074208
         ],
         "legendgroup": "GR NONEU_Balkan",
         "line": {
          "color": "#f4b6c2",
          "width": 1.7142857142857144
         },
         "locationmode": "country names",
         "lon": [
          19.24671,
          21.824312
         ],
         "mode": "lines+markers",
         "name": "GR NONEU_Balkan",
         "showlegend": false,
         "type": "scattergeo"
        },
        {
         "lat": [
          38.963745,
          39.074208
         ],
         "legendgroup": "GR TR",
         "line": {
          "color": "#f4b6c2",
          "width": 5.7142857142857135
         },
         "locationmode": "country names",
         "lon": [
          35.243322,
          21.824312
         ],
         "mode": "lines+markers",
         "name": "GR TR",
         "showlegend": false,
         "type": "scattergeo"
        },
        {
         "lat": [
          47.162494,
          45.1
         ],
         "legendgroup": "HR HU",
         "line": {
          "color": "#f4b6c2",
          "width": 6.2857142857142865
         },
         "locationmode": "country names",
         "lon": [
          19.503304,
          15.2
         ],
         "mode": "lines+markers",
         "name": "HR HU",
         "showlegend": false,
         "type": "scattergeo"
        },
        {
         "lat": [
          44.29182,
          45.1
         ],
         "legendgroup": "HR NONEU_Balkan",
         "line": {
          "color": "#f4b6c2",
          "width": 6.2857142857142865
         },
         "locationmode": "country names",
         "lon": [
          19.24671,
          15.2
         ],
         "mode": "lines+markers",
         "name": "HR NONEU_Balkan",
         "showlegend": false,
         "type": "scattergeo"
        },
        {
         "lat": [
          44.29182,
          47.162494
         ],
         "legendgroup": "HU NONEU_Balkan",
         "line": {
          "color": "#f4b6c2",
          "width": 3.9999999999999996
         },
         "locationmode": "country names",
         "lon": [
          19.24671,
          19.503304
         ],
         "mode": "lines+markers",
         "name": "HU NONEU_Balkan",
         "showlegend": false,
         "type": "scattergeo"
        },
        {
         "lat": [
          45.943161,
          47.162494
         ],
         "legendgroup": "HU RO",
         "line": {
          "color": "#f4b6c2",
          "width": 2.285714285714286
         },
         "locationmode": "country names",
         "lon": [
          24.96676,
          19.503304
         ],
         "mode": "lines+markers",
         "name": "HU RO",
         "showlegend": false,
         "type": "scattergeo"
        },
        {
         "lat": [
          48.669026,
          47.162494
         ],
         "legendgroup": "HU SK",
         "line": {
          "color": "#f4b6c2",
          "width": 4.571428571428572
         },
         "locationmode": "country names",
         "lon": [
          19.699024,
          19.503304
         ],
         "mode": "lines+markers",
         "name": "HU SK",
         "showlegend": false,
         "type": "scattergeo"
        },
        {
         "lat": [
          55.378051,
          53.41291
         ],
         "legendgroup": "IE UK",
         "line": {
          "color": "#f4b6c2",
          "width": 2.5714285714285716
         },
         "locationmode": "country names",
         "lon": [
          -3.435973,
          -8.24389
         ],
         "mode": "lines+markers",
         "name": "IE UK",
         "showlegend": false,
         "type": "scattergeo"
        },
        {
         "lat": [
          46.151241,
          41.87194
         ],
         "legendgroup": "IT SI",
         "line": {
          "color": "#f4b6c2",
          "width": 1.0285714285714285
         },
         "locationmode": "country names",
         "lon": [
          14.995463,
          12.56738
         ],
         "mode": "lines+markers",
         "name": "IT SI",
         "showlegend": false,
         "type": "scattergeo"
        },
        {
         "lat": [
          56.879635,
          55.169438
         ],
         "legendgroup": "LT LV",
         "line": {
          "color": "#f4b6c2",
          "width": 8.571428571428571
         },
         "locationmode": "country names",
         "lon": [
          24.603189,
          23.881275
         ],
         "mode": "lines+markers",
         "name": "LT LV",
         "showlegend": false,
         "type": "scattergeo"
        },
        {
         "lat": [
          55.378051,
          52.132633
         ],
         "legendgroup": "NL UK",
         "line": {
          "color": "#f4b6c2",
          "width": 5.805714285714286
         },
         "locationmode": "country names",
         "lon": [
          -3.435973,
          5.291266
         ],
         "mode": "lines+markers",
         "name": "NL UK",
         "showlegend": false,
         "type": "scattergeo"
        },
        {
         "lat": [
          60.128161,
          60
         ],
         "legendgroup": "NO SE",
         "line": {
          "color": "#f4b6c2",
          "width": 19.685714285714283
         },
         "locationmode": "country names",
         "lon": [
          15,
          6
         ],
         "mode": "lines+markers",
         "name": "NO SE",
         "showlegend": false,
         "type": "scattergeo"
        },
        {
         "lat": [
          55.378051,
          60
         ],
         "legendgroup": "NO UK",
         "line": {
          "color": "#f4b6c2",
          "width": 15.999999999999998
         },
         "locationmode": "country names",
         "lon": [
          -3.435973,
          6
         ],
         "mode": "lines+markers",
         "name": "NO UK",
         "showlegend": false,
         "type": "scattergeo"
        },
        {
         "lat": [
          45.943161,
          44.29182
         ],
         "legendgroup": "NONEU_Balkan RO",
         "line": {
          "color": "#f4b6c2",
          "width": 1.142857142857143
         },
         "locationmode": "country names",
         "lon": [
          24.96676,
          19.24671
         ],
         "mode": "lines+markers",
         "name": "NONEU_Balkan RO",
         "showlegend": false,
         "type": "scattergeo"
        },
        {
         "lat": [
          60.128161,
          51.919438
         ],
         "legendgroup": "PL SE",
         "line": {
          "color": "#f4b6c2",
          "width": 1.5195238114285714
         },
         "locationmode": "country names",
         "lon": [
          15,
          19.145136
         ],
         "mode": "lines+markers",
         "name": "PL SE",
         "showlegend": false,
         "type": "scattergeo"
        },
        {
         "lat": [
          48.669026,
          51.919438
         ],
         "legendgroup": "PL SK",
         "line": {
          "color": "#f4b6c2",
          "width": 3.428571428571429
         },
         "locationmode": "country names",
         "lon": [
          19.699024,
          19.145136
         ],
         "mode": "lines+markers",
         "name": "PL SK",
         "showlegend": false,
         "type": "scattergeo"
        },
        {
         "lat": [
          47.166511457
         ],
         "locationmode": "country names",
         "lon": [
          11.382469440000001
         ],
         "mode": "text",
         "showlegend": false,
         "text": " 0.43 GW",
         "textfont": {
          "color": "black",
          "size": 8
         },
         "textposition": "top center",
         "type": "scattergeo"
        },
        {
         "lat": [
          48.669162761
         ],
         "locationmode": "country names",
         "lon": [
          15.01243989
         ],
         "mode": "text",
         "showlegend": false,
         "text": " 0.90 GW",
         "textfont": {
          "color": "black",
          "size": 8
         },
         "textposition": "top center",
         "type": "scattergeo"
        },
        {
         "lat": [
          49.34461046
         ],
         "locationmode": "country names",
         "lon": [
          12.496700453999999
         ],
         "mode": "text",
         "showlegend": false,
         "text": " 2.00 GW",
         "textfont": {
          "color": "black",
          "size": 8
         },
         "textposition": "top center",
         "type": "scattergeo"
        },
        {
         "lat": [
          47.339008763
         ],
         "locationmode": "country names",
         "lon": [
          17.031641232
         ],
         "mode": "text",
         "showlegend": false,
         "text": " 0.80 GW",
         "textfont": {
          "color": "black",
          "size": 8
         },
         "textposition": "top center",
         "type": "scattergeo"
        },
        {
         "lat": [
          44.688441209
         ],
         "locationmode": "country names",
         "lon": [
          13.556743308
         ],
         "mode": "text",
         "showlegend": false,
         "text": " 0.07 GW",
         "textfont": {
          "color": "black",
          "size": 8
         },
         "textposition": "top center",
         "type": "scattergeo"
        },
        {
         "lat": [
          46.832371009999996
         ],
         "locationmode": "country names",
         "lon": [
          14.773212891
         ],
         "mode": "text",
         "showlegend": false,
         "text": " 0.95 GW",
         "textfont": {
          "color": "black",
          "size": 8
         },
         "textposition": "top center",
         "type": "scattergeo"
        },
        {
         "lat": [
          48.361486251
         ],
         "locationmode": "country names",
         "lon": [
          3.339586313
         ],
         "mode": "text",
         "showlegend": false,
         "text": " 1.50 GW",
         "textfont": {
          "color": "black",
          "size": 8
         },
         "textposition": "top center",
         "type": "scattergeo"
        },
        {
         "lat": [
          51.319888746
         ],
         "locationmode": "country names",
         "lon": [
          4.88142233
         ],
         "mode": "text",
         "showlegend": false,
         "text": " 1.43 GW",
         "textfont": {
          "color": "black",
          "size": 8
         },
         "textposition": "top center",
         "type": "scattergeo"
        },
        {
         "lat": [
          43.514409437
         ],
         "locationmode": "country names",
         "lon": [
          22.36003088
         ],
         "mode": "text",
         "showlegend": false,
         "text": " 0.35 GW",
         "textfont": {
          "color": "black",
          "size": 8
         },
         "textposition": "top center",
         "type": "scattergeo"
        },
        {
         "lat": [
          44.341731278
         ],
         "locationmode": "country names",
         "lon": [
          25.22577593
         ],
         "mode": "text",
         "showlegend": false,
         "text": " 0.15 GW",
         "textfont": {
          "color": "black",
          "size": 8
         },
         "textposition": "top center",
         "type": "scattergeo"
        },
        {
         "lat": [
          40.845043862000004
         ],
         "locationmode": "country names",
         "lon": [
          30.374333491999998
         ],
         "mode": "text",
         "showlegend": false,
         "text": " 1.00 GW",
         "textfont": {
          "color": "black",
          "size": 8
         },
         "textposition": "top center",
         "type": "scattergeo"
        },
        {
         "lat": [
          48.996287003
         ],
         "locationmode": "country names",
         "lon": [
          9.341743014
         ],
         "mode": "text",
         "showlegend": false,
         "text": " 3.50 GW",
         "textfont": {
          "color": "black",
          "size": 8
         },
         "textposition": "top center",
         "type": "scattergeo"
        },
        {
         "lat": [
          46.52232245
         ],
         "locationmode": "country names",
         "lon": [
          5.214616737
         ],
         "mode": "text",
         "showlegend": false,
         "text": " 1.10 GW",
         "textfont": {
          "color": "black",
          "size": 8
         },
         "textposition": "top center",
         "type": "scattergeo"
        },
        {
         "lat": [
          44.340117752
         ],
         "locationmode": "country names",
         "lon": [
          10.401785868000001
         ],
         "mode": "text",
         "showlegend": false,
         "text": " 1.34 GW",
         "textfont": {
          "color": "black",
          "size": 8
         },
         "textposition": "top center",
         "type": "scattergeo"
        },
        {
         "lat": [
          50.492939699000004
         ],
         "locationmode": "country names",
         "lon": [
          12.957222564
         ],
         "mode": "text",
         "showlegend": false,
         "text": " 1.77 GW",
         "textfont": {
          "color": "black",
          "size": 8
         },
         "textposition": "top center",
         "type": "scattergeo"
        },
        {
         "lat": [
          50.870566946000004
         ],
         "locationmode": "country names",
         "lon": [
          17.312721174
         ],
         "mode": "text",
         "showlegend": false,
         "text": " 0.10 GW",
         "textfont": {
          "color": "black",
          "size": 8
         },
         "textposition": "top center",
         "type": "scattergeo"
        },
        {
         "lat": [
          49.242110534000005
         ],
         "locationmode": "country names",
         "lon": [
          17.590219062000003
         ],
         "mode": "text",
         "showlegend": false,
         "text": " 1.70 GW",
         "textfont": {
          "color": "black",
          "size": 8
         },
         "textposition": "top center",
         "type": "scattergeo"
        },
        {
         "lat": [
          53.719903729
         ],
         "locationmode": "country names",
         "lon": [
          9.975705759
         ],
         "mode": "text",
         "showlegend": false,
         "text": " 3.10 GW",
         "textfont": {
          "color": "black",
          "size": 8
         },
         "textposition": "top center",
         "type": "scattergeo"
        },
        {
         "lat": [
          48.691726447
         ],
         "locationmode": "country names",
         "lon": [
          6.324399723
         ],
         "mode": "text",
         "showlegend": false,
         "text": " 1.68 GW",
         "textfont": {
          "color": "black",
          "size": 8
         },
         "textposition": "top center",
         "type": "scattergeo"
        },
        {
         "lat": [
          50.489131582
         ],
         "locationmode": "country names",
         "lon": [
          8.286232557
         ],
         "mode": "text",
         "showlegend": false,
         "text": " 0.98 GW",
         "textfont": {
          "color": "black",
          "size": 8
         },
         "textposition": "top center",
         "type": "scattergeo"
        },
        {
         "lat": [
          51.650128942
         ],
         "locationmode": "country names",
         "lon": [
          7.8662357400000005
         ],
         "mode": "text",
         "showlegend": false,
         "text": " 2.85 GW",
         "textfont": {
          "color": "black",
          "size": 8
         },
         "textposition": "top center",
         "type": "scattergeo"
        },
        {
         "lat": [
          55.591679809
         ],
         "locationmode": "country names",
         "lon": [
          8.221311474
         ],
         "mode": "text",
         "showlegend": false,
         "text": " 1.44 GW",
         "textfont": {
          "color": "black",
          "size": 8
         },
         "textposition": "top center",
         "type": "scattergeo"
        },
        {
         "lat": [
          51.543318247
         ],
         "locationmode": "country names",
         "lon": [
          14.80702461
         ],
         "mode": "text",
         "showlegend": false,
         "text": " 0.10 GW",
         "textfont": {
          "color": "black",
          "size": 8
         },
         "textposition": "top center",
         "type": "scattergeo"
        },
        {
         "lat": [
          58.13569608
         ],
         "locationmode": "country names",
         "lon": [
          7.747390715
         ],
         "mode": "text",
         "showlegend": false,
         "text": " 1.70 GW",
         "textfont": {
          "color": "black",
          "size": 8
         },
         "textposition": "top center",
         "type": "scattergeo"
        },
        {
         "lat": [
          58.199904741
         ],
         "locationmode": "country names",
         "lon": [
          12.256390715
         ],
         "mode": "text",
         "showlegend": false,
         "text": " 2.44 GW",
         "textfont": {
          "color": "black",
          "size": 8
         },
         "textposition": "top center",
         "type": "scattergeo"
        },
        {
         "lat": [
          60.263019838
         ],
         "locationmode": "country names",
         "lon": [
          25.381613544
         ],
         "mode": "text",
         "showlegend": false,
         "text": " 0.36 GW",
         "textfont": {
          "color": "black",
          "size": 8
         },
         "textposition": "top center",
         "type": "scattergeo"
        },
        {
         "lat": [
          57.735737863000004
         ],
         "locationmode": "country names",
         "lon": [
          24.807987582
         ],
         "mode": "text",
         "showlegend": false,
         "text": " 0.80 GW",
         "textfont": {
          "color": "black",
          "size": 8
         },
         "textposition": "top center",
         "type": "scattergeo"
        },
        {
         "lat": [
          43.351416471
         ],
         "locationmode": "country names",
         "lon": [
          -0.7617725310000001
         ],
         "mode": "text",
         "showlegend": false,
         "text": " 1.18 GW",
         "textfont": {
          "color": "black",
          "size": 8
         },
         "textposition": "top center",
         "type": "scattergeo"
        },
        {
         "lat": [
          39.930705705
         ],
         "locationmode": "country names",
         "lon": [
          -5.9913122340000005
         ],
         "mode": "text",
         "showlegend": false,
         "text": " 1.47 GW",
         "textfont": {
          "color": "black",
          "size": 8
         },
         "textposition": "top center",
         "type": "scattergeo"
        },
        {
         "lat": [
          61.024339551
         ],
         "locationmode": "country names",
         "lon": [
          20.363327349000002
         ],
         "mode": "text",
         "showlegend": false,
         "text": " 1.95 GW",
         "textfont": {
          "color": "black",
          "size": 8
         },
         "textposition": "top center",
         "type": "scattergeo"
        },
        {
         "lat": [
          44.045433302
         ],
         "locationmode": "country names",
         "lon": [
          7.400918131
         ],
         "mode": "text",
         "showlegend": false,
         "text": " 0.87 GW",
         "textfont": {
          "color": "black",
          "size": 8
         },
         "textposition": "top center",
         "type": "scattergeo"
        },
        {
         "lat": [
          50.811994913
         ],
         "locationmode": "country names",
         "lon": [
          -0.6167617219999997
         ],
         "mode": "text",
         "showlegend": false,
         "text": " 2.00 GW",
         "textfont": {
          "color": "black",
          "size": 8
         },
         "textposition": "top center",
         "type": "scattergeo"
        },
        {
         "lat": [
          40.475871732
         ],
         "locationmode": "country names",
         "lon": [
          17.186589068
         ],
         "mode": "text",
         "showlegend": false,
         "text": " 0.50 GW",
         "textfont": {
          "color": "black",
          "size": 8
         },
         "textposition": "top center",
         "type": "scattergeo"
        },
        {
         "lat": [
          41.688231612
         ],
         "locationmode": "country names",
         "lon": [
          20.532933398
         ],
         "mode": "text",
         "showlegend": false,
         "text": " 0.30 GW",
         "textfont": {
          "color": "black",
          "size": 8
         },
         "textposition": "top center",
         "type": "scattergeo"
        },
        {
         "lat": [
          39.018866037
         ],
         "locationmode": "country names",
         "lon": [
          28.54723601
         ],
         "mode": "text",
         "showlegend": false,
         "text": " 1.00 GW",
         "textfont": {
          "color": "black",
          "size": 8
         },
         "textposition": "top center",
         "type": "scattergeo"
        },
        {
         "lat": [
          46.133309494
         ],
         "locationmode": "country names",
         "lon": [
          17.355955304
         ],
         "mode": "text",
         "showlegend": false,
         "text": " 1.10 GW",
         "textfont": {
          "color": "black",
          "size": 8
         },
         "textposition": "top center",
         "type": "scattergeo"
        },
        {
         "lat": [
          44.69510182
         ],
         "locationmode": "country names",
         "lon": [
          17.22740171
         ],
         "mode": "text",
         "showlegend": false,
         "text": " 1.10 GW",
         "textfont": {
          "color": "black",
          "size": 8
         },
         "textposition": "top center",
         "type": "scattergeo"
        },
        {
         "lat": [
          45.724286326000005
         ],
         "locationmode": "country names",
         "lon": [
          19.374750406
         ],
         "mode": "text",
         "showlegend": false,
         "text": " 0.70 GW",
         "textfont": {
          "color": "black",
          "size": 8
         },
         "textposition": "top center",
         "type": "scattergeo"
        },
        {
         "lat": [
          46.551608167000005
         ],
         "locationmode": "country names",
         "lon": [
          22.240495456
         ],
         "mode": "text",
         "showlegend": false,
         "text": " 0.40 GW",
         "textfont": {
          "color": "black",
          "size": 8
         },
         "textposition": "top center",
         "type": "scattergeo"
        },
        {
         "lat": [
          47.917266532
         ],
         "locationmode": "country names",
         "lon": [
          19.60135972
         ],
         "mode": "text",
         "showlegend": false,
         "text": " 0.80 GW",
         "textfont": {
          "color": "black",
          "size": 8
         },
         "textposition": "top center",
         "type": "scattergeo"
        },
        {
         "lat": [
          54.397445641
         ],
         "locationmode": "country names",
         "lon": [
          -5.835123583
         ],
         "mode": "text",
         "showlegend": false,
         "text": " 0.45 GW",
         "textfont": {
          "color": "black",
          "size": 8
         },
         "textposition": "top center",
         "type": "scattergeo"
        },
        {
         "lat": [
          44.015869801
         ],
         "locationmode": "country names",
         "lon": [
          13.783849583
         ],
         "mode": "text",
         "showlegend": false,
         "text": " 0.18 GW",
         "textfont": {
          "color": "black",
          "size": 8
         },
         "textposition": "top center",
         "type": "scattergeo"
        },
        {
         "lat": [
          56.026246697
         ],
         "locationmode": "country names",
         "lon": [
          24.242953914
         ],
         "mode": "text",
         "showlegend": false,
         "text": " 1.50 GW",
         "textfont": {
          "color": "black",
          "size": 8
         },
         "textposition": "top center",
         "type": "scattergeo"
        },
        {
         "lat": [
          53.758587418
         ],
         "locationmode": "country names",
         "lon": [
          0.9189192610000005
         ],
         "mode": "text",
         "showlegend": false,
         "text": " 1.02 GW",
         "textfont": {
          "color": "black",
          "size": 8
         },
         "textposition": "top center",
         "type": "scattergeo"
        },
        {
         "lat": [
          60.064208661
         ],
         "locationmode": "country names",
         "lon": [
          10.509
         ],
         "mode": "text",
         "showlegend": false,
         "text": " 3.44 GW",
         "textfont": {
          "color": "black",
          "size": 8
         },
         "textposition": "top center",
         "type": "scattergeo"
        },
        {
         "lat": [
          57.684403551
         ],
         "locationmode": "country names",
         "lon": [
          1.2725775269999997
         ],
         "mode": "text",
         "showlegend": false,
         "text": " 2.80 GW",
         "textfont": {
          "color": "black",
          "size": 8
         },
         "textposition": "top center",
         "type": "scattergeo"
        },
        {
         "lat": [
          45.119141841
         ],
         "locationmode": "country names",
         "lon": [
          22.11245505
         ],
         "mode": "text",
         "showlegend": false,
         "text": " 0.20 GW",
         "textfont": {
          "color": "black",
          "size": 8
         },
         "textposition": "top center",
         "type": "scattergeo"
        },
        {
         "lat": [
          56.032008223
         ],
         "locationmode": "country names",
         "lon": [
          17.068422864
         ],
         "mode": "text",
         "showlegend": false,
         "text": " 0.27 GW",
         "textfont": {
          "color": "black",
          "size": 8
         },
         "textposition": "top center",
         "type": "scattergeo"
        },
        {
         "lat": [
          50.290981588
         ],
         "locationmode": "country names",
         "lon": [
          19.422633888
         ],
         "mode": "text",
         "showlegend": false,
         "text": " 0.60 GW",
         "textfont": {
          "color": "black",
          "size": 8
         },
         "textposition": "top center",
         "type": "scattergeo"
        }
       ],
       "layout": {
        "geo": {
         "countrycolor": "white",
         "countrywidth": 1,
         "lakecolor": "#DEF4FC",
         "landcolor": "rgb(229, 229, 229)",
         "lataxis": {
          "range": [
           35,
           70
          ]
         },
         "lonaxis": {
          "range": [
           -9.7,
           38
          ]
         },
         "oceancolor": "#DCFBFB",
         "showcoastlines": false,
         "showcountries": true,
         "showlakes": true,
         "showland": true,
         "showocean": true
        },
        "height": 900,
        "margin": {
         "b": 0,
         "l": 0,
         "r": 0,
         "t": 30
        },
        "template": {
         "data": {
          "bar": [
           {
            "error_x": {
             "color": "#2a3f5f"
            },
            "error_y": {
             "color": "#2a3f5f"
            },
            "marker": {
             "line": {
              "color": "#E5ECF6",
              "width": 0.5
             },
             "pattern": {
              "fillmode": "overlay",
              "size": 10,
              "solidity": 0.2
             }
            },
            "type": "bar"
           }
          ],
          "barpolar": [
           {
            "marker": {
             "line": {
              "color": "#E5ECF6",
              "width": 0.5
             },
             "pattern": {
              "fillmode": "overlay",
              "size": 10,
              "solidity": 0.2
             }
            },
            "type": "barpolar"
           }
          ],
          "carpet": [
           {
            "aaxis": {
             "endlinecolor": "#2a3f5f",
             "gridcolor": "white",
             "linecolor": "white",
             "minorgridcolor": "white",
             "startlinecolor": "#2a3f5f"
            },
            "baxis": {
             "endlinecolor": "#2a3f5f",
             "gridcolor": "white",
             "linecolor": "white",
             "minorgridcolor": "white",
             "startlinecolor": "#2a3f5f"
            },
            "type": "carpet"
           }
          ],
          "choropleth": [
           {
            "colorbar": {
             "outlinewidth": 0,
             "ticks": ""
            },
            "type": "choropleth"
           }
          ],
          "contour": [
           {
            "colorbar": {
             "outlinewidth": 0,
             "ticks": ""
            },
            "colorscale": [
             [
              0,
              "#0d0887"
             ],
             [
              0.1111111111111111,
              "#46039f"
             ],
             [
              0.2222222222222222,
              "#7201a8"
             ],
             [
              0.3333333333333333,
              "#9c179e"
             ],
             [
              0.4444444444444444,
              "#bd3786"
             ],
             [
              0.5555555555555556,
              "#d8576b"
             ],
             [
              0.6666666666666666,
              "#ed7953"
             ],
             [
              0.7777777777777778,
              "#fb9f3a"
             ],
             [
              0.8888888888888888,
              "#fdca26"
             ],
             [
              1,
              "#f0f921"
             ]
            ],
            "type": "contour"
           }
          ],
          "contourcarpet": [
           {
            "colorbar": {
             "outlinewidth": 0,
             "ticks": ""
            },
            "type": "contourcarpet"
           }
          ],
          "heatmap": [
           {
            "colorbar": {
             "outlinewidth": 0,
             "ticks": ""
            },
            "colorscale": [
             [
              0,
              "#0d0887"
             ],
             [
              0.1111111111111111,
              "#46039f"
             ],
             [
              0.2222222222222222,
              "#7201a8"
             ],
             [
              0.3333333333333333,
              "#9c179e"
             ],
             [
              0.4444444444444444,
              "#bd3786"
             ],
             [
              0.5555555555555556,
              "#d8576b"
             ],
             [
              0.6666666666666666,
              "#ed7953"
             ],
             [
              0.7777777777777778,
              "#fb9f3a"
             ],
             [
              0.8888888888888888,
              "#fdca26"
             ],
             [
              1,
              "#f0f921"
             ]
            ],
            "type": "heatmap"
           }
          ],
          "heatmapgl": [
           {
            "colorbar": {
             "outlinewidth": 0,
             "ticks": ""
            },
            "colorscale": [
             [
              0,
              "#0d0887"
             ],
             [
              0.1111111111111111,
              "#46039f"
             ],
             [
              0.2222222222222222,
              "#7201a8"
             ],
             [
              0.3333333333333333,
              "#9c179e"
             ],
             [
              0.4444444444444444,
              "#bd3786"
             ],
             [
              0.5555555555555556,
              "#d8576b"
             ],
             [
              0.6666666666666666,
              "#ed7953"
             ],
             [
              0.7777777777777778,
              "#fb9f3a"
             ],
             [
              0.8888888888888888,
              "#fdca26"
             ],
             [
              1,
              "#f0f921"
             ]
            ],
            "type": "heatmapgl"
           }
          ],
          "histogram": [
           {
            "marker": {
             "pattern": {
              "fillmode": "overlay",
              "size": 10,
              "solidity": 0.2
             }
            },
            "type": "histogram"
           }
          ],
          "histogram2d": [
           {
            "colorbar": {
             "outlinewidth": 0,
             "ticks": ""
            },
            "colorscale": [
             [
              0,
              "#0d0887"
             ],
             [
              0.1111111111111111,
              "#46039f"
             ],
             [
              0.2222222222222222,
              "#7201a8"
             ],
             [
              0.3333333333333333,
              "#9c179e"
             ],
             [
              0.4444444444444444,
              "#bd3786"
             ],
             [
              0.5555555555555556,
              "#d8576b"
             ],
             [
              0.6666666666666666,
              "#ed7953"
             ],
             [
              0.7777777777777778,
              "#fb9f3a"
             ],
             [
              0.8888888888888888,
              "#fdca26"
             ],
             [
              1,
              "#f0f921"
             ]
            ],
            "type": "histogram2d"
           }
          ],
          "histogram2dcontour": [
           {
            "colorbar": {
             "outlinewidth": 0,
             "ticks": ""
            },
            "colorscale": [
             [
              0,
              "#0d0887"
             ],
             [
              0.1111111111111111,
              "#46039f"
             ],
             [
              0.2222222222222222,
              "#7201a8"
             ],
             [
              0.3333333333333333,
              "#9c179e"
             ],
             [
              0.4444444444444444,
              "#bd3786"
             ],
             [
              0.5555555555555556,
              "#d8576b"
             ],
             [
              0.6666666666666666,
              "#ed7953"
             ],
             [
              0.7777777777777778,
              "#fb9f3a"
             ],
             [
              0.8888888888888888,
              "#fdca26"
             ],
             [
              1,
              "#f0f921"
             ]
            ],
            "type": "histogram2dcontour"
           }
          ],
          "mesh3d": [
           {
            "colorbar": {
             "outlinewidth": 0,
             "ticks": ""
            },
            "type": "mesh3d"
           }
          ],
          "parcoords": [
           {
            "line": {
             "colorbar": {
              "outlinewidth": 0,
              "ticks": ""
             }
            },
            "type": "parcoords"
           }
          ],
          "pie": [
           {
            "automargin": true,
            "type": "pie"
           }
          ],
          "scatter": [
           {
            "fillpattern": {
             "fillmode": "overlay",
             "size": 10,
             "solidity": 0.2
            },
            "type": "scatter"
           }
          ],
          "scatter3d": [
           {
            "line": {
             "colorbar": {
              "outlinewidth": 0,
              "ticks": ""
             }
            },
            "marker": {
             "colorbar": {
              "outlinewidth": 0,
              "ticks": ""
             }
            },
            "type": "scatter3d"
           }
          ],
          "scattercarpet": [
           {
            "marker": {
             "colorbar": {
              "outlinewidth": 0,
              "ticks": ""
             }
            },
            "type": "scattercarpet"
           }
          ],
          "scattergeo": [
           {
            "marker": {
             "colorbar": {
              "outlinewidth": 0,
              "ticks": ""
             }
            },
            "type": "scattergeo"
           }
          ],
          "scattergl": [
           {
            "marker": {
             "colorbar": {
              "outlinewidth": 0,
              "ticks": ""
             }
            },
            "type": "scattergl"
           }
          ],
          "scattermapbox": [
           {
            "marker": {
             "colorbar": {
              "outlinewidth": 0,
              "ticks": ""
             }
            },
            "type": "scattermapbox"
           }
          ],
          "scatterpolar": [
           {
            "marker": {
             "colorbar": {
              "outlinewidth": 0,
              "ticks": ""
             }
            },
            "type": "scatterpolar"
           }
          ],
          "scatterpolargl": [
           {
            "marker": {
             "colorbar": {
              "outlinewidth": 0,
              "ticks": ""
             }
            },
            "type": "scatterpolargl"
           }
          ],
          "scatterternary": [
           {
            "marker": {
             "colorbar": {
              "outlinewidth": 0,
              "ticks": ""
             }
            },
            "type": "scatterternary"
           }
          ],
          "surface": [
           {
            "colorbar": {
             "outlinewidth": 0,
             "ticks": ""
            },
            "colorscale": [
             [
              0,
              "#0d0887"
             ],
             [
              0.1111111111111111,
              "#46039f"
             ],
             [
              0.2222222222222222,
              "#7201a8"
             ],
             [
              0.3333333333333333,
              "#9c179e"
             ],
             [
              0.4444444444444444,
              "#bd3786"
             ],
             [
              0.5555555555555556,
              "#d8576b"
             ],
             [
              0.6666666666666666,
              "#ed7953"
             ],
             [
              0.7777777777777778,
              "#fb9f3a"
             ],
             [
              0.8888888888888888,
              "#fdca26"
             ],
             [
              1,
              "#f0f921"
             ]
            ],
            "type": "surface"
           }
          ],
          "table": [
           {
            "cells": {
             "fill": {
              "color": "#EBF0F8"
             },
             "line": {
              "color": "white"
             }
            },
            "header": {
             "fill": {
              "color": "#C8D4E3"
             },
             "line": {
              "color": "white"
             }
            },
            "type": "table"
           }
          ]
         },
         "layout": {
          "annotationdefaults": {
           "arrowcolor": "#2a3f5f",
           "arrowhead": 0,
           "arrowwidth": 1
          },
          "autotypenumbers": "strict",
          "coloraxis": {
           "colorbar": {
            "outlinewidth": 0,
            "ticks": ""
           }
          },
          "colorscale": {
           "diverging": [
            [
             0,
             "#8e0152"
            ],
            [
             0.1,
             "#c51b7d"
            ],
            [
             0.2,
             "#de77ae"
            ],
            [
             0.3,
             "#f1b6da"
            ],
            [
             0.4,
             "#fde0ef"
            ],
            [
             0.5,
             "#f7f7f7"
            ],
            [
             0.6,
             "#e6f5d0"
            ],
            [
             0.7,
             "#b8e186"
            ],
            [
             0.8,
             "#7fbc41"
            ],
            [
             0.9,
             "#4d9221"
            ],
            [
             1,
             "#276419"
            ]
           ],
           "sequential": [
            [
             0,
             "#0d0887"
            ],
            [
             0.1111111111111111,
             "#46039f"
            ],
            [
             0.2222222222222222,
             "#7201a8"
            ],
            [
             0.3333333333333333,
             "#9c179e"
            ],
            [
             0.4444444444444444,
             "#bd3786"
            ],
            [
             0.5555555555555556,
             "#d8576b"
            ],
            [
             0.6666666666666666,
             "#ed7953"
            ],
            [
             0.7777777777777778,
             "#fb9f3a"
            ],
            [
             0.8888888888888888,
             "#fdca26"
            ],
            [
             1,
             "#f0f921"
            ]
           ],
           "sequentialminus": [
            [
             0,
             "#0d0887"
            ],
            [
             0.1111111111111111,
             "#46039f"
            ],
            [
             0.2222222222222222,
             "#7201a8"
            ],
            [
             0.3333333333333333,
             "#9c179e"
            ],
            [
             0.4444444444444444,
             "#bd3786"
            ],
            [
             0.5555555555555556,
             "#d8576b"
            ],
            [
             0.6666666666666666,
             "#ed7953"
            ],
            [
             0.7777777777777778,
             "#fb9f3a"
            ],
            [
             0.8888888888888888,
             "#fdca26"
            ],
            [
             1,
             "#f0f921"
            ]
           ]
          },
          "colorway": [
           "#636efa",
           "#EF553B",
           "#00cc96",
           "#ab63fa",
           "#FFA15A",
           "#19d3f3",
           "#FF6692",
           "#B6E880",
           "#FF97FF",
           "#FECB52"
          ],
          "font": {
           "color": "#2a3f5f"
          },
          "geo": {
           "bgcolor": "white",
           "lakecolor": "white",
           "landcolor": "#E5ECF6",
           "showlakes": true,
           "showland": true,
           "subunitcolor": "white"
          },
          "hoverlabel": {
           "align": "left"
          },
          "hovermode": "closest",
          "mapbox": {
           "style": "light"
          },
          "paper_bgcolor": "white",
          "plot_bgcolor": "#E5ECF6",
          "polar": {
           "angularaxis": {
            "gridcolor": "white",
            "linecolor": "white",
            "ticks": ""
           },
           "bgcolor": "#E5ECF6",
           "radialaxis": {
            "gridcolor": "white",
            "linecolor": "white",
            "ticks": ""
           }
          },
          "scene": {
           "xaxis": {
            "backgroundcolor": "#E5ECF6",
            "gridcolor": "white",
            "gridwidth": 2,
            "linecolor": "white",
            "showbackground": true,
            "ticks": "",
            "zerolinecolor": "white"
           },
           "yaxis": {
            "backgroundcolor": "#E5ECF6",
            "gridcolor": "white",
            "gridwidth": 2,
            "linecolor": "white",
            "showbackground": true,
            "ticks": "",
            "zerolinecolor": "white"
           },
           "zaxis": {
            "backgroundcolor": "#E5ECF6",
            "gridcolor": "white",
            "gridwidth": 2,
            "linecolor": "white",
            "showbackground": true,
            "ticks": "",
            "zerolinecolor": "white"
           }
          },
          "shapedefaults": {
           "line": {
            "color": "#2a3f5f"
           }
          },
          "ternary": {
           "aaxis": {
            "gridcolor": "white",
            "linecolor": "white",
            "ticks": ""
           },
           "baxis": {
            "gridcolor": "white",
            "linecolor": "white",
            "ticks": ""
           },
           "bgcolor": "#E5ECF6",
           "caxis": {
            "gridcolor": "white",
            "linecolor": "white",
            "ticks": ""
           }
          },
          "title": {
           "x": 0.05
          },
          "xaxis": {
           "automargin": true,
           "gridcolor": "white",
           "linecolor": "white",
           "ticks": "",
           "title": {
            "standoff": 15
           },
           "zerolinecolor": "white",
           "zerolinewidth": 2
          },
          "yaxis": {
           "automargin": true,
           "gridcolor": "white",
           "linecolor": "white",
           "ticks": "",
           "title": {
            "standoff": 15
           },
           "zerolinecolor": "white",
           "zerolinewidth": 2
          }
         }
        },
        "title": {
         "text": "Power Trade Capacity in 2050 - Season"
        },
        "width": 1620
       }
      }
     },
     "metadata": {},
     "output_type": "display_data"
    }
   ],
   "source": [
    "trade_capacity_plotter = TradeCapacityMapFacilitator(sol_path=SOLUTION_FILEPATH, year=2050)\n",
    "\n",
    "relevant_data = trade_capacity_plotter.get_relevant_data()\n",
    "\n",
    "relevant_data.TotalTradeCapacity.filter_by_identifier(column=\"Fuel\", identifier=\"Power\")\n",
    "\n",
    "fig = trade_capacity_plotter.plot(relevant_data)\n",
    "\n",
    "fig.update_layout(margin=dict(l=0, r=0, t=30, b=0))\n",
    "\n",
    "fig.layout.title = \"Power Trade Capacity in 2050\" + TITLE_ADDON\n",
    "\n",
    "if WRITE_IMAGE:\n",
    "    fig.write_image(\"PowerTradeCapacity2050.pdf\" + TITLE_ADDON.replace(\" \", \"\") + \".png\")\n",
    "\n",
    "fig.show()"
   ]
  },
  {
   "cell_type": "markdown",
   "metadata": {},
   "source": [
    "### Storage capacities"
   ]
  },
  {
   "cell_type": "code",
   "execution_count": 38,
   "metadata": {},
   "outputs": [
    {
     "name": "stdout",
     "output_type": "stream",
     "text": [
      "No unit conversion applied!\n"
     ]
    },
    {
     "data": {
      "application/vnd.plotly.v1+json": {
       "config": {
        "plotlyServerURL": "https://plot.ly"
       },
       "data": [
        {
         "fillcolor": "#def6d1",
         "legendgroup": "D_PHS",
         "line": {
          "color": "#def6d1"
         },
         "mode": "lines",
         "name": "D_PHS",
         "showlegend": true,
         "stackgroup": "one",
         "type": "scatter",
         "x": [
          2018,
          2025,
          2030,
          2035,
          2040,
          2045,
          2050
         ],
         "y": [
          8.918,
          5.8311,
          5.8311,
          5.8311,
          5.8311,
          5.8311,
          5.8311
         ]
        },
        {
         "fillcolor": "#928df6",
         "legendgroup": "D_PHS_Residual",
         "line": {
          "color": "#928df6"
         },
         "mode": "lines",
         "name": "D_PHS_Residual",
         "showlegend": true,
         "stackgroup": "one",
         "type": "scatter",
         "x": [
          2018,
          2025,
          2030,
          2035,
          2040,
          2045,
          2050
         ],
         "y": [
          0,
          0,
          0,
          0,
          0,
          0,
          0
         ]
        },
        {
         "fillcolor": "#91d9fe",
         "legendgroup": "D_Battery_Li-Ion",
         "line": {
          "color": "#91d9fe"
         },
         "mode": "lines",
         "name": "D_Battery_Li-Ion",
         "showlegend": true,
         "stackgroup": "one",
         "type": "scatter",
         "x": [
          2018,
          2025,
          2030,
          2035,
          2040,
          2045,
          2050
         ],
         "y": [
          0,
          0,
          0,
          0,
          0,
          0,
          0
         ]
        },
        {
         "fillcolor": "#c6d1cb",
         "legendgroup": "D_Battery_Redox",
         "line": {
          "color": "#c6d1cb"
         },
         "mode": "lines",
         "name": "D_Battery_Redox",
         "showlegend": true,
         "stackgroup": "one",
         "type": "scatter",
         "x": [
          2018,
          2025,
          2030,
          2035,
          2040,
          2045,
          2050
         ],
         "y": [
          0,
          0,
          0,
          0,
          0,
          0,
          0
         ]
        },
        {
         "fillcolor": "#9ab5ea",
         "legendgroup": "D_CAES",
         "line": {
          "color": "#9ab5ea"
         },
         "mode": "lines",
         "name": "D_CAES",
         "showlegend": true,
         "stackgroup": "one",
         "type": "scatter",
         "x": [
          2018,
          2025,
          2030,
          2035,
          2040,
          2045,
          2050
         ],
         "y": [
          0,
          0,
          0,
          0,
          0,
          0,
          0
         ]
        },
        {
         "fillcolor": "#a4dfe5",
         "legendgroup": "D_Gas_H2",
         "line": {
          "color": "#a4dfe5"
         },
         "mode": "lines",
         "name": "D_Gas_H2",
         "showlegend": true,
         "stackgroup": "one",
         "type": "scatter",
         "x": [
          2018,
          2025,
          2030,
          2035,
          2040,
          2045,
          2050
         ],
         "y": [
          0,
          0,
          1.7021979068461075,
          19.588750524837423,
          31.173494256046535,
          36.27096080188812,
          36.27096080188812
         ]
        },
        {
         "fillcolor": "#9185f3",
         "legendgroup": "D_Gas_Methane",
         "line": {
          "color": "#9185f3"
         },
         "mode": "lines",
         "name": "D_Gas_Methane",
         "showlegend": true,
         "stackgroup": "one",
         "type": "scatter",
         "x": [
          2018,
          2025,
          2030,
          2035,
          2040,
          2045,
          2050
         ],
         "y": [
          0,
          0,
          0,
          0,
          0,
          0,
          0
         ]
        },
        {
         "fillcolor": "#a7c9f5",
         "legendgroup": "D_Heat_HLI",
         "line": {
          "color": "#a7c9f5"
         },
         "mode": "lines",
         "name": "D_Heat_HLI",
         "showlegend": true,
         "stackgroup": "one",
         "type": "scatter",
         "x": [
          2018,
          2025,
          2030,
          2035,
          2040,
          2045,
          2050
         ],
         "y": [
          0,
          0,
          0,
          0,
          0,
          0,
          0
         ]
        },
        {
         "fillcolor": "#c8fa8a",
         "legendgroup": "D_Heat_HLR",
         "line": {
          "color": "#c8fa8a"
         },
         "mode": "lines",
         "name": "D_Heat_HLR",
         "showlegend": true,
         "stackgroup": "one",
         "type": "scatter",
         "x": [
          2018,
          2025,
          2030,
          2035,
          2040,
          2045,
          2050
         ],
         "y": [
          0,
          0,
          0,
          0,
          0,
          0,
          0
         ]
        },
        {
         "fillcolor": "#fafa9d",
         "legendgroup": "D_Heat_HLDH",
         "line": {
          "color": "#fafa9d"
         },
         "mode": "lines",
         "name": "D_Heat_HLDH",
         "showlegend": true,
         "stackgroup": "one",
         "type": "scatter",
         "x": [
          2018,
          2025,
          2030,
          2035,
          2040,
          2045,
          2050
         ],
         "y": [
          0,
          0,
          0,
          0,
          0,
          0,
          0
         ]
        },
        {
         "fillcolor": "#9dd8fa",
         "legendgroup": "D_Heat_HLB",
         "line": {
          "color": "#9dd8fa"
         },
         "mode": "lines",
         "name": "D_Heat_HLB",
         "showlegend": true,
         "stackgroup": "one",
         "type": "scatter",
         "x": [
          2018,
          2025,
          2030,
          2035,
          2040,
          2045,
          2050
         ],
         "y": [
          0,
          0,
          0,
          0,
          0,
          0,
          0
         ]
        }
       ],
       "layout": {
        "barmode": "stack",
        "font": {
         "size": 22
        },
        "height": 800,
        "template": {
         "data": {
          "bar": [
           {
            "error_x": {
             "color": "#2a3f5f"
            },
            "error_y": {
             "color": "#2a3f5f"
            },
            "marker": {
             "line": {
              "color": "#E5ECF6",
              "width": 0.5
             },
             "pattern": {
              "fillmode": "overlay",
              "size": 10,
              "solidity": 0.2
             }
            },
            "type": "bar"
           }
          ],
          "barpolar": [
           {
            "marker": {
             "line": {
              "color": "#E5ECF6",
              "width": 0.5
             },
             "pattern": {
              "fillmode": "overlay",
              "size": 10,
              "solidity": 0.2
             }
            },
            "type": "barpolar"
           }
          ],
          "carpet": [
           {
            "aaxis": {
             "endlinecolor": "#2a3f5f",
             "gridcolor": "white",
             "linecolor": "white",
             "minorgridcolor": "white",
             "startlinecolor": "#2a3f5f"
            },
            "baxis": {
             "endlinecolor": "#2a3f5f",
             "gridcolor": "white",
             "linecolor": "white",
             "minorgridcolor": "white",
             "startlinecolor": "#2a3f5f"
            },
            "type": "carpet"
           }
          ],
          "choropleth": [
           {
            "colorbar": {
             "outlinewidth": 0,
             "ticks": ""
            },
            "type": "choropleth"
           }
          ],
          "contour": [
           {
            "colorbar": {
             "outlinewidth": 0,
             "ticks": ""
            },
            "colorscale": [
             [
              0,
              "#0d0887"
             ],
             [
              0.1111111111111111,
              "#46039f"
             ],
             [
              0.2222222222222222,
              "#7201a8"
             ],
             [
              0.3333333333333333,
              "#9c179e"
             ],
             [
              0.4444444444444444,
              "#bd3786"
             ],
             [
              0.5555555555555556,
              "#d8576b"
             ],
             [
              0.6666666666666666,
              "#ed7953"
             ],
             [
              0.7777777777777778,
              "#fb9f3a"
             ],
             [
              0.8888888888888888,
              "#fdca26"
             ],
             [
              1,
              "#f0f921"
             ]
            ],
            "type": "contour"
           }
          ],
          "contourcarpet": [
           {
            "colorbar": {
             "outlinewidth": 0,
             "ticks": ""
            },
            "type": "contourcarpet"
           }
          ],
          "heatmap": [
           {
            "colorbar": {
             "outlinewidth": 0,
             "ticks": ""
            },
            "colorscale": [
             [
              0,
              "#0d0887"
             ],
             [
              0.1111111111111111,
              "#46039f"
             ],
             [
              0.2222222222222222,
              "#7201a8"
             ],
             [
              0.3333333333333333,
              "#9c179e"
             ],
             [
              0.4444444444444444,
              "#bd3786"
             ],
             [
              0.5555555555555556,
              "#d8576b"
             ],
             [
              0.6666666666666666,
              "#ed7953"
             ],
             [
              0.7777777777777778,
              "#fb9f3a"
             ],
             [
              0.8888888888888888,
              "#fdca26"
             ],
             [
              1,
              "#f0f921"
             ]
            ],
            "type": "heatmap"
           }
          ],
          "heatmapgl": [
           {
            "colorbar": {
             "outlinewidth": 0,
             "ticks": ""
            },
            "colorscale": [
             [
              0,
              "#0d0887"
             ],
             [
              0.1111111111111111,
              "#46039f"
             ],
             [
              0.2222222222222222,
              "#7201a8"
             ],
             [
              0.3333333333333333,
              "#9c179e"
             ],
             [
              0.4444444444444444,
              "#bd3786"
             ],
             [
              0.5555555555555556,
              "#d8576b"
             ],
             [
              0.6666666666666666,
              "#ed7953"
             ],
             [
              0.7777777777777778,
              "#fb9f3a"
             ],
             [
              0.8888888888888888,
              "#fdca26"
             ],
             [
              1,
              "#f0f921"
             ]
            ],
            "type": "heatmapgl"
           }
          ],
          "histogram": [
           {
            "marker": {
             "pattern": {
              "fillmode": "overlay",
              "size": 10,
              "solidity": 0.2
             }
            },
            "type": "histogram"
           }
          ],
          "histogram2d": [
           {
            "colorbar": {
             "outlinewidth": 0,
             "ticks": ""
            },
            "colorscale": [
             [
              0,
              "#0d0887"
             ],
             [
              0.1111111111111111,
              "#46039f"
             ],
             [
              0.2222222222222222,
              "#7201a8"
             ],
             [
              0.3333333333333333,
              "#9c179e"
             ],
             [
              0.4444444444444444,
              "#bd3786"
             ],
             [
              0.5555555555555556,
              "#d8576b"
             ],
             [
              0.6666666666666666,
              "#ed7953"
             ],
             [
              0.7777777777777778,
              "#fb9f3a"
             ],
             [
              0.8888888888888888,
              "#fdca26"
             ],
             [
              1,
              "#f0f921"
             ]
            ],
            "type": "histogram2d"
           }
          ],
          "histogram2dcontour": [
           {
            "colorbar": {
             "outlinewidth": 0,
             "ticks": ""
            },
            "colorscale": [
             [
              0,
              "#0d0887"
             ],
             [
              0.1111111111111111,
              "#46039f"
             ],
             [
              0.2222222222222222,
              "#7201a8"
             ],
             [
              0.3333333333333333,
              "#9c179e"
             ],
             [
              0.4444444444444444,
              "#bd3786"
             ],
             [
              0.5555555555555556,
              "#d8576b"
             ],
             [
              0.6666666666666666,
              "#ed7953"
             ],
             [
              0.7777777777777778,
              "#fb9f3a"
             ],
             [
              0.8888888888888888,
              "#fdca26"
             ],
             [
              1,
              "#f0f921"
             ]
            ],
            "type": "histogram2dcontour"
           }
          ],
          "mesh3d": [
           {
            "colorbar": {
             "outlinewidth": 0,
             "ticks": ""
            },
            "type": "mesh3d"
           }
          ],
          "parcoords": [
           {
            "line": {
             "colorbar": {
              "outlinewidth": 0,
              "ticks": ""
             }
            },
            "type": "parcoords"
           }
          ],
          "pie": [
           {
            "automargin": true,
            "type": "pie"
           }
          ],
          "scatter": [
           {
            "fillpattern": {
             "fillmode": "overlay",
             "size": 10,
             "solidity": 0.2
            },
            "type": "scatter"
           }
          ],
          "scatter3d": [
           {
            "line": {
             "colorbar": {
              "outlinewidth": 0,
              "ticks": ""
             }
            },
            "marker": {
             "colorbar": {
              "outlinewidth": 0,
              "ticks": ""
             }
            },
            "type": "scatter3d"
           }
          ],
          "scattercarpet": [
           {
            "marker": {
             "colorbar": {
              "outlinewidth": 0,
              "ticks": ""
             }
            },
            "type": "scattercarpet"
           }
          ],
          "scattergeo": [
           {
            "marker": {
             "colorbar": {
              "outlinewidth": 0,
              "ticks": ""
             }
            },
            "type": "scattergeo"
           }
          ],
          "scattergl": [
           {
            "marker": {
             "colorbar": {
              "outlinewidth": 0,
              "ticks": ""
             }
            },
            "type": "scattergl"
           }
          ],
          "scattermapbox": [
           {
            "marker": {
             "colorbar": {
              "outlinewidth": 0,
              "ticks": ""
             }
            },
            "type": "scattermapbox"
           }
          ],
          "scatterpolar": [
           {
            "marker": {
             "colorbar": {
              "outlinewidth": 0,
              "ticks": ""
             }
            },
            "type": "scatterpolar"
           }
          ],
          "scatterpolargl": [
           {
            "marker": {
             "colorbar": {
              "outlinewidth": 0,
              "ticks": ""
             }
            },
            "type": "scatterpolargl"
           }
          ],
          "scatterternary": [
           {
            "marker": {
             "colorbar": {
              "outlinewidth": 0,
              "ticks": ""
             }
            },
            "type": "scatterternary"
           }
          ],
          "surface": [
           {
            "colorbar": {
             "outlinewidth": 0,
             "ticks": ""
            },
            "colorscale": [
             [
              0,
              "#0d0887"
             ],
             [
              0.1111111111111111,
              "#46039f"
             ],
             [
              0.2222222222222222,
              "#7201a8"
             ],
             [
              0.3333333333333333,
              "#9c179e"
             ],
             [
              0.4444444444444444,
              "#bd3786"
             ],
             [
              0.5555555555555556,
              "#d8576b"
             ],
             [
              0.6666666666666666,
              "#ed7953"
             ],
             [
              0.7777777777777778,
              "#fb9f3a"
             ],
             [
              0.8888888888888888,
              "#fdca26"
             ],
             [
              1,
              "#f0f921"
             ]
            ],
            "type": "surface"
           }
          ],
          "table": [
           {
            "cells": {
             "fill": {
              "color": "#EBF0F8"
             },
             "line": {
              "color": "white"
             }
            },
            "header": {
             "fill": {
              "color": "#C8D4E3"
             },
             "line": {
              "color": "white"
             }
            },
            "type": "table"
           }
          ]
         },
         "layout": {
          "annotationdefaults": {
           "arrowcolor": "#2a3f5f",
           "arrowhead": 0,
           "arrowwidth": 1
          },
          "autotypenumbers": "strict",
          "coloraxis": {
           "colorbar": {
            "outlinewidth": 0,
            "ticks": ""
           }
          },
          "colorscale": {
           "diverging": [
            [
             0,
             "#8e0152"
            ],
            [
             0.1,
             "#c51b7d"
            ],
            [
             0.2,
             "#de77ae"
            ],
            [
             0.3,
             "#f1b6da"
            ],
            [
             0.4,
             "#fde0ef"
            ],
            [
             0.5,
             "#f7f7f7"
            ],
            [
             0.6,
             "#e6f5d0"
            ],
            [
             0.7,
             "#b8e186"
            ],
            [
             0.8,
             "#7fbc41"
            ],
            [
             0.9,
             "#4d9221"
            ],
            [
             1,
             "#276419"
            ]
           ],
           "sequential": [
            [
             0,
             "#0d0887"
            ],
            [
             0.1111111111111111,
             "#46039f"
            ],
            [
             0.2222222222222222,
             "#7201a8"
            ],
            [
             0.3333333333333333,
             "#9c179e"
            ],
            [
             0.4444444444444444,
             "#bd3786"
            ],
            [
             0.5555555555555556,
             "#d8576b"
            ],
            [
             0.6666666666666666,
             "#ed7953"
            ],
            [
             0.7777777777777778,
             "#fb9f3a"
            ],
            [
             0.8888888888888888,
             "#fdca26"
            ],
            [
             1,
             "#f0f921"
            ]
           ],
           "sequentialminus": [
            [
             0,
             "#0d0887"
            ],
            [
             0.1111111111111111,
             "#46039f"
            ],
            [
             0.2222222222222222,
             "#7201a8"
            ],
            [
             0.3333333333333333,
             "#9c179e"
            ],
            [
             0.4444444444444444,
             "#bd3786"
            ],
            [
             0.5555555555555556,
             "#d8576b"
            ],
            [
             0.6666666666666666,
             "#ed7953"
            ],
            [
             0.7777777777777778,
             "#fb9f3a"
            ],
            [
             0.8888888888888888,
             "#fdca26"
            ],
            [
             1,
             "#f0f921"
            ]
           ]
          },
          "colorway": [
           "#636efa",
           "#EF553B",
           "#00cc96",
           "#ab63fa",
           "#FFA15A",
           "#19d3f3",
           "#FF6692",
           "#B6E880",
           "#FF97FF",
           "#FECB52"
          ],
          "font": {
           "color": "#2a3f5f"
          },
          "geo": {
           "bgcolor": "white",
           "lakecolor": "white",
           "landcolor": "#E5ECF6",
           "showlakes": true,
           "showland": true,
           "subunitcolor": "white"
          },
          "hoverlabel": {
           "align": "left"
          },
          "hovermode": "closest",
          "mapbox": {
           "style": "light"
          },
          "paper_bgcolor": "white",
          "plot_bgcolor": "#E5ECF6",
          "polar": {
           "angularaxis": {
            "gridcolor": "white",
            "linecolor": "white",
            "ticks": ""
           },
           "bgcolor": "#E5ECF6",
           "radialaxis": {
            "gridcolor": "white",
            "linecolor": "white",
            "ticks": ""
           }
          },
          "scene": {
           "xaxis": {
            "backgroundcolor": "#E5ECF6",
            "gridcolor": "white",
            "gridwidth": 2,
            "linecolor": "white",
            "showbackground": true,
            "ticks": "",
            "zerolinecolor": "white"
           },
           "yaxis": {
            "backgroundcolor": "#E5ECF6",
            "gridcolor": "white",
            "gridwidth": 2,
            "linecolor": "white",
            "showbackground": true,
            "ticks": "",
            "zerolinecolor": "white"
           },
           "zaxis": {
            "backgroundcolor": "#E5ECF6",
            "gridcolor": "white",
            "gridwidth": 2,
            "linecolor": "white",
            "showbackground": true,
            "ticks": "",
            "zerolinecolor": "white"
           }
          },
          "shapedefaults": {
           "line": {
            "color": "#2a3f5f"
           }
          },
          "ternary": {
           "aaxis": {
            "gridcolor": "white",
            "linecolor": "white",
            "ticks": ""
           },
           "baxis": {
            "gridcolor": "white",
            "linecolor": "white",
            "ticks": ""
           },
           "bgcolor": "#E5ECF6",
           "caxis": {
            "gridcolor": "white",
            "linecolor": "white",
            "ticks": ""
           }
          },
          "title": {
           "x": 0.05
          },
          "xaxis": {
           "automargin": true,
           "gridcolor": "white",
           "linecolor": "white",
           "ticks": "",
           "title": {
            "standoff": 15
           },
           "zerolinecolor": "white",
           "zerolinewidth": 2
          },
          "yaxis": {
           "automargin": true,
           "gridcolor": "white",
           "linecolor": "white",
           "ticks": "",
           "title": {
            "standoff": 15
           },
           "zerolinecolor": "white",
           "zerolinewidth": 2
          }
         }
        },
        "title": {
         "text": "Storage Capacity Germany - Season"
        },
        "width": 1400,
        "xaxis": {
         "title": {
          "text": "Year"
         }
        },
        "yaxis": {
         "title": {
          "text": "GW"
         }
        }
       }
      }
     },
     "metadata": {},
     "output_type": "display_data"
    }
   ],
   "source": [
    "storage_capacity_plotter = StackedQuantityEvolutionFacilitator(sol_path=SOLUTION_FILEPATH, region=\"DE\")\n",
    "\n",
    "relevant_data = storage_capacity_plotter.get_relevant_data()\n",
    "#relevant_data.filter_by_containing_string(column=\"Technology\", identifier=\"D_\")\n",
    "#relevant_data.filter_by_list(column=\"Technology\", by_filter=[\"D_Heat_HLDH\", \"D_Heat_HLI\", \"D_Heat_HLB\", \n",
    "#                                                             \"D_Battery_Li-Ion\", \"D_Battery_Redox\", \"D_Heat_HLR\"])\n",
    "relevant_data.filter_by_containing_string(column=\"Technology\", identifier=\"D_\")\n",
    "\n",
    "\n",
    "fig = storage_capacity_plotter.plot(relevant_data)\n",
    "\n",
    "fig.update_layout(\n",
    "    width=1400,\n",
    "    height=800,\n",
    "    title=\"Storage Capacity Germany\" + TITLE_ADDON,\n",
    "    yaxis_title=\"GW\",\n",
    "    xaxis_title=\"Year\",\n",
    ")\n",
    "\n",
    "if WRITE_IMAGE:\n",
    "    fig.write_image(\"StorageProductionGermany.pdf\" + TITLE_ADDON.replace(\" \", \"\") + \".png\")\n",
    "\n",
    "fig.show()"
   ]
  },
  {
   "cell_type": "code",
   "execution_count": 39,
   "metadata": {},
   "outputs": [
    {
     "name": "stdout",
     "output_type": "stream",
     "text": [
      "No unit conversion applied!\n"
     ]
    },
    {
     "data": {
      "application/vnd.plotly.v1+json": {
       "config": {
        "plotlyServerURL": "https://plot.ly"
       },
       "data": [
        {
         "fillcolor": "#def6d1",
         "legendgroup": "D_PHS",
         "line": {
          "color": "#def6d1"
         },
         "mode": "lines",
         "name": "D_PHS",
         "showlegend": true,
         "stackgroup": "one",
         "type": "scatter",
         "x": [
          2018,
          2025,
          2030,
          2035,
          2040,
          2045,
          2050
         ],
         "y": [
          52.658,
          45.464546452,
          45.464546452,
          45.459758676,
          45.459758676,
          42.715758676,
          42.715758676
         ]
        },
        {
         "fillcolor": "#91d9fe",
         "legendgroup": "D_Battery_Li-Ion",
         "line": {
          "color": "#91d9fe"
         },
         "mode": "lines",
         "name": "D_Battery_Li-Ion",
         "showlegend": true,
         "stackgroup": "one",
         "type": "scatter",
         "x": [
          2018,
          2025,
          2030,
          2035,
          2040,
          2045,
          2050
         ],
         "y": [
          0,
          0,
          0,
          0,
          0,
          0,
          0
         ]
        },
        {
         "fillcolor": "#c6d1cb",
         "legendgroup": "D_Battery_Redox",
         "line": {
          "color": "#c6d1cb"
         },
         "mode": "lines",
         "name": "D_Battery_Redox",
         "showlegend": true,
         "stackgroup": "one",
         "type": "scatter",
         "x": [
          2018,
          2025,
          2030,
          2035,
          2040,
          2045,
          2050
         ],
         "y": [
          0,
          0,
          0,
          0,
          0,
          0,
          0
         ]
        },
        {
         "fillcolor": "#9ab5ea",
         "legendgroup": "D_CAES",
         "line": {
          "color": "#9ab5ea"
         },
         "mode": "lines",
         "name": "D_CAES",
         "showlegend": true,
         "stackgroup": "one",
         "type": "scatter",
         "x": [
          2018,
          2025,
          2030,
          2035,
          2040,
          2045,
          2050
         ],
         "y": [
          0,
          0,
          0,
          0,
          0,
          0,
          0
         ]
        },
        {
         "fillcolor": "#a4dfe5",
         "legendgroup": "D_Gas_H2",
         "line": {
          "color": "#a4dfe5"
         },
         "mode": "lines",
         "name": "D_Gas_H2",
         "showlegend": true,
         "stackgroup": "one",
         "type": "scatter",
         "x": [
          2018,
          2025,
          2030,
          2035,
          2040,
          2045,
          2050
         ],
         "y": [
          0,
          0.11604453809204489,
          17.81932816407325,
          93.59554079531563,
          252.74742555421395,
          283.453003505592,
          307.7513285503763
         ]
        },
        {
         "fillcolor": "#9185f3",
         "legendgroup": "D_Gas_Methane",
         "line": {
          "color": "#9185f3"
         },
         "mode": "lines",
         "name": "D_Gas_Methane",
         "showlegend": true,
         "stackgroup": "one",
         "type": "scatter",
         "x": [
          2018,
          2025,
          2030,
          2035,
          2040,
          2045,
          2050
         ],
         "y": [
          0,
          0,
          0,
          0,
          0,
          0,
          0
         ]
        },
        {
         "fillcolor": "#9dd8fa",
         "legendgroup": "D_Heat_HLB",
         "line": {
          "color": "#9dd8fa"
         },
         "mode": "lines",
         "name": "D_Heat_HLB",
         "showlegend": true,
         "stackgroup": "one",
         "type": "scatter",
         "x": [
          2018,
          2025,
          2030,
          2035,
          2040,
          2045,
          2050
         ],
         "y": [
          0,
          0,
          0,
          0,
          0,
          0,
          0
         ]
        },
        {
         "fillcolor": "#fafa9d",
         "legendgroup": "D_Heat_HLDH",
         "line": {
          "color": "#fafa9d"
         },
         "mode": "lines",
         "name": "D_Heat_HLDH",
         "showlegend": true,
         "stackgroup": "one",
         "type": "scatter",
         "x": [
          2018,
          2025,
          2030,
          2035,
          2040,
          2045,
          2050
         ],
         "y": [
          0,
          0,
          0,
          0,
          0,
          0,
          0
         ]
        },
        {
         "fillcolor": "#a7c9f5",
         "legendgroup": "D_Heat_HLI",
         "line": {
          "color": "#a7c9f5"
         },
         "mode": "lines",
         "name": "D_Heat_HLI",
         "showlegend": true,
         "stackgroup": "one",
         "type": "scatter",
         "x": [
          2018,
          2025,
          2030,
          2035,
          2040,
          2045,
          2050
         ],
         "y": [
          0,
          0,
          0,
          0,
          0,
          0,
          0
         ]
        },
        {
         "fillcolor": "#c8fa8a",
         "legendgroup": "D_Heat_HLR",
         "line": {
          "color": "#c8fa8a"
         },
         "mode": "lines",
         "name": "D_Heat_HLR",
         "showlegend": true,
         "stackgroup": "one",
         "type": "scatter",
         "x": [
          2018,
          2025,
          2030,
          2035,
          2040,
          2045,
          2050
         ],
         "y": [
          0,
          0,
          0,
          0,
          0,
          0,
          0
         ]
        },
        {
         "fillcolor": "#928df6",
         "legendgroup": "D_PHS_Residual",
         "line": {
          "color": "#928df6"
         },
         "mode": "lines",
         "name": "D_PHS_Residual",
         "showlegend": true,
         "stackgroup": "one",
         "type": "scatter",
         "x": [
          2018,
          2025,
          2030,
          2035,
          2040,
          2045,
          2050
         ],
         "y": [
          0,
          0,
          0,
          0,
          0,
          0,
          0
         ]
        }
       ],
       "layout": {
        "barmode": "stack",
        "font": {
         "size": 22
        },
        "height": 800,
        "template": {
         "data": {
          "bar": [
           {
            "error_x": {
             "color": "#2a3f5f"
            },
            "error_y": {
             "color": "#2a3f5f"
            },
            "marker": {
             "line": {
              "color": "#E5ECF6",
              "width": 0.5
             },
             "pattern": {
              "fillmode": "overlay",
              "size": 10,
              "solidity": 0.2
             }
            },
            "type": "bar"
           }
          ],
          "barpolar": [
           {
            "marker": {
             "line": {
              "color": "#E5ECF6",
              "width": 0.5
             },
             "pattern": {
              "fillmode": "overlay",
              "size": 10,
              "solidity": 0.2
             }
            },
            "type": "barpolar"
           }
          ],
          "carpet": [
           {
            "aaxis": {
             "endlinecolor": "#2a3f5f",
             "gridcolor": "white",
             "linecolor": "white",
             "minorgridcolor": "white",
             "startlinecolor": "#2a3f5f"
            },
            "baxis": {
             "endlinecolor": "#2a3f5f",
             "gridcolor": "white",
             "linecolor": "white",
             "minorgridcolor": "white",
             "startlinecolor": "#2a3f5f"
            },
            "type": "carpet"
           }
          ],
          "choropleth": [
           {
            "colorbar": {
             "outlinewidth": 0,
             "ticks": ""
            },
            "type": "choropleth"
           }
          ],
          "contour": [
           {
            "colorbar": {
             "outlinewidth": 0,
             "ticks": ""
            },
            "colorscale": [
             [
              0,
              "#0d0887"
             ],
             [
              0.1111111111111111,
              "#46039f"
             ],
             [
              0.2222222222222222,
              "#7201a8"
             ],
             [
              0.3333333333333333,
              "#9c179e"
             ],
             [
              0.4444444444444444,
              "#bd3786"
             ],
             [
              0.5555555555555556,
              "#d8576b"
             ],
             [
              0.6666666666666666,
              "#ed7953"
             ],
             [
              0.7777777777777778,
              "#fb9f3a"
             ],
             [
              0.8888888888888888,
              "#fdca26"
             ],
             [
              1,
              "#f0f921"
             ]
            ],
            "type": "contour"
           }
          ],
          "contourcarpet": [
           {
            "colorbar": {
             "outlinewidth": 0,
             "ticks": ""
            },
            "type": "contourcarpet"
           }
          ],
          "heatmap": [
           {
            "colorbar": {
             "outlinewidth": 0,
             "ticks": ""
            },
            "colorscale": [
             [
              0,
              "#0d0887"
             ],
             [
              0.1111111111111111,
              "#46039f"
             ],
             [
              0.2222222222222222,
              "#7201a8"
             ],
             [
              0.3333333333333333,
              "#9c179e"
             ],
             [
              0.4444444444444444,
              "#bd3786"
             ],
             [
              0.5555555555555556,
              "#d8576b"
             ],
             [
              0.6666666666666666,
              "#ed7953"
             ],
             [
              0.7777777777777778,
              "#fb9f3a"
             ],
             [
              0.8888888888888888,
              "#fdca26"
             ],
             [
              1,
              "#f0f921"
             ]
            ],
            "type": "heatmap"
           }
          ],
          "heatmapgl": [
           {
            "colorbar": {
             "outlinewidth": 0,
             "ticks": ""
            },
            "colorscale": [
             [
              0,
              "#0d0887"
             ],
             [
              0.1111111111111111,
              "#46039f"
             ],
             [
              0.2222222222222222,
              "#7201a8"
             ],
             [
              0.3333333333333333,
              "#9c179e"
             ],
             [
              0.4444444444444444,
              "#bd3786"
             ],
             [
              0.5555555555555556,
              "#d8576b"
             ],
             [
              0.6666666666666666,
              "#ed7953"
             ],
             [
              0.7777777777777778,
              "#fb9f3a"
             ],
             [
              0.8888888888888888,
              "#fdca26"
             ],
             [
              1,
              "#f0f921"
             ]
            ],
            "type": "heatmapgl"
           }
          ],
          "histogram": [
           {
            "marker": {
             "pattern": {
              "fillmode": "overlay",
              "size": 10,
              "solidity": 0.2
             }
            },
            "type": "histogram"
           }
          ],
          "histogram2d": [
           {
            "colorbar": {
             "outlinewidth": 0,
             "ticks": ""
            },
            "colorscale": [
             [
              0,
              "#0d0887"
             ],
             [
              0.1111111111111111,
              "#46039f"
             ],
             [
              0.2222222222222222,
              "#7201a8"
             ],
             [
              0.3333333333333333,
              "#9c179e"
             ],
             [
              0.4444444444444444,
              "#bd3786"
             ],
             [
              0.5555555555555556,
              "#d8576b"
             ],
             [
              0.6666666666666666,
              "#ed7953"
             ],
             [
              0.7777777777777778,
              "#fb9f3a"
             ],
             [
              0.8888888888888888,
              "#fdca26"
             ],
             [
              1,
              "#f0f921"
             ]
            ],
            "type": "histogram2d"
           }
          ],
          "histogram2dcontour": [
           {
            "colorbar": {
             "outlinewidth": 0,
             "ticks": ""
            },
            "colorscale": [
             [
              0,
              "#0d0887"
             ],
             [
              0.1111111111111111,
              "#46039f"
             ],
             [
              0.2222222222222222,
              "#7201a8"
             ],
             [
              0.3333333333333333,
              "#9c179e"
             ],
             [
              0.4444444444444444,
              "#bd3786"
             ],
             [
              0.5555555555555556,
              "#d8576b"
             ],
             [
              0.6666666666666666,
              "#ed7953"
             ],
             [
              0.7777777777777778,
              "#fb9f3a"
             ],
             [
              0.8888888888888888,
              "#fdca26"
             ],
             [
              1,
              "#f0f921"
             ]
            ],
            "type": "histogram2dcontour"
           }
          ],
          "mesh3d": [
           {
            "colorbar": {
             "outlinewidth": 0,
             "ticks": ""
            },
            "type": "mesh3d"
           }
          ],
          "parcoords": [
           {
            "line": {
             "colorbar": {
              "outlinewidth": 0,
              "ticks": ""
             }
            },
            "type": "parcoords"
           }
          ],
          "pie": [
           {
            "automargin": true,
            "type": "pie"
           }
          ],
          "scatter": [
           {
            "fillpattern": {
             "fillmode": "overlay",
             "size": 10,
             "solidity": 0.2
            },
            "type": "scatter"
           }
          ],
          "scatter3d": [
           {
            "line": {
             "colorbar": {
              "outlinewidth": 0,
              "ticks": ""
             }
            },
            "marker": {
             "colorbar": {
              "outlinewidth": 0,
              "ticks": ""
             }
            },
            "type": "scatter3d"
           }
          ],
          "scattercarpet": [
           {
            "marker": {
             "colorbar": {
              "outlinewidth": 0,
              "ticks": ""
             }
            },
            "type": "scattercarpet"
           }
          ],
          "scattergeo": [
           {
            "marker": {
             "colorbar": {
              "outlinewidth": 0,
              "ticks": ""
             }
            },
            "type": "scattergeo"
           }
          ],
          "scattergl": [
           {
            "marker": {
             "colorbar": {
              "outlinewidth": 0,
              "ticks": ""
             }
            },
            "type": "scattergl"
           }
          ],
          "scattermapbox": [
           {
            "marker": {
             "colorbar": {
              "outlinewidth": 0,
              "ticks": ""
             }
            },
            "type": "scattermapbox"
           }
          ],
          "scatterpolar": [
           {
            "marker": {
             "colorbar": {
              "outlinewidth": 0,
              "ticks": ""
             }
            },
            "type": "scatterpolar"
           }
          ],
          "scatterpolargl": [
           {
            "marker": {
             "colorbar": {
              "outlinewidth": 0,
              "ticks": ""
             }
            },
            "type": "scatterpolargl"
           }
          ],
          "scatterternary": [
           {
            "marker": {
             "colorbar": {
              "outlinewidth": 0,
              "ticks": ""
             }
            },
            "type": "scatterternary"
           }
          ],
          "surface": [
           {
            "colorbar": {
             "outlinewidth": 0,
             "ticks": ""
            },
            "colorscale": [
             [
              0,
              "#0d0887"
             ],
             [
              0.1111111111111111,
              "#46039f"
             ],
             [
              0.2222222222222222,
              "#7201a8"
             ],
             [
              0.3333333333333333,
              "#9c179e"
             ],
             [
              0.4444444444444444,
              "#bd3786"
             ],
             [
              0.5555555555555556,
              "#d8576b"
             ],
             [
              0.6666666666666666,
              "#ed7953"
             ],
             [
              0.7777777777777778,
              "#fb9f3a"
             ],
             [
              0.8888888888888888,
              "#fdca26"
             ],
             [
              1,
              "#f0f921"
             ]
            ],
            "type": "surface"
           }
          ],
          "table": [
           {
            "cells": {
             "fill": {
              "color": "#EBF0F8"
             },
             "line": {
              "color": "white"
             }
            },
            "header": {
             "fill": {
              "color": "#C8D4E3"
             },
             "line": {
              "color": "white"
             }
            },
            "type": "table"
           }
          ]
         },
         "layout": {
          "annotationdefaults": {
           "arrowcolor": "#2a3f5f",
           "arrowhead": 0,
           "arrowwidth": 1
          },
          "autotypenumbers": "strict",
          "coloraxis": {
           "colorbar": {
            "outlinewidth": 0,
            "ticks": ""
           }
          },
          "colorscale": {
           "diverging": [
            [
             0,
             "#8e0152"
            ],
            [
             0.1,
             "#c51b7d"
            ],
            [
             0.2,
             "#de77ae"
            ],
            [
             0.3,
             "#f1b6da"
            ],
            [
             0.4,
             "#fde0ef"
            ],
            [
             0.5,
             "#f7f7f7"
            ],
            [
             0.6,
             "#e6f5d0"
            ],
            [
             0.7,
             "#b8e186"
            ],
            [
             0.8,
             "#7fbc41"
            ],
            [
             0.9,
             "#4d9221"
            ],
            [
             1,
             "#276419"
            ]
           ],
           "sequential": [
            [
             0,
             "#0d0887"
            ],
            [
             0.1111111111111111,
             "#46039f"
            ],
            [
             0.2222222222222222,
             "#7201a8"
            ],
            [
             0.3333333333333333,
             "#9c179e"
            ],
            [
             0.4444444444444444,
             "#bd3786"
            ],
            [
             0.5555555555555556,
             "#d8576b"
            ],
            [
             0.6666666666666666,
             "#ed7953"
            ],
            [
             0.7777777777777778,
             "#fb9f3a"
            ],
            [
             0.8888888888888888,
             "#fdca26"
            ],
            [
             1,
             "#f0f921"
            ]
           ],
           "sequentialminus": [
            [
             0,
             "#0d0887"
            ],
            [
             0.1111111111111111,
             "#46039f"
            ],
            [
             0.2222222222222222,
             "#7201a8"
            ],
            [
             0.3333333333333333,
             "#9c179e"
            ],
            [
             0.4444444444444444,
             "#bd3786"
            ],
            [
             0.5555555555555556,
             "#d8576b"
            ],
            [
             0.6666666666666666,
             "#ed7953"
            ],
            [
             0.7777777777777778,
             "#fb9f3a"
            ],
            [
             0.8888888888888888,
             "#fdca26"
            ],
            [
             1,
             "#f0f921"
            ]
           ]
          },
          "colorway": [
           "#636efa",
           "#EF553B",
           "#00cc96",
           "#ab63fa",
           "#FFA15A",
           "#19d3f3",
           "#FF6692",
           "#B6E880",
           "#FF97FF",
           "#FECB52"
          ],
          "font": {
           "color": "#2a3f5f"
          },
          "geo": {
           "bgcolor": "white",
           "lakecolor": "white",
           "landcolor": "#E5ECF6",
           "showlakes": true,
           "showland": true,
           "subunitcolor": "white"
          },
          "hoverlabel": {
           "align": "left"
          },
          "hovermode": "closest",
          "mapbox": {
           "style": "light"
          },
          "paper_bgcolor": "white",
          "plot_bgcolor": "#E5ECF6",
          "polar": {
           "angularaxis": {
            "gridcolor": "white",
            "linecolor": "white",
            "ticks": ""
           },
           "bgcolor": "#E5ECF6",
           "radialaxis": {
            "gridcolor": "white",
            "linecolor": "white",
            "ticks": ""
           }
          },
          "scene": {
           "xaxis": {
            "backgroundcolor": "#E5ECF6",
            "gridcolor": "white",
            "gridwidth": 2,
            "linecolor": "white",
            "showbackground": true,
            "ticks": "",
            "zerolinecolor": "white"
           },
           "yaxis": {
            "backgroundcolor": "#E5ECF6",
            "gridcolor": "white",
            "gridwidth": 2,
            "linecolor": "white",
            "showbackground": true,
            "ticks": "",
            "zerolinecolor": "white"
           },
           "zaxis": {
            "backgroundcolor": "#E5ECF6",
            "gridcolor": "white",
            "gridwidth": 2,
            "linecolor": "white",
            "showbackground": true,
            "ticks": "",
            "zerolinecolor": "white"
           }
          },
          "shapedefaults": {
           "line": {
            "color": "#2a3f5f"
           }
          },
          "ternary": {
           "aaxis": {
            "gridcolor": "white",
            "linecolor": "white",
            "ticks": ""
           },
           "baxis": {
            "gridcolor": "white",
            "linecolor": "white",
            "ticks": ""
           },
           "bgcolor": "#E5ECF6",
           "caxis": {
            "gridcolor": "white",
            "linecolor": "white",
            "ticks": ""
           }
          },
          "title": {
           "x": 0.05
          },
          "xaxis": {
           "automargin": true,
           "gridcolor": "white",
           "linecolor": "white",
           "ticks": "",
           "title": {
            "standoff": 15
           },
           "zerolinecolor": "white",
           "zerolinewidth": 2
          },
          "yaxis": {
           "automargin": true,
           "gridcolor": "white",
           "linecolor": "white",
           "ticks": "",
           "title": {
            "standoff": 15
           },
           "zerolinecolor": "white",
           "zerolinewidth": 2
          }
         }
        },
        "title": {
         "text": "Storage Capacity All Regions - Season"
        },
        "width": 1400,
        "xaxis": {
         "title": {
          "text": "Year"
         }
        },
        "yaxis": {
         "title": {
          "text": "GW"
         }
        }
       }
      }
     },
     "metadata": {},
     "output_type": "display_data"
    }
   ],
   "source": [
    "storage_capacity_plotter = StackedQuantityEvolutionFacilitator(sol_path=SOLUTION_FILEPATH, region=\"All\")\n",
    "\n",
    "relevant_data = storage_capacity_plotter.get_relevant_data()\n",
    "#relevant_data.filter_by_containing_string(column=\"Technology\", identifier=\"D_\")\n",
    "#relevant_data.filter_by_list(column=\"Technology\", by_filter=[\"D_Heat_HLDH\", \"D_Heat_HLI\", \"D_Heat_HLB\", \n",
    "#                                                             \"D_Battery_Li-Ion\", \"D_Battery_Redox\", \"D_Heat_HLR\"])\n",
    "relevant_data.filter_by_containing_string(column=\"Technology\", identifier=\"D_\")\n",
    "relevant_data.aggreagate_all_by_sum(column_to_aggregate=\"Region\", aggregated_entry_name=\"All\", column_to_sum=\"Value\")\n",
    "\n",
    "fig = storage_capacity_plotter.plot(relevant_data)\n",
    "\n",
    "fig.update_layout(\n",
    "    width=1400,\n",
    "    height=800,\n",
    "    title=\"Storage Capacity All Regions\" + TITLE_ADDON,\n",
    "    yaxis_title=\"GW\",\n",
    "    xaxis_title=\"Year\",\n",
    ")\n",
    "\n",
    "#if WRITE_IMAGE:\n",
    "fig.write_image(\"StorageProductionAllRegions.pdf\" + TITLE_ADDON.replace(\" \", \"\") + \".png\")\n",
    "\n",
    "fig.show()"
   ]
  },
  {
   "cell_type": "markdown",
   "metadata": {},
   "source": [
    "### Hourly data"
   ]
  },
  {
   "cell_type": "code",
   "execution_count": 40,
   "metadata": {},
   "outputs": [
    {
     "name": "stdout",
     "output_type": "stream",
     "text": [
      "Converting from PetaJoules to TerraWattHours\n"
     ]
    },
    {
     "data": {
      "application/vnd.plotly.v1+json": {
       "config": {
        "plotlyServerURL": "https://plot.ly"
       },
       "data": [
        {
         "marker": {
          "color": "#9dd8fa"
         },
         "name": "D_Heat_HLB",
         "showlegend": true,
         "type": "bar",
         "x": [
          "964",
          "964",
          "964",
          "964",
          "1928",
          "1928",
          "1928",
          "1928",
          "2892",
          "2892",
          "2892",
          "2892",
          "3856",
          "3856",
          "3856",
          "3856",
          "4820",
          "4820",
          "4820",
          "4820",
          "5784",
          "5784",
          "5784",
          "5784",
          "6748",
          "6748",
          "6748",
          "6748",
          "7712",
          "7712",
          "7712",
          "7712",
          "8676",
          "8676",
          "8676",
          "8676"
         ],
         "y": [
          0,
          0,
          0,
          0,
          0,
          0,
          0,
          0,
          0,
          0,
          0,
          0,
          0,
          0,
          0,
          0,
          0,
          0,
          0,
          0,
          0,
          0,
          0,
          0,
          0,
          0,
          0,
          0,
          0,
          0,
          0,
          0,
          0,
          0,
          0,
          0
         ]
        },
        {
         "marker": {
          "color": "#fafa9d"
         },
         "name": "D_Heat_HLDH",
         "showlegend": true,
         "type": "bar",
         "x": [
          "964",
          "964",
          "964",
          "964",
          "1928",
          "1928",
          "1928",
          "1928",
          "2892",
          "2892",
          "2892",
          "2892",
          "3856",
          "3856",
          "3856",
          "3856",
          "4820",
          "4820",
          "4820",
          "4820",
          "5784",
          "5784",
          "5784",
          "5784",
          "6748",
          "6748",
          "6748",
          "6748",
          "7712",
          "7712",
          "7712",
          "7712",
          "8676",
          "8676",
          "8676",
          "8676"
         ],
         "y": [
          0,
          0,
          0,
          0,
          0,
          0,
          0,
          0,
          0,
          0,
          0,
          0,
          0,
          0,
          0,
          0,
          0,
          0,
          0,
          0,
          0,
          0,
          0,
          0,
          0,
          0,
          0,
          0,
          0,
          0,
          0,
          0,
          0,
          0,
          0,
          0
         ]
        },
        {
         "marker": {
          "color": "#a7c9f5"
         },
         "name": "D_Heat_HLI",
         "showlegend": true,
         "type": "bar",
         "x": [
          "964",
          "964",
          "964",
          "964",
          "1928",
          "1928",
          "1928",
          "1928",
          "2892",
          "2892",
          "2892",
          "2892",
          "3856",
          "3856",
          "3856",
          "3856",
          "4820",
          "4820",
          "4820",
          "4820",
          "5784",
          "5784",
          "5784",
          "5784",
          "6748",
          "6748",
          "6748",
          "6748",
          "7712",
          "7712",
          "7712",
          "7712",
          "8676",
          "8676",
          "8676",
          "8676"
         ],
         "y": [
          0,
          0,
          0,
          0,
          0,
          0,
          0,
          0,
          0,
          0,
          0,
          0,
          0,
          0,
          0,
          0,
          0,
          0,
          0,
          0,
          0,
          0,
          0,
          0,
          0,
          0,
          0,
          0,
          0,
          0,
          0,
          0,
          0,
          0,
          0,
          0
         ]
        }
       ],
       "layout": {
        "barmode": "stack",
        "font": {
         "size": 16
        },
        "height": 800,
        "template": {
         "data": {
          "bar": [
           {
            "error_x": {
             "color": "#2a3f5f"
            },
            "error_y": {
             "color": "#2a3f5f"
            },
            "marker": {
             "line": {
              "color": "#E5ECF6",
              "width": 0.5
             },
             "pattern": {
              "fillmode": "overlay",
              "size": 10,
              "solidity": 0.2
             }
            },
            "type": "bar"
           }
          ],
          "barpolar": [
           {
            "marker": {
             "line": {
              "color": "#E5ECF6",
              "width": 0.5
             },
             "pattern": {
              "fillmode": "overlay",
              "size": 10,
              "solidity": 0.2
             }
            },
            "type": "barpolar"
           }
          ],
          "carpet": [
           {
            "aaxis": {
             "endlinecolor": "#2a3f5f",
             "gridcolor": "white",
             "linecolor": "white",
             "minorgridcolor": "white",
             "startlinecolor": "#2a3f5f"
            },
            "baxis": {
             "endlinecolor": "#2a3f5f",
             "gridcolor": "white",
             "linecolor": "white",
             "minorgridcolor": "white",
             "startlinecolor": "#2a3f5f"
            },
            "type": "carpet"
           }
          ],
          "choropleth": [
           {
            "colorbar": {
             "outlinewidth": 0,
             "ticks": ""
            },
            "type": "choropleth"
           }
          ],
          "contour": [
           {
            "colorbar": {
             "outlinewidth": 0,
             "ticks": ""
            },
            "colorscale": [
             [
              0,
              "#0d0887"
             ],
             [
              0.1111111111111111,
              "#46039f"
             ],
             [
              0.2222222222222222,
              "#7201a8"
             ],
             [
              0.3333333333333333,
              "#9c179e"
             ],
             [
              0.4444444444444444,
              "#bd3786"
             ],
             [
              0.5555555555555556,
              "#d8576b"
             ],
             [
              0.6666666666666666,
              "#ed7953"
             ],
             [
              0.7777777777777778,
              "#fb9f3a"
             ],
             [
              0.8888888888888888,
              "#fdca26"
             ],
             [
              1,
              "#f0f921"
             ]
            ],
            "type": "contour"
           }
          ],
          "contourcarpet": [
           {
            "colorbar": {
             "outlinewidth": 0,
             "ticks": ""
            },
            "type": "contourcarpet"
           }
          ],
          "heatmap": [
           {
            "colorbar": {
             "outlinewidth": 0,
             "ticks": ""
            },
            "colorscale": [
             [
              0,
              "#0d0887"
             ],
             [
              0.1111111111111111,
              "#46039f"
             ],
             [
              0.2222222222222222,
              "#7201a8"
             ],
             [
              0.3333333333333333,
              "#9c179e"
             ],
             [
              0.4444444444444444,
              "#bd3786"
             ],
             [
              0.5555555555555556,
              "#d8576b"
             ],
             [
              0.6666666666666666,
              "#ed7953"
             ],
             [
              0.7777777777777778,
              "#fb9f3a"
             ],
             [
              0.8888888888888888,
              "#fdca26"
             ],
             [
              1,
              "#f0f921"
             ]
            ],
            "type": "heatmap"
           }
          ],
          "heatmapgl": [
           {
            "colorbar": {
             "outlinewidth": 0,
             "ticks": ""
            },
            "colorscale": [
             [
              0,
              "#0d0887"
             ],
             [
              0.1111111111111111,
              "#46039f"
             ],
             [
              0.2222222222222222,
              "#7201a8"
             ],
             [
              0.3333333333333333,
              "#9c179e"
             ],
             [
              0.4444444444444444,
              "#bd3786"
             ],
             [
              0.5555555555555556,
              "#d8576b"
             ],
             [
              0.6666666666666666,
              "#ed7953"
             ],
             [
              0.7777777777777778,
              "#fb9f3a"
             ],
             [
              0.8888888888888888,
              "#fdca26"
             ],
             [
              1,
              "#f0f921"
             ]
            ],
            "type": "heatmapgl"
           }
          ],
          "histogram": [
           {
            "marker": {
             "pattern": {
              "fillmode": "overlay",
              "size": 10,
              "solidity": 0.2
             }
            },
            "type": "histogram"
           }
          ],
          "histogram2d": [
           {
            "colorbar": {
             "outlinewidth": 0,
             "ticks": ""
            },
            "colorscale": [
             [
              0,
              "#0d0887"
             ],
             [
              0.1111111111111111,
              "#46039f"
             ],
             [
              0.2222222222222222,
              "#7201a8"
             ],
             [
              0.3333333333333333,
              "#9c179e"
             ],
             [
              0.4444444444444444,
              "#bd3786"
             ],
             [
              0.5555555555555556,
              "#d8576b"
             ],
             [
              0.6666666666666666,
              "#ed7953"
             ],
             [
              0.7777777777777778,
              "#fb9f3a"
             ],
             [
              0.8888888888888888,
              "#fdca26"
             ],
             [
              1,
              "#f0f921"
             ]
            ],
            "type": "histogram2d"
           }
          ],
          "histogram2dcontour": [
           {
            "colorbar": {
             "outlinewidth": 0,
             "ticks": ""
            },
            "colorscale": [
             [
              0,
              "#0d0887"
             ],
             [
              0.1111111111111111,
              "#46039f"
             ],
             [
              0.2222222222222222,
              "#7201a8"
             ],
             [
              0.3333333333333333,
              "#9c179e"
             ],
             [
              0.4444444444444444,
              "#bd3786"
             ],
             [
              0.5555555555555556,
              "#d8576b"
             ],
             [
              0.6666666666666666,
              "#ed7953"
             ],
             [
              0.7777777777777778,
              "#fb9f3a"
             ],
             [
              0.8888888888888888,
              "#fdca26"
             ],
             [
              1,
              "#f0f921"
             ]
            ],
            "type": "histogram2dcontour"
           }
          ],
          "mesh3d": [
           {
            "colorbar": {
             "outlinewidth": 0,
             "ticks": ""
            },
            "type": "mesh3d"
           }
          ],
          "parcoords": [
           {
            "line": {
             "colorbar": {
              "outlinewidth": 0,
              "ticks": ""
             }
            },
            "type": "parcoords"
           }
          ],
          "pie": [
           {
            "automargin": true,
            "type": "pie"
           }
          ],
          "scatter": [
           {
            "fillpattern": {
             "fillmode": "overlay",
             "size": 10,
             "solidity": 0.2
            },
            "type": "scatter"
           }
          ],
          "scatter3d": [
           {
            "line": {
             "colorbar": {
              "outlinewidth": 0,
              "ticks": ""
             }
            },
            "marker": {
             "colorbar": {
              "outlinewidth": 0,
              "ticks": ""
             }
            },
            "type": "scatter3d"
           }
          ],
          "scattercarpet": [
           {
            "marker": {
             "colorbar": {
              "outlinewidth": 0,
              "ticks": ""
             }
            },
            "type": "scattercarpet"
           }
          ],
          "scattergeo": [
           {
            "marker": {
             "colorbar": {
              "outlinewidth": 0,
              "ticks": ""
             }
            },
            "type": "scattergeo"
           }
          ],
          "scattergl": [
           {
            "marker": {
             "colorbar": {
              "outlinewidth": 0,
              "ticks": ""
             }
            },
            "type": "scattergl"
           }
          ],
          "scattermapbox": [
           {
            "marker": {
             "colorbar": {
              "outlinewidth": 0,
              "ticks": ""
             }
            },
            "type": "scattermapbox"
           }
          ],
          "scatterpolar": [
           {
            "marker": {
             "colorbar": {
              "outlinewidth": 0,
              "ticks": ""
             }
            },
            "type": "scatterpolar"
           }
          ],
          "scatterpolargl": [
           {
            "marker": {
             "colorbar": {
              "outlinewidth": 0,
              "ticks": ""
             }
            },
            "type": "scatterpolargl"
           }
          ],
          "scatterternary": [
           {
            "marker": {
             "colorbar": {
              "outlinewidth": 0,
              "ticks": ""
             }
            },
            "type": "scatterternary"
           }
          ],
          "surface": [
           {
            "colorbar": {
             "outlinewidth": 0,
             "ticks": ""
            },
            "colorscale": [
             [
              0,
              "#0d0887"
             ],
             [
              0.1111111111111111,
              "#46039f"
             ],
             [
              0.2222222222222222,
              "#7201a8"
             ],
             [
              0.3333333333333333,
              "#9c179e"
             ],
             [
              0.4444444444444444,
              "#bd3786"
             ],
             [
              0.5555555555555556,
              "#d8576b"
             ],
             [
              0.6666666666666666,
              "#ed7953"
             ],
             [
              0.7777777777777778,
              "#fb9f3a"
             ],
             [
              0.8888888888888888,
              "#fdca26"
             ],
             [
              1,
              "#f0f921"
             ]
            ],
            "type": "surface"
           }
          ],
          "table": [
           {
            "cells": {
             "fill": {
              "color": "#EBF0F8"
             },
             "line": {
              "color": "white"
             }
            },
            "header": {
             "fill": {
              "color": "#C8D4E3"
             },
             "line": {
              "color": "white"
             }
            },
            "type": "table"
           }
          ]
         },
         "layout": {
          "annotationdefaults": {
           "arrowcolor": "#2a3f5f",
           "arrowhead": 0,
           "arrowwidth": 1
          },
          "autotypenumbers": "strict",
          "coloraxis": {
           "colorbar": {
            "outlinewidth": 0,
            "ticks": ""
           }
          },
          "colorscale": {
           "diverging": [
            [
             0,
             "#8e0152"
            ],
            [
             0.1,
             "#c51b7d"
            ],
            [
             0.2,
             "#de77ae"
            ],
            [
             0.3,
             "#f1b6da"
            ],
            [
             0.4,
             "#fde0ef"
            ],
            [
             0.5,
             "#f7f7f7"
            ],
            [
             0.6,
             "#e6f5d0"
            ],
            [
             0.7,
             "#b8e186"
            ],
            [
             0.8,
             "#7fbc41"
            ],
            [
             0.9,
             "#4d9221"
            ],
            [
             1,
             "#276419"
            ]
           ],
           "sequential": [
            [
             0,
             "#0d0887"
            ],
            [
             0.1111111111111111,
             "#46039f"
            ],
            [
             0.2222222222222222,
             "#7201a8"
            ],
            [
             0.3333333333333333,
             "#9c179e"
            ],
            [
             0.4444444444444444,
             "#bd3786"
            ],
            [
             0.5555555555555556,
             "#d8576b"
            ],
            [
             0.6666666666666666,
             "#ed7953"
            ],
            [
             0.7777777777777778,
             "#fb9f3a"
            ],
            [
             0.8888888888888888,
             "#fdca26"
            ],
            [
             1,
             "#f0f921"
            ]
           ],
           "sequentialminus": [
            [
             0,
             "#0d0887"
            ],
            [
             0.1111111111111111,
             "#46039f"
            ],
            [
             0.2222222222222222,
             "#7201a8"
            ],
            [
             0.3333333333333333,
             "#9c179e"
            ],
            [
             0.4444444444444444,
             "#bd3786"
            ],
            [
             0.5555555555555556,
             "#d8576b"
            ],
            [
             0.6666666666666666,
             "#ed7953"
            ],
            [
             0.7777777777777778,
             "#fb9f3a"
            ],
            [
             0.8888888888888888,
             "#fdca26"
            ],
            [
             1,
             "#f0f921"
            ]
           ]
          },
          "colorway": [
           "#636efa",
           "#EF553B",
           "#00cc96",
           "#ab63fa",
           "#FFA15A",
           "#19d3f3",
           "#FF6692",
           "#B6E880",
           "#FF97FF",
           "#FECB52"
          ],
          "font": {
           "color": "#2a3f5f"
          },
          "geo": {
           "bgcolor": "white",
           "lakecolor": "white",
           "landcolor": "#E5ECF6",
           "showlakes": true,
           "showland": true,
           "subunitcolor": "white"
          },
          "hoverlabel": {
           "align": "left"
          },
          "hovermode": "closest",
          "mapbox": {
           "style": "light"
          },
          "paper_bgcolor": "white",
          "plot_bgcolor": "#E5ECF6",
          "polar": {
           "angularaxis": {
            "gridcolor": "white",
            "linecolor": "white",
            "ticks": ""
           },
           "bgcolor": "#E5ECF6",
           "radialaxis": {
            "gridcolor": "white",
            "linecolor": "white",
            "ticks": ""
           }
          },
          "scene": {
           "xaxis": {
            "backgroundcolor": "#E5ECF6",
            "gridcolor": "white",
            "gridwidth": 2,
            "linecolor": "white",
            "showbackground": true,
            "ticks": "",
            "zerolinecolor": "white"
           },
           "yaxis": {
            "backgroundcolor": "#E5ECF6",
            "gridcolor": "white",
            "gridwidth": 2,
            "linecolor": "white",
            "showbackground": true,
            "ticks": "",
            "zerolinecolor": "white"
           },
           "zaxis": {
            "backgroundcolor": "#E5ECF6",
            "gridcolor": "white",
            "gridwidth": 2,
            "linecolor": "white",
            "showbackground": true,
            "ticks": "",
            "zerolinecolor": "white"
           }
          },
          "shapedefaults": {
           "line": {
            "color": "#2a3f5f"
           }
          },
          "ternary": {
           "aaxis": {
            "gridcolor": "white",
            "linecolor": "white",
            "ticks": ""
           },
           "baxis": {
            "gridcolor": "white",
            "linecolor": "white",
            "ticks": ""
           },
           "bgcolor": "#E5ECF6",
           "caxis": {
            "gridcolor": "white",
            "linecolor": "white",
            "ticks": ""
           }
          },
          "title": {
           "x": 0.05
          },
          "xaxis": {
           "automargin": true,
           "gridcolor": "white",
           "linecolor": "white",
           "ticks": "",
           "title": {
            "standoff": 15
           },
           "zerolinecolor": "white",
           "zerolinewidth": 2
          },
          "yaxis": {
           "automargin": true,
           "gridcolor": "white",
           "linecolor": "white",
           "ticks": "",
           "title": {
            "standoff": 15
           },
           "zerolinecolor": "white",
           "zerolinewidth": 2
          }
         }
        },
        "title": {
         "text": "Hourly Storage Tech Activity All Regions - Season"
        },
        "width": 1400,
        "xaxis": {
         "title": {
          "text": "Hour"
         }
        },
        "yaxis": {
         "title": {
          "text": "Rate of Activity [TWh]"
         }
        }
       }
      }
     },
     "metadata": {},
     "output_type": "display_data"
    }
   ],
   "source": [
    "tech_activity_hourly_facilitation = HourlyTechActivityRateFacilitator(sol_path=SOLUTION_FILEPATH, region=\"All\", year=2050)\n",
    "\n",
    "relevant_data = tech_activity_hourly_facilitation.get_relevant_data()\n",
    "\n",
    "relevant_data.filter_by_list(column=\"Technology\", by_filter=[\"D_Heat_HLDH\", \"D_Heat_HLI\", \"D_Heat_HLB\"])\n",
    "relevant_data.aggreagate_all_by_sum(column_to_aggregate=\"Region\", aggregated_entry_name=\"All\", column_to_sum=\"Value\")\n",
    "\n",
    "fig = tech_activity_hourly_facilitation.plot(relevant_data)\n",
    "\n",
    "fig.update_layout(title=\"Hourly Storage Tech Activity All Regions\" + TITLE_ADDON, height=800, width=1400, font=dict(size=16))\n",
    "\n",
    "if WRITE_IMAGE:\n",
    "    fig.write_image(\"HourlyTechActivityAllRegions.pdf\" + TITLE_ADDON.replace(\" \", \"\") + \".png\")\n",
    "\n",
    "fig.show()"
   ]
  },
  {
   "cell_type": "code",
   "execution_count": 41,
   "metadata": {},
   "outputs": [
    {
     "name": "stdout",
     "output_type": "stream",
     "text": [
      "Converting from PetaJoules to TerraWattHours\n"
     ]
    },
    {
     "data": {
      "application/vnd.plotly.v1+json": {
       "config": {
        "plotlyServerURL": "https://plot.ly"
       },
       "data": [],
       "layout": {
        "barmode": "stack",
        "font": {
         "size": 16
        },
        "height": 800,
        "template": {
         "data": {
          "bar": [
           {
            "error_x": {
             "color": "#2a3f5f"
            },
            "error_y": {
             "color": "#2a3f5f"
            },
            "marker": {
             "line": {
              "color": "#E5ECF6",
              "width": 0.5
             },
             "pattern": {
              "fillmode": "overlay",
              "size": 10,
              "solidity": 0.2
             }
            },
            "type": "bar"
           }
          ],
          "barpolar": [
           {
            "marker": {
             "line": {
              "color": "#E5ECF6",
              "width": 0.5
             },
             "pattern": {
              "fillmode": "overlay",
              "size": 10,
              "solidity": 0.2
             }
            },
            "type": "barpolar"
           }
          ],
          "carpet": [
           {
            "aaxis": {
             "endlinecolor": "#2a3f5f",
             "gridcolor": "white",
             "linecolor": "white",
             "minorgridcolor": "white",
             "startlinecolor": "#2a3f5f"
            },
            "baxis": {
             "endlinecolor": "#2a3f5f",
             "gridcolor": "white",
             "linecolor": "white",
             "minorgridcolor": "white",
             "startlinecolor": "#2a3f5f"
            },
            "type": "carpet"
           }
          ],
          "choropleth": [
           {
            "colorbar": {
             "outlinewidth": 0,
             "ticks": ""
            },
            "type": "choropleth"
           }
          ],
          "contour": [
           {
            "colorbar": {
             "outlinewidth": 0,
             "ticks": ""
            },
            "colorscale": [
             [
              0,
              "#0d0887"
             ],
             [
              0.1111111111111111,
              "#46039f"
             ],
             [
              0.2222222222222222,
              "#7201a8"
             ],
             [
              0.3333333333333333,
              "#9c179e"
             ],
             [
              0.4444444444444444,
              "#bd3786"
             ],
             [
              0.5555555555555556,
              "#d8576b"
             ],
             [
              0.6666666666666666,
              "#ed7953"
             ],
             [
              0.7777777777777778,
              "#fb9f3a"
             ],
             [
              0.8888888888888888,
              "#fdca26"
             ],
             [
              1,
              "#f0f921"
             ]
            ],
            "type": "contour"
           }
          ],
          "contourcarpet": [
           {
            "colorbar": {
             "outlinewidth": 0,
             "ticks": ""
            },
            "type": "contourcarpet"
           }
          ],
          "heatmap": [
           {
            "colorbar": {
             "outlinewidth": 0,
             "ticks": ""
            },
            "colorscale": [
             [
              0,
              "#0d0887"
             ],
             [
              0.1111111111111111,
              "#46039f"
             ],
             [
              0.2222222222222222,
              "#7201a8"
             ],
             [
              0.3333333333333333,
              "#9c179e"
             ],
             [
              0.4444444444444444,
              "#bd3786"
             ],
             [
              0.5555555555555556,
              "#d8576b"
             ],
             [
              0.6666666666666666,
              "#ed7953"
             ],
             [
              0.7777777777777778,
              "#fb9f3a"
             ],
             [
              0.8888888888888888,
              "#fdca26"
             ],
             [
              1,
              "#f0f921"
             ]
            ],
            "type": "heatmap"
           }
          ],
          "heatmapgl": [
           {
            "colorbar": {
             "outlinewidth": 0,
             "ticks": ""
            },
            "colorscale": [
             [
              0,
              "#0d0887"
             ],
             [
              0.1111111111111111,
              "#46039f"
             ],
             [
              0.2222222222222222,
              "#7201a8"
             ],
             [
              0.3333333333333333,
              "#9c179e"
             ],
             [
              0.4444444444444444,
              "#bd3786"
             ],
             [
              0.5555555555555556,
              "#d8576b"
             ],
             [
              0.6666666666666666,
              "#ed7953"
             ],
             [
              0.7777777777777778,
              "#fb9f3a"
             ],
             [
              0.8888888888888888,
              "#fdca26"
             ],
             [
              1,
              "#f0f921"
             ]
            ],
            "type": "heatmapgl"
           }
          ],
          "histogram": [
           {
            "marker": {
             "pattern": {
              "fillmode": "overlay",
              "size": 10,
              "solidity": 0.2
             }
            },
            "type": "histogram"
           }
          ],
          "histogram2d": [
           {
            "colorbar": {
             "outlinewidth": 0,
             "ticks": ""
            },
            "colorscale": [
             [
              0,
              "#0d0887"
             ],
             [
              0.1111111111111111,
              "#46039f"
             ],
             [
              0.2222222222222222,
              "#7201a8"
             ],
             [
              0.3333333333333333,
              "#9c179e"
             ],
             [
              0.4444444444444444,
              "#bd3786"
             ],
             [
              0.5555555555555556,
              "#d8576b"
             ],
             [
              0.6666666666666666,
              "#ed7953"
             ],
             [
              0.7777777777777778,
              "#fb9f3a"
             ],
             [
              0.8888888888888888,
              "#fdca26"
             ],
             [
              1,
              "#f0f921"
             ]
            ],
            "type": "histogram2d"
           }
          ],
          "histogram2dcontour": [
           {
            "colorbar": {
             "outlinewidth": 0,
             "ticks": ""
            },
            "colorscale": [
             [
              0,
              "#0d0887"
             ],
             [
              0.1111111111111111,
              "#46039f"
             ],
             [
              0.2222222222222222,
              "#7201a8"
             ],
             [
              0.3333333333333333,
              "#9c179e"
             ],
             [
              0.4444444444444444,
              "#bd3786"
             ],
             [
              0.5555555555555556,
              "#d8576b"
             ],
             [
              0.6666666666666666,
              "#ed7953"
             ],
             [
              0.7777777777777778,
              "#fb9f3a"
             ],
             [
              0.8888888888888888,
              "#fdca26"
             ],
             [
              1,
              "#f0f921"
             ]
            ],
            "type": "histogram2dcontour"
           }
          ],
          "mesh3d": [
           {
            "colorbar": {
             "outlinewidth": 0,
             "ticks": ""
            },
            "type": "mesh3d"
           }
          ],
          "parcoords": [
           {
            "line": {
             "colorbar": {
              "outlinewidth": 0,
              "ticks": ""
             }
            },
            "type": "parcoords"
           }
          ],
          "pie": [
           {
            "automargin": true,
            "type": "pie"
           }
          ],
          "scatter": [
           {
            "fillpattern": {
             "fillmode": "overlay",
             "size": 10,
             "solidity": 0.2
            },
            "type": "scatter"
           }
          ],
          "scatter3d": [
           {
            "line": {
             "colorbar": {
              "outlinewidth": 0,
              "ticks": ""
             }
            },
            "marker": {
             "colorbar": {
              "outlinewidth": 0,
              "ticks": ""
             }
            },
            "type": "scatter3d"
           }
          ],
          "scattercarpet": [
           {
            "marker": {
             "colorbar": {
              "outlinewidth": 0,
              "ticks": ""
             }
            },
            "type": "scattercarpet"
           }
          ],
          "scattergeo": [
           {
            "marker": {
             "colorbar": {
              "outlinewidth": 0,
              "ticks": ""
             }
            },
            "type": "scattergeo"
           }
          ],
          "scattergl": [
           {
            "marker": {
             "colorbar": {
              "outlinewidth": 0,
              "ticks": ""
             }
            },
            "type": "scattergl"
           }
          ],
          "scattermapbox": [
           {
            "marker": {
             "colorbar": {
              "outlinewidth": 0,
              "ticks": ""
             }
            },
            "type": "scattermapbox"
           }
          ],
          "scatterpolar": [
           {
            "marker": {
             "colorbar": {
              "outlinewidth": 0,
              "ticks": ""
             }
            },
            "type": "scatterpolar"
           }
          ],
          "scatterpolargl": [
           {
            "marker": {
             "colorbar": {
              "outlinewidth": 0,
              "ticks": ""
             }
            },
            "type": "scatterpolargl"
           }
          ],
          "scatterternary": [
           {
            "marker": {
             "colorbar": {
              "outlinewidth": 0,
              "ticks": ""
             }
            },
            "type": "scatterternary"
           }
          ],
          "surface": [
           {
            "colorbar": {
             "outlinewidth": 0,
             "ticks": ""
            },
            "colorscale": [
             [
              0,
              "#0d0887"
             ],
             [
              0.1111111111111111,
              "#46039f"
             ],
             [
              0.2222222222222222,
              "#7201a8"
             ],
             [
              0.3333333333333333,
              "#9c179e"
             ],
             [
              0.4444444444444444,
              "#bd3786"
             ],
             [
              0.5555555555555556,
              "#d8576b"
             ],
             [
              0.6666666666666666,
              "#ed7953"
             ],
             [
              0.7777777777777778,
              "#fb9f3a"
             ],
             [
              0.8888888888888888,
              "#fdca26"
             ],
             [
              1,
              "#f0f921"
             ]
            ],
            "type": "surface"
           }
          ],
          "table": [
           {
            "cells": {
             "fill": {
              "color": "#EBF0F8"
             },
             "line": {
              "color": "white"
             }
            },
            "header": {
             "fill": {
              "color": "#C8D4E3"
             },
             "line": {
              "color": "white"
             }
            },
            "type": "table"
           }
          ]
         },
         "layout": {
          "annotationdefaults": {
           "arrowcolor": "#2a3f5f",
           "arrowhead": 0,
           "arrowwidth": 1
          },
          "autotypenumbers": "strict",
          "coloraxis": {
           "colorbar": {
            "outlinewidth": 0,
            "ticks": ""
           }
          },
          "colorscale": {
           "diverging": [
            [
             0,
             "#8e0152"
            ],
            [
             0.1,
             "#c51b7d"
            ],
            [
             0.2,
             "#de77ae"
            ],
            [
             0.3,
             "#f1b6da"
            ],
            [
             0.4,
             "#fde0ef"
            ],
            [
             0.5,
             "#f7f7f7"
            ],
            [
             0.6,
             "#e6f5d0"
            ],
            [
             0.7,
             "#b8e186"
            ],
            [
             0.8,
             "#7fbc41"
            ],
            [
             0.9,
             "#4d9221"
            ],
            [
             1,
             "#276419"
            ]
           ],
           "sequential": [
            [
             0,
             "#0d0887"
            ],
            [
             0.1111111111111111,
             "#46039f"
            ],
            [
             0.2222222222222222,
             "#7201a8"
            ],
            [
             0.3333333333333333,
             "#9c179e"
            ],
            [
             0.4444444444444444,
             "#bd3786"
            ],
            [
             0.5555555555555556,
             "#d8576b"
            ],
            [
             0.6666666666666666,
             "#ed7953"
            ],
            [
             0.7777777777777778,
             "#fb9f3a"
            ],
            [
             0.8888888888888888,
             "#fdca26"
            ],
            [
             1,
             "#f0f921"
            ]
           ],
           "sequentialminus": [
            [
             0,
             "#0d0887"
            ],
            [
             0.1111111111111111,
             "#46039f"
            ],
            [
             0.2222222222222222,
             "#7201a8"
            ],
            [
             0.3333333333333333,
             "#9c179e"
            ],
            [
             0.4444444444444444,
             "#bd3786"
            ],
            [
             0.5555555555555556,
             "#d8576b"
            ],
            [
             0.6666666666666666,
             "#ed7953"
            ],
            [
             0.7777777777777778,
             "#fb9f3a"
            ],
            [
             0.8888888888888888,
             "#fdca26"
            ],
            [
             1,
             "#f0f921"
            ]
           ]
          },
          "colorway": [
           "#636efa",
           "#EF553B",
           "#00cc96",
           "#ab63fa",
           "#FFA15A",
           "#19d3f3",
           "#FF6692",
           "#B6E880",
           "#FF97FF",
           "#FECB52"
          ],
          "font": {
           "color": "#2a3f5f"
          },
          "geo": {
           "bgcolor": "white",
           "lakecolor": "white",
           "landcolor": "#E5ECF6",
           "showlakes": true,
           "showland": true,
           "subunitcolor": "white"
          },
          "hoverlabel": {
           "align": "left"
          },
          "hovermode": "closest",
          "mapbox": {
           "style": "light"
          },
          "paper_bgcolor": "white",
          "plot_bgcolor": "#E5ECF6",
          "polar": {
           "angularaxis": {
            "gridcolor": "white",
            "linecolor": "white",
            "ticks": ""
           },
           "bgcolor": "#E5ECF6",
           "radialaxis": {
            "gridcolor": "white",
            "linecolor": "white",
            "ticks": ""
           }
          },
          "scene": {
           "xaxis": {
            "backgroundcolor": "#E5ECF6",
            "gridcolor": "white",
            "gridwidth": 2,
            "linecolor": "white",
            "showbackground": true,
            "ticks": "",
            "zerolinecolor": "white"
           },
           "yaxis": {
            "backgroundcolor": "#E5ECF6",
            "gridcolor": "white",
            "gridwidth": 2,
            "linecolor": "white",
            "showbackground": true,
            "ticks": "",
            "zerolinecolor": "white"
           },
           "zaxis": {
            "backgroundcolor": "#E5ECF6",
            "gridcolor": "white",
            "gridwidth": 2,
            "linecolor": "white",
            "showbackground": true,
            "ticks": "",
            "zerolinecolor": "white"
           }
          },
          "shapedefaults": {
           "line": {
            "color": "#2a3f5f"
           }
          },
          "ternary": {
           "aaxis": {
            "gridcolor": "white",
            "linecolor": "white",
            "ticks": ""
           },
           "baxis": {
            "gridcolor": "white",
            "linecolor": "white",
            "ticks": ""
           },
           "bgcolor": "#E5ECF6",
           "caxis": {
            "gridcolor": "white",
            "linecolor": "white",
            "ticks": ""
           }
          },
          "title": {
           "x": 0.05
          },
          "xaxis": {
           "automargin": true,
           "gridcolor": "white",
           "linecolor": "white",
           "ticks": "",
           "title": {
            "standoff": 15
           },
           "zerolinecolor": "white",
           "zerolinewidth": 2
          },
          "yaxis": {
           "automargin": true,
           "gridcolor": "white",
           "linecolor": "white",
           "ticks": "",
           "title": {
            "standoff": 15
           },
           "zerolinecolor": "white",
           "zerolinewidth": 2
          }
         }
        },
        "title": {
         "text": "Hourly Storage Tech Activity All Regions - Season"
        },
        "width": 1400,
        "xaxis": {
         "title": {
          "text": "Hour"
         }
        },
        "yaxis": {
         "title": {
          "text": "Rate of Activity [TWh]"
         }
        }
       }
      }
     },
     "metadata": {},
     "output_type": "display_data"
    }
   ],
   "source": [
    "tech_activity_hourly_facilitation = StorageDischargeHourlyRateFacilitator(sol_path=SOLUTION_FILEPATH, region=\"All\", year=2050)\n",
    "\n",
    "relevant_data = tech_activity_hourly_facilitation.get_relevant_data()\n",
    "relevant_data.filter_by_containing_string_in_list(column=\"Technology\", identifier_list=[\"D_Heat_HLDH\", \"D_Heat_HLI\", \"D_Heat_HLB\"])\n",
    "relevant_data.aggreagate_all_by_sum(column_to_aggregate=\"Region\", aggregated_entry_name=\"All\", column_to_sum=\"Value\")\n",
    "\n",
    "\n",
    "# Filter out those who are 0 for all hours\n",
    "techs_over_zero = relevant_data.df[relevant_data.df[\"Value\"] != 0.0][\"Technology\"].unique()\n",
    "relevant_data.filter_by_list(column=\"Technology\", by_filter=techs_over_zero)\n",
    "\n",
    "fig = tech_activity_hourly_facilitation.plot(relevant_data)\n",
    "\n",
    "fig.update_layout(title=\"Hourly Storage Tech Activity All Regions\" + TITLE_ADDON, height=800, width=1400, font=dict(size=16))\n",
    "\n",
    "fig.write_image(\"HourlyTechActivityAllRegions.pdf\" + TITLE_ADDON.replace(\" \", \"\") + \".png\")\n",
    "\n",
    "fig.show()"
   ]
  },
  {
   "cell_type": "markdown",
   "metadata": {},
   "source": [
    "### Production of fuel by technology"
   ]
  },
  {
   "cell_type": "code",
   "execution_count": 45,
   "metadata": {},
   "outputs": [
    {
     "name": "stdout",
     "output_type": "stream",
     "text": [
      "Converting from PetaJoules to TerraWattHours\n"
     ]
    },
    {
     "data": {
      "application/vnd.plotly.v1+json": {
       "config": {
        "plotlyServerURL": "https://plot.ly"
       },
       "data": [
        {
         "fillcolor": "#9cf881",
         "legendgroup": "CHP_Biomass_Solid -> Heat_District",
         "line": {
          "color": "#9cf881"
         },
         "name": "CHP_Biomass_Solid -> Heat_District",
         "showlegend": true,
         "stackgroup": "one",
         "type": "scatter",
         "x": [
          2018
         ],
         "y": [
          465.1824468822756
         ]
        },
        {
         "fillcolor": "#9cf881",
         "legendgroup": "CHP_Biomass_Solid -> Heat_District",
         "line": {
          "color": "#9cf881"
         },
         "name": "CHP_Biomass_Solid -> Heat_District",
         "showlegend": false,
         "stackgroup": "one",
         "type": "scatter",
         "x": [
          2025
         ],
         "y": [
          499.52789598804276
         ]
        },
        {
         "fillcolor": "#9cf881",
         "legendgroup": "CHP_Biomass_Solid -> Heat_District",
         "line": {
          "color": "#9cf881"
         },
         "name": "CHP_Biomass_Solid -> Heat_District",
         "showlegend": false,
         "stackgroup": "one",
         "type": "scatter",
         "x": [
          2030
         ],
         "y": [
          435.46623737267413
         ]
        },
        {
         "fillcolor": "#9cf881",
         "legendgroup": "CHP_Biomass_Solid -> Heat_District",
         "line": {
          "color": "#9cf881"
         },
         "name": "CHP_Biomass_Solid -> Heat_District",
         "showlegend": false,
         "stackgroup": "one",
         "type": "scatter",
         "x": [
          2035
         ],
         "y": [
          324.10743847594955
         ]
        },
        {
         "fillcolor": "#9cf881",
         "legendgroup": "CHP_Biomass_Solid -> Heat_District",
         "line": {
          "color": "#9cf881"
         },
         "name": "CHP_Biomass_Solid -> Heat_District",
         "showlegend": false,
         "stackgroup": "one",
         "type": "scatter",
         "x": [
          2040
         ],
         "y": [
          294.7034048940811
         ]
        },
        {
         "fillcolor": "#9cf881",
         "legendgroup": "CHP_Biomass_Solid -> Heat_District",
         "line": {
          "color": "#9cf881"
         },
         "name": "CHP_Biomass_Solid -> Heat_District",
         "showlegend": false,
         "stackgroup": "one",
         "type": "scatter",
         "x": [
          2045
         ],
         "y": [
          292.1472893705704
         ]
        },
        {
         "fillcolor": "#9cf881",
         "legendgroup": "CHP_Biomass_Solid -> Heat_District",
         "line": {
          "color": "#9cf881"
         },
         "name": "CHP_Biomass_Solid -> Heat_District",
         "showlegend": false,
         "stackgroup": "one",
         "type": "scatter",
         "x": [
          2050
         ],
         "y": [
          268.4556738502377
         ]
        },
        {
         "fillcolor": "#8dfc9c",
         "legendgroup": "CHP_Biomass_Solid -> Heat_High_Industrial",
         "line": {
          "color": "#8dfc9c"
         },
         "name": "CHP_Biomass_Solid -> Heat_High_Industrial",
         "showlegend": true,
         "stackgroup": "one",
         "type": "scatter",
         "x": [
          2018
         ],
         "y": [
          0
         ]
        },
        {
         "fillcolor": "#8dfc9c",
         "legendgroup": "CHP_Biomass_Solid -> Heat_High_Industrial",
         "line": {
          "color": "#8dfc9c"
         },
         "name": "CHP_Biomass_Solid -> Heat_High_Industrial",
         "showlegend": false,
         "stackgroup": "one",
         "type": "scatter",
         "x": [
          2025
         ],
         "y": [
          0
         ]
        },
        {
         "fillcolor": "#8dfc9c",
         "legendgroup": "CHP_Biomass_Solid -> Heat_High_Industrial",
         "line": {
          "color": "#8dfc9c"
         },
         "name": "CHP_Biomass_Solid -> Heat_High_Industrial",
         "showlegend": false,
         "stackgroup": "one",
         "type": "scatter",
         "x": [
          2030
         ],
         "y": [
          0.5409032926363799
         ]
        },
        {
         "fillcolor": "#8dfc9c",
         "legendgroup": "CHP_Biomass_Solid -> Heat_High_Industrial",
         "line": {
          "color": "#8dfc9c"
         },
         "name": "CHP_Biomass_Solid -> Heat_High_Industrial",
         "showlegend": false,
         "stackgroup": "one",
         "type": "scatter",
         "x": [
          2035
         ],
         "y": [
          0
         ]
        },
        {
         "fillcolor": "#8dfc9c",
         "legendgroup": "CHP_Biomass_Solid -> Heat_High_Industrial",
         "line": {
          "color": "#8dfc9c"
         },
         "name": "CHP_Biomass_Solid -> Heat_High_Industrial",
         "showlegend": false,
         "stackgroup": "one",
         "type": "scatter",
         "x": [
          2040
         ],
         "y": [
          0
         ]
        },
        {
         "fillcolor": "#8dfc9c",
         "legendgroup": "CHP_Biomass_Solid -> Heat_High_Industrial",
         "line": {
          "color": "#8dfc9c"
         },
         "name": "CHP_Biomass_Solid -> Heat_High_Industrial",
         "showlegend": false,
         "stackgroup": "one",
         "type": "scatter",
         "x": [
          2045
         ],
         "y": [
          0.031859146666676594
         ]
        },
        {
         "fillcolor": "#8dfc9c",
         "legendgroup": "CHP_Biomass_Solid -> Heat_High_Industrial",
         "line": {
          "color": "#8dfc9c"
         },
         "name": "CHP_Biomass_Solid -> Heat_High_Industrial",
         "showlegend": false,
         "stackgroup": "one",
         "type": "scatter",
         "x": [
          2050
         ],
         "y": [
          0
         ]
        },
        {
         "fillcolor": "#f89bee",
         "legendgroup": "CHP_Biomass_Solid -> Heat_Low_Building",
         "line": {
          "color": "#f89bee"
         },
         "name": "CHP_Biomass_Solid -> Heat_Low_Building",
         "showlegend": true,
         "stackgroup": "one",
         "type": "scatter",
         "x": [
          2018
         ],
         "y": [
          0
         ]
        },
        {
         "fillcolor": "#f89bee",
         "legendgroup": "CHP_Biomass_Solid -> Heat_Low_Building",
         "line": {
          "color": "#f89bee"
         },
         "name": "CHP_Biomass_Solid -> Heat_Low_Building",
         "showlegend": false,
         "stackgroup": "one",
         "type": "scatter",
         "x": [
          2025
         ],
         "y": [
          0
         ]
        },
        {
         "fillcolor": "#f89bee",
         "legendgroup": "CHP_Biomass_Solid -> Heat_Low_Building",
         "line": {
          "color": "#f89bee"
         },
         "name": "CHP_Biomass_Solid -> Heat_Low_Building",
         "showlegend": false,
         "stackgroup": "one",
         "type": "scatter",
         "x": [
          2030
         ],
         "y": [
          5.821188094708686
         ]
        },
        {
         "fillcolor": "#f89bee",
         "legendgroup": "CHP_Biomass_Solid -> Heat_Low_Building",
         "line": {
          "color": "#f89bee"
         },
         "name": "CHP_Biomass_Solid -> Heat_Low_Building",
         "showlegend": false,
         "stackgroup": "one",
         "type": "scatter",
         "x": [
          2035
         ],
         "y": [
          28.74838301894777
         ]
        },
        {
         "fillcolor": "#f89bee",
         "legendgroup": "CHP_Biomass_Solid -> Heat_Low_Building",
         "line": {
          "color": "#f89bee"
         },
         "name": "CHP_Biomass_Solid -> Heat_Low_Building",
         "showlegend": false,
         "stackgroup": "one",
         "type": "scatter",
         "x": [
          2040
         ],
         "y": [
          34.50075258759315
         ]
        },
        {
         "fillcolor": "#f89bee",
         "legendgroup": "CHP_Biomass_Solid -> Heat_Low_Building",
         "line": {
          "color": "#f89bee"
         },
         "name": "CHP_Biomass_Solid -> Heat_Low_Building",
         "showlegend": false,
         "stackgroup": "one",
         "type": "scatter",
         "x": [
          2045
         ],
         "y": [
          131.39432496026308
         ]
        },
        {
         "fillcolor": "#f89bee",
         "legendgroup": "CHP_Biomass_Solid -> Heat_Low_Building",
         "line": {
          "color": "#f89bee"
         },
         "name": "CHP_Biomass_Solid -> Heat_Low_Building",
         "showlegend": false,
         "stackgroup": "one",
         "type": "scatter",
         "x": [
          2050
         ],
         "y": [
          277.6591526116735
         ]
        },
        {
         "fillcolor": "#f8abf3",
         "legendgroup": "CHP_Biomass_Solid -> Heat_Low_Industrial",
         "line": {
          "color": "#f8abf3"
         },
         "name": "CHP_Biomass_Solid -> Heat_Low_Industrial",
         "showlegend": true,
         "stackgroup": "one",
         "type": "scatter",
         "x": [
          2018
         ],
         "y": [
          0
         ]
        },
        {
         "fillcolor": "#f8abf3",
         "legendgroup": "CHP_Biomass_Solid -> Heat_Low_Industrial",
         "line": {
          "color": "#f8abf3"
         },
         "name": "CHP_Biomass_Solid -> Heat_Low_Industrial",
         "showlegend": false,
         "stackgroup": "one",
         "type": "scatter",
         "x": [
          2025
         ],
         "y": [
          7.7125806642955395
         ]
        },
        {
         "fillcolor": "#f8abf3",
         "legendgroup": "CHP_Biomass_Solid -> Heat_Low_Industrial",
         "line": {
          "color": "#f8abf3"
         },
         "name": "CHP_Biomass_Solid -> Heat_Low_Industrial",
         "showlegend": false,
         "stackgroup": "one",
         "type": "scatter",
         "x": [
          2030
         ],
         "y": [
          18.06865092615414
         ]
        },
        {
         "fillcolor": "#f8abf3",
         "legendgroup": "CHP_Biomass_Solid -> Heat_Low_Industrial",
         "line": {
          "color": "#f8abf3"
         },
         "name": "CHP_Biomass_Solid -> Heat_Low_Industrial",
         "showlegend": false,
         "stackgroup": "one",
         "type": "scatter",
         "x": [
          2035
         ],
         "y": [
          24.720633500122112
         ]
        },
        {
         "fillcolor": "#f8abf3",
         "legendgroup": "CHP_Biomass_Solid -> Heat_Low_Industrial",
         "line": {
          "color": "#f8abf3"
         },
         "name": "CHP_Biomass_Solid -> Heat_Low_Industrial",
         "showlegend": false,
         "stackgroup": "one",
         "type": "scatter",
         "x": [
          2040
         ],
         "y": [
          28.81655652513087
         ]
        },
        {
         "fillcolor": "#f8abf3",
         "legendgroup": "CHP_Biomass_Solid -> Heat_Low_Industrial",
         "line": {
          "color": "#f8abf3"
         },
         "name": "CHP_Biomass_Solid -> Heat_Low_Industrial",
         "showlegend": false,
         "stackgroup": "one",
         "type": "scatter",
         "x": [
          2045
         ],
         "y": [
          31.733042122795855
         ]
        },
        {
         "fillcolor": "#f8abf3",
         "legendgroup": "CHP_Biomass_Solid -> Heat_Low_Industrial",
         "line": {
          "color": "#f8abf3"
         },
         "name": "CHP_Biomass_Solid -> Heat_Low_Industrial",
         "showlegend": false,
         "stackgroup": "one",
         "type": "scatter",
         "x": [
          2050
         ],
         "y": [
          32.945941567819865
         ]
        },
        {
         "fillcolor": "#9ffeec",
         "legendgroup": "CHP_Biomass_Solid -> Heat_Medium_Industrial",
         "line": {
          "color": "#9ffeec"
         },
         "name": "CHP_Biomass_Solid -> Heat_Medium_Industrial",
         "showlegend": true,
         "stackgroup": "one",
         "type": "scatter",
         "x": [
          2018
         ],
         "y": [
          0
         ]
        },
        {
         "fillcolor": "#9ffeec",
         "legendgroup": "CHP_Biomass_Solid -> Heat_Medium_Industrial",
         "line": {
          "color": "#9ffeec"
         },
         "name": "CHP_Biomass_Solid -> Heat_Medium_Industrial",
         "showlegend": false,
         "stackgroup": "one",
         "type": "scatter",
         "x": [
          2025
         ],
         "y": [
          0.4430048954453874
         ]
        },
        {
         "fillcolor": "#9ffeec",
         "legendgroup": "CHP_Biomass_Solid -> Heat_Medium_Industrial",
         "line": {
          "color": "#9ffeec"
         },
         "name": "CHP_Biomass_Solid -> Heat_Medium_Industrial",
         "showlegend": false,
         "stackgroup": "one",
         "type": "scatter",
         "x": [
          2030
         ],
         "y": [
          0.8927503003856972
         ]
        },
        {
         "fillcolor": "#9ffeec",
         "legendgroup": "CHP_Biomass_Solid -> Heat_Medium_Industrial",
         "line": {
          "color": "#9ffeec"
         },
         "name": "CHP_Biomass_Solid -> Heat_Medium_Industrial",
         "showlegend": false,
         "stackgroup": "one",
         "type": "scatter",
         "x": [
          2035
         ],
         "y": [
          0
         ]
        },
        {
         "fillcolor": "#9ffeec",
         "legendgroup": "CHP_Biomass_Solid -> Heat_Medium_Industrial",
         "line": {
          "color": "#9ffeec"
         },
         "name": "CHP_Biomass_Solid -> Heat_Medium_Industrial",
         "showlegend": false,
         "stackgroup": "one",
         "type": "scatter",
         "x": [
          2040
         ],
         "y": [
          0.415940395389386
         ]
        },
        {
         "fillcolor": "#9ffeec",
         "legendgroup": "CHP_Biomass_Solid -> Heat_Medium_Industrial",
         "line": {
          "color": "#9ffeec"
         },
         "name": "CHP_Biomass_Solid -> Heat_Medium_Industrial",
         "showlegend": false,
         "stackgroup": "one",
         "type": "scatter",
         "x": [
          2045
         ],
         "y": [
          7.568905458198788
         ]
        },
        {
         "fillcolor": "#9ffeec",
         "legendgroup": "CHP_Biomass_Solid -> Heat_Medium_Industrial",
         "line": {
          "color": "#9ffeec"
         },
         "name": "CHP_Biomass_Solid -> Heat_Medium_Industrial",
         "showlegend": false,
         "stackgroup": "one",
         "type": "scatter",
         "x": [
          2050
         ],
         "y": [
          25.751210609019175
         ]
        },
        {
         "fillcolor": "#b2f1af",
         "legendgroup": "CHP_Coal_Hardcoal -> Heat_District",
         "line": {
          "color": "#b2f1af"
         },
         "name": "CHP_Coal_Hardcoal -> Heat_District",
         "showlegend": true,
         "stackgroup": "one",
         "type": "scatter",
         "x": [
          2018
         ],
         "y": [
          165.36613228503208
         ]
        },
        {
         "fillcolor": "#b2f1af",
         "legendgroup": "CHP_Coal_Hardcoal -> Heat_District",
         "line": {
          "color": "#b2f1af"
         },
         "name": "CHP_Coal_Hardcoal -> Heat_District",
         "showlegend": false,
         "stackgroup": "one",
         "type": "scatter",
         "x": [
          2025
         ],
         "y": [
          51.66044287476905
         ]
        },
        {
         "fillcolor": "#b2f1af",
         "legendgroup": "CHP_Coal_Hardcoal -> Heat_District",
         "line": {
          "color": "#b2f1af"
         },
         "name": "CHP_Coal_Hardcoal -> Heat_District",
         "showlegend": false,
         "stackgroup": "one",
         "type": "scatter",
         "x": [
          2030
         ],
         "y": [
          0
         ]
        },
        {
         "fillcolor": "#b2f1af",
         "legendgroup": "CHP_Coal_Hardcoal -> Heat_District",
         "line": {
          "color": "#b2f1af"
         },
         "name": "CHP_Coal_Hardcoal -> Heat_District",
         "showlegend": false,
         "stackgroup": "one",
         "type": "scatter",
         "x": [
          2035
         ],
         "y": [
          0
         ]
        },
        {
         "fillcolor": "#b2f1af",
         "legendgroup": "CHP_Coal_Hardcoal -> Heat_District",
         "line": {
          "color": "#b2f1af"
         },
         "name": "CHP_Coal_Hardcoal -> Heat_District",
         "showlegend": false,
         "stackgroup": "one",
         "type": "scatter",
         "x": [
          2040
         ],
         "y": [
          0
         ]
        },
        {
         "fillcolor": "#b2f1af",
         "legendgroup": "CHP_Coal_Hardcoal -> Heat_District",
         "line": {
          "color": "#b2f1af"
         },
         "name": "CHP_Coal_Hardcoal -> Heat_District",
         "showlegend": false,
         "stackgroup": "one",
         "type": "scatter",
         "x": [
          2045
         ],
         "y": [
          0
         ]
        },
        {
         "fillcolor": "#b2f1af",
         "legendgroup": "CHP_Coal_Hardcoal -> Heat_District",
         "line": {
          "color": "#b2f1af"
         },
         "name": "CHP_Coal_Hardcoal -> Heat_District",
         "showlegend": false,
         "stackgroup": "one",
         "type": "scatter",
         "x": [
          2050
         ],
         "y": [
          0
         ]
        },
        {
         "fillcolor": "#85f6f9",
         "legendgroup": "CHP_Coal_Lignite -> Heat_District",
         "line": {
          "color": "#85f6f9"
         },
         "name": "CHP_Coal_Lignite -> Heat_District",
         "showlegend": true,
         "stackgroup": "one",
         "type": "scatter",
         "x": [
          2018
         ],
         "y": [
          4.947568818840512
         ]
        },
        {
         "fillcolor": "#85f6f9",
         "legendgroup": "CHP_Coal_Lignite -> Heat_District",
         "line": {
          "color": "#85f6f9"
         },
         "name": "CHP_Coal_Lignite -> Heat_District",
         "showlegend": false,
         "stackgroup": "one",
         "type": "scatter",
         "x": [
          2025
         ],
         "y": [
          9.381346259112789
         ]
        },
        {
         "fillcolor": "#85f6f9",
         "legendgroup": "CHP_Coal_Lignite -> Heat_District",
         "line": {
          "color": "#85f6f9"
         },
         "name": "CHP_Coal_Lignite -> Heat_District",
         "showlegend": false,
         "stackgroup": "one",
         "type": "scatter",
         "x": [
          2030
         ],
         "y": [
          0
         ]
        },
        {
         "fillcolor": "#85f6f9",
         "legendgroup": "CHP_Coal_Lignite -> Heat_District",
         "line": {
          "color": "#85f6f9"
         },
         "name": "CHP_Coal_Lignite -> Heat_District",
         "showlegend": false,
         "stackgroup": "one",
         "type": "scatter",
         "x": [
          2035
         ],
         "y": [
          0
         ]
        },
        {
         "fillcolor": "#85f6f9",
         "legendgroup": "CHP_Coal_Lignite -> Heat_District",
         "line": {
          "color": "#85f6f9"
         },
         "name": "CHP_Coal_Lignite -> Heat_District",
         "showlegend": false,
         "stackgroup": "one",
         "type": "scatter",
         "x": [
          2040
         ],
         "y": [
          0
         ]
        },
        {
         "fillcolor": "#85f6f9",
         "legendgroup": "CHP_Coal_Lignite -> Heat_District",
         "line": {
          "color": "#85f6f9"
         },
         "name": "CHP_Coal_Lignite -> Heat_District",
         "showlegend": false,
         "stackgroup": "one",
         "type": "scatter",
         "x": [
          2045
         ],
         "y": [
          0
         ]
        },
        {
         "fillcolor": "#85f6f9",
         "legendgroup": "CHP_Coal_Lignite -> Heat_District",
         "line": {
          "color": "#85f6f9"
         },
         "name": "CHP_Coal_Lignite -> Heat_District",
         "showlegend": false,
         "stackgroup": "one",
         "type": "scatter",
         "x": [
          2050
         ],
         "y": [
          0
         ]
        },
        {
         "fillcolor": "#f1c1d8",
         "legendgroup": "CHP_Gas_CCGT_Natural -> Heat_District",
         "line": {
          "color": "#f1c1d8"
         },
         "name": "CHP_Gas_CCGT_Natural -> Heat_District",
         "showlegend": true,
         "stackgroup": "one",
         "type": "scatter",
         "x": [
          2018
         ],
         "y": [
          442.0016121597145
         ]
        },
        {
         "fillcolor": "#f1c1d8",
         "legendgroup": "CHP_Gas_CCGT_Natural -> Heat_District",
         "line": {
          "color": "#f1c1d8"
         },
         "name": "CHP_Gas_CCGT_Natural -> Heat_District",
         "showlegend": false,
         "stackgroup": "one",
         "type": "scatter",
         "x": [
          2025
         ],
         "y": [
          408.3105878025621
         ]
        },
        {
         "fillcolor": "#f1c1d8",
         "legendgroup": "CHP_Gas_CCGT_Natural -> Heat_District",
         "line": {
          "color": "#f1c1d8"
         },
         "name": "CHP_Gas_CCGT_Natural -> Heat_District",
         "showlegend": false,
         "stackgroup": "one",
         "type": "scatter",
         "x": [
          2030
         ],
         "y": [
          340.4499625583178
         ]
        },
        {
         "fillcolor": "#f1c1d8",
         "legendgroup": "CHP_Gas_CCGT_Natural -> Heat_District",
         "line": {
          "color": "#f1c1d8"
         },
         "name": "CHP_Gas_CCGT_Natural -> Heat_District",
         "showlegend": false,
         "stackgroup": "one",
         "type": "scatter",
         "x": [
          2035
         ],
         "y": [
          112.54886319784035
         ]
        },
        {
         "fillcolor": "#f1c1d8",
         "legendgroup": "CHP_Gas_CCGT_Natural -> Heat_District",
         "line": {
          "color": "#f1c1d8"
         },
         "name": "CHP_Gas_CCGT_Natural -> Heat_District",
         "showlegend": false,
         "stackgroup": "one",
         "type": "scatter",
         "x": [
          2040
         ],
         "y": [
          4.196817389918655
         ]
        },
        {
         "fillcolor": "#f1c1d8",
         "legendgroup": "CHP_Gas_CCGT_Natural -> Heat_District",
         "line": {
          "color": "#f1c1d8"
         },
         "name": "CHP_Gas_CCGT_Natural -> Heat_District",
         "showlegend": false,
         "stackgroup": "one",
         "type": "scatter",
         "x": [
          2045
         ],
         "y": [
          0
         ]
        },
        {
         "fillcolor": "#f1c1d8",
         "legendgroup": "CHP_Gas_CCGT_Natural -> Heat_District",
         "line": {
          "color": "#f1c1d8"
         },
         "name": "CHP_Gas_CCGT_Natural -> Heat_District",
         "showlegend": false,
         "stackgroup": "one",
         "type": "scatter",
         "x": [
          2050
         ],
         "y": [
          0
         ]
        },
        {
         "fillcolor": "#e1b7f2",
         "legendgroup": "CHP_Gas_CCGT_SynGas -> Heat_District",
         "line": {
          "color": "#e1b7f2"
         },
         "name": "CHP_Gas_CCGT_SynGas -> Heat_District",
         "showlegend": true,
         "stackgroup": "one",
         "type": "scatter",
         "x": [
          2018
         ],
         "y": [
          0
         ]
        },
        {
         "fillcolor": "#e1b7f2",
         "legendgroup": "CHP_Gas_CCGT_SynGas -> Heat_District",
         "line": {
          "color": "#e1b7f2"
         },
         "name": "CHP_Gas_CCGT_SynGas -> Heat_District",
         "showlegend": false,
         "stackgroup": "one",
         "type": "scatter",
         "x": [
          2025
         ],
         "y": [
          0
         ]
        },
        {
         "fillcolor": "#e1b7f2",
         "legendgroup": "CHP_Gas_CCGT_SynGas -> Heat_District",
         "line": {
          "color": "#e1b7f2"
         },
         "name": "CHP_Gas_CCGT_SynGas -> Heat_District",
         "showlegend": false,
         "stackgroup": "one",
         "type": "scatter",
         "x": [
          2030
         ],
         "y": [
          0
         ]
        },
        {
         "fillcolor": "#e1b7f2",
         "legendgroup": "CHP_Gas_CCGT_SynGas -> Heat_District",
         "line": {
          "color": "#e1b7f2"
         },
         "name": "CHP_Gas_CCGT_SynGas -> Heat_District",
         "showlegend": false,
         "stackgroup": "one",
         "type": "scatter",
         "x": [
          2035
         ],
         "y": [
          0
         ]
        },
        {
         "fillcolor": "#e1b7f2",
         "legendgroup": "CHP_Gas_CCGT_SynGas -> Heat_District",
         "line": {
          "color": "#e1b7f2"
         },
         "name": "CHP_Gas_CCGT_SynGas -> Heat_District",
         "showlegend": false,
         "stackgroup": "one",
         "type": "scatter",
         "x": [
          2040
         ],
         "y": [
          0
         ]
        },
        {
         "fillcolor": "#e1b7f2",
         "legendgroup": "CHP_Gas_CCGT_SynGas -> Heat_District",
         "line": {
          "color": "#e1b7f2"
         },
         "name": "CHP_Gas_CCGT_SynGas -> Heat_District",
         "showlegend": false,
         "stackgroup": "one",
         "type": "scatter",
         "x": [
          2045
         ],
         "y": [
          0.8115733647214362
         ]
        },
        {
         "fillcolor": "#e1b7f2",
         "legendgroup": "CHP_Gas_CCGT_SynGas -> Heat_District",
         "line": {
          "color": "#e1b7f2"
         },
         "name": "CHP_Gas_CCGT_SynGas -> Heat_District",
         "showlegend": false,
         "stackgroup": "one",
         "type": "scatter",
         "x": [
          2050
         ],
         "y": [
          45.54407909660614
         ]
        },
        {
         "fillcolor": "#f4a8de",
         "legendgroup": "CHP_Hydrogen_FuelCell -> Heat_District",
         "line": {
          "color": "#f4a8de"
         },
         "name": "CHP_Hydrogen_FuelCell -> Heat_District",
         "showlegend": true,
         "stackgroup": "one",
         "type": "scatter",
         "x": [
          2018
         ],
         "y": [
          0
         ]
        },
        {
         "fillcolor": "#f4a8de",
         "legendgroup": "CHP_Hydrogen_FuelCell -> Heat_District",
         "line": {
          "color": "#f4a8de"
         },
         "name": "CHP_Hydrogen_FuelCell -> Heat_District",
         "showlegend": false,
         "stackgroup": "one",
         "type": "scatter",
         "x": [
          2025
         ],
         "y": [
          0
         ]
        },
        {
         "fillcolor": "#f4a8de",
         "legendgroup": "CHP_Hydrogen_FuelCell -> Heat_District",
         "line": {
          "color": "#f4a8de"
         },
         "name": "CHP_Hydrogen_FuelCell -> Heat_District",
         "showlegend": false,
         "stackgroup": "one",
         "type": "scatter",
         "x": [
          2030
         ],
         "y": [
          8.710995874095826
         ]
        },
        {
         "fillcolor": "#f4a8de",
         "legendgroup": "CHP_Hydrogen_FuelCell -> Heat_District",
         "line": {
          "color": "#f4a8de"
         },
         "name": "CHP_Hydrogen_FuelCell -> Heat_District",
         "showlegend": false,
         "stackgroup": "one",
         "type": "scatter",
         "x": [
          2035
         ],
         "y": [
          180.25325905677488
         ]
        },
        {
         "fillcolor": "#f4a8de",
         "legendgroup": "CHP_Hydrogen_FuelCell -> Heat_District",
         "line": {
          "color": "#f4a8de"
         },
         "name": "CHP_Hydrogen_FuelCell -> Heat_District",
         "showlegend": false,
         "stackgroup": "one",
         "type": "scatter",
         "x": [
          2040
         ],
         "y": [
          302.03933993140697
         ]
        },
        {
         "fillcolor": "#f4a8de",
         "legendgroup": "CHP_Hydrogen_FuelCell -> Heat_District",
         "line": {
          "color": "#f4a8de"
         },
         "name": "CHP_Hydrogen_FuelCell -> Heat_District",
         "showlegend": false,
         "stackgroup": "one",
         "type": "scatter",
         "x": [
          2045
         ],
         "y": [
          255.7111508878271
         ]
        },
        {
         "fillcolor": "#f4a8de",
         "legendgroup": "CHP_Hydrogen_FuelCell -> Heat_District",
         "line": {
          "color": "#f4a8de"
         },
         "name": "CHP_Hydrogen_FuelCell -> Heat_District",
         "showlegend": false,
         "stackgroup": "one",
         "type": "scatter",
         "x": [
          2050
         ],
         "y": [
          185.90185344145925
         ]
        },
        {
         "fillcolor": "#f9de81",
         "legendgroup": "HHI_BF_BOF -> Heat_High_Industrial",
         "line": {
          "color": "#f9de81"
         },
         "name": "HHI_BF_BOF -> Heat_High_Industrial",
         "showlegend": true,
         "stackgroup": "one",
         "type": "scatter",
         "x": [
          2018
         ],
         "y": [
          588.3611780059645
         ]
        },
        {
         "fillcolor": "#f9de81",
         "legendgroup": "HHI_BF_BOF -> Heat_High_Industrial",
         "line": {
          "color": "#f9de81"
         },
         "name": "HHI_BF_BOF -> Heat_High_Industrial",
         "showlegend": false,
         "stackgroup": "one",
         "type": "scatter",
         "x": [
          2025
         ],
         "y": [
          417.1683117800289
         ]
        },
        {
         "fillcolor": "#f9de81",
         "legendgroup": "HHI_BF_BOF -> Heat_High_Industrial",
         "line": {
          "color": "#f9de81"
         },
         "name": "HHI_BF_BOF -> Heat_High_Industrial",
         "showlegend": false,
         "stackgroup": "one",
         "type": "scatter",
         "x": [
          2030
         ],
         "y": [
          246.2646486917804
         ]
        },
        {
         "fillcolor": "#f9de81",
         "legendgroup": "HHI_BF_BOF -> Heat_High_Industrial",
         "line": {
          "color": "#f9de81"
         },
         "name": "HHI_BF_BOF -> Heat_High_Industrial",
         "showlegend": false,
         "stackgroup": "one",
         "type": "scatter",
         "x": [
          2035
         ],
         "y": [
          83.3742424708558
         ]
        },
        {
         "fillcolor": "#f9de81",
         "legendgroup": "HHI_BF_BOF -> Heat_High_Industrial",
         "line": {
          "color": "#f9de81"
         },
         "name": "HHI_BF_BOF -> Heat_High_Industrial",
         "showlegend": false,
         "stackgroup": "one",
         "type": "scatter",
         "x": [
          2040
         ],
         "y": [
          0.15738257427029564
         ]
        },
        {
         "fillcolor": "#f9de81",
         "legendgroup": "HHI_BF_BOF -> Heat_High_Industrial",
         "line": {
          "color": "#f9de81"
         },
         "name": "HHI_BF_BOF -> Heat_High_Industrial",
         "showlegend": false,
         "stackgroup": "one",
         "type": "scatter",
         "x": [
          2045
         ],
         "y": [
          0
         ]
        },
        {
         "fillcolor": "#f9de81",
         "legendgroup": "HHI_BF_BOF -> Heat_High_Industrial",
         "line": {
          "color": "#f9de81"
         },
         "name": "HHI_BF_BOF -> Heat_High_Industrial",
         "showlegend": false,
         "stackgroup": "one",
         "type": "scatter",
         "x": [
          2050
         ],
         "y": [
          0
         ]
        },
        {
         "fillcolor": "#d7e8ad",
         "legendgroup": "HHI_Bio_BF_BOF -> Heat_District",
         "line": {
          "color": "#d7e8ad"
         },
         "name": "HHI_Bio_BF_BOF -> Heat_District",
         "showlegend": true,
         "stackgroup": "one",
         "type": "scatter",
         "x": [
          2018
         ],
         "y": [
          0
         ]
        },
        {
         "fillcolor": "#d7e8ad",
         "legendgroup": "HHI_Bio_BF_BOF -> Heat_District",
         "line": {
          "color": "#d7e8ad"
         },
         "name": "HHI_Bio_BF_BOF -> Heat_District",
         "showlegend": false,
         "stackgroup": "one",
         "type": "scatter",
         "x": [
          2025
         ],
         "y": [
          105.31199421197643
         ]
        },
        {
         "fillcolor": "#d7e8ad",
         "legendgroup": "HHI_Bio_BF_BOF -> Heat_District",
         "line": {
          "color": "#d7e8ad"
         },
         "name": "HHI_Bio_BF_BOF -> Heat_District",
         "showlegend": false,
         "stackgroup": "one",
         "type": "scatter",
         "x": [
          2030
         ],
         "y": [
          253.50560471654072
         ]
        },
        {
         "fillcolor": "#d7e8ad",
         "legendgroup": "HHI_Bio_BF_BOF -> Heat_District",
         "line": {
          "color": "#d7e8ad"
         },
         "name": "HHI_Bio_BF_BOF -> Heat_District",
         "showlegend": false,
         "stackgroup": "one",
         "type": "scatter",
         "x": [
          2035
         ],
         "y": [
          373.8440625691082
         ]
        },
        {
         "fillcolor": "#d7e8ad",
         "legendgroup": "HHI_Bio_BF_BOF -> Heat_District",
         "line": {
          "color": "#d7e8ad"
         },
         "name": "HHI_Bio_BF_BOF -> Heat_District",
         "showlegend": false,
         "stackgroup": "one",
         "type": "scatter",
         "x": [
          2040
         ],
         "y": [
          468.2649219159115
         ]
        },
        {
         "fillcolor": "#d7e8ad",
         "legendgroup": "HHI_Bio_BF_BOF -> Heat_District",
         "line": {
          "color": "#d7e8ad"
         },
         "name": "HHI_Bio_BF_BOF -> Heat_District",
         "showlegend": false,
         "stackgroup": "one",
         "type": "scatter",
         "x": [
          2045
         ],
         "y": [
          481.23364812233206
         ]
        },
        {
         "fillcolor": "#d7e8ad",
         "legendgroup": "HHI_Bio_BF_BOF -> Heat_District",
         "line": {
          "color": "#d7e8ad"
         },
         "name": "HHI_Bio_BF_BOF -> Heat_District",
         "showlegend": false,
         "stackgroup": "one",
         "type": "scatter",
         "x": [
          2050
         ],
         "y": [
          498.82335738956033
         ]
        },
        {
         "fillcolor": "#c3cdf7",
         "legendgroup": "HHI_Bio_BF_BOF -> Heat_High_Industrial",
         "line": {
          "color": "#c3cdf7"
         },
         "name": "HHI_Bio_BF_BOF -> Heat_High_Industrial",
         "showlegend": true,
         "stackgroup": "one",
         "type": "scatter",
         "x": [
          2018
         ],
         "y": [
          0
         ]
        },
        {
         "fillcolor": "#c3cdf7",
         "legendgroup": "HHI_Bio_BF_BOF -> Heat_High_Industrial",
         "line": {
          "color": "#c3cdf7"
         },
         "name": "HHI_Bio_BF_BOF -> Heat_High_Industrial",
         "showlegend": false,
         "stackgroup": "one",
         "type": "scatter",
         "x": [
          2025
         ],
         "y": [
          0
         ]
        },
        {
         "fillcolor": "#c3cdf7",
         "legendgroup": "HHI_Bio_BF_BOF -> Heat_High_Industrial",
         "line": {
          "color": "#c3cdf7"
         },
         "name": "HHI_Bio_BF_BOF -> Heat_High_Industrial",
         "showlegend": false,
         "stackgroup": "one",
         "type": "scatter",
         "x": [
          2030
         ],
         "y": [
          0
         ]
        },
        {
         "fillcolor": "#c3cdf7",
         "legendgroup": "HHI_Bio_BF_BOF -> Heat_High_Industrial",
         "line": {
          "color": "#c3cdf7"
         },
         "name": "HHI_Bio_BF_BOF -> Heat_High_Industrial",
         "showlegend": false,
         "stackgroup": "one",
         "type": "scatter",
         "x": [
          2035
         ],
         "y": [
          10.58706006513261
         ]
        },
        {
         "fillcolor": "#c3cdf7",
         "legendgroup": "HHI_Bio_BF_BOF -> Heat_High_Industrial",
         "line": {
          "color": "#c3cdf7"
         },
         "name": "HHI_Bio_BF_BOF -> Heat_High_Industrial",
         "showlegend": false,
         "stackgroup": "one",
         "type": "scatter",
         "x": [
          2040
         ],
         "y": [
          35.3584271220562
         ]
        },
        {
         "fillcolor": "#c3cdf7",
         "legendgroup": "HHI_Bio_BF_BOF -> Heat_High_Industrial",
         "line": {
          "color": "#c3cdf7"
         },
         "name": "HHI_Bio_BF_BOF -> Heat_High_Industrial",
         "showlegend": false,
         "stackgroup": "one",
         "type": "scatter",
         "x": [
          2045
         ],
         "y": [
          34.30393786945509
         ]
        },
        {
         "fillcolor": "#c3cdf7",
         "legendgroup": "HHI_Bio_BF_BOF -> Heat_High_Industrial",
         "line": {
          "color": "#c3cdf7"
         },
         "name": "HHI_Bio_BF_BOF -> Heat_High_Industrial",
         "showlegend": false,
         "stackgroup": "one",
         "type": "scatter",
         "x": [
          2050
         ],
         "y": [
          33.35640831730754
         ]
        },
        {
         "fillcolor": "#d9a5b0",
         "legendgroup": "HHI_DRI_EAF -> Heat_High_Industrial",
         "line": {
          "color": "#d9a5b0"
         },
         "name": "HHI_DRI_EAF -> Heat_High_Industrial",
         "showlegend": true,
         "stackgroup": "one",
         "type": "scatter",
         "x": [
          2018
         ],
         "y": [
          0.6236551454734134
         ]
        },
        {
         "fillcolor": "#d9a5b0",
         "legendgroup": "HHI_DRI_EAF -> Heat_High_Industrial",
         "line": {
          "color": "#d9a5b0"
         },
         "name": "HHI_DRI_EAF -> Heat_High_Industrial",
         "showlegend": false,
         "stackgroup": "one",
         "type": "scatter",
         "x": [
          2025
         ],
         "y": [
          1.1768145553783613
         ]
        },
        {
         "fillcolor": "#d9a5b0",
         "legendgroup": "HHI_DRI_EAF -> Heat_High_Industrial",
         "line": {
          "color": "#d9a5b0"
         },
         "name": "HHI_DRI_EAF -> Heat_High_Industrial",
         "showlegend": false,
         "stackgroup": "one",
         "type": "scatter",
         "x": [
          2030
         ],
         "y": [
          6.424480454102798
         ]
        },
        {
         "fillcolor": "#d9a5b0",
         "legendgroup": "HHI_DRI_EAF -> Heat_High_Industrial",
         "line": {
          "color": "#d9a5b0"
         },
         "name": "HHI_DRI_EAF -> Heat_High_Industrial",
         "showlegend": false,
         "stackgroup": "one",
         "type": "scatter",
         "x": [
          2035
         ],
         "y": [
          2.9248243055645395
         ]
        },
        {
         "fillcolor": "#d9a5b0",
         "legendgroup": "HHI_DRI_EAF -> Heat_High_Industrial",
         "line": {
          "color": "#d9a5b0"
         },
         "name": "HHI_DRI_EAF -> Heat_High_Industrial",
         "showlegend": false,
         "stackgroup": "one",
         "type": "scatter",
         "x": [
          2040
         ],
         "y": [
          1.9048394599516074
         ]
        },
        {
         "fillcolor": "#d9a5b0",
         "legendgroup": "HHI_DRI_EAF -> Heat_High_Industrial",
         "line": {
          "color": "#d9a5b0"
         },
         "name": "HHI_DRI_EAF -> Heat_High_Industrial",
         "showlegend": false,
         "stackgroup": "one",
         "type": "scatter",
         "x": [
          2045
         ],
         "y": [
          0.22806952
         ]
        },
        {
         "fillcolor": "#d9a5b0",
         "legendgroup": "HHI_DRI_EAF -> Heat_High_Industrial",
         "line": {
          "color": "#d9a5b0"
         },
         "name": "HHI_DRI_EAF -> Heat_High_Industrial",
         "showlegend": false,
         "stackgroup": "one",
         "type": "scatter",
         "x": [
          2050
         ],
         "y": [
          0
         ]
        },
        {
         "fillcolor": "#cfeea9",
         "legendgroup": "HHI_Scrap_EAF -> Heat_High_Industrial",
         "line": {
          "color": "#cfeea9"
         },
         "name": "HHI_Scrap_EAF -> Heat_High_Industrial",
         "showlegend": true,
         "stackgroup": "one",
         "type": "scatter",
         "x": [
          2018
         ],
         "y": [
          48.76084936726378
         ]
        },
        {
         "fillcolor": "#cfeea9",
         "legendgroup": "HHI_Scrap_EAF -> Heat_High_Industrial",
         "line": {
          "color": "#cfeea9"
         },
         "name": "HHI_Scrap_EAF -> Heat_High_Industrial",
         "showlegend": false,
         "stackgroup": "one",
         "type": "scatter",
         "x": [
          2025
         ],
         "y": [
          193.42744216513742
         ]
        },
        {
         "fillcolor": "#cfeea9",
         "legendgroup": "HHI_Scrap_EAF -> Heat_High_Industrial",
         "line": {
          "color": "#cfeea9"
         },
         "name": "HHI_Scrap_EAF -> Heat_High_Industrial",
         "showlegend": false,
         "stackgroup": "one",
         "type": "scatter",
         "x": [
          2030
         ],
         "y": [
          346.37058429027354
         ]
        },
        {
         "fillcolor": "#cfeea9",
         "legendgroup": "HHI_Scrap_EAF -> Heat_High_Industrial",
         "line": {
          "color": "#cfeea9"
         },
         "name": "HHI_Scrap_EAF -> Heat_High_Industrial",
         "showlegend": false,
         "stackgroup": "one",
         "type": "scatter",
         "x": [
          2035
         ],
         "y": [
          485.5484525841805
         ]
        },
        {
         "fillcolor": "#cfeea9",
         "legendgroup": "HHI_Scrap_EAF -> Heat_High_Industrial",
         "line": {
          "color": "#cfeea9"
         },
         "name": "HHI_Scrap_EAF -> Heat_High_Industrial",
         "showlegend": false,
         "stackgroup": "one",
         "type": "scatter",
         "x": [
          2040
         ],
         "y": [
          528.3887962590311
         ]
        },
        {
         "fillcolor": "#cfeea9",
         "legendgroup": "HHI_Scrap_EAF -> Heat_High_Industrial",
         "line": {
          "color": "#cfeea9"
         },
         "name": "HHI_Scrap_EAF -> Heat_High_Industrial",
         "showlegend": false,
         "stackgroup": "one",
         "type": "scatter",
         "x": [
          2045
         ],
         "y": [
          507.1576353030121
         ]
        },
        {
         "fillcolor": "#cfeea9",
         "legendgroup": "HHI_Scrap_EAF -> Heat_High_Industrial",
         "line": {
          "color": "#cfeea9"
         },
         "name": "HHI_Scrap_EAF -> Heat_High_Industrial",
         "showlegend": false,
         "stackgroup": "one",
         "type": "scatter",
         "x": [
          2050
         ],
         "y": [
          484.21343165231673
         ]
        },
        {
         "fillcolor": "#d8b7f3",
         "legendgroup": "HLDH_Coal_Boiler -> Heat_District",
         "line": {
          "color": "#d8b7f3"
         },
         "name": "HLDH_Coal_Boiler -> Heat_District",
         "showlegend": true,
         "stackgroup": "one",
         "type": "scatter",
         "x": [
          2018
         ],
         "y": [
          752.5284020059288
         ]
        },
        {
         "fillcolor": "#d8b7f3",
         "legendgroup": "HLDH_Coal_Boiler -> Heat_District",
         "line": {
          "color": "#d8b7f3"
         },
         "name": "HLDH_Coal_Boiler -> Heat_District",
         "showlegend": false,
         "stackgroup": "one",
         "type": "scatter",
         "x": [
          2025
         ],
         "y": [
          634.6595230994599
         ]
        },
        {
         "fillcolor": "#d8b7f3",
         "legendgroup": "HLDH_Coal_Boiler -> Heat_District",
         "line": {
          "color": "#d8b7f3"
         },
         "name": "HLDH_Coal_Boiler -> Heat_District",
         "showlegend": false,
         "stackgroup": "one",
         "type": "scatter",
         "x": [
          2030
         ],
         "y": [
          3.657159863552777
         ]
        },
        {
         "fillcolor": "#d8b7f3",
         "legendgroup": "HLDH_Coal_Boiler -> Heat_District",
         "line": {
          "color": "#d8b7f3"
         },
         "name": "HLDH_Coal_Boiler -> Heat_District",
         "showlegend": false,
         "stackgroup": "one",
         "type": "scatter",
         "x": [
          2035
         ],
         "y": [
          0
         ]
        },
        {
         "fillcolor": "#d8b7f3",
         "legendgroup": "HLDH_Coal_Boiler -> Heat_District",
         "line": {
          "color": "#d8b7f3"
         },
         "name": "HLDH_Coal_Boiler -> Heat_District",
         "showlegend": false,
         "stackgroup": "one",
         "type": "scatter",
         "x": [
          2040
         ],
         "y": [
          0
         ]
        },
        {
         "fillcolor": "#d8b7f3",
         "legendgroup": "HLDH_Coal_Boiler -> Heat_District",
         "line": {
          "color": "#d8b7f3"
         },
         "name": "HLDH_Coal_Boiler -> Heat_District",
         "showlegend": false,
         "stackgroup": "one",
         "type": "scatter",
         "x": [
          2045
         ],
         "y": [
          0
         ]
        },
        {
         "fillcolor": "#d8b7f3",
         "legendgroup": "HLDH_Coal_Boiler -> Heat_District",
         "line": {
          "color": "#d8b7f3"
         },
         "name": "HLDH_Coal_Boiler -> Heat_District",
         "showlegend": false,
         "stackgroup": "one",
         "type": "scatter",
         "x": [
          2050
         ],
         "y": [
          0
         ]
        },
        {
         "fillcolor": "#f4bc85",
         "legendgroup": "HLDH_Electric_Boiler -> Heat_District",
         "line": {
          "color": "#f4bc85"
         },
         "name": "HLDH_Electric_Boiler -> Heat_District",
         "showlegend": true,
         "stackgroup": "one",
         "type": "scatter",
         "x": [
          2018
         ],
         "y": [
          79.2218170291234
         ]
        },
        {
         "fillcolor": "#f4bc85",
         "legendgroup": "HLDH_Electric_Boiler -> Heat_District",
         "line": {
          "color": "#f4bc85"
         },
         "name": "HLDH_Electric_Boiler -> Heat_District",
         "showlegend": false,
         "stackgroup": "one",
         "type": "scatter",
         "x": [
          2025
         ],
         "y": [
          57.36587520217759
         ]
        },
        {
         "fillcolor": "#f4bc85",
         "legendgroup": "HLDH_Electric_Boiler -> Heat_District",
         "line": {
          "color": "#f4bc85"
         },
         "name": "HLDH_Electric_Boiler -> Heat_District",
         "showlegend": false,
         "stackgroup": "one",
         "type": "scatter",
         "x": [
          2030
         ],
         "y": [
          69.62868566334483
         ]
        },
        {
         "fillcolor": "#f4bc85",
         "legendgroup": "HLDH_Electric_Boiler -> Heat_District",
         "line": {
          "color": "#f4bc85"
         },
         "name": "HLDH_Electric_Boiler -> Heat_District",
         "showlegend": false,
         "stackgroup": "one",
         "type": "scatter",
         "x": [
          2035
         ],
         "y": [
          139.17648813370863
         ]
        },
        {
         "fillcolor": "#f4bc85",
         "legendgroup": "HLDH_Electric_Boiler -> Heat_District",
         "line": {
          "color": "#f4bc85"
         },
         "name": "HLDH_Electric_Boiler -> Heat_District",
         "showlegend": false,
         "stackgroup": "one",
         "type": "scatter",
         "x": [
          2040
         ],
         "y": [
          239.95490980236877
         ]
        },
        {
         "fillcolor": "#f4bc85",
         "legendgroup": "HLDH_Electric_Boiler -> Heat_District",
         "line": {
          "color": "#f4bc85"
         },
         "name": "HLDH_Electric_Boiler -> Heat_District",
         "showlegend": false,
         "stackgroup": "one",
         "type": "scatter",
         "x": [
          2045
         ],
         "y": [
          281.818548804374
         ]
        },
        {
         "fillcolor": "#f4bc85",
         "legendgroup": "HLDH_Electric_Boiler -> Heat_District",
         "line": {
          "color": "#f4bc85"
         },
         "name": "HLDH_Electric_Boiler -> Heat_District",
         "showlegend": false,
         "stackgroup": "one",
         "type": "scatter",
         "x": [
          2050
         ],
         "y": [
          332.39192293123796
         ]
        },
        {
         "fillcolor": "#b8ef82",
         "legendgroup": "HLDH_Gas_Boiler -> Heat_District",
         "line": {
          "color": "#b8ef82"
         },
         "name": "HLDH_Gas_Boiler -> Heat_District",
         "showlegend": true,
         "stackgroup": "one",
         "type": "scatter",
         "x": [
          2018
         ],
         "y": [
          0
         ]
        },
        {
         "fillcolor": "#b8ef82",
         "legendgroup": "HLDH_Gas_Boiler -> Heat_District",
         "line": {
          "color": "#b8ef82"
         },
         "name": "HLDH_Gas_Boiler -> Heat_District",
         "showlegend": false,
         "stackgroup": "one",
         "type": "scatter",
         "x": [
          2025
         ],
         "y": [
          3.262232986007601
         ]
        },
        {
         "fillcolor": "#b8ef82",
         "legendgroup": "HLDH_Gas_Boiler -> Heat_District",
         "line": {
          "color": "#b8ef82"
         },
         "name": "HLDH_Gas_Boiler -> Heat_District",
         "showlegend": false,
         "stackgroup": "one",
         "type": "scatter",
         "x": [
          2030
         ],
         "y": [
          110.44927203711717
         ]
        },
        {
         "fillcolor": "#b8ef82",
         "legendgroup": "HLDH_Gas_Boiler -> Heat_District",
         "line": {
          "color": "#b8ef82"
         },
         "name": "HLDH_Gas_Boiler -> Heat_District",
         "showlegend": false,
         "stackgroup": "one",
         "type": "scatter",
         "x": [
          2035
         ],
         "y": [
          44.07256080320758
         ]
        },
        {
         "fillcolor": "#b8ef82",
         "legendgroup": "HLDH_Gas_Boiler -> Heat_District",
         "line": {
          "color": "#b8ef82"
         },
         "name": "HLDH_Gas_Boiler -> Heat_District",
         "showlegend": false,
         "stackgroup": "one",
         "type": "scatter",
         "x": [
          2040
         ],
         "y": [
          0
         ]
        },
        {
         "fillcolor": "#b8ef82",
         "legendgroup": "HLDH_Gas_Boiler -> Heat_District",
         "line": {
          "color": "#b8ef82"
         },
         "name": "HLDH_Gas_Boiler -> Heat_District",
         "showlegend": false,
         "stackgroup": "one",
         "type": "scatter",
         "x": [
          2045
         ],
         "y": [
          0
         ]
        },
        {
         "fillcolor": "#b8ef82",
         "legendgroup": "HLDH_Gas_Boiler -> Heat_District",
         "line": {
          "color": "#b8ef82"
         },
         "name": "HLDH_Gas_Boiler -> Heat_District",
         "showlegend": false,
         "stackgroup": "one",
         "type": "scatter",
         "x": [
          2050
         ],
         "y": [
          0
         ]
        },
        {
         "fillcolor": "#ebabcd",
         "legendgroup": "HLDH_Geothermal -> Heat_District",
         "line": {
          "color": "#ebabcd"
         },
         "name": "HLDH_Geothermal -> Heat_District",
         "showlegend": true,
         "stackgroup": "one",
         "type": "scatter",
         "x": [
          2018
         ],
         "y": [
          15.943200000000001
         ]
        },
        {
         "fillcolor": "#ebabcd",
         "legendgroup": "HLDH_Geothermal -> Heat_District",
         "line": {
          "color": "#ebabcd"
         },
         "name": "HLDH_Geothermal -> Heat_District",
         "showlegend": false,
         "stackgroup": "one",
         "type": "scatter",
         "x": [
          2025
         ],
         "y": [
          29.965787648430275
         ]
        },
        {
         "fillcolor": "#ebabcd",
         "legendgroup": "HLDH_Geothermal -> Heat_District",
         "line": {
          "color": "#ebabcd"
         },
         "name": "HLDH_Geothermal -> Heat_District",
         "showlegend": false,
         "stackgroup": "one",
         "type": "scatter",
         "x": [
          2030
         ],
         "y": [
          443.3613328798636
         ]
        },
        {
         "fillcolor": "#ebabcd",
         "legendgroup": "HLDH_Geothermal -> Heat_District",
         "line": {
          "color": "#ebabcd"
         },
         "name": "HLDH_Geothermal -> Heat_District",
         "showlegend": false,
         "stackgroup": "one",
         "type": "scatter",
         "x": [
          2035
         ],
         "y": [
          641.8208878774034
         ]
        },
        {
         "fillcolor": "#ebabcd",
         "legendgroup": "HLDH_Geothermal -> Heat_District",
         "line": {
          "color": "#ebabcd"
         },
         "name": "HLDH_Geothermal -> Heat_District",
         "showlegend": false,
         "stackgroup": "one",
         "type": "scatter",
         "x": [
          2040
         ],
         "y": [
          642.2177560348866
         ]
        },
        {
         "fillcolor": "#ebabcd",
         "legendgroup": "HLDH_Geothermal -> Heat_District",
         "line": {
          "color": "#ebabcd"
         },
         "name": "HLDH_Geothermal -> Heat_District",
         "showlegend": false,
         "stackgroup": "one",
         "type": "scatter",
         "x": [
          2045
         ],
         "y": [
          638.5097017047757
         ]
        },
        {
         "fillcolor": "#ebabcd",
         "legendgroup": "HLDH_Geothermal -> Heat_District",
         "line": {
          "color": "#ebabcd"
         },
         "name": "HLDH_Geothermal -> Heat_District",
         "showlegend": false,
         "stackgroup": "one",
         "type": "scatter",
         "x": [
          2050
         ],
         "y": [
          605.5888261324751
         ]
        },
        {
         "fillcolor": "#92f9a1",
         "legendgroup": "HLDH_Heatpump_ExcessHeat -> Heat_District",
         "line": {
          "color": "#92f9a1"
         },
         "name": "HLDH_Heatpump_ExcessHeat -> Heat_District",
         "showlegend": true,
         "stackgroup": "one",
         "type": "scatter",
         "x": [
          2018
         ],
         "y": [
          0
         ]
        },
        {
         "fillcolor": "#92f9a1",
         "legendgroup": "HLDH_Heatpump_ExcessHeat -> Heat_District",
         "line": {
          "color": "#92f9a1"
         },
         "name": "HLDH_Heatpump_ExcessHeat -> Heat_District",
         "showlegend": false,
         "stackgroup": "one",
         "type": "scatter",
         "x": [
          2025
         ],
         "y": [
          0
         ]
        },
        {
         "fillcolor": "#92f9a1",
         "legendgroup": "HLDH_Heatpump_ExcessHeat -> Heat_District",
         "line": {
          "color": "#92f9a1"
         },
         "name": "HLDH_Heatpump_ExcessHeat -> Heat_District",
         "showlegend": false,
         "stackgroup": "one",
         "type": "scatter",
         "x": [
          2030
         ],
         "y": [
          258.53420599850364
         ]
        },
        {
         "fillcolor": "#92f9a1",
         "legendgroup": "HLDH_Heatpump_ExcessHeat -> Heat_District",
         "line": {
          "color": "#92f9a1"
         },
         "name": "HLDH_Heatpump_ExcessHeat -> Heat_District",
         "showlegend": false,
         "stackgroup": "one",
         "type": "scatter",
         "x": [
          2035
         ],
         "y": [
          469.44985519108405
         ]
        },
        {
         "fillcolor": "#92f9a1",
         "legendgroup": "HLDH_Heatpump_ExcessHeat -> Heat_District",
         "line": {
          "color": "#92f9a1"
         },
         "name": "HLDH_Heatpump_ExcessHeat -> Heat_District",
         "showlegend": false,
         "stackgroup": "one",
         "type": "scatter",
         "x": [
          2040
         ],
         "y": [
          461.35688556136733
         ]
        },
        {
         "fillcolor": "#92f9a1",
         "legendgroup": "HLDH_Heatpump_ExcessHeat -> Heat_District",
         "line": {
          "color": "#92f9a1"
         },
         "name": "HLDH_Heatpump_ExcessHeat -> Heat_District",
         "showlegend": false,
         "stackgroup": "one",
         "type": "scatter",
         "x": [
          2045
         ],
         "y": [
          463.0577905356093
         ]
        },
        {
         "fillcolor": "#92f9a1",
         "legendgroup": "HLDH_Heatpump_ExcessHeat -> Heat_District",
         "line": {
          "color": "#92f9a1"
         },
         "name": "HLDH_Heatpump_ExcessHeat -> Heat_District",
         "showlegend": false,
         "stackgroup": "one",
         "type": "scatter",
         "x": [
          2050
         ],
         "y": [
          469.6993680002482
         ]
        },
        {
         "fillcolor": "#8df5f1",
         "legendgroup": "HLDH_Solar_Thermal -> Heat_District",
         "line": {
          "color": "#8df5f1"
         },
         "name": "HLDH_Solar_Thermal -> Heat_District",
         "showlegend": true,
         "stackgroup": "one",
         "type": "scatter",
         "x": [
          2018
         ],
         "y": [
          424.19815329792334
         ]
        },
        {
         "fillcolor": "#8df5f1",
         "legendgroup": "HLDH_Solar_Thermal -> Heat_District",
         "line": {
          "color": "#8df5f1"
         },
         "name": "HLDH_Solar_Thermal -> Heat_District",
         "showlegend": false,
         "stackgroup": "one",
         "type": "scatter",
         "x": [
          2025
         ],
         "y": [
          446.271812858675
         ]
        },
        {
         "fillcolor": "#8df5f1",
         "legendgroup": "HLDH_Solar_Thermal -> Heat_District",
         "line": {
          "color": "#8df5f1"
         },
         "name": "HLDH_Solar_Thermal -> Heat_District",
         "showlegend": false,
         "stackgroup": "one",
         "type": "scatter",
         "x": [
          2030
         ],
         "y": [
          460.6676777896
         ]
        },
        {
         "fillcolor": "#8df5f1",
         "legendgroup": "HLDH_Solar_Thermal -> Heat_District",
         "line": {
          "color": "#8df5f1"
         },
         "name": "HLDH_Solar_Thermal -> Heat_District",
         "showlegend": false,
         "stackgroup": "one",
         "type": "scatter",
         "x": [
          2035
         ],
         "y": [
          465.4662994332416
         ]
        },
        {
         "fillcolor": "#8df5f1",
         "legendgroup": "HLDH_Solar_Thermal -> Heat_District",
         "line": {
          "color": "#8df5f1"
         },
         "name": "HLDH_Solar_Thermal -> Heat_District",
         "showlegend": false,
         "stackgroup": "one",
         "type": "scatter",
         "x": [
          2040
         ],
         "y": [
          470.26492107688335
         ]
        },
        {
         "fillcolor": "#8df5f1",
         "legendgroup": "HLDH_Solar_Thermal -> Heat_District",
         "line": {
          "color": "#8df5f1"
         },
         "name": "HLDH_Solar_Thermal -> Heat_District",
         "showlegend": false,
         "stackgroup": "one",
         "type": "scatter",
         "x": [
          2045
         ],
         "y": [
          475.06354272052505
         ]
        },
        {
         "fillcolor": "#8df5f1",
         "legendgroup": "HLDH_Solar_Thermal -> Heat_District",
         "line": {
          "color": "#8df5f1"
         },
         "name": "HLDH_Solar_Thermal -> Heat_District",
         "showlegend": false,
         "stackgroup": "one",
         "type": "scatter",
         "x": [
          2050
         ],
         "y": [
          479.86216436416663
         ]
        },
        {
         "fillcolor": "#f9fa82",
         "legendgroup": "HLI_Biomass -> Heat_Low_Industrial",
         "line": {
          "color": "#f9fa82"
         },
         "name": "HLI_Biomass -> Heat_Low_Industrial",
         "showlegend": true,
         "stackgroup": "one",
         "type": "scatter",
         "x": [
          2018
         ],
         "y": [
          40.166906391577655
         ]
        },
        {
         "fillcolor": "#f9fa82",
         "legendgroup": "HLI_Biomass -> Heat_Low_Industrial",
         "line": {
          "color": "#f9fa82"
         },
         "name": "HLI_Biomass -> Heat_Low_Industrial",
         "showlegend": false,
         "stackgroup": "one",
         "type": "scatter",
         "x": [
          2025
         ],
         "y": [
          31.34093077855156
         ]
        },
        {
         "fillcolor": "#f9fa82",
         "legendgroup": "HLI_Biomass -> Heat_Low_Industrial",
         "line": {
          "color": "#f9fa82"
         },
         "name": "HLI_Biomass -> Heat_Low_Industrial",
         "showlegend": false,
         "stackgroup": "one",
         "type": "scatter",
         "x": [
          2030
         ],
         "y": [
          21.66419535282063
         ]
        },
        {
         "fillcolor": "#f9fa82",
         "legendgroup": "HLI_Biomass -> Heat_Low_Industrial",
         "line": {
          "color": "#f9fa82"
         },
         "name": "HLI_Biomass -> Heat_Low_Industrial",
         "showlegend": false,
         "stackgroup": "one",
         "type": "scatter",
         "x": [
          2035
         ],
         "y": [
          14.68854923113753
         ]
        },
        {
         "fillcolor": "#f9fa82",
         "legendgroup": "HLI_Biomass -> Heat_Low_Industrial",
         "line": {
          "color": "#f9fa82"
         },
         "name": "HLI_Biomass -> Heat_Low_Industrial",
         "showlegend": false,
         "stackgroup": "one",
         "type": "scatter",
         "x": [
          2040
         ],
         "y": [
          9.94851320071043
         ]
        },
        {
         "fillcolor": "#f9fa82",
         "legendgroup": "HLI_Biomass -> Heat_Low_Industrial",
         "line": {
          "color": "#f9fa82"
         },
         "name": "HLI_Biomass -> Heat_Low_Industrial",
         "showlegend": false,
         "stackgroup": "one",
         "type": "scatter",
         "x": [
          2045
         ],
         "y": [
          5.670849056644143
         ]
        },
        {
         "fillcolor": "#f9fa82",
         "legendgroup": "HLI_Biomass -> Heat_Low_Industrial",
         "line": {
          "color": "#f9fa82"
         },
         "name": "HLI_Biomass -> Heat_Low_Industrial",
         "showlegend": false,
         "stackgroup": "one",
         "type": "scatter",
         "x": [
          2050
         ],
         "y": [
          2.68703290202148
         ]
        },
        {
         "fillcolor": "#bbe5a4",
         "legendgroup": "HLI_Convert_DH -> Heat_Low_Industrial",
         "line": {
          "color": "#bbe5a4"
         },
         "name": "HLI_Convert_DH -> Heat_Low_Industrial",
         "showlegend": true,
         "stackgroup": "one",
         "type": "scatter",
         "x": [
          2018
         ],
         "y": [
          530.1859293500983
         ]
        },
        {
         "fillcolor": "#bbe5a4",
         "legendgroup": "HLI_Convert_DH -> Heat_Low_Industrial",
         "line": {
          "color": "#bbe5a4"
         },
         "name": "HLI_Convert_DH -> Heat_Low_Industrial",
         "showlegend": false,
         "stackgroup": "one",
         "type": "scatter",
         "x": [
          2025
         ],
         "y": [
          580.5598164171199
         ]
        },
        {
         "fillcolor": "#bbe5a4",
         "legendgroup": "HLI_Convert_DH -> Heat_Low_Industrial",
         "line": {
          "color": "#bbe5a4"
         },
         "name": "HLI_Convert_DH -> Heat_Low_Industrial",
         "showlegend": false,
         "stackgroup": "one",
         "type": "scatter",
         "x": [
          2030
         ],
         "y": [
          610.5868688683622
         ]
        },
        {
         "fillcolor": "#bbe5a4",
         "legendgroup": "HLI_Convert_DH -> Heat_Low_Industrial",
         "line": {
          "color": "#bbe5a4"
         },
         "name": "HLI_Convert_DH -> Heat_Low_Industrial",
         "showlegend": false,
         "stackgroup": "one",
         "type": "scatter",
         "x": [
          2035
         ],
         "y": [
          613.2021943440554
         ]
        },
        {
         "fillcolor": "#bbe5a4",
         "legendgroup": "HLI_Convert_DH -> Heat_Low_Industrial",
         "line": {
          "color": "#bbe5a4"
         },
         "name": "HLI_Convert_DH -> Heat_Low_Industrial",
         "showlegend": false,
         "stackgroup": "one",
         "type": "scatter",
         "x": [
          2040
         ],
         "y": [
          600.8818271099566
         ]
        },
        {
         "fillcolor": "#bbe5a4",
         "legendgroup": "HLI_Convert_DH -> Heat_Low_Industrial",
         "line": {
          "color": "#bbe5a4"
         },
         "name": "HLI_Convert_DH -> Heat_Low_Industrial",
         "showlegend": false,
         "stackgroup": "one",
         "type": "scatter",
         "x": [
          2045
         ],
         "y": [
          575.7323359257653
         ]
        },
        {
         "fillcolor": "#bbe5a4",
         "legendgroup": "HLI_Convert_DH -> Heat_Low_Industrial",
         "line": {
          "color": "#bbe5a4"
         },
         "name": "HLI_Convert_DH -> Heat_Low_Industrial",
         "showlegend": false,
         "stackgroup": "one",
         "type": "scatter",
         "x": [
          2050
         ],
         "y": [
          549.5527601276074
         ]
        },
        {
         "fillcolor": "#e79fbc",
         "legendgroup": "HLI_Direct_Electric -> Heat_Low_Industrial",
         "line": {
          "color": "#e79fbc"
         },
         "name": "HLI_Direct_Electric -> Heat_Low_Industrial",
         "showlegend": true,
         "stackgroup": "one",
         "type": "scatter",
         "x": [
          2018
         ],
         "y": [
          4.1513135540181665
         ]
        },
        {
         "fillcolor": "#e79fbc",
         "legendgroup": "HLI_Direct_Electric -> Heat_Low_Industrial",
         "line": {
          "color": "#e79fbc"
         },
         "name": "HLI_Direct_Electric -> Heat_Low_Industrial",
         "showlegend": false,
         "stackgroup": "one",
         "type": "scatter",
         "x": [
          2025
         ],
         "y": [
          4.424745854032452
         ]
        },
        {
         "fillcolor": "#e79fbc",
         "legendgroup": "HLI_Direct_Electric -> Heat_Low_Industrial",
         "line": {
          "color": "#e79fbc"
         },
         "name": "HLI_Direct_Electric -> Heat_Low_Industrial",
         "showlegend": false,
         "stackgroup": "one",
         "type": "scatter",
         "x": [
          2030
         ],
         "y": [
          3.1621414495014344
         ]
        },
        {
         "fillcolor": "#e79fbc",
         "legendgroup": "HLI_Direct_Electric -> Heat_Low_Industrial",
         "line": {
          "color": "#e79fbc"
         },
         "name": "HLI_Direct_Electric -> Heat_Low_Industrial",
         "showlegend": false,
         "stackgroup": "one",
         "type": "scatter",
         "x": [
          2035
         ],
         "y": [
          2.153154364156576
         ]
        },
        {
         "fillcolor": "#e79fbc",
         "legendgroup": "HLI_Direct_Electric -> Heat_Low_Industrial",
         "line": {
          "color": "#e79fbc"
         },
         "name": "HLI_Direct_Electric -> Heat_Low_Industrial",
         "showlegend": false,
         "stackgroup": "one",
         "type": "scatter",
         "x": [
          2040
         ],
         "y": [
          1.464616736514855
         ]
        },
        {
         "fillcolor": "#e79fbc",
         "legendgroup": "HLI_Direct_Electric -> Heat_Low_Industrial",
         "line": {
          "color": "#e79fbc"
         },
         "name": "HLI_Direct_Electric -> Heat_Low_Industrial",
         "showlegend": false,
         "stackgroup": "one",
         "type": "scatter",
         "x": [
          2045
         ],
         "y": [
          0.84461422614974
         ]
        },
        {
         "fillcolor": "#e79fbc",
         "legendgroup": "HLI_Direct_Electric -> Heat_Low_Industrial",
         "line": {
          "color": "#e79fbc"
         },
         "name": "HLI_Direct_Electric -> Heat_Low_Industrial",
         "showlegend": false,
         "stackgroup": "one",
         "type": "scatter",
         "x": [
          2050
         ],
         "y": [
          0.4334274900564614
         ]
        },
        {
         "fillcolor": "#f2dfdf",
         "legendgroup": "HLI_Gas_Boiler -> Heat_Low_Industrial",
         "line": {
          "color": "#f2dfdf"
         },
         "name": "HLI_Gas_Boiler -> Heat_Low_Industrial",
         "showlegend": true,
         "stackgroup": "one",
         "type": "scatter",
         "x": [
          2018
         ],
         "y": [
          114.68782713439818
         ]
        },
        {
         "fillcolor": "#f2dfdf",
         "legendgroup": "HLI_Gas_Boiler -> Heat_Low_Industrial",
         "line": {
          "color": "#f2dfdf"
         },
         "name": "HLI_Gas_Boiler -> Heat_Low_Industrial",
         "showlegend": false,
         "stackgroup": "one",
         "type": "scatter",
         "x": [
          2025
         ],
         "y": [
          49.83056878713426
         ]
        },
        {
         "fillcolor": "#f2dfdf",
         "legendgroup": "HLI_Gas_Boiler -> Heat_Low_Industrial",
         "line": {
          "color": "#f2dfdf"
         },
         "name": "HLI_Gas_Boiler -> Heat_Low_Industrial",
         "showlegend": false,
         "stackgroup": "one",
         "type": "scatter",
         "x": [
          2030
         ],
         "y": [
          20.8971520298982
         ]
        },
        {
         "fillcolor": "#f2dfdf",
         "legendgroup": "HLI_Gas_Boiler -> Heat_Low_Industrial",
         "line": {
          "color": "#f2dfdf"
         },
         "name": "HLI_Gas_Boiler -> Heat_Low_Industrial",
         "showlegend": false,
         "stackgroup": "one",
         "type": "scatter",
         "x": [
          2035
         ],
         "y": [
          5.3327942181585986
         ]
        },
        {
         "fillcolor": "#f2dfdf",
         "legendgroup": "HLI_Gas_Boiler -> Heat_Low_Industrial",
         "line": {
          "color": "#f2dfdf"
         },
         "name": "HLI_Gas_Boiler -> Heat_Low_Industrial",
         "showlegend": false,
         "stackgroup": "one",
         "type": "scatter",
         "x": [
          2040
         ],
         "y": [
          2.1480695672518966
         ]
        },
        {
         "fillcolor": "#f2dfdf",
         "legendgroup": "HLI_Gas_Boiler -> Heat_Low_Industrial",
         "line": {
          "color": "#f2dfdf"
         },
         "name": "HLI_Gas_Boiler -> Heat_Low_Industrial",
         "showlegend": false,
         "stackgroup": "one",
         "type": "scatter",
         "x": [
          2045
         ],
         "y": [
          1.7588567182987465
         ]
        },
        {
         "fillcolor": "#f2dfdf",
         "legendgroup": "HLI_Gas_Boiler -> Heat_Low_Industrial",
         "line": {
          "color": "#f2dfdf"
         },
         "name": "HLI_Gas_Boiler -> Heat_Low_Industrial",
         "showlegend": false,
         "stackgroup": "one",
         "type": "scatter",
         "x": [
          2050
         ],
         "y": [
          0.33331079345588194
         ]
        },
        {
         "fillcolor": "#b5e3d8",
         "legendgroup": "HLI_H2_Boiler -> Heat_Low_Industrial",
         "line": {
          "color": "#b5e3d8"
         },
         "name": "HLI_H2_Boiler -> Heat_Low_Industrial",
         "showlegend": true,
         "stackgroup": "one",
         "type": "scatter",
         "x": [
          2018
         ],
         "y": [
          0
         ]
        },
        {
         "fillcolor": "#b5e3d8",
         "legendgroup": "HLI_H2_Boiler -> Heat_Low_Industrial",
         "line": {
          "color": "#b5e3d8"
         },
         "name": "HLI_H2_Boiler -> Heat_Low_Industrial",
         "showlegend": false,
         "stackgroup": "one",
         "type": "scatter",
         "x": [
          2025
         ],
         "y": [
          0
         ]
        },
        {
         "fillcolor": "#b5e3d8",
         "legendgroup": "HLI_H2_Boiler -> Heat_Low_Industrial",
         "line": {
          "color": "#b5e3d8"
         },
         "name": "HLI_H2_Boiler -> Heat_Low_Industrial",
         "showlegend": false,
         "stackgroup": "one",
         "type": "scatter",
         "x": [
          2030
         ],
         "y": [
          0
         ]
        },
        {
         "fillcolor": "#b5e3d8",
         "legendgroup": "HLI_H2_Boiler -> Heat_Low_Industrial",
         "line": {
          "color": "#b5e3d8"
         },
         "name": "HLI_H2_Boiler -> Heat_Low_Industrial",
         "showlegend": false,
         "stackgroup": "one",
         "type": "scatter",
         "x": [
          2035
         ],
         "y": [
          0
         ]
        },
        {
         "fillcolor": "#b5e3d8",
         "legendgroup": "HLI_H2_Boiler -> Heat_Low_Industrial",
         "line": {
          "color": "#b5e3d8"
         },
         "name": "HLI_H2_Boiler -> Heat_Low_Industrial",
         "showlegend": false,
         "stackgroup": "one",
         "type": "scatter",
         "x": [
          2040
         ],
         "y": [
          0
         ]
        },
        {
         "fillcolor": "#b5e3d8",
         "legendgroup": "HLI_H2_Boiler -> Heat_Low_Industrial",
         "line": {
          "color": "#b5e3d8"
         },
         "name": "HLI_H2_Boiler -> Heat_Low_Industrial",
         "showlegend": false,
         "stackgroup": "one",
         "type": "scatter",
         "x": [
          2045
         ],
         "y": [
          0
         ]
        },
        {
         "fillcolor": "#b5e3d8",
         "legendgroup": "HLI_H2_Boiler -> Heat_Low_Industrial",
         "line": {
          "color": "#b5e3d8"
         },
         "name": "HLI_H2_Boiler -> Heat_Low_Industrial",
         "showlegend": false,
         "stackgroup": "one",
         "type": "scatter",
         "x": [
          2050
         ],
         "y": [
          0.5637539261407818
         ]
        },
        {
         "fillcolor": "#d6a8ef",
         "legendgroup": "HLI_Hardcoal -> Heat_Low_Industrial",
         "line": {
          "color": "#d6a8ef"
         },
         "name": "HLI_Hardcoal -> Heat_Low_Industrial",
         "showlegend": true,
         "stackgroup": "one",
         "type": "scatter",
         "x": [
          2018
         ],
         "y": [
          10.15572471034326
         ]
        },
        {
         "fillcolor": "#d6a8ef",
         "legendgroup": "HLI_Hardcoal -> Heat_Low_Industrial",
         "line": {
          "color": "#d6a8ef"
         },
         "name": "HLI_Hardcoal -> Heat_Low_Industrial",
         "showlegend": false,
         "stackgroup": "one",
         "type": "scatter",
         "x": [
          2025
         ],
         "y": [
          4.413360393374089
         ]
        },
        {
         "fillcolor": "#d6a8ef",
         "legendgroup": "HLI_Hardcoal -> Heat_Low_Industrial",
         "line": {
          "color": "#d6a8ef"
         },
         "name": "HLI_Hardcoal -> Heat_Low_Industrial",
         "showlegend": false,
         "stackgroup": "one",
         "type": "scatter",
         "x": [
          2030
         ],
         "y": [
          0
         ]
        },
        {
         "fillcolor": "#d6a8ef",
         "legendgroup": "HLI_Hardcoal -> Heat_Low_Industrial",
         "line": {
          "color": "#d6a8ef"
         },
         "name": "HLI_Hardcoal -> Heat_Low_Industrial",
         "showlegend": false,
         "stackgroup": "one",
         "type": "scatter",
         "x": [
          2035
         ],
         "y": [
          0
         ]
        },
        {
         "fillcolor": "#d6a8ef",
         "legendgroup": "HLI_Hardcoal -> Heat_Low_Industrial",
         "line": {
          "color": "#d6a8ef"
         },
         "name": "HLI_Hardcoal -> Heat_Low_Industrial",
         "showlegend": false,
         "stackgroup": "one",
         "type": "scatter",
         "x": [
          2040
         ],
         "y": [
          0
         ]
        },
        {
         "fillcolor": "#d6a8ef",
         "legendgroup": "HLI_Hardcoal -> Heat_Low_Industrial",
         "line": {
          "color": "#d6a8ef"
         },
         "name": "HLI_Hardcoal -> Heat_Low_Industrial",
         "showlegend": false,
         "stackgroup": "one",
         "type": "scatter",
         "x": [
          2045
         ],
         "y": [
          0
         ]
        },
        {
         "fillcolor": "#d6a8ef",
         "legendgroup": "HLI_Hardcoal -> Heat_Low_Industrial",
         "line": {
          "color": "#d6a8ef"
         },
         "name": "HLI_Hardcoal -> Heat_Low_Industrial",
         "showlegend": false,
         "stackgroup": "one",
         "type": "scatter",
         "x": [
          2050
         ],
         "y": [
          0
         ]
        },
        {
         "fillcolor": "#dedef4",
         "legendgroup": "HLI_Lignite -> Heat_Low_Industrial",
         "line": {
          "color": "#dedef4"
         },
         "name": "HLI_Lignite -> Heat_Low_Industrial",
         "showlegend": true,
         "stackgroup": "one",
         "type": "scatter",
         "x": [
          2018
         ],
         "y": [
          4.8927158742242
         ]
        },
        {
         "fillcolor": "#dedef4",
         "legendgroup": "HLI_Lignite -> Heat_Low_Industrial",
         "line": {
          "color": "#dedef4"
         },
         "name": "HLI_Lignite -> Heat_Low_Industrial",
         "showlegend": false,
         "stackgroup": "one",
         "type": "scatter",
         "x": [
          2025
         ],
         "y": [
          1.6194682361379562
         ]
        },
        {
         "fillcolor": "#dedef4",
         "legendgroup": "HLI_Lignite -> Heat_Low_Industrial",
         "line": {
          "color": "#dedef4"
         },
         "name": "HLI_Lignite -> Heat_Low_Industrial",
         "showlegend": false,
         "stackgroup": "one",
         "type": "scatter",
         "x": [
          2030
         ],
         "y": [
          0
         ]
        },
        {
         "fillcolor": "#dedef4",
         "legendgroup": "HLI_Lignite -> Heat_Low_Industrial",
         "line": {
          "color": "#dedef4"
         },
         "name": "HLI_Lignite -> Heat_Low_Industrial",
         "showlegend": false,
         "stackgroup": "one",
         "type": "scatter",
         "x": [
          2035
         ],
         "y": [
          0
         ]
        },
        {
         "fillcolor": "#dedef4",
         "legendgroup": "HLI_Lignite -> Heat_Low_Industrial",
         "line": {
          "color": "#dedef4"
         },
         "name": "HLI_Lignite -> Heat_Low_Industrial",
         "showlegend": false,
         "stackgroup": "one",
         "type": "scatter",
         "x": [
          2040
         ],
         "y": [
          0
         ]
        },
        {
         "fillcolor": "#dedef4",
         "legendgroup": "HLI_Lignite -> Heat_Low_Industrial",
         "line": {
          "color": "#dedef4"
         },
         "name": "HLI_Lignite -> Heat_Low_Industrial",
         "showlegend": false,
         "stackgroup": "one",
         "type": "scatter",
         "x": [
          2045
         ],
         "y": [
          0
         ]
        },
        {
         "fillcolor": "#dedef4",
         "legendgroup": "HLI_Lignite -> Heat_Low_Industrial",
         "line": {
          "color": "#dedef4"
         },
         "name": "HLI_Lignite -> Heat_Low_Industrial",
         "showlegend": false,
         "stackgroup": "one",
         "type": "scatter",
         "x": [
          2050
         ],
         "y": [
          0
         ]
        },
        {
         "fillcolor": "#c0f9bb",
         "legendgroup": "HLI_Solar_Thermal -> Heat_Low_Industrial",
         "line": {
          "color": "#c0f9bb"
         },
         "name": "HLI_Solar_Thermal -> Heat_Low_Industrial",
         "showlegend": true,
         "stackgroup": "one",
         "type": "scatter",
         "x": [
          2018
         ],
         "y": [
          0
         ]
        },
        {
         "fillcolor": "#c0f9bb",
         "legendgroup": "HLI_Solar_Thermal -> Heat_Low_Industrial",
         "line": {
          "color": "#c0f9bb"
         },
         "name": "HLI_Solar_Thermal -> Heat_Low_Industrial",
         "showlegend": false,
         "stackgroup": "one",
         "type": "scatter",
         "x": [
          2025
         ],
         "y": [
          0
         ]
        },
        {
         "fillcolor": "#c0f9bb",
         "legendgroup": "HLI_Solar_Thermal -> Heat_Low_Industrial",
         "line": {
          "color": "#c0f9bb"
         },
         "name": "HLI_Solar_Thermal -> Heat_Low_Industrial",
         "showlegend": false,
         "stackgroup": "one",
         "type": "scatter",
         "x": [
          2030
         ],
         "y": [
          0
         ]
        },
        {
         "fillcolor": "#c0f9bb",
         "legendgroup": "HLI_Solar_Thermal -> Heat_Low_Industrial",
         "line": {
          "color": "#c0f9bb"
         },
         "name": "HLI_Solar_Thermal -> Heat_Low_Industrial",
         "showlegend": false,
         "stackgroup": "one",
         "type": "scatter",
         "x": [
          2035
         ],
         "y": [
          0
         ]
        },
        {
         "fillcolor": "#c0f9bb",
         "legendgroup": "HLI_Solar_Thermal -> Heat_Low_Industrial",
         "line": {
          "color": "#c0f9bb"
         },
         "name": "HLI_Solar_Thermal -> Heat_Low_Industrial",
         "showlegend": false,
         "stackgroup": "one",
         "type": "scatter",
         "x": [
          2040
         ],
         "y": [
          5.865678313436243e-14
         ]
        },
        {
         "fillcolor": "#c0f9bb",
         "legendgroup": "HLI_Solar_Thermal -> Heat_Low_Industrial",
         "line": {
          "color": "#c0f9bb"
         },
         "name": "HLI_Solar_Thermal -> Heat_Low_Industrial",
         "showlegend": false,
         "stackgroup": "one",
         "type": "scatter",
         "x": [
          2045
         ],
         "y": [
          6.88338275267597e-14
         ]
        },
        {
         "fillcolor": "#c0f9bb",
         "legendgroup": "HLI_Solar_Thermal -> Heat_Low_Industrial",
         "line": {
          "color": "#c0f9bb"
         },
         "name": "HLI_Solar_Thermal -> Heat_Low_Industrial",
         "showlegend": false,
         "stackgroup": "one",
         "type": "scatter",
         "x": [
          2050
         ],
         "y": [
          3.2566542055671256e-14
         ]
        },
        {
         "fillcolor": "#b3f8b2",
         "legendgroup": "HLR_Biomass -> Heat_Low_Building",
         "line": {
          "color": "#b3f8b2"
         },
         "name": "HLR_Biomass -> Heat_Low_Building",
         "showlegend": true,
         "stackgroup": "one",
         "type": "scatter",
         "x": [
          2018
         ],
         "y": [
          252.47029355060414
         ]
        },
        {
         "fillcolor": "#b3f8b2",
         "legendgroup": "HLR_Biomass -> Heat_Low_Building",
         "line": {
          "color": "#b3f8b2"
         },
         "name": "HLR_Biomass -> Heat_Low_Building",
         "showlegend": false,
         "stackgroup": "one",
         "type": "scatter",
         "x": [
          2025
         ],
         "y": [
          167.0478970230161
         ]
        },
        {
         "fillcolor": "#b3f8b2",
         "legendgroup": "HLR_Biomass -> Heat_Low_Building",
         "line": {
          "color": "#b3f8b2"
         },
         "name": "HLR_Biomass -> Heat_Low_Building",
         "showlegend": false,
         "stackgroup": "one",
         "type": "scatter",
         "x": [
          2030
         ],
         "y": [
          106.17827683343614
         ]
        },
        {
         "fillcolor": "#b3f8b2",
         "legendgroup": "HLR_Biomass -> Heat_Low_Building",
         "line": {
          "color": "#b3f8b2"
         },
         "name": "HLR_Biomass -> Heat_Low_Building",
         "showlegend": false,
         "stackgroup": "one",
         "type": "scatter",
         "x": [
          2035
         ],
         "y": [
          66.39233825915437
         ]
        },
        {
         "fillcolor": "#b3f8b2",
         "legendgroup": "HLR_Biomass -> Heat_Low_Building",
         "line": {
          "color": "#b3f8b2"
         },
         "name": "HLR_Biomass -> Heat_Low_Building",
         "showlegend": false,
         "stackgroup": "one",
         "type": "scatter",
         "x": [
          2040
         ],
         "y": [
          40.88989081530842
         ]
        },
        {
         "fillcolor": "#b3f8b2",
         "legendgroup": "HLR_Biomass -> Heat_Low_Building",
         "line": {
          "color": "#b3f8b2"
         },
         "name": "HLR_Biomass -> Heat_Low_Building",
         "showlegend": false,
         "stackgroup": "one",
         "type": "scatter",
         "x": [
          2045
         ],
         "y": [
          21.6569801015518
         ]
        },
        {
         "fillcolor": "#b3f8b2",
         "legendgroup": "HLR_Biomass -> Heat_Low_Building",
         "line": {
          "color": "#b3f8b2"
         },
         "name": "HLR_Biomass -> Heat_Low_Building",
         "showlegend": false,
         "stackgroup": "one",
         "type": "scatter",
         "x": [
          2050
         ],
         "y": [
          9.393163735302585
         ]
        },
        {
         "fillcolor": "#93dae7",
         "legendgroup": "HLR_Convert_DH -> Heat_Low_Building",
         "line": {
          "color": "#93dae7"
         },
         "name": "HLR_Convert_DH -> Heat_Low_Building",
         "showlegend": true,
         "stackgroup": "one",
         "type": "scatter",
         "x": [
          2018
         ],
         "y": [
          1355.781406836116
         ]
        },
        {
         "fillcolor": "#93dae7",
         "legendgroup": "HLR_Convert_DH -> Heat_Low_Building",
         "line": {
          "color": "#93dae7"
         },
         "name": "HLR_Convert_DH -> Heat_Low_Building",
         "showlegend": false,
         "stackgroup": "one",
         "type": "scatter",
         "x": [
          2025
         ],
         "y": [
          957.6061816199499
         ]
        },
        {
         "fillcolor": "#93dae7",
         "legendgroup": "HLR_Convert_DH -> Heat_Low_Building",
         "line": {
          "color": "#93dae7"
         },
         "name": "HLR_Convert_DH -> Heat_Low_Building",
         "showlegend": false,
         "stackgroup": "one",
         "type": "scatter",
         "x": [
          2030
         ],
         "y": [
          880.2413096430196
         ]
        },
        {
         "fillcolor": "#93dae7",
         "legendgroup": "HLR_Convert_DH -> Heat_Low_Building",
         "line": {
          "color": "#93dae7"
         },
         "name": "HLR_Convert_DH -> Heat_Low_Building",
         "showlegend": false,
         "stackgroup": "one",
         "type": "scatter",
         "x": [
          2035
         ],
         "y": [
          1085.7382614559463
         ]
        },
        {
         "fillcolor": "#93dae7",
         "legendgroup": "HLR_Convert_DH -> Heat_Low_Building",
         "line": {
          "color": "#93dae7"
         },
         "name": "HLR_Convert_DH -> Heat_Low_Building",
         "showlegend": false,
         "stackgroup": "one",
         "type": "scatter",
         "x": [
          2040
         ],
         "y": [
          1098.0391663682271
         ]
        },
        {
         "fillcolor": "#93dae7",
         "legendgroup": "HLR_Convert_DH -> Heat_Low_Building",
         "line": {
          "color": "#93dae7"
         },
         "name": "HLR_Convert_DH -> Heat_Low_Building",
         "showlegend": false,
         "stackgroup": "one",
         "type": "scatter",
         "x": [
          2045
         ],
         "y": [
          1077.716375406388
         ]
        },
        {
         "fillcolor": "#93dae7",
         "legendgroup": "HLR_Convert_DH -> Heat_Low_Building",
         "line": {
          "color": "#93dae7"
         },
         "name": "HLR_Convert_DH -> Heat_Low_Building",
         "showlegend": false,
         "stackgroup": "one",
         "type": "scatter",
         "x": [
          2050
         ],
         "y": [
          1046.3623967890535
         ]
        },
        {
         "fillcolor": "#99f09a",
         "legendgroup": "HLR_Direct_Electric -> Heat_Low_Building",
         "line": {
          "color": "#99f09a"
         },
         "name": "HLR_Direct_Electric -> Heat_Low_Building",
         "showlegend": true,
         "stackgroup": "one",
         "type": "scatter",
         "x": [
          2018
         ],
         "y": [
          66.40463241519149
         ]
        },
        {
         "fillcolor": "#99f09a",
         "legendgroup": "HLR_Direct_Electric -> Heat_Low_Building",
         "line": {
          "color": "#99f09a"
         },
         "name": "HLR_Direct_Electric -> Heat_Low_Building",
         "showlegend": false,
         "stackgroup": "one",
         "type": "scatter",
         "x": [
          2025
         ],
         "y": [
          51.18033266940296
         ]
        },
        {
         "fillcolor": "#99f09a",
         "legendgroup": "HLR_Direct_Electric -> Heat_Low_Building",
         "line": {
          "color": "#99f09a"
         },
         "name": "HLR_Direct_Electric -> Heat_Low_Building",
         "showlegend": false,
         "stackgroup": "one",
         "type": "scatter",
         "x": [
          2030
         ],
         "y": [
          32.781111489528065
         ]
        },
        {
         "fillcolor": "#99f09a",
         "legendgroup": "HLR_Direct_Electric -> Heat_Low_Building",
         "line": {
          "color": "#99f09a"
         },
         "name": "HLR_Direct_Electric -> Heat_Low_Building",
         "showlegend": false,
         "stackgroup": "one",
         "type": "scatter",
         "x": [
          2035
         ],
         "y": [
          20.63233112128143
         ]
        },
        {
         "fillcolor": "#99f09a",
         "legendgroup": "HLR_Direct_Electric -> Heat_Low_Building",
         "line": {
          "color": "#99f09a"
         },
         "name": "HLR_Direct_Electric -> Heat_Low_Building",
         "showlegend": false,
         "stackgroup": "one",
         "type": "scatter",
         "x": [
          2040
         ],
         "y": [
          12.824802894191533
         ]
        },
        {
         "fillcolor": "#99f09a",
         "legendgroup": "HLR_Direct_Electric -> Heat_Low_Building",
         "line": {
          "color": "#99f09a"
         },
         "name": "HLR_Direct_Electric -> Heat_Low_Building",
         "showlegend": false,
         "stackgroup": "one",
         "type": "scatter",
         "x": [
          2045
         ],
         "y": [
          6.747466949155445
         ]
        },
        {
         "fillcolor": "#99f09a",
         "legendgroup": "HLR_Direct_Electric -> Heat_Low_Building",
         "line": {
          "color": "#99f09a"
         },
         "name": "HLR_Direct_Electric -> Heat_Low_Building",
         "showlegend": false,
         "stackgroup": "one",
         "type": "scatter",
         "x": [
          2050
         ],
         "y": [
          3.2712048441281487
         ]
        },
        {
         "fillcolor": "#efe9bb",
         "legendgroup": "HLR_Gas_Boiler -> Heat_Low_Building",
         "line": {
          "color": "#efe9bb"
         },
         "name": "HLR_Gas_Boiler -> Heat_Low_Building",
         "showlegend": true,
         "stackgroup": "one",
         "type": "scatter",
         "x": [
          2018
         ],
         "y": [
          2072.077895106863
         ]
        },
        {
         "fillcolor": "#efe9bb",
         "legendgroup": "HLR_Gas_Boiler -> Heat_Low_Building",
         "line": {
          "color": "#efe9bb"
         },
         "name": "HLR_Gas_Boiler -> Heat_Low_Building",
         "showlegend": false,
         "stackgroup": "one",
         "type": "scatter",
         "x": [
          2025
         ],
         "y": [
          1191.796402270908
         ]
        },
        {
         "fillcolor": "#efe9bb",
         "legendgroup": "HLR_Gas_Boiler -> Heat_Low_Building",
         "line": {
          "color": "#efe9bb"
         },
         "name": "HLR_Gas_Boiler -> Heat_Low_Building",
         "showlegend": false,
         "stackgroup": "one",
         "type": "scatter",
         "x": [
          2030
         ],
         "y": [
          839.8372079835486
         ]
        },
        {
         "fillcolor": "#efe9bb",
         "legendgroup": "HLR_Gas_Boiler -> Heat_Low_Building",
         "line": {
          "color": "#efe9bb"
         },
         "name": "HLR_Gas_Boiler -> Heat_Low_Building",
         "showlegend": false,
         "stackgroup": "one",
         "type": "scatter",
         "x": [
          2035
         ],
         "y": [
          314.29675988062985
         ]
        },
        {
         "fillcolor": "#efe9bb",
         "legendgroup": "HLR_Gas_Boiler -> Heat_Low_Building",
         "line": {
          "color": "#efe9bb"
         },
         "name": "HLR_Gas_Boiler -> Heat_Low_Building",
         "showlegend": false,
         "stackgroup": "one",
         "type": "scatter",
         "x": [
          2040
         ],
         "y": [
          119.63318865872925
         ]
        },
        {
         "fillcolor": "#efe9bb",
         "legendgroup": "HLR_Gas_Boiler -> Heat_Low_Building",
         "line": {
          "color": "#efe9bb"
         },
         "name": "HLR_Gas_Boiler -> Heat_Low_Building",
         "showlegend": false,
         "stackgroup": "one",
         "type": "scatter",
         "x": [
          2045
         ],
         "y": [
          107.61412645250226
         ]
        },
        {
         "fillcolor": "#efe9bb",
         "legendgroup": "HLR_Gas_Boiler -> Heat_Low_Building",
         "line": {
          "color": "#efe9bb"
         },
         "name": "HLR_Gas_Boiler -> Heat_Low_Building",
         "showlegend": false,
         "stackgroup": "one",
         "type": "scatter",
         "x": [
          2050
         ],
         "y": [
          154.11775099580888
         ]
        },
        {
         "fillcolor": "#e8cdab",
         "legendgroup": "HLR_H2_Boiler -> Heat_Low_Building",
         "line": {
          "color": "#e8cdab"
         },
         "name": "HLR_H2_Boiler -> Heat_Low_Building",
         "showlegend": true,
         "stackgroup": "one",
         "type": "scatter",
         "x": [
          2018
         ],
         "y": [
          0
         ]
        },
        {
         "fillcolor": "#e8cdab",
         "legendgroup": "HLR_H2_Boiler -> Heat_Low_Building",
         "line": {
          "color": "#e8cdab"
         },
         "name": "HLR_H2_Boiler -> Heat_Low_Building",
         "showlegend": false,
         "stackgroup": "one",
         "type": "scatter",
         "x": [
          2025
         ],
         "y": [
          0
         ]
        },
        {
         "fillcolor": "#e8cdab",
         "legendgroup": "HLR_H2_Boiler -> Heat_Low_Building",
         "line": {
          "color": "#e8cdab"
         },
         "name": "HLR_H2_Boiler -> Heat_Low_Building",
         "showlegend": false,
         "stackgroup": "one",
         "type": "scatter",
         "x": [
          2030
         ],
         "y": [
          0
         ]
        },
        {
         "fillcolor": "#e8cdab",
         "legendgroup": "HLR_H2_Boiler -> Heat_Low_Building",
         "line": {
          "color": "#e8cdab"
         },
         "name": "HLR_H2_Boiler -> Heat_Low_Building",
         "showlegend": false,
         "stackgroup": "one",
         "type": "scatter",
         "x": [
          2035
         ],
         "y": [
          0
         ]
        },
        {
         "fillcolor": "#e8cdab",
         "legendgroup": "HLR_H2_Boiler -> Heat_Low_Building",
         "line": {
          "color": "#e8cdab"
         },
         "name": "HLR_H2_Boiler -> Heat_Low_Building",
         "showlegend": false,
         "stackgroup": "one",
         "type": "scatter",
         "x": [
          2040
         ],
         "y": [
          23.84332912399838
         ]
        },
        {
         "fillcolor": "#e8cdab",
         "legendgroup": "HLR_H2_Boiler -> Heat_Low_Building",
         "line": {
          "color": "#e8cdab"
         },
         "name": "HLR_H2_Boiler -> Heat_Low_Building",
         "showlegend": false,
         "stackgroup": "one",
         "type": "scatter",
         "x": [
          2045
         ],
         "y": [
          76.15957599326094
         ]
        },
        {
         "fillcolor": "#e8cdab",
         "legendgroup": "HLR_H2_Boiler -> Heat_Low_Building",
         "line": {
          "color": "#e8cdab"
         },
         "name": "HLR_H2_Boiler -> Heat_Low_Building",
         "showlegend": false,
         "stackgroup": "one",
         "type": "scatter",
         "x": [
          2050
         ],
         "y": [
          106.14250340628173
         ]
        },
        {
         "fillcolor": "#b483fa",
         "legendgroup": "HLR_Hardcoal -> Heat_Low_Building",
         "line": {
          "color": "#b483fa"
         },
         "name": "HLR_Hardcoal -> Heat_Low_Building",
         "showlegend": true,
         "stackgroup": "one",
         "type": "scatter",
         "x": [
          2018
         ],
         "y": [
          98.46297463951669
         ]
        },
        {
         "fillcolor": "#b483fa",
         "legendgroup": "HLR_Hardcoal -> Heat_Low_Building",
         "line": {
          "color": "#b483fa"
         },
         "name": "HLR_Hardcoal -> Heat_Low_Building",
         "showlegend": false,
         "stackgroup": "one",
         "type": "scatter",
         "x": [
          2025
         ],
         "y": [
          59.312086780343606
         ]
        },
        {
         "fillcolor": "#b483fa",
         "legendgroup": "HLR_Hardcoal -> Heat_Low_Building",
         "line": {
          "color": "#b483fa"
         },
         "name": "HLR_Hardcoal -> Heat_Low_Building",
         "showlegend": false,
         "stackgroup": "one",
         "type": "scatter",
         "x": [
          2030
         ],
         "y": [
          4.373478666666666
         ]
        },
        {
         "fillcolor": "#b483fa",
         "legendgroup": "HLR_Hardcoal -> Heat_Low_Building",
         "line": {
          "color": "#b483fa"
         },
         "name": "HLR_Hardcoal -> Heat_Low_Building",
         "showlegend": false,
         "stackgroup": "one",
         "type": "scatter",
         "x": [
          2035
         ],
         "y": [
          0
         ]
        },
        {
         "fillcolor": "#b483fa",
         "legendgroup": "HLR_Hardcoal -> Heat_Low_Building",
         "line": {
          "color": "#b483fa"
         },
         "name": "HLR_Hardcoal -> Heat_Low_Building",
         "showlegend": false,
         "stackgroup": "one",
         "type": "scatter",
         "x": [
          2040
         ],
         "y": [
          0
         ]
        },
        {
         "fillcolor": "#b483fa",
         "legendgroup": "HLR_Hardcoal -> Heat_Low_Building",
         "line": {
          "color": "#b483fa"
         },
         "name": "HLR_Hardcoal -> Heat_Low_Building",
         "showlegend": false,
         "stackgroup": "one",
         "type": "scatter",
         "x": [
          2045
         ],
         "y": [
          0
         ]
        },
        {
         "fillcolor": "#b483fa",
         "legendgroup": "HLR_Hardcoal -> Heat_Low_Building",
         "line": {
          "color": "#b483fa"
         },
         "name": "HLR_Hardcoal -> Heat_Low_Building",
         "showlegend": false,
         "stackgroup": "one",
         "type": "scatter",
         "x": [
          2050
         ],
         "y": [
          0
         ]
        },
        {
         "fillcolor": "#cbc4ce",
         "legendgroup": "HLR_Heatpump_Aerial -> Cool_Low_Building",
         "line": {
          "color": "#cbc4ce"
         },
         "name": "HLR_Heatpump_Aerial -> Cool_Low_Building",
         "showlegend": true,
         "stackgroup": "one",
         "type": "scatter",
         "x": [
          2018
         ],
         "y": [
          0
         ]
        },
        {
         "fillcolor": "#cbc4ce",
         "legendgroup": "HLR_Heatpump_Aerial -> Cool_Low_Building",
         "line": {
          "color": "#cbc4ce"
         },
         "name": "HLR_Heatpump_Aerial -> Cool_Low_Building",
         "showlegend": false,
         "stackgroup": "one",
         "type": "scatter",
         "x": [
          2025
         ],
         "y": [
          23.22998276022319
         ]
        },
        {
         "fillcolor": "#cbc4ce",
         "legendgroup": "HLR_Heatpump_Aerial -> Cool_Low_Building",
         "line": {
          "color": "#cbc4ce"
         },
         "name": "HLR_Heatpump_Aerial -> Cool_Low_Building",
         "showlegend": false,
         "stackgroup": "one",
         "type": "scatter",
         "x": [
          2030
         ],
         "y": [
          25.61192751112388
         ]
        },
        {
         "fillcolor": "#cbc4ce",
         "legendgroup": "HLR_Heatpump_Aerial -> Cool_Low_Building",
         "line": {
          "color": "#cbc4ce"
         },
         "name": "HLR_Heatpump_Aerial -> Cool_Low_Building",
         "showlegend": false,
         "stackgroup": "one",
         "type": "scatter",
         "x": [
          2035
         ],
         "y": [
          27.456163029902687
         ]
        },
        {
         "fillcolor": "#cbc4ce",
         "legendgroup": "HLR_Heatpump_Aerial -> Cool_Low_Building",
         "line": {
          "color": "#cbc4ce"
         },
         "name": "HLR_Heatpump_Aerial -> Cool_Low_Building",
         "showlegend": false,
         "stackgroup": "one",
         "type": "scatter",
         "x": [
          2040
         ],
         "y": [
          29.3003985486815
         ]
        },
        {
         "fillcolor": "#cbc4ce",
         "legendgroup": "HLR_Heatpump_Aerial -> Cool_Low_Building",
         "line": {
          "color": "#cbc4ce"
         },
         "name": "HLR_Heatpump_Aerial -> Cool_Low_Building",
         "showlegend": false,
         "stackgroup": "one",
         "type": "scatter",
         "x": [
          2045
         ],
         "y": [
          32.30030097475694
         ]
        },
        {
         "fillcolor": "#cbc4ce",
         "legendgroup": "HLR_Heatpump_Aerial -> Cool_Low_Building",
         "line": {
          "color": "#cbc4ce"
         },
         "name": "HLR_Heatpump_Aerial -> Cool_Low_Building",
         "showlegend": false,
         "stackgroup": "one",
         "type": "scatter",
         "x": [
          2050
         ],
         "y": [
          35.30020340083238
         ]
        },
        {
         "fillcolor": "#b4f88f",
         "legendgroup": "HLR_Heatpump_Aerial -> Heat_Low_Building",
         "line": {
          "color": "#b4f88f"
         },
         "name": "HLR_Heatpump_Aerial -> Heat_Low_Building",
         "showlegend": true,
         "stackgroup": "one",
         "type": "scatter",
         "x": [
          2018
         ],
         "y": [
          0
         ]
        },
        {
         "fillcolor": "#b4f88f",
         "legendgroup": "HLR_Heatpump_Aerial -> Heat_Low_Building",
         "line": {
          "color": "#b4f88f"
         },
         "name": "HLR_Heatpump_Aerial -> Heat_Low_Building",
         "showlegend": false,
         "stackgroup": "one",
         "type": "scatter",
         "x": [
          2025
         ],
         "y": [
          160.33728882903156
         ]
        },
        {
         "fillcolor": "#b4f88f",
         "legendgroup": "HLR_Heatpump_Aerial -> Heat_Low_Building",
         "line": {
          "color": "#b4f88f"
         },
         "name": "HLR_Heatpump_Aerial -> Heat_Low_Building",
         "showlegend": false,
         "stackgroup": "one",
         "type": "scatter",
         "x": [
          2030
         ],
         "y": [
          164.80991033580227
         ]
        },
        {
         "fillcolor": "#b4f88f",
         "legendgroup": "HLR_Heatpump_Aerial -> Heat_Low_Building",
         "line": {
          "color": "#b4f88f"
         },
         "name": "HLR_Heatpump_Aerial -> Heat_Low_Building",
         "showlegend": false,
         "stackgroup": "one",
         "type": "scatter",
         "x": [
          2035
         ],
         "y": [
          154.16285013096606
         ]
        },
        {
         "fillcolor": "#b4f88f",
         "legendgroup": "HLR_Heatpump_Aerial -> Heat_Low_Building",
         "line": {
          "color": "#b4f88f"
         },
         "name": "HLR_Heatpump_Aerial -> Heat_Low_Building",
         "showlegend": false,
         "stackgroup": "one",
         "type": "scatter",
         "x": [
          2040
         ],
         "y": [
          155.22945892885184
         ]
        },
        {
         "fillcolor": "#b4f88f",
         "legendgroup": "HLR_Heatpump_Aerial -> Heat_Low_Building",
         "line": {
          "color": "#b4f88f"
         },
         "name": "HLR_Heatpump_Aerial -> Heat_Low_Building",
         "showlegend": false,
         "stackgroup": "one",
         "type": "scatter",
         "x": [
          2045
         ],
         "y": [
          182.9621035402721
         ]
        },
        {
         "fillcolor": "#b4f88f",
         "legendgroup": "HLR_Heatpump_Aerial -> Heat_Low_Building",
         "line": {
          "color": "#b4f88f"
         },
         "name": "HLR_Heatpump_Aerial -> Heat_Low_Building",
         "showlegend": false,
         "stackgroup": "one",
         "type": "scatter",
         "x": [
          2050
         ],
         "y": [
          203.54098314414455
         ]
        },
        {
         "fillcolor": "#fab7de",
         "legendgroup": "HLR_Heatpump_Ground -> Heat_Low_Building",
         "line": {
          "color": "#fab7de"
         },
         "name": "HLR_Heatpump_Ground -> Heat_Low_Building",
         "showlegend": true,
         "stackgroup": "one",
         "type": "scatter",
         "x": [
          2018
         ],
         "y": [
          0
         ]
        },
        {
         "fillcolor": "#fab7de",
         "legendgroup": "HLR_Heatpump_Ground -> Heat_Low_Building",
         "line": {
          "color": "#fab7de"
         },
         "name": "HLR_Heatpump_Ground -> Heat_Low_Building",
         "showlegend": false,
         "stackgroup": "one",
         "type": "scatter",
         "x": [
          2025
         ],
         "y": [
          688.3578523221249
         ]
        },
        {
         "fillcolor": "#fab7de",
         "legendgroup": "HLR_Heatpump_Ground -> Heat_Low_Building",
         "line": {
          "color": "#fab7de"
         },
         "name": "HLR_Heatpump_Ground -> Heat_Low_Building",
         "showlegend": false,
         "stackgroup": "one",
         "type": "scatter",
         "x": [
          2030
         ],
         "y": [
          1006.1048053791801
         ]
        },
        {
         "fillcolor": "#fab7de",
         "legendgroup": "HLR_Heatpump_Ground -> Heat_Low_Building",
         "line": {
          "color": "#fab7de"
         },
         "name": "HLR_Heatpump_Ground -> Heat_Low_Building",
         "showlegend": false,
         "stackgroup": "one",
         "type": "scatter",
         "x": [
          2035
         ],
         "y": [
          1131.795304758601
         ]
        },
        {
         "fillcolor": "#fab7de",
         "legendgroup": "HLR_Heatpump_Ground -> Heat_Low_Building",
         "line": {
          "color": "#fab7de"
         },
         "name": "HLR_Heatpump_Ground -> Heat_Low_Building",
         "showlegend": false,
         "stackgroup": "one",
         "type": "scatter",
         "x": [
          2040
         ],
         "y": [
          1058.403066240447
         ]
        },
        {
         "fillcolor": "#fab7de",
         "legendgroup": "HLR_Heatpump_Ground -> Heat_Low_Building",
         "line": {
          "color": "#fab7de"
         },
         "name": "HLR_Heatpump_Ground -> Heat_Low_Building",
         "showlegend": false,
         "stackgroup": "one",
         "type": "scatter",
         "x": [
          2045
         ],
         "y": [
          812.5119730943665
         ]
        },
        {
         "fillcolor": "#fab7de",
         "legendgroup": "HLR_Heatpump_Ground -> Heat_Low_Building",
         "line": {
          "color": "#fab7de"
         },
         "name": "HLR_Heatpump_Ground -> Heat_Low_Building",
         "showlegend": false,
         "stackgroup": "one",
         "type": "scatter",
         "x": [
          2050
         ],
         "y": [
          539.6981824638535
         ]
        },
        {
         "fillcolor": "#c8bfce",
         "legendgroup": "HLR_Oil_Boiler -> Heat_Low_Building",
         "line": {
          "color": "#c8bfce"
         },
         "name": "HLR_Oil_Boiler -> Heat_Low_Building",
         "showlegend": true,
         "stackgroup": "one",
         "type": "scatter",
         "x": [
          2018
         ],
         "y": [
          0.6382091806244719
         ]
        },
        {
         "fillcolor": "#c8bfce",
         "legendgroup": "HLR_Oil_Boiler -> Heat_Low_Building",
         "line": {
          "color": "#c8bfce"
         },
         "name": "HLR_Oil_Boiler -> Heat_Low_Building",
         "showlegend": false,
         "stackgroup": "one",
         "type": "scatter",
         "x": [
          2025
         ],
         "y": [
          1.43137232
         ]
        },
        {
         "fillcolor": "#c8bfce",
         "legendgroup": "HLR_Oil_Boiler -> Heat_Low_Building",
         "line": {
          "color": "#c8bfce"
         },
         "name": "HLR_Oil_Boiler -> Heat_Low_Building",
         "showlegend": false,
         "stackgroup": "one",
         "type": "scatter",
         "x": [
          2030
         ],
         "y": [
          0.8588615466666666
         ]
        },
        {
         "fillcolor": "#c8bfce",
         "legendgroup": "HLR_Oil_Boiler -> Heat_Low_Building",
         "line": {
          "color": "#c8bfce"
         },
         "name": "HLR_Oil_Boiler -> Heat_Low_Building",
         "showlegend": false,
         "stackgroup": "one",
         "type": "scatter",
         "x": [
          2035
         ],
         "y": [
          0
         ]
        },
        {
         "fillcolor": "#c8bfce",
         "legendgroup": "HLR_Oil_Boiler -> Heat_Low_Building",
         "line": {
          "color": "#c8bfce"
         },
         "name": "HLR_Oil_Boiler -> Heat_Low_Building",
         "showlegend": false,
         "stackgroup": "one",
         "type": "scatter",
         "x": [
          2040
         ],
         "y": [
          0
         ]
        },
        {
         "fillcolor": "#c8bfce",
         "legendgroup": "HLR_Oil_Boiler -> Heat_Low_Building",
         "line": {
          "color": "#c8bfce"
         },
         "name": "HLR_Oil_Boiler -> Heat_Low_Building",
         "showlegend": false,
         "stackgroup": "one",
         "type": "scatter",
         "x": [
          2045
         ],
         "y": [
          0
         ]
        },
        {
         "fillcolor": "#c8bfce",
         "legendgroup": "HLR_Oil_Boiler -> Heat_Low_Building",
         "line": {
          "color": "#c8bfce"
         },
         "name": "HLR_Oil_Boiler -> Heat_Low_Building",
         "showlegend": false,
         "stackgroup": "one",
         "type": "scatter",
         "x": [
          2050
         ],
         "y": [
          0
         ]
        },
        {
         "fillcolor": "#ea98b2",
         "legendgroup": "HMI_Biomass -> Heat_Medium_Industrial",
         "line": {
          "color": "#ea98b2"
         },
         "name": "HMI_Biomass -> Heat_Medium_Industrial",
         "showlegend": true,
         "stackgroup": "one",
         "type": "scatter",
         "x": [
          2018
         ],
         "y": [
          70.97801851733786
         ]
        },
        {
         "fillcolor": "#ea98b2",
         "legendgroup": "HMI_Biomass -> Heat_Medium_Industrial",
         "line": {
          "color": "#ea98b2"
         },
         "name": "HMI_Biomass -> Heat_Medium_Industrial",
         "showlegend": false,
         "stackgroup": "one",
         "type": "scatter",
         "x": [
          2025
         ],
         "y": [
          217.6375069995135
         ]
        },
        {
         "fillcolor": "#ea98b2",
         "legendgroup": "HMI_Biomass -> Heat_Medium_Industrial",
         "line": {
          "color": "#ea98b2"
         },
         "name": "HMI_Biomass -> Heat_Medium_Industrial",
         "showlegend": false,
         "stackgroup": "one",
         "type": "scatter",
         "x": [
          2030
         ],
         "y": [
          356.21994698586747
         ]
        },
        {
         "fillcolor": "#ea98b2",
         "legendgroup": "HMI_Biomass -> Heat_Medium_Industrial",
         "line": {
          "color": "#ea98b2"
         },
         "name": "HMI_Biomass -> Heat_Medium_Industrial",
         "showlegend": false,
         "stackgroup": "one",
         "type": "scatter",
         "x": [
          2035
         ],
         "y": [
          453.3055129336949
         ]
        },
        {
         "fillcolor": "#ea98b2",
         "legendgroup": "HMI_Biomass -> Heat_Medium_Industrial",
         "line": {
          "color": "#ea98b2"
         },
         "name": "HMI_Biomass -> Heat_Medium_Industrial",
         "showlegend": false,
         "stackgroup": "one",
         "type": "scatter",
         "x": [
          2040
         ],
         "y": [
          394.67988176261997
         ]
        },
        {
         "fillcolor": "#ea98b2",
         "legendgroup": "HMI_Biomass -> Heat_Medium_Industrial",
         "line": {
          "color": "#ea98b2"
         },
         "name": "HMI_Biomass -> Heat_Medium_Industrial",
         "showlegend": false,
         "stackgroup": "one",
         "type": "scatter",
         "x": [
          2045
         ],
         "y": [
          359.64318305265925
         ]
        },
        {
         "fillcolor": "#ea98b2",
         "legendgroup": "HMI_Biomass -> Heat_Medium_Industrial",
         "line": {
          "color": "#ea98b2"
         },
         "name": "HMI_Biomass -> Heat_Medium_Industrial",
         "showlegend": false,
         "stackgroup": "one",
         "type": "scatter",
         "x": [
          2050
         ],
         "y": [
          385.07095750995586
         ]
        },
        {
         "fillcolor": "#f581e7",
         "legendgroup": "HMI_Gas -> Heat_Medium_Industrial",
         "line": {
          "color": "#f581e7"
         },
         "name": "HMI_Gas -> Heat_Medium_Industrial",
         "showlegend": true,
         "stackgroup": "one",
         "type": "scatter",
         "x": [
          2018
         ],
         "y": [
          661.601332878559
         ]
        },
        {
         "fillcolor": "#f581e7",
         "legendgroup": "HMI_Gas -> Heat_Medium_Industrial",
         "line": {
          "color": "#f581e7"
         },
         "name": "HMI_Gas -> Heat_Medium_Industrial",
         "showlegend": false,
         "stackgroup": "one",
         "type": "scatter",
         "x": [
          2025
         ],
         "y": [
          395.0765727551622
         ]
        },
        {
         "fillcolor": "#f581e7",
         "legendgroup": "HMI_Gas -> Heat_Medium_Industrial",
         "line": {
          "color": "#f581e7"
         },
         "name": "HMI_Gas -> Heat_Medium_Industrial",
         "showlegend": false,
         "stackgroup": "one",
         "type": "scatter",
         "x": [
          2030
         ],
         "y": [
          258.46294467035653
         ]
        },
        {
         "fillcolor": "#f581e7",
         "legendgroup": "HMI_Gas -> Heat_Medium_Industrial",
         "line": {
          "color": "#f581e7"
         },
         "name": "HMI_Gas -> Heat_Medium_Industrial",
         "showlegend": false,
         "stackgroup": "one",
         "type": "scatter",
         "x": [
          2035
         ],
         "y": [
          36.98746171792699
         ]
        },
        {
         "fillcolor": "#f581e7",
         "legendgroup": "HMI_Gas -> Heat_Medium_Industrial",
         "line": {
          "color": "#f581e7"
         },
         "name": "HMI_Gas -> Heat_Medium_Industrial",
         "showlegend": false,
         "stackgroup": "one",
         "type": "scatter",
         "x": [
          2040
         ],
         "y": [
          14.241184083681587
         ]
        },
        {
         "fillcolor": "#f581e7",
         "legendgroup": "HMI_Gas -> Heat_Medium_Industrial",
         "line": {
          "color": "#f581e7"
         },
         "name": "HMI_Gas -> Heat_Medium_Industrial",
         "showlegend": false,
         "stackgroup": "one",
         "type": "scatter",
         "x": [
          2045
         ],
         "y": [
          20.99130700907373
         ]
        },
        {
         "fillcolor": "#f581e7",
         "legendgroup": "HMI_Gas -> Heat_Medium_Industrial",
         "line": {
          "color": "#f581e7"
         },
         "name": "HMI_Gas -> Heat_Medium_Industrial",
         "showlegend": false,
         "stackgroup": "one",
         "type": "scatter",
         "x": [
          2050
         ],
         "y": [
          37.88982714758785
         ]
        },
        {
         "fillcolor": "#d58bec",
         "legendgroup": "HMI_HardCoal -> Heat_Medium_Industrial",
         "line": {
          "color": "#d58bec"
         },
         "name": "HMI_HardCoal -> Heat_Medium_Industrial",
         "showlegend": true,
         "stackgroup": "one",
         "type": "scatter",
         "x": [
          2018
         ],
         "y": [
          188.41277558750022
         ]
        },
        {
         "fillcolor": "#d58bec",
         "legendgroup": "HMI_HardCoal -> Heat_Medium_Industrial",
         "line": {
          "color": "#d58bec"
         },
         "name": "HMI_HardCoal -> Heat_Medium_Industrial",
         "showlegend": false,
         "stackgroup": "one",
         "type": "scatter",
         "x": [
          2025
         ],
         "y": [
          98.69892869366656
         ]
        },
        {
         "fillcolor": "#d58bec",
         "legendgroup": "HMI_HardCoal -> Heat_Medium_Industrial",
         "line": {
          "color": "#d58bec"
         },
         "name": "HMI_HardCoal -> Heat_Medium_Industrial",
         "showlegend": false,
         "stackgroup": "one",
         "type": "scatter",
         "x": [
          2030
         ],
         "y": [
          0
         ]
        },
        {
         "fillcolor": "#d58bec",
         "legendgroup": "HMI_HardCoal -> Heat_Medium_Industrial",
         "line": {
          "color": "#d58bec"
         },
         "name": "HMI_HardCoal -> Heat_Medium_Industrial",
         "showlegend": false,
         "stackgroup": "one",
         "type": "scatter",
         "x": [
          2035
         ],
         "y": [
          0
         ]
        },
        {
         "fillcolor": "#d58bec",
         "legendgroup": "HMI_HardCoal -> Heat_Medium_Industrial",
         "line": {
          "color": "#d58bec"
         },
         "name": "HMI_HardCoal -> Heat_Medium_Industrial",
         "showlegend": false,
         "stackgroup": "one",
         "type": "scatter",
         "x": [
          2040
         ],
         "y": [
          0
         ]
        },
        {
         "fillcolor": "#d58bec",
         "legendgroup": "HMI_HardCoal -> Heat_Medium_Industrial",
         "line": {
          "color": "#d58bec"
         },
         "name": "HMI_HardCoal -> Heat_Medium_Industrial",
         "showlegend": false,
         "stackgroup": "one",
         "type": "scatter",
         "x": [
          2045
         ],
         "y": [
          0
         ]
        },
        {
         "fillcolor": "#d58bec",
         "legendgroup": "HMI_HardCoal -> Heat_Medium_Industrial",
         "line": {
          "color": "#d58bec"
         },
         "name": "HMI_HardCoal -> Heat_Medium_Industrial",
         "showlegend": false,
         "stackgroup": "one",
         "type": "scatter",
         "x": [
          2050
         ],
         "y": [
          0
         ]
        },
        {
         "fillcolor": "#d8c0ee",
         "legendgroup": "HMI_Oil -> Heat_Medium_Industrial",
         "line": {
          "color": "#d8c0ee"
         },
         "name": "HMI_Oil -> Heat_Medium_Industrial",
         "showlegend": true,
         "stackgroup": "one",
         "type": "scatter",
         "x": [
          2018
         ],
         "y": [
          0.35209174660280146
         ]
        },
        {
         "fillcolor": "#d8c0ee",
         "legendgroup": "HMI_Oil -> Heat_Medium_Industrial",
         "line": {
          "color": "#d8c0ee"
         },
         "name": "HMI_Oil -> Heat_Medium_Industrial",
         "showlegend": false,
         "stackgroup": "one",
         "type": "scatter",
         "x": [
          2025
         ],
         "y": [
          0
         ]
        },
        {
         "fillcolor": "#d8c0ee",
         "legendgroup": "HMI_Oil -> Heat_Medium_Industrial",
         "line": {
          "color": "#d8c0ee"
         },
         "name": "HMI_Oil -> Heat_Medium_Industrial",
         "showlegend": false,
         "stackgroup": "one",
         "type": "scatter",
         "x": [
          2030
         ],
         "y": [
          0
         ]
        },
        {
         "fillcolor": "#d8c0ee",
         "legendgroup": "HMI_Oil -> Heat_Medium_Industrial",
         "line": {
          "color": "#d8c0ee"
         },
         "name": "HMI_Oil -> Heat_Medium_Industrial",
         "showlegend": false,
         "stackgroup": "one",
         "type": "scatter",
         "x": [
          2035
         ],
         "y": [
          0
         ]
        },
        {
         "fillcolor": "#d8c0ee",
         "legendgroup": "HMI_Oil -> Heat_Medium_Industrial",
         "line": {
          "color": "#d8c0ee"
         },
         "name": "HMI_Oil -> Heat_Medium_Industrial",
         "showlegend": false,
         "stackgroup": "one",
         "type": "scatter",
         "x": [
          2040
         ],
         "y": [
          0
         ]
        },
        {
         "fillcolor": "#d8c0ee",
         "legendgroup": "HMI_Oil -> Heat_Medium_Industrial",
         "line": {
          "color": "#d8c0ee"
         },
         "name": "HMI_Oil -> Heat_Medium_Industrial",
         "showlegend": false,
         "stackgroup": "one",
         "type": "scatter",
         "x": [
          2045
         ],
         "y": [
          0
         ]
        },
        {
         "fillcolor": "#d8c0ee",
         "legendgroup": "HMI_Oil -> Heat_Medium_Industrial",
         "line": {
          "color": "#d8c0ee"
         },
         "name": "HMI_Oil -> Heat_Medium_Industrial",
         "showlegend": false,
         "stackgroup": "one",
         "type": "scatter",
         "x": [
          2050
         ],
         "y": [
          0
         ]
        },
        {
         "fillcolor": "#d1c6ea",
         "legendgroup": "HMI_Steam_Electric -> Heat_Medium_Industrial",
         "line": {
          "color": "#d1c6ea"
         },
         "name": "HMI_Steam_Electric -> Heat_Medium_Industrial",
         "showlegend": true,
         "stackgroup": "one",
         "type": "scatter",
         "x": [
          2018
         ],
         "y": [
          5.061693466666666
         ]
        },
        {
         "fillcolor": "#d1c6ea",
         "legendgroup": "HMI_Steam_Electric -> Heat_Medium_Industrial",
         "line": {
          "color": "#d1c6ea"
         },
         "name": "HMI_Steam_Electric -> Heat_Medium_Industrial",
         "showlegend": false,
         "stackgroup": "one",
         "type": "scatter",
         "x": [
          2025
         ],
         "y": [
          182.64427425332428
         ]
        },
        {
         "fillcolor": "#d1c6ea",
         "legendgroup": "HMI_Steam_Electric -> Heat_Medium_Industrial",
         "line": {
          "color": "#d1c6ea"
         },
         "name": "HMI_Steam_Electric -> Heat_Medium_Industrial",
         "showlegend": false,
         "stackgroup": "one",
         "type": "scatter",
         "x": [
          2030
         ],
         "y": [
          267.576154942387
         ]
        },
        {
         "fillcolor": "#d1c6ea",
         "legendgroup": "HMI_Steam_Electric -> Heat_Medium_Industrial",
         "line": {
          "color": "#d1c6ea"
         },
         "name": "HMI_Steam_Electric -> Heat_Medium_Industrial",
         "showlegend": false,
         "stackgroup": "one",
         "type": "scatter",
         "x": [
          2035
         ],
         "y": [
          380.16783585504476
         ]
        },
        {
         "fillcolor": "#d1c6ea",
         "legendgroup": "HMI_Steam_Electric -> Heat_Medium_Industrial",
         "line": {
          "color": "#d1c6ea"
         },
         "name": "HMI_Steam_Electric -> Heat_Medium_Industrial",
         "showlegend": false,
         "stackgroup": "one",
         "type": "scatter",
         "x": [
          2040
         ],
         "y": [
          449.74150859647614
         ]
        },
        {
         "fillcolor": "#d1c6ea",
         "legendgroup": "HMI_Steam_Electric -> Heat_Medium_Industrial",
         "line": {
          "color": "#d1c6ea"
         },
         "name": "HMI_Steam_Electric -> Heat_Medium_Industrial",
         "showlegend": false,
         "stackgroup": "one",
         "type": "scatter",
         "x": [
          2045
         ],
         "y": [
          466.22984828854476
         ]
        },
        {
         "fillcolor": "#d1c6ea",
         "legendgroup": "HMI_Steam_Electric -> Heat_Medium_Industrial",
         "line": {
          "color": "#d1c6ea"
         },
         "name": "HMI_Steam_Electric -> Heat_Medium_Industrial",
         "showlegend": false,
         "stackgroup": "one",
         "type": "scatter",
         "x": [
          2050
         ],
         "y": [
          412.1053175985674
         ]
        }
       ],
       "layout": {
        "barmode": "stack",
        "font": {
         "size": 22
        },
        "height": 1100,
        "template": {
         "data": {
          "bar": [
           {
            "error_x": {
             "color": "#2a3f5f"
            },
            "error_y": {
             "color": "#2a3f5f"
            },
            "marker": {
             "line": {
              "color": "#E5ECF6",
              "width": 0.5
             },
             "pattern": {
              "fillmode": "overlay",
              "size": 10,
              "solidity": 0.2
             }
            },
            "type": "bar"
           }
          ],
          "barpolar": [
           {
            "marker": {
             "line": {
              "color": "#E5ECF6",
              "width": 0.5
             },
             "pattern": {
              "fillmode": "overlay",
              "size": 10,
              "solidity": 0.2
             }
            },
            "type": "barpolar"
           }
          ],
          "carpet": [
           {
            "aaxis": {
             "endlinecolor": "#2a3f5f",
             "gridcolor": "white",
             "linecolor": "white",
             "minorgridcolor": "white",
             "startlinecolor": "#2a3f5f"
            },
            "baxis": {
             "endlinecolor": "#2a3f5f",
             "gridcolor": "white",
             "linecolor": "white",
             "minorgridcolor": "white",
             "startlinecolor": "#2a3f5f"
            },
            "type": "carpet"
           }
          ],
          "choropleth": [
           {
            "colorbar": {
             "outlinewidth": 0,
             "ticks": ""
            },
            "type": "choropleth"
           }
          ],
          "contour": [
           {
            "colorbar": {
             "outlinewidth": 0,
             "ticks": ""
            },
            "colorscale": [
             [
              0,
              "#0d0887"
             ],
             [
              0.1111111111111111,
              "#46039f"
             ],
             [
              0.2222222222222222,
              "#7201a8"
             ],
             [
              0.3333333333333333,
              "#9c179e"
             ],
             [
              0.4444444444444444,
              "#bd3786"
             ],
             [
              0.5555555555555556,
              "#d8576b"
             ],
             [
              0.6666666666666666,
              "#ed7953"
             ],
             [
              0.7777777777777778,
              "#fb9f3a"
             ],
             [
              0.8888888888888888,
              "#fdca26"
             ],
             [
              1,
              "#f0f921"
             ]
            ],
            "type": "contour"
           }
          ],
          "contourcarpet": [
           {
            "colorbar": {
             "outlinewidth": 0,
             "ticks": ""
            },
            "type": "contourcarpet"
           }
          ],
          "heatmap": [
           {
            "colorbar": {
             "outlinewidth": 0,
             "ticks": ""
            },
            "colorscale": [
             [
              0,
              "#0d0887"
             ],
             [
              0.1111111111111111,
              "#46039f"
             ],
             [
              0.2222222222222222,
              "#7201a8"
             ],
             [
              0.3333333333333333,
              "#9c179e"
             ],
             [
              0.4444444444444444,
              "#bd3786"
             ],
             [
              0.5555555555555556,
              "#d8576b"
             ],
             [
              0.6666666666666666,
              "#ed7953"
             ],
             [
              0.7777777777777778,
              "#fb9f3a"
             ],
             [
              0.8888888888888888,
              "#fdca26"
             ],
             [
              1,
              "#f0f921"
             ]
            ],
            "type": "heatmap"
           }
          ],
          "heatmapgl": [
           {
            "colorbar": {
             "outlinewidth": 0,
             "ticks": ""
            },
            "colorscale": [
             [
              0,
              "#0d0887"
             ],
             [
              0.1111111111111111,
              "#46039f"
             ],
             [
              0.2222222222222222,
              "#7201a8"
             ],
             [
              0.3333333333333333,
              "#9c179e"
             ],
             [
              0.4444444444444444,
              "#bd3786"
             ],
             [
              0.5555555555555556,
              "#d8576b"
             ],
             [
              0.6666666666666666,
              "#ed7953"
             ],
             [
              0.7777777777777778,
              "#fb9f3a"
             ],
             [
              0.8888888888888888,
              "#fdca26"
             ],
             [
              1,
              "#f0f921"
             ]
            ],
            "type": "heatmapgl"
           }
          ],
          "histogram": [
           {
            "marker": {
             "pattern": {
              "fillmode": "overlay",
              "size": 10,
              "solidity": 0.2
             }
            },
            "type": "histogram"
           }
          ],
          "histogram2d": [
           {
            "colorbar": {
             "outlinewidth": 0,
             "ticks": ""
            },
            "colorscale": [
             [
              0,
              "#0d0887"
             ],
             [
              0.1111111111111111,
              "#46039f"
             ],
             [
              0.2222222222222222,
              "#7201a8"
             ],
             [
              0.3333333333333333,
              "#9c179e"
             ],
             [
              0.4444444444444444,
              "#bd3786"
             ],
             [
              0.5555555555555556,
              "#d8576b"
             ],
             [
              0.6666666666666666,
              "#ed7953"
             ],
             [
              0.7777777777777778,
              "#fb9f3a"
             ],
             [
              0.8888888888888888,
              "#fdca26"
             ],
             [
              1,
              "#f0f921"
             ]
            ],
            "type": "histogram2d"
           }
          ],
          "histogram2dcontour": [
           {
            "colorbar": {
             "outlinewidth": 0,
             "ticks": ""
            },
            "colorscale": [
             [
              0,
              "#0d0887"
             ],
             [
              0.1111111111111111,
              "#46039f"
             ],
             [
              0.2222222222222222,
              "#7201a8"
             ],
             [
              0.3333333333333333,
              "#9c179e"
             ],
             [
              0.4444444444444444,
              "#bd3786"
             ],
             [
              0.5555555555555556,
              "#d8576b"
             ],
             [
              0.6666666666666666,
              "#ed7953"
             ],
             [
              0.7777777777777778,
              "#fb9f3a"
             ],
             [
              0.8888888888888888,
              "#fdca26"
             ],
             [
              1,
              "#f0f921"
             ]
            ],
            "type": "histogram2dcontour"
           }
          ],
          "mesh3d": [
           {
            "colorbar": {
             "outlinewidth": 0,
             "ticks": ""
            },
            "type": "mesh3d"
           }
          ],
          "parcoords": [
           {
            "line": {
             "colorbar": {
              "outlinewidth": 0,
              "ticks": ""
             }
            },
            "type": "parcoords"
           }
          ],
          "pie": [
           {
            "automargin": true,
            "type": "pie"
           }
          ],
          "scatter": [
           {
            "fillpattern": {
             "fillmode": "overlay",
             "size": 10,
             "solidity": 0.2
            },
            "type": "scatter"
           }
          ],
          "scatter3d": [
           {
            "line": {
             "colorbar": {
              "outlinewidth": 0,
              "ticks": ""
             }
            },
            "marker": {
             "colorbar": {
              "outlinewidth": 0,
              "ticks": ""
             }
            },
            "type": "scatter3d"
           }
          ],
          "scattercarpet": [
           {
            "marker": {
             "colorbar": {
              "outlinewidth": 0,
              "ticks": ""
             }
            },
            "type": "scattercarpet"
           }
          ],
          "scattergeo": [
           {
            "marker": {
             "colorbar": {
              "outlinewidth": 0,
              "ticks": ""
             }
            },
            "type": "scattergeo"
           }
          ],
          "scattergl": [
           {
            "marker": {
             "colorbar": {
              "outlinewidth": 0,
              "ticks": ""
             }
            },
            "type": "scattergl"
           }
          ],
          "scattermapbox": [
           {
            "marker": {
             "colorbar": {
              "outlinewidth": 0,
              "ticks": ""
             }
            },
            "type": "scattermapbox"
           }
          ],
          "scatterpolar": [
           {
            "marker": {
             "colorbar": {
              "outlinewidth": 0,
              "ticks": ""
             }
            },
            "type": "scatterpolar"
           }
          ],
          "scatterpolargl": [
           {
            "marker": {
             "colorbar": {
              "outlinewidth": 0,
              "ticks": ""
             }
            },
            "type": "scatterpolargl"
           }
          ],
          "scatterternary": [
           {
            "marker": {
             "colorbar": {
              "outlinewidth": 0,
              "ticks": ""
             }
            },
            "type": "scatterternary"
           }
          ],
          "surface": [
           {
            "colorbar": {
             "outlinewidth": 0,
             "ticks": ""
            },
            "colorscale": [
             [
              0,
              "#0d0887"
             ],
             [
              0.1111111111111111,
              "#46039f"
             ],
             [
              0.2222222222222222,
              "#7201a8"
             ],
             [
              0.3333333333333333,
              "#9c179e"
             ],
             [
              0.4444444444444444,
              "#bd3786"
             ],
             [
              0.5555555555555556,
              "#d8576b"
             ],
             [
              0.6666666666666666,
              "#ed7953"
             ],
             [
              0.7777777777777778,
              "#fb9f3a"
             ],
             [
              0.8888888888888888,
              "#fdca26"
             ],
             [
              1,
              "#f0f921"
             ]
            ],
            "type": "surface"
           }
          ],
          "table": [
           {
            "cells": {
             "fill": {
              "color": "#EBF0F8"
             },
             "line": {
              "color": "white"
             }
            },
            "header": {
             "fill": {
              "color": "#C8D4E3"
             },
             "line": {
              "color": "white"
             }
            },
            "type": "table"
           }
          ]
         },
         "layout": {
          "annotationdefaults": {
           "arrowcolor": "#2a3f5f",
           "arrowhead": 0,
           "arrowwidth": 1
          },
          "autotypenumbers": "strict",
          "coloraxis": {
           "colorbar": {
            "outlinewidth": 0,
            "ticks": ""
           }
          },
          "colorscale": {
           "diverging": [
            [
             0,
             "#8e0152"
            ],
            [
             0.1,
             "#c51b7d"
            ],
            [
             0.2,
             "#de77ae"
            ],
            [
             0.3,
             "#f1b6da"
            ],
            [
             0.4,
             "#fde0ef"
            ],
            [
             0.5,
             "#f7f7f7"
            ],
            [
             0.6,
             "#e6f5d0"
            ],
            [
             0.7,
             "#b8e186"
            ],
            [
             0.8,
             "#7fbc41"
            ],
            [
             0.9,
             "#4d9221"
            ],
            [
             1,
             "#276419"
            ]
           ],
           "sequential": [
            [
             0,
             "#0d0887"
            ],
            [
             0.1111111111111111,
             "#46039f"
            ],
            [
             0.2222222222222222,
             "#7201a8"
            ],
            [
             0.3333333333333333,
             "#9c179e"
            ],
            [
             0.4444444444444444,
             "#bd3786"
            ],
            [
             0.5555555555555556,
             "#d8576b"
            ],
            [
             0.6666666666666666,
             "#ed7953"
            ],
            [
             0.7777777777777778,
             "#fb9f3a"
            ],
            [
             0.8888888888888888,
             "#fdca26"
            ],
            [
             1,
             "#f0f921"
            ]
           ],
           "sequentialminus": [
            [
             0,
             "#0d0887"
            ],
            [
             0.1111111111111111,
             "#46039f"
            ],
            [
             0.2222222222222222,
             "#7201a8"
            ],
            [
             0.3333333333333333,
             "#9c179e"
            ],
            [
             0.4444444444444444,
             "#bd3786"
            ],
            [
             0.5555555555555556,
             "#d8576b"
            ],
            [
             0.6666666666666666,
             "#ed7953"
            ],
            [
             0.7777777777777778,
             "#fb9f3a"
            ],
            [
             0.8888888888888888,
             "#fdca26"
            ],
            [
             1,
             "#f0f921"
            ]
           ]
          },
          "colorway": [
           "#636efa",
           "#EF553B",
           "#00cc96",
           "#ab63fa",
           "#FFA15A",
           "#19d3f3",
           "#FF6692",
           "#B6E880",
           "#FF97FF",
           "#FECB52"
          ],
          "font": {
           "color": "#2a3f5f"
          },
          "geo": {
           "bgcolor": "white",
           "lakecolor": "white",
           "landcolor": "#E5ECF6",
           "showlakes": true,
           "showland": true,
           "subunitcolor": "white"
          },
          "hoverlabel": {
           "align": "left"
          },
          "hovermode": "closest",
          "mapbox": {
           "style": "light"
          },
          "paper_bgcolor": "white",
          "plot_bgcolor": "#E5ECF6",
          "polar": {
           "angularaxis": {
            "gridcolor": "white",
            "linecolor": "white",
            "ticks": ""
           },
           "bgcolor": "#E5ECF6",
           "radialaxis": {
            "gridcolor": "white",
            "linecolor": "white",
            "ticks": ""
           }
          },
          "scene": {
           "xaxis": {
            "backgroundcolor": "#E5ECF6",
            "gridcolor": "white",
            "gridwidth": 2,
            "linecolor": "white",
            "showbackground": true,
            "ticks": "",
            "zerolinecolor": "white"
           },
           "yaxis": {
            "backgroundcolor": "#E5ECF6",
            "gridcolor": "white",
            "gridwidth": 2,
            "linecolor": "white",
            "showbackground": true,
            "ticks": "",
            "zerolinecolor": "white"
           },
           "zaxis": {
            "backgroundcolor": "#E5ECF6",
            "gridcolor": "white",
            "gridwidth": 2,
            "linecolor": "white",
            "showbackground": true,
            "ticks": "",
            "zerolinecolor": "white"
           }
          },
          "shapedefaults": {
           "line": {
            "color": "#2a3f5f"
           }
          },
          "ternary": {
           "aaxis": {
            "gridcolor": "white",
            "linecolor": "white",
            "ticks": ""
           },
           "baxis": {
            "gridcolor": "white",
            "linecolor": "white",
            "ticks": ""
           },
           "bgcolor": "#E5ECF6",
           "caxis": {
            "gridcolor": "white",
            "linecolor": "white",
            "ticks": ""
           }
          },
          "title": {
           "x": 0.05
          },
          "xaxis": {
           "automargin": true,
           "gridcolor": "white",
           "linecolor": "white",
           "ticks": "",
           "title": {
            "standoff": 15
           },
           "zerolinecolor": "white",
           "zerolinewidth": 2
          },
          "yaxis": {
           "automargin": true,
           "gridcolor": "white",
           "linecolor": "white",
           "ticks": "",
           "title": {
            "standoff": 15
           },
           "zerolinecolor": "white",
           "zerolinewidth": 2
          }
         }
        },
        "title": {
         "text": "Production of Low District Heat, Region: All - Season"
        },
        "width": 1400,
        "xaxis": {
         "title": {
          "text": "Year"
         }
        },
        "yaxis": {
         "title": {
          "text": "Production [TWh]"
         }
        }
       }
      }
     },
     "metadata": {},
     "output_type": "display_data"
    }
   ],
   "source": [
    "region = \"All\"\n",
    "\n",
    "#production_fuel = ProductionByTechnologyForFuelStackedQuantityEvolutionFacilitator(SOLUTION_FILEPATH, region=region,\n",
    "#                                                                                   fuels=[\"Heat_Low_Building\"])\n",
    "\n",
    "production_fuel = ProductionByTechnologyForFuelStackedQuantityEvolutionFacilitator(SOLUTION_FILEPATH, region=region,\n",
    "                                                                                   fuels=['Heat_Low_Residential', 'Heat_Low_Industrial', 'Heat_Medium_Industrial', \n",
    "                                                                                          'Heat_High_Industrial', 'Cool_Low_Building', 'Heat_District', 'Heat_Low_Building'])\n",
    "\n",
    "relevant_data = production_fuel.get_relevant_data()\n",
    "\n",
    "if region == \"All\":\n",
    "    relevant_data.aggreagate_all_by_sum(column_to_aggregate=\"Region\", aggregated_entry_name=\"All\", column_to_sum=\"Value\")\n",
    "\n",
    "# Keep techs not containing \"D_\"\n",
    "relevant_data.df = relevant_data.df[~relevant_data.df[\"Technology\"].str.contains(\"D_\")]\n",
    "\n",
    "# If \"Value\" is bigger than zero for a specific tech combined with a fuel for any year, keep all\n",
    "tech_and_fuels_over_zero = relevant_data.df[relevant_data.df[\"Value\"] > 0][[\"Technology\", \"Fuel\"]].drop_duplicates()\n",
    "\n",
    "relevant_data.df = relevant_data.df.merge(tech_and_fuels_over_zero, on=[\"Technology\", \"Fuel\"], how=\"inner\")\n",
    "\n",
    "fig = production_fuel.plot(relevant_data)\n",
    "fig.update_layout(title=f\"Production of Low District Heat, Region: {region}\" + TITLE_ADDON)\n",
    "\n",
    "fig.update_layout(width=1400, height=1100)\n",
    "\n",
    "#if WRITE_IMAGE:\n",
    "fig.write_image(f\"ProductionLowDistrictHeat_{region}\" + TITLE_ADDON.replace(\" \", \"\") + \".png\")\n",
    "\n",
    "fig.show()"
   ]
  },
  {
   "cell_type": "markdown",
   "metadata": {},
   "source": [
    "# Total annual usage"
   ]
  },
  {
   "cell_type": "code",
   "execution_count": 43,
   "metadata": {},
   "outputs": [
    {
     "name": "stdout",
     "output_type": "stream",
     "text": [
      "Converting from PetaJoules to TerraWattHours\n"
     ]
    },
    {
     "data": {
      "application/vnd.plotly.v1+json": {
       "config": {
        "plotlyServerURL": "https://plot.ly"
       },
       "data": [],
       "layout": {
        "barmode": "stack",
        "font": {
         "size": 22
        },
        "height": 1100,
        "template": {
         "data": {
          "bar": [
           {
            "error_x": {
             "color": "#2a3f5f"
            },
            "error_y": {
             "color": "#2a3f5f"
            },
            "marker": {
             "line": {
              "color": "#E5ECF6",
              "width": 0.5
             },
             "pattern": {
              "fillmode": "overlay",
              "size": 10,
              "solidity": 0.2
             }
            },
            "type": "bar"
           }
          ],
          "barpolar": [
           {
            "marker": {
             "line": {
              "color": "#E5ECF6",
              "width": 0.5
             },
             "pattern": {
              "fillmode": "overlay",
              "size": 10,
              "solidity": 0.2
             }
            },
            "type": "barpolar"
           }
          ],
          "carpet": [
           {
            "aaxis": {
             "endlinecolor": "#2a3f5f",
             "gridcolor": "white",
             "linecolor": "white",
             "minorgridcolor": "white",
             "startlinecolor": "#2a3f5f"
            },
            "baxis": {
             "endlinecolor": "#2a3f5f",
             "gridcolor": "white",
             "linecolor": "white",
             "minorgridcolor": "white",
             "startlinecolor": "#2a3f5f"
            },
            "type": "carpet"
           }
          ],
          "choropleth": [
           {
            "colorbar": {
             "outlinewidth": 0,
             "ticks": ""
            },
            "type": "choropleth"
           }
          ],
          "contour": [
           {
            "colorbar": {
             "outlinewidth": 0,
             "ticks": ""
            },
            "colorscale": [
             [
              0,
              "#0d0887"
             ],
             [
              0.1111111111111111,
              "#46039f"
             ],
             [
              0.2222222222222222,
              "#7201a8"
             ],
             [
              0.3333333333333333,
              "#9c179e"
             ],
             [
              0.4444444444444444,
              "#bd3786"
             ],
             [
              0.5555555555555556,
              "#d8576b"
             ],
             [
              0.6666666666666666,
              "#ed7953"
             ],
             [
              0.7777777777777778,
              "#fb9f3a"
             ],
             [
              0.8888888888888888,
              "#fdca26"
             ],
             [
              1,
              "#f0f921"
             ]
            ],
            "type": "contour"
           }
          ],
          "contourcarpet": [
           {
            "colorbar": {
             "outlinewidth": 0,
             "ticks": ""
            },
            "type": "contourcarpet"
           }
          ],
          "heatmap": [
           {
            "colorbar": {
             "outlinewidth": 0,
             "ticks": ""
            },
            "colorscale": [
             [
              0,
              "#0d0887"
             ],
             [
              0.1111111111111111,
              "#46039f"
             ],
             [
              0.2222222222222222,
              "#7201a8"
             ],
             [
              0.3333333333333333,
              "#9c179e"
             ],
             [
              0.4444444444444444,
              "#bd3786"
             ],
             [
              0.5555555555555556,
              "#d8576b"
             ],
             [
              0.6666666666666666,
              "#ed7953"
             ],
             [
              0.7777777777777778,
              "#fb9f3a"
             ],
             [
              0.8888888888888888,
              "#fdca26"
             ],
             [
              1,
              "#f0f921"
             ]
            ],
            "type": "heatmap"
           }
          ],
          "heatmapgl": [
           {
            "colorbar": {
             "outlinewidth": 0,
             "ticks": ""
            },
            "colorscale": [
             [
              0,
              "#0d0887"
             ],
             [
              0.1111111111111111,
              "#46039f"
             ],
             [
              0.2222222222222222,
              "#7201a8"
             ],
             [
              0.3333333333333333,
              "#9c179e"
             ],
             [
              0.4444444444444444,
              "#bd3786"
             ],
             [
              0.5555555555555556,
              "#d8576b"
             ],
             [
              0.6666666666666666,
              "#ed7953"
             ],
             [
              0.7777777777777778,
              "#fb9f3a"
             ],
             [
              0.8888888888888888,
              "#fdca26"
             ],
             [
              1,
              "#f0f921"
             ]
            ],
            "type": "heatmapgl"
           }
          ],
          "histogram": [
           {
            "marker": {
             "pattern": {
              "fillmode": "overlay",
              "size": 10,
              "solidity": 0.2
             }
            },
            "type": "histogram"
           }
          ],
          "histogram2d": [
           {
            "colorbar": {
             "outlinewidth": 0,
             "ticks": ""
            },
            "colorscale": [
             [
              0,
              "#0d0887"
             ],
             [
              0.1111111111111111,
              "#46039f"
             ],
             [
              0.2222222222222222,
              "#7201a8"
             ],
             [
              0.3333333333333333,
              "#9c179e"
             ],
             [
              0.4444444444444444,
              "#bd3786"
             ],
             [
              0.5555555555555556,
              "#d8576b"
             ],
             [
              0.6666666666666666,
              "#ed7953"
             ],
             [
              0.7777777777777778,
              "#fb9f3a"
             ],
             [
              0.8888888888888888,
              "#fdca26"
             ],
             [
              1,
              "#f0f921"
             ]
            ],
            "type": "histogram2d"
           }
          ],
          "histogram2dcontour": [
           {
            "colorbar": {
             "outlinewidth": 0,
             "ticks": ""
            },
            "colorscale": [
             [
              0,
              "#0d0887"
             ],
             [
              0.1111111111111111,
              "#46039f"
             ],
             [
              0.2222222222222222,
              "#7201a8"
             ],
             [
              0.3333333333333333,
              "#9c179e"
             ],
             [
              0.4444444444444444,
              "#bd3786"
             ],
             [
              0.5555555555555556,
              "#d8576b"
             ],
             [
              0.6666666666666666,
              "#ed7953"
             ],
             [
              0.7777777777777778,
              "#fb9f3a"
             ],
             [
              0.8888888888888888,
              "#fdca26"
             ],
             [
              1,
              "#f0f921"
             ]
            ],
            "type": "histogram2dcontour"
           }
          ],
          "mesh3d": [
           {
            "colorbar": {
             "outlinewidth": 0,
             "ticks": ""
            },
            "type": "mesh3d"
           }
          ],
          "parcoords": [
           {
            "line": {
             "colorbar": {
              "outlinewidth": 0,
              "ticks": ""
             }
            },
            "type": "parcoords"
           }
          ],
          "pie": [
           {
            "automargin": true,
            "type": "pie"
           }
          ],
          "scatter": [
           {
            "fillpattern": {
             "fillmode": "overlay",
             "size": 10,
             "solidity": 0.2
            },
            "type": "scatter"
           }
          ],
          "scatter3d": [
           {
            "line": {
             "colorbar": {
              "outlinewidth": 0,
              "ticks": ""
             }
            },
            "marker": {
             "colorbar": {
              "outlinewidth": 0,
              "ticks": ""
             }
            },
            "type": "scatter3d"
           }
          ],
          "scattercarpet": [
           {
            "marker": {
             "colorbar": {
              "outlinewidth": 0,
              "ticks": ""
             }
            },
            "type": "scattercarpet"
           }
          ],
          "scattergeo": [
           {
            "marker": {
             "colorbar": {
              "outlinewidth": 0,
              "ticks": ""
             }
            },
            "type": "scattergeo"
           }
          ],
          "scattergl": [
           {
            "marker": {
             "colorbar": {
              "outlinewidth": 0,
              "ticks": ""
             }
            },
            "type": "scattergl"
           }
          ],
          "scattermapbox": [
           {
            "marker": {
             "colorbar": {
              "outlinewidth": 0,
              "ticks": ""
             }
            },
            "type": "scattermapbox"
           }
          ],
          "scatterpolar": [
           {
            "marker": {
             "colorbar": {
              "outlinewidth": 0,
              "ticks": ""
             }
            },
            "type": "scatterpolar"
           }
          ],
          "scatterpolargl": [
           {
            "marker": {
             "colorbar": {
              "outlinewidth": 0,
              "ticks": ""
             }
            },
            "type": "scatterpolargl"
           }
          ],
          "scatterternary": [
           {
            "marker": {
             "colorbar": {
              "outlinewidth": 0,
              "ticks": ""
             }
            },
            "type": "scatterternary"
           }
          ],
          "surface": [
           {
            "colorbar": {
             "outlinewidth": 0,
             "ticks": ""
            },
            "colorscale": [
             [
              0,
              "#0d0887"
             ],
             [
              0.1111111111111111,
              "#46039f"
             ],
             [
              0.2222222222222222,
              "#7201a8"
             ],
             [
              0.3333333333333333,
              "#9c179e"
             ],
             [
              0.4444444444444444,
              "#bd3786"
             ],
             [
              0.5555555555555556,
              "#d8576b"
             ],
             [
              0.6666666666666666,
              "#ed7953"
             ],
             [
              0.7777777777777778,
              "#fb9f3a"
             ],
             [
              0.8888888888888888,
              "#fdca26"
             ],
             [
              1,
              "#f0f921"
             ]
            ],
            "type": "surface"
           }
          ],
          "table": [
           {
            "cells": {
             "fill": {
              "color": "#EBF0F8"
             },
             "line": {
              "color": "white"
             }
            },
            "header": {
             "fill": {
              "color": "#C8D4E3"
             },
             "line": {
              "color": "white"
             }
            },
            "type": "table"
           }
          ]
         },
         "layout": {
          "annotationdefaults": {
           "arrowcolor": "#2a3f5f",
           "arrowhead": 0,
           "arrowwidth": 1
          },
          "autotypenumbers": "strict",
          "coloraxis": {
           "colorbar": {
            "outlinewidth": 0,
            "ticks": ""
           }
          },
          "colorscale": {
           "diverging": [
            [
             0,
             "#8e0152"
            ],
            [
             0.1,
             "#c51b7d"
            ],
            [
             0.2,
             "#de77ae"
            ],
            [
             0.3,
             "#f1b6da"
            ],
            [
             0.4,
             "#fde0ef"
            ],
            [
             0.5,
             "#f7f7f7"
            ],
            [
             0.6,
             "#e6f5d0"
            ],
            [
             0.7,
             "#b8e186"
            ],
            [
             0.8,
             "#7fbc41"
            ],
            [
             0.9,
             "#4d9221"
            ],
            [
             1,
             "#276419"
            ]
           ],
           "sequential": [
            [
             0,
             "#0d0887"
            ],
            [
             0.1111111111111111,
             "#46039f"
            ],
            [
             0.2222222222222222,
             "#7201a8"
            ],
            [
             0.3333333333333333,
             "#9c179e"
            ],
            [
             0.4444444444444444,
             "#bd3786"
            ],
            [
             0.5555555555555556,
             "#d8576b"
            ],
            [
             0.6666666666666666,
             "#ed7953"
            ],
            [
             0.7777777777777778,
             "#fb9f3a"
            ],
            [
             0.8888888888888888,
             "#fdca26"
            ],
            [
             1,
             "#f0f921"
            ]
           ],
           "sequentialminus": [
            [
             0,
             "#0d0887"
            ],
            [
             0.1111111111111111,
             "#46039f"
            ],
            [
             0.2222222222222222,
             "#7201a8"
            ],
            [
             0.3333333333333333,
             "#9c179e"
            ],
            [
             0.4444444444444444,
             "#bd3786"
            ],
            [
             0.5555555555555556,
             "#d8576b"
            ],
            [
             0.6666666666666666,
             "#ed7953"
            ],
            [
             0.7777777777777778,
             "#fb9f3a"
            ],
            [
             0.8888888888888888,
             "#fdca26"
            ],
            [
             1,
             "#f0f921"
            ]
           ]
          },
          "colorway": [
           "#636efa",
           "#EF553B",
           "#00cc96",
           "#ab63fa",
           "#FFA15A",
           "#19d3f3",
           "#FF6692",
           "#B6E880",
           "#FF97FF",
           "#FECB52"
          ],
          "font": {
           "color": "#2a3f5f"
          },
          "geo": {
           "bgcolor": "white",
           "lakecolor": "white",
           "landcolor": "#E5ECF6",
           "showlakes": true,
           "showland": true,
           "subunitcolor": "white"
          },
          "hoverlabel": {
           "align": "left"
          },
          "hovermode": "closest",
          "mapbox": {
           "style": "light"
          },
          "paper_bgcolor": "white",
          "plot_bgcolor": "#E5ECF6",
          "polar": {
           "angularaxis": {
            "gridcolor": "white",
            "linecolor": "white",
            "ticks": ""
           },
           "bgcolor": "#E5ECF6",
           "radialaxis": {
            "gridcolor": "white",
            "linecolor": "white",
            "ticks": ""
           }
          },
          "scene": {
           "xaxis": {
            "backgroundcolor": "#E5ECF6",
            "gridcolor": "white",
            "gridwidth": 2,
            "linecolor": "white",
            "showbackground": true,
            "ticks": "",
            "zerolinecolor": "white"
           },
           "yaxis": {
            "backgroundcolor": "#E5ECF6",
            "gridcolor": "white",
            "gridwidth": 2,
            "linecolor": "white",
            "showbackground": true,
            "ticks": "",
            "zerolinecolor": "white"
           },
           "zaxis": {
            "backgroundcolor": "#E5ECF6",
            "gridcolor": "white",
            "gridwidth": 2,
            "linecolor": "white",
            "showbackground": true,
            "ticks": "",
            "zerolinecolor": "white"
           }
          },
          "shapedefaults": {
           "line": {
            "color": "#2a3f5f"
           }
          },
          "ternary": {
           "aaxis": {
            "gridcolor": "white",
            "linecolor": "white",
            "ticks": ""
           },
           "baxis": {
            "gridcolor": "white",
            "linecolor": "white",
            "ticks": ""
           },
           "bgcolor": "#E5ECF6",
           "caxis": {
            "gridcolor": "white",
            "linecolor": "white",
            "ticks": ""
           }
          },
          "title": {
           "x": 0.05
          },
          "xaxis": {
           "automargin": true,
           "gridcolor": "white",
           "linecolor": "white",
           "ticks": "",
           "title": {
            "standoff": 15
           },
           "zerolinecolor": "white",
           "zerolinewidth": 2
          },
          "yaxis": {
           "automargin": true,
           "gridcolor": "white",
           "linecolor": "white",
           "ticks": "",
           "title": {
            "standoff": 15
           },
           "zerolinecolor": "white",
           "zerolinewidth": 2
          }
         }
        },
        "title": {
         "text": "Use of fuels"
        },
        "width": 1400,
        "xaxis": {
         "title": {
          "text": "Year"
         }
        },
        "yaxis": {
         "title": {
          "text": "Use [TWh]"
         }
        }
       }
      }
     },
     "metadata": {},
     "output_type": "display_data"
    }
   ],
   "source": [
    "annual_use_facilitator = AnnualUseStackedQuantityEvolutionFacilitator(SOLUTION_FILEPATH, region=\"All\")\n",
    "\n",
    "relevant_data = annual_use_facilitator.get_relevant_data()\n",
    "relevant_data.aggreagate_all_by_sum(column_to_aggregate=\"Region\", aggregated_entry_name=\"All\", column_to_sum=\"Value\")\n",
    "\n",
    "fig = annual_use_facilitator.plot(relevant_data)\n",
    "\n",
    "fig.update_layout(width=1400, height=1100)\n",
    "fig.show()"
   ]
  }
 ],
 "metadata": {
  "kernelspec": {
   "display_name": "scenario_dashboard",
   "language": "python",
   "name": "python3"
  },
  "language_info": {
   "codemirror_mode": {
    "name": "ipython",
    "version": 3
   },
   "file_extension": ".py",
   "mimetype": "text/x-python",
   "name": "python",
   "nbconvert_exporter": "python",
   "pygments_lexer": "ipython3",
   "version": "3.12.4"
  }
 },
 "nbformat": 4,
 "nbformat_minor": 2
}
