{
 "cells": [
  {
   "cell_type": "code",
   "execution_count": 65,
   "metadata": {},
   "outputs": [],
   "source": [
    "from pathlib import Path\n",
    "\n",
    "from data import TradeCapacityMapFacilitator, StackedQuantityEvolutionFacilitator, StackedQuantityEvolutionFacilitatorBase"
   ]
  },
  {
   "cell_type": "code",
   "execution_count": 66,
   "metadata": {},
   "outputs": [],
   "source": [
    "CURRENT_DIR = Path().resolve()\n",
    "SOLUTION_FILEPATH = CURRENT_DIR / \"Solution_40_12_day.sol\"\n",
    "TITLE_ADDON = \" - Day\""
   ]
  },
  {
   "cell_type": "markdown",
   "metadata": {},
   "source": [
    "### Trade capacities between European countries 2018 and 2050"
   ]
  },
  {
   "cell_type": "code",
   "execution_count": 67,
   "metadata": {},
   "outputs": [
    {
     "name": "stdout",
     "output_type": "stream",
     "text": [
      "No unit conversion applied!\n"
     ]
    },
    {
     "data": {
      "application/vnd.plotly.v1+json": {
       "config": {
        "plotlyServerURL": "https://plot.ly"
       },
       "data": [
        {
         "lat": [
          46.818188,
          47.516231
         ],
         "legendgroup": "AT CH",
         "line": {
          "color": "#f4b6c2",
          "width": 2.48
         },
         "locationmode": "country names",
         "lon": [
          8.227512,
          14.550072
         ],
         "mode": "lines+markers",
         "name": "AT CH",
         "showlegend": false,
         "type": "scattergeo"
        },
        {
         "lat": [
          49.817492,
          47.516231
         ],
         "legendgroup": "AT CZ",
         "line": {
          "color": "#f4b6c2",
          "width": 5.142857142857143
         },
         "locationmode": "country names",
         "lon": [
          15.472962,
          14.550072
         ],
         "mode": "lines+markers",
         "name": "AT CZ",
         "showlegend": false,
         "type": "scattergeo"
        },
        {
         "lat": [
          51.165691,
          47.516231
         ],
         "legendgroup": "AT DE",
         "line": {
          "color": "#f4b6c2",
          "width": 11.428571428571427
         },
         "locationmode": "country names",
         "lon": [
          10.451526,
          14.550072
         ],
         "mode": "lines+markers",
         "name": "AT DE",
         "showlegend": false,
         "type": "scattergeo"
        },
        {
         "lat": [
          47.162494,
          47.516231
         ],
         "legendgroup": "AT HU",
         "line": {
          "color": "#f4b6c2",
          "width": 4.571428571428572
         },
         "locationmode": "country names",
         "lon": [
          19.503304,
          14.550072
         ],
         "mode": "lines+markers",
         "name": "AT HU",
         "showlegend": false,
         "type": "scattergeo"
        },
        {
         "lat": [
          41.87194,
          47.516231
         ],
         "legendgroup": "AT IT",
         "line": {
          "color": "#f4b6c2",
          "width": 0.4057142857142857
         },
         "locationmode": "country names",
         "lon": [
          12.56738,
          14.550072
         ],
         "mode": "lines+markers",
         "name": "AT IT",
         "showlegend": false,
         "type": "scattergeo"
        },
        {
         "lat": [
          46.151241,
          47.516231
         ],
         "legendgroup": "AT SI",
         "line": {
          "color": "#f4b6c2",
          "width": 5.4290476171428566
         },
         "locationmode": "country names",
         "lon": [
          14.995463,
          14.550072
         ],
         "mode": "lines+markers",
         "name": "AT SI",
         "showlegend": false,
         "type": "scattergeo"
        },
        {
         "lat": [
          46.227638,
          50.503887
         ],
         "legendgroup": "BE FR",
         "line": {
          "color": "#f4b6c2",
          "width": 8.571428571428571
         },
         "locationmode": "country names",
         "lon": [
          2.213749,
          4.469936
         ],
         "mode": "lines+markers",
         "name": "BE FR",
         "showlegend": false,
         "type": "scattergeo"
        },
        {
         "lat": [
          52.132633,
          50.503887
         ],
         "legendgroup": "BE NL",
         "line": {
          "color": "#f4b6c2",
          "width": 8.148571428571428
         },
         "locationmode": "country names",
         "lon": [
          5.291266,
          4.469936
         ],
         "mode": "lines+markers",
         "name": "BE NL",
         "showlegend": false,
         "type": "scattergeo"
        },
        {
         "lat": [
          44.29182,
          42.733883
         ],
         "legendgroup": "BG NONEU_Balkan",
         "line": {
          "color": "#f4b6c2",
          "width": 1.9999999999999998
         },
         "locationmode": "country names",
         "lon": [
          19.24671,
          25.48583
         ],
         "mode": "lines+markers",
         "name": "BG NONEU_Balkan",
         "showlegend": false,
         "type": "scattergeo"
        },
        {
         "lat": [
          45.943161,
          42.733883
         ],
         "legendgroup": "BG RO",
         "line": {
          "color": "#f4b6c2",
          "width": 0.8571428571428572
         },
         "locationmode": "country names",
         "lon": [
          24.96676,
          25.48583
         ],
         "mode": "lines+markers",
         "name": "BG RO",
         "showlegend": false,
         "type": "scattergeo"
        },
        {
         "lat": [
          38.963745,
          42.733883
         ],
         "legendgroup": "BG TR",
         "line": {
          "color": "#f4b6c2",
          "width": 5.7142857142857135
         },
         "locationmode": "country names",
         "lon": [
          35.243322,
          25.48583
         ],
         "mode": "lines+markers",
         "name": "BG TR",
         "showlegend": false,
         "type": "scattergeo"
        },
        {
         "lat": [
          51.165691,
          46.818188
         ],
         "legendgroup": "CH DE",
         "line": {
          "color": "#f4b6c2",
          "width": 20
         },
         "locationmode": "country names",
         "lon": [
          10.451526,
          8.227512
         ],
         "mode": "lines+markers",
         "name": "CH DE",
         "showlegend": false,
         "type": "scattergeo"
        },
        {
         "lat": [
          46.227638,
          46.818188
         ],
         "legendgroup": "CH FR",
         "line": {
          "color": "#f4b6c2",
          "width": 6.2857142857142865
         },
         "locationmode": "country names",
         "lon": [
          2.213749,
          8.227512
         ],
         "mode": "lines+markers",
         "name": "CH FR",
         "showlegend": false,
         "type": "scattergeo"
        },
        {
         "lat": [
          41.87194,
          46.818188
         ],
         "legendgroup": "CH IT",
         "line": {
          "color": "#f4b6c2",
          "width": 7.634285714285714
         },
         "locationmode": "country names",
         "lon": [
          12.56738,
          8.227512
         ],
         "mode": "lines+markers",
         "name": "CH IT",
         "showlegend": false,
         "type": "scattergeo"
        },
        {
         "lat": [
          51.165691,
          49.817492
         ],
         "legendgroup": "CZ DE",
         "line": {
          "color": "#f4b6c2",
          "width": 10.142857142857142
         },
         "locationmode": "country names",
         "lon": [
          10.451526,
          15.472962
         ],
         "mode": "lines+markers",
         "name": "CZ DE",
         "showlegend": false,
         "type": "scattergeo"
        },
        {
         "lat": [
          51.919438,
          49.817492
         ],
         "legendgroup": "CZ PL",
         "line": {
          "color": "#f4b6c2",
          "width": 0.5714285714285715
         },
         "locationmode": "country names",
         "lon": [
          19.145136,
          15.472962
         ],
         "mode": "lines+markers",
         "name": "CZ PL",
         "showlegend": false,
         "type": "scattergeo"
        },
        {
         "lat": [
          48.669026,
          49.817492
         ],
         "legendgroup": "CZ SK",
         "line": {
          "color": "#f4b6c2",
          "width": 9.714285714285714
         },
         "locationmode": "country names",
         "lon": [
          19.699024,
          15.472962
         ],
         "mode": "lines+markers",
         "name": "CZ SK",
         "showlegend": false,
         "type": "scattergeo"
        },
        {
         "lat": [
          56.26392,
          51.165691
         ],
         "legendgroup": "DE DK",
         "line": {
          "color": "#f4b6c2",
          "width": 17.714285714285715
         },
         "locationmode": "country names",
         "lon": [
          9.501785,
          10.451526
         ],
         "mode": "lines+markers",
         "name": "DE DK",
         "showlegend": false,
         "type": "scattergeo"
        },
        {
         "lat": [
          46.227638,
          51.165691
         ],
         "legendgroup": "DE FR",
         "line": {
          "color": "#f4b6c2",
          "width": 9.571428571428571
         },
         "locationmode": "country names",
         "lon": [
          2.213749,
          10.451526
         ],
         "mode": "lines+markers",
         "name": "DE FR",
         "showlegend": false,
         "type": "scattergeo"
        },
        {
         "lat": [
          49.815273,
          51.165691
         ],
         "legendgroup": "DE LU",
         "line": {
          "color": "#f4b6c2",
          "width": 5.6
         },
         "locationmode": "country names",
         "lon": [
          6.129583,
          10.451526
         ],
         "mode": "lines+markers",
         "name": "DE LU",
         "showlegend": false,
         "type": "scattergeo"
        },
        {
         "lat": [
          52.132633,
          51.165691
         ],
         "legendgroup": "DE NL",
         "line": {
          "color": "#f4b6c2",
          "width": 16.285714285714285
         },
         "locationmode": "country names",
         "lon": [
          5.291266,
          10.451526
         ],
         "mode": "lines+markers",
         "name": "DE NL",
         "showlegend": false,
         "type": "scattergeo"
        },
        {
         "lat": [
          60,
          51.165691
         ],
         "legendgroup": "DE NO",
         "line": {
          "color": "#f4b6c2",
          "width": 8.251428571428571
         },
         "locationmode": "country names",
         "lon": [
          6,
          10.451526
         ],
         "mode": "lines+markers",
         "name": "DE NO",
         "showlegend": false,
         "type": "scattergeo"
        },
        {
         "lat": [
          51.919438,
          51.165691
         ],
         "legendgroup": "DE PL",
         "line": {
          "color": "#f4b6c2",
          "width": 0.5714285714285715
         },
         "locationmode": "country names",
         "lon": [
          19.145136,
          10.451526
         ],
         "mode": "lines+markers",
         "name": "DE PL",
         "showlegend": false,
         "type": "scattergeo"
        },
        {
         "lat": [
          60,
          56.26392
         ],
         "legendgroup": "DK NO",
         "line": {
          "color": "#f4b6c2",
          "width": 9.714285714285714
         },
         "locationmode": "country names",
         "lon": [
          6,
          9.501785
         ],
         "mode": "lines+markers",
         "name": "DK NO",
         "showlegend": false,
         "type": "scattergeo"
        },
        {
         "lat": [
          60.128161,
          56.26392
         ],
         "legendgroup": "DK SE",
         "line": {
          "color": "#f4b6c2",
          "width": 13.942857142857143
         },
         "locationmode": "country names",
         "lon": [
          15,
          9.501785
         ],
         "mode": "lines+markers",
         "name": "DK SE",
         "showlegend": false,
         "type": "scattergeo"
        },
        {
         "lat": [
          61.92411,
          58.595272
         ],
         "legendgroup": "EE FI",
         "line": {
          "color": "#f4b6c2",
          "width": 2.085714285714286
         },
         "locationmode": "country names",
         "lon": [
          25.748151,
          25.013607
         ],
         "mode": "lines+markers",
         "name": "EE FI",
         "showlegend": false,
         "type": "scattergeo"
        },
        {
         "lat": [
          56.879635,
          58.595272
         ],
         "legendgroup": "EE LV",
         "line": {
          "color": "#f4b6c2",
          "width": 4.571428571428572
         },
         "locationmode": "country names",
         "lon": [
          24.603189,
          25.013607
         ],
         "mode": "lines+markers",
         "name": "EE LV",
         "showlegend": false,
         "type": "scattergeo"
        },
        {
         "lat": [
          46.227638,
          40.463667
         ],
         "legendgroup": "ES FR",
         "line": {
          "color": "#f4b6c2",
          "width": 6.119047617142856
         },
         "locationmode": "country names",
         "lon": [
          2.213749,
          -3.74922
         ],
         "mode": "lines+markers",
         "name": "ES FR",
         "showlegend": false,
         "type": "scattergeo"
        },
        {
         "lat": [
          39.399872,
          40.463667
         ],
         "legendgroup": "ES PT",
         "line": {
          "color": "#f4b6c2",
          "width": 8.392857142857142
         },
         "locationmode": "country names",
         "lon": [
          -8.224454,
          -3.74922
         ],
         "mode": "lines+markers",
         "name": "ES PT",
         "showlegend": false,
         "type": "scattergeo"
        },
        {
         "lat": [
          60.128161,
          61.92411
         ],
         "legendgroup": "FI SE",
         "line": {
          "color": "#f4b6c2",
          "width": 11.142857142857142
         },
         "locationmode": "country names",
         "lon": [
          15,
          25.748151
         ],
         "mode": "lines+markers",
         "name": "FI SE",
         "showlegend": false,
         "type": "scattergeo"
        },
        {
         "lat": [
          41.87194,
          46.227638
         ],
         "legendgroup": "FR IT",
         "line": {
          "color": "#f4b6c2",
          "width": 4.948571428571428
         },
         "locationmode": "country names",
         "lon": [
          12.56738,
          2.213749
         ],
         "mode": "lines+markers",
         "name": "FR IT",
         "showlegend": false,
         "type": "scattergeo"
        },
        {
         "lat": [
          55.378051,
          46.227638
         ],
         "legendgroup": "FR UK",
         "line": {
          "color": "#f4b6c2",
          "width": 11.428571428571427
         },
         "locationmode": "country names",
         "lon": [
          -3.435973,
          2.213749
         ],
         "mode": "lines+markers",
         "name": "FR UK",
         "showlegend": false,
         "type": "scattergeo"
        },
        {
         "lat": [
          41.87194,
          39.074208
         ],
         "legendgroup": "GR IT",
         "line": {
          "color": "#f4b6c2",
          "width": 2.8571428571428568
         },
         "locationmode": "country names",
         "lon": [
          12.56738,
          21.824312
         ],
         "mode": "lines+markers",
         "name": "GR IT",
         "showlegend": false,
         "type": "scattergeo"
        },
        {
         "lat": [
          44.29182,
          39.074208
         ],
         "legendgroup": "GR NONEU_Balkan",
         "line": {
          "color": "#f4b6c2",
          "width": 1.7142857142857144
         },
         "locationmode": "country names",
         "lon": [
          19.24671,
          21.824312
         ],
         "mode": "lines+markers",
         "name": "GR NONEU_Balkan",
         "showlegend": false,
         "type": "scattergeo"
        },
        {
         "lat": [
          38.963745,
          39.074208
         ],
         "legendgroup": "GR TR",
         "line": {
          "color": "#f4b6c2",
          "width": 5.7142857142857135
         },
         "locationmode": "country names",
         "lon": [
          35.243322,
          21.824312
         ],
         "mode": "lines+markers",
         "name": "GR TR",
         "showlegend": false,
         "type": "scattergeo"
        },
        {
         "lat": [
          47.162494,
          45.1
         ],
         "legendgroup": "HR HU",
         "line": {
          "color": "#f4b6c2",
          "width": 5.7142857142857135
         },
         "locationmode": "country names",
         "lon": [
          19.503304,
          15.2
         ],
         "mode": "lines+markers",
         "name": "HR HU",
         "showlegend": false,
         "type": "scattergeo"
        },
        {
         "lat": [
          44.29182,
          45.1
         ],
         "legendgroup": "HR NONEU_Balkan",
         "line": {
          "color": "#f4b6c2",
          "width": 6.2857142857142865
         },
         "locationmode": "country names",
         "lon": [
          19.24671,
          15.2
         ],
         "mode": "lines+markers",
         "name": "HR NONEU_Balkan",
         "showlegend": false,
         "type": "scattergeo"
        },
        {
         "lat": [
          44.29182,
          47.162494
         ],
         "legendgroup": "HU NONEU_Balkan",
         "line": {
          "color": "#f4b6c2",
          "width": 3.9999999999999996
         },
         "locationmode": "country names",
         "lon": [
          19.24671,
          19.503304
         ],
         "mode": "lines+markers",
         "name": "HU NONEU_Balkan",
         "showlegend": false,
         "type": "scattergeo"
        },
        {
         "lat": [
          45.943161,
          47.162494
         ],
         "legendgroup": "HU RO",
         "line": {
          "color": "#f4b6c2",
          "width": 2.285714285714286
         },
         "locationmode": "country names",
         "lon": [
          24.96676,
          19.503304
         ],
         "mode": "lines+markers",
         "name": "HU RO",
         "showlegend": false,
         "type": "scattergeo"
        },
        {
         "lat": [
          48.669026,
          47.162494
         ],
         "legendgroup": "HU SK",
         "line": {
          "color": "#f4b6c2",
          "width": 4.571428571428572
         },
         "locationmode": "country names",
         "lon": [
          19.699024,
          19.503304
         ],
         "mode": "lines+markers",
         "name": "HU SK",
         "showlegend": false,
         "type": "scattergeo"
        },
        {
         "lat": [
          55.378051,
          53.41291
         ],
         "legendgroup": "IE UK",
         "line": {
          "color": "#f4b6c2",
          "width": 2.5714285714285716
         },
         "locationmode": "country names",
         "lon": [
          -3.435973,
          -8.24389
         ],
         "mode": "lines+markers",
         "name": "IE UK",
         "showlegend": false,
         "type": "scattergeo"
        },
        {
         "lat": [
          46.151241,
          41.87194
         ],
         "legendgroup": "IT SI",
         "line": {
          "color": "#f4b6c2",
          "width": 1.0285714285714285
         },
         "locationmode": "country names",
         "lon": [
          14.995463,
          12.56738
         ],
         "mode": "lines+markers",
         "name": "IT SI",
         "showlegend": false,
         "type": "scattergeo"
        },
        {
         "lat": [
          56.879635,
          55.169438
         ],
         "legendgroup": "LT LV",
         "line": {
          "color": "#f4b6c2",
          "width": 8.571428571428571
         },
         "locationmode": "country names",
         "lon": [
          24.603189,
          23.881275
         ],
         "mode": "lines+markers",
         "name": "LT LV",
         "showlegend": false,
         "type": "scattergeo"
        },
        {
         "lat": [
          55.378051,
          52.132633
         ],
         "legendgroup": "NL UK",
         "line": {
          "color": "#f4b6c2",
          "width": 5.805714285714286
         },
         "locationmode": "country names",
         "lon": [
          -3.435973,
          5.291266
         ],
         "mode": "lines+markers",
         "name": "NL UK",
         "showlegend": false,
         "type": "scattergeo"
        },
        {
         "lat": [
          60.128161,
          60
         ],
         "legendgroup": "NO SE",
         "line": {
          "color": "#f4b6c2",
          "width": 19.685714285714283
         },
         "locationmode": "country names",
         "lon": [
          15,
          6
         ],
         "mode": "lines+markers",
         "name": "NO SE",
         "showlegend": false,
         "type": "scattergeo"
        },
        {
         "lat": [
          55.378051,
          60
         ],
         "legendgroup": "NO UK",
         "line": {
          "color": "#f4b6c2",
          "width": 15.999999999999998
         },
         "locationmode": "country names",
         "lon": [
          -3.435973,
          6
         ],
         "mode": "lines+markers",
         "name": "NO UK",
         "showlegend": false,
         "type": "scattergeo"
        },
        {
         "lat": [
          45.943161,
          44.29182
         ],
         "legendgroup": "NONEU_Balkan RO",
         "line": {
          "color": "#f4b6c2",
          "width": 1.142857142857143
         },
         "locationmode": "country names",
         "lon": [
          24.96676,
          19.24671
         ],
         "mode": "lines+markers",
         "name": "NONEU_Balkan RO",
         "showlegend": false,
         "type": "scattergeo"
        },
        {
         "lat": [
          60.128161,
          51.919438
         ],
         "legendgroup": "PL SE",
         "line": {
          "color": "#f4b6c2",
          "width": 1.5195238114285714
         },
         "locationmode": "country names",
         "lon": [
          15,
          19.145136
         ],
         "mode": "lines+markers",
         "name": "PL SE",
         "showlegend": false,
         "type": "scattergeo"
        },
        {
         "lat": [
          48.669026,
          51.919438
         ],
         "legendgroup": "PL SK",
         "line": {
          "color": "#f4b6c2",
          "width": 3.428571428571429
         },
         "locationmode": "country names",
         "lon": [
          19.699024,
          19.145136
         ],
         "mode": "lines+markers",
         "name": "PL SK",
         "showlegend": false,
         "type": "scattergeo"
        },
        {
         "lat": [
          47.166511457
         ],
         "locationmode": "country names",
         "lon": [
          11.382469440000001
         ],
         "mode": "text",
         "showlegend": false,
         "text": " 0.43 GW",
         "textfont": {
          "color": "black",
          "size": 8
         },
         "textposition": "top center",
         "type": "scattergeo"
        },
        {
         "lat": [
          48.669162761
         ],
         "locationmode": "country names",
         "lon": [
          15.01243989
         ],
         "mode": "text",
         "showlegend": false,
         "text": " 0.90 GW",
         "textfont": {
          "color": "black",
          "size": 8
         },
         "textposition": "top center",
         "type": "scattergeo"
        },
        {
         "lat": [
          49.34461046
         ],
         "locationmode": "country names",
         "lon": [
          12.496700453999999
         ],
         "mode": "text",
         "showlegend": false,
         "text": " 2.00 GW",
         "textfont": {
          "color": "black",
          "size": 8
         },
         "textposition": "top center",
         "type": "scattergeo"
        },
        {
         "lat": [
          47.339008763
         ],
         "locationmode": "country names",
         "lon": [
          17.031641232
         ],
         "mode": "text",
         "showlegend": false,
         "text": " 0.80 GW",
         "textfont": {
          "color": "black",
          "size": 8
         },
         "textposition": "top center",
         "type": "scattergeo"
        },
        {
         "lat": [
          44.688441209
         ],
         "locationmode": "country names",
         "lon": [
          13.556743308
         ],
         "mode": "text",
         "showlegend": false,
         "text": " 0.07 GW",
         "textfont": {
          "color": "black",
          "size": 8
         },
         "textposition": "top center",
         "type": "scattergeo"
        },
        {
         "lat": [
          46.832371009999996
         ],
         "locationmode": "country names",
         "lon": [
          14.773212891
         ],
         "mode": "text",
         "showlegend": false,
         "text": " 0.95 GW",
         "textfont": {
          "color": "black",
          "size": 8
         },
         "textposition": "top center",
         "type": "scattergeo"
        },
        {
         "lat": [
          48.361486251
         ],
         "locationmode": "country names",
         "lon": [
          3.339586313
         ],
         "mode": "text",
         "showlegend": false,
         "text": " 1.50 GW",
         "textfont": {
          "color": "black",
          "size": 8
         },
         "textposition": "top center",
         "type": "scattergeo"
        },
        {
         "lat": [
          51.319888746
         ],
         "locationmode": "country names",
         "lon": [
          4.88142233
         ],
         "mode": "text",
         "showlegend": false,
         "text": " 1.43 GW",
         "textfont": {
          "color": "black",
          "size": 8
         },
         "textposition": "top center",
         "type": "scattergeo"
        },
        {
         "lat": [
          43.514409437
         ],
         "locationmode": "country names",
         "lon": [
          22.36003088
         ],
         "mode": "text",
         "showlegend": false,
         "text": " 0.35 GW",
         "textfont": {
          "color": "black",
          "size": 8
         },
         "textposition": "top center",
         "type": "scattergeo"
        },
        {
         "lat": [
          44.341731278
         ],
         "locationmode": "country names",
         "lon": [
          25.22577593
         ],
         "mode": "text",
         "showlegend": false,
         "text": " 0.15 GW",
         "textfont": {
          "color": "black",
          "size": 8
         },
         "textposition": "top center",
         "type": "scattergeo"
        },
        {
         "lat": [
          40.845043862000004
         ],
         "locationmode": "country names",
         "lon": [
          30.374333491999998
         ],
         "mode": "text",
         "showlegend": false,
         "text": " 1.00 GW",
         "textfont": {
          "color": "black",
          "size": 8
         },
         "textposition": "top center",
         "type": "scattergeo"
        },
        {
         "lat": [
          48.996287003
         ],
         "locationmode": "country names",
         "lon": [
          9.341743014
         ],
         "mode": "text",
         "showlegend": false,
         "text": " 3.50 GW",
         "textfont": {
          "color": "black",
          "size": 8
         },
         "textposition": "top center",
         "type": "scattergeo"
        },
        {
         "lat": [
          46.52232245
         ],
         "locationmode": "country names",
         "lon": [
          5.214616737
         ],
         "mode": "text",
         "showlegend": false,
         "text": " 1.10 GW",
         "textfont": {
          "color": "black",
          "size": 8
         },
         "textposition": "top center",
         "type": "scattergeo"
        },
        {
         "lat": [
          44.340117752
         ],
         "locationmode": "country names",
         "lon": [
          10.401785868000001
         ],
         "mode": "text",
         "showlegend": false,
         "text": " 1.34 GW",
         "textfont": {
          "color": "black",
          "size": 8
         },
         "textposition": "top center",
         "type": "scattergeo"
        },
        {
         "lat": [
          50.492939699000004
         ],
         "locationmode": "country names",
         "lon": [
          12.957222564
         ],
         "mode": "text",
         "showlegend": false,
         "text": " 1.77 GW",
         "textfont": {
          "color": "black",
          "size": 8
         },
         "textposition": "top center",
         "type": "scattergeo"
        },
        {
         "lat": [
          50.870566946000004
         ],
         "locationmode": "country names",
         "lon": [
          17.312721174
         ],
         "mode": "text",
         "showlegend": false,
         "text": " 0.10 GW",
         "textfont": {
          "color": "black",
          "size": 8
         },
         "textposition": "top center",
         "type": "scattergeo"
        },
        {
         "lat": [
          49.242110534000005
         ],
         "locationmode": "country names",
         "lon": [
          17.590219062000003
         ],
         "mode": "text",
         "showlegend": false,
         "text": " 1.70 GW",
         "textfont": {
          "color": "black",
          "size": 8
         },
         "textposition": "top center",
         "type": "scattergeo"
        },
        {
         "lat": [
          53.719903729
         ],
         "locationmode": "country names",
         "lon": [
          9.975705759
         ],
         "mode": "text",
         "showlegend": false,
         "text": " 3.10 GW",
         "textfont": {
          "color": "black",
          "size": 8
         },
         "textposition": "top center",
         "type": "scattergeo"
        },
        {
         "lat": [
          48.691726447
         ],
         "locationmode": "country names",
         "lon": [
          6.324399723
         ],
         "mode": "text",
         "showlegend": false,
         "text": " 1.68 GW",
         "textfont": {
          "color": "black",
          "size": 8
         },
         "textposition": "top center",
         "type": "scattergeo"
        },
        {
         "lat": [
          50.489131582
         ],
         "locationmode": "country names",
         "lon": [
          8.286232557
         ],
         "mode": "text",
         "showlegend": false,
         "text": " 0.98 GW",
         "textfont": {
          "color": "black",
          "size": 8
         },
         "textposition": "top center",
         "type": "scattergeo"
        },
        {
         "lat": [
          51.650128942
         ],
         "locationmode": "country names",
         "lon": [
          7.8662357400000005
         ],
         "mode": "text",
         "showlegend": false,
         "text": " 2.85 GW",
         "textfont": {
          "color": "black",
          "size": 8
         },
         "textposition": "top center",
         "type": "scattergeo"
        },
        {
         "lat": [
          55.591679809
         ],
         "locationmode": "country names",
         "lon": [
          8.221311474
         ],
         "mode": "text",
         "showlegend": false,
         "text": " 1.44 GW",
         "textfont": {
          "color": "black",
          "size": 8
         },
         "textposition": "top center",
         "type": "scattergeo"
        },
        {
         "lat": [
          51.543318247
         ],
         "locationmode": "country names",
         "lon": [
          14.80702461
         ],
         "mode": "text",
         "showlegend": false,
         "text": " 0.10 GW",
         "textfont": {
          "color": "black",
          "size": 8
         },
         "textposition": "top center",
         "type": "scattergeo"
        },
        {
         "lat": [
          58.13569608
         ],
         "locationmode": "country names",
         "lon": [
          7.747390715
         ],
         "mode": "text",
         "showlegend": false,
         "text": " 1.70 GW",
         "textfont": {
          "color": "black",
          "size": 8
         },
         "textposition": "top center",
         "type": "scattergeo"
        },
        {
         "lat": [
          58.199904741
         ],
         "locationmode": "country names",
         "lon": [
          12.256390715
         ],
         "mode": "text",
         "showlegend": false,
         "text": " 2.44 GW",
         "textfont": {
          "color": "black",
          "size": 8
         },
         "textposition": "top center",
         "type": "scattergeo"
        },
        {
         "lat": [
          60.263019838
         ],
         "locationmode": "country names",
         "lon": [
          25.381613544
         ],
         "mode": "text",
         "showlegend": false,
         "text": " 0.36 GW",
         "textfont": {
          "color": "black",
          "size": 8
         },
         "textposition": "top center",
         "type": "scattergeo"
        },
        {
         "lat": [
          57.735737863000004
         ],
         "locationmode": "country names",
         "lon": [
          24.807987582
         ],
         "mode": "text",
         "showlegend": false,
         "text": " 0.80 GW",
         "textfont": {
          "color": "black",
          "size": 8
         },
         "textposition": "top center",
         "type": "scattergeo"
        },
        {
         "lat": [
          43.351416471
         ],
         "locationmode": "country names",
         "lon": [
          -0.7617725310000001
         ],
         "mode": "text",
         "showlegend": false,
         "text": " 1.07 GW",
         "textfont": {
          "color": "black",
          "size": 8
         },
         "textposition": "top center",
         "type": "scattergeo"
        },
        {
         "lat": [
          39.930705705
         ],
         "locationmode": "country names",
         "lon": [
          -5.9913122340000005
         ],
         "mode": "text",
         "showlegend": false,
         "text": " 1.47 GW",
         "textfont": {
          "color": "black",
          "size": 8
         },
         "textposition": "top center",
         "type": "scattergeo"
        },
        {
         "lat": [
          61.024339551
         ],
         "locationmode": "country names",
         "lon": [
          20.363327349000002
         ],
         "mode": "text",
         "showlegend": false,
         "text": " 1.95 GW",
         "textfont": {
          "color": "black",
          "size": 8
         },
         "textposition": "top center",
         "type": "scattergeo"
        },
        {
         "lat": [
          44.045433302
         ],
         "locationmode": "country names",
         "lon": [
          7.400918131
         ],
         "mode": "text",
         "showlegend": false,
         "text": " 0.87 GW",
         "textfont": {
          "color": "black",
          "size": 8
         },
         "textposition": "top center",
         "type": "scattergeo"
        },
        {
         "lat": [
          50.811994913
         ],
         "locationmode": "country names",
         "lon": [
          -0.6167617219999997
         ],
         "mode": "text",
         "showlegend": false,
         "text": " 2.00 GW",
         "textfont": {
          "color": "black",
          "size": 8
         },
         "textposition": "top center",
         "type": "scattergeo"
        },
        {
         "lat": [
          40.475871732
         ],
         "locationmode": "country names",
         "lon": [
          17.186589068
         ],
         "mode": "text",
         "showlegend": false,
         "text": " 0.50 GW",
         "textfont": {
          "color": "black",
          "size": 8
         },
         "textposition": "top center",
         "type": "scattergeo"
        },
        {
         "lat": [
          41.688231612
         ],
         "locationmode": "country names",
         "lon": [
          20.532933398
         ],
         "mode": "text",
         "showlegend": false,
         "text": " 0.30 GW",
         "textfont": {
          "color": "black",
          "size": 8
         },
         "textposition": "top center",
         "type": "scattergeo"
        },
        {
         "lat": [
          39.018866037
         ],
         "locationmode": "country names",
         "lon": [
          28.54723601
         ],
         "mode": "text",
         "showlegend": false,
         "text": " 1.00 GW",
         "textfont": {
          "color": "black",
          "size": 8
         },
         "textposition": "top center",
         "type": "scattergeo"
        },
        {
         "lat": [
          46.133309494
         ],
         "locationmode": "country names",
         "lon": [
          17.355955304
         ],
         "mode": "text",
         "showlegend": false,
         "text": " 1.00 GW",
         "textfont": {
          "color": "black",
          "size": 8
         },
         "textposition": "top center",
         "type": "scattergeo"
        },
        {
         "lat": [
          44.69510182
         ],
         "locationmode": "country names",
         "lon": [
          17.22740171
         ],
         "mode": "text",
         "showlegend": false,
         "text": " 1.10 GW",
         "textfont": {
          "color": "black",
          "size": 8
         },
         "textposition": "top center",
         "type": "scattergeo"
        },
        {
         "lat": [
          45.724286326000005
         ],
         "locationmode": "country names",
         "lon": [
          19.374750406
         ],
         "mode": "text",
         "showlegend": false,
         "text": " 0.70 GW",
         "textfont": {
          "color": "black",
          "size": 8
         },
         "textposition": "top center",
         "type": "scattergeo"
        },
        {
         "lat": [
          46.551608167000005
         ],
         "locationmode": "country names",
         "lon": [
          22.240495456
         ],
         "mode": "text",
         "showlegend": false,
         "text": " 0.40 GW",
         "textfont": {
          "color": "black",
          "size": 8
         },
         "textposition": "top center",
         "type": "scattergeo"
        },
        {
         "lat": [
          47.917266532
         ],
         "locationmode": "country names",
         "lon": [
          19.60135972
         ],
         "mode": "text",
         "showlegend": false,
         "text": " 0.80 GW",
         "textfont": {
          "color": "black",
          "size": 8
         },
         "textposition": "top center",
         "type": "scattergeo"
        },
        {
         "lat": [
          54.397445641
         ],
         "locationmode": "country names",
         "lon": [
          -5.835123583
         ],
         "mode": "text",
         "showlegend": false,
         "text": " 0.45 GW",
         "textfont": {
          "color": "black",
          "size": 8
         },
         "textposition": "top center",
         "type": "scattergeo"
        },
        {
         "lat": [
          44.015869801
         ],
         "locationmode": "country names",
         "lon": [
          13.783849583
         ],
         "mode": "text",
         "showlegend": false,
         "text": " 0.18 GW",
         "textfont": {
          "color": "black",
          "size": 8
         },
         "textposition": "top center",
         "type": "scattergeo"
        },
        {
         "lat": [
          56.026246697
         ],
         "locationmode": "country names",
         "lon": [
          24.242953914
         ],
         "mode": "text",
         "showlegend": false,
         "text": " 1.50 GW",
         "textfont": {
          "color": "black",
          "size": 8
         },
         "textposition": "top center",
         "type": "scattergeo"
        },
        {
         "lat": [
          53.758587418
         ],
         "locationmode": "country names",
         "lon": [
          0.9189192610000005
         ],
         "mode": "text",
         "showlegend": false,
         "text": " 1.02 GW",
         "textfont": {
          "color": "black",
          "size": 8
         },
         "textposition": "top center",
         "type": "scattergeo"
        },
        {
         "lat": [
          60.064208661
         ],
         "locationmode": "country names",
         "lon": [
          10.509
         ],
         "mode": "text",
         "showlegend": false,
         "text": " 3.44 GW",
         "textfont": {
          "color": "black",
          "size": 8
         },
         "textposition": "top center",
         "type": "scattergeo"
        },
        {
         "lat": [
          57.684403551
         ],
         "locationmode": "country names",
         "lon": [
          1.2725775269999997
         ],
         "mode": "text",
         "showlegend": false,
         "text": " 2.80 GW",
         "textfont": {
          "color": "black",
          "size": 8
         },
         "textposition": "top center",
         "type": "scattergeo"
        },
        {
         "lat": [
          45.119141841
         ],
         "locationmode": "country names",
         "lon": [
          22.11245505
         ],
         "mode": "text",
         "showlegend": false,
         "text": " 0.20 GW",
         "textfont": {
          "color": "black",
          "size": 8
         },
         "textposition": "top center",
         "type": "scattergeo"
        },
        {
         "lat": [
          56.032008223
         ],
         "locationmode": "country names",
         "lon": [
          17.068422864
         ],
         "mode": "text",
         "showlegend": false,
         "text": " 0.27 GW",
         "textfont": {
          "color": "black",
          "size": 8
         },
         "textposition": "top center",
         "type": "scattergeo"
        },
        {
         "lat": [
          50.290981588
         ],
         "locationmode": "country names",
         "lon": [
          19.422633888
         ],
         "mode": "text",
         "showlegend": false,
         "text": " 0.60 GW",
         "textfont": {
          "color": "black",
          "size": 8
         },
         "textposition": "top center",
         "type": "scattergeo"
        }
       ],
       "layout": {
        "geo": {
         "countrycolor": "white",
         "countrywidth": 1,
         "lakecolor": "#DEF4FC",
         "landcolor": "rgb(229, 229, 229)",
         "lataxis": {
          "range": [
           35,
           70
          ]
         },
         "lonaxis": {
          "range": [
           -9.7,
           38
          ]
         },
         "oceancolor": "#DCFBFB",
         "showcoastlines": false,
         "showcountries": true,
         "showlakes": true,
         "showland": true,
         "showocean": true
        },
        "height": 900,
        "margin": {
         "b": 0,
         "l": 0,
         "r": 0,
         "t": 30
        },
        "template": {
         "data": {
          "bar": [
           {
            "error_x": {
             "color": "#2a3f5f"
            },
            "error_y": {
             "color": "#2a3f5f"
            },
            "marker": {
             "line": {
              "color": "#E5ECF6",
              "width": 0.5
             },
             "pattern": {
              "fillmode": "overlay",
              "size": 10,
              "solidity": 0.2
             }
            },
            "type": "bar"
           }
          ],
          "barpolar": [
           {
            "marker": {
             "line": {
              "color": "#E5ECF6",
              "width": 0.5
             },
             "pattern": {
              "fillmode": "overlay",
              "size": 10,
              "solidity": 0.2
             }
            },
            "type": "barpolar"
           }
          ],
          "carpet": [
           {
            "aaxis": {
             "endlinecolor": "#2a3f5f",
             "gridcolor": "white",
             "linecolor": "white",
             "minorgridcolor": "white",
             "startlinecolor": "#2a3f5f"
            },
            "baxis": {
             "endlinecolor": "#2a3f5f",
             "gridcolor": "white",
             "linecolor": "white",
             "minorgridcolor": "white",
             "startlinecolor": "#2a3f5f"
            },
            "type": "carpet"
           }
          ],
          "choropleth": [
           {
            "colorbar": {
             "outlinewidth": 0,
             "ticks": ""
            },
            "type": "choropleth"
           }
          ],
          "contour": [
           {
            "colorbar": {
             "outlinewidth": 0,
             "ticks": ""
            },
            "colorscale": [
             [
              0,
              "#0d0887"
             ],
             [
              0.1111111111111111,
              "#46039f"
             ],
             [
              0.2222222222222222,
              "#7201a8"
             ],
             [
              0.3333333333333333,
              "#9c179e"
             ],
             [
              0.4444444444444444,
              "#bd3786"
             ],
             [
              0.5555555555555556,
              "#d8576b"
             ],
             [
              0.6666666666666666,
              "#ed7953"
             ],
             [
              0.7777777777777778,
              "#fb9f3a"
             ],
             [
              0.8888888888888888,
              "#fdca26"
             ],
             [
              1,
              "#f0f921"
             ]
            ],
            "type": "contour"
           }
          ],
          "contourcarpet": [
           {
            "colorbar": {
             "outlinewidth": 0,
             "ticks": ""
            },
            "type": "contourcarpet"
           }
          ],
          "heatmap": [
           {
            "colorbar": {
             "outlinewidth": 0,
             "ticks": ""
            },
            "colorscale": [
             [
              0,
              "#0d0887"
             ],
             [
              0.1111111111111111,
              "#46039f"
             ],
             [
              0.2222222222222222,
              "#7201a8"
             ],
             [
              0.3333333333333333,
              "#9c179e"
             ],
             [
              0.4444444444444444,
              "#bd3786"
             ],
             [
              0.5555555555555556,
              "#d8576b"
             ],
             [
              0.6666666666666666,
              "#ed7953"
             ],
             [
              0.7777777777777778,
              "#fb9f3a"
             ],
             [
              0.8888888888888888,
              "#fdca26"
             ],
             [
              1,
              "#f0f921"
             ]
            ],
            "type": "heatmap"
           }
          ],
          "heatmapgl": [
           {
            "colorbar": {
             "outlinewidth": 0,
             "ticks": ""
            },
            "colorscale": [
             [
              0,
              "#0d0887"
             ],
             [
              0.1111111111111111,
              "#46039f"
             ],
             [
              0.2222222222222222,
              "#7201a8"
             ],
             [
              0.3333333333333333,
              "#9c179e"
             ],
             [
              0.4444444444444444,
              "#bd3786"
             ],
             [
              0.5555555555555556,
              "#d8576b"
             ],
             [
              0.6666666666666666,
              "#ed7953"
             ],
             [
              0.7777777777777778,
              "#fb9f3a"
             ],
             [
              0.8888888888888888,
              "#fdca26"
             ],
             [
              1,
              "#f0f921"
             ]
            ],
            "type": "heatmapgl"
           }
          ],
          "histogram": [
           {
            "marker": {
             "pattern": {
              "fillmode": "overlay",
              "size": 10,
              "solidity": 0.2
             }
            },
            "type": "histogram"
           }
          ],
          "histogram2d": [
           {
            "colorbar": {
             "outlinewidth": 0,
             "ticks": ""
            },
            "colorscale": [
             [
              0,
              "#0d0887"
             ],
             [
              0.1111111111111111,
              "#46039f"
             ],
             [
              0.2222222222222222,
              "#7201a8"
             ],
             [
              0.3333333333333333,
              "#9c179e"
             ],
             [
              0.4444444444444444,
              "#bd3786"
             ],
             [
              0.5555555555555556,
              "#d8576b"
             ],
             [
              0.6666666666666666,
              "#ed7953"
             ],
             [
              0.7777777777777778,
              "#fb9f3a"
             ],
             [
              0.8888888888888888,
              "#fdca26"
             ],
             [
              1,
              "#f0f921"
             ]
            ],
            "type": "histogram2d"
           }
          ],
          "histogram2dcontour": [
           {
            "colorbar": {
             "outlinewidth": 0,
             "ticks": ""
            },
            "colorscale": [
             [
              0,
              "#0d0887"
             ],
             [
              0.1111111111111111,
              "#46039f"
             ],
             [
              0.2222222222222222,
              "#7201a8"
             ],
             [
              0.3333333333333333,
              "#9c179e"
             ],
             [
              0.4444444444444444,
              "#bd3786"
             ],
             [
              0.5555555555555556,
              "#d8576b"
             ],
             [
              0.6666666666666666,
              "#ed7953"
             ],
             [
              0.7777777777777778,
              "#fb9f3a"
             ],
             [
              0.8888888888888888,
              "#fdca26"
             ],
             [
              1,
              "#f0f921"
             ]
            ],
            "type": "histogram2dcontour"
           }
          ],
          "mesh3d": [
           {
            "colorbar": {
             "outlinewidth": 0,
             "ticks": ""
            },
            "type": "mesh3d"
           }
          ],
          "parcoords": [
           {
            "line": {
             "colorbar": {
              "outlinewidth": 0,
              "ticks": ""
             }
            },
            "type": "parcoords"
           }
          ],
          "pie": [
           {
            "automargin": true,
            "type": "pie"
           }
          ],
          "scatter": [
           {
            "fillpattern": {
             "fillmode": "overlay",
             "size": 10,
             "solidity": 0.2
            },
            "type": "scatter"
           }
          ],
          "scatter3d": [
           {
            "line": {
             "colorbar": {
              "outlinewidth": 0,
              "ticks": ""
             }
            },
            "marker": {
             "colorbar": {
              "outlinewidth": 0,
              "ticks": ""
             }
            },
            "type": "scatter3d"
           }
          ],
          "scattercarpet": [
           {
            "marker": {
             "colorbar": {
              "outlinewidth": 0,
              "ticks": ""
             }
            },
            "type": "scattercarpet"
           }
          ],
          "scattergeo": [
           {
            "marker": {
             "colorbar": {
              "outlinewidth": 0,
              "ticks": ""
             }
            },
            "type": "scattergeo"
           }
          ],
          "scattergl": [
           {
            "marker": {
             "colorbar": {
              "outlinewidth": 0,
              "ticks": ""
             }
            },
            "type": "scattergl"
           }
          ],
          "scattermapbox": [
           {
            "marker": {
             "colorbar": {
              "outlinewidth": 0,
              "ticks": ""
             }
            },
            "type": "scattermapbox"
           }
          ],
          "scatterpolar": [
           {
            "marker": {
             "colorbar": {
              "outlinewidth": 0,
              "ticks": ""
             }
            },
            "type": "scatterpolar"
           }
          ],
          "scatterpolargl": [
           {
            "marker": {
             "colorbar": {
              "outlinewidth": 0,
              "ticks": ""
             }
            },
            "type": "scatterpolargl"
           }
          ],
          "scatterternary": [
           {
            "marker": {
             "colorbar": {
              "outlinewidth": 0,
              "ticks": ""
             }
            },
            "type": "scatterternary"
           }
          ],
          "surface": [
           {
            "colorbar": {
             "outlinewidth": 0,
             "ticks": ""
            },
            "colorscale": [
             [
              0,
              "#0d0887"
             ],
             [
              0.1111111111111111,
              "#46039f"
             ],
             [
              0.2222222222222222,
              "#7201a8"
             ],
             [
              0.3333333333333333,
              "#9c179e"
             ],
             [
              0.4444444444444444,
              "#bd3786"
             ],
             [
              0.5555555555555556,
              "#d8576b"
             ],
             [
              0.6666666666666666,
              "#ed7953"
             ],
             [
              0.7777777777777778,
              "#fb9f3a"
             ],
             [
              0.8888888888888888,
              "#fdca26"
             ],
             [
              1,
              "#f0f921"
             ]
            ],
            "type": "surface"
           }
          ],
          "table": [
           {
            "cells": {
             "fill": {
              "color": "#EBF0F8"
             },
             "line": {
              "color": "white"
             }
            },
            "header": {
             "fill": {
              "color": "#C8D4E3"
             },
             "line": {
              "color": "white"
             }
            },
            "type": "table"
           }
          ]
         },
         "layout": {
          "annotationdefaults": {
           "arrowcolor": "#2a3f5f",
           "arrowhead": 0,
           "arrowwidth": 1
          },
          "autotypenumbers": "strict",
          "coloraxis": {
           "colorbar": {
            "outlinewidth": 0,
            "ticks": ""
           }
          },
          "colorscale": {
           "diverging": [
            [
             0,
             "#8e0152"
            ],
            [
             0.1,
             "#c51b7d"
            ],
            [
             0.2,
             "#de77ae"
            ],
            [
             0.3,
             "#f1b6da"
            ],
            [
             0.4,
             "#fde0ef"
            ],
            [
             0.5,
             "#f7f7f7"
            ],
            [
             0.6,
             "#e6f5d0"
            ],
            [
             0.7,
             "#b8e186"
            ],
            [
             0.8,
             "#7fbc41"
            ],
            [
             0.9,
             "#4d9221"
            ],
            [
             1,
             "#276419"
            ]
           ],
           "sequential": [
            [
             0,
             "#0d0887"
            ],
            [
             0.1111111111111111,
             "#46039f"
            ],
            [
             0.2222222222222222,
             "#7201a8"
            ],
            [
             0.3333333333333333,
             "#9c179e"
            ],
            [
             0.4444444444444444,
             "#bd3786"
            ],
            [
             0.5555555555555556,
             "#d8576b"
            ],
            [
             0.6666666666666666,
             "#ed7953"
            ],
            [
             0.7777777777777778,
             "#fb9f3a"
            ],
            [
             0.8888888888888888,
             "#fdca26"
            ],
            [
             1,
             "#f0f921"
            ]
           ],
           "sequentialminus": [
            [
             0,
             "#0d0887"
            ],
            [
             0.1111111111111111,
             "#46039f"
            ],
            [
             0.2222222222222222,
             "#7201a8"
            ],
            [
             0.3333333333333333,
             "#9c179e"
            ],
            [
             0.4444444444444444,
             "#bd3786"
            ],
            [
             0.5555555555555556,
             "#d8576b"
            ],
            [
             0.6666666666666666,
             "#ed7953"
            ],
            [
             0.7777777777777778,
             "#fb9f3a"
            ],
            [
             0.8888888888888888,
             "#fdca26"
            ],
            [
             1,
             "#f0f921"
            ]
           ]
          },
          "colorway": [
           "#636efa",
           "#EF553B",
           "#00cc96",
           "#ab63fa",
           "#FFA15A",
           "#19d3f3",
           "#FF6692",
           "#B6E880",
           "#FF97FF",
           "#FECB52"
          ],
          "font": {
           "color": "#2a3f5f"
          },
          "geo": {
           "bgcolor": "white",
           "lakecolor": "white",
           "landcolor": "#E5ECF6",
           "showlakes": true,
           "showland": true,
           "subunitcolor": "white"
          },
          "hoverlabel": {
           "align": "left"
          },
          "hovermode": "closest",
          "mapbox": {
           "style": "light"
          },
          "paper_bgcolor": "white",
          "plot_bgcolor": "#E5ECF6",
          "polar": {
           "angularaxis": {
            "gridcolor": "white",
            "linecolor": "white",
            "ticks": ""
           },
           "bgcolor": "#E5ECF6",
           "radialaxis": {
            "gridcolor": "white",
            "linecolor": "white",
            "ticks": ""
           }
          },
          "scene": {
           "xaxis": {
            "backgroundcolor": "#E5ECF6",
            "gridcolor": "white",
            "gridwidth": 2,
            "linecolor": "white",
            "showbackground": true,
            "ticks": "",
            "zerolinecolor": "white"
           },
           "yaxis": {
            "backgroundcolor": "#E5ECF6",
            "gridcolor": "white",
            "gridwidth": 2,
            "linecolor": "white",
            "showbackground": true,
            "ticks": "",
            "zerolinecolor": "white"
           },
           "zaxis": {
            "backgroundcolor": "#E5ECF6",
            "gridcolor": "white",
            "gridwidth": 2,
            "linecolor": "white",
            "showbackground": true,
            "ticks": "",
            "zerolinecolor": "white"
           }
          },
          "shapedefaults": {
           "line": {
            "color": "#2a3f5f"
           }
          },
          "ternary": {
           "aaxis": {
            "gridcolor": "white",
            "linecolor": "white",
            "ticks": ""
           },
           "baxis": {
            "gridcolor": "white",
            "linecolor": "white",
            "ticks": ""
           },
           "bgcolor": "#E5ECF6",
           "caxis": {
            "gridcolor": "white",
            "linecolor": "white",
            "ticks": ""
           }
          },
          "title": {
           "x": 0.05
          },
          "xaxis": {
           "automargin": true,
           "gridcolor": "white",
           "linecolor": "white",
           "ticks": "",
           "title": {
            "standoff": 15
           },
           "zerolinecolor": "white",
           "zerolinewidth": 2
          },
          "yaxis": {
           "automargin": true,
           "gridcolor": "white",
           "linecolor": "white",
           "ticks": "",
           "title": {
            "standoff": 15
           },
           "zerolinecolor": "white",
           "zerolinewidth": 2
          }
         }
        },
        "title": {
         "text": "Power Trade Capacity in 2018 - Day"
        },
        "width": 1620
       }
      }
     },
     "metadata": {},
     "output_type": "display_data"
    }
   ],
   "source": [
    "trade_capacity_plotter = TradeCapacityMapFacilitator(sol_path=SOLUTION_FILEPATH, year=2018)\n",
    "\n",
    "relevant_data = trade_capacity_plotter.get_relevant_data()\n",
    "\n",
    "relevant_data.TotalTradeCapacity.filter_by_identifier(column=\"Fuel\", identifier=\"Power\")\n",
    "\n",
    "fig = trade_capacity_plotter.plot(relevant_data)\n",
    "\n",
    "fig.layout.title = \"Power Trade Capacity in 2018\" + TITLE_ADDON\n",
    "\n",
    "fig.update_layout(margin=dict(l=0, r=0, t=30, b=0))\n",
    "\n",
    "fig.write_image(\"PowerTradeCapacity2018\" + TITLE_ADDON.replace(\" \", \"\") + \".png\")\n",
    "\n",
    "fig.show()"
   ]
  },
  {
   "cell_type": "code",
   "execution_count": 68,
   "metadata": {},
   "outputs": [
    {
     "name": "stdout",
     "output_type": "stream",
     "text": [
      "No unit conversion applied!\n",
      "[2050]\n"
     ]
    },
    {
     "data": {
      "application/vnd.plotly.v1+json": {
       "config": {
        "plotlyServerURL": "https://plot.ly"
       },
       "data": [
        {
         "lat": [
          46.818188,
          47.516231
         ],
         "legendgroup": "AT CH",
         "line": {
          "color": "#f4b6c2",
          "width": 2.48
         },
         "locationmode": "country names",
         "lon": [
          8.227512,
          14.550072
         ],
         "mode": "lines+markers",
         "name": "AT CH",
         "showlegend": false,
         "type": "scattergeo"
        },
        {
         "lat": [
          49.817492,
          47.516231
         ],
         "legendgroup": "AT CZ",
         "line": {
          "color": "#f4b6c2",
          "width": 5.142857142857143
         },
         "locationmode": "country names",
         "lon": [
          15.472962,
          14.550072
         ],
         "mode": "lines+markers",
         "name": "AT CZ",
         "showlegend": false,
         "type": "scattergeo"
        },
        {
         "lat": [
          51.165691,
          47.516231
         ],
         "legendgroup": "AT DE",
         "line": {
          "color": "#f4b6c2",
          "width": 11.428571428571427
         },
         "locationmode": "country names",
         "lon": [
          10.451526,
          14.550072
         ],
         "mode": "lines+markers",
         "name": "AT DE",
         "showlegend": false,
         "type": "scattergeo"
        },
        {
         "lat": [
          47.162494,
          47.516231
         ],
         "legendgroup": "AT HU",
         "line": {
          "color": "#f4b6c2",
          "width": 4.571428571428572
         },
         "locationmode": "country names",
         "lon": [
          19.503304,
          14.550072
         ],
         "mode": "lines+markers",
         "name": "AT HU",
         "showlegend": false,
         "type": "scattergeo"
        },
        {
         "lat": [
          41.87194,
          47.516231
         ],
         "legendgroup": "AT IT",
         "line": {
          "color": "#f4b6c2",
          "width": 0.4057142857142857
         },
         "locationmode": "country names",
         "lon": [
          12.56738,
          14.550072
         ],
         "mode": "lines+markers",
         "name": "AT IT",
         "showlegend": false,
         "type": "scattergeo"
        },
        {
         "lat": [
          46.151241,
          47.516231
         ],
         "legendgroup": "AT SI",
         "line": {
          "color": "#f4b6c2",
          "width": 5.4290476171428566
         },
         "locationmode": "country names",
         "lon": [
          14.995463,
          14.550072
         ],
         "mode": "lines+markers",
         "name": "AT SI",
         "showlegend": false,
         "type": "scattergeo"
        },
        {
         "lat": [
          46.227638,
          50.503887
         ],
         "legendgroup": "BE FR",
         "line": {
          "color": "#f4b6c2",
          "width": 8.571428571428571
         },
         "locationmode": "country names",
         "lon": [
          2.213749,
          4.469936
         ],
         "mode": "lines+markers",
         "name": "BE FR",
         "showlegend": false,
         "type": "scattergeo"
        },
        {
         "lat": [
          52.132633,
          50.503887
         ],
         "legendgroup": "BE NL",
         "line": {
          "color": "#f4b6c2",
          "width": 8.148571428571428
         },
         "locationmode": "country names",
         "lon": [
          5.291266,
          4.469936
         ],
         "mode": "lines+markers",
         "name": "BE NL",
         "showlegend": false,
         "type": "scattergeo"
        },
        {
         "lat": [
          44.29182,
          42.733883
         ],
         "legendgroup": "BG NONEU_Balkan",
         "line": {
          "color": "#f4b6c2",
          "width": 1.9999999999999998
         },
         "locationmode": "country names",
         "lon": [
          19.24671,
          25.48583
         ],
         "mode": "lines+markers",
         "name": "BG NONEU_Balkan",
         "showlegend": false,
         "type": "scattergeo"
        },
        {
         "lat": [
          45.943161,
          42.733883
         ],
         "legendgroup": "BG RO",
         "line": {
          "color": "#f4b6c2",
          "width": 0.8571428571428572
         },
         "locationmode": "country names",
         "lon": [
          24.96676,
          25.48583
         ],
         "mode": "lines+markers",
         "name": "BG RO",
         "showlegend": false,
         "type": "scattergeo"
        },
        {
         "lat": [
          38.963745,
          42.733883
         ],
         "legendgroup": "BG TR",
         "line": {
          "color": "#f4b6c2",
          "width": 5.7142857142857135
         },
         "locationmode": "country names",
         "lon": [
          35.243322,
          25.48583
         ],
         "mode": "lines+markers",
         "name": "BG TR",
         "showlegend": false,
         "type": "scattergeo"
        },
        {
         "lat": [
          51.165691,
          46.818188
         ],
         "legendgroup": "CH DE",
         "line": {
          "color": "#f4b6c2",
          "width": 20
         },
         "locationmode": "country names",
         "lon": [
          10.451526,
          8.227512
         ],
         "mode": "lines+markers",
         "name": "CH DE",
         "showlegend": false,
         "type": "scattergeo"
        },
        {
         "lat": [
          46.227638,
          46.818188
         ],
         "legendgroup": "CH FR",
         "line": {
          "color": "#f4b6c2",
          "width": 6.2857142857142865
         },
         "locationmode": "country names",
         "lon": [
          2.213749,
          8.227512
         ],
         "mode": "lines+markers",
         "name": "CH FR",
         "showlegend": false,
         "type": "scattergeo"
        },
        {
         "lat": [
          41.87194,
          46.818188
         ],
         "legendgroup": "CH IT",
         "line": {
          "color": "#f4b6c2",
          "width": 7.634285714285714
         },
         "locationmode": "country names",
         "lon": [
          12.56738,
          8.227512
         ],
         "mode": "lines+markers",
         "name": "CH IT",
         "showlegend": false,
         "type": "scattergeo"
        },
        {
         "lat": [
          51.165691,
          49.817492
         ],
         "legendgroup": "CZ DE",
         "line": {
          "color": "#f4b6c2",
          "width": 10.142857142857142
         },
         "locationmode": "country names",
         "lon": [
          10.451526,
          15.472962
         ],
         "mode": "lines+markers",
         "name": "CZ DE",
         "showlegend": false,
         "type": "scattergeo"
        },
        {
         "lat": [
          51.919438,
          49.817492
         ],
         "legendgroup": "CZ PL",
         "line": {
          "color": "#f4b6c2",
          "width": 0.5714285714285715
         },
         "locationmode": "country names",
         "lon": [
          19.145136,
          15.472962
         ],
         "mode": "lines+markers",
         "name": "CZ PL",
         "showlegend": false,
         "type": "scattergeo"
        },
        {
         "lat": [
          48.669026,
          49.817492
         ],
         "legendgroup": "CZ SK",
         "line": {
          "color": "#f4b6c2",
          "width": 9.714285714285714
         },
         "locationmode": "country names",
         "lon": [
          19.699024,
          15.472962
         ],
         "mode": "lines+markers",
         "name": "CZ SK",
         "showlegend": false,
         "type": "scattergeo"
        },
        {
         "lat": [
          56.26392,
          51.165691
         ],
         "legendgroup": "DE DK",
         "line": {
          "color": "#f4b6c2",
          "width": 17.714285714285715
         },
         "locationmode": "country names",
         "lon": [
          9.501785,
          10.451526
         ],
         "mode": "lines+markers",
         "name": "DE DK",
         "showlegend": false,
         "type": "scattergeo"
        },
        {
         "lat": [
          46.227638,
          51.165691
         ],
         "legendgroup": "DE FR",
         "line": {
          "color": "#f4b6c2",
          "width": 9.571428571428571
         },
         "locationmode": "country names",
         "lon": [
          2.213749,
          10.451526
         ],
         "mode": "lines+markers",
         "name": "DE FR",
         "showlegend": false,
         "type": "scattergeo"
        },
        {
         "lat": [
          49.815273,
          51.165691
         ],
         "legendgroup": "DE LU",
         "line": {
          "color": "#f4b6c2",
          "width": 5.6
         },
         "locationmode": "country names",
         "lon": [
          6.129583,
          10.451526
         ],
         "mode": "lines+markers",
         "name": "DE LU",
         "showlegend": false,
         "type": "scattergeo"
        },
        {
         "lat": [
          52.132633,
          51.165691
         ],
         "legendgroup": "DE NL",
         "line": {
          "color": "#f4b6c2",
          "width": 16.285714285714285
         },
         "locationmode": "country names",
         "lon": [
          5.291266,
          10.451526
         ],
         "mode": "lines+markers",
         "name": "DE NL",
         "showlegend": false,
         "type": "scattergeo"
        },
        {
         "lat": [
          60,
          51.165691
         ],
         "legendgroup": "DE NO",
         "line": {
          "color": "#f4b6c2",
          "width": 8.251428571428571
         },
         "locationmode": "country names",
         "lon": [
          6,
          10.451526
         ],
         "mode": "lines+markers",
         "name": "DE NO",
         "showlegend": false,
         "type": "scattergeo"
        },
        {
         "lat": [
          51.919438,
          51.165691
         ],
         "legendgroup": "DE PL",
         "line": {
          "color": "#f4b6c2",
          "width": 0.5714285714285715
         },
         "locationmode": "country names",
         "lon": [
          19.145136,
          10.451526
         ],
         "mode": "lines+markers",
         "name": "DE PL",
         "showlegend": false,
         "type": "scattergeo"
        },
        {
         "lat": [
          60,
          56.26392
         ],
         "legendgroup": "DK NO",
         "line": {
          "color": "#f4b6c2",
          "width": 9.714285714285714
         },
         "locationmode": "country names",
         "lon": [
          6,
          9.501785
         ],
         "mode": "lines+markers",
         "name": "DK NO",
         "showlegend": false,
         "type": "scattergeo"
        },
        {
         "lat": [
          60.128161,
          56.26392
         ],
         "legendgroup": "DK SE",
         "line": {
          "color": "#f4b6c2",
          "width": 13.942857142857143
         },
         "locationmode": "country names",
         "lon": [
          15,
          9.501785
         ],
         "mode": "lines+markers",
         "name": "DK SE",
         "showlegend": false,
         "type": "scattergeo"
        },
        {
         "lat": [
          61.92411,
          58.595272
         ],
         "legendgroup": "EE FI",
         "line": {
          "color": "#f4b6c2",
          "width": 2.085714285714286
         },
         "locationmode": "country names",
         "lon": [
          25.748151,
          25.013607
         ],
         "mode": "lines+markers",
         "name": "EE FI",
         "showlegend": false,
         "type": "scattergeo"
        },
        {
         "lat": [
          56.879635,
          58.595272
         ],
         "legendgroup": "EE LV",
         "line": {
          "color": "#f4b6c2",
          "width": 4.571428571428572
         },
         "locationmode": "country names",
         "lon": [
          24.603189,
          25.013607
         ],
         "mode": "lines+markers",
         "name": "EE LV",
         "showlegend": false,
         "type": "scattergeo"
        },
        {
         "lat": [
          46.227638,
          40.463667
         ],
         "legendgroup": "ES FR",
         "line": {
          "color": "#f4b6c2",
          "width": 6.119047617142856
         },
         "locationmode": "country names",
         "lon": [
          2.213749,
          -3.74922
         ],
         "mode": "lines+markers",
         "name": "ES FR",
         "showlegend": false,
         "type": "scattergeo"
        },
        {
         "lat": [
          39.399872,
          40.463667
         ],
         "legendgroup": "ES PT",
         "line": {
          "color": "#f4b6c2",
          "width": 8.392857142857142
         },
         "locationmode": "country names",
         "lon": [
          -8.224454,
          -3.74922
         ],
         "mode": "lines+markers",
         "name": "ES PT",
         "showlegend": false,
         "type": "scattergeo"
        },
        {
         "lat": [
          60.128161,
          61.92411
         ],
         "legendgroup": "FI SE",
         "line": {
          "color": "#f4b6c2",
          "width": 11.142857142857142
         },
         "locationmode": "country names",
         "lon": [
          15,
          25.748151
         ],
         "mode": "lines+markers",
         "name": "FI SE",
         "showlegend": false,
         "type": "scattergeo"
        },
        {
         "lat": [
          41.87194,
          46.227638
         ],
         "legendgroup": "FR IT",
         "line": {
          "color": "#f4b6c2",
          "width": 4.948571428571428
         },
         "locationmode": "country names",
         "lon": [
          12.56738,
          2.213749
         ],
         "mode": "lines+markers",
         "name": "FR IT",
         "showlegend": false,
         "type": "scattergeo"
        },
        {
         "lat": [
          55.378051,
          46.227638
         ],
         "legendgroup": "FR UK",
         "line": {
          "color": "#f4b6c2",
          "width": 11.428571428571427
         },
         "locationmode": "country names",
         "lon": [
          -3.435973,
          2.213749
         ],
         "mode": "lines+markers",
         "name": "FR UK",
         "showlegend": false,
         "type": "scattergeo"
        },
        {
         "lat": [
          41.87194,
          39.074208
         ],
         "legendgroup": "GR IT",
         "line": {
          "color": "#f4b6c2",
          "width": 2.8571428571428568
         },
         "locationmode": "country names",
         "lon": [
          12.56738,
          21.824312
         ],
         "mode": "lines+markers",
         "name": "GR IT",
         "showlegend": false,
         "type": "scattergeo"
        },
        {
         "lat": [
          44.29182,
          39.074208
         ],
         "legendgroup": "GR NONEU_Balkan",
         "line": {
          "color": "#f4b6c2",
          "width": 1.7142857142857144
         },
         "locationmode": "country names",
         "lon": [
          19.24671,
          21.824312
         ],
         "mode": "lines+markers",
         "name": "GR NONEU_Balkan",
         "showlegend": false,
         "type": "scattergeo"
        },
        {
         "lat": [
          38.963745,
          39.074208
         ],
         "legendgroup": "GR TR",
         "line": {
          "color": "#f4b6c2",
          "width": 5.7142857142857135
         },
         "locationmode": "country names",
         "lon": [
          35.243322,
          21.824312
         ],
         "mode": "lines+markers",
         "name": "GR TR",
         "showlegend": false,
         "type": "scattergeo"
        },
        {
         "lat": [
          47.162494,
          45.1
         ],
         "legendgroup": "HR HU",
         "line": {
          "color": "#f4b6c2",
          "width": 6.2857142857142865
         },
         "locationmode": "country names",
         "lon": [
          19.503304,
          15.2
         ],
         "mode": "lines+markers",
         "name": "HR HU",
         "showlegend": false,
         "type": "scattergeo"
        },
        {
         "lat": [
          44.29182,
          45.1
         ],
         "legendgroup": "HR NONEU_Balkan",
         "line": {
          "color": "#f4b6c2",
          "width": 6.2857142857142865
         },
         "locationmode": "country names",
         "lon": [
          19.24671,
          15.2
         ],
         "mode": "lines+markers",
         "name": "HR NONEU_Balkan",
         "showlegend": false,
         "type": "scattergeo"
        },
        {
         "lat": [
          44.29182,
          47.162494
         ],
         "legendgroup": "HU NONEU_Balkan",
         "line": {
          "color": "#f4b6c2",
          "width": 3.9999999999999996
         },
         "locationmode": "country names",
         "lon": [
          19.24671,
          19.503304
         ],
         "mode": "lines+markers",
         "name": "HU NONEU_Balkan",
         "showlegend": false,
         "type": "scattergeo"
        },
        {
         "lat": [
          45.943161,
          47.162494
         ],
         "legendgroup": "HU RO",
         "line": {
          "color": "#f4b6c2",
          "width": 2.285714285714286
         },
         "locationmode": "country names",
         "lon": [
          24.96676,
          19.503304
         ],
         "mode": "lines+markers",
         "name": "HU RO",
         "showlegend": false,
         "type": "scattergeo"
        },
        {
         "lat": [
          48.669026,
          47.162494
         ],
         "legendgroup": "HU SK",
         "line": {
          "color": "#f4b6c2",
          "width": 7.542857142857145
         },
         "locationmode": "country names",
         "lon": [
          19.699024,
          19.503304
         ],
         "mode": "lines+markers",
         "name": "HU SK",
         "showlegend": false,
         "type": "scattergeo"
        },
        {
         "lat": [
          55.378051,
          53.41291
         ],
         "legendgroup": "IE UK",
         "line": {
          "color": "#f4b6c2",
          "width": 2.5714285714285716
         },
         "locationmode": "country names",
         "lon": [
          -3.435973,
          -8.24389
         ],
         "mode": "lines+markers",
         "name": "IE UK",
         "showlegend": false,
         "type": "scattergeo"
        },
        {
         "lat": [
          46.151241,
          41.87194
         ],
         "legendgroup": "IT SI",
         "line": {
          "color": "#f4b6c2",
          "width": 1.0285714285714285
         },
         "locationmode": "country names",
         "lon": [
          14.995463,
          12.56738
         ],
         "mode": "lines+markers",
         "name": "IT SI",
         "showlegend": false,
         "type": "scattergeo"
        },
        {
         "lat": [
          56.879635,
          55.169438
         ],
         "legendgroup": "LT LV",
         "line": {
          "color": "#f4b6c2",
          "width": 8.571428571428571
         },
         "locationmode": "country names",
         "lon": [
          24.603189,
          23.881275
         ],
         "mode": "lines+markers",
         "name": "LT LV",
         "showlegend": false,
         "type": "scattergeo"
        },
        {
         "lat": [
          55.378051,
          52.132633
         ],
         "legendgroup": "NL UK",
         "line": {
          "color": "#f4b6c2",
          "width": 5.805714285714286
         },
         "locationmode": "country names",
         "lon": [
          -3.435973,
          5.291266
         ],
         "mode": "lines+markers",
         "name": "NL UK",
         "showlegend": false,
         "type": "scattergeo"
        },
        {
         "lat": [
          60.128161,
          60
         ],
         "legendgroup": "NO SE",
         "line": {
          "color": "#f4b6c2",
          "width": 19.685714285714283
         },
         "locationmode": "country names",
         "lon": [
          15,
          6
         ],
         "mode": "lines+markers",
         "name": "NO SE",
         "showlegend": false,
         "type": "scattergeo"
        },
        {
         "lat": [
          55.378051,
          60
         ],
         "legendgroup": "NO UK",
         "line": {
          "color": "#f4b6c2",
          "width": 15.999999999999998
         },
         "locationmode": "country names",
         "lon": [
          -3.435973,
          6
         ],
         "mode": "lines+markers",
         "name": "NO UK",
         "showlegend": false,
         "type": "scattergeo"
        },
        {
         "lat": [
          45.943161,
          44.29182
         ],
         "legendgroup": "NONEU_Balkan RO",
         "line": {
          "color": "#f4b6c2",
          "width": 1.142857142857143
         },
         "locationmode": "country names",
         "lon": [
          24.96676,
          19.24671
         ],
         "mode": "lines+markers",
         "name": "NONEU_Balkan RO",
         "showlegend": false,
         "type": "scattergeo"
        },
        {
         "lat": [
          60.128161,
          51.919438
         ],
         "legendgroup": "PL SE",
         "line": {
          "color": "#f4b6c2",
          "width": 1.5195238114285714
         },
         "locationmode": "country names",
         "lon": [
          15,
          19.145136
         ],
         "mode": "lines+markers",
         "name": "PL SE",
         "showlegend": false,
         "type": "scattergeo"
        },
        {
         "lat": [
          48.669026,
          51.919438
         ],
         "legendgroup": "PL SK",
         "line": {
          "color": "#f4b6c2",
          "width": 3.428571428571429
         },
         "locationmode": "country names",
         "lon": [
          19.699024,
          19.145136
         ],
         "mode": "lines+markers",
         "name": "PL SK",
         "showlegend": false,
         "type": "scattergeo"
        },
        {
         "lat": [
          47.166511457
         ],
         "locationmode": "country names",
         "lon": [
          11.382469440000001
         ],
         "mode": "text",
         "showlegend": false,
         "text": " 0.43 GW",
         "textfont": {
          "color": "black",
          "size": 8
         },
         "textposition": "top center",
         "type": "scattergeo"
        },
        {
         "lat": [
          48.669162761
         ],
         "locationmode": "country names",
         "lon": [
          15.01243989
         ],
         "mode": "text",
         "showlegend": false,
         "text": " 0.90 GW",
         "textfont": {
          "color": "black",
          "size": 8
         },
         "textposition": "top center",
         "type": "scattergeo"
        },
        {
         "lat": [
          49.34461046
         ],
         "locationmode": "country names",
         "lon": [
          12.496700453999999
         ],
         "mode": "text",
         "showlegend": false,
         "text": " 2.00 GW",
         "textfont": {
          "color": "black",
          "size": 8
         },
         "textposition": "top center",
         "type": "scattergeo"
        },
        {
         "lat": [
          47.339008763
         ],
         "locationmode": "country names",
         "lon": [
          17.031641232
         ],
         "mode": "text",
         "showlegend": false,
         "text": " 0.80 GW",
         "textfont": {
          "color": "black",
          "size": 8
         },
         "textposition": "top center",
         "type": "scattergeo"
        },
        {
         "lat": [
          44.688441209
         ],
         "locationmode": "country names",
         "lon": [
          13.556743308
         ],
         "mode": "text",
         "showlegend": false,
         "text": " 0.07 GW",
         "textfont": {
          "color": "black",
          "size": 8
         },
         "textposition": "top center",
         "type": "scattergeo"
        },
        {
         "lat": [
          46.832371009999996
         ],
         "locationmode": "country names",
         "lon": [
          14.773212891
         ],
         "mode": "text",
         "showlegend": false,
         "text": " 0.95 GW",
         "textfont": {
          "color": "black",
          "size": 8
         },
         "textposition": "top center",
         "type": "scattergeo"
        },
        {
         "lat": [
          48.361486251
         ],
         "locationmode": "country names",
         "lon": [
          3.339586313
         ],
         "mode": "text",
         "showlegend": false,
         "text": " 1.50 GW",
         "textfont": {
          "color": "black",
          "size": 8
         },
         "textposition": "top center",
         "type": "scattergeo"
        },
        {
         "lat": [
          51.319888746
         ],
         "locationmode": "country names",
         "lon": [
          4.88142233
         ],
         "mode": "text",
         "showlegend": false,
         "text": " 1.43 GW",
         "textfont": {
          "color": "black",
          "size": 8
         },
         "textposition": "top center",
         "type": "scattergeo"
        },
        {
         "lat": [
          43.514409437
         ],
         "locationmode": "country names",
         "lon": [
          22.36003088
         ],
         "mode": "text",
         "showlegend": false,
         "text": " 0.35 GW",
         "textfont": {
          "color": "black",
          "size": 8
         },
         "textposition": "top center",
         "type": "scattergeo"
        },
        {
         "lat": [
          44.341731278
         ],
         "locationmode": "country names",
         "lon": [
          25.22577593
         ],
         "mode": "text",
         "showlegend": false,
         "text": " 0.15 GW",
         "textfont": {
          "color": "black",
          "size": 8
         },
         "textposition": "top center",
         "type": "scattergeo"
        },
        {
         "lat": [
          40.845043862000004
         ],
         "locationmode": "country names",
         "lon": [
          30.374333491999998
         ],
         "mode": "text",
         "showlegend": false,
         "text": " 1.00 GW",
         "textfont": {
          "color": "black",
          "size": 8
         },
         "textposition": "top center",
         "type": "scattergeo"
        },
        {
         "lat": [
          48.996287003
         ],
         "locationmode": "country names",
         "lon": [
          9.341743014
         ],
         "mode": "text",
         "showlegend": false,
         "text": " 3.50 GW",
         "textfont": {
          "color": "black",
          "size": 8
         },
         "textposition": "top center",
         "type": "scattergeo"
        },
        {
         "lat": [
          46.52232245
         ],
         "locationmode": "country names",
         "lon": [
          5.214616737
         ],
         "mode": "text",
         "showlegend": false,
         "text": " 1.10 GW",
         "textfont": {
          "color": "black",
          "size": 8
         },
         "textposition": "top center",
         "type": "scattergeo"
        },
        {
         "lat": [
          44.340117752
         ],
         "locationmode": "country names",
         "lon": [
          10.401785868000001
         ],
         "mode": "text",
         "showlegend": false,
         "text": " 1.34 GW",
         "textfont": {
          "color": "black",
          "size": 8
         },
         "textposition": "top center",
         "type": "scattergeo"
        },
        {
         "lat": [
          50.492939699000004
         ],
         "locationmode": "country names",
         "lon": [
          12.957222564
         ],
         "mode": "text",
         "showlegend": false,
         "text": " 1.77 GW",
         "textfont": {
          "color": "black",
          "size": 8
         },
         "textposition": "top center",
         "type": "scattergeo"
        },
        {
         "lat": [
          50.870566946000004
         ],
         "locationmode": "country names",
         "lon": [
          17.312721174
         ],
         "mode": "text",
         "showlegend": false,
         "text": " 0.10 GW",
         "textfont": {
          "color": "black",
          "size": 8
         },
         "textposition": "top center",
         "type": "scattergeo"
        },
        {
         "lat": [
          49.242110534000005
         ],
         "locationmode": "country names",
         "lon": [
          17.590219062000003
         ],
         "mode": "text",
         "showlegend": false,
         "text": " 1.70 GW",
         "textfont": {
          "color": "black",
          "size": 8
         },
         "textposition": "top center",
         "type": "scattergeo"
        },
        {
         "lat": [
          53.719903729
         ],
         "locationmode": "country names",
         "lon": [
          9.975705759
         ],
         "mode": "text",
         "showlegend": false,
         "text": " 3.10 GW",
         "textfont": {
          "color": "black",
          "size": 8
         },
         "textposition": "top center",
         "type": "scattergeo"
        },
        {
         "lat": [
          48.691726447
         ],
         "locationmode": "country names",
         "lon": [
          6.324399723
         ],
         "mode": "text",
         "showlegend": false,
         "text": " 1.68 GW",
         "textfont": {
          "color": "black",
          "size": 8
         },
         "textposition": "top center",
         "type": "scattergeo"
        },
        {
         "lat": [
          50.489131582
         ],
         "locationmode": "country names",
         "lon": [
          8.286232557
         ],
         "mode": "text",
         "showlegend": false,
         "text": " 0.98 GW",
         "textfont": {
          "color": "black",
          "size": 8
         },
         "textposition": "top center",
         "type": "scattergeo"
        },
        {
         "lat": [
          51.650128942
         ],
         "locationmode": "country names",
         "lon": [
          7.8662357400000005
         ],
         "mode": "text",
         "showlegend": false,
         "text": " 2.85 GW",
         "textfont": {
          "color": "black",
          "size": 8
         },
         "textposition": "top center",
         "type": "scattergeo"
        },
        {
         "lat": [
          55.591679809
         ],
         "locationmode": "country names",
         "lon": [
          8.221311474
         ],
         "mode": "text",
         "showlegend": false,
         "text": " 1.44 GW",
         "textfont": {
          "color": "black",
          "size": 8
         },
         "textposition": "top center",
         "type": "scattergeo"
        },
        {
         "lat": [
          51.543318247
         ],
         "locationmode": "country names",
         "lon": [
          14.80702461
         ],
         "mode": "text",
         "showlegend": false,
         "text": " 0.10 GW",
         "textfont": {
          "color": "black",
          "size": 8
         },
         "textposition": "top center",
         "type": "scattergeo"
        },
        {
         "lat": [
          58.13569608
         ],
         "locationmode": "country names",
         "lon": [
          7.747390715
         ],
         "mode": "text",
         "showlegend": false,
         "text": " 1.70 GW",
         "textfont": {
          "color": "black",
          "size": 8
         },
         "textposition": "top center",
         "type": "scattergeo"
        },
        {
         "lat": [
          58.199904741
         ],
         "locationmode": "country names",
         "lon": [
          12.256390715
         ],
         "mode": "text",
         "showlegend": false,
         "text": " 2.44 GW",
         "textfont": {
          "color": "black",
          "size": 8
         },
         "textposition": "top center",
         "type": "scattergeo"
        },
        {
         "lat": [
          60.263019838
         ],
         "locationmode": "country names",
         "lon": [
          25.381613544
         ],
         "mode": "text",
         "showlegend": false,
         "text": " 0.36 GW",
         "textfont": {
          "color": "black",
          "size": 8
         },
         "textposition": "top center",
         "type": "scattergeo"
        },
        {
         "lat": [
          57.735737863000004
         ],
         "locationmode": "country names",
         "lon": [
          24.807987582
         ],
         "mode": "text",
         "showlegend": false,
         "text": " 0.80 GW",
         "textfont": {
          "color": "black",
          "size": 8
         },
         "textposition": "top center",
         "type": "scattergeo"
        },
        {
         "lat": [
          43.351416471
         ],
         "locationmode": "country names",
         "lon": [
          -0.7617725310000001
         ],
         "mode": "text",
         "showlegend": false,
         "text": " 1.07 GW",
         "textfont": {
          "color": "black",
          "size": 8
         },
         "textposition": "top center",
         "type": "scattergeo"
        },
        {
         "lat": [
          39.930705705
         ],
         "locationmode": "country names",
         "lon": [
          -5.9913122340000005
         ],
         "mode": "text",
         "showlegend": false,
         "text": " 1.47 GW",
         "textfont": {
          "color": "black",
          "size": 8
         },
         "textposition": "top center",
         "type": "scattergeo"
        },
        {
         "lat": [
          61.024339551
         ],
         "locationmode": "country names",
         "lon": [
          20.363327349000002
         ],
         "mode": "text",
         "showlegend": false,
         "text": " 1.95 GW",
         "textfont": {
          "color": "black",
          "size": 8
         },
         "textposition": "top center",
         "type": "scattergeo"
        },
        {
         "lat": [
          44.045433302
         ],
         "locationmode": "country names",
         "lon": [
          7.400918131
         ],
         "mode": "text",
         "showlegend": false,
         "text": " 0.87 GW",
         "textfont": {
          "color": "black",
          "size": 8
         },
         "textposition": "top center",
         "type": "scattergeo"
        },
        {
         "lat": [
          50.811994913
         ],
         "locationmode": "country names",
         "lon": [
          -0.6167617219999997
         ],
         "mode": "text",
         "showlegend": false,
         "text": " 2.00 GW",
         "textfont": {
          "color": "black",
          "size": 8
         },
         "textposition": "top center",
         "type": "scattergeo"
        },
        {
         "lat": [
          40.475871732
         ],
         "locationmode": "country names",
         "lon": [
          17.186589068
         ],
         "mode": "text",
         "showlegend": false,
         "text": " 0.50 GW",
         "textfont": {
          "color": "black",
          "size": 8
         },
         "textposition": "top center",
         "type": "scattergeo"
        },
        {
         "lat": [
          41.688231612
         ],
         "locationmode": "country names",
         "lon": [
          20.532933398
         ],
         "mode": "text",
         "showlegend": false,
         "text": " 0.30 GW",
         "textfont": {
          "color": "black",
          "size": 8
         },
         "textposition": "top center",
         "type": "scattergeo"
        },
        {
         "lat": [
          39.018866037
         ],
         "locationmode": "country names",
         "lon": [
          28.54723601
         ],
         "mode": "text",
         "showlegend": false,
         "text": " 1.00 GW",
         "textfont": {
          "color": "black",
          "size": 8
         },
         "textposition": "top center",
         "type": "scattergeo"
        },
        {
         "lat": [
          46.133309494
         ],
         "locationmode": "country names",
         "lon": [
          17.355955304
         ],
         "mode": "text",
         "showlegend": false,
         "text": " 1.10 GW",
         "textfont": {
          "color": "black",
          "size": 8
         },
         "textposition": "top center",
         "type": "scattergeo"
        },
        {
         "lat": [
          44.69510182
         ],
         "locationmode": "country names",
         "lon": [
          17.22740171
         ],
         "mode": "text",
         "showlegend": false,
         "text": " 1.10 GW",
         "textfont": {
          "color": "black",
          "size": 8
         },
         "textposition": "top center",
         "type": "scattergeo"
        },
        {
         "lat": [
          45.724286326000005
         ],
         "locationmode": "country names",
         "lon": [
          19.374750406
         ],
         "mode": "text",
         "showlegend": false,
         "text": " 0.70 GW",
         "textfont": {
          "color": "black",
          "size": 8
         },
         "textposition": "top center",
         "type": "scattergeo"
        },
        {
         "lat": [
          46.551608167000005
         ],
         "locationmode": "country names",
         "lon": [
          22.240495456
         ],
         "mode": "text",
         "showlegend": false,
         "text": " 0.40 GW",
         "textfont": {
          "color": "black",
          "size": 8
         },
         "textposition": "top center",
         "type": "scattergeo"
        },
        {
         "lat": [
          47.917266532
         ],
         "locationmode": "country names",
         "lon": [
          19.60135972
         ],
         "mode": "text",
         "showlegend": false,
         "text": " 1.32 GW",
         "textfont": {
          "color": "black",
          "size": 8
         },
         "textposition": "top center",
         "type": "scattergeo"
        },
        {
         "lat": [
          54.397445641
         ],
         "locationmode": "country names",
         "lon": [
          -5.835123583
         ],
         "mode": "text",
         "showlegend": false,
         "text": " 0.45 GW",
         "textfont": {
          "color": "black",
          "size": 8
         },
         "textposition": "top center",
         "type": "scattergeo"
        },
        {
         "lat": [
          44.015869801
         ],
         "locationmode": "country names",
         "lon": [
          13.783849583
         ],
         "mode": "text",
         "showlegend": false,
         "text": " 0.18 GW",
         "textfont": {
          "color": "black",
          "size": 8
         },
         "textposition": "top center",
         "type": "scattergeo"
        },
        {
         "lat": [
          56.026246697
         ],
         "locationmode": "country names",
         "lon": [
          24.242953914
         ],
         "mode": "text",
         "showlegend": false,
         "text": " 1.50 GW",
         "textfont": {
          "color": "black",
          "size": 8
         },
         "textposition": "top center",
         "type": "scattergeo"
        },
        {
         "lat": [
          53.758587418
         ],
         "locationmode": "country names",
         "lon": [
          0.9189192610000005
         ],
         "mode": "text",
         "showlegend": false,
         "text": " 1.02 GW",
         "textfont": {
          "color": "black",
          "size": 8
         },
         "textposition": "top center",
         "type": "scattergeo"
        },
        {
         "lat": [
          60.064208661
         ],
         "locationmode": "country names",
         "lon": [
          10.509
         ],
         "mode": "text",
         "showlegend": false,
         "text": " 3.44 GW",
         "textfont": {
          "color": "black",
          "size": 8
         },
         "textposition": "top center",
         "type": "scattergeo"
        },
        {
         "lat": [
          57.684403551
         ],
         "locationmode": "country names",
         "lon": [
          1.2725775269999997
         ],
         "mode": "text",
         "showlegend": false,
         "text": " 2.80 GW",
         "textfont": {
          "color": "black",
          "size": 8
         },
         "textposition": "top center",
         "type": "scattergeo"
        },
        {
         "lat": [
          45.119141841
         ],
         "locationmode": "country names",
         "lon": [
          22.11245505
         ],
         "mode": "text",
         "showlegend": false,
         "text": " 0.20 GW",
         "textfont": {
          "color": "black",
          "size": 8
         },
         "textposition": "top center",
         "type": "scattergeo"
        },
        {
         "lat": [
          56.032008223
         ],
         "locationmode": "country names",
         "lon": [
          17.068422864
         ],
         "mode": "text",
         "showlegend": false,
         "text": " 0.27 GW",
         "textfont": {
          "color": "black",
          "size": 8
         },
         "textposition": "top center",
         "type": "scattergeo"
        },
        {
         "lat": [
          50.290981588
         ],
         "locationmode": "country names",
         "lon": [
          19.422633888
         ],
         "mode": "text",
         "showlegend": false,
         "text": " 0.60 GW",
         "textfont": {
          "color": "black",
          "size": 8
         },
         "textposition": "top center",
         "type": "scattergeo"
        }
       ],
       "layout": {
        "geo": {
         "countrycolor": "white",
         "countrywidth": 1,
         "lakecolor": "#DEF4FC",
         "landcolor": "rgb(229, 229, 229)",
         "lataxis": {
          "range": [
           35,
           70
          ]
         },
         "lonaxis": {
          "range": [
           -9.7,
           38
          ]
         },
         "oceancolor": "#DCFBFB",
         "showcoastlines": false,
         "showcountries": true,
         "showlakes": true,
         "showland": true,
         "showocean": true
        },
        "height": 900,
        "margin": {
         "b": 0,
         "l": 0,
         "r": 0,
         "t": 30
        },
        "template": {
         "data": {
          "bar": [
           {
            "error_x": {
             "color": "#2a3f5f"
            },
            "error_y": {
             "color": "#2a3f5f"
            },
            "marker": {
             "line": {
              "color": "#E5ECF6",
              "width": 0.5
             },
             "pattern": {
              "fillmode": "overlay",
              "size": 10,
              "solidity": 0.2
             }
            },
            "type": "bar"
           }
          ],
          "barpolar": [
           {
            "marker": {
             "line": {
              "color": "#E5ECF6",
              "width": 0.5
             },
             "pattern": {
              "fillmode": "overlay",
              "size": 10,
              "solidity": 0.2
             }
            },
            "type": "barpolar"
           }
          ],
          "carpet": [
           {
            "aaxis": {
             "endlinecolor": "#2a3f5f",
             "gridcolor": "white",
             "linecolor": "white",
             "minorgridcolor": "white",
             "startlinecolor": "#2a3f5f"
            },
            "baxis": {
             "endlinecolor": "#2a3f5f",
             "gridcolor": "white",
             "linecolor": "white",
             "minorgridcolor": "white",
             "startlinecolor": "#2a3f5f"
            },
            "type": "carpet"
           }
          ],
          "choropleth": [
           {
            "colorbar": {
             "outlinewidth": 0,
             "ticks": ""
            },
            "type": "choropleth"
           }
          ],
          "contour": [
           {
            "colorbar": {
             "outlinewidth": 0,
             "ticks": ""
            },
            "colorscale": [
             [
              0,
              "#0d0887"
             ],
             [
              0.1111111111111111,
              "#46039f"
             ],
             [
              0.2222222222222222,
              "#7201a8"
             ],
             [
              0.3333333333333333,
              "#9c179e"
             ],
             [
              0.4444444444444444,
              "#bd3786"
             ],
             [
              0.5555555555555556,
              "#d8576b"
             ],
             [
              0.6666666666666666,
              "#ed7953"
             ],
             [
              0.7777777777777778,
              "#fb9f3a"
             ],
             [
              0.8888888888888888,
              "#fdca26"
             ],
             [
              1,
              "#f0f921"
             ]
            ],
            "type": "contour"
           }
          ],
          "contourcarpet": [
           {
            "colorbar": {
             "outlinewidth": 0,
             "ticks": ""
            },
            "type": "contourcarpet"
           }
          ],
          "heatmap": [
           {
            "colorbar": {
             "outlinewidth": 0,
             "ticks": ""
            },
            "colorscale": [
             [
              0,
              "#0d0887"
             ],
             [
              0.1111111111111111,
              "#46039f"
             ],
             [
              0.2222222222222222,
              "#7201a8"
             ],
             [
              0.3333333333333333,
              "#9c179e"
             ],
             [
              0.4444444444444444,
              "#bd3786"
             ],
             [
              0.5555555555555556,
              "#d8576b"
             ],
             [
              0.6666666666666666,
              "#ed7953"
             ],
             [
              0.7777777777777778,
              "#fb9f3a"
             ],
             [
              0.8888888888888888,
              "#fdca26"
             ],
             [
              1,
              "#f0f921"
             ]
            ],
            "type": "heatmap"
           }
          ],
          "heatmapgl": [
           {
            "colorbar": {
             "outlinewidth": 0,
             "ticks": ""
            },
            "colorscale": [
             [
              0,
              "#0d0887"
             ],
             [
              0.1111111111111111,
              "#46039f"
             ],
             [
              0.2222222222222222,
              "#7201a8"
             ],
             [
              0.3333333333333333,
              "#9c179e"
             ],
             [
              0.4444444444444444,
              "#bd3786"
             ],
             [
              0.5555555555555556,
              "#d8576b"
             ],
             [
              0.6666666666666666,
              "#ed7953"
             ],
             [
              0.7777777777777778,
              "#fb9f3a"
             ],
             [
              0.8888888888888888,
              "#fdca26"
             ],
             [
              1,
              "#f0f921"
             ]
            ],
            "type": "heatmapgl"
           }
          ],
          "histogram": [
           {
            "marker": {
             "pattern": {
              "fillmode": "overlay",
              "size": 10,
              "solidity": 0.2
             }
            },
            "type": "histogram"
           }
          ],
          "histogram2d": [
           {
            "colorbar": {
             "outlinewidth": 0,
             "ticks": ""
            },
            "colorscale": [
             [
              0,
              "#0d0887"
             ],
             [
              0.1111111111111111,
              "#46039f"
             ],
             [
              0.2222222222222222,
              "#7201a8"
             ],
             [
              0.3333333333333333,
              "#9c179e"
             ],
             [
              0.4444444444444444,
              "#bd3786"
             ],
             [
              0.5555555555555556,
              "#d8576b"
             ],
             [
              0.6666666666666666,
              "#ed7953"
             ],
             [
              0.7777777777777778,
              "#fb9f3a"
             ],
             [
              0.8888888888888888,
              "#fdca26"
             ],
             [
              1,
              "#f0f921"
             ]
            ],
            "type": "histogram2d"
           }
          ],
          "histogram2dcontour": [
           {
            "colorbar": {
             "outlinewidth": 0,
             "ticks": ""
            },
            "colorscale": [
             [
              0,
              "#0d0887"
             ],
             [
              0.1111111111111111,
              "#46039f"
             ],
             [
              0.2222222222222222,
              "#7201a8"
             ],
             [
              0.3333333333333333,
              "#9c179e"
             ],
             [
              0.4444444444444444,
              "#bd3786"
             ],
             [
              0.5555555555555556,
              "#d8576b"
             ],
             [
              0.6666666666666666,
              "#ed7953"
             ],
             [
              0.7777777777777778,
              "#fb9f3a"
             ],
             [
              0.8888888888888888,
              "#fdca26"
             ],
             [
              1,
              "#f0f921"
             ]
            ],
            "type": "histogram2dcontour"
           }
          ],
          "mesh3d": [
           {
            "colorbar": {
             "outlinewidth": 0,
             "ticks": ""
            },
            "type": "mesh3d"
           }
          ],
          "parcoords": [
           {
            "line": {
             "colorbar": {
              "outlinewidth": 0,
              "ticks": ""
             }
            },
            "type": "parcoords"
           }
          ],
          "pie": [
           {
            "automargin": true,
            "type": "pie"
           }
          ],
          "scatter": [
           {
            "fillpattern": {
             "fillmode": "overlay",
             "size": 10,
             "solidity": 0.2
            },
            "type": "scatter"
           }
          ],
          "scatter3d": [
           {
            "line": {
             "colorbar": {
              "outlinewidth": 0,
              "ticks": ""
             }
            },
            "marker": {
             "colorbar": {
              "outlinewidth": 0,
              "ticks": ""
             }
            },
            "type": "scatter3d"
           }
          ],
          "scattercarpet": [
           {
            "marker": {
             "colorbar": {
              "outlinewidth": 0,
              "ticks": ""
             }
            },
            "type": "scattercarpet"
           }
          ],
          "scattergeo": [
           {
            "marker": {
             "colorbar": {
              "outlinewidth": 0,
              "ticks": ""
             }
            },
            "type": "scattergeo"
           }
          ],
          "scattergl": [
           {
            "marker": {
             "colorbar": {
              "outlinewidth": 0,
              "ticks": ""
             }
            },
            "type": "scattergl"
           }
          ],
          "scattermapbox": [
           {
            "marker": {
             "colorbar": {
              "outlinewidth": 0,
              "ticks": ""
             }
            },
            "type": "scattermapbox"
           }
          ],
          "scatterpolar": [
           {
            "marker": {
             "colorbar": {
              "outlinewidth": 0,
              "ticks": ""
             }
            },
            "type": "scatterpolar"
           }
          ],
          "scatterpolargl": [
           {
            "marker": {
             "colorbar": {
              "outlinewidth": 0,
              "ticks": ""
             }
            },
            "type": "scatterpolargl"
           }
          ],
          "scatterternary": [
           {
            "marker": {
             "colorbar": {
              "outlinewidth": 0,
              "ticks": ""
             }
            },
            "type": "scatterternary"
           }
          ],
          "surface": [
           {
            "colorbar": {
             "outlinewidth": 0,
             "ticks": ""
            },
            "colorscale": [
             [
              0,
              "#0d0887"
             ],
             [
              0.1111111111111111,
              "#46039f"
             ],
             [
              0.2222222222222222,
              "#7201a8"
             ],
             [
              0.3333333333333333,
              "#9c179e"
             ],
             [
              0.4444444444444444,
              "#bd3786"
             ],
             [
              0.5555555555555556,
              "#d8576b"
             ],
             [
              0.6666666666666666,
              "#ed7953"
             ],
             [
              0.7777777777777778,
              "#fb9f3a"
             ],
             [
              0.8888888888888888,
              "#fdca26"
             ],
             [
              1,
              "#f0f921"
             ]
            ],
            "type": "surface"
           }
          ],
          "table": [
           {
            "cells": {
             "fill": {
              "color": "#EBF0F8"
             },
             "line": {
              "color": "white"
             }
            },
            "header": {
             "fill": {
              "color": "#C8D4E3"
             },
             "line": {
              "color": "white"
             }
            },
            "type": "table"
           }
          ]
         },
         "layout": {
          "annotationdefaults": {
           "arrowcolor": "#2a3f5f",
           "arrowhead": 0,
           "arrowwidth": 1
          },
          "autotypenumbers": "strict",
          "coloraxis": {
           "colorbar": {
            "outlinewidth": 0,
            "ticks": ""
           }
          },
          "colorscale": {
           "diverging": [
            [
             0,
             "#8e0152"
            ],
            [
             0.1,
             "#c51b7d"
            ],
            [
             0.2,
             "#de77ae"
            ],
            [
             0.3,
             "#f1b6da"
            ],
            [
             0.4,
             "#fde0ef"
            ],
            [
             0.5,
             "#f7f7f7"
            ],
            [
             0.6,
             "#e6f5d0"
            ],
            [
             0.7,
             "#b8e186"
            ],
            [
             0.8,
             "#7fbc41"
            ],
            [
             0.9,
             "#4d9221"
            ],
            [
             1,
             "#276419"
            ]
           ],
           "sequential": [
            [
             0,
             "#0d0887"
            ],
            [
             0.1111111111111111,
             "#46039f"
            ],
            [
             0.2222222222222222,
             "#7201a8"
            ],
            [
             0.3333333333333333,
             "#9c179e"
            ],
            [
             0.4444444444444444,
             "#bd3786"
            ],
            [
             0.5555555555555556,
             "#d8576b"
            ],
            [
             0.6666666666666666,
             "#ed7953"
            ],
            [
             0.7777777777777778,
             "#fb9f3a"
            ],
            [
             0.8888888888888888,
             "#fdca26"
            ],
            [
             1,
             "#f0f921"
            ]
           ],
           "sequentialminus": [
            [
             0,
             "#0d0887"
            ],
            [
             0.1111111111111111,
             "#46039f"
            ],
            [
             0.2222222222222222,
             "#7201a8"
            ],
            [
             0.3333333333333333,
             "#9c179e"
            ],
            [
             0.4444444444444444,
             "#bd3786"
            ],
            [
             0.5555555555555556,
             "#d8576b"
            ],
            [
             0.6666666666666666,
             "#ed7953"
            ],
            [
             0.7777777777777778,
             "#fb9f3a"
            ],
            [
             0.8888888888888888,
             "#fdca26"
            ],
            [
             1,
             "#f0f921"
            ]
           ]
          },
          "colorway": [
           "#636efa",
           "#EF553B",
           "#00cc96",
           "#ab63fa",
           "#FFA15A",
           "#19d3f3",
           "#FF6692",
           "#B6E880",
           "#FF97FF",
           "#FECB52"
          ],
          "font": {
           "color": "#2a3f5f"
          },
          "geo": {
           "bgcolor": "white",
           "lakecolor": "white",
           "landcolor": "#E5ECF6",
           "showlakes": true,
           "showland": true,
           "subunitcolor": "white"
          },
          "hoverlabel": {
           "align": "left"
          },
          "hovermode": "closest",
          "mapbox": {
           "style": "light"
          },
          "paper_bgcolor": "white",
          "plot_bgcolor": "#E5ECF6",
          "polar": {
           "angularaxis": {
            "gridcolor": "white",
            "linecolor": "white",
            "ticks": ""
           },
           "bgcolor": "#E5ECF6",
           "radialaxis": {
            "gridcolor": "white",
            "linecolor": "white",
            "ticks": ""
           }
          },
          "scene": {
           "xaxis": {
            "backgroundcolor": "#E5ECF6",
            "gridcolor": "white",
            "gridwidth": 2,
            "linecolor": "white",
            "showbackground": true,
            "ticks": "",
            "zerolinecolor": "white"
           },
           "yaxis": {
            "backgroundcolor": "#E5ECF6",
            "gridcolor": "white",
            "gridwidth": 2,
            "linecolor": "white",
            "showbackground": true,
            "ticks": "",
            "zerolinecolor": "white"
           },
           "zaxis": {
            "backgroundcolor": "#E5ECF6",
            "gridcolor": "white",
            "gridwidth": 2,
            "linecolor": "white",
            "showbackground": true,
            "ticks": "",
            "zerolinecolor": "white"
           }
          },
          "shapedefaults": {
           "line": {
            "color": "#2a3f5f"
           }
          },
          "ternary": {
           "aaxis": {
            "gridcolor": "white",
            "linecolor": "white",
            "ticks": ""
           },
           "baxis": {
            "gridcolor": "white",
            "linecolor": "white",
            "ticks": ""
           },
           "bgcolor": "#E5ECF6",
           "caxis": {
            "gridcolor": "white",
            "linecolor": "white",
            "ticks": ""
           }
          },
          "title": {
           "x": 0.05
          },
          "xaxis": {
           "automargin": true,
           "gridcolor": "white",
           "linecolor": "white",
           "ticks": "",
           "title": {
            "standoff": 15
           },
           "zerolinecolor": "white",
           "zerolinewidth": 2
          },
          "yaxis": {
           "automargin": true,
           "gridcolor": "white",
           "linecolor": "white",
           "ticks": "",
           "title": {
            "standoff": 15
           },
           "zerolinecolor": "white",
           "zerolinewidth": 2
          }
         }
        },
        "title": {
         "text": "Power Trade Capacity in 2050 - Day"
        },
        "width": 1620
       }
      }
     },
     "metadata": {},
     "output_type": "display_data"
    }
   ],
   "source": [
    "trade_capacity_plotter = TradeCapacityMapFacilitator(sol_path=SOLUTION_FILEPATH, year=2050)\n",
    "\n",
    "relevant_data = trade_capacity_plotter.get_relevant_data()\n",
    "print(relevant_data.TotalTradeCapacity.df[\"Year\"].unique())\n",
    "\n",
    "relevant_data.TotalTradeCapacity.filter_by_identifier(column=\"Fuel\", identifier=\"Power\")\n",
    "\n",
    "fig = trade_capacity_plotter.plot(relevant_data)\n",
    "\n",
    "fig.update_layout(margin=dict(l=0, r=0, t=30, b=0))\n",
    "\n",
    "fig.layout.title = \"Power Trade Capacity in 2050\" + TITLE_ADDON\n",
    "\n",
    "fig.write_image(\"PowerTradeCapacity2050.pdf\" + TITLE_ADDON.replace(\" \", \"\") + \".png\")\n",
    "\n",
    "fig.show()"
   ]
  },
  {
   "cell_type": "markdown",
   "metadata": {},
   "source": [
    "### Storage capacities"
   ]
  },
  {
   "cell_type": "code",
   "execution_count": 69,
   "metadata": {},
   "outputs": [
    {
     "name": "stdout",
     "output_type": "stream",
     "text": [
      "No unit conversion applied!\n"
     ]
    },
    {
     "data": {
      "application/vnd.plotly.v1+json": {
       "config": {
        "plotlyServerURL": "https://plot.ly"
       },
       "data": [
        {
         "fillcolor": "#a7c9f5",
         "legendgroup": "D_Heat_HLI",
         "line": {
          "color": "#a7c9f5"
         },
         "mode": "lines",
         "name": "D_Heat_HLI",
         "showlegend": true,
         "stackgroup": "one",
         "type": "scatter",
         "x": [
          2018,
          2025,
          2030,
          2035,
          2040,
          2045,
          2050
         ],
         "y": [
          0,
          0,
          0,
          0,
          0,
          0,
          0
         ]
        },
        {
         "fillcolor": "#fafa9d",
         "legendgroup": "D_Heat_HLDH",
         "line": {
          "color": "#fafa9d"
         },
         "mode": "lines",
         "name": "D_Heat_HLDH",
         "showlegend": true,
         "stackgroup": "one",
         "type": "scatter",
         "x": [
          2018,
          2025,
          2030,
          2035,
          2040,
          2045,
          2050
         ],
         "y": [
          0,
          0,
          0,
          0,
          0,
          0,
          0
         ]
        },
        {
         "fillcolor": "#9dd8fa",
         "legendgroup": "D_Heat_HLB",
         "line": {
          "color": "#9dd8fa"
         },
         "mode": "lines",
         "name": "D_Heat_HLB",
         "showlegend": true,
         "stackgroup": "one",
         "type": "scatter",
         "x": [
          2018,
          2025,
          2030,
          2035,
          2040,
          2045,
          2050
         ],
         "y": [
          0,
          0,
          0,
          0,
          0,
          0,
          0
         ]
        }
       ],
       "layout": {
        "barmode": "stack",
        "font": {
         "size": 22
        },
        "height": 800,
        "template": {
         "data": {
          "bar": [
           {
            "error_x": {
             "color": "#2a3f5f"
            },
            "error_y": {
             "color": "#2a3f5f"
            },
            "marker": {
             "line": {
              "color": "#E5ECF6",
              "width": 0.5
             },
             "pattern": {
              "fillmode": "overlay",
              "size": 10,
              "solidity": 0.2
             }
            },
            "type": "bar"
           }
          ],
          "barpolar": [
           {
            "marker": {
             "line": {
              "color": "#E5ECF6",
              "width": 0.5
             },
             "pattern": {
              "fillmode": "overlay",
              "size": 10,
              "solidity": 0.2
             }
            },
            "type": "barpolar"
           }
          ],
          "carpet": [
           {
            "aaxis": {
             "endlinecolor": "#2a3f5f",
             "gridcolor": "white",
             "linecolor": "white",
             "minorgridcolor": "white",
             "startlinecolor": "#2a3f5f"
            },
            "baxis": {
             "endlinecolor": "#2a3f5f",
             "gridcolor": "white",
             "linecolor": "white",
             "minorgridcolor": "white",
             "startlinecolor": "#2a3f5f"
            },
            "type": "carpet"
           }
          ],
          "choropleth": [
           {
            "colorbar": {
             "outlinewidth": 0,
             "ticks": ""
            },
            "type": "choropleth"
           }
          ],
          "contour": [
           {
            "colorbar": {
             "outlinewidth": 0,
             "ticks": ""
            },
            "colorscale": [
             [
              0,
              "#0d0887"
             ],
             [
              0.1111111111111111,
              "#46039f"
             ],
             [
              0.2222222222222222,
              "#7201a8"
             ],
             [
              0.3333333333333333,
              "#9c179e"
             ],
             [
              0.4444444444444444,
              "#bd3786"
             ],
             [
              0.5555555555555556,
              "#d8576b"
             ],
             [
              0.6666666666666666,
              "#ed7953"
             ],
             [
              0.7777777777777778,
              "#fb9f3a"
             ],
             [
              0.8888888888888888,
              "#fdca26"
             ],
             [
              1,
              "#f0f921"
             ]
            ],
            "type": "contour"
           }
          ],
          "contourcarpet": [
           {
            "colorbar": {
             "outlinewidth": 0,
             "ticks": ""
            },
            "type": "contourcarpet"
           }
          ],
          "heatmap": [
           {
            "colorbar": {
             "outlinewidth": 0,
             "ticks": ""
            },
            "colorscale": [
             [
              0,
              "#0d0887"
             ],
             [
              0.1111111111111111,
              "#46039f"
             ],
             [
              0.2222222222222222,
              "#7201a8"
             ],
             [
              0.3333333333333333,
              "#9c179e"
             ],
             [
              0.4444444444444444,
              "#bd3786"
             ],
             [
              0.5555555555555556,
              "#d8576b"
             ],
             [
              0.6666666666666666,
              "#ed7953"
             ],
             [
              0.7777777777777778,
              "#fb9f3a"
             ],
             [
              0.8888888888888888,
              "#fdca26"
             ],
             [
              1,
              "#f0f921"
             ]
            ],
            "type": "heatmap"
           }
          ],
          "heatmapgl": [
           {
            "colorbar": {
             "outlinewidth": 0,
             "ticks": ""
            },
            "colorscale": [
             [
              0,
              "#0d0887"
             ],
             [
              0.1111111111111111,
              "#46039f"
             ],
             [
              0.2222222222222222,
              "#7201a8"
             ],
             [
              0.3333333333333333,
              "#9c179e"
             ],
             [
              0.4444444444444444,
              "#bd3786"
             ],
             [
              0.5555555555555556,
              "#d8576b"
             ],
             [
              0.6666666666666666,
              "#ed7953"
             ],
             [
              0.7777777777777778,
              "#fb9f3a"
             ],
             [
              0.8888888888888888,
              "#fdca26"
             ],
             [
              1,
              "#f0f921"
             ]
            ],
            "type": "heatmapgl"
           }
          ],
          "histogram": [
           {
            "marker": {
             "pattern": {
              "fillmode": "overlay",
              "size": 10,
              "solidity": 0.2
             }
            },
            "type": "histogram"
           }
          ],
          "histogram2d": [
           {
            "colorbar": {
             "outlinewidth": 0,
             "ticks": ""
            },
            "colorscale": [
             [
              0,
              "#0d0887"
             ],
             [
              0.1111111111111111,
              "#46039f"
             ],
             [
              0.2222222222222222,
              "#7201a8"
             ],
             [
              0.3333333333333333,
              "#9c179e"
             ],
             [
              0.4444444444444444,
              "#bd3786"
             ],
             [
              0.5555555555555556,
              "#d8576b"
             ],
             [
              0.6666666666666666,
              "#ed7953"
             ],
             [
              0.7777777777777778,
              "#fb9f3a"
             ],
             [
              0.8888888888888888,
              "#fdca26"
             ],
             [
              1,
              "#f0f921"
             ]
            ],
            "type": "histogram2d"
           }
          ],
          "histogram2dcontour": [
           {
            "colorbar": {
             "outlinewidth": 0,
             "ticks": ""
            },
            "colorscale": [
             [
              0,
              "#0d0887"
             ],
             [
              0.1111111111111111,
              "#46039f"
             ],
             [
              0.2222222222222222,
              "#7201a8"
             ],
             [
              0.3333333333333333,
              "#9c179e"
             ],
             [
              0.4444444444444444,
              "#bd3786"
             ],
             [
              0.5555555555555556,
              "#d8576b"
             ],
             [
              0.6666666666666666,
              "#ed7953"
             ],
             [
              0.7777777777777778,
              "#fb9f3a"
             ],
             [
              0.8888888888888888,
              "#fdca26"
             ],
             [
              1,
              "#f0f921"
             ]
            ],
            "type": "histogram2dcontour"
           }
          ],
          "mesh3d": [
           {
            "colorbar": {
             "outlinewidth": 0,
             "ticks": ""
            },
            "type": "mesh3d"
           }
          ],
          "parcoords": [
           {
            "line": {
             "colorbar": {
              "outlinewidth": 0,
              "ticks": ""
             }
            },
            "type": "parcoords"
           }
          ],
          "pie": [
           {
            "automargin": true,
            "type": "pie"
           }
          ],
          "scatter": [
           {
            "fillpattern": {
             "fillmode": "overlay",
             "size": 10,
             "solidity": 0.2
            },
            "type": "scatter"
           }
          ],
          "scatter3d": [
           {
            "line": {
             "colorbar": {
              "outlinewidth": 0,
              "ticks": ""
             }
            },
            "marker": {
             "colorbar": {
              "outlinewidth": 0,
              "ticks": ""
             }
            },
            "type": "scatter3d"
           }
          ],
          "scattercarpet": [
           {
            "marker": {
             "colorbar": {
              "outlinewidth": 0,
              "ticks": ""
             }
            },
            "type": "scattercarpet"
           }
          ],
          "scattergeo": [
           {
            "marker": {
             "colorbar": {
              "outlinewidth": 0,
              "ticks": ""
             }
            },
            "type": "scattergeo"
           }
          ],
          "scattergl": [
           {
            "marker": {
             "colorbar": {
              "outlinewidth": 0,
              "ticks": ""
             }
            },
            "type": "scattergl"
           }
          ],
          "scattermapbox": [
           {
            "marker": {
             "colorbar": {
              "outlinewidth": 0,
              "ticks": ""
             }
            },
            "type": "scattermapbox"
           }
          ],
          "scatterpolar": [
           {
            "marker": {
             "colorbar": {
              "outlinewidth": 0,
              "ticks": ""
             }
            },
            "type": "scatterpolar"
           }
          ],
          "scatterpolargl": [
           {
            "marker": {
             "colorbar": {
              "outlinewidth": 0,
              "ticks": ""
             }
            },
            "type": "scatterpolargl"
           }
          ],
          "scatterternary": [
           {
            "marker": {
             "colorbar": {
              "outlinewidth": 0,
              "ticks": ""
             }
            },
            "type": "scatterternary"
           }
          ],
          "surface": [
           {
            "colorbar": {
             "outlinewidth": 0,
             "ticks": ""
            },
            "colorscale": [
             [
              0,
              "#0d0887"
             ],
             [
              0.1111111111111111,
              "#46039f"
             ],
             [
              0.2222222222222222,
              "#7201a8"
             ],
             [
              0.3333333333333333,
              "#9c179e"
             ],
             [
              0.4444444444444444,
              "#bd3786"
             ],
             [
              0.5555555555555556,
              "#d8576b"
             ],
             [
              0.6666666666666666,
              "#ed7953"
             ],
             [
              0.7777777777777778,
              "#fb9f3a"
             ],
             [
              0.8888888888888888,
              "#fdca26"
             ],
             [
              1,
              "#f0f921"
             ]
            ],
            "type": "surface"
           }
          ],
          "table": [
           {
            "cells": {
             "fill": {
              "color": "#EBF0F8"
             },
             "line": {
              "color": "white"
             }
            },
            "header": {
             "fill": {
              "color": "#C8D4E3"
             },
             "line": {
              "color": "white"
             }
            },
            "type": "table"
           }
          ]
         },
         "layout": {
          "annotationdefaults": {
           "arrowcolor": "#2a3f5f",
           "arrowhead": 0,
           "arrowwidth": 1
          },
          "autotypenumbers": "strict",
          "coloraxis": {
           "colorbar": {
            "outlinewidth": 0,
            "ticks": ""
           }
          },
          "colorscale": {
           "diverging": [
            [
             0,
             "#8e0152"
            ],
            [
             0.1,
             "#c51b7d"
            ],
            [
             0.2,
             "#de77ae"
            ],
            [
             0.3,
             "#f1b6da"
            ],
            [
             0.4,
             "#fde0ef"
            ],
            [
             0.5,
             "#f7f7f7"
            ],
            [
             0.6,
             "#e6f5d0"
            ],
            [
             0.7,
             "#b8e186"
            ],
            [
             0.8,
             "#7fbc41"
            ],
            [
             0.9,
             "#4d9221"
            ],
            [
             1,
             "#276419"
            ]
           ],
           "sequential": [
            [
             0,
             "#0d0887"
            ],
            [
             0.1111111111111111,
             "#46039f"
            ],
            [
             0.2222222222222222,
             "#7201a8"
            ],
            [
             0.3333333333333333,
             "#9c179e"
            ],
            [
             0.4444444444444444,
             "#bd3786"
            ],
            [
             0.5555555555555556,
             "#d8576b"
            ],
            [
             0.6666666666666666,
             "#ed7953"
            ],
            [
             0.7777777777777778,
             "#fb9f3a"
            ],
            [
             0.8888888888888888,
             "#fdca26"
            ],
            [
             1,
             "#f0f921"
            ]
           ],
           "sequentialminus": [
            [
             0,
             "#0d0887"
            ],
            [
             0.1111111111111111,
             "#46039f"
            ],
            [
             0.2222222222222222,
             "#7201a8"
            ],
            [
             0.3333333333333333,
             "#9c179e"
            ],
            [
             0.4444444444444444,
             "#bd3786"
            ],
            [
             0.5555555555555556,
             "#d8576b"
            ],
            [
             0.6666666666666666,
             "#ed7953"
            ],
            [
             0.7777777777777778,
             "#fb9f3a"
            ],
            [
             0.8888888888888888,
             "#fdca26"
            ],
            [
             1,
             "#f0f921"
            ]
           ]
          },
          "colorway": [
           "#636efa",
           "#EF553B",
           "#00cc96",
           "#ab63fa",
           "#FFA15A",
           "#19d3f3",
           "#FF6692",
           "#B6E880",
           "#FF97FF",
           "#FECB52"
          ],
          "font": {
           "color": "#2a3f5f"
          },
          "geo": {
           "bgcolor": "white",
           "lakecolor": "white",
           "landcolor": "#E5ECF6",
           "showlakes": true,
           "showland": true,
           "subunitcolor": "white"
          },
          "hoverlabel": {
           "align": "left"
          },
          "hovermode": "closest",
          "mapbox": {
           "style": "light"
          },
          "paper_bgcolor": "white",
          "plot_bgcolor": "#E5ECF6",
          "polar": {
           "angularaxis": {
            "gridcolor": "white",
            "linecolor": "white",
            "ticks": ""
           },
           "bgcolor": "#E5ECF6",
           "radialaxis": {
            "gridcolor": "white",
            "linecolor": "white",
            "ticks": ""
           }
          },
          "scene": {
           "xaxis": {
            "backgroundcolor": "#E5ECF6",
            "gridcolor": "white",
            "gridwidth": 2,
            "linecolor": "white",
            "showbackground": true,
            "ticks": "",
            "zerolinecolor": "white"
           },
           "yaxis": {
            "backgroundcolor": "#E5ECF6",
            "gridcolor": "white",
            "gridwidth": 2,
            "linecolor": "white",
            "showbackground": true,
            "ticks": "",
            "zerolinecolor": "white"
           },
           "zaxis": {
            "backgroundcolor": "#E5ECF6",
            "gridcolor": "white",
            "gridwidth": 2,
            "linecolor": "white",
            "showbackground": true,
            "ticks": "",
            "zerolinecolor": "white"
           }
          },
          "shapedefaults": {
           "line": {
            "color": "#2a3f5f"
           }
          },
          "ternary": {
           "aaxis": {
            "gridcolor": "white",
            "linecolor": "white",
            "ticks": ""
           },
           "baxis": {
            "gridcolor": "white",
            "linecolor": "white",
            "ticks": ""
           },
           "bgcolor": "#E5ECF6",
           "caxis": {
            "gridcolor": "white",
            "linecolor": "white",
            "ticks": ""
           }
          },
          "title": {
           "x": 0.05
          },
          "xaxis": {
           "automargin": true,
           "gridcolor": "white",
           "linecolor": "white",
           "ticks": "",
           "title": {
            "standoff": 15
           },
           "zerolinecolor": "white",
           "zerolinewidth": 2
          },
          "yaxis": {
           "automargin": true,
           "gridcolor": "white",
           "linecolor": "white",
           "ticks": "",
           "title": {
            "standoff": 15
           },
           "zerolinecolor": "white",
           "zerolinewidth": 2
          }
         }
        },
        "title": {
         "text": "Storage Capacity Germany - Day"
        },
        "width": 1400,
        "xaxis": {
         "title": {
          "text": "Year"
         }
        },
        "yaxis": {
         "title": {
          "text": "GW"
         }
        }
       }
      }
     },
     "metadata": {},
     "output_type": "display_data"
    }
   ],
   "source": [
    "storage_capacity_plotter = StackedQuantityEvolutionFacilitator(sol_path=SOLUTION_FILEPATH, region=\"DE\")\n",
    "\n",
    "relevant_data = storage_capacity_plotter.get_relevant_data()\n",
    "#relevant_data.filter_by_containing_string(column=\"Technology\", identifier=\"D_\")\n",
    "relevant_data.filter_by_list(column=\"Technology\", by_filter=[\"D_Heat_HLDH\", \"D_Heat_HLI\", \"D_Heat_HLB\"])\n",
    "\n",
    "fig = storage_capacity_plotter.plot(relevant_data)\n",
    "\n",
    "fig.update_layout(\n",
    "    width=1400,\n",
    "    height=800,\n",
    "    title=\"Storage Capacity Germany\" + TITLE_ADDON,\n",
    "    yaxis_title=\"GW\",\n",
    "    xaxis_title=\"Year\",\n",
    ")\n",
    "\n",
    "fig.write_image(\"StorageProductionGermany.pdf\" + TITLE_ADDON.replace(\" \", \"\") + \".png\")\n",
    "fig.show()"
   ]
  },
  {
   "cell_type": "code",
   "execution_count": 70,
   "metadata": {},
   "outputs": [
    {
     "name": "stdout",
     "output_type": "stream",
     "text": [
      "No unit conversion applied!\n"
     ]
    },
    {
     "data": {
      "application/vnd.plotly.v1+json": {
       "config": {
        "plotlyServerURL": "https://plot.ly"
       },
       "data": [
        {
         "fillcolor": "#9dd8fa",
         "legendgroup": "D_Heat_HLB",
         "line": {
          "color": "#9dd8fa"
         },
         "mode": "lines",
         "name": "D_Heat_HLB",
         "showlegend": true,
         "stackgroup": "one",
         "type": "scatter",
         "x": [
          2018,
          2025,
          2030,
          2035,
          2040,
          2045,
          2050
         ],
         "y": [
          0,
          0,
          0,
          0,
          0,
          0,
          0
         ]
        },
        {
         "fillcolor": "#fafa9d",
         "legendgroup": "D_Heat_HLDH",
         "line": {
          "color": "#fafa9d"
         },
         "mode": "lines",
         "name": "D_Heat_HLDH",
         "showlegend": true,
         "stackgroup": "one",
         "type": "scatter",
         "x": [
          2018,
          2025,
          2030,
          2035,
          2040,
          2045,
          2050
         ],
         "y": [
          0,
          0,
          0,
          0,
          0,
          0,
          0
         ]
        },
        {
         "fillcolor": "#a7c9f5",
         "legendgroup": "D_Heat_HLI",
         "line": {
          "color": "#a7c9f5"
         },
         "mode": "lines",
         "name": "D_Heat_HLI",
         "showlegend": true,
         "stackgroup": "one",
         "type": "scatter",
         "x": [
          2018,
          2025,
          2030,
          2035,
          2040,
          2045,
          2050
         ],
         "y": [
          0,
          0,
          0,
          0,
          0,
          0,
          0
         ]
        }
       ],
       "layout": {
        "barmode": "stack",
        "font": {
         "size": 22
        },
        "height": 800,
        "template": {
         "data": {
          "bar": [
           {
            "error_x": {
             "color": "#2a3f5f"
            },
            "error_y": {
             "color": "#2a3f5f"
            },
            "marker": {
             "line": {
              "color": "#E5ECF6",
              "width": 0.5
             },
             "pattern": {
              "fillmode": "overlay",
              "size": 10,
              "solidity": 0.2
             }
            },
            "type": "bar"
           }
          ],
          "barpolar": [
           {
            "marker": {
             "line": {
              "color": "#E5ECF6",
              "width": 0.5
             },
             "pattern": {
              "fillmode": "overlay",
              "size": 10,
              "solidity": 0.2
             }
            },
            "type": "barpolar"
           }
          ],
          "carpet": [
           {
            "aaxis": {
             "endlinecolor": "#2a3f5f",
             "gridcolor": "white",
             "linecolor": "white",
             "minorgridcolor": "white",
             "startlinecolor": "#2a3f5f"
            },
            "baxis": {
             "endlinecolor": "#2a3f5f",
             "gridcolor": "white",
             "linecolor": "white",
             "minorgridcolor": "white",
             "startlinecolor": "#2a3f5f"
            },
            "type": "carpet"
           }
          ],
          "choropleth": [
           {
            "colorbar": {
             "outlinewidth": 0,
             "ticks": ""
            },
            "type": "choropleth"
           }
          ],
          "contour": [
           {
            "colorbar": {
             "outlinewidth": 0,
             "ticks": ""
            },
            "colorscale": [
             [
              0,
              "#0d0887"
             ],
             [
              0.1111111111111111,
              "#46039f"
             ],
             [
              0.2222222222222222,
              "#7201a8"
             ],
             [
              0.3333333333333333,
              "#9c179e"
             ],
             [
              0.4444444444444444,
              "#bd3786"
             ],
             [
              0.5555555555555556,
              "#d8576b"
             ],
             [
              0.6666666666666666,
              "#ed7953"
             ],
             [
              0.7777777777777778,
              "#fb9f3a"
             ],
             [
              0.8888888888888888,
              "#fdca26"
             ],
             [
              1,
              "#f0f921"
             ]
            ],
            "type": "contour"
           }
          ],
          "contourcarpet": [
           {
            "colorbar": {
             "outlinewidth": 0,
             "ticks": ""
            },
            "type": "contourcarpet"
           }
          ],
          "heatmap": [
           {
            "colorbar": {
             "outlinewidth": 0,
             "ticks": ""
            },
            "colorscale": [
             [
              0,
              "#0d0887"
             ],
             [
              0.1111111111111111,
              "#46039f"
             ],
             [
              0.2222222222222222,
              "#7201a8"
             ],
             [
              0.3333333333333333,
              "#9c179e"
             ],
             [
              0.4444444444444444,
              "#bd3786"
             ],
             [
              0.5555555555555556,
              "#d8576b"
             ],
             [
              0.6666666666666666,
              "#ed7953"
             ],
             [
              0.7777777777777778,
              "#fb9f3a"
             ],
             [
              0.8888888888888888,
              "#fdca26"
             ],
             [
              1,
              "#f0f921"
             ]
            ],
            "type": "heatmap"
           }
          ],
          "heatmapgl": [
           {
            "colorbar": {
             "outlinewidth": 0,
             "ticks": ""
            },
            "colorscale": [
             [
              0,
              "#0d0887"
             ],
             [
              0.1111111111111111,
              "#46039f"
             ],
             [
              0.2222222222222222,
              "#7201a8"
             ],
             [
              0.3333333333333333,
              "#9c179e"
             ],
             [
              0.4444444444444444,
              "#bd3786"
             ],
             [
              0.5555555555555556,
              "#d8576b"
             ],
             [
              0.6666666666666666,
              "#ed7953"
             ],
             [
              0.7777777777777778,
              "#fb9f3a"
             ],
             [
              0.8888888888888888,
              "#fdca26"
             ],
             [
              1,
              "#f0f921"
             ]
            ],
            "type": "heatmapgl"
           }
          ],
          "histogram": [
           {
            "marker": {
             "pattern": {
              "fillmode": "overlay",
              "size": 10,
              "solidity": 0.2
             }
            },
            "type": "histogram"
           }
          ],
          "histogram2d": [
           {
            "colorbar": {
             "outlinewidth": 0,
             "ticks": ""
            },
            "colorscale": [
             [
              0,
              "#0d0887"
             ],
             [
              0.1111111111111111,
              "#46039f"
             ],
             [
              0.2222222222222222,
              "#7201a8"
             ],
             [
              0.3333333333333333,
              "#9c179e"
             ],
             [
              0.4444444444444444,
              "#bd3786"
             ],
             [
              0.5555555555555556,
              "#d8576b"
             ],
             [
              0.6666666666666666,
              "#ed7953"
             ],
             [
              0.7777777777777778,
              "#fb9f3a"
             ],
             [
              0.8888888888888888,
              "#fdca26"
             ],
             [
              1,
              "#f0f921"
             ]
            ],
            "type": "histogram2d"
           }
          ],
          "histogram2dcontour": [
           {
            "colorbar": {
             "outlinewidth": 0,
             "ticks": ""
            },
            "colorscale": [
             [
              0,
              "#0d0887"
             ],
             [
              0.1111111111111111,
              "#46039f"
             ],
             [
              0.2222222222222222,
              "#7201a8"
             ],
             [
              0.3333333333333333,
              "#9c179e"
             ],
             [
              0.4444444444444444,
              "#bd3786"
             ],
             [
              0.5555555555555556,
              "#d8576b"
             ],
             [
              0.6666666666666666,
              "#ed7953"
             ],
             [
              0.7777777777777778,
              "#fb9f3a"
             ],
             [
              0.8888888888888888,
              "#fdca26"
             ],
             [
              1,
              "#f0f921"
             ]
            ],
            "type": "histogram2dcontour"
           }
          ],
          "mesh3d": [
           {
            "colorbar": {
             "outlinewidth": 0,
             "ticks": ""
            },
            "type": "mesh3d"
           }
          ],
          "parcoords": [
           {
            "line": {
             "colorbar": {
              "outlinewidth": 0,
              "ticks": ""
             }
            },
            "type": "parcoords"
           }
          ],
          "pie": [
           {
            "automargin": true,
            "type": "pie"
           }
          ],
          "scatter": [
           {
            "fillpattern": {
             "fillmode": "overlay",
             "size": 10,
             "solidity": 0.2
            },
            "type": "scatter"
           }
          ],
          "scatter3d": [
           {
            "line": {
             "colorbar": {
              "outlinewidth": 0,
              "ticks": ""
             }
            },
            "marker": {
             "colorbar": {
              "outlinewidth": 0,
              "ticks": ""
             }
            },
            "type": "scatter3d"
           }
          ],
          "scattercarpet": [
           {
            "marker": {
             "colorbar": {
              "outlinewidth": 0,
              "ticks": ""
             }
            },
            "type": "scattercarpet"
           }
          ],
          "scattergeo": [
           {
            "marker": {
             "colorbar": {
              "outlinewidth": 0,
              "ticks": ""
             }
            },
            "type": "scattergeo"
           }
          ],
          "scattergl": [
           {
            "marker": {
             "colorbar": {
              "outlinewidth": 0,
              "ticks": ""
             }
            },
            "type": "scattergl"
           }
          ],
          "scattermapbox": [
           {
            "marker": {
             "colorbar": {
              "outlinewidth": 0,
              "ticks": ""
             }
            },
            "type": "scattermapbox"
           }
          ],
          "scatterpolar": [
           {
            "marker": {
             "colorbar": {
              "outlinewidth": 0,
              "ticks": ""
             }
            },
            "type": "scatterpolar"
           }
          ],
          "scatterpolargl": [
           {
            "marker": {
             "colorbar": {
              "outlinewidth": 0,
              "ticks": ""
             }
            },
            "type": "scatterpolargl"
           }
          ],
          "scatterternary": [
           {
            "marker": {
             "colorbar": {
              "outlinewidth": 0,
              "ticks": ""
             }
            },
            "type": "scatterternary"
           }
          ],
          "surface": [
           {
            "colorbar": {
             "outlinewidth": 0,
             "ticks": ""
            },
            "colorscale": [
             [
              0,
              "#0d0887"
             ],
             [
              0.1111111111111111,
              "#46039f"
             ],
             [
              0.2222222222222222,
              "#7201a8"
             ],
             [
              0.3333333333333333,
              "#9c179e"
             ],
             [
              0.4444444444444444,
              "#bd3786"
             ],
             [
              0.5555555555555556,
              "#d8576b"
             ],
             [
              0.6666666666666666,
              "#ed7953"
             ],
             [
              0.7777777777777778,
              "#fb9f3a"
             ],
             [
              0.8888888888888888,
              "#fdca26"
             ],
             [
              1,
              "#f0f921"
             ]
            ],
            "type": "surface"
           }
          ],
          "table": [
           {
            "cells": {
             "fill": {
              "color": "#EBF0F8"
             },
             "line": {
              "color": "white"
             }
            },
            "header": {
             "fill": {
              "color": "#C8D4E3"
             },
             "line": {
              "color": "white"
             }
            },
            "type": "table"
           }
          ]
         },
         "layout": {
          "annotationdefaults": {
           "arrowcolor": "#2a3f5f",
           "arrowhead": 0,
           "arrowwidth": 1
          },
          "autotypenumbers": "strict",
          "coloraxis": {
           "colorbar": {
            "outlinewidth": 0,
            "ticks": ""
           }
          },
          "colorscale": {
           "diverging": [
            [
             0,
             "#8e0152"
            ],
            [
             0.1,
             "#c51b7d"
            ],
            [
             0.2,
             "#de77ae"
            ],
            [
             0.3,
             "#f1b6da"
            ],
            [
             0.4,
             "#fde0ef"
            ],
            [
             0.5,
             "#f7f7f7"
            ],
            [
             0.6,
             "#e6f5d0"
            ],
            [
             0.7,
             "#b8e186"
            ],
            [
             0.8,
             "#7fbc41"
            ],
            [
             0.9,
             "#4d9221"
            ],
            [
             1,
             "#276419"
            ]
           ],
           "sequential": [
            [
             0,
             "#0d0887"
            ],
            [
             0.1111111111111111,
             "#46039f"
            ],
            [
             0.2222222222222222,
             "#7201a8"
            ],
            [
             0.3333333333333333,
             "#9c179e"
            ],
            [
             0.4444444444444444,
             "#bd3786"
            ],
            [
             0.5555555555555556,
             "#d8576b"
            ],
            [
             0.6666666666666666,
             "#ed7953"
            ],
            [
             0.7777777777777778,
             "#fb9f3a"
            ],
            [
             0.8888888888888888,
             "#fdca26"
            ],
            [
             1,
             "#f0f921"
            ]
           ],
           "sequentialminus": [
            [
             0,
             "#0d0887"
            ],
            [
             0.1111111111111111,
             "#46039f"
            ],
            [
             0.2222222222222222,
             "#7201a8"
            ],
            [
             0.3333333333333333,
             "#9c179e"
            ],
            [
             0.4444444444444444,
             "#bd3786"
            ],
            [
             0.5555555555555556,
             "#d8576b"
            ],
            [
             0.6666666666666666,
             "#ed7953"
            ],
            [
             0.7777777777777778,
             "#fb9f3a"
            ],
            [
             0.8888888888888888,
             "#fdca26"
            ],
            [
             1,
             "#f0f921"
            ]
           ]
          },
          "colorway": [
           "#636efa",
           "#EF553B",
           "#00cc96",
           "#ab63fa",
           "#FFA15A",
           "#19d3f3",
           "#FF6692",
           "#B6E880",
           "#FF97FF",
           "#FECB52"
          ],
          "font": {
           "color": "#2a3f5f"
          },
          "geo": {
           "bgcolor": "white",
           "lakecolor": "white",
           "landcolor": "#E5ECF6",
           "showlakes": true,
           "showland": true,
           "subunitcolor": "white"
          },
          "hoverlabel": {
           "align": "left"
          },
          "hovermode": "closest",
          "mapbox": {
           "style": "light"
          },
          "paper_bgcolor": "white",
          "plot_bgcolor": "#E5ECF6",
          "polar": {
           "angularaxis": {
            "gridcolor": "white",
            "linecolor": "white",
            "ticks": ""
           },
           "bgcolor": "#E5ECF6",
           "radialaxis": {
            "gridcolor": "white",
            "linecolor": "white",
            "ticks": ""
           }
          },
          "scene": {
           "xaxis": {
            "backgroundcolor": "#E5ECF6",
            "gridcolor": "white",
            "gridwidth": 2,
            "linecolor": "white",
            "showbackground": true,
            "ticks": "",
            "zerolinecolor": "white"
           },
           "yaxis": {
            "backgroundcolor": "#E5ECF6",
            "gridcolor": "white",
            "gridwidth": 2,
            "linecolor": "white",
            "showbackground": true,
            "ticks": "",
            "zerolinecolor": "white"
           },
           "zaxis": {
            "backgroundcolor": "#E5ECF6",
            "gridcolor": "white",
            "gridwidth": 2,
            "linecolor": "white",
            "showbackground": true,
            "ticks": "",
            "zerolinecolor": "white"
           }
          },
          "shapedefaults": {
           "line": {
            "color": "#2a3f5f"
           }
          },
          "ternary": {
           "aaxis": {
            "gridcolor": "white",
            "linecolor": "white",
            "ticks": ""
           },
           "baxis": {
            "gridcolor": "white",
            "linecolor": "white",
            "ticks": ""
           },
           "bgcolor": "#E5ECF6",
           "caxis": {
            "gridcolor": "white",
            "linecolor": "white",
            "ticks": ""
           }
          },
          "title": {
           "x": 0.05
          },
          "xaxis": {
           "automargin": true,
           "gridcolor": "white",
           "linecolor": "white",
           "ticks": "",
           "title": {
            "standoff": 15
           },
           "zerolinecolor": "white",
           "zerolinewidth": 2
          },
          "yaxis": {
           "automargin": true,
           "gridcolor": "white",
           "linecolor": "white",
           "ticks": "",
           "title": {
            "standoff": 15
           },
           "zerolinecolor": "white",
           "zerolinewidth": 2
          }
         }
        },
        "title": {
         "text": "Storage Capacity All Regions - Day"
        },
        "width": 1400,
        "xaxis": {
         "title": {
          "text": "Year"
         }
        },
        "yaxis": {
         "title": {
          "text": "GW"
         }
        }
       }
      }
     },
     "metadata": {},
     "output_type": "display_data"
    }
   ],
   "source": [
    "storage_capacity_plotter = StackedQuantityEvolutionFacilitator(sol_path=SOLUTION_FILEPATH, region=\"All\")\n",
    "\n",
    "relevant_data = storage_capacity_plotter.get_relevant_data()\n",
    "#relevant_data.filter_by_containing_string(column=\"Technology\", identifier=\"D_\")\n",
    "relevant_data.filter_by_list(column=\"Technology\", by_filter=[\"D_Heat_HLDH\", \"D_Heat_HLI\", \"D_Heat_HLB\"])\n",
    "relevant_data.aggreagate_all_by_sum(column_to_aggregate=\"Region\", aggregated_entry_name=\"All\", column_to_sum=\"Value\")\n",
    "\n",
    "fig = storage_capacity_plotter.plot(relevant_data)\n",
    "\n",
    "fig.update_layout(\n",
    "    width=1400,\n",
    "    height=800,\n",
    "    title=\"Storage Capacity All Regions\" + TITLE_ADDON,\n",
    "    yaxis_title=\"GW\",\n",
    "    xaxis_title=\"Year\",\n",
    ")\n",
    "\n",
    "fig.write_image(\"StorageProductionAllRegions.pdf\" + TITLE_ADDON.replace(\" \", \"\") + \".png\")\n",
    "fig.show()"
   ]
  }
 ],
 "metadata": {
  "kernelspec": {
   "display_name": "scenario_dashboard",
   "language": "python",
   "name": "python3"
  },
  "language_info": {
   "codemirror_mode": {
    "name": "ipython",
    "version": 3
   },
   "file_extension": ".py",
   "mimetype": "text/x-python",
   "name": "python",
   "nbconvert_exporter": "python",
   "pygments_lexer": "ipython3",
   "version": "3.12.4"
  }
 },
 "nbformat": 4,
 "nbformat_minor": 2
}
