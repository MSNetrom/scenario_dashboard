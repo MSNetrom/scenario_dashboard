{
 "cells": [
  {
   "cell_type": "code",
   "execution_count": 329,
   "metadata": {},
   "outputs": [
    {
     "name": "stdout",
     "output_type": "stream",
     "text": [
      "The autoreload extension is already loaded. To reload it, use:\n",
      "  %reload_ext autoreload\n"
     ]
    }
   ],
   "source": [
    "%load_ext autoreload\n",
    "%autoreload 2\n",
    "\n",
    "import sys, os\n",
    "from pathlib import Path\n",
    "import plotly.graph_objects as go\n",
    "from typing import Iterable\n",
    "import pandas as pd\n",
    "\n",
    "# Fix import\n",
    "sys.path.append(os.path.abspath(os.path.join('..')))\n",
    "from facilitators import BarFacilitator, StackedQuantityEvolutionFacilitatorBase, StackedQuantityEvolutionFacilitatorBase2\n",
    "from data import read_sol_keys, AGGREGATION, aggregator\n",
    "from data import data_processor as dp\n",
    "from facilitators import my_color_generator"
   ]
  },
  {
   "cell_type": "code",
   "execution_count": 330,
   "metadata": {},
   "outputs": [],
   "source": [
    "PROJECT_ROOT_DIR = Path().resolve().parent\n",
    "SOLUTION_DIR = PROJECT_ROOT_DIR / \"solution_files3\"\n",
    "\n",
    "#EXPENSIVE_HLDH = SOLUTION_DIR / \"solution_seasonal_free_3_d40_h6_s6_6.sol\"\n",
    "EXPENSIVE_HLDH = SOLUTION_DIR / \"solution_seasonal_10HLDH_d40_h6_s6_6.sol\"\n",
    "SEASON_DATA = SOLUTION_DIR / \"solution_seasonal_d40_h6_s6_6.sol\"\n",
    "\n",
    "WRITE_DIR = PROJECT_ROOT_DIR / \"generated_figs3\"\n",
    "WRITE_FIGS = True\n",
    "\n",
    "REGION = \"ALL\"\n",
    "YEAR = 2050"
   ]
  },
  {
   "cell_type": "code",
   "execution_count": 355,
   "metadata": {},
   "outputs": [],
   "source": [
    "def stacked_accumulated_energy(sol_path: str, region: str = \"ALL\", title_addon: str = None, write_fig = False) -> go.Figure:\n",
    "    storage_evolution = StackedQuantityEvolutionFacilitatorBase2(sol_path=sol_path, type_of_data_to_read=\"NewStorageCapacity\", extra_identifying_columns=[\"Region\"])\n",
    "\n",
    "    d = storage_evolution.get_relevant_data()\n",
    "    #d.show_example_rows(5)\n",
    "    d.filter_by_containing_string(column=\"Storage\", identifier=\"S_Heat_HLDH\")\n",
    "\n",
    "    #if region == \"ALL\":\n",
    "        #d.aggreagate_all_by_sum(column_to_aggregate=\"Region\", aggregated_entry_name=region, column_to_sum=\"Value\")\n",
    "\n",
    "    # Remove those who are 0 for all years\n",
    "    techs_over_zero = d.df[d.df[\"Value\"] > 0][\"Region\"].unique()\n",
    "    d.filter_by_list(column=\"Region\", identifier_list=techs_over_zero)\n",
    "\n",
    "    # Do cumsum over years\n",
    "    d.df[\"Value\"] = d.df.groupby(\"Region\")[\"Value\"].cumsum()\n",
    "\n",
    "    # Keep the 5 biggest regions in 2050\n",
    "    top_regions = d.df[d.df[\"Year\"] == YEAR].nlargest(5, \"Value\")[\"Region\"].values\n",
    "    bottom_regions = set(d.df[\"Region\"].unique()) - set(top_regions)\n",
    "    bottom_df = d.df[d.df[\"Region\"].isin(bottom_regions)]\n",
    "\n",
    "    # Aggregate the bottom regions\n",
    "    bottom_df[\"Region\"] = \"Others\"\n",
    "    bottom_df = bottom_df.groupby([col for col in bottom_df.columns if col != \"Value\"], as_index=False).sum(numeric_only=True)\n",
    "\n",
    "    d.filter_by_list(column=\"Region\", identifier_list=top_regions)\n",
    "    d.df = pd.concat([d.df, bottom_df], ignore_index=True)\n",
    "    \n",
    "    traces = storage_evolution.generate_traces(d)\n",
    "\n",
    "\n",
    "    # Sort the traces by the value in 2050\n",
    "    traces = sorted(traces, key=lambda x: x.y[-1], reverse=True)\n",
    "\n",
    "    # But put the \"Others\" at the end\n",
    "    traces = [x for x in traces if x.name == \"Others\"] + [x for x in traces if x.name != \"Others\"]\n",
    "\n",
    "    fig = storage_evolution.plot(traces)\n",
    "\n",
    "    fig.update_layout(\n",
    "        width=1400,\n",
    "        height=800,\n",
    "        title=f\"Accumulated Storage Capacity District Heat Europe\",\n",
    "        yaxis_title=\"TWh\",\n",
    "        xaxis_title=\"Year\",\n",
    "        font=dict(\n",
    "            size=30,\n",
    "        ),\n",
    "    )\n",
    "\n",
    "    if write_fig:\n",
    "        fig.write_image(WRITE_DIR / f\"stacked_accumulated_storage_energy_region_{region}_{title_addon}.png\")\n",
    "\n",
    "    return fig"
   ]
  },
  {
   "cell_type": "code",
   "execution_count": 356,
   "metadata": {},
   "outputs": [
    {
     "name": "stdout",
     "output_type": "stream",
     "text": [
      "Converting from PetaJoules to TerraWattHours\n"
     ]
    },
    {
     "name": "stderr",
     "output_type": "stream",
     "text": [
      "C:\\Users\\mortensv\\AppData\\Local\\Temp\\ipykernel_29752\\1826966693.py:24: SettingWithCopyWarning:\n",
      "\n",
      "\n",
      "A value is trying to be set on a copy of a slice from a DataFrame.\n",
      "Try using .loc[row_indexer,col_indexer] = value instead\n",
      "\n",
      "See the caveats in the documentation: https://pandas.pydata.org/pandas-docs/stable/user_guide/indexing.html#returning-a-view-versus-a-copy\n",
      "\n"
     ]
    },
    {
     "data": {
      "application/vnd.plotly.v1+json": {
       "config": {
        "plotlyServerURL": "https://plot.ly"
       },
       "data": [
        {
         "fillcolor": "#9899e9",
         "legendgroup": "Others",
         "line": {
          "color": "#9899e9"
         },
         "name": "Others",
         "showlegend": true,
         "stackgroup": "one",
         "type": "scatter",
         "x": [
          2040,
          2035,
          2030,
          2025,
          2018,
          2050,
          2045
         ],
         "y": [
          58.156563436311174,
          38.38006905427775,
          13.38531672549888,
          0.5090592561727258,
          1.036608214995551e-8,
          94.29141922114714,
          76.7663585968077
         ]
        },
        {
         "fillcolor": "#b9d7e5",
         "legendgroup": "DE",
         "line": {
          "color": "#b9d7e5"
         },
         "name": "DE",
         "showlegend": true,
         "stackgroup": "one",
         "type": "scatter",
         "x": [
          2018,
          2025,
          2030,
          2035,
          2040,
          2045,
          2050
         ],
         "y": [
          3.8443512391059105e-10,
          3.1937304733072893,
          15.340491149397023,
          40.159559154494374,
          64.57722166264125,
          85.31980146283261,
          104.84170081674482
         ]
        },
        {
         "fillcolor": "#91e7d2",
         "legendgroup": "TR",
         "line": {
          "color": "#91e7d2"
         },
         "name": "TR",
         "showlegend": true,
         "stackgroup": "one",
         "type": "scatter",
         "x": [
          2050,
          2040,
          2035,
          2030,
          2025,
          2018,
          2045
         ],
         "y": [
          82.98764653597709,
          44.62404635713038,
          30.415107010684384,
          15.897667636235127,
          1.2193015052813473e-7,
          3.788895974489402e-10,
          63.01119346051733
         ]
        },
        {
         "fillcolor": "#e3aca2",
         "legendgroup": "FR",
         "line": {
          "color": "#e3aca2"
         },
         "name": "FR",
         "showlegend": true,
         "stackgroup": "one",
         "type": "scatter",
         "x": [
          2050,
          2045,
          2040,
          2025,
          2030,
          2018,
          2035
         ],
         "y": [
          68.90471205182749,
          54.71641048557683,
          41.24150200688765,
          5.793455622311192e-8,
          9.485535165079575,
          3.432714831054514e-10,
          27.562289466510997
         ]
        },
        {
         "fillcolor": "#f386fb",
         "legendgroup": "IT",
         "line": {
          "color": "#f386fb"
         },
         "name": "IT",
         "showlegend": true,
         "stackgroup": "one",
         "type": "scatter",
         "x": [
          2040,
          2045,
          2035,
          2050,
          2025,
          2018,
          2030
         ],
         "y": [
          22.256454369571124,
          31.09554802109937,
          12.971450510355188,
          37.60651566343504,
          2.010594869002857e-7,
          4.577959180739491e-10,
          1.8046822621859693
         ]
        },
        {
         "fillcolor": "#a2e7f7",
         "legendgroup": "UK",
         "line": {
          "color": "#a2e7f7"
         },
         "name": "UK",
         "showlegend": true,
         "stackgroup": "one",
         "type": "scatter",
         "x": [
          2018,
          2030,
          2035,
          2040,
          2045,
          2050,
          2025
         ],
         "y": [
          4.0933444860689823e-10,
          7.96958159366714,
          18.308037153199706,
          27.424829092165147,
          35.587487847737506,
          41.21699685326959,
          3.877858888831354e-8
         ]
        }
       ],
       "layout": {
        "barmode": "stack",
        "font": {
         "size": 30
        },
        "height": 800,
        "legend": {
         "traceorder": "reversed"
        },
        "template": {
         "data": {
          "bar": [
           {
            "error_x": {
             "color": "#2a3f5f"
            },
            "error_y": {
             "color": "#2a3f5f"
            },
            "marker": {
             "line": {
              "color": "#E5ECF6",
              "width": 0.5
             },
             "pattern": {
              "fillmode": "overlay",
              "size": 10,
              "solidity": 0.2
             }
            },
            "type": "bar"
           }
          ],
          "barpolar": [
           {
            "marker": {
             "line": {
              "color": "#E5ECF6",
              "width": 0.5
             },
             "pattern": {
              "fillmode": "overlay",
              "size": 10,
              "solidity": 0.2
             }
            },
            "type": "barpolar"
           }
          ],
          "carpet": [
           {
            "aaxis": {
             "endlinecolor": "#2a3f5f",
             "gridcolor": "white",
             "linecolor": "white",
             "minorgridcolor": "white",
             "startlinecolor": "#2a3f5f"
            },
            "baxis": {
             "endlinecolor": "#2a3f5f",
             "gridcolor": "white",
             "linecolor": "white",
             "minorgridcolor": "white",
             "startlinecolor": "#2a3f5f"
            },
            "type": "carpet"
           }
          ],
          "choropleth": [
           {
            "colorbar": {
             "outlinewidth": 0,
             "ticks": ""
            },
            "type": "choropleth"
           }
          ],
          "contour": [
           {
            "colorbar": {
             "outlinewidth": 0,
             "ticks": ""
            },
            "colorscale": [
             [
              0,
              "#0d0887"
             ],
             [
              0.1111111111111111,
              "#46039f"
             ],
             [
              0.2222222222222222,
              "#7201a8"
             ],
             [
              0.3333333333333333,
              "#9c179e"
             ],
             [
              0.4444444444444444,
              "#bd3786"
             ],
             [
              0.5555555555555556,
              "#d8576b"
             ],
             [
              0.6666666666666666,
              "#ed7953"
             ],
             [
              0.7777777777777778,
              "#fb9f3a"
             ],
             [
              0.8888888888888888,
              "#fdca26"
             ],
             [
              1,
              "#f0f921"
             ]
            ],
            "type": "contour"
           }
          ],
          "contourcarpet": [
           {
            "colorbar": {
             "outlinewidth": 0,
             "ticks": ""
            },
            "type": "contourcarpet"
           }
          ],
          "heatmap": [
           {
            "colorbar": {
             "outlinewidth": 0,
             "ticks": ""
            },
            "colorscale": [
             [
              0,
              "#0d0887"
             ],
             [
              0.1111111111111111,
              "#46039f"
             ],
             [
              0.2222222222222222,
              "#7201a8"
             ],
             [
              0.3333333333333333,
              "#9c179e"
             ],
             [
              0.4444444444444444,
              "#bd3786"
             ],
             [
              0.5555555555555556,
              "#d8576b"
             ],
             [
              0.6666666666666666,
              "#ed7953"
             ],
             [
              0.7777777777777778,
              "#fb9f3a"
             ],
             [
              0.8888888888888888,
              "#fdca26"
             ],
             [
              1,
              "#f0f921"
             ]
            ],
            "type": "heatmap"
           }
          ],
          "heatmapgl": [
           {
            "colorbar": {
             "outlinewidth": 0,
             "ticks": ""
            },
            "colorscale": [
             [
              0,
              "#0d0887"
             ],
             [
              0.1111111111111111,
              "#46039f"
             ],
             [
              0.2222222222222222,
              "#7201a8"
             ],
             [
              0.3333333333333333,
              "#9c179e"
             ],
             [
              0.4444444444444444,
              "#bd3786"
             ],
             [
              0.5555555555555556,
              "#d8576b"
             ],
             [
              0.6666666666666666,
              "#ed7953"
             ],
             [
              0.7777777777777778,
              "#fb9f3a"
             ],
             [
              0.8888888888888888,
              "#fdca26"
             ],
             [
              1,
              "#f0f921"
             ]
            ],
            "type": "heatmapgl"
           }
          ],
          "histogram": [
           {
            "marker": {
             "pattern": {
              "fillmode": "overlay",
              "size": 10,
              "solidity": 0.2
             }
            },
            "type": "histogram"
           }
          ],
          "histogram2d": [
           {
            "colorbar": {
             "outlinewidth": 0,
             "ticks": ""
            },
            "colorscale": [
             [
              0,
              "#0d0887"
             ],
             [
              0.1111111111111111,
              "#46039f"
             ],
             [
              0.2222222222222222,
              "#7201a8"
             ],
             [
              0.3333333333333333,
              "#9c179e"
             ],
             [
              0.4444444444444444,
              "#bd3786"
             ],
             [
              0.5555555555555556,
              "#d8576b"
             ],
             [
              0.6666666666666666,
              "#ed7953"
             ],
             [
              0.7777777777777778,
              "#fb9f3a"
             ],
             [
              0.8888888888888888,
              "#fdca26"
             ],
             [
              1,
              "#f0f921"
             ]
            ],
            "type": "histogram2d"
           }
          ],
          "histogram2dcontour": [
           {
            "colorbar": {
             "outlinewidth": 0,
             "ticks": ""
            },
            "colorscale": [
             [
              0,
              "#0d0887"
             ],
             [
              0.1111111111111111,
              "#46039f"
             ],
             [
              0.2222222222222222,
              "#7201a8"
             ],
             [
              0.3333333333333333,
              "#9c179e"
             ],
             [
              0.4444444444444444,
              "#bd3786"
             ],
             [
              0.5555555555555556,
              "#d8576b"
             ],
             [
              0.6666666666666666,
              "#ed7953"
             ],
             [
              0.7777777777777778,
              "#fb9f3a"
             ],
             [
              0.8888888888888888,
              "#fdca26"
             ],
             [
              1,
              "#f0f921"
             ]
            ],
            "type": "histogram2dcontour"
           }
          ],
          "mesh3d": [
           {
            "colorbar": {
             "outlinewidth": 0,
             "ticks": ""
            },
            "type": "mesh3d"
           }
          ],
          "parcoords": [
           {
            "line": {
             "colorbar": {
              "outlinewidth": 0,
              "ticks": ""
             }
            },
            "type": "parcoords"
           }
          ],
          "pie": [
           {
            "automargin": true,
            "type": "pie"
           }
          ],
          "scatter": [
           {
            "fillpattern": {
             "fillmode": "overlay",
             "size": 10,
             "solidity": 0.2
            },
            "type": "scatter"
           }
          ],
          "scatter3d": [
           {
            "line": {
             "colorbar": {
              "outlinewidth": 0,
              "ticks": ""
             }
            },
            "marker": {
             "colorbar": {
              "outlinewidth": 0,
              "ticks": ""
             }
            },
            "type": "scatter3d"
           }
          ],
          "scattercarpet": [
           {
            "marker": {
             "colorbar": {
              "outlinewidth": 0,
              "ticks": ""
             }
            },
            "type": "scattercarpet"
           }
          ],
          "scattergeo": [
           {
            "marker": {
             "colorbar": {
              "outlinewidth": 0,
              "ticks": ""
             }
            },
            "type": "scattergeo"
           }
          ],
          "scattergl": [
           {
            "marker": {
             "colorbar": {
              "outlinewidth": 0,
              "ticks": ""
             }
            },
            "type": "scattergl"
           }
          ],
          "scattermapbox": [
           {
            "marker": {
             "colorbar": {
              "outlinewidth": 0,
              "ticks": ""
             }
            },
            "type": "scattermapbox"
           }
          ],
          "scatterpolar": [
           {
            "marker": {
             "colorbar": {
              "outlinewidth": 0,
              "ticks": ""
             }
            },
            "type": "scatterpolar"
           }
          ],
          "scatterpolargl": [
           {
            "marker": {
             "colorbar": {
              "outlinewidth": 0,
              "ticks": ""
             }
            },
            "type": "scatterpolargl"
           }
          ],
          "scatterternary": [
           {
            "marker": {
             "colorbar": {
              "outlinewidth": 0,
              "ticks": ""
             }
            },
            "type": "scatterternary"
           }
          ],
          "surface": [
           {
            "colorbar": {
             "outlinewidth": 0,
             "ticks": ""
            },
            "colorscale": [
             [
              0,
              "#0d0887"
             ],
             [
              0.1111111111111111,
              "#46039f"
             ],
             [
              0.2222222222222222,
              "#7201a8"
             ],
             [
              0.3333333333333333,
              "#9c179e"
             ],
             [
              0.4444444444444444,
              "#bd3786"
             ],
             [
              0.5555555555555556,
              "#d8576b"
             ],
             [
              0.6666666666666666,
              "#ed7953"
             ],
             [
              0.7777777777777778,
              "#fb9f3a"
             ],
             [
              0.8888888888888888,
              "#fdca26"
             ],
             [
              1,
              "#f0f921"
             ]
            ],
            "type": "surface"
           }
          ],
          "table": [
           {
            "cells": {
             "fill": {
              "color": "#EBF0F8"
             },
             "line": {
              "color": "white"
             }
            },
            "header": {
             "fill": {
              "color": "#C8D4E3"
             },
             "line": {
              "color": "white"
             }
            },
            "type": "table"
           }
          ]
         },
         "layout": {
          "annotationdefaults": {
           "arrowcolor": "#2a3f5f",
           "arrowhead": 0,
           "arrowwidth": 1
          },
          "autotypenumbers": "strict",
          "coloraxis": {
           "colorbar": {
            "outlinewidth": 0,
            "ticks": ""
           }
          },
          "colorscale": {
           "diverging": [
            [
             0,
             "#8e0152"
            ],
            [
             0.1,
             "#c51b7d"
            ],
            [
             0.2,
             "#de77ae"
            ],
            [
             0.3,
             "#f1b6da"
            ],
            [
             0.4,
             "#fde0ef"
            ],
            [
             0.5,
             "#f7f7f7"
            ],
            [
             0.6,
             "#e6f5d0"
            ],
            [
             0.7,
             "#b8e186"
            ],
            [
             0.8,
             "#7fbc41"
            ],
            [
             0.9,
             "#4d9221"
            ],
            [
             1,
             "#276419"
            ]
           ],
           "sequential": [
            [
             0,
             "#0d0887"
            ],
            [
             0.1111111111111111,
             "#46039f"
            ],
            [
             0.2222222222222222,
             "#7201a8"
            ],
            [
             0.3333333333333333,
             "#9c179e"
            ],
            [
             0.4444444444444444,
             "#bd3786"
            ],
            [
             0.5555555555555556,
             "#d8576b"
            ],
            [
             0.6666666666666666,
             "#ed7953"
            ],
            [
             0.7777777777777778,
             "#fb9f3a"
            ],
            [
             0.8888888888888888,
             "#fdca26"
            ],
            [
             1,
             "#f0f921"
            ]
           ],
           "sequentialminus": [
            [
             0,
             "#0d0887"
            ],
            [
             0.1111111111111111,
             "#46039f"
            ],
            [
             0.2222222222222222,
             "#7201a8"
            ],
            [
             0.3333333333333333,
             "#9c179e"
            ],
            [
             0.4444444444444444,
             "#bd3786"
            ],
            [
             0.5555555555555556,
             "#d8576b"
            ],
            [
             0.6666666666666666,
             "#ed7953"
            ],
            [
             0.7777777777777778,
             "#fb9f3a"
            ],
            [
             0.8888888888888888,
             "#fdca26"
            ],
            [
             1,
             "#f0f921"
            ]
           ]
          },
          "colorway": [
           "#636efa",
           "#EF553B",
           "#00cc96",
           "#ab63fa",
           "#FFA15A",
           "#19d3f3",
           "#FF6692",
           "#B6E880",
           "#FF97FF",
           "#FECB52"
          ],
          "font": {
           "color": "#2a3f5f"
          },
          "geo": {
           "bgcolor": "white",
           "lakecolor": "white",
           "landcolor": "#E5ECF6",
           "showlakes": true,
           "showland": true,
           "subunitcolor": "white"
          },
          "hoverlabel": {
           "align": "left"
          },
          "hovermode": "closest",
          "mapbox": {
           "style": "light"
          },
          "paper_bgcolor": "white",
          "plot_bgcolor": "#E5ECF6",
          "polar": {
           "angularaxis": {
            "gridcolor": "white",
            "linecolor": "white",
            "ticks": ""
           },
           "bgcolor": "#E5ECF6",
           "radialaxis": {
            "gridcolor": "white",
            "linecolor": "white",
            "ticks": ""
           }
          },
          "scene": {
           "xaxis": {
            "backgroundcolor": "#E5ECF6",
            "gridcolor": "white",
            "gridwidth": 2,
            "linecolor": "white",
            "showbackground": true,
            "ticks": "",
            "zerolinecolor": "white"
           },
           "yaxis": {
            "backgroundcolor": "#E5ECF6",
            "gridcolor": "white",
            "gridwidth": 2,
            "linecolor": "white",
            "showbackground": true,
            "ticks": "",
            "zerolinecolor": "white"
           },
           "zaxis": {
            "backgroundcolor": "#E5ECF6",
            "gridcolor": "white",
            "gridwidth": 2,
            "linecolor": "white",
            "showbackground": true,
            "ticks": "",
            "zerolinecolor": "white"
           }
          },
          "shapedefaults": {
           "line": {
            "color": "#2a3f5f"
           }
          },
          "ternary": {
           "aaxis": {
            "gridcolor": "white",
            "linecolor": "white",
            "ticks": ""
           },
           "baxis": {
            "gridcolor": "white",
            "linecolor": "white",
            "ticks": ""
           },
           "bgcolor": "#E5ECF6",
           "caxis": {
            "gridcolor": "white",
            "linecolor": "white",
            "ticks": ""
           }
          },
          "title": {
           "x": 0.05
          },
          "xaxis": {
           "automargin": true,
           "gridcolor": "white",
           "linecolor": "white",
           "ticks": "",
           "title": {
            "standoff": 15
           },
           "zerolinecolor": "white",
           "zerolinewidth": 2
          },
          "yaxis": {
           "automargin": true,
           "gridcolor": "white",
           "linecolor": "white",
           "ticks": "",
           "title": {
            "standoff": 15
           },
           "zerolinecolor": "white",
           "zerolinewidth": 2
          }
         }
        },
        "title": {
         "text": "Accumulated Storage Capacity District Heat Europe"
        },
        "width": 1400,
        "xaxis": {
         "title": {
          "text": "Year"
         }
        },
        "yaxis": {
         "title": {
          "text": "TWh"
         }
        }
       }
      }
     },
     "metadata": {},
     "output_type": "display_data"
    },
    {
     "name": "stdout",
     "output_type": "stream",
     "text": [
      "Converting from PetaJoules to TerraWattHours\n"
     ]
    },
    {
     "name": "stderr",
     "output_type": "stream",
     "text": [
      "C:\\Users\\mortensv\\AppData\\Local\\Temp\\ipykernel_29752\\1826966693.py:24: SettingWithCopyWarning:\n",
      "\n",
      "\n",
      "A value is trying to be set on a copy of a slice from a DataFrame.\n",
      "Try using .loc[row_indexer,col_indexer] = value instead\n",
      "\n",
      "See the caveats in the documentation: https://pandas.pydata.org/pandas-docs/stable/user_guide/indexing.html#returning-a-view-versus-a-copy\n",
      "\n"
     ]
    },
    {
     "data": {
      "application/vnd.plotly.v1+json": {
       "config": {
        "plotlyServerURL": "https://plot.ly"
       },
       "data": [
        {
         "fillcolor": "#9899e9",
         "legendgroup": "Others",
         "line": {
          "color": "#9899e9"
         },
         "name": "Others",
         "showlegend": true,
         "stackgroup": "one",
         "type": "scatter",
         "x": [
          2040,
          2035,
          2030,
          2025,
          2018,
          2050,
          2045
         ],
         "y": [
          1.3958828838337389e-9,
          4.5661698304973355e-10,
          4.478754250219718e-11,
          1.280874980344807e-11,
          3.4069992439798056e-12,
          4.06597078234646e-8,
          3.725788945882402e-9
         ]
        },
        {
         "fillcolor": "#92baf7",
         "legendgroup": "LU",
         "line": {
          "color": "#92baf7"
         },
         "name": "LU",
         "showlegend": true,
         "stackgroup": "one",
         "type": "scatter",
         "x": [
          2018,
          2025,
          2030,
          2035,
          2040,
          2045,
          2050
         ],
         "y": [
          1.358874230159791e-13,
          4.690755076205729e-13,
          1.535138802524139e-12,
          1.8581471205134208e-11,
          5.596005998275414e-11,
          1.4904855879516394e-10,
          1.759042181549823e-9
         ]
        },
        {
         "fillcolor": "#b9d7e5",
         "legendgroup": "DE",
         "line": {
          "color": "#b9d7e5"
         },
         "name": "DE",
         "showlegend": true,
         "stackgroup": "one",
         "type": "scatter",
         "x": [
          2018,
          2025,
          2030,
          2035,
          2040,
          2045,
          2050
         ],
         "y": [
          1.3619544976781763e-13,
          4.719917185335926e-13,
          1.5314879402156402e-12,
          1.817806200116901e-11,
          5.618914483515996e-11,
          1.5469533404796588e-10,
          1.7010843395997145e-9
         ]
        },
        {
         "fillcolor": "#f9e78d",
         "legendgroup": "HR",
         "line": {
          "color": "#f9e78d"
         },
         "name": "HR",
         "showlegend": true,
         "stackgroup": "one",
         "type": "scatter",
         "x": [
          2050,
          2045,
          2040,
          2025,
          2030,
          2018,
          2035
         ],
         "y": [
          1.8265879586045217e-9,
          1.5078719501159156e-10,
          5.6748355373932125e-11,
          5.019429376159505e-13,
          1.5657886848513075e-12,
          1.3565234271987435e-13,
          1.8660530858787445e-11
         ]
        },
        {
         "fillcolor": "#f7a291",
         "legendgroup": "HU",
         "line": {
          "color": "#f7a291"
         },
         "name": "HU",
         "showlegend": true,
         "stackgroup": "one",
         "type": "scatter",
         "x": [
          2040,
          2045,
          2035,
          2050,
          2025,
          2018,
          2030
         ],
         "y": [
          5.623281887923655e-11,
          1.5031740731092702e-10,
          1.7868696830215902e-11,
          1.7054093612700956e-9,
          4.69149029651415e-13,
          1.3626122947571487e-13,
          1.5064521399846017e-12
         ]
        },
        {
         "fillcolor": "#ac8fda",
         "legendgroup": "SI",
         "line": {
          "color": "#ac8fda"
         },
         "name": "SI",
         "showlegend": true,
         "stackgroup": "one",
         "type": "scatter",
         "x": [
          2050,
          2040,
          2035,
          2030,
          2018,
          2045,
          2025
         ],
         "y": [
          1.7788552080533849e-9,
          5.666174620811555e-11,
          1.8922591635558344e-11,
          1.820331914197273e-12,
          1.3542355147544663e-13,
          1.4859952138923574e-10,
          4.863138580837505e-13
         ]
        }
       ],
       "layout": {
        "barmode": "stack",
        "font": {
         "size": 30
        },
        "height": 800,
        "legend": {
         "traceorder": "reversed"
        },
        "template": {
         "data": {
          "bar": [
           {
            "error_x": {
             "color": "#2a3f5f"
            },
            "error_y": {
             "color": "#2a3f5f"
            },
            "marker": {
             "line": {
              "color": "#E5ECF6",
              "width": 0.5
             },
             "pattern": {
              "fillmode": "overlay",
              "size": 10,
              "solidity": 0.2
             }
            },
            "type": "bar"
           }
          ],
          "barpolar": [
           {
            "marker": {
             "line": {
              "color": "#E5ECF6",
              "width": 0.5
             },
             "pattern": {
              "fillmode": "overlay",
              "size": 10,
              "solidity": 0.2
             }
            },
            "type": "barpolar"
           }
          ],
          "carpet": [
           {
            "aaxis": {
             "endlinecolor": "#2a3f5f",
             "gridcolor": "white",
             "linecolor": "white",
             "minorgridcolor": "white",
             "startlinecolor": "#2a3f5f"
            },
            "baxis": {
             "endlinecolor": "#2a3f5f",
             "gridcolor": "white",
             "linecolor": "white",
             "minorgridcolor": "white",
             "startlinecolor": "#2a3f5f"
            },
            "type": "carpet"
           }
          ],
          "choropleth": [
           {
            "colorbar": {
             "outlinewidth": 0,
             "ticks": ""
            },
            "type": "choropleth"
           }
          ],
          "contour": [
           {
            "colorbar": {
             "outlinewidth": 0,
             "ticks": ""
            },
            "colorscale": [
             [
              0,
              "#0d0887"
             ],
             [
              0.1111111111111111,
              "#46039f"
             ],
             [
              0.2222222222222222,
              "#7201a8"
             ],
             [
              0.3333333333333333,
              "#9c179e"
             ],
             [
              0.4444444444444444,
              "#bd3786"
             ],
             [
              0.5555555555555556,
              "#d8576b"
             ],
             [
              0.6666666666666666,
              "#ed7953"
             ],
             [
              0.7777777777777778,
              "#fb9f3a"
             ],
             [
              0.8888888888888888,
              "#fdca26"
             ],
             [
              1,
              "#f0f921"
             ]
            ],
            "type": "contour"
           }
          ],
          "contourcarpet": [
           {
            "colorbar": {
             "outlinewidth": 0,
             "ticks": ""
            },
            "type": "contourcarpet"
           }
          ],
          "heatmap": [
           {
            "colorbar": {
             "outlinewidth": 0,
             "ticks": ""
            },
            "colorscale": [
             [
              0,
              "#0d0887"
             ],
             [
              0.1111111111111111,
              "#46039f"
             ],
             [
              0.2222222222222222,
              "#7201a8"
             ],
             [
              0.3333333333333333,
              "#9c179e"
             ],
             [
              0.4444444444444444,
              "#bd3786"
             ],
             [
              0.5555555555555556,
              "#d8576b"
             ],
             [
              0.6666666666666666,
              "#ed7953"
             ],
             [
              0.7777777777777778,
              "#fb9f3a"
             ],
             [
              0.8888888888888888,
              "#fdca26"
             ],
             [
              1,
              "#f0f921"
             ]
            ],
            "type": "heatmap"
           }
          ],
          "heatmapgl": [
           {
            "colorbar": {
             "outlinewidth": 0,
             "ticks": ""
            },
            "colorscale": [
             [
              0,
              "#0d0887"
             ],
             [
              0.1111111111111111,
              "#46039f"
             ],
             [
              0.2222222222222222,
              "#7201a8"
             ],
             [
              0.3333333333333333,
              "#9c179e"
             ],
             [
              0.4444444444444444,
              "#bd3786"
             ],
             [
              0.5555555555555556,
              "#d8576b"
             ],
             [
              0.6666666666666666,
              "#ed7953"
             ],
             [
              0.7777777777777778,
              "#fb9f3a"
             ],
             [
              0.8888888888888888,
              "#fdca26"
             ],
             [
              1,
              "#f0f921"
             ]
            ],
            "type": "heatmapgl"
           }
          ],
          "histogram": [
           {
            "marker": {
             "pattern": {
              "fillmode": "overlay",
              "size": 10,
              "solidity": 0.2
             }
            },
            "type": "histogram"
           }
          ],
          "histogram2d": [
           {
            "colorbar": {
             "outlinewidth": 0,
             "ticks": ""
            },
            "colorscale": [
             [
              0,
              "#0d0887"
             ],
             [
              0.1111111111111111,
              "#46039f"
             ],
             [
              0.2222222222222222,
              "#7201a8"
             ],
             [
              0.3333333333333333,
              "#9c179e"
             ],
             [
              0.4444444444444444,
              "#bd3786"
             ],
             [
              0.5555555555555556,
              "#d8576b"
             ],
             [
              0.6666666666666666,
              "#ed7953"
             ],
             [
              0.7777777777777778,
              "#fb9f3a"
             ],
             [
              0.8888888888888888,
              "#fdca26"
             ],
             [
              1,
              "#f0f921"
             ]
            ],
            "type": "histogram2d"
           }
          ],
          "histogram2dcontour": [
           {
            "colorbar": {
             "outlinewidth": 0,
             "ticks": ""
            },
            "colorscale": [
             [
              0,
              "#0d0887"
             ],
             [
              0.1111111111111111,
              "#46039f"
             ],
             [
              0.2222222222222222,
              "#7201a8"
             ],
             [
              0.3333333333333333,
              "#9c179e"
             ],
             [
              0.4444444444444444,
              "#bd3786"
             ],
             [
              0.5555555555555556,
              "#d8576b"
             ],
             [
              0.6666666666666666,
              "#ed7953"
             ],
             [
              0.7777777777777778,
              "#fb9f3a"
             ],
             [
              0.8888888888888888,
              "#fdca26"
             ],
             [
              1,
              "#f0f921"
             ]
            ],
            "type": "histogram2dcontour"
           }
          ],
          "mesh3d": [
           {
            "colorbar": {
             "outlinewidth": 0,
             "ticks": ""
            },
            "type": "mesh3d"
           }
          ],
          "parcoords": [
           {
            "line": {
             "colorbar": {
              "outlinewidth": 0,
              "ticks": ""
             }
            },
            "type": "parcoords"
           }
          ],
          "pie": [
           {
            "automargin": true,
            "type": "pie"
           }
          ],
          "scatter": [
           {
            "fillpattern": {
             "fillmode": "overlay",
             "size": 10,
             "solidity": 0.2
            },
            "type": "scatter"
           }
          ],
          "scatter3d": [
           {
            "line": {
             "colorbar": {
              "outlinewidth": 0,
              "ticks": ""
             }
            },
            "marker": {
             "colorbar": {
              "outlinewidth": 0,
              "ticks": ""
             }
            },
            "type": "scatter3d"
           }
          ],
          "scattercarpet": [
           {
            "marker": {
             "colorbar": {
              "outlinewidth": 0,
              "ticks": ""
             }
            },
            "type": "scattercarpet"
           }
          ],
          "scattergeo": [
           {
            "marker": {
             "colorbar": {
              "outlinewidth": 0,
              "ticks": ""
             }
            },
            "type": "scattergeo"
           }
          ],
          "scattergl": [
           {
            "marker": {
             "colorbar": {
              "outlinewidth": 0,
              "ticks": ""
             }
            },
            "type": "scattergl"
           }
          ],
          "scattermapbox": [
           {
            "marker": {
             "colorbar": {
              "outlinewidth": 0,
              "ticks": ""
             }
            },
            "type": "scattermapbox"
           }
          ],
          "scatterpolar": [
           {
            "marker": {
             "colorbar": {
              "outlinewidth": 0,
              "ticks": ""
             }
            },
            "type": "scatterpolar"
           }
          ],
          "scatterpolargl": [
           {
            "marker": {
             "colorbar": {
              "outlinewidth": 0,
              "ticks": ""
             }
            },
            "type": "scatterpolargl"
           }
          ],
          "scatterternary": [
           {
            "marker": {
             "colorbar": {
              "outlinewidth": 0,
              "ticks": ""
             }
            },
            "type": "scatterternary"
           }
          ],
          "surface": [
           {
            "colorbar": {
             "outlinewidth": 0,
             "ticks": ""
            },
            "colorscale": [
             [
              0,
              "#0d0887"
             ],
             [
              0.1111111111111111,
              "#46039f"
             ],
             [
              0.2222222222222222,
              "#7201a8"
             ],
             [
              0.3333333333333333,
              "#9c179e"
             ],
             [
              0.4444444444444444,
              "#bd3786"
             ],
             [
              0.5555555555555556,
              "#d8576b"
             ],
             [
              0.6666666666666666,
              "#ed7953"
             ],
             [
              0.7777777777777778,
              "#fb9f3a"
             ],
             [
              0.8888888888888888,
              "#fdca26"
             ],
             [
              1,
              "#f0f921"
             ]
            ],
            "type": "surface"
           }
          ],
          "table": [
           {
            "cells": {
             "fill": {
              "color": "#EBF0F8"
             },
             "line": {
              "color": "white"
             }
            },
            "header": {
             "fill": {
              "color": "#C8D4E3"
             },
             "line": {
              "color": "white"
             }
            },
            "type": "table"
           }
          ]
         },
         "layout": {
          "annotationdefaults": {
           "arrowcolor": "#2a3f5f",
           "arrowhead": 0,
           "arrowwidth": 1
          },
          "autotypenumbers": "strict",
          "coloraxis": {
           "colorbar": {
            "outlinewidth": 0,
            "ticks": ""
           }
          },
          "colorscale": {
           "diverging": [
            [
             0,
             "#8e0152"
            ],
            [
             0.1,
             "#c51b7d"
            ],
            [
             0.2,
             "#de77ae"
            ],
            [
             0.3,
             "#f1b6da"
            ],
            [
             0.4,
             "#fde0ef"
            ],
            [
             0.5,
             "#f7f7f7"
            ],
            [
             0.6,
             "#e6f5d0"
            ],
            [
             0.7,
             "#b8e186"
            ],
            [
             0.8,
             "#7fbc41"
            ],
            [
             0.9,
             "#4d9221"
            ],
            [
             1,
             "#276419"
            ]
           ],
           "sequential": [
            [
             0,
             "#0d0887"
            ],
            [
             0.1111111111111111,
             "#46039f"
            ],
            [
             0.2222222222222222,
             "#7201a8"
            ],
            [
             0.3333333333333333,
             "#9c179e"
            ],
            [
             0.4444444444444444,
             "#bd3786"
            ],
            [
             0.5555555555555556,
             "#d8576b"
            ],
            [
             0.6666666666666666,
             "#ed7953"
            ],
            [
             0.7777777777777778,
             "#fb9f3a"
            ],
            [
             0.8888888888888888,
             "#fdca26"
            ],
            [
             1,
             "#f0f921"
            ]
           ],
           "sequentialminus": [
            [
             0,
             "#0d0887"
            ],
            [
             0.1111111111111111,
             "#46039f"
            ],
            [
             0.2222222222222222,
             "#7201a8"
            ],
            [
             0.3333333333333333,
             "#9c179e"
            ],
            [
             0.4444444444444444,
             "#bd3786"
            ],
            [
             0.5555555555555556,
             "#d8576b"
            ],
            [
             0.6666666666666666,
             "#ed7953"
            ],
            [
             0.7777777777777778,
             "#fb9f3a"
            ],
            [
             0.8888888888888888,
             "#fdca26"
            ],
            [
             1,
             "#f0f921"
            ]
           ]
          },
          "colorway": [
           "#636efa",
           "#EF553B",
           "#00cc96",
           "#ab63fa",
           "#FFA15A",
           "#19d3f3",
           "#FF6692",
           "#B6E880",
           "#FF97FF",
           "#FECB52"
          ],
          "font": {
           "color": "#2a3f5f"
          },
          "geo": {
           "bgcolor": "white",
           "lakecolor": "white",
           "landcolor": "#E5ECF6",
           "showlakes": true,
           "showland": true,
           "subunitcolor": "white"
          },
          "hoverlabel": {
           "align": "left"
          },
          "hovermode": "closest",
          "mapbox": {
           "style": "light"
          },
          "paper_bgcolor": "white",
          "plot_bgcolor": "#E5ECF6",
          "polar": {
           "angularaxis": {
            "gridcolor": "white",
            "linecolor": "white",
            "ticks": ""
           },
           "bgcolor": "#E5ECF6",
           "radialaxis": {
            "gridcolor": "white",
            "linecolor": "white",
            "ticks": ""
           }
          },
          "scene": {
           "xaxis": {
            "backgroundcolor": "#E5ECF6",
            "gridcolor": "white",
            "gridwidth": 2,
            "linecolor": "white",
            "showbackground": true,
            "ticks": "",
            "zerolinecolor": "white"
           },
           "yaxis": {
            "backgroundcolor": "#E5ECF6",
            "gridcolor": "white",
            "gridwidth": 2,
            "linecolor": "white",
            "showbackground": true,
            "ticks": "",
            "zerolinecolor": "white"
           },
           "zaxis": {
            "backgroundcolor": "#E5ECF6",
            "gridcolor": "white",
            "gridwidth": 2,
            "linecolor": "white",
            "showbackground": true,
            "ticks": "",
            "zerolinecolor": "white"
           }
          },
          "shapedefaults": {
           "line": {
            "color": "#2a3f5f"
           }
          },
          "ternary": {
           "aaxis": {
            "gridcolor": "white",
            "linecolor": "white",
            "ticks": ""
           },
           "baxis": {
            "gridcolor": "white",
            "linecolor": "white",
            "ticks": ""
           },
           "bgcolor": "#E5ECF6",
           "caxis": {
            "gridcolor": "white",
            "linecolor": "white",
            "ticks": ""
           }
          },
          "title": {
           "x": 0.05
          },
          "xaxis": {
           "automargin": true,
           "gridcolor": "white",
           "linecolor": "white",
           "ticks": "",
           "title": {
            "standoff": 15
           },
           "zerolinecolor": "white",
           "zerolinewidth": 2
          },
          "yaxis": {
           "automargin": true,
           "gridcolor": "white",
           "linecolor": "white",
           "ticks": "",
           "title": {
            "standoff": 15
           },
           "zerolinecolor": "white",
           "zerolinewidth": 2
          }
         }
        },
        "title": {
         "text": "Accumulated Storage Capacity District Heat Europe"
        },
        "width": 1400,
        "xaxis": {
         "title": {
          "text": "Year"
         }
        },
        "yaxis": {
         "title": {
          "text": "TWh"
         }
        }
       }
      }
     },
     "metadata": {},
     "output_type": "display_data"
    }
   ],
   "source": [
    "#stacked_accumulated_energy(DAILY_DATA, region=REGION, title_addon=\"Daily\", write_fig=WRITE_FIGS)[0].show()\n",
    "stacked_accumulated_energy(SEASON_DATA, region=REGION, title_addon=\"\", write_fig=WRITE_FIGS).show()\n",
    "stacked_accumulated_energy(EXPENSIVE_HLDH, region=REGION, title_addon=\"Expensive\", write_fig=WRITE_FIGS).show()"
   ]
  },
  {
   "cell_type": "markdown",
   "metadata": {},
   "source": [
    "# Pie plots for electricity / power"
   ]
  },
  {
   "cell_type": "code",
   "execution_count": 341,
   "metadata": {},
   "outputs": [],
   "source": [
    "def power_pie_plot(sol_path: str) -> go.Figure:\n",
    "\n",
    "    # Pie plot for electronics\n",
    "    data_prod_by_tech = dp.DataProcessor(sol_paths={\"anonym\": sol_path}, type_of_data_to_read=\"ProductionByTechnologyAnnual\")\n",
    "    data_p = dp.DataProcessor(sol_paths={\"anonym\": sol_path}, type_of_data_to_read=\"TotalCapacityAnnual\")\n",
    "\n",
    "    # Look at 2050\n",
    "    data_p.filter_by_identifier(column=\"Year\", identifier=2050)\n",
    "\n",
    "    # Remove all that starts with \"D_\"\n",
    "    data_p.df = data_p.df[~data_p.df[\"Technology\"].str.startswith(\"D_\")]\n",
    "\n",
    "    # Keep those over 0\n",
    "    data_p.df = data_p.df[data_p.df[\"Value\"] > 0]\n",
    "\n",
    "    # Aggregate by technology according to the aggregation\n",
    "    #print(\"Length before aggregation\", len(data_p.df))\n",
    "    #data_p.aggregate_by_sum(column_to_sum=\"Value\", groups_memberships=AGGREGATION)\n",
    "    #data_prod_by_tech.show_example_rows(5)\n",
    "    #print(data_prod_by_tech.df[\"Fuel\"].unique())\n",
    "    #data_prod_by_tech.filter_by_identifier(column=\"Fuel\", identifier=\"Heat_District\")\n",
    "    #data_prod_by_tech.filter_by_identifier(column=\"Fuel\", identifier=\"Heat_Low_Building\")\n",
    "    #data_prod_by_tech.filter_by_identifier(column=\"Fuel\", identifier=\"L\")\n",
    "    #data_prod_by_tech.show_example_rows(5)\n",
    "    data_prod_by_tech.filter_by_identifier(column=\"Fuel\", identifier=\"Power\")\n",
    "    data_prod_by_tech.df = data_prod_by_tech.df[data_prod_by_tech.df[\"Value\"] > 0]\n",
    "    #data_prod_by_tech.show_example_rows(5)\n",
    "    techs = list(data_prod_by_tech.df[\"Technology\"].unique())\n",
    "\n",
    "    data_p.filter_by_list(column=\"Technology\", identifier_list=techs)\n",
    "\n",
    "    data_p.aggregate_by_sum_function(column_to_change=\"Technology\", column_to_sum=\"Value\", function=aggregator)\n",
    "\n",
    "    # Create color list\n",
    "    color_list = [my_color_generator(tech) for tech in data_p.df[\"Technology\"]]\n",
    "\n",
    "    # Make a pie plot\n",
    "    fig = go.Figure(data=[go.Pie(labels=data_p.df[\"Technology\"], values=data_p.df[\"Value\"], \n",
    "                                 textposition='inside', textinfo='percent+label',\n",
    "                                 textfont=dict(size=40),\n",
    "                                 marker=dict(colors=color_list))])\n",
    "\n",
    "    # Loop labels, and change the color of the pie\n",
    "    #color_gen = my_color_generator()\n",
    "    #for i, label in enumerate(fig.data[0].labels):\n",
    "    #    fig.data[0].marker.colors += [my_color_generator(label)]\n",
    "\n",
    "    fig.update_layout(\n",
    "        title=\"Power Capacity (Energy / Time) 2050\",\n",
    "        width=900,\n",
    "        height=800\n",
    "    )\n",
    "\n",
    "    return fig"
   ]
  },
  {
   "cell_type": "code",
   "execution_count": 342,
   "metadata": {},
   "outputs": [
    {
     "name": "stdout",
     "output_type": "stream",
     "text": [
      "Converting from PetaJoules to TerraWattHours\n",
      "No unit conversion applied!\n"
     ]
    },
    {
     "data": {
      "application/vnd.plotly.v1+json": {
       "config": {
        "plotlyServerURL": "https://plot.ly"
       },
       "data": [
        {
         "labels": [
          "Biomass",
          "Biomass",
          "Biomass",
          "Biomass",
          "Biomass",
          "Biomass",
          "Biomass",
          "Biomass",
          "Biomass",
          "Biomass",
          "Biomass",
          "Biomass",
          "Biomass",
          "Biomass",
          "Biomass",
          "Biomass",
          "Biomass",
          "Biomass",
          "Biomass",
          "Biomass",
          "Biomass",
          "Biomass",
          "Biomass",
          "Biomass",
          "Biomass",
          "Biomass",
          "Biomass",
          "Biomass",
          "Biomass",
          "Biomass",
          "Coal",
          "Coal",
          "Coal",
          "Coal",
          "Coal",
          "Coal",
          "Coal",
          "Coal",
          "Coal",
          "Coal",
          "Coal",
          "Coal",
          "Coal",
          "Coal",
          "Coal",
          "Coal",
          "Coal",
          "Coal",
          "Coal",
          "Coal",
          "Coal",
          "Coal",
          "Coal",
          "Coal",
          "Coal",
          "Coal",
          "Coal",
          "Coal",
          "Coal",
          "Coal",
          "Gas",
          "Gas",
          "Gas",
          "Gas",
          "Gas",
          "Gas",
          "Gas",
          "Gas",
          "Gas",
          "Gas",
          "Gas",
          "Gas",
          "Gas",
          "Gas",
          "Gas",
          "Gas",
          "Gas",
          "Gas",
          "Gas",
          "Gas",
          "Gas",
          "Gas",
          "Gas",
          "Gas",
          "Gas",
          "Gas",
          "Gas",
          "Gas",
          "Gas",
          "Gas",
          "Hydrogen",
          "Hydrogen",
          "Hydrogen",
          "Hydrogen",
          "Hydrogen",
          "Hydrogen",
          "Hydrogen",
          "Hydrogen",
          "Hydrogen",
          "Hydrogen",
          "Hydrogen",
          "Hydrogen",
          "Hydrogen",
          "Hydrogen",
          "Hydrogen",
          "Hydrogen",
          "Hydrogen",
          "Hydrogen",
          "Hydrogen",
          "Hydrogen",
          "Hydrogen",
          "Hydrogen",
          "Hydrogen",
          "Hydrogen",
          "Hydrogen",
          "Hydrogen",
          "Hydrogen",
          "Hydrogen",
          "Hydrogen",
          "Hydrogen",
          "Oil",
          "Oil",
          "Oil",
          "Oil",
          "Oil",
          "Oil",
          "Oil",
          "Oil",
          "Oil",
          "Oil",
          "Oil",
          "Oil",
          "Oil",
          "Oil",
          "Oil",
          "Oil",
          "Oil",
          "Oil",
          "Oil",
          "Oil",
          "Oil",
          "Oil",
          "Oil",
          "Oil",
          "Oil",
          "Oil",
          "Oil",
          "Oil",
          "Oil",
          "Oil",
          "Others",
          "Others",
          "Others",
          "Others",
          "Others",
          "Others",
          "Others",
          "Others",
          "Others",
          "Others",
          "Others",
          "Others",
          "Others",
          "Others",
          "Others",
          "Others",
          "Others",
          "Others",
          "Others",
          "Others",
          "Others",
          "Others",
          "Others",
          "Others",
          "Others",
          "Others",
          "Others",
          "Others",
          "Others",
          "Others",
          "Renewables",
          "Renewables",
          "Renewables",
          "Renewables",
          "Renewables",
          "Renewables",
          "Renewables",
          "Renewables",
          "Renewables",
          "Renewables",
          "Renewables",
          "Renewables",
          "Renewables",
          "Renewables",
          "Renewables",
          "Renewables",
          "Renewables",
          "Renewables",
          "Renewables",
          "Renewables",
          "Renewables",
          "Renewables",
          "Renewables",
          "Renewables",
          "Renewables",
          "Renewables",
          "Renewables",
          "Renewables",
          "Renewables",
          "Renewables",
          "Solar",
          "Solar",
          "Solar",
          "Solar",
          "Solar",
          "Solar",
          "Solar",
          "Solar",
          "Solar",
          "Solar",
          "Solar",
          "Solar",
          "Solar",
          "Solar",
          "Solar",
          "Solar",
          "Solar",
          "Solar",
          "Solar",
          "Solar",
          "Solar",
          "Solar",
          "Solar",
          "Solar",
          "Solar",
          "Solar",
          "Solar",
          "Solar",
          "Solar",
          "Solar",
          "Wind",
          "Wind",
          "Wind",
          "Wind",
          "Wind",
          "Wind",
          "Wind",
          "Wind",
          "Wind",
          "Wind",
          "Wind",
          "Wind",
          "Wind",
          "Wind",
          "Wind",
          "Wind",
          "Wind",
          "Wind",
          "Wind",
          "Wind",
          "Wind",
          "Wind",
          "Wind",
          "Wind",
          "Wind",
          "Wind",
          "Wind",
          "Wind",
          "Wind",
          "Wind"
         ],
         "marker": {
          "colors": [
           "#ef8e94",
           "#ef8e94",
           "#ef8e94",
           "#ef8e94",
           "#ef8e94",
           "#ef8e94",
           "#ef8e94",
           "#ef8e94",
           "#ef8e94",
           "#ef8e94",
           "#ef8e94",
           "#ef8e94",
           "#ef8e94",
           "#ef8e94",
           "#ef8e94",
           "#ef8e94",
           "#ef8e94",
           "#ef8e94",
           "#ef8e94",
           "#ef8e94",
           "#ef8e94",
           "#ef8e94",
           "#ef8e94",
           "#ef8e94",
           "#ef8e94",
           "#ef8e94",
           "#ef8e94",
           "#ef8e94",
           "#ef8e94",
           "#ef8e94",
           "#f7e1ed",
           "#f7e1ed",
           "#f7e1ed",
           "#f7e1ed",
           "#f7e1ed",
           "#f7e1ed",
           "#f7e1ed",
           "#f7e1ed",
           "#f7e1ed",
           "#f7e1ed",
           "#f7e1ed",
           "#f7e1ed",
           "#f7e1ed",
           "#f7e1ed",
           "#f7e1ed",
           "#f7e1ed",
           "#f7e1ed",
           "#f7e1ed",
           "#f7e1ed",
           "#f7e1ed",
           "#f7e1ed",
           "#f7e1ed",
           "#f7e1ed",
           "#f7e1ed",
           "#f7e1ed",
           "#f7e1ed",
           "#f7e1ed",
           "#f7e1ed",
           "#f7e1ed",
           "#f7e1ed",
           "#d6cac0",
           "#d6cac0",
           "#d6cac0",
           "#d6cac0",
           "#d6cac0",
           "#d6cac0",
           "#d6cac0",
           "#d6cac0",
           "#d6cac0",
           "#d6cac0",
           "#d6cac0",
           "#d6cac0",
           "#d6cac0",
           "#d6cac0",
           "#d6cac0",
           "#d6cac0",
           "#d6cac0",
           "#d6cac0",
           "#d6cac0",
           "#d6cac0",
           "#d6cac0",
           "#d6cac0",
           "#d6cac0",
           "#d6cac0",
           "#d6cac0",
           "#d6cac0",
           "#d6cac0",
           "#d6cac0",
           "#d6cac0",
           "#d6cac0",
           "#a1e3bc",
           "#a1e3bc",
           "#a1e3bc",
           "#a1e3bc",
           "#a1e3bc",
           "#a1e3bc",
           "#a1e3bc",
           "#a1e3bc",
           "#a1e3bc",
           "#a1e3bc",
           "#a1e3bc",
           "#a1e3bc",
           "#a1e3bc",
           "#a1e3bc",
           "#a1e3bc",
           "#a1e3bc",
           "#a1e3bc",
           "#a1e3bc",
           "#a1e3bc",
           "#a1e3bc",
           "#a1e3bc",
           "#a1e3bc",
           "#a1e3bc",
           "#a1e3bc",
           "#a1e3bc",
           "#a1e3bc",
           "#a1e3bc",
           "#a1e3bc",
           "#a1e3bc",
           "#a1e3bc",
           "#93ceb9",
           "#93ceb9",
           "#93ceb9",
           "#93ceb9",
           "#93ceb9",
           "#93ceb9",
           "#93ceb9",
           "#93ceb9",
           "#93ceb9",
           "#93ceb9",
           "#93ceb9",
           "#93ceb9",
           "#93ceb9",
           "#93ceb9",
           "#93ceb9",
           "#93ceb9",
           "#93ceb9",
           "#93ceb9",
           "#93ceb9",
           "#93ceb9",
           "#93ceb9",
           "#93ceb9",
           "#93ceb9",
           "#93ceb9",
           "#93ceb9",
           "#93ceb9",
           "#93ceb9",
           "#93ceb9",
           "#93ceb9",
           "#93ceb9",
           "#9899e9",
           "#9899e9",
           "#9899e9",
           "#9899e9",
           "#9899e9",
           "#9899e9",
           "#9899e9",
           "#9899e9",
           "#9899e9",
           "#9899e9",
           "#9899e9",
           "#9899e9",
           "#9899e9",
           "#9899e9",
           "#9899e9",
           "#9899e9",
           "#9899e9",
           "#9899e9",
           "#9899e9",
           "#9899e9",
           "#9899e9",
           "#9899e9",
           "#9899e9",
           "#9899e9",
           "#9899e9",
           "#9899e9",
           "#9899e9",
           "#9899e9",
           "#9899e9",
           "#9899e9",
           "#e6daa8",
           "#e6daa8",
           "#e6daa8",
           "#e6daa8",
           "#e6daa8",
           "#e6daa8",
           "#e6daa8",
           "#e6daa8",
           "#e6daa8",
           "#e6daa8",
           "#e6daa8",
           "#e6daa8",
           "#e6daa8",
           "#e6daa8",
           "#e6daa8",
           "#e6daa8",
           "#e6daa8",
           "#e6daa8",
           "#e6daa8",
           "#e6daa8",
           "#e6daa8",
           "#e6daa8",
           "#e6daa8",
           "#e6daa8",
           "#e6daa8",
           "#e6daa8",
           "#e6daa8",
           "#e6daa8",
           "#e6daa8",
           "#e6daa8",
           "#fad1a7",
           "#fad1a7",
           "#fad1a7",
           "#fad1a7",
           "#fad1a7",
           "#fad1a7",
           "#fad1a7",
           "#fad1a7",
           "#fad1a7",
           "#fad1a7",
           "#fad1a7",
           "#fad1a7",
           "#fad1a7",
           "#fad1a7",
           "#fad1a7",
           "#fad1a7",
           "#fad1a7",
           "#fad1a7",
           "#fad1a7",
           "#fad1a7",
           "#fad1a7",
           "#fad1a7",
           "#fad1a7",
           "#fad1a7",
           "#fad1a7",
           "#fad1a7",
           "#fad1a7",
           "#fad1a7",
           "#fad1a7",
           "#fad1a7",
           "#c1abe7",
           "#c1abe7",
           "#c1abe7",
           "#c1abe7",
           "#c1abe7",
           "#c1abe7",
           "#c1abe7",
           "#c1abe7",
           "#c1abe7",
           "#c1abe7",
           "#c1abe7",
           "#c1abe7",
           "#c1abe7",
           "#c1abe7",
           "#c1abe7",
           "#c1abe7",
           "#c1abe7",
           "#c1abe7",
           "#c1abe7",
           "#c1abe7",
           "#c1abe7",
           "#c1abe7",
           "#c1abe7",
           "#c1abe7",
           "#c1abe7",
           "#c1abe7",
           "#c1abe7",
           "#c1abe7",
           "#c1abe7",
           "#c1abe7"
          ]
         },
         "textfont": {
          "size": 40
         },
         "textinfo": "percent+label",
         "textposition": "inside",
         "type": "pie",
         "values": [
          1.5334967679705152,
          0.40921990285138843,
          0.10870548057447699,
          0.10669463978054934,
          1.0508966983573769,
          13.239667796778889,
          2.1030217359877335,
          0.10264412524259674,
          0.3366504049006176,
          1.789581181235289,
          2.369270748757786,
          0.007317541741478726,
          0.03209156082090521,
          0.6063438613666834,
          0.021759508405189407,
          2.578203328444363,
          0.1143986731736027,
          0.08746429041859904,
          0.47004695453432566,
          1.3222948096780645,
          0.05844653472369977,
          0.15847948723347074,
          0.2931407312623613,
          0.14610391145603036,
          0.1264907653230852,
          1.7624295245613832,
          0.015915877083603633,
          0.45877893286997573,
          5.661373883480877,
          1.8561247770724223,
          0.01146498153132122,
          4.481910178975297e-7,
          0.7894241152115304,
          1.723082498341406e-7,
          0.1797155105333286,
          3.801000547043722,
          4.726387697481354e-7,
          4.5202299174038683e-7,
          4.462664491075205e-7,
          4.531856025345363e-7,
          4.575231208774893e-7,
          5.616460428011077e-7,
          6.193115143943504e-7,
          8.532683312182987e-7,
          4.1290507409775224e-7,
          1.7052257493755705,
          1.3472923112736501e-7,
          1.6487274572683968e-7,
          1.759552222230411e-7,
          0.9305386070909525,
          1.393518535640053e-7,
          8.404000291645767,
          1.9172846458224577,
          4.707781332345571e-7,
          8.328952864547986e-7,
          4.3265002733397275e-7,
          8.357509181194235e-7,
          8.368140528478657e-7,
          1.3890976770978,
          4.589045425671494e-7,
          19.939648085434182,
          27.7600652919021,
          10.627202329612405,
          12.952933821434174,
          25.811529362112612,
          166.9715410696707,
          8.978005512590167,
          3.2469346075473577,
          61.626799898741204,
          15.708469474756285,
          123.19600220533401,
          7.947431215223561,
          3.7772264304069947,
          13.043238344217988,
          9.10694990830887,
          88.77538605804959,
          3.1193540950456313,
          1.759450567497849,
          2.4402649783448744,
          30.783809370024095,
          13.136450628198098,
          2.9702708627907386,
          66.34024609609152,
          11.311993211834462,
          16.55342831222355,
          38.88154714854265,
          5.524776010199717,
          11.053047981435162,
          129.47710274595786,
          89.77830409742269,
          8.266596115881845e-8,
          8.141173733953019e-8,
          8.161369491812722e-8,
          8.090414445865942e-8,
          8.812137864006025e-8,
          8.863082791920994e-8,
          8.19877598699735e-8,
          8.008867024598835e-8,
          8.638318656274027e-8,
          8.003631762637097e-8,
          7.92169826316803e-8,
          9.270717417529152e-8,
          9.160429315235843e-8,
          8.686079475417693e-8,
          8.70048590678103e-8,
          8.868542925203965e-8,
          8.12531308580819e-8,
          7.868673593208886e-8,
          8.736014745132982e-8,
          8.84190013966093e-8,
          7.50955476194246e-8,
          8.606434054776903e-8,
          9.079165362426201e-8,
          8.179796745475198e-8,
          8.669325240094075e-8,
          8.595078374615043e-8,
          8.865553981525471e-8,
          8.97313358320583e-8,
          8.936707471519582e-8,
          8.148626083448438e-8,
          0.0000033387705572528156,
          0.0000029123334805220077,
          0.000001121640352576382,
          0.0000031963168004016064,
          0.010289510842369367,
          0.08380070425718775,
          0.0000033413290393291092,
          0.0000028271202381270515,
          0.000003075030277855641,
          0.27015506147329316,
          0.06850794066018567,
          0.0000032277077399430876,
          0.0000034127110847444678,
          0.000003396139832831278,
          0.0000016240237135522894,
          0.0019486972518357776,
          9.790180165395062e-7,
          0.000002756139725835555,
          0.0000033913271569680306,
          0.000003117074843516722,
          3.2512003684531904e-7,
          0.19800051769750976,
          0.00000318021760901612,
          0.0000032921211599834273,
          0.0000029713653105718173,
          0.000002562527867027848,
          0.0000029331846113052837,
          0.06874812085686319,
          0.0000028866397691806393,
          0.019363753993951717,
          0.0000026209101952198872,
          0.00000334280814453285,
          0.0000015030462290999687,
          0.0000028640451621121067,
          1.952286988669939,
          0.000002548222761577518,
          0.000002643171540307306,
          0.0000023102805404466242,
          0.00000236277006054414,
          6.122446718625295,
          25.00000205231757,
          0.000003033760361678355,
          0.0000026655898332499927,
          0.000002477349939634497,
          0.0000022911261159769525,
          0.0000025369085071712928,
          0.0000016320790376327968,
          0.0000029380442498838805,
          0.0000025827158730141727,
          0.000004444068204029064,
          0.000001489456017383198,
          0.0000024061901036523773,
          0.000006438916770154033,
          0.0000026556788183577866,
          3.652610408973396,
          0.0000028369620280874888,
          0.0000032902288983310356,
          0.0000025576972796013816,
          0.000003971592163412603,
          0.0000026569827154462583,
          18.715995798974973,
          14.069515339210625,
          4.201405607989777,
          22.347333378892078,
          4.540389864565867,
          52.2912575764774,
          2.512955421761183,
          1.120837740162791,
          95.44660376535118,
          13.787905114082672,
          31.846838207178166,
          3.7196192721702928,
          8.015873703001768,
          1.6462061357240187,
          3.179816923451778,
          43.41276609209028,
          1.1572671745675627,
          1.7144135248563406,
          6.1346416972416336,
          15.739433804459535,
          32.94900143927392,
          9.185775527037677,
          14.056740883123272,
          18.20541095514616,
          15.285072601472644,
          40.827457195449256,
          1.253002467699079,
          2.5498820107589513,
          26.500000088833083,
          46.70736089186557,
          18.41489970802089,
          12.22717441550055,
          4.608855438459307,
          23.681982072007614,
          17.791462690504854,
          140.66209973942887,
          0.48801280859951246,
          0.0007815021448693751,
          23.352743032634084,
          0.030399350386516782,
          21.945534926092115,
          53.01293167617295,
          3.0705517943713425,
          3.8326849900598843,
          7.168841993931373,
          96.32982342652906,
          0.03268200622904722,
          1.8576516498322784,
          0.000005048528938116972,
          13.39550176028929,
          0.00000617747410252565,
          10.91326052412692,
          40.9831722092922,
          0.5210482385172264,
          0.9204831608563792,
          0.320140435696519,
          3.7817844459439165,
          8.32432239335069,
          229.58055289200686,
          48.751228881683986,
          11.492688471489762,
          11.131121049605948,
          0.4069067232202422,
          0.024951294119881753,
          0.2127251543880305,
          88.40010615326393,
          6.36597940068681,
          1.6966210302944238,
          24.179466831714954,
          3.168368188331217,
          31.519852009983346,
          6.295502834685793,
          0.26674298626447074,
          2.0512917425849273,
          6.70920776435752,
          3.280582043545866,
          1.2591457185792223,
          0.03946146230125798,
          1.936775146923609,
          5.495332968581182,
          8.357291776187525,
          4.199188623375227,
          7.60629445658306,
          6.752281349512526,
          4.078193449315717,
          3.1309356739391143,
          0.004770137892630934,
          0.0015653103701674062,
          5.37874429664752,
          102.27879431542915
         ]
        }
       ],
       "layout": {
        "height": 800,
        "template": {
         "data": {
          "bar": [
           {
            "error_x": {
             "color": "#2a3f5f"
            },
            "error_y": {
             "color": "#2a3f5f"
            },
            "marker": {
             "line": {
              "color": "#E5ECF6",
              "width": 0.5
             },
             "pattern": {
              "fillmode": "overlay",
              "size": 10,
              "solidity": 0.2
             }
            },
            "type": "bar"
           }
          ],
          "barpolar": [
           {
            "marker": {
             "line": {
              "color": "#E5ECF6",
              "width": 0.5
             },
             "pattern": {
              "fillmode": "overlay",
              "size": 10,
              "solidity": 0.2
             }
            },
            "type": "barpolar"
           }
          ],
          "carpet": [
           {
            "aaxis": {
             "endlinecolor": "#2a3f5f",
             "gridcolor": "white",
             "linecolor": "white",
             "minorgridcolor": "white",
             "startlinecolor": "#2a3f5f"
            },
            "baxis": {
             "endlinecolor": "#2a3f5f",
             "gridcolor": "white",
             "linecolor": "white",
             "minorgridcolor": "white",
             "startlinecolor": "#2a3f5f"
            },
            "type": "carpet"
           }
          ],
          "choropleth": [
           {
            "colorbar": {
             "outlinewidth": 0,
             "ticks": ""
            },
            "type": "choropleth"
           }
          ],
          "contour": [
           {
            "colorbar": {
             "outlinewidth": 0,
             "ticks": ""
            },
            "colorscale": [
             [
              0,
              "#0d0887"
             ],
             [
              0.1111111111111111,
              "#46039f"
             ],
             [
              0.2222222222222222,
              "#7201a8"
             ],
             [
              0.3333333333333333,
              "#9c179e"
             ],
             [
              0.4444444444444444,
              "#bd3786"
             ],
             [
              0.5555555555555556,
              "#d8576b"
             ],
             [
              0.6666666666666666,
              "#ed7953"
             ],
             [
              0.7777777777777778,
              "#fb9f3a"
             ],
             [
              0.8888888888888888,
              "#fdca26"
             ],
             [
              1,
              "#f0f921"
             ]
            ],
            "type": "contour"
           }
          ],
          "contourcarpet": [
           {
            "colorbar": {
             "outlinewidth": 0,
             "ticks": ""
            },
            "type": "contourcarpet"
           }
          ],
          "heatmap": [
           {
            "colorbar": {
             "outlinewidth": 0,
             "ticks": ""
            },
            "colorscale": [
             [
              0,
              "#0d0887"
             ],
             [
              0.1111111111111111,
              "#46039f"
             ],
             [
              0.2222222222222222,
              "#7201a8"
             ],
             [
              0.3333333333333333,
              "#9c179e"
             ],
             [
              0.4444444444444444,
              "#bd3786"
             ],
             [
              0.5555555555555556,
              "#d8576b"
             ],
             [
              0.6666666666666666,
              "#ed7953"
             ],
             [
              0.7777777777777778,
              "#fb9f3a"
             ],
             [
              0.8888888888888888,
              "#fdca26"
             ],
             [
              1,
              "#f0f921"
             ]
            ],
            "type": "heatmap"
           }
          ],
          "heatmapgl": [
           {
            "colorbar": {
             "outlinewidth": 0,
             "ticks": ""
            },
            "colorscale": [
             [
              0,
              "#0d0887"
             ],
             [
              0.1111111111111111,
              "#46039f"
             ],
             [
              0.2222222222222222,
              "#7201a8"
             ],
             [
              0.3333333333333333,
              "#9c179e"
             ],
             [
              0.4444444444444444,
              "#bd3786"
             ],
             [
              0.5555555555555556,
              "#d8576b"
             ],
             [
              0.6666666666666666,
              "#ed7953"
             ],
             [
              0.7777777777777778,
              "#fb9f3a"
             ],
             [
              0.8888888888888888,
              "#fdca26"
             ],
             [
              1,
              "#f0f921"
             ]
            ],
            "type": "heatmapgl"
           }
          ],
          "histogram": [
           {
            "marker": {
             "pattern": {
              "fillmode": "overlay",
              "size": 10,
              "solidity": 0.2
             }
            },
            "type": "histogram"
           }
          ],
          "histogram2d": [
           {
            "colorbar": {
             "outlinewidth": 0,
             "ticks": ""
            },
            "colorscale": [
             [
              0,
              "#0d0887"
             ],
             [
              0.1111111111111111,
              "#46039f"
             ],
             [
              0.2222222222222222,
              "#7201a8"
             ],
             [
              0.3333333333333333,
              "#9c179e"
             ],
             [
              0.4444444444444444,
              "#bd3786"
             ],
             [
              0.5555555555555556,
              "#d8576b"
             ],
             [
              0.6666666666666666,
              "#ed7953"
             ],
             [
              0.7777777777777778,
              "#fb9f3a"
             ],
             [
              0.8888888888888888,
              "#fdca26"
             ],
             [
              1,
              "#f0f921"
             ]
            ],
            "type": "histogram2d"
           }
          ],
          "histogram2dcontour": [
           {
            "colorbar": {
             "outlinewidth": 0,
             "ticks": ""
            },
            "colorscale": [
             [
              0,
              "#0d0887"
             ],
             [
              0.1111111111111111,
              "#46039f"
             ],
             [
              0.2222222222222222,
              "#7201a8"
             ],
             [
              0.3333333333333333,
              "#9c179e"
             ],
             [
              0.4444444444444444,
              "#bd3786"
             ],
             [
              0.5555555555555556,
              "#d8576b"
             ],
             [
              0.6666666666666666,
              "#ed7953"
             ],
             [
              0.7777777777777778,
              "#fb9f3a"
             ],
             [
              0.8888888888888888,
              "#fdca26"
             ],
             [
              1,
              "#f0f921"
             ]
            ],
            "type": "histogram2dcontour"
           }
          ],
          "mesh3d": [
           {
            "colorbar": {
             "outlinewidth": 0,
             "ticks": ""
            },
            "type": "mesh3d"
           }
          ],
          "parcoords": [
           {
            "line": {
             "colorbar": {
              "outlinewidth": 0,
              "ticks": ""
             }
            },
            "type": "parcoords"
           }
          ],
          "pie": [
           {
            "automargin": true,
            "type": "pie"
           }
          ],
          "scatter": [
           {
            "fillpattern": {
             "fillmode": "overlay",
             "size": 10,
             "solidity": 0.2
            },
            "type": "scatter"
           }
          ],
          "scatter3d": [
           {
            "line": {
             "colorbar": {
              "outlinewidth": 0,
              "ticks": ""
             }
            },
            "marker": {
             "colorbar": {
              "outlinewidth": 0,
              "ticks": ""
             }
            },
            "type": "scatter3d"
           }
          ],
          "scattercarpet": [
           {
            "marker": {
             "colorbar": {
              "outlinewidth": 0,
              "ticks": ""
             }
            },
            "type": "scattercarpet"
           }
          ],
          "scattergeo": [
           {
            "marker": {
             "colorbar": {
              "outlinewidth": 0,
              "ticks": ""
             }
            },
            "type": "scattergeo"
           }
          ],
          "scattergl": [
           {
            "marker": {
             "colorbar": {
              "outlinewidth": 0,
              "ticks": ""
             }
            },
            "type": "scattergl"
           }
          ],
          "scattermapbox": [
           {
            "marker": {
             "colorbar": {
              "outlinewidth": 0,
              "ticks": ""
             }
            },
            "type": "scattermapbox"
           }
          ],
          "scatterpolar": [
           {
            "marker": {
             "colorbar": {
              "outlinewidth": 0,
              "ticks": ""
             }
            },
            "type": "scatterpolar"
           }
          ],
          "scatterpolargl": [
           {
            "marker": {
             "colorbar": {
              "outlinewidth": 0,
              "ticks": ""
             }
            },
            "type": "scatterpolargl"
           }
          ],
          "scatterternary": [
           {
            "marker": {
             "colorbar": {
              "outlinewidth": 0,
              "ticks": ""
             }
            },
            "type": "scatterternary"
           }
          ],
          "surface": [
           {
            "colorbar": {
             "outlinewidth": 0,
             "ticks": ""
            },
            "colorscale": [
             [
              0,
              "#0d0887"
             ],
             [
              0.1111111111111111,
              "#46039f"
             ],
             [
              0.2222222222222222,
              "#7201a8"
             ],
             [
              0.3333333333333333,
              "#9c179e"
             ],
             [
              0.4444444444444444,
              "#bd3786"
             ],
             [
              0.5555555555555556,
              "#d8576b"
             ],
             [
              0.6666666666666666,
              "#ed7953"
             ],
             [
              0.7777777777777778,
              "#fb9f3a"
             ],
             [
              0.8888888888888888,
              "#fdca26"
             ],
             [
              1,
              "#f0f921"
             ]
            ],
            "type": "surface"
           }
          ],
          "table": [
           {
            "cells": {
             "fill": {
              "color": "#EBF0F8"
             },
             "line": {
              "color": "white"
             }
            },
            "header": {
             "fill": {
              "color": "#C8D4E3"
             },
             "line": {
              "color": "white"
             }
            },
            "type": "table"
           }
          ]
         },
         "layout": {
          "annotationdefaults": {
           "arrowcolor": "#2a3f5f",
           "arrowhead": 0,
           "arrowwidth": 1
          },
          "autotypenumbers": "strict",
          "coloraxis": {
           "colorbar": {
            "outlinewidth": 0,
            "ticks": ""
           }
          },
          "colorscale": {
           "diverging": [
            [
             0,
             "#8e0152"
            ],
            [
             0.1,
             "#c51b7d"
            ],
            [
             0.2,
             "#de77ae"
            ],
            [
             0.3,
             "#f1b6da"
            ],
            [
             0.4,
             "#fde0ef"
            ],
            [
             0.5,
             "#f7f7f7"
            ],
            [
             0.6,
             "#e6f5d0"
            ],
            [
             0.7,
             "#b8e186"
            ],
            [
             0.8,
             "#7fbc41"
            ],
            [
             0.9,
             "#4d9221"
            ],
            [
             1,
             "#276419"
            ]
           ],
           "sequential": [
            [
             0,
             "#0d0887"
            ],
            [
             0.1111111111111111,
             "#46039f"
            ],
            [
             0.2222222222222222,
             "#7201a8"
            ],
            [
             0.3333333333333333,
             "#9c179e"
            ],
            [
             0.4444444444444444,
             "#bd3786"
            ],
            [
             0.5555555555555556,
             "#d8576b"
            ],
            [
             0.6666666666666666,
             "#ed7953"
            ],
            [
             0.7777777777777778,
             "#fb9f3a"
            ],
            [
             0.8888888888888888,
             "#fdca26"
            ],
            [
             1,
             "#f0f921"
            ]
           ],
           "sequentialminus": [
            [
             0,
             "#0d0887"
            ],
            [
             0.1111111111111111,
             "#46039f"
            ],
            [
             0.2222222222222222,
             "#7201a8"
            ],
            [
             0.3333333333333333,
             "#9c179e"
            ],
            [
             0.4444444444444444,
             "#bd3786"
            ],
            [
             0.5555555555555556,
             "#d8576b"
            ],
            [
             0.6666666666666666,
             "#ed7953"
            ],
            [
             0.7777777777777778,
             "#fb9f3a"
            ],
            [
             0.8888888888888888,
             "#fdca26"
            ],
            [
             1,
             "#f0f921"
            ]
           ]
          },
          "colorway": [
           "#636efa",
           "#EF553B",
           "#00cc96",
           "#ab63fa",
           "#FFA15A",
           "#19d3f3",
           "#FF6692",
           "#B6E880",
           "#FF97FF",
           "#FECB52"
          ],
          "font": {
           "color": "#2a3f5f"
          },
          "geo": {
           "bgcolor": "white",
           "lakecolor": "white",
           "landcolor": "#E5ECF6",
           "showlakes": true,
           "showland": true,
           "subunitcolor": "white"
          },
          "hoverlabel": {
           "align": "left"
          },
          "hovermode": "closest",
          "mapbox": {
           "style": "light"
          },
          "paper_bgcolor": "white",
          "plot_bgcolor": "#E5ECF6",
          "polar": {
           "angularaxis": {
            "gridcolor": "white",
            "linecolor": "white",
            "ticks": ""
           },
           "bgcolor": "#E5ECF6",
           "radialaxis": {
            "gridcolor": "white",
            "linecolor": "white",
            "ticks": ""
           }
          },
          "scene": {
           "xaxis": {
            "backgroundcolor": "#E5ECF6",
            "gridcolor": "white",
            "gridwidth": 2,
            "linecolor": "white",
            "showbackground": true,
            "ticks": "",
            "zerolinecolor": "white"
           },
           "yaxis": {
            "backgroundcolor": "#E5ECF6",
            "gridcolor": "white",
            "gridwidth": 2,
            "linecolor": "white",
            "showbackground": true,
            "ticks": "",
            "zerolinecolor": "white"
           },
           "zaxis": {
            "backgroundcolor": "#E5ECF6",
            "gridcolor": "white",
            "gridwidth": 2,
            "linecolor": "white",
            "showbackground": true,
            "ticks": "",
            "zerolinecolor": "white"
           }
          },
          "shapedefaults": {
           "line": {
            "color": "#2a3f5f"
           }
          },
          "ternary": {
           "aaxis": {
            "gridcolor": "white",
            "linecolor": "white",
            "ticks": ""
           },
           "baxis": {
            "gridcolor": "white",
            "linecolor": "white",
            "ticks": ""
           },
           "bgcolor": "#E5ECF6",
           "caxis": {
            "gridcolor": "white",
            "linecolor": "white",
            "ticks": ""
           }
          },
          "title": {
           "x": 0.05
          },
          "xaxis": {
           "automargin": true,
           "gridcolor": "white",
           "linecolor": "white",
           "ticks": "",
           "title": {
            "standoff": 15
           },
           "zerolinecolor": "white",
           "zerolinewidth": 2
          },
          "yaxis": {
           "automargin": true,
           "gridcolor": "white",
           "linecolor": "white",
           "ticks": "",
           "title": {
            "standoff": 15
           },
           "zerolinecolor": "white",
           "zerolinewidth": 2
          }
         }
        },
        "title": {
         "text": "Power Capacity (Energy / Time) 2050"
        },
        "width": 900
       }
      }
     },
     "metadata": {},
     "output_type": "display_data"
    },
    {
     "name": "stdout",
     "output_type": "stream",
     "text": [
      "Converting from PetaJoules to TerraWattHours\n",
      "No unit conversion applied!\n"
     ]
    },
    {
     "data": {
      "application/vnd.plotly.v1+json": {
       "config": {
        "plotlyServerURL": "https://plot.ly"
       },
       "data": [
        {
         "labels": [
          "Biomass",
          "Biomass",
          "Biomass",
          "Biomass",
          "Biomass",
          "Biomass",
          "Biomass",
          "Biomass",
          "Biomass",
          "Biomass",
          "Biomass",
          "Biomass",
          "Biomass",
          "Biomass",
          "Biomass",
          "Biomass",
          "Biomass",
          "Biomass",
          "Biomass",
          "Biomass",
          "Biomass",
          "Biomass",
          "Biomass",
          "Biomass",
          "Biomass",
          "Biomass",
          "Biomass",
          "Biomass",
          "Biomass",
          "Biomass",
          "Coal",
          "Coal",
          "Coal",
          "Coal",
          "Coal",
          "Coal",
          "Coal",
          "Coal",
          "Coal",
          "Coal",
          "Coal",
          "Coal",
          "Coal",
          "Coal",
          "Coal",
          "Coal",
          "Coal",
          "Coal",
          "Coal",
          "Coal",
          "Coal",
          "Coal",
          "Coal",
          "Coal",
          "Coal",
          "Coal",
          "Coal",
          "Coal",
          "Coal",
          "Coal",
          "Gas",
          "Gas",
          "Gas",
          "Gas",
          "Gas",
          "Gas",
          "Gas",
          "Gas",
          "Gas",
          "Gas",
          "Gas",
          "Gas",
          "Gas",
          "Gas",
          "Gas",
          "Gas",
          "Gas",
          "Gas",
          "Gas",
          "Gas",
          "Gas",
          "Gas",
          "Gas",
          "Gas",
          "Gas",
          "Gas",
          "Gas",
          "Gas",
          "Gas",
          "Gas",
          "Hydrogen",
          "Hydrogen",
          "Hydrogen",
          "Hydrogen",
          "Hydrogen",
          "Hydrogen",
          "Hydrogen",
          "Hydrogen",
          "Hydrogen",
          "Hydrogen",
          "Hydrogen",
          "Hydrogen",
          "Hydrogen",
          "Hydrogen",
          "Hydrogen",
          "Hydrogen",
          "Hydrogen",
          "Hydrogen",
          "Hydrogen",
          "Hydrogen",
          "Hydrogen",
          "Hydrogen",
          "Hydrogen",
          "Hydrogen",
          "Hydrogen",
          "Hydrogen",
          "Hydrogen",
          "Hydrogen",
          "Hydrogen",
          "Hydrogen",
          "Oil",
          "Oil",
          "Oil",
          "Oil",
          "Oil",
          "Oil",
          "Oil",
          "Oil",
          "Oil",
          "Oil",
          "Oil",
          "Oil",
          "Oil",
          "Oil",
          "Oil",
          "Oil",
          "Oil",
          "Oil",
          "Oil",
          "Oil",
          "Oil",
          "Oil",
          "Oil",
          "Oil",
          "Oil",
          "Oil",
          "Oil",
          "Oil",
          "Oil",
          "Oil",
          "Others",
          "Others",
          "Others",
          "Others",
          "Others",
          "Others",
          "Others",
          "Others",
          "Others",
          "Others",
          "Others",
          "Others",
          "Others",
          "Others",
          "Others",
          "Others",
          "Others",
          "Others",
          "Others",
          "Others",
          "Others",
          "Others",
          "Others",
          "Others",
          "Others",
          "Others",
          "Others",
          "Others",
          "Others",
          "Others",
          "Renewables",
          "Renewables",
          "Renewables",
          "Renewables",
          "Renewables",
          "Renewables",
          "Renewables",
          "Renewables",
          "Renewables",
          "Renewables",
          "Renewables",
          "Renewables",
          "Renewables",
          "Renewables",
          "Renewables",
          "Renewables",
          "Renewables",
          "Renewables",
          "Renewables",
          "Renewables",
          "Renewables",
          "Renewables",
          "Renewables",
          "Renewables",
          "Renewables",
          "Renewables",
          "Renewables",
          "Renewables",
          "Renewables",
          "Renewables",
          "Solar",
          "Solar",
          "Solar",
          "Solar",
          "Solar",
          "Solar",
          "Solar",
          "Solar",
          "Solar",
          "Solar",
          "Solar",
          "Solar",
          "Solar",
          "Solar",
          "Solar",
          "Solar",
          "Solar",
          "Solar",
          "Solar",
          "Solar",
          "Solar",
          "Solar",
          "Solar",
          "Solar",
          "Solar",
          "Solar",
          "Solar",
          "Solar",
          "Solar",
          "Solar",
          "Wind",
          "Wind",
          "Wind",
          "Wind",
          "Wind",
          "Wind",
          "Wind",
          "Wind",
          "Wind",
          "Wind",
          "Wind",
          "Wind",
          "Wind",
          "Wind",
          "Wind",
          "Wind",
          "Wind",
          "Wind",
          "Wind",
          "Wind",
          "Wind",
          "Wind",
          "Wind",
          "Wind",
          "Wind",
          "Wind",
          "Wind",
          "Wind",
          "Wind",
          "Wind"
         ],
         "marker": {
          "colors": [
           "#ef8e94",
           "#ef8e94",
           "#ef8e94",
           "#ef8e94",
           "#ef8e94",
           "#ef8e94",
           "#ef8e94",
           "#ef8e94",
           "#ef8e94",
           "#ef8e94",
           "#ef8e94",
           "#ef8e94",
           "#ef8e94",
           "#ef8e94",
           "#ef8e94",
           "#ef8e94",
           "#ef8e94",
           "#ef8e94",
           "#ef8e94",
           "#ef8e94",
           "#ef8e94",
           "#ef8e94",
           "#ef8e94",
           "#ef8e94",
           "#ef8e94",
           "#ef8e94",
           "#ef8e94",
           "#ef8e94",
           "#ef8e94",
           "#ef8e94",
           "#f7e1ed",
           "#f7e1ed",
           "#f7e1ed",
           "#f7e1ed",
           "#f7e1ed",
           "#f7e1ed",
           "#f7e1ed",
           "#f7e1ed",
           "#f7e1ed",
           "#f7e1ed",
           "#f7e1ed",
           "#f7e1ed",
           "#f7e1ed",
           "#f7e1ed",
           "#f7e1ed",
           "#f7e1ed",
           "#f7e1ed",
           "#f7e1ed",
           "#f7e1ed",
           "#f7e1ed",
           "#f7e1ed",
           "#f7e1ed",
           "#f7e1ed",
           "#f7e1ed",
           "#f7e1ed",
           "#f7e1ed",
           "#f7e1ed",
           "#f7e1ed",
           "#f7e1ed",
           "#f7e1ed",
           "#d6cac0",
           "#d6cac0",
           "#d6cac0",
           "#d6cac0",
           "#d6cac0",
           "#d6cac0",
           "#d6cac0",
           "#d6cac0",
           "#d6cac0",
           "#d6cac0",
           "#d6cac0",
           "#d6cac0",
           "#d6cac0",
           "#d6cac0",
           "#d6cac0",
           "#d6cac0",
           "#d6cac0",
           "#d6cac0",
           "#d6cac0",
           "#d6cac0",
           "#d6cac0",
           "#d6cac0",
           "#d6cac0",
           "#d6cac0",
           "#d6cac0",
           "#d6cac0",
           "#d6cac0",
           "#d6cac0",
           "#d6cac0",
           "#d6cac0",
           "#a1e3bc",
           "#a1e3bc",
           "#a1e3bc",
           "#a1e3bc",
           "#a1e3bc",
           "#a1e3bc",
           "#a1e3bc",
           "#a1e3bc",
           "#a1e3bc",
           "#a1e3bc",
           "#a1e3bc",
           "#a1e3bc",
           "#a1e3bc",
           "#a1e3bc",
           "#a1e3bc",
           "#a1e3bc",
           "#a1e3bc",
           "#a1e3bc",
           "#a1e3bc",
           "#a1e3bc",
           "#a1e3bc",
           "#a1e3bc",
           "#a1e3bc",
           "#a1e3bc",
           "#a1e3bc",
           "#a1e3bc",
           "#a1e3bc",
           "#a1e3bc",
           "#a1e3bc",
           "#a1e3bc",
           "#93ceb9",
           "#93ceb9",
           "#93ceb9",
           "#93ceb9",
           "#93ceb9",
           "#93ceb9",
           "#93ceb9",
           "#93ceb9",
           "#93ceb9",
           "#93ceb9",
           "#93ceb9",
           "#93ceb9",
           "#93ceb9",
           "#93ceb9",
           "#93ceb9",
           "#93ceb9",
           "#93ceb9",
           "#93ceb9",
           "#93ceb9",
           "#93ceb9",
           "#93ceb9",
           "#93ceb9",
           "#93ceb9",
           "#93ceb9",
           "#93ceb9",
           "#93ceb9",
           "#93ceb9",
           "#93ceb9",
           "#93ceb9",
           "#93ceb9",
           "#9899e9",
           "#9899e9",
           "#9899e9",
           "#9899e9",
           "#9899e9",
           "#9899e9",
           "#9899e9",
           "#9899e9",
           "#9899e9",
           "#9899e9",
           "#9899e9",
           "#9899e9",
           "#9899e9",
           "#9899e9",
           "#9899e9",
           "#9899e9",
           "#9899e9",
           "#9899e9",
           "#9899e9",
           "#9899e9",
           "#9899e9",
           "#9899e9",
           "#9899e9",
           "#9899e9",
           "#9899e9",
           "#9899e9",
           "#9899e9",
           "#9899e9",
           "#9899e9",
           "#9899e9",
           "#e6daa8",
           "#e6daa8",
           "#e6daa8",
           "#e6daa8",
           "#e6daa8",
           "#e6daa8",
           "#e6daa8",
           "#e6daa8",
           "#e6daa8",
           "#e6daa8",
           "#e6daa8",
           "#e6daa8",
           "#e6daa8",
           "#e6daa8",
           "#e6daa8",
           "#e6daa8",
           "#e6daa8",
           "#e6daa8",
           "#e6daa8",
           "#e6daa8",
           "#e6daa8",
           "#e6daa8",
           "#e6daa8",
           "#e6daa8",
           "#e6daa8",
           "#e6daa8",
           "#e6daa8",
           "#e6daa8",
           "#e6daa8",
           "#e6daa8",
           "#fad1a7",
           "#fad1a7",
           "#fad1a7",
           "#fad1a7",
           "#fad1a7",
           "#fad1a7",
           "#fad1a7",
           "#fad1a7",
           "#fad1a7",
           "#fad1a7",
           "#fad1a7",
           "#fad1a7",
           "#fad1a7",
           "#fad1a7",
           "#fad1a7",
           "#fad1a7",
           "#fad1a7",
           "#fad1a7",
           "#fad1a7",
           "#fad1a7",
           "#fad1a7",
           "#fad1a7",
           "#fad1a7",
           "#fad1a7",
           "#fad1a7",
           "#fad1a7",
           "#fad1a7",
           "#fad1a7",
           "#fad1a7",
           "#fad1a7",
           "#c1abe7",
           "#c1abe7",
           "#c1abe7",
           "#c1abe7",
           "#c1abe7",
           "#c1abe7",
           "#c1abe7",
           "#c1abe7",
           "#c1abe7",
           "#c1abe7",
           "#c1abe7",
           "#c1abe7",
           "#c1abe7",
           "#c1abe7",
           "#c1abe7",
           "#c1abe7",
           "#c1abe7",
           "#c1abe7",
           "#c1abe7",
           "#c1abe7",
           "#c1abe7",
           "#c1abe7",
           "#c1abe7",
           "#c1abe7",
           "#c1abe7",
           "#c1abe7",
           "#c1abe7",
           "#c1abe7",
           "#c1abe7",
           "#c1abe7"
          ]
         },
         "textfont": {
          "size": 40
         },
         "textinfo": "percent+label",
         "textposition": "inside",
         "type": "pie",
         "values": [
          1.5561924678248777,
          0.397412067978004,
          0.11577305902019153,
          0.10440447242737896,
          1.0874896682794442,
          15.469014056285296,
          1.987492184272855,
          0.13969929608290868,
          0.3564315706158847,
          1.7047960715767623,
          9.119067412911498,
          0.007241570621988487,
          0.05984266428389433,
          0.9627892983977564,
          0.021727819685460777,
          4.601625099837652,
          0.12479813354697875,
          0.07923946928141529,
          0.46336465028175466,
          0.8840881411461182,
          0.051664732246969484,
          0.11101081510421565,
          0.44268465642180654,
          0.14610363034662147,
          0.13675948443270086,
          1.7920937046667003,
          0.01410703809730969,
          0.5934297549769212,
          5.7774251353522015,
          2.160405108479801,
          0.011464808977862404,
          2.025905835600153e-8,
          0.7894238604988498,
          8.27216590573478e-9,
          0.17971523471430237,
          3.8010000262980417,
          2.1560260329457478e-8,
          1.984040959884955e-8,
          2.076082352476031e-8,
          2.098580319154128e-8,
          2.1042086244710143e-8,
          2.6593663819168073e-8,
          2.9033670696224582e-8,
          3.9368735463426606e-8,
          1.8408805190915833e-8,
          1.7052255864661146,
          6.914551199549797e-9,
          7.891624608082774e-9,
          8.177181895437043e-9,
          0.930538438398885,
          6.748220020918777e-9,
          8.40400001579868,
          1.9172843515737967,
          2.173580308595057e-8,
          3.181369954945225e-8,
          2.016573735104309e-8,
          3.9921486095612934e-8,
          3.97937260572951e-8,
          1.3890972282358982,
          2.1142403439343037e-8,
          21.72982345441818,
          29.09621798377911,
          11.289973670522757,
          12.971698819484534,
          28.013197339156424,
          184.1741395136985,
          10.21651538080115,
          3.154391707598337,
          67.6854060769799,
          15.37616911456649,
          122.94091885374692,
          6.986247608809037,
          3.825598960265477,
          12.33106769750702,
          9.26205694697267,
          87.83587384567228,
          3.210090563173254,
          2.0813766952758432,
          2.613918445852243,
          32.31317879983977,
          12.994497134139893,
          3.9595788997854653,
          65.33620741743701,
          11.91576739707177,
          14.239631297080397,
          40.874446942382605,
          5.992196158375708,
          10.753624624657505,
          140.3432388421426,
          106.66244157669671,
          3.2115416064305405e-9,
          3.104918919396993e-9,
          3.19753690238967e-9,
          3.203543268983068e-9,
          3.4957011183205403e-9,
          3.4146705048660607e-9,
          3.0286588301657187e-9,
          2.974095216777275e-9,
          3.438619232647768e-9,
          2.9577681075472836e-9,
          3.023406634599237e-9,
          3.618616268740918e-9,
          3.5959069551546493e-9,
          3.4784306910411056e-9,
          3.36083875108706e-9,
          3.4856413926561404e-9,
          3.2066027002711114e-9,
          3.1033580962398062e-9,
          3.3711077138359056e-9,
          3.451198371971938e-9,
          2.8564941955824577e-9,
          3.4809533373025843e-9,
          3.5423526494921987e-9,
          3.17578764943354e-9,
          3.210390687198627e-9,
          3.2476747564584617e-9,
          3.4762752289494057e-9,
          3.5725692139968236e-9,
          3.472308783070932e-9,
          2.9740866992125607e-9,
          1.3783231332199747e-7,
          1.300331286943672e-7,
          4.945466813285467e-8,
          1.4094236581094889e-7,
          0.010288697108977542,
          0.08380003526525998,
          1.438869688535023e-7,
          9.803863834666372e-8,
          1.2767557703179853e-7,
          0.27015444897452123,
          0.0685072553534993,
          1.425615141450166e-7,
          1.4540165672524448e-7,
          1.4065256893909106e-7,
          6.178004107915824e-8,
          0.001947575939511958,
          4.65118699488855e-8,
          8.360560930850865e-8,
          1.4215487728561347e-7,
          1.2553604105163543e-7,
          1.5359166860762665e-8,
          0.1980000332349359,
          1.2413975482963987e-7,
          1.5364111212744506e-7,
          5.0974187688387905e-8,
          1.1723009791037365e-7,
          1.4340813084678406e-7,
          0.06874741861583923,
          1.434490628951927e-7,
          0.019362975419588483,
          1.1224735395821046e-7,
          1.3432428673988895e-7,
          6.179484224018457e-8,
          1.1599779997026883e-7,
          1.9522835836167336,
          1.0772684889734273e-7,
          1.0903219026694036e-7,
          8.246306526831688e-8,
          9.592720374955926e-8,
          8.151407550962322,
          25.000000090636973,
          1.1462024635627129e-7,
          1.2452983158254142e-7,
          1.0884284251076375e-7,
          8.165013917724369e-8,
          1.032569584764727e-7,
          6.724426699556032e-8,
          9.101601834572535e-8,
          1.0626117127411048e-7,
          7.054148115366025e-7,
          6.036836567009834e-8,
          1.1960888367946452e-7,
          1.5602924897362033e-7,
          1.0320813851452728e-7,
          6.344653223465141,
          1.0679362280440001e-7,
          1.4429874046656613e-7,
          1.0428219806345124e-7,
          1.1533849603859589e-7,
          9.753096681427084e-8,
          18.186030719424682,
          14.069515291986104,
          3.778735452984329,
          22.34733333422985,
          4.135210724061683,
          42.916283502977066,
          2.4476824612665475,
          0.928616088964997,
          74.69068977800347,
          13.16211049985823,
          23.04100014821873,
          3.6308328201925066,
          8.015873666819651,
          0.3517003199526233,
          2.6281721450708995,
          42.70274013403379,
          1.157268228620015,
          1.872506227918526,
          6.262695647389992,
          15.739433847187483,
          32.949000600505,
          9.185772475744127,
          12.292894895614284,
          18.235487101867545,
          13.115820590840652,
          39.640534812916556,
          1.2530000909036847,
          2.640775481316432,
          26.500000006067587,
          35.29988350605807,
          15.782840232153294,
          9.94497422796973,
          4.29970480490887,
          22.112573580151533,
          17.791458972970002,
          131.77364282314653,
          0.48800713271037743,
          0.0007685581645326306,
          47.754032523782804,
          0.03039616796467437,
          23.871429578700198,
          54.60000028619645,
          3.2225795944677085,
          4.642512689678375,
          7.168838984961004,
          89.06227429923442,
          0.032677106011689126,
          1.8576461133154203,
          1.8382398220342116e-7,
          13.792783013268677,
          2.3565684661377402e-7,
          8.657747567602627,
          42.63012666307527,
          1.3154627211410936,
          0.9204774580096335,
          0.3201366599325676,
          3.7817795531222345,
          7.863669830485783,
          268.8569294439508,
          50.65975681596806,
          11.894991991669206,
          11.650145524758772,
          0.4069053770924064,
          0.024906885091587505,
          0.21272446063502512,
          117.4689545109382,
          5.775032176732726,
          2.1156799490640523,
          24.31903014130082,
          1.0789374620440824,
          22.98352444677652,
          12.267803710896214,
          0.266741814791642,
          2.433892073166586,
          7.306383908182604,
          3.2805809682407023,
          1.379838919116757,
          0.039460545747018225,
          2.0206992966858452,
          7.217155853274733,
          10.195797859392508,
          5.090825183086282,
          8.050822626520368,
          7.2426394062823825,
          3.7805270792077934,
          3.033205713513461,
          0.004769119496622339,
          0.001564915512189751,
          7.683168641292083,
          102.27879485547444
         ]
        }
       ],
       "layout": {
        "height": 800,
        "template": {
         "data": {
          "bar": [
           {
            "error_x": {
             "color": "#2a3f5f"
            },
            "error_y": {
             "color": "#2a3f5f"
            },
            "marker": {
             "line": {
              "color": "#E5ECF6",
              "width": 0.5
             },
             "pattern": {
              "fillmode": "overlay",
              "size": 10,
              "solidity": 0.2
             }
            },
            "type": "bar"
           }
          ],
          "barpolar": [
           {
            "marker": {
             "line": {
              "color": "#E5ECF6",
              "width": 0.5
             },
             "pattern": {
              "fillmode": "overlay",
              "size": 10,
              "solidity": 0.2
             }
            },
            "type": "barpolar"
           }
          ],
          "carpet": [
           {
            "aaxis": {
             "endlinecolor": "#2a3f5f",
             "gridcolor": "white",
             "linecolor": "white",
             "minorgridcolor": "white",
             "startlinecolor": "#2a3f5f"
            },
            "baxis": {
             "endlinecolor": "#2a3f5f",
             "gridcolor": "white",
             "linecolor": "white",
             "minorgridcolor": "white",
             "startlinecolor": "#2a3f5f"
            },
            "type": "carpet"
           }
          ],
          "choropleth": [
           {
            "colorbar": {
             "outlinewidth": 0,
             "ticks": ""
            },
            "type": "choropleth"
           }
          ],
          "contour": [
           {
            "colorbar": {
             "outlinewidth": 0,
             "ticks": ""
            },
            "colorscale": [
             [
              0,
              "#0d0887"
             ],
             [
              0.1111111111111111,
              "#46039f"
             ],
             [
              0.2222222222222222,
              "#7201a8"
             ],
             [
              0.3333333333333333,
              "#9c179e"
             ],
             [
              0.4444444444444444,
              "#bd3786"
             ],
             [
              0.5555555555555556,
              "#d8576b"
             ],
             [
              0.6666666666666666,
              "#ed7953"
             ],
             [
              0.7777777777777778,
              "#fb9f3a"
             ],
             [
              0.8888888888888888,
              "#fdca26"
             ],
             [
              1,
              "#f0f921"
             ]
            ],
            "type": "contour"
           }
          ],
          "contourcarpet": [
           {
            "colorbar": {
             "outlinewidth": 0,
             "ticks": ""
            },
            "type": "contourcarpet"
           }
          ],
          "heatmap": [
           {
            "colorbar": {
             "outlinewidth": 0,
             "ticks": ""
            },
            "colorscale": [
             [
              0,
              "#0d0887"
             ],
             [
              0.1111111111111111,
              "#46039f"
             ],
             [
              0.2222222222222222,
              "#7201a8"
             ],
             [
              0.3333333333333333,
              "#9c179e"
             ],
             [
              0.4444444444444444,
              "#bd3786"
             ],
             [
              0.5555555555555556,
              "#d8576b"
             ],
             [
              0.6666666666666666,
              "#ed7953"
             ],
             [
              0.7777777777777778,
              "#fb9f3a"
             ],
             [
              0.8888888888888888,
              "#fdca26"
             ],
             [
              1,
              "#f0f921"
             ]
            ],
            "type": "heatmap"
           }
          ],
          "heatmapgl": [
           {
            "colorbar": {
             "outlinewidth": 0,
             "ticks": ""
            },
            "colorscale": [
             [
              0,
              "#0d0887"
             ],
             [
              0.1111111111111111,
              "#46039f"
             ],
             [
              0.2222222222222222,
              "#7201a8"
             ],
             [
              0.3333333333333333,
              "#9c179e"
             ],
             [
              0.4444444444444444,
              "#bd3786"
             ],
             [
              0.5555555555555556,
              "#d8576b"
             ],
             [
              0.6666666666666666,
              "#ed7953"
             ],
             [
              0.7777777777777778,
              "#fb9f3a"
             ],
             [
              0.8888888888888888,
              "#fdca26"
             ],
             [
              1,
              "#f0f921"
             ]
            ],
            "type": "heatmapgl"
           }
          ],
          "histogram": [
           {
            "marker": {
             "pattern": {
              "fillmode": "overlay",
              "size": 10,
              "solidity": 0.2
             }
            },
            "type": "histogram"
           }
          ],
          "histogram2d": [
           {
            "colorbar": {
             "outlinewidth": 0,
             "ticks": ""
            },
            "colorscale": [
             [
              0,
              "#0d0887"
             ],
             [
              0.1111111111111111,
              "#46039f"
             ],
             [
              0.2222222222222222,
              "#7201a8"
             ],
             [
              0.3333333333333333,
              "#9c179e"
             ],
             [
              0.4444444444444444,
              "#bd3786"
             ],
             [
              0.5555555555555556,
              "#d8576b"
             ],
             [
              0.6666666666666666,
              "#ed7953"
             ],
             [
              0.7777777777777778,
              "#fb9f3a"
             ],
             [
              0.8888888888888888,
              "#fdca26"
             ],
             [
              1,
              "#f0f921"
             ]
            ],
            "type": "histogram2d"
           }
          ],
          "histogram2dcontour": [
           {
            "colorbar": {
             "outlinewidth": 0,
             "ticks": ""
            },
            "colorscale": [
             [
              0,
              "#0d0887"
             ],
             [
              0.1111111111111111,
              "#46039f"
             ],
             [
              0.2222222222222222,
              "#7201a8"
             ],
             [
              0.3333333333333333,
              "#9c179e"
             ],
             [
              0.4444444444444444,
              "#bd3786"
             ],
             [
              0.5555555555555556,
              "#d8576b"
             ],
             [
              0.6666666666666666,
              "#ed7953"
             ],
             [
              0.7777777777777778,
              "#fb9f3a"
             ],
             [
              0.8888888888888888,
              "#fdca26"
             ],
             [
              1,
              "#f0f921"
             ]
            ],
            "type": "histogram2dcontour"
           }
          ],
          "mesh3d": [
           {
            "colorbar": {
             "outlinewidth": 0,
             "ticks": ""
            },
            "type": "mesh3d"
           }
          ],
          "parcoords": [
           {
            "line": {
             "colorbar": {
              "outlinewidth": 0,
              "ticks": ""
             }
            },
            "type": "parcoords"
           }
          ],
          "pie": [
           {
            "automargin": true,
            "type": "pie"
           }
          ],
          "scatter": [
           {
            "fillpattern": {
             "fillmode": "overlay",
             "size": 10,
             "solidity": 0.2
            },
            "type": "scatter"
           }
          ],
          "scatter3d": [
           {
            "line": {
             "colorbar": {
              "outlinewidth": 0,
              "ticks": ""
             }
            },
            "marker": {
             "colorbar": {
              "outlinewidth": 0,
              "ticks": ""
             }
            },
            "type": "scatter3d"
           }
          ],
          "scattercarpet": [
           {
            "marker": {
             "colorbar": {
              "outlinewidth": 0,
              "ticks": ""
             }
            },
            "type": "scattercarpet"
           }
          ],
          "scattergeo": [
           {
            "marker": {
             "colorbar": {
              "outlinewidth": 0,
              "ticks": ""
             }
            },
            "type": "scattergeo"
           }
          ],
          "scattergl": [
           {
            "marker": {
             "colorbar": {
              "outlinewidth": 0,
              "ticks": ""
             }
            },
            "type": "scattergl"
           }
          ],
          "scattermapbox": [
           {
            "marker": {
             "colorbar": {
              "outlinewidth": 0,
              "ticks": ""
             }
            },
            "type": "scattermapbox"
           }
          ],
          "scatterpolar": [
           {
            "marker": {
             "colorbar": {
              "outlinewidth": 0,
              "ticks": ""
             }
            },
            "type": "scatterpolar"
           }
          ],
          "scatterpolargl": [
           {
            "marker": {
             "colorbar": {
              "outlinewidth": 0,
              "ticks": ""
             }
            },
            "type": "scatterpolargl"
           }
          ],
          "scatterternary": [
           {
            "marker": {
             "colorbar": {
              "outlinewidth": 0,
              "ticks": ""
             }
            },
            "type": "scatterternary"
           }
          ],
          "surface": [
           {
            "colorbar": {
             "outlinewidth": 0,
             "ticks": ""
            },
            "colorscale": [
             [
              0,
              "#0d0887"
             ],
             [
              0.1111111111111111,
              "#46039f"
             ],
             [
              0.2222222222222222,
              "#7201a8"
             ],
             [
              0.3333333333333333,
              "#9c179e"
             ],
             [
              0.4444444444444444,
              "#bd3786"
             ],
             [
              0.5555555555555556,
              "#d8576b"
             ],
             [
              0.6666666666666666,
              "#ed7953"
             ],
             [
              0.7777777777777778,
              "#fb9f3a"
             ],
             [
              0.8888888888888888,
              "#fdca26"
             ],
             [
              1,
              "#f0f921"
             ]
            ],
            "type": "surface"
           }
          ],
          "table": [
           {
            "cells": {
             "fill": {
              "color": "#EBF0F8"
             },
             "line": {
              "color": "white"
             }
            },
            "header": {
             "fill": {
              "color": "#C8D4E3"
             },
             "line": {
              "color": "white"
             }
            },
            "type": "table"
           }
          ]
         },
         "layout": {
          "annotationdefaults": {
           "arrowcolor": "#2a3f5f",
           "arrowhead": 0,
           "arrowwidth": 1
          },
          "autotypenumbers": "strict",
          "coloraxis": {
           "colorbar": {
            "outlinewidth": 0,
            "ticks": ""
           }
          },
          "colorscale": {
           "diverging": [
            [
             0,
             "#8e0152"
            ],
            [
             0.1,
             "#c51b7d"
            ],
            [
             0.2,
             "#de77ae"
            ],
            [
             0.3,
             "#f1b6da"
            ],
            [
             0.4,
             "#fde0ef"
            ],
            [
             0.5,
             "#f7f7f7"
            ],
            [
             0.6,
             "#e6f5d0"
            ],
            [
             0.7,
             "#b8e186"
            ],
            [
             0.8,
             "#7fbc41"
            ],
            [
             0.9,
             "#4d9221"
            ],
            [
             1,
             "#276419"
            ]
           ],
           "sequential": [
            [
             0,
             "#0d0887"
            ],
            [
             0.1111111111111111,
             "#46039f"
            ],
            [
             0.2222222222222222,
             "#7201a8"
            ],
            [
             0.3333333333333333,
             "#9c179e"
            ],
            [
             0.4444444444444444,
             "#bd3786"
            ],
            [
             0.5555555555555556,
             "#d8576b"
            ],
            [
             0.6666666666666666,
             "#ed7953"
            ],
            [
             0.7777777777777778,
             "#fb9f3a"
            ],
            [
             0.8888888888888888,
             "#fdca26"
            ],
            [
             1,
             "#f0f921"
            ]
           ],
           "sequentialminus": [
            [
             0,
             "#0d0887"
            ],
            [
             0.1111111111111111,
             "#46039f"
            ],
            [
             0.2222222222222222,
             "#7201a8"
            ],
            [
             0.3333333333333333,
             "#9c179e"
            ],
            [
             0.4444444444444444,
             "#bd3786"
            ],
            [
             0.5555555555555556,
             "#d8576b"
            ],
            [
             0.6666666666666666,
             "#ed7953"
            ],
            [
             0.7777777777777778,
             "#fb9f3a"
            ],
            [
             0.8888888888888888,
             "#fdca26"
            ],
            [
             1,
             "#f0f921"
            ]
           ]
          },
          "colorway": [
           "#636efa",
           "#EF553B",
           "#00cc96",
           "#ab63fa",
           "#FFA15A",
           "#19d3f3",
           "#FF6692",
           "#B6E880",
           "#FF97FF",
           "#FECB52"
          ],
          "font": {
           "color": "#2a3f5f"
          },
          "geo": {
           "bgcolor": "white",
           "lakecolor": "white",
           "landcolor": "#E5ECF6",
           "showlakes": true,
           "showland": true,
           "subunitcolor": "white"
          },
          "hoverlabel": {
           "align": "left"
          },
          "hovermode": "closest",
          "mapbox": {
           "style": "light"
          },
          "paper_bgcolor": "white",
          "plot_bgcolor": "#E5ECF6",
          "polar": {
           "angularaxis": {
            "gridcolor": "white",
            "linecolor": "white",
            "ticks": ""
           },
           "bgcolor": "#E5ECF6",
           "radialaxis": {
            "gridcolor": "white",
            "linecolor": "white",
            "ticks": ""
           }
          },
          "scene": {
           "xaxis": {
            "backgroundcolor": "#E5ECF6",
            "gridcolor": "white",
            "gridwidth": 2,
            "linecolor": "white",
            "showbackground": true,
            "ticks": "",
            "zerolinecolor": "white"
           },
           "yaxis": {
            "backgroundcolor": "#E5ECF6",
            "gridcolor": "white",
            "gridwidth": 2,
            "linecolor": "white",
            "showbackground": true,
            "ticks": "",
            "zerolinecolor": "white"
           },
           "zaxis": {
            "backgroundcolor": "#E5ECF6",
            "gridcolor": "white",
            "gridwidth": 2,
            "linecolor": "white",
            "showbackground": true,
            "ticks": "",
            "zerolinecolor": "white"
           }
          },
          "shapedefaults": {
           "line": {
            "color": "#2a3f5f"
           }
          },
          "ternary": {
           "aaxis": {
            "gridcolor": "white",
            "linecolor": "white",
            "ticks": ""
           },
           "baxis": {
            "gridcolor": "white",
            "linecolor": "white",
            "ticks": ""
           },
           "bgcolor": "#E5ECF6",
           "caxis": {
            "gridcolor": "white",
            "linecolor": "white",
            "ticks": ""
           }
          },
          "title": {
           "x": 0.05
          },
          "xaxis": {
           "automargin": true,
           "gridcolor": "white",
           "linecolor": "white",
           "ticks": "",
           "title": {
            "standoff": 15
           },
           "zerolinecolor": "white",
           "zerolinewidth": 2
          },
          "yaxis": {
           "automargin": true,
           "gridcolor": "white",
           "linecolor": "white",
           "ticks": "",
           "title": {
            "standoff": 15
           },
           "zerolinecolor": "white",
           "zerolinewidth": 2
          }
         }
        },
        "title": {
         "text": "Power Capacity (Energy / Time) 2050"
        },
        "width": 900
       }
      }
     },
     "metadata": {},
     "output_type": "display_data"
    }
   ],
   "source": [
    "fig = power_pie_plot(SEASON_DATA)\n",
    "if WRITE_FIGS:\n",
    "    fig.write_image(WRITE_DIR / \"power_pie_plot.png\")\n",
    "fig.show()\n",
    "\n",
    "fig = power_pie_plot(EXPENSIVE_HLDH)\n",
    "if WRITE_FIGS:\n",
    "    fig.write_image(WRITE_DIR / \"power_pie_plot_expensive.png\")\n",
    "fig.show()"
   ]
  },
  {
   "cell_type": "code",
   "execution_count": 349,
   "metadata": {},
   "outputs": [],
   "source": [
    "def power_pie_plot2(sol_path: str) -> go.Figure:\n",
    "\n",
    "    # Pie plot for electronics\n",
    "    data_prod_by_tech = dp.DataProcessor(sol_paths={\"anonym\": sol_path}, type_of_data_to_read=\"ProductionByTechnologyAnnual\")\n",
    "    #data_p = dp.DataProcessor(sol_paths={\"anonym\": sol_path}, type_of_data_to_read=\"TotalCapacityAnnual\")\n",
    "\n",
    "    # Look at 2050\n",
    "    #data_p.filter_by_identifier(column=\"Year\", identifier=2050)\n",
    "    data_prod_by_tech.filter_by_identifier(column=\"Year\", identifier=2050)\n",
    "\n",
    "    # Remove all that starts with \"D_\"\n",
    "    #data_p.df = data_p.df[~data_p.df[\"Technology\"].str.startswith(\"D_\")]\n",
    "    data_prod_by_tech.df = data_prod_by_tech.df[~data_prod_by_tech.df[\"Technology\"].str.startswith(\"D_\")]\n",
    "\n",
    "    # Keep those over 0\n",
    "    #data_p.df = data_p.df[data_p.df[\"Value\"] > 0]\n",
    "\n",
    "    # Aggregate by technology according to the aggregation\n",
    "    #print(\"Length before aggregation\", len(data_p.df))\n",
    "    #data_p.aggregate_by_sum(column_to_sum=\"Value\", groups_memberships=AGGREGATION)\n",
    "    #data_prod_by_tech.show_example_rows(5)\n",
    "    #print(data_prod_by_tech.df[\"Fuel\"].unique())\n",
    "    data_prod_by_tech.filter_by_identifier(column=\"Fuel\", identifier=\"Heat_District\")\n",
    "    #data_prod_by_tech.filter_by_identifier(column=\"Fuel\", identifier=\"Heat_Low_Building\")\n",
    "    #data_prod_by_tech.filter_by_identifier(column=\"Fuel\", identifier=\"Heat_Low_Industrial\")\n",
    "    #data_prod_by_tech.show_example_rows(5)\n",
    "    #data_prod_by_tech.filter_by_identifier(column=\"Fuel\", identifier=\"Power\")\n",
    "    data_prod_by_tech.df = data_prod_by_tech.df[data_prod_by_tech.df[\"Value\"] > 0]\n",
    "    #data_prod_by_tech.show_example_rows(5)\n",
    "    #techs = list(data_prod_by_tech.df[\"Technology\"].unique())\n",
    "\n",
    "    #data_p.filter_by_list(column=\"Technology\", identifier_list=techs)\n",
    "\n",
    "    #data_prod_by_tech.aggregate_by_sum_function(column_to_change=\"Technology\", column_to_sum=\"Value\", function=aggregator)\n",
    "\n",
    "    # Create color list\n",
    "    color_list = [my_color_generator(tech) for tech in data_prod_by_tech.df[\"Technology\"]]\n",
    "\n",
    "    # Make a pie plot\n",
    "    fig = go.Figure(data=[go.Pie(labels=data_prod_by_tech.df[\"Technology\"], values=data_prod_by_tech.df[\"Value\"], \n",
    "                                 textposition='inside', textinfo='percent+label',\n",
    "                                 textfont=dict(size=50),\n",
    "                                 marker=dict(colors=color_list))])\n",
    "\n",
    "    # Loop labels, and change the color of the pie\n",
    "    #color_gen = my_color_generator()\n",
    "    #for i, label in enumerate(fig.data[0].labels):\n",
    "    #    fig.data[0].marker.colors += [my_color_generator(label)]\n",
    "\n",
    "    fig.update_layout(\n",
    "        title=\"Energy Production 2050\",\n",
    "        width=900,\n",
    "        height=800\n",
    "    )\n",
    "\n",
    "    return fig"
   ]
  },
  {
   "cell_type": "code",
   "execution_count": 350,
   "metadata": {},
   "outputs": [
    {
     "name": "stdout",
     "output_type": "stream",
     "text": [
      "Converting from PetaJoules to TerraWattHours\n"
     ]
    },
    {
     "data": {
      "application/vnd.plotly.v1+json": {
       "config": {
        "plotlyServerURL": "https://plot.ly"
       },
       "data": [
        {
         "labels": [
          "CHP_Biomass_Solid",
          "CHP_Coal_Hardcoal",
          "CHP_Gas_CCGT_Biogas",
          "CHP_Gas_CCGT_Natural",
          "CHP_Gas_CCGT_SynGas",
          "CHP_Hydrogen_FuelCell",
          "CHP_Oil",
          "HHI_Bio_BF_BOF",
          "HLDH_Biomass_Boiler",
          "HLDH_Biomass_CHP",
          "HLDH_Coal_Boiler",
          "HLDH_Oil_Boiler",
          "HLDH_Gas_Boiler",
          "HLDH_Geothermal",
          "HLDH_Solar_Thermal",
          "HLDH_Electric_Boiler",
          "HLDH_Heatpump_Air",
          "HLDH_Heatpump_ExcessHeat",
          "CHP_Biomass_Solid",
          "CHP_Coal_Hardcoal",
          "CHP_Gas_CCGT_Biogas",
          "CHP_Gas_CCGT_Natural",
          "CHP_Gas_CCGT_SynGas",
          "CHP_Hydrogen_FuelCell",
          "CHP_Oil",
          "HHI_Bio_BF_BOF",
          "HLDH_Biomass_Boiler",
          "HLDH_Biomass_CHP",
          "HLDH_Coal_Boiler",
          "HLDH_Oil_Boiler",
          "HLDH_Gas_Boiler",
          "HLDH_Geothermal",
          "HLDH_Solar_Thermal",
          "HLDH_Electric_Boiler",
          "HLDH_Heatpump_Air",
          "HLDH_Heatpump_ExcessHeat",
          "CHP_Biomass_Solid",
          "CHP_Coal_Hardcoal",
          "CHP_Coal_Lignite",
          "CHP_Gas_CCGT_Biogas",
          "CHP_Gas_CCGT_Natural",
          "CHP_Gas_CCGT_SynGas",
          "CHP_Hydrogen_FuelCell",
          "CHP_Oil",
          "HHI_Bio_BF_BOF",
          "HLDH_Biomass_Boiler",
          "HLDH_Biomass_CHP",
          "HLDH_Coal_Boiler",
          "HLDH_Oil_Boiler",
          "HLDH_Gas_Boiler",
          "HLDH_Geothermal",
          "HLDH_Solar_Thermal",
          "HLDH_Electric_Boiler",
          "HLDH_Heatpump_Air",
          "HLDH_Heatpump_ExcessHeat",
          "CHP_Biomass_Solid",
          "CHP_Coal_Hardcoal",
          "CHP_Gas_CCGT_Biogas",
          "CHP_Gas_CCGT_Natural",
          "CHP_Gas_CCGT_SynGas",
          "CHP_Hydrogen_FuelCell",
          "CHP_Oil",
          "HLDH_Biomass_Boiler",
          "HLDH_Biomass_CHP",
          "HLDH_Coal_Boiler",
          "HLDH_Oil_Boiler",
          "HLDH_Gas_Boiler",
          "HLDH_Geothermal",
          "HLDH_Solar_Thermal",
          "HLDH_Electric_Boiler",
          "HLDH_Heatpump_Air",
          "HLDH_Heatpump_ExcessHeat",
          "CHP_Biomass_Solid",
          "CHP_Coal_Hardcoal",
          "CHP_Coal_Lignite",
          "CHP_Gas_CCGT_Biogas",
          "CHP_Gas_CCGT_Natural",
          "CHP_Gas_CCGT_SynGas",
          "CHP_Hydrogen_FuelCell",
          "CHP_Oil",
          "HHI_Bio_BF_BOF",
          "HLDH_Biomass_Boiler",
          "HLDH_Biomass_CHP",
          "HLDH_Coal_Boiler",
          "HLDH_Oil_Boiler",
          "HLDH_Gas_Boiler",
          "HLDH_Geothermal",
          "HLDH_Solar_Thermal",
          "HLDH_Electric_Boiler",
          "HLDH_Heatpump_Air",
          "HLDH_Heatpump_ExcessHeat",
          "CHP_Biomass_Solid",
          "CHP_Coal_Hardcoal",
          "CHP_Coal_Lignite",
          "CHP_Gas_CCGT_Biogas",
          "CHP_Gas_CCGT_Natural",
          "CHP_Gas_CCGT_SynGas",
          "CHP_Hydrogen_FuelCell",
          "CHP_Oil",
          "HHI_Bio_BF_BOF",
          "HLDH_Biomass_Boiler",
          "HLDH_Biomass_CHP",
          "HLDH_Coal_Boiler",
          "HLDH_Oil_Boiler",
          "HLDH_Gas_Boiler",
          "HLDH_Geothermal",
          "HLDH_Solar_Thermal",
          "HLDH_Electric_Boiler",
          "HLDH_Heatpump_Air",
          "HLDH_Heatpump_ExcessHeat",
          "CHP_Biomass_Solid",
          "CHP_Coal_Hardcoal",
          "CHP_Gas_CCGT_Biogas",
          "CHP_Gas_CCGT_Natural",
          "CHP_Gas_CCGT_SynGas",
          "CHP_Hydrogen_FuelCell",
          "CHP_Oil",
          "HHI_Bio_BF_BOF",
          "HLDH_Biomass_Boiler",
          "HLDH_Biomass_CHP",
          "HLDH_Coal_Boiler",
          "HLDH_Oil_Boiler",
          "HLDH_Gas_Boiler",
          "HLDH_Geothermal",
          "HLDH_Solar_Thermal",
          "HLDH_Electric_Boiler",
          "HLDH_Heatpump_Air",
          "HLDH_Heatpump_ExcessHeat",
          "CHP_Biomass_Solid",
          "CHP_Coal_Hardcoal",
          "CHP_Gas_CCGT_Biogas",
          "CHP_Gas_CCGT_Natural",
          "CHP_Gas_CCGT_SynGas",
          "CHP_Hydrogen_FuelCell",
          "CHP_Oil",
          "HHI_Bio_BF_BOF",
          "HLDH_Biomass_Boiler",
          "HLDH_Biomass_CHP",
          "HLDH_Coal_Boiler",
          "HLDH_Oil_Boiler",
          "HLDH_Gas_Boiler",
          "HLDH_Geothermal",
          "HLDH_Solar_Thermal",
          "HLDH_Electric_Boiler",
          "HLDH_Heatpump_Air",
          "HLDH_Heatpump_ExcessHeat",
          "CHP_Biomass_Solid",
          "CHP_Coal_Hardcoal",
          "CHP_Gas_CCGT_Biogas",
          "CHP_Gas_CCGT_Natural",
          "CHP_Gas_CCGT_SynGas",
          "CHP_Hydrogen_FuelCell",
          "CHP_Oil",
          "HHI_Bio_BF_BOF",
          "HLDH_Biomass_Boiler",
          "HLDH_Biomass_CHP",
          "HLDH_Coal_Boiler",
          "HLDH_Oil_Boiler",
          "HLDH_Gas_Boiler",
          "HLDH_Geothermal",
          "HLDH_Solar_Thermal",
          "HLDH_Electric_Boiler",
          "HLDH_Heatpump_Air",
          "HLDH_Heatpump_ExcessHeat",
          "CHP_Biomass_Solid",
          "CHP_Coal_Hardcoal",
          "CHP_Gas_CCGT_Biogas",
          "CHP_Gas_CCGT_Natural",
          "CHP_Gas_CCGT_SynGas",
          "CHP_Hydrogen_FuelCell",
          "CHP_Oil",
          "HHI_Bio_BF_BOF",
          "HLDH_Biomass_Boiler",
          "HLDH_Biomass_CHP",
          "HLDH_Coal_Boiler",
          "HLDH_Oil_Boiler",
          "HLDH_Gas_Boiler",
          "HLDH_Geothermal",
          "HLDH_Solar_Thermal",
          "HLDH_Electric_Boiler",
          "HLDH_Heatpump_Air",
          "HLDH_Heatpump_ExcessHeat",
          "CHP_Biomass_Solid",
          "CHP_Coal_Hardcoal",
          "CHP_Gas_CCGT_Biogas",
          "CHP_Gas_CCGT_Natural",
          "CHP_Gas_CCGT_SynGas",
          "CHP_Hydrogen_FuelCell",
          "CHP_Oil",
          "HHI_Bio_BF_BOF",
          "HLDH_Biomass_Boiler",
          "HLDH_Biomass_CHP",
          "HLDH_Coal_Boiler",
          "HLDH_Oil_Boiler",
          "HLDH_Gas_Boiler",
          "HLDH_Geothermal",
          "HLDH_Solar_Thermal",
          "HLDH_Electric_Boiler",
          "HLDH_Heatpump_Air",
          "HLDH_Heatpump_ExcessHeat",
          "CHP_Biomass_Solid",
          "CHP_Coal_Hardcoal",
          "CHP_Coal_Lignite",
          "CHP_Gas_CCGT_Biogas",
          "CHP_Gas_CCGT_Natural",
          "CHP_Gas_CCGT_SynGas",
          "CHP_Hydrogen_FuelCell",
          "CHP_Oil",
          "HHI_Bio_BF_BOF",
          "HLDH_Biomass_Boiler",
          "HLDH_Biomass_CHP",
          "HLDH_Coal_Boiler",
          "HLDH_Oil_Boiler",
          "HLDH_Gas_Boiler",
          "HLDH_Geothermal",
          "HLDH_Solar_Thermal",
          "HLDH_Electric_Boiler",
          "HLDH_Heatpump_Air",
          "HLDH_Heatpump_ExcessHeat",
          "CHP_Biomass_Solid",
          "CHP_Coal_Hardcoal",
          "CHP_Coal_Lignite",
          "CHP_Gas_CCGT_Biogas",
          "CHP_Gas_CCGT_Natural",
          "CHP_Gas_CCGT_SynGas",
          "CHP_Hydrogen_FuelCell",
          "CHP_Oil",
          "HHI_Bio_BF_BOF",
          "HLDH_Biomass_Boiler",
          "HLDH_Biomass_CHP",
          "HLDH_Coal_Boiler",
          "HLDH_Oil_Boiler",
          "HLDH_Gas_Boiler",
          "HLDH_Geothermal",
          "HLDH_Solar_Thermal",
          "HLDH_Electric_Boiler",
          "HLDH_Heatpump_Air",
          "HLDH_Heatpump_ExcessHeat",
          "CHP_Biomass_Solid",
          "CHP_Coal_Hardcoal",
          "CHP_Coal_Lignite",
          "CHP_Gas_CCGT_Biogas",
          "CHP_Gas_CCGT_Natural",
          "CHP_Gas_CCGT_SynGas",
          "CHP_Hydrogen_FuelCell",
          "CHP_Oil",
          "HHI_Bio_BF_BOF",
          "HLDH_Biomass_Boiler",
          "HLDH_Biomass_CHP",
          "HLDH_Coal_Boiler",
          "HLDH_Oil_Boiler",
          "HLDH_Gas_Boiler",
          "HLDH_Geothermal",
          "HLDH_Solar_Thermal",
          "HLDH_Electric_Boiler",
          "HLDH_Heatpump_Air",
          "HLDH_Heatpump_ExcessHeat",
          "CHP_Biomass_Solid",
          "CHP_Coal_Hardcoal",
          "CHP_Gas_CCGT_Biogas",
          "CHP_Gas_CCGT_Natural",
          "CHP_Gas_CCGT_SynGas",
          "CHP_Hydrogen_FuelCell",
          "CHP_Oil",
          "HHI_Bio_BF_BOF",
          "HLDH_Biomass_Boiler",
          "HLDH_Biomass_CHP",
          "HLDH_Coal_Boiler",
          "HLDH_Oil_Boiler",
          "HLDH_Gas_Boiler",
          "HLDH_Geothermal",
          "HLDH_Solar_Thermal",
          "HLDH_Electric_Boiler",
          "HLDH_Heatpump_Air",
          "HLDH_Heatpump_ExcessHeat",
          "CHP_Biomass_Solid",
          "CHP_Coal_Hardcoal",
          "CHP_Gas_CCGT_Biogas",
          "CHP_Gas_CCGT_Natural",
          "CHP_Gas_CCGT_SynGas",
          "CHP_Hydrogen_FuelCell",
          "CHP_Oil",
          "HHI_Bio_BF_BOF",
          "HLDH_Biomass_Boiler",
          "HLDH_Biomass_CHP",
          "HLDH_Coal_Boiler",
          "HLDH_Oil_Boiler",
          "HLDH_Gas_Boiler",
          "HLDH_Geothermal",
          "HLDH_Solar_Thermal",
          "HLDH_Electric_Boiler",
          "HLDH_Heatpump_Air",
          "HLDH_Heatpump_ExcessHeat",
          "CHP_Biomass_Solid",
          "CHP_Coal_Hardcoal",
          "CHP_Gas_CCGT_Biogas",
          "CHP_Gas_CCGT_Natural",
          "CHP_Gas_CCGT_SynGas",
          "CHP_Hydrogen_FuelCell",
          "CHP_Oil",
          "HHI_Bio_BF_BOF",
          "HLDH_Biomass_Boiler",
          "HLDH_Biomass_CHP",
          "HLDH_Coal_Boiler",
          "HLDH_Oil_Boiler",
          "HLDH_Gas_Boiler",
          "HLDH_Geothermal",
          "HLDH_Solar_Thermal",
          "HLDH_Electric_Boiler",
          "HLDH_Heatpump_Air",
          "HLDH_Heatpump_ExcessHeat",
          "CHP_Biomass_Solid",
          "CHP_Coal_Hardcoal",
          "CHP_Gas_CCGT_Biogas",
          "CHP_Gas_CCGT_Natural",
          "CHP_Gas_CCGT_SynGas",
          "CHP_Hydrogen_FuelCell",
          "CHP_Oil",
          "HHI_Bio_BF_BOF",
          "HLDH_Biomass_Boiler",
          "HLDH_Biomass_CHP",
          "HLDH_Coal_Boiler",
          "HLDH_Oil_Boiler",
          "HLDH_Gas_Boiler",
          "HLDH_Geothermal",
          "HLDH_Solar_Thermal",
          "HLDH_Electric_Boiler",
          "HLDH_Heatpump_Air",
          "HLDH_Heatpump_ExcessHeat",
          "CHP_Biomass_Solid",
          "CHP_Coal_Hardcoal",
          "CHP_Gas_CCGT_Biogas",
          "CHP_Gas_CCGT_Natural",
          "CHP_Gas_CCGT_SynGas",
          "CHP_Hydrogen_FuelCell",
          "CHP_Oil",
          "HHI_Bio_BF_BOF",
          "HLDH_Biomass_Boiler",
          "HLDH_Biomass_CHP",
          "HLDH_Coal_Boiler",
          "HLDH_Oil_Boiler",
          "HLDH_Gas_Boiler",
          "HLDH_Geothermal",
          "HLDH_Solar_Thermal",
          "HLDH_Electric_Boiler",
          "HLDH_Heatpump_Air",
          "HLDH_Heatpump_ExcessHeat",
          "CHP_Biomass_Solid",
          "CHP_Coal_Hardcoal",
          "CHP_Gas_CCGT_Biogas",
          "CHP_Gas_CCGT_Natural",
          "CHP_Gas_CCGT_SynGas",
          "CHP_Hydrogen_FuelCell",
          "CHP_Oil",
          "HHI_Bio_BF_BOF",
          "HLDH_Biomass_Boiler",
          "HLDH_Biomass_CHP",
          "HLDH_Coal_Boiler",
          "HLDH_Oil_Boiler",
          "HLDH_Gas_Boiler",
          "HLDH_Geothermal",
          "HLDH_Solar_Thermal",
          "HLDH_Electric_Boiler",
          "HLDH_Heatpump_Air",
          "HLDH_Heatpump_ExcessHeat",
          "CHP_Biomass_Solid",
          "CHP_Coal_Hardcoal",
          "CHP_Gas_CCGT_Biogas",
          "CHP_Gas_CCGT_Natural",
          "CHP_Gas_CCGT_SynGas",
          "CHP_Hydrogen_FuelCell",
          "CHP_Oil",
          "HHI_Bio_BF_BOF",
          "HLDH_Biomass_Boiler",
          "HLDH_Biomass_CHP",
          "HLDH_Coal_Boiler",
          "HLDH_Oil_Boiler",
          "HLDH_Gas_Boiler",
          "HLDH_Geothermal",
          "HLDH_Solar_Thermal",
          "HLDH_Electric_Boiler",
          "HLDH_Heatpump_Air",
          "HLDH_Heatpump_ExcessHeat",
          "CHP_Biomass_Solid",
          "CHP_Coal_Hardcoal",
          "CHP_Coal_Lignite",
          "CHP_Gas_CCGT_Biogas",
          "CHP_Gas_CCGT_Natural",
          "CHP_Gas_CCGT_SynGas",
          "CHP_Hydrogen_FuelCell",
          "CHP_Oil",
          "HHI_Bio_BF_BOF",
          "HLDH_Biomass_Boiler",
          "HLDH_Biomass_CHP",
          "HLDH_Coal_Boiler",
          "HLDH_Oil_Boiler",
          "HLDH_Gas_Boiler",
          "HLDH_Geothermal",
          "HLDH_Solar_Thermal",
          "HLDH_Electric_Boiler",
          "HLDH_Heatpump_Air",
          "HLDH_Heatpump_ExcessHeat",
          "CHP_Biomass_Solid",
          "CHP_Coal_Hardcoal",
          "CHP_Gas_CCGT_Biogas",
          "CHP_Gas_CCGT_Natural",
          "CHP_Gas_CCGT_SynGas",
          "CHP_Hydrogen_FuelCell",
          "CHP_Oil",
          "HHI_Bio_BF_BOF",
          "HLDH_Biomass_Boiler",
          "HLDH_Biomass_CHP",
          "HLDH_Coal_Boiler",
          "HLDH_Oil_Boiler",
          "HLDH_Gas_Boiler",
          "HLDH_Geothermal",
          "HLDH_Solar_Thermal",
          "HLDH_Electric_Boiler",
          "HLDH_Heatpump_Air",
          "HLDH_Heatpump_ExcessHeat",
          "CHP_Biomass_Solid",
          "CHP_Coal_Hardcoal",
          "CHP_Coal_Lignite",
          "CHP_Gas_CCGT_Biogas",
          "CHP_Gas_CCGT_Natural",
          "CHP_Gas_CCGT_SynGas",
          "CHP_Hydrogen_FuelCell",
          "CHP_Oil",
          "HHI_Bio_BF_BOF",
          "HLDH_Biomass_Boiler",
          "HLDH_Biomass_CHP",
          "HLDH_Coal_Boiler",
          "HLDH_Oil_Boiler",
          "HLDH_Gas_Boiler",
          "HLDH_Geothermal",
          "HLDH_Solar_Thermal",
          "HLDH_Electric_Boiler",
          "HLDH_Heatpump_Air",
          "HLDH_Heatpump_ExcessHeat",
          "CHP_Biomass_Solid",
          "CHP_Coal_Hardcoal",
          "CHP_Gas_CCGT_Biogas",
          "CHP_Gas_CCGT_Natural",
          "CHP_Gas_CCGT_SynGas",
          "CHP_Hydrogen_FuelCell",
          "CHP_Oil",
          "HHI_Bio_BF_BOF",
          "HLDH_Biomass_Boiler",
          "HLDH_Biomass_CHP",
          "HLDH_Coal_Boiler",
          "HLDH_Oil_Boiler",
          "HLDH_Gas_Boiler",
          "HLDH_Geothermal",
          "HLDH_Solar_Thermal",
          "HLDH_Electric_Boiler",
          "HLDH_Heatpump_Air",
          "HLDH_Heatpump_ExcessHeat",
          "CHP_Biomass_Solid",
          "CHP_Coal_Hardcoal",
          "CHP_Coal_Lignite",
          "CHP_Gas_CCGT_Biogas",
          "CHP_Gas_CCGT_Natural",
          "CHP_Gas_CCGT_SynGas",
          "CHP_Hydrogen_FuelCell",
          "CHP_Oil",
          "HHI_Bio_BF_BOF",
          "HLDH_Biomass_Boiler",
          "HLDH_Biomass_CHP",
          "HLDH_Coal_Boiler",
          "HLDH_Oil_Boiler",
          "HLDH_Gas_Boiler",
          "HLDH_Geothermal",
          "HLDH_Solar_Thermal",
          "HLDH_Electric_Boiler",
          "HLDH_Heatpump_Air",
          "HLDH_Heatpump_ExcessHeat",
          "CHP_Biomass_Solid",
          "CHP_Coal_Hardcoal",
          "CHP_Coal_Lignite",
          "CHP_Gas_CCGT_Biogas",
          "CHP_Gas_CCGT_Natural",
          "CHP_Gas_CCGT_SynGas",
          "CHP_Hydrogen_FuelCell",
          "CHP_Oil",
          "HHI_Bio_BF_BOF",
          "HLDH_Biomass_Boiler",
          "HLDH_Biomass_CHP",
          "HLDH_Coal_Boiler",
          "HLDH_Oil_Boiler",
          "HLDH_Gas_Boiler",
          "HLDH_Geothermal",
          "HLDH_Solar_Thermal",
          "HLDH_Electric_Boiler",
          "HLDH_Heatpump_Air",
          "HLDH_Heatpump_ExcessHeat",
          "CHP_Biomass_Solid",
          "CHP_Coal_Hardcoal",
          "CHP_Coal_Lignite",
          "CHP_Gas_CCGT_Biogas",
          "CHP_Gas_CCGT_Natural",
          "CHP_Gas_CCGT_SynGas",
          "CHP_Hydrogen_FuelCell",
          "CHP_Oil",
          "HLDH_Biomass_Boiler",
          "HLDH_Biomass_CHP",
          "HLDH_Coal_Boiler",
          "HLDH_Oil_Boiler",
          "HLDH_Gas_Boiler",
          "HLDH_Geothermal",
          "HLDH_Solar_Thermal",
          "HLDH_Electric_Boiler",
          "HLDH_Heatpump_Air",
          "HLDH_Heatpump_ExcessHeat",
          "CHP_Biomass_Solid",
          "CHP_Coal_Hardcoal",
          "CHP_Gas_CCGT_Biogas",
          "CHP_Gas_CCGT_Natural",
          "CHP_Gas_CCGT_SynGas",
          "CHP_Hydrogen_FuelCell",
          "CHP_Oil",
          "HHI_Bio_BF_BOF",
          "HLDH_Biomass_Boiler",
          "HLDH_Biomass_CHP",
          "HLDH_Coal_Boiler",
          "HLDH_Oil_Boiler",
          "HLDH_Gas_Boiler",
          "HLDH_Geothermal",
          "HLDH_Solar_Thermal",
          "HLDH_Electric_Boiler",
          "HLDH_Heatpump_Air",
          "HLDH_Heatpump_ExcessHeat",
          "CHP_Biomass_Solid",
          "CHP_Coal_Hardcoal",
          "CHP_Coal_Lignite",
          "CHP_Gas_CCGT_Biogas",
          "CHP_Gas_CCGT_Natural",
          "CHP_Gas_CCGT_SynGas",
          "CHP_Hydrogen_FuelCell",
          "CHP_Oil",
          "HLDH_Biomass_Boiler",
          "HLDH_Biomass_CHP",
          "HLDH_Coal_Boiler",
          "HLDH_Oil_Boiler",
          "HLDH_Gas_Boiler",
          "HLDH_Geothermal",
          "HLDH_Solar_Thermal",
          "HLDH_Electric_Boiler",
          "HLDH_Heatpump_Air",
          "HLDH_Heatpump_ExcessHeat"
         ],
         "marker": {
          "colors": [
           "#96ebb5",
           "#a5c8fe",
           "#c5f3cf",
           "#bc96ec",
           "#fedea9",
           "#ccc8fe",
           "#a6f09d",
           "#d6b3c7",
           "#efee98",
           "#f99c8d",
           "#9af08e",
           "#df8ba4",
           "#e6bbab",
           "#bac8bf",
           "#eae0ac",
           "#fcbaf0",
           "#eafbf4",
           "#eef4c7",
           "#96ebb5",
           "#a5c8fe",
           "#c5f3cf",
           "#bc96ec",
           "#fedea9",
           "#ccc8fe",
           "#a6f09d",
           "#d6b3c7",
           "#efee98",
           "#f99c8d",
           "#9af08e",
           "#df8ba4",
           "#e6bbab",
           "#bac8bf",
           "#eae0ac",
           "#fcbaf0",
           "#eafbf4",
           "#eef4c7",
           "#96ebb5",
           "#a5c8fe",
           "#bcc4fe",
           "#c5f3cf",
           "#bc96ec",
           "#fedea9",
           "#ccc8fe",
           "#a6f09d",
           "#d6b3c7",
           "#efee98",
           "#f99c8d",
           "#9af08e",
           "#df8ba4",
           "#e6bbab",
           "#bac8bf",
           "#eae0ac",
           "#fcbaf0",
           "#eafbf4",
           "#eef4c7",
           "#96ebb5",
           "#a5c8fe",
           "#c5f3cf",
           "#bc96ec",
           "#fedea9",
           "#ccc8fe",
           "#a6f09d",
           "#efee98",
           "#f99c8d",
           "#9af08e",
           "#df8ba4",
           "#e6bbab",
           "#bac8bf",
           "#eae0ac",
           "#fcbaf0",
           "#eafbf4",
           "#eef4c7",
           "#96ebb5",
           "#a5c8fe",
           "#bcc4fe",
           "#c5f3cf",
           "#bc96ec",
           "#fedea9",
           "#ccc8fe",
           "#a6f09d",
           "#d6b3c7",
           "#efee98",
           "#f99c8d",
           "#9af08e",
           "#df8ba4",
           "#e6bbab",
           "#bac8bf",
           "#eae0ac",
           "#fcbaf0",
           "#eafbf4",
           "#eef4c7",
           "#96ebb5",
           "#a5c8fe",
           "#bcc4fe",
           "#c5f3cf",
           "#bc96ec",
           "#fedea9",
           "#ccc8fe",
           "#a6f09d",
           "#d6b3c7",
           "#efee98",
           "#f99c8d",
           "#9af08e",
           "#df8ba4",
           "#e6bbab",
           "#bac8bf",
           "#eae0ac",
           "#fcbaf0",
           "#eafbf4",
           "#eef4c7",
           "#96ebb5",
           "#a5c8fe",
           "#c5f3cf",
           "#bc96ec",
           "#fedea9",
           "#ccc8fe",
           "#a6f09d",
           "#d6b3c7",
           "#efee98",
           "#f99c8d",
           "#9af08e",
           "#df8ba4",
           "#e6bbab",
           "#bac8bf",
           "#eae0ac",
           "#fcbaf0",
           "#eafbf4",
           "#eef4c7",
           "#96ebb5",
           "#a5c8fe",
           "#c5f3cf",
           "#bc96ec",
           "#fedea9",
           "#ccc8fe",
           "#a6f09d",
           "#d6b3c7",
           "#efee98",
           "#f99c8d",
           "#9af08e",
           "#df8ba4",
           "#e6bbab",
           "#bac8bf",
           "#eae0ac",
           "#fcbaf0",
           "#eafbf4",
           "#eef4c7",
           "#96ebb5",
           "#a5c8fe",
           "#c5f3cf",
           "#bc96ec",
           "#fedea9",
           "#ccc8fe",
           "#a6f09d",
           "#d6b3c7",
           "#efee98",
           "#f99c8d",
           "#9af08e",
           "#df8ba4",
           "#e6bbab",
           "#bac8bf",
           "#eae0ac",
           "#fcbaf0",
           "#eafbf4",
           "#eef4c7",
           "#96ebb5",
           "#a5c8fe",
           "#c5f3cf",
           "#bc96ec",
           "#fedea9",
           "#ccc8fe",
           "#a6f09d",
           "#d6b3c7",
           "#efee98",
           "#f99c8d",
           "#9af08e",
           "#df8ba4",
           "#e6bbab",
           "#bac8bf",
           "#eae0ac",
           "#fcbaf0",
           "#eafbf4",
           "#eef4c7",
           "#96ebb5",
           "#a5c8fe",
           "#c5f3cf",
           "#bc96ec",
           "#fedea9",
           "#ccc8fe",
           "#a6f09d",
           "#d6b3c7",
           "#efee98",
           "#f99c8d",
           "#9af08e",
           "#df8ba4",
           "#e6bbab",
           "#bac8bf",
           "#eae0ac",
           "#fcbaf0",
           "#eafbf4",
           "#eef4c7",
           "#96ebb5",
           "#a5c8fe",
           "#bcc4fe",
           "#c5f3cf",
           "#bc96ec",
           "#fedea9",
           "#ccc8fe",
           "#a6f09d",
           "#d6b3c7",
           "#efee98",
           "#f99c8d",
           "#9af08e",
           "#df8ba4",
           "#e6bbab",
           "#bac8bf",
           "#eae0ac",
           "#fcbaf0",
           "#eafbf4",
           "#eef4c7",
           "#96ebb5",
           "#a5c8fe",
           "#bcc4fe",
           "#c5f3cf",
           "#bc96ec",
           "#fedea9",
           "#ccc8fe",
           "#a6f09d",
           "#d6b3c7",
           "#efee98",
           "#f99c8d",
           "#9af08e",
           "#df8ba4",
           "#e6bbab",
           "#bac8bf",
           "#eae0ac",
           "#fcbaf0",
           "#eafbf4",
           "#eef4c7",
           "#96ebb5",
           "#a5c8fe",
           "#bcc4fe",
           "#c5f3cf",
           "#bc96ec",
           "#fedea9",
           "#ccc8fe",
           "#a6f09d",
           "#d6b3c7",
           "#efee98",
           "#f99c8d",
           "#9af08e",
           "#df8ba4",
           "#e6bbab",
           "#bac8bf",
           "#eae0ac",
           "#fcbaf0",
           "#eafbf4",
           "#eef4c7",
           "#96ebb5",
           "#a5c8fe",
           "#c5f3cf",
           "#bc96ec",
           "#fedea9",
           "#ccc8fe",
           "#a6f09d",
           "#d6b3c7",
           "#efee98",
           "#f99c8d",
           "#9af08e",
           "#df8ba4",
           "#e6bbab",
           "#bac8bf",
           "#eae0ac",
           "#fcbaf0",
           "#eafbf4",
           "#eef4c7",
           "#96ebb5",
           "#a5c8fe",
           "#c5f3cf",
           "#bc96ec",
           "#fedea9",
           "#ccc8fe",
           "#a6f09d",
           "#d6b3c7",
           "#efee98",
           "#f99c8d",
           "#9af08e",
           "#df8ba4",
           "#e6bbab",
           "#bac8bf",
           "#eae0ac",
           "#fcbaf0",
           "#eafbf4",
           "#eef4c7",
           "#96ebb5",
           "#a5c8fe",
           "#c5f3cf",
           "#bc96ec",
           "#fedea9",
           "#ccc8fe",
           "#a6f09d",
           "#d6b3c7",
           "#efee98",
           "#f99c8d",
           "#9af08e",
           "#df8ba4",
           "#e6bbab",
           "#bac8bf",
           "#eae0ac",
           "#fcbaf0",
           "#eafbf4",
           "#eef4c7",
           "#96ebb5",
           "#a5c8fe",
           "#c5f3cf",
           "#bc96ec",
           "#fedea9",
           "#ccc8fe",
           "#a6f09d",
           "#d6b3c7",
           "#efee98",
           "#f99c8d",
           "#9af08e",
           "#df8ba4",
           "#e6bbab",
           "#bac8bf",
           "#eae0ac",
           "#fcbaf0",
           "#eafbf4",
           "#eef4c7",
           "#96ebb5",
           "#a5c8fe",
           "#c5f3cf",
           "#bc96ec",
           "#fedea9",
           "#ccc8fe",
           "#a6f09d",
           "#d6b3c7",
           "#efee98",
           "#f99c8d",
           "#9af08e",
           "#df8ba4",
           "#e6bbab",
           "#bac8bf",
           "#eae0ac",
           "#fcbaf0",
           "#eafbf4",
           "#eef4c7",
           "#96ebb5",
           "#a5c8fe",
           "#c5f3cf",
           "#bc96ec",
           "#fedea9",
           "#ccc8fe",
           "#a6f09d",
           "#d6b3c7",
           "#efee98",
           "#f99c8d",
           "#9af08e",
           "#df8ba4",
           "#e6bbab",
           "#bac8bf",
           "#eae0ac",
           "#fcbaf0",
           "#eafbf4",
           "#eef4c7",
           "#96ebb5",
           "#a5c8fe",
           "#c5f3cf",
           "#bc96ec",
           "#fedea9",
           "#ccc8fe",
           "#a6f09d",
           "#d6b3c7",
           "#efee98",
           "#f99c8d",
           "#9af08e",
           "#df8ba4",
           "#e6bbab",
           "#bac8bf",
           "#eae0ac",
           "#fcbaf0",
           "#eafbf4",
           "#eef4c7",
           "#96ebb5",
           "#a5c8fe",
           "#bcc4fe",
           "#c5f3cf",
           "#bc96ec",
           "#fedea9",
           "#ccc8fe",
           "#a6f09d",
           "#d6b3c7",
           "#efee98",
           "#f99c8d",
           "#9af08e",
           "#df8ba4",
           "#e6bbab",
           "#bac8bf",
           "#eae0ac",
           "#fcbaf0",
           "#eafbf4",
           "#eef4c7",
           "#96ebb5",
           "#a5c8fe",
           "#c5f3cf",
           "#bc96ec",
           "#fedea9",
           "#ccc8fe",
           "#a6f09d",
           "#d6b3c7",
           "#efee98",
           "#f99c8d",
           "#9af08e",
           "#df8ba4",
           "#e6bbab",
           "#bac8bf",
           "#eae0ac",
           "#fcbaf0",
           "#eafbf4",
           "#eef4c7",
           "#96ebb5",
           "#a5c8fe",
           "#bcc4fe",
           "#c5f3cf",
           "#bc96ec",
           "#fedea9",
           "#ccc8fe",
           "#a6f09d",
           "#d6b3c7",
           "#efee98",
           "#f99c8d",
           "#9af08e",
           "#df8ba4",
           "#e6bbab",
           "#bac8bf",
           "#eae0ac",
           "#fcbaf0",
           "#eafbf4",
           "#eef4c7",
           "#96ebb5",
           "#a5c8fe",
           "#c5f3cf",
           "#bc96ec",
           "#fedea9",
           "#ccc8fe",
           "#a6f09d",
           "#d6b3c7",
           "#efee98",
           "#f99c8d",
           "#9af08e",
           "#df8ba4",
           "#e6bbab",
           "#bac8bf",
           "#eae0ac",
           "#fcbaf0",
           "#eafbf4",
           "#eef4c7",
           "#96ebb5",
           "#a5c8fe",
           "#bcc4fe",
           "#c5f3cf",
           "#bc96ec",
           "#fedea9",
           "#ccc8fe",
           "#a6f09d",
           "#d6b3c7",
           "#efee98",
           "#f99c8d",
           "#9af08e",
           "#df8ba4",
           "#e6bbab",
           "#bac8bf",
           "#eae0ac",
           "#fcbaf0",
           "#eafbf4",
           "#eef4c7",
           "#96ebb5",
           "#a5c8fe",
           "#bcc4fe",
           "#c5f3cf",
           "#bc96ec",
           "#fedea9",
           "#ccc8fe",
           "#a6f09d",
           "#d6b3c7",
           "#efee98",
           "#f99c8d",
           "#9af08e",
           "#df8ba4",
           "#e6bbab",
           "#bac8bf",
           "#eae0ac",
           "#fcbaf0",
           "#eafbf4",
           "#eef4c7",
           "#96ebb5",
           "#a5c8fe",
           "#bcc4fe",
           "#c5f3cf",
           "#bc96ec",
           "#fedea9",
           "#ccc8fe",
           "#a6f09d",
           "#efee98",
           "#f99c8d",
           "#9af08e",
           "#df8ba4",
           "#e6bbab",
           "#bac8bf",
           "#eae0ac",
           "#fcbaf0",
           "#eafbf4",
           "#eef4c7",
           "#96ebb5",
           "#a5c8fe",
           "#c5f3cf",
           "#bc96ec",
           "#fedea9",
           "#ccc8fe",
           "#a6f09d",
           "#d6b3c7",
           "#efee98",
           "#f99c8d",
           "#9af08e",
           "#df8ba4",
           "#e6bbab",
           "#bac8bf",
           "#eae0ac",
           "#fcbaf0",
           "#eafbf4",
           "#eef4c7",
           "#96ebb5",
           "#a5c8fe",
           "#bcc4fe",
           "#c5f3cf",
           "#bc96ec",
           "#fedea9",
           "#ccc8fe",
           "#a6f09d",
           "#efee98",
           "#f99c8d",
           "#9af08e",
           "#df8ba4",
           "#e6bbab",
           "#bac8bf",
           "#eae0ac",
           "#fcbaf0",
           "#eafbf4",
           "#eef4c7"
          ]
         },
         "textfont": {
          "size": 50
         },
         "textinfo": "percent+label",
         "textposition": "inside",
         "type": "pie",
         "values": [
          2.2916006506579545,
          7.880285879687106e-9,
          4.773417190931183e-8,
          3.478937502302549e-8,
          5.525364472582075e-8,
          0.000001466980502103974,
          8.872568839280823e-9,
          25.54611333639396,
          3.8819876553500224e-8,
          2.601024461928512e-8,
          3.574804541795428e-8,
          4.6274920107268494e-8,
          7.939915305236978e-8,
          57.36518435549473,
          7.42536451760065,
          0.490788992096851,
          4.2245832662654863e-7,
          0.0000013506724099790553,
          1.4808769450137078,
          8.240603831817517e-9,
          4.957189694791137e-8,
          3.6511975485738076e-8,
          5.863308930881133e-8,
          0.0000034659838783335147,
          9.546763132969307e-9,
          16.5083955641804,
          4.0497148018070544e-8,
          2.6781326513038606e-8,
          3.7610945528384364e-8,
          4.922444777531971e-8,
          9.096028723873605e-8,
          35.914673723118035,
          5.441877663848535,
          7.4766034044403575,
          4.863255147175758e-7,
          8.846887432931259e-7,
          0.41748169844778266,
          8.077689396854755e-9,
          7.263239401577689e-9,
          5.1860867274689685e-8,
          3.629213689902334e-8,
          5.6750203010465294e-8,
          7.309357529994315e-7,
          9.216090389320834e-9,
          4.653967141397389,
          3.9529612126786683e-8,
          2.6405770831752755e-8,
          3.6757026013608045e-8,
          4.780595278111477e-8,
          8.501084830895313e-8,
          5.403392566790306,
          10.070005678742866,
          0.000016219158708510582,
          3.628118769067762e-7,
          5.375836823555941e-7,
          0.4647462543343191,
          7.956760801183501e-9,
          4.808054980811538e-8,
          3.5712741343884203e-8,
          5.608569608411151e-8,
          0.0000026609405559169166,
          8.818878699472593e-9,
          3.9875392130032254e-8,
          2.652871230698921e-8,
          3.698055870242739e-8,
          4.8069378070828696e-8,
          8.746775977668723e-8,
          14.31870587977889,
          4.755284876525241,
          6.247691108682408,
          5.344965090128488e-7,
          0.0000010520232969120938,
          3.184120941914839,
          7.950203358953938e-9,
          7.13279126702009e-9,
          4.9023740156035035e-8,
          3.862390344457465e-8,
          5.857260304442436e-8,
          0.000004713261637289015,
          9.519592439719414e-9,
          35.49567634695977,
          4.0246728187983546e-8,
          2.671780768814654e-8,
          3.7319706247217906e-8,
          4.871311301981092e-8,
          8.901420348929937e-8,
          38.50682216968516,
          9.739435703907995,
          2.7756487228126576,
          5.067561050391246e-7,
          0.000001018121473718629,
          20.203995467109056,
          7.996573074703146e-9,
          7.218097629653709e-9,
          4.618657877937344e-8,
          3.179927212337505e-8,
          5.2503516455724805e-8,
          0.0000012717890205586411,
          8.890972820410107e-9,
          225.2284077873478,
          3.734991362880482e-8,
          2.5372463457663336e-8,
          3.382658734894217e-8,
          4.322550729429229e-8,
          7.411790456568193e-8,
          410.2865581569046,
          50.96039298803053,
          9.440910902317229e-7,
          2.785471668289065e-7,
          9.376286638445665e-7,
          4.6439968458750265,
          7.937795881026948e-9,
          4.807501495524747e-8,
          3.596414314542834e-8,
          5.688898373640261e-8,
          0.0000014306818545147455,
          9.205553601953435e-9,
          27.835919369722337,
          3.991172750312095e-8,
          2.66170715890958e-8,
          3.7183341992822063e-8,
          4.852721193455125e-8,
          8.161186159406877e-8,
          22.904238335868506,
          5.7215998075998,
          3.180431292391152,
          4.024465062004795e-7,
          7.06037278871368e-7,
          0.3136091653926148,
          8.042232433813123e-9,
          4.7948011509267515e-8,
          3.616825664184994e-8,
          5.697386083924145e-8,
          0.000001104301836678161,
          9.282947083407778e-9,
          3.496025568117342,
          4.0069845742244424e-8,
          2.6796932987612335e-8,
          3.7828425703227247e-8,
          4.913256803803438e-8,
          8.627414131821285e-8,
          1.104396872015117,
          1.856337511471366,
          0.0000018938321475017656,
          4.3957597261445424e-7,
          5.3738175519363525,
          1.5960946475421867,
          8.234420569147149e-9,
          4.89053065708942e-8,
          3.7157373306699225e-8,
          5.695370625387803e-8,
          0.0000012507930680399075,
          9.590478461878608e-9,
          17.792809677008783,
          3.8195566147542036e-8,
          2.5768249567596655e-8,
          3.498926655285849e-8,
          4.509569055690448e-8,
          7.923302446743832e-8,
          73.39430893307382,
          56.35141307765566,
          2.0674268741825648,
          2.610096030967611e-7,
          3.8356533072272317e-7,
          4.4068998890926405,
          7.961908232429738e-9,
          4.890368257075026e-8,
          3.637856826017257e-8,
          5.822679506400167e-8,
          0.0000025968927581507205,
          9.213924284820853e-9,
          49.1268690374823,
          4.041527748798258e-8,
          2.6786699098130656e-8,
          3.752958848695294e-8,
          4.896971296741269e-8,
          8.972467206532718e-8,
          15.155876013857,
          5.162154961646849,
          1.5320555937940712,
          7.833895087660757e-7,
          48.002987167573615,
          7.489230512780667,
          8.09570499149673e-9,
          4.8028453063349753e-8,
          3.330870618748374e-8,
          5.343212498925666e-8,
          9.292244332931574e-7,
          9.310060516635939e-9,
          83.48781617178437,
          3.770342808520074e-8,
          2.554373010644822e-8,
          3.428001274739965e-8,
          4.397175907058692e-8,
          7.55700890182966e-8,
          232.12454317952677,
          64.03107405361449,
          7.783453337348005e-7,
          2.7363935366029944e-7,
          3.990964387340861e-7,
          0.005131091551450315,
          8.08478939780604e-9,
          7.275416632289365e-9,
          4.825013858705059e-8,
          3.613912938839856e-8,
          5.668099077787107e-8,
          0.0000028583714435809412,
          9.008814688018527e-9,
          0.057199640047768986,
          3.988414059301334e-8,
          2.6584636294156853e-8,
          3.7036358026974416e-8,
          4.829837686579934e-8,
          8.666598460584267e-8,
          3.1041498986569698,
          15.969620833909168,
          0.5223607804104888,
          2.997499223500145e-7,
          4.455813286737534e-7,
          0.1827263802576193,
          7.62851709413338e-9,
          6.838680756730389e-9,
          4.7884537471724013e-8,
          3.624378214599881e-8,
          5.6769414525642624e-8,
          0.0000019906326443439618,
          8.730891870255641e-9,
          1.3985047580041847,
          4.017114108375316e-8,
          2.6760364754784925e-8,
          3.7558460368078504e-8,
          4.895976521726942e-8,
          8.730053295934357e-8,
          6.6223853496515925,
          3.4075284493475544,
          0.0000011061889203580878,
          3.175019921563838e-7,
          4.70681465805543e-7,
          1.2276503160324603,
          7.891959453404518e-9,
          7.149918561731823e-9,
          4.809367685260511e-8,
          3.5187008056227396e-8,
          5.545136253021368e-8,
          0.000001369543848548389,
          8.817344416938916e-9,
          13.68549687202282,
          3.900264228647526e-8,
          2.6087348263902722e-8,
          3.5986143016387e-8,
          4.6685344678670235e-8,
          8.493633104883149e-8,
          31.58899869705017,
          11.265194316736826,
          0.0000022259686211559552,
          3.498960547941773e-7,
          6.176304970477882e-7,
          0.0986865537011568,
          8.50793123414692e-9,
          5.278285711778096e-8,
          4.188393479299589e-8,
          6.403177826322996e-8,
          0.00000227879122881629,
          1.0016954781520307e-8,
          0.8603662568127924,
          4.125883226519505e-8,
          2.6616740693484915e-8,
          3.895583400445127e-8,
          5.119094853686536e-8,
          9.33362716538151e-8,
          10.238161225051465,
          8.366251374035816,
          2.423577641312898,
          4.828592122627508e-7,
          8.254735273785036e-7,
          5.6854705902943925,
          8.176630654407417e-9,
          5.761230374023702e-8,
          3.4499170668936936e-8,
          5.547627072557952e-8,
          0.000001524806298819415,
          9.331069542465974e-9,
          63.38001239922229,
          3.746878354309773e-8,
          2.5388343661525653e-8,
          3.4354500490998614e-8,
          4.394324965779527e-8,
          7.723618757474163e-8,
          176.65373041521283,
          40.66151051705194,
          4.304576424111843,
          2.626522411976275e-7,
          3.9125806352375614e-7,
          0.4296756041255998,
          8.060498979309729e-9,
          4.888450009558948e-8,
          3.9545259689573825e-8,
          5.914087228201341e-8,
          7.209832685964957e-7,
          9.792189443363051e-9,
          4.416590499157245,
          3.996583008298175e-8,
          2.679553510034438e-8,
          3.766337868081684e-8,
          4.903094454530553e-8,
          8.547018907118888e-8,
          2.990477811469607,
          5.263862719023463,
          0.13522776906249334,
          4.5709184630232353e-7,
          1.907827343574895,
          0.2066752093917279,
          8.34985377056757e-9,
          4.932400930990756e-8,
          3.782275505881817e-8,
          5.8405219774370556e-8,
          0.000003236444387739656,
          8.959827186912755e-9,
          2.3039562355420293,
          4.120836640340541e-8,
          2.7212441503461164e-8,
          3.866297139269482e-8,
          5.047419505310208e-8,
          9.282291643467577e-8,
          3.466172818496533,
          0.35600923474809515,
          0.6177623204008201,
          5.385300260141682e-7,
          9.811825086111706e-7,
          0.9698522457752822,
          8.149058994719618e-9,
          4.973763903044209e-8,
          3.9803153112615924e-8,
          5.981852656444205e-8,
          0.0000012278005337213083,
          9.494094097298758e-9,
          10.811637199062826,
          4.045750971212134e-8,
          2.6961502051335772e-8,
          3.786331438717717e-8,
          4.958218171185102e-8,
          8.772275759641015e-8,
          4.543786384708767,
          3.4583866585537164,
          0.0000018483639531881471,
          4.6099720091309444e-7,
          3.7908044861721946,
          3.515564869720775,
          8.012205748205418e-9,
          4.883034458589059e-8,
          3.903664881651827e-8,
          5.707597171191625e-8,
          0.000003120444248282501,
          9.404104720490241e-9,
          29.406907193066537,
          3.975371832291685e-8,
          2.642405490229168e-8,
          3.695022933766429e-8,
          4.809266020072006e-8,
          8.783907766134485e-8,
          41.01916738219289,
          8.086528535244359,
          3.5112083187995884,
          4.2155726067057347e-7,
          7.048318765480479e-7,
          0.11833097683898015,
          8.038091863404411e-9,
          4.8100585990157704e-8,
          3.902090598245991e-8,
          5.638747443187634e-8,
          7.28609674562909e-7,
          9.551428477765246e-9,
          0.9381947055530431,
          3.99107713518566e-8,
          2.6066255980226974e-8,
          3.758185110212482e-8,
          4.865766746360164e-8,
          8.612053747820258e-8,
          0.000017480250086223952,
          3.051518466564582,
          4.994425921206103,
          5.505955842607344e-7,
          15.865148347888132,
          3.594159757658422,
          7.93841433994687e-9,
          7.2142846303172976e-9,
          5.164023088226081e-8,
          3.8064276407900843e-8,
          5.7862600551352815e-8,
          0.000004086043776454081,
          9.671108611252415e-9,
          36.961237610829855,
          3.939591700364002e-8,
          2.6309308705736142e-8,
          3.633314839300456e-8,
          4.6968979330278705e-8,
          8.442443287975949e-8,
          74.24887898378991,
          34.1770313874988,
          10.462428546330147,
          4.742531572571334e-7,
          9.903447699568092e-7,
          0.9293621721258156,
          8.10090798428465e-9,
          4.822708438665449e-8,
          3.631810719575262e-8,
          5.6638717495211275e-8,
          0.0000016268708619557455,
          9.226937385557553e-9,
          10.360265423840533,
          4.010243104923475e-8,
          2.6706271676037643e-8,
          3.7530652194960953e-8,
          4.895172813206236e-8,
          8.732908485244094e-8,
          7.219871931277811,
          8.925694688108551,
          0.155631493620489,
          2.860335612408942e-7,
          4.204202562181711e-7,
          0.9472817401438226,
          7.733949984248867e-9,
          7.085195917052625e-9,
          4.7121142471580625e-8,
          3.853783206745545e-8,
          5.631981358993616e-8,
          0.000001248307827855771,
          8.852486003948393e-9,
          7.225654681381527,
          3.968132786076126e-8,
          2.6543581734419243e-8,
          3.6983017917520346e-8,
          4.8092234406813004e-8,
          8.556866503754347e-8,
          17.800841007119956,
          28.27742234237121,
          0.0000015092296678867669,
          3.643265220912643e-7,
          5.668249058385886e-7,
          2.6945722631957043,
          8.005717675957736e-9,
          5.00733817274778e-8,
          3.9875155454704555e-8,
          6.022010398323191e-8,
          0.0000025193766432130026,
          9.41231647211688e-9,
          27.917835202092437,
          4.028713361158229e-8,
          2.614982348424436e-8,
          3.7723362964340594e-8,
          4.885786510970359e-8,
          8.892387178653765e-8,
          26.321432731517312,
          7.628800796017917,
          8.795912374517552,
          6.285702154386123e-7,
          37.539730241552746,
          0.14868725843353617,
          8.16241394527965e-9,
          7.295244637510251e-9,
          4.920510958754948e-8,
          3.710737140383823e-8,
          5.8877674975317915e-8,
          0.00000378509769398248,
          9.32490381952131e-9,
          1.6539095608723144,
          4.1301381194705345e-8,
          2.729193199662361e-8,
          3.849593388077542e-8,
          5.0505444190526956e-8,
          9.155265344145979e-8,
          4.670647385316448,
          1.3731828217821465,
          0.000004951718484024515,
          4.5506026254960744e-7,
          7.938780273981787e-7,
          0.7571482026367895,
          7.911132251410433e-9,
          7.230545362215455e-9,
          4.925714267009274e-8,
          3.97034395179138e-8,
          5.9178047395132883e-8,
          0.0000017448090519598354,
          9.46336872591615e-9,
          7.288952607596475,
          4.0204932938821666e-8,
          2.6785059037056944e-8,
          3.787155212750892e-8,
          4.9277275186300566e-8,
          8.793088278981606e-8,
          16.540732054933926,
          4.653565246326739,
          0.997431991563793,
          4.12147956768675e-7,
          0.000004506812520128103,
          8.22614696835402,
          7.979250317876784e-9,
          7.364456850370602e-9,
          4.763810065472404e-8,
          3.3057258817894735e-8,
          5.4096495911063806e-8,
          0.000005721013019620378,
          9.261709257067039e-9,
          3.8365227652748824e-8,
          2.5796638108156843e-8,
          3.464365601641099e-8,
          4.4368835383748855e-8,
          7.877129051540796e-8,
          252.20380181554452,
          13.915110858673511,
          80.5834224829309,
          3.1724167989368085e-7,
          4.900327147696061e-7,
          6.753283853615361,
          7.989460572569499e-9,
          4.855208636642472e-8,
          3.4410538327173425e-8,
          5.6166532809453224e-8,
          0.000002612939641626542,
          9.139533242447554e-9,
          63.12271766133144,
          3.9091624269101305e-8,
          2.617362322489054e-8,
          3.5687900929528937e-8,
          4.5908344556428126e-8,
          8.160646057608897e-8,
          223.44282561887852,
          45.594804808705355,
          35.777273573569516,
          4.0848761203789503e-7,
          7.212074624000808e-7,
          1.157606254758577,
          8.041930260273574e-9,
          7.193048531506204e-9,
          4.833636418684861e-8,
          3.616400856845147e-8,
          5.587975183893645e-8,
          0.0000019517116123669555,
          9.085383455653828e-9,
          4.0107746239610867e-8,
          2.6569075955629545e-8,
          3.698950648132344e-8,
          4.825699388931479e-8,
          8.920664283154136e-8,
          16.276558860411562,
          13.91511159177699,
          3.925558852876848,
          4.5678156401608415e-7,
          8.047410592712874e-7
         ]
        }
       ],
       "layout": {
        "height": 800,
        "template": {
         "data": {
          "bar": [
           {
            "error_x": {
             "color": "#2a3f5f"
            },
            "error_y": {
             "color": "#2a3f5f"
            },
            "marker": {
             "line": {
              "color": "#E5ECF6",
              "width": 0.5
             },
             "pattern": {
              "fillmode": "overlay",
              "size": 10,
              "solidity": 0.2
             }
            },
            "type": "bar"
           }
          ],
          "barpolar": [
           {
            "marker": {
             "line": {
              "color": "#E5ECF6",
              "width": 0.5
             },
             "pattern": {
              "fillmode": "overlay",
              "size": 10,
              "solidity": 0.2
             }
            },
            "type": "barpolar"
           }
          ],
          "carpet": [
           {
            "aaxis": {
             "endlinecolor": "#2a3f5f",
             "gridcolor": "white",
             "linecolor": "white",
             "minorgridcolor": "white",
             "startlinecolor": "#2a3f5f"
            },
            "baxis": {
             "endlinecolor": "#2a3f5f",
             "gridcolor": "white",
             "linecolor": "white",
             "minorgridcolor": "white",
             "startlinecolor": "#2a3f5f"
            },
            "type": "carpet"
           }
          ],
          "choropleth": [
           {
            "colorbar": {
             "outlinewidth": 0,
             "ticks": ""
            },
            "type": "choropleth"
           }
          ],
          "contour": [
           {
            "colorbar": {
             "outlinewidth": 0,
             "ticks": ""
            },
            "colorscale": [
             [
              0,
              "#0d0887"
             ],
             [
              0.1111111111111111,
              "#46039f"
             ],
             [
              0.2222222222222222,
              "#7201a8"
             ],
             [
              0.3333333333333333,
              "#9c179e"
             ],
             [
              0.4444444444444444,
              "#bd3786"
             ],
             [
              0.5555555555555556,
              "#d8576b"
             ],
             [
              0.6666666666666666,
              "#ed7953"
             ],
             [
              0.7777777777777778,
              "#fb9f3a"
             ],
             [
              0.8888888888888888,
              "#fdca26"
             ],
             [
              1,
              "#f0f921"
             ]
            ],
            "type": "contour"
           }
          ],
          "contourcarpet": [
           {
            "colorbar": {
             "outlinewidth": 0,
             "ticks": ""
            },
            "type": "contourcarpet"
           }
          ],
          "heatmap": [
           {
            "colorbar": {
             "outlinewidth": 0,
             "ticks": ""
            },
            "colorscale": [
             [
              0,
              "#0d0887"
             ],
             [
              0.1111111111111111,
              "#46039f"
             ],
             [
              0.2222222222222222,
              "#7201a8"
             ],
             [
              0.3333333333333333,
              "#9c179e"
             ],
             [
              0.4444444444444444,
              "#bd3786"
             ],
             [
              0.5555555555555556,
              "#d8576b"
             ],
             [
              0.6666666666666666,
              "#ed7953"
             ],
             [
              0.7777777777777778,
              "#fb9f3a"
             ],
             [
              0.8888888888888888,
              "#fdca26"
             ],
             [
              1,
              "#f0f921"
             ]
            ],
            "type": "heatmap"
           }
          ],
          "heatmapgl": [
           {
            "colorbar": {
             "outlinewidth": 0,
             "ticks": ""
            },
            "colorscale": [
             [
              0,
              "#0d0887"
             ],
             [
              0.1111111111111111,
              "#46039f"
             ],
             [
              0.2222222222222222,
              "#7201a8"
             ],
             [
              0.3333333333333333,
              "#9c179e"
             ],
             [
              0.4444444444444444,
              "#bd3786"
             ],
             [
              0.5555555555555556,
              "#d8576b"
             ],
             [
              0.6666666666666666,
              "#ed7953"
             ],
             [
              0.7777777777777778,
              "#fb9f3a"
             ],
             [
              0.8888888888888888,
              "#fdca26"
             ],
             [
              1,
              "#f0f921"
             ]
            ],
            "type": "heatmapgl"
           }
          ],
          "histogram": [
           {
            "marker": {
             "pattern": {
              "fillmode": "overlay",
              "size": 10,
              "solidity": 0.2
             }
            },
            "type": "histogram"
           }
          ],
          "histogram2d": [
           {
            "colorbar": {
             "outlinewidth": 0,
             "ticks": ""
            },
            "colorscale": [
             [
              0,
              "#0d0887"
             ],
             [
              0.1111111111111111,
              "#46039f"
             ],
             [
              0.2222222222222222,
              "#7201a8"
             ],
             [
              0.3333333333333333,
              "#9c179e"
             ],
             [
              0.4444444444444444,
              "#bd3786"
             ],
             [
              0.5555555555555556,
              "#d8576b"
             ],
             [
              0.6666666666666666,
              "#ed7953"
             ],
             [
              0.7777777777777778,
              "#fb9f3a"
             ],
             [
              0.8888888888888888,
              "#fdca26"
             ],
             [
              1,
              "#f0f921"
             ]
            ],
            "type": "histogram2d"
           }
          ],
          "histogram2dcontour": [
           {
            "colorbar": {
             "outlinewidth": 0,
             "ticks": ""
            },
            "colorscale": [
             [
              0,
              "#0d0887"
             ],
             [
              0.1111111111111111,
              "#46039f"
             ],
             [
              0.2222222222222222,
              "#7201a8"
             ],
             [
              0.3333333333333333,
              "#9c179e"
             ],
             [
              0.4444444444444444,
              "#bd3786"
             ],
             [
              0.5555555555555556,
              "#d8576b"
             ],
             [
              0.6666666666666666,
              "#ed7953"
             ],
             [
              0.7777777777777778,
              "#fb9f3a"
             ],
             [
              0.8888888888888888,
              "#fdca26"
             ],
             [
              1,
              "#f0f921"
             ]
            ],
            "type": "histogram2dcontour"
           }
          ],
          "mesh3d": [
           {
            "colorbar": {
             "outlinewidth": 0,
             "ticks": ""
            },
            "type": "mesh3d"
           }
          ],
          "parcoords": [
           {
            "line": {
             "colorbar": {
              "outlinewidth": 0,
              "ticks": ""
             }
            },
            "type": "parcoords"
           }
          ],
          "pie": [
           {
            "automargin": true,
            "type": "pie"
           }
          ],
          "scatter": [
           {
            "fillpattern": {
             "fillmode": "overlay",
             "size": 10,
             "solidity": 0.2
            },
            "type": "scatter"
           }
          ],
          "scatter3d": [
           {
            "line": {
             "colorbar": {
              "outlinewidth": 0,
              "ticks": ""
             }
            },
            "marker": {
             "colorbar": {
              "outlinewidth": 0,
              "ticks": ""
             }
            },
            "type": "scatter3d"
           }
          ],
          "scattercarpet": [
           {
            "marker": {
             "colorbar": {
              "outlinewidth": 0,
              "ticks": ""
             }
            },
            "type": "scattercarpet"
           }
          ],
          "scattergeo": [
           {
            "marker": {
             "colorbar": {
              "outlinewidth": 0,
              "ticks": ""
             }
            },
            "type": "scattergeo"
           }
          ],
          "scattergl": [
           {
            "marker": {
             "colorbar": {
              "outlinewidth": 0,
              "ticks": ""
             }
            },
            "type": "scattergl"
           }
          ],
          "scattermapbox": [
           {
            "marker": {
             "colorbar": {
              "outlinewidth": 0,
              "ticks": ""
             }
            },
            "type": "scattermapbox"
           }
          ],
          "scatterpolar": [
           {
            "marker": {
             "colorbar": {
              "outlinewidth": 0,
              "ticks": ""
             }
            },
            "type": "scatterpolar"
           }
          ],
          "scatterpolargl": [
           {
            "marker": {
             "colorbar": {
              "outlinewidth": 0,
              "ticks": ""
             }
            },
            "type": "scatterpolargl"
           }
          ],
          "scatterternary": [
           {
            "marker": {
             "colorbar": {
              "outlinewidth": 0,
              "ticks": ""
             }
            },
            "type": "scatterternary"
           }
          ],
          "surface": [
           {
            "colorbar": {
             "outlinewidth": 0,
             "ticks": ""
            },
            "colorscale": [
             [
              0,
              "#0d0887"
             ],
             [
              0.1111111111111111,
              "#46039f"
             ],
             [
              0.2222222222222222,
              "#7201a8"
             ],
             [
              0.3333333333333333,
              "#9c179e"
             ],
             [
              0.4444444444444444,
              "#bd3786"
             ],
             [
              0.5555555555555556,
              "#d8576b"
             ],
             [
              0.6666666666666666,
              "#ed7953"
             ],
             [
              0.7777777777777778,
              "#fb9f3a"
             ],
             [
              0.8888888888888888,
              "#fdca26"
             ],
             [
              1,
              "#f0f921"
             ]
            ],
            "type": "surface"
           }
          ],
          "table": [
           {
            "cells": {
             "fill": {
              "color": "#EBF0F8"
             },
             "line": {
              "color": "white"
             }
            },
            "header": {
             "fill": {
              "color": "#C8D4E3"
             },
             "line": {
              "color": "white"
             }
            },
            "type": "table"
           }
          ]
         },
         "layout": {
          "annotationdefaults": {
           "arrowcolor": "#2a3f5f",
           "arrowhead": 0,
           "arrowwidth": 1
          },
          "autotypenumbers": "strict",
          "coloraxis": {
           "colorbar": {
            "outlinewidth": 0,
            "ticks": ""
           }
          },
          "colorscale": {
           "diverging": [
            [
             0,
             "#8e0152"
            ],
            [
             0.1,
             "#c51b7d"
            ],
            [
             0.2,
             "#de77ae"
            ],
            [
             0.3,
             "#f1b6da"
            ],
            [
             0.4,
             "#fde0ef"
            ],
            [
             0.5,
             "#f7f7f7"
            ],
            [
             0.6,
             "#e6f5d0"
            ],
            [
             0.7,
             "#b8e186"
            ],
            [
             0.8,
             "#7fbc41"
            ],
            [
             0.9,
             "#4d9221"
            ],
            [
             1,
             "#276419"
            ]
           ],
           "sequential": [
            [
             0,
             "#0d0887"
            ],
            [
             0.1111111111111111,
             "#46039f"
            ],
            [
             0.2222222222222222,
             "#7201a8"
            ],
            [
             0.3333333333333333,
             "#9c179e"
            ],
            [
             0.4444444444444444,
             "#bd3786"
            ],
            [
             0.5555555555555556,
             "#d8576b"
            ],
            [
             0.6666666666666666,
             "#ed7953"
            ],
            [
             0.7777777777777778,
             "#fb9f3a"
            ],
            [
             0.8888888888888888,
             "#fdca26"
            ],
            [
             1,
             "#f0f921"
            ]
           ],
           "sequentialminus": [
            [
             0,
             "#0d0887"
            ],
            [
             0.1111111111111111,
             "#46039f"
            ],
            [
             0.2222222222222222,
             "#7201a8"
            ],
            [
             0.3333333333333333,
             "#9c179e"
            ],
            [
             0.4444444444444444,
             "#bd3786"
            ],
            [
             0.5555555555555556,
             "#d8576b"
            ],
            [
             0.6666666666666666,
             "#ed7953"
            ],
            [
             0.7777777777777778,
             "#fb9f3a"
            ],
            [
             0.8888888888888888,
             "#fdca26"
            ],
            [
             1,
             "#f0f921"
            ]
           ]
          },
          "colorway": [
           "#636efa",
           "#EF553B",
           "#00cc96",
           "#ab63fa",
           "#FFA15A",
           "#19d3f3",
           "#FF6692",
           "#B6E880",
           "#FF97FF",
           "#FECB52"
          ],
          "font": {
           "color": "#2a3f5f"
          },
          "geo": {
           "bgcolor": "white",
           "lakecolor": "white",
           "landcolor": "#E5ECF6",
           "showlakes": true,
           "showland": true,
           "subunitcolor": "white"
          },
          "hoverlabel": {
           "align": "left"
          },
          "hovermode": "closest",
          "mapbox": {
           "style": "light"
          },
          "paper_bgcolor": "white",
          "plot_bgcolor": "#E5ECF6",
          "polar": {
           "angularaxis": {
            "gridcolor": "white",
            "linecolor": "white",
            "ticks": ""
           },
           "bgcolor": "#E5ECF6",
           "radialaxis": {
            "gridcolor": "white",
            "linecolor": "white",
            "ticks": ""
           }
          },
          "scene": {
           "xaxis": {
            "backgroundcolor": "#E5ECF6",
            "gridcolor": "white",
            "gridwidth": 2,
            "linecolor": "white",
            "showbackground": true,
            "ticks": "",
            "zerolinecolor": "white"
           },
           "yaxis": {
            "backgroundcolor": "#E5ECF6",
            "gridcolor": "white",
            "gridwidth": 2,
            "linecolor": "white",
            "showbackground": true,
            "ticks": "",
            "zerolinecolor": "white"
           },
           "zaxis": {
            "backgroundcolor": "#E5ECF6",
            "gridcolor": "white",
            "gridwidth": 2,
            "linecolor": "white",
            "showbackground": true,
            "ticks": "",
            "zerolinecolor": "white"
           }
          },
          "shapedefaults": {
           "line": {
            "color": "#2a3f5f"
           }
          },
          "ternary": {
           "aaxis": {
            "gridcolor": "white",
            "linecolor": "white",
            "ticks": ""
           },
           "baxis": {
            "gridcolor": "white",
            "linecolor": "white",
            "ticks": ""
           },
           "bgcolor": "#E5ECF6",
           "caxis": {
            "gridcolor": "white",
            "linecolor": "white",
            "ticks": ""
           }
          },
          "title": {
           "x": 0.05
          },
          "xaxis": {
           "automargin": true,
           "gridcolor": "white",
           "linecolor": "white",
           "ticks": "",
           "title": {
            "standoff": 15
           },
           "zerolinecolor": "white",
           "zerolinewidth": 2
          },
          "yaxis": {
           "automargin": true,
           "gridcolor": "white",
           "linecolor": "white",
           "ticks": "",
           "title": {
            "standoff": 15
           },
           "zerolinecolor": "white",
           "zerolinewidth": 2
          }
         }
        },
        "title": {
         "text": "Energy Production 2050"
        },
        "width": 900
       }
      }
     },
     "metadata": {},
     "output_type": "display_data"
    },
    {
     "name": "stdout",
     "output_type": "stream",
     "text": [
      "Converting from PetaJoules to TerraWattHours\n"
     ]
    },
    {
     "data": {
      "application/vnd.plotly.v1+json": {
       "config": {
        "plotlyServerURL": "https://plot.ly"
       },
       "data": [
        {
         "labels": [
          "CHP_Biomass_Solid",
          "CHP_Coal_Hardcoal",
          "CHP_Gas_CCGT_Biogas",
          "CHP_Gas_CCGT_Natural",
          "CHP_Gas_CCGT_SynGas",
          "CHP_Hydrogen_FuelCell",
          "CHP_Oil",
          "HHI_Bio_BF_BOF",
          "HLDH_Biomass_Boiler",
          "HLDH_Biomass_CHP",
          "HLDH_Coal_Boiler",
          "HLDH_Oil_Boiler",
          "HLDH_Gas_Boiler",
          "HLDH_Geothermal",
          "HLDH_Solar_Thermal",
          "HLDH_Electric_Boiler",
          "HLDH_Heatpump_Air",
          "HLDH_Heatpump_ExcessHeat",
          "CHP_Biomass_Solid",
          "CHP_Coal_Hardcoal",
          "CHP_Gas_CCGT_Biogas",
          "CHP_Gas_CCGT_Natural",
          "CHP_Gas_CCGT_SynGas",
          "CHP_Hydrogen_FuelCell",
          "CHP_Oil",
          "HHI_Bio_BF_BOF",
          "HLDH_Biomass_Boiler",
          "HLDH_Biomass_CHP",
          "HLDH_Coal_Boiler",
          "HLDH_Oil_Boiler",
          "HLDH_Gas_Boiler",
          "HLDH_Geothermal",
          "HLDH_Solar_Thermal",
          "HLDH_Electric_Boiler",
          "HLDH_Heatpump_Air",
          "HLDH_Heatpump_ExcessHeat",
          "CHP_Biomass_Solid",
          "CHP_Coal_Hardcoal",
          "CHP_Coal_Lignite",
          "CHP_Gas_CCGT_Biogas",
          "CHP_Gas_CCGT_Natural",
          "CHP_Gas_CCGT_SynGas",
          "CHP_Hydrogen_FuelCell",
          "CHP_Oil",
          "HHI_Bio_BF_BOF",
          "HLDH_Biomass_Boiler",
          "HLDH_Biomass_CHP",
          "HLDH_Coal_Boiler",
          "HLDH_Oil_Boiler",
          "HLDH_Gas_Boiler",
          "HLDH_Geothermal",
          "HLDH_Solar_Thermal",
          "HLDH_Electric_Boiler",
          "HLDH_Heatpump_Air",
          "HLDH_Heatpump_ExcessHeat",
          "CHP_Biomass_Solid",
          "CHP_Coal_Hardcoal",
          "CHP_Gas_CCGT_Biogas",
          "CHP_Gas_CCGT_Natural",
          "CHP_Gas_CCGT_SynGas",
          "CHP_Hydrogen_FuelCell",
          "CHP_Oil",
          "HLDH_Biomass_Boiler",
          "HLDH_Biomass_CHP",
          "HLDH_Coal_Boiler",
          "HLDH_Oil_Boiler",
          "HLDH_Gas_Boiler",
          "HLDH_Geothermal",
          "HLDH_Solar_Thermal",
          "HLDH_Electric_Boiler",
          "HLDH_Heatpump_Air",
          "HLDH_Heatpump_ExcessHeat",
          "CHP_Biomass_Solid",
          "CHP_Coal_Hardcoal",
          "CHP_Coal_Lignite",
          "CHP_Gas_CCGT_Biogas",
          "CHP_Gas_CCGT_Natural",
          "CHP_Gas_CCGT_SynGas",
          "CHP_Hydrogen_FuelCell",
          "CHP_Oil",
          "HHI_Bio_BF_BOF",
          "HLDH_Biomass_Boiler",
          "HLDH_Biomass_CHP",
          "HLDH_Coal_Boiler",
          "HLDH_Oil_Boiler",
          "HLDH_Gas_Boiler",
          "HLDH_Geothermal",
          "HLDH_Solar_Thermal",
          "HLDH_Electric_Boiler",
          "HLDH_Heatpump_Air",
          "HLDH_Heatpump_ExcessHeat",
          "CHP_Biomass_Solid",
          "CHP_Coal_Hardcoal",
          "CHP_Coal_Lignite",
          "CHP_Gas_CCGT_Biogas",
          "CHP_Gas_CCGT_Natural",
          "CHP_Gas_CCGT_SynGas",
          "CHP_Hydrogen_FuelCell",
          "CHP_Oil",
          "HHI_Bio_BF_BOF",
          "HLDH_Biomass_Boiler",
          "HLDH_Biomass_CHP",
          "HLDH_Coal_Boiler",
          "HLDH_Oil_Boiler",
          "HLDH_Gas_Boiler",
          "HLDH_Geothermal",
          "HLDH_Solar_Thermal",
          "HLDH_Electric_Boiler",
          "HLDH_Heatpump_Air",
          "HLDH_Heatpump_ExcessHeat",
          "CHP_Biomass_Solid",
          "CHP_Coal_Hardcoal",
          "CHP_Gas_CCGT_Biogas",
          "CHP_Gas_CCGT_Natural",
          "CHP_Gas_CCGT_SynGas",
          "CHP_Hydrogen_FuelCell",
          "CHP_Oil",
          "HHI_Bio_BF_BOF",
          "HLDH_Biomass_Boiler",
          "HLDH_Biomass_CHP",
          "HLDH_Coal_Boiler",
          "HLDH_Oil_Boiler",
          "HLDH_Gas_Boiler",
          "HLDH_Geothermal",
          "HLDH_Solar_Thermal",
          "HLDH_Electric_Boiler",
          "HLDH_Heatpump_Air",
          "HLDH_Heatpump_ExcessHeat",
          "CHP_Biomass_Solid",
          "CHP_Coal_Hardcoal",
          "CHP_Gas_CCGT_Biogas",
          "CHP_Gas_CCGT_Natural",
          "CHP_Gas_CCGT_SynGas",
          "CHP_Hydrogen_FuelCell",
          "CHP_Oil",
          "HHI_Bio_BF_BOF",
          "HLDH_Biomass_Boiler",
          "HLDH_Biomass_CHP",
          "HLDH_Coal_Boiler",
          "HLDH_Oil_Boiler",
          "HLDH_Gas_Boiler",
          "HLDH_Geothermal",
          "HLDH_Solar_Thermal",
          "HLDH_Electric_Boiler",
          "HLDH_Heatpump_Air",
          "HLDH_Heatpump_ExcessHeat",
          "CHP_Biomass_Solid",
          "CHP_Coal_Hardcoal",
          "CHP_Gas_CCGT_Biogas",
          "CHP_Gas_CCGT_Natural",
          "CHP_Gas_CCGT_SynGas",
          "CHP_Hydrogen_FuelCell",
          "CHP_Oil",
          "HHI_Bio_BF_BOF",
          "HLDH_Biomass_Boiler",
          "HLDH_Biomass_CHP",
          "HLDH_Coal_Boiler",
          "HLDH_Oil_Boiler",
          "HLDH_Gas_Boiler",
          "HLDH_Geothermal",
          "HLDH_Solar_Thermal",
          "HLDH_Electric_Boiler",
          "HLDH_Heatpump_Air",
          "HLDH_Heatpump_ExcessHeat",
          "CHP_Biomass_Solid",
          "CHP_Coal_Hardcoal",
          "CHP_Gas_CCGT_Biogas",
          "CHP_Gas_CCGT_Natural",
          "CHP_Gas_CCGT_SynGas",
          "CHP_Hydrogen_FuelCell",
          "CHP_Oil",
          "HHI_Bio_BF_BOF",
          "HLDH_Biomass_Boiler",
          "HLDH_Biomass_CHP",
          "HLDH_Coal_Boiler",
          "HLDH_Oil_Boiler",
          "HLDH_Gas_Boiler",
          "HLDH_Geothermal",
          "HLDH_Solar_Thermal",
          "HLDH_Electric_Boiler",
          "HLDH_Heatpump_Air",
          "HLDH_Heatpump_ExcessHeat",
          "CHP_Biomass_Solid",
          "CHP_Coal_Hardcoal",
          "CHP_Gas_CCGT_Biogas",
          "CHP_Gas_CCGT_Natural",
          "CHP_Gas_CCGT_SynGas",
          "CHP_Hydrogen_FuelCell",
          "CHP_Oil",
          "HHI_Bio_BF_BOF",
          "HLDH_Biomass_Boiler",
          "HLDH_Biomass_CHP",
          "HLDH_Coal_Boiler",
          "HLDH_Oil_Boiler",
          "HLDH_Gas_Boiler",
          "HLDH_Geothermal",
          "HLDH_Solar_Thermal",
          "HLDH_Electric_Boiler",
          "HLDH_Heatpump_Air",
          "HLDH_Heatpump_ExcessHeat",
          "CHP_Biomass_Solid",
          "CHP_Coal_Hardcoal",
          "CHP_Coal_Lignite",
          "CHP_Gas_CCGT_Biogas",
          "CHP_Gas_CCGT_Natural",
          "CHP_Gas_CCGT_SynGas",
          "CHP_Hydrogen_FuelCell",
          "CHP_Oil",
          "HHI_Bio_BF_BOF",
          "HLDH_Biomass_Boiler",
          "HLDH_Biomass_CHP",
          "HLDH_Coal_Boiler",
          "HLDH_Oil_Boiler",
          "HLDH_Gas_Boiler",
          "HLDH_Geothermal",
          "HLDH_Solar_Thermal",
          "HLDH_Electric_Boiler",
          "HLDH_Heatpump_Air",
          "HLDH_Heatpump_ExcessHeat",
          "CHP_Biomass_Solid",
          "CHP_Coal_Hardcoal",
          "CHP_Coal_Lignite",
          "CHP_Gas_CCGT_Biogas",
          "CHP_Gas_CCGT_Natural",
          "CHP_Gas_CCGT_SynGas",
          "CHP_Hydrogen_FuelCell",
          "CHP_Oil",
          "HHI_Bio_BF_BOF",
          "HLDH_Biomass_Boiler",
          "HLDH_Biomass_CHP",
          "HLDH_Coal_Boiler",
          "HLDH_Oil_Boiler",
          "HLDH_Gas_Boiler",
          "HLDH_Geothermal",
          "HLDH_Solar_Thermal",
          "HLDH_Electric_Boiler",
          "HLDH_Heatpump_Air",
          "HLDH_Heatpump_ExcessHeat",
          "CHP_Biomass_Solid",
          "CHP_Coal_Hardcoal",
          "CHP_Coal_Lignite",
          "CHP_Gas_CCGT_Biogas",
          "CHP_Gas_CCGT_Natural",
          "CHP_Gas_CCGT_SynGas",
          "CHP_Hydrogen_FuelCell",
          "CHP_Oil",
          "HHI_Bio_BF_BOF",
          "HLDH_Biomass_Boiler",
          "HLDH_Biomass_CHP",
          "HLDH_Coal_Boiler",
          "HLDH_Oil_Boiler",
          "HLDH_Gas_Boiler",
          "HLDH_Geothermal",
          "HLDH_Solar_Thermal",
          "HLDH_Electric_Boiler",
          "HLDH_Heatpump_Air",
          "HLDH_Heatpump_ExcessHeat",
          "CHP_Biomass_Solid",
          "CHP_Coal_Hardcoal",
          "CHP_Gas_CCGT_Biogas",
          "CHP_Gas_CCGT_Natural",
          "CHP_Gas_CCGT_SynGas",
          "CHP_Hydrogen_FuelCell",
          "CHP_Oil",
          "HHI_Bio_BF_BOF",
          "HLDH_Biomass_Boiler",
          "HLDH_Biomass_CHP",
          "HLDH_Coal_Boiler",
          "HLDH_Oil_Boiler",
          "HLDH_Gas_Boiler",
          "HLDH_Geothermal",
          "HLDH_Solar_Thermal",
          "HLDH_Electric_Boiler",
          "HLDH_Heatpump_Air",
          "HLDH_Heatpump_ExcessHeat",
          "CHP_Biomass_Solid",
          "CHP_Coal_Hardcoal",
          "CHP_Gas_CCGT_Biogas",
          "CHP_Gas_CCGT_Natural",
          "CHP_Gas_CCGT_SynGas",
          "CHP_Hydrogen_FuelCell",
          "CHP_Oil",
          "HHI_Bio_BF_BOF",
          "HLDH_Biomass_Boiler",
          "HLDH_Biomass_CHP",
          "HLDH_Coal_Boiler",
          "HLDH_Oil_Boiler",
          "HLDH_Gas_Boiler",
          "HLDH_Geothermal",
          "HLDH_Solar_Thermal",
          "HLDH_Electric_Boiler",
          "HLDH_Heatpump_Air",
          "HLDH_Heatpump_ExcessHeat",
          "CHP_Biomass_Solid",
          "CHP_Coal_Hardcoal",
          "CHP_Gas_CCGT_Biogas",
          "CHP_Gas_CCGT_Natural",
          "CHP_Gas_CCGT_SynGas",
          "CHP_Hydrogen_FuelCell",
          "CHP_Oil",
          "HHI_Bio_BF_BOF",
          "HLDH_Biomass_Boiler",
          "HLDH_Biomass_CHP",
          "HLDH_Coal_Boiler",
          "HLDH_Oil_Boiler",
          "HLDH_Gas_Boiler",
          "HLDH_Geothermal",
          "HLDH_Solar_Thermal",
          "HLDH_Electric_Boiler",
          "HLDH_Heatpump_Air",
          "HLDH_Heatpump_ExcessHeat",
          "CHP_Biomass_Solid",
          "CHP_Coal_Hardcoal",
          "CHP_Gas_CCGT_Biogas",
          "CHP_Gas_CCGT_Natural",
          "CHP_Gas_CCGT_SynGas",
          "CHP_Hydrogen_FuelCell",
          "CHP_Oil",
          "HHI_Bio_BF_BOF",
          "HLDH_Biomass_Boiler",
          "HLDH_Biomass_CHP",
          "HLDH_Coal_Boiler",
          "HLDH_Oil_Boiler",
          "HLDH_Gas_Boiler",
          "HLDH_Geothermal",
          "HLDH_Solar_Thermal",
          "HLDH_Electric_Boiler",
          "HLDH_Heatpump_Air",
          "HLDH_Heatpump_ExcessHeat",
          "CHP_Biomass_Solid",
          "CHP_Coal_Hardcoal",
          "CHP_Gas_CCGT_Biogas",
          "CHP_Gas_CCGT_Natural",
          "CHP_Gas_CCGT_SynGas",
          "CHP_Hydrogen_FuelCell",
          "CHP_Oil",
          "HHI_Bio_BF_BOF",
          "HLDH_Biomass_Boiler",
          "HLDH_Biomass_CHP",
          "HLDH_Coal_Boiler",
          "HLDH_Oil_Boiler",
          "HLDH_Gas_Boiler",
          "HLDH_Geothermal",
          "HLDH_Solar_Thermal",
          "HLDH_Electric_Boiler",
          "HLDH_Heatpump_Air",
          "HLDH_Heatpump_ExcessHeat",
          "CHP_Biomass_Solid",
          "CHP_Coal_Hardcoal",
          "CHP_Gas_CCGT_Biogas",
          "CHP_Gas_CCGT_Natural",
          "CHP_Gas_CCGT_SynGas",
          "CHP_Hydrogen_FuelCell",
          "CHP_Oil",
          "HHI_Bio_BF_BOF",
          "HLDH_Biomass_Boiler",
          "HLDH_Biomass_CHP",
          "HLDH_Coal_Boiler",
          "HLDH_Oil_Boiler",
          "HLDH_Gas_Boiler",
          "HLDH_Geothermal",
          "HLDH_Solar_Thermal",
          "HLDH_Electric_Boiler",
          "HLDH_Heatpump_Air",
          "HLDH_Heatpump_ExcessHeat",
          "CHP_Biomass_Solid",
          "CHP_Coal_Hardcoal",
          "CHP_Gas_CCGT_Biogas",
          "CHP_Gas_CCGT_Natural",
          "CHP_Gas_CCGT_SynGas",
          "CHP_Hydrogen_FuelCell",
          "CHP_Oil",
          "HHI_Bio_BF_BOF",
          "HLDH_Biomass_Boiler",
          "HLDH_Biomass_CHP",
          "HLDH_Coal_Boiler",
          "HLDH_Oil_Boiler",
          "HLDH_Gas_Boiler",
          "HLDH_Geothermal",
          "HLDH_Solar_Thermal",
          "HLDH_Electric_Boiler",
          "HLDH_Heatpump_Air",
          "HLDH_Heatpump_ExcessHeat",
          "CHP_Biomass_Solid",
          "CHP_Coal_Hardcoal",
          "CHP_Coal_Lignite",
          "CHP_Gas_CCGT_Biogas",
          "CHP_Gas_CCGT_Natural",
          "CHP_Gas_CCGT_SynGas",
          "CHP_Hydrogen_FuelCell",
          "CHP_Oil",
          "HHI_Bio_BF_BOF",
          "HLDH_Biomass_Boiler",
          "HLDH_Biomass_CHP",
          "HLDH_Coal_Boiler",
          "HLDH_Oil_Boiler",
          "HLDH_Gas_Boiler",
          "HLDH_Geothermal",
          "HLDH_Solar_Thermal",
          "HLDH_Electric_Boiler",
          "HLDH_Heatpump_Air",
          "HLDH_Heatpump_ExcessHeat",
          "CHP_Biomass_Solid",
          "CHP_Coal_Hardcoal",
          "CHP_Gas_CCGT_Biogas",
          "CHP_Gas_CCGT_Natural",
          "CHP_Gas_CCGT_SynGas",
          "CHP_Hydrogen_FuelCell",
          "CHP_Oil",
          "HHI_Bio_BF_BOF",
          "HLDH_Biomass_Boiler",
          "HLDH_Biomass_CHP",
          "HLDH_Coal_Boiler",
          "HLDH_Oil_Boiler",
          "HLDH_Gas_Boiler",
          "HLDH_Geothermal",
          "HLDH_Solar_Thermal",
          "HLDH_Electric_Boiler",
          "HLDH_Heatpump_Air",
          "HLDH_Heatpump_ExcessHeat",
          "CHP_Biomass_Solid",
          "CHP_Coal_Hardcoal",
          "CHP_Coal_Lignite",
          "CHP_Gas_CCGT_Biogas",
          "CHP_Gas_CCGT_Natural",
          "CHP_Gas_CCGT_SynGas",
          "CHP_Hydrogen_FuelCell",
          "CHP_Oil",
          "HHI_Bio_BF_BOF",
          "HLDH_Biomass_Boiler",
          "HLDH_Biomass_CHP",
          "HLDH_Coal_Boiler",
          "HLDH_Oil_Boiler",
          "HLDH_Gas_Boiler",
          "HLDH_Geothermal",
          "HLDH_Solar_Thermal",
          "HLDH_Electric_Boiler",
          "HLDH_Heatpump_Air",
          "HLDH_Heatpump_ExcessHeat",
          "CHP_Biomass_Solid",
          "CHP_Coal_Hardcoal",
          "CHP_Gas_CCGT_Biogas",
          "CHP_Gas_CCGT_Natural",
          "CHP_Gas_CCGT_SynGas",
          "CHP_Hydrogen_FuelCell",
          "CHP_Oil",
          "HHI_Bio_BF_BOF",
          "HLDH_Biomass_Boiler",
          "HLDH_Biomass_CHP",
          "HLDH_Coal_Boiler",
          "HLDH_Oil_Boiler",
          "HLDH_Gas_Boiler",
          "HLDH_Geothermal",
          "HLDH_Solar_Thermal",
          "HLDH_Electric_Boiler",
          "HLDH_Heatpump_Air",
          "HLDH_Heatpump_ExcessHeat",
          "CHP_Biomass_Solid",
          "CHP_Coal_Hardcoal",
          "CHP_Coal_Lignite",
          "CHP_Gas_CCGT_Biogas",
          "CHP_Gas_CCGT_Natural",
          "CHP_Gas_CCGT_SynGas",
          "CHP_Hydrogen_FuelCell",
          "CHP_Oil",
          "HHI_Bio_BF_BOF",
          "HLDH_Biomass_Boiler",
          "HLDH_Biomass_CHP",
          "HLDH_Coal_Boiler",
          "HLDH_Oil_Boiler",
          "HLDH_Gas_Boiler",
          "HLDH_Geothermal",
          "HLDH_Solar_Thermal",
          "HLDH_Electric_Boiler",
          "HLDH_Heatpump_Air",
          "HLDH_Heatpump_ExcessHeat",
          "CHP_Biomass_Solid",
          "CHP_Coal_Hardcoal",
          "CHP_Coal_Lignite",
          "CHP_Gas_CCGT_Biogas",
          "CHP_Gas_CCGT_Natural",
          "CHP_Gas_CCGT_SynGas",
          "CHP_Hydrogen_FuelCell",
          "CHP_Oil",
          "HHI_Bio_BF_BOF",
          "HLDH_Biomass_Boiler",
          "HLDH_Biomass_CHP",
          "HLDH_Coal_Boiler",
          "HLDH_Oil_Boiler",
          "HLDH_Gas_Boiler",
          "HLDH_Geothermal",
          "HLDH_Solar_Thermal",
          "HLDH_Electric_Boiler",
          "HLDH_Heatpump_Air",
          "HLDH_Heatpump_ExcessHeat",
          "CHP_Biomass_Solid",
          "CHP_Coal_Hardcoal",
          "CHP_Coal_Lignite",
          "CHP_Gas_CCGT_Biogas",
          "CHP_Gas_CCGT_Natural",
          "CHP_Gas_CCGT_SynGas",
          "CHP_Hydrogen_FuelCell",
          "CHP_Oil",
          "HLDH_Biomass_Boiler",
          "HLDH_Biomass_CHP",
          "HLDH_Coal_Boiler",
          "HLDH_Oil_Boiler",
          "HLDH_Gas_Boiler",
          "HLDH_Geothermal",
          "HLDH_Solar_Thermal",
          "HLDH_Electric_Boiler",
          "HLDH_Heatpump_Air",
          "HLDH_Heatpump_ExcessHeat",
          "CHP_Biomass_Solid",
          "CHP_Coal_Hardcoal",
          "CHP_Gas_CCGT_Biogas",
          "CHP_Gas_CCGT_Natural",
          "CHP_Gas_CCGT_SynGas",
          "CHP_Hydrogen_FuelCell",
          "CHP_Oil",
          "HHI_Bio_BF_BOF",
          "HLDH_Biomass_Boiler",
          "HLDH_Biomass_CHP",
          "HLDH_Coal_Boiler",
          "HLDH_Oil_Boiler",
          "HLDH_Gas_Boiler",
          "HLDH_Geothermal",
          "HLDH_Solar_Thermal",
          "HLDH_Electric_Boiler",
          "HLDH_Heatpump_Air",
          "HLDH_Heatpump_ExcessHeat",
          "CHP_Biomass_Solid",
          "CHP_Coal_Hardcoal",
          "CHP_Coal_Lignite",
          "CHP_Gas_CCGT_Biogas",
          "CHP_Gas_CCGT_Natural",
          "CHP_Gas_CCGT_SynGas",
          "CHP_Hydrogen_FuelCell",
          "CHP_Oil",
          "HLDH_Biomass_Boiler",
          "HLDH_Biomass_CHP",
          "HLDH_Coal_Boiler",
          "HLDH_Oil_Boiler",
          "HLDH_Gas_Boiler",
          "HLDH_Geothermal",
          "HLDH_Solar_Thermal",
          "HLDH_Electric_Boiler",
          "HLDH_Heatpump_Air",
          "HLDH_Heatpump_ExcessHeat"
         ],
         "marker": {
          "colors": [
           "#96ebb5",
           "#a5c8fe",
           "#c5f3cf",
           "#bc96ec",
           "#fedea9",
           "#ccc8fe",
           "#a6f09d",
           "#d6b3c7",
           "#efee98",
           "#f99c8d",
           "#9af08e",
           "#df8ba4",
           "#e6bbab",
           "#bac8bf",
           "#eae0ac",
           "#fcbaf0",
           "#eafbf4",
           "#eef4c7",
           "#96ebb5",
           "#a5c8fe",
           "#c5f3cf",
           "#bc96ec",
           "#fedea9",
           "#ccc8fe",
           "#a6f09d",
           "#d6b3c7",
           "#efee98",
           "#f99c8d",
           "#9af08e",
           "#df8ba4",
           "#e6bbab",
           "#bac8bf",
           "#eae0ac",
           "#fcbaf0",
           "#eafbf4",
           "#eef4c7",
           "#96ebb5",
           "#a5c8fe",
           "#bcc4fe",
           "#c5f3cf",
           "#bc96ec",
           "#fedea9",
           "#ccc8fe",
           "#a6f09d",
           "#d6b3c7",
           "#efee98",
           "#f99c8d",
           "#9af08e",
           "#df8ba4",
           "#e6bbab",
           "#bac8bf",
           "#eae0ac",
           "#fcbaf0",
           "#eafbf4",
           "#eef4c7",
           "#96ebb5",
           "#a5c8fe",
           "#c5f3cf",
           "#bc96ec",
           "#fedea9",
           "#ccc8fe",
           "#a6f09d",
           "#efee98",
           "#f99c8d",
           "#9af08e",
           "#df8ba4",
           "#e6bbab",
           "#bac8bf",
           "#eae0ac",
           "#fcbaf0",
           "#eafbf4",
           "#eef4c7",
           "#96ebb5",
           "#a5c8fe",
           "#bcc4fe",
           "#c5f3cf",
           "#bc96ec",
           "#fedea9",
           "#ccc8fe",
           "#a6f09d",
           "#d6b3c7",
           "#efee98",
           "#f99c8d",
           "#9af08e",
           "#df8ba4",
           "#e6bbab",
           "#bac8bf",
           "#eae0ac",
           "#fcbaf0",
           "#eafbf4",
           "#eef4c7",
           "#96ebb5",
           "#a5c8fe",
           "#bcc4fe",
           "#c5f3cf",
           "#bc96ec",
           "#fedea9",
           "#ccc8fe",
           "#a6f09d",
           "#d6b3c7",
           "#efee98",
           "#f99c8d",
           "#9af08e",
           "#df8ba4",
           "#e6bbab",
           "#bac8bf",
           "#eae0ac",
           "#fcbaf0",
           "#eafbf4",
           "#eef4c7",
           "#96ebb5",
           "#a5c8fe",
           "#c5f3cf",
           "#bc96ec",
           "#fedea9",
           "#ccc8fe",
           "#a6f09d",
           "#d6b3c7",
           "#efee98",
           "#f99c8d",
           "#9af08e",
           "#df8ba4",
           "#e6bbab",
           "#bac8bf",
           "#eae0ac",
           "#fcbaf0",
           "#eafbf4",
           "#eef4c7",
           "#96ebb5",
           "#a5c8fe",
           "#c5f3cf",
           "#bc96ec",
           "#fedea9",
           "#ccc8fe",
           "#a6f09d",
           "#d6b3c7",
           "#efee98",
           "#f99c8d",
           "#9af08e",
           "#df8ba4",
           "#e6bbab",
           "#bac8bf",
           "#eae0ac",
           "#fcbaf0",
           "#eafbf4",
           "#eef4c7",
           "#96ebb5",
           "#a5c8fe",
           "#c5f3cf",
           "#bc96ec",
           "#fedea9",
           "#ccc8fe",
           "#a6f09d",
           "#d6b3c7",
           "#efee98",
           "#f99c8d",
           "#9af08e",
           "#df8ba4",
           "#e6bbab",
           "#bac8bf",
           "#eae0ac",
           "#fcbaf0",
           "#eafbf4",
           "#eef4c7",
           "#96ebb5",
           "#a5c8fe",
           "#c5f3cf",
           "#bc96ec",
           "#fedea9",
           "#ccc8fe",
           "#a6f09d",
           "#d6b3c7",
           "#efee98",
           "#f99c8d",
           "#9af08e",
           "#df8ba4",
           "#e6bbab",
           "#bac8bf",
           "#eae0ac",
           "#fcbaf0",
           "#eafbf4",
           "#eef4c7",
           "#96ebb5",
           "#a5c8fe",
           "#c5f3cf",
           "#bc96ec",
           "#fedea9",
           "#ccc8fe",
           "#a6f09d",
           "#d6b3c7",
           "#efee98",
           "#f99c8d",
           "#9af08e",
           "#df8ba4",
           "#e6bbab",
           "#bac8bf",
           "#eae0ac",
           "#fcbaf0",
           "#eafbf4",
           "#eef4c7",
           "#96ebb5",
           "#a5c8fe",
           "#bcc4fe",
           "#c5f3cf",
           "#bc96ec",
           "#fedea9",
           "#ccc8fe",
           "#a6f09d",
           "#d6b3c7",
           "#efee98",
           "#f99c8d",
           "#9af08e",
           "#df8ba4",
           "#e6bbab",
           "#bac8bf",
           "#eae0ac",
           "#fcbaf0",
           "#eafbf4",
           "#eef4c7",
           "#96ebb5",
           "#a5c8fe",
           "#bcc4fe",
           "#c5f3cf",
           "#bc96ec",
           "#fedea9",
           "#ccc8fe",
           "#a6f09d",
           "#d6b3c7",
           "#efee98",
           "#f99c8d",
           "#9af08e",
           "#df8ba4",
           "#e6bbab",
           "#bac8bf",
           "#eae0ac",
           "#fcbaf0",
           "#eafbf4",
           "#eef4c7",
           "#96ebb5",
           "#a5c8fe",
           "#bcc4fe",
           "#c5f3cf",
           "#bc96ec",
           "#fedea9",
           "#ccc8fe",
           "#a6f09d",
           "#d6b3c7",
           "#efee98",
           "#f99c8d",
           "#9af08e",
           "#df8ba4",
           "#e6bbab",
           "#bac8bf",
           "#eae0ac",
           "#fcbaf0",
           "#eafbf4",
           "#eef4c7",
           "#96ebb5",
           "#a5c8fe",
           "#c5f3cf",
           "#bc96ec",
           "#fedea9",
           "#ccc8fe",
           "#a6f09d",
           "#d6b3c7",
           "#efee98",
           "#f99c8d",
           "#9af08e",
           "#df8ba4",
           "#e6bbab",
           "#bac8bf",
           "#eae0ac",
           "#fcbaf0",
           "#eafbf4",
           "#eef4c7",
           "#96ebb5",
           "#a5c8fe",
           "#c5f3cf",
           "#bc96ec",
           "#fedea9",
           "#ccc8fe",
           "#a6f09d",
           "#d6b3c7",
           "#efee98",
           "#f99c8d",
           "#9af08e",
           "#df8ba4",
           "#e6bbab",
           "#bac8bf",
           "#eae0ac",
           "#fcbaf0",
           "#eafbf4",
           "#eef4c7",
           "#96ebb5",
           "#a5c8fe",
           "#c5f3cf",
           "#bc96ec",
           "#fedea9",
           "#ccc8fe",
           "#a6f09d",
           "#d6b3c7",
           "#efee98",
           "#f99c8d",
           "#9af08e",
           "#df8ba4",
           "#e6bbab",
           "#bac8bf",
           "#eae0ac",
           "#fcbaf0",
           "#eafbf4",
           "#eef4c7",
           "#96ebb5",
           "#a5c8fe",
           "#c5f3cf",
           "#bc96ec",
           "#fedea9",
           "#ccc8fe",
           "#a6f09d",
           "#d6b3c7",
           "#efee98",
           "#f99c8d",
           "#9af08e",
           "#df8ba4",
           "#e6bbab",
           "#bac8bf",
           "#eae0ac",
           "#fcbaf0",
           "#eafbf4",
           "#eef4c7",
           "#96ebb5",
           "#a5c8fe",
           "#c5f3cf",
           "#bc96ec",
           "#fedea9",
           "#ccc8fe",
           "#a6f09d",
           "#d6b3c7",
           "#efee98",
           "#f99c8d",
           "#9af08e",
           "#df8ba4",
           "#e6bbab",
           "#bac8bf",
           "#eae0ac",
           "#fcbaf0",
           "#eafbf4",
           "#eef4c7",
           "#96ebb5",
           "#a5c8fe",
           "#c5f3cf",
           "#bc96ec",
           "#fedea9",
           "#ccc8fe",
           "#a6f09d",
           "#d6b3c7",
           "#efee98",
           "#f99c8d",
           "#9af08e",
           "#df8ba4",
           "#e6bbab",
           "#bac8bf",
           "#eae0ac",
           "#fcbaf0",
           "#eafbf4",
           "#eef4c7",
           "#96ebb5",
           "#a5c8fe",
           "#c5f3cf",
           "#bc96ec",
           "#fedea9",
           "#ccc8fe",
           "#a6f09d",
           "#d6b3c7",
           "#efee98",
           "#f99c8d",
           "#9af08e",
           "#df8ba4",
           "#e6bbab",
           "#bac8bf",
           "#eae0ac",
           "#fcbaf0",
           "#eafbf4",
           "#eef4c7",
           "#96ebb5",
           "#a5c8fe",
           "#bcc4fe",
           "#c5f3cf",
           "#bc96ec",
           "#fedea9",
           "#ccc8fe",
           "#a6f09d",
           "#d6b3c7",
           "#efee98",
           "#f99c8d",
           "#9af08e",
           "#df8ba4",
           "#e6bbab",
           "#bac8bf",
           "#eae0ac",
           "#fcbaf0",
           "#eafbf4",
           "#eef4c7",
           "#96ebb5",
           "#a5c8fe",
           "#c5f3cf",
           "#bc96ec",
           "#fedea9",
           "#ccc8fe",
           "#a6f09d",
           "#d6b3c7",
           "#efee98",
           "#f99c8d",
           "#9af08e",
           "#df8ba4",
           "#e6bbab",
           "#bac8bf",
           "#eae0ac",
           "#fcbaf0",
           "#eafbf4",
           "#eef4c7",
           "#96ebb5",
           "#a5c8fe",
           "#bcc4fe",
           "#c5f3cf",
           "#bc96ec",
           "#fedea9",
           "#ccc8fe",
           "#a6f09d",
           "#d6b3c7",
           "#efee98",
           "#f99c8d",
           "#9af08e",
           "#df8ba4",
           "#e6bbab",
           "#bac8bf",
           "#eae0ac",
           "#fcbaf0",
           "#eafbf4",
           "#eef4c7",
           "#96ebb5",
           "#a5c8fe",
           "#c5f3cf",
           "#bc96ec",
           "#fedea9",
           "#ccc8fe",
           "#a6f09d",
           "#d6b3c7",
           "#efee98",
           "#f99c8d",
           "#9af08e",
           "#df8ba4",
           "#e6bbab",
           "#bac8bf",
           "#eae0ac",
           "#fcbaf0",
           "#eafbf4",
           "#eef4c7",
           "#96ebb5",
           "#a5c8fe",
           "#bcc4fe",
           "#c5f3cf",
           "#bc96ec",
           "#fedea9",
           "#ccc8fe",
           "#a6f09d",
           "#d6b3c7",
           "#efee98",
           "#f99c8d",
           "#9af08e",
           "#df8ba4",
           "#e6bbab",
           "#bac8bf",
           "#eae0ac",
           "#fcbaf0",
           "#eafbf4",
           "#eef4c7",
           "#96ebb5",
           "#a5c8fe",
           "#bcc4fe",
           "#c5f3cf",
           "#bc96ec",
           "#fedea9",
           "#ccc8fe",
           "#a6f09d",
           "#d6b3c7",
           "#efee98",
           "#f99c8d",
           "#9af08e",
           "#df8ba4",
           "#e6bbab",
           "#bac8bf",
           "#eae0ac",
           "#fcbaf0",
           "#eafbf4",
           "#eef4c7",
           "#96ebb5",
           "#a5c8fe",
           "#bcc4fe",
           "#c5f3cf",
           "#bc96ec",
           "#fedea9",
           "#ccc8fe",
           "#a6f09d",
           "#efee98",
           "#f99c8d",
           "#9af08e",
           "#df8ba4",
           "#e6bbab",
           "#bac8bf",
           "#eae0ac",
           "#fcbaf0",
           "#eafbf4",
           "#eef4c7",
           "#96ebb5",
           "#a5c8fe",
           "#c5f3cf",
           "#bc96ec",
           "#fedea9",
           "#ccc8fe",
           "#a6f09d",
           "#d6b3c7",
           "#efee98",
           "#f99c8d",
           "#9af08e",
           "#df8ba4",
           "#e6bbab",
           "#bac8bf",
           "#eae0ac",
           "#fcbaf0",
           "#eafbf4",
           "#eef4c7",
           "#96ebb5",
           "#a5c8fe",
           "#bcc4fe",
           "#c5f3cf",
           "#bc96ec",
           "#fedea9",
           "#ccc8fe",
           "#a6f09d",
           "#efee98",
           "#f99c8d",
           "#9af08e",
           "#df8ba4",
           "#e6bbab",
           "#bac8bf",
           "#eae0ac",
           "#fcbaf0",
           "#eafbf4",
           "#eef4c7"
          ]
         },
         "textfont": {
          "size": 50
         },
         "textinfo": "percent+label",
         "textposition": "inside",
         "type": "pie",
         "values": [
          3.5568178686350933,
          3.2990535589856034e-10,
          1.7118315675933511e-9,
          1.4723088202549707e-9,
          1.879041411290632e-9,
          6.546667866764393e-8,
          3.709397274523242e-10,
          24.28089630512195,
          1.5426886746992487e-9,
          1.0659281570543231e-9,
          1.5342909429835225e-9,
          1.8531799949786183e-9,
          3.143595696931079e-9,
          5.510795430245954,
          7.425367095461618,
          7.333904847145822,
          2.141099133932096e-8,
          38.00094334788648,
          1.5347360578816123,
          3.4623907552145404e-10,
          1.759906546275359e-9,
          1.5234845918076599e-9,
          2.0070324225139353e-9,
          6.285447189917703e-8,
          3.990893103155541e-10,
          17.1088020425998,
          1.5873227201852334e-9,
          1.0908231512368715e-9,
          1.597955929129616e-9,
          1.9315197116130974e-9,
          3.288073562870909e-9,
          29.18224694391869,
          5.441878624306846,
          8.808685627168657,
          1.9357581843394384e-8,
          3.823886338288756e-8,
          0.4174816886873237,
          3.2751005122222466e-10,
          2.931549280747382e-10,
          1.8416103117377612e-9,
          1.44927226313872e-9,
          1.9071060130705782e-9,
          2.361527510522518e-8,
          3.729163100588185e-10,
          4.653967384628339,
          1.532421730359728e-9,
          1.057406626833983e-9,
          1.5067961052505883e-9,
          1.8090355473101545e-9,
          3.0834353569215293e-9,
          5.44022092851457,
          10.070018073756067,
          5.633880531630319e-7,
          1.3712080308973111e-8,
          2.0562123714738427e-8,
          0.25191187016926364,
          3.327561273151507e-10,
          1.7028441635816805e-9,
          1.5140179091248583e-9,
          1.9118683794613716e-9,
          9.164917103839644e-8,
          3.691435512510957e-10,
          1.5795524923586823e-9,
          1.0846466448935888e-9,
          1.5862542290165557e-9,
          1.9201633786587976e-9,
          3.29317020982878e-9,
          5.089628541129925,
          4.7552864470638765,
          5.052305263541547,
          2.4175320330608526e-8,
          2.269728013560139e-7,
          3.094140043887273,
          3.356986726594945e-10,
          3.0455141553821075e-10,
          1.6928975092832928e-9,
          1.6931367250249922e-9,
          1.9433681370881436e-9,
          1.1412358015248303e-7,
          3.976681839890569e-10,
          34.49259515733953,
          1.6022496084236759e-9,
          1.1012748288013645e-9,
          1.6098645864085642e-9,
          1.9476989416497336e-9,
          3.056717141680178e-9,
          14.761624609810664,
          9.739436994785239,
          8.435280430116357,
          2.3164111553210612e-8,
          14.554795598153522,
          29.822756461938965,
          3.4014798799512363e-10,
          3.08658554109834e-10,
          1.6775861245606461e-9,
          1.4329496816163886e-9,
          1.8824268656325285e-9,
          5.5942756774613935e-8,
          3.782239359083362e-10,
          223.01959945437815,
          1.514065022629691e-9,
          1.0571090528745279e-9,
          1.5274920668738003e-9,
          1.8342030039996568e-9,
          3.0301500757943642e-9,
          79.17063898353408,
          50.96039633459982,
          68.77414167544472,
          1.5100788282912855e-8,
          218.27451572278625,
          5.412686737107268,
          3.344785070234917e-10,
          1.7114745128761584e-9,
          1.6038003917533587e-9,
          1.962577310014398e-9,
          3.6822235936086937e-8,
          3.870028512767313e-10,
          26.91676713205822,
          1.6185165662763546e-9,
          1.1113161541954132e-9,
          1.6382820454230631e-9,
          1.99815277438412e-9,
          3.1959727454803978e-9,
          10.26198382595465,
          5.721601366606431,
          5.265001389004212,
          2.1898282387733807e-8,
          9.425833458369546,
          0.3116060010864603,
          3.370420556485618e-10,
          1.6852274892808826e-9,
          1.5834566627391927e-9,
          1.9135472780276595e-9,
          2.7164891633410666e-8,
          3.8649357989347697e-10,
          3.0427547821806797,
          1.6161791470925768e-9,
          1.1137653030847353e-9,
          1.6546169603367344e-9,
          2.009514154619983e-9,
          3.3415295963031756e-9,
          4.009103470417928e-8,
          1.8563416624379128,
          4.6342104024889774e-7,
          1.8552684823779275e-8,
          6.399787529467982,
          1.5960945470665093,
          3.4982976250881624e-10,
          1.6734601602096872e-9,
          1.6881423451587857e-9,
          1.9155684322924794e-9,
          4.561219702069218e-8,
          4.0422131682492126e-10,
          17.792809066502144,
          1.5283214924412567e-9,
          1.0633803283830655e-9,
          1.5294918945264417e-9,
          1.8395411351148855e-9,
          3.009662743735122e-9,
          64.75116099793735,
          56.351416228830274,
          7.408723589067645,
          1.0869001400155575e-8,
          1.5912025477922103e-8,
          4.209020546602454,
          3.4059977710230044e-10,
          1.7130535624123922e-9,
          1.6353890942816605e-9,
          1.979211888042853e-9,
          5.10714296813035e-8,
          3.9158090987109727e-10,
          46.920966643187356,
          1.6455167418698772e-9,
          1.1248574265209601e-9,
          1.676356046316105e-9,
          2.0507679694153738e-9,
          3.538387717601679e-9,
          13.150397809933004,
          5.162155895206947,
          4.498769009959697,
          4.035129886223132e-8,
          48.47986817548819,
          28.525216524104877,
          3.502729560968741e-10,
          2.042328431424588e-9,
          1.5277671922487816e-9,
          2.304557860658002e-9,
          5.033786370873933e-8,
          4.0155451861475485e-10,
          114.29983004095166,
          1.5606269531595264e-9,
          1.0792180445846958e-9,
          1.5852486260678642e-9,
          1.918205235960148e-9,
          3.017063858678381e-9,
          164.59191904193358,
          64.03107684683617,
          23.906247025310545,
          1.7742446130526074e-8,
          3.703607868045399e-8,
          0.004598784768969197,
          3.3010397019340427e-10,
          2.9697963695431374e-10,
          1.6672602874337453e-9,
          1.4709819233801738e-9,
          1.9130855234625867e-9,
          8.480263702489626e-8,
          3.7091629781382767e-10,
          0.051265934570430105,
          1.5582532457083128e-9,
          1.0692339777487293e-9,
          1.5332500941653383e-9,
          1.8519957049525107e-9,
          3.1509790535181244e-9,
          2.410223905602133,
          15.96962508366768,
          0.000001812002578898402,
          1.164934073875203e-8,
          1.7538226758457505e-8,
          0.18273223679513792,
          3.138833185700853e-10,
          2.8600242060300673e-10,
          1.874252657822751e-9,
          1.5220368688073418e-9,
          1.945422782805436e-9,
          1.1301300902298912e-7,
          3.5945265253201583e-10,
          1.398499015440707,
          1.6097781994342546e-9,
          1.0981113726068923e-9,
          1.606621390226633e-9,
          1.945336696344425e-9,
          3.39136334658552e-9,
          3.3574253250071364,
          3.4075314506408354,
          0.0000015920512296170544,
          1.6205934117661352e-8,
          3.030978131815449e-8,
          3.688389012936228,
          3.2562947289795516e-10,
          2.924951586079982e-10,
          1.764323434622967e-9,
          1.4612282077652895e-9,
          1.9019402974039315e-9,
          5.7126616396022025e-8,
          3.646130877656791e-10,
          12.784893922475048,
          1.557546231243482e-9,
          1.0667052522215623e-9,
          1.5243778672653923e-9,
          1.8380422800519273e-9,
          2.953041710152711e-9,
          18.985328286144757,
          11.265197370686673,
          0.4148730011721988,
          1.880684163527129e-8,
          2.5678913916135877,
          0.09868654745211568,
          3.528669452499376e-10,
          1.7994017092645895e-9,
          1.864279943843241e-9,
          2.091064915034139e-9,
          5.0850128086485296e-8,
          4.146382297752396e-10,
          0.8603663835297226,
          1.6350929241625566e-9,
          1.1160192278133194e-9,
          1.648907722703553e-9,
          2.0037696501722842e-9,
          3.4060831815081943e-9,
          7.1723526015751675,
          8.366252656279324,
          3.5671416132532614,
          1.9383131584595317e-8,
          3.4971492046279545e-8,
          14.495714769833011,
          3.505252344132444e-10,
          2.3247414156768027e-9,
          1.6266693506042862e-9,
          2.0204348666825047e-9,
          5.812182363287933e-8,
          3.9859980327627333e-10,
          115.34958077399857,
          1.5368050009849199e-9,
          1.0663706951827242e-9,
          1.5604083080237223e-9,
          1.8813415043264897e-9,
          3.179448062134117e-9,
          112.74465918282175,
          40.66151384045764,
          14.980219630350406,
          1.429743321704871e-8,
          2.3784882611405613e-8,
          0.42967524861536466,
          3.352457963564511e-10,
          1.6658850711414345e-9,
          1.7801491872371808e-9,
          1.9465014986153893e-9,
          2.0832848198148793e-8,
          4.0215969684864395e-10,
          4.416591115999626,
          1.611626380744539e-9,
          1.1115381110970271e-9,
          1.6385376907706505e-9,
          1.9850724783352104e-9,
          3.238648984806019e-9,
          2.3754883326115124,
          5.263873011535702,
          0.21831050392737597,
          1.8201551075371327e-8,
          2.4433279847407503,
          0.22164817367342923,
          3.371633712650693e-10,
          1.7569488516165118e-9,
          1.5277061942557643e-9,
          1.9934877227911953e-9,
          4.578800927348278e-8,
          3.634969040543828e-10,
          2.2889836159015196,
          1.5975661474587085e-9,
          1.0837977529124463e-9,
          1.5838508456711917e-9,
          1.919196079042233e-9,
          3.3915995203504815e-9,
          1.5197939413728958,
          0.35601070397321516,
          1.777593933836979,
          2.136347831637103e-8,
          2.1784960618568194e-7,
          0.9543794414749867,
          3.377841567055569e-10,
          1.7373709341410938e-9,
          1.778907854416019e-9,
          2.0193551265027924e-9,
          5.532695475382741e-8,
          3.906448070703642e-10,
          10.639151167597982,
          1.642139060873102e-9,
          1.1199761084131799e-9,
          1.6513454587264075e-9,
          2.0122699449889635e-9,
          3.4490709980220878e-9,
          3.192992928976101,
          3.4583901344948678,
          0.13431484848197614,
          2.8003608894904925e-8,
          4.991995839650797,
          2.4500212029901998,
          3.3808427937940374e-10,
          1.683682029751401e-9,
          1.7486532188900893e-9,
          1.9218632420357467e-9,
          6.938736813524245e-8,
          3.920712279430302e-10,
          24.305093681574416,
          1.564992310469208e-9,
          1.079344955590318e-9,
          1.5772888362167057e-9,
          1.90143419015982e-9,
          3.2255551946222435e-9,
          39.5898554975158,
          8.086529923909945,
          5.818901296817423,
          1.7380313327047724e-8,
          2.956179569634758e-8,
          0.08099967443979932,
          3.392580978836171e-10,
          1.6594910174682735e-9,
          1.7949841621233e-9,
          1.880386643193771e-9,
          2.0198674967844446e-8,
          4.0155847804438033e-10,
          0.9029613674369984,
          1.6166563975252363e-9,
          1.114067206720292e-9,
          1.638580479201512e-9,
          1.992929839000967e-9,
          3.3736825613374023e-9,
          5.386587882154254e-8,
          3.0515207009175267,
          4.742383288928981,
          2.8613846541045483e-8,
          13.491404229860732,
          3.5146140437875726,
          3.3730381126403163e-10,
          3.1062375339935396e-10,
          1.8833564813185896e-9,
          1.7425342028229899e-9,
          1.937692945397002e-9,
          7.314771718512402e-8,
          4.133470911201967e-10,
          29.695523261703,
          1.5760824131578145e-9,
          1.089511823308456e-9,
          1.5907791003370367e-9,
          1.917574332225498e-9,
          3.1798984277441705e-9,
          46.010084747725486,
          34.17703225866077,
          7.669468717067417,
          2.0455840640853518e-8,
          22.427201487269482,
          0.9293621682288683,
          3.3251247800209387e-10,
          1.6554897569028168e-9,
          1.5049282657298085e-9,
          1.873233809509909e-9,
          5.379557336180753e-8,
          3.792045751204922e-10,
          10.360265713790154,
          1.5687853440992445e-9,
          1.0793645309570329e-9,
          1.5770290005246138e-9,
          1.9098930388119707e-9,
          3.22960397489492e-9,
          7.171870597046693,
          8.925698062699611,
          0.11909051477538239,
          1.1609434141471378e-8,
          1.7297904873076682e-8,
          1.1145871186818124,
          3.254426549940541e-10,
          3.027306405439001e-10,
          1.6557101701151758e-9,
          1.6770232401161345e-9,
          1.860037447625868e-9,
          2.1756767542437622e-8,
          3.720257529832262e-10,
          6.0481739521303,
          1.5628542213661328e-9,
          1.0878634686094887e-9,
          1.5773564933719915e-9,
          1.894462216002612e-9,
          2.925923582706732e-9,
          15.398681569742152,
          28.277425319493386,
          0.000003364943021344838,
          1.3910281985790742e-8,
          2.4447413935809028e-8,
          2.702515175401349,
          3.4191353803603987e-10,
          1.7543789807791602e-9,
          1.921473547981545e-9,
          2.0479171974432336e-9,
          4.7548943214552694e-8,
          4.0063555746077885e-10,
          28.000122713940687,
          1.6648240196218965e-9,
          1.1329391877903346e-9,
          1.685528462931944e-9,
          2.0590375706579276e-9,
          3.555470859796666e-9,
          10.207469374487868,
          7.6288018239755,
          13.096980505783504,
          3.5172593201213913e-8,
          52.66661561551824,
          0.19992869881029418,
          3.34553474044097e-10,
          2.998822169227476e-10,
          1.7254040710603818e-9,
          1.558383237048953e-9,
          1.9717151575844314e-9,
          1.515157125110178e-7,
          3.8169381185950136e-10,
          2.2238896793888565,
          1.6425869223168369e-9,
          1.1157015524033431e-9,
          1.6464874777527797e-9,
          2.006406058722078e-9,
          3.465539474917713e-9,
          3.7156670781877934,
          1.3731842941916803,
          0.6705397277879673,
          2.2404971012839814e-8,
          6.061117249295094e-8,
          1.3838507434116951,
          3.274689214818072e-10,
          3.0353199607512116e-10,
          1.8369029430580094e-9,
          1.787550401377917e-9,
          1.9368098582982184e-9,
          6.017677047083031e-8,
          3.9441897510881354e-10,
          6.671553507166566,
          1.6144519413920686e-9,
          1.1078888134120386e-9,
          1.6316066247235133e-9,
          1.971007562739089e-9,
          3.1012166614647054e-9,
          4.227178918469668e-8,
          4.653569095414242,
          1.159800279202157,
          2.127028903561024e-8,
          12.56925282286773,
          9.194148989234174,
          3.407769799083636e-10,
          3.1438219753764424e-10,
          1.7172096857662863e-9,
          1.4533987218777271e-9,
          1.8967686468232416e-9,
          9.470547001918303e-8,
          3.936132518565921e-10,
          1.538573781600145e-9,
          1.0625553537274595e-9,
          1.530097409450047e-9,
          1.8449343537601773e-9,
          3.2137855035615334e-9,
          57.91602142922673,
          13.915112615470472,
          138.4494605291739,
          1.749094081067775e-8,
          3.146635955491365e-8,
          12.4282268362059,
          3.4382840359650287e-10,
          1.7336630512360003e-9,
          1.6281408949667222e-9,
          1.9816412095476286e-9,
          5.6301164100314226e-8,
          3.939530372846381e-10,
          60.85268765408478,
          1.6300162704342163e-9,
          1.1148505004993938e-9,
          1.669083829184532e-9,
          2.03377654891771e-9,
          3.5329888420674813e-9,
          103.49264072775978,
          45.5948057130772,
          103.08776490902547,
          2.5560777732047005e-8,
          6.254629519262258e-8,
          1.0377307366769994,
          3.329986976419106e-10,
          2.9854401084925854e-10,
          1.7069766371482096e-9,
          1.502556680910749e-9,
          1.9163942709654708e-9,
          9.311346020880225e-8,
          3.768951077562504e-10,
          1.590459791181285e-9,
          1.0879272273409819e-9,
          1.573990250127364e-9,
          1.9072823569657897e-9,
          3.0793302572519624e-9,
          3.23177687786998,
          13.91511262909223,
          5.6785375365383315,
          2.0901863778027625e-8,
          4.1688742228651456e-8
         ]
        }
       ],
       "layout": {
        "height": 800,
        "template": {
         "data": {
          "bar": [
           {
            "error_x": {
             "color": "#2a3f5f"
            },
            "error_y": {
             "color": "#2a3f5f"
            },
            "marker": {
             "line": {
              "color": "#E5ECF6",
              "width": 0.5
             },
             "pattern": {
              "fillmode": "overlay",
              "size": 10,
              "solidity": 0.2
             }
            },
            "type": "bar"
           }
          ],
          "barpolar": [
           {
            "marker": {
             "line": {
              "color": "#E5ECF6",
              "width": 0.5
             },
             "pattern": {
              "fillmode": "overlay",
              "size": 10,
              "solidity": 0.2
             }
            },
            "type": "barpolar"
           }
          ],
          "carpet": [
           {
            "aaxis": {
             "endlinecolor": "#2a3f5f",
             "gridcolor": "white",
             "linecolor": "white",
             "minorgridcolor": "white",
             "startlinecolor": "#2a3f5f"
            },
            "baxis": {
             "endlinecolor": "#2a3f5f",
             "gridcolor": "white",
             "linecolor": "white",
             "minorgridcolor": "white",
             "startlinecolor": "#2a3f5f"
            },
            "type": "carpet"
           }
          ],
          "choropleth": [
           {
            "colorbar": {
             "outlinewidth": 0,
             "ticks": ""
            },
            "type": "choropleth"
           }
          ],
          "contour": [
           {
            "colorbar": {
             "outlinewidth": 0,
             "ticks": ""
            },
            "colorscale": [
             [
              0,
              "#0d0887"
             ],
             [
              0.1111111111111111,
              "#46039f"
             ],
             [
              0.2222222222222222,
              "#7201a8"
             ],
             [
              0.3333333333333333,
              "#9c179e"
             ],
             [
              0.4444444444444444,
              "#bd3786"
             ],
             [
              0.5555555555555556,
              "#d8576b"
             ],
             [
              0.6666666666666666,
              "#ed7953"
             ],
             [
              0.7777777777777778,
              "#fb9f3a"
             ],
             [
              0.8888888888888888,
              "#fdca26"
             ],
             [
              1,
              "#f0f921"
             ]
            ],
            "type": "contour"
           }
          ],
          "contourcarpet": [
           {
            "colorbar": {
             "outlinewidth": 0,
             "ticks": ""
            },
            "type": "contourcarpet"
           }
          ],
          "heatmap": [
           {
            "colorbar": {
             "outlinewidth": 0,
             "ticks": ""
            },
            "colorscale": [
             [
              0,
              "#0d0887"
             ],
             [
              0.1111111111111111,
              "#46039f"
             ],
             [
              0.2222222222222222,
              "#7201a8"
             ],
             [
              0.3333333333333333,
              "#9c179e"
             ],
             [
              0.4444444444444444,
              "#bd3786"
             ],
             [
              0.5555555555555556,
              "#d8576b"
             ],
             [
              0.6666666666666666,
              "#ed7953"
             ],
             [
              0.7777777777777778,
              "#fb9f3a"
             ],
             [
              0.8888888888888888,
              "#fdca26"
             ],
             [
              1,
              "#f0f921"
             ]
            ],
            "type": "heatmap"
           }
          ],
          "heatmapgl": [
           {
            "colorbar": {
             "outlinewidth": 0,
             "ticks": ""
            },
            "colorscale": [
             [
              0,
              "#0d0887"
             ],
             [
              0.1111111111111111,
              "#46039f"
             ],
             [
              0.2222222222222222,
              "#7201a8"
             ],
             [
              0.3333333333333333,
              "#9c179e"
             ],
             [
              0.4444444444444444,
              "#bd3786"
             ],
             [
              0.5555555555555556,
              "#d8576b"
             ],
             [
              0.6666666666666666,
              "#ed7953"
             ],
             [
              0.7777777777777778,
              "#fb9f3a"
             ],
             [
              0.8888888888888888,
              "#fdca26"
             ],
             [
              1,
              "#f0f921"
             ]
            ],
            "type": "heatmapgl"
           }
          ],
          "histogram": [
           {
            "marker": {
             "pattern": {
              "fillmode": "overlay",
              "size": 10,
              "solidity": 0.2
             }
            },
            "type": "histogram"
           }
          ],
          "histogram2d": [
           {
            "colorbar": {
             "outlinewidth": 0,
             "ticks": ""
            },
            "colorscale": [
             [
              0,
              "#0d0887"
             ],
             [
              0.1111111111111111,
              "#46039f"
             ],
             [
              0.2222222222222222,
              "#7201a8"
             ],
             [
              0.3333333333333333,
              "#9c179e"
             ],
             [
              0.4444444444444444,
              "#bd3786"
             ],
             [
              0.5555555555555556,
              "#d8576b"
             ],
             [
              0.6666666666666666,
              "#ed7953"
             ],
             [
              0.7777777777777778,
              "#fb9f3a"
             ],
             [
              0.8888888888888888,
              "#fdca26"
             ],
             [
              1,
              "#f0f921"
             ]
            ],
            "type": "histogram2d"
           }
          ],
          "histogram2dcontour": [
           {
            "colorbar": {
             "outlinewidth": 0,
             "ticks": ""
            },
            "colorscale": [
             [
              0,
              "#0d0887"
             ],
             [
              0.1111111111111111,
              "#46039f"
             ],
             [
              0.2222222222222222,
              "#7201a8"
             ],
             [
              0.3333333333333333,
              "#9c179e"
             ],
             [
              0.4444444444444444,
              "#bd3786"
             ],
             [
              0.5555555555555556,
              "#d8576b"
             ],
             [
              0.6666666666666666,
              "#ed7953"
             ],
             [
              0.7777777777777778,
              "#fb9f3a"
             ],
             [
              0.8888888888888888,
              "#fdca26"
             ],
             [
              1,
              "#f0f921"
             ]
            ],
            "type": "histogram2dcontour"
           }
          ],
          "mesh3d": [
           {
            "colorbar": {
             "outlinewidth": 0,
             "ticks": ""
            },
            "type": "mesh3d"
           }
          ],
          "parcoords": [
           {
            "line": {
             "colorbar": {
              "outlinewidth": 0,
              "ticks": ""
             }
            },
            "type": "parcoords"
           }
          ],
          "pie": [
           {
            "automargin": true,
            "type": "pie"
           }
          ],
          "scatter": [
           {
            "fillpattern": {
             "fillmode": "overlay",
             "size": 10,
             "solidity": 0.2
            },
            "type": "scatter"
           }
          ],
          "scatter3d": [
           {
            "line": {
             "colorbar": {
              "outlinewidth": 0,
              "ticks": ""
             }
            },
            "marker": {
             "colorbar": {
              "outlinewidth": 0,
              "ticks": ""
             }
            },
            "type": "scatter3d"
           }
          ],
          "scattercarpet": [
           {
            "marker": {
             "colorbar": {
              "outlinewidth": 0,
              "ticks": ""
             }
            },
            "type": "scattercarpet"
           }
          ],
          "scattergeo": [
           {
            "marker": {
             "colorbar": {
              "outlinewidth": 0,
              "ticks": ""
             }
            },
            "type": "scattergeo"
           }
          ],
          "scattergl": [
           {
            "marker": {
             "colorbar": {
              "outlinewidth": 0,
              "ticks": ""
             }
            },
            "type": "scattergl"
           }
          ],
          "scattermapbox": [
           {
            "marker": {
             "colorbar": {
              "outlinewidth": 0,
              "ticks": ""
             }
            },
            "type": "scattermapbox"
           }
          ],
          "scatterpolar": [
           {
            "marker": {
             "colorbar": {
              "outlinewidth": 0,
              "ticks": ""
             }
            },
            "type": "scatterpolar"
           }
          ],
          "scatterpolargl": [
           {
            "marker": {
             "colorbar": {
              "outlinewidth": 0,
              "ticks": ""
             }
            },
            "type": "scatterpolargl"
           }
          ],
          "scatterternary": [
           {
            "marker": {
             "colorbar": {
              "outlinewidth": 0,
              "ticks": ""
             }
            },
            "type": "scatterternary"
           }
          ],
          "surface": [
           {
            "colorbar": {
             "outlinewidth": 0,
             "ticks": ""
            },
            "colorscale": [
             [
              0,
              "#0d0887"
             ],
             [
              0.1111111111111111,
              "#46039f"
             ],
             [
              0.2222222222222222,
              "#7201a8"
             ],
             [
              0.3333333333333333,
              "#9c179e"
             ],
             [
              0.4444444444444444,
              "#bd3786"
             ],
             [
              0.5555555555555556,
              "#d8576b"
             ],
             [
              0.6666666666666666,
              "#ed7953"
             ],
             [
              0.7777777777777778,
              "#fb9f3a"
             ],
             [
              0.8888888888888888,
              "#fdca26"
             ],
             [
              1,
              "#f0f921"
             ]
            ],
            "type": "surface"
           }
          ],
          "table": [
           {
            "cells": {
             "fill": {
              "color": "#EBF0F8"
             },
             "line": {
              "color": "white"
             }
            },
            "header": {
             "fill": {
              "color": "#C8D4E3"
             },
             "line": {
              "color": "white"
             }
            },
            "type": "table"
           }
          ]
         },
         "layout": {
          "annotationdefaults": {
           "arrowcolor": "#2a3f5f",
           "arrowhead": 0,
           "arrowwidth": 1
          },
          "autotypenumbers": "strict",
          "coloraxis": {
           "colorbar": {
            "outlinewidth": 0,
            "ticks": ""
           }
          },
          "colorscale": {
           "diverging": [
            [
             0,
             "#8e0152"
            ],
            [
             0.1,
             "#c51b7d"
            ],
            [
             0.2,
             "#de77ae"
            ],
            [
             0.3,
             "#f1b6da"
            ],
            [
             0.4,
             "#fde0ef"
            ],
            [
             0.5,
             "#f7f7f7"
            ],
            [
             0.6,
             "#e6f5d0"
            ],
            [
             0.7,
             "#b8e186"
            ],
            [
             0.8,
             "#7fbc41"
            ],
            [
             0.9,
             "#4d9221"
            ],
            [
             1,
             "#276419"
            ]
           ],
           "sequential": [
            [
             0,
             "#0d0887"
            ],
            [
             0.1111111111111111,
             "#46039f"
            ],
            [
             0.2222222222222222,
             "#7201a8"
            ],
            [
             0.3333333333333333,
             "#9c179e"
            ],
            [
             0.4444444444444444,
             "#bd3786"
            ],
            [
             0.5555555555555556,
             "#d8576b"
            ],
            [
             0.6666666666666666,
             "#ed7953"
            ],
            [
             0.7777777777777778,
             "#fb9f3a"
            ],
            [
             0.8888888888888888,
             "#fdca26"
            ],
            [
             1,
             "#f0f921"
            ]
           ],
           "sequentialminus": [
            [
             0,
             "#0d0887"
            ],
            [
             0.1111111111111111,
             "#46039f"
            ],
            [
             0.2222222222222222,
             "#7201a8"
            ],
            [
             0.3333333333333333,
             "#9c179e"
            ],
            [
             0.4444444444444444,
             "#bd3786"
            ],
            [
             0.5555555555555556,
             "#d8576b"
            ],
            [
             0.6666666666666666,
             "#ed7953"
            ],
            [
             0.7777777777777778,
             "#fb9f3a"
            ],
            [
             0.8888888888888888,
             "#fdca26"
            ],
            [
             1,
             "#f0f921"
            ]
           ]
          },
          "colorway": [
           "#636efa",
           "#EF553B",
           "#00cc96",
           "#ab63fa",
           "#FFA15A",
           "#19d3f3",
           "#FF6692",
           "#B6E880",
           "#FF97FF",
           "#FECB52"
          ],
          "font": {
           "color": "#2a3f5f"
          },
          "geo": {
           "bgcolor": "white",
           "lakecolor": "white",
           "landcolor": "#E5ECF6",
           "showlakes": true,
           "showland": true,
           "subunitcolor": "white"
          },
          "hoverlabel": {
           "align": "left"
          },
          "hovermode": "closest",
          "mapbox": {
           "style": "light"
          },
          "paper_bgcolor": "white",
          "plot_bgcolor": "#E5ECF6",
          "polar": {
           "angularaxis": {
            "gridcolor": "white",
            "linecolor": "white",
            "ticks": ""
           },
           "bgcolor": "#E5ECF6",
           "radialaxis": {
            "gridcolor": "white",
            "linecolor": "white",
            "ticks": ""
           }
          },
          "scene": {
           "xaxis": {
            "backgroundcolor": "#E5ECF6",
            "gridcolor": "white",
            "gridwidth": 2,
            "linecolor": "white",
            "showbackground": true,
            "ticks": "",
            "zerolinecolor": "white"
           },
           "yaxis": {
            "backgroundcolor": "#E5ECF6",
            "gridcolor": "white",
            "gridwidth": 2,
            "linecolor": "white",
            "showbackground": true,
            "ticks": "",
            "zerolinecolor": "white"
           },
           "zaxis": {
            "backgroundcolor": "#E5ECF6",
            "gridcolor": "white",
            "gridwidth": 2,
            "linecolor": "white",
            "showbackground": true,
            "ticks": "",
            "zerolinecolor": "white"
           }
          },
          "shapedefaults": {
           "line": {
            "color": "#2a3f5f"
           }
          },
          "ternary": {
           "aaxis": {
            "gridcolor": "white",
            "linecolor": "white",
            "ticks": ""
           },
           "baxis": {
            "gridcolor": "white",
            "linecolor": "white",
            "ticks": ""
           },
           "bgcolor": "#E5ECF6",
           "caxis": {
            "gridcolor": "white",
            "linecolor": "white",
            "ticks": ""
           }
          },
          "title": {
           "x": 0.05
          },
          "xaxis": {
           "automargin": true,
           "gridcolor": "white",
           "linecolor": "white",
           "ticks": "",
           "title": {
            "standoff": 15
           },
           "zerolinecolor": "white",
           "zerolinewidth": 2
          },
          "yaxis": {
           "automargin": true,
           "gridcolor": "white",
           "linecolor": "white",
           "ticks": "",
           "title": {
            "standoff": 15
           },
           "zerolinecolor": "white",
           "zerolinewidth": 2
          }
         }
        },
        "title": {
         "text": "Energy Production 2050"
        },
        "width": 900
       }
      }
     },
     "metadata": {},
     "output_type": "display_data"
    }
   ],
   "source": [
    "fig = power_pie_plot2(SEASON_DATA)\n",
    "fig.show()\n",
    "\n",
    "if WRITE_FIGS:\n",
    "    fig.write_image(WRITE_DIR / \"power_pie_plot2.png\")\n",
    "\n",
    "fig = power_pie_plot2(EXPENSIVE_HLDH)\n",
    "fig.show()\n",
    "\n",
    "if WRITE_FIGS:\n",
    "    fig.write_image(WRITE_DIR / \"power_pie_plot2_expensive.png\")"
   ]
  },
  {
   "cell_type": "code",
   "execution_count": 347,
   "metadata": {},
   "outputs": [],
   "source": [
    "# Load Par_SpecifiedAnnualDemand.csv\n",
    "\n",
    "def heat_demand_pie_plot(demand_data: pd.DataFrame) -> go.Figure:\n",
    "\n",
    "    # Only 2050\n",
    "    demand_data = demand_data[demand_data[\"Year\"] == 2050]\n",
    "\n",
    "    # Only heat\n",
    "    \"\"\"demand_data = demand_data[demand_data[\"Fuel\"].str.contains(\"Heat\")]\n",
    "\n",
    "    # Delete Heat from the name\n",
    "    demand_data[\"Fuel\"] = demand_data[\"Fuel\"].apply(lambda x: x.replace(\"Heat_\", \"\").strip())\n",
    "\n",
    "    # Make own low industrial\n",
    "    demand_data[\"Fuel\"] = demand_data[\"Fuel\"].apply(lambda x: \"Low_Industrial\" if \"Low_Industrial\" in x else x)\n",
    "\n",
    "    # Group all industrial\n",
    "    demand_data[\"Fuel\"] = demand_data[\"Fuel\"].apply(lambda x: \"Industrial\" if (\"Industrial\" in x) and not (\"Low_Industrial\") in x else x)\n",
    "\n",
    "    # Make Low_Building into Building\n",
    "    demand_data[\"Fuel\"] = demand_data[\"Fuel\"].apply(lambda x: \"Building\" if \"Low_Building\" in x else x)\"\"\"\n",
    "\n",
    "    # Group all heats\n",
    "    \"\"\"demand_data[\"Fuel\"] = demand_data[\"Fuel\"].apply(lambda x: \"Heat\" if (\"Heat\" in x) or (\"Cool\" in x) else x)\n",
    "\n",
    "    # Group others\n",
    "    demand_data[\"Fuel\"] = demand_data[\"Fuel\"].apply(lambda x: \"Others\" if \"Heat\" not in x else x)\n",
    "\n",
    "    # Group by fuel and sum\n",
    "    demand_data = demand_data.groupby(\"Fuel\", as_index=False).sum(numeric_only=True)\"\"\"\n",
    "\n",
    "    # Make a pie plot\n",
    "    fig = go.Figure(data=[go.Pie(labels=demand_data[\"Fuel\"], values=demand_data[\"Value\"], \n",
    "                                    textposition='inside', textinfo='percent+label',\n",
    "                                    textfont=dict(size=50),\n",
    "                                    marker=dict(colors=[my_color_generator(fuel) for fuel in demand_data[\"Fuel\"]]))])\n",
    "\n",
    "    fig.update_layout(\n",
    "        title=\"Demand 2050\",\n",
    "        width=900,\n",
    "        height=800\n",
    "    )\n",
    "\n",
    "    return fig\n",
    "\n",
    "\n"
   ]
  },
  {
   "cell_type": "code",
   "execution_count": 348,
   "metadata": {},
   "outputs": [
    {
     "name": "stdout",
     "output_type": "stream",
     "text": [
      "Total demand 41135.06073447545\n",
      "Hei\n"
     ]
    },
    {
     "name": "stderr",
     "output_type": "stream",
     "text": [
      "C:\\Users\\mortensv\\AppData\\Local\\Temp\\ipykernel_29752\\2540669235.py:24: SettingWithCopyWarning:\n",
      "\n",
      "\n",
      "A value is trying to be set on a copy of a slice from a DataFrame.\n",
      "Try using .loc[row_indexer,col_indexer] = value instead\n",
      "\n",
      "See the caveats in the documentation: https://pandas.pydata.org/pandas-docs/stable/user_guide/indexing.html#returning-a-view-versus-a-copy\n",
      "\n",
      "C:\\Users\\mortensv\\AppData\\Local\\Temp\\ipykernel_29752\\2540669235.py:27: SettingWithCopyWarning:\n",
      "\n",
      "\n",
      "A value is trying to be set on a copy of a slice from a DataFrame.\n",
      "Try using .loc[row_indexer,col_indexer] = value instead\n",
      "\n",
      "See the caveats in the documentation: https://pandas.pydata.org/pandas-docs/stable/user_guide/indexing.html#returning-a-view-versus-a-copy\n",
      "\n"
     ]
    },
    {
     "data": {
      "application/vnd.plotly.v1+json": {
       "config": {
        "plotlyServerURL": "https://plot.ly"
       },
       "data": [
        {
         "labels": [
          "Heat",
          "Others"
         ],
         "marker": {
          "colors": [
           "#a8e39d",
           "#9899e9"
          ]
         },
         "textfont": {
          "size": 50
         },
         "textinfo": "percent+label",
         "textposition": "inside",
         "type": "pie",
         "values": [
          17276.428801371454,
          23858.631933104
         ]
        }
       ],
       "layout": {
        "height": 800,
        "template": {
         "data": {
          "bar": [
           {
            "error_x": {
             "color": "#2a3f5f"
            },
            "error_y": {
             "color": "#2a3f5f"
            },
            "marker": {
             "line": {
              "color": "#E5ECF6",
              "width": 0.5
             },
             "pattern": {
              "fillmode": "overlay",
              "size": 10,
              "solidity": 0.2
             }
            },
            "type": "bar"
           }
          ],
          "barpolar": [
           {
            "marker": {
             "line": {
              "color": "#E5ECF6",
              "width": 0.5
             },
             "pattern": {
              "fillmode": "overlay",
              "size": 10,
              "solidity": 0.2
             }
            },
            "type": "barpolar"
           }
          ],
          "carpet": [
           {
            "aaxis": {
             "endlinecolor": "#2a3f5f",
             "gridcolor": "white",
             "linecolor": "white",
             "minorgridcolor": "white",
             "startlinecolor": "#2a3f5f"
            },
            "baxis": {
             "endlinecolor": "#2a3f5f",
             "gridcolor": "white",
             "linecolor": "white",
             "minorgridcolor": "white",
             "startlinecolor": "#2a3f5f"
            },
            "type": "carpet"
           }
          ],
          "choropleth": [
           {
            "colorbar": {
             "outlinewidth": 0,
             "ticks": ""
            },
            "type": "choropleth"
           }
          ],
          "contour": [
           {
            "colorbar": {
             "outlinewidth": 0,
             "ticks": ""
            },
            "colorscale": [
             [
              0,
              "#0d0887"
             ],
             [
              0.1111111111111111,
              "#46039f"
             ],
             [
              0.2222222222222222,
              "#7201a8"
             ],
             [
              0.3333333333333333,
              "#9c179e"
             ],
             [
              0.4444444444444444,
              "#bd3786"
             ],
             [
              0.5555555555555556,
              "#d8576b"
             ],
             [
              0.6666666666666666,
              "#ed7953"
             ],
             [
              0.7777777777777778,
              "#fb9f3a"
             ],
             [
              0.8888888888888888,
              "#fdca26"
             ],
             [
              1,
              "#f0f921"
             ]
            ],
            "type": "contour"
           }
          ],
          "contourcarpet": [
           {
            "colorbar": {
             "outlinewidth": 0,
             "ticks": ""
            },
            "type": "contourcarpet"
           }
          ],
          "heatmap": [
           {
            "colorbar": {
             "outlinewidth": 0,
             "ticks": ""
            },
            "colorscale": [
             [
              0,
              "#0d0887"
             ],
             [
              0.1111111111111111,
              "#46039f"
             ],
             [
              0.2222222222222222,
              "#7201a8"
             ],
             [
              0.3333333333333333,
              "#9c179e"
             ],
             [
              0.4444444444444444,
              "#bd3786"
             ],
             [
              0.5555555555555556,
              "#d8576b"
             ],
             [
              0.6666666666666666,
              "#ed7953"
             ],
             [
              0.7777777777777778,
              "#fb9f3a"
             ],
             [
              0.8888888888888888,
              "#fdca26"
             ],
             [
              1,
              "#f0f921"
             ]
            ],
            "type": "heatmap"
           }
          ],
          "heatmapgl": [
           {
            "colorbar": {
             "outlinewidth": 0,
             "ticks": ""
            },
            "colorscale": [
             [
              0,
              "#0d0887"
             ],
             [
              0.1111111111111111,
              "#46039f"
             ],
             [
              0.2222222222222222,
              "#7201a8"
             ],
             [
              0.3333333333333333,
              "#9c179e"
             ],
             [
              0.4444444444444444,
              "#bd3786"
             ],
             [
              0.5555555555555556,
              "#d8576b"
             ],
             [
              0.6666666666666666,
              "#ed7953"
             ],
             [
              0.7777777777777778,
              "#fb9f3a"
             ],
             [
              0.8888888888888888,
              "#fdca26"
             ],
             [
              1,
              "#f0f921"
             ]
            ],
            "type": "heatmapgl"
           }
          ],
          "histogram": [
           {
            "marker": {
             "pattern": {
              "fillmode": "overlay",
              "size": 10,
              "solidity": 0.2
             }
            },
            "type": "histogram"
           }
          ],
          "histogram2d": [
           {
            "colorbar": {
             "outlinewidth": 0,
             "ticks": ""
            },
            "colorscale": [
             [
              0,
              "#0d0887"
             ],
             [
              0.1111111111111111,
              "#46039f"
             ],
             [
              0.2222222222222222,
              "#7201a8"
             ],
             [
              0.3333333333333333,
              "#9c179e"
             ],
             [
              0.4444444444444444,
              "#bd3786"
             ],
             [
              0.5555555555555556,
              "#d8576b"
             ],
             [
              0.6666666666666666,
              "#ed7953"
             ],
             [
              0.7777777777777778,
              "#fb9f3a"
             ],
             [
              0.8888888888888888,
              "#fdca26"
             ],
             [
              1,
              "#f0f921"
             ]
            ],
            "type": "histogram2d"
           }
          ],
          "histogram2dcontour": [
           {
            "colorbar": {
             "outlinewidth": 0,
             "ticks": ""
            },
            "colorscale": [
             [
              0,
              "#0d0887"
             ],
             [
              0.1111111111111111,
              "#46039f"
             ],
             [
              0.2222222222222222,
              "#7201a8"
             ],
             [
              0.3333333333333333,
              "#9c179e"
             ],
             [
              0.4444444444444444,
              "#bd3786"
             ],
             [
              0.5555555555555556,
              "#d8576b"
             ],
             [
              0.6666666666666666,
              "#ed7953"
             ],
             [
              0.7777777777777778,
              "#fb9f3a"
             ],
             [
              0.8888888888888888,
              "#fdca26"
             ],
             [
              1,
              "#f0f921"
             ]
            ],
            "type": "histogram2dcontour"
           }
          ],
          "mesh3d": [
           {
            "colorbar": {
             "outlinewidth": 0,
             "ticks": ""
            },
            "type": "mesh3d"
           }
          ],
          "parcoords": [
           {
            "line": {
             "colorbar": {
              "outlinewidth": 0,
              "ticks": ""
             }
            },
            "type": "parcoords"
           }
          ],
          "pie": [
           {
            "automargin": true,
            "type": "pie"
           }
          ],
          "scatter": [
           {
            "fillpattern": {
             "fillmode": "overlay",
             "size": 10,
             "solidity": 0.2
            },
            "type": "scatter"
           }
          ],
          "scatter3d": [
           {
            "line": {
             "colorbar": {
              "outlinewidth": 0,
              "ticks": ""
             }
            },
            "marker": {
             "colorbar": {
              "outlinewidth": 0,
              "ticks": ""
             }
            },
            "type": "scatter3d"
           }
          ],
          "scattercarpet": [
           {
            "marker": {
             "colorbar": {
              "outlinewidth": 0,
              "ticks": ""
             }
            },
            "type": "scattercarpet"
           }
          ],
          "scattergeo": [
           {
            "marker": {
             "colorbar": {
              "outlinewidth": 0,
              "ticks": ""
             }
            },
            "type": "scattergeo"
           }
          ],
          "scattergl": [
           {
            "marker": {
             "colorbar": {
              "outlinewidth": 0,
              "ticks": ""
             }
            },
            "type": "scattergl"
           }
          ],
          "scattermapbox": [
           {
            "marker": {
             "colorbar": {
              "outlinewidth": 0,
              "ticks": ""
             }
            },
            "type": "scattermapbox"
           }
          ],
          "scatterpolar": [
           {
            "marker": {
             "colorbar": {
              "outlinewidth": 0,
              "ticks": ""
             }
            },
            "type": "scatterpolar"
           }
          ],
          "scatterpolargl": [
           {
            "marker": {
             "colorbar": {
              "outlinewidth": 0,
              "ticks": ""
             }
            },
            "type": "scatterpolargl"
           }
          ],
          "scatterternary": [
           {
            "marker": {
             "colorbar": {
              "outlinewidth": 0,
              "ticks": ""
             }
            },
            "type": "scatterternary"
           }
          ],
          "surface": [
           {
            "colorbar": {
             "outlinewidth": 0,
             "ticks": ""
            },
            "colorscale": [
             [
              0,
              "#0d0887"
             ],
             [
              0.1111111111111111,
              "#46039f"
             ],
             [
              0.2222222222222222,
              "#7201a8"
             ],
             [
              0.3333333333333333,
              "#9c179e"
             ],
             [
              0.4444444444444444,
              "#bd3786"
             ],
             [
              0.5555555555555556,
              "#d8576b"
             ],
             [
              0.6666666666666666,
              "#ed7953"
             ],
             [
              0.7777777777777778,
              "#fb9f3a"
             ],
             [
              0.8888888888888888,
              "#fdca26"
             ],
             [
              1,
              "#f0f921"
             ]
            ],
            "type": "surface"
           }
          ],
          "table": [
           {
            "cells": {
             "fill": {
              "color": "#EBF0F8"
             },
             "line": {
              "color": "white"
             }
            },
            "header": {
             "fill": {
              "color": "#C8D4E3"
             },
             "line": {
              "color": "white"
             }
            },
            "type": "table"
           }
          ]
         },
         "layout": {
          "annotationdefaults": {
           "arrowcolor": "#2a3f5f",
           "arrowhead": 0,
           "arrowwidth": 1
          },
          "autotypenumbers": "strict",
          "coloraxis": {
           "colorbar": {
            "outlinewidth": 0,
            "ticks": ""
           }
          },
          "colorscale": {
           "diverging": [
            [
             0,
             "#8e0152"
            ],
            [
             0.1,
             "#c51b7d"
            ],
            [
             0.2,
             "#de77ae"
            ],
            [
             0.3,
             "#f1b6da"
            ],
            [
             0.4,
             "#fde0ef"
            ],
            [
             0.5,
             "#f7f7f7"
            ],
            [
             0.6,
             "#e6f5d0"
            ],
            [
             0.7,
             "#b8e186"
            ],
            [
             0.8,
             "#7fbc41"
            ],
            [
             0.9,
             "#4d9221"
            ],
            [
             1,
             "#276419"
            ]
           ],
           "sequential": [
            [
             0,
             "#0d0887"
            ],
            [
             0.1111111111111111,
             "#46039f"
            ],
            [
             0.2222222222222222,
             "#7201a8"
            ],
            [
             0.3333333333333333,
             "#9c179e"
            ],
            [
             0.4444444444444444,
             "#bd3786"
            ],
            [
             0.5555555555555556,
             "#d8576b"
            ],
            [
             0.6666666666666666,
             "#ed7953"
            ],
            [
             0.7777777777777778,
             "#fb9f3a"
            ],
            [
             0.8888888888888888,
             "#fdca26"
            ],
            [
             1,
             "#f0f921"
            ]
           ],
           "sequentialminus": [
            [
             0,
             "#0d0887"
            ],
            [
             0.1111111111111111,
             "#46039f"
            ],
            [
             0.2222222222222222,
             "#7201a8"
            ],
            [
             0.3333333333333333,
             "#9c179e"
            ],
            [
             0.4444444444444444,
             "#bd3786"
            ],
            [
             0.5555555555555556,
             "#d8576b"
            ],
            [
             0.6666666666666666,
             "#ed7953"
            ],
            [
             0.7777777777777778,
             "#fb9f3a"
            ],
            [
             0.8888888888888888,
             "#fdca26"
            ],
            [
             1,
             "#f0f921"
            ]
           ]
          },
          "colorway": [
           "#636efa",
           "#EF553B",
           "#00cc96",
           "#ab63fa",
           "#FFA15A",
           "#19d3f3",
           "#FF6692",
           "#B6E880",
           "#FF97FF",
           "#FECB52"
          ],
          "font": {
           "color": "#2a3f5f"
          },
          "geo": {
           "bgcolor": "white",
           "lakecolor": "white",
           "landcolor": "#E5ECF6",
           "showlakes": true,
           "showland": true,
           "subunitcolor": "white"
          },
          "hoverlabel": {
           "align": "left"
          },
          "hovermode": "closest",
          "mapbox": {
           "style": "light"
          },
          "paper_bgcolor": "white",
          "plot_bgcolor": "#E5ECF6",
          "polar": {
           "angularaxis": {
            "gridcolor": "white",
            "linecolor": "white",
            "ticks": ""
           },
           "bgcolor": "#E5ECF6",
           "radialaxis": {
            "gridcolor": "white",
            "linecolor": "white",
            "ticks": ""
           }
          },
          "scene": {
           "xaxis": {
            "backgroundcolor": "#E5ECF6",
            "gridcolor": "white",
            "gridwidth": 2,
            "linecolor": "white",
            "showbackground": true,
            "ticks": "",
            "zerolinecolor": "white"
           },
           "yaxis": {
            "backgroundcolor": "#E5ECF6",
            "gridcolor": "white",
            "gridwidth": 2,
            "linecolor": "white",
            "showbackground": true,
            "ticks": "",
            "zerolinecolor": "white"
           },
           "zaxis": {
            "backgroundcolor": "#E5ECF6",
            "gridcolor": "white",
            "gridwidth": 2,
            "linecolor": "white",
            "showbackground": true,
            "ticks": "",
            "zerolinecolor": "white"
           }
          },
          "shapedefaults": {
           "line": {
            "color": "#2a3f5f"
           }
          },
          "ternary": {
           "aaxis": {
            "gridcolor": "white",
            "linecolor": "white",
            "ticks": ""
           },
           "baxis": {
            "gridcolor": "white",
            "linecolor": "white",
            "ticks": ""
           },
           "bgcolor": "#E5ECF6",
           "caxis": {
            "gridcolor": "white",
            "linecolor": "white",
            "ticks": ""
           }
          },
          "title": {
           "x": 0.05
          },
          "xaxis": {
           "automargin": true,
           "gridcolor": "white",
           "linecolor": "white",
           "ticks": "",
           "title": {
            "standoff": 15
           },
           "zerolinecolor": "white",
           "zerolinewidth": 2
          },
          "yaxis": {
           "automargin": true,
           "gridcolor": "white",
           "linecolor": "white",
           "ticks": "",
           "title": {
            "standoff": 15
           },
           "zerolinecolor": "white",
           "zerolinewidth": 2
          }
         }
        },
        "title": {
         "text": "Demand 2050"
        },
        "width": 900
       }
      }
     },
     "metadata": {},
     "output_type": "display_data"
    },
    {
     "name": "stderr",
     "output_type": "stream",
     "text": [
      "C:\\Users\\mortensv\\AppData\\Local\\Temp\\ipykernel_29752\\2540669235.py:24: SettingWithCopyWarning:\n",
      "\n",
      "\n",
      "A value is trying to be set on a copy of a slice from a DataFrame.\n",
      "Try using .loc[row_indexer,col_indexer] = value instead\n",
      "\n",
      "See the caveats in the documentation: https://pandas.pydata.org/pandas-docs/stable/user_guide/indexing.html#returning-a-view-versus-a-copy\n",
      "\n",
      "C:\\Users\\mortensv\\AppData\\Local\\Temp\\ipykernel_29752\\2540669235.py:27: SettingWithCopyWarning:\n",
      "\n",
      "\n",
      "A value is trying to be set on a copy of a slice from a DataFrame.\n",
      "Try using .loc[row_indexer,col_indexer] = value instead\n",
      "\n",
      "See the caveats in the documentation: https://pandas.pydata.org/pandas-docs/stable/user_guide/indexing.html#returning-a-view-versus-a-copy\n",
      "\n"
     ]
    },
    {
     "data": {
      "application/vnd.plotly.v1+json": {
       "config": {
        "plotlyServerURL": "https://plot.ly"
       },
       "data": [
        {
         "labels": [
          "Heat",
          "Others"
         ],
         "marker": {
          "colors": [
           "#a8e39d",
           "#9899e9"
          ]
         },
         "textfont": {
          "size": 50
         },
         "textinfo": "percent+label",
         "textposition": "inside",
         "type": "pie",
         "values": [
          17276.42880137145,
          23858.631933104
         ]
        }
       ],
       "layout": {
        "height": 800,
        "template": {
         "data": {
          "bar": [
           {
            "error_x": {
             "color": "#2a3f5f"
            },
            "error_y": {
             "color": "#2a3f5f"
            },
            "marker": {
             "line": {
              "color": "#E5ECF6",
              "width": 0.5
             },
             "pattern": {
              "fillmode": "overlay",
              "size": 10,
              "solidity": 0.2
             }
            },
            "type": "bar"
           }
          ],
          "barpolar": [
           {
            "marker": {
             "line": {
              "color": "#E5ECF6",
              "width": 0.5
             },
             "pattern": {
              "fillmode": "overlay",
              "size": 10,
              "solidity": 0.2
             }
            },
            "type": "barpolar"
           }
          ],
          "carpet": [
           {
            "aaxis": {
             "endlinecolor": "#2a3f5f",
             "gridcolor": "white",
             "linecolor": "white",
             "minorgridcolor": "white",
             "startlinecolor": "#2a3f5f"
            },
            "baxis": {
             "endlinecolor": "#2a3f5f",
             "gridcolor": "white",
             "linecolor": "white",
             "minorgridcolor": "white",
             "startlinecolor": "#2a3f5f"
            },
            "type": "carpet"
           }
          ],
          "choropleth": [
           {
            "colorbar": {
             "outlinewidth": 0,
             "ticks": ""
            },
            "type": "choropleth"
           }
          ],
          "contour": [
           {
            "colorbar": {
             "outlinewidth": 0,
             "ticks": ""
            },
            "colorscale": [
             [
              0,
              "#0d0887"
             ],
             [
              0.1111111111111111,
              "#46039f"
             ],
             [
              0.2222222222222222,
              "#7201a8"
             ],
             [
              0.3333333333333333,
              "#9c179e"
             ],
             [
              0.4444444444444444,
              "#bd3786"
             ],
             [
              0.5555555555555556,
              "#d8576b"
             ],
             [
              0.6666666666666666,
              "#ed7953"
             ],
             [
              0.7777777777777778,
              "#fb9f3a"
             ],
             [
              0.8888888888888888,
              "#fdca26"
             ],
             [
              1,
              "#f0f921"
             ]
            ],
            "type": "contour"
           }
          ],
          "contourcarpet": [
           {
            "colorbar": {
             "outlinewidth": 0,
             "ticks": ""
            },
            "type": "contourcarpet"
           }
          ],
          "heatmap": [
           {
            "colorbar": {
             "outlinewidth": 0,
             "ticks": ""
            },
            "colorscale": [
             [
              0,
              "#0d0887"
             ],
             [
              0.1111111111111111,
              "#46039f"
             ],
             [
              0.2222222222222222,
              "#7201a8"
             ],
             [
              0.3333333333333333,
              "#9c179e"
             ],
             [
              0.4444444444444444,
              "#bd3786"
             ],
             [
              0.5555555555555556,
              "#d8576b"
             ],
             [
              0.6666666666666666,
              "#ed7953"
             ],
             [
              0.7777777777777778,
              "#fb9f3a"
             ],
             [
              0.8888888888888888,
              "#fdca26"
             ],
             [
              1,
              "#f0f921"
             ]
            ],
            "type": "heatmap"
           }
          ],
          "heatmapgl": [
           {
            "colorbar": {
             "outlinewidth": 0,
             "ticks": ""
            },
            "colorscale": [
             [
              0,
              "#0d0887"
             ],
             [
              0.1111111111111111,
              "#46039f"
             ],
             [
              0.2222222222222222,
              "#7201a8"
             ],
             [
              0.3333333333333333,
              "#9c179e"
             ],
             [
              0.4444444444444444,
              "#bd3786"
             ],
             [
              0.5555555555555556,
              "#d8576b"
             ],
             [
              0.6666666666666666,
              "#ed7953"
             ],
             [
              0.7777777777777778,
              "#fb9f3a"
             ],
             [
              0.8888888888888888,
              "#fdca26"
             ],
             [
              1,
              "#f0f921"
             ]
            ],
            "type": "heatmapgl"
           }
          ],
          "histogram": [
           {
            "marker": {
             "pattern": {
              "fillmode": "overlay",
              "size": 10,
              "solidity": 0.2
             }
            },
            "type": "histogram"
           }
          ],
          "histogram2d": [
           {
            "colorbar": {
             "outlinewidth": 0,
             "ticks": ""
            },
            "colorscale": [
             [
              0,
              "#0d0887"
             ],
             [
              0.1111111111111111,
              "#46039f"
             ],
             [
              0.2222222222222222,
              "#7201a8"
             ],
             [
              0.3333333333333333,
              "#9c179e"
             ],
             [
              0.4444444444444444,
              "#bd3786"
             ],
             [
              0.5555555555555556,
              "#d8576b"
             ],
             [
              0.6666666666666666,
              "#ed7953"
             ],
             [
              0.7777777777777778,
              "#fb9f3a"
             ],
             [
              0.8888888888888888,
              "#fdca26"
             ],
             [
              1,
              "#f0f921"
             ]
            ],
            "type": "histogram2d"
           }
          ],
          "histogram2dcontour": [
           {
            "colorbar": {
             "outlinewidth": 0,
             "ticks": ""
            },
            "colorscale": [
             [
              0,
              "#0d0887"
             ],
             [
              0.1111111111111111,
              "#46039f"
             ],
             [
              0.2222222222222222,
              "#7201a8"
             ],
             [
              0.3333333333333333,
              "#9c179e"
             ],
             [
              0.4444444444444444,
              "#bd3786"
             ],
             [
              0.5555555555555556,
              "#d8576b"
             ],
             [
              0.6666666666666666,
              "#ed7953"
             ],
             [
              0.7777777777777778,
              "#fb9f3a"
             ],
             [
              0.8888888888888888,
              "#fdca26"
             ],
             [
              1,
              "#f0f921"
             ]
            ],
            "type": "histogram2dcontour"
           }
          ],
          "mesh3d": [
           {
            "colorbar": {
             "outlinewidth": 0,
             "ticks": ""
            },
            "type": "mesh3d"
           }
          ],
          "parcoords": [
           {
            "line": {
             "colorbar": {
              "outlinewidth": 0,
              "ticks": ""
             }
            },
            "type": "parcoords"
           }
          ],
          "pie": [
           {
            "automargin": true,
            "type": "pie"
           }
          ],
          "scatter": [
           {
            "fillpattern": {
             "fillmode": "overlay",
             "size": 10,
             "solidity": 0.2
            },
            "type": "scatter"
           }
          ],
          "scatter3d": [
           {
            "line": {
             "colorbar": {
              "outlinewidth": 0,
              "ticks": ""
             }
            },
            "marker": {
             "colorbar": {
              "outlinewidth": 0,
              "ticks": ""
             }
            },
            "type": "scatter3d"
           }
          ],
          "scattercarpet": [
           {
            "marker": {
             "colorbar": {
              "outlinewidth": 0,
              "ticks": ""
             }
            },
            "type": "scattercarpet"
           }
          ],
          "scattergeo": [
           {
            "marker": {
             "colorbar": {
              "outlinewidth": 0,
              "ticks": ""
             }
            },
            "type": "scattergeo"
           }
          ],
          "scattergl": [
           {
            "marker": {
             "colorbar": {
              "outlinewidth": 0,
              "ticks": ""
             }
            },
            "type": "scattergl"
           }
          ],
          "scattermapbox": [
           {
            "marker": {
             "colorbar": {
              "outlinewidth": 0,
              "ticks": ""
             }
            },
            "type": "scattermapbox"
           }
          ],
          "scatterpolar": [
           {
            "marker": {
             "colorbar": {
              "outlinewidth": 0,
              "ticks": ""
             }
            },
            "type": "scatterpolar"
           }
          ],
          "scatterpolargl": [
           {
            "marker": {
             "colorbar": {
              "outlinewidth": 0,
              "ticks": ""
             }
            },
            "type": "scatterpolargl"
           }
          ],
          "scatterternary": [
           {
            "marker": {
             "colorbar": {
              "outlinewidth": 0,
              "ticks": ""
             }
            },
            "type": "scatterternary"
           }
          ],
          "surface": [
           {
            "colorbar": {
             "outlinewidth": 0,
             "ticks": ""
            },
            "colorscale": [
             [
              0,
              "#0d0887"
             ],
             [
              0.1111111111111111,
              "#46039f"
             ],
             [
              0.2222222222222222,
              "#7201a8"
             ],
             [
              0.3333333333333333,
              "#9c179e"
             ],
             [
              0.4444444444444444,
              "#bd3786"
             ],
             [
              0.5555555555555556,
              "#d8576b"
             ],
             [
              0.6666666666666666,
              "#ed7953"
             ],
             [
              0.7777777777777778,
              "#fb9f3a"
             ],
             [
              0.8888888888888888,
              "#fdca26"
             ],
             [
              1,
              "#f0f921"
             ]
            ],
            "type": "surface"
           }
          ],
          "table": [
           {
            "cells": {
             "fill": {
              "color": "#EBF0F8"
             },
             "line": {
              "color": "white"
             }
            },
            "header": {
             "fill": {
              "color": "#C8D4E3"
             },
             "line": {
              "color": "white"
             }
            },
            "type": "table"
           }
          ]
         },
         "layout": {
          "annotationdefaults": {
           "arrowcolor": "#2a3f5f",
           "arrowhead": 0,
           "arrowwidth": 1
          },
          "autotypenumbers": "strict",
          "coloraxis": {
           "colorbar": {
            "outlinewidth": 0,
            "ticks": ""
           }
          },
          "colorscale": {
           "diverging": [
            [
             0,
             "#8e0152"
            ],
            [
             0.1,
             "#c51b7d"
            ],
            [
             0.2,
             "#de77ae"
            ],
            [
             0.3,
             "#f1b6da"
            ],
            [
             0.4,
             "#fde0ef"
            ],
            [
             0.5,
             "#f7f7f7"
            ],
            [
             0.6,
             "#e6f5d0"
            ],
            [
             0.7,
             "#b8e186"
            ],
            [
             0.8,
             "#7fbc41"
            ],
            [
             0.9,
             "#4d9221"
            ],
            [
             1,
             "#276419"
            ]
           ],
           "sequential": [
            [
             0,
             "#0d0887"
            ],
            [
             0.1111111111111111,
             "#46039f"
            ],
            [
             0.2222222222222222,
             "#7201a8"
            ],
            [
             0.3333333333333333,
             "#9c179e"
            ],
            [
             0.4444444444444444,
             "#bd3786"
            ],
            [
             0.5555555555555556,
             "#d8576b"
            ],
            [
             0.6666666666666666,
             "#ed7953"
            ],
            [
             0.7777777777777778,
             "#fb9f3a"
            ],
            [
             0.8888888888888888,
             "#fdca26"
            ],
            [
             1,
             "#f0f921"
            ]
           ],
           "sequentialminus": [
            [
             0,
             "#0d0887"
            ],
            [
             0.1111111111111111,
             "#46039f"
            ],
            [
             0.2222222222222222,
             "#7201a8"
            ],
            [
             0.3333333333333333,
             "#9c179e"
            ],
            [
             0.4444444444444444,
             "#bd3786"
            ],
            [
             0.5555555555555556,
             "#d8576b"
            ],
            [
             0.6666666666666666,
             "#ed7953"
            ],
            [
             0.7777777777777778,
             "#fb9f3a"
            ],
            [
             0.8888888888888888,
             "#fdca26"
            ],
            [
             1,
             "#f0f921"
            ]
           ]
          },
          "colorway": [
           "#636efa",
           "#EF553B",
           "#00cc96",
           "#ab63fa",
           "#FFA15A",
           "#19d3f3",
           "#FF6692",
           "#B6E880",
           "#FF97FF",
           "#FECB52"
          ],
          "font": {
           "color": "#2a3f5f"
          },
          "geo": {
           "bgcolor": "white",
           "lakecolor": "white",
           "landcolor": "#E5ECF6",
           "showlakes": true,
           "showland": true,
           "subunitcolor": "white"
          },
          "hoverlabel": {
           "align": "left"
          },
          "hovermode": "closest",
          "mapbox": {
           "style": "light"
          },
          "paper_bgcolor": "white",
          "plot_bgcolor": "#E5ECF6",
          "polar": {
           "angularaxis": {
            "gridcolor": "white",
            "linecolor": "white",
            "ticks": ""
           },
           "bgcolor": "#E5ECF6",
           "radialaxis": {
            "gridcolor": "white",
            "linecolor": "white",
            "ticks": ""
           }
          },
          "scene": {
           "xaxis": {
            "backgroundcolor": "#E5ECF6",
            "gridcolor": "white",
            "gridwidth": 2,
            "linecolor": "white",
            "showbackground": true,
            "ticks": "",
            "zerolinecolor": "white"
           },
           "yaxis": {
            "backgroundcolor": "#E5ECF6",
            "gridcolor": "white",
            "gridwidth": 2,
            "linecolor": "white",
            "showbackground": true,
            "ticks": "",
            "zerolinecolor": "white"
           },
           "zaxis": {
            "backgroundcolor": "#E5ECF6",
            "gridcolor": "white",
            "gridwidth": 2,
            "linecolor": "white",
            "showbackground": true,
            "ticks": "",
            "zerolinecolor": "white"
           }
          },
          "shapedefaults": {
           "line": {
            "color": "#2a3f5f"
           }
          },
          "ternary": {
           "aaxis": {
            "gridcolor": "white",
            "linecolor": "white",
            "ticks": ""
           },
           "baxis": {
            "gridcolor": "white",
            "linecolor": "white",
            "ticks": ""
           },
           "bgcolor": "#E5ECF6",
           "caxis": {
            "gridcolor": "white",
            "linecolor": "white",
            "ticks": ""
           }
          },
          "title": {
           "x": 0.05
          },
          "xaxis": {
           "automargin": true,
           "gridcolor": "white",
           "linecolor": "white",
           "ticks": "",
           "title": {
            "standoff": 15
           },
           "zerolinecolor": "white",
           "zerolinewidth": 2
          },
          "yaxis": {
           "automargin": true,
           "gridcolor": "white",
           "linecolor": "white",
           "ticks": "",
           "title": {
            "standoff": 15
           },
           "zerolinecolor": "white",
           "zerolinewidth": 2
          }
         }
        },
        "title": {
         "text": "Demand 2050"
        },
        "width": 900
       }
      }
     },
     "metadata": {},
     "output_type": "display_data"
    }
   ],
   "source": [
    "#demand_data = pd.read_csv(SOLUTION_DIR / \"Par_SpecifiedAnnualDemand.csv\")\n",
    "demand_data = pd.read_excel(SOLUTION_DIR / \"Parameter_seasonal.xlsx\", sheet_name=\"Par_SpecifiedAnnualDemand\")\n",
    "\n",
    "# Summed demand 2050\n",
    "total_demand = demand_data[demand_data[\"Year\"] == 2050][\"Value\"].sum()\n",
    "\n",
    "print(\"Total demand\", total_demand)\n",
    "\n",
    "fig = heat_demand_pie_plot(demand_data)\n",
    "\n",
    "if WRITE_FIGS:\n",
    "    print(\"Hei\")\n",
    "    fig.write_image(WRITE_DIR / \"heat_demand_2050_pie_plot.png\")\n",
    "\n",
    "fig.show()\n",
    "\n",
    "# Read demand data from sheet in excel\n",
    "\n",
    "demand_data = pd.read_excel(SOLUTION_DIR / \"Parameter_seasonal_District35.xlsx\", sheet_name=\"Par_SpecifiedAnnualDemand\")\n",
    "\n",
    "heat_demand_pie_plot(demand_data).show()\n"
   ]
  }
 ],
 "metadata": {
  "kernelspec": {
   "display_name": "scenario_dashboard",
   "language": "python",
   "name": "python3"
  },
  "language_info": {
   "codemirror_mode": {
    "name": "ipython",
    "version": 3
   },
   "file_extension": ".py",
   "mimetype": "text/x-python",
   "name": "python",
   "nbconvert_exporter": "python",
   "pygments_lexer": "ipython3",
   "version": "3.12.4"
  }
 },
 "nbformat": 4,
 "nbformat_minor": 2
}
