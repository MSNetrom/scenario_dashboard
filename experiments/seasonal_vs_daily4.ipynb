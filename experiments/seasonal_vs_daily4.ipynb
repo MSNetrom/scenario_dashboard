{
 "cells": [
  {
   "cell_type": "code",
   "execution_count": 2,
   "metadata": {},
   "outputs": [],
   "source": [
    "%load_ext autoreload\n",
    "%autoreload 2\n",
    "\n",
    "import sys, os\n",
    "from pathlib import Path\n",
    "import plotly.graph_objects as go\n",
    "from typing import Iterable\n",
    "import pandas as pd\n",
    "\n",
    "# Fix import\n",
    "sys.path.append(os.path.abspath(os.path.join('..')))\n",
    "from facilitators import BarFacilitator, StackedQuantityEvolutionFacilitatorBase, StackedQuantityEvolutionFacilitatorBase2\n",
    "from data import read_sol_keys, AGGREGATION, aggregator\n",
    "from data import data_processor as dp\n",
    "from facilitators import my_color_generator"
   ]
  },
  {
   "cell_type": "code",
   "execution_count": 3,
   "metadata": {},
   "outputs": [],
   "source": [
    "PROJECT_ROOT_DIR = Path().resolve().parent\n",
    "SOLUTION_DIR = PROJECT_ROOT_DIR / \"solution_files3\"\n",
    "\n",
    "#EXPENSIVE_HLDH = SOLUTION_DIR / \"solution_seasonal_free_3_d40_h6_s6_6.sol\"\n",
    "EXPENSIVE_HLDH = SOLUTION_DIR / \"solution_seasonal_10HLDH_d40_h6_s6_6.sol\"\n",
    "SEASON_DATA = SOLUTION_DIR / \"solution_seasonal_d40_h6_s6_6.sol\"\n",
    "\n",
    "WRITE_DIR = PROJECT_ROOT_DIR / \"generated_figs3\"\n",
    "WRITE_FIGS = True\n",
    "\n",
    "REGION = \"ALL\"\n",
    "YEAR = 2050"
   ]
  },
  {
   "cell_type": "code",
   "execution_count": 4,
   "metadata": {},
   "outputs": [],
   "source": [
    "def stacked_accumulated_energy(sol_path: str, region: str = \"ALL\", title_addon: str = None, write_fig = False) -> go.Figure:\n",
    "    storage_evolution = StackedQuantityEvolutionFacilitatorBase2(sol_path=sol_path, type_of_data_to_read=\"NewStorageCapacity\", extra_identifying_columns=[\"Region\"])\n",
    "\n",
    "    d = storage_evolution.get_relevant_data()\n",
    "    #d.show_example_rows(5)\n",
    "    d.filter_by_containing_string(column=\"Storage\", identifier=\"S_Heat_HLDH\")\n",
    "\n",
    "    #if region == \"ALL\":\n",
    "        #d.aggreagate_all_by_sum(column_to_aggregate=\"Region\", aggregated_entry_name=region, column_to_sum=\"Value\")\n",
    "\n",
    "    # Remove those who are 0 for all years\n",
    "    techs_over_zero = d.df[d.df[\"Value\"] > 0][\"Region\"].unique()\n",
    "    d.filter_by_list(column=\"Region\", identifier_list=techs_over_zero)\n",
    "\n",
    "    # Do cumsum over years\n",
    "    d.df[\"Value\"] = d.df.groupby(\"Region\")[\"Value\"].cumsum()\n",
    "\n",
    "    # Keep the 5 biggest regions in 2050\n",
    "    top_regions = d.df[d.df[\"Year\"] == YEAR].nlargest(5, \"Value\")[\"Region\"].values\n",
    "    bottom_regions = set(d.df[\"Region\"].unique()) - set(top_regions)\n",
    "    bottom_df = d.df[d.df[\"Region\"].isin(bottom_regions)]\n",
    "\n",
    "    # Aggregate the bottom regions\n",
    "    bottom_df[\"Region\"] = \"Others\"\n",
    "    bottom_df = bottom_df.groupby([col for col in bottom_df.columns if col != \"Value\"], as_index=False).sum(numeric_only=True)\n",
    "\n",
    "    d.filter_by_list(column=\"Region\", identifier_list=top_regions)\n",
    "    d.df = pd.concat([d.df, bottom_df], ignore_index=True)\n",
    "    \n",
    "    traces = storage_evolution.generate_traces(d)\n",
    "\n",
    "\n",
    "    # Sort the traces by the value in 2050\n",
    "    traces = sorted(traces, key=lambda x: x.y[-1], reverse=True)\n",
    "\n",
    "    # But put the \"Others\" at the end\n",
    "    traces = [x for x in traces if x.name == \"Others\"] + [x for x in traces if x.name != \"Others\"]\n",
    "\n",
    "    fig = storage_evolution.plot(traces)\n",
    "\n",
    "    fig.update_layout(\n",
    "        width=1400,\n",
    "        height=800,\n",
    "        title=f\"Accumulated Storage Capacity District Heat Europe\",\n",
    "        yaxis_title=\"TWh\",\n",
    "        xaxis_title=\"Year\",\n",
    "    )\n",
    "\n",
    "    if write_fig:\n",
    "        fig.write_image(WRITE_DIR / f\"stacked_accumulated_storage_energy_region_{region}_{title_addon}.png\")\n",
    "\n",
    "    return fig"
   ]
  },
  {
   "cell_type": "code",
   "execution_count": 5,
   "metadata": {},
   "outputs": [
    {
     "name": "stdout",
     "output_type": "stream",
     "text": [
      "Converting from PetaJoules to TerraWattHours\n"
     ]
    },
    {
     "name": "stderr",
     "output_type": "stream",
     "text": [
      "C:\\Users\\mortensv\\AppData\\Local\\Temp\\ipykernel_15420\\1857296959.py:24: SettingWithCopyWarning: \n",
      "A value is trying to be set on a copy of a slice from a DataFrame.\n",
      "Try using .loc[row_indexer,col_indexer] = value instead\n",
      "\n",
      "See the caveats in the documentation: https://pandas.pydata.org/pandas-docs/stable/user_guide/indexing.html#returning-a-view-versus-a-copy\n",
      "  bottom_df[\"Region\"] = \"Others\"\n"
     ]
    },
    {
     "data": {
      "application/vnd.plotly.v1+json": {
       "config": {
        "plotlyServerURL": "https://plot.ly"
       },
       "data": [
        {
         "fillcolor": "#9899e9",
         "legendgroup": "Others",
         "line": {
          "color": "#9899e9"
         },
         "name": "Others",
         "showlegend": true,
         "stackgroup": "one",
         "type": "scatter",
         "x": [
          2040,
          2035,
          2030,
          2025,
          2018,
          2050,
          2045
         ],
         "y": [
          58.156563436311174,
          38.38006905427775,
          13.38531672549888,
          0.5090592561727258,
          1.036608214995551e-8,
          94.29141922114714,
          76.7663585968077
         ]
        },
        {
         "fillcolor": "#b9d7e5",
         "legendgroup": "DE",
         "line": {
          "color": "#b9d7e5"
         },
         "name": "DE",
         "showlegend": true,
         "stackgroup": "one",
         "type": "scatter",
         "x": [
          2018,
          2025,
          2030,
          2035,
          2040,
          2045,
          2050
         ],
         "y": [
          3.8443512391059105e-10,
          3.1937304733072893,
          15.340491149397023,
          40.159559154494374,
          64.57722166264125,
          85.31980146283261,
          104.84170081674482
         ]
        },
        {
         "fillcolor": "#91e7d2",
         "legendgroup": "TR",
         "line": {
          "color": "#91e7d2"
         },
         "name": "TR",
         "showlegend": true,
         "stackgroup": "one",
         "type": "scatter",
         "x": [
          2050,
          2040,
          2035,
          2030,
          2025,
          2018,
          2045
         ],
         "y": [
          82.98764653597709,
          44.62404635713038,
          30.415107010684384,
          15.897667636235127,
          1.2193015052813473e-7,
          3.788895974489402e-10,
          63.01119346051733
         ]
        },
        {
         "fillcolor": "#e3aca2",
         "legendgroup": "FR",
         "line": {
          "color": "#e3aca2"
         },
         "name": "FR",
         "showlegend": true,
         "stackgroup": "one",
         "type": "scatter",
         "x": [
          2050,
          2045,
          2040,
          2025,
          2030,
          2018,
          2035
         ],
         "y": [
          68.90471205182749,
          54.71641048557683,
          41.24150200688765,
          5.793455622311192e-8,
          9.485535165079575,
          3.432714831054514e-10,
          27.562289466510997
         ]
        },
        {
         "fillcolor": "#f386fb",
         "legendgroup": "IT",
         "line": {
          "color": "#f386fb"
         },
         "name": "IT",
         "showlegend": true,
         "stackgroup": "one",
         "type": "scatter",
         "x": [
          2040,
          2045,
          2035,
          2050,
          2025,
          2018,
          2030
         ],
         "y": [
          22.256454369571124,
          31.09554802109937,
          12.971450510355188,
          37.60651566343504,
          2.010594869002857e-7,
          4.577959180739491e-10,
          1.8046822621859693
         ]
        },
        {
         "fillcolor": "#a2e7f7",
         "legendgroup": "UK",
         "line": {
          "color": "#a2e7f7"
         },
         "name": "UK",
         "showlegend": true,
         "stackgroup": "one",
         "type": "scatter",
         "x": [
          2018,
          2030,
          2035,
          2040,
          2045,
          2050,
          2025
         ],
         "y": [
          4.0933444860689823e-10,
          7.96958159366714,
          18.308037153199706,
          27.424829092165147,
          35.587487847737506,
          41.21699685326959,
          3.877858888831354e-8
         ]
        }
       ],
       "layout": {
        "barmode": "stack",
        "font": {
         "size": 22
        },
        "height": 800,
        "legend": {
         "traceorder": "reversed"
        },
        "template": {
         "data": {
          "bar": [
           {
            "error_x": {
             "color": "#2a3f5f"
            },
            "error_y": {
             "color": "#2a3f5f"
            },
            "marker": {
             "line": {
              "color": "#E5ECF6",
              "width": 0.5
             },
             "pattern": {
              "fillmode": "overlay",
              "size": 10,
              "solidity": 0.2
             }
            },
            "type": "bar"
           }
          ],
          "barpolar": [
           {
            "marker": {
             "line": {
              "color": "#E5ECF6",
              "width": 0.5
             },
             "pattern": {
              "fillmode": "overlay",
              "size": 10,
              "solidity": 0.2
             }
            },
            "type": "barpolar"
           }
          ],
          "carpet": [
           {
            "aaxis": {
             "endlinecolor": "#2a3f5f",
             "gridcolor": "white",
             "linecolor": "white",
             "minorgridcolor": "white",
             "startlinecolor": "#2a3f5f"
            },
            "baxis": {
             "endlinecolor": "#2a3f5f",
             "gridcolor": "white",
             "linecolor": "white",
             "minorgridcolor": "white",
             "startlinecolor": "#2a3f5f"
            },
            "type": "carpet"
           }
          ],
          "choropleth": [
           {
            "colorbar": {
             "outlinewidth": 0,
             "ticks": ""
            },
            "type": "choropleth"
           }
          ],
          "contour": [
           {
            "colorbar": {
             "outlinewidth": 0,
             "ticks": ""
            },
            "colorscale": [
             [
              0,
              "#0d0887"
             ],
             [
              0.1111111111111111,
              "#46039f"
             ],
             [
              0.2222222222222222,
              "#7201a8"
             ],
             [
              0.3333333333333333,
              "#9c179e"
             ],
             [
              0.4444444444444444,
              "#bd3786"
             ],
             [
              0.5555555555555556,
              "#d8576b"
             ],
             [
              0.6666666666666666,
              "#ed7953"
             ],
             [
              0.7777777777777778,
              "#fb9f3a"
             ],
             [
              0.8888888888888888,
              "#fdca26"
             ],
             [
              1,
              "#f0f921"
             ]
            ],
            "type": "contour"
           }
          ],
          "contourcarpet": [
           {
            "colorbar": {
             "outlinewidth": 0,
             "ticks": ""
            },
            "type": "contourcarpet"
           }
          ],
          "heatmap": [
           {
            "colorbar": {
             "outlinewidth": 0,
             "ticks": ""
            },
            "colorscale": [
             [
              0,
              "#0d0887"
             ],
             [
              0.1111111111111111,
              "#46039f"
             ],
             [
              0.2222222222222222,
              "#7201a8"
             ],
             [
              0.3333333333333333,
              "#9c179e"
             ],
             [
              0.4444444444444444,
              "#bd3786"
             ],
             [
              0.5555555555555556,
              "#d8576b"
             ],
             [
              0.6666666666666666,
              "#ed7953"
             ],
             [
              0.7777777777777778,
              "#fb9f3a"
             ],
             [
              0.8888888888888888,
              "#fdca26"
             ],
             [
              1,
              "#f0f921"
             ]
            ],
            "type": "heatmap"
           }
          ],
          "heatmapgl": [
           {
            "colorbar": {
             "outlinewidth": 0,
             "ticks": ""
            },
            "colorscale": [
             [
              0,
              "#0d0887"
             ],
             [
              0.1111111111111111,
              "#46039f"
             ],
             [
              0.2222222222222222,
              "#7201a8"
             ],
             [
              0.3333333333333333,
              "#9c179e"
             ],
             [
              0.4444444444444444,
              "#bd3786"
             ],
             [
              0.5555555555555556,
              "#d8576b"
             ],
             [
              0.6666666666666666,
              "#ed7953"
             ],
             [
              0.7777777777777778,
              "#fb9f3a"
             ],
             [
              0.8888888888888888,
              "#fdca26"
             ],
             [
              1,
              "#f0f921"
             ]
            ],
            "type": "heatmapgl"
           }
          ],
          "histogram": [
           {
            "marker": {
             "pattern": {
              "fillmode": "overlay",
              "size": 10,
              "solidity": 0.2
             }
            },
            "type": "histogram"
           }
          ],
          "histogram2d": [
           {
            "colorbar": {
             "outlinewidth": 0,
             "ticks": ""
            },
            "colorscale": [
             [
              0,
              "#0d0887"
             ],
             [
              0.1111111111111111,
              "#46039f"
             ],
             [
              0.2222222222222222,
              "#7201a8"
             ],
             [
              0.3333333333333333,
              "#9c179e"
             ],
             [
              0.4444444444444444,
              "#bd3786"
             ],
             [
              0.5555555555555556,
              "#d8576b"
             ],
             [
              0.6666666666666666,
              "#ed7953"
             ],
             [
              0.7777777777777778,
              "#fb9f3a"
             ],
             [
              0.8888888888888888,
              "#fdca26"
             ],
             [
              1,
              "#f0f921"
             ]
            ],
            "type": "histogram2d"
           }
          ],
          "histogram2dcontour": [
           {
            "colorbar": {
             "outlinewidth": 0,
             "ticks": ""
            },
            "colorscale": [
             [
              0,
              "#0d0887"
             ],
             [
              0.1111111111111111,
              "#46039f"
             ],
             [
              0.2222222222222222,
              "#7201a8"
             ],
             [
              0.3333333333333333,
              "#9c179e"
             ],
             [
              0.4444444444444444,
              "#bd3786"
             ],
             [
              0.5555555555555556,
              "#d8576b"
             ],
             [
              0.6666666666666666,
              "#ed7953"
             ],
             [
              0.7777777777777778,
              "#fb9f3a"
             ],
             [
              0.8888888888888888,
              "#fdca26"
             ],
             [
              1,
              "#f0f921"
             ]
            ],
            "type": "histogram2dcontour"
           }
          ],
          "mesh3d": [
           {
            "colorbar": {
             "outlinewidth": 0,
             "ticks": ""
            },
            "type": "mesh3d"
           }
          ],
          "parcoords": [
           {
            "line": {
             "colorbar": {
              "outlinewidth": 0,
              "ticks": ""
             }
            },
            "type": "parcoords"
           }
          ],
          "pie": [
           {
            "automargin": true,
            "type": "pie"
           }
          ],
          "scatter": [
           {
            "fillpattern": {
             "fillmode": "overlay",
             "size": 10,
             "solidity": 0.2
            },
            "type": "scatter"
           }
          ],
          "scatter3d": [
           {
            "line": {
             "colorbar": {
              "outlinewidth": 0,
              "ticks": ""
             }
            },
            "marker": {
             "colorbar": {
              "outlinewidth": 0,
              "ticks": ""
             }
            },
            "type": "scatter3d"
           }
          ],
          "scattercarpet": [
           {
            "marker": {
             "colorbar": {
              "outlinewidth": 0,
              "ticks": ""
             }
            },
            "type": "scattercarpet"
           }
          ],
          "scattergeo": [
           {
            "marker": {
             "colorbar": {
              "outlinewidth": 0,
              "ticks": ""
             }
            },
            "type": "scattergeo"
           }
          ],
          "scattergl": [
           {
            "marker": {
             "colorbar": {
              "outlinewidth": 0,
              "ticks": ""
             }
            },
            "type": "scattergl"
           }
          ],
          "scattermapbox": [
           {
            "marker": {
             "colorbar": {
              "outlinewidth": 0,
              "ticks": ""
             }
            },
            "type": "scattermapbox"
           }
          ],
          "scatterpolar": [
           {
            "marker": {
             "colorbar": {
              "outlinewidth": 0,
              "ticks": ""
             }
            },
            "type": "scatterpolar"
           }
          ],
          "scatterpolargl": [
           {
            "marker": {
             "colorbar": {
              "outlinewidth": 0,
              "ticks": ""
             }
            },
            "type": "scatterpolargl"
           }
          ],
          "scatterternary": [
           {
            "marker": {
             "colorbar": {
              "outlinewidth": 0,
              "ticks": ""
             }
            },
            "type": "scatterternary"
           }
          ],
          "surface": [
           {
            "colorbar": {
             "outlinewidth": 0,
             "ticks": ""
            },
            "colorscale": [
             [
              0,
              "#0d0887"
             ],
             [
              0.1111111111111111,
              "#46039f"
             ],
             [
              0.2222222222222222,
              "#7201a8"
             ],
             [
              0.3333333333333333,
              "#9c179e"
             ],
             [
              0.4444444444444444,
              "#bd3786"
             ],
             [
              0.5555555555555556,
              "#d8576b"
             ],
             [
              0.6666666666666666,
              "#ed7953"
             ],
             [
              0.7777777777777778,
              "#fb9f3a"
             ],
             [
              0.8888888888888888,
              "#fdca26"
             ],
             [
              1,
              "#f0f921"
             ]
            ],
            "type": "surface"
           }
          ],
          "table": [
           {
            "cells": {
             "fill": {
              "color": "#EBF0F8"
             },
             "line": {
              "color": "white"
             }
            },
            "header": {
             "fill": {
              "color": "#C8D4E3"
             },
             "line": {
              "color": "white"
             }
            },
            "type": "table"
           }
          ]
         },
         "layout": {
          "annotationdefaults": {
           "arrowcolor": "#2a3f5f",
           "arrowhead": 0,
           "arrowwidth": 1
          },
          "autotypenumbers": "strict",
          "coloraxis": {
           "colorbar": {
            "outlinewidth": 0,
            "ticks": ""
           }
          },
          "colorscale": {
           "diverging": [
            [
             0,
             "#8e0152"
            ],
            [
             0.1,
             "#c51b7d"
            ],
            [
             0.2,
             "#de77ae"
            ],
            [
             0.3,
             "#f1b6da"
            ],
            [
             0.4,
             "#fde0ef"
            ],
            [
             0.5,
             "#f7f7f7"
            ],
            [
             0.6,
             "#e6f5d0"
            ],
            [
             0.7,
             "#b8e186"
            ],
            [
             0.8,
             "#7fbc41"
            ],
            [
             0.9,
             "#4d9221"
            ],
            [
             1,
             "#276419"
            ]
           ],
           "sequential": [
            [
             0,
             "#0d0887"
            ],
            [
             0.1111111111111111,
             "#46039f"
            ],
            [
             0.2222222222222222,
             "#7201a8"
            ],
            [
             0.3333333333333333,
             "#9c179e"
            ],
            [
             0.4444444444444444,
             "#bd3786"
            ],
            [
             0.5555555555555556,
             "#d8576b"
            ],
            [
             0.6666666666666666,
             "#ed7953"
            ],
            [
             0.7777777777777778,
             "#fb9f3a"
            ],
            [
             0.8888888888888888,
             "#fdca26"
            ],
            [
             1,
             "#f0f921"
            ]
           ],
           "sequentialminus": [
            [
             0,
             "#0d0887"
            ],
            [
             0.1111111111111111,
             "#46039f"
            ],
            [
             0.2222222222222222,
             "#7201a8"
            ],
            [
             0.3333333333333333,
             "#9c179e"
            ],
            [
             0.4444444444444444,
             "#bd3786"
            ],
            [
             0.5555555555555556,
             "#d8576b"
            ],
            [
             0.6666666666666666,
             "#ed7953"
            ],
            [
             0.7777777777777778,
             "#fb9f3a"
            ],
            [
             0.8888888888888888,
             "#fdca26"
            ],
            [
             1,
             "#f0f921"
            ]
           ]
          },
          "colorway": [
           "#636efa",
           "#EF553B",
           "#00cc96",
           "#ab63fa",
           "#FFA15A",
           "#19d3f3",
           "#FF6692",
           "#B6E880",
           "#FF97FF",
           "#FECB52"
          ],
          "font": {
           "color": "#2a3f5f"
          },
          "geo": {
           "bgcolor": "white",
           "lakecolor": "white",
           "landcolor": "#E5ECF6",
           "showlakes": true,
           "showland": true,
           "subunitcolor": "white"
          },
          "hoverlabel": {
           "align": "left"
          },
          "hovermode": "closest",
          "mapbox": {
           "style": "light"
          },
          "paper_bgcolor": "white",
          "plot_bgcolor": "#E5ECF6",
          "polar": {
           "angularaxis": {
            "gridcolor": "white",
            "linecolor": "white",
            "ticks": ""
           },
           "bgcolor": "#E5ECF6",
           "radialaxis": {
            "gridcolor": "white",
            "linecolor": "white",
            "ticks": ""
           }
          },
          "scene": {
           "xaxis": {
            "backgroundcolor": "#E5ECF6",
            "gridcolor": "white",
            "gridwidth": 2,
            "linecolor": "white",
            "showbackground": true,
            "ticks": "",
            "zerolinecolor": "white"
           },
           "yaxis": {
            "backgroundcolor": "#E5ECF6",
            "gridcolor": "white",
            "gridwidth": 2,
            "linecolor": "white",
            "showbackground": true,
            "ticks": "",
            "zerolinecolor": "white"
           },
           "zaxis": {
            "backgroundcolor": "#E5ECF6",
            "gridcolor": "white",
            "gridwidth": 2,
            "linecolor": "white",
            "showbackground": true,
            "ticks": "",
            "zerolinecolor": "white"
           }
          },
          "shapedefaults": {
           "line": {
            "color": "#2a3f5f"
           }
          },
          "ternary": {
           "aaxis": {
            "gridcolor": "white",
            "linecolor": "white",
            "ticks": ""
           },
           "baxis": {
            "gridcolor": "white",
            "linecolor": "white",
            "ticks": ""
           },
           "bgcolor": "#E5ECF6",
           "caxis": {
            "gridcolor": "white",
            "linecolor": "white",
            "ticks": ""
           }
          },
          "title": {
           "x": 0.05
          },
          "xaxis": {
           "automargin": true,
           "gridcolor": "white",
           "linecolor": "white",
           "ticks": "",
           "title": {
            "standoff": 15
           },
           "zerolinecolor": "white",
           "zerolinewidth": 2
          },
          "yaxis": {
           "automargin": true,
           "gridcolor": "white",
           "linecolor": "white",
           "ticks": "",
           "title": {
            "standoff": 15
           },
           "zerolinecolor": "white",
           "zerolinewidth": 2
          }
         }
        },
        "title": {
         "text": "Accumulated Storage Capacity District Heat Europe"
        },
        "width": 1400,
        "xaxis": {
         "title": {
          "text": "Year"
         }
        },
        "yaxis": {
         "title": {
          "text": "TWh"
         }
        }
       }
      }
     },
     "metadata": {},
     "output_type": "display_data"
    },
    {
     "name": "stdout",
     "output_type": "stream",
     "text": [
      "Converting from PetaJoules to TerraWattHours\n"
     ]
    },
    {
     "name": "stderr",
     "output_type": "stream",
     "text": [
      "C:\\Users\\mortensv\\AppData\\Local\\Temp\\ipykernel_15420\\1857296959.py:24: SettingWithCopyWarning:\n",
      "\n",
      "\n",
      "A value is trying to be set on a copy of a slice from a DataFrame.\n",
      "Try using .loc[row_indexer,col_indexer] = value instead\n",
      "\n",
      "See the caveats in the documentation: https://pandas.pydata.org/pandas-docs/stable/user_guide/indexing.html#returning-a-view-versus-a-copy\n",
      "\n"
     ]
    },
    {
     "data": {
      "application/vnd.plotly.v1+json": {
       "config": {
        "plotlyServerURL": "https://plot.ly"
       },
       "data": [
        {
         "fillcolor": "#9899e9",
         "legendgroup": "Others",
         "line": {
          "color": "#9899e9"
         },
         "name": "Others",
         "showlegend": true,
         "stackgroup": "one",
         "type": "scatter",
         "x": [
          2040,
          2035,
          2030,
          2025,
          2018,
          2050,
          2045
         ],
         "y": [
          1.3958828838337389e-9,
          4.5661698304973355e-10,
          4.478754250219718e-11,
          1.280874980344807e-11,
          3.4069992439798056e-12,
          4.06597078234646e-8,
          3.725788945882402e-9
         ]
        },
        {
         "fillcolor": "#92baf7",
         "legendgroup": "LU",
         "line": {
          "color": "#92baf7"
         },
         "name": "LU",
         "showlegend": true,
         "stackgroup": "one",
         "type": "scatter",
         "x": [
          2018,
          2025,
          2030,
          2035,
          2040,
          2045,
          2050
         ],
         "y": [
          1.358874230159791e-13,
          4.690755076205729e-13,
          1.535138802524139e-12,
          1.8581471205134208e-11,
          5.596005998275414e-11,
          1.4904855879516394e-10,
          1.759042181549823e-9
         ]
        },
        {
         "fillcolor": "#b9d7e5",
         "legendgroup": "DE",
         "line": {
          "color": "#b9d7e5"
         },
         "name": "DE",
         "showlegend": true,
         "stackgroup": "one",
         "type": "scatter",
         "x": [
          2018,
          2025,
          2030,
          2035,
          2040,
          2045,
          2050
         ],
         "y": [
          1.3619544976781763e-13,
          4.719917185335926e-13,
          1.5314879402156402e-12,
          1.817806200116901e-11,
          5.618914483515996e-11,
          1.5469533404796588e-10,
          1.7010843395997145e-9
         ]
        },
        {
         "fillcolor": "#f9e78d",
         "legendgroup": "HR",
         "line": {
          "color": "#f9e78d"
         },
         "name": "HR",
         "showlegend": true,
         "stackgroup": "one",
         "type": "scatter",
         "x": [
          2050,
          2045,
          2040,
          2025,
          2030,
          2018,
          2035
         ],
         "y": [
          1.8265879586045217e-9,
          1.5078719501159156e-10,
          5.6748355373932125e-11,
          5.019429376159505e-13,
          1.5657886848513075e-12,
          1.3565234271987435e-13,
          1.8660530858787445e-11
         ]
        },
        {
         "fillcolor": "#f7a291",
         "legendgroup": "HU",
         "line": {
          "color": "#f7a291"
         },
         "name": "HU",
         "showlegend": true,
         "stackgroup": "one",
         "type": "scatter",
         "x": [
          2040,
          2045,
          2035,
          2050,
          2025,
          2018,
          2030
         ],
         "y": [
          5.623281887923655e-11,
          1.5031740731092702e-10,
          1.7868696830215902e-11,
          1.7054093612700956e-9,
          4.69149029651415e-13,
          1.3626122947571487e-13,
          1.5064521399846017e-12
         ]
        },
        {
         "fillcolor": "#ac8fda",
         "legendgroup": "SI",
         "line": {
          "color": "#ac8fda"
         },
         "name": "SI",
         "showlegend": true,
         "stackgroup": "one",
         "type": "scatter",
         "x": [
          2050,
          2040,
          2035,
          2030,
          2018,
          2045,
          2025
         ],
         "y": [
          1.7788552080533849e-9,
          5.666174620811555e-11,
          1.8922591635558344e-11,
          1.820331914197273e-12,
          1.3542355147544663e-13,
          1.4859952138923574e-10,
          4.863138580837505e-13
         ]
        }
       ],
       "layout": {
        "barmode": "stack",
        "font": {
         "size": 22
        },
        "height": 800,
        "legend": {
         "traceorder": "reversed"
        },
        "template": {
         "data": {
          "bar": [
           {
            "error_x": {
             "color": "#2a3f5f"
            },
            "error_y": {
             "color": "#2a3f5f"
            },
            "marker": {
             "line": {
              "color": "#E5ECF6",
              "width": 0.5
             },
             "pattern": {
              "fillmode": "overlay",
              "size": 10,
              "solidity": 0.2
             }
            },
            "type": "bar"
           }
          ],
          "barpolar": [
           {
            "marker": {
             "line": {
              "color": "#E5ECF6",
              "width": 0.5
             },
             "pattern": {
              "fillmode": "overlay",
              "size": 10,
              "solidity": 0.2
             }
            },
            "type": "barpolar"
           }
          ],
          "carpet": [
           {
            "aaxis": {
             "endlinecolor": "#2a3f5f",
             "gridcolor": "white",
             "linecolor": "white",
             "minorgridcolor": "white",
             "startlinecolor": "#2a3f5f"
            },
            "baxis": {
             "endlinecolor": "#2a3f5f",
             "gridcolor": "white",
             "linecolor": "white",
             "minorgridcolor": "white",
             "startlinecolor": "#2a3f5f"
            },
            "type": "carpet"
           }
          ],
          "choropleth": [
           {
            "colorbar": {
             "outlinewidth": 0,
             "ticks": ""
            },
            "type": "choropleth"
           }
          ],
          "contour": [
           {
            "colorbar": {
             "outlinewidth": 0,
             "ticks": ""
            },
            "colorscale": [
             [
              0,
              "#0d0887"
             ],
             [
              0.1111111111111111,
              "#46039f"
             ],
             [
              0.2222222222222222,
              "#7201a8"
             ],
             [
              0.3333333333333333,
              "#9c179e"
             ],
             [
              0.4444444444444444,
              "#bd3786"
             ],
             [
              0.5555555555555556,
              "#d8576b"
             ],
             [
              0.6666666666666666,
              "#ed7953"
             ],
             [
              0.7777777777777778,
              "#fb9f3a"
             ],
             [
              0.8888888888888888,
              "#fdca26"
             ],
             [
              1,
              "#f0f921"
             ]
            ],
            "type": "contour"
           }
          ],
          "contourcarpet": [
           {
            "colorbar": {
             "outlinewidth": 0,
             "ticks": ""
            },
            "type": "contourcarpet"
           }
          ],
          "heatmap": [
           {
            "colorbar": {
             "outlinewidth": 0,
             "ticks": ""
            },
            "colorscale": [
             [
              0,
              "#0d0887"
             ],
             [
              0.1111111111111111,
              "#46039f"
             ],
             [
              0.2222222222222222,
              "#7201a8"
             ],
             [
              0.3333333333333333,
              "#9c179e"
             ],
             [
              0.4444444444444444,
              "#bd3786"
             ],
             [
              0.5555555555555556,
              "#d8576b"
             ],
             [
              0.6666666666666666,
              "#ed7953"
             ],
             [
              0.7777777777777778,
              "#fb9f3a"
             ],
             [
              0.8888888888888888,
              "#fdca26"
             ],
             [
              1,
              "#f0f921"
             ]
            ],
            "type": "heatmap"
           }
          ],
          "heatmapgl": [
           {
            "colorbar": {
             "outlinewidth": 0,
             "ticks": ""
            },
            "colorscale": [
             [
              0,
              "#0d0887"
             ],
             [
              0.1111111111111111,
              "#46039f"
             ],
             [
              0.2222222222222222,
              "#7201a8"
             ],
             [
              0.3333333333333333,
              "#9c179e"
             ],
             [
              0.4444444444444444,
              "#bd3786"
             ],
             [
              0.5555555555555556,
              "#d8576b"
             ],
             [
              0.6666666666666666,
              "#ed7953"
             ],
             [
              0.7777777777777778,
              "#fb9f3a"
             ],
             [
              0.8888888888888888,
              "#fdca26"
             ],
             [
              1,
              "#f0f921"
             ]
            ],
            "type": "heatmapgl"
           }
          ],
          "histogram": [
           {
            "marker": {
             "pattern": {
              "fillmode": "overlay",
              "size": 10,
              "solidity": 0.2
             }
            },
            "type": "histogram"
           }
          ],
          "histogram2d": [
           {
            "colorbar": {
             "outlinewidth": 0,
             "ticks": ""
            },
            "colorscale": [
             [
              0,
              "#0d0887"
             ],
             [
              0.1111111111111111,
              "#46039f"
             ],
             [
              0.2222222222222222,
              "#7201a8"
             ],
             [
              0.3333333333333333,
              "#9c179e"
             ],
             [
              0.4444444444444444,
              "#bd3786"
             ],
             [
              0.5555555555555556,
              "#d8576b"
             ],
             [
              0.6666666666666666,
              "#ed7953"
             ],
             [
              0.7777777777777778,
              "#fb9f3a"
             ],
             [
              0.8888888888888888,
              "#fdca26"
             ],
             [
              1,
              "#f0f921"
             ]
            ],
            "type": "histogram2d"
           }
          ],
          "histogram2dcontour": [
           {
            "colorbar": {
             "outlinewidth": 0,
             "ticks": ""
            },
            "colorscale": [
             [
              0,
              "#0d0887"
             ],
             [
              0.1111111111111111,
              "#46039f"
             ],
             [
              0.2222222222222222,
              "#7201a8"
             ],
             [
              0.3333333333333333,
              "#9c179e"
             ],
             [
              0.4444444444444444,
              "#bd3786"
             ],
             [
              0.5555555555555556,
              "#d8576b"
             ],
             [
              0.6666666666666666,
              "#ed7953"
             ],
             [
              0.7777777777777778,
              "#fb9f3a"
             ],
             [
              0.8888888888888888,
              "#fdca26"
             ],
             [
              1,
              "#f0f921"
             ]
            ],
            "type": "histogram2dcontour"
           }
          ],
          "mesh3d": [
           {
            "colorbar": {
             "outlinewidth": 0,
             "ticks": ""
            },
            "type": "mesh3d"
           }
          ],
          "parcoords": [
           {
            "line": {
             "colorbar": {
              "outlinewidth": 0,
              "ticks": ""
             }
            },
            "type": "parcoords"
           }
          ],
          "pie": [
           {
            "automargin": true,
            "type": "pie"
           }
          ],
          "scatter": [
           {
            "fillpattern": {
             "fillmode": "overlay",
             "size": 10,
             "solidity": 0.2
            },
            "type": "scatter"
           }
          ],
          "scatter3d": [
           {
            "line": {
             "colorbar": {
              "outlinewidth": 0,
              "ticks": ""
             }
            },
            "marker": {
             "colorbar": {
              "outlinewidth": 0,
              "ticks": ""
             }
            },
            "type": "scatter3d"
           }
          ],
          "scattercarpet": [
           {
            "marker": {
             "colorbar": {
              "outlinewidth": 0,
              "ticks": ""
             }
            },
            "type": "scattercarpet"
           }
          ],
          "scattergeo": [
           {
            "marker": {
             "colorbar": {
              "outlinewidth": 0,
              "ticks": ""
             }
            },
            "type": "scattergeo"
           }
          ],
          "scattergl": [
           {
            "marker": {
             "colorbar": {
              "outlinewidth": 0,
              "ticks": ""
             }
            },
            "type": "scattergl"
           }
          ],
          "scattermapbox": [
           {
            "marker": {
             "colorbar": {
              "outlinewidth": 0,
              "ticks": ""
             }
            },
            "type": "scattermapbox"
           }
          ],
          "scatterpolar": [
           {
            "marker": {
             "colorbar": {
              "outlinewidth": 0,
              "ticks": ""
             }
            },
            "type": "scatterpolar"
           }
          ],
          "scatterpolargl": [
           {
            "marker": {
             "colorbar": {
              "outlinewidth": 0,
              "ticks": ""
             }
            },
            "type": "scatterpolargl"
           }
          ],
          "scatterternary": [
           {
            "marker": {
             "colorbar": {
              "outlinewidth": 0,
              "ticks": ""
             }
            },
            "type": "scatterternary"
           }
          ],
          "surface": [
           {
            "colorbar": {
             "outlinewidth": 0,
             "ticks": ""
            },
            "colorscale": [
             [
              0,
              "#0d0887"
             ],
             [
              0.1111111111111111,
              "#46039f"
             ],
             [
              0.2222222222222222,
              "#7201a8"
             ],
             [
              0.3333333333333333,
              "#9c179e"
             ],
             [
              0.4444444444444444,
              "#bd3786"
             ],
             [
              0.5555555555555556,
              "#d8576b"
             ],
             [
              0.6666666666666666,
              "#ed7953"
             ],
             [
              0.7777777777777778,
              "#fb9f3a"
             ],
             [
              0.8888888888888888,
              "#fdca26"
             ],
             [
              1,
              "#f0f921"
             ]
            ],
            "type": "surface"
           }
          ],
          "table": [
           {
            "cells": {
             "fill": {
              "color": "#EBF0F8"
             },
             "line": {
              "color": "white"
             }
            },
            "header": {
             "fill": {
              "color": "#C8D4E3"
             },
             "line": {
              "color": "white"
             }
            },
            "type": "table"
           }
          ]
         },
         "layout": {
          "annotationdefaults": {
           "arrowcolor": "#2a3f5f",
           "arrowhead": 0,
           "arrowwidth": 1
          },
          "autotypenumbers": "strict",
          "coloraxis": {
           "colorbar": {
            "outlinewidth": 0,
            "ticks": ""
           }
          },
          "colorscale": {
           "diverging": [
            [
             0,
             "#8e0152"
            ],
            [
             0.1,
             "#c51b7d"
            ],
            [
             0.2,
             "#de77ae"
            ],
            [
             0.3,
             "#f1b6da"
            ],
            [
             0.4,
             "#fde0ef"
            ],
            [
             0.5,
             "#f7f7f7"
            ],
            [
             0.6,
             "#e6f5d0"
            ],
            [
             0.7,
             "#b8e186"
            ],
            [
             0.8,
             "#7fbc41"
            ],
            [
             0.9,
             "#4d9221"
            ],
            [
             1,
             "#276419"
            ]
           ],
           "sequential": [
            [
             0,
             "#0d0887"
            ],
            [
             0.1111111111111111,
             "#46039f"
            ],
            [
             0.2222222222222222,
             "#7201a8"
            ],
            [
             0.3333333333333333,
             "#9c179e"
            ],
            [
             0.4444444444444444,
             "#bd3786"
            ],
            [
             0.5555555555555556,
             "#d8576b"
            ],
            [
             0.6666666666666666,
             "#ed7953"
            ],
            [
             0.7777777777777778,
             "#fb9f3a"
            ],
            [
             0.8888888888888888,
             "#fdca26"
            ],
            [
             1,
             "#f0f921"
            ]
           ],
           "sequentialminus": [
            [
             0,
             "#0d0887"
            ],
            [
             0.1111111111111111,
             "#46039f"
            ],
            [
             0.2222222222222222,
             "#7201a8"
            ],
            [
             0.3333333333333333,
             "#9c179e"
            ],
            [
             0.4444444444444444,
             "#bd3786"
            ],
            [
             0.5555555555555556,
             "#d8576b"
            ],
            [
             0.6666666666666666,
             "#ed7953"
            ],
            [
             0.7777777777777778,
             "#fb9f3a"
            ],
            [
             0.8888888888888888,
             "#fdca26"
            ],
            [
             1,
             "#f0f921"
            ]
           ]
          },
          "colorway": [
           "#636efa",
           "#EF553B",
           "#00cc96",
           "#ab63fa",
           "#FFA15A",
           "#19d3f3",
           "#FF6692",
           "#B6E880",
           "#FF97FF",
           "#FECB52"
          ],
          "font": {
           "color": "#2a3f5f"
          },
          "geo": {
           "bgcolor": "white",
           "lakecolor": "white",
           "landcolor": "#E5ECF6",
           "showlakes": true,
           "showland": true,
           "subunitcolor": "white"
          },
          "hoverlabel": {
           "align": "left"
          },
          "hovermode": "closest",
          "mapbox": {
           "style": "light"
          },
          "paper_bgcolor": "white",
          "plot_bgcolor": "#E5ECF6",
          "polar": {
           "angularaxis": {
            "gridcolor": "white",
            "linecolor": "white",
            "ticks": ""
           },
           "bgcolor": "#E5ECF6",
           "radialaxis": {
            "gridcolor": "white",
            "linecolor": "white",
            "ticks": ""
           }
          },
          "scene": {
           "xaxis": {
            "backgroundcolor": "#E5ECF6",
            "gridcolor": "white",
            "gridwidth": 2,
            "linecolor": "white",
            "showbackground": true,
            "ticks": "",
            "zerolinecolor": "white"
           },
           "yaxis": {
            "backgroundcolor": "#E5ECF6",
            "gridcolor": "white",
            "gridwidth": 2,
            "linecolor": "white",
            "showbackground": true,
            "ticks": "",
            "zerolinecolor": "white"
           },
           "zaxis": {
            "backgroundcolor": "#E5ECF6",
            "gridcolor": "white",
            "gridwidth": 2,
            "linecolor": "white",
            "showbackground": true,
            "ticks": "",
            "zerolinecolor": "white"
           }
          },
          "shapedefaults": {
           "line": {
            "color": "#2a3f5f"
           }
          },
          "ternary": {
           "aaxis": {
            "gridcolor": "white",
            "linecolor": "white",
            "ticks": ""
           },
           "baxis": {
            "gridcolor": "white",
            "linecolor": "white",
            "ticks": ""
           },
           "bgcolor": "#E5ECF6",
           "caxis": {
            "gridcolor": "white",
            "linecolor": "white",
            "ticks": ""
           }
          },
          "title": {
           "x": 0.05
          },
          "xaxis": {
           "automargin": true,
           "gridcolor": "white",
           "linecolor": "white",
           "ticks": "",
           "title": {
            "standoff": 15
           },
           "zerolinecolor": "white",
           "zerolinewidth": 2
          },
          "yaxis": {
           "automargin": true,
           "gridcolor": "white",
           "linecolor": "white",
           "ticks": "",
           "title": {
            "standoff": 15
           },
           "zerolinecolor": "white",
           "zerolinewidth": 2
          }
         }
        },
        "title": {
         "text": "Accumulated Storage Capacity District Heat Europe"
        },
        "width": 1400,
        "xaxis": {
         "title": {
          "text": "Year"
         }
        },
        "yaxis": {
         "title": {
          "text": "TWh"
         }
        }
       }
      }
     },
     "metadata": {},
     "output_type": "display_data"
    }
   ],
   "source": [
    "#stacked_accumulated_energy(DAILY_DATA, region=REGION, title_addon=\"Daily\", write_fig=WRITE_FIGS)[0].show()\n",
    "stacked_accumulated_energy(SEASON_DATA, region=REGION, title_addon=\"\", write_fig=WRITE_FIGS).show()\n",
    "stacked_accumulated_energy(EXPENSIVE_HLDH, region=REGION, title_addon=\"Expensive\", write_fig=WRITE_FIGS).show()"
   ]
  },
  {
   "cell_type": "markdown",
   "metadata": {},
   "source": [
    "# Pie plots for electricity / power"
   ]
  },
  {
   "cell_type": "code",
   "execution_count": 6,
   "metadata": {},
   "outputs": [],
   "source": [
    "def power_pie_plot(sol_path: str) -> go.Figure:\n",
    "\n",
    "    # Pie plot for electronics\n",
    "    data_prod_by_tech = dp.DataProcessor(sol_paths={\"anonym\": sol_path}, type_of_data_to_read=\"ProductionByTechnologyAnnual\")\n",
    "    data_p = dp.DataProcessor(sol_paths={\"anonym\": sol_path}, type_of_data_to_read=\"TotalCapacityAnnual\")\n",
    "\n",
    "    # Look at 2050\n",
    "    data_p.filter_by_identifier(column=\"Year\", identifier=2050)\n",
    "\n",
    "    # Remove all that starts with \"D_\"\n",
    "    data_p.df = data_p.df[~data_p.df[\"Technology\"].str.startswith(\"D_\")]\n",
    "\n",
    "    # Keep those over 0\n",
    "    data_p.df = data_p.df[data_p.df[\"Value\"] > 0]\n",
    "\n",
    "    # Aggregate by technology according to the aggregation\n",
    "    #print(\"Length before aggregation\", len(data_p.df))\n",
    "    #data_p.aggregate_by_sum(column_to_sum=\"Value\", groups_memberships=AGGREGATION)\n",
    "    #data_prod_by_tech.show_example_rows(5)\n",
    "    #print(data_prod_by_tech.df[\"Fuel\"].unique())\n",
    "    #data_prod_by_tech.filter_by_identifier(column=\"Fuel\", identifier=\"Heat_District\")\n",
    "    #data_prod_by_tech.filter_by_identifier(column=\"Fuel\", identifier=\"Heat_Low_Building\")\n",
    "    #data_prod_by_tech.filter_by_identifier(column=\"Fuel\", identifier=\"L\")\n",
    "    #data_prod_by_tech.show_example_rows(5)\n",
    "    data_prod_by_tech.filter_by_identifier(column=\"Fuel\", identifier=\"Power\")\n",
    "    data_prod_by_tech.df = data_prod_by_tech.df[data_prod_by_tech.df[\"Value\"] > 0]\n",
    "    #data_prod_by_tech.show_example_rows(5)\n",
    "    techs = list(data_prod_by_tech.df[\"Technology\"].unique())\n",
    "\n",
    "    data_p.filter_by_list(column=\"Technology\", identifier_list=techs)\n",
    "\n",
    "    data_p.aggregate_by_sum_function(column_to_change=\"Technology\", column_to_sum=\"Value\", function=aggregator)\n",
    "\n",
    "    # Create color list\n",
    "    color_list = [my_color_generator(tech) for tech in data_p.df[\"Technology\"]]\n",
    "\n",
    "    # Make a pie plot\n",
    "    fig = go.Figure(data=[go.Pie(labels=data_p.df[\"Technology\"], values=data_p.df[\"Value\"], \n",
    "                                 textposition='inside', textinfo='percent+label',\n",
    "                                 textfont=dict(size=24),\n",
    "                                 marker=dict(colors=color_list))])\n",
    "\n",
    "    # Loop labels, and change the color of the pie\n",
    "    #color_gen = my_color_generator()\n",
    "    #for i, label in enumerate(fig.data[0].labels):\n",
    "    #    fig.data[0].marker.colors += [my_color_generator(label)]\n",
    "\n",
    "    fig.update_layout(\n",
    "        title=\"Power Capacity (Energy / Time) 2050\",\n",
    "        width=900,\n",
    "        height=800\n",
    "    )\n",
    "\n",
    "    return fig"
   ]
  },
  {
   "cell_type": "code",
   "execution_count": 7,
   "metadata": {},
   "outputs": [
    {
     "name": "stdout",
     "output_type": "stream",
     "text": [
      "Converting from PetaJoules to TerraWattHours\n",
      "No unit conversion applied!\n"
     ]
    },
    {
     "data": {
      "application/vnd.plotly.v1+json": {
       "config": {
        "plotlyServerURL": "https://plot.ly"
       },
       "data": [
        {
         "labels": [
          "Biomass",
          "Biomass",
          "Biomass",
          "Biomass",
          "Biomass",
          "Biomass",
          "Biomass",
          "Biomass",
          "Biomass",
          "Biomass",
          "Biomass",
          "Biomass",
          "Biomass",
          "Biomass",
          "Biomass",
          "Biomass",
          "Biomass",
          "Biomass",
          "Biomass",
          "Biomass",
          "Biomass",
          "Biomass",
          "Biomass",
          "Biomass",
          "Biomass",
          "Biomass",
          "Biomass",
          "Biomass",
          "Biomass",
          "Biomass",
          "Coal",
          "Coal",
          "Coal",
          "Coal",
          "Coal",
          "Coal",
          "Coal",
          "Coal",
          "Coal",
          "Coal",
          "Coal",
          "Coal",
          "Coal",
          "Coal",
          "Coal",
          "Coal",
          "Coal",
          "Coal",
          "Coal",
          "Coal",
          "Coal",
          "Coal",
          "Coal",
          "Coal",
          "Coal",
          "Coal",
          "Coal",
          "Coal",
          "Coal",
          "Coal",
          "Gas",
          "Gas",
          "Gas",
          "Gas",
          "Gas",
          "Gas",
          "Gas",
          "Gas",
          "Gas",
          "Gas",
          "Gas",
          "Gas",
          "Gas",
          "Gas",
          "Gas",
          "Gas",
          "Gas",
          "Gas",
          "Gas",
          "Gas",
          "Gas",
          "Gas",
          "Gas",
          "Gas",
          "Gas",
          "Gas",
          "Gas",
          "Gas",
          "Gas",
          "Gas",
          "Hydrogen",
          "Hydrogen",
          "Hydrogen",
          "Hydrogen",
          "Hydrogen",
          "Hydrogen",
          "Hydrogen",
          "Hydrogen",
          "Hydrogen",
          "Hydrogen",
          "Hydrogen",
          "Hydrogen",
          "Hydrogen",
          "Hydrogen",
          "Hydrogen",
          "Hydrogen",
          "Hydrogen",
          "Hydrogen",
          "Hydrogen",
          "Hydrogen",
          "Hydrogen",
          "Hydrogen",
          "Hydrogen",
          "Hydrogen",
          "Hydrogen",
          "Hydrogen",
          "Hydrogen",
          "Hydrogen",
          "Hydrogen",
          "Hydrogen",
          "Oil",
          "Oil",
          "Oil",
          "Oil",
          "Oil",
          "Oil",
          "Oil",
          "Oil",
          "Oil",
          "Oil",
          "Oil",
          "Oil",
          "Oil",
          "Oil",
          "Oil",
          "Oil",
          "Oil",
          "Oil",
          "Oil",
          "Oil",
          "Oil",
          "Oil",
          "Oil",
          "Oil",
          "Oil",
          "Oil",
          "Oil",
          "Oil",
          "Oil",
          "Oil",
          "Others",
          "Others",
          "Others",
          "Others",
          "Others",
          "Others",
          "Others",
          "Others",
          "Others",
          "Others",
          "Others",
          "Others",
          "Others",
          "Others",
          "Others",
          "Others",
          "Others",
          "Others",
          "Others",
          "Others",
          "Others",
          "Others",
          "Others",
          "Others",
          "Others",
          "Others",
          "Others",
          "Others",
          "Others",
          "Others",
          "Renewables",
          "Renewables",
          "Renewables",
          "Renewables",
          "Renewables",
          "Renewables",
          "Renewables",
          "Renewables",
          "Renewables",
          "Renewables",
          "Renewables",
          "Renewables",
          "Renewables",
          "Renewables",
          "Renewables",
          "Renewables",
          "Renewables",
          "Renewables",
          "Renewables",
          "Renewables",
          "Renewables",
          "Renewables",
          "Renewables",
          "Renewables",
          "Renewables",
          "Renewables",
          "Renewables",
          "Renewables",
          "Renewables",
          "Renewables",
          "Solar",
          "Solar",
          "Solar",
          "Solar",
          "Solar",
          "Solar",
          "Solar",
          "Solar",
          "Solar",
          "Solar",
          "Solar",
          "Solar",
          "Solar",
          "Solar",
          "Solar",
          "Solar",
          "Solar",
          "Solar",
          "Solar",
          "Solar",
          "Solar",
          "Solar",
          "Solar",
          "Solar",
          "Solar",
          "Solar",
          "Solar",
          "Solar",
          "Solar",
          "Solar",
          "Wind",
          "Wind",
          "Wind",
          "Wind",
          "Wind",
          "Wind",
          "Wind",
          "Wind",
          "Wind",
          "Wind",
          "Wind",
          "Wind",
          "Wind",
          "Wind",
          "Wind",
          "Wind",
          "Wind",
          "Wind",
          "Wind",
          "Wind",
          "Wind",
          "Wind",
          "Wind",
          "Wind",
          "Wind",
          "Wind",
          "Wind",
          "Wind",
          "Wind",
          "Wind"
         ],
         "marker": {
          "colors": [
           "#ef8e94",
           "#ef8e94",
           "#ef8e94",
           "#ef8e94",
           "#ef8e94",
           "#ef8e94",
           "#ef8e94",
           "#ef8e94",
           "#ef8e94",
           "#ef8e94",
           "#ef8e94",
           "#ef8e94",
           "#ef8e94",
           "#ef8e94",
           "#ef8e94",
           "#ef8e94",
           "#ef8e94",
           "#ef8e94",
           "#ef8e94",
           "#ef8e94",
           "#ef8e94",
           "#ef8e94",
           "#ef8e94",
           "#ef8e94",
           "#ef8e94",
           "#ef8e94",
           "#ef8e94",
           "#ef8e94",
           "#ef8e94",
           "#ef8e94",
           "#f7e1ed",
           "#f7e1ed",
           "#f7e1ed",
           "#f7e1ed",
           "#f7e1ed",
           "#f7e1ed",
           "#f7e1ed",
           "#f7e1ed",
           "#f7e1ed",
           "#f7e1ed",
           "#f7e1ed",
           "#f7e1ed",
           "#f7e1ed",
           "#f7e1ed",
           "#f7e1ed",
           "#f7e1ed",
           "#f7e1ed",
           "#f7e1ed",
           "#f7e1ed",
           "#f7e1ed",
           "#f7e1ed",
           "#f7e1ed",
           "#f7e1ed",
           "#f7e1ed",
           "#f7e1ed",
           "#f7e1ed",
           "#f7e1ed",
           "#f7e1ed",
           "#f7e1ed",
           "#f7e1ed",
           "#d6cac0",
           "#d6cac0",
           "#d6cac0",
           "#d6cac0",
           "#d6cac0",
           "#d6cac0",
           "#d6cac0",
           "#d6cac0",
           "#d6cac0",
           "#d6cac0",
           "#d6cac0",
           "#d6cac0",
           "#d6cac0",
           "#d6cac0",
           "#d6cac0",
           "#d6cac0",
           "#d6cac0",
           "#d6cac0",
           "#d6cac0",
           "#d6cac0",
           "#d6cac0",
           "#d6cac0",
           "#d6cac0",
           "#d6cac0",
           "#d6cac0",
           "#d6cac0",
           "#d6cac0",
           "#d6cac0",
           "#d6cac0",
           "#d6cac0",
           "#a1e3bc",
           "#a1e3bc",
           "#a1e3bc",
           "#a1e3bc",
           "#a1e3bc",
           "#a1e3bc",
           "#a1e3bc",
           "#a1e3bc",
           "#a1e3bc",
           "#a1e3bc",
           "#a1e3bc",
           "#a1e3bc",
           "#a1e3bc",
           "#a1e3bc",
           "#a1e3bc",
           "#a1e3bc",
           "#a1e3bc",
           "#a1e3bc",
           "#a1e3bc",
           "#a1e3bc",
           "#a1e3bc",
           "#a1e3bc",
           "#a1e3bc",
           "#a1e3bc",
           "#a1e3bc",
           "#a1e3bc",
           "#a1e3bc",
           "#a1e3bc",
           "#a1e3bc",
           "#a1e3bc",
           "#93ceb9",
           "#93ceb9",
           "#93ceb9",
           "#93ceb9",
           "#93ceb9",
           "#93ceb9",
           "#93ceb9",
           "#93ceb9",
           "#93ceb9",
           "#93ceb9",
           "#93ceb9",
           "#93ceb9",
           "#93ceb9",
           "#93ceb9",
           "#93ceb9",
           "#93ceb9",
           "#93ceb9",
           "#93ceb9",
           "#93ceb9",
           "#93ceb9",
           "#93ceb9",
           "#93ceb9",
           "#93ceb9",
           "#93ceb9",
           "#93ceb9",
           "#93ceb9",
           "#93ceb9",
           "#93ceb9",
           "#93ceb9",
           "#93ceb9",
           "#9899e9",
           "#9899e9",
           "#9899e9",
           "#9899e9",
           "#9899e9",
           "#9899e9",
           "#9899e9",
           "#9899e9",
           "#9899e9",
           "#9899e9",
           "#9899e9",
           "#9899e9",
           "#9899e9",
           "#9899e9",
           "#9899e9",
           "#9899e9",
           "#9899e9",
           "#9899e9",
           "#9899e9",
           "#9899e9",
           "#9899e9",
           "#9899e9",
           "#9899e9",
           "#9899e9",
           "#9899e9",
           "#9899e9",
           "#9899e9",
           "#9899e9",
           "#9899e9",
           "#9899e9",
           "#e6daa8",
           "#e6daa8",
           "#e6daa8",
           "#e6daa8",
           "#e6daa8",
           "#e6daa8",
           "#e6daa8",
           "#e6daa8",
           "#e6daa8",
           "#e6daa8",
           "#e6daa8",
           "#e6daa8",
           "#e6daa8",
           "#e6daa8",
           "#e6daa8",
           "#e6daa8",
           "#e6daa8",
           "#e6daa8",
           "#e6daa8",
           "#e6daa8",
           "#e6daa8",
           "#e6daa8",
           "#e6daa8",
           "#e6daa8",
           "#e6daa8",
           "#e6daa8",
           "#e6daa8",
           "#e6daa8",
           "#e6daa8",
           "#e6daa8",
           "#fad1a7",
           "#fad1a7",
           "#fad1a7",
           "#fad1a7",
           "#fad1a7",
           "#fad1a7",
           "#fad1a7",
           "#fad1a7",
           "#fad1a7",
           "#fad1a7",
           "#fad1a7",
           "#fad1a7",
           "#fad1a7",
           "#fad1a7",
           "#fad1a7",
           "#fad1a7",
           "#fad1a7",
           "#fad1a7",
           "#fad1a7",
           "#fad1a7",
           "#fad1a7",
           "#fad1a7",
           "#fad1a7",
           "#fad1a7",
           "#fad1a7",
           "#fad1a7",
           "#fad1a7",
           "#fad1a7",
           "#fad1a7",
           "#fad1a7",
           "#c1abe7",
           "#c1abe7",
           "#c1abe7",
           "#c1abe7",
           "#c1abe7",
           "#c1abe7",
           "#c1abe7",
           "#c1abe7",
           "#c1abe7",
           "#c1abe7",
           "#c1abe7",
           "#c1abe7",
           "#c1abe7",
           "#c1abe7",
           "#c1abe7",
           "#c1abe7",
           "#c1abe7",
           "#c1abe7",
           "#c1abe7",
           "#c1abe7",
           "#c1abe7",
           "#c1abe7",
           "#c1abe7",
           "#c1abe7",
           "#c1abe7",
           "#c1abe7",
           "#c1abe7",
           "#c1abe7",
           "#c1abe7",
           "#c1abe7"
          ]
         },
         "textfont": {
          "size": 24
         },
         "textinfo": "percent+label",
         "textposition": "inside",
         "type": "pie",
         "values": [
          1.5334967679705152,
          0.40921990285138843,
          0.10870548057447699,
          0.10669463978054934,
          1.0508966983573769,
          13.239667796778889,
          2.1030217359877335,
          0.10264412524259674,
          0.3366504049006176,
          1.789581181235289,
          2.369270748757786,
          0.007317541741478726,
          0.03209156082090521,
          0.6063438613666834,
          0.021759508405189407,
          2.578203328444363,
          0.1143986731736027,
          0.08746429041859904,
          0.47004695453432566,
          1.3222948096780645,
          0.05844653472369977,
          0.15847948723347074,
          0.2931407312623613,
          0.14610391145603036,
          0.1264907653230852,
          1.7624295245613832,
          0.015915877083603633,
          0.45877893286997573,
          5.661373883480877,
          1.8561247770724223,
          0.01146498153132122,
          4.481910178975297e-7,
          0.7894241152115304,
          1.723082498341406e-7,
          0.1797155105333286,
          3.801000547043722,
          4.726387697481354e-7,
          4.5202299174038683e-7,
          4.462664491075205e-7,
          4.531856025345363e-7,
          4.575231208774893e-7,
          5.616460428011077e-7,
          6.193115143943504e-7,
          8.532683312182987e-7,
          4.1290507409775224e-7,
          1.7052257493755705,
          1.3472923112736501e-7,
          1.6487274572683968e-7,
          1.759552222230411e-7,
          0.9305386070909525,
          1.393518535640053e-7,
          8.404000291645767,
          1.9172846458224577,
          4.707781332345571e-7,
          8.328952864547986e-7,
          4.3265002733397275e-7,
          8.357509181194235e-7,
          8.368140528478657e-7,
          1.3890976770978,
          4.589045425671494e-7,
          19.939648085434182,
          27.7600652919021,
          10.627202329612405,
          12.952933821434174,
          25.811529362112612,
          166.9715410696707,
          8.978005512590167,
          3.2469346075473577,
          61.626799898741204,
          15.708469474756285,
          123.19600220533401,
          7.947431215223561,
          3.7772264304069947,
          13.043238344217988,
          9.10694990830887,
          88.77538605804959,
          3.1193540950456313,
          1.759450567497849,
          2.4402649783448744,
          30.783809370024095,
          13.136450628198098,
          2.9702708627907386,
          66.34024609609152,
          11.311993211834462,
          16.55342831222355,
          38.88154714854265,
          5.524776010199717,
          11.053047981435162,
          129.47710274595786,
          89.77830409742269,
          8.266596115881845e-8,
          8.141173733953019e-8,
          8.161369491812722e-8,
          8.090414445865942e-8,
          8.812137864006025e-8,
          8.863082791920994e-8,
          8.19877598699735e-8,
          8.008867024598835e-8,
          8.638318656274027e-8,
          8.003631762637097e-8,
          7.92169826316803e-8,
          9.270717417529152e-8,
          9.160429315235843e-8,
          8.686079475417693e-8,
          8.70048590678103e-8,
          8.868542925203965e-8,
          8.12531308580819e-8,
          7.868673593208886e-8,
          8.736014745132982e-8,
          8.84190013966093e-8,
          7.50955476194246e-8,
          8.606434054776903e-8,
          9.079165362426201e-8,
          8.179796745475198e-8,
          8.669325240094075e-8,
          8.595078374615043e-8,
          8.865553981525471e-8,
          8.97313358320583e-8,
          8.936707471519582e-8,
          8.148626083448438e-8,
          0.0000033387705572528156,
          0.0000029123334805220077,
          0.000001121640352576382,
          0.0000031963168004016064,
          0.010289510842369367,
          0.08380070425718775,
          0.0000033413290393291092,
          0.0000028271202381270515,
          0.000003075030277855641,
          0.27015506147329316,
          0.06850794066018567,
          0.0000032277077399430876,
          0.0000034127110847444678,
          0.000003396139832831278,
          0.0000016240237135522894,
          0.0019486972518357776,
          9.790180165395062e-7,
          0.000002756139725835555,
          0.0000033913271569680306,
          0.000003117074843516722,
          3.2512003684531904e-7,
          0.19800051769750976,
          0.00000318021760901612,
          0.0000032921211599834273,
          0.0000029713653105718173,
          0.000002562527867027848,
          0.0000029331846113052837,
          0.06874812085686319,
          0.0000028866397691806393,
          0.019363753993951717,
          0.0000026209101952198872,
          0.00000334280814453285,
          0.0000015030462290999687,
          0.0000028640451621121067,
          1.952286988669939,
          0.000002548222761577518,
          0.000002643171540307306,
          0.0000023102805404466242,
          0.00000236277006054414,
          6.122446718625295,
          25.00000205231757,
          0.000003033760361678355,
          0.0000026655898332499927,
          0.000002477349939634497,
          0.0000022911261159769525,
          0.0000025369085071712928,
          0.0000016320790376327968,
          0.0000029380442498838805,
          0.0000025827158730141727,
          0.000004444068204029064,
          0.000001489456017383198,
          0.0000024061901036523773,
          0.000006438916770154033,
          0.0000026556788183577866,
          3.652610408973396,
          0.0000028369620280874888,
          0.0000032902288983310356,
          0.0000025576972796013816,
          0.000003971592163412603,
          0.0000026569827154462583,
          18.715995798974973,
          14.069515339210625,
          4.201405607989777,
          22.347333378892078,
          4.540389864565867,
          52.2912575764774,
          2.512955421761183,
          1.120837740162791,
          95.44660376535118,
          13.787905114082672,
          31.846838207178166,
          3.7196192721702928,
          8.015873703001768,
          1.6462061357240187,
          3.179816923451778,
          43.41276609209028,
          1.1572671745675627,
          1.7144135248563406,
          6.1346416972416336,
          15.739433804459535,
          32.94900143927392,
          9.185775527037677,
          14.056740883123272,
          18.20541095514616,
          15.285072601472644,
          40.827457195449256,
          1.253002467699079,
          2.5498820107589513,
          26.500000088833083,
          46.70736089186557,
          18.41489970802089,
          12.22717441550055,
          4.608855438459307,
          23.681982072007614,
          17.791462690504854,
          140.66209973942887,
          0.48801280859951246,
          0.0007815021448693751,
          23.352743032634084,
          0.030399350386516782,
          21.945534926092115,
          53.01293167617295,
          3.0705517943713425,
          3.8326849900598843,
          7.168841993931373,
          96.32982342652906,
          0.03268200622904722,
          1.8576516498322784,
          0.000005048528938116972,
          13.39550176028929,
          0.00000617747410252565,
          10.91326052412692,
          40.9831722092922,
          0.5210482385172264,
          0.9204831608563792,
          0.320140435696519,
          3.7817844459439165,
          8.32432239335069,
          229.58055289200686,
          48.751228881683986,
          11.492688471489762,
          11.131121049605948,
          0.4069067232202422,
          0.024951294119881753,
          0.2127251543880305,
          88.40010615326393,
          6.36597940068681,
          1.6966210302944238,
          24.179466831714954,
          3.168368188331217,
          31.519852009983346,
          6.295502834685793,
          0.26674298626447074,
          2.0512917425849273,
          6.70920776435752,
          3.280582043545866,
          1.2591457185792223,
          0.03946146230125798,
          1.936775146923609,
          5.495332968581182,
          8.357291776187525,
          4.199188623375227,
          7.60629445658306,
          6.752281349512526,
          4.078193449315717,
          3.1309356739391143,
          0.004770137892630934,
          0.0015653103701674062,
          5.37874429664752,
          102.27879431542915
         ]
        }
       ],
       "layout": {
        "height": 800,
        "template": {
         "data": {
          "bar": [
           {
            "error_x": {
             "color": "#2a3f5f"
            },
            "error_y": {
             "color": "#2a3f5f"
            },
            "marker": {
             "line": {
              "color": "#E5ECF6",
              "width": 0.5
             },
             "pattern": {
              "fillmode": "overlay",
              "size": 10,
              "solidity": 0.2
             }
            },
            "type": "bar"
           }
          ],
          "barpolar": [
           {
            "marker": {
             "line": {
              "color": "#E5ECF6",
              "width": 0.5
             },
             "pattern": {
              "fillmode": "overlay",
              "size": 10,
              "solidity": 0.2
             }
            },
            "type": "barpolar"
           }
          ],
          "carpet": [
           {
            "aaxis": {
             "endlinecolor": "#2a3f5f",
             "gridcolor": "white",
             "linecolor": "white",
             "minorgridcolor": "white",
             "startlinecolor": "#2a3f5f"
            },
            "baxis": {
             "endlinecolor": "#2a3f5f",
             "gridcolor": "white",
             "linecolor": "white",
             "minorgridcolor": "white",
             "startlinecolor": "#2a3f5f"
            },
            "type": "carpet"
           }
          ],
          "choropleth": [
           {
            "colorbar": {
             "outlinewidth": 0,
             "ticks": ""
            },
            "type": "choropleth"
           }
          ],
          "contour": [
           {
            "colorbar": {
             "outlinewidth": 0,
             "ticks": ""
            },
            "colorscale": [
             [
              0,
              "#0d0887"
             ],
             [
              0.1111111111111111,
              "#46039f"
             ],
             [
              0.2222222222222222,
              "#7201a8"
             ],
             [
              0.3333333333333333,
              "#9c179e"
             ],
             [
              0.4444444444444444,
              "#bd3786"
             ],
             [
              0.5555555555555556,
              "#d8576b"
             ],
             [
              0.6666666666666666,
              "#ed7953"
             ],
             [
              0.7777777777777778,
              "#fb9f3a"
             ],
             [
              0.8888888888888888,
              "#fdca26"
             ],
             [
              1,
              "#f0f921"
             ]
            ],
            "type": "contour"
           }
          ],
          "contourcarpet": [
           {
            "colorbar": {
             "outlinewidth": 0,
             "ticks": ""
            },
            "type": "contourcarpet"
           }
          ],
          "heatmap": [
           {
            "colorbar": {
             "outlinewidth": 0,
             "ticks": ""
            },
            "colorscale": [
             [
              0,
              "#0d0887"
             ],
             [
              0.1111111111111111,
              "#46039f"
             ],
             [
              0.2222222222222222,
              "#7201a8"
             ],
             [
              0.3333333333333333,
              "#9c179e"
             ],
             [
              0.4444444444444444,
              "#bd3786"
             ],
             [
              0.5555555555555556,
              "#d8576b"
             ],
             [
              0.6666666666666666,
              "#ed7953"
             ],
             [
              0.7777777777777778,
              "#fb9f3a"
             ],
             [
              0.8888888888888888,
              "#fdca26"
             ],
             [
              1,
              "#f0f921"
             ]
            ],
            "type": "heatmap"
           }
          ],
          "heatmapgl": [
           {
            "colorbar": {
             "outlinewidth": 0,
             "ticks": ""
            },
            "colorscale": [
             [
              0,
              "#0d0887"
             ],
             [
              0.1111111111111111,
              "#46039f"
             ],
             [
              0.2222222222222222,
              "#7201a8"
             ],
             [
              0.3333333333333333,
              "#9c179e"
             ],
             [
              0.4444444444444444,
              "#bd3786"
             ],
             [
              0.5555555555555556,
              "#d8576b"
             ],
             [
              0.6666666666666666,
              "#ed7953"
             ],
             [
              0.7777777777777778,
              "#fb9f3a"
             ],
             [
              0.8888888888888888,
              "#fdca26"
             ],
             [
              1,
              "#f0f921"
             ]
            ],
            "type": "heatmapgl"
           }
          ],
          "histogram": [
           {
            "marker": {
             "pattern": {
              "fillmode": "overlay",
              "size": 10,
              "solidity": 0.2
             }
            },
            "type": "histogram"
           }
          ],
          "histogram2d": [
           {
            "colorbar": {
             "outlinewidth": 0,
             "ticks": ""
            },
            "colorscale": [
             [
              0,
              "#0d0887"
             ],
             [
              0.1111111111111111,
              "#46039f"
             ],
             [
              0.2222222222222222,
              "#7201a8"
             ],
             [
              0.3333333333333333,
              "#9c179e"
             ],
             [
              0.4444444444444444,
              "#bd3786"
             ],
             [
              0.5555555555555556,
              "#d8576b"
             ],
             [
              0.6666666666666666,
              "#ed7953"
             ],
             [
              0.7777777777777778,
              "#fb9f3a"
             ],
             [
              0.8888888888888888,
              "#fdca26"
             ],
             [
              1,
              "#f0f921"
             ]
            ],
            "type": "histogram2d"
           }
          ],
          "histogram2dcontour": [
           {
            "colorbar": {
             "outlinewidth": 0,
             "ticks": ""
            },
            "colorscale": [
             [
              0,
              "#0d0887"
             ],
             [
              0.1111111111111111,
              "#46039f"
             ],
             [
              0.2222222222222222,
              "#7201a8"
             ],
             [
              0.3333333333333333,
              "#9c179e"
             ],
             [
              0.4444444444444444,
              "#bd3786"
             ],
             [
              0.5555555555555556,
              "#d8576b"
             ],
             [
              0.6666666666666666,
              "#ed7953"
             ],
             [
              0.7777777777777778,
              "#fb9f3a"
             ],
             [
              0.8888888888888888,
              "#fdca26"
             ],
             [
              1,
              "#f0f921"
             ]
            ],
            "type": "histogram2dcontour"
           }
          ],
          "mesh3d": [
           {
            "colorbar": {
             "outlinewidth": 0,
             "ticks": ""
            },
            "type": "mesh3d"
           }
          ],
          "parcoords": [
           {
            "line": {
             "colorbar": {
              "outlinewidth": 0,
              "ticks": ""
             }
            },
            "type": "parcoords"
           }
          ],
          "pie": [
           {
            "automargin": true,
            "type": "pie"
           }
          ],
          "scatter": [
           {
            "fillpattern": {
             "fillmode": "overlay",
             "size": 10,
             "solidity": 0.2
            },
            "type": "scatter"
           }
          ],
          "scatter3d": [
           {
            "line": {
             "colorbar": {
              "outlinewidth": 0,
              "ticks": ""
             }
            },
            "marker": {
             "colorbar": {
              "outlinewidth": 0,
              "ticks": ""
             }
            },
            "type": "scatter3d"
           }
          ],
          "scattercarpet": [
           {
            "marker": {
             "colorbar": {
              "outlinewidth": 0,
              "ticks": ""
             }
            },
            "type": "scattercarpet"
           }
          ],
          "scattergeo": [
           {
            "marker": {
             "colorbar": {
              "outlinewidth": 0,
              "ticks": ""
             }
            },
            "type": "scattergeo"
           }
          ],
          "scattergl": [
           {
            "marker": {
             "colorbar": {
              "outlinewidth": 0,
              "ticks": ""
             }
            },
            "type": "scattergl"
           }
          ],
          "scattermapbox": [
           {
            "marker": {
             "colorbar": {
              "outlinewidth": 0,
              "ticks": ""
             }
            },
            "type": "scattermapbox"
           }
          ],
          "scatterpolar": [
           {
            "marker": {
             "colorbar": {
              "outlinewidth": 0,
              "ticks": ""
             }
            },
            "type": "scatterpolar"
           }
          ],
          "scatterpolargl": [
           {
            "marker": {
             "colorbar": {
              "outlinewidth": 0,
              "ticks": ""
             }
            },
            "type": "scatterpolargl"
           }
          ],
          "scatterternary": [
           {
            "marker": {
             "colorbar": {
              "outlinewidth": 0,
              "ticks": ""
             }
            },
            "type": "scatterternary"
           }
          ],
          "surface": [
           {
            "colorbar": {
             "outlinewidth": 0,
             "ticks": ""
            },
            "colorscale": [
             [
              0,
              "#0d0887"
             ],
             [
              0.1111111111111111,
              "#46039f"
             ],
             [
              0.2222222222222222,
              "#7201a8"
             ],
             [
              0.3333333333333333,
              "#9c179e"
             ],
             [
              0.4444444444444444,
              "#bd3786"
             ],
             [
              0.5555555555555556,
              "#d8576b"
             ],
             [
              0.6666666666666666,
              "#ed7953"
             ],
             [
              0.7777777777777778,
              "#fb9f3a"
             ],
             [
              0.8888888888888888,
              "#fdca26"
             ],
             [
              1,
              "#f0f921"
             ]
            ],
            "type": "surface"
           }
          ],
          "table": [
           {
            "cells": {
             "fill": {
              "color": "#EBF0F8"
             },
             "line": {
              "color": "white"
             }
            },
            "header": {
             "fill": {
              "color": "#C8D4E3"
             },
             "line": {
              "color": "white"
             }
            },
            "type": "table"
           }
          ]
         },
         "layout": {
          "annotationdefaults": {
           "arrowcolor": "#2a3f5f",
           "arrowhead": 0,
           "arrowwidth": 1
          },
          "autotypenumbers": "strict",
          "coloraxis": {
           "colorbar": {
            "outlinewidth": 0,
            "ticks": ""
           }
          },
          "colorscale": {
           "diverging": [
            [
             0,
             "#8e0152"
            ],
            [
             0.1,
             "#c51b7d"
            ],
            [
             0.2,
             "#de77ae"
            ],
            [
             0.3,
             "#f1b6da"
            ],
            [
             0.4,
             "#fde0ef"
            ],
            [
             0.5,
             "#f7f7f7"
            ],
            [
             0.6,
             "#e6f5d0"
            ],
            [
             0.7,
             "#b8e186"
            ],
            [
             0.8,
             "#7fbc41"
            ],
            [
             0.9,
             "#4d9221"
            ],
            [
             1,
             "#276419"
            ]
           ],
           "sequential": [
            [
             0,
             "#0d0887"
            ],
            [
             0.1111111111111111,
             "#46039f"
            ],
            [
             0.2222222222222222,
             "#7201a8"
            ],
            [
             0.3333333333333333,
             "#9c179e"
            ],
            [
             0.4444444444444444,
             "#bd3786"
            ],
            [
             0.5555555555555556,
             "#d8576b"
            ],
            [
             0.6666666666666666,
             "#ed7953"
            ],
            [
             0.7777777777777778,
             "#fb9f3a"
            ],
            [
             0.8888888888888888,
             "#fdca26"
            ],
            [
             1,
             "#f0f921"
            ]
           ],
           "sequentialminus": [
            [
             0,
             "#0d0887"
            ],
            [
             0.1111111111111111,
             "#46039f"
            ],
            [
             0.2222222222222222,
             "#7201a8"
            ],
            [
             0.3333333333333333,
             "#9c179e"
            ],
            [
             0.4444444444444444,
             "#bd3786"
            ],
            [
             0.5555555555555556,
             "#d8576b"
            ],
            [
             0.6666666666666666,
             "#ed7953"
            ],
            [
             0.7777777777777778,
             "#fb9f3a"
            ],
            [
             0.8888888888888888,
             "#fdca26"
            ],
            [
             1,
             "#f0f921"
            ]
           ]
          },
          "colorway": [
           "#636efa",
           "#EF553B",
           "#00cc96",
           "#ab63fa",
           "#FFA15A",
           "#19d3f3",
           "#FF6692",
           "#B6E880",
           "#FF97FF",
           "#FECB52"
          ],
          "font": {
           "color": "#2a3f5f"
          },
          "geo": {
           "bgcolor": "white",
           "lakecolor": "white",
           "landcolor": "#E5ECF6",
           "showlakes": true,
           "showland": true,
           "subunitcolor": "white"
          },
          "hoverlabel": {
           "align": "left"
          },
          "hovermode": "closest",
          "mapbox": {
           "style": "light"
          },
          "paper_bgcolor": "white",
          "plot_bgcolor": "#E5ECF6",
          "polar": {
           "angularaxis": {
            "gridcolor": "white",
            "linecolor": "white",
            "ticks": ""
           },
           "bgcolor": "#E5ECF6",
           "radialaxis": {
            "gridcolor": "white",
            "linecolor": "white",
            "ticks": ""
           }
          },
          "scene": {
           "xaxis": {
            "backgroundcolor": "#E5ECF6",
            "gridcolor": "white",
            "gridwidth": 2,
            "linecolor": "white",
            "showbackground": true,
            "ticks": "",
            "zerolinecolor": "white"
           },
           "yaxis": {
            "backgroundcolor": "#E5ECF6",
            "gridcolor": "white",
            "gridwidth": 2,
            "linecolor": "white",
            "showbackground": true,
            "ticks": "",
            "zerolinecolor": "white"
           },
           "zaxis": {
            "backgroundcolor": "#E5ECF6",
            "gridcolor": "white",
            "gridwidth": 2,
            "linecolor": "white",
            "showbackground": true,
            "ticks": "",
            "zerolinecolor": "white"
           }
          },
          "shapedefaults": {
           "line": {
            "color": "#2a3f5f"
           }
          },
          "ternary": {
           "aaxis": {
            "gridcolor": "white",
            "linecolor": "white",
            "ticks": ""
           },
           "baxis": {
            "gridcolor": "white",
            "linecolor": "white",
            "ticks": ""
           },
           "bgcolor": "#E5ECF6",
           "caxis": {
            "gridcolor": "white",
            "linecolor": "white",
            "ticks": ""
           }
          },
          "title": {
           "x": 0.05
          },
          "xaxis": {
           "automargin": true,
           "gridcolor": "white",
           "linecolor": "white",
           "ticks": "",
           "title": {
            "standoff": 15
           },
           "zerolinecolor": "white",
           "zerolinewidth": 2
          },
          "yaxis": {
           "automargin": true,
           "gridcolor": "white",
           "linecolor": "white",
           "ticks": "",
           "title": {
            "standoff": 15
           },
           "zerolinecolor": "white",
           "zerolinewidth": 2
          }
         }
        },
        "title": {
         "text": "Power Capacity (Energy / Time) 2050"
        },
        "width": 900
       }
      }
     },
     "metadata": {},
     "output_type": "display_data"
    },
    {
     "name": "stdout",
     "output_type": "stream",
     "text": [
      "Converting from PetaJoules to TerraWattHours\n",
      "No unit conversion applied!\n"
     ]
    },
    {
     "data": {
      "application/vnd.plotly.v1+json": {
       "config": {
        "plotlyServerURL": "https://plot.ly"
       },
       "data": [
        {
         "labels": [
          "Biomass",
          "Biomass",
          "Biomass",
          "Biomass",
          "Biomass",
          "Biomass",
          "Biomass",
          "Biomass",
          "Biomass",
          "Biomass",
          "Biomass",
          "Biomass",
          "Biomass",
          "Biomass",
          "Biomass",
          "Biomass",
          "Biomass",
          "Biomass",
          "Biomass",
          "Biomass",
          "Biomass",
          "Biomass",
          "Biomass",
          "Biomass",
          "Biomass",
          "Biomass",
          "Biomass",
          "Biomass",
          "Biomass",
          "Biomass",
          "Coal",
          "Coal",
          "Coal",
          "Coal",
          "Coal",
          "Coal",
          "Coal",
          "Coal",
          "Coal",
          "Coal",
          "Coal",
          "Coal",
          "Coal",
          "Coal",
          "Coal",
          "Coal",
          "Coal",
          "Coal",
          "Coal",
          "Coal",
          "Coal",
          "Coal",
          "Coal",
          "Coal",
          "Coal",
          "Coal",
          "Coal",
          "Coal",
          "Coal",
          "Coal",
          "Gas",
          "Gas",
          "Gas",
          "Gas",
          "Gas",
          "Gas",
          "Gas",
          "Gas",
          "Gas",
          "Gas",
          "Gas",
          "Gas",
          "Gas",
          "Gas",
          "Gas",
          "Gas",
          "Gas",
          "Gas",
          "Gas",
          "Gas",
          "Gas",
          "Gas",
          "Gas",
          "Gas",
          "Gas",
          "Gas",
          "Gas",
          "Gas",
          "Gas",
          "Gas",
          "Hydrogen",
          "Hydrogen",
          "Hydrogen",
          "Hydrogen",
          "Hydrogen",
          "Hydrogen",
          "Hydrogen",
          "Hydrogen",
          "Hydrogen",
          "Hydrogen",
          "Hydrogen",
          "Hydrogen",
          "Hydrogen",
          "Hydrogen",
          "Hydrogen",
          "Hydrogen",
          "Hydrogen",
          "Hydrogen",
          "Hydrogen",
          "Hydrogen",
          "Hydrogen",
          "Hydrogen",
          "Hydrogen",
          "Hydrogen",
          "Hydrogen",
          "Hydrogen",
          "Hydrogen",
          "Hydrogen",
          "Hydrogen",
          "Hydrogen",
          "Oil",
          "Oil",
          "Oil",
          "Oil",
          "Oil",
          "Oil",
          "Oil",
          "Oil",
          "Oil",
          "Oil",
          "Oil",
          "Oil",
          "Oil",
          "Oil",
          "Oil",
          "Oil",
          "Oil",
          "Oil",
          "Oil",
          "Oil",
          "Oil",
          "Oil",
          "Oil",
          "Oil",
          "Oil",
          "Oil",
          "Oil",
          "Oil",
          "Oil",
          "Oil",
          "Others",
          "Others",
          "Others",
          "Others",
          "Others",
          "Others",
          "Others",
          "Others",
          "Others",
          "Others",
          "Others",
          "Others",
          "Others",
          "Others",
          "Others",
          "Others",
          "Others",
          "Others",
          "Others",
          "Others",
          "Others",
          "Others",
          "Others",
          "Others",
          "Others",
          "Others",
          "Others",
          "Others",
          "Others",
          "Others",
          "Renewables",
          "Renewables",
          "Renewables",
          "Renewables",
          "Renewables",
          "Renewables",
          "Renewables",
          "Renewables",
          "Renewables",
          "Renewables",
          "Renewables",
          "Renewables",
          "Renewables",
          "Renewables",
          "Renewables",
          "Renewables",
          "Renewables",
          "Renewables",
          "Renewables",
          "Renewables",
          "Renewables",
          "Renewables",
          "Renewables",
          "Renewables",
          "Renewables",
          "Renewables",
          "Renewables",
          "Renewables",
          "Renewables",
          "Renewables",
          "Solar",
          "Solar",
          "Solar",
          "Solar",
          "Solar",
          "Solar",
          "Solar",
          "Solar",
          "Solar",
          "Solar",
          "Solar",
          "Solar",
          "Solar",
          "Solar",
          "Solar",
          "Solar",
          "Solar",
          "Solar",
          "Solar",
          "Solar",
          "Solar",
          "Solar",
          "Solar",
          "Solar",
          "Solar",
          "Solar",
          "Solar",
          "Solar",
          "Solar",
          "Solar",
          "Wind",
          "Wind",
          "Wind",
          "Wind",
          "Wind",
          "Wind",
          "Wind",
          "Wind",
          "Wind",
          "Wind",
          "Wind",
          "Wind",
          "Wind",
          "Wind",
          "Wind",
          "Wind",
          "Wind",
          "Wind",
          "Wind",
          "Wind",
          "Wind",
          "Wind",
          "Wind",
          "Wind",
          "Wind",
          "Wind",
          "Wind",
          "Wind",
          "Wind",
          "Wind"
         ],
         "marker": {
          "colors": [
           "#ef8e94",
           "#ef8e94",
           "#ef8e94",
           "#ef8e94",
           "#ef8e94",
           "#ef8e94",
           "#ef8e94",
           "#ef8e94",
           "#ef8e94",
           "#ef8e94",
           "#ef8e94",
           "#ef8e94",
           "#ef8e94",
           "#ef8e94",
           "#ef8e94",
           "#ef8e94",
           "#ef8e94",
           "#ef8e94",
           "#ef8e94",
           "#ef8e94",
           "#ef8e94",
           "#ef8e94",
           "#ef8e94",
           "#ef8e94",
           "#ef8e94",
           "#ef8e94",
           "#ef8e94",
           "#ef8e94",
           "#ef8e94",
           "#ef8e94",
           "#f7e1ed",
           "#f7e1ed",
           "#f7e1ed",
           "#f7e1ed",
           "#f7e1ed",
           "#f7e1ed",
           "#f7e1ed",
           "#f7e1ed",
           "#f7e1ed",
           "#f7e1ed",
           "#f7e1ed",
           "#f7e1ed",
           "#f7e1ed",
           "#f7e1ed",
           "#f7e1ed",
           "#f7e1ed",
           "#f7e1ed",
           "#f7e1ed",
           "#f7e1ed",
           "#f7e1ed",
           "#f7e1ed",
           "#f7e1ed",
           "#f7e1ed",
           "#f7e1ed",
           "#f7e1ed",
           "#f7e1ed",
           "#f7e1ed",
           "#f7e1ed",
           "#f7e1ed",
           "#f7e1ed",
           "#d6cac0",
           "#d6cac0",
           "#d6cac0",
           "#d6cac0",
           "#d6cac0",
           "#d6cac0",
           "#d6cac0",
           "#d6cac0",
           "#d6cac0",
           "#d6cac0",
           "#d6cac0",
           "#d6cac0",
           "#d6cac0",
           "#d6cac0",
           "#d6cac0",
           "#d6cac0",
           "#d6cac0",
           "#d6cac0",
           "#d6cac0",
           "#d6cac0",
           "#d6cac0",
           "#d6cac0",
           "#d6cac0",
           "#d6cac0",
           "#d6cac0",
           "#d6cac0",
           "#d6cac0",
           "#d6cac0",
           "#d6cac0",
           "#d6cac0",
           "#a1e3bc",
           "#a1e3bc",
           "#a1e3bc",
           "#a1e3bc",
           "#a1e3bc",
           "#a1e3bc",
           "#a1e3bc",
           "#a1e3bc",
           "#a1e3bc",
           "#a1e3bc",
           "#a1e3bc",
           "#a1e3bc",
           "#a1e3bc",
           "#a1e3bc",
           "#a1e3bc",
           "#a1e3bc",
           "#a1e3bc",
           "#a1e3bc",
           "#a1e3bc",
           "#a1e3bc",
           "#a1e3bc",
           "#a1e3bc",
           "#a1e3bc",
           "#a1e3bc",
           "#a1e3bc",
           "#a1e3bc",
           "#a1e3bc",
           "#a1e3bc",
           "#a1e3bc",
           "#a1e3bc",
           "#93ceb9",
           "#93ceb9",
           "#93ceb9",
           "#93ceb9",
           "#93ceb9",
           "#93ceb9",
           "#93ceb9",
           "#93ceb9",
           "#93ceb9",
           "#93ceb9",
           "#93ceb9",
           "#93ceb9",
           "#93ceb9",
           "#93ceb9",
           "#93ceb9",
           "#93ceb9",
           "#93ceb9",
           "#93ceb9",
           "#93ceb9",
           "#93ceb9",
           "#93ceb9",
           "#93ceb9",
           "#93ceb9",
           "#93ceb9",
           "#93ceb9",
           "#93ceb9",
           "#93ceb9",
           "#93ceb9",
           "#93ceb9",
           "#93ceb9",
           "#9899e9",
           "#9899e9",
           "#9899e9",
           "#9899e9",
           "#9899e9",
           "#9899e9",
           "#9899e9",
           "#9899e9",
           "#9899e9",
           "#9899e9",
           "#9899e9",
           "#9899e9",
           "#9899e9",
           "#9899e9",
           "#9899e9",
           "#9899e9",
           "#9899e9",
           "#9899e9",
           "#9899e9",
           "#9899e9",
           "#9899e9",
           "#9899e9",
           "#9899e9",
           "#9899e9",
           "#9899e9",
           "#9899e9",
           "#9899e9",
           "#9899e9",
           "#9899e9",
           "#9899e9",
           "#e6daa8",
           "#e6daa8",
           "#e6daa8",
           "#e6daa8",
           "#e6daa8",
           "#e6daa8",
           "#e6daa8",
           "#e6daa8",
           "#e6daa8",
           "#e6daa8",
           "#e6daa8",
           "#e6daa8",
           "#e6daa8",
           "#e6daa8",
           "#e6daa8",
           "#e6daa8",
           "#e6daa8",
           "#e6daa8",
           "#e6daa8",
           "#e6daa8",
           "#e6daa8",
           "#e6daa8",
           "#e6daa8",
           "#e6daa8",
           "#e6daa8",
           "#e6daa8",
           "#e6daa8",
           "#e6daa8",
           "#e6daa8",
           "#e6daa8",
           "#fad1a7",
           "#fad1a7",
           "#fad1a7",
           "#fad1a7",
           "#fad1a7",
           "#fad1a7",
           "#fad1a7",
           "#fad1a7",
           "#fad1a7",
           "#fad1a7",
           "#fad1a7",
           "#fad1a7",
           "#fad1a7",
           "#fad1a7",
           "#fad1a7",
           "#fad1a7",
           "#fad1a7",
           "#fad1a7",
           "#fad1a7",
           "#fad1a7",
           "#fad1a7",
           "#fad1a7",
           "#fad1a7",
           "#fad1a7",
           "#fad1a7",
           "#fad1a7",
           "#fad1a7",
           "#fad1a7",
           "#fad1a7",
           "#fad1a7",
           "#c1abe7",
           "#c1abe7",
           "#c1abe7",
           "#c1abe7",
           "#c1abe7",
           "#c1abe7",
           "#c1abe7",
           "#c1abe7",
           "#c1abe7",
           "#c1abe7",
           "#c1abe7",
           "#c1abe7",
           "#c1abe7",
           "#c1abe7",
           "#c1abe7",
           "#c1abe7",
           "#c1abe7",
           "#c1abe7",
           "#c1abe7",
           "#c1abe7",
           "#c1abe7",
           "#c1abe7",
           "#c1abe7",
           "#c1abe7",
           "#c1abe7",
           "#c1abe7",
           "#c1abe7",
           "#c1abe7",
           "#c1abe7",
           "#c1abe7"
          ]
         },
         "textfont": {
          "size": 24
         },
         "textinfo": "percent+label",
         "textposition": "inside",
         "type": "pie",
         "values": [
          1.5561924678248777,
          0.397412067978004,
          0.11577305902019153,
          0.10440447242737896,
          1.0874896682794442,
          15.469014056285296,
          1.987492184272855,
          0.13969929608290868,
          0.3564315706158847,
          1.7047960715767623,
          9.119067412911498,
          0.007241570621988487,
          0.05984266428389433,
          0.9627892983977564,
          0.021727819685460777,
          4.601625099837652,
          0.12479813354697875,
          0.07923946928141529,
          0.46336465028175466,
          0.8840881411461182,
          0.051664732246969484,
          0.11101081510421565,
          0.44268465642180654,
          0.14610363034662147,
          0.13675948443270086,
          1.7920937046667003,
          0.01410703809730969,
          0.5934297549769212,
          5.7774251353522015,
          2.160405108479801,
          0.011464808977862404,
          2.025905835600153e-8,
          0.7894238604988498,
          8.27216590573478e-9,
          0.17971523471430237,
          3.8010000262980417,
          2.1560260329457478e-8,
          1.984040959884955e-8,
          2.076082352476031e-8,
          2.098580319154128e-8,
          2.1042086244710143e-8,
          2.6593663819168073e-8,
          2.9033670696224582e-8,
          3.9368735463426606e-8,
          1.8408805190915833e-8,
          1.7052255864661146,
          6.914551199549797e-9,
          7.891624608082774e-9,
          8.177181895437043e-9,
          0.930538438398885,
          6.748220020918777e-9,
          8.40400001579868,
          1.9172843515737967,
          2.173580308595057e-8,
          3.181369954945225e-8,
          2.016573735104309e-8,
          3.9921486095612934e-8,
          3.97937260572951e-8,
          1.3890972282358982,
          2.1142403439343037e-8,
          21.72982345441818,
          29.09621798377911,
          11.289973670522757,
          12.971698819484534,
          28.013197339156424,
          184.1741395136985,
          10.21651538080115,
          3.154391707598337,
          67.6854060769799,
          15.37616911456649,
          122.94091885374692,
          6.986247608809037,
          3.825598960265477,
          12.33106769750702,
          9.26205694697267,
          87.83587384567228,
          3.210090563173254,
          2.0813766952758432,
          2.613918445852243,
          32.31317879983977,
          12.994497134139893,
          3.9595788997854653,
          65.33620741743701,
          11.91576739707177,
          14.239631297080397,
          40.874446942382605,
          5.992196158375708,
          10.753624624657505,
          140.3432388421426,
          106.66244157669671,
          3.2115416064305405e-9,
          3.104918919396993e-9,
          3.19753690238967e-9,
          3.203543268983068e-9,
          3.4957011183205403e-9,
          3.4146705048660607e-9,
          3.0286588301657187e-9,
          2.974095216777275e-9,
          3.438619232647768e-9,
          2.9577681075472836e-9,
          3.023406634599237e-9,
          3.618616268740918e-9,
          3.5959069551546493e-9,
          3.4784306910411056e-9,
          3.36083875108706e-9,
          3.4856413926561404e-9,
          3.2066027002711114e-9,
          3.1033580962398062e-9,
          3.3711077138359056e-9,
          3.451198371971938e-9,
          2.8564941955824577e-9,
          3.4809533373025843e-9,
          3.5423526494921987e-9,
          3.17578764943354e-9,
          3.210390687198627e-9,
          3.2476747564584617e-9,
          3.4762752289494057e-9,
          3.5725692139968236e-9,
          3.472308783070932e-9,
          2.9740866992125607e-9,
          1.3783231332199747e-7,
          1.300331286943672e-7,
          4.945466813285467e-8,
          1.4094236581094889e-7,
          0.010288697108977542,
          0.08380003526525998,
          1.438869688535023e-7,
          9.803863834666372e-8,
          1.2767557703179853e-7,
          0.27015444897452123,
          0.0685072553534993,
          1.425615141450166e-7,
          1.4540165672524448e-7,
          1.4065256893909106e-7,
          6.178004107915824e-8,
          0.001947575939511958,
          4.65118699488855e-8,
          8.360560930850865e-8,
          1.4215487728561347e-7,
          1.2553604105163543e-7,
          1.5359166860762665e-8,
          0.1980000332349359,
          1.2413975482963987e-7,
          1.5364111212744506e-7,
          5.0974187688387905e-8,
          1.1723009791037365e-7,
          1.4340813084678406e-7,
          0.06874741861583923,
          1.434490628951927e-7,
          0.019362975419588483,
          1.1224735395821046e-7,
          1.3432428673988895e-7,
          6.179484224018457e-8,
          1.1599779997026883e-7,
          1.9522835836167336,
          1.0772684889734273e-7,
          1.0903219026694036e-7,
          8.246306526831688e-8,
          9.592720374955926e-8,
          8.151407550962322,
          25.000000090636973,
          1.1462024635627129e-7,
          1.2452983158254142e-7,
          1.0884284251076375e-7,
          8.165013917724369e-8,
          1.032569584764727e-7,
          6.724426699556032e-8,
          9.101601834572535e-8,
          1.0626117127411048e-7,
          7.054148115366025e-7,
          6.036836567009834e-8,
          1.1960888367946452e-7,
          1.5602924897362033e-7,
          1.0320813851452728e-7,
          6.344653223465141,
          1.0679362280440001e-7,
          1.4429874046656613e-7,
          1.0428219806345124e-7,
          1.1533849603859589e-7,
          9.753096681427084e-8,
          18.186030719424682,
          14.069515291986104,
          3.778735452984329,
          22.34733333422985,
          4.135210724061683,
          42.916283502977066,
          2.4476824612665475,
          0.928616088964997,
          74.69068977800347,
          13.16211049985823,
          23.04100014821873,
          3.6308328201925066,
          8.015873666819651,
          0.3517003199526233,
          2.6281721450708995,
          42.70274013403379,
          1.157268228620015,
          1.872506227918526,
          6.262695647389992,
          15.739433847187483,
          32.949000600505,
          9.185772475744127,
          12.292894895614284,
          18.235487101867545,
          13.115820590840652,
          39.640534812916556,
          1.2530000909036847,
          2.640775481316432,
          26.500000006067587,
          35.29988350605807,
          15.782840232153294,
          9.94497422796973,
          4.29970480490887,
          22.112573580151533,
          17.791458972970002,
          131.77364282314653,
          0.48800713271037743,
          0.0007685581645326306,
          47.754032523782804,
          0.03039616796467437,
          23.871429578700198,
          54.60000028619645,
          3.2225795944677085,
          4.642512689678375,
          7.168838984961004,
          89.06227429923442,
          0.032677106011689126,
          1.8576461133154203,
          1.8382398220342116e-7,
          13.792783013268677,
          2.3565684661377402e-7,
          8.657747567602627,
          42.63012666307527,
          1.3154627211410936,
          0.9204774580096335,
          0.3201366599325676,
          3.7817795531222345,
          7.863669830485783,
          268.8569294439508,
          50.65975681596806,
          11.894991991669206,
          11.650145524758772,
          0.4069053770924064,
          0.024906885091587505,
          0.21272446063502512,
          117.4689545109382,
          5.775032176732726,
          2.1156799490640523,
          24.31903014130082,
          1.0789374620440824,
          22.98352444677652,
          12.267803710896214,
          0.266741814791642,
          2.433892073166586,
          7.306383908182604,
          3.2805809682407023,
          1.379838919116757,
          0.039460545747018225,
          2.0206992966858452,
          7.217155853274733,
          10.195797859392508,
          5.090825183086282,
          8.050822626520368,
          7.2426394062823825,
          3.7805270792077934,
          3.033205713513461,
          0.004769119496622339,
          0.001564915512189751,
          7.683168641292083,
          102.27879485547444
         ]
        }
       ],
       "layout": {
        "height": 800,
        "template": {
         "data": {
          "bar": [
           {
            "error_x": {
             "color": "#2a3f5f"
            },
            "error_y": {
             "color": "#2a3f5f"
            },
            "marker": {
             "line": {
              "color": "#E5ECF6",
              "width": 0.5
             },
             "pattern": {
              "fillmode": "overlay",
              "size": 10,
              "solidity": 0.2
             }
            },
            "type": "bar"
           }
          ],
          "barpolar": [
           {
            "marker": {
             "line": {
              "color": "#E5ECF6",
              "width": 0.5
             },
             "pattern": {
              "fillmode": "overlay",
              "size": 10,
              "solidity": 0.2
             }
            },
            "type": "barpolar"
           }
          ],
          "carpet": [
           {
            "aaxis": {
             "endlinecolor": "#2a3f5f",
             "gridcolor": "white",
             "linecolor": "white",
             "minorgridcolor": "white",
             "startlinecolor": "#2a3f5f"
            },
            "baxis": {
             "endlinecolor": "#2a3f5f",
             "gridcolor": "white",
             "linecolor": "white",
             "minorgridcolor": "white",
             "startlinecolor": "#2a3f5f"
            },
            "type": "carpet"
           }
          ],
          "choropleth": [
           {
            "colorbar": {
             "outlinewidth": 0,
             "ticks": ""
            },
            "type": "choropleth"
           }
          ],
          "contour": [
           {
            "colorbar": {
             "outlinewidth": 0,
             "ticks": ""
            },
            "colorscale": [
             [
              0,
              "#0d0887"
             ],
             [
              0.1111111111111111,
              "#46039f"
             ],
             [
              0.2222222222222222,
              "#7201a8"
             ],
             [
              0.3333333333333333,
              "#9c179e"
             ],
             [
              0.4444444444444444,
              "#bd3786"
             ],
             [
              0.5555555555555556,
              "#d8576b"
             ],
             [
              0.6666666666666666,
              "#ed7953"
             ],
             [
              0.7777777777777778,
              "#fb9f3a"
             ],
             [
              0.8888888888888888,
              "#fdca26"
             ],
             [
              1,
              "#f0f921"
             ]
            ],
            "type": "contour"
           }
          ],
          "contourcarpet": [
           {
            "colorbar": {
             "outlinewidth": 0,
             "ticks": ""
            },
            "type": "contourcarpet"
           }
          ],
          "heatmap": [
           {
            "colorbar": {
             "outlinewidth": 0,
             "ticks": ""
            },
            "colorscale": [
             [
              0,
              "#0d0887"
             ],
             [
              0.1111111111111111,
              "#46039f"
             ],
             [
              0.2222222222222222,
              "#7201a8"
             ],
             [
              0.3333333333333333,
              "#9c179e"
             ],
             [
              0.4444444444444444,
              "#bd3786"
             ],
             [
              0.5555555555555556,
              "#d8576b"
             ],
             [
              0.6666666666666666,
              "#ed7953"
             ],
             [
              0.7777777777777778,
              "#fb9f3a"
             ],
             [
              0.8888888888888888,
              "#fdca26"
             ],
             [
              1,
              "#f0f921"
             ]
            ],
            "type": "heatmap"
           }
          ],
          "heatmapgl": [
           {
            "colorbar": {
             "outlinewidth": 0,
             "ticks": ""
            },
            "colorscale": [
             [
              0,
              "#0d0887"
             ],
             [
              0.1111111111111111,
              "#46039f"
             ],
             [
              0.2222222222222222,
              "#7201a8"
             ],
             [
              0.3333333333333333,
              "#9c179e"
             ],
             [
              0.4444444444444444,
              "#bd3786"
             ],
             [
              0.5555555555555556,
              "#d8576b"
             ],
             [
              0.6666666666666666,
              "#ed7953"
             ],
             [
              0.7777777777777778,
              "#fb9f3a"
             ],
             [
              0.8888888888888888,
              "#fdca26"
             ],
             [
              1,
              "#f0f921"
             ]
            ],
            "type": "heatmapgl"
           }
          ],
          "histogram": [
           {
            "marker": {
             "pattern": {
              "fillmode": "overlay",
              "size": 10,
              "solidity": 0.2
             }
            },
            "type": "histogram"
           }
          ],
          "histogram2d": [
           {
            "colorbar": {
             "outlinewidth": 0,
             "ticks": ""
            },
            "colorscale": [
             [
              0,
              "#0d0887"
             ],
             [
              0.1111111111111111,
              "#46039f"
             ],
             [
              0.2222222222222222,
              "#7201a8"
             ],
             [
              0.3333333333333333,
              "#9c179e"
             ],
             [
              0.4444444444444444,
              "#bd3786"
             ],
             [
              0.5555555555555556,
              "#d8576b"
             ],
             [
              0.6666666666666666,
              "#ed7953"
             ],
             [
              0.7777777777777778,
              "#fb9f3a"
             ],
             [
              0.8888888888888888,
              "#fdca26"
             ],
             [
              1,
              "#f0f921"
             ]
            ],
            "type": "histogram2d"
           }
          ],
          "histogram2dcontour": [
           {
            "colorbar": {
             "outlinewidth": 0,
             "ticks": ""
            },
            "colorscale": [
             [
              0,
              "#0d0887"
             ],
             [
              0.1111111111111111,
              "#46039f"
             ],
             [
              0.2222222222222222,
              "#7201a8"
             ],
             [
              0.3333333333333333,
              "#9c179e"
             ],
             [
              0.4444444444444444,
              "#bd3786"
             ],
             [
              0.5555555555555556,
              "#d8576b"
             ],
             [
              0.6666666666666666,
              "#ed7953"
             ],
             [
              0.7777777777777778,
              "#fb9f3a"
             ],
             [
              0.8888888888888888,
              "#fdca26"
             ],
             [
              1,
              "#f0f921"
             ]
            ],
            "type": "histogram2dcontour"
           }
          ],
          "mesh3d": [
           {
            "colorbar": {
             "outlinewidth": 0,
             "ticks": ""
            },
            "type": "mesh3d"
           }
          ],
          "parcoords": [
           {
            "line": {
             "colorbar": {
              "outlinewidth": 0,
              "ticks": ""
             }
            },
            "type": "parcoords"
           }
          ],
          "pie": [
           {
            "automargin": true,
            "type": "pie"
           }
          ],
          "scatter": [
           {
            "fillpattern": {
             "fillmode": "overlay",
             "size": 10,
             "solidity": 0.2
            },
            "type": "scatter"
           }
          ],
          "scatter3d": [
           {
            "line": {
             "colorbar": {
              "outlinewidth": 0,
              "ticks": ""
             }
            },
            "marker": {
             "colorbar": {
              "outlinewidth": 0,
              "ticks": ""
             }
            },
            "type": "scatter3d"
           }
          ],
          "scattercarpet": [
           {
            "marker": {
             "colorbar": {
              "outlinewidth": 0,
              "ticks": ""
             }
            },
            "type": "scattercarpet"
           }
          ],
          "scattergeo": [
           {
            "marker": {
             "colorbar": {
              "outlinewidth": 0,
              "ticks": ""
             }
            },
            "type": "scattergeo"
           }
          ],
          "scattergl": [
           {
            "marker": {
             "colorbar": {
              "outlinewidth": 0,
              "ticks": ""
             }
            },
            "type": "scattergl"
           }
          ],
          "scattermapbox": [
           {
            "marker": {
             "colorbar": {
              "outlinewidth": 0,
              "ticks": ""
             }
            },
            "type": "scattermapbox"
           }
          ],
          "scatterpolar": [
           {
            "marker": {
             "colorbar": {
              "outlinewidth": 0,
              "ticks": ""
             }
            },
            "type": "scatterpolar"
           }
          ],
          "scatterpolargl": [
           {
            "marker": {
             "colorbar": {
              "outlinewidth": 0,
              "ticks": ""
             }
            },
            "type": "scatterpolargl"
           }
          ],
          "scatterternary": [
           {
            "marker": {
             "colorbar": {
              "outlinewidth": 0,
              "ticks": ""
             }
            },
            "type": "scatterternary"
           }
          ],
          "surface": [
           {
            "colorbar": {
             "outlinewidth": 0,
             "ticks": ""
            },
            "colorscale": [
             [
              0,
              "#0d0887"
             ],
             [
              0.1111111111111111,
              "#46039f"
             ],
             [
              0.2222222222222222,
              "#7201a8"
             ],
             [
              0.3333333333333333,
              "#9c179e"
             ],
             [
              0.4444444444444444,
              "#bd3786"
             ],
             [
              0.5555555555555556,
              "#d8576b"
             ],
             [
              0.6666666666666666,
              "#ed7953"
             ],
             [
              0.7777777777777778,
              "#fb9f3a"
             ],
             [
              0.8888888888888888,
              "#fdca26"
             ],
             [
              1,
              "#f0f921"
             ]
            ],
            "type": "surface"
           }
          ],
          "table": [
           {
            "cells": {
             "fill": {
              "color": "#EBF0F8"
             },
             "line": {
              "color": "white"
             }
            },
            "header": {
             "fill": {
              "color": "#C8D4E3"
             },
             "line": {
              "color": "white"
             }
            },
            "type": "table"
           }
          ]
         },
         "layout": {
          "annotationdefaults": {
           "arrowcolor": "#2a3f5f",
           "arrowhead": 0,
           "arrowwidth": 1
          },
          "autotypenumbers": "strict",
          "coloraxis": {
           "colorbar": {
            "outlinewidth": 0,
            "ticks": ""
           }
          },
          "colorscale": {
           "diverging": [
            [
             0,
             "#8e0152"
            ],
            [
             0.1,
             "#c51b7d"
            ],
            [
             0.2,
             "#de77ae"
            ],
            [
             0.3,
             "#f1b6da"
            ],
            [
             0.4,
             "#fde0ef"
            ],
            [
             0.5,
             "#f7f7f7"
            ],
            [
             0.6,
             "#e6f5d0"
            ],
            [
             0.7,
             "#b8e186"
            ],
            [
             0.8,
             "#7fbc41"
            ],
            [
             0.9,
             "#4d9221"
            ],
            [
             1,
             "#276419"
            ]
           ],
           "sequential": [
            [
             0,
             "#0d0887"
            ],
            [
             0.1111111111111111,
             "#46039f"
            ],
            [
             0.2222222222222222,
             "#7201a8"
            ],
            [
             0.3333333333333333,
             "#9c179e"
            ],
            [
             0.4444444444444444,
             "#bd3786"
            ],
            [
             0.5555555555555556,
             "#d8576b"
            ],
            [
             0.6666666666666666,
             "#ed7953"
            ],
            [
             0.7777777777777778,
             "#fb9f3a"
            ],
            [
             0.8888888888888888,
             "#fdca26"
            ],
            [
             1,
             "#f0f921"
            ]
           ],
           "sequentialminus": [
            [
             0,
             "#0d0887"
            ],
            [
             0.1111111111111111,
             "#46039f"
            ],
            [
             0.2222222222222222,
             "#7201a8"
            ],
            [
             0.3333333333333333,
             "#9c179e"
            ],
            [
             0.4444444444444444,
             "#bd3786"
            ],
            [
             0.5555555555555556,
             "#d8576b"
            ],
            [
             0.6666666666666666,
             "#ed7953"
            ],
            [
             0.7777777777777778,
             "#fb9f3a"
            ],
            [
             0.8888888888888888,
             "#fdca26"
            ],
            [
             1,
             "#f0f921"
            ]
           ]
          },
          "colorway": [
           "#636efa",
           "#EF553B",
           "#00cc96",
           "#ab63fa",
           "#FFA15A",
           "#19d3f3",
           "#FF6692",
           "#B6E880",
           "#FF97FF",
           "#FECB52"
          ],
          "font": {
           "color": "#2a3f5f"
          },
          "geo": {
           "bgcolor": "white",
           "lakecolor": "white",
           "landcolor": "#E5ECF6",
           "showlakes": true,
           "showland": true,
           "subunitcolor": "white"
          },
          "hoverlabel": {
           "align": "left"
          },
          "hovermode": "closest",
          "mapbox": {
           "style": "light"
          },
          "paper_bgcolor": "white",
          "plot_bgcolor": "#E5ECF6",
          "polar": {
           "angularaxis": {
            "gridcolor": "white",
            "linecolor": "white",
            "ticks": ""
           },
           "bgcolor": "#E5ECF6",
           "radialaxis": {
            "gridcolor": "white",
            "linecolor": "white",
            "ticks": ""
           }
          },
          "scene": {
           "xaxis": {
            "backgroundcolor": "#E5ECF6",
            "gridcolor": "white",
            "gridwidth": 2,
            "linecolor": "white",
            "showbackground": true,
            "ticks": "",
            "zerolinecolor": "white"
           },
           "yaxis": {
            "backgroundcolor": "#E5ECF6",
            "gridcolor": "white",
            "gridwidth": 2,
            "linecolor": "white",
            "showbackground": true,
            "ticks": "",
            "zerolinecolor": "white"
           },
           "zaxis": {
            "backgroundcolor": "#E5ECF6",
            "gridcolor": "white",
            "gridwidth": 2,
            "linecolor": "white",
            "showbackground": true,
            "ticks": "",
            "zerolinecolor": "white"
           }
          },
          "shapedefaults": {
           "line": {
            "color": "#2a3f5f"
           }
          },
          "ternary": {
           "aaxis": {
            "gridcolor": "white",
            "linecolor": "white",
            "ticks": ""
           },
           "baxis": {
            "gridcolor": "white",
            "linecolor": "white",
            "ticks": ""
           },
           "bgcolor": "#E5ECF6",
           "caxis": {
            "gridcolor": "white",
            "linecolor": "white",
            "ticks": ""
           }
          },
          "title": {
           "x": 0.05
          },
          "xaxis": {
           "automargin": true,
           "gridcolor": "white",
           "linecolor": "white",
           "ticks": "",
           "title": {
            "standoff": 15
           },
           "zerolinecolor": "white",
           "zerolinewidth": 2
          },
          "yaxis": {
           "automargin": true,
           "gridcolor": "white",
           "linecolor": "white",
           "ticks": "",
           "title": {
            "standoff": 15
           },
           "zerolinecolor": "white",
           "zerolinewidth": 2
          }
         }
        },
        "title": {
         "text": "Power Capacity (Energy / Time) 2050"
        },
        "width": 900
       }
      }
     },
     "metadata": {},
     "output_type": "display_data"
    }
   ],
   "source": [
    "fig = power_pie_plot(SEASON_DATA)\n",
    "if WRITE_FIGS:\n",
    "    fig.write_image(WRITE_DIR / \"power_pie_plot.png\")\n",
    "fig.show()\n",
    "\n",
    "fig = power_pie_plot(EXPENSIVE_HLDH)\n",
    "if WRITE_FIGS:\n",
    "    fig.write_image(WRITE_DIR / \"power_pie_plot_expensive.png\")\n",
    "fig.show()"
   ]
  },
  {
   "cell_type": "code",
   "execution_count": 8,
   "metadata": {},
   "outputs": [],
   "source": [
    "def power_pie_plot2(sol_path: str) -> go.Figure:\n",
    "\n",
    "    # Pie plot for electronics\n",
    "    data_prod_by_tech = dp.DataProcessor(sol_paths={\"anonym\": sol_path}, type_of_data_to_read=\"ProductionByTechnologyAnnual\")\n",
    "    #data_p = dp.DataProcessor(sol_paths={\"anonym\": sol_path}, type_of_data_to_read=\"TotalCapacityAnnual\")\n",
    "\n",
    "    # Look at 2050\n",
    "    #data_p.filter_by_identifier(column=\"Year\", identifier=2050)\n",
    "    data_prod_by_tech.filter_by_identifier(column=\"Year\", identifier=2050)\n",
    "\n",
    "    # Remove all that starts with \"D_\"\n",
    "    #data_p.df = data_p.df[~data_p.df[\"Technology\"].str.startswith(\"D_\")]\n",
    "    data_prod_by_tech.df = data_prod_by_tech.df[~data_prod_by_tech.df[\"Technology\"].str.startswith(\"D_\")]\n",
    "\n",
    "    # Keep those over 0\n",
    "    #data_p.df = data_p.df[data_p.df[\"Value\"] > 0]\n",
    "\n",
    "    # Aggregate by technology according to the aggregation\n",
    "    #print(\"Length before aggregation\", len(data_p.df))\n",
    "    #data_p.aggregate_by_sum(column_to_sum=\"Value\", groups_memberships=AGGREGATION)\n",
    "    #data_prod_by_tech.show_example_rows(5)\n",
    "    #print(data_prod_by_tech.df[\"Fuel\"].unique())\n",
    "    #data_prod_by_tech.filter_by_identifier(column=\"Fuel\", identifier=\"Heat_District\")\n",
    "    data_prod_by_tech.filter_by_identifier(column=\"Fuel\", identifier=\"Heat_Low_Building\")\n",
    "    #data_prod_by_tech.filter_by_identifier(column=\"Fuel\", identifier=\"Heat_Low_Industrial\")\n",
    "    #data_prod_by_tech.show_example_rows(5)\n",
    "    #data_prod_by_tech.filter_by_identifier(column=\"Fuel\", identifier=\"Power\")\n",
    "    data_prod_by_tech.df = data_prod_by_tech.df[data_prod_by_tech.df[\"Value\"] > 0]\n",
    "    #data_prod_by_tech.show_example_rows(5)\n",
    "    #techs = list(data_prod_by_tech.df[\"Technology\"].unique())\n",
    "\n",
    "    #data_p.filter_by_list(column=\"Technology\", identifier_list=techs)\n",
    "\n",
    "    #data_prod_by_tech.aggregate_by_sum_function(column_to_change=\"Technology\", column_to_sum=\"Value\", function=aggregator)\n",
    "\n",
    "    # Create color list\n",
    "    color_list = [my_color_generator(tech) for tech in data_prod_by_tech.df[\"Technology\"]]\n",
    "\n",
    "    # Make a pie plot\n",
    "    fig = go.Figure(data=[go.Pie(labels=data_prod_by_tech.df[\"Technology\"], values=data_prod_by_tech.df[\"Value\"], \n",
    "                                 textposition='inside', textinfo='percent+label',\n",
    "                                 textfont=dict(size=20),\n",
    "                                 marker=dict(colors=color_list))])\n",
    "\n",
    "    # Loop labels, and change the color of the pie\n",
    "    #color_gen = my_color_generator()\n",
    "    #for i, label in enumerate(fig.data[0].labels):\n",
    "    #    fig.data[0].marker.colors += [my_color_generator(label)]\n",
    "\n",
    "    fig.update_layout(\n",
    "        title=\"Energy Production 2050\",\n",
    "        width=900,\n",
    "        height=800\n",
    "    )\n",
    "\n",
    "    return fig"
   ]
  },
  {
   "cell_type": "code",
   "execution_count": 9,
   "metadata": {},
   "outputs": [
    {
     "name": "stdout",
     "output_type": "stream",
     "text": [
      "Converting from PetaJoules to TerraWattHours\n"
     ]
    },
    {
     "data": {
      "application/vnd.plotly.v1+json": {
       "config": {
        "plotlyServerURL": "https://plot.ly"
       },
       "data": [
        {
         "labels": [
          "CHP_Biomass_Solid",
          "HLR_Convert_DH",
          "HLR_Biomass",
          "HLR_Direct_Electric",
          "HLR_Gas_Boiler",
          "HLR_Geothermal",
          "HLR_H2_Boiler",
          "HLR_Hardcoal",
          "HLR_Heatpump_Aerial",
          "HLR_Heatpump_Ground",
          "HLR_Oil_Boiler",
          "HLR_Solar_Thermal",
          "CHP_Biomass_Solid",
          "HLR_Convert_DH",
          "HLR_Biomass",
          "HLR_Direct_Electric",
          "HLR_Gas_Boiler",
          "HLR_Geothermal",
          "HLR_H2_Boiler",
          "HLR_Hardcoal",
          "HLR_Heatpump_Aerial",
          "HLR_Heatpump_Ground",
          "HLR_Oil_Boiler",
          "HLR_Solar_Thermal",
          "HLR_Convert_DH",
          "HLR_Biomass",
          "HLR_Direct_Electric",
          "HLR_Gas_Boiler",
          "HLR_Geothermal",
          "HLR_H2_Boiler",
          "HLR_Hardcoal",
          "HLR_Heatpump_Aerial",
          "HLR_Heatpump_Ground",
          "HLR_Oil_Boiler",
          "HLR_Solar_Thermal",
          "CHP_Biomass_Solid",
          "HLR_Convert_DH",
          "HLR_Biomass",
          "HLR_Direct_Electric",
          "HLR_Gas_Boiler",
          "HLR_Geothermal",
          "HLR_H2_Boiler",
          "HLR_Heatpump_Aerial",
          "HLR_Heatpump_Ground",
          "HLR_Oil_Boiler",
          "HLR_Solar_Thermal",
          "CHP_Biomass_Solid",
          "HLR_Convert_DH",
          "HLR_Biomass",
          "HLR_Direct_Electric",
          "HLR_Gas_Boiler",
          "HLR_Geothermal",
          "HLR_H2_Boiler",
          "HLR_Hardcoal",
          "HLR_Heatpump_Aerial",
          "HLR_Heatpump_Ground",
          "HLR_Oil_Boiler",
          "HLR_Solar_Thermal",
          "CHP_Biomass_Solid",
          "HLR_Convert_DH",
          "HLR_Biomass",
          "HLR_Direct_Electric",
          "HLR_Gas_Boiler",
          "HLR_Geothermal",
          "HLR_H2_Boiler",
          "HLR_Hardcoal",
          "HLR_Heatpump_Aerial",
          "HLR_Heatpump_Ground",
          "HLR_Oil_Boiler",
          "HLR_Solar_Thermal",
          "CHP_Biomass_Solid",
          "HLR_Convert_DH",
          "HLR_Biomass",
          "HLR_Direct_Electric",
          "HLR_Gas_Boiler",
          "HLR_Geothermal",
          "HLR_H2_Boiler",
          "HLR_Heatpump_Aerial",
          "HLR_Heatpump_Ground",
          "HLR_Oil_Boiler",
          "HLR_Solar_Thermal",
          "CHP_Biomass_Solid",
          "HLR_Convert_DH",
          "HLR_Biomass",
          "HLR_Direct_Electric",
          "HLR_Gas_Boiler",
          "HLR_Geothermal",
          "HLR_H2_Boiler",
          "HLR_Heatpump_Aerial",
          "HLR_Heatpump_Ground",
          "HLR_Oil_Boiler",
          "HLR_Solar_Thermal",
          "CHP_Biomass_Solid",
          "HLR_Convert_DH",
          "HLR_Biomass",
          "HLR_Direct_Electric",
          "HLR_Gas_Boiler",
          "HLR_Geothermal",
          "HLR_H2_Boiler",
          "HLR_Heatpump_Aerial",
          "HLR_Heatpump_Ground",
          "HLR_Oil_Boiler",
          "HLR_Solar_Thermal",
          "CHP_Biomass_Solid",
          "HLR_Convert_DH",
          "HLR_Biomass",
          "HLR_Direct_Electric",
          "HLR_Gas_Boiler",
          "HLR_Geothermal",
          "HLR_H2_Boiler",
          "HLR_Heatpump_Aerial",
          "HLR_Heatpump_Ground",
          "HLR_Oil_Boiler",
          "HLR_Solar_Thermal",
          "CHP_Biomass_Solid",
          "HLR_Convert_DH",
          "HLR_Biomass",
          "HLR_Direct_Electric",
          "HLR_Gas_Boiler",
          "HLR_Geothermal",
          "HLR_H2_Boiler",
          "HLR_Hardcoal",
          "HLR_Heatpump_Aerial",
          "HLR_Heatpump_Ground",
          "HLR_Oil_Boiler",
          "HLR_Solar_Thermal",
          "CHP_Biomass_Solid",
          "HLR_Convert_DH",
          "HLR_Biomass",
          "HLR_Direct_Electric",
          "HLR_Gas_Boiler",
          "HLR_Geothermal",
          "HLR_H2_Boiler",
          "HLR_Hardcoal",
          "HLR_Heatpump_Aerial",
          "HLR_Heatpump_Ground",
          "HLR_Oil_Boiler",
          "HLR_Solar_Thermal",
          "CHP_Biomass_Solid",
          "HLR_Convert_DH",
          "HLR_Biomass",
          "HLR_Direct_Electric",
          "HLR_Gas_Boiler",
          "HLR_Geothermal",
          "HLR_H2_Boiler",
          "HLR_Hardcoal",
          "HLR_Heatpump_Aerial",
          "HLR_Heatpump_Ground",
          "HLR_Oil_Boiler",
          "HLR_Solar_Thermal",
          "CHP_Biomass_Solid",
          "HLR_Convert_DH",
          "HLR_Biomass",
          "HLR_Direct_Electric",
          "HLR_Gas_Boiler",
          "HLR_Geothermal",
          "HLR_H2_Boiler",
          "HLR_Hardcoal",
          "HLR_Heatpump_Aerial",
          "HLR_Heatpump_Ground",
          "HLR_Oil_Boiler",
          "HLR_Solar_Thermal",
          "CHP_Biomass_Solid",
          "HLR_Convert_DH",
          "HLR_Biomass",
          "HLR_Direct_Electric",
          "HLR_Gas_Boiler",
          "HLR_Geothermal",
          "HLR_H2_Boiler",
          "HLR_Hardcoal",
          "HLR_Heatpump_Aerial",
          "HLR_Heatpump_Ground",
          "HLR_Oil_Boiler",
          "HLR_Solar_Thermal",
          "CHP_Biomass_Solid",
          "HLR_Convert_DH",
          "HLR_Biomass",
          "HLR_Direct_Electric",
          "HLR_Gas_Boiler",
          "HLR_Geothermal",
          "HLR_H2_Boiler",
          "HLR_Heatpump_Aerial",
          "HLR_Heatpump_Ground",
          "HLR_Oil_Boiler",
          "HLR_Solar_Thermal",
          "CHP_Biomass_Solid",
          "HLR_Convert_DH",
          "HLR_Biomass",
          "HLR_Direct_Electric",
          "HLR_Gas_Boiler",
          "HLR_Geothermal",
          "HLR_H2_Boiler",
          "HLR_Hardcoal",
          "HLR_Heatpump_Aerial",
          "HLR_Heatpump_Ground",
          "HLR_Oil_Boiler",
          "HLR_Solar_Thermal",
          "CHP_Biomass_Solid",
          "HLR_Convert_DH",
          "HLR_Biomass",
          "HLR_Direct_Electric",
          "HLR_Gas_Boiler",
          "HLR_Geothermal",
          "HLR_H2_Boiler",
          "HLR_Hardcoal",
          "HLR_Heatpump_Aerial",
          "HLR_Heatpump_Ground",
          "HLR_Oil_Boiler",
          "HLR_Solar_Thermal",
          "CHP_Biomass_Solid",
          "HLR_Convert_DH",
          "HLR_Biomass",
          "HLR_Direct_Electric",
          "HLR_Gas_Boiler",
          "HLR_Geothermal",
          "HLR_H2_Boiler",
          "HLR_Hardcoal",
          "HLR_Heatpump_Aerial",
          "HLR_Heatpump_Ground",
          "HLR_Oil_Boiler",
          "HLR_Solar_Thermal",
          "CHP_Biomass_Solid",
          "HLR_Convert_DH",
          "HLR_Biomass",
          "HLR_Direct_Electric",
          "HLR_Gas_Boiler",
          "HLR_Geothermal",
          "HLR_H2_Boiler",
          "HLR_Hardcoal",
          "HLR_Heatpump_Aerial",
          "HLR_Heatpump_Ground",
          "HLR_Oil_Boiler",
          "HLR_Solar_Thermal",
          "CHP_Biomass_Solid",
          "HLR_Convert_DH",
          "HLR_Biomass",
          "HLR_Direct_Electric",
          "HLR_Gas_Boiler",
          "HLR_Geothermal",
          "HLR_H2_Boiler",
          "HLR_Heatpump_Aerial",
          "HLR_Heatpump_Ground",
          "HLR_Oil_Boiler",
          "HLR_Solar_Thermal",
          "CHP_Biomass_Solid",
          "HLR_Convert_DH",
          "HLR_Biomass",
          "HLR_Direct_Electric",
          "HLR_Gas_Boiler",
          "HLR_Geothermal",
          "HLR_H2_Boiler",
          "HLR_Hardcoal",
          "HLR_Heatpump_Aerial",
          "HLR_Heatpump_Ground",
          "HLR_Oil_Boiler",
          "HLR_Solar_Thermal",
          "CHP_Biomass_Solid",
          "HLR_Convert_DH",
          "HLR_Biomass",
          "HLR_Direct_Electric",
          "HLR_Gas_Boiler",
          "HLR_Geothermal",
          "HLR_H2_Boiler",
          "HLR_Heatpump_Aerial",
          "HLR_Heatpump_Ground",
          "HLR_Oil_Boiler",
          "HLR_Solar_Thermal",
          "CHP_Biomass_Solid",
          "HLR_Convert_DH",
          "HLR_Biomass",
          "HLR_Direct_Electric",
          "HLR_Gas_Boiler",
          "HLR_Geothermal",
          "HLR_H2_Boiler",
          "HLR_Hardcoal",
          "HLR_Heatpump_Aerial",
          "HLR_Heatpump_Ground",
          "HLR_Oil_Boiler",
          "HLR_Solar_Thermal",
          "CHP_Biomass_Solid",
          "HLR_Convert_DH",
          "HLR_Biomass",
          "HLR_Direct_Electric",
          "HLR_Gas_Boiler",
          "HLR_Geothermal",
          "HLR_H2_Boiler",
          "HLR_Heatpump_Aerial",
          "HLR_Heatpump_Ground",
          "HLR_Oil_Boiler",
          "HLR_Solar_Thermal",
          "CHP_Biomass_Solid",
          "HLR_Convert_DH",
          "HLR_Biomass",
          "HLR_Direct_Electric",
          "HLR_Gas_Boiler",
          "HLR_Geothermal",
          "HLR_H2_Boiler",
          "HLR_Heatpump_Aerial",
          "HLR_Heatpump_Ground",
          "HLR_Oil_Boiler",
          "HLR_Solar_Thermal",
          "CHP_Biomass_Solid",
          "HLR_Convert_DH",
          "HLR_Biomass",
          "HLR_Direct_Electric",
          "HLR_Gas_Boiler",
          "HLR_Geothermal",
          "HLR_H2_Boiler",
          "HLR_Hardcoal",
          "HLR_Heatpump_Aerial",
          "HLR_Heatpump_Ground",
          "HLR_Oil_Boiler",
          "HLR_Solar_Thermal",
          "CHP_Biomass_Solid",
          "HLR_Convert_DH",
          "HLR_Biomass",
          "HLR_Direct_Electric",
          "HLR_Gas_Boiler",
          "HLR_Geothermal",
          "HLR_H2_Boiler",
          "HLR_Hardcoal",
          "HLR_Heatpump_Aerial",
          "HLR_Heatpump_Ground",
          "HLR_Oil_Boiler",
          "HLR_Solar_Thermal",
          "CHP_Biomass_Solid",
          "HLR_Convert_DH",
          "HLR_Biomass",
          "HLR_Direct_Electric",
          "HLR_Gas_Boiler",
          "HLR_Geothermal",
          "HLR_H2_Boiler",
          "HLR_Hardcoal",
          "HLR_Heatpump_Aerial",
          "HLR_Heatpump_Ground",
          "HLR_Oil_Boiler",
          "HLR_Solar_Thermal",
          "CHP_Biomass_Solid",
          "HLR_Convert_DH",
          "HLR_Biomass",
          "HLR_Direct_Electric",
          "HLR_Gas_Boiler",
          "HLR_Geothermal",
          "HLR_H2_Boiler",
          "HLR_Hardcoal",
          "HLR_Heatpump_Aerial",
          "HLR_Heatpump_Ground",
          "HLR_Oil_Boiler",
          "HLR_Solar_Thermal"
         ],
         "marker": {
          "colors": [
           "#96ebb5",
           "#ebdab9",
           "#8f9df2",
           "#f6c6e5",
           "#85fab5",
           "#fca4a0",
           "#aadfc4",
           "#94b3ef",
           "#80fdaa",
           "#c6dbf3",
           "#eeeaa8",
           "#ea80fb",
           "#96ebb5",
           "#ebdab9",
           "#8f9df2",
           "#f6c6e5",
           "#85fab5",
           "#fca4a0",
           "#aadfc4",
           "#94b3ef",
           "#80fdaa",
           "#c6dbf3",
           "#eeeaa8",
           "#ea80fb",
           "#ebdab9",
           "#8f9df2",
           "#f6c6e5",
           "#85fab5",
           "#fca4a0",
           "#aadfc4",
           "#94b3ef",
           "#80fdaa",
           "#c6dbf3",
           "#eeeaa8",
           "#ea80fb",
           "#96ebb5",
           "#ebdab9",
           "#8f9df2",
           "#f6c6e5",
           "#85fab5",
           "#fca4a0",
           "#aadfc4",
           "#80fdaa",
           "#c6dbf3",
           "#eeeaa8",
           "#ea80fb",
           "#96ebb5",
           "#ebdab9",
           "#8f9df2",
           "#f6c6e5",
           "#85fab5",
           "#fca4a0",
           "#aadfc4",
           "#94b3ef",
           "#80fdaa",
           "#c6dbf3",
           "#eeeaa8",
           "#ea80fb",
           "#96ebb5",
           "#ebdab9",
           "#8f9df2",
           "#f6c6e5",
           "#85fab5",
           "#fca4a0",
           "#aadfc4",
           "#94b3ef",
           "#80fdaa",
           "#c6dbf3",
           "#eeeaa8",
           "#ea80fb",
           "#96ebb5",
           "#ebdab9",
           "#8f9df2",
           "#f6c6e5",
           "#85fab5",
           "#fca4a0",
           "#aadfc4",
           "#80fdaa",
           "#c6dbf3",
           "#eeeaa8",
           "#ea80fb",
           "#96ebb5",
           "#ebdab9",
           "#8f9df2",
           "#f6c6e5",
           "#85fab5",
           "#fca4a0",
           "#aadfc4",
           "#80fdaa",
           "#c6dbf3",
           "#eeeaa8",
           "#ea80fb",
           "#96ebb5",
           "#ebdab9",
           "#8f9df2",
           "#f6c6e5",
           "#85fab5",
           "#fca4a0",
           "#aadfc4",
           "#80fdaa",
           "#c6dbf3",
           "#eeeaa8",
           "#ea80fb",
           "#96ebb5",
           "#ebdab9",
           "#8f9df2",
           "#f6c6e5",
           "#85fab5",
           "#fca4a0",
           "#aadfc4",
           "#80fdaa",
           "#c6dbf3",
           "#eeeaa8",
           "#ea80fb",
           "#96ebb5",
           "#ebdab9",
           "#8f9df2",
           "#f6c6e5",
           "#85fab5",
           "#fca4a0",
           "#aadfc4",
           "#94b3ef",
           "#80fdaa",
           "#c6dbf3",
           "#eeeaa8",
           "#ea80fb",
           "#96ebb5",
           "#ebdab9",
           "#8f9df2",
           "#f6c6e5",
           "#85fab5",
           "#fca4a0",
           "#aadfc4",
           "#94b3ef",
           "#80fdaa",
           "#c6dbf3",
           "#eeeaa8",
           "#ea80fb",
           "#96ebb5",
           "#ebdab9",
           "#8f9df2",
           "#f6c6e5",
           "#85fab5",
           "#fca4a0",
           "#aadfc4",
           "#94b3ef",
           "#80fdaa",
           "#c6dbf3",
           "#eeeaa8",
           "#ea80fb",
           "#96ebb5",
           "#ebdab9",
           "#8f9df2",
           "#f6c6e5",
           "#85fab5",
           "#fca4a0",
           "#aadfc4",
           "#94b3ef",
           "#80fdaa",
           "#c6dbf3",
           "#eeeaa8",
           "#ea80fb",
           "#96ebb5",
           "#ebdab9",
           "#8f9df2",
           "#f6c6e5",
           "#85fab5",
           "#fca4a0",
           "#aadfc4",
           "#94b3ef",
           "#80fdaa",
           "#c6dbf3",
           "#eeeaa8",
           "#ea80fb",
           "#96ebb5",
           "#ebdab9",
           "#8f9df2",
           "#f6c6e5",
           "#85fab5",
           "#fca4a0",
           "#aadfc4",
           "#80fdaa",
           "#c6dbf3",
           "#eeeaa8",
           "#ea80fb",
           "#96ebb5",
           "#ebdab9",
           "#8f9df2",
           "#f6c6e5",
           "#85fab5",
           "#fca4a0",
           "#aadfc4",
           "#94b3ef",
           "#80fdaa",
           "#c6dbf3",
           "#eeeaa8",
           "#ea80fb",
           "#96ebb5",
           "#ebdab9",
           "#8f9df2",
           "#f6c6e5",
           "#85fab5",
           "#fca4a0",
           "#aadfc4",
           "#94b3ef",
           "#80fdaa",
           "#c6dbf3",
           "#eeeaa8",
           "#ea80fb",
           "#96ebb5",
           "#ebdab9",
           "#8f9df2",
           "#f6c6e5",
           "#85fab5",
           "#fca4a0",
           "#aadfc4",
           "#94b3ef",
           "#80fdaa",
           "#c6dbf3",
           "#eeeaa8",
           "#ea80fb",
           "#96ebb5",
           "#ebdab9",
           "#8f9df2",
           "#f6c6e5",
           "#85fab5",
           "#fca4a0",
           "#aadfc4",
           "#94b3ef",
           "#80fdaa",
           "#c6dbf3",
           "#eeeaa8",
           "#ea80fb",
           "#96ebb5",
           "#ebdab9",
           "#8f9df2",
           "#f6c6e5",
           "#85fab5",
           "#fca4a0",
           "#aadfc4",
           "#80fdaa",
           "#c6dbf3",
           "#eeeaa8",
           "#ea80fb",
           "#96ebb5",
           "#ebdab9",
           "#8f9df2",
           "#f6c6e5",
           "#85fab5",
           "#fca4a0",
           "#aadfc4",
           "#94b3ef",
           "#80fdaa",
           "#c6dbf3",
           "#eeeaa8",
           "#ea80fb",
           "#96ebb5",
           "#ebdab9",
           "#8f9df2",
           "#f6c6e5",
           "#85fab5",
           "#fca4a0",
           "#aadfc4",
           "#80fdaa",
           "#c6dbf3",
           "#eeeaa8",
           "#ea80fb",
           "#96ebb5",
           "#ebdab9",
           "#8f9df2",
           "#f6c6e5",
           "#85fab5",
           "#fca4a0",
           "#aadfc4",
           "#94b3ef",
           "#80fdaa",
           "#c6dbf3",
           "#eeeaa8",
           "#ea80fb",
           "#96ebb5",
           "#ebdab9",
           "#8f9df2",
           "#f6c6e5",
           "#85fab5",
           "#fca4a0",
           "#aadfc4",
           "#80fdaa",
           "#c6dbf3",
           "#eeeaa8",
           "#ea80fb",
           "#96ebb5",
           "#ebdab9",
           "#8f9df2",
           "#f6c6e5",
           "#85fab5",
           "#fca4a0",
           "#aadfc4",
           "#80fdaa",
           "#c6dbf3",
           "#eeeaa8",
           "#ea80fb",
           "#96ebb5",
           "#ebdab9",
           "#8f9df2",
           "#f6c6e5",
           "#85fab5",
           "#fca4a0",
           "#aadfc4",
           "#94b3ef",
           "#80fdaa",
           "#c6dbf3",
           "#eeeaa8",
           "#ea80fb",
           "#96ebb5",
           "#ebdab9",
           "#8f9df2",
           "#f6c6e5",
           "#85fab5",
           "#fca4a0",
           "#aadfc4",
           "#94b3ef",
           "#80fdaa",
           "#c6dbf3",
           "#eeeaa8",
           "#ea80fb",
           "#96ebb5",
           "#ebdab9",
           "#8f9df2",
           "#f6c6e5",
           "#85fab5",
           "#fca4a0",
           "#aadfc4",
           "#94b3ef",
           "#80fdaa",
           "#c6dbf3",
           "#eeeaa8",
           "#ea80fb",
           "#96ebb5",
           "#ebdab9",
           "#8f9df2",
           "#f6c6e5",
           "#85fab5",
           "#fca4a0",
           "#aadfc4",
           "#94b3ef",
           "#80fdaa",
           "#c6dbf3",
           "#eeeaa8",
           "#ea80fb"
          ]
         },
         "textfont": {
          "size": 20
         },
         "textinfo": "percent+label",
         "textposition": "inside",
         "type": "pie",
         "values": [
          5.266051864572247,
          27.538963288003725,
          0.24190626303861895,
          0.052739482900908,
          1.3631219543197932,
          4.708239372529643e-7,
          0.000003289358665455612,
          1.3782098478105053e-8,
          3.9190879428750205,
          3.60010871415988,
          1.8742265606876586e-8,
          1.8021620555574663e-7,
          13.258505270285998,
          23.835701576798268,
          0.07803052804323142,
          0.12724861145477695,
          1.722290532600121,
          5.069777721228846e-7,
          1.0183053724717055,
          1.2751294310852222e-8,
          3.341155900351724,
          10.887309466681442,
          1.794297924042908e-8,
          1.3992421685010484e-7,
          1.2661995930592134,
          0.0366971010619091,
          0.008258674141572515,
          0.000002841903160111603,
          4.1530217686320744e-7,
          0.0000016919481567503395,
          1.1028322388957885e-8,
          2.088293837996233,
          1.0116409715838088,
          1.4873978128880666e-8,
          3.35344656375182e-7,
          9.094432770481463,
          21.898809852113192,
          0.10968289290634695,
          0.0000017742904533380173,
          2.9043808579890187,
          5.730729715052271e-7,
          7.551746477638643,
          6.719251157401693e-7,
          31.326472081059855,
          2.0678197382244514e-8,
          4.3527342952508674e-7,
          9.14770669220315,
          19.839513104343787,
          0.23887390093734195,
          0.041491483418172735,
          0.6919984020283999,
          5.194827156787865e-7,
          1.9570442964270875,
          1.3033970688022969e-8,
          2.2666101839283446,
          12.831985617426957,
          1.7693804017994527e-8,
          1.3636795523236836e-7,
          18.13429466510094,
          185.32238311438735,
          0.9735772180829673,
          0.22455911297710662,
          4.940348479520672e-7,
          3.8548222508661627e-7,
          0.0000023894542516101825,
          1.2504089369934194e-8,
          22.51037918617027,
          13.2762749195985,
          1.6852117449390093e-8,
          1.7718250903373806e-7,
          0.1495153790722497,
          4.347991284752585,
          0.09639341587135361,
          0.022814264041814348,
          7.563590423289691e-7,
          5.060547853659336e-7,
          0.000002372848658886064,
          1.6712384064357209,
          1.5797676315553055,
          1.6490912247142807e-8,
          1.3237757200661343e-7,
          0.6340333911605373,
          2.105327683406999,
          0.045413679641945065,
          0.003338754047869112,
          0.000006444551907945662,
          4.807972262773468e-7,
          0.0000019284145522791167,
          0.010710131430553797,
          0.153806594998074,
          1.7762026526490016e-8,
          9.781003106274192e-8,
          3.947459643111668e-15,
          25.066863489016317,
          0.5185972419151987,
          0.33590443767098094,
          0.8126418049672618,
          4.3620374615216564e-7,
          0.0000022997507667851126,
          22.500217418294646,
          10.479190722376744,
          1.7050155375977418e-8,
          4.1197477618742077e-7,
          2.2302811394744793,
          20.121293146080564,
          0.19692054229109957,
          0.30051648836919853,
          0.15677058460910398,
          6.433597504390052e-7,
          0.7635743949597933,
          1.1114637720681102,
          8.763316660222612,
          2.1153738994035414e-8,
          7.562628015988705e-8,
          16.998795726426714,
          167.29175320432978,
          1.2356174312381212,
          1.0789479816345198,
          4.478787168425909,
          4.1159559912433234e-7,
          0.0000016308219321851028,
          1.3433347326044142e-8,
          30.767887969457288,
          20.335216963497995,
          1.8802577944552245e-8,
          2.3004746506215966e-7,
          1.6176948106791833,
          9.224810828852089,
          0.07303107796496285,
          0.08004704070115097,
          0.000028257706121352613,
          4.7659002404128787e-7,
          0.000007344631653858748,
          1.3295491264569752e-8,
          9.552894777893288,
          0.31583977101100397,
          1.8255790224731265e-8,
          7.960135526953415e-7,
          1.004277452679112,
          6.840830306888394,
          0.11474161644289285,
          0.021799198891326498,
          5.235541838507688e-7,
          4.6665284449960926e-7,
          0.000003297461974417098,
          1.3568529761692456e-8,
          4.114213707691827,
          0.9589797317065506,
          1.846827945912239e-8,
          2.845151243904593e-7,
          3.065270597843811,
          24.0853569936042,
          0.2399443683096192,
          0.039654242910469616,
          1.181761829681782,
          4.6157760726369786e-7,
          0.0000025376166754680874,
          1.37842746897006e-8,
          1.2078520809148867,
          3.364435292075122,
          1.8996188773708075e-8,
          9.632494282544137e-8,
          2.301413356758817,
          15.408775783406314,
          0.00989574006749889,
          0.045774354264189465,
          0.26138508183455234,
          5.825310288228561e-7,
          0.00001878001183534053,
          1.3934053122070682e-8,
          4.4434694595436045e-7,
          3.0614177878637676,
          1.943211862825118e-8,
          1.2052490579202756e-7,
          0.4266885935567425,
          70.5407520441161,
          0.7074317161490751,
          0.2602856121209611,
          0.000008595740582073807,
          4.112378191819852e-7,
          0.0000030338837805311717,
          45.32292921157018,
          6.557593265836484,
          1.6863880015312148e-8,
          3.402954524653501e-7,
          0.6342098040008157,
          1.9240228894055846,
          0.05450216510551228,
          0.0022405499919428335,
          5.086086450055802e-7,
          4.4169664643449603e-7,
          0.0000015006999323573431,
          1.2235026211141112e-8,
          0.06578209206718394,
          0.15927079847131204,
          1.6547108696821237e-8,
          9.251034504977622e-8,
          1.2064809043286322,
          2.373418565835105,
          0.0047877133346717555,
          0.01139809620971093,
          0.14373270659890916,
          5.25433965786405e-7,
          0.40563516185327936,
          1.4200996920767959e-8,
          0.47786695189922324,
          1.2954503218283158,
          1.9962238406220554e-8,
          2.3916334518449885e-7,
          3.08395284618099e-17,
          0.19990609530750675,
          0.00820827403389123,
          0.0004529290882408329,
          1.6526747464931348e-7,
          5.032001587124833e-7,
          0.0000017959384291876438,
          3.6691863163029084e-9,
          0.03180293565811015,
          0.10625293527918345,
          5.124342323690978e-9,
          1.1637665574278203e-7,
          8.77483162554768,
          22.90247256955464,
          0.08119671090983907,
          0.0438247113842165,
          4.183551489498322,
          4.613900716092105e-7,
          1.8485888823737824,
          1.2757550151478045e-8,
          4.712373180046349,
          10.852642388302035,
          1.790381778423503e-8,
          1.4424831070321779e-7,
          5.5714120772587075,
          14.389863088988994,
          0.08085602224551303,
          0.000002597012173509866,
          1.835024951147319,
          5.034252397987721e-7,
          0.0000034593227691270032,
          7.47808690592705e-7,
          30.793189638183804,
          2.0311715200170103e-8,
          1.0566583280521628e-7,
          17.090399296976262,
          40.36191020210846,
          0.47744260253042076,
          0.0989541171734762,
          2.587262106567429,
          5.566415263209069e-7,
          11.278639391686063,
          1.3071584026063226e-8,
          3.75781742015067,
          26.337573100864038,
          1.693362193649354e-8,
          1.2319150721201893e-7,
          1.698090985295499,
          7.568018437432778,
          0.11079941593798089,
          0.13516100809648238,
          1.2033122458330467,
          4.882527881091143e-7,
          0.000002885613390260394,
          3.9142607594029597,
          1.2014163597779157,
          2.019870176963614e-8,
          4.6933074244081974e-7,
          4.417782948295495,
          29.727527924601137,
          0.4161582206466723,
          0.006896711370062602,
          0.00001230942006473091,
          4.606965102707424e-7,
          0.000001865069635200018,
          1.3681811537024223e-8,
          5.17658652078373,
          2.4032107122261017,
          1.8306099003021843e-8,
          1.7005736237248323e-7,
          11.021972414435682,
          23.135599151791236,
          0.1975301455207971,
          0.3873824511047752,
          2.0413043997642535,
          6.145944580451923e-7,
          3.214376007057294,
          3.785982438196212,
          18.33828722230748,
          1.9203017451432637e-8,
          7.587309735659778e-8,
          1.0357922153953878,
          2.60561294909867,
          0.06907917671846424,
          0.013295432670418503,
          0.47068569633869956,
          4.937053431670239e-7,
          0.000006703263643436148,
          2.0104250262644325,
          1.1239243142042168,
          1.9141374864310854e-8,
          1.506396861728402e-7,
          1.0436893611022597,
          10.790281786554502,
          0.01189674574038437,
          0.014550769846066434,
          0.000009472891662720596,
          4.719833281807205e-7,
          0.0000029477761727950886,
          1.449840249359428e-8,
          0.7223458694500999,
          1.0167013626653731,
          1.890853825947466e-8,
          1.5794623067329904e-7,
          19.771802308217936,
          327.7637454139613,
          0.5632973873335133,
          0.0000010222386788611532,
          2.1010439080165617,
          4.722643638746211e-7,
          47.84046453966381,
          1.4630851038224695e-8,
          3.1582684366457186e-7,
          61.73504309131022,
          1.9851647385967604e-8,
          7.849739455063132e-7,
          13.119022512203916,
          231.53730728104435,
          0.7897367314993264,
          0.000001033207567256451,
          8.682187828072568,
          5.144610293361829e-7,
          0.000017356910445137932,
          1.4314967037478836e-8,
          15.781086233806954,
          66.41350114589346,
          2.0474431842593552e-8,
          8.754251003284867e-8,
          11.96414399029346,
          33.08337053805583,
          0.3603176860403928,
          0.0000019146882255064135,
          9.60063841714588,
          6.121678600723849e-7,
          2.234571099416502,
          1.4247792195138055e-8,
          5.249476807681874e-7,
          12.291599485897722,
          1.9559387901373665e-8,
          3.233066027159416e-7
         ]
        }
       ],
       "layout": {
        "height": 800,
        "template": {
         "data": {
          "bar": [
           {
            "error_x": {
             "color": "#2a3f5f"
            },
            "error_y": {
             "color": "#2a3f5f"
            },
            "marker": {
             "line": {
              "color": "#E5ECF6",
              "width": 0.5
             },
             "pattern": {
              "fillmode": "overlay",
              "size": 10,
              "solidity": 0.2
             }
            },
            "type": "bar"
           }
          ],
          "barpolar": [
           {
            "marker": {
             "line": {
              "color": "#E5ECF6",
              "width": 0.5
             },
             "pattern": {
              "fillmode": "overlay",
              "size": 10,
              "solidity": 0.2
             }
            },
            "type": "barpolar"
           }
          ],
          "carpet": [
           {
            "aaxis": {
             "endlinecolor": "#2a3f5f",
             "gridcolor": "white",
             "linecolor": "white",
             "minorgridcolor": "white",
             "startlinecolor": "#2a3f5f"
            },
            "baxis": {
             "endlinecolor": "#2a3f5f",
             "gridcolor": "white",
             "linecolor": "white",
             "minorgridcolor": "white",
             "startlinecolor": "#2a3f5f"
            },
            "type": "carpet"
           }
          ],
          "choropleth": [
           {
            "colorbar": {
             "outlinewidth": 0,
             "ticks": ""
            },
            "type": "choropleth"
           }
          ],
          "contour": [
           {
            "colorbar": {
             "outlinewidth": 0,
             "ticks": ""
            },
            "colorscale": [
             [
              0,
              "#0d0887"
             ],
             [
              0.1111111111111111,
              "#46039f"
             ],
             [
              0.2222222222222222,
              "#7201a8"
             ],
             [
              0.3333333333333333,
              "#9c179e"
             ],
             [
              0.4444444444444444,
              "#bd3786"
             ],
             [
              0.5555555555555556,
              "#d8576b"
             ],
             [
              0.6666666666666666,
              "#ed7953"
             ],
             [
              0.7777777777777778,
              "#fb9f3a"
             ],
             [
              0.8888888888888888,
              "#fdca26"
             ],
             [
              1,
              "#f0f921"
             ]
            ],
            "type": "contour"
           }
          ],
          "contourcarpet": [
           {
            "colorbar": {
             "outlinewidth": 0,
             "ticks": ""
            },
            "type": "contourcarpet"
           }
          ],
          "heatmap": [
           {
            "colorbar": {
             "outlinewidth": 0,
             "ticks": ""
            },
            "colorscale": [
             [
              0,
              "#0d0887"
             ],
             [
              0.1111111111111111,
              "#46039f"
             ],
             [
              0.2222222222222222,
              "#7201a8"
             ],
             [
              0.3333333333333333,
              "#9c179e"
             ],
             [
              0.4444444444444444,
              "#bd3786"
             ],
             [
              0.5555555555555556,
              "#d8576b"
             ],
             [
              0.6666666666666666,
              "#ed7953"
             ],
             [
              0.7777777777777778,
              "#fb9f3a"
             ],
             [
              0.8888888888888888,
              "#fdca26"
             ],
             [
              1,
              "#f0f921"
             ]
            ],
            "type": "heatmap"
           }
          ],
          "heatmapgl": [
           {
            "colorbar": {
             "outlinewidth": 0,
             "ticks": ""
            },
            "colorscale": [
             [
              0,
              "#0d0887"
             ],
             [
              0.1111111111111111,
              "#46039f"
             ],
             [
              0.2222222222222222,
              "#7201a8"
             ],
             [
              0.3333333333333333,
              "#9c179e"
             ],
             [
              0.4444444444444444,
              "#bd3786"
             ],
             [
              0.5555555555555556,
              "#d8576b"
             ],
             [
              0.6666666666666666,
              "#ed7953"
             ],
             [
              0.7777777777777778,
              "#fb9f3a"
             ],
             [
              0.8888888888888888,
              "#fdca26"
             ],
             [
              1,
              "#f0f921"
             ]
            ],
            "type": "heatmapgl"
           }
          ],
          "histogram": [
           {
            "marker": {
             "pattern": {
              "fillmode": "overlay",
              "size": 10,
              "solidity": 0.2
             }
            },
            "type": "histogram"
           }
          ],
          "histogram2d": [
           {
            "colorbar": {
             "outlinewidth": 0,
             "ticks": ""
            },
            "colorscale": [
             [
              0,
              "#0d0887"
             ],
             [
              0.1111111111111111,
              "#46039f"
             ],
             [
              0.2222222222222222,
              "#7201a8"
             ],
             [
              0.3333333333333333,
              "#9c179e"
             ],
             [
              0.4444444444444444,
              "#bd3786"
             ],
             [
              0.5555555555555556,
              "#d8576b"
             ],
             [
              0.6666666666666666,
              "#ed7953"
             ],
             [
              0.7777777777777778,
              "#fb9f3a"
             ],
             [
              0.8888888888888888,
              "#fdca26"
             ],
             [
              1,
              "#f0f921"
             ]
            ],
            "type": "histogram2d"
           }
          ],
          "histogram2dcontour": [
           {
            "colorbar": {
             "outlinewidth": 0,
             "ticks": ""
            },
            "colorscale": [
             [
              0,
              "#0d0887"
             ],
             [
              0.1111111111111111,
              "#46039f"
             ],
             [
              0.2222222222222222,
              "#7201a8"
             ],
             [
              0.3333333333333333,
              "#9c179e"
             ],
             [
              0.4444444444444444,
              "#bd3786"
             ],
             [
              0.5555555555555556,
              "#d8576b"
             ],
             [
              0.6666666666666666,
              "#ed7953"
             ],
             [
              0.7777777777777778,
              "#fb9f3a"
             ],
             [
              0.8888888888888888,
              "#fdca26"
             ],
             [
              1,
              "#f0f921"
             ]
            ],
            "type": "histogram2dcontour"
           }
          ],
          "mesh3d": [
           {
            "colorbar": {
             "outlinewidth": 0,
             "ticks": ""
            },
            "type": "mesh3d"
           }
          ],
          "parcoords": [
           {
            "line": {
             "colorbar": {
              "outlinewidth": 0,
              "ticks": ""
             }
            },
            "type": "parcoords"
           }
          ],
          "pie": [
           {
            "automargin": true,
            "type": "pie"
           }
          ],
          "scatter": [
           {
            "fillpattern": {
             "fillmode": "overlay",
             "size": 10,
             "solidity": 0.2
            },
            "type": "scatter"
           }
          ],
          "scatter3d": [
           {
            "line": {
             "colorbar": {
              "outlinewidth": 0,
              "ticks": ""
             }
            },
            "marker": {
             "colorbar": {
              "outlinewidth": 0,
              "ticks": ""
             }
            },
            "type": "scatter3d"
           }
          ],
          "scattercarpet": [
           {
            "marker": {
             "colorbar": {
              "outlinewidth": 0,
              "ticks": ""
             }
            },
            "type": "scattercarpet"
           }
          ],
          "scattergeo": [
           {
            "marker": {
             "colorbar": {
              "outlinewidth": 0,
              "ticks": ""
             }
            },
            "type": "scattergeo"
           }
          ],
          "scattergl": [
           {
            "marker": {
             "colorbar": {
              "outlinewidth": 0,
              "ticks": ""
             }
            },
            "type": "scattergl"
           }
          ],
          "scattermapbox": [
           {
            "marker": {
             "colorbar": {
              "outlinewidth": 0,
              "ticks": ""
             }
            },
            "type": "scattermapbox"
           }
          ],
          "scatterpolar": [
           {
            "marker": {
             "colorbar": {
              "outlinewidth": 0,
              "ticks": ""
             }
            },
            "type": "scatterpolar"
           }
          ],
          "scatterpolargl": [
           {
            "marker": {
             "colorbar": {
              "outlinewidth": 0,
              "ticks": ""
             }
            },
            "type": "scatterpolargl"
           }
          ],
          "scatterternary": [
           {
            "marker": {
             "colorbar": {
              "outlinewidth": 0,
              "ticks": ""
             }
            },
            "type": "scatterternary"
           }
          ],
          "surface": [
           {
            "colorbar": {
             "outlinewidth": 0,
             "ticks": ""
            },
            "colorscale": [
             [
              0,
              "#0d0887"
             ],
             [
              0.1111111111111111,
              "#46039f"
             ],
             [
              0.2222222222222222,
              "#7201a8"
             ],
             [
              0.3333333333333333,
              "#9c179e"
             ],
             [
              0.4444444444444444,
              "#bd3786"
             ],
             [
              0.5555555555555556,
              "#d8576b"
             ],
             [
              0.6666666666666666,
              "#ed7953"
             ],
             [
              0.7777777777777778,
              "#fb9f3a"
             ],
             [
              0.8888888888888888,
              "#fdca26"
             ],
             [
              1,
              "#f0f921"
             ]
            ],
            "type": "surface"
           }
          ],
          "table": [
           {
            "cells": {
             "fill": {
              "color": "#EBF0F8"
             },
             "line": {
              "color": "white"
             }
            },
            "header": {
             "fill": {
              "color": "#C8D4E3"
             },
             "line": {
              "color": "white"
             }
            },
            "type": "table"
           }
          ]
         },
         "layout": {
          "annotationdefaults": {
           "arrowcolor": "#2a3f5f",
           "arrowhead": 0,
           "arrowwidth": 1
          },
          "autotypenumbers": "strict",
          "coloraxis": {
           "colorbar": {
            "outlinewidth": 0,
            "ticks": ""
           }
          },
          "colorscale": {
           "diverging": [
            [
             0,
             "#8e0152"
            ],
            [
             0.1,
             "#c51b7d"
            ],
            [
             0.2,
             "#de77ae"
            ],
            [
             0.3,
             "#f1b6da"
            ],
            [
             0.4,
             "#fde0ef"
            ],
            [
             0.5,
             "#f7f7f7"
            ],
            [
             0.6,
             "#e6f5d0"
            ],
            [
             0.7,
             "#b8e186"
            ],
            [
             0.8,
             "#7fbc41"
            ],
            [
             0.9,
             "#4d9221"
            ],
            [
             1,
             "#276419"
            ]
           ],
           "sequential": [
            [
             0,
             "#0d0887"
            ],
            [
             0.1111111111111111,
             "#46039f"
            ],
            [
             0.2222222222222222,
             "#7201a8"
            ],
            [
             0.3333333333333333,
             "#9c179e"
            ],
            [
             0.4444444444444444,
             "#bd3786"
            ],
            [
             0.5555555555555556,
             "#d8576b"
            ],
            [
             0.6666666666666666,
             "#ed7953"
            ],
            [
             0.7777777777777778,
             "#fb9f3a"
            ],
            [
             0.8888888888888888,
             "#fdca26"
            ],
            [
             1,
             "#f0f921"
            ]
           ],
           "sequentialminus": [
            [
             0,
             "#0d0887"
            ],
            [
             0.1111111111111111,
             "#46039f"
            ],
            [
             0.2222222222222222,
             "#7201a8"
            ],
            [
             0.3333333333333333,
             "#9c179e"
            ],
            [
             0.4444444444444444,
             "#bd3786"
            ],
            [
             0.5555555555555556,
             "#d8576b"
            ],
            [
             0.6666666666666666,
             "#ed7953"
            ],
            [
             0.7777777777777778,
             "#fb9f3a"
            ],
            [
             0.8888888888888888,
             "#fdca26"
            ],
            [
             1,
             "#f0f921"
            ]
           ]
          },
          "colorway": [
           "#636efa",
           "#EF553B",
           "#00cc96",
           "#ab63fa",
           "#FFA15A",
           "#19d3f3",
           "#FF6692",
           "#B6E880",
           "#FF97FF",
           "#FECB52"
          ],
          "font": {
           "color": "#2a3f5f"
          },
          "geo": {
           "bgcolor": "white",
           "lakecolor": "white",
           "landcolor": "#E5ECF6",
           "showlakes": true,
           "showland": true,
           "subunitcolor": "white"
          },
          "hoverlabel": {
           "align": "left"
          },
          "hovermode": "closest",
          "mapbox": {
           "style": "light"
          },
          "paper_bgcolor": "white",
          "plot_bgcolor": "#E5ECF6",
          "polar": {
           "angularaxis": {
            "gridcolor": "white",
            "linecolor": "white",
            "ticks": ""
           },
           "bgcolor": "#E5ECF6",
           "radialaxis": {
            "gridcolor": "white",
            "linecolor": "white",
            "ticks": ""
           }
          },
          "scene": {
           "xaxis": {
            "backgroundcolor": "#E5ECF6",
            "gridcolor": "white",
            "gridwidth": 2,
            "linecolor": "white",
            "showbackground": true,
            "ticks": "",
            "zerolinecolor": "white"
           },
           "yaxis": {
            "backgroundcolor": "#E5ECF6",
            "gridcolor": "white",
            "gridwidth": 2,
            "linecolor": "white",
            "showbackground": true,
            "ticks": "",
            "zerolinecolor": "white"
           },
           "zaxis": {
            "backgroundcolor": "#E5ECF6",
            "gridcolor": "white",
            "gridwidth": 2,
            "linecolor": "white",
            "showbackground": true,
            "ticks": "",
            "zerolinecolor": "white"
           }
          },
          "shapedefaults": {
           "line": {
            "color": "#2a3f5f"
           }
          },
          "ternary": {
           "aaxis": {
            "gridcolor": "white",
            "linecolor": "white",
            "ticks": ""
           },
           "baxis": {
            "gridcolor": "white",
            "linecolor": "white",
            "ticks": ""
           },
           "bgcolor": "#E5ECF6",
           "caxis": {
            "gridcolor": "white",
            "linecolor": "white",
            "ticks": ""
           }
          },
          "title": {
           "x": 0.05
          },
          "xaxis": {
           "automargin": true,
           "gridcolor": "white",
           "linecolor": "white",
           "ticks": "",
           "title": {
            "standoff": 15
           },
           "zerolinecolor": "white",
           "zerolinewidth": 2
          },
          "yaxis": {
           "automargin": true,
           "gridcolor": "white",
           "linecolor": "white",
           "ticks": "",
           "title": {
            "standoff": 15
           },
           "zerolinecolor": "white",
           "zerolinewidth": 2
          }
         }
        },
        "title": {
         "text": "Energy Production 2050"
        },
        "width": 900
       }
      }
     },
     "metadata": {},
     "output_type": "display_data"
    },
    {
     "name": "stdout",
     "output_type": "stream",
     "text": [
      "Converting from PetaJoules to TerraWattHours\n"
     ]
    },
    {
     "data": {
      "application/vnd.plotly.v1+json": {
       "config": {
        "plotlyServerURL": "https://plot.ly"
       },
       "data": [
        {
         "labels": [
          "CHP_Biomass_Solid",
          "HLR_Convert_DH",
          "HLR_Biomass",
          "HLR_Direct_Electric",
          "HLR_Gas_Boiler",
          "HLR_Geothermal",
          "HLR_H2_Boiler",
          "HLR_Hardcoal",
          "HLR_Heatpump_Aerial",
          "HLR_Heatpump_Ground",
          "HLR_Oil_Boiler",
          "HLR_Solar_Thermal",
          "CHP_Biomass_Solid",
          "HLR_Convert_DH",
          "HLR_Biomass",
          "HLR_Direct_Electric",
          "HLR_Gas_Boiler",
          "HLR_Geothermal",
          "HLR_H2_Boiler",
          "HLR_Hardcoal",
          "HLR_Heatpump_Aerial",
          "HLR_Heatpump_Ground",
          "HLR_Oil_Boiler",
          "HLR_Solar_Thermal",
          "HLR_Convert_DH",
          "HLR_Biomass",
          "HLR_Direct_Electric",
          "HLR_Gas_Boiler",
          "HLR_Geothermal",
          "HLR_H2_Boiler",
          "HLR_Hardcoal",
          "HLR_Heatpump_Aerial",
          "HLR_Heatpump_Ground",
          "HLR_Oil_Boiler",
          "HLR_Solar_Thermal",
          "CHP_Biomass_Solid",
          "HLR_Convert_DH",
          "HLR_Biomass",
          "HLR_Direct_Electric",
          "HLR_Gas_Boiler",
          "HLR_Geothermal",
          "HLR_H2_Boiler",
          "HLR_Heatpump_Aerial",
          "HLR_Heatpump_Ground",
          "HLR_Oil_Boiler",
          "HLR_Solar_Thermal",
          "CHP_Biomass_Solid",
          "HLR_Convert_DH",
          "HLR_Biomass",
          "HLR_Direct_Electric",
          "HLR_Gas_Boiler",
          "HLR_Geothermal",
          "HLR_H2_Boiler",
          "HLR_Hardcoal",
          "HLR_Heatpump_Aerial",
          "HLR_Heatpump_Ground",
          "HLR_Oil_Boiler",
          "HLR_Solar_Thermal",
          "CHP_Biomass_Solid",
          "HLR_Convert_DH",
          "HLR_Biomass",
          "HLR_Direct_Electric",
          "HLR_Gas_Boiler",
          "HLR_Geothermal",
          "HLR_H2_Boiler",
          "HLR_Hardcoal",
          "HLR_Heatpump_Aerial",
          "HLR_Heatpump_Ground",
          "HLR_Oil_Boiler",
          "HLR_Solar_Thermal",
          "CHP_Biomass_Solid",
          "HLR_Convert_DH",
          "HLR_Biomass",
          "HLR_Direct_Electric",
          "HLR_Gas_Boiler",
          "HLR_Geothermal",
          "HLR_H2_Boiler",
          "HLR_Heatpump_Aerial",
          "HLR_Heatpump_Ground",
          "HLR_Oil_Boiler",
          "HLR_Solar_Thermal",
          "CHP_Biomass_Solid",
          "HLR_Convert_DH",
          "HLR_Biomass",
          "HLR_Direct_Electric",
          "HLR_Gas_Boiler",
          "HLR_Geothermal",
          "HLR_H2_Boiler",
          "HLR_Heatpump_Aerial",
          "HLR_Heatpump_Ground",
          "HLR_Oil_Boiler",
          "HLR_Solar_Thermal",
          "HLR_Convert_DH",
          "HLR_Biomass",
          "HLR_Direct_Electric",
          "HLR_Gas_Boiler",
          "HLR_Geothermal",
          "HLR_H2_Boiler",
          "HLR_Heatpump_Aerial",
          "HLR_Heatpump_Ground",
          "HLR_Oil_Boiler",
          "HLR_Solar_Thermal",
          "CHP_Biomass_Solid",
          "HLR_Convert_DH",
          "HLR_Biomass",
          "HLR_Direct_Electric",
          "HLR_Gas_Boiler",
          "HLR_Geothermal",
          "HLR_H2_Boiler",
          "HLR_Heatpump_Aerial",
          "HLR_Heatpump_Ground",
          "HLR_Oil_Boiler",
          "HLR_Solar_Thermal",
          "CHP_Biomass_Solid",
          "HLR_Convert_DH",
          "HLR_Biomass",
          "HLR_Direct_Electric",
          "HLR_Gas_Boiler",
          "HLR_Geothermal",
          "HLR_H2_Boiler",
          "HLR_Hardcoal",
          "HLR_Heatpump_Aerial",
          "HLR_Heatpump_Ground",
          "HLR_Oil_Boiler",
          "HLR_Solar_Thermal",
          "CHP_Biomass_Solid",
          "HLR_Convert_DH",
          "HLR_Biomass",
          "HLR_Direct_Electric",
          "HLR_Gas_Boiler",
          "HLR_Geothermal",
          "HLR_H2_Boiler",
          "HLR_Hardcoal",
          "HLR_Heatpump_Aerial",
          "HLR_Heatpump_Ground",
          "HLR_Oil_Boiler",
          "HLR_Solar_Thermal",
          "CHP_Biomass_Solid",
          "HLR_Convert_DH",
          "HLR_Biomass",
          "HLR_Direct_Electric",
          "HLR_Gas_Boiler",
          "HLR_Geothermal",
          "HLR_H2_Boiler",
          "HLR_Hardcoal",
          "HLR_Heatpump_Aerial",
          "HLR_Heatpump_Ground",
          "HLR_Oil_Boiler",
          "HLR_Solar_Thermal",
          "CHP_Biomass_Solid",
          "HLR_Convert_DH",
          "HLR_Biomass",
          "HLR_Direct_Electric",
          "HLR_Gas_Boiler",
          "HLR_Geothermal",
          "HLR_H2_Boiler",
          "HLR_Hardcoal",
          "HLR_Heatpump_Aerial",
          "HLR_Heatpump_Ground",
          "HLR_Oil_Boiler",
          "HLR_Solar_Thermal",
          "CHP_Biomass_Solid",
          "HLR_Convert_DH",
          "HLR_Biomass",
          "HLR_Direct_Electric",
          "HLR_Gas_Boiler",
          "HLR_Geothermal",
          "HLR_H2_Boiler",
          "HLR_Hardcoal",
          "HLR_Heatpump_Aerial",
          "HLR_Heatpump_Ground",
          "HLR_Oil_Boiler",
          "HLR_Solar_Thermal",
          "HLR_Convert_DH",
          "HLR_Biomass",
          "HLR_Direct_Electric",
          "HLR_Gas_Boiler",
          "HLR_Geothermal",
          "HLR_H2_Boiler",
          "HLR_Heatpump_Aerial",
          "HLR_Heatpump_Ground",
          "HLR_Oil_Boiler",
          "HLR_Solar_Thermal",
          "CHP_Biomass_Solid",
          "HLR_Convert_DH",
          "HLR_Biomass",
          "HLR_Direct_Electric",
          "HLR_Gas_Boiler",
          "HLR_Geothermal",
          "HLR_H2_Boiler",
          "HLR_Hardcoal",
          "HLR_Heatpump_Aerial",
          "HLR_Heatpump_Ground",
          "HLR_Oil_Boiler",
          "HLR_Solar_Thermal",
          "CHP_Biomass_Solid",
          "HLR_Convert_DH",
          "HLR_Biomass",
          "HLR_Direct_Electric",
          "HLR_Gas_Boiler",
          "HLR_Geothermal",
          "HLR_H2_Boiler",
          "HLR_Hardcoal",
          "HLR_Heatpump_Aerial",
          "HLR_Heatpump_Ground",
          "HLR_Oil_Boiler",
          "HLR_Solar_Thermal",
          "HLR_Convert_DH",
          "HLR_Biomass",
          "HLR_Direct_Electric",
          "HLR_Gas_Boiler",
          "HLR_Geothermal",
          "HLR_H2_Boiler",
          "HLR_Hardcoal",
          "HLR_Heatpump_Aerial",
          "HLR_Heatpump_Ground",
          "HLR_Oil_Boiler",
          "HLR_Solar_Thermal",
          "CHP_Biomass_Solid",
          "HLR_Convert_DH",
          "HLR_Biomass",
          "HLR_Direct_Electric",
          "HLR_Gas_Boiler",
          "HLR_Geothermal",
          "HLR_H2_Boiler",
          "HLR_Hardcoal",
          "HLR_Heatpump_Aerial",
          "HLR_Heatpump_Ground",
          "HLR_Oil_Boiler",
          "HLR_Solar_Thermal",
          "CHP_Biomass_Solid",
          "HLR_Convert_DH",
          "HLR_Biomass",
          "HLR_Direct_Electric",
          "HLR_Gas_Boiler",
          "HLR_Geothermal",
          "HLR_H2_Boiler",
          "HLR_Heatpump_Aerial",
          "HLR_Heatpump_Ground",
          "HLR_Oil_Boiler",
          "HLR_Solar_Thermal",
          "CHP_Biomass_Solid",
          "HLR_Convert_DH",
          "HLR_Biomass",
          "HLR_Direct_Electric",
          "HLR_Gas_Boiler",
          "HLR_Geothermal",
          "HLR_H2_Boiler",
          "HLR_Hardcoal",
          "HLR_Heatpump_Aerial",
          "HLR_Heatpump_Ground",
          "HLR_Oil_Boiler",
          "HLR_Solar_Thermal",
          "CHP_Biomass_Solid",
          "HLR_Convert_DH",
          "HLR_Biomass",
          "HLR_Direct_Electric",
          "HLR_Gas_Boiler",
          "HLR_Geothermal",
          "HLR_H2_Boiler",
          "HLR_Heatpump_Aerial",
          "HLR_Heatpump_Ground",
          "HLR_Oil_Boiler",
          "HLR_Solar_Thermal",
          "CHP_Biomass_Solid",
          "HLR_Convert_DH",
          "HLR_Biomass",
          "HLR_Direct_Electric",
          "HLR_Gas_Boiler",
          "HLR_Geothermal",
          "HLR_H2_Boiler",
          "HLR_Hardcoal",
          "HLR_Heatpump_Aerial",
          "HLR_Heatpump_Ground",
          "HLR_Oil_Boiler",
          "HLR_Solar_Thermal",
          "CHP_Biomass_Solid",
          "HLR_Convert_DH",
          "HLR_Biomass",
          "HLR_Direct_Electric",
          "HLR_Gas_Boiler",
          "HLR_Geothermal",
          "HLR_H2_Boiler",
          "HLR_Heatpump_Aerial",
          "HLR_Heatpump_Ground",
          "HLR_Oil_Boiler",
          "HLR_Solar_Thermal",
          "CHP_Biomass_Solid",
          "HLR_Convert_DH",
          "HLR_Biomass",
          "HLR_Direct_Electric",
          "HLR_Gas_Boiler",
          "HLR_Geothermal",
          "HLR_H2_Boiler",
          "HLR_Heatpump_Aerial",
          "HLR_Heatpump_Ground",
          "HLR_Oil_Boiler",
          "HLR_Solar_Thermal",
          "CHP_Biomass_Solid",
          "HLR_Convert_DH",
          "HLR_Biomass",
          "HLR_Direct_Electric",
          "HLR_Gas_Boiler",
          "HLR_Geothermal",
          "HLR_H2_Boiler",
          "HLR_Hardcoal",
          "HLR_Heatpump_Aerial",
          "HLR_Heatpump_Ground",
          "HLR_Oil_Boiler",
          "HLR_Solar_Thermal",
          "CHP_Biomass_Solid",
          "HLR_Convert_DH",
          "HLR_Biomass",
          "HLR_Direct_Electric",
          "HLR_Gas_Boiler",
          "HLR_Geothermal",
          "HLR_H2_Boiler",
          "HLR_Hardcoal",
          "HLR_Heatpump_Aerial",
          "HLR_Heatpump_Ground",
          "HLR_Oil_Boiler",
          "HLR_Solar_Thermal",
          "CHP_Biomass_Solid",
          "HLR_Convert_DH",
          "HLR_Biomass",
          "HLR_Direct_Electric",
          "HLR_Gas_Boiler",
          "HLR_Geothermal",
          "HLR_H2_Boiler",
          "HLR_Hardcoal",
          "HLR_Heatpump_Aerial",
          "HLR_Heatpump_Ground",
          "HLR_Oil_Boiler",
          "HLR_Solar_Thermal",
          "CHP_Biomass_Solid",
          "HLR_Convert_DH",
          "HLR_Biomass",
          "HLR_Direct_Electric",
          "HLR_Gas_Boiler",
          "HLR_Geothermal",
          "HLR_H2_Boiler",
          "HLR_Hardcoal",
          "HLR_Heatpump_Aerial",
          "HLR_Heatpump_Ground",
          "HLR_Oil_Boiler",
          "HLR_Solar_Thermal"
         ],
         "marker": {
          "colors": [
           "#96ebb5",
           "#ebdab9",
           "#8f9df2",
           "#f6c6e5",
           "#85fab5",
           "#fca4a0",
           "#aadfc4",
           "#94b3ef",
           "#80fdaa",
           "#c6dbf3",
           "#eeeaa8",
           "#ea80fb",
           "#96ebb5",
           "#ebdab9",
           "#8f9df2",
           "#f6c6e5",
           "#85fab5",
           "#fca4a0",
           "#aadfc4",
           "#94b3ef",
           "#80fdaa",
           "#c6dbf3",
           "#eeeaa8",
           "#ea80fb",
           "#ebdab9",
           "#8f9df2",
           "#f6c6e5",
           "#85fab5",
           "#fca4a0",
           "#aadfc4",
           "#94b3ef",
           "#80fdaa",
           "#c6dbf3",
           "#eeeaa8",
           "#ea80fb",
           "#96ebb5",
           "#ebdab9",
           "#8f9df2",
           "#f6c6e5",
           "#85fab5",
           "#fca4a0",
           "#aadfc4",
           "#80fdaa",
           "#c6dbf3",
           "#eeeaa8",
           "#ea80fb",
           "#96ebb5",
           "#ebdab9",
           "#8f9df2",
           "#f6c6e5",
           "#85fab5",
           "#fca4a0",
           "#aadfc4",
           "#94b3ef",
           "#80fdaa",
           "#c6dbf3",
           "#eeeaa8",
           "#ea80fb",
           "#96ebb5",
           "#ebdab9",
           "#8f9df2",
           "#f6c6e5",
           "#85fab5",
           "#fca4a0",
           "#aadfc4",
           "#94b3ef",
           "#80fdaa",
           "#c6dbf3",
           "#eeeaa8",
           "#ea80fb",
           "#96ebb5",
           "#ebdab9",
           "#8f9df2",
           "#f6c6e5",
           "#85fab5",
           "#fca4a0",
           "#aadfc4",
           "#80fdaa",
           "#c6dbf3",
           "#eeeaa8",
           "#ea80fb",
           "#96ebb5",
           "#ebdab9",
           "#8f9df2",
           "#f6c6e5",
           "#85fab5",
           "#fca4a0",
           "#aadfc4",
           "#80fdaa",
           "#c6dbf3",
           "#eeeaa8",
           "#ea80fb",
           "#ebdab9",
           "#8f9df2",
           "#f6c6e5",
           "#85fab5",
           "#fca4a0",
           "#aadfc4",
           "#80fdaa",
           "#c6dbf3",
           "#eeeaa8",
           "#ea80fb",
           "#96ebb5",
           "#ebdab9",
           "#8f9df2",
           "#f6c6e5",
           "#85fab5",
           "#fca4a0",
           "#aadfc4",
           "#80fdaa",
           "#c6dbf3",
           "#eeeaa8",
           "#ea80fb",
           "#96ebb5",
           "#ebdab9",
           "#8f9df2",
           "#f6c6e5",
           "#85fab5",
           "#fca4a0",
           "#aadfc4",
           "#94b3ef",
           "#80fdaa",
           "#c6dbf3",
           "#eeeaa8",
           "#ea80fb",
           "#96ebb5",
           "#ebdab9",
           "#8f9df2",
           "#f6c6e5",
           "#85fab5",
           "#fca4a0",
           "#aadfc4",
           "#94b3ef",
           "#80fdaa",
           "#c6dbf3",
           "#eeeaa8",
           "#ea80fb",
           "#96ebb5",
           "#ebdab9",
           "#8f9df2",
           "#f6c6e5",
           "#85fab5",
           "#fca4a0",
           "#aadfc4",
           "#94b3ef",
           "#80fdaa",
           "#c6dbf3",
           "#eeeaa8",
           "#ea80fb",
           "#96ebb5",
           "#ebdab9",
           "#8f9df2",
           "#f6c6e5",
           "#85fab5",
           "#fca4a0",
           "#aadfc4",
           "#94b3ef",
           "#80fdaa",
           "#c6dbf3",
           "#eeeaa8",
           "#ea80fb",
           "#96ebb5",
           "#ebdab9",
           "#8f9df2",
           "#f6c6e5",
           "#85fab5",
           "#fca4a0",
           "#aadfc4",
           "#94b3ef",
           "#80fdaa",
           "#c6dbf3",
           "#eeeaa8",
           "#ea80fb",
           "#ebdab9",
           "#8f9df2",
           "#f6c6e5",
           "#85fab5",
           "#fca4a0",
           "#aadfc4",
           "#80fdaa",
           "#c6dbf3",
           "#eeeaa8",
           "#ea80fb",
           "#96ebb5",
           "#ebdab9",
           "#8f9df2",
           "#f6c6e5",
           "#85fab5",
           "#fca4a0",
           "#aadfc4",
           "#94b3ef",
           "#80fdaa",
           "#c6dbf3",
           "#eeeaa8",
           "#ea80fb",
           "#96ebb5",
           "#ebdab9",
           "#8f9df2",
           "#f6c6e5",
           "#85fab5",
           "#fca4a0",
           "#aadfc4",
           "#94b3ef",
           "#80fdaa",
           "#c6dbf3",
           "#eeeaa8",
           "#ea80fb",
           "#ebdab9",
           "#8f9df2",
           "#f6c6e5",
           "#85fab5",
           "#fca4a0",
           "#aadfc4",
           "#94b3ef",
           "#80fdaa",
           "#c6dbf3",
           "#eeeaa8",
           "#ea80fb",
           "#96ebb5",
           "#ebdab9",
           "#8f9df2",
           "#f6c6e5",
           "#85fab5",
           "#fca4a0",
           "#aadfc4",
           "#94b3ef",
           "#80fdaa",
           "#c6dbf3",
           "#eeeaa8",
           "#ea80fb",
           "#96ebb5",
           "#ebdab9",
           "#8f9df2",
           "#f6c6e5",
           "#85fab5",
           "#fca4a0",
           "#aadfc4",
           "#80fdaa",
           "#c6dbf3",
           "#eeeaa8",
           "#ea80fb",
           "#96ebb5",
           "#ebdab9",
           "#8f9df2",
           "#f6c6e5",
           "#85fab5",
           "#fca4a0",
           "#aadfc4",
           "#94b3ef",
           "#80fdaa",
           "#c6dbf3",
           "#eeeaa8",
           "#ea80fb",
           "#96ebb5",
           "#ebdab9",
           "#8f9df2",
           "#f6c6e5",
           "#85fab5",
           "#fca4a0",
           "#aadfc4",
           "#80fdaa",
           "#c6dbf3",
           "#eeeaa8",
           "#ea80fb",
           "#96ebb5",
           "#ebdab9",
           "#8f9df2",
           "#f6c6e5",
           "#85fab5",
           "#fca4a0",
           "#aadfc4",
           "#94b3ef",
           "#80fdaa",
           "#c6dbf3",
           "#eeeaa8",
           "#ea80fb",
           "#96ebb5",
           "#ebdab9",
           "#8f9df2",
           "#f6c6e5",
           "#85fab5",
           "#fca4a0",
           "#aadfc4",
           "#80fdaa",
           "#c6dbf3",
           "#eeeaa8",
           "#ea80fb",
           "#96ebb5",
           "#ebdab9",
           "#8f9df2",
           "#f6c6e5",
           "#85fab5",
           "#fca4a0",
           "#aadfc4",
           "#80fdaa",
           "#c6dbf3",
           "#eeeaa8",
           "#ea80fb",
           "#96ebb5",
           "#ebdab9",
           "#8f9df2",
           "#f6c6e5",
           "#85fab5",
           "#fca4a0",
           "#aadfc4",
           "#94b3ef",
           "#80fdaa",
           "#c6dbf3",
           "#eeeaa8",
           "#ea80fb",
           "#96ebb5",
           "#ebdab9",
           "#8f9df2",
           "#f6c6e5",
           "#85fab5",
           "#fca4a0",
           "#aadfc4",
           "#94b3ef",
           "#80fdaa",
           "#c6dbf3",
           "#eeeaa8",
           "#ea80fb",
           "#96ebb5",
           "#ebdab9",
           "#8f9df2",
           "#f6c6e5",
           "#85fab5",
           "#fca4a0",
           "#aadfc4",
           "#94b3ef",
           "#80fdaa",
           "#c6dbf3",
           "#eeeaa8",
           "#ea80fb",
           "#96ebb5",
           "#ebdab9",
           "#8f9df2",
           "#f6c6e5",
           "#85fab5",
           "#fca4a0",
           "#aadfc4",
           "#94b3ef",
           "#80fdaa",
           "#c6dbf3",
           "#eeeaa8",
           "#ea80fb"
          ]
         },
         "textfont": {
          "size": 20
         },
         "textinfo": "percent+label",
         "textposition": "inside",
         "type": "pie",
         "values": [
          4.413200902255663,
          21.804389226363238,
          0.18443884196231633,
          0.08963978585234378,
          1.801792141893413,
          2.2724329056870164e-8,
          3.8693203171769895e-7,
          5.677034084313475e-10,
          2.1740369068128853,
          10.661634274043173,
          7.41505832203291e-10,
          6.634857269024057e-9,
          7.420915454946555,
          13.707864205598,
          0.06490740959072534,
          0.18257739742442503,
          2.8420639381808956,
          2.3160172635048565e-8,
          8.366245050972756,
          5.36668265430928e-10,
          2.918887359076402,
          12.927497242243478,
          7.219933314196635e-10,
          6.235188169184793e-9,
          1.3026997786829144,
          0.03669706084109465,
          0.00825851380300432,
          9.149545313669046e-8,
          1.6495325931506167e-8,
          5.7888823671457334e-8,
          4.381032050188065e-10,
          1.5744649817072467,
          1.488974950874573,
          5.781976322347564e-10,
          1.289406053346971e-8,
          8.562413797355369,
          11.114645616024097,
          0.10968283988470544,
          7.303146466383886e-8,
          4.362076761019478,
          2.4911735722226242e-8,
          3.7133309749315058,
          2.7849154634441382e-8,
          44.49135927509801,
          8.249086819216624e-10,
          1.834896700571937e-8,
          7.239542478583915,
          12.742372551283516,
          0.18860206315670258,
          0.06847450615359285,
          1.0359272550218181,
          2.2991253725964098e-8,
          1.5432901767820528,
          6.09959176950123e-10,
          1.6056346109247217,
          20.683216448793647,
          7.182815327338358e-10,
          5.5540415270371226e-9,
          2.7556093530562165,
          150.87606624868675,
          0.9425805637032445,
          0.2245590038102546,
          5.784838561363362e-7,
          1.864537116598826e-8,
          1.7111935278455764e-7,
          5.334771973807966e-10,
          22.201038938035136,
          48.06293147073647,
          7.109853869698517e-10,
          6.437215932364158e-9,
          0.12380990535900249,
          3.985600937195026,
          0.0963933808415168,
          0.03206602622192001,
          0.04373505987134916,
          2.5139026757487535e-8,
          1.0583038966228002e-7,
          1.2935016095143022,
          2.2669116074210063,
          6.560759221516806e-10,
          4.909558166363052e-9,
          0.5661278588321913,
          2.024803224520091,
          0.04541360870259055,
          0.0038219283891744176,
          1.4879883509519059e-7,
          1.885259716334437e-8,
          5.5253105214473847e-8,
          0.007261447901794826,
          0.2373053432631741,
          6.875294229645062e-10,
          3.5247640288195406e-9,
          21.32884931926572,
          0.5312683160819236,
          0.40648217654391205,
          2.1749001271099155,
          1.8005221775716637e-8,
          9.692373908249543e-8,
          29.67408875742109,
          5.597829419878535,
          6.633116972040073e-10,
          1.664433914937531e-8,
          3.3301217542369876,
          19.199174687034244,
          0.17789080860801956,
          0.40112875634516226,
          4.469183897980763e-8,
          3.085969316616931e-8,
          0.000009880590746565977,
          1.0453284149587714,
          10.5903236676692,
          8.30480634835734e-10,
          3.072261449611716e-9,
          22.91271072238908,
          144.68529897246245,
          1.2327245700207439,
          1.784588626653525,
          33.56462916900281,
          2.403447050536589e-8,
          4.6618443607968347e-7,
          5.802070401945288e-10,
          35.51392797941044,
          8.407043178066555,
          7.906643035667128e-10,
          7.688116866913111e-9,
          0.7447463335342855,
          8.006624687305857,
          0.07303103946449907,
          0.06780866818379164,
          1.9770482077911183e-7,
          1.8986698084666667e-8,
          2.05381318064416e-7,
          5.341135200535799e-10,
          10.086672041630223,
          1.0125234869638304,
          7.128441006407392e-10,
          3.1600465651105046e-8,
          0.18785307921541278,
          3.5767522793999684,
          0.10930161082299246,
          0.01980111176911191,
          1.8902293221665592e-7,
          2.0197761431947204e-8,
          2.1265629804391497e-7,
          5.581015072802262e-10,
          2.997941709677742,
          5.3467719967058,
          7.493094492305858e-10,
          9.506508507499045e-9,
          2.3236537797226284,
          16.926373658218694,
          0.2399443370718824,
          0.04756790649772493,
          6.117519113692811,
          2.2622687924489623e-8,
          2.2765339278324867e-7,
          5.622925449206412e-10,
          1.5898096957377608,
          5.197792946870302,
          7.564903246961764e-10,
          3.767128846478334e-9,
          2.1699907140275867,
          13.491609010435457,
          0.009895675643947707,
          0.09549992070485785,
          0.8607325602569285,
          2.6305650187799154e-8,
          1.364352975431575,
          5.894108518722518e-10,
          2.059958734823375e-8,
          2.96517847767886,
          7.644754802514124e-10,
          4.993076857988208e-9,
          26.10856833419305,
          0.6238011912814373,
          0.34685300510809874,
          13.059758042483269,
          2.031742311200304e-8,
          19.03027810812528,
          38.070341884357184,
          26.14940361987644,
          6.874186262873866e-10,
          1.2745265412167936e-8,
          0.612644086490368,
          1.9289744860486493,
          0.05341774551343182,
          0.002839124451881908,
          1.3353849275650204e-7,
          1.720880473778352e-8,
          4.07670467855442e-8,
          5.345654598946667e-10,
          0.06576888406990762,
          0.1548205965295861,
          6.404189797922107e-10,
          3.3895044354474356e-9,
          0.5068893367867702,
          1.3846452398019027,
          0.0038302063530614135,
          0.020449690109435644,
          0.06486631653261027,
          2.1577973835774875e-8,
          1.117298063404418,
          5.753302213914835e-10,
          0.4344782859026311,
          1.6867224607444622,
          7.752791524937414e-10,
          8.524423447306228e-9,
          0.16905230465103857,
          0.008167513264559686,
          0.0005807620145770561,
          7.902468485969079e-9,
          2.199584666828045e-8,
          1.384210336128682e-7,
          1.4694014643928846e-10,
          0.0651143562339819,
          0.10371062595074079,
          1.9391899759281418e-10,
          3.801672451311991e-9,
          6.649858408316969,
          21.03128005429792,
          0.06903912134027711,
          0.10054726013857071,
          4.062530060426067,
          2.5484884950439936e-8,
          2.473382527533485,
          5.265604593935084e-10,
          4.399575014717367,
          12.488296464700381,
          6.976384575142484e-10,
          7.807172600831335e-9,
          4.780374488699084,
          11.773888072406587,
          0.08085593974265634,
          8.344900554178644e-8,
          1.9142152699827224,
          2.4375125007470396e-8,
          1.23591686513953e-7,
          3.6007893367715614e-8,
          33.32998154265542,
          8.058268689622264e-10,
          4.2521539879648415e-9,
          14.674956842273989,
          30.49980576273606,
          0.28719033325787346,
          0.1651828536859861,
          8.109120351817696,
          2.2966888581548357e-8,
          11.105234592452465,
          5.977119389902673e-10,
          3.4329072252525377,
          31.300158469814846,
          6.831267900505733e-10,
          4.88657956966602e-9,
          0.908717445224137,
          7.225747637679934,
          0.1107993753478305,
          0.12663267888170562,
          1.0043315112486801,
          1.9641910331706714e-8,
          1.2000432200626145e-7,
          4.582290626279359,
          1.0831700779619235,
          7.601550298092312e-10,
          1.7655143263522846e-8,
          3.240857862076962,
          27.488568076371436,
          0.41615818958176126,
          0.006896588355027062,
          0.33903536390964206,
          1.8026991090956704e-8,
          4.8457502129298246e-8,
          6.22132458178893e-10,
          4.81469493670678,
          4.665041665071619,
          7.414401161343211e-10,
          6.39239826169242e-9,
          8.83158437132824,
          21.618832494701845,
          0.11268026329773638,
          0.5081062848243245,
          0.8517668557156155,
          3.029393018464658e-8,
          0.000001201656201806007,
          3.4864532393565417,
          24.522622115636537,
          7.667238435113906e-10,
          3.0232002990160167e-9,
          1.1391149026952652,
          2.0236402000393965,
          0.053541786436590466,
          0.016206107460140166,
          0.48297253823812564,
          2.345646583945263e-8,
          0.000001150192491826036,
          1.965140573451728,
          1.7515275506298922,
          7.763941725662101e-10,
          7.422961740495423e-9,
          0.936958538642714,
          7.598361445377481,
          0.011370012755757974,
          0.020469915714616566,
          2.260443584155809,
          2.0914911396920076e-8,
          1.9770945206928223e-7,
          6.475529549749257e-10,
          0.5151820590042903,
          2.1499623422423393,
          7.367428406822402e-10,
          5.6288919157414255e-9,
          4.206325460851872,
          183.44282951413567,
          0.5498202244661,
          5.0304513333797824e-8,
          2.1010439835302037,
          2.481717666189378e-8,
          71.70603891518317,
          6.278948751448624e-10,
          1.679494754210506e-8,
          182.2038641669608,
          8.332126554543254e-10,
          4.7625382588108866e-8,
          44.99627228646092,
          181.49269159787903,
          0.9278534163650677,
          6.23057690669739e-8,
          18.038359101984515,
          3.5031933917938486e-8,
          20.52285801900963,
          6.152854797944517e-10,
          14.577497506383876,
          87.6445784689635,
          8.375821207166436e-10,
          3.4268530159510165e-9,
          10.947719039860063,
          21.044480140951883,
          0.360317647565608,
          6.078524944260152e-8,
          9.801162167335695,
          2.5704635209683936e-8,
          1.4693205278026364,
          5.860104296423973e-10,
          2.181826232905827e-8,
          24.895220004751945,
          7.811032964907579e-10,
          1.3802442046105779e-8
         ]
        }
       ],
       "layout": {
        "height": 800,
        "template": {
         "data": {
          "bar": [
           {
            "error_x": {
             "color": "#2a3f5f"
            },
            "error_y": {
             "color": "#2a3f5f"
            },
            "marker": {
             "line": {
              "color": "#E5ECF6",
              "width": 0.5
             },
             "pattern": {
              "fillmode": "overlay",
              "size": 10,
              "solidity": 0.2
             }
            },
            "type": "bar"
           }
          ],
          "barpolar": [
           {
            "marker": {
             "line": {
              "color": "#E5ECF6",
              "width": 0.5
             },
             "pattern": {
              "fillmode": "overlay",
              "size": 10,
              "solidity": 0.2
             }
            },
            "type": "barpolar"
           }
          ],
          "carpet": [
           {
            "aaxis": {
             "endlinecolor": "#2a3f5f",
             "gridcolor": "white",
             "linecolor": "white",
             "minorgridcolor": "white",
             "startlinecolor": "#2a3f5f"
            },
            "baxis": {
             "endlinecolor": "#2a3f5f",
             "gridcolor": "white",
             "linecolor": "white",
             "minorgridcolor": "white",
             "startlinecolor": "#2a3f5f"
            },
            "type": "carpet"
           }
          ],
          "choropleth": [
           {
            "colorbar": {
             "outlinewidth": 0,
             "ticks": ""
            },
            "type": "choropleth"
           }
          ],
          "contour": [
           {
            "colorbar": {
             "outlinewidth": 0,
             "ticks": ""
            },
            "colorscale": [
             [
              0,
              "#0d0887"
             ],
             [
              0.1111111111111111,
              "#46039f"
             ],
             [
              0.2222222222222222,
              "#7201a8"
             ],
             [
              0.3333333333333333,
              "#9c179e"
             ],
             [
              0.4444444444444444,
              "#bd3786"
             ],
             [
              0.5555555555555556,
              "#d8576b"
             ],
             [
              0.6666666666666666,
              "#ed7953"
             ],
             [
              0.7777777777777778,
              "#fb9f3a"
             ],
             [
              0.8888888888888888,
              "#fdca26"
             ],
             [
              1,
              "#f0f921"
             ]
            ],
            "type": "contour"
           }
          ],
          "contourcarpet": [
           {
            "colorbar": {
             "outlinewidth": 0,
             "ticks": ""
            },
            "type": "contourcarpet"
           }
          ],
          "heatmap": [
           {
            "colorbar": {
             "outlinewidth": 0,
             "ticks": ""
            },
            "colorscale": [
             [
              0,
              "#0d0887"
             ],
             [
              0.1111111111111111,
              "#46039f"
             ],
             [
              0.2222222222222222,
              "#7201a8"
             ],
             [
              0.3333333333333333,
              "#9c179e"
             ],
             [
              0.4444444444444444,
              "#bd3786"
             ],
             [
              0.5555555555555556,
              "#d8576b"
             ],
             [
              0.6666666666666666,
              "#ed7953"
             ],
             [
              0.7777777777777778,
              "#fb9f3a"
             ],
             [
              0.8888888888888888,
              "#fdca26"
             ],
             [
              1,
              "#f0f921"
             ]
            ],
            "type": "heatmap"
           }
          ],
          "heatmapgl": [
           {
            "colorbar": {
             "outlinewidth": 0,
             "ticks": ""
            },
            "colorscale": [
             [
              0,
              "#0d0887"
             ],
             [
              0.1111111111111111,
              "#46039f"
             ],
             [
              0.2222222222222222,
              "#7201a8"
             ],
             [
              0.3333333333333333,
              "#9c179e"
             ],
             [
              0.4444444444444444,
              "#bd3786"
             ],
             [
              0.5555555555555556,
              "#d8576b"
             ],
             [
              0.6666666666666666,
              "#ed7953"
             ],
             [
              0.7777777777777778,
              "#fb9f3a"
             ],
             [
              0.8888888888888888,
              "#fdca26"
             ],
             [
              1,
              "#f0f921"
             ]
            ],
            "type": "heatmapgl"
           }
          ],
          "histogram": [
           {
            "marker": {
             "pattern": {
              "fillmode": "overlay",
              "size": 10,
              "solidity": 0.2
             }
            },
            "type": "histogram"
           }
          ],
          "histogram2d": [
           {
            "colorbar": {
             "outlinewidth": 0,
             "ticks": ""
            },
            "colorscale": [
             [
              0,
              "#0d0887"
             ],
             [
              0.1111111111111111,
              "#46039f"
             ],
             [
              0.2222222222222222,
              "#7201a8"
             ],
             [
              0.3333333333333333,
              "#9c179e"
             ],
             [
              0.4444444444444444,
              "#bd3786"
             ],
             [
              0.5555555555555556,
              "#d8576b"
             ],
             [
              0.6666666666666666,
              "#ed7953"
             ],
             [
              0.7777777777777778,
              "#fb9f3a"
             ],
             [
              0.8888888888888888,
              "#fdca26"
             ],
             [
              1,
              "#f0f921"
             ]
            ],
            "type": "histogram2d"
           }
          ],
          "histogram2dcontour": [
           {
            "colorbar": {
             "outlinewidth": 0,
             "ticks": ""
            },
            "colorscale": [
             [
              0,
              "#0d0887"
             ],
             [
              0.1111111111111111,
              "#46039f"
             ],
             [
              0.2222222222222222,
              "#7201a8"
             ],
             [
              0.3333333333333333,
              "#9c179e"
             ],
             [
              0.4444444444444444,
              "#bd3786"
             ],
             [
              0.5555555555555556,
              "#d8576b"
             ],
             [
              0.6666666666666666,
              "#ed7953"
             ],
             [
              0.7777777777777778,
              "#fb9f3a"
             ],
             [
              0.8888888888888888,
              "#fdca26"
             ],
             [
              1,
              "#f0f921"
             ]
            ],
            "type": "histogram2dcontour"
           }
          ],
          "mesh3d": [
           {
            "colorbar": {
             "outlinewidth": 0,
             "ticks": ""
            },
            "type": "mesh3d"
           }
          ],
          "parcoords": [
           {
            "line": {
             "colorbar": {
              "outlinewidth": 0,
              "ticks": ""
             }
            },
            "type": "parcoords"
           }
          ],
          "pie": [
           {
            "automargin": true,
            "type": "pie"
           }
          ],
          "scatter": [
           {
            "fillpattern": {
             "fillmode": "overlay",
             "size": 10,
             "solidity": 0.2
            },
            "type": "scatter"
           }
          ],
          "scatter3d": [
           {
            "line": {
             "colorbar": {
              "outlinewidth": 0,
              "ticks": ""
             }
            },
            "marker": {
             "colorbar": {
              "outlinewidth": 0,
              "ticks": ""
             }
            },
            "type": "scatter3d"
           }
          ],
          "scattercarpet": [
           {
            "marker": {
             "colorbar": {
              "outlinewidth": 0,
              "ticks": ""
             }
            },
            "type": "scattercarpet"
           }
          ],
          "scattergeo": [
           {
            "marker": {
             "colorbar": {
              "outlinewidth": 0,
              "ticks": ""
             }
            },
            "type": "scattergeo"
           }
          ],
          "scattergl": [
           {
            "marker": {
             "colorbar": {
              "outlinewidth": 0,
              "ticks": ""
             }
            },
            "type": "scattergl"
           }
          ],
          "scattermapbox": [
           {
            "marker": {
             "colorbar": {
              "outlinewidth": 0,
              "ticks": ""
             }
            },
            "type": "scattermapbox"
           }
          ],
          "scatterpolar": [
           {
            "marker": {
             "colorbar": {
              "outlinewidth": 0,
              "ticks": ""
             }
            },
            "type": "scatterpolar"
           }
          ],
          "scatterpolargl": [
           {
            "marker": {
             "colorbar": {
              "outlinewidth": 0,
              "ticks": ""
             }
            },
            "type": "scatterpolargl"
           }
          ],
          "scatterternary": [
           {
            "marker": {
             "colorbar": {
              "outlinewidth": 0,
              "ticks": ""
             }
            },
            "type": "scatterternary"
           }
          ],
          "surface": [
           {
            "colorbar": {
             "outlinewidth": 0,
             "ticks": ""
            },
            "colorscale": [
             [
              0,
              "#0d0887"
             ],
             [
              0.1111111111111111,
              "#46039f"
             ],
             [
              0.2222222222222222,
              "#7201a8"
             ],
             [
              0.3333333333333333,
              "#9c179e"
             ],
             [
              0.4444444444444444,
              "#bd3786"
             ],
             [
              0.5555555555555556,
              "#d8576b"
             ],
             [
              0.6666666666666666,
              "#ed7953"
             ],
             [
              0.7777777777777778,
              "#fb9f3a"
             ],
             [
              0.8888888888888888,
              "#fdca26"
             ],
             [
              1,
              "#f0f921"
             ]
            ],
            "type": "surface"
           }
          ],
          "table": [
           {
            "cells": {
             "fill": {
              "color": "#EBF0F8"
             },
             "line": {
              "color": "white"
             }
            },
            "header": {
             "fill": {
              "color": "#C8D4E3"
             },
             "line": {
              "color": "white"
             }
            },
            "type": "table"
           }
          ]
         },
         "layout": {
          "annotationdefaults": {
           "arrowcolor": "#2a3f5f",
           "arrowhead": 0,
           "arrowwidth": 1
          },
          "autotypenumbers": "strict",
          "coloraxis": {
           "colorbar": {
            "outlinewidth": 0,
            "ticks": ""
           }
          },
          "colorscale": {
           "diverging": [
            [
             0,
             "#8e0152"
            ],
            [
             0.1,
             "#c51b7d"
            ],
            [
             0.2,
             "#de77ae"
            ],
            [
             0.3,
             "#f1b6da"
            ],
            [
             0.4,
             "#fde0ef"
            ],
            [
             0.5,
             "#f7f7f7"
            ],
            [
             0.6,
             "#e6f5d0"
            ],
            [
             0.7,
             "#b8e186"
            ],
            [
             0.8,
             "#7fbc41"
            ],
            [
             0.9,
             "#4d9221"
            ],
            [
             1,
             "#276419"
            ]
           ],
           "sequential": [
            [
             0,
             "#0d0887"
            ],
            [
             0.1111111111111111,
             "#46039f"
            ],
            [
             0.2222222222222222,
             "#7201a8"
            ],
            [
             0.3333333333333333,
             "#9c179e"
            ],
            [
             0.4444444444444444,
             "#bd3786"
            ],
            [
             0.5555555555555556,
             "#d8576b"
            ],
            [
             0.6666666666666666,
             "#ed7953"
            ],
            [
             0.7777777777777778,
             "#fb9f3a"
            ],
            [
             0.8888888888888888,
             "#fdca26"
            ],
            [
             1,
             "#f0f921"
            ]
           ],
           "sequentialminus": [
            [
             0,
             "#0d0887"
            ],
            [
             0.1111111111111111,
             "#46039f"
            ],
            [
             0.2222222222222222,
             "#7201a8"
            ],
            [
             0.3333333333333333,
             "#9c179e"
            ],
            [
             0.4444444444444444,
             "#bd3786"
            ],
            [
             0.5555555555555556,
             "#d8576b"
            ],
            [
             0.6666666666666666,
             "#ed7953"
            ],
            [
             0.7777777777777778,
             "#fb9f3a"
            ],
            [
             0.8888888888888888,
             "#fdca26"
            ],
            [
             1,
             "#f0f921"
            ]
           ]
          },
          "colorway": [
           "#636efa",
           "#EF553B",
           "#00cc96",
           "#ab63fa",
           "#FFA15A",
           "#19d3f3",
           "#FF6692",
           "#B6E880",
           "#FF97FF",
           "#FECB52"
          ],
          "font": {
           "color": "#2a3f5f"
          },
          "geo": {
           "bgcolor": "white",
           "lakecolor": "white",
           "landcolor": "#E5ECF6",
           "showlakes": true,
           "showland": true,
           "subunitcolor": "white"
          },
          "hoverlabel": {
           "align": "left"
          },
          "hovermode": "closest",
          "mapbox": {
           "style": "light"
          },
          "paper_bgcolor": "white",
          "plot_bgcolor": "#E5ECF6",
          "polar": {
           "angularaxis": {
            "gridcolor": "white",
            "linecolor": "white",
            "ticks": ""
           },
           "bgcolor": "#E5ECF6",
           "radialaxis": {
            "gridcolor": "white",
            "linecolor": "white",
            "ticks": ""
           }
          },
          "scene": {
           "xaxis": {
            "backgroundcolor": "#E5ECF6",
            "gridcolor": "white",
            "gridwidth": 2,
            "linecolor": "white",
            "showbackground": true,
            "ticks": "",
            "zerolinecolor": "white"
           },
           "yaxis": {
            "backgroundcolor": "#E5ECF6",
            "gridcolor": "white",
            "gridwidth": 2,
            "linecolor": "white",
            "showbackground": true,
            "ticks": "",
            "zerolinecolor": "white"
           },
           "zaxis": {
            "backgroundcolor": "#E5ECF6",
            "gridcolor": "white",
            "gridwidth": 2,
            "linecolor": "white",
            "showbackground": true,
            "ticks": "",
            "zerolinecolor": "white"
           }
          },
          "shapedefaults": {
           "line": {
            "color": "#2a3f5f"
           }
          },
          "ternary": {
           "aaxis": {
            "gridcolor": "white",
            "linecolor": "white",
            "ticks": ""
           },
           "baxis": {
            "gridcolor": "white",
            "linecolor": "white",
            "ticks": ""
           },
           "bgcolor": "#E5ECF6",
           "caxis": {
            "gridcolor": "white",
            "linecolor": "white",
            "ticks": ""
           }
          },
          "title": {
           "x": 0.05
          },
          "xaxis": {
           "automargin": true,
           "gridcolor": "white",
           "linecolor": "white",
           "ticks": "",
           "title": {
            "standoff": 15
           },
           "zerolinecolor": "white",
           "zerolinewidth": 2
          },
          "yaxis": {
           "automargin": true,
           "gridcolor": "white",
           "linecolor": "white",
           "ticks": "",
           "title": {
            "standoff": 15
           },
           "zerolinecolor": "white",
           "zerolinewidth": 2
          }
         }
        },
        "title": {
         "text": "Energy Production 2050"
        },
        "width": 900
       }
      }
     },
     "metadata": {},
     "output_type": "display_data"
    }
   ],
   "source": [
    "fig = power_pie_plot2(SEASON_DATA)\n",
    "fig.show()\n",
    "\n",
    "if WRITE_FIGS:\n",
    "    fig.write_image(WRITE_DIR / \"power_pie_plot2.png\")\n",
    "\n",
    "fig = power_pie_plot2(EXPENSIVE_HLDH)\n",
    "fig.show()\n",
    "\n",
    "if WRITE_FIGS:\n",
    "    fig.write_image(WRITE_DIR / \"power_pie_plot2_expensive.png\")"
   ]
  },
  {
   "cell_type": "code",
   "execution_count": 10,
   "metadata": {},
   "outputs": [],
   "source": [
    "# Load Par_SpecifiedAnnualDemand.csv\n",
    "\n",
    "def heat_demand_pie_plot(demand_data: pd.DataFrame) -> go.Figure:\n",
    "\n",
    "    # Only 2050\n",
    "    demand_data = demand_data[demand_data[\"Year\"] == 2050]\n",
    "\n",
    "    # Only heat\n",
    "    \"\"\"demand_data = demand_data[demand_data[\"Fuel\"].str.contains(\"Heat\")]\n",
    "\n",
    "    # Delete Heat from the name\n",
    "    demand_data[\"Fuel\"] = demand_data[\"Fuel\"].apply(lambda x: x.replace(\"Heat_\", \"\").strip())\n",
    "\n",
    "    # Group all industrial\n",
    "    demand_data[\"Fuel\"] = demand_data[\"Fuel\"].apply(lambda x: \"Industrial\" if \"Industrial\" in x else x)\n",
    "\n",
    "    # Make Low_Building into Building\n",
    "    demand_data[\"Fuel\"] = demand_data[\"Fuel\"].apply(lambda x: \"Building\" if \"Low_Building\" in x else x)\"\"\"\n",
    "\n",
    "    # Group all heats\n",
    "    demand_data[\"Fuel\"] = demand_data[\"Fuel\"].apply(lambda x: \"Heat\" if (\"Heat\" in x) or (\"Cool\" in x) else x)\n",
    "\n",
    "    # Group others\n",
    "    demand_data[\"Fuel\"] = demand_data[\"Fuel\"].apply(lambda x: \"Others\" if \"Heat\" not in x else x)\n",
    "\n",
    "    # Group by fuel and sum\n",
    "    demand_data = demand_data.groupby(\"Fuel\", as_index=False).sum(numeric_only=True)\n",
    "\n",
    "    # Make a pie plot\n",
    "    fig = go.Figure(data=[go.Pie(labels=demand_data[\"Fuel\"], values=demand_data[\"Value\"], \n",
    "                                    textposition='inside', textinfo='percent+label',\n",
    "                                    textfont=dict(size=24),\n",
    "                                    marker=dict(colors=[my_color_generator(fuel) for fuel in demand_data[\"Fuel\"]]))])\n",
    "\n",
    "    fig.update_layout(\n",
    "        title=\"Demand 2050\",\n",
    "        width=900,\n",
    "        height=800\n",
    "    )\n",
    "\n",
    "    return fig\n",
    "\n",
    "\n"
   ]
  },
  {
   "cell_type": "code",
   "execution_count": 11,
   "metadata": {},
   "outputs": [
    {
     "name": "stdout",
     "output_type": "stream",
     "text": [
      "Total demand in 2050 11426.405759576515\n",
      "Total heat demand in 2050 4760.261143743362\n",
      "Hei\n"
     ]
    },
    {
     "name": "stderr",
     "output_type": "stream",
     "text": [
      "C:\\Users\\mortensv\\AppData\\Local\\Temp\\ipykernel_15420\\1243851363.py:21: SettingWithCopyWarning:\n",
      "\n",
      "\n",
      "A value is trying to be set on a copy of a slice from a DataFrame.\n",
      "Try using .loc[row_indexer,col_indexer] = value instead\n",
      "\n",
      "See the caveats in the documentation: https://pandas.pydata.org/pandas-docs/stable/user_guide/indexing.html#returning-a-view-versus-a-copy\n",
      "\n",
      "C:\\Users\\mortensv\\AppData\\Local\\Temp\\ipykernel_15420\\1243851363.py:24: SettingWithCopyWarning:\n",
      "\n",
      "\n",
      "A value is trying to be set on a copy of a slice from a DataFrame.\n",
      "Try using .loc[row_indexer,col_indexer] = value instead\n",
      "\n",
      "See the caveats in the documentation: https://pandas.pydata.org/pandas-docs/stable/user_guide/indexing.html#returning-a-view-versus-a-copy\n",
      "\n"
     ]
    },
    {
     "data": {
      "application/vnd.plotly.v1+json": {
       "config": {
        "plotlyServerURL": "https://plot.ly"
       },
       "data": [
        {
         "labels": [
          "Heat",
          "Others"
         ],
         "marker": {
          "colors": [
           "#a8e39d",
           "#9899e9"
          ]
         },
         "textfont": {
          "size": 24
         },
         "textinfo": "percent+label",
         "textposition": "inside",
         "type": "pie",
         "values": [
          17276.428801371454,
          23858.631933104
         ]
        }
       ],
       "layout": {
        "height": 800,
        "template": {
         "data": {
          "bar": [
           {
            "error_x": {
             "color": "#2a3f5f"
            },
            "error_y": {
             "color": "#2a3f5f"
            },
            "marker": {
             "line": {
              "color": "#E5ECF6",
              "width": 0.5
             },
             "pattern": {
              "fillmode": "overlay",
              "size": 10,
              "solidity": 0.2
             }
            },
            "type": "bar"
           }
          ],
          "barpolar": [
           {
            "marker": {
             "line": {
              "color": "#E5ECF6",
              "width": 0.5
             },
             "pattern": {
              "fillmode": "overlay",
              "size": 10,
              "solidity": 0.2
             }
            },
            "type": "barpolar"
           }
          ],
          "carpet": [
           {
            "aaxis": {
             "endlinecolor": "#2a3f5f",
             "gridcolor": "white",
             "linecolor": "white",
             "minorgridcolor": "white",
             "startlinecolor": "#2a3f5f"
            },
            "baxis": {
             "endlinecolor": "#2a3f5f",
             "gridcolor": "white",
             "linecolor": "white",
             "minorgridcolor": "white",
             "startlinecolor": "#2a3f5f"
            },
            "type": "carpet"
           }
          ],
          "choropleth": [
           {
            "colorbar": {
             "outlinewidth": 0,
             "ticks": ""
            },
            "type": "choropleth"
           }
          ],
          "contour": [
           {
            "colorbar": {
             "outlinewidth": 0,
             "ticks": ""
            },
            "colorscale": [
             [
              0,
              "#0d0887"
             ],
             [
              0.1111111111111111,
              "#46039f"
             ],
             [
              0.2222222222222222,
              "#7201a8"
             ],
             [
              0.3333333333333333,
              "#9c179e"
             ],
             [
              0.4444444444444444,
              "#bd3786"
             ],
             [
              0.5555555555555556,
              "#d8576b"
             ],
             [
              0.6666666666666666,
              "#ed7953"
             ],
             [
              0.7777777777777778,
              "#fb9f3a"
             ],
             [
              0.8888888888888888,
              "#fdca26"
             ],
             [
              1,
              "#f0f921"
             ]
            ],
            "type": "contour"
           }
          ],
          "contourcarpet": [
           {
            "colorbar": {
             "outlinewidth": 0,
             "ticks": ""
            },
            "type": "contourcarpet"
           }
          ],
          "heatmap": [
           {
            "colorbar": {
             "outlinewidth": 0,
             "ticks": ""
            },
            "colorscale": [
             [
              0,
              "#0d0887"
             ],
             [
              0.1111111111111111,
              "#46039f"
             ],
             [
              0.2222222222222222,
              "#7201a8"
             ],
             [
              0.3333333333333333,
              "#9c179e"
             ],
             [
              0.4444444444444444,
              "#bd3786"
             ],
             [
              0.5555555555555556,
              "#d8576b"
             ],
             [
              0.6666666666666666,
              "#ed7953"
             ],
             [
              0.7777777777777778,
              "#fb9f3a"
             ],
             [
              0.8888888888888888,
              "#fdca26"
             ],
             [
              1,
              "#f0f921"
             ]
            ],
            "type": "heatmap"
           }
          ],
          "heatmapgl": [
           {
            "colorbar": {
             "outlinewidth": 0,
             "ticks": ""
            },
            "colorscale": [
             [
              0,
              "#0d0887"
             ],
             [
              0.1111111111111111,
              "#46039f"
             ],
             [
              0.2222222222222222,
              "#7201a8"
             ],
             [
              0.3333333333333333,
              "#9c179e"
             ],
             [
              0.4444444444444444,
              "#bd3786"
             ],
             [
              0.5555555555555556,
              "#d8576b"
             ],
             [
              0.6666666666666666,
              "#ed7953"
             ],
             [
              0.7777777777777778,
              "#fb9f3a"
             ],
             [
              0.8888888888888888,
              "#fdca26"
             ],
             [
              1,
              "#f0f921"
             ]
            ],
            "type": "heatmapgl"
           }
          ],
          "histogram": [
           {
            "marker": {
             "pattern": {
              "fillmode": "overlay",
              "size": 10,
              "solidity": 0.2
             }
            },
            "type": "histogram"
           }
          ],
          "histogram2d": [
           {
            "colorbar": {
             "outlinewidth": 0,
             "ticks": ""
            },
            "colorscale": [
             [
              0,
              "#0d0887"
             ],
             [
              0.1111111111111111,
              "#46039f"
             ],
             [
              0.2222222222222222,
              "#7201a8"
             ],
             [
              0.3333333333333333,
              "#9c179e"
             ],
             [
              0.4444444444444444,
              "#bd3786"
             ],
             [
              0.5555555555555556,
              "#d8576b"
             ],
             [
              0.6666666666666666,
              "#ed7953"
             ],
             [
              0.7777777777777778,
              "#fb9f3a"
             ],
             [
              0.8888888888888888,
              "#fdca26"
             ],
             [
              1,
              "#f0f921"
             ]
            ],
            "type": "histogram2d"
           }
          ],
          "histogram2dcontour": [
           {
            "colorbar": {
             "outlinewidth": 0,
             "ticks": ""
            },
            "colorscale": [
             [
              0,
              "#0d0887"
             ],
             [
              0.1111111111111111,
              "#46039f"
             ],
             [
              0.2222222222222222,
              "#7201a8"
             ],
             [
              0.3333333333333333,
              "#9c179e"
             ],
             [
              0.4444444444444444,
              "#bd3786"
             ],
             [
              0.5555555555555556,
              "#d8576b"
             ],
             [
              0.6666666666666666,
              "#ed7953"
             ],
             [
              0.7777777777777778,
              "#fb9f3a"
             ],
             [
              0.8888888888888888,
              "#fdca26"
             ],
             [
              1,
              "#f0f921"
             ]
            ],
            "type": "histogram2dcontour"
           }
          ],
          "mesh3d": [
           {
            "colorbar": {
             "outlinewidth": 0,
             "ticks": ""
            },
            "type": "mesh3d"
           }
          ],
          "parcoords": [
           {
            "line": {
             "colorbar": {
              "outlinewidth": 0,
              "ticks": ""
             }
            },
            "type": "parcoords"
           }
          ],
          "pie": [
           {
            "automargin": true,
            "type": "pie"
           }
          ],
          "scatter": [
           {
            "fillpattern": {
             "fillmode": "overlay",
             "size": 10,
             "solidity": 0.2
            },
            "type": "scatter"
           }
          ],
          "scatter3d": [
           {
            "line": {
             "colorbar": {
              "outlinewidth": 0,
              "ticks": ""
             }
            },
            "marker": {
             "colorbar": {
              "outlinewidth": 0,
              "ticks": ""
             }
            },
            "type": "scatter3d"
           }
          ],
          "scattercarpet": [
           {
            "marker": {
             "colorbar": {
              "outlinewidth": 0,
              "ticks": ""
             }
            },
            "type": "scattercarpet"
           }
          ],
          "scattergeo": [
           {
            "marker": {
             "colorbar": {
              "outlinewidth": 0,
              "ticks": ""
             }
            },
            "type": "scattergeo"
           }
          ],
          "scattergl": [
           {
            "marker": {
             "colorbar": {
              "outlinewidth": 0,
              "ticks": ""
             }
            },
            "type": "scattergl"
           }
          ],
          "scattermapbox": [
           {
            "marker": {
             "colorbar": {
              "outlinewidth": 0,
              "ticks": ""
             }
            },
            "type": "scattermapbox"
           }
          ],
          "scatterpolar": [
           {
            "marker": {
             "colorbar": {
              "outlinewidth": 0,
              "ticks": ""
             }
            },
            "type": "scatterpolar"
           }
          ],
          "scatterpolargl": [
           {
            "marker": {
             "colorbar": {
              "outlinewidth": 0,
              "ticks": ""
             }
            },
            "type": "scatterpolargl"
           }
          ],
          "scatterternary": [
           {
            "marker": {
             "colorbar": {
              "outlinewidth": 0,
              "ticks": ""
             }
            },
            "type": "scatterternary"
           }
          ],
          "surface": [
           {
            "colorbar": {
             "outlinewidth": 0,
             "ticks": ""
            },
            "colorscale": [
             [
              0,
              "#0d0887"
             ],
             [
              0.1111111111111111,
              "#46039f"
             ],
             [
              0.2222222222222222,
              "#7201a8"
             ],
             [
              0.3333333333333333,
              "#9c179e"
             ],
             [
              0.4444444444444444,
              "#bd3786"
             ],
             [
              0.5555555555555556,
              "#d8576b"
             ],
             [
              0.6666666666666666,
              "#ed7953"
             ],
             [
              0.7777777777777778,
              "#fb9f3a"
             ],
             [
              0.8888888888888888,
              "#fdca26"
             ],
             [
              1,
              "#f0f921"
             ]
            ],
            "type": "surface"
           }
          ],
          "table": [
           {
            "cells": {
             "fill": {
              "color": "#EBF0F8"
             },
             "line": {
              "color": "white"
             }
            },
            "header": {
             "fill": {
              "color": "#C8D4E3"
             },
             "line": {
              "color": "white"
             }
            },
            "type": "table"
           }
          ]
         },
         "layout": {
          "annotationdefaults": {
           "arrowcolor": "#2a3f5f",
           "arrowhead": 0,
           "arrowwidth": 1
          },
          "autotypenumbers": "strict",
          "coloraxis": {
           "colorbar": {
            "outlinewidth": 0,
            "ticks": ""
           }
          },
          "colorscale": {
           "diverging": [
            [
             0,
             "#8e0152"
            ],
            [
             0.1,
             "#c51b7d"
            ],
            [
             0.2,
             "#de77ae"
            ],
            [
             0.3,
             "#f1b6da"
            ],
            [
             0.4,
             "#fde0ef"
            ],
            [
             0.5,
             "#f7f7f7"
            ],
            [
             0.6,
             "#e6f5d0"
            ],
            [
             0.7,
             "#b8e186"
            ],
            [
             0.8,
             "#7fbc41"
            ],
            [
             0.9,
             "#4d9221"
            ],
            [
             1,
             "#276419"
            ]
           ],
           "sequential": [
            [
             0,
             "#0d0887"
            ],
            [
             0.1111111111111111,
             "#46039f"
            ],
            [
             0.2222222222222222,
             "#7201a8"
            ],
            [
             0.3333333333333333,
             "#9c179e"
            ],
            [
             0.4444444444444444,
             "#bd3786"
            ],
            [
             0.5555555555555556,
             "#d8576b"
            ],
            [
             0.6666666666666666,
             "#ed7953"
            ],
            [
             0.7777777777777778,
             "#fb9f3a"
            ],
            [
             0.8888888888888888,
             "#fdca26"
            ],
            [
             1,
             "#f0f921"
            ]
           ],
           "sequentialminus": [
            [
             0,
             "#0d0887"
            ],
            [
             0.1111111111111111,
             "#46039f"
            ],
            [
             0.2222222222222222,
             "#7201a8"
            ],
            [
             0.3333333333333333,
             "#9c179e"
            ],
            [
             0.4444444444444444,
             "#bd3786"
            ],
            [
             0.5555555555555556,
             "#d8576b"
            ],
            [
             0.6666666666666666,
             "#ed7953"
            ],
            [
             0.7777777777777778,
             "#fb9f3a"
            ],
            [
             0.8888888888888888,
             "#fdca26"
            ],
            [
             1,
             "#f0f921"
            ]
           ]
          },
          "colorway": [
           "#636efa",
           "#EF553B",
           "#00cc96",
           "#ab63fa",
           "#FFA15A",
           "#19d3f3",
           "#FF6692",
           "#B6E880",
           "#FF97FF",
           "#FECB52"
          ],
          "font": {
           "color": "#2a3f5f"
          },
          "geo": {
           "bgcolor": "white",
           "lakecolor": "white",
           "landcolor": "#E5ECF6",
           "showlakes": true,
           "showland": true,
           "subunitcolor": "white"
          },
          "hoverlabel": {
           "align": "left"
          },
          "hovermode": "closest",
          "mapbox": {
           "style": "light"
          },
          "paper_bgcolor": "white",
          "plot_bgcolor": "#E5ECF6",
          "polar": {
           "angularaxis": {
            "gridcolor": "white",
            "linecolor": "white",
            "ticks": ""
           },
           "bgcolor": "#E5ECF6",
           "radialaxis": {
            "gridcolor": "white",
            "linecolor": "white",
            "ticks": ""
           }
          },
          "scene": {
           "xaxis": {
            "backgroundcolor": "#E5ECF6",
            "gridcolor": "white",
            "gridwidth": 2,
            "linecolor": "white",
            "showbackground": true,
            "ticks": "",
            "zerolinecolor": "white"
           },
           "yaxis": {
            "backgroundcolor": "#E5ECF6",
            "gridcolor": "white",
            "gridwidth": 2,
            "linecolor": "white",
            "showbackground": true,
            "ticks": "",
            "zerolinecolor": "white"
           },
           "zaxis": {
            "backgroundcolor": "#E5ECF6",
            "gridcolor": "white",
            "gridwidth": 2,
            "linecolor": "white",
            "showbackground": true,
            "ticks": "",
            "zerolinecolor": "white"
           }
          },
          "shapedefaults": {
           "line": {
            "color": "#2a3f5f"
           }
          },
          "ternary": {
           "aaxis": {
            "gridcolor": "white",
            "linecolor": "white",
            "ticks": ""
           },
           "baxis": {
            "gridcolor": "white",
            "linecolor": "white",
            "ticks": ""
           },
           "bgcolor": "#E5ECF6",
           "caxis": {
            "gridcolor": "white",
            "linecolor": "white",
            "ticks": ""
           }
          },
          "title": {
           "x": 0.05
          },
          "xaxis": {
           "automargin": true,
           "gridcolor": "white",
           "linecolor": "white",
           "ticks": "",
           "title": {
            "standoff": 15
           },
           "zerolinecolor": "white",
           "zerolinewidth": 2
          },
          "yaxis": {
           "automargin": true,
           "gridcolor": "white",
           "linecolor": "white",
           "ticks": "",
           "title": {
            "standoff": 15
           },
           "zerolinecolor": "white",
           "zerolinewidth": 2
          }
         }
        },
        "title": {
         "text": "Demand 2050"
        },
        "width": 900
       }
      }
     },
     "metadata": {},
     "output_type": "display_data"
    },
    {
     "name": "stderr",
     "output_type": "stream",
     "text": [
      "C:\\Users\\mortensv\\AppData\\Local\\Temp\\ipykernel_15420\\1243851363.py:21: SettingWithCopyWarning:\n",
      "\n",
      "\n",
      "A value is trying to be set on a copy of a slice from a DataFrame.\n",
      "Try using .loc[row_indexer,col_indexer] = value instead\n",
      "\n",
      "See the caveats in the documentation: https://pandas.pydata.org/pandas-docs/stable/user_guide/indexing.html#returning-a-view-versus-a-copy\n",
      "\n",
      "C:\\Users\\mortensv\\AppData\\Local\\Temp\\ipykernel_15420\\1243851363.py:24: SettingWithCopyWarning:\n",
      "\n",
      "\n",
      "A value is trying to be set on a copy of a slice from a DataFrame.\n",
      "Try using .loc[row_indexer,col_indexer] = value instead\n",
      "\n",
      "See the caveats in the documentation: https://pandas.pydata.org/pandas-docs/stable/user_guide/indexing.html#returning-a-view-versus-a-copy\n",
      "\n"
     ]
    },
    {
     "data": {
      "application/vnd.plotly.v1+json": {
       "config": {
        "plotlyServerURL": "https://plot.ly"
       },
       "data": [
        {
         "labels": [
          "Heat",
          "Others"
         ],
         "marker": {
          "colors": [
           "#a8e39d",
           "#9899e9"
          ]
         },
         "textfont": {
          "size": 24
         },
         "textinfo": "percent+label",
         "textposition": "inside",
         "type": "pie",
         "values": [
          17276.42880137145,
          23858.631933104
         ]
        }
       ],
       "layout": {
        "height": 800,
        "template": {
         "data": {
          "bar": [
           {
            "error_x": {
             "color": "#2a3f5f"
            },
            "error_y": {
             "color": "#2a3f5f"
            },
            "marker": {
             "line": {
              "color": "#E5ECF6",
              "width": 0.5
             },
             "pattern": {
              "fillmode": "overlay",
              "size": 10,
              "solidity": 0.2
             }
            },
            "type": "bar"
           }
          ],
          "barpolar": [
           {
            "marker": {
             "line": {
              "color": "#E5ECF6",
              "width": 0.5
             },
             "pattern": {
              "fillmode": "overlay",
              "size": 10,
              "solidity": 0.2
             }
            },
            "type": "barpolar"
           }
          ],
          "carpet": [
           {
            "aaxis": {
             "endlinecolor": "#2a3f5f",
             "gridcolor": "white",
             "linecolor": "white",
             "minorgridcolor": "white",
             "startlinecolor": "#2a3f5f"
            },
            "baxis": {
             "endlinecolor": "#2a3f5f",
             "gridcolor": "white",
             "linecolor": "white",
             "minorgridcolor": "white",
             "startlinecolor": "#2a3f5f"
            },
            "type": "carpet"
           }
          ],
          "choropleth": [
           {
            "colorbar": {
             "outlinewidth": 0,
             "ticks": ""
            },
            "type": "choropleth"
           }
          ],
          "contour": [
           {
            "colorbar": {
             "outlinewidth": 0,
             "ticks": ""
            },
            "colorscale": [
             [
              0,
              "#0d0887"
             ],
             [
              0.1111111111111111,
              "#46039f"
             ],
             [
              0.2222222222222222,
              "#7201a8"
             ],
             [
              0.3333333333333333,
              "#9c179e"
             ],
             [
              0.4444444444444444,
              "#bd3786"
             ],
             [
              0.5555555555555556,
              "#d8576b"
             ],
             [
              0.6666666666666666,
              "#ed7953"
             ],
             [
              0.7777777777777778,
              "#fb9f3a"
             ],
             [
              0.8888888888888888,
              "#fdca26"
             ],
             [
              1,
              "#f0f921"
             ]
            ],
            "type": "contour"
           }
          ],
          "contourcarpet": [
           {
            "colorbar": {
             "outlinewidth": 0,
             "ticks": ""
            },
            "type": "contourcarpet"
           }
          ],
          "heatmap": [
           {
            "colorbar": {
             "outlinewidth": 0,
             "ticks": ""
            },
            "colorscale": [
             [
              0,
              "#0d0887"
             ],
             [
              0.1111111111111111,
              "#46039f"
             ],
             [
              0.2222222222222222,
              "#7201a8"
             ],
             [
              0.3333333333333333,
              "#9c179e"
             ],
             [
              0.4444444444444444,
              "#bd3786"
             ],
             [
              0.5555555555555556,
              "#d8576b"
             ],
             [
              0.6666666666666666,
              "#ed7953"
             ],
             [
              0.7777777777777778,
              "#fb9f3a"
             ],
             [
              0.8888888888888888,
              "#fdca26"
             ],
             [
              1,
              "#f0f921"
             ]
            ],
            "type": "heatmap"
           }
          ],
          "heatmapgl": [
           {
            "colorbar": {
             "outlinewidth": 0,
             "ticks": ""
            },
            "colorscale": [
             [
              0,
              "#0d0887"
             ],
             [
              0.1111111111111111,
              "#46039f"
             ],
             [
              0.2222222222222222,
              "#7201a8"
             ],
             [
              0.3333333333333333,
              "#9c179e"
             ],
             [
              0.4444444444444444,
              "#bd3786"
             ],
             [
              0.5555555555555556,
              "#d8576b"
             ],
             [
              0.6666666666666666,
              "#ed7953"
             ],
             [
              0.7777777777777778,
              "#fb9f3a"
             ],
             [
              0.8888888888888888,
              "#fdca26"
             ],
             [
              1,
              "#f0f921"
             ]
            ],
            "type": "heatmapgl"
           }
          ],
          "histogram": [
           {
            "marker": {
             "pattern": {
              "fillmode": "overlay",
              "size": 10,
              "solidity": 0.2
             }
            },
            "type": "histogram"
           }
          ],
          "histogram2d": [
           {
            "colorbar": {
             "outlinewidth": 0,
             "ticks": ""
            },
            "colorscale": [
             [
              0,
              "#0d0887"
             ],
             [
              0.1111111111111111,
              "#46039f"
             ],
             [
              0.2222222222222222,
              "#7201a8"
             ],
             [
              0.3333333333333333,
              "#9c179e"
             ],
             [
              0.4444444444444444,
              "#bd3786"
             ],
             [
              0.5555555555555556,
              "#d8576b"
             ],
             [
              0.6666666666666666,
              "#ed7953"
             ],
             [
              0.7777777777777778,
              "#fb9f3a"
             ],
             [
              0.8888888888888888,
              "#fdca26"
             ],
             [
              1,
              "#f0f921"
             ]
            ],
            "type": "histogram2d"
           }
          ],
          "histogram2dcontour": [
           {
            "colorbar": {
             "outlinewidth": 0,
             "ticks": ""
            },
            "colorscale": [
             [
              0,
              "#0d0887"
             ],
             [
              0.1111111111111111,
              "#46039f"
             ],
             [
              0.2222222222222222,
              "#7201a8"
             ],
             [
              0.3333333333333333,
              "#9c179e"
             ],
             [
              0.4444444444444444,
              "#bd3786"
             ],
             [
              0.5555555555555556,
              "#d8576b"
             ],
             [
              0.6666666666666666,
              "#ed7953"
             ],
             [
              0.7777777777777778,
              "#fb9f3a"
             ],
             [
              0.8888888888888888,
              "#fdca26"
             ],
             [
              1,
              "#f0f921"
             ]
            ],
            "type": "histogram2dcontour"
           }
          ],
          "mesh3d": [
           {
            "colorbar": {
             "outlinewidth": 0,
             "ticks": ""
            },
            "type": "mesh3d"
           }
          ],
          "parcoords": [
           {
            "line": {
             "colorbar": {
              "outlinewidth": 0,
              "ticks": ""
             }
            },
            "type": "parcoords"
           }
          ],
          "pie": [
           {
            "automargin": true,
            "type": "pie"
           }
          ],
          "scatter": [
           {
            "fillpattern": {
             "fillmode": "overlay",
             "size": 10,
             "solidity": 0.2
            },
            "type": "scatter"
           }
          ],
          "scatter3d": [
           {
            "line": {
             "colorbar": {
              "outlinewidth": 0,
              "ticks": ""
             }
            },
            "marker": {
             "colorbar": {
              "outlinewidth": 0,
              "ticks": ""
             }
            },
            "type": "scatter3d"
           }
          ],
          "scattercarpet": [
           {
            "marker": {
             "colorbar": {
              "outlinewidth": 0,
              "ticks": ""
             }
            },
            "type": "scattercarpet"
           }
          ],
          "scattergeo": [
           {
            "marker": {
             "colorbar": {
              "outlinewidth": 0,
              "ticks": ""
             }
            },
            "type": "scattergeo"
           }
          ],
          "scattergl": [
           {
            "marker": {
             "colorbar": {
              "outlinewidth": 0,
              "ticks": ""
             }
            },
            "type": "scattergl"
           }
          ],
          "scattermapbox": [
           {
            "marker": {
             "colorbar": {
              "outlinewidth": 0,
              "ticks": ""
             }
            },
            "type": "scattermapbox"
           }
          ],
          "scatterpolar": [
           {
            "marker": {
             "colorbar": {
              "outlinewidth": 0,
              "ticks": ""
             }
            },
            "type": "scatterpolar"
           }
          ],
          "scatterpolargl": [
           {
            "marker": {
             "colorbar": {
              "outlinewidth": 0,
              "ticks": ""
             }
            },
            "type": "scatterpolargl"
           }
          ],
          "scatterternary": [
           {
            "marker": {
             "colorbar": {
              "outlinewidth": 0,
              "ticks": ""
             }
            },
            "type": "scatterternary"
           }
          ],
          "surface": [
           {
            "colorbar": {
             "outlinewidth": 0,
             "ticks": ""
            },
            "colorscale": [
             [
              0,
              "#0d0887"
             ],
             [
              0.1111111111111111,
              "#46039f"
             ],
             [
              0.2222222222222222,
              "#7201a8"
             ],
             [
              0.3333333333333333,
              "#9c179e"
             ],
             [
              0.4444444444444444,
              "#bd3786"
             ],
             [
              0.5555555555555556,
              "#d8576b"
             ],
             [
              0.6666666666666666,
              "#ed7953"
             ],
             [
              0.7777777777777778,
              "#fb9f3a"
             ],
             [
              0.8888888888888888,
              "#fdca26"
             ],
             [
              1,
              "#f0f921"
             ]
            ],
            "type": "surface"
           }
          ],
          "table": [
           {
            "cells": {
             "fill": {
              "color": "#EBF0F8"
             },
             "line": {
              "color": "white"
             }
            },
            "header": {
             "fill": {
              "color": "#C8D4E3"
             },
             "line": {
              "color": "white"
             }
            },
            "type": "table"
           }
          ]
         },
         "layout": {
          "annotationdefaults": {
           "arrowcolor": "#2a3f5f",
           "arrowhead": 0,
           "arrowwidth": 1
          },
          "autotypenumbers": "strict",
          "coloraxis": {
           "colorbar": {
            "outlinewidth": 0,
            "ticks": ""
           }
          },
          "colorscale": {
           "diverging": [
            [
             0,
             "#8e0152"
            ],
            [
             0.1,
             "#c51b7d"
            ],
            [
             0.2,
             "#de77ae"
            ],
            [
             0.3,
             "#f1b6da"
            ],
            [
             0.4,
             "#fde0ef"
            ],
            [
             0.5,
             "#f7f7f7"
            ],
            [
             0.6,
             "#e6f5d0"
            ],
            [
             0.7,
             "#b8e186"
            ],
            [
             0.8,
             "#7fbc41"
            ],
            [
             0.9,
             "#4d9221"
            ],
            [
             1,
             "#276419"
            ]
           ],
           "sequential": [
            [
             0,
             "#0d0887"
            ],
            [
             0.1111111111111111,
             "#46039f"
            ],
            [
             0.2222222222222222,
             "#7201a8"
            ],
            [
             0.3333333333333333,
             "#9c179e"
            ],
            [
             0.4444444444444444,
             "#bd3786"
            ],
            [
             0.5555555555555556,
             "#d8576b"
            ],
            [
             0.6666666666666666,
             "#ed7953"
            ],
            [
             0.7777777777777778,
             "#fb9f3a"
            ],
            [
             0.8888888888888888,
             "#fdca26"
            ],
            [
             1,
             "#f0f921"
            ]
           ],
           "sequentialminus": [
            [
             0,
             "#0d0887"
            ],
            [
             0.1111111111111111,
             "#46039f"
            ],
            [
             0.2222222222222222,
             "#7201a8"
            ],
            [
             0.3333333333333333,
             "#9c179e"
            ],
            [
             0.4444444444444444,
             "#bd3786"
            ],
            [
             0.5555555555555556,
             "#d8576b"
            ],
            [
             0.6666666666666666,
             "#ed7953"
            ],
            [
             0.7777777777777778,
             "#fb9f3a"
            ],
            [
             0.8888888888888888,
             "#fdca26"
            ],
            [
             1,
             "#f0f921"
            ]
           ]
          },
          "colorway": [
           "#636efa",
           "#EF553B",
           "#00cc96",
           "#ab63fa",
           "#FFA15A",
           "#19d3f3",
           "#FF6692",
           "#B6E880",
           "#FF97FF",
           "#FECB52"
          ],
          "font": {
           "color": "#2a3f5f"
          },
          "geo": {
           "bgcolor": "white",
           "lakecolor": "white",
           "landcolor": "#E5ECF6",
           "showlakes": true,
           "showland": true,
           "subunitcolor": "white"
          },
          "hoverlabel": {
           "align": "left"
          },
          "hovermode": "closest",
          "mapbox": {
           "style": "light"
          },
          "paper_bgcolor": "white",
          "plot_bgcolor": "#E5ECF6",
          "polar": {
           "angularaxis": {
            "gridcolor": "white",
            "linecolor": "white",
            "ticks": ""
           },
           "bgcolor": "#E5ECF6",
           "radialaxis": {
            "gridcolor": "white",
            "linecolor": "white",
            "ticks": ""
           }
          },
          "scene": {
           "xaxis": {
            "backgroundcolor": "#E5ECF6",
            "gridcolor": "white",
            "gridwidth": 2,
            "linecolor": "white",
            "showbackground": true,
            "ticks": "",
            "zerolinecolor": "white"
           },
           "yaxis": {
            "backgroundcolor": "#E5ECF6",
            "gridcolor": "white",
            "gridwidth": 2,
            "linecolor": "white",
            "showbackground": true,
            "ticks": "",
            "zerolinecolor": "white"
           },
           "zaxis": {
            "backgroundcolor": "#E5ECF6",
            "gridcolor": "white",
            "gridwidth": 2,
            "linecolor": "white",
            "showbackground": true,
            "ticks": "",
            "zerolinecolor": "white"
           }
          },
          "shapedefaults": {
           "line": {
            "color": "#2a3f5f"
           }
          },
          "ternary": {
           "aaxis": {
            "gridcolor": "white",
            "linecolor": "white",
            "ticks": ""
           },
           "baxis": {
            "gridcolor": "white",
            "linecolor": "white",
            "ticks": ""
           },
           "bgcolor": "#E5ECF6",
           "caxis": {
            "gridcolor": "white",
            "linecolor": "white",
            "ticks": ""
           }
          },
          "title": {
           "x": 0.05
          },
          "xaxis": {
           "automargin": true,
           "gridcolor": "white",
           "linecolor": "white",
           "ticks": "",
           "title": {
            "standoff": 15
           },
           "zerolinecolor": "white",
           "zerolinewidth": 2
          },
          "yaxis": {
           "automargin": true,
           "gridcolor": "white",
           "linecolor": "white",
           "ticks": "",
           "title": {
            "standoff": 15
           },
           "zerolinecolor": "white",
           "zerolinewidth": 2
          }
         }
        },
        "title": {
         "text": "Demand 2050"
        },
        "width": 900
       }
      }
     },
     "metadata": {},
     "output_type": "display_data"
    }
   ],
   "source": [
    "#demand_data = pd.read_csv(SOLUTION_DIR / \"Par_SpecifiedAnnualDemand.csv\")\n",
    "demand_data = pd.read_excel(SOLUTION_DIR / \"Parameter_seasonal.xlsx\", sheet_name=\"Par_SpecifiedAnnualDemand\")\n",
    "\n",
    "# Total demand in 2050\n",
    "total_demand = demand_data[demand_data[\"Year\"] == 2050][\"Value\"].sum() / 3.6\n",
    "print(\"Total demand in 2050\", total_demand)\n",
    "\n",
    "# Get total heat demand in 2050. That means that the fuel contains the string Heat\n",
    "total_heat_demand = demand_data[demand_data[\"Fuel\"].str.contains(\"Heat\") & (demand_data[\"Year\"] == 2050)][\"Value\"].sum() / 3.6\n",
    "print(\"Total heat demand in 2050\", total_heat_demand)\n",
    "\n",
    "# Get demand for District heat\n",
    "\n",
    "fig = heat_demand_pie_plot(demand_data)\n",
    "\n",
    "if WRITE_FIGS:\n",
    "    print(\"Hei\")\n",
    "    fig.write_image(WRITE_DIR / \"heat_demand_2050_pie_plot.png\")\n",
    "\n",
    "fig.show()\n",
    "\n",
    "# Read demand data from sheet in excel\n",
    "\n",
    "demand_data = pd.read_excel(SOLUTION_DIR / \"Parameter_seasonal_District35.xlsx\", sheet_name=\"Par_SpecifiedAnnualDemand\")\n",
    "\n",
    "heat_demand_pie_plot(demand_data).show()\n"
   ]
  },
  {
   "cell_type": "markdown",
   "metadata": {},
   "source": [
    "# Rate of Activity"
   ]
  },
  {
   "cell_type": "code",
   "execution_count": 12,
   "metadata": {},
   "outputs": [
    {
     "name": "stdout",
     "output_type": "stream",
     "text": [
      "Converting from PetaJoules to TerraWattHours\n"
     ]
    },
    {
     "data": {
      "application/vnd.plotly.v1+json": {
       "config": {
        "plotlyServerURL": "https://plot.ly"
       },
       "data": [
        {
         "marker": {
          "color": "#c0fb83"
         },
         "name": "no storage",
         "showlegend": true,
         "type": "bar",
         "x": [
          [
           "6",
           "6",
           "6",
           "6",
           "972",
           "972",
           "972",
           "972",
           "1938",
           "1938",
           "1938",
           "1938",
           "2904",
           "2904",
           "2904",
           "2904",
           "3870",
           "3870",
           "3870",
           "3870",
           "4836",
           "4836",
           "4836",
           "4836",
           "5802",
           "5802",
           "5802",
           "5802",
           "6768",
           "6768",
           "6768",
           "6768",
           "7734",
           "7734",
           "7734",
           "7734",
           "8700",
           "8700",
           "8700",
           "8700"
          ],
          [
           "no storage",
           "no storage",
           "no storage",
           "no storage",
           "no storage",
           "no storage",
           "no storage",
           "no storage",
           "no storage",
           "no storage",
           "no storage",
           "no storage",
           "no storage",
           "no storage",
           "no storage",
           "no storage",
           "no storage",
           "no storage",
           "no storage",
           "no storage",
           "no storage",
           "no storage",
           "no storage",
           "no storage",
           "no storage",
           "no storage",
           "no storage",
           "no storage",
           "no storage",
           "no storage",
           "no storage",
           "no storage",
           "no storage",
           "no storage",
           "no storage",
           "no storage",
           "no storage",
           "no storage",
           "no storage",
           "no storage"
          ]
         ],
         "y": [
          85.09885345233937,
          0,
          0,
          0,
          85.09885371737762,
          0,
          0,
          0,
          85.0595814179726,
          0,
          0,
          0,
          74.74037787885307,
          0,
          0,
          0,
          81.3908997552353,
          0,
          0,
          0,
          80.93841740108616,
          0,
          0,
          0,
          84.72656710790417,
          0,
          0,
          0,
          83.19378094860102,
          0,
          0,
          0,
          85.09644383423444,
          0,
          0,
          0,
          85.05917413921117,
          0,
          0,
          0
         ]
        },
        {
         "marker": {
          "color": "#b88fe7"
         },
         "name": "using storage",
         "showlegend": true,
         "type": "bar",
         "x": [
          [
           "6",
           "6",
           "6",
           "6",
           "972",
           "972",
           "972",
           "972",
           "1938",
           "1938",
           "1938",
           "1938",
           "2904",
           "2904",
           "2904",
           "2904",
           "3870",
           "3870",
           "3870",
           "3870",
           "4836",
           "4836",
           "4836",
           "4836",
           "5802",
           "5802",
           "5802",
           "5802",
           "6768",
           "6768",
           "6768",
           "6768",
           "7734",
           "7734",
           "7734",
           "7734",
           "8700",
           "8700",
           "8700",
           "8700"
          ],
          [
           "using storage",
           "using storage",
           "using storage",
           "using storage",
           "using storage",
           "using storage",
           "using storage",
           "using storage",
           "using storage",
           "using storage",
           "using storage",
           "using storage",
           "using storage",
           "using storage",
           "using storage",
           "using storage",
           "using storage",
           "using storage",
           "using storage",
           "using storage",
           "using storage",
           "using storage",
           "using storage",
           "using storage",
           "using storage",
           "using storage",
           "using storage",
           "using storage",
           "using storage",
           "using storage",
           "using storage",
           "using storage",
           "using storage",
           "using storage",
           "using storage",
           "using storage",
           "using storage",
           "using storage",
           "using storage",
           "using storage"
          ]
         ],
         "y": [
          182.83281547625418,
          0,
          0,
          0,
          182.83280605699116,
          0,
          0,
          0,
          182.20646823558633,
          0,
          0,
          0,
          182.6757270831884,
          0,
          0,
          0,
          182.83279716174852,
          0,
          0,
          0,
          182.48578838287804,
          0,
          0,
          0,
          182.75472912194402,
          0,
          0,
          0,
          181.16026093828577,
          0,
          0,
          0,
          182.83080899615516,
          0,
          0,
          0,
          182.81913658461224,
          0,
          0,
          0
         ]
        }
       ],
       "layout": {
        "barmode": "stack",
        "height": 800,
        "template": {
         "data": {
          "bar": [
           {
            "error_x": {
             "color": "#2a3f5f"
            },
            "error_y": {
             "color": "#2a3f5f"
            },
            "marker": {
             "line": {
              "color": "#E5ECF6",
              "width": 0.5
             },
             "pattern": {
              "fillmode": "overlay",
              "size": 10,
              "solidity": 0.2
             }
            },
            "type": "bar"
           }
          ],
          "barpolar": [
           {
            "marker": {
             "line": {
              "color": "#E5ECF6",
              "width": 0.5
             },
             "pattern": {
              "fillmode": "overlay",
              "size": 10,
              "solidity": 0.2
             }
            },
            "type": "barpolar"
           }
          ],
          "carpet": [
           {
            "aaxis": {
             "endlinecolor": "#2a3f5f",
             "gridcolor": "white",
             "linecolor": "white",
             "minorgridcolor": "white",
             "startlinecolor": "#2a3f5f"
            },
            "baxis": {
             "endlinecolor": "#2a3f5f",
             "gridcolor": "white",
             "linecolor": "white",
             "minorgridcolor": "white",
             "startlinecolor": "#2a3f5f"
            },
            "type": "carpet"
           }
          ],
          "choropleth": [
           {
            "colorbar": {
             "outlinewidth": 0,
             "ticks": ""
            },
            "type": "choropleth"
           }
          ],
          "contour": [
           {
            "colorbar": {
             "outlinewidth": 0,
             "ticks": ""
            },
            "colorscale": [
             [
              0,
              "#0d0887"
             ],
             [
              0.1111111111111111,
              "#46039f"
             ],
             [
              0.2222222222222222,
              "#7201a8"
             ],
             [
              0.3333333333333333,
              "#9c179e"
             ],
             [
              0.4444444444444444,
              "#bd3786"
             ],
             [
              0.5555555555555556,
              "#d8576b"
             ],
             [
              0.6666666666666666,
              "#ed7953"
             ],
             [
              0.7777777777777778,
              "#fb9f3a"
             ],
             [
              0.8888888888888888,
              "#fdca26"
             ],
             [
              1,
              "#f0f921"
             ]
            ],
            "type": "contour"
           }
          ],
          "contourcarpet": [
           {
            "colorbar": {
             "outlinewidth": 0,
             "ticks": ""
            },
            "type": "contourcarpet"
           }
          ],
          "heatmap": [
           {
            "colorbar": {
             "outlinewidth": 0,
             "ticks": ""
            },
            "colorscale": [
             [
              0,
              "#0d0887"
             ],
             [
              0.1111111111111111,
              "#46039f"
             ],
             [
              0.2222222222222222,
              "#7201a8"
             ],
             [
              0.3333333333333333,
              "#9c179e"
             ],
             [
              0.4444444444444444,
              "#bd3786"
             ],
             [
              0.5555555555555556,
              "#d8576b"
             ],
             [
              0.6666666666666666,
              "#ed7953"
             ],
             [
              0.7777777777777778,
              "#fb9f3a"
             ],
             [
              0.8888888888888888,
              "#fdca26"
             ],
             [
              1,
              "#f0f921"
             ]
            ],
            "type": "heatmap"
           }
          ],
          "heatmapgl": [
           {
            "colorbar": {
             "outlinewidth": 0,
             "ticks": ""
            },
            "colorscale": [
             [
              0,
              "#0d0887"
             ],
             [
              0.1111111111111111,
              "#46039f"
             ],
             [
              0.2222222222222222,
              "#7201a8"
             ],
             [
              0.3333333333333333,
              "#9c179e"
             ],
             [
              0.4444444444444444,
              "#bd3786"
             ],
             [
              0.5555555555555556,
              "#d8576b"
             ],
             [
              0.6666666666666666,
              "#ed7953"
             ],
             [
              0.7777777777777778,
              "#fb9f3a"
             ],
             [
              0.8888888888888888,
              "#fdca26"
             ],
             [
              1,
              "#f0f921"
             ]
            ],
            "type": "heatmapgl"
           }
          ],
          "histogram": [
           {
            "marker": {
             "pattern": {
              "fillmode": "overlay",
              "size": 10,
              "solidity": 0.2
             }
            },
            "type": "histogram"
           }
          ],
          "histogram2d": [
           {
            "colorbar": {
             "outlinewidth": 0,
             "ticks": ""
            },
            "colorscale": [
             [
              0,
              "#0d0887"
             ],
             [
              0.1111111111111111,
              "#46039f"
             ],
             [
              0.2222222222222222,
              "#7201a8"
             ],
             [
              0.3333333333333333,
              "#9c179e"
             ],
             [
              0.4444444444444444,
              "#bd3786"
             ],
             [
              0.5555555555555556,
              "#d8576b"
             ],
             [
              0.6666666666666666,
              "#ed7953"
             ],
             [
              0.7777777777777778,
              "#fb9f3a"
             ],
             [
              0.8888888888888888,
              "#fdca26"
             ],
             [
              1,
              "#f0f921"
             ]
            ],
            "type": "histogram2d"
           }
          ],
          "histogram2dcontour": [
           {
            "colorbar": {
             "outlinewidth": 0,
             "ticks": ""
            },
            "colorscale": [
             [
              0,
              "#0d0887"
             ],
             [
              0.1111111111111111,
              "#46039f"
             ],
             [
              0.2222222222222222,
              "#7201a8"
             ],
             [
              0.3333333333333333,
              "#9c179e"
             ],
             [
              0.4444444444444444,
              "#bd3786"
             ],
             [
              0.5555555555555556,
              "#d8576b"
             ],
             [
              0.6666666666666666,
              "#ed7953"
             ],
             [
              0.7777777777777778,
              "#fb9f3a"
             ],
             [
              0.8888888888888888,
              "#fdca26"
             ],
             [
              1,
              "#f0f921"
             ]
            ],
            "type": "histogram2dcontour"
           }
          ],
          "mesh3d": [
           {
            "colorbar": {
             "outlinewidth": 0,
             "ticks": ""
            },
            "type": "mesh3d"
           }
          ],
          "parcoords": [
           {
            "line": {
             "colorbar": {
              "outlinewidth": 0,
              "ticks": ""
             }
            },
            "type": "parcoords"
           }
          ],
          "pie": [
           {
            "automargin": true,
            "type": "pie"
           }
          ],
          "scatter": [
           {
            "fillpattern": {
             "fillmode": "overlay",
             "size": 10,
             "solidity": 0.2
            },
            "type": "scatter"
           }
          ],
          "scatter3d": [
           {
            "line": {
             "colorbar": {
              "outlinewidth": 0,
              "ticks": ""
             }
            },
            "marker": {
             "colorbar": {
              "outlinewidth": 0,
              "ticks": ""
             }
            },
            "type": "scatter3d"
           }
          ],
          "scattercarpet": [
           {
            "marker": {
             "colorbar": {
              "outlinewidth": 0,
              "ticks": ""
             }
            },
            "type": "scattercarpet"
           }
          ],
          "scattergeo": [
           {
            "marker": {
             "colorbar": {
              "outlinewidth": 0,
              "ticks": ""
             }
            },
            "type": "scattergeo"
           }
          ],
          "scattergl": [
           {
            "marker": {
             "colorbar": {
              "outlinewidth": 0,
              "ticks": ""
             }
            },
            "type": "scattergl"
           }
          ],
          "scattermapbox": [
           {
            "marker": {
             "colorbar": {
              "outlinewidth": 0,
              "ticks": ""
             }
            },
            "type": "scattermapbox"
           }
          ],
          "scatterpolar": [
           {
            "marker": {
             "colorbar": {
              "outlinewidth": 0,
              "ticks": ""
             }
            },
            "type": "scatterpolar"
           }
          ],
          "scatterpolargl": [
           {
            "marker": {
             "colorbar": {
              "outlinewidth": 0,
              "ticks": ""
             }
            },
            "type": "scatterpolargl"
           }
          ],
          "scatterternary": [
           {
            "marker": {
             "colorbar": {
              "outlinewidth": 0,
              "ticks": ""
             }
            },
            "type": "scatterternary"
           }
          ],
          "surface": [
           {
            "colorbar": {
             "outlinewidth": 0,
             "ticks": ""
            },
            "colorscale": [
             [
              0,
              "#0d0887"
             ],
             [
              0.1111111111111111,
              "#46039f"
             ],
             [
              0.2222222222222222,
              "#7201a8"
             ],
             [
              0.3333333333333333,
              "#9c179e"
             ],
             [
              0.4444444444444444,
              "#bd3786"
             ],
             [
              0.5555555555555556,
              "#d8576b"
             ],
             [
              0.6666666666666666,
              "#ed7953"
             ],
             [
              0.7777777777777778,
              "#fb9f3a"
             ],
             [
              0.8888888888888888,
              "#fdca26"
             ],
             [
              1,
              "#f0f921"
             ]
            ],
            "type": "surface"
           }
          ],
          "table": [
           {
            "cells": {
             "fill": {
              "color": "#EBF0F8"
             },
             "line": {
              "color": "white"
             }
            },
            "header": {
             "fill": {
              "color": "#C8D4E3"
             },
             "line": {
              "color": "white"
             }
            },
            "type": "table"
           }
          ]
         },
         "layout": {
          "annotationdefaults": {
           "arrowcolor": "#2a3f5f",
           "arrowhead": 0,
           "arrowwidth": 1
          },
          "autotypenumbers": "strict",
          "coloraxis": {
           "colorbar": {
            "outlinewidth": 0,
            "ticks": ""
           }
          },
          "colorscale": {
           "diverging": [
            [
             0,
             "#8e0152"
            ],
            [
             0.1,
             "#c51b7d"
            ],
            [
             0.2,
             "#de77ae"
            ],
            [
             0.3,
             "#f1b6da"
            ],
            [
             0.4,
             "#fde0ef"
            ],
            [
             0.5,
             "#f7f7f7"
            ],
            [
             0.6,
             "#e6f5d0"
            ],
            [
             0.7,
             "#b8e186"
            ],
            [
             0.8,
             "#7fbc41"
            ],
            [
             0.9,
             "#4d9221"
            ],
            [
             1,
             "#276419"
            ]
           ],
           "sequential": [
            [
             0,
             "#0d0887"
            ],
            [
             0.1111111111111111,
             "#46039f"
            ],
            [
             0.2222222222222222,
             "#7201a8"
            ],
            [
             0.3333333333333333,
             "#9c179e"
            ],
            [
             0.4444444444444444,
             "#bd3786"
            ],
            [
             0.5555555555555556,
             "#d8576b"
            ],
            [
             0.6666666666666666,
             "#ed7953"
            ],
            [
             0.7777777777777778,
             "#fb9f3a"
            ],
            [
             0.8888888888888888,
             "#fdca26"
            ],
            [
             1,
             "#f0f921"
            ]
           ],
           "sequentialminus": [
            [
             0,
             "#0d0887"
            ],
            [
             0.1111111111111111,
             "#46039f"
            ],
            [
             0.2222222222222222,
             "#7201a8"
            ],
            [
             0.3333333333333333,
             "#9c179e"
            ],
            [
             0.4444444444444444,
             "#bd3786"
            ],
            [
             0.5555555555555556,
             "#d8576b"
            ],
            [
             0.6666666666666666,
             "#ed7953"
            ],
            [
             0.7777777777777778,
             "#fb9f3a"
            ],
            [
             0.8888888888888888,
             "#fdca26"
            ],
            [
             1,
             "#f0f921"
            ]
           ]
          },
          "colorway": [
           "#636efa",
           "#EF553B",
           "#00cc96",
           "#ab63fa",
           "#FFA15A",
           "#19d3f3",
           "#FF6692",
           "#B6E880",
           "#FF97FF",
           "#FECB52"
          ],
          "font": {
           "color": "#2a3f5f"
          },
          "geo": {
           "bgcolor": "white",
           "lakecolor": "white",
           "landcolor": "#E5ECF6",
           "showlakes": true,
           "showland": true,
           "subunitcolor": "white"
          },
          "hoverlabel": {
           "align": "left"
          },
          "hovermode": "closest",
          "mapbox": {
           "style": "light"
          },
          "paper_bgcolor": "white",
          "plot_bgcolor": "#E5ECF6",
          "polar": {
           "angularaxis": {
            "gridcolor": "white",
            "linecolor": "white",
            "ticks": ""
           },
           "bgcolor": "#E5ECF6",
           "radialaxis": {
            "gridcolor": "white",
            "linecolor": "white",
            "ticks": ""
           }
          },
          "scene": {
           "xaxis": {
            "backgroundcolor": "#E5ECF6",
            "gridcolor": "white",
            "gridwidth": 2,
            "linecolor": "white",
            "showbackground": true,
            "ticks": "",
            "zerolinecolor": "white"
           },
           "yaxis": {
            "backgroundcolor": "#E5ECF6",
            "gridcolor": "white",
            "gridwidth": 2,
            "linecolor": "white",
            "showbackground": true,
            "ticks": "",
            "zerolinecolor": "white"
           },
           "zaxis": {
            "backgroundcolor": "#E5ECF6",
            "gridcolor": "white",
            "gridwidth": 2,
            "linecolor": "white",
            "showbackground": true,
            "ticks": "",
            "zerolinecolor": "white"
           }
          },
          "shapedefaults": {
           "line": {
            "color": "#2a3f5f"
           }
          },
          "ternary": {
           "aaxis": {
            "gridcolor": "white",
            "linecolor": "white",
            "ticks": ""
           },
           "baxis": {
            "gridcolor": "white",
            "linecolor": "white",
            "ticks": ""
           },
           "bgcolor": "#E5ECF6",
           "caxis": {
            "gridcolor": "white",
            "linecolor": "white",
            "ticks": ""
           }
          },
          "title": {
           "x": 0.05
          },
          "xaxis": {
           "automargin": true,
           "gridcolor": "white",
           "linecolor": "white",
           "ticks": "",
           "title": {
            "standoff": 15
           },
           "zerolinecolor": "white",
           "zerolinewidth": 2
          },
          "yaxis": {
           "automargin": true,
           "gridcolor": "white",
           "linecolor": "white",
           "ticks": "",
           "title": {
            "standoff": 15
           },
           "zerolinecolor": "white",
           "zerolinewidth": 2
          }
         }
        },
        "title": {
         "text": "Geothermal Activity 2050"
        },
        "width": 900,
        "xaxis": {
         "title": {
          "text": "Source"
         }
        },
        "yaxis": {
         "title": {
          "text": "TWh"
         }
        }
       }
      }
     },
     "metadata": {},
     "output_type": "display_data"
    }
   ],
   "source": [
    "bar = BarFacilitator(sol_paths={\"no storage\": EXPENSIVE_HLDH, \"using storage\": SEASON_DATA}, type_of_data_to_read=\"RateOfActivity\", \n",
    "                        x_grouping_columns=[\"TS\", \"Source\"], legend_grouping_columns=[\"Source\"])\n",
    "\n",
    "data = bar.get_relevant_data()\n",
    "\n",
    "data.filter_by_identifier(column=\"Technology\", identifier=\"HLDH_Geothermal\")\n",
    "data.filter_by_identifier(column=\"Year\", identifier=2050)\n",
    "data.aggreagate_all_by_sum(column_to_aggregate=\"Region\", aggregated_entry_name=\"ALL\", column_to_sum=\"Value\")\n",
    "\n",
    "data.df[\"Value\"] *= data.year_split\n",
    "\n",
    "fig = bar.plot(bar.generate_traces(data))\n",
    "\n",
    "fig.update_layout(\n",
    "    title=\"Geothermal Activity 2050\",\n",
    "    yaxis_title=\"TWh\",\n",
    "    xaxis_title=\"Source\",\n",
    "    width=900,\n",
    "    height=800\n",
    ")\n",
    "\n",
    "fig.write_image(PROJECT_ROOT_DIR / \"special_plots\" / \"geothermal_activity.png\")\n",
    "fig.show()\n",
    "\n",
    "#bar.plot(bar.generate_traces()).show()"
   ]
  },
  {
   "cell_type": "code",
   "execution_count": 13,
   "metadata": {},
   "outputs": [
    {
     "name": "stdout",
     "output_type": "stream",
     "text": [
      "Converting from PetaJoules to TerraWattHours\n"
     ]
    },
    {
     "data": {
      "application/vnd.plotly.v1+json": {
       "config": {
        "plotlyServerURL": "https://plot.ly"
       },
       "data": [
        {
         "marker": {
          "color": "#c0fb83"
         },
         "name": "no storage",
         "showlegend": true,
         "type": "bar",
         "x": [
          [
           "2018",
           "2025",
           "2030",
           "2035",
           "2040",
           "2045",
           "2050"
          ],
          [
           "no storage",
           "no storage",
           "no storage",
           "no storage",
           "no storage",
           "no storage",
           "no storage"
          ]
         ],
         "y": [
          2371.3297369218444,
          2394.4917328041497,
          2524.934146636896,
          2880.1221854776786,
          2974.893994413633,
          3088.3420919019077,
          3160.8498671804864
         ]
        },
        {
         "marker": {
          "color": "#b88fe7"
         },
         "name": "using storage",
         "showlegend": true,
         "type": "bar",
         "x": [
          [
           "2018",
           "2025",
           "2030",
           "2035",
           "2040",
           "2045",
           "2050"
          ],
          [
           "using storage",
           "using storage",
           "using storage",
           "using storage",
           "using storage",
           "using storage",
           "using storage"
          ]
         ],
         "y": [
          2359.346638416767,
          2429.5227423621805,
          3008.2277306682877,
          3729.324120536735,
          3795.2037512167544,
          3916.8553712123385,
          4005.706019396008
         ]
        }
       ],
       "layout": {
        "barmode": "stack",
        "template": {
         "data": {
          "bar": [
           {
            "error_x": {
             "color": "#2a3f5f"
            },
            "error_y": {
             "color": "#2a3f5f"
            },
            "marker": {
             "line": {
              "color": "#E5ECF6",
              "width": 0.5
             },
             "pattern": {
              "fillmode": "overlay",
              "size": 10,
              "solidity": 0.2
             }
            },
            "type": "bar"
           }
          ],
          "barpolar": [
           {
            "marker": {
             "line": {
              "color": "#E5ECF6",
              "width": 0.5
             },
             "pattern": {
              "fillmode": "overlay",
              "size": 10,
              "solidity": 0.2
             }
            },
            "type": "barpolar"
           }
          ],
          "carpet": [
           {
            "aaxis": {
             "endlinecolor": "#2a3f5f",
             "gridcolor": "white",
             "linecolor": "white",
             "minorgridcolor": "white",
             "startlinecolor": "#2a3f5f"
            },
            "baxis": {
             "endlinecolor": "#2a3f5f",
             "gridcolor": "white",
             "linecolor": "white",
             "minorgridcolor": "white",
             "startlinecolor": "#2a3f5f"
            },
            "type": "carpet"
           }
          ],
          "choropleth": [
           {
            "colorbar": {
             "outlinewidth": 0,
             "ticks": ""
            },
            "type": "choropleth"
           }
          ],
          "contour": [
           {
            "colorbar": {
             "outlinewidth": 0,
             "ticks": ""
            },
            "colorscale": [
             [
              0,
              "#0d0887"
             ],
             [
              0.1111111111111111,
              "#46039f"
             ],
             [
              0.2222222222222222,
              "#7201a8"
             ],
             [
              0.3333333333333333,
              "#9c179e"
             ],
             [
              0.4444444444444444,
              "#bd3786"
             ],
             [
              0.5555555555555556,
              "#d8576b"
             ],
             [
              0.6666666666666666,
              "#ed7953"
             ],
             [
              0.7777777777777778,
              "#fb9f3a"
             ],
             [
              0.8888888888888888,
              "#fdca26"
             ],
             [
              1,
              "#f0f921"
             ]
            ],
            "type": "contour"
           }
          ],
          "contourcarpet": [
           {
            "colorbar": {
             "outlinewidth": 0,
             "ticks": ""
            },
            "type": "contourcarpet"
           }
          ],
          "heatmap": [
           {
            "colorbar": {
             "outlinewidth": 0,
             "ticks": ""
            },
            "colorscale": [
             [
              0,
              "#0d0887"
             ],
             [
              0.1111111111111111,
              "#46039f"
             ],
             [
              0.2222222222222222,
              "#7201a8"
             ],
             [
              0.3333333333333333,
              "#9c179e"
             ],
             [
              0.4444444444444444,
              "#bd3786"
             ],
             [
              0.5555555555555556,
              "#d8576b"
             ],
             [
              0.6666666666666666,
              "#ed7953"
             ],
             [
              0.7777777777777778,
              "#fb9f3a"
             ],
             [
              0.8888888888888888,
              "#fdca26"
             ],
             [
              1,
              "#f0f921"
             ]
            ],
            "type": "heatmap"
           }
          ],
          "heatmapgl": [
           {
            "colorbar": {
             "outlinewidth": 0,
             "ticks": ""
            },
            "colorscale": [
             [
              0,
              "#0d0887"
             ],
             [
              0.1111111111111111,
              "#46039f"
             ],
             [
              0.2222222222222222,
              "#7201a8"
             ],
             [
              0.3333333333333333,
              "#9c179e"
             ],
             [
              0.4444444444444444,
              "#bd3786"
             ],
             [
              0.5555555555555556,
              "#d8576b"
             ],
             [
              0.6666666666666666,
              "#ed7953"
             ],
             [
              0.7777777777777778,
              "#fb9f3a"
             ],
             [
              0.8888888888888888,
              "#fdca26"
             ],
             [
              1,
              "#f0f921"
             ]
            ],
            "type": "heatmapgl"
           }
          ],
          "histogram": [
           {
            "marker": {
             "pattern": {
              "fillmode": "overlay",
              "size": 10,
              "solidity": 0.2
             }
            },
            "type": "histogram"
           }
          ],
          "histogram2d": [
           {
            "colorbar": {
             "outlinewidth": 0,
             "ticks": ""
            },
            "colorscale": [
             [
              0,
              "#0d0887"
             ],
             [
              0.1111111111111111,
              "#46039f"
             ],
             [
              0.2222222222222222,
              "#7201a8"
             ],
             [
              0.3333333333333333,
              "#9c179e"
             ],
             [
              0.4444444444444444,
              "#bd3786"
             ],
             [
              0.5555555555555556,
              "#d8576b"
             ],
             [
              0.6666666666666666,
              "#ed7953"
             ],
             [
              0.7777777777777778,
              "#fb9f3a"
             ],
             [
              0.8888888888888888,
              "#fdca26"
             ],
             [
              1,
              "#f0f921"
             ]
            ],
            "type": "histogram2d"
           }
          ],
          "histogram2dcontour": [
           {
            "colorbar": {
             "outlinewidth": 0,
             "ticks": ""
            },
            "colorscale": [
             [
              0,
              "#0d0887"
             ],
             [
              0.1111111111111111,
              "#46039f"
             ],
             [
              0.2222222222222222,
              "#7201a8"
             ],
             [
              0.3333333333333333,
              "#9c179e"
             ],
             [
              0.4444444444444444,
              "#bd3786"
             ],
             [
              0.5555555555555556,
              "#d8576b"
             ],
             [
              0.6666666666666666,
              "#ed7953"
             ],
             [
              0.7777777777777778,
              "#fb9f3a"
             ],
             [
              0.8888888888888888,
              "#fdca26"
             ],
             [
              1,
              "#f0f921"
             ]
            ],
            "type": "histogram2dcontour"
           }
          ],
          "mesh3d": [
           {
            "colorbar": {
             "outlinewidth": 0,
             "ticks": ""
            },
            "type": "mesh3d"
           }
          ],
          "parcoords": [
           {
            "line": {
             "colorbar": {
              "outlinewidth": 0,
              "ticks": ""
             }
            },
            "type": "parcoords"
           }
          ],
          "pie": [
           {
            "automargin": true,
            "type": "pie"
           }
          ],
          "scatter": [
           {
            "fillpattern": {
             "fillmode": "overlay",
             "size": 10,
             "solidity": 0.2
            },
            "type": "scatter"
           }
          ],
          "scatter3d": [
           {
            "line": {
             "colorbar": {
              "outlinewidth": 0,
              "ticks": ""
             }
            },
            "marker": {
             "colorbar": {
              "outlinewidth": 0,
              "ticks": ""
             }
            },
            "type": "scatter3d"
           }
          ],
          "scattercarpet": [
           {
            "marker": {
             "colorbar": {
              "outlinewidth": 0,
              "ticks": ""
             }
            },
            "type": "scattercarpet"
           }
          ],
          "scattergeo": [
           {
            "marker": {
             "colorbar": {
              "outlinewidth": 0,
              "ticks": ""
             }
            },
            "type": "scattergeo"
           }
          ],
          "scattergl": [
           {
            "marker": {
             "colorbar": {
              "outlinewidth": 0,
              "ticks": ""
             }
            },
            "type": "scattergl"
           }
          ],
          "scattermapbox": [
           {
            "marker": {
             "colorbar": {
              "outlinewidth": 0,
              "ticks": ""
             }
            },
            "type": "scattermapbox"
           }
          ],
          "scatterpolar": [
           {
            "marker": {
             "colorbar": {
              "outlinewidth": 0,
              "ticks": ""
             }
            },
            "type": "scatterpolar"
           }
          ],
          "scatterpolargl": [
           {
            "marker": {
             "colorbar": {
              "outlinewidth": 0,
              "ticks": ""
             }
            },
            "type": "scatterpolargl"
           }
          ],
          "scatterternary": [
           {
            "marker": {
             "colorbar": {
              "outlinewidth": 0,
              "ticks": ""
             }
            },
            "type": "scatterternary"
           }
          ],
          "surface": [
           {
            "colorbar": {
             "outlinewidth": 0,
             "ticks": ""
            },
            "colorscale": [
             [
              0,
              "#0d0887"
             ],
             [
              0.1111111111111111,
              "#46039f"
             ],
             [
              0.2222222222222222,
              "#7201a8"
             ],
             [
              0.3333333333333333,
              "#9c179e"
             ],
             [
              0.4444444444444444,
              "#bd3786"
             ],
             [
              0.5555555555555556,
              "#d8576b"
             ],
             [
              0.6666666666666666,
              "#ed7953"
             ],
             [
              0.7777777777777778,
              "#fb9f3a"
             ],
             [
              0.8888888888888888,
              "#fdca26"
             ],
             [
              1,
              "#f0f921"
             ]
            ],
            "type": "surface"
           }
          ],
          "table": [
           {
            "cells": {
             "fill": {
              "color": "#EBF0F8"
             },
             "line": {
              "color": "white"
             }
            },
            "header": {
             "fill": {
              "color": "#C8D4E3"
             },
             "line": {
              "color": "white"
             }
            },
            "type": "table"
           }
          ]
         },
         "layout": {
          "annotationdefaults": {
           "arrowcolor": "#2a3f5f",
           "arrowhead": 0,
           "arrowwidth": 1
          },
          "autotypenumbers": "strict",
          "coloraxis": {
           "colorbar": {
            "outlinewidth": 0,
            "ticks": ""
           }
          },
          "colorscale": {
           "diverging": [
            [
             0,
             "#8e0152"
            ],
            [
             0.1,
             "#c51b7d"
            ],
            [
             0.2,
             "#de77ae"
            ],
            [
             0.3,
             "#f1b6da"
            ],
            [
             0.4,
             "#fde0ef"
            ],
            [
             0.5,
             "#f7f7f7"
            ],
            [
             0.6,
             "#e6f5d0"
            ],
            [
             0.7,
             "#b8e186"
            ],
            [
             0.8,
             "#7fbc41"
            ],
            [
             0.9,
             "#4d9221"
            ],
            [
             1,
             "#276419"
            ]
           ],
           "sequential": [
            [
             0,
             "#0d0887"
            ],
            [
             0.1111111111111111,
             "#46039f"
            ],
            [
             0.2222222222222222,
             "#7201a8"
            ],
            [
             0.3333333333333333,
             "#9c179e"
            ],
            [
             0.4444444444444444,
             "#bd3786"
            ],
            [
             0.5555555555555556,
             "#d8576b"
            ],
            [
             0.6666666666666666,
             "#ed7953"
            ],
            [
             0.7777777777777778,
             "#fb9f3a"
            ],
            [
             0.8888888888888888,
             "#fdca26"
            ],
            [
             1,
             "#f0f921"
            ]
           ],
           "sequentialminus": [
            [
             0,
             "#0d0887"
            ],
            [
             0.1111111111111111,
             "#46039f"
            ],
            [
             0.2222222222222222,
             "#7201a8"
            ],
            [
             0.3333333333333333,
             "#9c179e"
            ],
            [
             0.4444444444444444,
             "#bd3786"
            ],
            [
             0.5555555555555556,
             "#d8576b"
            ],
            [
             0.6666666666666666,
             "#ed7953"
            ],
            [
             0.7777777777777778,
             "#fb9f3a"
            ],
            [
             0.8888888888888888,
             "#fdca26"
            ],
            [
             1,
             "#f0f921"
            ]
           ]
          },
          "colorway": [
           "#636efa",
           "#EF553B",
           "#00cc96",
           "#ab63fa",
           "#FFA15A",
           "#19d3f3",
           "#FF6692",
           "#B6E880",
           "#FF97FF",
           "#FECB52"
          ],
          "font": {
           "color": "#2a3f5f"
          },
          "geo": {
           "bgcolor": "white",
           "lakecolor": "white",
           "landcolor": "#E5ECF6",
           "showlakes": true,
           "showland": true,
           "subunitcolor": "white"
          },
          "hoverlabel": {
           "align": "left"
          },
          "hovermode": "closest",
          "mapbox": {
           "style": "light"
          },
          "paper_bgcolor": "white",
          "plot_bgcolor": "#E5ECF6",
          "polar": {
           "angularaxis": {
            "gridcolor": "white",
            "linecolor": "white",
            "ticks": ""
           },
           "bgcolor": "#E5ECF6",
           "radialaxis": {
            "gridcolor": "white",
            "linecolor": "white",
            "ticks": ""
           }
          },
          "scene": {
           "xaxis": {
            "backgroundcolor": "#E5ECF6",
            "gridcolor": "white",
            "gridwidth": 2,
            "linecolor": "white",
            "showbackground": true,
            "ticks": "",
            "zerolinecolor": "white"
           },
           "yaxis": {
            "backgroundcolor": "#E5ECF6",
            "gridcolor": "white",
            "gridwidth": 2,
            "linecolor": "white",
            "showbackground": true,
            "ticks": "",
            "zerolinecolor": "white"
           },
           "zaxis": {
            "backgroundcolor": "#E5ECF6",
            "gridcolor": "white",
            "gridwidth": 2,
            "linecolor": "white",
            "showbackground": true,
            "ticks": "",
            "zerolinecolor": "white"
           }
          },
          "shapedefaults": {
           "line": {
            "color": "#2a3f5f"
           }
          },
          "ternary": {
           "aaxis": {
            "gridcolor": "white",
            "linecolor": "white",
            "ticks": ""
           },
           "baxis": {
            "gridcolor": "white",
            "linecolor": "white",
            "ticks": ""
           },
           "bgcolor": "#E5ECF6",
           "caxis": {
            "gridcolor": "white",
            "linecolor": "white",
            "ticks": ""
           }
          },
          "title": {
           "x": 0.05
          },
          "xaxis": {
           "automargin": true,
           "gridcolor": "white",
           "linecolor": "white",
           "ticks": "",
           "title": {
            "standoff": 15
           },
           "zerolinecolor": "white",
           "zerolinewidth": 2
          },
          "yaxis": {
           "automargin": true,
           "gridcolor": "white",
           "linecolor": "white",
           "ticks": "",
           "title": {
            "standoff": 15
           },
           "zerolinecolor": "white",
           "zerolinewidth": 2
          }
         }
        }
       }
      }
     },
     "metadata": {},
     "output_type": "display_data"
    }
   ],
   "source": [
    "# Bar plot of total production of District Heat\n",
    "\n",
    "bar = BarFacilitator(sol_paths={\"no storage\": EXPENSIVE_HLDH, \"using storage\": SEASON_DATA}, type_of_data_to_read=\"ProductionByTechnologyAnnual\",\n",
    "                        x_grouping_columns=[\"Year\", \"Source\"], legend_grouping_columns=[\"Source\"])\n",
    "\n",
    "data = bar.get_relevant_data()\n",
    "data.filter_by_identifier(column=\"Fuel\", identifier=\"Heat_District\")\n",
    "\n",
    "\n",
    "data.aggreagate_all_by_sum(column_to_aggregate=\"Region\", aggregated_entry_name=\"ALL\", column_to_sum=\"Value\") \n",
    "data.aggreagate_all_by_sum(column_to_aggregate=\"Technology\", aggregated_entry_name=\"ALL\", column_to_sum=\"Value\")\n",
    "\n",
    "# I want to sum all values for each year\n",
    "bar.plot(bar.generate_traces(data)).show()\n"
   ]
  },
  {
   "cell_type": "markdown",
   "metadata": {},
   "source": [
    "# Wind bar plot by year"
   ]
  },
  {
   "cell_type": "code",
   "execution_count": 14,
   "metadata": {},
   "outputs": [
    {
     "name": "stdout",
     "output_type": "stream",
     "text": [
      "No unit conversion applied!\n"
     ]
    },
    {
     "data": {
      "application/vnd.plotly.v1+json": {
       "config": {
        "plotlyServerURL": "https://plot.ly"
       },
       "data": [
        {
         "marker": {
          "color": "#c0fb83"
         },
         "name": "no storage",
         "showlegend": true,
         "type": "bar",
         "x": [
          [
           "2018",
           "2018",
           "2018",
           "2025",
           "2025",
           "2025",
           "2030",
           "2030",
           "2030",
           "2035",
           "2035",
           "2035",
           "2040",
           "2040",
           "2040",
           "2045",
           "2045",
           "2045",
           "2050",
           "2050",
           "2050"
          ],
          [
           "no storage",
           "no storage",
           "no storage",
           "no storage",
           "no storage",
           "no storage",
           "no storage",
           "no storage",
           "no storage",
           "no storage",
           "no storage",
           "no storage",
           "no storage",
           "no storage",
           "no storage",
           "no storage",
           "no storage",
           "no storage",
           "no storage",
           "no storage",
           "no storage"
          ]
         ],
         "y": [
          4278.49741499501,
          107.324,
          190.261,
          4879.413156088913,
          437.4003701798555,
          258.3742158524251,
          5052.505523827464,
          606.2752777097585,
          431.0288447952769,
          5241.711264688736,
          892.3099801479957,
          432.17900054670406,
          5258.1188225724045,
          833.235223801336,
          383.1778838288855,
          5268.957217449829,
          833.2352239791607,
          381.50550487652004,
          5270.740597661073,
          833.2352278225252,
          381.50550541598363
         ]
        },
        {
         "marker": {
          "color": "#b88fe7"
         },
         "name": "using storage",
         "showlegend": true,
         "type": "bar",
         "x": [
          [
           "2018",
           "2018",
           "2018",
           "2025",
           "2025",
           "2025",
           "2030",
           "2030",
           "2030",
           "2035",
           "2035",
           "2035",
           "2040",
           "2040",
           "2040",
           "2045",
           "2045",
           "2045",
           "2050",
           "2050",
           "2050"
          ],
          [
           "using storage",
           "using storage",
           "using storage",
           "using storage",
           "using storage",
           "using storage",
           "using storage",
           "using storage",
           "using storage",
           "using storage",
           "using storage",
           "using storage",
           "using storage",
           "using storage",
           "using storage",
           "using storage",
           "using storage",
           "using storage",
           "using storage",
           "using storage",
           "using storage"
          ]
         ],
         "y": [
          4278.503285350445,
          107.324,
          190.261,
          4877.885993097929,
          441.4447650185454,
          255.1588104876004,
          4967.562316905263,
          635.2191270130243,
          395.77778996255563,
          5301.2137537704975,
          848.037363831216,
          398.4746776024557,
          5317.624445644463,
          786.0005170722852,
          349.39325373722465,
          5328.468024698645,
          786.0005221423093,
          347.7208752910205,
          5330.351393566843,
          786.0006193886721,
          347.72088836417504
         ]
        }
       ],
       "layout": {
        "barmode": "stack",
        "template": {
         "data": {
          "bar": [
           {
            "error_x": {
             "color": "#2a3f5f"
            },
            "error_y": {
             "color": "#2a3f5f"
            },
            "marker": {
             "line": {
              "color": "#E5ECF6",
              "width": 0.5
             },
             "pattern": {
              "fillmode": "overlay",
              "size": 10,
              "solidity": 0.2
             }
            },
            "type": "bar"
           }
          ],
          "barpolar": [
           {
            "marker": {
             "line": {
              "color": "#E5ECF6",
              "width": 0.5
             },
             "pattern": {
              "fillmode": "overlay",
              "size": 10,
              "solidity": 0.2
             }
            },
            "type": "barpolar"
           }
          ],
          "carpet": [
           {
            "aaxis": {
             "endlinecolor": "#2a3f5f",
             "gridcolor": "white",
             "linecolor": "white",
             "minorgridcolor": "white",
             "startlinecolor": "#2a3f5f"
            },
            "baxis": {
             "endlinecolor": "#2a3f5f",
             "gridcolor": "white",
             "linecolor": "white",
             "minorgridcolor": "white",
             "startlinecolor": "#2a3f5f"
            },
            "type": "carpet"
           }
          ],
          "choropleth": [
           {
            "colorbar": {
             "outlinewidth": 0,
             "ticks": ""
            },
            "type": "choropleth"
           }
          ],
          "contour": [
           {
            "colorbar": {
             "outlinewidth": 0,
             "ticks": ""
            },
            "colorscale": [
             [
              0,
              "#0d0887"
             ],
             [
              0.1111111111111111,
              "#46039f"
             ],
             [
              0.2222222222222222,
              "#7201a8"
             ],
             [
              0.3333333333333333,
              "#9c179e"
             ],
             [
              0.4444444444444444,
              "#bd3786"
             ],
             [
              0.5555555555555556,
              "#d8576b"
             ],
             [
              0.6666666666666666,
              "#ed7953"
             ],
             [
              0.7777777777777778,
              "#fb9f3a"
             ],
             [
              0.8888888888888888,
              "#fdca26"
             ],
             [
              1,
              "#f0f921"
             ]
            ],
            "type": "contour"
           }
          ],
          "contourcarpet": [
           {
            "colorbar": {
             "outlinewidth": 0,
             "ticks": ""
            },
            "type": "contourcarpet"
           }
          ],
          "heatmap": [
           {
            "colorbar": {
             "outlinewidth": 0,
             "ticks": ""
            },
            "colorscale": [
             [
              0,
              "#0d0887"
             ],
             [
              0.1111111111111111,
              "#46039f"
             ],
             [
              0.2222222222222222,
              "#7201a8"
             ],
             [
              0.3333333333333333,
              "#9c179e"
             ],
             [
              0.4444444444444444,
              "#bd3786"
             ],
             [
              0.5555555555555556,
              "#d8576b"
             ],
             [
              0.6666666666666666,
              "#ed7953"
             ],
             [
              0.7777777777777778,
              "#fb9f3a"
             ],
             [
              0.8888888888888888,
              "#fdca26"
             ],
             [
              1,
              "#f0f921"
             ]
            ],
            "type": "heatmap"
           }
          ],
          "heatmapgl": [
           {
            "colorbar": {
             "outlinewidth": 0,
             "ticks": ""
            },
            "colorscale": [
             [
              0,
              "#0d0887"
             ],
             [
              0.1111111111111111,
              "#46039f"
             ],
             [
              0.2222222222222222,
              "#7201a8"
             ],
             [
              0.3333333333333333,
              "#9c179e"
             ],
             [
              0.4444444444444444,
              "#bd3786"
             ],
             [
              0.5555555555555556,
              "#d8576b"
             ],
             [
              0.6666666666666666,
              "#ed7953"
             ],
             [
              0.7777777777777778,
              "#fb9f3a"
             ],
             [
              0.8888888888888888,
              "#fdca26"
             ],
             [
              1,
              "#f0f921"
             ]
            ],
            "type": "heatmapgl"
           }
          ],
          "histogram": [
           {
            "marker": {
             "pattern": {
              "fillmode": "overlay",
              "size": 10,
              "solidity": 0.2
             }
            },
            "type": "histogram"
           }
          ],
          "histogram2d": [
           {
            "colorbar": {
             "outlinewidth": 0,
             "ticks": ""
            },
            "colorscale": [
             [
              0,
              "#0d0887"
             ],
             [
              0.1111111111111111,
              "#46039f"
             ],
             [
              0.2222222222222222,
              "#7201a8"
             ],
             [
              0.3333333333333333,
              "#9c179e"
             ],
             [
              0.4444444444444444,
              "#bd3786"
             ],
             [
              0.5555555555555556,
              "#d8576b"
             ],
             [
              0.6666666666666666,
              "#ed7953"
             ],
             [
              0.7777777777777778,
              "#fb9f3a"
             ],
             [
              0.8888888888888888,
              "#fdca26"
             ],
             [
              1,
              "#f0f921"
             ]
            ],
            "type": "histogram2d"
           }
          ],
          "histogram2dcontour": [
           {
            "colorbar": {
             "outlinewidth": 0,
             "ticks": ""
            },
            "colorscale": [
             [
              0,
              "#0d0887"
             ],
             [
              0.1111111111111111,
              "#46039f"
             ],
             [
              0.2222222222222222,
              "#7201a8"
             ],
             [
              0.3333333333333333,
              "#9c179e"
             ],
             [
              0.4444444444444444,
              "#bd3786"
             ],
             [
              0.5555555555555556,
              "#d8576b"
             ],
             [
              0.6666666666666666,
              "#ed7953"
             ],
             [
              0.7777777777777778,
              "#fb9f3a"
             ],
             [
              0.8888888888888888,
              "#fdca26"
             ],
             [
              1,
              "#f0f921"
             ]
            ],
            "type": "histogram2dcontour"
           }
          ],
          "mesh3d": [
           {
            "colorbar": {
             "outlinewidth": 0,
             "ticks": ""
            },
            "type": "mesh3d"
           }
          ],
          "parcoords": [
           {
            "line": {
             "colorbar": {
              "outlinewidth": 0,
              "ticks": ""
             }
            },
            "type": "parcoords"
           }
          ],
          "pie": [
           {
            "automargin": true,
            "type": "pie"
           }
          ],
          "scatter": [
           {
            "fillpattern": {
             "fillmode": "overlay",
             "size": 10,
             "solidity": 0.2
            },
            "type": "scatter"
           }
          ],
          "scatter3d": [
           {
            "line": {
             "colorbar": {
              "outlinewidth": 0,
              "ticks": ""
             }
            },
            "marker": {
             "colorbar": {
              "outlinewidth": 0,
              "ticks": ""
             }
            },
            "type": "scatter3d"
           }
          ],
          "scattercarpet": [
           {
            "marker": {
             "colorbar": {
              "outlinewidth": 0,
              "ticks": ""
             }
            },
            "type": "scattercarpet"
           }
          ],
          "scattergeo": [
           {
            "marker": {
             "colorbar": {
              "outlinewidth": 0,
              "ticks": ""
             }
            },
            "type": "scattergeo"
           }
          ],
          "scattergl": [
           {
            "marker": {
             "colorbar": {
              "outlinewidth": 0,
              "ticks": ""
             }
            },
            "type": "scattergl"
           }
          ],
          "scattermapbox": [
           {
            "marker": {
             "colorbar": {
              "outlinewidth": 0,
              "ticks": ""
             }
            },
            "type": "scattermapbox"
           }
          ],
          "scatterpolar": [
           {
            "marker": {
             "colorbar": {
              "outlinewidth": 0,
              "ticks": ""
             }
            },
            "type": "scatterpolar"
           }
          ],
          "scatterpolargl": [
           {
            "marker": {
             "colorbar": {
              "outlinewidth": 0,
              "ticks": ""
             }
            },
            "type": "scatterpolargl"
           }
          ],
          "scatterternary": [
           {
            "marker": {
             "colorbar": {
              "outlinewidth": 0,
              "ticks": ""
             }
            },
            "type": "scatterternary"
           }
          ],
          "surface": [
           {
            "colorbar": {
             "outlinewidth": 0,
             "ticks": ""
            },
            "colorscale": [
             [
              0,
              "#0d0887"
             ],
             [
              0.1111111111111111,
              "#46039f"
             ],
             [
              0.2222222222222222,
              "#7201a8"
             ],
             [
              0.3333333333333333,
              "#9c179e"
             ],
             [
              0.4444444444444444,
              "#bd3786"
             ],
             [
              0.5555555555555556,
              "#d8576b"
             ],
             [
              0.6666666666666666,
              "#ed7953"
             ],
             [
              0.7777777777777778,
              "#fb9f3a"
             ],
             [
              0.8888888888888888,
              "#fdca26"
             ],
             [
              1,
              "#f0f921"
             ]
            ],
            "type": "surface"
           }
          ],
          "table": [
           {
            "cells": {
             "fill": {
              "color": "#EBF0F8"
             },
             "line": {
              "color": "white"
             }
            },
            "header": {
             "fill": {
              "color": "#C8D4E3"
             },
             "line": {
              "color": "white"
             }
            },
            "type": "table"
           }
          ]
         },
         "layout": {
          "annotationdefaults": {
           "arrowcolor": "#2a3f5f",
           "arrowhead": 0,
           "arrowwidth": 1
          },
          "autotypenumbers": "strict",
          "coloraxis": {
           "colorbar": {
            "outlinewidth": 0,
            "ticks": ""
           }
          },
          "colorscale": {
           "diverging": [
            [
             0,
             "#8e0152"
            ],
            [
             0.1,
             "#c51b7d"
            ],
            [
             0.2,
             "#de77ae"
            ],
            [
             0.3,
             "#f1b6da"
            ],
            [
             0.4,
             "#fde0ef"
            ],
            [
             0.5,
             "#f7f7f7"
            ],
            [
             0.6,
             "#e6f5d0"
            ],
            [
             0.7,
             "#b8e186"
            ],
            [
             0.8,
             "#7fbc41"
            ],
            [
             0.9,
             "#4d9221"
            ],
            [
             1,
             "#276419"
            ]
           ],
           "sequential": [
            [
             0,
             "#0d0887"
            ],
            [
             0.1111111111111111,
             "#46039f"
            ],
            [
             0.2222222222222222,
             "#7201a8"
            ],
            [
             0.3333333333333333,
             "#9c179e"
            ],
            [
             0.4444444444444444,
             "#bd3786"
            ],
            [
             0.5555555555555556,
             "#d8576b"
            ],
            [
             0.6666666666666666,
             "#ed7953"
            ],
            [
             0.7777777777777778,
             "#fb9f3a"
            ],
            [
             0.8888888888888888,
             "#fdca26"
            ],
            [
             1,
             "#f0f921"
            ]
           ],
           "sequentialminus": [
            [
             0,
             "#0d0887"
            ],
            [
             0.1111111111111111,
             "#46039f"
            ],
            [
             0.2222222222222222,
             "#7201a8"
            ],
            [
             0.3333333333333333,
             "#9c179e"
            ],
            [
             0.4444444444444444,
             "#bd3786"
            ],
            [
             0.5555555555555556,
             "#d8576b"
            ],
            [
             0.6666666666666666,
             "#ed7953"
            ],
            [
             0.7777777777777778,
             "#fb9f3a"
            ],
            [
             0.8888888888888888,
             "#fdca26"
            ],
            [
             1,
             "#f0f921"
            ]
           ]
          },
          "colorway": [
           "#636efa",
           "#EF553B",
           "#00cc96",
           "#ab63fa",
           "#FFA15A",
           "#19d3f3",
           "#FF6692",
           "#B6E880",
           "#FF97FF",
           "#FECB52"
          ],
          "font": {
           "color": "#2a3f5f"
          },
          "geo": {
           "bgcolor": "white",
           "lakecolor": "white",
           "landcolor": "#E5ECF6",
           "showlakes": true,
           "showland": true,
           "subunitcolor": "white"
          },
          "hoverlabel": {
           "align": "left"
          },
          "hovermode": "closest",
          "mapbox": {
           "style": "light"
          },
          "paper_bgcolor": "white",
          "plot_bgcolor": "#E5ECF6",
          "polar": {
           "angularaxis": {
            "gridcolor": "white",
            "linecolor": "white",
            "ticks": ""
           },
           "bgcolor": "#E5ECF6",
           "radialaxis": {
            "gridcolor": "white",
            "linecolor": "white",
            "ticks": ""
           }
          },
          "scene": {
           "xaxis": {
            "backgroundcolor": "#E5ECF6",
            "gridcolor": "white",
            "gridwidth": 2,
            "linecolor": "white",
            "showbackground": true,
            "ticks": "",
            "zerolinecolor": "white"
           },
           "yaxis": {
            "backgroundcolor": "#E5ECF6",
            "gridcolor": "white",
            "gridwidth": 2,
            "linecolor": "white",
            "showbackground": true,
            "ticks": "",
            "zerolinecolor": "white"
           },
           "zaxis": {
            "backgroundcolor": "#E5ECF6",
            "gridcolor": "white",
            "gridwidth": 2,
            "linecolor": "white",
            "showbackground": true,
            "ticks": "",
            "zerolinecolor": "white"
           }
          },
          "shapedefaults": {
           "line": {
            "color": "#2a3f5f"
           }
          },
          "ternary": {
           "aaxis": {
            "gridcolor": "white",
            "linecolor": "white",
            "ticks": ""
           },
           "baxis": {
            "gridcolor": "white",
            "linecolor": "white",
            "ticks": ""
           },
           "bgcolor": "#E5ECF6",
           "caxis": {
            "gridcolor": "white",
            "linecolor": "white",
            "ticks": ""
           }
          },
          "title": {
           "x": 0.05
          },
          "xaxis": {
           "automargin": true,
           "gridcolor": "white",
           "linecolor": "white",
           "ticks": "",
           "title": {
            "standoff": 15
           },
           "zerolinecolor": "white",
           "zerolinewidth": 2
          },
          "yaxis": {
           "automargin": true,
           "gridcolor": "white",
           "linecolor": "white",
           "ticks": "",
           "title": {
            "standoff": 15
           },
           "zerolinecolor": "white",
           "zerolinewidth": 2
          }
         }
        }
       }
      }
     },
     "metadata": {},
     "output_type": "display_data"
    }
   ],
   "source": [
    "# Make a bar plot for total wind capacity by year\n",
    "\n",
    "bar = BarFacilitator(sol_paths={\"no storage\": EXPENSIVE_HLDH, \"using storage\": SEASON_DATA}, type_of_data_to_read=\"TotalCapacityAnnual\",\n",
    "                        x_grouping_columns=[\"Year\", \"Source\"], legend_grouping_columns=[\"Source\"])\n",
    "\n",
    "data = bar.get_relevant_data()\n",
    "#data.filter_by_containing_string(column=\"Technology\", identifier=\"Wind\")\n",
    "data.aggregate_by_sum_function(column_to_change=\"Technology\", column_to_sum=\"Value\", function=aggregator)\n",
    "data.filter_by_list(column=\"Technology\", identifier_list=[\"Wind\", \"Solar\", \"Renewables\"])\n",
    "data.aggreagate_all_by_sum(column_to_aggregate=\"Region\", aggregated_entry_name=\"ALL\", column_to_sum=\"Value\")\n",
    "\n",
    "bar.plot(bar.generate_traces(data)).show()"
   ]
  },
  {
   "cell_type": "markdown",
   "metadata": {},
   "source": [
    "# Production of District heat bar plot"
   ]
  },
  {
   "cell_type": "code",
   "execution_count": 15,
   "metadata": {},
   "outputs": [
    {
     "name": "stdout",
     "output_type": "stream",
     "text": [
      "Converting from PetaJoules to TerraWattHours\n"
     ]
    },
    {
     "data": {
      "application/vnd.plotly.v1+json": {
       "config": {
        "plotlyServerURL": "https://plot.ly"
       },
       "data": [
        {
         "marker": {
          "color": "#c0fb83"
         },
         "name": "no storage",
         "showlegend": true,
         "type": "bar",
         "x": [
          [
           "2018",
           "2025",
           "2030",
           "2035",
           "2040",
           "2045",
           "2050"
          ],
          [
           "no storage",
           "no storage",
           "no storage",
           "no storage",
           "no storage",
           "no storage",
           "no storage"
          ]
         ],
         "y": [
          2371.3297369218444,
          2394.4917327981143,
          2524.9341466289807,
          2880.1221854652067,
          2974.8939943821633,
          3088.3420918185793,
          3160.8498658845597
         ]
        },
        {
         "marker": {
          "color": "#b88fe7"
         },
         "name": "using storage",
         "showlegend": true,
         "type": "bar",
         "x": [
          [
           "2018",
           "2025",
           "2030",
           "2035",
           "2040",
           "2045",
           "2050"
          ],
          [
           "using storage",
           "using storage",
           "using storage",
           "using storage",
           "using storage",
           "using storage",
           "using storage"
          ]
         ],
         "y": [
          2359.346638416767,
          2409.251479467283,
          2742.9226107731006,
          3281.6071120532392,
          3327.8359281488365,
          3406.024786875054,
          3453.853421108698
         ]
        }
       ],
       "layout": {
        "barmode": "stack",
        "template": {
         "data": {
          "bar": [
           {
            "error_x": {
             "color": "#2a3f5f"
            },
            "error_y": {
             "color": "#2a3f5f"
            },
            "marker": {
             "line": {
              "color": "#E5ECF6",
              "width": 0.5
             },
             "pattern": {
              "fillmode": "overlay",
              "size": 10,
              "solidity": 0.2
             }
            },
            "type": "bar"
           }
          ],
          "barpolar": [
           {
            "marker": {
             "line": {
              "color": "#E5ECF6",
              "width": 0.5
             },
             "pattern": {
              "fillmode": "overlay",
              "size": 10,
              "solidity": 0.2
             }
            },
            "type": "barpolar"
           }
          ],
          "carpet": [
           {
            "aaxis": {
             "endlinecolor": "#2a3f5f",
             "gridcolor": "white",
             "linecolor": "white",
             "minorgridcolor": "white",
             "startlinecolor": "#2a3f5f"
            },
            "baxis": {
             "endlinecolor": "#2a3f5f",
             "gridcolor": "white",
             "linecolor": "white",
             "minorgridcolor": "white",
             "startlinecolor": "#2a3f5f"
            },
            "type": "carpet"
           }
          ],
          "choropleth": [
           {
            "colorbar": {
             "outlinewidth": 0,
             "ticks": ""
            },
            "type": "choropleth"
           }
          ],
          "contour": [
           {
            "colorbar": {
             "outlinewidth": 0,
             "ticks": ""
            },
            "colorscale": [
             [
              0,
              "#0d0887"
             ],
             [
              0.1111111111111111,
              "#46039f"
             ],
             [
              0.2222222222222222,
              "#7201a8"
             ],
             [
              0.3333333333333333,
              "#9c179e"
             ],
             [
              0.4444444444444444,
              "#bd3786"
             ],
             [
              0.5555555555555556,
              "#d8576b"
             ],
             [
              0.6666666666666666,
              "#ed7953"
             ],
             [
              0.7777777777777778,
              "#fb9f3a"
             ],
             [
              0.8888888888888888,
              "#fdca26"
             ],
             [
              1,
              "#f0f921"
             ]
            ],
            "type": "contour"
           }
          ],
          "contourcarpet": [
           {
            "colorbar": {
             "outlinewidth": 0,
             "ticks": ""
            },
            "type": "contourcarpet"
           }
          ],
          "heatmap": [
           {
            "colorbar": {
             "outlinewidth": 0,
             "ticks": ""
            },
            "colorscale": [
             [
              0,
              "#0d0887"
             ],
             [
              0.1111111111111111,
              "#46039f"
             ],
             [
              0.2222222222222222,
              "#7201a8"
             ],
             [
              0.3333333333333333,
              "#9c179e"
             ],
             [
              0.4444444444444444,
              "#bd3786"
             ],
             [
              0.5555555555555556,
              "#d8576b"
             ],
             [
              0.6666666666666666,
              "#ed7953"
             ],
             [
              0.7777777777777778,
              "#fb9f3a"
             ],
             [
              0.8888888888888888,
              "#fdca26"
             ],
             [
              1,
              "#f0f921"
             ]
            ],
            "type": "heatmap"
           }
          ],
          "heatmapgl": [
           {
            "colorbar": {
             "outlinewidth": 0,
             "ticks": ""
            },
            "colorscale": [
             [
              0,
              "#0d0887"
             ],
             [
              0.1111111111111111,
              "#46039f"
             ],
             [
              0.2222222222222222,
              "#7201a8"
             ],
             [
              0.3333333333333333,
              "#9c179e"
             ],
             [
              0.4444444444444444,
              "#bd3786"
             ],
             [
              0.5555555555555556,
              "#d8576b"
             ],
             [
              0.6666666666666666,
              "#ed7953"
             ],
             [
              0.7777777777777778,
              "#fb9f3a"
             ],
             [
              0.8888888888888888,
              "#fdca26"
             ],
             [
              1,
              "#f0f921"
             ]
            ],
            "type": "heatmapgl"
           }
          ],
          "histogram": [
           {
            "marker": {
             "pattern": {
              "fillmode": "overlay",
              "size": 10,
              "solidity": 0.2
             }
            },
            "type": "histogram"
           }
          ],
          "histogram2d": [
           {
            "colorbar": {
             "outlinewidth": 0,
             "ticks": ""
            },
            "colorscale": [
             [
              0,
              "#0d0887"
             ],
             [
              0.1111111111111111,
              "#46039f"
             ],
             [
              0.2222222222222222,
              "#7201a8"
             ],
             [
              0.3333333333333333,
              "#9c179e"
             ],
             [
              0.4444444444444444,
              "#bd3786"
             ],
             [
              0.5555555555555556,
              "#d8576b"
             ],
             [
              0.6666666666666666,
              "#ed7953"
             ],
             [
              0.7777777777777778,
              "#fb9f3a"
             ],
             [
              0.8888888888888888,
              "#fdca26"
             ],
             [
              1,
              "#f0f921"
             ]
            ],
            "type": "histogram2d"
           }
          ],
          "histogram2dcontour": [
           {
            "colorbar": {
             "outlinewidth": 0,
             "ticks": ""
            },
            "colorscale": [
             [
              0,
              "#0d0887"
             ],
             [
              0.1111111111111111,
              "#46039f"
             ],
             [
              0.2222222222222222,
              "#7201a8"
             ],
             [
              0.3333333333333333,
              "#9c179e"
             ],
             [
              0.4444444444444444,
              "#bd3786"
             ],
             [
              0.5555555555555556,
              "#d8576b"
             ],
             [
              0.6666666666666666,
              "#ed7953"
             ],
             [
              0.7777777777777778,
              "#fb9f3a"
             ],
             [
              0.8888888888888888,
              "#fdca26"
             ],
             [
              1,
              "#f0f921"
             ]
            ],
            "type": "histogram2dcontour"
           }
          ],
          "mesh3d": [
           {
            "colorbar": {
             "outlinewidth": 0,
             "ticks": ""
            },
            "type": "mesh3d"
           }
          ],
          "parcoords": [
           {
            "line": {
             "colorbar": {
              "outlinewidth": 0,
              "ticks": ""
             }
            },
            "type": "parcoords"
           }
          ],
          "pie": [
           {
            "automargin": true,
            "type": "pie"
           }
          ],
          "scatter": [
           {
            "fillpattern": {
             "fillmode": "overlay",
             "size": 10,
             "solidity": 0.2
            },
            "type": "scatter"
           }
          ],
          "scatter3d": [
           {
            "line": {
             "colorbar": {
              "outlinewidth": 0,
              "ticks": ""
             }
            },
            "marker": {
             "colorbar": {
              "outlinewidth": 0,
              "ticks": ""
             }
            },
            "type": "scatter3d"
           }
          ],
          "scattercarpet": [
           {
            "marker": {
             "colorbar": {
              "outlinewidth": 0,
              "ticks": ""
             }
            },
            "type": "scattercarpet"
           }
          ],
          "scattergeo": [
           {
            "marker": {
             "colorbar": {
              "outlinewidth": 0,
              "ticks": ""
             }
            },
            "type": "scattergeo"
           }
          ],
          "scattergl": [
           {
            "marker": {
             "colorbar": {
              "outlinewidth": 0,
              "ticks": ""
             }
            },
            "type": "scattergl"
           }
          ],
          "scattermapbox": [
           {
            "marker": {
             "colorbar": {
              "outlinewidth": 0,
              "ticks": ""
             }
            },
            "type": "scattermapbox"
           }
          ],
          "scatterpolar": [
           {
            "marker": {
             "colorbar": {
              "outlinewidth": 0,
              "ticks": ""
             }
            },
            "type": "scatterpolar"
           }
          ],
          "scatterpolargl": [
           {
            "marker": {
             "colorbar": {
              "outlinewidth": 0,
              "ticks": ""
             }
            },
            "type": "scatterpolargl"
           }
          ],
          "scatterternary": [
           {
            "marker": {
             "colorbar": {
              "outlinewidth": 0,
              "ticks": ""
             }
            },
            "type": "scatterternary"
           }
          ],
          "surface": [
           {
            "colorbar": {
             "outlinewidth": 0,
             "ticks": ""
            },
            "colorscale": [
             [
              0,
              "#0d0887"
             ],
             [
              0.1111111111111111,
              "#46039f"
             ],
             [
              0.2222222222222222,
              "#7201a8"
             ],
             [
              0.3333333333333333,
              "#9c179e"
             ],
             [
              0.4444444444444444,
              "#bd3786"
             ],
             [
              0.5555555555555556,
              "#d8576b"
             ],
             [
              0.6666666666666666,
              "#ed7953"
             ],
             [
              0.7777777777777778,
              "#fb9f3a"
             ],
             [
              0.8888888888888888,
              "#fdca26"
             ],
             [
              1,
              "#f0f921"
             ]
            ],
            "type": "surface"
           }
          ],
          "table": [
           {
            "cells": {
             "fill": {
              "color": "#EBF0F8"
             },
             "line": {
              "color": "white"
             }
            },
            "header": {
             "fill": {
              "color": "#C8D4E3"
             },
             "line": {
              "color": "white"
             }
            },
            "type": "table"
           }
          ]
         },
         "layout": {
          "annotationdefaults": {
           "arrowcolor": "#2a3f5f",
           "arrowhead": 0,
           "arrowwidth": 1
          },
          "autotypenumbers": "strict",
          "coloraxis": {
           "colorbar": {
            "outlinewidth": 0,
            "ticks": ""
           }
          },
          "colorscale": {
           "diverging": [
            [
             0,
             "#8e0152"
            ],
            [
             0.1,
             "#c51b7d"
            ],
            [
             0.2,
             "#de77ae"
            ],
            [
             0.3,
             "#f1b6da"
            ],
            [
             0.4,
             "#fde0ef"
            ],
            [
             0.5,
             "#f7f7f7"
            ],
            [
             0.6,
             "#e6f5d0"
            ],
            [
             0.7,
             "#b8e186"
            ],
            [
             0.8,
             "#7fbc41"
            ],
            [
             0.9,
             "#4d9221"
            ],
            [
             1,
             "#276419"
            ]
           ],
           "sequential": [
            [
             0,
             "#0d0887"
            ],
            [
             0.1111111111111111,
             "#46039f"
            ],
            [
             0.2222222222222222,
             "#7201a8"
            ],
            [
             0.3333333333333333,
             "#9c179e"
            ],
            [
             0.4444444444444444,
             "#bd3786"
            ],
            [
             0.5555555555555556,
             "#d8576b"
            ],
            [
             0.6666666666666666,
             "#ed7953"
            ],
            [
             0.7777777777777778,
             "#fb9f3a"
            ],
            [
             0.8888888888888888,
             "#fdca26"
            ],
            [
             1,
             "#f0f921"
            ]
           ],
           "sequentialminus": [
            [
             0,
             "#0d0887"
            ],
            [
             0.1111111111111111,
             "#46039f"
            ],
            [
             0.2222222222222222,
             "#7201a8"
            ],
            [
             0.3333333333333333,
             "#9c179e"
            ],
            [
             0.4444444444444444,
             "#bd3786"
            ],
            [
             0.5555555555555556,
             "#d8576b"
            ],
            [
             0.6666666666666666,
             "#ed7953"
            ],
            [
             0.7777777777777778,
             "#fb9f3a"
            ],
            [
             0.8888888888888888,
             "#fdca26"
            ],
            [
             1,
             "#f0f921"
            ]
           ]
          },
          "colorway": [
           "#636efa",
           "#EF553B",
           "#00cc96",
           "#ab63fa",
           "#FFA15A",
           "#19d3f3",
           "#FF6692",
           "#B6E880",
           "#FF97FF",
           "#FECB52"
          ],
          "font": {
           "color": "#2a3f5f"
          },
          "geo": {
           "bgcolor": "white",
           "lakecolor": "white",
           "landcolor": "#E5ECF6",
           "showlakes": true,
           "showland": true,
           "subunitcolor": "white"
          },
          "hoverlabel": {
           "align": "left"
          },
          "hovermode": "closest",
          "mapbox": {
           "style": "light"
          },
          "paper_bgcolor": "white",
          "plot_bgcolor": "#E5ECF6",
          "polar": {
           "angularaxis": {
            "gridcolor": "white",
            "linecolor": "white",
            "ticks": ""
           },
           "bgcolor": "#E5ECF6",
           "radialaxis": {
            "gridcolor": "white",
            "linecolor": "white",
            "ticks": ""
           }
          },
          "scene": {
           "xaxis": {
            "backgroundcolor": "#E5ECF6",
            "gridcolor": "white",
            "gridwidth": 2,
            "linecolor": "white",
            "showbackground": true,
            "ticks": "",
            "zerolinecolor": "white"
           },
           "yaxis": {
            "backgroundcolor": "#E5ECF6",
            "gridcolor": "white",
            "gridwidth": 2,
            "linecolor": "white",
            "showbackground": true,
            "ticks": "",
            "zerolinecolor": "white"
           },
           "zaxis": {
            "backgroundcolor": "#E5ECF6",
            "gridcolor": "white",
            "gridwidth": 2,
            "linecolor": "white",
            "showbackground": true,
            "ticks": "",
            "zerolinecolor": "white"
           }
          },
          "shapedefaults": {
           "line": {
            "color": "#2a3f5f"
           }
          },
          "ternary": {
           "aaxis": {
            "gridcolor": "white",
            "linecolor": "white",
            "ticks": ""
           },
           "baxis": {
            "gridcolor": "white",
            "linecolor": "white",
            "ticks": ""
           },
           "bgcolor": "#E5ECF6",
           "caxis": {
            "gridcolor": "white",
            "linecolor": "white",
            "ticks": ""
           }
          },
          "title": {
           "x": 0.05
          },
          "xaxis": {
           "automargin": true,
           "gridcolor": "white",
           "linecolor": "white",
           "ticks": "",
           "title": {
            "standoff": 15
           },
           "zerolinecolor": "white",
           "zerolinewidth": 2
          },
          "yaxis": {
           "automargin": true,
           "gridcolor": "white",
           "linecolor": "white",
           "ticks": "",
           "title": {
            "standoff": 15
           },
           "zerolinecolor": "white",
           "zerolinewidth": 2
          }
         }
        }
       }
      }
     },
     "metadata": {},
     "output_type": "display_data"
    }
   ],
   "source": [
    "# Production of District heat bar plot\n",
    "\n",
    "bar = BarFacilitator(sol_paths={\"no storage\": EXPENSIVE_HLDH, \"using storage\": SEASON_DATA}, type_of_data_to_read=\"ProductionByTechnologyAnnual\",\n",
    "                        x_grouping_columns=[\"Year\", \"Source\"], legend_grouping_columns=[\"Source\"])\n",
    "\n",
    "data = bar.get_relevant_data()\n",
    "\n",
    "data.df = data.df[~data.df[\"Technology\"].str.contains(\"D_\")]\n",
    "\n",
    "data.filter_by_identifier(column=\"Fuel\", identifier=\"Heat_District\")\n",
    "data.aggreagate_all_by_sum(column_to_aggregate=\"Technology\", aggregated_entry_name=\"ALL\", column_to_sum=\"Value\")\n",
    "data.aggreagate_all_by_sum(column_to_aggregate=\"Region\", aggregated_entry_name=\"ALL\", column_to_sum=\"Value\")\n",
    "\n",
    "bar.plot(bar.generate_traces(data)).show()\n"
   ]
  }
 ],
 "metadata": {
  "kernelspec": {
   "display_name": "scenario_dashboard",
   "language": "python",
   "name": "python3"
  },
  "language_info": {
   "codemirror_mode": {
    "name": "ipython",
    "version": 3
   },
   "file_extension": ".py",
   "mimetype": "text/x-python",
   "name": "python",
   "nbconvert_exporter": "python",
   "pygments_lexer": "ipython3",
   "version": "3.12.4"
  }
 },
 "nbformat": 4,
 "nbformat_minor": 2
}
