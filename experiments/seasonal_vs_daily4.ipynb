{
 "cells": [
  {
   "cell_type": "code",
   "execution_count": 294,
   "metadata": {},
   "outputs": [
    {
     "name": "stdout",
     "output_type": "stream",
     "text": [
      "The autoreload extension is already loaded. To reload it, use:\n",
      "  %reload_ext autoreload\n"
     ]
    }
   ],
   "source": [
    "%load_ext autoreload\n",
    "%autoreload 2\n",
    "\n",
    "import sys, os\n",
    "from pathlib import Path\n",
    "import plotly.graph_objects as go\n",
    "from typing import Iterable\n",
    "import pandas as pd\n",
    "\n",
    "# Fix import\n",
    "sys.path.append(os.path.abspath(os.path.join('..')))\n",
    "from facilitators import BarFacilitator, StackedQuantityEvolutionFacilitatorBase, StackedQuantityEvolutionFacilitatorBase2\n",
    "from data import read_sol_keys, AGGREGATION, aggregator\n",
    "from data import data_processor as dp\n",
    "from facilitators import my_color_generator"
   ]
  },
  {
   "cell_type": "code",
   "execution_count": 295,
   "metadata": {},
   "outputs": [],
   "source": [
    "PROJECT_ROOT_DIR = Path().resolve().parent\n",
    "SOLUTION_DIR = PROJECT_ROOT_DIR / \"solution_files3\"\n",
    "\n",
    "#EXPENSIVE_HLDH = SOLUTION_DIR / \"solution_seasonal_free_3_d40_h6_s6_6.sol\"\n",
    "EXPENSIVE_HLDH = SOLUTION_DIR / \"solution_seasonal_10HLDH_d40_h6_s6_6.sol\"\n",
    "SEASON_DATA = SOLUTION_DIR / \"solution_seasonal_d40_h6_s6_6.sol\"\n",
    "\n",
    "WRITE_DIR = PROJECT_ROOT_DIR / \"generated_figs3\"\n",
    "WRITE_FIGS = True\n",
    "\n",
    "REGION = \"ALL\"\n",
    "YEAR = 2050"
   ]
  },
  {
   "cell_type": "code",
   "execution_count": 296,
   "metadata": {},
   "outputs": [],
   "source": [
    "def stacked_accumulated_energy(sol_path: str, region: str = \"ALL\", title_addon: str = None, write_fig = False) -> go.Figure:\n",
    "    storage_evolution = StackedQuantityEvolutionFacilitatorBase2(sol_path=sol_path, type_of_data_to_read=\"NewStorageCapacity\", extra_identifying_columns=[\"Region\"])\n",
    "\n",
    "    d = storage_evolution.get_relevant_data()\n",
    "    #d.show_example_rows(5)\n",
    "    d.filter_by_containing_string(column=\"Storage\", identifier=\"S_Heat_HLDH\")\n",
    "\n",
    "    #if region == \"ALL\":\n",
    "        #d.aggreagate_all_by_sum(column_to_aggregate=\"Region\", aggregated_entry_name=region, column_to_sum=\"Value\")\n",
    "\n",
    "    # Remove those who are 0 for all years\n",
    "    techs_over_zero = d.df[d.df[\"Value\"] > 0][\"Region\"].unique()\n",
    "    d.filter_by_list(column=\"Region\", identifier_list=techs_over_zero)\n",
    "\n",
    "    # Do cumsum over years\n",
    "    d.df[\"Value\"] = d.df.groupby(\"Region\")[\"Value\"].cumsum()\n",
    "\n",
    "    # Keep the 5 biggest regions in 2050\n",
    "    top_regions = d.df[d.df[\"Year\"] == YEAR].nlargest(5, \"Value\")[\"Region\"].values\n",
    "    bottom_regions = set(d.df[\"Region\"].unique()) - set(top_regions)\n",
    "    bottom_df = d.df[d.df[\"Region\"].isin(bottom_regions)]\n",
    "\n",
    "    # Aggregate the bottom regions\n",
    "    bottom_df[\"Region\"] = \"Others\"\n",
    "    bottom_df = bottom_df.groupby([col for col in bottom_df.columns if col != \"Value\"], as_index=False).sum(numeric_only=True)\n",
    "\n",
    "    d.filter_by_list(column=\"Region\", identifier_list=top_regions)\n",
    "    d.df = pd.concat([d.df, bottom_df], ignore_index=True)\n",
    "    \n",
    "    traces = storage_evolution.generate_traces(d)\n",
    "\n",
    "\n",
    "    # Sort the traces by the value in 2050\n",
    "    traces = sorted(traces, key=lambda x: x.y[-1], reverse=True)\n",
    "\n",
    "    # But put the \"Others\" at the end\n",
    "    traces = [x for x in traces if x.name == \"Others\"] + [x for x in traces if x.name != \"Others\"]\n",
    "\n",
    "    fig = storage_evolution.plot(traces)\n",
    "\n",
    "    fig.update_layout(\n",
    "        width=1400,\n",
    "        height=800,\n",
    "        title=f\"Accumulated Storage Capacity District Heat Europe\",\n",
    "        yaxis_title=\"TWh\",\n",
    "        xaxis_title=\"Year\",\n",
    "    )\n",
    "\n",
    "    if write_fig:\n",
    "        fig.write_image(WRITE_DIR / f\"stacked_accumulated_storage_energy_region_{region}_{title_addon}.png\")\n",
    "\n",
    "    return fig"
   ]
  },
  {
   "cell_type": "code",
   "execution_count": 281,
   "metadata": {},
   "outputs": [
    {
     "name": "stdout",
     "output_type": "stream",
     "text": [
      "Converting from PetaJoules to TerraWattHours\n"
     ]
    },
    {
     "name": "stderr",
     "output_type": "stream",
     "text": [
      "C:\\Users\\mortensv\\AppData\\Local\\Temp\\ipykernel_29752\\1857296959.py:24: SettingWithCopyWarning:\n",
      "\n",
      "\n",
      "A value is trying to be set on a copy of a slice from a DataFrame.\n",
      "Try using .loc[row_indexer,col_indexer] = value instead\n",
      "\n",
      "See the caveats in the documentation: https://pandas.pydata.org/pandas-docs/stable/user_guide/indexing.html#returning-a-view-versus-a-copy\n",
      "\n"
     ]
    },
    {
     "data": {
      "application/vnd.plotly.v1+json": {
       "config": {
        "plotlyServerURL": "https://plot.ly"
       },
       "data": [
        {
         "fillcolor": "#9899e9",
         "legendgroup": "Others",
         "line": {
          "color": "#9899e9"
         },
         "name": "Others",
         "showlegend": true,
         "stackgroup": "one",
         "type": "scatter",
         "x": [
          2040,
          2035,
          2030,
          2025,
          2018,
          2050,
          2045
         ],
         "y": [
          58.156563436311174,
          38.38006905427775,
          13.38531672549888,
          0.5090592561727258,
          1.036608214995551e-8,
          94.29141922114714,
          76.7663585968077
         ]
        },
        {
         "fillcolor": "#b9d7e5",
         "legendgroup": "DE",
         "line": {
          "color": "#b9d7e5"
         },
         "name": "DE",
         "showlegend": true,
         "stackgroup": "one",
         "type": "scatter",
         "x": [
          2018,
          2025,
          2030,
          2035,
          2040,
          2045,
          2050
         ],
         "y": [
          3.8443512391059105e-10,
          3.1937304733072893,
          15.340491149397023,
          40.159559154494374,
          64.57722166264125,
          85.31980146283261,
          104.84170081674482
         ]
        },
        {
         "fillcolor": "#91e7d2",
         "legendgroup": "TR",
         "line": {
          "color": "#91e7d2"
         },
         "name": "TR",
         "showlegend": true,
         "stackgroup": "one",
         "type": "scatter",
         "x": [
          2050,
          2040,
          2035,
          2030,
          2025,
          2018,
          2045
         ],
         "y": [
          82.98764653597709,
          44.62404635713038,
          30.415107010684384,
          15.897667636235127,
          1.2193015052813473e-7,
          3.788895974489402e-10,
          63.01119346051733
         ]
        },
        {
         "fillcolor": "#e3aca2",
         "legendgroup": "FR",
         "line": {
          "color": "#e3aca2"
         },
         "name": "FR",
         "showlegend": true,
         "stackgroup": "one",
         "type": "scatter",
         "x": [
          2050,
          2045,
          2040,
          2025,
          2030,
          2018,
          2035
         ],
         "y": [
          68.90471205182749,
          54.71641048557683,
          41.24150200688765,
          5.793455622311192e-8,
          9.485535165079575,
          3.432714831054514e-10,
          27.562289466510997
         ]
        },
        {
         "fillcolor": "#f386fb",
         "legendgroup": "IT",
         "line": {
          "color": "#f386fb"
         },
         "name": "IT",
         "showlegend": true,
         "stackgroup": "one",
         "type": "scatter",
         "x": [
          2040,
          2045,
          2035,
          2050,
          2025,
          2018,
          2030
         ],
         "y": [
          22.256454369571124,
          31.09554802109937,
          12.971450510355188,
          37.60651566343504,
          2.010594869002857e-7,
          4.577959180739491e-10,
          1.8046822621859693
         ]
        },
        {
         "fillcolor": "#a2e7f7",
         "legendgroup": "UK",
         "line": {
          "color": "#a2e7f7"
         },
         "name": "UK",
         "showlegend": true,
         "stackgroup": "one",
         "type": "scatter",
         "x": [
          2018,
          2030,
          2035,
          2040,
          2045,
          2050,
          2025
         ],
         "y": [
          4.0933444860689823e-10,
          7.96958159366714,
          18.308037153199706,
          27.424829092165147,
          35.587487847737506,
          41.21699685326959,
          3.877858888831354e-8
         ]
        }
       ],
       "layout": {
        "barmode": "stack",
        "font": {
         "size": 22
        },
        "height": 800,
        "legend": {
         "traceorder": "reversed"
        },
        "template": {
         "data": {
          "bar": [
           {
            "error_x": {
             "color": "#2a3f5f"
            },
            "error_y": {
             "color": "#2a3f5f"
            },
            "marker": {
             "line": {
              "color": "#E5ECF6",
              "width": 0.5
             },
             "pattern": {
              "fillmode": "overlay",
              "size": 10,
              "solidity": 0.2
             }
            },
            "type": "bar"
           }
          ],
          "barpolar": [
           {
            "marker": {
             "line": {
              "color": "#E5ECF6",
              "width": 0.5
             },
             "pattern": {
              "fillmode": "overlay",
              "size": 10,
              "solidity": 0.2
             }
            },
            "type": "barpolar"
           }
          ],
          "carpet": [
           {
            "aaxis": {
             "endlinecolor": "#2a3f5f",
             "gridcolor": "white",
             "linecolor": "white",
             "minorgridcolor": "white",
             "startlinecolor": "#2a3f5f"
            },
            "baxis": {
             "endlinecolor": "#2a3f5f",
             "gridcolor": "white",
             "linecolor": "white",
             "minorgridcolor": "white",
             "startlinecolor": "#2a3f5f"
            },
            "type": "carpet"
           }
          ],
          "choropleth": [
           {
            "colorbar": {
             "outlinewidth": 0,
             "ticks": ""
            },
            "type": "choropleth"
           }
          ],
          "contour": [
           {
            "colorbar": {
             "outlinewidth": 0,
             "ticks": ""
            },
            "colorscale": [
             [
              0,
              "#0d0887"
             ],
             [
              0.1111111111111111,
              "#46039f"
             ],
             [
              0.2222222222222222,
              "#7201a8"
             ],
             [
              0.3333333333333333,
              "#9c179e"
             ],
             [
              0.4444444444444444,
              "#bd3786"
             ],
             [
              0.5555555555555556,
              "#d8576b"
             ],
             [
              0.6666666666666666,
              "#ed7953"
             ],
             [
              0.7777777777777778,
              "#fb9f3a"
             ],
             [
              0.8888888888888888,
              "#fdca26"
             ],
             [
              1,
              "#f0f921"
             ]
            ],
            "type": "contour"
           }
          ],
          "contourcarpet": [
           {
            "colorbar": {
             "outlinewidth": 0,
             "ticks": ""
            },
            "type": "contourcarpet"
           }
          ],
          "heatmap": [
           {
            "colorbar": {
             "outlinewidth": 0,
             "ticks": ""
            },
            "colorscale": [
             [
              0,
              "#0d0887"
             ],
             [
              0.1111111111111111,
              "#46039f"
             ],
             [
              0.2222222222222222,
              "#7201a8"
             ],
             [
              0.3333333333333333,
              "#9c179e"
             ],
             [
              0.4444444444444444,
              "#bd3786"
             ],
             [
              0.5555555555555556,
              "#d8576b"
             ],
             [
              0.6666666666666666,
              "#ed7953"
             ],
             [
              0.7777777777777778,
              "#fb9f3a"
             ],
             [
              0.8888888888888888,
              "#fdca26"
             ],
             [
              1,
              "#f0f921"
             ]
            ],
            "type": "heatmap"
           }
          ],
          "heatmapgl": [
           {
            "colorbar": {
             "outlinewidth": 0,
             "ticks": ""
            },
            "colorscale": [
             [
              0,
              "#0d0887"
             ],
             [
              0.1111111111111111,
              "#46039f"
             ],
             [
              0.2222222222222222,
              "#7201a8"
             ],
             [
              0.3333333333333333,
              "#9c179e"
             ],
             [
              0.4444444444444444,
              "#bd3786"
             ],
             [
              0.5555555555555556,
              "#d8576b"
             ],
             [
              0.6666666666666666,
              "#ed7953"
             ],
             [
              0.7777777777777778,
              "#fb9f3a"
             ],
             [
              0.8888888888888888,
              "#fdca26"
             ],
             [
              1,
              "#f0f921"
             ]
            ],
            "type": "heatmapgl"
           }
          ],
          "histogram": [
           {
            "marker": {
             "pattern": {
              "fillmode": "overlay",
              "size": 10,
              "solidity": 0.2
             }
            },
            "type": "histogram"
           }
          ],
          "histogram2d": [
           {
            "colorbar": {
             "outlinewidth": 0,
             "ticks": ""
            },
            "colorscale": [
             [
              0,
              "#0d0887"
             ],
             [
              0.1111111111111111,
              "#46039f"
             ],
             [
              0.2222222222222222,
              "#7201a8"
             ],
             [
              0.3333333333333333,
              "#9c179e"
             ],
             [
              0.4444444444444444,
              "#bd3786"
             ],
             [
              0.5555555555555556,
              "#d8576b"
             ],
             [
              0.6666666666666666,
              "#ed7953"
             ],
             [
              0.7777777777777778,
              "#fb9f3a"
             ],
             [
              0.8888888888888888,
              "#fdca26"
             ],
             [
              1,
              "#f0f921"
             ]
            ],
            "type": "histogram2d"
           }
          ],
          "histogram2dcontour": [
           {
            "colorbar": {
             "outlinewidth": 0,
             "ticks": ""
            },
            "colorscale": [
             [
              0,
              "#0d0887"
             ],
             [
              0.1111111111111111,
              "#46039f"
             ],
             [
              0.2222222222222222,
              "#7201a8"
             ],
             [
              0.3333333333333333,
              "#9c179e"
             ],
             [
              0.4444444444444444,
              "#bd3786"
             ],
             [
              0.5555555555555556,
              "#d8576b"
             ],
             [
              0.6666666666666666,
              "#ed7953"
             ],
             [
              0.7777777777777778,
              "#fb9f3a"
             ],
             [
              0.8888888888888888,
              "#fdca26"
             ],
             [
              1,
              "#f0f921"
             ]
            ],
            "type": "histogram2dcontour"
           }
          ],
          "mesh3d": [
           {
            "colorbar": {
             "outlinewidth": 0,
             "ticks": ""
            },
            "type": "mesh3d"
           }
          ],
          "parcoords": [
           {
            "line": {
             "colorbar": {
              "outlinewidth": 0,
              "ticks": ""
             }
            },
            "type": "parcoords"
           }
          ],
          "pie": [
           {
            "automargin": true,
            "type": "pie"
           }
          ],
          "scatter": [
           {
            "fillpattern": {
             "fillmode": "overlay",
             "size": 10,
             "solidity": 0.2
            },
            "type": "scatter"
           }
          ],
          "scatter3d": [
           {
            "line": {
             "colorbar": {
              "outlinewidth": 0,
              "ticks": ""
             }
            },
            "marker": {
             "colorbar": {
              "outlinewidth": 0,
              "ticks": ""
             }
            },
            "type": "scatter3d"
           }
          ],
          "scattercarpet": [
           {
            "marker": {
             "colorbar": {
              "outlinewidth": 0,
              "ticks": ""
             }
            },
            "type": "scattercarpet"
           }
          ],
          "scattergeo": [
           {
            "marker": {
             "colorbar": {
              "outlinewidth": 0,
              "ticks": ""
             }
            },
            "type": "scattergeo"
           }
          ],
          "scattergl": [
           {
            "marker": {
             "colorbar": {
              "outlinewidth": 0,
              "ticks": ""
             }
            },
            "type": "scattergl"
           }
          ],
          "scattermapbox": [
           {
            "marker": {
             "colorbar": {
              "outlinewidth": 0,
              "ticks": ""
             }
            },
            "type": "scattermapbox"
           }
          ],
          "scatterpolar": [
           {
            "marker": {
             "colorbar": {
              "outlinewidth": 0,
              "ticks": ""
             }
            },
            "type": "scatterpolar"
           }
          ],
          "scatterpolargl": [
           {
            "marker": {
             "colorbar": {
              "outlinewidth": 0,
              "ticks": ""
             }
            },
            "type": "scatterpolargl"
           }
          ],
          "scatterternary": [
           {
            "marker": {
             "colorbar": {
              "outlinewidth": 0,
              "ticks": ""
             }
            },
            "type": "scatterternary"
           }
          ],
          "surface": [
           {
            "colorbar": {
             "outlinewidth": 0,
             "ticks": ""
            },
            "colorscale": [
             [
              0,
              "#0d0887"
             ],
             [
              0.1111111111111111,
              "#46039f"
             ],
             [
              0.2222222222222222,
              "#7201a8"
             ],
             [
              0.3333333333333333,
              "#9c179e"
             ],
             [
              0.4444444444444444,
              "#bd3786"
             ],
             [
              0.5555555555555556,
              "#d8576b"
             ],
             [
              0.6666666666666666,
              "#ed7953"
             ],
             [
              0.7777777777777778,
              "#fb9f3a"
             ],
             [
              0.8888888888888888,
              "#fdca26"
             ],
             [
              1,
              "#f0f921"
             ]
            ],
            "type": "surface"
           }
          ],
          "table": [
           {
            "cells": {
             "fill": {
              "color": "#EBF0F8"
             },
             "line": {
              "color": "white"
             }
            },
            "header": {
             "fill": {
              "color": "#C8D4E3"
             },
             "line": {
              "color": "white"
             }
            },
            "type": "table"
           }
          ]
         },
         "layout": {
          "annotationdefaults": {
           "arrowcolor": "#2a3f5f",
           "arrowhead": 0,
           "arrowwidth": 1
          },
          "autotypenumbers": "strict",
          "coloraxis": {
           "colorbar": {
            "outlinewidth": 0,
            "ticks": ""
           }
          },
          "colorscale": {
           "diverging": [
            [
             0,
             "#8e0152"
            ],
            [
             0.1,
             "#c51b7d"
            ],
            [
             0.2,
             "#de77ae"
            ],
            [
             0.3,
             "#f1b6da"
            ],
            [
             0.4,
             "#fde0ef"
            ],
            [
             0.5,
             "#f7f7f7"
            ],
            [
             0.6,
             "#e6f5d0"
            ],
            [
             0.7,
             "#b8e186"
            ],
            [
             0.8,
             "#7fbc41"
            ],
            [
             0.9,
             "#4d9221"
            ],
            [
             1,
             "#276419"
            ]
           ],
           "sequential": [
            [
             0,
             "#0d0887"
            ],
            [
             0.1111111111111111,
             "#46039f"
            ],
            [
             0.2222222222222222,
             "#7201a8"
            ],
            [
             0.3333333333333333,
             "#9c179e"
            ],
            [
             0.4444444444444444,
             "#bd3786"
            ],
            [
             0.5555555555555556,
             "#d8576b"
            ],
            [
             0.6666666666666666,
             "#ed7953"
            ],
            [
             0.7777777777777778,
             "#fb9f3a"
            ],
            [
             0.8888888888888888,
             "#fdca26"
            ],
            [
             1,
             "#f0f921"
            ]
           ],
           "sequentialminus": [
            [
             0,
             "#0d0887"
            ],
            [
             0.1111111111111111,
             "#46039f"
            ],
            [
             0.2222222222222222,
             "#7201a8"
            ],
            [
             0.3333333333333333,
             "#9c179e"
            ],
            [
             0.4444444444444444,
             "#bd3786"
            ],
            [
             0.5555555555555556,
             "#d8576b"
            ],
            [
             0.6666666666666666,
             "#ed7953"
            ],
            [
             0.7777777777777778,
             "#fb9f3a"
            ],
            [
             0.8888888888888888,
             "#fdca26"
            ],
            [
             1,
             "#f0f921"
            ]
           ]
          },
          "colorway": [
           "#636efa",
           "#EF553B",
           "#00cc96",
           "#ab63fa",
           "#FFA15A",
           "#19d3f3",
           "#FF6692",
           "#B6E880",
           "#FF97FF",
           "#FECB52"
          ],
          "font": {
           "color": "#2a3f5f"
          },
          "geo": {
           "bgcolor": "white",
           "lakecolor": "white",
           "landcolor": "#E5ECF6",
           "showlakes": true,
           "showland": true,
           "subunitcolor": "white"
          },
          "hoverlabel": {
           "align": "left"
          },
          "hovermode": "closest",
          "mapbox": {
           "style": "light"
          },
          "paper_bgcolor": "white",
          "plot_bgcolor": "#E5ECF6",
          "polar": {
           "angularaxis": {
            "gridcolor": "white",
            "linecolor": "white",
            "ticks": ""
           },
           "bgcolor": "#E5ECF6",
           "radialaxis": {
            "gridcolor": "white",
            "linecolor": "white",
            "ticks": ""
           }
          },
          "scene": {
           "xaxis": {
            "backgroundcolor": "#E5ECF6",
            "gridcolor": "white",
            "gridwidth": 2,
            "linecolor": "white",
            "showbackground": true,
            "ticks": "",
            "zerolinecolor": "white"
           },
           "yaxis": {
            "backgroundcolor": "#E5ECF6",
            "gridcolor": "white",
            "gridwidth": 2,
            "linecolor": "white",
            "showbackground": true,
            "ticks": "",
            "zerolinecolor": "white"
           },
           "zaxis": {
            "backgroundcolor": "#E5ECF6",
            "gridcolor": "white",
            "gridwidth": 2,
            "linecolor": "white",
            "showbackground": true,
            "ticks": "",
            "zerolinecolor": "white"
           }
          },
          "shapedefaults": {
           "line": {
            "color": "#2a3f5f"
           }
          },
          "ternary": {
           "aaxis": {
            "gridcolor": "white",
            "linecolor": "white",
            "ticks": ""
           },
           "baxis": {
            "gridcolor": "white",
            "linecolor": "white",
            "ticks": ""
           },
           "bgcolor": "#E5ECF6",
           "caxis": {
            "gridcolor": "white",
            "linecolor": "white",
            "ticks": ""
           }
          },
          "title": {
           "x": 0.05
          },
          "xaxis": {
           "automargin": true,
           "gridcolor": "white",
           "linecolor": "white",
           "ticks": "",
           "title": {
            "standoff": 15
           },
           "zerolinecolor": "white",
           "zerolinewidth": 2
          },
          "yaxis": {
           "automargin": true,
           "gridcolor": "white",
           "linecolor": "white",
           "ticks": "",
           "title": {
            "standoff": 15
           },
           "zerolinecolor": "white",
           "zerolinewidth": 2
          }
         }
        },
        "title": {
         "text": "Accumulated Storage Capacity District Heat Europe"
        },
        "width": 1400,
        "xaxis": {
         "title": {
          "text": "Year"
         }
        },
        "yaxis": {
         "title": {
          "text": "TWh"
         }
        }
       }
      }
     },
     "metadata": {},
     "output_type": "display_data"
    },
    {
     "name": "stdout",
     "output_type": "stream",
     "text": [
      "Converting from PetaJoules to TerraWattHours\n"
     ]
    },
    {
     "name": "stderr",
     "output_type": "stream",
     "text": [
      "C:\\Users\\mortensv\\AppData\\Local\\Temp\\ipykernel_29752\\1857296959.py:24: SettingWithCopyWarning:\n",
      "\n",
      "\n",
      "A value is trying to be set on a copy of a slice from a DataFrame.\n",
      "Try using .loc[row_indexer,col_indexer] = value instead\n",
      "\n",
      "See the caveats in the documentation: https://pandas.pydata.org/pandas-docs/stable/user_guide/indexing.html#returning-a-view-versus-a-copy\n",
      "\n"
     ]
    },
    {
     "data": {
      "application/vnd.plotly.v1+json": {
       "config": {
        "plotlyServerURL": "https://plot.ly"
       },
       "data": [
        {
         "fillcolor": "#9899e9",
         "legendgroup": "Others",
         "line": {
          "color": "#9899e9"
         },
         "name": "Others",
         "showlegend": true,
         "stackgroup": "one",
         "type": "scatter",
         "x": [
          2040,
          2035,
          2030,
          2025,
          2018,
          2050,
          2045
         ],
         "y": [
          9.57305147253208,
          6.102501767209657,
          3.122944778013286,
          0.20070501760355758,
          2.8775653445564637e-10,
          17.086260650367898,
          13.01520102346065
         ]
        },
        {
         "fillcolor": "#f386fb",
         "legendgroup": "IT",
         "line": {
          "color": "#f386fb"
         },
         "name": "IT",
         "showlegend": true,
         "stackgroup": "one",
         "type": "scatter",
         "x": [
          2018,
          2025,
          2030,
          2035,
          2040,
          2045,
          2050
         ],
         "y": [
          1.14669175061353e-11,
          1.2177690550888432e-9,
          2.9824404225839163e-9,
          0.6803701979411945,
          3.0918191797725547,
          5.85605704050553,
          8.509725386144948
         ]
        },
        {
         "fillcolor": "#b9d7e5",
         "legendgroup": "DE",
         "line": {
          "color": "#b9d7e5"
         },
         "name": "DE",
         "showlegend": true,
         "stackgroup": "one",
         "type": "scatter",
         "x": [
          2050,
          2045,
          2040,
          2025,
          2030,
          2018,
          2035
         ],
         "y": [
          27.575978804810948,
          20.52714170620716,
          13.679337145593863,
          1.0718542386808666e-9,
          1.9750271810343196,
          7.706520498920902e-12,
          7.67337235969345
         ]
        },
        {
         "fillcolor": "#c8f3af",
         "legendgroup": "CZ",
         "line": {
          "color": "#c8f3af"
         },
         "name": "CZ",
         "showlegend": true,
         "stackgroup": "one",
         "type": "scatter",
         "x": [
          2018,
          2025,
          2030,
          2035,
          2040,
          2045,
          2050
         ],
         "y": [
          7.1908748412488815e-12,
          6.109707666660915e-10,
          0.4386936207627517,
          1.3244887838112203,
          2.4475038355722436,
          3.307118296493084,
          4.295400009732555
         ]
        },
        {
         "fillcolor": "#f48cab",
         "legendgroup": "PL",
         "line": {
          "color": "#f48cab"
         },
         "name": "PL",
         "showlegend": true,
         "stackgroup": "one",
         "type": "scatter",
         "x": [
          2050,
          2040,
          2035,
          2030,
          2018,
          2045,
          2025
         ],
         "y": [
          3.6707700139742636,
          2.0230115548710708,
          1.1297840503767898,
          0.17320785534947303,
          1.0549728775326438e-11,
          2.843406712458086,
          1.7512184902200693e-7
         ]
        },
        {
         "fillcolor": "#e3aca2",
         "legendgroup": "FR",
         "line": {
          "color": "#e3aca2"
         },
         "name": "FR",
         "showlegend": true,
         "stackgroup": "one",
         "type": "scatter",
         "x": [
          2040,
          2045,
          2035,
          2050,
          2025,
          2018,
          2030
         ],
         "y": [
          4.662806668847622,
          7.54137567704454,
          1.9592360256573982,
          10.717112753432023,
          5.654628706790244e-10,
          7.582454884052988e-12,
          2.5253802543728306e-9
         ]
        }
       ],
       "layout": {
        "barmode": "stack",
        "font": {
         "size": 22
        },
        "height": 800,
        "legend": {
         "traceorder": "reversed"
        },
        "template": {
         "data": {
          "bar": [
           {
            "error_x": {
             "color": "#2a3f5f"
            },
            "error_y": {
             "color": "#2a3f5f"
            },
            "marker": {
             "line": {
              "color": "#E5ECF6",
              "width": 0.5
             },
             "pattern": {
              "fillmode": "overlay",
              "size": 10,
              "solidity": 0.2
             }
            },
            "type": "bar"
           }
          ],
          "barpolar": [
           {
            "marker": {
             "line": {
              "color": "#E5ECF6",
              "width": 0.5
             },
             "pattern": {
              "fillmode": "overlay",
              "size": 10,
              "solidity": 0.2
             }
            },
            "type": "barpolar"
           }
          ],
          "carpet": [
           {
            "aaxis": {
             "endlinecolor": "#2a3f5f",
             "gridcolor": "white",
             "linecolor": "white",
             "minorgridcolor": "white",
             "startlinecolor": "#2a3f5f"
            },
            "baxis": {
             "endlinecolor": "#2a3f5f",
             "gridcolor": "white",
             "linecolor": "white",
             "minorgridcolor": "white",
             "startlinecolor": "#2a3f5f"
            },
            "type": "carpet"
           }
          ],
          "choropleth": [
           {
            "colorbar": {
             "outlinewidth": 0,
             "ticks": ""
            },
            "type": "choropleth"
           }
          ],
          "contour": [
           {
            "colorbar": {
             "outlinewidth": 0,
             "ticks": ""
            },
            "colorscale": [
             [
              0,
              "#0d0887"
             ],
             [
              0.1111111111111111,
              "#46039f"
             ],
             [
              0.2222222222222222,
              "#7201a8"
             ],
             [
              0.3333333333333333,
              "#9c179e"
             ],
             [
              0.4444444444444444,
              "#bd3786"
             ],
             [
              0.5555555555555556,
              "#d8576b"
             ],
             [
              0.6666666666666666,
              "#ed7953"
             ],
             [
              0.7777777777777778,
              "#fb9f3a"
             ],
             [
              0.8888888888888888,
              "#fdca26"
             ],
             [
              1,
              "#f0f921"
             ]
            ],
            "type": "contour"
           }
          ],
          "contourcarpet": [
           {
            "colorbar": {
             "outlinewidth": 0,
             "ticks": ""
            },
            "type": "contourcarpet"
           }
          ],
          "heatmap": [
           {
            "colorbar": {
             "outlinewidth": 0,
             "ticks": ""
            },
            "colorscale": [
             [
              0,
              "#0d0887"
             ],
             [
              0.1111111111111111,
              "#46039f"
             ],
             [
              0.2222222222222222,
              "#7201a8"
             ],
             [
              0.3333333333333333,
              "#9c179e"
             ],
             [
              0.4444444444444444,
              "#bd3786"
             ],
             [
              0.5555555555555556,
              "#d8576b"
             ],
             [
              0.6666666666666666,
              "#ed7953"
             ],
             [
              0.7777777777777778,
              "#fb9f3a"
             ],
             [
              0.8888888888888888,
              "#fdca26"
             ],
             [
              1,
              "#f0f921"
             ]
            ],
            "type": "heatmap"
           }
          ],
          "heatmapgl": [
           {
            "colorbar": {
             "outlinewidth": 0,
             "ticks": ""
            },
            "colorscale": [
             [
              0,
              "#0d0887"
             ],
             [
              0.1111111111111111,
              "#46039f"
             ],
             [
              0.2222222222222222,
              "#7201a8"
             ],
             [
              0.3333333333333333,
              "#9c179e"
             ],
             [
              0.4444444444444444,
              "#bd3786"
             ],
             [
              0.5555555555555556,
              "#d8576b"
             ],
             [
              0.6666666666666666,
              "#ed7953"
             ],
             [
              0.7777777777777778,
              "#fb9f3a"
             ],
             [
              0.8888888888888888,
              "#fdca26"
             ],
             [
              1,
              "#f0f921"
             ]
            ],
            "type": "heatmapgl"
           }
          ],
          "histogram": [
           {
            "marker": {
             "pattern": {
              "fillmode": "overlay",
              "size": 10,
              "solidity": 0.2
             }
            },
            "type": "histogram"
           }
          ],
          "histogram2d": [
           {
            "colorbar": {
             "outlinewidth": 0,
             "ticks": ""
            },
            "colorscale": [
             [
              0,
              "#0d0887"
             ],
             [
              0.1111111111111111,
              "#46039f"
             ],
             [
              0.2222222222222222,
              "#7201a8"
             ],
             [
              0.3333333333333333,
              "#9c179e"
             ],
             [
              0.4444444444444444,
              "#bd3786"
             ],
             [
              0.5555555555555556,
              "#d8576b"
             ],
             [
              0.6666666666666666,
              "#ed7953"
             ],
             [
              0.7777777777777778,
              "#fb9f3a"
             ],
             [
              0.8888888888888888,
              "#fdca26"
             ],
             [
              1,
              "#f0f921"
             ]
            ],
            "type": "histogram2d"
           }
          ],
          "histogram2dcontour": [
           {
            "colorbar": {
             "outlinewidth": 0,
             "ticks": ""
            },
            "colorscale": [
             [
              0,
              "#0d0887"
             ],
             [
              0.1111111111111111,
              "#46039f"
             ],
             [
              0.2222222222222222,
              "#7201a8"
             ],
             [
              0.3333333333333333,
              "#9c179e"
             ],
             [
              0.4444444444444444,
              "#bd3786"
             ],
             [
              0.5555555555555556,
              "#d8576b"
             ],
             [
              0.6666666666666666,
              "#ed7953"
             ],
             [
              0.7777777777777778,
              "#fb9f3a"
             ],
             [
              0.8888888888888888,
              "#fdca26"
             ],
             [
              1,
              "#f0f921"
             ]
            ],
            "type": "histogram2dcontour"
           }
          ],
          "mesh3d": [
           {
            "colorbar": {
             "outlinewidth": 0,
             "ticks": ""
            },
            "type": "mesh3d"
           }
          ],
          "parcoords": [
           {
            "line": {
             "colorbar": {
              "outlinewidth": 0,
              "ticks": ""
             }
            },
            "type": "parcoords"
           }
          ],
          "pie": [
           {
            "automargin": true,
            "type": "pie"
           }
          ],
          "scatter": [
           {
            "fillpattern": {
             "fillmode": "overlay",
             "size": 10,
             "solidity": 0.2
            },
            "type": "scatter"
           }
          ],
          "scatter3d": [
           {
            "line": {
             "colorbar": {
              "outlinewidth": 0,
              "ticks": ""
             }
            },
            "marker": {
             "colorbar": {
              "outlinewidth": 0,
              "ticks": ""
             }
            },
            "type": "scatter3d"
           }
          ],
          "scattercarpet": [
           {
            "marker": {
             "colorbar": {
              "outlinewidth": 0,
              "ticks": ""
             }
            },
            "type": "scattercarpet"
           }
          ],
          "scattergeo": [
           {
            "marker": {
             "colorbar": {
              "outlinewidth": 0,
              "ticks": ""
             }
            },
            "type": "scattergeo"
           }
          ],
          "scattergl": [
           {
            "marker": {
             "colorbar": {
              "outlinewidth": 0,
              "ticks": ""
             }
            },
            "type": "scattergl"
           }
          ],
          "scattermapbox": [
           {
            "marker": {
             "colorbar": {
              "outlinewidth": 0,
              "ticks": ""
             }
            },
            "type": "scattermapbox"
           }
          ],
          "scatterpolar": [
           {
            "marker": {
             "colorbar": {
              "outlinewidth": 0,
              "ticks": ""
             }
            },
            "type": "scatterpolar"
           }
          ],
          "scatterpolargl": [
           {
            "marker": {
             "colorbar": {
              "outlinewidth": 0,
              "ticks": ""
             }
            },
            "type": "scatterpolargl"
           }
          ],
          "scatterternary": [
           {
            "marker": {
             "colorbar": {
              "outlinewidth": 0,
              "ticks": ""
             }
            },
            "type": "scatterternary"
           }
          ],
          "surface": [
           {
            "colorbar": {
             "outlinewidth": 0,
             "ticks": ""
            },
            "colorscale": [
             [
              0,
              "#0d0887"
             ],
             [
              0.1111111111111111,
              "#46039f"
             ],
             [
              0.2222222222222222,
              "#7201a8"
             ],
             [
              0.3333333333333333,
              "#9c179e"
             ],
             [
              0.4444444444444444,
              "#bd3786"
             ],
             [
              0.5555555555555556,
              "#d8576b"
             ],
             [
              0.6666666666666666,
              "#ed7953"
             ],
             [
              0.7777777777777778,
              "#fb9f3a"
             ],
             [
              0.8888888888888888,
              "#fdca26"
             ],
             [
              1,
              "#f0f921"
             ]
            ],
            "type": "surface"
           }
          ],
          "table": [
           {
            "cells": {
             "fill": {
              "color": "#EBF0F8"
             },
             "line": {
              "color": "white"
             }
            },
            "header": {
             "fill": {
              "color": "#C8D4E3"
             },
             "line": {
              "color": "white"
             }
            },
            "type": "table"
           }
          ]
         },
         "layout": {
          "annotationdefaults": {
           "arrowcolor": "#2a3f5f",
           "arrowhead": 0,
           "arrowwidth": 1
          },
          "autotypenumbers": "strict",
          "coloraxis": {
           "colorbar": {
            "outlinewidth": 0,
            "ticks": ""
           }
          },
          "colorscale": {
           "diverging": [
            [
             0,
             "#8e0152"
            ],
            [
             0.1,
             "#c51b7d"
            ],
            [
             0.2,
             "#de77ae"
            ],
            [
             0.3,
             "#f1b6da"
            ],
            [
             0.4,
             "#fde0ef"
            ],
            [
             0.5,
             "#f7f7f7"
            ],
            [
             0.6,
             "#e6f5d0"
            ],
            [
             0.7,
             "#b8e186"
            ],
            [
             0.8,
             "#7fbc41"
            ],
            [
             0.9,
             "#4d9221"
            ],
            [
             1,
             "#276419"
            ]
           ],
           "sequential": [
            [
             0,
             "#0d0887"
            ],
            [
             0.1111111111111111,
             "#46039f"
            ],
            [
             0.2222222222222222,
             "#7201a8"
            ],
            [
             0.3333333333333333,
             "#9c179e"
            ],
            [
             0.4444444444444444,
             "#bd3786"
            ],
            [
             0.5555555555555556,
             "#d8576b"
            ],
            [
             0.6666666666666666,
             "#ed7953"
            ],
            [
             0.7777777777777778,
             "#fb9f3a"
            ],
            [
             0.8888888888888888,
             "#fdca26"
            ],
            [
             1,
             "#f0f921"
            ]
           ],
           "sequentialminus": [
            [
             0,
             "#0d0887"
            ],
            [
             0.1111111111111111,
             "#46039f"
            ],
            [
             0.2222222222222222,
             "#7201a8"
            ],
            [
             0.3333333333333333,
             "#9c179e"
            ],
            [
             0.4444444444444444,
             "#bd3786"
            ],
            [
             0.5555555555555556,
             "#d8576b"
            ],
            [
             0.6666666666666666,
             "#ed7953"
            ],
            [
             0.7777777777777778,
             "#fb9f3a"
            ],
            [
             0.8888888888888888,
             "#fdca26"
            ],
            [
             1,
             "#f0f921"
            ]
           ]
          },
          "colorway": [
           "#636efa",
           "#EF553B",
           "#00cc96",
           "#ab63fa",
           "#FFA15A",
           "#19d3f3",
           "#FF6692",
           "#B6E880",
           "#FF97FF",
           "#FECB52"
          ],
          "font": {
           "color": "#2a3f5f"
          },
          "geo": {
           "bgcolor": "white",
           "lakecolor": "white",
           "landcolor": "#E5ECF6",
           "showlakes": true,
           "showland": true,
           "subunitcolor": "white"
          },
          "hoverlabel": {
           "align": "left"
          },
          "hovermode": "closest",
          "mapbox": {
           "style": "light"
          },
          "paper_bgcolor": "white",
          "plot_bgcolor": "#E5ECF6",
          "polar": {
           "angularaxis": {
            "gridcolor": "white",
            "linecolor": "white",
            "ticks": ""
           },
           "bgcolor": "#E5ECF6",
           "radialaxis": {
            "gridcolor": "white",
            "linecolor": "white",
            "ticks": ""
           }
          },
          "scene": {
           "xaxis": {
            "backgroundcolor": "#E5ECF6",
            "gridcolor": "white",
            "gridwidth": 2,
            "linecolor": "white",
            "showbackground": true,
            "ticks": "",
            "zerolinecolor": "white"
           },
           "yaxis": {
            "backgroundcolor": "#E5ECF6",
            "gridcolor": "white",
            "gridwidth": 2,
            "linecolor": "white",
            "showbackground": true,
            "ticks": "",
            "zerolinecolor": "white"
           },
           "zaxis": {
            "backgroundcolor": "#E5ECF6",
            "gridcolor": "white",
            "gridwidth": 2,
            "linecolor": "white",
            "showbackground": true,
            "ticks": "",
            "zerolinecolor": "white"
           }
          },
          "shapedefaults": {
           "line": {
            "color": "#2a3f5f"
           }
          },
          "ternary": {
           "aaxis": {
            "gridcolor": "white",
            "linecolor": "white",
            "ticks": ""
           },
           "baxis": {
            "gridcolor": "white",
            "linecolor": "white",
            "ticks": ""
           },
           "bgcolor": "#E5ECF6",
           "caxis": {
            "gridcolor": "white",
            "linecolor": "white",
            "ticks": ""
           }
          },
          "title": {
           "x": 0.05
          },
          "xaxis": {
           "automargin": true,
           "gridcolor": "white",
           "linecolor": "white",
           "ticks": "",
           "title": {
            "standoff": 15
           },
           "zerolinecolor": "white",
           "zerolinewidth": 2
          },
          "yaxis": {
           "automargin": true,
           "gridcolor": "white",
           "linecolor": "white",
           "ticks": "",
           "title": {
            "standoff": 15
           },
           "zerolinecolor": "white",
           "zerolinewidth": 2
          }
         }
        },
        "title": {
         "text": "Accumulated Storage Capacity District Heat Europe"
        },
        "width": 1400,
        "xaxis": {
         "title": {
          "text": "Year"
         }
        },
        "yaxis": {
         "title": {
          "text": "TWh"
         }
        }
       }
      }
     },
     "metadata": {},
     "output_type": "display_data"
    }
   ],
   "source": [
    "#stacked_accumulated_energy(DAILY_DATA, region=REGION, title_addon=\"Daily\", write_fig=WRITE_FIGS)[0].show()\n",
    "stacked_accumulated_energy(SEASON_DATA, region=REGION, title_addon=\"\", write_fig=WRITE_FIGS).show()\n",
    "stacked_accumulated_energy(EXPENSIVE_HLDH, region=REGION, title_addon=\"Expensive\", write_fig=WRITE_FIGS).show()"
   ]
  },
  {
   "cell_type": "markdown",
   "metadata": {},
   "source": [
    "# Pie plots for electricity / power"
   ]
  },
  {
   "cell_type": "code",
   "execution_count": 297,
   "metadata": {},
   "outputs": [],
   "source": [
    "def power_pie_plot(sol_path: str) -> go.Figure:\n",
    "\n",
    "    # Pie plot for electronics\n",
    "    data_prod_by_tech = dp.DataProcessor(sol_paths={\"anonym\": sol_path}, type_of_data_to_read=\"ProductionByTechnologyAnnual\")\n",
    "    data_p = dp.DataProcessor(sol_paths={\"anonym\": sol_path}, type_of_data_to_read=\"TotalCapacityAnnual\")\n",
    "\n",
    "    # Look at 2050\n",
    "    data_p.filter_by_identifier(column=\"Year\", identifier=2050)\n",
    "\n",
    "    # Remove all that starts with \"D_\"\n",
    "    data_p.df = data_p.df[~data_p.df[\"Technology\"].str.startswith(\"D_\")]\n",
    "\n",
    "    # Keep those over 0\n",
    "    data_p.df = data_p.df[data_p.df[\"Value\"] > 0]\n",
    "\n",
    "    # Aggregate by technology according to the aggregation\n",
    "    #print(\"Length before aggregation\", len(data_p.df))\n",
    "    #data_p.aggregate_by_sum(column_to_sum=\"Value\", groups_memberships=AGGREGATION)\n",
    "    #data_prod_by_tech.show_example_rows(5)\n",
    "    #print(data_prod_by_tech.df[\"Fuel\"].unique())\n",
    "    #data_prod_by_tech.filter_by_identifier(column=\"Fuel\", identifier=\"Heat_District\")\n",
    "    #data_prod_by_tech.filter_by_identifier(column=\"Fuel\", identifier=\"Heat_Low_Building\")\n",
    "    #data_prod_by_tech.filter_by_identifier(column=\"Fuel\", identifier=\"L\")\n",
    "    #data_prod_by_tech.show_example_rows(5)\n",
    "    data_prod_by_tech.filter_by_identifier(column=\"Fuel\", identifier=\"Power\")\n",
    "    data_prod_by_tech.df = data_prod_by_tech.df[data_prod_by_tech.df[\"Value\"] > 0]\n",
    "    #data_prod_by_tech.show_example_rows(5)\n",
    "    techs = list(data_prod_by_tech.df[\"Technology\"].unique())\n",
    "\n",
    "    data_p.filter_by_list(column=\"Technology\", identifier_list=techs)\n",
    "\n",
    "    data_p.aggregate_by_sum_function(column_to_change=\"Technology\", column_to_sum=\"Value\", function=aggregator)\n",
    "\n",
    "    # Create color list\n",
    "    color_list = [my_color_generator(tech) for tech in data_p.df[\"Technology\"]]\n",
    "\n",
    "    # Make a pie plot\n",
    "    fig = go.Figure(data=[go.Pie(labels=data_p.df[\"Technology\"], values=data_p.df[\"Value\"], \n",
    "                                 textposition='inside', textinfo='percent+label',\n",
    "                                 textfont=dict(size=24),\n",
    "                                 marker=dict(colors=color_list))])\n",
    "\n",
    "    # Loop labels, and change the color of the pie\n",
    "    #color_gen = my_color_generator()\n",
    "    #for i, label in enumerate(fig.data[0].labels):\n",
    "    #    fig.data[0].marker.colors += [my_color_generator(label)]\n",
    "\n",
    "    fig.update_layout(\n",
    "        title=\"Power Capacity (Energy / Time) 2050\",\n",
    "        width=900,\n",
    "        height=800\n",
    "    )\n",
    "\n",
    "    return fig"
   ]
  },
  {
   "cell_type": "code",
   "execution_count": 298,
   "metadata": {},
   "outputs": [
    {
     "name": "stdout",
     "output_type": "stream",
     "text": [
      "Converting from PetaJoules to TerraWattHours\n",
      "No unit conversion applied!\n"
     ]
    },
    {
     "data": {
      "application/vnd.plotly.v1+json": {
       "config": {
        "plotlyServerURL": "https://plot.ly"
       },
       "data": [
        {
         "labels": [
          "Biomass",
          "Biomass",
          "Biomass",
          "Biomass",
          "Biomass",
          "Biomass",
          "Biomass",
          "Biomass",
          "Biomass",
          "Biomass",
          "Biomass",
          "Biomass",
          "Biomass",
          "Biomass",
          "Biomass",
          "Biomass",
          "Biomass",
          "Biomass",
          "Biomass",
          "Biomass",
          "Biomass",
          "Biomass",
          "Biomass",
          "Biomass",
          "Biomass",
          "Biomass",
          "Biomass",
          "Biomass",
          "Biomass",
          "Biomass",
          "Coal",
          "Coal",
          "Coal",
          "Coal",
          "Coal",
          "Coal",
          "Coal",
          "Coal",
          "Coal",
          "Coal",
          "Coal",
          "Coal",
          "Coal",
          "Coal",
          "Coal",
          "Coal",
          "Coal",
          "Coal",
          "Coal",
          "Coal",
          "Coal",
          "Coal",
          "Coal",
          "Coal",
          "Coal",
          "Coal",
          "Coal",
          "Coal",
          "Coal",
          "Coal",
          "Gas",
          "Gas",
          "Gas",
          "Gas",
          "Gas",
          "Gas",
          "Gas",
          "Gas",
          "Gas",
          "Gas",
          "Gas",
          "Gas",
          "Gas",
          "Gas",
          "Gas",
          "Gas",
          "Gas",
          "Gas",
          "Gas",
          "Gas",
          "Gas",
          "Gas",
          "Gas",
          "Gas",
          "Gas",
          "Gas",
          "Gas",
          "Gas",
          "Gas",
          "Gas",
          "Hydrogen",
          "Hydrogen",
          "Hydrogen",
          "Hydrogen",
          "Hydrogen",
          "Hydrogen",
          "Hydrogen",
          "Hydrogen",
          "Hydrogen",
          "Hydrogen",
          "Hydrogen",
          "Hydrogen",
          "Hydrogen",
          "Hydrogen",
          "Hydrogen",
          "Hydrogen",
          "Hydrogen",
          "Hydrogen",
          "Hydrogen",
          "Hydrogen",
          "Hydrogen",
          "Hydrogen",
          "Hydrogen",
          "Hydrogen",
          "Hydrogen",
          "Hydrogen",
          "Hydrogen",
          "Hydrogen",
          "Hydrogen",
          "Hydrogen",
          "Oil",
          "Oil",
          "Oil",
          "Oil",
          "Oil",
          "Oil",
          "Oil",
          "Oil",
          "Oil",
          "Oil",
          "Oil",
          "Oil",
          "Oil",
          "Oil",
          "Oil",
          "Oil",
          "Oil",
          "Oil",
          "Oil",
          "Oil",
          "Oil",
          "Oil",
          "Oil",
          "Oil",
          "Oil",
          "Oil",
          "Oil",
          "Oil",
          "Oil",
          "Oil",
          "Others",
          "Others",
          "Others",
          "Others",
          "Others",
          "Others",
          "Others",
          "Others",
          "Others",
          "Others",
          "Others",
          "Others",
          "Others",
          "Others",
          "Others",
          "Others",
          "Others",
          "Others",
          "Others",
          "Others",
          "Others",
          "Others",
          "Others",
          "Others",
          "Others",
          "Others",
          "Others",
          "Others",
          "Others",
          "Others",
          "Renewables",
          "Renewables",
          "Renewables",
          "Renewables",
          "Renewables",
          "Renewables",
          "Renewables",
          "Renewables",
          "Renewables",
          "Renewables",
          "Renewables",
          "Renewables",
          "Renewables",
          "Renewables",
          "Renewables",
          "Renewables",
          "Renewables",
          "Renewables",
          "Renewables",
          "Renewables",
          "Renewables",
          "Renewables",
          "Renewables",
          "Renewables",
          "Renewables",
          "Renewables",
          "Renewables",
          "Renewables",
          "Renewables",
          "Renewables",
          "Solar",
          "Solar",
          "Solar",
          "Solar",
          "Solar",
          "Solar",
          "Solar",
          "Solar",
          "Solar",
          "Solar",
          "Solar",
          "Solar",
          "Solar",
          "Solar",
          "Solar",
          "Solar",
          "Solar",
          "Solar",
          "Solar",
          "Solar",
          "Solar",
          "Solar",
          "Solar",
          "Solar",
          "Solar",
          "Solar",
          "Solar",
          "Solar",
          "Solar",
          "Solar",
          "Wind",
          "Wind",
          "Wind",
          "Wind",
          "Wind",
          "Wind",
          "Wind",
          "Wind",
          "Wind",
          "Wind",
          "Wind",
          "Wind",
          "Wind",
          "Wind",
          "Wind",
          "Wind",
          "Wind",
          "Wind",
          "Wind",
          "Wind",
          "Wind",
          "Wind",
          "Wind",
          "Wind",
          "Wind",
          "Wind",
          "Wind",
          "Wind",
          "Wind",
          "Wind"
         ],
         "marker": {
          "colors": [
           "#ef8e94",
           "#ef8e94",
           "#ef8e94",
           "#ef8e94",
           "#ef8e94",
           "#ef8e94",
           "#ef8e94",
           "#ef8e94",
           "#ef8e94",
           "#ef8e94",
           "#ef8e94",
           "#ef8e94",
           "#ef8e94",
           "#ef8e94",
           "#ef8e94",
           "#ef8e94",
           "#ef8e94",
           "#ef8e94",
           "#ef8e94",
           "#ef8e94",
           "#ef8e94",
           "#ef8e94",
           "#ef8e94",
           "#ef8e94",
           "#ef8e94",
           "#ef8e94",
           "#ef8e94",
           "#ef8e94",
           "#ef8e94",
           "#ef8e94",
           "#f7e1ed",
           "#f7e1ed",
           "#f7e1ed",
           "#f7e1ed",
           "#f7e1ed",
           "#f7e1ed",
           "#f7e1ed",
           "#f7e1ed",
           "#f7e1ed",
           "#f7e1ed",
           "#f7e1ed",
           "#f7e1ed",
           "#f7e1ed",
           "#f7e1ed",
           "#f7e1ed",
           "#f7e1ed",
           "#f7e1ed",
           "#f7e1ed",
           "#f7e1ed",
           "#f7e1ed",
           "#f7e1ed",
           "#f7e1ed",
           "#f7e1ed",
           "#f7e1ed",
           "#f7e1ed",
           "#f7e1ed",
           "#f7e1ed",
           "#f7e1ed",
           "#f7e1ed",
           "#f7e1ed",
           "#d6cac0",
           "#d6cac0",
           "#d6cac0",
           "#d6cac0",
           "#d6cac0",
           "#d6cac0",
           "#d6cac0",
           "#d6cac0",
           "#d6cac0",
           "#d6cac0",
           "#d6cac0",
           "#d6cac0",
           "#d6cac0",
           "#d6cac0",
           "#d6cac0",
           "#d6cac0",
           "#d6cac0",
           "#d6cac0",
           "#d6cac0",
           "#d6cac0",
           "#d6cac0",
           "#d6cac0",
           "#d6cac0",
           "#d6cac0",
           "#d6cac0",
           "#d6cac0",
           "#d6cac0",
           "#d6cac0",
           "#d6cac0",
           "#d6cac0",
           "#a1e3bc",
           "#a1e3bc",
           "#a1e3bc",
           "#a1e3bc",
           "#a1e3bc",
           "#a1e3bc",
           "#a1e3bc",
           "#a1e3bc",
           "#a1e3bc",
           "#a1e3bc",
           "#a1e3bc",
           "#a1e3bc",
           "#a1e3bc",
           "#a1e3bc",
           "#a1e3bc",
           "#a1e3bc",
           "#a1e3bc",
           "#a1e3bc",
           "#a1e3bc",
           "#a1e3bc",
           "#a1e3bc",
           "#a1e3bc",
           "#a1e3bc",
           "#a1e3bc",
           "#a1e3bc",
           "#a1e3bc",
           "#a1e3bc",
           "#a1e3bc",
           "#a1e3bc",
           "#a1e3bc",
           "#93ceb9",
           "#93ceb9",
           "#93ceb9",
           "#93ceb9",
           "#93ceb9",
           "#93ceb9",
           "#93ceb9",
           "#93ceb9",
           "#93ceb9",
           "#93ceb9",
           "#93ceb9",
           "#93ceb9",
           "#93ceb9",
           "#93ceb9",
           "#93ceb9",
           "#93ceb9",
           "#93ceb9",
           "#93ceb9",
           "#93ceb9",
           "#93ceb9",
           "#93ceb9",
           "#93ceb9",
           "#93ceb9",
           "#93ceb9",
           "#93ceb9",
           "#93ceb9",
           "#93ceb9",
           "#93ceb9",
           "#93ceb9",
           "#93ceb9",
           "#9899e9",
           "#9899e9",
           "#9899e9",
           "#9899e9",
           "#9899e9",
           "#9899e9",
           "#9899e9",
           "#9899e9",
           "#9899e9",
           "#9899e9",
           "#9899e9",
           "#9899e9",
           "#9899e9",
           "#9899e9",
           "#9899e9",
           "#9899e9",
           "#9899e9",
           "#9899e9",
           "#9899e9",
           "#9899e9",
           "#9899e9",
           "#9899e9",
           "#9899e9",
           "#9899e9",
           "#9899e9",
           "#9899e9",
           "#9899e9",
           "#9899e9",
           "#9899e9",
           "#9899e9",
           "#e6daa8",
           "#e6daa8",
           "#e6daa8",
           "#e6daa8",
           "#e6daa8",
           "#e6daa8",
           "#e6daa8",
           "#e6daa8",
           "#e6daa8",
           "#e6daa8",
           "#e6daa8",
           "#e6daa8",
           "#e6daa8",
           "#e6daa8",
           "#e6daa8",
           "#e6daa8",
           "#e6daa8",
           "#e6daa8",
           "#e6daa8",
           "#e6daa8",
           "#e6daa8",
           "#e6daa8",
           "#e6daa8",
           "#e6daa8",
           "#e6daa8",
           "#e6daa8",
           "#e6daa8",
           "#e6daa8",
           "#e6daa8",
           "#e6daa8",
           "#fad1a7",
           "#fad1a7",
           "#fad1a7",
           "#fad1a7",
           "#fad1a7",
           "#fad1a7",
           "#fad1a7",
           "#fad1a7",
           "#fad1a7",
           "#fad1a7",
           "#fad1a7",
           "#fad1a7",
           "#fad1a7",
           "#fad1a7",
           "#fad1a7",
           "#fad1a7",
           "#fad1a7",
           "#fad1a7",
           "#fad1a7",
           "#fad1a7",
           "#fad1a7",
           "#fad1a7",
           "#fad1a7",
           "#fad1a7",
           "#fad1a7",
           "#fad1a7",
           "#fad1a7",
           "#fad1a7",
           "#fad1a7",
           "#fad1a7",
           "#c1abe7",
           "#c1abe7",
           "#c1abe7",
           "#c1abe7",
           "#c1abe7",
           "#c1abe7",
           "#c1abe7",
           "#c1abe7",
           "#c1abe7",
           "#c1abe7",
           "#c1abe7",
           "#c1abe7",
           "#c1abe7",
           "#c1abe7",
           "#c1abe7",
           "#c1abe7",
           "#c1abe7",
           "#c1abe7",
           "#c1abe7",
           "#c1abe7",
           "#c1abe7",
           "#c1abe7",
           "#c1abe7",
           "#c1abe7",
           "#c1abe7",
           "#c1abe7",
           "#c1abe7",
           "#c1abe7",
           "#c1abe7",
           "#c1abe7"
          ]
         },
         "textfont": {
          "size": 24
         },
         "textinfo": "percent+label",
         "textposition": "inside",
         "type": "pie",
         "values": [
          1.5334967679705152,
          0.40921990285138843,
          0.10870548057447699,
          0.10669463978054934,
          1.0508966983573769,
          13.239667796778889,
          2.1030217359877335,
          0.10264412524259674,
          0.3366504049006176,
          1.789581181235289,
          2.369270748757786,
          0.007317541741478726,
          0.03209156082090521,
          0.6063438613666834,
          0.021759508405189407,
          2.578203328444363,
          0.1143986731736027,
          0.08746429041859904,
          0.47004695453432566,
          1.3222948096780645,
          0.05844653472369977,
          0.15847948723347074,
          0.2931407312623613,
          0.14610391145603036,
          0.1264907653230852,
          1.7624295245613832,
          0.015915877083603633,
          0.45877893286997573,
          5.661373883480877,
          1.8561247770724223,
          0.01146498153132122,
          4.481910178975297e-7,
          0.7894241152115304,
          1.723082498341406e-7,
          0.1797155105333286,
          3.801000547043722,
          4.726387697481354e-7,
          4.5202299174038683e-7,
          4.462664491075205e-7,
          4.531856025345363e-7,
          4.575231208774893e-7,
          5.616460428011077e-7,
          6.193115143943504e-7,
          8.532683312182987e-7,
          4.1290507409775224e-7,
          1.7052257493755705,
          1.3472923112736501e-7,
          1.6487274572683968e-7,
          1.759552222230411e-7,
          0.9305386070909525,
          1.393518535640053e-7,
          8.404000291645767,
          1.9172846458224577,
          4.707781332345571e-7,
          8.328952864547986e-7,
          4.3265002733397275e-7,
          8.357509181194235e-7,
          8.368140528478657e-7,
          1.3890976770978,
          4.589045425671494e-7,
          19.939648085434182,
          27.7600652919021,
          10.627202329612405,
          12.952933821434174,
          25.811529362112612,
          166.9715410696707,
          8.978005512590167,
          3.2469346075473577,
          61.626799898741204,
          15.708469474756285,
          123.19600220533401,
          7.947431215223561,
          3.7772264304069947,
          13.043238344217988,
          9.10694990830887,
          88.77538605804959,
          3.1193540950456313,
          1.759450567497849,
          2.4402649783448744,
          30.783809370024095,
          13.136450628198098,
          2.9702708627907386,
          66.34024609609152,
          11.311993211834462,
          16.55342831222355,
          38.88154714854265,
          5.524776010199717,
          11.053047981435162,
          129.47710274595786,
          89.77830409742269,
          8.266596115881845e-8,
          8.141173733953019e-8,
          8.161369491812722e-8,
          8.090414445865942e-8,
          8.812137864006025e-8,
          8.863082791920994e-8,
          8.19877598699735e-8,
          8.008867024598835e-8,
          8.638318656274027e-8,
          8.003631762637097e-8,
          7.92169826316803e-8,
          9.270717417529152e-8,
          9.160429315235843e-8,
          8.686079475417693e-8,
          8.70048590678103e-8,
          8.868542925203965e-8,
          8.12531308580819e-8,
          7.868673593208886e-8,
          8.736014745132982e-8,
          8.84190013966093e-8,
          7.50955476194246e-8,
          8.606434054776903e-8,
          9.079165362426201e-8,
          8.179796745475198e-8,
          8.669325240094075e-8,
          8.595078374615043e-8,
          8.865553981525471e-8,
          8.97313358320583e-8,
          8.936707471519582e-8,
          8.148626083448438e-8,
          0.0000033387705572528156,
          0.0000029123334805220077,
          0.000001121640352576382,
          0.0000031963168004016064,
          0.010289510842369367,
          0.08380070425718775,
          0.0000033413290393291092,
          0.0000028271202381270515,
          0.000003075030277855641,
          0.27015506147329316,
          0.06850794066018567,
          0.0000032277077399430876,
          0.0000034127110847444678,
          0.000003396139832831278,
          0.0000016240237135522894,
          0.0019486972518357776,
          9.790180165395062e-7,
          0.000002756139725835555,
          0.0000033913271569680306,
          0.000003117074843516722,
          3.2512003684531904e-7,
          0.19800051769750976,
          0.00000318021760901612,
          0.0000032921211599834273,
          0.0000029713653105718173,
          0.000002562527867027848,
          0.0000029331846113052837,
          0.06874812085686319,
          0.0000028866397691806393,
          0.019363753993951717,
          0.0000026209101952198872,
          0.00000334280814453285,
          0.0000015030462290999687,
          0.0000028640451621121067,
          1.952286988669939,
          0.000002548222761577518,
          0.000002643171540307306,
          0.0000023102805404466242,
          0.00000236277006054414,
          6.122446718625295,
          25.00000205231757,
          0.000003033760361678355,
          0.0000026655898332499927,
          0.000002477349939634497,
          0.0000022911261159769525,
          0.0000025369085071712928,
          0.0000016320790376327968,
          0.0000029380442498838805,
          0.0000025827158730141727,
          0.000004444068204029064,
          0.000001489456017383198,
          0.0000024061901036523773,
          0.000006438916770154033,
          0.0000026556788183577866,
          3.652610408973396,
          0.0000028369620280874888,
          0.0000032902288983310356,
          0.0000025576972796013816,
          0.000003971592163412603,
          0.0000026569827154462583,
          18.715995798974973,
          14.069515339210625,
          4.201405607989777,
          22.347333378892078,
          4.540389864565867,
          52.2912575764774,
          2.512955421761183,
          1.120837740162791,
          95.44660376535118,
          13.787905114082672,
          31.846838207178166,
          3.7196192721702928,
          8.015873703001768,
          1.6462061357240187,
          3.179816923451778,
          43.41276609209028,
          1.1572671745675627,
          1.7144135248563406,
          6.1346416972416336,
          15.739433804459535,
          32.94900143927392,
          9.185775527037677,
          14.056740883123272,
          18.20541095514616,
          15.285072601472644,
          40.827457195449256,
          1.253002467699079,
          2.5498820107589513,
          26.500000088833083,
          46.70736089186557,
          18.41489970802089,
          12.22717441550055,
          4.608855438459307,
          23.681982072007614,
          17.791462690504854,
          140.66209973942887,
          0.48801280859951246,
          0.0007815021448693751,
          23.352743032634084,
          0.030399350386516782,
          21.945534926092115,
          53.01293167617295,
          3.0705517943713425,
          3.8326849900598843,
          7.168841993931373,
          96.32982342652906,
          0.03268200622904722,
          1.8576516498322784,
          0.000005048528938116972,
          13.39550176028929,
          0.00000617747410252565,
          10.91326052412692,
          40.9831722092922,
          0.5210482385172264,
          0.9204831608563792,
          0.320140435696519,
          3.7817844459439165,
          8.32432239335069,
          229.58055289200686,
          48.751228881683986,
          11.492688471489762,
          11.131121049605948,
          0.4069067232202422,
          0.024951294119881753,
          0.2127251543880305,
          88.40010615326393,
          6.36597940068681,
          1.6966210302944238,
          24.179466831714954,
          3.168368188331217,
          31.519852009983346,
          6.295502834685793,
          0.26674298626447074,
          2.0512917425849273,
          6.70920776435752,
          3.280582043545866,
          1.2591457185792223,
          0.03946146230125798,
          1.936775146923609,
          5.495332968581182,
          8.357291776187525,
          4.199188623375227,
          7.60629445658306,
          6.752281349512526,
          4.078193449315717,
          3.1309356739391143,
          0.004770137892630934,
          0.0015653103701674062,
          5.37874429664752,
          102.27879431542915
         ]
        }
       ],
       "layout": {
        "height": 800,
        "template": {
         "data": {
          "bar": [
           {
            "error_x": {
             "color": "#2a3f5f"
            },
            "error_y": {
             "color": "#2a3f5f"
            },
            "marker": {
             "line": {
              "color": "#E5ECF6",
              "width": 0.5
             },
             "pattern": {
              "fillmode": "overlay",
              "size": 10,
              "solidity": 0.2
             }
            },
            "type": "bar"
           }
          ],
          "barpolar": [
           {
            "marker": {
             "line": {
              "color": "#E5ECF6",
              "width": 0.5
             },
             "pattern": {
              "fillmode": "overlay",
              "size": 10,
              "solidity": 0.2
             }
            },
            "type": "barpolar"
           }
          ],
          "carpet": [
           {
            "aaxis": {
             "endlinecolor": "#2a3f5f",
             "gridcolor": "white",
             "linecolor": "white",
             "minorgridcolor": "white",
             "startlinecolor": "#2a3f5f"
            },
            "baxis": {
             "endlinecolor": "#2a3f5f",
             "gridcolor": "white",
             "linecolor": "white",
             "minorgridcolor": "white",
             "startlinecolor": "#2a3f5f"
            },
            "type": "carpet"
           }
          ],
          "choropleth": [
           {
            "colorbar": {
             "outlinewidth": 0,
             "ticks": ""
            },
            "type": "choropleth"
           }
          ],
          "contour": [
           {
            "colorbar": {
             "outlinewidth": 0,
             "ticks": ""
            },
            "colorscale": [
             [
              0,
              "#0d0887"
             ],
             [
              0.1111111111111111,
              "#46039f"
             ],
             [
              0.2222222222222222,
              "#7201a8"
             ],
             [
              0.3333333333333333,
              "#9c179e"
             ],
             [
              0.4444444444444444,
              "#bd3786"
             ],
             [
              0.5555555555555556,
              "#d8576b"
             ],
             [
              0.6666666666666666,
              "#ed7953"
             ],
             [
              0.7777777777777778,
              "#fb9f3a"
             ],
             [
              0.8888888888888888,
              "#fdca26"
             ],
             [
              1,
              "#f0f921"
             ]
            ],
            "type": "contour"
           }
          ],
          "contourcarpet": [
           {
            "colorbar": {
             "outlinewidth": 0,
             "ticks": ""
            },
            "type": "contourcarpet"
           }
          ],
          "heatmap": [
           {
            "colorbar": {
             "outlinewidth": 0,
             "ticks": ""
            },
            "colorscale": [
             [
              0,
              "#0d0887"
             ],
             [
              0.1111111111111111,
              "#46039f"
             ],
             [
              0.2222222222222222,
              "#7201a8"
             ],
             [
              0.3333333333333333,
              "#9c179e"
             ],
             [
              0.4444444444444444,
              "#bd3786"
             ],
             [
              0.5555555555555556,
              "#d8576b"
             ],
             [
              0.6666666666666666,
              "#ed7953"
             ],
             [
              0.7777777777777778,
              "#fb9f3a"
             ],
             [
              0.8888888888888888,
              "#fdca26"
             ],
             [
              1,
              "#f0f921"
             ]
            ],
            "type": "heatmap"
           }
          ],
          "heatmapgl": [
           {
            "colorbar": {
             "outlinewidth": 0,
             "ticks": ""
            },
            "colorscale": [
             [
              0,
              "#0d0887"
             ],
             [
              0.1111111111111111,
              "#46039f"
             ],
             [
              0.2222222222222222,
              "#7201a8"
             ],
             [
              0.3333333333333333,
              "#9c179e"
             ],
             [
              0.4444444444444444,
              "#bd3786"
             ],
             [
              0.5555555555555556,
              "#d8576b"
             ],
             [
              0.6666666666666666,
              "#ed7953"
             ],
             [
              0.7777777777777778,
              "#fb9f3a"
             ],
             [
              0.8888888888888888,
              "#fdca26"
             ],
             [
              1,
              "#f0f921"
             ]
            ],
            "type": "heatmapgl"
           }
          ],
          "histogram": [
           {
            "marker": {
             "pattern": {
              "fillmode": "overlay",
              "size": 10,
              "solidity": 0.2
             }
            },
            "type": "histogram"
           }
          ],
          "histogram2d": [
           {
            "colorbar": {
             "outlinewidth": 0,
             "ticks": ""
            },
            "colorscale": [
             [
              0,
              "#0d0887"
             ],
             [
              0.1111111111111111,
              "#46039f"
             ],
             [
              0.2222222222222222,
              "#7201a8"
             ],
             [
              0.3333333333333333,
              "#9c179e"
             ],
             [
              0.4444444444444444,
              "#bd3786"
             ],
             [
              0.5555555555555556,
              "#d8576b"
             ],
             [
              0.6666666666666666,
              "#ed7953"
             ],
             [
              0.7777777777777778,
              "#fb9f3a"
             ],
             [
              0.8888888888888888,
              "#fdca26"
             ],
             [
              1,
              "#f0f921"
             ]
            ],
            "type": "histogram2d"
           }
          ],
          "histogram2dcontour": [
           {
            "colorbar": {
             "outlinewidth": 0,
             "ticks": ""
            },
            "colorscale": [
             [
              0,
              "#0d0887"
             ],
             [
              0.1111111111111111,
              "#46039f"
             ],
             [
              0.2222222222222222,
              "#7201a8"
             ],
             [
              0.3333333333333333,
              "#9c179e"
             ],
             [
              0.4444444444444444,
              "#bd3786"
             ],
             [
              0.5555555555555556,
              "#d8576b"
             ],
             [
              0.6666666666666666,
              "#ed7953"
             ],
             [
              0.7777777777777778,
              "#fb9f3a"
             ],
             [
              0.8888888888888888,
              "#fdca26"
             ],
             [
              1,
              "#f0f921"
             ]
            ],
            "type": "histogram2dcontour"
           }
          ],
          "mesh3d": [
           {
            "colorbar": {
             "outlinewidth": 0,
             "ticks": ""
            },
            "type": "mesh3d"
           }
          ],
          "parcoords": [
           {
            "line": {
             "colorbar": {
              "outlinewidth": 0,
              "ticks": ""
             }
            },
            "type": "parcoords"
           }
          ],
          "pie": [
           {
            "automargin": true,
            "type": "pie"
           }
          ],
          "scatter": [
           {
            "fillpattern": {
             "fillmode": "overlay",
             "size": 10,
             "solidity": 0.2
            },
            "type": "scatter"
           }
          ],
          "scatter3d": [
           {
            "line": {
             "colorbar": {
              "outlinewidth": 0,
              "ticks": ""
             }
            },
            "marker": {
             "colorbar": {
              "outlinewidth": 0,
              "ticks": ""
             }
            },
            "type": "scatter3d"
           }
          ],
          "scattercarpet": [
           {
            "marker": {
             "colorbar": {
              "outlinewidth": 0,
              "ticks": ""
             }
            },
            "type": "scattercarpet"
           }
          ],
          "scattergeo": [
           {
            "marker": {
             "colorbar": {
              "outlinewidth": 0,
              "ticks": ""
             }
            },
            "type": "scattergeo"
           }
          ],
          "scattergl": [
           {
            "marker": {
             "colorbar": {
              "outlinewidth": 0,
              "ticks": ""
             }
            },
            "type": "scattergl"
           }
          ],
          "scattermapbox": [
           {
            "marker": {
             "colorbar": {
              "outlinewidth": 0,
              "ticks": ""
             }
            },
            "type": "scattermapbox"
           }
          ],
          "scatterpolar": [
           {
            "marker": {
             "colorbar": {
              "outlinewidth": 0,
              "ticks": ""
             }
            },
            "type": "scatterpolar"
           }
          ],
          "scatterpolargl": [
           {
            "marker": {
             "colorbar": {
              "outlinewidth": 0,
              "ticks": ""
             }
            },
            "type": "scatterpolargl"
           }
          ],
          "scatterternary": [
           {
            "marker": {
             "colorbar": {
              "outlinewidth": 0,
              "ticks": ""
             }
            },
            "type": "scatterternary"
           }
          ],
          "surface": [
           {
            "colorbar": {
             "outlinewidth": 0,
             "ticks": ""
            },
            "colorscale": [
             [
              0,
              "#0d0887"
             ],
             [
              0.1111111111111111,
              "#46039f"
             ],
             [
              0.2222222222222222,
              "#7201a8"
             ],
             [
              0.3333333333333333,
              "#9c179e"
             ],
             [
              0.4444444444444444,
              "#bd3786"
             ],
             [
              0.5555555555555556,
              "#d8576b"
             ],
             [
              0.6666666666666666,
              "#ed7953"
             ],
             [
              0.7777777777777778,
              "#fb9f3a"
             ],
             [
              0.8888888888888888,
              "#fdca26"
             ],
             [
              1,
              "#f0f921"
             ]
            ],
            "type": "surface"
           }
          ],
          "table": [
           {
            "cells": {
             "fill": {
              "color": "#EBF0F8"
             },
             "line": {
              "color": "white"
             }
            },
            "header": {
             "fill": {
              "color": "#C8D4E3"
             },
             "line": {
              "color": "white"
             }
            },
            "type": "table"
           }
          ]
         },
         "layout": {
          "annotationdefaults": {
           "arrowcolor": "#2a3f5f",
           "arrowhead": 0,
           "arrowwidth": 1
          },
          "autotypenumbers": "strict",
          "coloraxis": {
           "colorbar": {
            "outlinewidth": 0,
            "ticks": ""
           }
          },
          "colorscale": {
           "diverging": [
            [
             0,
             "#8e0152"
            ],
            [
             0.1,
             "#c51b7d"
            ],
            [
             0.2,
             "#de77ae"
            ],
            [
             0.3,
             "#f1b6da"
            ],
            [
             0.4,
             "#fde0ef"
            ],
            [
             0.5,
             "#f7f7f7"
            ],
            [
             0.6,
             "#e6f5d0"
            ],
            [
             0.7,
             "#b8e186"
            ],
            [
             0.8,
             "#7fbc41"
            ],
            [
             0.9,
             "#4d9221"
            ],
            [
             1,
             "#276419"
            ]
           ],
           "sequential": [
            [
             0,
             "#0d0887"
            ],
            [
             0.1111111111111111,
             "#46039f"
            ],
            [
             0.2222222222222222,
             "#7201a8"
            ],
            [
             0.3333333333333333,
             "#9c179e"
            ],
            [
             0.4444444444444444,
             "#bd3786"
            ],
            [
             0.5555555555555556,
             "#d8576b"
            ],
            [
             0.6666666666666666,
             "#ed7953"
            ],
            [
             0.7777777777777778,
             "#fb9f3a"
            ],
            [
             0.8888888888888888,
             "#fdca26"
            ],
            [
             1,
             "#f0f921"
            ]
           ],
           "sequentialminus": [
            [
             0,
             "#0d0887"
            ],
            [
             0.1111111111111111,
             "#46039f"
            ],
            [
             0.2222222222222222,
             "#7201a8"
            ],
            [
             0.3333333333333333,
             "#9c179e"
            ],
            [
             0.4444444444444444,
             "#bd3786"
            ],
            [
             0.5555555555555556,
             "#d8576b"
            ],
            [
             0.6666666666666666,
             "#ed7953"
            ],
            [
             0.7777777777777778,
             "#fb9f3a"
            ],
            [
             0.8888888888888888,
             "#fdca26"
            ],
            [
             1,
             "#f0f921"
            ]
           ]
          },
          "colorway": [
           "#636efa",
           "#EF553B",
           "#00cc96",
           "#ab63fa",
           "#FFA15A",
           "#19d3f3",
           "#FF6692",
           "#B6E880",
           "#FF97FF",
           "#FECB52"
          ],
          "font": {
           "color": "#2a3f5f"
          },
          "geo": {
           "bgcolor": "white",
           "lakecolor": "white",
           "landcolor": "#E5ECF6",
           "showlakes": true,
           "showland": true,
           "subunitcolor": "white"
          },
          "hoverlabel": {
           "align": "left"
          },
          "hovermode": "closest",
          "mapbox": {
           "style": "light"
          },
          "paper_bgcolor": "white",
          "plot_bgcolor": "#E5ECF6",
          "polar": {
           "angularaxis": {
            "gridcolor": "white",
            "linecolor": "white",
            "ticks": ""
           },
           "bgcolor": "#E5ECF6",
           "radialaxis": {
            "gridcolor": "white",
            "linecolor": "white",
            "ticks": ""
           }
          },
          "scene": {
           "xaxis": {
            "backgroundcolor": "#E5ECF6",
            "gridcolor": "white",
            "gridwidth": 2,
            "linecolor": "white",
            "showbackground": true,
            "ticks": "",
            "zerolinecolor": "white"
           },
           "yaxis": {
            "backgroundcolor": "#E5ECF6",
            "gridcolor": "white",
            "gridwidth": 2,
            "linecolor": "white",
            "showbackground": true,
            "ticks": "",
            "zerolinecolor": "white"
           },
           "zaxis": {
            "backgroundcolor": "#E5ECF6",
            "gridcolor": "white",
            "gridwidth": 2,
            "linecolor": "white",
            "showbackground": true,
            "ticks": "",
            "zerolinecolor": "white"
           }
          },
          "shapedefaults": {
           "line": {
            "color": "#2a3f5f"
           }
          },
          "ternary": {
           "aaxis": {
            "gridcolor": "white",
            "linecolor": "white",
            "ticks": ""
           },
           "baxis": {
            "gridcolor": "white",
            "linecolor": "white",
            "ticks": ""
           },
           "bgcolor": "#E5ECF6",
           "caxis": {
            "gridcolor": "white",
            "linecolor": "white",
            "ticks": ""
           }
          },
          "title": {
           "x": 0.05
          },
          "xaxis": {
           "automargin": true,
           "gridcolor": "white",
           "linecolor": "white",
           "ticks": "",
           "title": {
            "standoff": 15
           },
           "zerolinecolor": "white",
           "zerolinewidth": 2
          },
          "yaxis": {
           "automargin": true,
           "gridcolor": "white",
           "linecolor": "white",
           "ticks": "",
           "title": {
            "standoff": 15
           },
           "zerolinecolor": "white",
           "zerolinewidth": 2
          }
         }
        },
        "title": {
         "text": "Power Capacity (Energy / Time) 2050"
        },
        "width": 900
       }
      }
     },
     "metadata": {},
     "output_type": "display_data"
    },
    {
     "name": "stdout",
     "output_type": "stream",
     "text": [
      "Converting from PetaJoules to TerraWattHours\n",
      "No unit conversion applied!\n"
     ]
    },
    {
     "data": {
      "application/vnd.plotly.v1+json": {
       "config": {
        "plotlyServerURL": "https://plot.ly"
       },
       "data": [
        {
         "labels": [
          "Biomass",
          "Biomass",
          "Biomass",
          "Biomass",
          "Biomass",
          "Biomass",
          "Biomass",
          "Biomass",
          "Biomass",
          "Biomass",
          "Biomass",
          "Biomass",
          "Biomass",
          "Biomass",
          "Biomass",
          "Biomass",
          "Biomass",
          "Biomass",
          "Biomass",
          "Biomass",
          "Biomass",
          "Biomass",
          "Biomass",
          "Biomass",
          "Biomass",
          "Biomass",
          "Biomass",
          "Biomass",
          "Biomass",
          "Biomass",
          "Coal",
          "Coal",
          "Coal",
          "Coal",
          "Coal",
          "Coal",
          "Coal",
          "Coal",
          "Coal",
          "Coal",
          "Coal",
          "Coal",
          "Coal",
          "Coal",
          "Coal",
          "Coal",
          "Coal",
          "Coal",
          "Coal",
          "Coal",
          "Coal",
          "Coal",
          "Coal",
          "Coal",
          "Coal",
          "Coal",
          "Coal",
          "Coal",
          "Coal",
          "Coal",
          "Gas",
          "Gas",
          "Gas",
          "Gas",
          "Gas",
          "Gas",
          "Gas",
          "Gas",
          "Gas",
          "Gas",
          "Gas",
          "Gas",
          "Gas",
          "Gas",
          "Gas",
          "Gas",
          "Gas",
          "Gas",
          "Gas",
          "Gas",
          "Gas",
          "Gas",
          "Gas",
          "Gas",
          "Gas",
          "Gas",
          "Gas",
          "Gas",
          "Gas",
          "Gas",
          "Hydrogen",
          "Hydrogen",
          "Hydrogen",
          "Hydrogen",
          "Hydrogen",
          "Hydrogen",
          "Hydrogen",
          "Hydrogen",
          "Hydrogen",
          "Hydrogen",
          "Hydrogen",
          "Hydrogen",
          "Hydrogen",
          "Hydrogen",
          "Hydrogen",
          "Hydrogen",
          "Hydrogen",
          "Hydrogen",
          "Hydrogen",
          "Hydrogen",
          "Hydrogen",
          "Hydrogen",
          "Hydrogen",
          "Hydrogen",
          "Hydrogen",
          "Hydrogen",
          "Hydrogen",
          "Hydrogen",
          "Hydrogen",
          "Hydrogen",
          "Oil",
          "Oil",
          "Oil",
          "Oil",
          "Oil",
          "Oil",
          "Oil",
          "Oil",
          "Oil",
          "Oil",
          "Oil",
          "Oil",
          "Oil",
          "Oil",
          "Oil",
          "Oil",
          "Oil",
          "Oil",
          "Oil",
          "Oil",
          "Oil",
          "Oil",
          "Oil",
          "Oil",
          "Oil",
          "Oil",
          "Oil",
          "Oil",
          "Oil",
          "Oil",
          "Others",
          "Others",
          "Others",
          "Others",
          "Others",
          "Others",
          "Others",
          "Others",
          "Others",
          "Others",
          "Others",
          "Others",
          "Others",
          "Others",
          "Others",
          "Others",
          "Others",
          "Others",
          "Others",
          "Others",
          "Others",
          "Others",
          "Others",
          "Others",
          "Others",
          "Others",
          "Others",
          "Others",
          "Others",
          "Others",
          "Renewables",
          "Renewables",
          "Renewables",
          "Renewables",
          "Renewables",
          "Renewables",
          "Renewables",
          "Renewables",
          "Renewables",
          "Renewables",
          "Renewables",
          "Renewables",
          "Renewables",
          "Renewables",
          "Renewables",
          "Renewables",
          "Renewables",
          "Renewables",
          "Renewables",
          "Renewables",
          "Renewables",
          "Renewables",
          "Renewables",
          "Renewables",
          "Renewables",
          "Renewables",
          "Renewables",
          "Renewables",
          "Renewables",
          "Renewables",
          "Solar",
          "Solar",
          "Solar",
          "Solar",
          "Solar",
          "Solar",
          "Solar",
          "Solar",
          "Solar",
          "Solar",
          "Solar",
          "Solar",
          "Solar",
          "Solar",
          "Solar",
          "Solar",
          "Solar",
          "Solar",
          "Solar",
          "Solar",
          "Solar",
          "Solar",
          "Solar",
          "Solar",
          "Solar",
          "Solar",
          "Solar",
          "Solar",
          "Solar",
          "Solar",
          "Wind",
          "Wind",
          "Wind",
          "Wind",
          "Wind",
          "Wind",
          "Wind",
          "Wind",
          "Wind",
          "Wind",
          "Wind",
          "Wind",
          "Wind",
          "Wind",
          "Wind",
          "Wind",
          "Wind",
          "Wind",
          "Wind",
          "Wind",
          "Wind",
          "Wind",
          "Wind",
          "Wind",
          "Wind",
          "Wind",
          "Wind",
          "Wind",
          "Wind",
          "Wind"
         ],
         "marker": {
          "colors": [
           "#ef8e94",
           "#ef8e94",
           "#ef8e94",
           "#ef8e94",
           "#ef8e94",
           "#ef8e94",
           "#ef8e94",
           "#ef8e94",
           "#ef8e94",
           "#ef8e94",
           "#ef8e94",
           "#ef8e94",
           "#ef8e94",
           "#ef8e94",
           "#ef8e94",
           "#ef8e94",
           "#ef8e94",
           "#ef8e94",
           "#ef8e94",
           "#ef8e94",
           "#ef8e94",
           "#ef8e94",
           "#ef8e94",
           "#ef8e94",
           "#ef8e94",
           "#ef8e94",
           "#ef8e94",
           "#ef8e94",
           "#ef8e94",
           "#ef8e94",
           "#f7e1ed",
           "#f7e1ed",
           "#f7e1ed",
           "#f7e1ed",
           "#f7e1ed",
           "#f7e1ed",
           "#f7e1ed",
           "#f7e1ed",
           "#f7e1ed",
           "#f7e1ed",
           "#f7e1ed",
           "#f7e1ed",
           "#f7e1ed",
           "#f7e1ed",
           "#f7e1ed",
           "#f7e1ed",
           "#f7e1ed",
           "#f7e1ed",
           "#f7e1ed",
           "#f7e1ed",
           "#f7e1ed",
           "#f7e1ed",
           "#f7e1ed",
           "#f7e1ed",
           "#f7e1ed",
           "#f7e1ed",
           "#f7e1ed",
           "#f7e1ed",
           "#f7e1ed",
           "#f7e1ed",
           "#d6cac0",
           "#d6cac0",
           "#d6cac0",
           "#d6cac0",
           "#d6cac0",
           "#d6cac0",
           "#d6cac0",
           "#d6cac0",
           "#d6cac0",
           "#d6cac0",
           "#d6cac0",
           "#d6cac0",
           "#d6cac0",
           "#d6cac0",
           "#d6cac0",
           "#d6cac0",
           "#d6cac0",
           "#d6cac0",
           "#d6cac0",
           "#d6cac0",
           "#d6cac0",
           "#d6cac0",
           "#d6cac0",
           "#d6cac0",
           "#d6cac0",
           "#d6cac0",
           "#d6cac0",
           "#d6cac0",
           "#d6cac0",
           "#d6cac0",
           "#a1e3bc",
           "#a1e3bc",
           "#a1e3bc",
           "#a1e3bc",
           "#a1e3bc",
           "#a1e3bc",
           "#a1e3bc",
           "#a1e3bc",
           "#a1e3bc",
           "#a1e3bc",
           "#a1e3bc",
           "#a1e3bc",
           "#a1e3bc",
           "#a1e3bc",
           "#a1e3bc",
           "#a1e3bc",
           "#a1e3bc",
           "#a1e3bc",
           "#a1e3bc",
           "#a1e3bc",
           "#a1e3bc",
           "#a1e3bc",
           "#a1e3bc",
           "#a1e3bc",
           "#a1e3bc",
           "#a1e3bc",
           "#a1e3bc",
           "#a1e3bc",
           "#a1e3bc",
           "#a1e3bc",
           "#93ceb9",
           "#93ceb9",
           "#93ceb9",
           "#93ceb9",
           "#93ceb9",
           "#93ceb9",
           "#93ceb9",
           "#93ceb9",
           "#93ceb9",
           "#93ceb9",
           "#93ceb9",
           "#93ceb9",
           "#93ceb9",
           "#93ceb9",
           "#93ceb9",
           "#93ceb9",
           "#93ceb9",
           "#93ceb9",
           "#93ceb9",
           "#93ceb9",
           "#93ceb9",
           "#93ceb9",
           "#93ceb9",
           "#93ceb9",
           "#93ceb9",
           "#93ceb9",
           "#93ceb9",
           "#93ceb9",
           "#93ceb9",
           "#93ceb9",
           "#9899e9",
           "#9899e9",
           "#9899e9",
           "#9899e9",
           "#9899e9",
           "#9899e9",
           "#9899e9",
           "#9899e9",
           "#9899e9",
           "#9899e9",
           "#9899e9",
           "#9899e9",
           "#9899e9",
           "#9899e9",
           "#9899e9",
           "#9899e9",
           "#9899e9",
           "#9899e9",
           "#9899e9",
           "#9899e9",
           "#9899e9",
           "#9899e9",
           "#9899e9",
           "#9899e9",
           "#9899e9",
           "#9899e9",
           "#9899e9",
           "#9899e9",
           "#9899e9",
           "#9899e9",
           "#e6daa8",
           "#e6daa8",
           "#e6daa8",
           "#e6daa8",
           "#e6daa8",
           "#e6daa8",
           "#e6daa8",
           "#e6daa8",
           "#e6daa8",
           "#e6daa8",
           "#e6daa8",
           "#e6daa8",
           "#e6daa8",
           "#e6daa8",
           "#e6daa8",
           "#e6daa8",
           "#e6daa8",
           "#e6daa8",
           "#e6daa8",
           "#e6daa8",
           "#e6daa8",
           "#e6daa8",
           "#e6daa8",
           "#e6daa8",
           "#e6daa8",
           "#e6daa8",
           "#e6daa8",
           "#e6daa8",
           "#e6daa8",
           "#e6daa8",
           "#fad1a7",
           "#fad1a7",
           "#fad1a7",
           "#fad1a7",
           "#fad1a7",
           "#fad1a7",
           "#fad1a7",
           "#fad1a7",
           "#fad1a7",
           "#fad1a7",
           "#fad1a7",
           "#fad1a7",
           "#fad1a7",
           "#fad1a7",
           "#fad1a7",
           "#fad1a7",
           "#fad1a7",
           "#fad1a7",
           "#fad1a7",
           "#fad1a7",
           "#fad1a7",
           "#fad1a7",
           "#fad1a7",
           "#fad1a7",
           "#fad1a7",
           "#fad1a7",
           "#fad1a7",
           "#fad1a7",
           "#fad1a7",
           "#fad1a7",
           "#c1abe7",
           "#c1abe7",
           "#c1abe7",
           "#c1abe7",
           "#c1abe7",
           "#c1abe7",
           "#c1abe7",
           "#c1abe7",
           "#c1abe7",
           "#c1abe7",
           "#c1abe7",
           "#c1abe7",
           "#c1abe7",
           "#c1abe7",
           "#c1abe7",
           "#c1abe7",
           "#c1abe7",
           "#c1abe7",
           "#c1abe7",
           "#c1abe7",
           "#c1abe7",
           "#c1abe7",
           "#c1abe7",
           "#c1abe7",
           "#c1abe7",
           "#c1abe7",
           "#c1abe7",
           "#c1abe7",
           "#c1abe7",
           "#c1abe7"
          ]
         },
         "textfont": {
          "size": 24
         },
         "textinfo": "percent+label",
         "textposition": "inside",
         "type": "pie",
         "values": [
          1.5561924678248777,
          0.397412067978004,
          0.11577305902019153,
          0.10440447242737896,
          1.0874896682794442,
          15.469014056285296,
          1.987492184272855,
          0.13969929608290868,
          0.3564315706158847,
          1.7047960715767623,
          9.119067412911498,
          0.007241570621988487,
          0.05984266428389433,
          0.9627892983977564,
          0.021727819685460777,
          4.601625099837652,
          0.12479813354697875,
          0.07923946928141529,
          0.46336465028175466,
          0.8840881411461182,
          0.051664732246969484,
          0.11101081510421565,
          0.44268465642180654,
          0.14610363034662147,
          0.13675948443270086,
          1.7920937046667003,
          0.01410703809730969,
          0.5934297549769212,
          5.7774251353522015,
          2.160405108479801,
          0.011464808977862404,
          2.025905835600153e-8,
          0.7894238604988498,
          8.27216590573478e-9,
          0.17971523471430237,
          3.8010000262980417,
          2.1560260329457478e-8,
          1.984040959884955e-8,
          2.076082352476031e-8,
          2.098580319154128e-8,
          2.1042086244710143e-8,
          2.6593663819168073e-8,
          2.9033670696224582e-8,
          3.9368735463426606e-8,
          1.8408805190915833e-8,
          1.7052255864661146,
          6.914551199549797e-9,
          7.891624608082774e-9,
          8.177181895437043e-9,
          0.930538438398885,
          6.748220020918777e-9,
          8.40400001579868,
          1.9172843515737967,
          2.173580308595057e-8,
          3.181369954945225e-8,
          2.016573735104309e-8,
          3.9921486095612934e-8,
          3.97937260572951e-8,
          1.3890972282358982,
          2.1142403439343037e-8,
          21.72982345441818,
          29.09621798377911,
          11.289973670522757,
          12.971698819484534,
          28.013197339156424,
          184.1741395136985,
          10.21651538080115,
          3.154391707598337,
          67.6854060769799,
          15.37616911456649,
          122.94091885374692,
          6.986247608809037,
          3.825598960265477,
          12.33106769750702,
          9.26205694697267,
          87.83587384567228,
          3.210090563173254,
          2.0813766952758432,
          2.613918445852243,
          32.31317879983977,
          12.994497134139893,
          3.9595788997854653,
          65.33620741743701,
          11.91576739707177,
          14.239631297080397,
          40.874446942382605,
          5.992196158375708,
          10.753624624657505,
          140.3432388421426,
          106.66244157669671,
          3.2115416064305405e-9,
          3.104918919396993e-9,
          3.19753690238967e-9,
          3.203543268983068e-9,
          3.4957011183205403e-9,
          3.4146705048660607e-9,
          3.0286588301657187e-9,
          2.974095216777275e-9,
          3.438619232647768e-9,
          2.9577681075472836e-9,
          3.023406634599237e-9,
          3.618616268740918e-9,
          3.5959069551546493e-9,
          3.4784306910411056e-9,
          3.36083875108706e-9,
          3.4856413926561404e-9,
          3.2066027002711114e-9,
          3.1033580962398062e-9,
          3.3711077138359056e-9,
          3.451198371971938e-9,
          2.8564941955824577e-9,
          3.4809533373025843e-9,
          3.5423526494921987e-9,
          3.17578764943354e-9,
          3.210390687198627e-9,
          3.2476747564584617e-9,
          3.4762752289494057e-9,
          3.5725692139968236e-9,
          3.472308783070932e-9,
          2.9740866992125607e-9,
          1.3783231332199747e-7,
          1.300331286943672e-7,
          4.945466813285467e-8,
          1.4094236581094889e-7,
          0.010288697108977542,
          0.08380003526525998,
          1.438869688535023e-7,
          9.803863834666372e-8,
          1.2767557703179853e-7,
          0.27015444897452123,
          0.0685072553534993,
          1.425615141450166e-7,
          1.4540165672524448e-7,
          1.4065256893909106e-7,
          6.178004107915824e-8,
          0.001947575939511958,
          4.65118699488855e-8,
          8.360560930850865e-8,
          1.4215487728561347e-7,
          1.2553604105163543e-7,
          1.5359166860762665e-8,
          0.1980000332349359,
          1.2413975482963987e-7,
          1.5364111212744506e-7,
          5.0974187688387905e-8,
          1.1723009791037365e-7,
          1.4340813084678406e-7,
          0.06874741861583923,
          1.434490628951927e-7,
          0.019362975419588483,
          1.1224735395821046e-7,
          1.3432428673988895e-7,
          6.179484224018457e-8,
          1.1599779997026883e-7,
          1.9522835836167336,
          1.0772684889734273e-7,
          1.0903219026694036e-7,
          8.246306526831688e-8,
          9.592720374955926e-8,
          8.151407550962322,
          25.000000090636973,
          1.1462024635627129e-7,
          1.2452983158254142e-7,
          1.0884284251076375e-7,
          8.165013917724369e-8,
          1.032569584764727e-7,
          6.724426699556032e-8,
          9.101601834572535e-8,
          1.0626117127411048e-7,
          7.054148115366025e-7,
          6.036836567009834e-8,
          1.1960888367946452e-7,
          1.5602924897362033e-7,
          1.0320813851452728e-7,
          6.344653223465141,
          1.0679362280440001e-7,
          1.4429874046656613e-7,
          1.0428219806345124e-7,
          1.1533849603859589e-7,
          9.753096681427084e-8,
          18.186030719424682,
          14.069515291986104,
          3.778735452984329,
          22.34733333422985,
          4.135210724061683,
          42.916283502977066,
          2.4476824612665475,
          0.928616088964997,
          74.69068977800347,
          13.16211049985823,
          23.04100014821873,
          3.6308328201925066,
          8.015873666819651,
          0.3517003199526233,
          2.6281721450708995,
          42.70274013403379,
          1.157268228620015,
          1.872506227918526,
          6.262695647389992,
          15.739433847187483,
          32.949000600505,
          9.185772475744127,
          12.292894895614284,
          18.235487101867545,
          13.115820590840652,
          39.640534812916556,
          1.2530000909036847,
          2.640775481316432,
          26.500000006067587,
          35.29988350605807,
          15.782840232153294,
          9.94497422796973,
          4.29970480490887,
          22.112573580151533,
          17.791458972970002,
          131.77364282314653,
          0.48800713271037743,
          0.0007685581645326306,
          47.754032523782804,
          0.03039616796467437,
          23.871429578700198,
          54.60000028619645,
          3.2225795944677085,
          4.642512689678375,
          7.168838984961004,
          89.06227429923442,
          0.032677106011689126,
          1.8576461133154203,
          1.8382398220342116e-7,
          13.792783013268677,
          2.3565684661377402e-7,
          8.657747567602627,
          42.63012666307527,
          1.3154627211410936,
          0.9204774580096335,
          0.3201366599325676,
          3.7817795531222345,
          7.863669830485783,
          268.8569294439508,
          50.65975681596806,
          11.894991991669206,
          11.650145524758772,
          0.4069053770924064,
          0.024906885091587505,
          0.21272446063502512,
          117.4689545109382,
          5.775032176732726,
          2.1156799490640523,
          24.31903014130082,
          1.0789374620440824,
          22.98352444677652,
          12.267803710896214,
          0.266741814791642,
          2.433892073166586,
          7.306383908182604,
          3.2805809682407023,
          1.379838919116757,
          0.039460545747018225,
          2.0206992966858452,
          7.217155853274733,
          10.195797859392508,
          5.090825183086282,
          8.050822626520368,
          7.2426394062823825,
          3.7805270792077934,
          3.033205713513461,
          0.004769119496622339,
          0.001564915512189751,
          7.683168641292083,
          102.27879485547444
         ]
        }
       ],
       "layout": {
        "height": 800,
        "template": {
         "data": {
          "bar": [
           {
            "error_x": {
             "color": "#2a3f5f"
            },
            "error_y": {
             "color": "#2a3f5f"
            },
            "marker": {
             "line": {
              "color": "#E5ECF6",
              "width": 0.5
             },
             "pattern": {
              "fillmode": "overlay",
              "size": 10,
              "solidity": 0.2
             }
            },
            "type": "bar"
           }
          ],
          "barpolar": [
           {
            "marker": {
             "line": {
              "color": "#E5ECF6",
              "width": 0.5
             },
             "pattern": {
              "fillmode": "overlay",
              "size": 10,
              "solidity": 0.2
             }
            },
            "type": "barpolar"
           }
          ],
          "carpet": [
           {
            "aaxis": {
             "endlinecolor": "#2a3f5f",
             "gridcolor": "white",
             "linecolor": "white",
             "minorgridcolor": "white",
             "startlinecolor": "#2a3f5f"
            },
            "baxis": {
             "endlinecolor": "#2a3f5f",
             "gridcolor": "white",
             "linecolor": "white",
             "minorgridcolor": "white",
             "startlinecolor": "#2a3f5f"
            },
            "type": "carpet"
           }
          ],
          "choropleth": [
           {
            "colorbar": {
             "outlinewidth": 0,
             "ticks": ""
            },
            "type": "choropleth"
           }
          ],
          "contour": [
           {
            "colorbar": {
             "outlinewidth": 0,
             "ticks": ""
            },
            "colorscale": [
             [
              0,
              "#0d0887"
             ],
             [
              0.1111111111111111,
              "#46039f"
             ],
             [
              0.2222222222222222,
              "#7201a8"
             ],
             [
              0.3333333333333333,
              "#9c179e"
             ],
             [
              0.4444444444444444,
              "#bd3786"
             ],
             [
              0.5555555555555556,
              "#d8576b"
             ],
             [
              0.6666666666666666,
              "#ed7953"
             ],
             [
              0.7777777777777778,
              "#fb9f3a"
             ],
             [
              0.8888888888888888,
              "#fdca26"
             ],
             [
              1,
              "#f0f921"
             ]
            ],
            "type": "contour"
           }
          ],
          "contourcarpet": [
           {
            "colorbar": {
             "outlinewidth": 0,
             "ticks": ""
            },
            "type": "contourcarpet"
           }
          ],
          "heatmap": [
           {
            "colorbar": {
             "outlinewidth": 0,
             "ticks": ""
            },
            "colorscale": [
             [
              0,
              "#0d0887"
             ],
             [
              0.1111111111111111,
              "#46039f"
             ],
             [
              0.2222222222222222,
              "#7201a8"
             ],
             [
              0.3333333333333333,
              "#9c179e"
             ],
             [
              0.4444444444444444,
              "#bd3786"
             ],
             [
              0.5555555555555556,
              "#d8576b"
             ],
             [
              0.6666666666666666,
              "#ed7953"
             ],
             [
              0.7777777777777778,
              "#fb9f3a"
             ],
             [
              0.8888888888888888,
              "#fdca26"
             ],
             [
              1,
              "#f0f921"
             ]
            ],
            "type": "heatmap"
           }
          ],
          "heatmapgl": [
           {
            "colorbar": {
             "outlinewidth": 0,
             "ticks": ""
            },
            "colorscale": [
             [
              0,
              "#0d0887"
             ],
             [
              0.1111111111111111,
              "#46039f"
             ],
             [
              0.2222222222222222,
              "#7201a8"
             ],
             [
              0.3333333333333333,
              "#9c179e"
             ],
             [
              0.4444444444444444,
              "#bd3786"
             ],
             [
              0.5555555555555556,
              "#d8576b"
             ],
             [
              0.6666666666666666,
              "#ed7953"
             ],
             [
              0.7777777777777778,
              "#fb9f3a"
             ],
             [
              0.8888888888888888,
              "#fdca26"
             ],
             [
              1,
              "#f0f921"
             ]
            ],
            "type": "heatmapgl"
           }
          ],
          "histogram": [
           {
            "marker": {
             "pattern": {
              "fillmode": "overlay",
              "size": 10,
              "solidity": 0.2
             }
            },
            "type": "histogram"
           }
          ],
          "histogram2d": [
           {
            "colorbar": {
             "outlinewidth": 0,
             "ticks": ""
            },
            "colorscale": [
             [
              0,
              "#0d0887"
             ],
             [
              0.1111111111111111,
              "#46039f"
             ],
             [
              0.2222222222222222,
              "#7201a8"
             ],
             [
              0.3333333333333333,
              "#9c179e"
             ],
             [
              0.4444444444444444,
              "#bd3786"
             ],
             [
              0.5555555555555556,
              "#d8576b"
             ],
             [
              0.6666666666666666,
              "#ed7953"
             ],
             [
              0.7777777777777778,
              "#fb9f3a"
             ],
             [
              0.8888888888888888,
              "#fdca26"
             ],
             [
              1,
              "#f0f921"
             ]
            ],
            "type": "histogram2d"
           }
          ],
          "histogram2dcontour": [
           {
            "colorbar": {
             "outlinewidth": 0,
             "ticks": ""
            },
            "colorscale": [
             [
              0,
              "#0d0887"
             ],
             [
              0.1111111111111111,
              "#46039f"
             ],
             [
              0.2222222222222222,
              "#7201a8"
             ],
             [
              0.3333333333333333,
              "#9c179e"
             ],
             [
              0.4444444444444444,
              "#bd3786"
             ],
             [
              0.5555555555555556,
              "#d8576b"
             ],
             [
              0.6666666666666666,
              "#ed7953"
             ],
             [
              0.7777777777777778,
              "#fb9f3a"
             ],
             [
              0.8888888888888888,
              "#fdca26"
             ],
             [
              1,
              "#f0f921"
             ]
            ],
            "type": "histogram2dcontour"
           }
          ],
          "mesh3d": [
           {
            "colorbar": {
             "outlinewidth": 0,
             "ticks": ""
            },
            "type": "mesh3d"
           }
          ],
          "parcoords": [
           {
            "line": {
             "colorbar": {
              "outlinewidth": 0,
              "ticks": ""
             }
            },
            "type": "parcoords"
           }
          ],
          "pie": [
           {
            "automargin": true,
            "type": "pie"
           }
          ],
          "scatter": [
           {
            "fillpattern": {
             "fillmode": "overlay",
             "size": 10,
             "solidity": 0.2
            },
            "type": "scatter"
           }
          ],
          "scatter3d": [
           {
            "line": {
             "colorbar": {
              "outlinewidth": 0,
              "ticks": ""
             }
            },
            "marker": {
             "colorbar": {
              "outlinewidth": 0,
              "ticks": ""
             }
            },
            "type": "scatter3d"
           }
          ],
          "scattercarpet": [
           {
            "marker": {
             "colorbar": {
              "outlinewidth": 0,
              "ticks": ""
             }
            },
            "type": "scattercarpet"
           }
          ],
          "scattergeo": [
           {
            "marker": {
             "colorbar": {
              "outlinewidth": 0,
              "ticks": ""
             }
            },
            "type": "scattergeo"
           }
          ],
          "scattergl": [
           {
            "marker": {
             "colorbar": {
              "outlinewidth": 0,
              "ticks": ""
             }
            },
            "type": "scattergl"
           }
          ],
          "scattermapbox": [
           {
            "marker": {
             "colorbar": {
              "outlinewidth": 0,
              "ticks": ""
             }
            },
            "type": "scattermapbox"
           }
          ],
          "scatterpolar": [
           {
            "marker": {
             "colorbar": {
              "outlinewidth": 0,
              "ticks": ""
             }
            },
            "type": "scatterpolar"
           }
          ],
          "scatterpolargl": [
           {
            "marker": {
             "colorbar": {
              "outlinewidth": 0,
              "ticks": ""
             }
            },
            "type": "scatterpolargl"
           }
          ],
          "scatterternary": [
           {
            "marker": {
             "colorbar": {
              "outlinewidth": 0,
              "ticks": ""
             }
            },
            "type": "scatterternary"
           }
          ],
          "surface": [
           {
            "colorbar": {
             "outlinewidth": 0,
             "ticks": ""
            },
            "colorscale": [
             [
              0,
              "#0d0887"
             ],
             [
              0.1111111111111111,
              "#46039f"
             ],
             [
              0.2222222222222222,
              "#7201a8"
             ],
             [
              0.3333333333333333,
              "#9c179e"
             ],
             [
              0.4444444444444444,
              "#bd3786"
             ],
             [
              0.5555555555555556,
              "#d8576b"
             ],
             [
              0.6666666666666666,
              "#ed7953"
             ],
             [
              0.7777777777777778,
              "#fb9f3a"
             ],
             [
              0.8888888888888888,
              "#fdca26"
             ],
             [
              1,
              "#f0f921"
             ]
            ],
            "type": "surface"
           }
          ],
          "table": [
           {
            "cells": {
             "fill": {
              "color": "#EBF0F8"
             },
             "line": {
              "color": "white"
             }
            },
            "header": {
             "fill": {
              "color": "#C8D4E3"
             },
             "line": {
              "color": "white"
             }
            },
            "type": "table"
           }
          ]
         },
         "layout": {
          "annotationdefaults": {
           "arrowcolor": "#2a3f5f",
           "arrowhead": 0,
           "arrowwidth": 1
          },
          "autotypenumbers": "strict",
          "coloraxis": {
           "colorbar": {
            "outlinewidth": 0,
            "ticks": ""
           }
          },
          "colorscale": {
           "diverging": [
            [
             0,
             "#8e0152"
            ],
            [
             0.1,
             "#c51b7d"
            ],
            [
             0.2,
             "#de77ae"
            ],
            [
             0.3,
             "#f1b6da"
            ],
            [
             0.4,
             "#fde0ef"
            ],
            [
             0.5,
             "#f7f7f7"
            ],
            [
             0.6,
             "#e6f5d0"
            ],
            [
             0.7,
             "#b8e186"
            ],
            [
             0.8,
             "#7fbc41"
            ],
            [
             0.9,
             "#4d9221"
            ],
            [
             1,
             "#276419"
            ]
           ],
           "sequential": [
            [
             0,
             "#0d0887"
            ],
            [
             0.1111111111111111,
             "#46039f"
            ],
            [
             0.2222222222222222,
             "#7201a8"
            ],
            [
             0.3333333333333333,
             "#9c179e"
            ],
            [
             0.4444444444444444,
             "#bd3786"
            ],
            [
             0.5555555555555556,
             "#d8576b"
            ],
            [
             0.6666666666666666,
             "#ed7953"
            ],
            [
             0.7777777777777778,
             "#fb9f3a"
            ],
            [
             0.8888888888888888,
             "#fdca26"
            ],
            [
             1,
             "#f0f921"
            ]
           ],
           "sequentialminus": [
            [
             0,
             "#0d0887"
            ],
            [
             0.1111111111111111,
             "#46039f"
            ],
            [
             0.2222222222222222,
             "#7201a8"
            ],
            [
             0.3333333333333333,
             "#9c179e"
            ],
            [
             0.4444444444444444,
             "#bd3786"
            ],
            [
             0.5555555555555556,
             "#d8576b"
            ],
            [
             0.6666666666666666,
             "#ed7953"
            ],
            [
             0.7777777777777778,
             "#fb9f3a"
            ],
            [
             0.8888888888888888,
             "#fdca26"
            ],
            [
             1,
             "#f0f921"
            ]
           ]
          },
          "colorway": [
           "#636efa",
           "#EF553B",
           "#00cc96",
           "#ab63fa",
           "#FFA15A",
           "#19d3f3",
           "#FF6692",
           "#B6E880",
           "#FF97FF",
           "#FECB52"
          ],
          "font": {
           "color": "#2a3f5f"
          },
          "geo": {
           "bgcolor": "white",
           "lakecolor": "white",
           "landcolor": "#E5ECF6",
           "showlakes": true,
           "showland": true,
           "subunitcolor": "white"
          },
          "hoverlabel": {
           "align": "left"
          },
          "hovermode": "closest",
          "mapbox": {
           "style": "light"
          },
          "paper_bgcolor": "white",
          "plot_bgcolor": "#E5ECF6",
          "polar": {
           "angularaxis": {
            "gridcolor": "white",
            "linecolor": "white",
            "ticks": ""
           },
           "bgcolor": "#E5ECF6",
           "radialaxis": {
            "gridcolor": "white",
            "linecolor": "white",
            "ticks": ""
           }
          },
          "scene": {
           "xaxis": {
            "backgroundcolor": "#E5ECF6",
            "gridcolor": "white",
            "gridwidth": 2,
            "linecolor": "white",
            "showbackground": true,
            "ticks": "",
            "zerolinecolor": "white"
           },
           "yaxis": {
            "backgroundcolor": "#E5ECF6",
            "gridcolor": "white",
            "gridwidth": 2,
            "linecolor": "white",
            "showbackground": true,
            "ticks": "",
            "zerolinecolor": "white"
           },
           "zaxis": {
            "backgroundcolor": "#E5ECF6",
            "gridcolor": "white",
            "gridwidth": 2,
            "linecolor": "white",
            "showbackground": true,
            "ticks": "",
            "zerolinecolor": "white"
           }
          },
          "shapedefaults": {
           "line": {
            "color": "#2a3f5f"
           }
          },
          "ternary": {
           "aaxis": {
            "gridcolor": "white",
            "linecolor": "white",
            "ticks": ""
           },
           "baxis": {
            "gridcolor": "white",
            "linecolor": "white",
            "ticks": ""
           },
           "bgcolor": "#E5ECF6",
           "caxis": {
            "gridcolor": "white",
            "linecolor": "white",
            "ticks": ""
           }
          },
          "title": {
           "x": 0.05
          },
          "xaxis": {
           "automargin": true,
           "gridcolor": "white",
           "linecolor": "white",
           "ticks": "",
           "title": {
            "standoff": 15
           },
           "zerolinecolor": "white",
           "zerolinewidth": 2
          },
          "yaxis": {
           "automargin": true,
           "gridcolor": "white",
           "linecolor": "white",
           "ticks": "",
           "title": {
            "standoff": 15
           },
           "zerolinecolor": "white",
           "zerolinewidth": 2
          }
         }
        },
        "title": {
         "text": "Power Capacity (Energy / Time) 2050"
        },
        "width": 900
       }
      }
     },
     "metadata": {},
     "output_type": "display_data"
    }
   ],
   "source": [
    "fig = power_pie_plot(SEASON_DATA)\n",
    "if WRITE_FIGS:\n",
    "    fig.write_image(WRITE_DIR / \"power_pie_plot.png\")\n",
    "fig.show()\n",
    "\n",
    "fig = power_pie_plot(EXPENSIVE_HLDH)\n",
    "if WRITE_FIGS:\n",
    "    fig.write_image(WRITE_DIR / \"power_pie_plot_expensive.png\")\n",
    "fig.show()"
   ]
  },
  {
   "cell_type": "code",
   "execution_count": 277,
   "metadata": {},
   "outputs": [],
   "source": [
    "def power_pie_plot2(sol_path: str) -> go.Figure:\n",
    "\n",
    "    # Pie plot for electronics\n",
    "    data_prod_by_tech = dp.DataProcessor(sol_paths={\"anonym\": sol_path}, type_of_data_to_read=\"ProductionByTechnologyAnnual\")\n",
    "    #data_p = dp.DataProcessor(sol_paths={\"anonym\": sol_path}, type_of_data_to_read=\"TotalCapacityAnnual\")\n",
    "\n",
    "    # Look at 2050\n",
    "    #data_p.filter_by_identifier(column=\"Year\", identifier=2050)\n",
    "    data_prod_by_tech.filter_by_identifier(column=\"Year\", identifier=2050)\n",
    "\n",
    "    # Remove all that starts with \"D_\"\n",
    "    #data_p.df = data_p.df[~data_p.df[\"Technology\"].str.startswith(\"D_\")]\n",
    "    data_prod_by_tech.df = data_prod_by_tech.df[~data_prod_by_tech.df[\"Technology\"].str.startswith(\"D_\")]\n",
    "\n",
    "    # Keep those over 0\n",
    "    #data_p.df = data_p.df[data_p.df[\"Value\"] > 0]\n",
    "\n",
    "    # Aggregate by technology according to the aggregation\n",
    "    #print(\"Length before aggregation\", len(data_p.df))\n",
    "    #data_p.aggregate_by_sum(column_to_sum=\"Value\", groups_memberships=AGGREGATION)\n",
    "    #data_prod_by_tech.show_example_rows(5)\n",
    "    #print(data_prod_by_tech.df[\"Fuel\"].unique())\n",
    "    #data_prod_by_tech.filter_by_identifier(column=\"Fuel\", identifier=\"Heat_District\")\n",
    "    #data_prod_by_tech.filter_by_identifier(column=\"Fuel\", identifier=\"Heat_Low_Building\")\n",
    "    data_prod_by_tech.filter_by_identifier(column=\"Fuel\", identifier=\"Heat_Low_Industrial\")\n",
    "    #data_prod_by_tech.show_example_rows(5)\n",
    "    #data_prod_by_tech.filter_by_identifier(column=\"Fuel\", identifier=\"Power\")\n",
    "    data_prod_by_tech.df = data_prod_by_tech.df[data_prod_by_tech.df[\"Value\"] > 0]\n",
    "    #data_prod_by_tech.show_example_rows(5)\n",
    "    #techs = list(data_prod_by_tech.df[\"Technology\"].unique())\n",
    "\n",
    "    #data_p.filter_by_list(column=\"Technology\", identifier_list=techs)\n",
    "\n",
    "    #data_prod_by_tech.aggregate_by_sum_function(column_to_change=\"Technology\", column_to_sum=\"Value\", function=aggregator)\n",
    "\n",
    "    # Create color list\n",
    "    color_list = [my_color_generator(tech) for tech in data_prod_by_tech.df[\"Technology\"]]\n",
    "\n",
    "    # Make a pie plot\n",
    "    fig = go.Figure(data=[go.Pie(labels=data_prod_by_tech.df[\"Technology\"], values=data_prod_by_tech.df[\"Value\"], \n",
    "                                 textposition='inside', textinfo='percent+label',\n",
    "                                 textfont=dict(size=20),\n",
    "                                 marker=dict(colors=color_list))])\n",
    "\n",
    "    # Loop labels, and change the color of the pie\n",
    "    #color_gen = my_color_generator()\n",
    "    #for i, label in enumerate(fig.data[0].labels):\n",
    "    #    fig.data[0].marker.colors += [my_color_generator(label)]\n",
    "\n",
    "    fig.update_layout(\n",
    "        title=\"Energy Production 2050\",\n",
    "        width=900,\n",
    "        height=800\n",
    "    )\n",
    "\n",
    "    return fig"
   ]
  },
  {
   "cell_type": "code",
   "execution_count": 278,
   "metadata": {},
   "outputs": [
    {
     "name": "stdout",
     "output_type": "stream",
     "text": [
      "Converting from PetaJoules to TerraWattHours\n"
     ]
    },
    {
     "data": {
      "application/vnd.plotly.v1+json": {
       "config": {
        "plotlyServerURL": "https://plot.ly"
       },
       "data": [
        {
         "labels": [
          "CHP_Biomass_Solid",
          "HLI_Convert_DH",
          "HLI_Biomass",
          "HLI_Direct_Electric",
          "HLI_Fuelcell",
          "HLI_Gas_Boiler",
          "HLI_Geothermal",
          "HLI_H2_Boiler",
          "HLI_Hardcoal",
          "HLI_Oil_Boiler",
          "HLI_Solar_Thermal",
          "HLI_Heatpump",
          "HMLI_Heatpump",
          "HLI_Convert_DH",
          "HLI_Biomass",
          "HLI_Direct_Electric",
          "HLI_Fuelcell",
          "HLI_Gas_Boiler",
          "HLI_Geothermal",
          "HLI_H2_Boiler",
          "HLI_Hardcoal",
          "HLI_Oil_Boiler",
          "HLI_Solar_Thermal",
          "HLI_Heatpump",
          "HMLI_Heatpump",
          "CHP_Biomass_Solid",
          "HLI_Convert_DH",
          "HLI_Biomass",
          "HLI_Direct_Electric",
          "HLI_Fuelcell",
          "HLI_Gas_Boiler",
          "HLI_Geothermal",
          "HLI_H2_Boiler",
          "HLI_Hardcoal",
          "HLI_Lignite",
          "HLI_Oil_Boiler",
          "HLI_Solar_Thermal",
          "HLI_Heatpump",
          "HMLI_Heatpump",
          "HLI_Convert_DH",
          "HLI_Biomass",
          "HLI_Direct_Electric",
          "HLI_Fuelcell",
          "HLI_Gas_Boiler",
          "HLI_Geothermal",
          "HLI_H2_Boiler",
          "HLI_Hardcoal",
          "HLI_Oil_Boiler",
          "HLI_Solar_Thermal",
          "HLI_Heatpump",
          "HMLI_Heatpump",
          "HLI_Convert_DH",
          "HLI_Biomass",
          "HLI_Direct_Electric",
          "HLI_Fuelcell",
          "HLI_Gas_Boiler",
          "HLI_Geothermal",
          "HLI_H2_Boiler",
          "HLI_Hardcoal",
          "HLI_Lignite",
          "HLI_Oil_Boiler",
          "HLI_Solar_Thermal",
          "HLI_Heatpump",
          "HMLI_Heatpump",
          "CHP_Biomass_Solid",
          "HLI_Convert_DH",
          "HLI_Biomass",
          "HLI_Direct_Electric",
          "HLI_Fuelcell",
          "HLI_Gas_Boiler",
          "HLI_Geothermal",
          "HLI_H2_Boiler",
          "HLI_Hardcoal",
          "HLI_Lignite",
          "HLI_Oil_Boiler",
          "HLI_Solar_Thermal",
          "HLI_Heatpump",
          "HMLI_Heatpump",
          "CHP_Biomass_Solid",
          "HLI_Convert_DH",
          "HLI_Biomass",
          "HLI_Direct_Electric",
          "HLI_Fuelcell",
          "HLI_Gas_Boiler",
          "HLI_Geothermal",
          "HLI_H2_Boiler",
          "HLI_Hardcoal",
          "HLI_Oil_Boiler",
          "HLI_Solar_Thermal",
          "HLI_Heatpump",
          "HMLI_Heatpump",
          "CHP_Biomass_Solid",
          "HLI_Convert_DH",
          "HLI_Biomass",
          "HLI_Direct_Electric",
          "HLI_Fuelcell",
          "HLI_Gas_Boiler",
          "HLI_Geothermal",
          "HLI_H2_Boiler",
          "HLI_Oil_Boiler",
          "HLI_Solar_Thermal",
          "HLI_Heatpump",
          "HMLI_Heatpump",
          "CHP_Biomass_Solid",
          "HLI_Convert_DH",
          "HLI_Biomass",
          "HLI_Direct_Electric",
          "HLI_Fuelcell",
          "HLI_Gas_Boiler",
          "HLI_Geothermal",
          "HLI_H2_Boiler",
          "HLI_Hardcoal",
          "HLI_Oil_Boiler",
          "HLI_Solar_Thermal",
          "HLI_Heatpump",
          "HMLI_Heatpump",
          "CHP_Biomass_Solid",
          "HLI_Convert_DH",
          "HLI_Biomass",
          "HLI_Direct_Electric",
          "HLI_Fuelcell",
          "HLI_Gas_Boiler",
          "HLI_Geothermal",
          "HLI_H2_Boiler",
          "HLI_Hardcoal",
          "HLI_Oil_Boiler",
          "HLI_Solar_Thermal",
          "HLI_Heatpump",
          "HMLI_Heatpump",
          "CHP_Biomass_Solid",
          "HLI_Convert_DH",
          "HLI_Biomass",
          "HLI_Direct_Electric",
          "HLI_Fuelcell",
          "HLI_Gas_Boiler",
          "HLI_Geothermal",
          "HLI_H2_Boiler",
          "HLI_Hardcoal",
          "HLI_Oil_Boiler",
          "HLI_Solar_Thermal",
          "HLI_Heatpump",
          "HMLI_Heatpump",
          "CHP_Biomass_Solid",
          "HLI_Convert_DH",
          "HLI_Biomass",
          "HLI_Direct_Electric",
          "HLI_Fuelcell",
          "HLI_Gas_Boiler",
          "HLI_Geothermal",
          "HLI_H2_Boiler",
          "HLI_Oil_Boiler",
          "HLI_Solar_Thermal",
          "HLI_Heatpump",
          "HMLI_Heatpump",
          "CHP_Biomass_Solid",
          "HLI_Convert_DH",
          "HLI_Biomass",
          "HLI_Direct_Electric",
          "HLI_Fuelcell",
          "HLI_Gas_Boiler",
          "HLI_Geothermal",
          "HLI_H2_Boiler",
          "HLI_Hardcoal",
          "HLI_Lignite",
          "HLI_Oil_Boiler",
          "HLI_Solar_Thermal",
          "HLI_Heatpump",
          "HMLI_Heatpump",
          "CHP_Biomass_Solid",
          "HLI_Convert_DH",
          "HLI_Biomass",
          "HLI_Direct_Electric",
          "HLI_Fuelcell",
          "HLI_Gas_Boiler",
          "HLI_Geothermal",
          "HLI_H2_Boiler",
          "HLI_Hardcoal",
          "HLI_Lignite",
          "HLI_Oil_Boiler",
          "HLI_Solar_Thermal",
          "HLI_Heatpump",
          "HMLI_Heatpump",
          "CHP_Biomass_Solid",
          "HLI_Convert_DH",
          "HLI_Biomass",
          "HLI_Direct_Electric",
          "HLI_Fuelcell",
          "HLI_Gas_Boiler",
          "HLI_Geothermal",
          "HLI_H2_Boiler",
          "HLI_Hardcoal",
          "HLI_Oil_Boiler",
          "HLI_Solar_Thermal",
          "HLI_Heatpump",
          "HMLI_Heatpump",
          "CHP_Biomass_Solid",
          "HLI_Convert_DH",
          "HLI_Biomass",
          "HLI_Direct_Electric",
          "HLI_Fuelcell",
          "HLI_Gas_Boiler",
          "HLI_Geothermal",
          "HLI_H2_Boiler",
          "HLI_Hardcoal",
          "HLI_Oil_Boiler",
          "HLI_Solar_Thermal",
          "HLI_Heatpump",
          "HMLI_Heatpump",
          "CHP_Biomass_Solid",
          "HLI_Convert_DH",
          "HLI_Biomass",
          "HLI_Direct_Electric",
          "HLI_Fuelcell",
          "HLI_Gas_Boiler",
          "HLI_Geothermal",
          "HLI_H2_Boiler",
          "HLI_Hardcoal",
          "HLI_Oil_Boiler",
          "HLI_Solar_Thermal",
          "HLI_Heatpump",
          "HMLI_Heatpump",
          "HLI_Convert_DH",
          "HLI_Biomass",
          "HLI_Direct_Electric",
          "HLI_Fuelcell",
          "HLI_Gas_Boiler",
          "HLI_Geothermal",
          "HLI_H2_Boiler",
          "HLI_Hardcoal",
          "HLI_Oil_Boiler",
          "HLI_Solar_Thermal",
          "HLI_Heatpump",
          "HMLI_Heatpump",
          "CHP_Biomass_Solid",
          "HLI_Convert_DH",
          "HLI_Biomass",
          "HLI_Direct_Electric",
          "HLI_Fuelcell",
          "HLI_Gas_Boiler",
          "HLI_Geothermal",
          "HLI_H2_Boiler",
          "HLI_Hardcoal",
          "HLI_Oil_Boiler",
          "HLI_Solar_Thermal",
          "HLI_Heatpump",
          "HMLI_Heatpump",
          "HLI_Convert_DH",
          "HLI_Biomass",
          "HLI_Direct_Electric",
          "HLI_Fuelcell",
          "HLI_Gas_Boiler",
          "HLI_Geothermal",
          "HLI_H2_Boiler",
          "HLI_Hardcoal",
          "HLI_Oil_Boiler",
          "HLI_Solar_Thermal",
          "HLI_Heatpump",
          "HMLI_Heatpump",
          "CHP_Biomass_Solid",
          "HLI_Convert_DH",
          "HLI_Biomass",
          "HLI_Direct_Electric",
          "HLI_Fuelcell",
          "HLI_Gas_Boiler",
          "HLI_Geothermal",
          "HLI_H2_Boiler",
          "HLI_Oil_Boiler",
          "HLI_Solar_Thermal",
          "HLI_Heatpump",
          "HMLI_Heatpump",
          "CHP_Biomass_Solid",
          "HLI_Convert_DH",
          "HLI_Biomass",
          "HLI_Direct_Electric",
          "HLI_Fuelcell",
          "HLI_Gas_Boiler",
          "HLI_Geothermal",
          "HLI_H2_Boiler",
          "HLI_Hardcoal",
          "HLI_Lignite",
          "HLI_Oil_Boiler",
          "HLI_Solar_Thermal",
          "HLI_Heatpump",
          "HMLI_Heatpump",
          "CHP_Biomass_Solid",
          "HLI_Convert_DH",
          "HLI_Biomass",
          "HLI_Direct_Electric",
          "HLI_Fuelcell",
          "HLI_Gas_Boiler",
          "HLI_Geothermal",
          "HLI_H2_Boiler",
          "HLI_Oil_Boiler",
          "HLI_Solar_Thermal",
          "HLI_Heatpump",
          "HMLI_Heatpump",
          "CHP_Biomass_Solid",
          "HLI_Convert_DH",
          "HLI_Biomass",
          "HLI_Direct_Electric",
          "HLI_Fuelcell",
          "HLI_Gas_Boiler",
          "HLI_Geothermal",
          "HLI_H2_Boiler",
          "HLI_Hardcoal",
          "HLI_Lignite",
          "HLI_Oil_Boiler",
          "HLI_Solar_Thermal",
          "HLI_Heatpump",
          "HMLI_Heatpump",
          "CHP_Biomass_Solid",
          "HLI_Convert_DH",
          "HLI_Biomass",
          "HLI_Direct_Electric",
          "HLI_Fuelcell",
          "HLI_Gas_Boiler",
          "HLI_Geothermal",
          "HLI_H2_Boiler",
          "HLI_Hardcoal",
          "HLI_Oil_Boiler",
          "HLI_Solar_Thermal",
          "HLI_Heatpump",
          "HMLI_Heatpump",
          "HLI_Convert_DH",
          "HLI_Biomass",
          "HLI_Direct_Electric",
          "HLI_Fuelcell",
          "HLI_Gas_Boiler",
          "HLI_Geothermal",
          "HLI_H2_Boiler",
          "HLI_Hardcoal",
          "HLI_Lignite",
          "HLI_Oil_Boiler",
          "HLI_Solar_Thermal",
          "HLI_Heatpump",
          "HMLI_Heatpump",
          "CHP_Biomass_Solid",
          "HLI_Convert_DH",
          "HLI_Biomass",
          "HLI_Direct_Electric",
          "HLI_Fuelcell",
          "HLI_Gas_Boiler",
          "HLI_Geothermal",
          "HLI_H2_Boiler",
          "HLI_Hardcoal",
          "HLI_Lignite",
          "HLI_Oil_Boiler",
          "HLI_Solar_Thermal",
          "HLI_Heatpump",
          "HMLI_Heatpump",
          "HLI_Convert_DH",
          "HLI_Biomass",
          "HLI_Direct_Electric",
          "HLI_Fuelcell",
          "HLI_Gas_Boiler",
          "HLI_Geothermal",
          "HLI_H2_Boiler",
          "HLI_Hardcoal",
          "HLI_Lignite",
          "HLI_Oil_Boiler",
          "HLI_Solar_Thermal",
          "HLI_Heatpump",
          "HMLI_Heatpump",
          "HLI_Convert_DH",
          "HLI_Biomass",
          "HLI_Direct_Electric",
          "HLI_Fuelcell",
          "HLI_Gas_Boiler",
          "HLI_Geothermal",
          "HLI_H2_Boiler",
          "HLI_Hardcoal",
          "HLI_Oil_Boiler",
          "HLI_Solar_Thermal",
          "HLI_Heatpump",
          "HMLI_Heatpump",
          "HLI_Convert_DH",
          "HLI_Biomass",
          "HLI_Direct_Electric",
          "HLI_Fuelcell",
          "HLI_Gas_Boiler",
          "HLI_Geothermal",
          "HLI_H2_Boiler",
          "HLI_Hardcoal",
          "HLI_Lignite",
          "HLI_Oil_Boiler",
          "HLI_Solar_Thermal",
          "HLI_Heatpump",
          "HMLI_Heatpump"
         ],
         "marker": {
          "colors": [
           "#96ebb5",
           "#c3fb82",
           "#f8b3ec",
           "#8dd6f3",
           "#c6e9dc",
           "#e7c1be",
           "#fae991",
           "#f2fda3",
           "#c9de99",
           "#90fcad",
           "#beeda0",
           "#e1e0d8",
           "#f99393",
           "#c3fb82",
           "#f8b3ec",
           "#8dd6f3",
           "#c6e9dc",
           "#e7c1be",
           "#fae991",
           "#f2fda3",
           "#c9de99",
           "#90fcad",
           "#beeda0",
           "#e1e0d8",
           "#f99393",
           "#96ebb5",
           "#c3fb82",
           "#f8b3ec",
           "#8dd6f3",
           "#c6e9dc",
           "#e7c1be",
           "#fae991",
           "#f2fda3",
           "#c9de99",
           "#8feba8",
           "#90fcad",
           "#beeda0",
           "#e1e0d8",
           "#f99393",
           "#c3fb82",
           "#f8b3ec",
           "#8dd6f3",
           "#c6e9dc",
           "#e7c1be",
           "#fae991",
           "#f2fda3",
           "#c9de99",
           "#90fcad",
           "#beeda0",
           "#e1e0d8",
           "#f99393",
           "#c3fb82",
           "#f8b3ec",
           "#8dd6f3",
           "#c6e9dc",
           "#e7c1be",
           "#fae991",
           "#f2fda3",
           "#c9de99",
           "#8feba8",
           "#90fcad",
           "#beeda0",
           "#e1e0d8",
           "#f99393",
           "#96ebb5",
           "#c3fb82",
           "#f8b3ec",
           "#8dd6f3",
           "#c6e9dc",
           "#e7c1be",
           "#fae991",
           "#f2fda3",
           "#c9de99",
           "#8feba8",
           "#90fcad",
           "#beeda0",
           "#e1e0d8",
           "#f99393",
           "#96ebb5",
           "#c3fb82",
           "#f8b3ec",
           "#8dd6f3",
           "#c6e9dc",
           "#e7c1be",
           "#fae991",
           "#f2fda3",
           "#c9de99",
           "#90fcad",
           "#beeda0",
           "#e1e0d8",
           "#f99393",
           "#96ebb5",
           "#c3fb82",
           "#f8b3ec",
           "#8dd6f3",
           "#c6e9dc",
           "#e7c1be",
           "#fae991",
           "#f2fda3",
           "#90fcad",
           "#beeda0",
           "#e1e0d8",
           "#f99393",
           "#96ebb5",
           "#c3fb82",
           "#f8b3ec",
           "#8dd6f3",
           "#c6e9dc",
           "#e7c1be",
           "#fae991",
           "#f2fda3",
           "#c9de99",
           "#90fcad",
           "#beeda0",
           "#e1e0d8",
           "#f99393",
           "#96ebb5",
           "#c3fb82",
           "#f8b3ec",
           "#8dd6f3",
           "#c6e9dc",
           "#e7c1be",
           "#fae991",
           "#f2fda3",
           "#c9de99",
           "#90fcad",
           "#beeda0",
           "#e1e0d8",
           "#f99393",
           "#96ebb5",
           "#c3fb82",
           "#f8b3ec",
           "#8dd6f3",
           "#c6e9dc",
           "#e7c1be",
           "#fae991",
           "#f2fda3",
           "#c9de99",
           "#90fcad",
           "#beeda0",
           "#e1e0d8",
           "#f99393",
           "#96ebb5",
           "#c3fb82",
           "#f8b3ec",
           "#8dd6f3",
           "#c6e9dc",
           "#e7c1be",
           "#fae991",
           "#f2fda3",
           "#90fcad",
           "#beeda0",
           "#e1e0d8",
           "#f99393",
           "#96ebb5",
           "#c3fb82",
           "#f8b3ec",
           "#8dd6f3",
           "#c6e9dc",
           "#e7c1be",
           "#fae991",
           "#f2fda3",
           "#c9de99",
           "#8feba8",
           "#90fcad",
           "#beeda0",
           "#e1e0d8",
           "#f99393",
           "#96ebb5",
           "#c3fb82",
           "#f8b3ec",
           "#8dd6f3",
           "#c6e9dc",
           "#e7c1be",
           "#fae991",
           "#f2fda3",
           "#c9de99",
           "#8feba8",
           "#90fcad",
           "#beeda0",
           "#e1e0d8",
           "#f99393",
           "#96ebb5",
           "#c3fb82",
           "#f8b3ec",
           "#8dd6f3",
           "#c6e9dc",
           "#e7c1be",
           "#fae991",
           "#f2fda3",
           "#c9de99",
           "#90fcad",
           "#beeda0",
           "#e1e0d8",
           "#f99393",
           "#96ebb5",
           "#c3fb82",
           "#f8b3ec",
           "#8dd6f3",
           "#c6e9dc",
           "#e7c1be",
           "#fae991",
           "#f2fda3",
           "#c9de99",
           "#90fcad",
           "#beeda0",
           "#e1e0d8",
           "#f99393",
           "#96ebb5",
           "#c3fb82",
           "#f8b3ec",
           "#8dd6f3",
           "#c6e9dc",
           "#e7c1be",
           "#fae991",
           "#f2fda3",
           "#c9de99",
           "#90fcad",
           "#beeda0",
           "#e1e0d8",
           "#f99393",
           "#c3fb82",
           "#f8b3ec",
           "#8dd6f3",
           "#c6e9dc",
           "#e7c1be",
           "#fae991",
           "#f2fda3",
           "#c9de99",
           "#90fcad",
           "#beeda0",
           "#e1e0d8",
           "#f99393",
           "#96ebb5",
           "#c3fb82",
           "#f8b3ec",
           "#8dd6f3",
           "#c6e9dc",
           "#e7c1be",
           "#fae991",
           "#f2fda3",
           "#c9de99",
           "#90fcad",
           "#beeda0",
           "#e1e0d8",
           "#f99393",
           "#c3fb82",
           "#f8b3ec",
           "#8dd6f3",
           "#c6e9dc",
           "#e7c1be",
           "#fae991",
           "#f2fda3",
           "#c9de99",
           "#90fcad",
           "#beeda0",
           "#e1e0d8",
           "#f99393",
           "#96ebb5",
           "#c3fb82",
           "#f8b3ec",
           "#8dd6f3",
           "#c6e9dc",
           "#e7c1be",
           "#fae991",
           "#f2fda3",
           "#90fcad",
           "#beeda0",
           "#e1e0d8",
           "#f99393",
           "#96ebb5",
           "#c3fb82",
           "#f8b3ec",
           "#8dd6f3",
           "#c6e9dc",
           "#e7c1be",
           "#fae991",
           "#f2fda3",
           "#c9de99",
           "#8feba8",
           "#90fcad",
           "#beeda0",
           "#e1e0d8",
           "#f99393",
           "#96ebb5",
           "#c3fb82",
           "#f8b3ec",
           "#8dd6f3",
           "#c6e9dc",
           "#e7c1be",
           "#fae991",
           "#f2fda3",
           "#90fcad",
           "#beeda0",
           "#e1e0d8",
           "#f99393",
           "#96ebb5",
           "#c3fb82",
           "#f8b3ec",
           "#8dd6f3",
           "#c6e9dc",
           "#e7c1be",
           "#fae991",
           "#f2fda3",
           "#c9de99",
           "#8feba8",
           "#90fcad",
           "#beeda0",
           "#e1e0d8",
           "#f99393",
           "#96ebb5",
           "#c3fb82",
           "#f8b3ec",
           "#8dd6f3",
           "#c6e9dc",
           "#e7c1be",
           "#fae991",
           "#f2fda3",
           "#c9de99",
           "#90fcad",
           "#beeda0",
           "#e1e0d8",
           "#f99393",
           "#c3fb82",
           "#f8b3ec",
           "#8dd6f3",
           "#c6e9dc",
           "#e7c1be",
           "#fae991",
           "#f2fda3",
           "#c9de99",
           "#8feba8",
           "#90fcad",
           "#beeda0",
           "#e1e0d8",
           "#f99393",
           "#96ebb5",
           "#c3fb82",
           "#f8b3ec",
           "#8dd6f3",
           "#c6e9dc",
           "#e7c1be",
           "#fae991",
           "#f2fda3",
           "#c9de99",
           "#8feba8",
           "#90fcad",
           "#beeda0",
           "#e1e0d8",
           "#f99393",
           "#c3fb82",
           "#f8b3ec",
           "#8dd6f3",
           "#c6e9dc",
           "#e7c1be",
           "#fae991",
           "#f2fda3",
           "#c9de99",
           "#8feba8",
           "#90fcad",
           "#beeda0",
           "#e1e0d8",
           "#f99393",
           "#c3fb82",
           "#f8b3ec",
           "#8dd6f3",
           "#c6e9dc",
           "#e7c1be",
           "#fae991",
           "#f2fda3",
           "#c9de99",
           "#90fcad",
           "#beeda0",
           "#e1e0d8",
           "#f99393",
           "#c3fb82",
           "#f8b3ec",
           "#8dd6f3",
           "#c6e9dc",
           "#e7c1be",
           "#fae991",
           "#f2fda3",
           "#c9de99",
           "#8feba8",
           "#90fcad",
           "#beeda0",
           "#e1e0d8",
           "#f99393"
          ]
         },
         "textfont": {
          "size": 20
         },
         "textinfo": "percent+label",
         "textposition": "inside",
         "type": "pie",
         "values": [
          1.1109887773806724,
          17.10634728413258,
          0.1195038727502755,
          0.007930683091006148,
          2.051591783833124e-7,
          0.0000012089400598684456,
          5.362467648147148e-7,
          0.0000035273449135013637,
          1.6131264501992325e-8,
          2.161230883760161e-8,
          1.7271193963703464e-7,
          6.412737686695321e-7,
          3.6069321332341353e-7,
          11.616293185480599,
          0.10145543999275111,
          0.013117664528963848,
          1.886037951424161e-7,
          0.0000019190826427090156,
          6.846846753802604e-7,
          4.775301663749997,
          1.59081300942636e-8,
          2.2327680274297787e-8,
          2.6749607806259785e-7,
          6.327250843018378e-7,
          3.553757830805251e-7,
          0.23425033208025417,
          4.153663251236107,
          0.025460742904260196,
          0.0014099745776082102,
          1.8717050884911825e-7,
          0.000006095117598844991,
          5.138758080297114e-7,
          0.000002279776527221862,
          1.6052475008167555e-8,
          1.349416113825896e-8,
          2.2587695996153017e-8,
          3.054659100124782e-7,
          4.85406335290496e-7,
          3.114108596789042e-7,
          3.887622895828706,
          0.008816134661306704,
          0.0025745044666290275,
          2.195698733286352e-7,
          0.03676138321314696,
          6.86519056846451e-7,
          0.11047243296340518,
          1.6644061314957707e-8,
          2.364585562825464e-8,
          4.2762070524070816e-7,
          9.019082366169451e-7,
          4.558858381068922e-7,
          6.958441234824113,
          0.032758401257501894,
          0.004700547982148367,
          2.5128346857189874e-7,
          7.07065084102007e-7,
          6.055818328792213e-7,
          3.4811819536036905,
          1.5768576598969605e-8,
          1.2706521583437424e-8,
          2.177103204736672e-8,
          1.738187862352409e-7,
          6.38289034014258e-7,
          3.695162334190894e-7,
          1.9760911371719054,
          87.66964745604884,
          0.19486282095874782,
          0.03180127897397955,
          2.0772106545671477e-7,
          5.792894197913448e-7,
          4.344781912011894e-7,
          0.0000027293100617501906,
          1.5070130591448912e-8,
          1.2709545702985345e-8,
          2.0855339978054154e-8,
          1.6688935984736815e-7,
          4.2099369799319873e-7,
          2.5327165323772854e-7,
          0.1120444130339746,
          3.9125227891673156,
          0.011576996539274569,
          0.0012756101636045949,
          1.6207331056309293e-7,
          9.176596525254642e-7,
          5.509854480598574e-7,
          0.0000026608881405764394,
          1.5457714685305492e-8,
          2.131540145666571e-8,
          1.3222689612759493e-7,
          5.978724027271445e-7,
          3.427983148279097e-7,
          0.05600416074885002,
          0.9499071185862024,
          0.0061040042685300685,
          0.00032065775177490455,
          1.7004117348436496e-7,
          6.423331204742573e-7,
          4.967748422909585e-7,
          0.0000019319013218814285,
          2.2751970650718915e-8,
          9.174565043251472e-8,
          7.855907793823382e-7,
          3.826798212168049e-7,
          4.141959793935583,
          34.18720457916854,
          0.26208735309718983,
          0.1094656779952922,
          1.7146298498702195e-7,
          0.43615870801539336,
          5.446321886767263e-7,
          0.000003506040904821685,
          1.5881816351636454e-8,
          2.2456866870949198e-8,
          4.670242192195579e-7,
          3.82189718753967e-7,
          2.4194254806941254e-7,
          1.416109896946895,
          22.521247526909146,
          0.34232429820995136,
          0.03093630415474729,
          1.7047872540928554e-7,
          0.3881742173675808,
          7.292147370416757e-7,
          1.7678403770538789,
          1.6034531822425846e-8,
          2.302927610670303e-8,
          9.10605869858157e-8,
          0.0000016029498006143335,
          6.014718961206767e-7,
          1.8019346074329623,
          54.18559612434959,
          0.1794178089604071,
          0.02726996154221581,
          1.5864551572954028e-7,
          5.521893141011544e-7,
          4.548197488136084e-7,
          0.0000018886819933260196,
          1.507957796122509e-8,
          2.079470129862121e-8,
          2.1614374133830678e-7,
          3.9300304207666406e-7,
          2.500132708288998e-7,
          0.16346714233163842,
          5.594254512967763,
          0.01419649138368328,
          0.004556515739239489,
          2.8551226870325645e-7,
          0.00003657053972435697,
          5.034859575052497e-7,
          0.000007812559825155125,
          2.254571245777078e-8,
          7.110442996724474e-7,
          4.09342050201125e-7,
          2.5542507896365e-7,
          0.01858535390551968,
          2.204440109303064,
          0.0010741901367205342,
          0.0010588667978087437,
          2.3224485498542998e-7,
          6.864784747251616e-7,
          5.101125179798383e-7,
          0.0000036071215896430856,
          1.598540791887539e-8,
          1.3228219381844208e-8,
          2.226938782372787e-8,
          2.5618574889245154e-7,
          4.464875115684209e-7,
          2.790123506405883e-7,
          0.09020865169602474,
          9.84622695624746,
          0.008745947418578764,
          0.0016021559854604848,
          2.0322573805783387e-7,
          9.446738439862102e-7,
          5.07845971103518e-7,
          0.0000025779994228843777,
          1.5855157092637786e-8,
          1.333524545238047e-8,
          2.2292587980016492e-8,
          9.545798992518712e-8,
          5.24061850073892e-7,
          3.083227803293061e-7,
          0.14217748406538644,
          5.687512175559218,
          0.013981945446044676,
          0.004020933035511021,
          1.992816127777596e-7,
          7.819024818183736e-7,
          6.582358939908824e-7,
          0.00015761463416341876,
          1.5969926357011056e-8,
          2.190923779474694e-8,
          1.4717916017943204e-7,
          7.050347652046414e-7,
          3.9301600212483753e-7,
          0.4266186403292784,
          53.11506673228996,
          0.025027271125182014,
          0.02390811609040846,
          2.4160569147499944e-7,
          0.0000010086994762029309,
          4.970681882827942e-7,
          0.000003372626943794185,
          1.56800715719018e-8,
          2.1938356053427462e-8,
          3.1746666375715514e-7,
          3.824204454906938e-7,
          2.433875647463125e-7,
          0.0531805404457634,
          2.53364324545451,
          0.005532213960731406,
          0.0005686993773305358,
          1.4716122736508444e-7,
          0.000004490095247187109,
          4.782067799840284e-7,
          0.0000015226920205696435,
          1.642731808881157e-8,
          2.2812220353434046e-8,
          8.49444988257549e-8,
          7.346043535985395e-7,
          3.945580103592729e-7,
          0.375941967040337,
          0.0008488217397282789,
          0.0024789072273884638,
          2.4152123612261405e-7,
          0.000015511267123866657,
          6.561362477532169e-7,
          0.21626382118223972,
          1.6587415388791046e-8,
          2.298006000138626e-8,
          2.2298074764149771e-7,
          7.20670466205931e-7,
          4.060582732442304e-7,
          0.08896640765234375,
          3.2498260962406533,
          0.009479842251318137,
          0.0007257655029999231,
          1.6715043954854104e-7,
          6.795266756165144e-7,
          5.290459533381077e-7,
          0.0000019535632324891834,
          1.638166357250476e-8,
          2.3087467664687083e-8,
          1.043496398907729e-7,
          7.039323401072164e-7,
          3.97607092476771e-7,
          19.90819059839601,
          0.011175118550217931,
          0.005700520351556601,
          2.3195688614266883e-7,
          0.0000012891941345368338,
          6.457534091985933e-7,
          1.6850795856028056,
          1.5382633144210193e-8,
          2.1381553889026037e-8,
          2.3326555717347256e-7,
          6.331115653074335e-7,
          3.5679931132375966e-7,
          0.21113106477939547,
          3.769579808779111,
          0.014206254696009208,
          0.022942764958222204,
          1.4507368784367229e-7,
          0.0000034323677882713466,
          5.454998010538858e-7,
          0.0000026970189314590037,
          2.3224297669078577e-8,
          1.1929888176880443e-7,
          0.0000024568201013866505,
          4.636023596954474e-7,
          0.18862959107081342,
          24.97259899321415,
          0.15494127739951527,
          0.003877085181644079,
          3.0683523633597243e-7,
          0.0000012252612953239736,
          6.216466563085754e-7,
          1.195914678549942,
          1.562970565608599e-8,
          1.2738753187695367e-8,
          2.1728733021019976e-8,
          1.4340754024035723e-7,
          7.869076801538785e-7,
          4.1160788079941255e-7,
          2.7882687051321087,
          8.763611963249788,
          0.16708711390073885,
          0.1498790914487827,
          1.871226065751805e-7,
          0.3301916351572153,
          5.988012887904982e-7,
          0.0000043884581704866756,
          2.3375778074559207e-8,
          5.0529957596806e-7,
          4.037979020912528e-7,
          2.5161071961888243e-7,
          0.157367523414364,
          10.678115935986078,
          0.015370760126741054,
          0.0026803535715687714,
          1.7363104121968834e-7,
          0.000001788188414225053,
          4.999375284829224e-7,
          0.0000019606486583918603,
          1.5748492736247703e-8,
          1.2800962457022355e-8,
          2.1472558751318285e-8,
          1.599232312940169e-7,
          5.167344252604961e-7,
          3.1632970985812874e-7,
          0.34783784378070254,
          19.90251744150212,
          0.5131821387639649,
          0.052746330942192,
          1.700482322414165e-7,
          0.38281404162056476,
          6.907959584132941e-7,
          4.424383184510805,
          1.603522626808397e-8,
          2.2569828307711037e-8,
          8.710513719219936e-8,
          0.0000010362000907308357,
          4.914317057499656e-7,
          1.6608986696665058,
          0.004187061095014093,
          0.0021164589746837715,
          2.4974584279641196e-7,
          0.018514356923884274,
          6.436959390148781e-7,
          0.5756376391368646,
          1.6514982466769126e-8,
          1.351559952387274e-8,
          2.3007962597723888e-8,
          2.4324332753708464e-7,
          6.562263418833395e-7,
          3.663878344417253e-7,
          0.266195900832266,
          1.4668534194238225,
          0.02573440932544025,
          0.004799696779427722,
          2.238954676575734e-7,
          4.428595034385547e-7,
          4.932752871696354e-7,
          0.0000029018956498853132,
          1.4788340045198493e-8,
          1.1791487207119988e-8,
          2.009258216082266e-8,
          1.498506284468098e-7,
          6.16707273335451e-7,
          3.538756968070463e-7,
          27.16474360987022,
          3.923352893965516e-7,
          0.007391907898479858,
          2.587127045930107e-7,
          0.01548098947464844,
          5.366609059989135e-7,
          8.84979132934247,
          1.6061357066769105e-8,
          1.3427641065341611e-8,
          2.2599913851261874e-8,
          6.172586963624778e-7,
          4.1095490412593174e-7,
          2.593643543057001e-7,
          68.03088477900613,
          0.0343391528881028,
          0.030704241680403546,
          1.930742943003668e-7,
          8.502119668320571e-7,
          6.311796461349913e-7,
          3.1060667322882174,
          1.5614181429842084e-8,
          2.1905530254378205e-8,
          1.0721872430789832e-7,
          6.332156177772924e-7,
          3.4458263031369557e-7,
          2.1914686277838085,
          0.015143757785246412,
          0.0020200578782655874,
          2.184468937649036e-7,
          0.04910260230771186,
          6.913692360296236e-7,
          0.5867278099587211,
          1.6604235919633048e-8,
          1.3843380814226482e-8,
          2.3498183301337776e-8,
          4.040626748666352e-7,
          7.215826402120744e-7,
          3.923608749909574e-7
         ]
        }
       ],
       "layout": {
        "height": 800,
        "template": {
         "data": {
          "bar": [
           {
            "error_x": {
             "color": "#2a3f5f"
            },
            "error_y": {
             "color": "#2a3f5f"
            },
            "marker": {
             "line": {
              "color": "#E5ECF6",
              "width": 0.5
             },
             "pattern": {
              "fillmode": "overlay",
              "size": 10,
              "solidity": 0.2
             }
            },
            "type": "bar"
           }
          ],
          "barpolar": [
           {
            "marker": {
             "line": {
              "color": "#E5ECF6",
              "width": 0.5
             },
             "pattern": {
              "fillmode": "overlay",
              "size": 10,
              "solidity": 0.2
             }
            },
            "type": "barpolar"
           }
          ],
          "carpet": [
           {
            "aaxis": {
             "endlinecolor": "#2a3f5f",
             "gridcolor": "white",
             "linecolor": "white",
             "minorgridcolor": "white",
             "startlinecolor": "#2a3f5f"
            },
            "baxis": {
             "endlinecolor": "#2a3f5f",
             "gridcolor": "white",
             "linecolor": "white",
             "minorgridcolor": "white",
             "startlinecolor": "#2a3f5f"
            },
            "type": "carpet"
           }
          ],
          "choropleth": [
           {
            "colorbar": {
             "outlinewidth": 0,
             "ticks": ""
            },
            "type": "choropleth"
           }
          ],
          "contour": [
           {
            "colorbar": {
             "outlinewidth": 0,
             "ticks": ""
            },
            "colorscale": [
             [
              0,
              "#0d0887"
             ],
             [
              0.1111111111111111,
              "#46039f"
             ],
             [
              0.2222222222222222,
              "#7201a8"
             ],
             [
              0.3333333333333333,
              "#9c179e"
             ],
             [
              0.4444444444444444,
              "#bd3786"
             ],
             [
              0.5555555555555556,
              "#d8576b"
             ],
             [
              0.6666666666666666,
              "#ed7953"
             ],
             [
              0.7777777777777778,
              "#fb9f3a"
             ],
             [
              0.8888888888888888,
              "#fdca26"
             ],
             [
              1,
              "#f0f921"
             ]
            ],
            "type": "contour"
           }
          ],
          "contourcarpet": [
           {
            "colorbar": {
             "outlinewidth": 0,
             "ticks": ""
            },
            "type": "contourcarpet"
           }
          ],
          "heatmap": [
           {
            "colorbar": {
             "outlinewidth": 0,
             "ticks": ""
            },
            "colorscale": [
             [
              0,
              "#0d0887"
             ],
             [
              0.1111111111111111,
              "#46039f"
             ],
             [
              0.2222222222222222,
              "#7201a8"
             ],
             [
              0.3333333333333333,
              "#9c179e"
             ],
             [
              0.4444444444444444,
              "#bd3786"
             ],
             [
              0.5555555555555556,
              "#d8576b"
             ],
             [
              0.6666666666666666,
              "#ed7953"
             ],
             [
              0.7777777777777778,
              "#fb9f3a"
             ],
             [
              0.8888888888888888,
              "#fdca26"
             ],
             [
              1,
              "#f0f921"
             ]
            ],
            "type": "heatmap"
           }
          ],
          "heatmapgl": [
           {
            "colorbar": {
             "outlinewidth": 0,
             "ticks": ""
            },
            "colorscale": [
             [
              0,
              "#0d0887"
             ],
             [
              0.1111111111111111,
              "#46039f"
             ],
             [
              0.2222222222222222,
              "#7201a8"
             ],
             [
              0.3333333333333333,
              "#9c179e"
             ],
             [
              0.4444444444444444,
              "#bd3786"
             ],
             [
              0.5555555555555556,
              "#d8576b"
             ],
             [
              0.6666666666666666,
              "#ed7953"
             ],
             [
              0.7777777777777778,
              "#fb9f3a"
             ],
             [
              0.8888888888888888,
              "#fdca26"
             ],
             [
              1,
              "#f0f921"
             ]
            ],
            "type": "heatmapgl"
           }
          ],
          "histogram": [
           {
            "marker": {
             "pattern": {
              "fillmode": "overlay",
              "size": 10,
              "solidity": 0.2
             }
            },
            "type": "histogram"
           }
          ],
          "histogram2d": [
           {
            "colorbar": {
             "outlinewidth": 0,
             "ticks": ""
            },
            "colorscale": [
             [
              0,
              "#0d0887"
             ],
             [
              0.1111111111111111,
              "#46039f"
             ],
             [
              0.2222222222222222,
              "#7201a8"
             ],
             [
              0.3333333333333333,
              "#9c179e"
             ],
             [
              0.4444444444444444,
              "#bd3786"
             ],
             [
              0.5555555555555556,
              "#d8576b"
             ],
             [
              0.6666666666666666,
              "#ed7953"
             ],
             [
              0.7777777777777778,
              "#fb9f3a"
             ],
             [
              0.8888888888888888,
              "#fdca26"
             ],
             [
              1,
              "#f0f921"
             ]
            ],
            "type": "histogram2d"
           }
          ],
          "histogram2dcontour": [
           {
            "colorbar": {
             "outlinewidth": 0,
             "ticks": ""
            },
            "colorscale": [
             [
              0,
              "#0d0887"
             ],
             [
              0.1111111111111111,
              "#46039f"
             ],
             [
              0.2222222222222222,
              "#7201a8"
             ],
             [
              0.3333333333333333,
              "#9c179e"
             ],
             [
              0.4444444444444444,
              "#bd3786"
             ],
             [
              0.5555555555555556,
              "#d8576b"
             ],
             [
              0.6666666666666666,
              "#ed7953"
             ],
             [
              0.7777777777777778,
              "#fb9f3a"
             ],
             [
              0.8888888888888888,
              "#fdca26"
             ],
             [
              1,
              "#f0f921"
             ]
            ],
            "type": "histogram2dcontour"
           }
          ],
          "mesh3d": [
           {
            "colorbar": {
             "outlinewidth": 0,
             "ticks": ""
            },
            "type": "mesh3d"
           }
          ],
          "parcoords": [
           {
            "line": {
             "colorbar": {
              "outlinewidth": 0,
              "ticks": ""
             }
            },
            "type": "parcoords"
           }
          ],
          "pie": [
           {
            "automargin": true,
            "type": "pie"
           }
          ],
          "scatter": [
           {
            "fillpattern": {
             "fillmode": "overlay",
             "size": 10,
             "solidity": 0.2
            },
            "type": "scatter"
           }
          ],
          "scatter3d": [
           {
            "line": {
             "colorbar": {
              "outlinewidth": 0,
              "ticks": ""
             }
            },
            "marker": {
             "colorbar": {
              "outlinewidth": 0,
              "ticks": ""
             }
            },
            "type": "scatter3d"
           }
          ],
          "scattercarpet": [
           {
            "marker": {
             "colorbar": {
              "outlinewidth": 0,
              "ticks": ""
             }
            },
            "type": "scattercarpet"
           }
          ],
          "scattergeo": [
           {
            "marker": {
             "colorbar": {
              "outlinewidth": 0,
              "ticks": ""
             }
            },
            "type": "scattergeo"
           }
          ],
          "scattergl": [
           {
            "marker": {
             "colorbar": {
              "outlinewidth": 0,
              "ticks": ""
             }
            },
            "type": "scattergl"
           }
          ],
          "scattermapbox": [
           {
            "marker": {
             "colorbar": {
              "outlinewidth": 0,
              "ticks": ""
             }
            },
            "type": "scattermapbox"
           }
          ],
          "scatterpolar": [
           {
            "marker": {
             "colorbar": {
              "outlinewidth": 0,
              "ticks": ""
             }
            },
            "type": "scatterpolar"
           }
          ],
          "scatterpolargl": [
           {
            "marker": {
             "colorbar": {
              "outlinewidth": 0,
              "ticks": ""
             }
            },
            "type": "scatterpolargl"
           }
          ],
          "scatterternary": [
           {
            "marker": {
             "colorbar": {
              "outlinewidth": 0,
              "ticks": ""
             }
            },
            "type": "scatterternary"
           }
          ],
          "surface": [
           {
            "colorbar": {
             "outlinewidth": 0,
             "ticks": ""
            },
            "colorscale": [
             [
              0,
              "#0d0887"
             ],
             [
              0.1111111111111111,
              "#46039f"
             ],
             [
              0.2222222222222222,
              "#7201a8"
             ],
             [
              0.3333333333333333,
              "#9c179e"
             ],
             [
              0.4444444444444444,
              "#bd3786"
             ],
             [
              0.5555555555555556,
              "#d8576b"
             ],
             [
              0.6666666666666666,
              "#ed7953"
             ],
             [
              0.7777777777777778,
              "#fb9f3a"
             ],
             [
              0.8888888888888888,
              "#fdca26"
             ],
             [
              1,
              "#f0f921"
             ]
            ],
            "type": "surface"
           }
          ],
          "table": [
           {
            "cells": {
             "fill": {
              "color": "#EBF0F8"
             },
             "line": {
              "color": "white"
             }
            },
            "header": {
             "fill": {
              "color": "#C8D4E3"
             },
             "line": {
              "color": "white"
             }
            },
            "type": "table"
           }
          ]
         },
         "layout": {
          "annotationdefaults": {
           "arrowcolor": "#2a3f5f",
           "arrowhead": 0,
           "arrowwidth": 1
          },
          "autotypenumbers": "strict",
          "coloraxis": {
           "colorbar": {
            "outlinewidth": 0,
            "ticks": ""
           }
          },
          "colorscale": {
           "diverging": [
            [
             0,
             "#8e0152"
            ],
            [
             0.1,
             "#c51b7d"
            ],
            [
             0.2,
             "#de77ae"
            ],
            [
             0.3,
             "#f1b6da"
            ],
            [
             0.4,
             "#fde0ef"
            ],
            [
             0.5,
             "#f7f7f7"
            ],
            [
             0.6,
             "#e6f5d0"
            ],
            [
             0.7,
             "#b8e186"
            ],
            [
             0.8,
             "#7fbc41"
            ],
            [
             0.9,
             "#4d9221"
            ],
            [
             1,
             "#276419"
            ]
           ],
           "sequential": [
            [
             0,
             "#0d0887"
            ],
            [
             0.1111111111111111,
             "#46039f"
            ],
            [
             0.2222222222222222,
             "#7201a8"
            ],
            [
             0.3333333333333333,
             "#9c179e"
            ],
            [
             0.4444444444444444,
             "#bd3786"
            ],
            [
             0.5555555555555556,
             "#d8576b"
            ],
            [
             0.6666666666666666,
             "#ed7953"
            ],
            [
             0.7777777777777778,
             "#fb9f3a"
            ],
            [
             0.8888888888888888,
             "#fdca26"
            ],
            [
             1,
             "#f0f921"
            ]
           ],
           "sequentialminus": [
            [
             0,
             "#0d0887"
            ],
            [
             0.1111111111111111,
             "#46039f"
            ],
            [
             0.2222222222222222,
             "#7201a8"
            ],
            [
             0.3333333333333333,
             "#9c179e"
            ],
            [
             0.4444444444444444,
             "#bd3786"
            ],
            [
             0.5555555555555556,
             "#d8576b"
            ],
            [
             0.6666666666666666,
             "#ed7953"
            ],
            [
             0.7777777777777778,
             "#fb9f3a"
            ],
            [
             0.8888888888888888,
             "#fdca26"
            ],
            [
             1,
             "#f0f921"
            ]
           ]
          },
          "colorway": [
           "#636efa",
           "#EF553B",
           "#00cc96",
           "#ab63fa",
           "#FFA15A",
           "#19d3f3",
           "#FF6692",
           "#B6E880",
           "#FF97FF",
           "#FECB52"
          ],
          "font": {
           "color": "#2a3f5f"
          },
          "geo": {
           "bgcolor": "white",
           "lakecolor": "white",
           "landcolor": "#E5ECF6",
           "showlakes": true,
           "showland": true,
           "subunitcolor": "white"
          },
          "hoverlabel": {
           "align": "left"
          },
          "hovermode": "closest",
          "mapbox": {
           "style": "light"
          },
          "paper_bgcolor": "white",
          "plot_bgcolor": "#E5ECF6",
          "polar": {
           "angularaxis": {
            "gridcolor": "white",
            "linecolor": "white",
            "ticks": ""
           },
           "bgcolor": "#E5ECF6",
           "radialaxis": {
            "gridcolor": "white",
            "linecolor": "white",
            "ticks": ""
           }
          },
          "scene": {
           "xaxis": {
            "backgroundcolor": "#E5ECF6",
            "gridcolor": "white",
            "gridwidth": 2,
            "linecolor": "white",
            "showbackground": true,
            "ticks": "",
            "zerolinecolor": "white"
           },
           "yaxis": {
            "backgroundcolor": "#E5ECF6",
            "gridcolor": "white",
            "gridwidth": 2,
            "linecolor": "white",
            "showbackground": true,
            "ticks": "",
            "zerolinecolor": "white"
           },
           "zaxis": {
            "backgroundcolor": "#E5ECF6",
            "gridcolor": "white",
            "gridwidth": 2,
            "linecolor": "white",
            "showbackground": true,
            "ticks": "",
            "zerolinecolor": "white"
           }
          },
          "shapedefaults": {
           "line": {
            "color": "#2a3f5f"
           }
          },
          "ternary": {
           "aaxis": {
            "gridcolor": "white",
            "linecolor": "white",
            "ticks": ""
           },
           "baxis": {
            "gridcolor": "white",
            "linecolor": "white",
            "ticks": ""
           },
           "bgcolor": "#E5ECF6",
           "caxis": {
            "gridcolor": "white",
            "linecolor": "white",
            "ticks": ""
           }
          },
          "title": {
           "x": 0.05
          },
          "xaxis": {
           "automargin": true,
           "gridcolor": "white",
           "linecolor": "white",
           "ticks": "",
           "title": {
            "standoff": 15
           },
           "zerolinecolor": "white",
           "zerolinewidth": 2
          },
          "yaxis": {
           "automargin": true,
           "gridcolor": "white",
           "linecolor": "white",
           "ticks": "",
           "title": {
            "standoff": 15
           },
           "zerolinecolor": "white",
           "zerolinewidth": 2
          }
         }
        },
        "title": {
         "text": "Energy Production 2050"
        },
        "width": 900
       }
      }
     },
     "metadata": {},
     "output_type": "display_data"
    },
    {
     "name": "stdout",
     "output_type": "stream",
     "text": [
      "Converting from PetaJoules to TerraWattHours\n"
     ]
    },
    {
     "data": {
      "application/vnd.plotly.v1+json": {
       "config": {
        "plotlyServerURL": "https://plot.ly"
       },
       "data": [
        {
         "labels": [
          "CHP_Biomass_Solid",
          "HLI_Convert_DH",
          "HLI_Biomass",
          "HLI_Direct_Electric",
          "HLI_Fuelcell",
          "HLI_Gas_Boiler",
          "HLI_Geothermal",
          "HLI_H2_Boiler",
          "HLI_Hardcoal",
          "HLI_Oil_Boiler",
          "HLI_Solar_Thermal",
          "HLI_Heatpump",
          "HMLI_Heatpump",
          "HLI_Convert_DH",
          "HLI_Biomass",
          "HLI_Direct_Electric",
          "HLI_Fuelcell",
          "HLI_Gas_Boiler",
          "HLI_Geothermal",
          "HLI_H2_Boiler",
          "HLI_Hardcoal",
          "HLI_Oil_Boiler",
          "HLI_Solar_Thermal",
          "HLI_Heatpump",
          "HMLI_Heatpump",
          "CHP_Biomass_Solid",
          "HLI_Convert_DH",
          "HLI_Biomass",
          "HLI_Direct_Electric",
          "HLI_Fuelcell",
          "HLI_Gas_Boiler",
          "HLI_Geothermal",
          "HLI_H2_Boiler",
          "HLI_Hardcoal",
          "HLI_Lignite",
          "HLI_Oil_Boiler",
          "HLI_Solar_Thermal",
          "HLI_Heatpump",
          "HMLI_Heatpump",
          "CHP_Biomass_Solid",
          "HLI_Convert_DH",
          "HLI_Biomass",
          "HLI_Direct_Electric",
          "HLI_Fuelcell",
          "HLI_Gas_Boiler",
          "HLI_Geothermal",
          "HLI_H2_Boiler",
          "HLI_Hardcoal",
          "HLI_Oil_Boiler",
          "HLI_Solar_Thermal",
          "HLI_Heatpump",
          "HMLI_Heatpump",
          "CHP_Biomass_Solid",
          "HLI_Convert_DH",
          "HLI_Biomass",
          "HLI_Direct_Electric",
          "HLI_Fuelcell",
          "HLI_Gas_Boiler",
          "HLI_Geothermal",
          "HLI_H2_Boiler",
          "HLI_Hardcoal",
          "HLI_Lignite",
          "HLI_Oil_Boiler",
          "HLI_Solar_Thermal",
          "HLI_Heatpump",
          "HMLI_Heatpump",
          "HLI_Convert_DH",
          "HLI_Biomass",
          "HLI_Direct_Electric",
          "HLI_Fuelcell",
          "HLI_Gas_Boiler",
          "HLI_Geothermal",
          "HLI_H2_Boiler",
          "HLI_Hardcoal",
          "HLI_Lignite",
          "HLI_Oil_Boiler",
          "HLI_Solar_Thermal",
          "HLI_Heatpump",
          "HMLI_Heatpump",
          "CHP_Biomass_Solid",
          "HLI_Convert_DH",
          "HLI_Biomass",
          "HLI_Direct_Electric",
          "HLI_Fuelcell",
          "HLI_Gas_Boiler",
          "HLI_Geothermal",
          "HLI_H2_Boiler",
          "HLI_Hardcoal",
          "HLI_Oil_Boiler",
          "HLI_Solar_Thermal",
          "HLI_Heatpump",
          "HMLI_Heatpump",
          "HLI_Convert_DH",
          "HLI_Biomass",
          "HLI_Direct_Electric",
          "HLI_Fuelcell",
          "HLI_Gas_Boiler",
          "HLI_Geothermal",
          "HLI_H2_Boiler",
          "HLI_Oil_Boiler",
          "HLI_Solar_Thermal",
          "HLI_Heatpump",
          "HMLI_Heatpump",
          "HLI_Convert_DH",
          "HLI_Biomass",
          "HLI_Direct_Electric",
          "HLI_Fuelcell",
          "HLI_Gas_Boiler",
          "HLI_Geothermal",
          "HLI_H2_Boiler",
          "HLI_Hardcoal",
          "HLI_Oil_Boiler",
          "HLI_Solar_Thermal",
          "HLI_Heatpump",
          "HMLI_Heatpump",
          "CHP_Biomass_Solid",
          "HLI_Convert_DH",
          "HLI_Biomass",
          "HLI_Direct_Electric",
          "HLI_Fuelcell",
          "HLI_Gas_Boiler",
          "HLI_Geothermal",
          "HLI_H2_Boiler",
          "HLI_Hardcoal",
          "HLI_Oil_Boiler",
          "HLI_Solar_Thermal",
          "HLI_Heatpump",
          "HMLI_Heatpump",
          "HLI_Convert_DH",
          "HLI_Biomass",
          "HLI_Direct_Electric",
          "HLI_Fuelcell",
          "HLI_Gas_Boiler",
          "HLI_Geothermal",
          "HLI_H2_Boiler",
          "HLI_Hardcoal",
          "HLI_Oil_Boiler",
          "HLI_Solar_Thermal",
          "HLI_Heatpump",
          "HMLI_Heatpump",
          "CHP_Biomass_Solid",
          "HLI_Convert_DH",
          "HLI_Biomass",
          "HLI_Direct_Electric",
          "HLI_Fuelcell",
          "HLI_Gas_Boiler",
          "HLI_Geothermal",
          "HLI_H2_Boiler",
          "HLI_Oil_Boiler",
          "HLI_Solar_Thermal",
          "HLI_Heatpump",
          "HMLI_Heatpump",
          "CHP_Biomass_Solid",
          "HLI_Convert_DH",
          "HLI_Biomass",
          "HLI_Direct_Electric",
          "HLI_Fuelcell",
          "HLI_Gas_Boiler",
          "HLI_Geothermal",
          "HLI_H2_Boiler",
          "HLI_Hardcoal",
          "HLI_Lignite",
          "HLI_Oil_Boiler",
          "HLI_Solar_Thermal",
          "HLI_Heatpump",
          "HMLI_Heatpump",
          "HLI_Convert_DH",
          "HLI_Biomass",
          "HLI_Direct_Electric",
          "HLI_Fuelcell",
          "HLI_Gas_Boiler",
          "HLI_Geothermal",
          "HLI_H2_Boiler",
          "HLI_Hardcoal",
          "HLI_Lignite",
          "HLI_Oil_Boiler",
          "HLI_Solar_Thermal",
          "HLI_Heatpump",
          "HMLI_Heatpump",
          "CHP_Biomass_Solid",
          "HLI_Convert_DH",
          "HLI_Biomass",
          "HLI_Direct_Electric",
          "HLI_Fuelcell",
          "HLI_Gas_Boiler",
          "HLI_Geothermal",
          "HLI_H2_Boiler",
          "HLI_Hardcoal",
          "HLI_Oil_Boiler",
          "HLI_Solar_Thermal",
          "HLI_Heatpump",
          "HMLI_Heatpump",
          "HLI_Convert_DH",
          "HLI_Biomass",
          "HLI_Direct_Electric",
          "HLI_Fuelcell",
          "HLI_Gas_Boiler",
          "HLI_Geothermal",
          "HLI_H2_Boiler",
          "HLI_Hardcoal",
          "HLI_Oil_Boiler",
          "HLI_Solar_Thermal",
          "HLI_Heatpump",
          "HMLI_Heatpump",
          "CHP_Biomass_Solid",
          "HLI_Convert_DH",
          "HLI_Biomass",
          "HLI_Direct_Electric",
          "HLI_Fuelcell",
          "HLI_Gas_Boiler",
          "HLI_Geothermal",
          "HLI_H2_Boiler",
          "HLI_Hardcoal",
          "HLI_Oil_Boiler",
          "HLI_Solar_Thermal",
          "HLI_Heatpump",
          "HMLI_Heatpump",
          "CHP_Biomass_Solid",
          "HLI_Convert_DH",
          "HLI_Biomass",
          "HLI_Direct_Electric",
          "HLI_Fuelcell",
          "HLI_Gas_Boiler",
          "HLI_Geothermal",
          "HLI_H2_Boiler",
          "HLI_Hardcoal",
          "HLI_Oil_Boiler",
          "HLI_Solar_Thermal",
          "HLI_Heatpump",
          "HMLI_Heatpump",
          "CHP_Biomass_Solid",
          "HLI_Convert_DH",
          "HLI_Biomass",
          "HLI_Direct_Electric",
          "HLI_Fuelcell",
          "HLI_Gas_Boiler",
          "HLI_Geothermal",
          "HLI_H2_Boiler",
          "HLI_Hardcoal",
          "HLI_Oil_Boiler",
          "HLI_Solar_Thermal",
          "HLI_Heatpump",
          "HMLI_Heatpump",
          "CHP_Biomass_Solid",
          "HLI_Convert_DH",
          "HLI_Biomass",
          "HLI_Direct_Electric",
          "HLI_Fuelcell",
          "HLI_Gas_Boiler",
          "HLI_Geothermal",
          "HLI_H2_Boiler",
          "HLI_Hardcoal",
          "HLI_Oil_Boiler",
          "HLI_Solar_Thermal",
          "HLI_Heatpump",
          "HMLI_Heatpump",
          "CHP_Biomass_Solid",
          "HLI_Convert_DH",
          "HLI_Biomass",
          "HLI_Direct_Electric",
          "HLI_Fuelcell",
          "HLI_Gas_Boiler",
          "HLI_Geothermal",
          "HLI_H2_Boiler",
          "HLI_Oil_Boiler",
          "HLI_Solar_Thermal",
          "HLI_Heatpump",
          "HMLI_Heatpump",
          "CHP_Biomass_Solid",
          "HLI_Convert_DH",
          "HLI_Biomass",
          "HLI_Direct_Electric",
          "HLI_Fuelcell",
          "HLI_Gas_Boiler",
          "HLI_Geothermal",
          "HLI_H2_Boiler",
          "HLI_Hardcoal",
          "HLI_Lignite",
          "HLI_Oil_Boiler",
          "HLI_Solar_Thermal",
          "HLI_Heatpump",
          "HMLI_Heatpump",
          "CHP_Biomass_Solid",
          "HLI_Convert_DH",
          "HLI_Biomass",
          "HLI_Direct_Electric",
          "HLI_Fuelcell",
          "HLI_Gas_Boiler",
          "HLI_Geothermal",
          "HLI_H2_Boiler",
          "HLI_Oil_Boiler",
          "HLI_Solar_Thermal",
          "HLI_Heatpump",
          "HMLI_Heatpump",
          "CHP_Biomass_Solid",
          "HLI_Convert_DH",
          "HLI_Biomass",
          "HLI_Direct_Electric",
          "HLI_Fuelcell",
          "HLI_Gas_Boiler",
          "HLI_Geothermal",
          "HLI_H2_Boiler",
          "HLI_Hardcoal",
          "HLI_Lignite",
          "HLI_Oil_Boiler",
          "HLI_Solar_Thermal",
          "HLI_Heatpump",
          "HMLI_Heatpump",
          "CHP_Biomass_Solid",
          "HLI_Convert_DH",
          "HLI_Biomass",
          "HLI_Direct_Electric",
          "HLI_Fuelcell",
          "HLI_Gas_Boiler",
          "HLI_Geothermal",
          "HLI_H2_Boiler",
          "HLI_Hardcoal",
          "HLI_Oil_Boiler",
          "HLI_Solar_Thermal",
          "HLI_Heatpump",
          "HMLI_Heatpump",
          "HLI_Convert_DH",
          "HLI_Biomass",
          "HLI_Direct_Electric",
          "HLI_Fuelcell",
          "HLI_Gas_Boiler",
          "HLI_Geothermal",
          "HLI_H2_Boiler",
          "HLI_Hardcoal",
          "HLI_Lignite",
          "HLI_Oil_Boiler",
          "HLI_Solar_Thermal",
          "HLI_Heatpump",
          "HMLI_Heatpump",
          "CHP_Biomass_Solid",
          "HLI_Convert_DH",
          "HLI_Biomass",
          "HLI_Direct_Electric",
          "HLI_Fuelcell",
          "HLI_Gas_Boiler",
          "HLI_Geothermal",
          "HLI_H2_Boiler",
          "HLI_Hardcoal",
          "HLI_Lignite",
          "HLI_Oil_Boiler",
          "HLI_Solar_Thermal",
          "HLI_Heatpump",
          "HMLI_Heatpump",
          "CHP_Biomass_Solid",
          "HLI_Convert_DH",
          "HLI_Biomass",
          "HLI_Direct_Electric",
          "HLI_Fuelcell",
          "HLI_Gas_Boiler",
          "HLI_Geothermal",
          "HLI_H2_Boiler",
          "HLI_Hardcoal",
          "HLI_Lignite",
          "HLI_Oil_Boiler",
          "HLI_Solar_Thermal",
          "HLI_Heatpump",
          "HMLI_Heatpump",
          "HLI_Convert_DH",
          "HLI_Biomass",
          "HLI_Direct_Electric",
          "HLI_Fuelcell",
          "HLI_Gas_Boiler",
          "HLI_Geothermal",
          "HLI_H2_Boiler",
          "HLI_Hardcoal",
          "HLI_Oil_Boiler",
          "HLI_Solar_Thermal",
          "HLI_Heatpump",
          "HMLI_Heatpump",
          "CHP_Biomass_Solid",
          "HLI_Convert_DH",
          "HLI_Biomass",
          "HLI_Direct_Electric",
          "HLI_Fuelcell",
          "HLI_Gas_Boiler",
          "HLI_Geothermal",
          "HLI_H2_Boiler",
          "HLI_Hardcoal",
          "HLI_Lignite",
          "HLI_Oil_Boiler",
          "HLI_Solar_Thermal",
          "HLI_Heatpump",
          "HMLI_Heatpump"
         ],
         "marker": {
          "colors": [
           "#96ebb5",
           "#c3fb82",
           "#f8b3ec",
           "#8dd6f3",
           "#c6e9dc",
           "#e7c1be",
           "#fae991",
           "#f2fda3",
           "#c9de99",
           "#90fcad",
           "#beeda0",
           "#e1e0d8",
           "#f99393",
           "#c3fb82",
           "#f8b3ec",
           "#8dd6f3",
           "#c6e9dc",
           "#e7c1be",
           "#fae991",
           "#f2fda3",
           "#c9de99",
           "#90fcad",
           "#beeda0",
           "#e1e0d8",
           "#f99393",
           "#96ebb5",
           "#c3fb82",
           "#f8b3ec",
           "#8dd6f3",
           "#c6e9dc",
           "#e7c1be",
           "#fae991",
           "#f2fda3",
           "#c9de99",
           "#8feba8",
           "#90fcad",
           "#beeda0",
           "#e1e0d8",
           "#f99393",
           "#96ebb5",
           "#c3fb82",
           "#f8b3ec",
           "#8dd6f3",
           "#c6e9dc",
           "#e7c1be",
           "#fae991",
           "#f2fda3",
           "#c9de99",
           "#90fcad",
           "#beeda0",
           "#e1e0d8",
           "#f99393",
           "#96ebb5",
           "#c3fb82",
           "#f8b3ec",
           "#8dd6f3",
           "#c6e9dc",
           "#e7c1be",
           "#fae991",
           "#f2fda3",
           "#c9de99",
           "#8feba8",
           "#90fcad",
           "#beeda0",
           "#e1e0d8",
           "#f99393",
           "#c3fb82",
           "#f8b3ec",
           "#8dd6f3",
           "#c6e9dc",
           "#e7c1be",
           "#fae991",
           "#f2fda3",
           "#c9de99",
           "#8feba8",
           "#90fcad",
           "#beeda0",
           "#e1e0d8",
           "#f99393",
           "#96ebb5",
           "#c3fb82",
           "#f8b3ec",
           "#8dd6f3",
           "#c6e9dc",
           "#e7c1be",
           "#fae991",
           "#f2fda3",
           "#c9de99",
           "#90fcad",
           "#beeda0",
           "#e1e0d8",
           "#f99393",
           "#c3fb82",
           "#f8b3ec",
           "#8dd6f3",
           "#c6e9dc",
           "#e7c1be",
           "#fae991",
           "#f2fda3",
           "#90fcad",
           "#beeda0",
           "#e1e0d8",
           "#f99393",
           "#c3fb82",
           "#f8b3ec",
           "#8dd6f3",
           "#c6e9dc",
           "#e7c1be",
           "#fae991",
           "#f2fda3",
           "#c9de99",
           "#90fcad",
           "#beeda0",
           "#e1e0d8",
           "#f99393",
           "#96ebb5",
           "#c3fb82",
           "#f8b3ec",
           "#8dd6f3",
           "#c6e9dc",
           "#e7c1be",
           "#fae991",
           "#f2fda3",
           "#c9de99",
           "#90fcad",
           "#beeda0",
           "#e1e0d8",
           "#f99393",
           "#c3fb82",
           "#f8b3ec",
           "#8dd6f3",
           "#c6e9dc",
           "#e7c1be",
           "#fae991",
           "#f2fda3",
           "#c9de99",
           "#90fcad",
           "#beeda0",
           "#e1e0d8",
           "#f99393",
           "#96ebb5",
           "#c3fb82",
           "#f8b3ec",
           "#8dd6f3",
           "#c6e9dc",
           "#e7c1be",
           "#fae991",
           "#f2fda3",
           "#90fcad",
           "#beeda0",
           "#e1e0d8",
           "#f99393",
           "#96ebb5",
           "#c3fb82",
           "#f8b3ec",
           "#8dd6f3",
           "#c6e9dc",
           "#e7c1be",
           "#fae991",
           "#f2fda3",
           "#c9de99",
           "#8feba8",
           "#90fcad",
           "#beeda0",
           "#e1e0d8",
           "#f99393",
           "#c3fb82",
           "#f8b3ec",
           "#8dd6f3",
           "#c6e9dc",
           "#e7c1be",
           "#fae991",
           "#f2fda3",
           "#c9de99",
           "#8feba8",
           "#90fcad",
           "#beeda0",
           "#e1e0d8",
           "#f99393",
           "#96ebb5",
           "#c3fb82",
           "#f8b3ec",
           "#8dd6f3",
           "#c6e9dc",
           "#e7c1be",
           "#fae991",
           "#f2fda3",
           "#c9de99",
           "#90fcad",
           "#beeda0",
           "#e1e0d8",
           "#f99393",
           "#c3fb82",
           "#f8b3ec",
           "#8dd6f3",
           "#c6e9dc",
           "#e7c1be",
           "#fae991",
           "#f2fda3",
           "#c9de99",
           "#90fcad",
           "#beeda0",
           "#e1e0d8",
           "#f99393",
           "#96ebb5",
           "#c3fb82",
           "#f8b3ec",
           "#8dd6f3",
           "#c6e9dc",
           "#e7c1be",
           "#fae991",
           "#f2fda3",
           "#c9de99",
           "#90fcad",
           "#beeda0",
           "#e1e0d8",
           "#f99393",
           "#96ebb5",
           "#c3fb82",
           "#f8b3ec",
           "#8dd6f3",
           "#c6e9dc",
           "#e7c1be",
           "#fae991",
           "#f2fda3",
           "#c9de99",
           "#90fcad",
           "#beeda0",
           "#e1e0d8",
           "#f99393",
           "#96ebb5",
           "#c3fb82",
           "#f8b3ec",
           "#8dd6f3",
           "#c6e9dc",
           "#e7c1be",
           "#fae991",
           "#f2fda3",
           "#c9de99",
           "#90fcad",
           "#beeda0",
           "#e1e0d8",
           "#f99393",
           "#96ebb5",
           "#c3fb82",
           "#f8b3ec",
           "#8dd6f3",
           "#c6e9dc",
           "#e7c1be",
           "#fae991",
           "#f2fda3",
           "#c9de99",
           "#90fcad",
           "#beeda0",
           "#e1e0d8",
           "#f99393",
           "#96ebb5",
           "#c3fb82",
           "#f8b3ec",
           "#8dd6f3",
           "#c6e9dc",
           "#e7c1be",
           "#fae991",
           "#f2fda3",
           "#90fcad",
           "#beeda0",
           "#e1e0d8",
           "#f99393",
           "#96ebb5",
           "#c3fb82",
           "#f8b3ec",
           "#8dd6f3",
           "#c6e9dc",
           "#e7c1be",
           "#fae991",
           "#f2fda3",
           "#c9de99",
           "#8feba8",
           "#90fcad",
           "#beeda0",
           "#e1e0d8",
           "#f99393",
           "#96ebb5",
           "#c3fb82",
           "#f8b3ec",
           "#8dd6f3",
           "#c6e9dc",
           "#e7c1be",
           "#fae991",
           "#f2fda3",
           "#90fcad",
           "#beeda0",
           "#e1e0d8",
           "#f99393",
           "#96ebb5",
           "#c3fb82",
           "#f8b3ec",
           "#8dd6f3",
           "#c6e9dc",
           "#e7c1be",
           "#fae991",
           "#f2fda3",
           "#c9de99",
           "#8feba8",
           "#90fcad",
           "#beeda0",
           "#e1e0d8",
           "#f99393",
           "#96ebb5",
           "#c3fb82",
           "#f8b3ec",
           "#8dd6f3",
           "#c6e9dc",
           "#e7c1be",
           "#fae991",
           "#f2fda3",
           "#c9de99",
           "#90fcad",
           "#beeda0",
           "#e1e0d8",
           "#f99393",
           "#c3fb82",
           "#f8b3ec",
           "#8dd6f3",
           "#c6e9dc",
           "#e7c1be",
           "#fae991",
           "#f2fda3",
           "#c9de99",
           "#8feba8",
           "#90fcad",
           "#beeda0",
           "#e1e0d8",
           "#f99393",
           "#96ebb5",
           "#c3fb82",
           "#f8b3ec",
           "#8dd6f3",
           "#c6e9dc",
           "#e7c1be",
           "#fae991",
           "#f2fda3",
           "#c9de99",
           "#8feba8",
           "#90fcad",
           "#beeda0",
           "#e1e0d8",
           "#f99393",
           "#96ebb5",
           "#c3fb82",
           "#f8b3ec",
           "#8dd6f3",
           "#c6e9dc",
           "#e7c1be",
           "#fae991",
           "#f2fda3",
           "#c9de99",
           "#8feba8",
           "#90fcad",
           "#beeda0",
           "#e1e0d8",
           "#f99393",
           "#c3fb82",
           "#f8b3ec",
           "#8dd6f3",
           "#c6e9dc",
           "#e7c1be",
           "#fae991",
           "#f2fda3",
           "#c9de99",
           "#90fcad",
           "#beeda0",
           "#e1e0d8",
           "#f99393",
           "#96ebb5",
           "#c3fb82",
           "#f8b3ec",
           "#8dd6f3",
           "#c6e9dc",
           "#e7c1be",
           "#fae991",
           "#f2fda3",
           "#c9de99",
           "#8feba8",
           "#90fcad",
           "#beeda0",
           "#e1e0d8",
           "#f99393"
          ]
         },
         "textfont": {
          "size": 20
         },
         "textinfo": "percent+label",
         "textposition": "inside",
         "type": "pie",
         "values": [
          0.06630106478244094,
          17.22783642580895,
          5.678387914872326e-8,
          0.005948046756284469,
          1.737827474897481e-8,
          4.181612287887784e-8,
          5.4475992196506914e-8,
          0.000003731763223493758,
          1.3961521039205278e-9,
          1.9431951628454835e-9,
          1.7895703748975743e-8,
          7.23187931062229e-8,
          3.6503948500343345e-8,
          11.995267967032902,
          0.14353806345284167,
          0.01400468259401599,
          1.6039819238204086e-8,
          4.245941605291057e-8,
          6.393645973831261e-8,
          4.353361038577717,
          1.3993549763168693e-9,
          1.9710680541069295e-9,
          2.330055021755141e-8,
          7.135967611996324e-8,
          3.494200515448794e-8,
          0.012287867059681146,
          4.179134313014566,
          4.1817234401633826e-8,
          0.0014095023145695516,
          1.5588916592378204e-8,
          4.022885953165326e-8,
          3.606944699179722e-8,
          1.3517817729249133e-7,
          1.4001166769589214e-9,
          1.1691556472156854e-9,
          1.9565020974519184e-9,
          2.5141376982485917e-8,
          3.409028466414393e-8,
          2.2917934509415742e-8,
          0.011826024450836017,
          4.044512859259496,
          3.2188734552593766e-8,
          0.0017366918613478423,
          1.48569295271274e-8,
          3.599303677740852e-8,
          4.121369756134281e-8,
          2.606994060813228e-7,
          1.4410886988399293e-9,
          2.0148118943873105e-9,
          2.7032207683164878e-8,
          5.5392551829524986e-8,
          3.266165543538313e-8,
          0.025668647115950648,
          10.474779389104366,
          3.8154370879386394e-8,
          0.002302841680780258,
          1.9841356794973475e-8,
          4.075215103984673e-8,
          4.988055821873157e-8,
          0.000002404319659445286,
          1.3959461088045515e-9,
          1.1546780513893154e-9,
          1.9079211028864365e-9,
          1.4931182747497968e-8,
          6.092242980532335e-8,
          3.3277501942621864e-8,
          66.97091898892431,
          3.825163365387969e-8,
          0.031801367469089306,
          1.7229849309221584e-8,
          3.887754069022135e-8,
          5.277999893939669e-8,
          20.89359575403298,
          1.4011439903658529e-9,
          1.1753502402072306e-9,
          1.9426065642838585e-9,
          1.7013579876990164e-8,
          5.687702062521217e-8,
          3.021183426648128e-8,
          0.017546259601559776,
          3.9210923725883666,
          4.335130484881443e-8,
          0.004283475379150925,
          1.4878769110590327e-8,
          4.062266372543111e-8,
          6.01634739424878e-8,
          0.000004629366938956643,
          1.389122764764455e-9,
          1.9069633926237038e-9,
          1.4752612336383908e-8,
          7.541640421632392e-8,
          3.6204625091122966e-8,
          0.723233887576426,
          4.80571647944272e-8,
          0.0008964634608428889,
          1.5181096297848303e-8,
          4.232079143668308e-8,
          6.698851670706444e-8,
          0.23220556268022924,
          2.0309694696066967e-9,
          9.97958117547782e-9,
          1.206537887122036e-7,
          5.1397353067074445e-8,
          27.382470518979506,
          0.0000011142676376585657,
          0.20443130127929945,
          1.4896848280489609e-8,
          4.019955747906336e-8,
          6.027556163870495e-8,
          7.40801847184689,
          1.4143934060409988e-9,
          2.00644828064047e-9,
          4.427159424497198e-8,
          4.4308362093514434e-8,
          2.4579729389516414e-8,
          0.3012359184997908,
          25.021696177459,
          4.334177730001503e-8,
          0.02882756644181025,
          1.4581295766393e-8,
          4.132753881509475e-8,
          5.9319381547022807e-8,
          0.000001841664341557594,
          1.4024678787467433e-9,
          2.0263391647422693e-9,
          8.180627011927088e-9,
          1.1743815261458219e-7,
          5.011424951632877e-8,
          32.6281872397444,
          0.06414968948822108,
          0.044074219275661804,
          1.473482341780496e-8,
          3.82023396777797e-8,
          6.144716710817699e-8,
          21.655876437489937,
          1.392112446242773e-9,
          1.923885328533369e-9,
          2.3119451177883356e-8,
          5.6347708133346546e-8,
          2.9457255468764645e-8,
          0.034087654810968336,
          5.609328626392762,
          3.033108465583381e-8,
          0.0037248350736848877,
          2.5126042687694452e-8,
          3.218010963046875e-8,
          3.7114634800444025e-8,
          3.7973149119670745e-7,
          1.9360198282787744e-9,
          4.871317351466609e-8,
          2.917782253276518e-8,
          1.8923552026588097e-8,
          0.00987705401962325,
          2.2056927786919265,
          2.8608015824847277e-8,
          0.0008860566164373835,
          1.8844458569898187e-8,
          2.83940192089704e-8,
          3.648327515716874e-8,
          1.7685213014881416e-7,
          1.36310905934797e-9,
          1.1319842825056332e-9,
          1.8682176874441333e-9,
          1.9871277564824117e-8,
          3.4920973643560446e-8,
          2.241236800468479e-8,
          9.679449058880074,
          0.004482363238389801,
          0.0010686101899527781,
          1.9920375436367832e-8,
          4.370579197901361e-8,
          5.2806809864521385e-8,
          0.17157999824566214,
          1.4056283904178409e-9,
          1.1773493089397293e-9,
          1.9636671196931186e-9,
          9.54827010030866e-9,
          5.6723816127332564e-8,
          3.09062246587465e-8,
          0.09786952049360106,
          5.696895972318567,
          0.007327415135372826,
          0.0014519478853258737,
          1.1909231181002431e-8,
          2.7572449164432416e-8,
          3.305350238435003e-8,
          8.225323694392001e-8,
          1.3655343871380937e-9,
          1.8475567861624125e-9,
          9.560887818791556e-9,
          3.291256561221003e-8,
          2.2564562922850774e-8,
          44.217672951097974,
          0.04802330685809107,
          0.01527918830047459,
          2.065061303560929e-8,
          4.051253969377248e-8,
          4.8849554050112766e-8,
          8.883032537656764,
          1.4220434241182222e-9,
          1.98749977880931e-9,
          3.025267694374831e-8,
          3.795663245447497e-8,
          2.278543881113733e-8,
          0.006518545949584149,
          2.539166969637794,
          3.0000237595268004e-8,
          0.0005847773650484995,
          1.1093313267974546e-8,
          3.77401029441266e-8,
          3.321369811078246e-8,
          7.777659276981111e-8,
          1.3959937595043824e-9,
          1.9390561085299362e-9,
          7.299491996279458e-9,
          4.105863368912569e-8,
          2.6654755977565156e-8,
          0.011527661479710355,
          0.5945162386343524,
          0.0002855769044075982,
          0.000749053628079112,
          1.4327152257798357e-8,
          4.176067264648776e-8,
          4.529456646794477e-8,
          2.1104302475413387e-7,
          1.4136771127737767e-9,
          2.012455104962771e-9,
          1.6912127753435218e-8,
          5.586424155618185e-8,
          3.3246945244616715e-8,
          0.05411882238068691,
          3.254229343701554,
          0.004296676021818071,
          0.0014864974928273404,
          1.4708851942184474e-8,
          4.242981092600881e-8,
          6.106754305697619e-8,
          0.000023445838699669607,
          1.43154689882162e-9,
          2.005880583450282e-9,
          1.1191791000963003e-8,
          1.0197733225949136e-7,
          4.5694550205024254e-8,
          1.233581138472396e-16,
          20.994990082243294,
          3.949244039261399e-8,
          0.0020799689324094736,
          1.76846423385354e-8,
          4.1055363119284427e-8,
          5.7091866405865514e-8,
          0.6130788973131717,
          1.3864817753978188e-9,
          1.935408204299029e-9,
          2.0583489200492662e-8,
          6.121745475797952e-8,
          3.196103302397304e-8,
          0.11036651897951821,
          3.788332715576221,
          4.2571771734584614e-8,
          0.018405099222565547,
          1.2820533108748781e-8,
          4.820877889401291e-8,
          4.8012959412161386e-8,
          2.5563565408696645e-7,
          2.0304598746144168e-9,
          1.0868983046091957e-8,
          3.985240115799765e-7,
          4.270768678568948e-8,
          0.030540316174853303,
          26.32459538366555,
          4.8269136239036235e-8,
          0.002739614757894499,
          2.175214130264151e-8,
          3.958119708472739e-8,
          3.7739813483934754e-8,
          3.188162150597635e-7,
          1.3726736102818663e-9,
          1.151717786894738e-9,
          1.8470684638668862e-9,
          1.1809469529698912e-8,
          4.012927079240333e-8,
          2.532932998695177e-8,
          0.4645104545886284,
          8.956128826403784,
          4.23910744053377e-8,
          0.0966847107708959,
          1.6653211887756777e-8,
          3.5493802302108286e-8,
          5.811679238109379e-8,
          0.35796233068534355,
          2.011404095928942e-9,
          4.679464934029614e-8,
          4.229959182884171e-8,
          2.364641503636335e-8,
          0.015722157791386436,
          10.69438541213696,
          2.7268823410377743e-8,
          0.001786803603271669,
          1.2449097554399987e-8,
          2.8627833219429645e-8,
          3.258771832132097e-8,
          9.032542150096504e-8,
          1.3714953818466048e-9,
          1.1733218137769102e-9,
          1.8343898149616139e-9,
          1.2583993889202198e-8,
          3.296378129293702e-8,
          2.2572467169991084e-8,
          0.3802812223428965,
          25.241530773382223,
          1.6462510865778644e-7,
          0.03411324328734177,
          1.4576322255325655e-8,
          4.120606455370336e-8,
          5.4736608961781007e-8,
          0.0000011918029490949898,
          1.3798002284247405e-9,
          1.9443214626426167e-9,
          7.884426694558081e-9,
          8.163712482264003e-8,
          3.9085625328636415e-8,
          1.948594254900934,
          0.0011434249474269926,
          0.0010749767139539089,
          1.889861914782749e-8,
          4.290842685027438e-8,
          5.538385775100547e-8,
          0.31054346673636724,
          1.4031110702894133e-9,
          1.1764276032047701e-9,
          1.993877354675574e-9,
          2.0919554826439824e-8,
          6.716254377127944e-8,
          3.4860251161120516e-8,
          0.03623378528065732,
          1.4941420194590989,
          3.2410283168426696e-8,
          0.0032503608498642574,
          1.7125522180611552e-8,
          3.3443859348375965e-8,
          3.537787229311602e-8,
          1.4058347046428207e-7,
          1.261048559734284e-9,
          1.0475459057703438e-9,
          1.6917852240172936e-9,
          1.2566336945739646e-8,
          3.968534139297588e-8,
          2.518255015484521e-8,
          9.86864910777917e-16,
          30.611668310723473,
          3.460706117285458e-8,
          0.005913245784502545,
          2.372057863241144e-8,
          4.481879935048292e-8,
          4.814900275786526e-8,
          5.419828496080317,
          1.4737633309939113e-9,
          1.2310467506053591e-9,
          2.058663034848389e-9,
          6.157811396574923e-8,
          4.114792363732859e-8,
          2.4609512345731552e-8,
          68.48363960217368,
          0.05083951845947522,
          0.02571141159418722,
          1.9311985302957897e-8,
          3.741509958605628e-8,
          4.988725865979718e-8,
          2.6418069387533434,
          1.41005882389292e-9,
          1.996436919898326e-9,
          9.048988853287305e-9,
          5.0758085335359734e-8,
          2.8218979786709613e-8,
          0.01478195066807815,
          2.8430225435811582,
          3.210934148443157e-8,
          0.0014422820209827657,
          1.4651951936063758e-8,
          3.176855159236053e-8,
          4.005311879035113e-8,
          2.595415341647199e-7,
          1.4206635476210974e-9,
          1.1889859031136974e-9,
          1.961590760990473e-9,
          2.8891611140137498e-8,
          4.428119224532754e-8,
          2.774378904091066e-8
         ]
        }
       ],
       "layout": {
        "height": 800,
        "template": {
         "data": {
          "bar": [
           {
            "error_x": {
             "color": "#2a3f5f"
            },
            "error_y": {
             "color": "#2a3f5f"
            },
            "marker": {
             "line": {
              "color": "#E5ECF6",
              "width": 0.5
             },
             "pattern": {
              "fillmode": "overlay",
              "size": 10,
              "solidity": 0.2
             }
            },
            "type": "bar"
           }
          ],
          "barpolar": [
           {
            "marker": {
             "line": {
              "color": "#E5ECF6",
              "width": 0.5
             },
             "pattern": {
              "fillmode": "overlay",
              "size": 10,
              "solidity": 0.2
             }
            },
            "type": "barpolar"
           }
          ],
          "carpet": [
           {
            "aaxis": {
             "endlinecolor": "#2a3f5f",
             "gridcolor": "white",
             "linecolor": "white",
             "minorgridcolor": "white",
             "startlinecolor": "#2a3f5f"
            },
            "baxis": {
             "endlinecolor": "#2a3f5f",
             "gridcolor": "white",
             "linecolor": "white",
             "minorgridcolor": "white",
             "startlinecolor": "#2a3f5f"
            },
            "type": "carpet"
           }
          ],
          "choropleth": [
           {
            "colorbar": {
             "outlinewidth": 0,
             "ticks": ""
            },
            "type": "choropleth"
           }
          ],
          "contour": [
           {
            "colorbar": {
             "outlinewidth": 0,
             "ticks": ""
            },
            "colorscale": [
             [
              0,
              "#0d0887"
             ],
             [
              0.1111111111111111,
              "#46039f"
             ],
             [
              0.2222222222222222,
              "#7201a8"
             ],
             [
              0.3333333333333333,
              "#9c179e"
             ],
             [
              0.4444444444444444,
              "#bd3786"
             ],
             [
              0.5555555555555556,
              "#d8576b"
             ],
             [
              0.6666666666666666,
              "#ed7953"
             ],
             [
              0.7777777777777778,
              "#fb9f3a"
             ],
             [
              0.8888888888888888,
              "#fdca26"
             ],
             [
              1,
              "#f0f921"
             ]
            ],
            "type": "contour"
           }
          ],
          "contourcarpet": [
           {
            "colorbar": {
             "outlinewidth": 0,
             "ticks": ""
            },
            "type": "contourcarpet"
           }
          ],
          "heatmap": [
           {
            "colorbar": {
             "outlinewidth": 0,
             "ticks": ""
            },
            "colorscale": [
             [
              0,
              "#0d0887"
             ],
             [
              0.1111111111111111,
              "#46039f"
             ],
             [
              0.2222222222222222,
              "#7201a8"
             ],
             [
              0.3333333333333333,
              "#9c179e"
             ],
             [
              0.4444444444444444,
              "#bd3786"
             ],
             [
              0.5555555555555556,
              "#d8576b"
             ],
             [
              0.6666666666666666,
              "#ed7953"
             ],
             [
              0.7777777777777778,
              "#fb9f3a"
             ],
             [
              0.8888888888888888,
              "#fdca26"
             ],
             [
              1,
              "#f0f921"
             ]
            ],
            "type": "heatmap"
           }
          ],
          "heatmapgl": [
           {
            "colorbar": {
             "outlinewidth": 0,
             "ticks": ""
            },
            "colorscale": [
             [
              0,
              "#0d0887"
             ],
             [
              0.1111111111111111,
              "#46039f"
             ],
             [
              0.2222222222222222,
              "#7201a8"
             ],
             [
              0.3333333333333333,
              "#9c179e"
             ],
             [
              0.4444444444444444,
              "#bd3786"
             ],
             [
              0.5555555555555556,
              "#d8576b"
             ],
             [
              0.6666666666666666,
              "#ed7953"
             ],
             [
              0.7777777777777778,
              "#fb9f3a"
             ],
             [
              0.8888888888888888,
              "#fdca26"
             ],
             [
              1,
              "#f0f921"
             ]
            ],
            "type": "heatmapgl"
           }
          ],
          "histogram": [
           {
            "marker": {
             "pattern": {
              "fillmode": "overlay",
              "size": 10,
              "solidity": 0.2
             }
            },
            "type": "histogram"
           }
          ],
          "histogram2d": [
           {
            "colorbar": {
             "outlinewidth": 0,
             "ticks": ""
            },
            "colorscale": [
             [
              0,
              "#0d0887"
             ],
             [
              0.1111111111111111,
              "#46039f"
             ],
             [
              0.2222222222222222,
              "#7201a8"
             ],
             [
              0.3333333333333333,
              "#9c179e"
             ],
             [
              0.4444444444444444,
              "#bd3786"
             ],
             [
              0.5555555555555556,
              "#d8576b"
             ],
             [
              0.6666666666666666,
              "#ed7953"
             ],
             [
              0.7777777777777778,
              "#fb9f3a"
             ],
             [
              0.8888888888888888,
              "#fdca26"
             ],
             [
              1,
              "#f0f921"
             ]
            ],
            "type": "histogram2d"
           }
          ],
          "histogram2dcontour": [
           {
            "colorbar": {
             "outlinewidth": 0,
             "ticks": ""
            },
            "colorscale": [
             [
              0,
              "#0d0887"
             ],
             [
              0.1111111111111111,
              "#46039f"
             ],
             [
              0.2222222222222222,
              "#7201a8"
             ],
             [
              0.3333333333333333,
              "#9c179e"
             ],
             [
              0.4444444444444444,
              "#bd3786"
             ],
             [
              0.5555555555555556,
              "#d8576b"
             ],
             [
              0.6666666666666666,
              "#ed7953"
             ],
             [
              0.7777777777777778,
              "#fb9f3a"
             ],
             [
              0.8888888888888888,
              "#fdca26"
             ],
             [
              1,
              "#f0f921"
             ]
            ],
            "type": "histogram2dcontour"
           }
          ],
          "mesh3d": [
           {
            "colorbar": {
             "outlinewidth": 0,
             "ticks": ""
            },
            "type": "mesh3d"
           }
          ],
          "parcoords": [
           {
            "line": {
             "colorbar": {
              "outlinewidth": 0,
              "ticks": ""
             }
            },
            "type": "parcoords"
           }
          ],
          "pie": [
           {
            "automargin": true,
            "type": "pie"
           }
          ],
          "scatter": [
           {
            "fillpattern": {
             "fillmode": "overlay",
             "size": 10,
             "solidity": 0.2
            },
            "type": "scatter"
           }
          ],
          "scatter3d": [
           {
            "line": {
             "colorbar": {
              "outlinewidth": 0,
              "ticks": ""
             }
            },
            "marker": {
             "colorbar": {
              "outlinewidth": 0,
              "ticks": ""
             }
            },
            "type": "scatter3d"
           }
          ],
          "scattercarpet": [
           {
            "marker": {
             "colorbar": {
              "outlinewidth": 0,
              "ticks": ""
             }
            },
            "type": "scattercarpet"
           }
          ],
          "scattergeo": [
           {
            "marker": {
             "colorbar": {
              "outlinewidth": 0,
              "ticks": ""
             }
            },
            "type": "scattergeo"
           }
          ],
          "scattergl": [
           {
            "marker": {
             "colorbar": {
              "outlinewidth": 0,
              "ticks": ""
             }
            },
            "type": "scattergl"
           }
          ],
          "scattermapbox": [
           {
            "marker": {
             "colorbar": {
              "outlinewidth": 0,
              "ticks": ""
             }
            },
            "type": "scattermapbox"
           }
          ],
          "scatterpolar": [
           {
            "marker": {
             "colorbar": {
              "outlinewidth": 0,
              "ticks": ""
             }
            },
            "type": "scatterpolar"
           }
          ],
          "scatterpolargl": [
           {
            "marker": {
             "colorbar": {
              "outlinewidth": 0,
              "ticks": ""
             }
            },
            "type": "scatterpolargl"
           }
          ],
          "scatterternary": [
           {
            "marker": {
             "colorbar": {
              "outlinewidth": 0,
              "ticks": ""
             }
            },
            "type": "scatterternary"
           }
          ],
          "surface": [
           {
            "colorbar": {
             "outlinewidth": 0,
             "ticks": ""
            },
            "colorscale": [
             [
              0,
              "#0d0887"
             ],
             [
              0.1111111111111111,
              "#46039f"
             ],
             [
              0.2222222222222222,
              "#7201a8"
             ],
             [
              0.3333333333333333,
              "#9c179e"
             ],
             [
              0.4444444444444444,
              "#bd3786"
             ],
             [
              0.5555555555555556,
              "#d8576b"
             ],
             [
              0.6666666666666666,
              "#ed7953"
             ],
             [
              0.7777777777777778,
              "#fb9f3a"
             ],
             [
              0.8888888888888888,
              "#fdca26"
             ],
             [
              1,
              "#f0f921"
             ]
            ],
            "type": "surface"
           }
          ],
          "table": [
           {
            "cells": {
             "fill": {
              "color": "#EBF0F8"
             },
             "line": {
              "color": "white"
             }
            },
            "header": {
             "fill": {
              "color": "#C8D4E3"
             },
             "line": {
              "color": "white"
             }
            },
            "type": "table"
           }
          ]
         },
         "layout": {
          "annotationdefaults": {
           "arrowcolor": "#2a3f5f",
           "arrowhead": 0,
           "arrowwidth": 1
          },
          "autotypenumbers": "strict",
          "coloraxis": {
           "colorbar": {
            "outlinewidth": 0,
            "ticks": ""
           }
          },
          "colorscale": {
           "diverging": [
            [
             0,
             "#8e0152"
            ],
            [
             0.1,
             "#c51b7d"
            ],
            [
             0.2,
             "#de77ae"
            ],
            [
             0.3,
             "#f1b6da"
            ],
            [
             0.4,
             "#fde0ef"
            ],
            [
             0.5,
             "#f7f7f7"
            ],
            [
             0.6,
             "#e6f5d0"
            ],
            [
             0.7,
             "#b8e186"
            ],
            [
             0.8,
             "#7fbc41"
            ],
            [
             0.9,
             "#4d9221"
            ],
            [
             1,
             "#276419"
            ]
           ],
           "sequential": [
            [
             0,
             "#0d0887"
            ],
            [
             0.1111111111111111,
             "#46039f"
            ],
            [
             0.2222222222222222,
             "#7201a8"
            ],
            [
             0.3333333333333333,
             "#9c179e"
            ],
            [
             0.4444444444444444,
             "#bd3786"
            ],
            [
             0.5555555555555556,
             "#d8576b"
            ],
            [
             0.6666666666666666,
             "#ed7953"
            ],
            [
             0.7777777777777778,
             "#fb9f3a"
            ],
            [
             0.8888888888888888,
             "#fdca26"
            ],
            [
             1,
             "#f0f921"
            ]
           ],
           "sequentialminus": [
            [
             0,
             "#0d0887"
            ],
            [
             0.1111111111111111,
             "#46039f"
            ],
            [
             0.2222222222222222,
             "#7201a8"
            ],
            [
             0.3333333333333333,
             "#9c179e"
            ],
            [
             0.4444444444444444,
             "#bd3786"
            ],
            [
             0.5555555555555556,
             "#d8576b"
            ],
            [
             0.6666666666666666,
             "#ed7953"
            ],
            [
             0.7777777777777778,
             "#fb9f3a"
            ],
            [
             0.8888888888888888,
             "#fdca26"
            ],
            [
             1,
             "#f0f921"
            ]
           ]
          },
          "colorway": [
           "#636efa",
           "#EF553B",
           "#00cc96",
           "#ab63fa",
           "#FFA15A",
           "#19d3f3",
           "#FF6692",
           "#B6E880",
           "#FF97FF",
           "#FECB52"
          ],
          "font": {
           "color": "#2a3f5f"
          },
          "geo": {
           "bgcolor": "white",
           "lakecolor": "white",
           "landcolor": "#E5ECF6",
           "showlakes": true,
           "showland": true,
           "subunitcolor": "white"
          },
          "hoverlabel": {
           "align": "left"
          },
          "hovermode": "closest",
          "mapbox": {
           "style": "light"
          },
          "paper_bgcolor": "white",
          "plot_bgcolor": "#E5ECF6",
          "polar": {
           "angularaxis": {
            "gridcolor": "white",
            "linecolor": "white",
            "ticks": ""
           },
           "bgcolor": "#E5ECF6",
           "radialaxis": {
            "gridcolor": "white",
            "linecolor": "white",
            "ticks": ""
           }
          },
          "scene": {
           "xaxis": {
            "backgroundcolor": "#E5ECF6",
            "gridcolor": "white",
            "gridwidth": 2,
            "linecolor": "white",
            "showbackground": true,
            "ticks": "",
            "zerolinecolor": "white"
           },
           "yaxis": {
            "backgroundcolor": "#E5ECF6",
            "gridcolor": "white",
            "gridwidth": 2,
            "linecolor": "white",
            "showbackground": true,
            "ticks": "",
            "zerolinecolor": "white"
           },
           "zaxis": {
            "backgroundcolor": "#E5ECF6",
            "gridcolor": "white",
            "gridwidth": 2,
            "linecolor": "white",
            "showbackground": true,
            "ticks": "",
            "zerolinecolor": "white"
           }
          },
          "shapedefaults": {
           "line": {
            "color": "#2a3f5f"
           }
          },
          "ternary": {
           "aaxis": {
            "gridcolor": "white",
            "linecolor": "white",
            "ticks": ""
           },
           "baxis": {
            "gridcolor": "white",
            "linecolor": "white",
            "ticks": ""
           },
           "bgcolor": "#E5ECF6",
           "caxis": {
            "gridcolor": "white",
            "linecolor": "white",
            "ticks": ""
           }
          },
          "title": {
           "x": 0.05
          },
          "xaxis": {
           "automargin": true,
           "gridcolor": "white",
           "linecolor": "white",
           "ticks": "",
           "title": {
            "standoff": 15
           },
           "zerolinecolor": "white",
           "zerolinewidth": 2
          },
          "yaxis": {
           "automargin": true,
           "gridcolor": "white",
           "linecolor": "white",
           "ticks": "",
           "title": {
            "standoff": 15
           },
           "zerolinecolor": "white",
           "zerolinewidth": 2
          }
         }
        },
        "title": {
         "text": "Energy Production 2050"
        },
        "width": 900
       }
      }
     },
     "metadata": {},
     "output_type": "display_data"
    }
   ],
   "source": [
    "fig = power_pie_plot2(SEASON_DATA)\n",
    "fig.show()\n",
    "\n",
    "if WRITE_FIGS:\n",
    "    fig.write_image(WRITE_DIR / \"power_pie_plot2.png\")\n",
    "\n",
    "fig = power_pie_plot2(EXPENSIVE_HLDH)\n",
    "fig.show()\n",
    "\n",
    "if WRITE_FIGS:\n",
    "    fig.write_image(WRITE_DIR / \"power_pie_plot2_expensive.png\")"
   ]
  },
  {
   "cell_type": "code",
   "execution_count": 269,
   "metadata": {},
   "outputs": [],
   "source": [
    "# Load Par_SpecifiedAnnualDemand.csv\n",
    "\n",
    "def heat_demand_pie_plot(demand_data: pd.DataFrame) -> go.Figure:\n",
    "\n",
    "    # Only 2050\n",
    "    demand_data = demand_data[demand_data[\"Year\"] == 2050]\n",
    "\n",
    "    # Only heat\n",
    "    \"\"\"demand_data = demand_data[demand_data[\"Fuel\"].str.contains(\"Heat\")]\n",
    "\n",
    "    # Delete Heat from the name\n",
    "    demand_data[\"Fuel\"] = demand_data[\"Fuel\"].apply(lambda x: x.replace(\"Heat_\", \"\").strip())\n",
    "\n",
    "    # Group all industrial\n",
    "    demand_data[\"Fuel\"] = demand_data[\"Fuel\"].apply(lambda x: \"Industrial\" if \"Industrial\" in x else x)\n",
    "\n",
    "    # Make Low_Building into Building\n",
    "    demand_data[\"Fuel\"] = demand_data[\"Fuel\"].apply(lambda x: \"Building\" if \"Low_Building\" in x else x)\"\"\"\n",
    "\n",
    "    # Group all heats\n",
    "    demand_data[\"Fuel\"] = demand_data[\"Fuel\"].apply(lambda x: \"Heat\" if (\"Heat\" in x) or (\"Cool\" in x) else x)\n",
    "\n",
    "    # Group others\n",
    "    demand_data[\"Fuel\"] = demand_data[\"Fuel\"].apply(lambda x: \"Others\" if \"Heat\" not in x else x)\n",
    "\n",
    "    # Group by fuel and sum\n",
    "    demand_data = demand_data.groupby(\"Fuel\", as_index=False).sum(numeric_only=True)\n",
    "\n",
    "    # Make a pie plot\n",
    "    fig = go.Figure(data=[go.Pie(labels=demand_data[\"Fuel\"], values=demand_data[\"Value\"], \n",
    "                                    textposition='inside', textinfo='percent+label',\n",
    "                                    textfont=dict(size=24),\n",
    "                                    marker=dict(colors=[my_color_generator(fuel) for fuel in demand_data[\"Fuel\"]]))])\n",
    "\n",
    "    fig.update_layout(\n",
    "        title=\"Demand 2050\",\n",
    "        width=900,\n",
    "        height=800\n",
    "    )\n",
    "\n",
    "    return fig\n",
    "\n",
    "\n"
   ]
  },
  {
   "cell_type": "code",
   "execution_count": 270,
   "metadata": {},
   "outputs": [
    {
     "name": "stdout",
     "output_type": "stream",
     "text": [
      "Hei\n"
     ]
    },
    {
     "name": "stderr",
     "output_type": "stream",
     "text": [
      "C:\\Users\\mortensv\\AppData\\Local\\Temp\\ipykernel_29752\\1243851363.py:21: SettingWithCopyWarning:\n",
      "\n",
      "\n",
      "A value is trying to be set on a copy of a slice from a DataFrame.\n",
      "Try using .loc[row_indexer,col_indexer] = value instead\n",
      "\n",
      "See the caveats in the documentation: https://pandas.pydata.org/pandas-docs/stable/user_guide/indexing.html#returning-a-view-versus-a-copy\n",
      "\n",
      "C:\\Users\\mortensv\\AppData\\Local\\Temp\\ipykernel_29752\\1243851363.py:24: SettingWithCopyWarning:\n",
      "\n",
      "\n",
      "A value is trying to be set on a copy of a slice from a DataFrame.\n",
      "Try using .loc[row_indexer,col_indexer] = value instead\n",
      "\n",
      "See the caveats in the documentation: https://pandas.pydata.org/pandas-docs/stable/user_guide/indexing.html#returning-a-view-versus-a-copy\n",
      "\n"
     ]
    },
    {
     "data": {
      "application/vnd.plotly.v1+json": {
       "config": {
        "plotlyServerURL": "https://plot.ly"
       },
       "data": [
        {
         "labels": [
          "Heat",
          "Others"
         ],
         "marker": {
          "colors": [
           "#a8e39d",
           "#9899e9"
          ]
         },
         "textfont": {
          "size": 24
         },
         "textinfo": "percent+label",
         "textposition": "inside",
         "type": "pie",
         "values": [
          17276.428801371454,
          23858.631933104
         ]
        }
       ],
       "layout": {
        "height": 800,
        "template": {
         "data": {
          "bar": [
           {
            "error_x": {
             "color": "#2a3f5f"
            },
            "error_y": {
             "color": "#2a3f5f"
            },
            "marker": {
             "line": {
              "color": "#E5ECF6",
              "width": 0.5
             },
             "pattern": {
              "fillmode": "overlay",
              "size": 10,
              "solidity": 0.2
             }
            },
            "type": "bar"
           }
          ],
          "barpolar": [
           {
            "marker": {
             "line": {
              "color": "#E5ECF6",
              "width": 0.5
             },
             "pattern": {
              "fillmode": "overlay",
              "size": 10,
              "solidity": 0.2
             }
            },
            "type": "barpolar"
           }
          ],
          "carpet": [
           {
            "aaxis": {
             "endlinecolor": "#2a3f5f",
             "gridcolor": "white",
             "linecolor": "white",
             "minorgridcolor": "white",
             "startlinecolor": "#2a3f5f"
            },
            "baxis": {
             "endlinecolor": "#2a3f5f",
             "gridcolor": "white",
             "linecolor": "white",
             "minorgridcolor": "white",
             "startlinecolor": "#2a3f5f"
            },
            "type": "carpet"
           }
          ],
          "choropleth": [
           {
            "colorbar": {
             "outlinewidth": 0,
             "ticks": ""
            },
            "type": "choropleth"
           }
          ],
          "contour": [
           {
            "colorbar": {
             "outlinewidth": 0,
             "ticks": ""
            },
            "colorscale": [
             [
              0,
              "#0d0887"
             ],
             [
              0.1111111111111111,
              "#46039f"
             ],
             [
              0.2222222222222222,
              "#7201a8"
             ],
             [
              0.3333333333333333,
              "#9c179e"
             ],
             [
              0.4444444444444444,
              "#bd3786"
             ],
             [
              0.5555555555555556,
              "#d8576b"
             ],
             [
              0.6666666666666666,
              "#ed7953"
             ],
             [
              0.7777777777777778,
              "#fb9f3a"
             ],
             [
              0.8888888888888888,
              "#fdca26"
             ],
             [
              1,
              "#f0f921"
             ]
            ],
            "type": "contour"
           }
          ],
          "contourcarpet": [
           {
            "colorbar": {
             "outlinewidth": 0,
             "ticks": ""
            },
            "type": "contourcarpet"
           }
          ],
          "heatmap": [
           {
            "colorbar": {
             "outlinewidth": 0,
             "ticks": ""
            },
            "colorscale": [
             [
              0,
              "#0d0887"
             ],
             [
              0.1111111111111111,
              "#46039f"
             ],
             [
              0.2222222222222222,
              "#7201a8"
             ],
             [
              0.3333333333333333,
              "#9c179e"
             ],
             [
              0.4444444444444444,
              "#bd3786"
             ],
             [
              0.5555555555555556,
              "#d8576b"
             ],
             [
              0.6666666666666666,
              "#ed7953"
             ],
             [
              0.7777777777777778,
              "#fb9f3a"
             ],
             [
              0.8888888888888888,
              "#fdca26"
             ],
             [
              1,
              "#f0f921"
             ]
            ],
            "type": "heatmap"
           }
          ],
          "heatmapgl": [
           {
            "colorbar": {
             "outlinewidth": 0,
             "ticks": ""
            },
            "colorscale": [
             [
              0,
              "#0d0887"
             ],
             [
              0.1111111111111111,
              "#46039f"
             ],
             [
              0.2222222222222222,
              "#7201a8"
             ],
             [
              0.3333333333333333,
              "#9c179e"
             ],
             [
              0.4444444444444444,
              "#bd3786"
             ],
             [
              0.5555555555555556,
              "#d8576b"
             ],
             [
              0.6666666666666666,
              "#ed7953"
             ],
             [
              0.7777777777777778,
              "#fb9f3a"
             ],
             [
              0.8888888888888888,
              "#fdca26"
             ],
             [
              1,
              "#f0f921"
             ]
            ],
            "type": "heatmapgl"
           }
          ],
          "histogram": [
           {
            "marker": {
             "pattern": {
              "fillmode": "overlay",
              "size": 10,
              "solidity": 0.2
             }
            },
            "type": "histogram"
           }
          ],
          "histogram2d": [
           {
            "colorbar": {
             "outlinewidth": 0,
             "ticks": ""
            },
            "colorscale": [
             [
              0,
              "#0d0887"
             ],
             [
              0.1111111111111111,
              "#46039f"
             ],
             [
              0.2222222222222222,
              "#7201a8"
             ],
             [
              0.3333333333333333,
              "#9c179e"
             ],
             [
              0.4444444444444444,
              "#bd3786"
             ],
             [
              0.5555555555555556,
              "#d8576b"
             ],
             [
              0.6666666666666666,
              "#ed7953"
             ],
             [
              0.7777777777777778,
              "#fb9f3a"
             ],
             [
              0.8888888888888888,
              "#fdca26"
             ],
             [
              1,
              "#f0f921"
             ]
            ],
            "type": "histogram2d"
           }
          ],
          "histogram2dcontour": [
           {
            "colorbar": {
             "outlinewidth": 0,
             "ticks": ""
            },
            "colorscale": [
             [
              0,
              "#0d0887"
             ],
             [
              0.1111111111111111,
              "#46039f"
             ],
             [
              0.2222222222222222,
              "#7201a8"
             ],
             [
              0.3333333333333333,
              "#9c179e"
             ],
             [
              0.4444444444444444,
              "#bd3786"
             ],
             [
              0.5555555555555556,
              "#d8576b"
             ],
             [
              0.6666666666666666,
              "#ed7953"
             ],
             [
              0.7777777777777778,
              "#fb9f3a"
             ],
             [
              0.8888888888888888,
              "#fdca26"
             ],
             [
              1,
              "#f0f921"
             ]
            ],
            "type": "histogram2dcontour"
           }
          ],
          "mesh3d": [
           {
            "colorbar": {
             "outlinewidth": 0,
             "ticks": ""
            },
            "type": "mesh3d"
           }
          ],
          "parcoords": [
           {
            "line": {
             "colorbar": {
              "outlinewidth": 0,
              "ticks": ""
             }
            },
            "type": "parcoords"
           }
          ],
          "pie": [
           {
            "automargin": true,
            "type": "pie"
           }
          ],
          "scatter": [
           {
            "fillpattern": {
             "fillmode": "overlay",
             "size": 10,
             "solidity": 0.2
            },
            "type": "scatter"
           }
          ],
          "scatter3d": [
           {
            "line": {
             "colorbar": {
              "outlinewidth": 0,
              "ticks": ""
             }
            },
            "marker": {
             "colorbar": {
              "outlinewidth": 0,
              "ticks": ""
             }
            },
            "type": "scatter3d"
           }
          ],
          "scattercarpet": [
           {
            "marker": {
             "colorbar": {
              "outlinewidth": 0,
              "ticks": ""
             }
            },
            "type": "scattercarpet"
           }
          ],
          "scattergeo": [
           {
            "marker": {
             "colorbar": {
              "outlinewidth": 0,
              "ticks": ""
             }
            },
            "type": "scattergeo"
           }
          ],
          "scattergl": [
           {
            "marker": {
             "colorbar": {
              "outlinewidth": 0,
              "ticks": ""
             }
            },
            "type": "scattergl"
           }
          ],
          "scattermapbox": [
           {
            "marker": {
             "colorbar": {
              "outlinewidth": 0,
              "ticks": ""
             }
            },
            "type": "scattermapbox"
           }
          ],
          "scatterpolar": [
           {
            "marker": {
             "colorbar": {
              "outlinewidth": 0,
              "ticks": ""
             }
            },
            "type": "scatterpolar"
           }
          ],
          "scatterpolargl": [
           {
            "marker": {
             "colorbar": {
              "outlinewidth": 0,
              "ticks": ""
             }
            },
            "type": "scatterpolargl"
           }
          ],
          "scatterternary": [
           {
            "marker": {
             "colorbar": {
              "outlinewidth": 0,
              "ticks": ""
             }
            },
            "type": "scatterternary"
           }
          ],
          "surface": [
           {
            "colorbar": {
             "outlinewidth": 0,
             "ticks": ""
            },
            "colorscale": [
             [
              0,
              "#0d0887"
             ],
             [
              0.1111111111111111,
              "#46039f"
             ],
             [
              0.2222222222222222,
              "#7201a8"
             ],
             [
              0.3333333333333333,
              "#9c179e"
             ],
             [
              0.4444444444444444,
              "#bd3786"
             ],
             [
              0.5555555555555556,
              "#d8576b"
             ],
             [
              0.6666666666666666,
              "#ed7953"
             ],
             [
              0.7777777777777778,
              "#fb9f3a"
             ],
             [
              0.8888888888888888,
              "#fdca26"
             ],
             [
              1,
              "#f0f921"
             ]
            ],
            "type": "surface"
           }
          ],
          "table": [
           {
            "cells": {
             "fill": {
              "color": "#EBF0F8"
             },
             "line": {
              "color": "white"
             }
            },
            "header": {
             "fill": {
              "color": "#C8D4E3"
             },
             "line": {
              "color": "white"
             }
            },
            "type": "table"
           }
          ]
         },
         "layout": {
          "annotationdefaults": {
           "arrowcolor": "#2a3f5f",
           "arrowhead": 0,
           "arrowwidth": 1
          },
          "autotypenumbers": "strict",
          "coloraxis": {
           "colorbar": {
            "outlinewidth": 0,
            "ticks": ""
           }
          },
          "colorscale": {
           "diverging": [
            [
             0,
             "#8e0152"
            ],
            [
             0.1,
             "#c51b7d"
            ],
            [
             0.2,
             "#de77ae"
            ],
            [
             0.3,
             "#f1b6da"
            ],
            [
             0.4,
             "#fde0ef"
            ],
            [
             0.5,
             "#f7f7f7"
            ],
            [
             0.6,
             "#e6f5d0"
            ],
            [
             0.7,
             "#b8e186"
            ],
            [
             0.8,
             "#7fbc41"
            ],
            [
             0.9,
             "#4d9221"
            ],
            [
             1,
             "#276419"
            ]
           ],
           "sequential": [
            [
             0,
             "#0d0887"
            ],
            [
             0.1111111111111111,
             "#46039f"
            ],
            [
             0.2222222222222222,
             "#7201a8"
            ],
            [
             0.3333333333333333,
             "#9c179e"
            ],
            [
             0.4444444444444444,
             "#bd3786"
            ],
            [
             0.5555555555555556,
             "#d8576b"
            ],
            [
             0.6666666666666666,
             "#ed7953"
            ],
            [
             0.7777777777777778,
             "#fb9f3a"
            ],
            [
             0.8888888888888888,
             "#fdca26"
            ],
            [
             1,
             "#f0f921"
            ]
           ],
           "sequentialminus": [
            [
             0,
             "#0d0887"
            ],
            [
             0.1111111111111111,
             "#46039f"
            ],
            [
             0.2222222222222222,
             "#7201a8"
            ],
            [
             0.3333333333333333,
             "#9c179e"
            ],
            [
             0.4444444444444444,
             "#bd3786"
            ],
            [
             0.5555555555555556,
             "#d8576b"
            ],
            [
             0.6666666666666666,
             "#ed7953"
            ],
            [
             0.7777777777777778,
             "#fb9f3a"
            ],
            [
             0.8888888888888888,
             "#fdca26"
            ],
            [
             1,
             "#f0f921"
            ]
           ]
          },
          "colorway": [
           "#636efa",
           "#EF553B",
           "#00cc96",
           "#ab63fa",
           "#FFA15A",
           "#19d3f3",
           "#FF6692",
           "#B6E880",
           "#FF97FF",
           "#FECB52"
          ],
          "font": {
           "color": "#2a3f5f"
          },
          "geo": {
           "bgcolor": "white",
           "lakecolor": "white",
           "landcolor": "#E5ECF6",
           "showlakes": true,
           "showland": true,
           "subunitcolor": "white"
          },
          "hoverlabel": {
           "align": "left"
          },
          "hovermode": "closest",
          "mapbox": {
           "style": "light"
          },
          "paper_bgcolor": "white",
          "plot_bgcolor": "#E5ECF6",
          "polar": {
           "angularaxis": {
            "gridcolor": "white",
            "linecolor": "white",
            "ticks": ""
           },
           "bgcolor": "#E5ECF6",
           "radialaxis": {
            "gridcolor": "white",
            "linecolor": "white",
            "ticks": ""
           }
          },
          "scene": {
           "xaxis": {
            "backgroundcolor": "#E5ECF6",
            "gridcolor": "white",
            "gridwidth": 2,
            "linecolor": "white",
            "showbackground": true,
            "ticks": "",
            "zerolinecolor": "white"
           },
           "yaxis": {
            "backgroundcolor": "#E5ECF6",
            "gridcolor": "white",
            "gridwidth": 2,
            "linecolor": "white",
            "showbackground": true,
            "ticks": "",
            "zerolinecolor": "white"
           },
           "zaxis": {
            "backgroundcolor": "#E5ECF6",
            "gridcolor": "white",
            "gridwidth": 2,
            "linecolor": "white",
            "showbackground": true,
            "ticks": "",
            "zerolinecolor": "white"
           }
          },
          "shapedefaults": {
           "line": {
            "color": "#2a3f5f"
           }
          },
          "ternary": {
           "aaxis": {
            "gridcolor": "white",
            "linecolor": "white",
            "ticks": ""
           },
           "baxis": {
            "gridcolor": "white",
            "linecolor": "white",
            "ticks": ""
           },
           "bgcolor": "#E5ECF6",
           "caxis": {
            "gridcolor": "white",
            "linecolor": "white",
            "ticks": ""
           }
          },
          "title": {
           "x": 0.05
          },
          "xaxis": {
           "automargin": true,
           "gridcolor": "white",
           "linecolor": "white",
           "ticks": "",
           "title": {
            "standoff": 15
           },
           "zerolinecolor": "white",
           "zerolinewidth": 2
          },
          "yaxis": {
           "automargin": true,
           "gridcolor": "white",
           "linecolor": "white",
           "ticks": "",
           "title": {
            "standoff": 15
           },
           "zerolinecolor": "white",
           "zerolinewidth": 2
          }
         }
        },
        "title": {
         "text": "Demand 2050"
        },
        "width": 900
       }
      }
     },
     "metadata": {},
     "output_type": "display_data"
    },
    {
     "name": "stderr",
     "output_type": "stream",
     "text": [
      "C:\\Users\\mortensv\\AppData\\Local\\Temp\\ipykernel_29752\\1243851363.py:21: SettingWithCopyWarning:\n",
      "\n",
      "\n",
      "A value is trying to be set on a copy of a slice from a DataFrame.\n",
      "Try using .loc[row_indexer,col_indexer] = value instead\n",
      "\n",
      "See the caveats in the documentation: https://pandas.pydata.org/pandas-docs/stable/user_guide/indexing.html#returning-a-view-versus-a-copy\n",
      "\n",
      "C:\\Users\\mortensv\\AppData\\Local\\Temp\\ipykernel_29752\\1243851363.py:24: SettingWithCopyWarning:\n",
      "\n",
      "\n",
      "A value is trying to be set on a copy of a slice from a DataFrame.\n",
      "Try using .loc[row_indexer,col_indexer] = value instead\n",
      "\n",
      "See the caveats in the documentation: https://pandas.pydata.org/pandas-docs/stable/user_guide/indexing.html#returning-a-view-versus-a-copy\n",
      "\n"
     ]
    },
    {
     "data": {
      "application/vnd.plotly.v1+json": {
       "config": {
        "plotlyServerURL": "https://plot.ly"
       },
       "data": [
        {
         "labels": [
          "Heat",
          "Others"
         ],
         "marker": {
          "colors": [
           "#a8e39d",
           "#9899e9"
          ]
         },
         "textfont": {
          "size": 24
         },
         "textinfo": "percent+label",
         "textposition": "inside",
         "type": "pie",
         "values": [
          17276.42880137145,
          23858.631933104
         ]
        }
       ],
       "layout": {
        "height": 800,
        "template": {
         "data": {
          "bar": [
           {
            "error_x": {
             "color": "#2a3f5f"
            },
            "error_y": {
             "color": "#2a3f5f"
            },
            "marker": {
             "line": {
              "color": "#E5ECF6",
              "width": 0.5
             },
             "pattern": {
              "fillmode": "overlay",
              "size": 10,
              "solidity": 0.2
             }
            },
            "type": "bar"
           }
          ],
          "barpolar": [
           {
            "marker": {
             "line": {
              "color": "#E5ECF6",
              "width": 0.5
             },
             "pattern": {
              "fillmode": "overlay",
              "size": 10,
              "solidity": 0.2
             }
            },
            "type": "barpolar"
           }
          ],
          "carpet": [
           {
            "aaxis": {
             "endlinecolor": "#2a3f5f",
             "gridcolor": "white",
             "linecolor": "white",
             "minorgridcolor": "white",
             "startlinecolor": "#2a3f5f"
            },
            "baxis": {
             "endlinecolor": "#2a3f5f",
             "gridcolor": "white",
             "linecolor": "white",
             "minorgridcolor": "white",
             "startlinecolor": "#2a3f5f"
            },
            "type": "carpet"
           }
          ],
          "choropleth": [
           {
            "colorbar": {
             "outlinewidth": 0,
             "ticks": ""
            },
            "type": "choropleth"
           }
          ],
          "contour": [
           {
            "colorbar": {
             "outlinewidth": 0,
             "ticks": ""
            },
            "colorscale": [
             [
              0,
              "#0d0887"
             ],
             [
              0.1111111111111111,
              "#46039f"
             ],
             [
              0.2222222222222222,
              "#7201a8"
             ],
             [
              0.3333333333333333,
              "#9c179e"
             ],
             [
              0.4444444444444444,
              "#bd3786"
             ],
             [
              0.5555555555555556,
              "#d8576b"
             ],
             [
              0.6666666666666666,
              "#ed7953"
             ],
             [
              0.7777777777777778,
              "#fb9f3a"
             ],
             [
              0.8888888888888888,
              "#fdca26"
             ],
             [
              1,
              "#f0f921"
             ]
            ],
            "type": "contour"
           }
          ],
          "contourcarpet": [
           {
            "colorbar": {
             "outlinewidth": 0,
             "ticks": ""
            },
            "type": "contourcarpet"
           }
          ],
          "heatmap": [
           {
            "colorbar": {
             "outlinewidth": 0,
             "ticks": ""
            },
            "colorscale": [
             [
              0,
              "#0d0887"
             ],
             [
              0.1111111111111111,
              "#46039f"
             ],
             [
              0.2222222222222222,
              "#7201a8"
             ],
             [
              0.3333333333333333,
              "#9c179e"
             ],
             [
              0.4444444444444444,
              "#bd3786"
             ],
             [
              0.5555555555555556,
              "#d8576b"
             ],
             [
              0.6666666666666666,
              "#ed7953"
             ],
             [
              0.7777777777777778,
              "#fb9f3a"
             ],
             [
              0.8888888888888888,
              "#fdca26"
             ],
             [
              1,
              "#f0f921"
             ]
            ],
            "type": "heatmap"
           }
          ],
          "heatmapgl": [
           {
            "colorbar": {
             "outlinewidth": 0,
             "ticks": ""
            },
            "colorscale": [
             [
              0,
              "#0d0887"
             ],
             [
              0.1111111111111111,
              "#46039f"
             ],
             [
              0.2222222222222222,
              "#7201a8"
             ],
             [
              0.3333333333333333,
              "#9c179e"
             ],
             [
              0.4444444444444444,
              "#bd3786"
             ],
             [
              0.5555555555555556,
              "#d8576b"
             ],
             [
              0.6666666666666666,
              "#ed7953"
             ],
             [
              0.7777777777777778,
              "#fb9f3a"
             ],
             [
              0.8888888888888888,
              "#fdca26"
             ],
             [
              1,
              "#f0f921"
             ]
            ],
            "type": "heatmapgl"
           }
          ],
          "histogram": [
           {
            "marker": {
             "pattern": {
              "fillmode": "overlay",
              "size": 10,
              "solidity": 0.2
             }
            },
            "type": "histogram"
           }
          ],
          "histogram2d": [
           {
            "colorbar": {
             "outlinewidth": 0,
             "ticks": ""
            },
            "colorscale": [
             [
              0,
              "#0d0887"
             ],
             [
              0.1111111111111111,
              "#46039f"
             ],
             [
              0.2222222222222222,
              "#7201a8"
             ],
             [
              0.3333333333333333,
              "#9c179e"
             ],
             [
              0.4444444444444444,
              "#bd3786"
             ],
             [
              0.5555555555555556,
              "#d8576b"
             ],
             [
              0.6666666666666666,
              "#ed7953"
             ],
             [
              0.7777777777777778,
              "#fb9f3a"
             ],
             [
              0.8888888888888888,
              "#fdca26"
             ],
             [
              1,
              "#f0f921"
             ]
            ],
            "type": "histogram2d"
           }
          ],
          "histogram2dcontour": [
           {
            "colorbar": {
             "outlinewidth": 0,
             "ticks": ""
            },
            "colorscale": [
             [
              0,
              "#0d0887"
             ],
             [
              0.1111111111111111,
              "#46039f"
             ],
             [
              0.2222222222222222,
              "#7201a8"
             ],
             [
              0.3333333333333333,
              "#9c179e"
             ],
             [
              0.4444444444444444,
              "#bd3786"
             ],
             [
              0.5555555555555556,
              "#d8576b"
             ],
             [
              0.6666666666666666,
              "#ed7953"
             ],
             [
              0.7777777777777778,
              "#fb9f3a"
             ],
             [
              0.8888888888888888,
              "#fdca26"
             ],
             [
              1,
              "#f0f921"
             ]
            ],
            "type": "histogram2dcontour"
           }
          ],
          "mesh3d": [
           {
            "colorbar": {
             "outlinewidth": 0,
             "ticks": ""
            },
            "type": "mesh3d"
           }
          ],
          "parcoords": [
           {
            "line": {
             "colorbar": {
              "outlinewidth": 0,
              "ticks": ""
             }
            },
            "type": "parcoords"
           }
          ],
          "pie": [
           {
            "automargin": true,
            "type": "pie"
           }
          ],
          "scatter": [
           {
            "fillpattern": {
             "fillmode": "overlay",
             "size": 10,
             "solidity": 0.2
            },
            "type": "scatter"
           }
          ],
          "scatter3d": [
           {
            "line": {
             "colorbar": {
              "outlinewidth": 0,
              "ticks": ""
             }
            },
            "marker": {
             "colorbar": {
              "outlinewidth": 0,
              "ticks": ""
             }
            },
            "type": "scatter3d"
           }
          ],
          "scattercarpet": [
           {
            "marker": {
             "colorbar": {
              "outlinewidth": 0,
              "ticks": ""
             }
            },
            "type": "scattercarpet"
           }
          ],
          "scattergeo": [
           {
            "marker": {
             "colorbar": {
              "outlinewidth": 0,
              "ticks": ""
             }
            },
            "type": "scattergeo"
           }
          ],
          "scattergl": [
           {
            "marker": {
             "colorbar": {
              "outlinewidth": 0,
              "ticks": ""
             }
            },
            "type": "scattergl"
           }
          ],
          "scattermapbox": [
           {
            "marker": {
             "colorbar": {
              "outlinewidth": 0,
              "ticks": ""
             }
            },
            "type": "scattermapbox"
           }
          ],
          "scatterpolar": [
           {
            "marker": {
             "colorbar": {
              "outlinewidth": 0,
              "ticks": ""
             }
            },
            "type": "scatterpolar"
           }
          ],
          "scatterpolargl": [
           {
            "marker": {
             "colorbar": {
              "outlinewidth": 0,
              "ticks": ""
             }
            },
            "type": "scatterpolargl"
           }
          ],
          "scatterternary": [
           {
            "marker": {
             "colorbar": {
              "outlinewidth": 0,
              "ticks": ""
             }
            },
            "type": "scatterternary"
           }
          ],
          "surface": [
           {
            "colorbar": {
             "outlinewidth": 0,
             "ticks": ""
            },
            "colorscale": [
             [
              0,
              "#0d0887"
             ],
             [
              0.1111111111111111,
              "#46039f"
             ],
             [
              0.2222222222222222,
              "#7201a8"
             ],
             [
              0.3333333333333333,
              "#9c179e"
             ],
             [
              0.4444444444444444,
              "#bd3786"
             ],
             [
              0.5555555555555556,
              "#d8576b"
             ],
             [
              0.6666666666666666,
              "#ed7953"
             ],
             [
              0.7777777777777778,
              "#fb9f3a"
             ],
             [
              0.8888888888888888,
              "#fdca26"
             ],
             [
              1,
              "#f0f921"
             ]
            ],
            "type": "surface"
           }
          ],
          "table": [
           {
            "cells": {
             "fill": {
              "color": "#EBF0F8"
             },
             "line": {
              "color": "white"
             }
            },
            "header": {
             "fill": {
              "color": "#C8D4E3"
             },
             "line": {
              "color": "white"
             }
            },
            "type": "table"
           }
          ]
         },
         "layout": {
          "annotationdefaults": {
           "arrowcolor": "#2a3f5f",
           "arrowhead": 0,
           "arrowwidth": 1
          },
          "autotypenumbers": "strict",
          "coloraxis": {
           "colorbar": {
            "outlinewidth": 0,
            "ticks": ""
           }
          },
          "colorscale": {
           "diverging": [
            [
             0,
             "#8e0152"
            ],
            [
             0.1,
             "#c51b7d"
            ],
            [
             0.2,
             "#de77ae"
            ],
            [
             0.3,
             "#f1b6da"
            ],
            [
             0.4,
             "#fde0ef"
            ],
            [
             0.5,
             "#f7f7f7"
            ],
            [
             0.6,
             "#e6f5d0"
            ],
            [
             0.7,
             "#b8e186"
            ],
            [
             0.8,
             "#7fbc41"
            ],
            [
             0.9,
             "#4d9221"
            ],
            [
             1,
             "#276419"
            ]
           ],
           "sequential": [
            [
             0,
             "#0d0887"
            ],
            [
             0.1111111111111111,
             "#46039f"
            ],
            [
             0.2222222222222222,
             "#7201a8"
            ],
            [
             0.3333333333333333,
             "#9c179e"
            ],
            [
             0.4444444444444444,
             "#bd3786"
            ],
            [
             0.5555555555555556,
             "#d8576b"
            ],
            [
             0.6666666666666666,
             "#ed7953"
            ],
            [
             0.7777777777777778,
             "#fb9f3a"
            ],
            [
             0.8888888888888888,
             "#fdca26"
            ],
            [
             1,
             "#f0f921"
            ]
           ],
           "sequentialminus": [
            [
             0,
             "#0d0887"
            ],
            [
             0.1111111111111111,
             "#46039f"
            ],
            [
             0.2222222222222222,
             "#7201a8"
            ],
            [
             0.3333333333333333,
             "#9c179e"
            ],
            [
             0.4444444444444444,
             "#bd3786"
            ],
            [
             0.5555555555555556,
             "#d8576b"
            ],
            [
             0.6666666666666666,
             "#ed7953"
            ],
            [
             0.7777777777777778,
             "#fb9f3a"
            ],
            [
             0.8888888888888888,
             "#fdca26"
            ],
            [
             1,
             "#f0f921"
            ]
           ]
          },
          "colorway": [
           "#636efa",
           "#EF553B",
           "#00cc96",
           "#ab63fa",
           "#FFA15A",
           "#19d3f3",
           "#FF6692",
           "#B6E880",
           "#FF97FF",
           "#FECB52"
          ],
          "font": {
           "color": "#2a3f5f"
          },
          "geo": {
           "bgcolor": "white",
           "lakecolor": "white",
           "landcolor": "#E5ECF6",
           "showlakes": true,
           "showland": true,
           "subunitcolor": "white"
          },
          "hoverlabel": {
           "align": "left"
          },
          "hovermode": "closest",
          "mapbox": {
           "style": "light"
          },
          "paper_bgcolor": "white",
          "plot_bgcolor": "#E5ECF6",
          "polar": {
           "angularaxis": {
            "gridcolor": "white",
            "linecolor": "white",
            "ticks": ""
           },
           "bgcolor": "#E5ECF6",
           "radialaxis": {
            "gridcolor": "white",
            "linecolor": "white",
            "ticks": ""
           }
          },
          "scene": {
           "xaxis": {
            "backgroundcolor": "#E5ECF6",
            "gridcolor": "white",
            "gridwidth": 2,
            "linecolor": "white",
            "showbackground": true,
            "ticks": "",
            "zerolinecolor": "white"
           },
           "yaxis": {
            "backgroundcolor": "#E5ECF6",
            "gridcolor": "white",
            "gridwidth": 2,
            "linecolor": "white",
            "showbackground": true,
            "ticks": "",
            "zerolinecolor": "white"
           },
           "zaxis": {
            "backgroundcolor": "#E5ECF6",
            "gridcolor": "white",
            "gridwidth": 2,
            "linecolor": "white",
            "showbackground": true,
            "ticks": "",
            "zerolinecolor": "white"
           }
          },
          "shapedefaults": {
           "line": {
            "color": "#2a3f5f"
           }
          },
          "ternary": {
           "aaxis": {
            "gridcolor": "white",
            "linecolor": "white",
            "ticks": ""
           },
           "baxis": {
            "gridcolor": "white",
            "linecolor": "white",
            "ticks": ""
           },
           "bgcolor": "#E5ECF6",
           "caxis": {
            "gridcolor": "white",
            "linecolor": "white",
            "ticks": ""
           }
          },
          "title": {
           "x": 0.05
          },
          "xaxis": {
           "automargin": true,
           "gridcolor": "white",
           "linecolor": "white",
           "ticks": "",
           "title": {
            "standoff": 15
           },
           "zerolinecolor": "white",
           "zerolinewidth": 2
          },
          "yaxis": {
           "automargin": true,
           "gridcolor": "white",
           "linecolor": "white",
           "ticks": "",
           "title": {
            "standoff": 15
           },
           "zerolinecolor": "white",
           "zerolinewidth": 2
          }
         }
        },
        "title": {
         "text": "Demand 2050"
        },
        "width": 900
       }
      }
     },
     "metadata": {},
     "output_type": "display_data"
    }
   ],
   "source": [
    "#demand_data = pd.read_csv(SOLUTION_DIR / \"Par_SpecifiedAnnualDemand.csv\")\n",
    "demand_data = pd.read_excel(SOLUTION_DIR / \"Parameter_seasonal.xlsx\", sheet_name=\"Par_SpecifiedAnnualDemand\")\n",
    "\n",
    "fig = heat_demand_pie_plot(demand_data)\n",
    "\n",
    "if WRITE_FIGS:\n",
    "    print(\"Hei\")\n",
    "    fig.write_image(WRITE_DIR / \"heat_demand_2050_pie_plot.png\")\n",
    "\n",
    "fig.show()\n",
    "\n",
    "# Read demand data from sheet in excel\n",
    "\n",
    "demand_data = pd.read_excel(SOLUTION_DIR / \"Parameter_seasonal_District35.xlsx\", sheet_name=\"Par_SpecifiedAnnualDemand\")\n",
    "\n",
    "heat_demand_pie_plot(demand_data).show()\n"
   ]
  }
 ],
 "metadata": {
  "kernelspec": {
   "display_name": "scenario_dashboard",
   "language": "python",
   "name": "python3"
  },
  "language_info": {
   "codemirror_mode": {
    "name": "ipython",
    "version": 3
   },
   "file_extension": ".py",
   "mimetype": "text/x-python",
   "name": "python",
   "nbconvert_exporter": "python",
   "pygments_lexer": "ipython3",
   "version": "3.12.4"
  }
 },
 "nbformat": 4,
 "nbformat_minor": 2
}
