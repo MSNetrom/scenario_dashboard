{
 "cells": [
  {
   "cell_type": "code",
   "execution_count": 1,
   "metadata": {},
   "outputs": [],
   "source": [
    "%load_ext autoreload\n",
    "%autoreload 2\n",
    "\n",
    "import sys, os\n",
    "from pathlib import Path\n",
    "import plotly.graph_objects as go\n",
    "from typing import Iterable\n",
    "\n",
    "# Fix import\n",
    "sys.path.append(os.path.abspath(os.path.join('..')))\n",
    "from facilitators import BarFacilitator, StackedQuantityEvolutionFacilitatorBase\n",
    "from data import read_sol_keys"
   ]
  },
  {
   "cell_type": "code",
   "execution_count": 2,
   "metadata": {},
   "outputs": [],
   "source": [
    "PROJECT_ROOT_DIR = Path().resolve().parent\n",
    "SOLUTION_DIR = PROJECT_ROOT_DIR / \"solution_files\"\n",
    "\n",
    "DAILY_DATA = SOLUTION_DIR / \"solution_data_daily_d20_h6_s6_no_invest.sol\"\n",
    "SEASON_DATA = SOLUTION_DIR / \"solution_data_season_d20_h6_s6_no_invest.sol\"\n",
    "\n",
    "WRITE_DIR = PROJECT_ROOT_DIR / \"generated_figs\"\n",
    "WRITE_FIGS = True\n",
    "\n",
    "REGION = \"ALL\"\n",
    "YEAR = 2050"
   ]
  },
  {
   "cell_type": "markdown",
   "metadata": {},
   "source": [
    "# Stacked Capacity Evolution"
   ]
  },
  {
   "cell_type": "code",
   "execution_count": 43,
   "metadata": {},
   "outputs": [],
   "source": [
    "\n",
    "def stacked_capacity_evolution_fig(sol_path: str, region: str = \"ALL\", title_addon: str = None, write_fig = False) -> tuple[go.Figure, Iterable[str]]:\n",
    "    storage_evolution = StackedQuantityEvolutionFacilitatorBase(sol_path=sol_path, type_of_data_to_read=\"CapitalInvestment\", \n",
    "                                                                region=region, extra_identifying_columns=[\"Technology\"])\n",
    "\n",
    "    d = storage_evolution.get_relevant_data()\n",
    "    d.filter_by_containing_string(column=\"Technology\", identifier=\"D_\")\n",
    "\n",
    "    if region == \"ALL\":\n",
    "        d.aggreagate_all_by_sum(column_to_aggregate=\"Region\", aggregated_entry_name=region, column_to_sum=\"Value\")\n",
    "\n",
    "    # Remove those who are 0 for all years\n",
    "    techs_over_zero = d.df[d.df[\"Value\"] > 0][\"Technology\"].unique()\n",
    "    d.filter_by_list(column=\"Technology\", identifier_list=techs_over_zero)\n",
    "\n",
    "    fig = storage_evolution.plot(storage_evolution.generate_traces(d))\n",
    "\n",
    "    fig.update_layout(\n",
    "        width=1400,\n",
    "        height=800,\n",
    "        title=f\"Storage Capacity, Region: {region}\" + f\", {title_addon}\" if title_addon is not None else \"\",\n",
    "        yaxis_title=\"GW\",\n",
    "        xaxis_title=\"Year\",\n",
    "    )\n",
    "\n",
    "    if write_fig:\n",
    "        fig.write_image(WRITE_DIR / f\"stacked_capacity_evolution_{region}_{title_addon}.png\")\n",
    "\n",
    "    return fig, techs_over_zero\n"
   ]
  },
  {
   "cell_type": "code",
   "execution_count": 44,
   "metadata": {},
   "outputs": [
    {
     "name": "stdout",
     "output_type": "stream",
     "text": [
      "No unit conversion applied!\n"
     ]
    },
    {
     "data": {
      "application/vnd.plotly.v1+json": {
       "config": {
        "plotlyServerURL": "https://plot.ly"
       },
       "data": [
        {
         "fillcolor": "#91d9fe",
         "legendgroup": "D_Battery_Li-Ion",
         "line": {
          "color": "#91d9fe"
         },
         "name": "D_Battery_Li-Ion",
         "showlegend": true,
         "stackgroup": "one",
         "type": "scatter",
         "x": [
          2018
         ],
         "y": [
          0
         ]
        },
        {
         "fillcolor": "#91d9fe",
         "legendgroup": "D_Battery_Li-Ion",
         "line": {
          "color": "#91d9fe"
         },
         "name": "D_Battery_Li-Ion",
         "showlegend": false,
         "stackgroup": "one",
         "type": "scatter",
         "x": [
          2025
         ],
         "y": [
          1.4108743791529201
         ]
        },
        {
         "fillcolor": "#91d9fe",
         "legendgroup": "D_Battery_Li-Ion",
         "line": {
          "color": "#91d9fe"
         },
         "name": "D_Battery_Li-Ion",
         "showlegend": false,
         "stackgroup": "one",
         "type": "scatter",
         "x": [
          2030
         ],
         "y": [
          128.01167816097092
         ]
        },
        {
         "fillcolor": "#91d9fe",
         "legendgroup": "D_Battery_Li-Ion",
         "line": {
          "color": "#91d9fe"
         },
         "name": "D_Battery_Li-Ion",
         "showlegend": false,
         "stackgroup": "one",
         "type": "scatter",
         "x": [
          2035
         ],
         "y": [
          205.6821319522639
         ]
        },
        {
         "fillcolor": "#91d9fe",
         "legendgroup": "D_Battery_Li-Ion",
         "line": {
          "color": "#91d9fe"
         },
         "name": "D_Battery_Li-Ion",
         "showlegend": false,
         "stackgroup": "one",
         "type": "scatter",
         "x": [
          2040
         ],
         "y": [
          224.56320535894463
         ]
        },
        {
         "fillcolor": "#91d9fe",
         "legendgroup": "D_Battery_Li-Ion",
         "line": {
          "color": "#91d9fe"
         },
         "name": "D_Battery_Li-Ion",
         "showlegend": false,
         "stackgroup": "one",
         "type": "scatter",
         "x": [
          2045
         ],
         "y": [
          227.36760537637906
         ]
        },
        {
         "fillcolor": "#91d9fe",
         "legendgroup": "D_Battery_Li-Ion",
         "line": {
          "color": "#91d9fe"
         },
         "name": "D_Battery_Li-Ion",
         "showlegend": false,
         "stackgroup": "one",
         "type": "scatter",
         "x": [
          2050
         ],
         "y": [
          171.58453834079003
         ]
        },
        {
         "fillcolor": "#a4dfe5",
         "legendgroup": "D_Gas_H2",
         "line": {
          "color": "#a4dfe5"
         },
         "name": "D_Gas_H2",
         "showlegend": true,
         "stackgroup": "one",
         "type": "scatter",
         "x": [
          2018
         ],
         "y": [
          0
         ]
        },
        {
         "fillcolor": "#a4dfe5",
         "legendgroup": "D_Gas_H2",
         "line": {
          "color": "#a4dfe5"
         },
         "name": "D_Gas_H2",
         "showlegend": false,
         "stackgroup": "one",
         "type": "scatter",
         "x": [
          2025
         ],
         "y": [
          0.3933118061764456
         ]
        },
        {
         "fillcolor": "#a4dfe5",
         "legendgroup": "D_Gas_H2",
         "line": {
          "color": "#a4dfe5"
         },
         "name": "D_Gas_H2",
         "showlegend": false,
         "stackgroup": "one",
         "type": "scatter",
         "x": [
          2030
         ],
         "y": [
          55.13869128793152
         ]
        },
        {
         "fillcolor": "#a4dfe5",
         "legendgroup": "D_Gas_H2",
         "line": {
          "color": "#a4dfe5"
         },
         "name": "D_Gas_H2",
         "showlegend": false,
         "stackgroup": "one",
         "type": "scatter",
         "x": [
          2035
         ],
         "y": [
          346.92564944915944
         ]
        },
        {
         "fillcolor": "#a4dfe5",
         "legendgroup": "D_Gas_H2",
         "line": {
          "color": "#a4dfe5"
         },
         "name": "D_Gas_H2",
         "showlegend": false,
         "stackgroup": "one",
         "type": "scatter",
         "x": [
          2040
         ],
         "y": [
          414.8662931377047
         ]
        },
        {
         "fillcolor": "#a4dfe5",
         "legendgroup": "D_Gas_H2",
         "line": {
          "color": "#a4dfe5"
         },
         "name": "D_Gas_H2",
         "showlegend": false,
         "stackgroup": "one",
         "type": "scatter",
         "x": [
          2045
         ],
         "y": [
          414.8662931377047
         ]
        },
        {
         "fillcolor": "#a4dfe5",
         "legendgroup": "D_Gas_H2",
         "line": {
          "color": "#a4dfe5"
         },
         "name": "D_Gas_H2",
         "showlegend": false,
         "stackgroup": "one",
         "type": "scatter",
         "x": [
          2050
         ],
         "y": [
          440.7081884394316
         ]
        },
        {
         "fillcolor": "#F0285F",
         "legendgroup": "D_Heat_HLB",
         "line": {
          "color": "#F0285F"
         },
         "name": "D_Heat_HLB",
         "showlegend": true,
         "stackgroup": "one",
         "type": "scatter",
         "x": [
          2018
         ],
         "y": [
          0
         ]
        },
        {
         "fillcolor": "#F0285F",
         "legendgroup": "D_Heat_HLB",
         "line": {
          "color": "#F0285F"
         },
         "name": "D_Heat_HLB",
         "showlegend": false,
         "stackgroup": "one",
         "type": "scatter",
         "x": [
          2025
         ],
         "y": [
          0
         ]
        },
        {
         "fillcolor": "#F0285F",
         "legendgroup": "D_Heat_HLB",
         "line": {
          "color": "#F0285F"
         },
         "name": "D_Heat_HLB",
         "showlegend": false,
         "stackgroup": "one",
         "type": "scatter",
         "x": [
          2030
         ],
         "y": [
          0
         ]
        },
        {
         "fillcolor": "#F0285F",
         "legendgroup": "D_Heat_HLB",
         "line": {
          "color": "#F0285F"
         },
         "name": "D_Heat_HLB",
         "showlegend": false,
         "stackgroup": "one",
         "type": "scatter",
         "x": [
          2035
         ],
         "y": [
          0.5177110616562618
         ]
        },
        {
         "fillcolor": "#F0285F",
         "legendgroup": "D_Heat_HLB",
         "line": {
          "color": "#F0285F"
         },
         "name": "D_Heat_HLB",
         "showlegend": false,
         "stackgroup": "one",
         "type": "scatter",
         "x": [
          2040
         ],
         "y": [
          0.7538285654725561
         ]
        },
        {
         "fillcolor": "#F0285F",
         "legendgroup": "D_Heat_HLB",
         "line": {
          "color": "#F0285F"
         },
         "name": "D_Heat_HLB",
         "showlegend": false,
         "stackgroup": "one",
         "type": "scatter",
         "x": [
          2045
         ],
         "y": [
          0.7555986128465885
         ]
        },
        {
         "fillcolor": "#F0285F",
         "legendgroup": "D_Heat_HLB",
         "line": {
          "color": "#F0285F"
         },
         "name": "D_Heat_HLB",
         "showlegend": false,
         "stackgroup": "one",
         "type": "scatter",
         "x": [
          2050
         ],
         "y": [
          0.8391284648112962
         ]
        },
        {
         "fillcolor": "#a7c9f5",
         "legendgroup": "D_Heat_HLI",
         "line": {
          "color": "#a7c9f5"
         },
         "name": "D_Heat_HLI",
         "showlegend": true,
         "stackgroup": "one",
         "type": "scatter",
         "x": [
          2018
         ],
         "y": [
          0
         ]
        },
        {
         "fillcolor": "#a7c9f5",
         "legendgroup": "D_Heat_HLI",
         "line": {
          "color": "#a7c9f5"
         },
         "name": "D_Heat_HLI",
         "showlegend": false,
         "stackgroup": "one",
         "type": "scatter",
         "x": [
          2025
         ],
         "y": [
          0
         ]
        },
        {
         "fillcolor": "#a7c9f5",
         "legendgroup": "D_Heat_HLI",
         "line": {
          "color": "#a7c9f5"
         },
         "name": "D_Heat_HLI",
         "showlegend": false,
         "stackgroup": "one",
         "type": "scatter",
         "x": [
          2030
         ],
         "y": [
          0.06967647450131724
         ]
        },
        {
         "fillcolor": "#a7c9f5",
         "legendgroup": "D_Heat_HLI",
         "line": {
          "color": "#a7c9f5"
         },
         "name": "D_Heat_HLI",
         "showlegend": false,
         "stackgroup": "one",
         "type": "scatter",
         "x": [
          2035
         ],
         "y": [
          4.9514601432706575
         ]
        },
        {
         "fillcolor": "#a7c9f5",
         "legendgroup": "D_Heat_HLI",
         "line": {
          "color": "#a7c9f5"
         },
         "name": "D_Heat_HLI",
         "showlegend": false,
         "stackgroup": "one",
         "type": "scatter",
         "x": [
          2040
         ],
         "y": [
          5.094820444473538
         ]
        },
        {
         "fillcolor": "#a7c9f5",
         "legendgroup": "D_Heat_HLI",
         "line": {
          "color": "#a7c9f5"
         },
         "name": "D_Heat_HLI",
         "showlegend": false,
         "stackgroup": "one",
         "type": "scatter",
         "x": [
          2045
         ],
         "y": [
          5.2200155734220335
         ]
        },
        {
         "fillcolor": "#a7c9f5",
         "legendgroup": "D_Heat_HLI",
         "line": {
          "color": "#a7c9f5"
         },
         "name": "D_Heat_HLI",
         "showlegend": false,
         "stackgroup": "one",
         "type": "scatter",
         "x": [
          2050
         ],
         "y": [
          5.299326638898587
         ]
        },
        {
         "fillcolor": "#def6d1",
         "legendgroup": "D_PHS",
         "line": {
          "color": "#def6d1"
         },
         "name": "D_PHS",
         "showlegend": true,
         "stackgroup": "one",
         "type": "scatter",
         "x": [
          2018
         ],
         "y": [
          52.658
         ]
        },
        {
         "fillcolor": "#def6d1",
         "legendgroup": "D_PHS",
         "line": {
          "color": "#def6d1"
         },
         "name": "D_PHS",
         "showlegend": false,
         "stackgroup": "one",
         "type": "scatter",
         "x": [
          2025
         ],
         "y": [
          45.464546452
         ]
        },
        {
         "fillcolor": "#def6d1",
         "legendgroup": "D_PHS",
         "line": {
          "color": "#def6d1"
         },
         "name": "D_PHS",
         "showlegend": false,
         "stackgroup": "one",
         "type": "scatter",
         "x": [
          2030
         ],
         "y": [
          45.464546452
         ]
        },
        {
         "fillcolor": "#def6d1",
         "legendgroup": "D_PHS",
         "line": {
          "color": "#def6d1"
         },
         "name": "D_PHS",
         "showlegend": false,
         "stackgroup": "one",
         "type": "scatter",
         "x": [
          2035
         ],
         "y": [
          45.459758676
         ]
        },
        {
         "fillcolor": "#def6d1",
         "legendgroup": "D_PHS",
         "line": {
          "color": "#def6d1"
         },
         "name": "D_PHS",
         "showlegend": false,
         "stackgroup": "one",
         "type": "scatter",
         "x": [
          2040
         ],
         "y": [
          45.459758676
         ]
        },
        {
         "fillcolor": "#def6d1",
         "legendgroup": "D_PHS",
         "line": {
          "color": "#def6d1"
         },
         "name": "D_PHS",
         "showlegend": false,
         "stackgroup": "one",
         "type": "scatter",
         "x": [
          2045
         ],
         "y": [
          42.715758676
         ]
        },
        {
         "fillcolor": "#def6d1",
         "legendgroup": "D_PHS",
         "line": {
          "color": "#def6d1"
         },
         "name": "D_PHS",
         "showlegend": false,
         "stackgroup": "one",
         "type": "scatter",
         "x": [
          2050
         ],
         "y": [
          42.715758676
         ]
        }
       ],
       "layout": {
        "barmode": "stack",
        "font": {
         "size": 22
        },
        "height": 800,
        "legend": {
         "traceorder": "reversed"
        },
        "template": {
         "data": {
          "bar": [
           {
            "error_x": {
             "color": "#2a3f5f"
            },
            "error_y": {
             "color": "#2a3f5f"
            },
            "marker": {
             "line": {
              "color": "#E5ECF6",
              "width": 0.5
             },
             "pattern": {
              "fillmode": "overlay",
              "size": 10,
              "solidity": 0.2
             }
            },
            "type": "bar"
           }
          ],
          "barpolar": [
           {
            "marker": {
             "line": {
              "color": "#E5ECF6",
              "width": 0.5
             },
             "pattern": {
              "fillmode": "overlay",
              "size": 10,
              "solidity": 0.2
             }
            },
            "type": "barpolar"
           }
          ],
          "carpet": [
           {
            "aaxis": {
             "endlinecolor": "#2a3f5f",
             "gridcolor": "white",
             "linecolor": "white",
             "minorgridcolor": "white",
             "startlinecolor": "#2a3f5f"
            },
            "baxis": {
             "endlinecolor": "#2a3f5f",
             "gridcolor": "white",
             "linecolor": "white",
             "minorgridcolor": "white",
             "startlinecolor": "#2a3f5f"
            },
            "type": "carpet"
           }
          ],
          "choropleth": [
           {
            "colorbar": {
             "outlinewidth": 0,
             "ticks": ""
            },
            "type": "choropleth"
           }
          ],
          "contour": [
           {
            "colorbar": {
             "outlinewidth": 0,
             "ticks": ""
            },
            "colorscale": [
             [
              0,
              "#0d0887"
             ],
             [
              0.1111111111111111,
              "#46039f"
             ],
             [
              0.2222222222222222,
              "#7201a8"
             ],
             [
              0.3333333333333333,
              "#9c179e"
             ],
             [
              0.4444444444444444,
              "#bd3786"
             ],
             [
              0.5555555555555556,
              "#d8576b"
             ],
             [
              0.6666666666666666,
              "#ed7953"
             ],
             [
              0.7777777777777778,
              "#fb9f3a"
             ],
             [
              0.8888888888888888,
              "#fdca26"
             ],
             [
              1,
              "#f0f921"
             ]
            ],
            "type": "contour"
           }
          ],
          "contourcarpet": [
           {
            "colorbar": {
             "outlinewidth": 0,
             "ticks": ""
            },
            "type": "contourcarpet"
           }
          ],
          "heatmap": [
           {
            "colorbar": {
             "outlinewidth": 0,
             "ticks": ""
            },
            "colorscale": [
             [
              0,
              "#0d0887"
             ],
             [
              0.1111111111111111,
              "#46039f"
             ],
             [
              0.2222222222222222,
              "#7201a8"
             ],
             [
              0.3333333333333333,
              "#9c179e"
             ],
             [
              0.4444444444444444,
              "#bd3786"
             ],
             [
              0.5555555555555556,
              "#d8576b"
             ],
             [
              0.6666666666666666,
              "#ed7953"
             ],
             [
              0.7777777777777778,
              "#fb9f3a"
             ],
             [
              0.8888888888888888,
              "#fdca26"
             ],
             [
              1,
              "#f0f921"
             ]
            ],
            "type": "heatmap"
           }
          ],
          "heatmapgl": [
           {
            "colorbar": {
             "outlinewidth": 0,
             "ticks": ""
            },
            "colorscale": [
             [
              0,
              "#0d0887"
             ],
             [
              0.1111111111111111,
              "#46039f"
             ],
             [
              0.2222222222222222,
              "#7201a8"
             ],
             [
              0.3333333333333333,
              "#9c179e"
             ],
             [
              0.4444444444444444,
              "#bd3786"
             ],
             [
              0.5555555555555556,
              "#d8576b"
             ],
             [
              0.6666666666666666,
              "#ed7953"
             ],
             [
              0.7777777777777778,
              "#fb9f3a"
             ],
             [
              0.8888888888888888,
              "#fdca26"
             ],
             [
              1,
              "#f0f921"
             ]
            ],
            "type": "heatmapgl"
           }
          ],
          "histogram": [
           {
            "marker": {
             "pattern": {
              "fillmode": "overlay",
              "size": 10,
              "solidity": 0.2
             }
            },
            "type": "histogram"
           }
          ],
          "histogram2d": [
           {
            "colorbar": {
             "outlinewidth": 0,
             "ticks": ""
            },
            "colorscale": [
             [
              0,
              "#0d0887"
             ],
             [
              0.1111111111111111,
              "#46039f"
             ],
             [
              0.2222222222222222,
              "#7201a8"
             ],
             [
              0.3333333333333333,
              "#9c179e"
             ],
             [
              0.4444444444444444,
              "#bd3786"
             ],
             [
              0.5555555555555556,
              "#d8576b"
             ],
             [
              0.6666666666666666,
              "#ed7953"
             ],
             [
              0.7777777777777778,
              "#fb9f3a"
             ],
             [
              0.8888888888888888,
              "#fdca26"
             ],
             [
              1,
              "#f0f921"
             ]
            ],
            "type": "histogram2d"
           }
          ],
          "histogram2dcontour": [
           {
            "colorbar": {
             "outlinewidth": 0,
             "ticks": ""
            },
            "colorscale": [
             [
              0,
              "#0d0887"
             ],
             [
              0.1111111111111111,
              "#46039f"
             ],
             [
              0.2222222222222222,
              "#7201a8"
             ],
             [
              0.3333333333333333,
              "#9c179e"
             ],
             [
              0.4444444444444444,
              "#bd3786"
             ],
             [
              0.5555555555555556,
              "#d8576b"
             ],
             [
              0.6666666666666666,
              "#ed7953"
             ],
             [
              0.7777777777777778,
              "#fb9f3a"
             ],
             [
              0.8888888888888888,
              "#fdca26"
             ],
             [
              1,
              "#f0f921"
             ]
            ],
            "type": "histogram2dcontour"
           }
          ],
          "mesh3d": [
           {
            "colorbar": {
             "outlinewidth": 0,
             "ticks": ""
            },
            "type": "mesh3d"
           }
          ],
          "parcoords": [
           {
            "line": {
             "colorbar": {
              "outlinewidth": 0,
              "ticks": ""
             }
            },
            "type": "parcoords"
           }
          ],
          "pie": [
           {
            "automargin": true,
            "type": "pie"
           }
          ],
          "scatter": [
           {
            "fillpattern": {
             "fillmode": "overlay",
             "size": 10,
             "solidity": 0.2
            },
            "type": "scatter"
           }
          ],
          "scatter3d": [
           {
            "line": {
             "colorbar": {
              "outlinewidth": 0,
              "ticks": ""
             }
            },
            "marker": {
             "colorbar": {
              "outlinewidth": 0,
              "ticks": ""
             }
            },
            "type": "scatter3d"
           }
          ],
          "scattercarpet": [
           {
            "marker": {
             "colorbar": {
              "outlinewidth": 0,
              "ticks": ""
             }
            },
            "type": "scattercarpet"
           }
          ],
          "scattergeo": [
           {
            "marker": {
             "colorbar": {
              "outlinewidth": 0,
              "ticks": ""
             }
            },
            "type": "scattergeo"
           }
          ],
          "scattergl": [
           {
            "marker": {
             "colorbar": {
              "outlinewidth": 0,
              "ticks": ""
             }
            },
            "type": "scattergl"
           }
          ],
          "scattermapbox": [
           {
            "marker": {
             "colorbar": {
              "outlinewidth": 0,
              "ticks": ""
             }
            },
            "type": "scattermapbox"
           }
          ],
          "scatterpolar": [
           {
            "marker": {
             "colorbar": {
              "outlinewidth": 0,
              "ticks": ""
             }
            },
            "type": "scatterpolar"
           }
          ],
          "scatterpolargl": [
           {
            "marker": {
             "colorbar": {
              "outlinewidth": 0,
              "ticks": ""
             }
            },
            "type": "scatterpolargl"
           }
          ],
          "scatterternary": [
           {
            "marker": {
             "colorbar": {
              "outlinewidth": 0,
              "ticks": ""
             }
            },
            "type": "scatterternary"
           }
          ],
          "surface": [
           {
            "colorbar": {
             "outlinewidth": 0,
             "ticks": ""
            },
            "colorscale": [
             [
              0,
              "#0d0887"
             ],
             [
              0.1111111111111111,
              "#46039f"
             ],
             [
              0.2222222222222222,
              "#7201a8"
             ],
             [
              0.3333333333333333,
              "#9c179e"
             ],
             [
              0.4444444444444444,
              "#bd3786"
             ],
             [
              0.5555555555555556,
              "#d8576b"
             ],
             [
              0.6666666666666666,
              "#ed7953"
             ],
             [
              0.7777777777777778,
              "#fb9f3a"
             ],
             [
              0.8888888888888888,
              "#fdca26"
             ],
             [
              1,
              "#f0f921"
             ]
            ],
            "type": "surface"
           }
          ],
          "table": [
           {
            "cells": {
             "fill": {
              "color": "#EBF0F8"
             },
             "line": {
              "color": "white"
             }
            },
            "header": {
             "fill": {
              "color": "#C8D4E3"
             },
             "line": {
              "color": "white"
             }
            },
            "type": "table"
           }
          ]
         },
         "layout": {
          "annotationdefaults": {
           "arrowcolor": "#2a3f5f",
           "arrowhead": 0,
           "arrowwidth": 1
          },
          "autotypenumbers": "strict",
          "coloraxis": {
           "colorbar": {
            "outlinewidth": 0,
            "ticks": ""
           }
          },
          "colorscale": {
           "diverging": [
            [
             0,
             "#8e0152"
            ],
            [
             0.1,
             "#c51b7d"
            ],
            [
             0.2,
             "#de77ae"
            ],
            [
             0.3,
             "#f1b6da"
            ],
            [
             0.4,
             "#fde0ef"
            ],
            [
             0.5,
             "#f7f7f7"
            ],
            [
             0.6,
             "#e6f5d0"
            ],
            [
             0.7,
             "#b8e186"
            ],
            [
             0.8,
             "#7fbc41"
            ],
            [
             0.9,
             "#4d9221"
            ],
            [
             1,
             "#276419"
            ]
           ],
           "sequential": [
            [
             0,
             "#0d0887"
            ],
            [
             0.1111111111111111,
             "#46039f"
            ],
            [
             0.2222222222222222,
             "#7201a8"
            ],
            [
             0.3333333333333333,
             "#9c179e"
            ],
            [
             0.4444444444444444,
             "#bd3786"
            ],
            [
             0.5555555555555556,
             "#d8576b"
            ],
            [
             0.6666666666666666,
             "#ed7953"
            ],
            [
             0.7777777777777778,
             "#fb9f3a"
            ],
            [
             0.8888888888888888,
             "#fdca26"
            ],
            [
             1,
             "#f0f921"
            ]
           ],
           "sequentialminus": [
            [
             0,
             "#0d0887"
            ],
            [
             0.1111111111111111,
             "#46039f"
            ],
            [
             0.2222222222222222,
             "#7201a8"
            ],
            [
             0.3333333333333333,
             "#9c179e"
            ],
            [
             0.4444444444444444,
             "#bd3786"
            ],
            [
             0.5555555555555556,
             "#d8576b"
            ],
            [
             0.6666666666666666,
             "#ed7953"
            ],
            [
             0.7777777777777778,
             "#fb9f3a"
            ],
            [
             0.8888888888888888,
             "#fdca26"
            ],
            [
             1,
             "#f0f921"
            ]
           ]
          },
          "colorway": [
           "#636efa",
           "#EF553B",
           "#00cc96",
           "#ab63fa",
           "#FFA15A",
           "#19d3f3",
           "#FF6692",
           "#B6E880",
           "#FF97FF",
           "#FECB52"
          ],
          "font": {
           "color": "#2a3f5f"
          },
          "geo": {
           "bgcolor": "white",
           "lakecolor": "white",
           "landcolor": "#E5ECF6",
           "showlakes": true,
           "showland": true,
           "subunitcolor": "white"
          },
          "hoverlabel": {
           "align": "left"
          },
          "hovermode": "closest",
          "mapbox": {
           "style": "light"
          },
          "paper_bgcolor": "white",
          "plot_bgcolor": "#E5ECF6",
          "polar": {
           "angularaxis": {
            "gridcolor": "white",
            "linecolor": "white",
            "ticks": ""
           },
           "bgcolor": "#E5ECF6",
           "radialaxis": {
            "gridcolor": "white",
            "linecolor": "white",
            "ticks": ""
           }
          },
          "scene": {
           "xaxis": {
            "backgroundcolor": "#E5ECF6",
            "gridcolor": "white",
            "gridwidth": 2,
            "linecolor": "white",
            "showbackground": true,
            "ticks": "",
            "zerolinecolor": "white"
           },
           "yaxis": {
            "backgroundcolor": "#E5ECF6",
            "gridcolor": "white",
            "gridwidth": 2,
            "linecolor": "white",
            "showbackground": true,
            "ticks": "",
            "zerolinecolor": "white"
           },
           "zaxis": {
            "backgroundcolor": "#E5ECF6",
            "gridcolor": "white",
            "gridwidth": 2,
            "linecolor": "white",
            "showbackground": true,
            "ticks": "",
            "zerolinecolor": "white"
           }
          },
          "shapedefaults": {
           "line": {
            "color": "#2a3f5f"
           }
          },
          "ternary": {
           "aaxis": {
            "gridcolor": "white",
            "linecolor": "white",
            "ticks": ""
           },
           "baxis": {
            "gridcolor": "white",
            "linecolor": "white",
            "ticks": ""
           },
           "bgcolor": "#E5ECF6",
           "caxis": {
            "gridcolor": "white",
            "linecolor": "white",
            "ticks": ""
           }
          },
          "title": {
           "x": 0.05
          },
          "xaxis": {
           "automargin": true,
           "gridcolor": "white",
           "linecolor": "white",
           "ticks": "",
           "title": {
            "standoff": 15
           },
           "zerolinecolor": "white",
           "zerolinewidth": 2
          },
          "yaxis": {
           "automargin": true,
           "gridcolor": "white",
           "linecolor": "white",
           "ticks": "",
           "title": {
            "standoff": 15
           },
           "zerolinecolor": "white",
           "zerolinewidth": 2
          }
         }
        },
        "title": {
         "text": "Storage Capacity, Region: ALL, Daily"
        },
        "width": 1400,
        "xaxis": {
         "title": {
          "text": "Year"
         }
        },
        "yaxis": {
         "title": {
          "text": "GW"
         }
        }
       }
      }
     },
     "metadata": {},
     "output_type": "display_data"
    },
    {
     "name": "stdout",
     "output_type": "stream",
     "text": [
      "No unit conversion applied!\n"
     ]
    },
    {
     "data": {
      "application/vnd.plotly.v1+json": {
       "config": {
        "plotlyServerURL": "https://plot.ly"
       },
       "data": [
        {
         "fillcolor": "#91d9fe",
         "legendgroup": "D_Battery_Li-Ion",
         "line": {
          "color": "#91d9fe"
         },
         "name": "D_Battery_Li-Ion",
         "showlegend": true,
         "stackgroup": "one",
         "type": "scatter",
         "x": [
          2018
         ],
         "y": [
          0
         ]
        },
        {
         "fillcolor": "#91d9fe",
         "legendgroup": "D_Battery_Li-Ion",
         "line": {
          "color": "#91d9fe"
         },
         "name": "D_Battery_Li-Ion",
         "showlegend": false,
         "stackgroup": "one",
         "type": "scatter",
         "x": [
          2025
         ],
         "y": [
          94.47960313489807
         ]
        },
        {
         "fillcolor": "#91d9fe",
         "legendgroup": "D_Battery_Li-Ion",
         "line": {
          "color": "#91d9fe"
         },
         "name": "D_Battery_Li-Ion",
         "showlegend": false,
         "stackgroup": "one",
         "type": "scatter",
         "x": [
          2030
         ],
         "y": [
          841.2079926065932
         ]
        },
        {
         "fillcolor": "#91d9fe",
         "legendgroup": "D_Battery_Li-Ion",
         "line": {
          "color": "#91d9fe"
         },
         "name": "D_Battery_Li-Ion",
         "showlegend": false,
         "stackgroup": "one",
         "type": "scatter",
         "x": [
          2035
         ],
         "y": [
          1298.5162331079725
         ]
        },
        {
         "fillcolor": "#91d9fe",
         "legendgroup": "D_Battery_Li-Ion",
         "line": {
          "color": "#91d9fe"
         },
         "name": "D_Battery_Li-Ion",
         "showlegend": false,
         "stackgroup": "one",
         "type": "scatter",
         "x": [
          2040
         ],
         "y": [
          1307.510620806712
         ]
        },
        {
         "fillcolor": "#91d9fe",
         "legendgroup": "D_Battery_Li-Ion",
         "line": {
          "color": "#91d9fe"
         },
         "name": "D_Battery_Li-Ion",
         "showlegend": false,
         "stackgroup": "one",
         "type": "scatter",
         "x": [
          2045
         ],
         "y": [
          1227.944423708054
         ]
        },
        {
         "fillcolor": "#91d9fe",
         "legendgroup": "D_Battery_Li-Ion",
         "line": {
          "color": "#91d9fe"
         },
         "name": "D_Battery_Li-Ion",
         "showlegend": false,
         "stackgroup": "one",
         "type": "scatter",
         "x": [
          2050
         ],
         "y": [
          961.3009663420446
         ]
        },
        {
         "fillcolor": "#a4dfe5",
         "legendgroup": "D_Gas_H2",
         "line": {
          "color": "#a4dfe5"
         },
         "name": "D_Gas_H2",
         "showlegend": true,
         "stackgroup": "one",
         "type": "scatter",
         "x": [
          2018
         ],
         "y": [
          0
         ]
        },
        {
         "fillcolor": "#a4dfe5",
         "legendgroup": "D_Gas_H2",
         "line": {
          "color": "#a4dfe5"
         },
         "name": "D_Gas_H2",
         "showlegend": false,
         "stackgroup": "one",
         "type": "scatter",
         "x": [
          2025
         ],
         "y": [
          0.17129796648917267
         ]
        },
        {
         "fillcolor": "#a4dfe5",
         "legendgroup": "D_Gas_H2",
         "line": {
          "color": "#a4dfe5"
         },
         "name": "D_Gas_H2",
         "showlegend": false,
         "stackgroup": "one",
         "type": "scatter",
         "x": [
          2030
         ],
         "y": [
          31.99363898549206
         ]
        },
        {
         "fillcolor": "#a4dfe5",
         "legendgroup": "D_Gas_H2",
         "line": {
          "color": "#a4dfe5"
         },
         "name": "D_Gas_H2",
         "showlegend": false,
         "stackgroup": "one",
         "type": "scatter",
         "x": [
          2035
         ],
         "y": [
          112.8009248653085
         ]
        },
        {
         "fillcolor": "#a4dfe5",
         "legendgroup": "D_Gas_H2",
         "line": {
          "color": "#a4dfe5"
         },
         "name": "D_Gas_H2",
         "showlegend": false,
         "stackgroup": "one",
         "type": "scatter",
         "x": [
          2040
         ],
         "y": [
          116.06100385619445
         ]
        },
        {
         "fillcolor": "#a4dfe5",
         "legendgroup": "D_Gas_H2",
         "line": {
          "color": "#a4dfe5"
         },
         "name": "D_Gas_H2",
         "showlegend": false,
         "stackgroup": "one",
         "type": "scatter",
         "x": [
          2045
         ],
         "y": [
          167.78186319826096
         ]
        },
        {
         "fillcolor": "#a4dfe5",
         "legendgroup": "D_Gas_H2",
         "line": {
          "color": "#a4dfe5"
         },
         "name": "D_Gas_H2",
         "showlegend": false,
         "stackgroup": "one",
         "type": "scatter",
         "x": [
          2050
         ],
         "y": [
          218.63589532797806
         ]
        },
        {
         "fillcolor": "#F0285F",
         "legendgroup": "D_Heat_HLB",
         "line": {
          "color": "#F0285F"
         },
         "name": "D_Heat_HLB",
         "showlegend": true,
         "stackgroup": "one",
         "type": "scatter",
         "x": [
          2018
         ],
         "y": [
          0
         ]
        },
        {
         "fillcolor": "#F0285F",
         "legendgroup": "D_Heat_HLB",
         "line": {
          "color": "#F0285F"
         },
         "name": "D_Heat_HLB",
         "showlegend": false,
         "stackgroup": "one",
         "type": "scatter",
         "x": [
          2025
         ],
         "y": [
          187.1716419040436
         ]
        },
        {
         "fillcolor": "#F0285F",
         "legendgroup": "D_Heat_HLB",
         "line": {
          "color": "#F0285F"
         },
         "name": "D_Heat_HLB",
         "showlegend": false,
         "stackgroup": "one",
         "type": "scatter",
         "x": [
          2030
         ],
         "y": [
          262.660314629274
         ]
        },
        {
         "fillcolor": "#F0285F",
         "legendgroup": "D_Heat_HLB",
         "line": {
          "color": "#F0285F"
         },
         "name": "D_Heat_HLB",
         "showlegend": false,
         "stackgroup": "one",
         "type": "scatter",
         "x": [
          2035
         ],
         "y": [
          295.2967801936736
         ]
        },
        {
         "fillcolor": "#F0285F",
         "legendgroup": "D_Heat_HLB",
         "line": {
          "color": "#F0285F"
         },
         "name": "D_Heat_HLB",
         "showlegend": false,
         "stackgroup": "one",
         "type": "scatter",
         "x": [
          2040
         ],
         "y": [
          296.33838719307147
         ]
        },
        {
         "fillcolor": "#F0285F",
         "legendgroup": "D_Heat_HLB",
         "line": {
          "color": "#F0285F"
         },
         "name": "D_Heat_HLB",
         "showlegend": false,
         "stackgroup": "one",
         "type": "scatter",
         "x": [
          2045
         ],
         "y": [
          296.33838719307147
         ]
        },
        {
         "fillcolor": "#F0285F",
         "legendgroup": "D_Heat_HLB",
         "line": {
          "color": "#F0285F"
         },
         "name": "D_Heat_HLB",
         "showlegend": false,
         "stackgroup": "one",
         "type": "scatter",
         "x": [
          2050
         ],
         "y": [
          296.3383871930714
         ]
        },
        {
         "fillcolor": "#fafa9d",
         "legendgroup": "D_Heat_HLDH",
         "line": {
          "color": "#fafa9d"
         },
         "name": "D_Heat_HLDH",
         "showlegend": true,
         "stackgroup": "one",
         "type": "scatter",
         "x": [
          2018
         ],
         "y": [
          0
         ]
        },
        {
         "fillcolor": "#fafa9d",
         "legendgroup": "D_Heat_HLDH",
         "line": {
          "color": "#fafa9d"
         },
         "name": "D_Heat_HLDH",
         "showlegend": false,
         "stackgroup": "one",
         "type": "scatter",
         "x": [
          2025
         ],
         "y": [
          0
         ]
        },
        {
         "fillcolor": "#fafa9d",
         "legendgroup": "D_Heat_HLDH",
         "line": {
          "color": "#fafa9d"
         },
         "name": "D_Heat_HLDH",
         "showlegend": false,
         "stackgroup": "one",
         "type": "scatter",
         "x": [
          2030
         ],
         "y": [
          3.2023258640038916
         ]
        },
        {
         "fillcolor": "#fafa9d",
         "legendgroup": "D_Heat_HLDH",
         "line": {
          "color": "#fafa9d"
         },
         "name": "D_Heat_HLDH",
         "showlegend": false,
         "stackgroup": "one",
         "type": "scatter",
         "x": [
          2035
         ],
         "y": [
          3.242830543365529
         ]
        },
        {
         "fillcolor": "#fafa9d",
         "legendgroup": "D_Heat_HLDH",
         "line": {
          "color": "#fafa9d"
         },
         "name": "D_Heat_HLDH",
         "showlegend": false,
         "stackgroup": "one",
         "type": "scatter",
         "x": [
          2040
         ],
         "y": [
          3.242830543365529
         ]
        },
        {
         "fillcolor": "#fafa9d",
         "legendgroup": "D_Heat_HLDH",
         "line": {
          "color": "#fafa9d"
         },
         "name": "D_Heat_HLDH",
         "showlegend": false,
         "stackgroup": "one",
         "type": "scatter",
         "x": [
          2045
         ],
         "y": [
          3.242830543365529
         ]
        },
        {
         "fillcolor": "#fafa9d",
         "legendgroup": "D_Heat_HLDH",
         "line": {
          "color": "#fafa9d"
         },
         "name": "D_Heat_HLDH",
         "showlegend": false,
         "stackgroup": "one",
         "type": "scatter",
         "x": [
          2050
         ],
         "y": [
          3.242830543365529
         ]
        },
        {
         "fillcolor": "#a7c9f5",
         "legendgroup": "D_Heat_HLI",
         "line": {
          "color": "#a7c9f5"
         },
         "name": "D_Heat_HLI",
         "showlegend": true,
         "stackgroup": "one",
         "type": "scatter",
         "x": [
          2018
         ],
         "y": [
          0
         ]
        },
        {
         "fillcolor": "#a7c9f5",
         "legendgroup": "D_Heat_HLI",
         "line": {
          "color": "#a7c9f5"
         },
         "name": "D_Heat_HLI",
         "showlegend": false,
         "stackgroup": "one",
         "type": "scatter",
         "x": [
          2025
         ],
         "y": [
          0.5317749402032589
         ]
        },
        {
         "fillcolor": "#a7c9f5",
         "legendgroup": "D_Heat_HLI",
         "line": {
          "color": "#a7c9f5"
         },
         "name": "D_Heat_HLI",
         "showlegend": false,
         "stackgroup": "one",
         "type": "scatter",
         "x": [
          2030
         ],
         "y": [
          4.50714887138024
         ]
        },
        {
         "fillcolor": "#a7c9f5",
         "legendgroup": "D_Heat_HLI",
         "line": {
          "color": "#a7c9f5"
         },
         "name": "D_Heat_HLI",
         "showlegend": false,
         "stackgroup": "one",
         "type": "scatter",
         "x": [
          2035
         ],
         "y": [
          14.152331063028463
         ]
        },
        {
         "fillcolor": "#a7c9f5",
         "legendgroup": "D_Heat_HLI",
         "line": {
          "color": "#a7c9f5"
         },
         "name": "D_Heat_HLI",
         "showlegend": false,
         "stackgroup": "one",
         "type": "scatter",
         "x": [
          2040
         ],
         "y": [
          14.152331063028463
         ]
        },
        {
         "fillcolor": "#a7c9f5",
         "legendgroup": "D_Heat_HLI",
         "line": {
          "color": "#a7c9f5"
         },
         "name": "D_Heat_HLI",
         "showlegend": false,
         "stackgroup": "one",
         "type": "scatter",
         "x": [
          2045
         ],
         "y": [
          14.169482143180236
         ]
        },
        {
         "fillcolor": "#a7c9f5",
         "legendgroup": "D_Heat_HLI",
         "line": {
          "color": "#a7c9f5"
         },
         "name": "D_Heat_HLI",
         "showlegend": false,
         "stackgroup": "one",
         "type": "scatter",
         "x": [
          2050
         ],
         "y": [
          14.169482143180057
         ]
        },
        {
         "fillcolor": "#def6d1",
         "legendgroup": "D_PHS",
         "line": {
          "color": "#def6d1"
         },
         "name": "D_PHS",
         "showlegend": true,
         "stackgroup": "one",
         "type": "scatter",
         "x": [
          2018
         ],
         "y": [
          52.658
         ]
        },
        {
         "fillcolor": "#def6d1",
         "legendgroup": "D_PHS",
         "line": {
          "color": "#def6d1"
         },
         "name": "D_PHS",
         "showlegend": false,
         "stackgroup": "one",
         "type": "scatter",
         "x": [
          2025
         ],
         "y": [
          45.464546452
         ]
        },
        {
         "fillcolor": "#def6d1",
         "legendgroup": "D_PHS",
         "line": {
          "color": "#def6d1"
         },
         "name": "D_PHS",
         "showlegend": false,
         "stackgroup": "one",
         "type": "scatter",
         "x": [
          2030
         ],
         "y": [
          45.464546452
         ]
        },
        {
         "fillcolor": "#def6d1",
         "legendgroup": "D_PHS",
         "line": {
          "color": "#def6d1"
         },
         "name": "D_PHS",
         "showlegend": false,
         "stackgroup": "one",
         "type": "scatter",
         "x": [
          2035
         ],
         "y": [
          45.459758676
         ]
        },
        {
         "fillcolor": "#def6d1",
         "legendgroup": "D_PHS",
         "line": {
          "color": "#def6d1"
         },
         "name": "D_PHS",
         "showlegend": false,
         "stackgroup": "one",
         "type": "scatter",
         "x": [
          2040
         ],
         "y": [
          45.459758676
         ]
        },
        {
         "fillcolor": "#def6d1",
         "legendgroup": "D_PHS",
         "line": {
          "color": "#def6d1"
         },
         "name": "D_PHS",
         "showlegend": false,
         "stackgroup": "one",
         "type": "scatter",
         "x": [
          2045
         ],
         "y": [
          42.715758676
         ]
        },
        {
         "fillcolor": "#def6d1",
         "legendgroup": "D_PHS",
         "line": {
          "color": "#def6d1"
         },
         "name": "D_PHS",
         "showlegend": false,
         "stackgroup": "one",
         "type": "scatter",
         "x": [
          2050
         ],
         "y": [
          42.715758676
         ]
        }
       ],
       "layout": {
        "barmode": "stack",
        "font": {
         "size": 22
        },
        "height": 800,
        "legend": {
         "traceorder": "reversed"
        },
        "template": {
         "data": {
          "bar": [
           {
            "error_x": {
             "color": "#2a3f5f"
            },
            "error_y": {
             "color": "#2a3f5f"
            },
            "marker": {
             "line": {
              "color": "#E5ECF6",
              "width": 0.5
             },
             "pattern": {
              "fillmode": "overlay",
              "size": 10,
              "solidity": 0.2
             }
            },
            "type": "bar"
           }
          ],
          "barpolar": [
           {
            "marker": {
             "line": {
              "color": "#E5ECF6",
              "width": 0.5
             },
             "pattern": {
              "fillmode": "overlay",
              "size": 10,
              "solidity": 0.2
             }
            },
            "type": "barpolar"
           }
          ],
          "carpet": [
           {
            "aaxis": {
             "endlinecolor": "#2a3f5f",
             "gridcolor": "white",
             "linecolor": "white",
             "minorgridcolor": "white",
             "startlinecolor": "#2a3f5f"
            },
            "baxis": {
             "endlinecolor": "#2a3f5f",
             "gridcolor": "white",
             "linecolor": "white",
             "minorgridcolor": "white",
             "startlinecolor": "#2a3f5f"
            },
            "type": "carpet"
           }
          ],
          "choropleth": [
           {
            "colorbar": {
             "outlinewidth": 0,
             "ticks": ""
            },
            "type": "choropleth"
           }
          ],
          "contour": [
           {
            "colorbar": {
             "outlinewidth": 0,
             "ticks": ""
            },
            "colorscale": [
             [
              0,
              "#0d0887"
             ],
             [
              0.1111111111111111,
              "#46039f"
             ],
             [
              0.2222222222222222,
              "#7201a8"
             ],
             [
              0.3333333333333333,
              "#9c179e"
             ],
             [
              0.4444444444444444,
              "#bd3786"
             ],
             [
              0.5555555555555556,
              "#d8576b"
             ],
             [
              0.6666666666666666,
              "#ed7953"
             ],
             [
              0.7777777777777778,
              "#fb9f3a"
             ],
             [
              0.8888888888888888,
              "#fdca26"
             ],
             [
              1,
              "#f0f921"
             ]
            ],
            "type": "contour"
           }
          ],
          "contourcarpet": [
           {
            "colorbar": {
             "outlinewidth": 0,
             "ticks": ""
            },
            "type": "contourcarpet"
           }
          ],
          "heatmap": [
           {
            "colorbar": {
             "outlinewidth": 0,
             "ticks": ""
            },
            "colorscale": [
             [
              0,
              "#0d0887"
             ],
             [
              0.1111111111111111,
              "#46039f"
             ],
             [
              0.2222222222222222,
              "#7201a8"
             ],
             [
              0.3333333333333333,
              "#9c179e"
             ],
             [
              0.4444444444444444,
              "#bd3786"
             ],
             [
              0.5555555555555556,
              "#d8576b"
             ],
             [
              0.6666666666666666,
              "#ed7953"
             ],
             [
              0.7777777777777778,
              "#fb9f3a"
             ],
             [
              0.8888888888888888,
              "#fdca26"
             ],
             [
              1,
              "#f0f921"
             ]
            ],
            "type": "heatmap"
           }
          ],
          "heatmapgl": [
           {
            "colorbar": {
             "outlinewidth": 0,
             "ticks": ""
            },
            "colorscale": [
             [
              0,
              "#0d0887"
             ],
             [
              0.1111111111111111,
              "#46039f"
             ],
             [
              0.2222222222222222,
              "#7201a8"
             ],
             [
              0.3333333333333333,
              "#9c179e"
             ],
             [
              0.4444444444444444,
              "#bd3786"
             ],
             [
              0.5555555555555556,
              "#d8576b"
             ],
             [
              0.6666666666666666,
              "#ed7953"
             ],
             [
              0.7777777777777778,
              "#fb9f3a"
             ],
             [
              0.8888888888888888,
              "#fdca26"
             ],
             [
              1,
              "#f0f921"
             ]
            ],
            "type": "heatmapgl"
           }
          ],
          "histogram": [
           {
            "marker": {
             "pattern": {
              "fillmode": "overlay",
              "size": 10,
              "solidity": 0.2
             }
            },
            "type": "histogram"
           }
          ],
          "histogram2d": [
           {
            "colorbar": {
             "outlinewidth": 0,
             "ticks": ""
            },
            "colorscale": [
             [
              0,
              "#0d0887"
             ],
             [
              0.1111111111111111,
              "#46039f"
             ],
             [
              0.2222222222222222,
              "#7201a8"
             ],
             [
              0.3333333333333333,
              "#9c179e"
             ],
             [
              0.4444444444444444,
              "#bd3786"
             ],
             [
              0.5555555555555556,
              "#d8576b"
             ],
             [
              0.6666666666666666,
              "#ed7953"
             ],
             [
              0.7777777777777778,
              "#fb9f3a"
             ],
             [
              0.8888888888888888,
              "#fdca26"
             ],
             [
              1,
              "#f0f921"
             ]
            ],
            "type": "histogram2d"
           }
          ],
          "histogram2dcontour": [
           {
            "colorbar": {
             "outlinewidth": 0,
             "ticks": ""
            },
            "colorscale": [
             [
              0,
              "#0d0887"
             ],
             [
              0.1111111111111111,
              "#46039f"
             ],
             [
              0.2222222222222222,
              "#7201a8"
             ],
             [
              0.3333333333333333,
              "#9c179e"
             ],
             [
              0.4444444444444444,
              "#bd3786"
             ],
             [
              0.5555555555555556,
              "#d8576b"
             ],
             [
              0.6666666666666666,
              "#ed7953"
             ],
             [
              0.7777777777777778,
              "#fb9f3a"
             ],
             [
              0.8888888888888888,
              "#fdca26"
             ],
             [
              1,
              "#f0f921"
             ]
            ],
            "type": "histogram2dcontour"
           }
          ],
          "mesh3d": [
           {
            "colorbar": {
             "outlinewidth": 0,
             "ticks": ""
            },
            "type": "mesh3d"
           }
          ],
          "parcoords": [
           {
            "line": {
             "colorbar": {
              "outlinewidth": 0,
              "ticks": ""
             }
            },
            "type": "parcoords"
           }
          ],
          "pie": [
           {
            "automargin": true,
            "type": "pie"
           }
          ],
          "scatter": [
           {
            "fillpattern": {
             "fillmode": "overlay",
             "size": 10,
             "solidity": 0.2
            },
            "type": "scatter"
           }
          ],
          "scatter3d": [
           {
            "line": {
             "colorbar": {
              "outlinewidth": 0,
              "ticks": ""
             }
            },
            "marker": {
             "colorbar": {
              "outlinewidth": 0,
              "ticks": ""
             }
            },
            "type": "scatter3d"
           }
          ],
          "scattercarpet": [
           {
            "marker": {
             "colorbar": {
              "outlinewidth": 0,
              "ticks": ""
             }
            },
            "type": "scattercarpet"
           }
          ],
          "scattergeo": [
           {
            "marker": {
             "colorbar": {
              "outlinewidth": 0,
              "ticks": ""
             }
            },
            "type": "scattergeo"
           }
          ],
          "scattergl": [
           {
            "marker": {
             "colorbar": {
              "outlinewidth": 0,
              "ticks": ""
             }
            },
            "type": "scattergl"
           }
          ],
          "scattermapbox": [
           {
            "marker": {
             "colorbar": {
              "outlinewidth": 0,
              "ticks": ""
             }
            },
            "type": "scattermapbox"
           }
          ],
          "scatterpolar": [
           {
            "marker": {
             "colorbar": {
              "outlinewidth": 0,
              "ticks": ""
             }
            },
            "type": "scatterpolar"
           }
          ],
          "scatterpolargl": [
           {
            "marker": {
             "colorbar": {
              "outlinewidth": 0,
              "ticks": ""
             }
            },
            "type": "scatterpolargl"
           }
          ],
          "scatterternary": [
           {
            "marker": {
             "colorbar": {
              "outlinewidth": 0,
              "ticks": ""
             }
            },
            "type": "scatterternary"
           }
          ],
          "surface": [
           {
            "colorbar": {
             "outlinewidth": 0,
             "ticks": ""
            },
            "colorscale": [
             [
              0,
              "#0d0887"
             ],
             [
              0.1111111111111111,
              "#46039f"
             ],
             [
              0.2222222222222222,
              "#7201a8"
             ],
             [
              0.3333333333333333,
              "#9c179e"
             ],
             [
              0.4444444444444444,
              "#bd3786"
             ],
             [
              0.5555555555555556,
              "#d8576b"
             ],
             [
              0.6666666666666666,
              "#ed7953"
             ],
             [
              0.7777777777777778,
              "#fb9f3a"
             ],
             [
              0.8888888888888888,
              "#fdca26"
             ],
             [
              1,
              "#f0f921"
             ]
            ],
            "type": "surface"
           }
          ],
          "table": [
           {
            "cells": {
             "fill": {
              "color": "#EBF0F8"
             },
             "line": {
              "color": "white"
             }
            },
            "header": {
             "fill": {
              "color": "#C8D4E3"
             },
             "line": {
              "color": "white"
             }
            },
            "type": "table"
           }
          ]
         },
         "layout": {
          "annotationdefaults": {
           "arrowcolor": "#2a3f5f",
           "arrowhead": 0,
           "arrowwidth": 1
          },
          "autotypenumbers": "strict",
          "coloraxis": {
           "colorbar": {
            "outlinewidth": 0,
            "ticks": ""
           }
          },
          "colorscale": {
           "diverging": [
            [
             0,
             "#8e0152"
            ],
            [
             0.1,
             "#c51b7d"
            ],
            [
             0.2,
             "#de77ae"
            ],
            [
             0.3,
             "#f1b6da"
            ],
            [
             0.4,
             "#fde0ef"
            ],
            [
             0.5,
             "#f7f7f7"
            ],
            [
             0.6,
             "#e6f5d0"
            ],
            [
             0.7,
             "#b8e186"
            ],
            [
             0.8,
             "#7fbc41"
            ],
            [
             0.9,
             "#4d9221"
            ],
            [
             1,
             "#276419"
            ]
           ],
           "sequential": [
            [
             0,
             "#0d0887"
            ],
            [
             0.1111111111111111,
             "#46039f"
            ],
            [
             0.2222222222222222,
             "#7201a8"
            ],
            [
             0.3333333333333333,
             "#9c179e"
            ],
            [
             0.4444444444444444,
             "#bd3786"
            ],
            [
             0.5555555555555556,
             "#d8576b"
            ],
            [
             0.6666666666666666,
             "#ed7953"
            ],
            [
             0.7777777777777778,
             "#fb9f3a"
            ],
            [
             0.8888888888888888,
             "#fdca26"
            ],
            [
             1,
             "#f0f921"
            ]
           ],
           "sequentialminus": [
            [
             0,
             "#0d0887"
            ],
            [
             0.1111111111111111,
             "#46039f"
            ],
            [
             0.2222222222222222,
             "#7201a8"
            ],
            [
             0.3333333333333333,
             "#9c179e"
            ],
            [
             0.4444444444444444,
             "#bd3786"
            ],
            [
             0.5555555555555556,
             "#d8576b"
            ],
            [
             0.6666666666666666,
             "#ed7953"
            ],
            [
             0.7777777777777778,
             "#fb9f3a"
            ],
            [
             0.8888888888888888,
             "#fdca26"
            ],
            [
             1,
             "#f0f921"
            ]
           ]
          },
          "colorway": [
           "#636efa",
           "#EF553B",
           "#00cc96",
           "#ab63fa",
           "#FFA15A",
           "#19d3f3",
           "#FF6692",
           "#B6E880",
           "#FF97FF",
           "#FECB52"
          ],
          "font": {
           "color": "#2a3f5f"
          },
          "geo": {
           "bgcolor": "white",
           "lakecolor": "white",
           "landcolor": "#E5ECF6",
           "showlakes": true,
           "showland": true,
           "subunitcolor": "white"
          },
          "hoverlabel": {
           "align": "left"
          },
          "hovermode": "closest",
          "mapbox": {
           "style": "light"
          },
          "paper_bgcolor": "white",
          "plot_bgcolor": "#E5ECF6",
          "polar": {
           "angularaxis": {
            "gridcolor": "white",
            "linecolor": "white",
            "ticks": ""
           },
           "bgcolor": "#E5ECF6",
           "radialaxis": {
            "gridcolor": "white",
            "linecolor": "white",
            "ticks": ""
           }
          },
          "scene": {
           "xaxis": {
            "backgroundcolor": "#E5ECF6",
            "gridcolor": "white",
            "gridwidth": 2,
            "linecolor": "white",
            "showbackground": true,
            "ticks": "",
            "zerolinecolor": "white"
           },
           "yaxis": {
            "backgroundcolor": "#E5ECF6",
            "gridcolor": "white",
            "gridwidth": 2,
            "linecolor": "white",
            "showbackground": true,
            "ticks": "",
            "zerolinecolor": "white"
           },
           "zaxis": {
            "backgroundcolor": "#E5ECF6",
            "gridcolor": "white",
            "gridwidth": 2,
            "linecolor": "white",
            "showbackground": true,
            "ticks": "",
            "zerolinecolor": "white"
           }
          },
          "shapedefaults": {
           "line": {
            "color": "#2a3f5f"
           }
          },
          "ternary": {
           "aaxis": {
            "gridcolor": "white",
            "linecolor": "white",
            "ticks": ""
           },
           "baxis": {
            "gridcolor": "white",
            "linecolor": "white",
            "ticks": ""
           },
           "bgcolor": "#E5ECF6",
           "caxis": {
            "gridcolor": "white",
            "linecolor": "white",
            "ticks": ""
           }
          },
          "title": {
           "x": 0.05
          },
          "xaxis": {
           "automargin": true,
           "gridcolor": "white",
           "linecolor": "white",
           "ticks": "",
           "title": {
            "standoff": 15
           },
           "zerolinecolor": "white",
           "zerolinewidth": 2
          },
          "yaxis": {
           "automargin": true,
           "gridcolor": "white",
           "linecolor": "white",
           "ticks": "",
           "title": {
            "standoff": 15
           },
           "zerolinecolor": "white",
           "zerolinewidth": 2
          }
         }
        },
        "title": {
         "text": "Storage Capacity, Region: ALL, Seasonal"
        },
        "width": 1400,
        "xaxis": {
         "title": {
          "text": "Year"
         }
        },
        "yaxis": {
         "title": {
          "text": "GW"
         }
        }
       }
      }
     },
     "metadata": {},
     "output_type": "display_data"
    }
   ],
   "source": [
    "stacked_capacity_evolution_fig(DAILY_DATA, region=REGION, title_addon=\"Daily\", write_fig=WRITE_FIGS)[0].show()\n",
    "fig, techs_over_zero_capacity = stacked_capacity_evolution_fig(SEASON_DATA, region=REGION, title_addon=\"Seasonal\", write_fig=WRITE_FIGS)\n",
    "fig.show()"
   ]
  },
  {
   "cell_type": "markdown",
   "metadata": {},
   "source": [
    "# Bar Capacity Evolution"
   ]
  },
  {
   "cell_type": "code",
   "execution_count": 45,
   "metadata": {},
   "outputs": [],
   "source": [
    "def bar_capacity_evolution_fig(tech: str, region: str, daily_data: Path, season_data: Path, write_fig: bool = False) -> go.Figure:\n",
    "\n",
    "    bar = BarFacilitator(sol_paths={\"daily\": daily_data, \"season\": season_data}, type_of_data_to_read=\"TotalCapacityAnnual\", \n",
    "                        x_grouping_columns=[\"Year\", \"Source\"], legend_grouping_columns=[\"Technology\", \"Source\"])\n",
    "\n",
    "    data = bar.get_relevant_data()\n",
    "\n",
    "    #data.filter_by_list(column=\"Technology\", identifier_list=[\"D_Battery_Li-Ion\"])\n",
    "    data.filter_by_identifier(column=\"Technology\", identifier=tech)\n",
    "\n",
    "    if region == \"ALL\":\n",
    "        data.aggreagate_all_by_sum(column_to_aggregate=\"Region\", aggregated_entry_name=region, column_to_sum=\"Value\")\n",
    "\n",
    "    data.filter_by_identifier(column=\"Region\", identifier=region)\n",
    "\n",
    "    fig = bar.plot(bar.generate_traces(data))\n",
    "\n",
    "    fig.update_layout(\n",
    "        title=\"Total Capacity Annual\",\n",
    "        xaxis_title=\"Year\",\n",
    "        yaxis_title=\"Capacity (GW)\",\n",
    "        width=1200,\n",
    "        height=600\n",
    "        )\n",
    "    \n",
    "    if write_fig:\n",
    "        fig.write_image(WRITE_DIR / f\"bar_capacity_evolution_{tech}_{region}.png\")\n",
    "    \n",
    "    return fig"
   ]
  },
  {
   "cell_type": "code",
   "execution_count": 2,
   "metadata": {},
   "outputs": [
    {
     "ename": "NameError",
     "evalue": "name 'techs_over_zero_capacity' is not defined",
     "output_type": "error",
     "traceback": [
      "\u001b[1;31m---------------------------------------------------------------------------\u001b[0m",
      "\u001b[1;31mNameError\u001b[0m                                 Traceback (most recent call last)",
      "Cell \u001b[1;32mIn[2], line 1\u001b[0m\n\u001b[1;32m----> 1\u001b[0m \u001b[38;5;28;01mfor\u001b[39;00m tech \u001b[38;5;129;01min\u001b[39;00m \u001b[43mtechs_over_zero_capacity\u001b[49m:\n\u001b[0;32m      2\u001b[0m     bar_capacity_evolution_fig(tech, REGION, DAILY_DATA, SEASON_DATA, write_fig\u001b[38;5;241m=\u001b[39mWRITE_FIGS)\u001b[38;5;241m.\u001b[39mshow()\n\u001b[0;32m      3\u001b[0m \u001b[38;5;66;03m#bar_capacity_evolution_fig(\"D_Battery_Li-Ion\", REGION, DAILY_DATA, SEASON_DATA, write_fig=WRITE_FIGS).show()\u001b[39;00m\n",
      "\u001b[1;31mNameError\u001b[0m: name 'techs_over_zero_capacity' is not defined"
     ]
    }
   ],
   "source": [
    "for tech in techs_over_zero_capacity:\n",
    "    bar_capacity_evolution_fig(tech, REGION, DAILY_DATA, SEASON_DATA, write_fig=WRITE_FIGS).show()\n",
    "#bar_capacity_evolution_fig(\"D_Battery_Li-Ion\", REGION, DAILY_DATA, SEASON_DATA, write_fig=WRITE_FIGS).show()"
   ]
  },
  {
   "cell_type": "markdown",
   "metadata": {},
   "source": [
    "# Hourly Rate Activity"
   ]
  },
  {
   "cell_type": "code",
   "execution_count": 3,
   "metadata": {},
   "outputs": [],
   "source": [
    "def hourly_rate_of_activity_fig(tech: str, region: str, year: int, daily_data: Path, season_data: Path, write_fig: bool = False) -> go.Figure:\n",
    "\n",
    "    bar = BarFacilitator(sol_paths={\"daily\": daily_data, \"season\": season_data}, type_of_data_to_read=\"RateOfActivity\", \n",
    "                        x_grouping_columns=[\"TS\", \"Source\"], legend_grouping_columns=[\"Technology\", \"Source\"])\n",
    "\n",
    "    data = bar.get_relevant_data()\n",
    "\n",
    "    # Fix yearsplit division\n",
    "    data.df[\"Value\"] *= data.year_split\n",
    "\n",
    "    # Keep only tech\n",
    "    data.filter_by_identifier(column=\"Technology\", identifier=tech)\n",
    "\n",
    "    # Keep only modes 1 and 2\n",
    "    data.filter_by_list(\"Mode\", [1, 2])\n",
    "\n",
    "    # Set mode 1 to negative\n",
    "    data.df.loc[data.df[\"Mode\"] == 2, \"Value\"] *= -1\n",
    "\n",
    "    # Aggregate over Mode\n",
    "    data.aggreagate_all_by_sum(column_to_aggregate=\"Mode\", aggregated_entry_name=-1, column_to_sum=\"Value\")\n",
    "\n",
    "    # Get unique timesteps, and get the one hitting daily stuff\n",
    "    timesteps = data.df[\"TS\"].unique()\n",
    "    timesteps.sort()\n",
    "    hourstep = timesteps[1] - timesteps[0]\n",
    "    start_hour = timesteps[0]\n",
    "\n",
    "    zero_timesteps = []\n",
    "    for t in timesteps:\n",
    "        if (t - hourstep + start_hour) % 24 == 0:\n",
    "            zero_timesteps.append(t)\n",
    "\n",
    "    print(\"Zero timesteps\", zero_timesteps)\n",
    "\n",
    "    if region == \"ALL\":\n",
    "        data.aggreagate_all_by_sum(column_to_aggregate=\"Region\", aggregated_entry_name=region, column_to_sum=\"Value\")\n",
    "\n",
    "    data.df = data.df[data.df[\"Year\"] == year]\n",
    "\n",
    "    traces = bar.generate_traces(data)\n",
    "\n",
    "    # Add traces to mark zero timesteps\n",
    "    #for i, t in enumerate(zero_timesteps):\n",
    "    #    traces.append(go.Scatter(x=[[t], [\"daily\"]], y=[0], mode=\"markers\", showlegend = i == 0, name=\"Daily reset\",\n",
    "    #                             marker=dict(color=\"red\", size=10)))\n",
    "    traces.append(go.Scatter(x=[zero_timesteps, [\"daily\"]*len(zero_timesteps)], y=[0]*len(zero_timesteps), \n",
    "                             mode=\"markers\", showlegend = True, name=\"Daily reset\",\n",
    "                             marker=dict(color=\"red\", size=10)))\n",
    "\n",
    "    fig = bar.plot(traces)\n",
    "\n",
    "    fig.update_layout(\n",
    "            title=f\"Rate of activity, Region: {region}, Year: {year}\",\n",
    "            yaxis_title=\"TWh\",\n",
    "            xaxis_title=\"Year\",\n",
    "            width=1200,\n",
    "            height=600\n",
    "        )\n",
    "    \n",
    "    if write_fig:\n",
    "        fig.write_image(WRITE_DIR / f\"hourly_rate_of_activity_{tech}_{region}_{year}.png\")\n",
    "\n",
    "    return fig"
   ]
  },
  {
   "cell_type": "code",
   "execution_count": 4,
   "metadata": {},
   "outputs": [
    {
     "ename": "NameError",
     "evalue": "name 'techs_over_zero_capacity' is not defined",
     "output_type": "error",
     "traceback": [
      "\u001b[1;31m---------------------------------------------------------------------------\u001b[0m",
      "\u001b[1;31mNameError\u001b[0m                                 Traceback (most recent call last)",
      "Cell \u001b[1;32mIn[4], line 1\u001b[0m\n\u001b[1;32m----> 1\u001b[0m \u001b[38;5;28;01mfor\u001b[39;00m tech \u001b[38;5;129;01min\u001b[39;00m \u001b[43mtechs_over_zero_capacity\u001b[49m:\n\u001b[0;32m      2\u001b[0m     hourly_rate_of_activity_fig(tech, REGION, YEAR, DAILY_DATA, SEASON_DATA, write_fig\u001b[38;5;241m=\u001b[39mWRITE_FIGS)\u001b[38;5;241m.\u001b[39mshow()\n\u001b[0;32m      4\u001b[0m \u001b[38;5;66;03m#hourly_rate_of_activity_fig(\"D_Battery_Li-Ion\", REGION, YEAR, DAILY_DATA, SEASON_DATA, write_fig=WRITE_FIGS).show()\u001b[39;00m\n",
      "\u001b[1;31mNameError\u001b[0m: name 'techs_over_zero_capacity' is not defined"
     ]
    }
   ],
   "source": [
    "for tech in techs_over_zero_capacity:\n",
    "    hourly_rate_of_activity_fig(tech, REGION, YEAR, DAILY_DATA, SEASON_DATA, write_fig=WRITE_FIGS).show()\n",
    "\n",
    "#hourly_rate_of_activity_fig(\"D_Battery_Li-Ion\", REGION, YEAR, DAILY_DATA, SEASON_DATA, write_fig=WRITE_FIGS).show()"
   ]
  },
  {
   "cell_type": "markdown",
   "metadata": {},
   "source": [
    "# More"
   ]
  }
 ],
 "metadata": {
  "kernelspec": {
   "display_name": "scenario_dashboard",
   "language": "python",
   "name": "python3"
  },
  "language_info": {
   "codemirror_mode": {
    "name": "ipython",
    "version": 3
   },
   "file_extension": ".py",
   "mimetype": "text/x-python",
   "name": "python",
   "nbconvert_exporter": "python",
   "pygments_lexer": "ipython3",
   "version": "3.12.4"
  }
 },
 "nbformat": 4,
 "nbformat_minor": 2
}
