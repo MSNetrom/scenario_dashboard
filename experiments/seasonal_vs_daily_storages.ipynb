{
 "cells": [
  {
   "cell_type": "code",
   "execution_count": 83,
   "metadata": {},
   "outputs": [
    {
     "name": "stdout",
     "output_type": "stream",
     "text": [
      "The autoreload extension is already loaded. To reload it, use:\n",
      "  %reload_ext autoreload\n"
     ]
    }
   ],
   "source": [
    "%load_ext autoreload\n",
    "%autoreload 2\n",
    "\n",
    "import sys, os\n",
    "from pathlib import Path\n",
    "import plotly.graph_objects as go\n",
    "\n",
    "# Fix import\n",
    "sys.path.append(os.path.abspath(os.path.join('..')))\n",
    "from facilitators import HourlyTechActivityRateSolutionCompareFacilitator, StackedQuantityEvolutionFacilitatorBase\n",
    "from data import HEADER_MAPPING"
   ]
  },
  {
   "cell_type": "code",
   "execution_count": 84,
   "metadata": {},
   "outputs": [],
   "source": [
    "PROJECT_ROOT_DIR = Path().resolve().parent\n",
    "SOLUTION_DIR = PROJECT_ROOT_DIR / \"solution_files\"\n",
    "\n",
    "DAILY_DATA = SOLUTION_DIR / \"solution_data_daily_d20_h6_s6_no_invest.sol\"\n",
    "SEASON_DATA = SOLUTION_DIR / \"solution_data_season_d20_h6_s6_no_invest.sol\"\n",
    "\n",
    "REGION = \"ALL\""
   ]
  },
  {
   "cell_type": "markdown",
   "metadata": {},
   "source": [
    "# Capacity Evolution"
   ]
  },
  {
   "cell_type": "code",
   "execution_count": 95,
   "metadata": {},
   "outputs": [
    {
     "data": {
      "text/plain": [
       "'storage_evolution = StackedQuantityEvolutionFacilitatorBase(sol_path=SEASON_DATA, type_of_data_to_read=\"TotalCapacityAnnual\", \\n                                                            region=REGION, extra_identifying_columns=[\"Technology\"])\\n\\nd = storage_evolution.get_relevant_data()\\nd.filter_by_containing_string(column=\"Technology\", identifier=\"D_\")\\n\\nif REGION == \"ALL\":\\n    d.aggreagate_all_by_sum(column_to_aggregate=\"Region\", aggregated_entry_name=REGION, column_to_sum=\"Value\")\\n\\nfig = storage_evolution.plot(storage_evolution.generate_traces(d))\\n\\nfig.update_layout(\\n    width=1400,\\n    height=800,\\n    title=f\"Storage Capacity, Region: {REGION}, \",\\n    yaxis_title=\"GW\",\\n    xaxis_title=\"Year\",\\n)'"
      ]
     },
     "execution_count": 95,
     "metadata": {},
     "output_type": "execute_result"
    }
   ],
   "source": [
    "\n",
    "def storage_capacity_evolution_fig(sol_path: str, region: str = \"ALL\", title_addon: str = None) -> go.Figure:\n",
    "    storage_evolution = StackedQuantityEvolutionFacilitatorBase(sol_path=sol_path, type_of_data_to_read=\"TotalCapacityAnnual\", \n",
    "                                                                region=region, extra_identifying_columns=[\"Technology\"])\n",
    "\n",
    "    d = storage_evolution.get_relevant_data()\n",
    "    d.filter_by_containing_string(column=\"Technology\", identifier=\"D_\")\n",
    "\n",
    "    if region == \"ALL\":\n",
    "        d.aggreagate_all_by_sum(column_to_aggregate=\"Region\", aggregated_entry_name=region, column_to_sum=\"Value\")\n",
    "\n",
    "    fig = storage_evolution.plot(storage_evolution.generate_traces(d))\n",
    "\n",
    "    fig.update_layout(\n",
    "        width=1400,\n",
    "        height=800,\n",
    "        title=f\"Storage Capacity, Region: {region}\" + f\", {title_addon}\" if title_addon is not None else \"\",\n",
    "        yaxis_title=\"GW\",\n",
    "        xaxis_title=\"Year\",\n",
    "    )\n",
    "\n",
    "    return fig\n",
    "\n",
    "\"\"\"storage_evolution = StackedQuantityEvolutionFacilitatorBase(sol_path=SEASON_DATA, type_of_data_to_read=\"TotalCapacityAnnual\", \n",
    "                                                            region=REGION, extra_identifying_columns=[\"Technology\"])\n",
    "\n",
    "d = storage_evolution.get_relevant_data()\n",
    "d.filter_by_containing_string(column=\"Technology\", identifier=\"D_\")\n",
    "\n",
    "if REGION == \"ALL\":\n",
    "    d.aggreagate_all_by_sum(column_to_aggregate=\"Region\", aggregated_entry_name=REGION, column_to_sum=\"Value\")\n",
    "\n",
    "fig = storage_evolution.plot(storage_evolution.generate_traces(d))\n",
    "\n",
    "fig.update_layout(\n",
    "    width=1400,\n",
    "    height=800,\n",
    "    title=f\"Storage Capacity, Region: {REGION}, \",\n",
    "    yaxis_title=\"GW\",\n",
    "    xaxis_title=\"Year\",\n",
    ")\"\"\"\n",
    "\n",
    "\n"
   ]
  },
  {
   "cell_type": "code",
   "execution_count": 96,
   "metadata": {},
   "outputs": [
    {
     "name": "stdout",
     "output_type": "stream",
     "text": [
      "No unit conversion applied!\n"
     ]
    },
    {
     "data": {
      "application/vnd.plotly.v1+json": {
       "config": {
        "plotlyServerURL": "https://plot.ly"
       },
       "data": [
        {
         "fillcolor": "#91d9fe",
         "legendgroup": "D_Battery_Li-Ion",
         "line": {
          "color": "#91d9fe"
         },
         "name": "D_Battery_Li-Ion",
         "showlegend": true,
         "stackgroup": "one",
         "type": "scatter",
         "x": [
          2025
         ],
         "y": [
          1.4108743791529201
         ]
        },
        {
         "fillcolor": "#91d9fe",
         "legendgroup": "D_Battery_Li-Ion",
         "line": {
          "color": "#91d9fe"
         },
         "name": "D_Battery_Li-Ion",
         "showlegend": false,
         "stackgroup": "one",
         "type": "scatter",
         "x": [
          2030
         ],
         "y": [
          128.01167816097092
         ]
        },
        {
         "fillcolor": "#91d9fe",
         "legendgroup": "D_Battery_Li-Ion",
         "line": {
          "color": "#91d9fe"
         },
         "name": "D_Battery_Li-Ion",
         "showlegend": false,
         "stackgroup": "one",
         "type": "scatter",
         "x": [
          2035
         ],
         "y": [
          205.6821319522639
         ]
        },
        {
         "fillcolor": "#91d9fe",
         "legendgroup": "D_Battery_Li-Ion",
         "line": {
          "color": "#91d9fe"
         },
         "name": "D_Battery_Li-Ion",
         "showlegend": false,
         "stackgroup": "one",
         "type": "scatter",
         "x": [
          2040
         ],
         "y": [
          224.56320535894463
         ]
        },
        {
         "fillcolor": "#91d9fe",
         "legendgroup": "D_Battery_Li-Ion",
         "line": {
          "color": "#91d9fe"
         },
         "name": "D_Battery_Li-Ion",
         "showlegend": false,
         "stackgroup": "one",
         "type": "scatter",
         "x": [
          2045
         ],
         "y": [
          227.36760537637906
         ]
        },
        {
         "fillcolor": "#91d9fe",
         "legendgroup": "D_Battery_Li-Ion",
         "line": {
          "color": "#91d9fe"
         },
         "name": "D_Battery_Li-Ion",
         "showlegend": false,
         "stackgroup": "one",
         "type": "scatter",
         "x": [
          2050
         ],
         "y": [
          171.58453834079003
         ]
        },
        {
         "fillcolor": "#a4dfe5",
         "legendgroup": "D_Gas_H2",
         "line": {
          "color": "#a4dfe5"
         },
         "name": "D_Gas_H2",
         "showlegend": true,
         "stackgroup": "one",
         "type": "scatter",
         "x": [
          2025
         ],
         "y": [
          0.3933118061764456
         ]
        },
        {
         "fillcolor": "#a4dfe5",
         "legendgroup": "D_Gas_H2",
         "line": {
          "color": "#a4dfe5"
         },
         "name": "D_Gas_H2",
         "showlegend": false,
         "stackgroup": "one",
         "type": "scatter",
         "x": [
          2030
         ],
         "y": [
          55.13869128793152
         ]
        },
        {
         "fillcolor": "#a4dfe5",
         "legendgroup": "D_Gas_H2",
         "line": {
          "color": "#a4dfe5"
         },
         "name": "D_Gas_H2",
         "showlegend": false,
         "stackgroup": "one",
         "type": "scatter",
         "x": [
          2035
         ],
         "y": [
          346.92564944915944
         ]
        },
        {
         "fillcolor": "#a4dfe5",
         "legendgroup": "D_Gas_H2",
         "line": {
          "color": "#a4dfe5"
         },
         "name": "D_Gas_H2",
         "showlegend": false,
         "stackgroup": "one",
         "type": "scatter",
         "x": [
          2040
         ],
         "y": [
          414.8662931377047
         ]
        },
        {
         "fillcolor": "#a4dfe5",
         "legendgroup": "D_Gas_H2",
         "line": {
          "color": "#a4dfe5"
         },
         "name": "D_Gas_H2",
         "showlegend": false,
         "stackgroup": "one",
         "type": "scatter",
         "x": [
          2045
         ],
         "y": [
          414.8662931377047
         ]
        },
        {
         "fillcolor": "#a4dfe5",
         "legendgroup": "D_Gas_H2",
         "line": {
          "color": "#a4dfe5"
         },
         "name": "D_Gas_H2",
         "showlegend": false,
         "stackgroup": "one",
         "type": "scatter",
         "x": [
          2050
         ],
         "y": [
          440.7081884394316
         ]
        },
        {
         "fillcolor": "#9dd8fa",
         "legendgroup": "D_Heat_HLB",
         "line": {
          "color": "#9dd8fa"
         },
         "name": "D_Heat_HLB",
         "showlegend": true,
         "stackgroup": "one",
         "type": "scatter",
         "x": [
          2035
         ],
         "y": [
          0.5177110616562618
         ]
        },
        {
         "fillcolor": "#9dd8fa",
         "legendgroup": "D_Heat_HLB",
         "line": {
          "color": "#9dd8fa"
         },
         "name": "D_Heat_HLB",
         "showlegend": false,
         "stackgroup": "one",
         "type": "scatter",
         "x": [
          2040
         ],
         "y": [
          0.7538285654725561
         ]
        },
        {
         "fillcolor": "#9dd8fa",
         "legendgroup": "D_Heat_HLB",
         "line": {
          "color": "#9dd8fa"
         },
         "name": "D_Heat_HLB",
         "showlegend": false,
         "stackgroup": "one",
         "type": "scatter",
         "x": [
          2045
         ],
         "y": [
          0.7555986128465885
         ]
        },
        {
         "fillcolor": "#9dd8fa",
         "legendgroup": "D_Heat_HLB",
         "line": {
          "color": "#9dd8fa"
         },
         "name": "D_Heat_HLB",
         "showlegend": false,
         "stackgroup": "one",
         "type": "scatter",
         "x": [
          2050
         ],
         "y": [
          0.8391284648112962
         ]
        },
        {
         "fillcolor": "#a7c9f5",
         "legendgroup": "D_Heat_HLI",
         "line": {
          "color": "#a7c9f5"
         },
         "name": "D_Heat_HLI",
         "showlegend": true,
         "stackgroup": "one",
         "type": "scatter",
         "x": [
          2030
         ],
         "y": [
          0.06967647450131724
         ]
        },
        {
         "fillcolor": "#a7c9f5",
         "legendgroup": "D_Heat_HLI",
         "line": {
          "color": "#a7c9f5"
         },
         "name": "D_Heat_HLI",
         "showlegend": false,
         "stackgroup": "one",
         "type": "scatter",
         "x": [
          2035
         ],
         "y": [
          4.9514601432706575
         ]
        },
        {
         "fillcolor": "#a7c9f5",
         "legendgroup": "D_Heat_HLI",
         "line": {
          "color": "#a7c9f5"
         },
         "name": "D_Heat_HLI",
         "showlegend": false,
         "stackgroup": "one",
         "type": "scatter",
         "x": [
          2040
         ],
         "y": [
          5.094820444473538
         ]
        },
        {
         "fillcolor": "#a7c9f5",
         "legendgroup": "D_Heat_HLI",
         "line": {
          "color": "#a7c9f5"
         },
         "name": "D_Heat_HLI",
         "showlegend": false,
         "stackgroup": "one",
         "type": "scatter",
         "x": [
          2045
         ],
         "y": [
          5.2200155734220335
         ]
        },
        {
         "fillcolor": "#a7c9f5",
         "legendgroup": "D_Heat_HLI",
         "line": {
          "color": "#a7c9f5"
         },
         "name": "D_Heat_HLI",
         "showlegend": false,
         "stackgroup": "one",
         "type": "scatter",
         "x": [
          2050
         ],
         "y": [
          5.299326638898587
         ]
        },
        {
         "fillcolor": "#def6d1",
         "legendgroup": "D_PHS",
         "line": {
          "color": "#def6d1"
         },
         "name": "D_PHS",
         "showlegend": true,
         "stackgroup": "one",
         "type": "scatter",
         "x": [
          2018
         ],
         "y": [
          52.658
         ]
        },
        {
         "fillcolor": "#def6d1",
         "legendgroup": "D_PHS",
         "line": {
          "color": "#def6d1"
         },
         "name": "D_PHS",
         "showlegend": false,
         "stackgroup": "one",
         "type": "scatter",
         "x": [
          2025
         ],
         "y": [
          45.464546452
         ]
        },
        {
         "fillcolor": "#def6d1",
         "legendgroup": "D_PHS",
         "line": {
          "color": "#def6d1"
         },
         "name": "D_PHS",
         "showlegend": false,
         "stackgroup": "one",
         "type": "scatter",
         "x": [
          2030
         ],
         "y": [
          45.464546452
         ]
        },
        {
         "fillcolor": "#def6d1",
         "legendgroup": "D_PHS",
         "line": {
          "color": "#def6d1"
         },
         "name": "D_PHS",
         "showlegend": false,
         "stackgroup": "one",
         "type": "scatter",
         "x": [
          2035
         ],
         "y": [
          45.459758676
         ]
        },
        {
         "fillcolor": "#def6d1",
         "legendgroup": "D_PHS",
         "line": {
          "color": "#def6d1"
         },
         "name": "D_PHS",
         "showlegend": false,
         "stackgroup": "one",
         "type": "scatter",
         "x": [
          2040
         ],
         "y": [
          45.459758676
         ]
        },
        {
         "fillcolor": "#def6d1",
         "legendgroup": "D_PHS",
         "line": {
          "color": "#def6d1"
         },
         "name": "D_PHS",
         "showlegend": false,
         "stackgroup": "one",
         "type": "scatter",
         "x": [
          2045
         ],
         "y": [
          42.715758676
         ]
        },
        {
         "fillcolor": "#def6d1",
         "legendgroup": "D_PHS",
         "line": {
          "color": "#def6d1"
         },
         "name": "D_PHS",
         "showlegend": false,
         "stackgroup": "one",
         "type": "scatter",
         "x": [
          2050
         ],
         "y": [
          42.715758676
         ]
        }
       ],
       "layout": {
        "barmode": "stack",
        "font": {
         "size": 22
        },
        "height": 800,
        "template": {
         "data": {
          "bar": [
           {
            "error_x": {
             "color": "#2a3f5f"
            },
            "error_y": {
             "color": "#2a3f5f"
            },
            "marker": {
             "line": {
              "color": "#E5ECF6",
              "width": 0.5
             },
             "pattern": {
              "fillmode": "overlay",
              "size": 10,
              "solidity": 0.2
             }
            },
            "type": "bar"
           }
          ],
          "barpolar": [
           {
            "marker": {
             "line": {
              "color": "#E5ECF6",
              "width": 0.5
             },
             "pattern": {
              "fillmode": "overlay",
              "size": 10,
              "solidity": 0.2
             }
            },
            "type": "barpolar"
           }
          ],
          "carpet": [
           {
            "aaxis": {
             "endlinecolor": "#2a3f5f",
             "gridcolor": "white",
             "linecolor": "white",
             "minorgridcolor": "white",
             "startlinecolor": "#2a3f5f"
            },
            "baxis": {
             "endlinecolor": "#2a3f5f",
             "gridcolor": "white",
             "linecolor": "white",
             "minorgridcolor": "white",
             "startlinecolor": "#2a3f5f"
            },
            "type": "carpet"
           }
          ],
          "choropleth": [
           {
            "colorbar": {
             "outlinewidth": 0,
             "ticks": ""
            },
            "type": "choropleth"
           }
          ],
          "contour": [
           {
            "colorbar": {
             "outlinewidth": 0,
             "ticks": ""
            },
            "colorscale": [
             [
              0,
              "#0d0887"
             ],
             [
              0.1111111111111111,
              "#46039f"
             ],
             [
              0.2222222222222222,
              "#7201a8"
             ],
             [
              0.3333333333333333,
              "#9c179e"
             ],
             [
              0.4444444444444444,
              "#bd3786"
             ],
             [
              0.5555555555555556,
              "#d8576b"
             ],
             [
              0.6666666666666666,
              "#ed7953"
             ],
             [
              0.7777777777777778,
              "#fb9f3a"
             ],
             [
              0.8888888888888888,
              "#fdca26"
             ],
             [
              1,
              "#f0f921"
             ]
            ],
            "type": "contour"
           }
          ],
          "contourcarpet": [
           {
            "colorbar": {
             "outlinewidth": 0,
             "ticks": ""
            },
            "type": "contourcarpet"
           }
          ],
          "heatmap": [
           {
            "colorbar": {
             "outlinewidth": 0,
             "ticks": ""
            },
            "colorscale": [
             [
              0,
              "#0d0887"
             ],
             [
              0.1111111111111111,
              "#46039f"
             ],
             [
              0.2222222222222222,
              "#7201a8"
             ],
             [
              0.3333333333333333,
              "#9c179e"
             ],
             [
              0.4444444444444444,
              "#bd3786"
             ],
             [
              0.5555555555555556,
              "#d8576b"
             ],
             [
              0.6666666666666666,
              "#ed7953"
             ],
             [
              0.7777777777777778,
              "#fb9f3a"
             ],
             [
              0.8888888888888888,
              "#fdca26"
             ],
             [
              1,
              "#f0f921"
             ]
            ],
            "type": "heatmap"
           }
          ],
          "heatmapgl": [
           {
            "colorbar": {
             "outlinewidth": 0,
             "ticks": ""
            },
            "colorscale": [
             [
              0,
              "#0d0887"
             ],
             [
              0.1111111111111111,
              "#46039f"
             ],
             [
              0.2222222222222222,
              "#7201a8"
             ],
             [
              0.3333333333333333,
              "#9c179e"
             ],
             [
              0.4444444444444444,
              "#bd3786"
             ],
             [
              0.5555555555555556,
              "#d8576b"
             ],
             [
              0.6666666666666666,
              "#ed7953"
             ],
             [
              0.7777777777777778,
              "#fb9f3a"
             ],
             [
              0.8888888888888888,
              "#fdca26"
             ],
             [
              1,
              "#f0f921"
             ]
            ],
            "type": "heatmapgl"
           }
          ],
          "histogram": [
           {
            "marker": {
             "pattern": {
              "fillmode": "overlay",
              "size": 10,
              "solidity": 0.2
             }
            },
            "type": "histogram"
           }
          ],
          "histogram2d": [
           {
            "colorbar": {
             "outlinewidth": 0,
             "ticks": ""
            },
            "colorscale": [
             [
              0,
              "#0d0887"
             ],
             [
              0.1111111111111111,
              "#46039f"
             ],
             [
              0.2222222222222222,
              "#7201a8"
             ],
             [
              0.3333333333333333,
              "#9c179e"
             ],
             [
              0.4444444444444444,
              "#bd3786"
             ],
             [
              0.5555555555555556,
              "#d8576b"
             ],
             [
              0.6666666666666666,
              "#ed7953"
             ],
             [
              0.7777777777777778,
              "#fb9f3a"
             ],
             [
              0.8888888888888888,
              "#fdca26"
             ],
             [
              1,
              "#f0f921"
             ]
            ],
            "type": "histogram2d"
           }
          ],
          "histogram2dcontour": [
           {
            "colorbar": {
             "outlinewidth": 0,
             "ticks": ""
            },
            "colorscale": [
             [
              0,
              "#0d0887"
             ],
             [
              0.1111111111111111,
              "#46039f"
             ],
             [
              0.2222222222222222,
              "#7201a8"
             ],
             [
              0.3333333333333333,
              "#9c179e"
             ],
             [
              0.4444444444444444,
              "#bd3786"
             ],
             [
              0.5555555555555556,
              "#d8576b"
             ],
             [
              0.6666666666666666,
              "#ed7953"
             ],
             [
              0.7777777777777778,
              "#fb9f3a"
             ],
             [
              0.8888888888888888,
              "#fdca26"
             ],
             [
              1,
              "#f0f921"
             ]
            ],
            "type": "histogram2dcontour"
           }
          ],
          "mesh3d": [
           {
            "colorbar": {
             "outlinewidth": 0,
             "ticks": ""
            },
            "type": "mesh3d"
           }
          ],
          "parcoords": [
           {
            "line": {
             "colorbar": {
              "outlinewidth": 0,
              "ticks": ""
             }
            },
            "type": "parcoords"
           }
          ],
          "pie": [
           {
            "automargin": true,
            "type": "pie"
           }
          ],
          "scatter": [
           {
            "fillpattern": {
             "fillmode": "overlay",
             "size": 10,
             "solidity": 0.2
            },
            "type": "scatter"
           }
          ],
          "scatter3d": [
           {
            "line": {
             "colorbar": {
              "outlinewidth": 0,
              "ticks": ""
             }
            },
            "marker": {
             "colorbar": {
              "outlinewidth": 0,
              "ticks": ""
             }
            },
            "type": "scatter3d"
           }
          ],
          "scattercarpet": [
           {
            "marker": {
             "colorbar": {
              "outlinewidth": 0,
              "ticks": ""
             }
            },
            "type": "scattercarpet"
           }
          ],
          "scattergeo": [
           {
            "marker": {
             "colorbar": {
              "outlinewidth": 0,
              "ticks": ""
             }
            },
            "type": "scattergeo"
           }
          ],
          "scattergl": [
           {
            "marker": {
             "colorbar": {
              "outlinewidth": 0,
              "ticks": ""
             }
            },
            "type": "scattergl"
           }
          ],
          "scattermapbox": [
           {
            "marker": {
             "colorbar": {
              "outlinewidth": 0,
              "ticks": ""
             }
            },
            "type": "scattermapbox"
           }
          ],
          "scatterpolar": [
           {
            "marker": {
             "colorbar": {
              "outlinewidth": 0,
              "ticks": ""
             }
            },
            "type": "scatterpolar"
           }
          ],
          "scatterpolargl": [
           {
            "marker": {
             "colorbar": {
              "outlinewidth": 0,
              "ticks": ""
             }
            },
            "type": "scatterpolargl"
           }
          ],
          "scatterternary": [
           {
            "marker": {
             "colorbar": {
              "outlinewidth": 0,
              "ticks": ""
             }
            },
            "type": "scatterternary"
           }
          ],
          "surface": [
           {
            "colorbar": {
             "outlinewidth": 0,
             "ticks": ""
            },
            "colorscale": [
             [
              0,
              "#0d0887"
             ],
             [
              0.1111111111111111,
              "#46039f"
             ],
             [
              0.2222222222222222,
              "#7201a8"
             ],
             [
              0.3333333333333333,
              "#9c179e"
             ],
             [
              0.4444444444444444,
              "#bd3786"
             ],
             [
              0.5555555555555556,
              "#d8576b"
             ],
             [
              0.6666666666666666,
              "#ed7953"
             ],
             [
              0.7777777777777778,
              "#fb9f3a"
             ],
             [
              0.8888888888888888,
              "#fdca26"
             ],
             [
              1,
              "#f0f921"
             ]
            ],
            "type": "surface"
           }
          ],
          "table": [
           {
            "cells": {
             "fill": {
              "color": "#EBF0F8"
             },
             "line": {
              "color": "white"
             }
            },
            "header": {
             "fill": {
              "color": "#C8D4E3"
             },
             "line": {
              "color": "white"
             }
            },
            "type": "table"
           }
          ]
         },
         "layout": {
          "annotationdefaults": {
           "arrowcolor": "#2a3f5f",
           "arrowhead": 0,
           "arrowwidth": 1
          },
          "autotypenumbers": "strict",
          "coloraxis": {
           "colorbar": {
            "outlinewidth": 0,
            "ticks": ""
           }
          },
          "colorscale": {
           "diverging": [
            [
             0,
             "#8e0152"
            ],
            [
             0.1,
             "#c51b7d"
            ],
            [
             0.2,
             "#de77ae"
            ],
            [
             0.3,
             "#f1b6da"
            ],
            [
             0.4,
             "#fde0ef"
            ],
            [
             0.5,
             "#f7f7f7"
            ],
            [
             0.6,
             "#e6f5d0"
            ],
            [
             0.7,
             "#b8e186"
            ],
            [
             0.8,
             "#7fbc41"
            ],
            [
             0.9,
             "#4d9221"
            ],
            [
             1,
             "#276419"
            ]
           ],
           "sequential": [
            [
             0,
             "#0d0887"
            ],
            [
             0.1111111111111111,
             "#46039f"
            ],
            [
             0.2222222222222222,
             "#7201a8"
            ],
            [
             0.3333333333333333,
             "#9c179e"
            ],
            [
             0.4444444444444444,
             "#bd3786"
            ],
            [
             0.5555555555555556,
             "#d8576b"
            ],
            [
             0.6666666666666666,
             "#ed7953"
            ],
            [
             0.7777777777777778,
             "#fb9f3a"
            ],
            [
             0.8888888888888888,
             "#fdca26"
            ],
            [
             1,
             "#f0f921"
            ]
           ],
           "sequentialminus": [
            [
             0,
             "#0d0887"
            ],
            [
             0.1111111111111111,
             "#46039f"
            ],
            [
             0.2222222222222222,
             "#7201a8"
            ],
            [
             0.3333333333333333,
             "#9c179e"
            ],
            [
             0.4444444444444444,
             "#bd3786"
            ],
            [
             0.5555555555555556,
             "#d8576b"
            ],
            [
             0.6666666666666666,
             "#ed7953"
            ],
            [
             0.7777777777777778,
             "#fb9f3a"
            ],
            [
             0.8888888888888888,
             "#fdca26"
            ],
            [
             1,
             "#f0f921"
            ]
           ]
          },
          "colorway": [
           "#636efa",
           "#EF553B",
           "#00cc96",
           "#ab63fa",
           "#FFA15A",
           "#19d3f3",
           "#FF6692",
           "#B6E880",
           "#FF97FF",
           "#FECB52"
          ],
          "font": {
           "color": "#2a3f5f"
          },
          "geo": {
           "bgcolor": "white",
           "lakecolor": "white",
           "landcolor": "#E5ECF6",
           "showlakes": true,
           "showland": true,
           "subunitcolor": "white"
          },
          "hoverlabel": {
           "align": "left"
          },
          "hovermode": "closest",
          "mapbox": {
           "style": "light"
          },
          "paper_bgcolor": "white",
          "plot_bgcolor": "#E5ECF6",
          "polar": {
           "angularaxis": {
            "gridcolor": "white",
            "linecolor": "white",
            "ticks": ""
           },
           "bgcolor": "#E5ECF6",
           "radialaxis": {
            "gridcolor": "white",
            "linecolor": "white",
            "ticks": ""
           }
          },
          "scene": {
           "xaxis": {
            "backgroundcolor": "#E5ECF6",
            "gridcolor": "white",
            "gridwidth": 2,
            "linecolor": "white",
            "showbackground": true,
            "ticks": "",
            "zerolinecolor": "white"
           },
           "yaxis": {
            "backgroundcolor": "#E5ECF6",
            "gridcolor": "white",
            "gridwidth": 2,
            "linecolor": "white",
            "showbackground": true,
            "ticks": "",
            "zerolinecolor": "white"
           },
           "zaxis": {
            "backgroundcolor": "#E5ECF6",
            "gridcolor": "white",
            "gridwidth": 2,
            "linecolor": "white",
            "showbackground": true,
            "ticks": "",
            "zerolinecolor": "white"
           }
          },
          "shapedefaults": {
           "line": {
            "color": "#2a3f5f"
           }
          },
          "ternary": {
           "aaxis": {
            "gridcolor": "white",
            "linecolor": "white",
            "ticks": ""
           },
           "baxis": {
            "gridcolor": "white",
            "linecolor": "white",
            "ticks": ""
           },
           "bgcolor": "#E5ECF6",
           "caxis": {
            "gridcolor": "white",
            "linecolor": "white",
            "ticks": ""
           }
          },
          "title": {
           "x": 0.05
          },
          "xaxis": {
           "automargin": true,
           "gridcolor": "white",
           "linecolor": "white",
           "ticks": "",
           "title": {
            "standoff": 15
           },
           "zerolinecolor": "white",
           "zerolinewidth": 2
          },
          "yaxis": {
           "automargin": true,
           "gridcolor": "white",
           "linecolor": "white",
           "ticks": "",
           "title": {
            "standoff": 15
           },
           "zerolinecolor": "white",
           "zerolinewidth": 2
          }
         }
        },
        "title": {
         "text": "Storage Capacity, Region: ALL, Daily"
        },
        "width": 1400,
        "xaxis": {
         "title": {
          "text": "Year"
         }
        },
        "yaxis": {
         "title": {
          "text": "GW"
         }
        }
       }
      }
     },
     "metadata": {},
     "output_type": "display_data"
    },
    {
     "name": "stdout",
     "output_type": "stream",
     "text": [
      "No unit conversion applied!\n"
     ]
    },
    {
     "data": {
      "application/vnd.plotly.v1+json": {
       "config": {
        "plotlyServerURL": "https://plot.ly"
       },
       "data": [
        {
         "fillcolor": "#91d9fe",
         "legendgroup": "D_Battery_Li-Ion",
         "line": {
          "color": "#91d9fe"
         },
         "name": "D_Battery_Li-Ion",
         "showlegend": true,
         "stackgroup": "one",
         "type": "scatter",
         "x": [
          2025
         ],
         "y": [
          94.47960313489807
         ]
        },
        {
         "fillcolor": "#91d9fe",
         "legendgroup": "D_Battery_Li-Ion",
         "line": {
          "color": "#91d9fe"
         },
         "name": "D_Battery_Li-Ion",
         "showlegend": false,
         "stackgroup": "one",
         "type": "scatter",
         "x": [
          2030
         ],
         "y": [
          841.2079926065932
         ]
        },
        {
         "fillcolor": "#91d9fe",
         "legendgroup": "D_Battery_Li-Ion",
         "line": {
          "color": "#91d9fe"
         },
         "name": "D_Battery_Li-Ion",
         "showlegend": false,
         "stackgroup": "one",
         "type": "scatter",
         "x": [
          2035
         ],
         "y": [
          1298.5162331079725
         ]
        },
        {
         "fillcolor": "#91d9fe",
         "legendgroup": "D_Battery_Li-Ion",
         "line": {
          "color": "#91d9fe"
         },
         "name": "D_Battery_Li-Ion",
         "showlegend": false,
         "stackgroup": "one",
         "type": "scatter",
         "x": [
          2040
         ],
         "y": [
          1307.510620806712
         ]
        },
        {
         "fillcolor": "#91d9fe",
         "legendgroup": "D_Battery_Li-Ion",
         "line": {
          "color": "#91d9fe"
         },
         "name": "D_Battery_Li-Ion",
         "showlegend": false,
         "stackgroup": "one",
         "type": "scatter",
         "x": [
          2045
         ],
         "y": [
          1227.944423708054
         ]
        },
        {
         "fillcolor": "#91d9fe",
         "legendgroup": "D_Battery_Li-Ion",
         "line": {
          "color": "#91d9fe"
         },
         "name": "D_Battery_Li-Ion",
         "showlegend": false,
         "stackgroup": "one",
         "type": "scatter",
         "x": [
          2050
         ],
         "y": [
          961.3009663420446
         ]
        },
        {
         "fillcolor": "#a4dfe5",
         "legendgroup": "D_Gas_H2",
         "line": {
          "color": "#a4dfe5"
         },
         "name": "D_Gas_H2",
         "showlegend": true,
         "stackgroup": "one",
         "type": "scatter",
         "x": [
          2025
         ],
         "y": [
          0.17129796648917267
         ]
        },
        {
         "fillcolor": "#a4dfe5",
         "legendgroup": "D_Gas_H2",
         "line": {
          "color": "#a4dfe5"
         },
         "name": "D_Gas_H2",
         "showlegend": false,
         "stackgroup": "one",
         "type": "scatter",
         "x": [
          2030
         ],
         "y": [
          31.99363898549206
         ]
        },
        {
         "fillcolor": "#a4dfe5",
         "legendgroup": "D_Gas_H2",
         "line": {
          "color": "#a4dfe5"
         },
         "name": "D_Gas_H2",
         "showlegend": false,
         "stackgroup": "one",
         "type": "scatter",
         "x": [
          2035
         ],
         "y": [
          112.8009248653085
         ]
        },
        {
         "fillcolor": "#a4dfe5",
         "legendgroup": "D_Gas_H2",
         "line": {
          "color": "#a4dfe5"
         },
         "name": "D_Gas_H2",
         "showlegend": false,
         "stackgroup": "one",
         "type": "scatter",
         "x": [
          2040
         ],
         "y": [
          116.06100385619445
         ]
        },
        {
         "fillcolor": "#a4dfe5",
         "legendgroup": "D_Gas_H2",
         "line": {
          "color": "#a4dfe5"
         },
         "name": "D_Gas_H2",
         "showlegend": false,
         "stackgroup": "one",
         "type": "scatter",
         "x": [
          2045
         ],
         "y": [
          167.78186319826096
         ]
        },
        {
         "fillcolor": "#a4dfe5",
         "legendgroup": "D_Gas_H2",
         "line": {
          "color": "#a4dfe5"
         },
         "name": "D_Gas_H2",
         "showlegend": false,
         "stackgroup": "one",
         "type": "scatter",
         "x": [
          2050
         ],
         "y": [
          218.63589532797806
         ]
        },
        {
         "fillcolor": "#9dd8fa",
         "legendgroup": "D_Heat_HLB",
         "line": {
          "color": "#9dd8fa"
         },
         "name": "D_Heat_HLB",
         "showlegend": true,
         "stackgroup": "one",
         "type": "scatter",
         "x": [
          2025
         ],
         "y": [
          187.1716419040436
         ]
        },
        {
         "fillcolor": "#9dd8fa",
         "legendgroup": "D_Heat_HLB",
         "line": {
          "color": "#9dd8fa"
         },
         "name": "D_Heat_HLB",
         "showlegend": false,
         "stackgroup": "one",
         "type": "scatter",
         "x": [
          2030
         ],
         "y": [
          262.660314629274
         ]
        },
        {
         "fillcolor": "#9dd8fa",
         "legendgroup": "D_Heat_HLB",
         "line": {
          "color": "#9dd8fa"
         },
         "name": "D_Heat_HLB",
         "showlegend": false,
         "stackgroup": "one",
         "type": "scatter",
         "x": [
          2035
         ],
         "y": [
          295.2967801936736
         ]
        },
        {
         "fillcolor": "#9dd8fa",
         "legendgroup": "D_Heat_HLB",
         "line": {
          "color": "#9dd8fa"
         },
         "name": "D_Heat_HLB",
         "showlegend": false,
         "stackgroup": "one",
         "type": "scatter",
         "x": [
          2040
         ],
         "y": [
          296.33838719307147
         ]
        },
        {
         "fillcolor": "#9dd8fa",
         "legendgroup": "D_Heat_HLB",
         "line": {
          "color": "#9dd8fa"
         },
         "name": "D_Heat_HLB",
         "showlegend": false,
         "stackgroup": "one",
         "type": "scatter",
         "x": [
          2045
         ],
         "y": [
          296.33838719307147
         ]
        },
        {
         "fillcolor": "#9dd8fa",
         "legendgroup": "D_Heat_HLB",
         "line": {
          "color": "#9dd8fa"
         },
         "name": "D_Heat_HLB",
         "showlegend": false,
         "stackgroup": "one",
         "type": "scatter",
         "x": [
          2050
         ],
         "y": [
          296.3383871930714
         ]
        },
        {
         "fillcolor": "#fafa9d",
         "legendgroup": "D_Heat_HLDH",
         "line": {
          "color": "#fafa9d"
         },
         "name": "D_Heat_HLDH",
         "showlegend": true,
         "stackgroup": "one",
         "type": "scatter",
         "x": [
          2030
         ],
         "y": [
          3.2023258640038916
         ]
        },
        {
         "fillcolor": "#fafa9d",
         "legendgroup": "D_Heat_HLDH",
         "line": {
          "color": "#fafa9d"
         },
         "name": "D_Heat_HLDH",
         "showlegend": false,
         "stackgroup": "one",
         "type": "scatter",
         "x": [
          2035
         ],
         "y": [
          3.242830543365529
         ]
        },
        {
         "fillcolor": "#fafa9d",
         "legendgroup": "D_Heat_HLDH",
         "line": {
          "color": "#fafa9d"
         },
         "name": "D_Heat_HLDH",
         "showlegend": false,
         "stackgroup": "one",
         "type": "scatter",
         "x": [
          2040
         ],
         "y": [
          3.242830543365529
         ]
        },
        {
         "fillcolor": "#fafa9d",
         "legendgroup": "D_Heat_HLDH",
         "line": {
          "color": "#fafa9d"
         },
         "name": "D_Heat_HLDH",
         "showlegend": false,
         "stackgroup": "one",
         "type": "scatter",
         "x": [
          2045
         ],
         "y": [
          3.242830543365529
         ]
        },
        {
         "fillcolor": "#fafa9d",
         "legendgroup": "D_Heat_HLDH",
         "line": {
          "color": "#fafa9d"
         },
         "name": "D_Heat_HLDH",
         "showlegend": false,
         "stackgroup": "one",
         "type": "scatter",
         "x": [
          2050
         ],
         "y": [
          3.242830543365529
         ]
        },
        {
         "fillcolor": "#a7c9f5",
         "legendgroup": "D_Heat_HLI",
         "line": {
          "color": "#a7c9f5"
         },
         "name": "D_Heat_HLI",
         "showlegend": true,
         "stackgroup": "one",
         "type": "scatter",
         "x": [
          2025
         ],
         "y": [
          0.5317749402032589
         ]
        },
        {
         "fillcolor": "#a7c9f5",
         "legendgroup": "D_Heat_HLI",
         "line": {
          "color": "#a7c9f5"
         },
         "name": "D_Heat_HLI",
         "showlegend": false,
         "stackgroup": "one",
         "type": "scatter",
         "x": [
          2030
         ],
         "y": [
          4.50714887138024
         ]
        },
        {
         "fillcolor": "#a7c9f5",
         "legendgroup": "D_Heat_HLI",
         "line": {
          "color": "#a7c9f5"
         },
         "name": "D_Heat_HLI",
         "showlegend": false,
         "stackgroup": "one",
         "type": "scatter",
         "x": [
          2035
         ],
         "y": [
          14.152331063028463
         ]
        },
        {
         "fillcolor": "#a7c9f5",
         "legendgroup": "D_Heat_HLI",
         "line": {
          "color": "#a7c9f5"
         },
         "name": "D_Heat_HLI",
         "showlegend": false,
         "stackgroup": "one",
         "type": "scatter",
         "x": [
          2040
         ],
         "y": [
          14.152331063028463
         ]
        },
        {
         "fillcolor": "#a7c9f5",
         "legendgroup": "D_Heat_HLI",
         "line": {
          "color": "#a7c9f5"
         },
         "name": "D_Heat_HLI",
         "showlegend": false,
         "stackgroup": "one",
         "type": "scatter",
         "x": [
          2045
         ],
         "y": [
          14.169482143180236
         ]
        },
        {
         "fillcolor": "#a7c9f5",
         "legendgroup": "D_Heat_HLI",
         "line": {
          "color": "#a7c9f5"
         },
         "name": "D_Heat_HLI",
         "showlegend": false,
         "stackgroup": "one",
         "type": "scatter",
         "x": [
          2050
         ],
         "y": [
          14.169482143180057
         ]
        },
        {
         "fillcolor": "#def6d1",
         "legendgroup": "D_PHS",
         "line": {
          "color": "#def6d1"
         },
         "name": "D_PHS",
         "showlegend": true,
         "stackgroup": "one",
         "type": "scatter",
         "x": [
          2018
         ],
         "y": [
          52.658
         ]
        },
        {
         "fillcolor": "#def6d1",
         "legendgroup": "D_PHS",
         "line": {
          "color": "#def6d1"
         },
         "name": "D_PHS",
         "showlegend": false,
         "stackgroup": "one",
         "type": "scatter",
         "x": [
          2025
         ],
         "y": [
          45.464546452
         ]
        },
        {
         "fillcolor": "#def6d1",
         "legendgroup": "D_PHS",
         "line": {
          "color": "#def6d1"
         },
         "name": "D_PHS",
         "showlegend": false,
         "stackgroup": "one",
         "type": "scatter",
         "x": [
          2030
         ],
         "y": [
          45.464546452
         ]
        },
        {
         "fillcolor": "#def6d1",
         "legendgroup": "D_PHS",
         "line": {
          "color": "#def6d1"
         },
         "name": "D_PHS",
         "showlegend": false,
         "stackgroup": "one",
         "type": "scatter",
         "x": [
          2035
         ],
         "y": [
          45.459758676
         ]
        },
        {
         "fillcolor": "#def6d1",
         "legendgroup": "D_PHS",
         "line": {
          "color": "#def6d1"
         },
         "name": "D_PHS",
         "showlegend": false,
         "stackgroup": "one",
         "type": "scatter",
         "x": [
          2040
         ],
         "y": [
          45.459758676
         ]
        },
        {
         "fillcolor": "#def6d1",
         "legendgroup": "D_PHS",
         "line": {
          "color": "#def6d1"
         },
         "name": "D_PHS",
         "showlegend": false,
         "stackgroup": "one",
         "type": "scatter",
         "x": [
          2045
         ],
         "y": [
          42.715758676
         ]
        },
        {
         "fillcolor": "#def6d1",
         "legendgroup": "D_PHS",
         "line": {
          "color": "#def6d1"
         },
         "name": "D_PHS",
         "showlegend": false,
         "stackgroup": "one",
         "type": "scatter",
         "x": [
          2050
         ],
         "y": [
          42.715758676
         ]
        }
       ],
       "layout": {
        "barmode": "stack",
        "font": {
         "size": 22
        },
        "height": 800,
        "template": {
         "data": {
          "bar": [
           {
            "error_x": {
             "color": "#2a3f5f"
            },
            "error_y": {
             "color": "#2a3f5f"
            },
            "marker": {
             "line": {
              "color": "#E5ECF6",
              "width": 0.5
             },
             "pattern": {
              "fillmode": "overlay",
              "size": 10,
              "solidity": 0.2
             }
            },
            "type": "bar"
           }
          ],
          "barpolar": [
           {
            "marker": {
             "line": {
              "color": "#E5ECF6",
              "width": 0.5
             },
             "pattern": {
              "fillmode": "overlay",
              "size": 10,
              "solidity": 0.2
             }
            },
            "type": "barpolar"
           }
          ],
          "carpet": [
           {
            "aaxis": {
             "endlinecolor": "#2a3f5f",
             "gridcolor": "white",
             "linecolor": "white",
             "minorgridcolor": "white",
             "startlinecolor": "#2a3f5f"
            },
            "baxis": {
             "endlinecolor": "#2a3f5f",
             "gridcolor": "white",
             "linecolor": "white",
             "minorgridcolor": "white",
             "startlinecolor": "#2a3f5f"
            },
            "type": "carpet"
           }
          ],
          "choropleth": [
           {
            "colorbar": {
             "outlinewidth": 0,
             "ticks": ""
            },
            "type": "choropleth"
           }
          ],
          "contour": [
           {
            "colorbar": {
             "outlinewidth": 0,
             "ticks": ""
            },
            "colorscale": [
             [
              0,
              "#0d0887"
             ],
             [
              0.1111111111111111,
              "#46039f"
             ],
             [
              0.2222222222222222,
              "#7201a8"
             ],
             [
              0.3333333333333333,
              "#9c179e"
             ],
             [
              0.4444444444444444,
              "#bd3786"
             ],
             [
              0.5555555555555556,
              "#d8576b"
             ],
             [
              0.6666666666666666,
              "#ed7953"
             ],
             [
              0.7777777777777778,
              "#fb9f3a"
             ],
             [
              0.8888888888888888,
              "#fdca26"
             ],
             [
              1,
              "#f0f921"
             ]
            ],
            "type": "contour"
           }
          ],
          "contourcarpet": [
           {
            "colorbar": {
             "outlinewidth": 0,
             "ticks": ""
            },
            "type": "contourcarpet"
           }
          ],
          "heatmap": [
           {
            "colorbar": {
             "outlinewidth": 0,
             "ticks": ""
            },
            "colorscale": [
             [
              0,
              "#0d0887"
             ],
             [
              0.1111111111111111,
              "#46039f"
             ],
             [
              0.2222222222222222,
              "#7201a8"
             ],
             [
              0.3333333333333333,
              "#9c179e"
             ],
             [
              0.4444444444444444,
              "#bd3786"
             ],
             [
              0.5555555555555556,
              "#d8576b"
             ],
             [
              0.6666666666666666,
              "#ed7953"
             ],
             [
              0.7777777777777778,
              "#fb9f3a"
             ],
             [
              0.8888888888888888,
              "#fdca26"
             ],
             [
              1,
              "#f0f921"
             ]
            ],
            "type": "heatmap"
           }
          ],
          "heatmapgl": [
           {
            "colorbar": {
             "outlinewidth": 0,
             "ticks": ""
            },
            "colorscale": [
             [
              0,
              "#0d0887"
             ],
             [
              0.1111111111111111,
              "#46039f"
             ],
             [
              0.2222222222222222,
              "#7201a8"
             ],
             [
              0.3333333333333333,
              "#9c179e"
             ],
             [
              0.4444444444444444,
              "#bd3786"
             ],
             [
              0.5555555555555556,
              "#d8576b"
             ],
             [
              0.6666666666666666,
              "#ed7953"
             ],
             [
              0.7777777777777778,
              "#fb9f3a"
             ],
             [
              0.8888888888888888,
              "#fdca26"
             ],
             [
              1,
              "#f0f921"
             ]
            ],
            "type": "heatmapgl"
           }
          ],
          "histogram": [
           {
            "marker": {
             "pattern": {
              "fillmode": "overlay",
              "size": 10,
              "solidity": 0.2
             }
            },
            "type": "histogram"
           }
          ],
          "histogram2d": [
           {
            "colorbar": {
             "outlinewidth": 0,
             "ticks": ""
            },
            "colorscale": [
             [
              0,
              "#0d0887"
             ],
             [
              0.1111111111111111,
              "#46039f"
             ],
             [
              0.2222222222222222,
              "#7201a8"
             ],
             [
              0.3333333333333333,
              "#9c179e"
             ],
             [
              0.4444444444444444,
              "#bd3786"
             ],
             [
              0.5555555555555556,
              "#d8576b"
             ],
             [
              0.6666666666666666,
              "#ed7953"
             ],
             [
              0.7777777777777778,
              "#fb9f3a"
             ],
             [
              0.8888888888888888,
              "#fdca26"
             ],
             [
              1,
              "#f0f921"
             ]
            ],
            "type": "histogram2d"
           }
          ],
          "histogram2dcontour": [
           {
            "colorbar": {
             "outlinewidth": 0,
             "ticks": ""
            },
            "colorscale": [
             [
              0,
              "#0d0887"
             ],
             [
              0.1111111111111111,
              "#46039f"
             ],
             [
              0.2222222222222222,
              "#7201a8"
             ],
             [
              0.3333333333333333,
              "#9c179e"
             ],
             [
              0.4444444444444444,
              "#bd3786"
             ],
             [
              0.5555555555555556,
              "#d8576b"
             ],
             [
              0.6666666666666666,
              "#ed7953"
             ],
             [
              0.7777777777777778,
              "#fb9f3a"
             ],
             [
              0.8888888888888888,
              "#fdca26"
             ],
             [
              1,
              "#f0f921"
             ]
            ],
            "type": "histogram2dcontour"
           }
          ],
          "mesh3d": [
           {
            "colorbar": {
             "outlinewidth": 0,
             "ticks": ""
            },
            "type": "mesh3d"
           }
          ],
          "parcoords": [
           {
            "line": {
             "colorbar": {
              "outlinewidth": 0,
              "ticks": ""
             }
            },
            "type": "parcoords"
           }
          ],
          "pie": [
           {
            "automargin": true,
            "type": "pie"
           }
          ],
          "scatter": [
           {
            "fillpattern": {
             "fillmode": "overlay",
             "size": 10,
             "solidity": 0.2
            },
            "type": "scatter"
           }
          ],
          "scatter3d": [
           {
            "line": {
             "colorbar": {
              "outlinewidth": 0,
              "ticks": ""
             }
            },
            "marker": {
             "colorbar": {
              "outlinewidth": 0,
              "ticks": ""
             }
            },
            "type": "scatter3d"
           }
          ],
          "scattercarpet": [
           {
            "marker": {
             "colorbar": {
              "outlinewidth": 0,
              "ticks": ""
             }
            },
            "type": "scattercarpet"
           }
          ],
          "scattergeo": [
           {
            "marker": {
             "colorbar": {
              "outlinewidth": 0,
              "ticks": ""
             }
            },
            "type": "scattergeo"
           }
          ],
          "scattergl": [
           {
            "marker": {
             "colorbar": {
              "outlinewidth": 0,
              "ticks": ""
             }
            },
            "type": "scattergl"
           }
          ],
          "scattermapbox": [
           {
            "marker": {
             "colorbar": {
              "outlinewidth": 0,
              "ticks": ""
             }
            },
            "type": "scattermapbox"
           }
          ],
          "scatterpolar": [
           {
            "marker": {
             "colorbar": {
              "outlinewidth": 0,
              "ticks": ""
             }
            },
            "type": "scatterpolar"
           }
          ],
          "scatterpolargl": [
           {
            "marker": {
             "colorbar": {
              "outlinewidth": 0,
              "ticks": ""
             }
            },
            "type": "scatterpolargl"
           }
          ],
          "scatterternary": [
           {
            "marker": {
             "colorbar": {
              "outlinewidth": 0,
              "ticks": ""
             }
            },
            "type": "scatterternary"
           }
          ],
          "surface": [
           {
            "colorbar": {
             "outlinewidth": 0,
             "ticks": ""
            },
            "colorscale": [
             [
              0,
              "#0d0887"
             ],
             [
              0.1111111111111111,
              "#46039f"
             ],
             [
              0.2222222222222222,
              "#7201a8"
             ],
             [
              0.3333333333333333,
              "#9c179e"
             ],
             [
              0.4444444444444444,
              "#bd3786"
             ],
             [
              0.5555555555555556,
              "#d8576b"
             ],
             [
              0.6666666666666666,
              "#ed7953"
             ],
             [
              0.7777777777777778,
              "#fb9f3a"
             ],
             [
              0.8888888888888888,
              "#fdca26"
             ],
             [
              1,
              "#f0f921"
             ]
            ],
            "type": "surface"
           }
          ],
          "table": [
           {
            "cells": {
             "fill": {
              "color": "#EBF0F8"
             },
             "line": {
              "color": "white"
             }
            },
            "header": {
             "fill": {
              "color": "#C8D4E3"
             },
             "line": {
              "color": "white"
             }
            },
            "type": "table"
           }
          ]
         },
         "layout": {
          "annotationdefaults": {
           "arrowcolor": "#2a3f5f",
           "arrowhead": 0,
           "arrowwidth": 1
          },
          "autotypenumbers": "strict",
          "coloraxis": {
           "colorbar": {
            "outlinewidth": 0,
            "ticks": ""
           }
          },
          "colorscale": {
           "diverging": [
            [
             0,
             "#8e0152"
            ],
            [
             0.1,
             "#c51b7d"
            ],
            [
             0.2,
             "#de77ae"
            ],
            [
             0.3,
             "#f1b6da"
            ],
            [
             0.4,
             "#fde0ef"
            ],
            [
             0.5,
             "#f7f7f7"
            ],
            [
             0.6,
             "#e6f5d0"
            ],
            [
             0.7,
             "#b8e186"
            ],
            [
             0.8,
             "#7fbc41"
            ],
            [
             0.9,
             "#4d9221"
            ],
            [
             1,
             "#276419"
            ]
           ],
           "sequential": [
            [
             0,
             "#0d0887"
            ],
            [
             0.1111111111111111,
             "#46039f"
            ],
            [
             0.2222222222222222,
             "#7201a8"
            ],
            [
             0.3333333333333333,
             "#9c179e"
            ],
            [
             0.4444444444444444,
             "#bd3786"
            ],
            [
             0.5555555555555556,
             "#d8576b"
            ],
            [
             0.6666666666666666,
             "#ed7953"
            ],
            [
             0.7777777777777778,
             "#fb9f3a"
            ],
            [
             0.8888888888888888,
             "#fdca26"
            ],
            [
             1,
             "#f0f921"
            ]
           ],
           "sequentialminus": [
            [
             0,
             "#0d0887"
            ],
            [
             0.1111111111111111,
             "#46039f"
            ],
            [
             0.2222222222222222,
             "#7201a8"
            ],
            [
             0.3333333333333333,
             "#9c179e"
            ],
            [
             0.4444444444444444,
             "#bd3786"
            ],
            [
             0.5555555555555556,
             "#d8576b"
            ],
            [
             0.6666666666666666,
             "#ed7953"
            ],
            [
             0.7777777777777778,
             "#fb9f3a"
            ],
            [
             0.8888888888888888,
             "#fdca26"
            ],
            [
             1,
             "#f0f921"
            ]
           ]
          },
          "colorway": [
           "#636efa",
           "#EF553B",
           "#00cc96",
           "#ab63fa",
           "#FFA15A",
           "#19d3f3",
           "#FF6692",
           "#B6E880",
           "#FF97FF",
           "#FECB52"
          ],
          "font": {
           "color": "#2a3f5f"
          },
          "geo": {
           "bgcolor": "white",
           "lakecolor": "white",
           "landcolor": "#E5ECF6",
           "showlakes": true,
           "showland": true,
           "subunitcolor": "white"
          },
          "hoverlabel": {
           "align": "left"
          },
          "hovermode": "closest",
          "mapbox": {
           "style": "light"
          },
          "paper_bgcolor": "white",
          "plot_bgcolor": "#E5ECF6",
          "polar": {
           "angularaxis": {
            "gridcolor": "white",
            "linecolor": "white",
            "ticks": ""
           },
           "bgcolor": "#E5ECF6",
           "radialaxis": {
            "gridcolor": "white",
            "linecolor": "white",
            "ticks": ""
           }
          },
          "scene": {
           "xaxis": {
            "backgroundcolor": "#E5ECF6",
            "gridcolor": "white",
            "gridwidth": 2,
            "linecolor": "white",
            "showbackground": true,
            "ticks": "",
            "zerolinecolor": "white"
           },
           "yaxis": {
            "backgroundcolor": "#E5ECF6",
            "gridcolor": "white",
            "gridwidth": 2,
            "linecolor": "white",
            "showbackground": true,
            "ticks": "",
            "zerolinecolor": "white"
           },
           "zaxis": {
            "backgroundcolor": "#E5ECF6",
            "gridcolor": "white",
            "gridwidth": 2,
            "linecolor": "white",
            "showbackground": true,
            "ticks": "",
            "zerolinecolor": "white"
           }
          },
          "shapedefaults": {
           "line": {
            "color": "#2a3f5f"
           }
          },
          "ternary": {
           "aaxis": {
            "gridcolor": "white",
            "linecolor": "white",
            "ticks": ""
           },
           "baxis": {
            "gridcolor": "white",
            "linecolor": "white",
            "ticks": ""
           },
           "bgcolor": "#E5ECF6",
           "caxis": {
            "gridcolor": "white",
            "linecolor": "white",
            "ticks": ""
           }
          },
          "title": {
           "x": 0.05
          },
          "xaxis": {
           "automargin": true,
           "gridcolor": "white",
           "linecolor": "white",
           "ticks": "",
           "title": {
            "standoff": 15
           },
           "zerolinecolor": "white",
           "zerolinewidth": 2
          },
          "yaxis": {
           "automargin": true,
           "gridcolor": "white",
           "linecolor": "white",
           "ticks": "",
           "title": {
            "standoff": 15
           },
           "zerolinecolor": "white",
           "zerolinewidth": 2
          }
         }
        },
        "title": {
         "text": "Storage Capacity, Region: ALL, Seasonal"
        },
        "width": 1400,
        "xaxis": {
         "title": {
          "text": "Year"
         }
        },
        "yaxis": {
         "title": {
          "text": "GW"
         }
        }
       }
      }
     },
     "metadata": {},
     "output_type": "display_data"
    }
   ],
   "source": [
    "storage_capacity_evolution_fig(DAILY_DATA, region=REGION, title_addon=\"Daily\").show()\n",
    "storage_capacity_evolution_fig(SEASON_DATA, region=REGION, title_addon=\"Seasonal\").show()"
   ]
  },
  {
   "cell_type": "markdown",
   "metadata": {},
   "source": [
    "# Storage net charge"
   ]
  },
  {
   "cell_type": "code",
   "execution_count": 97,
   "metadata": {},
   "outputs": [],
   "source": [
    "def storage_rate_of_activity_fig(tech: str, region: str = \"ALL\") -> go.Figure:\n",
    "\n",
    "    hourly_comparer = HourlyTechActivityRateSolutionCompareFacilitator(tech = tech, sol_paths = {\"daily\": DAILY_DATA, \"season\": SEASON_DATA},\n",
    "                                                                        year = 2050, region = region)\n",
    "\n",
    "    # Get data\n",
    "    d = hourly_comparer.get_relevant_data()\n",
    "\n",
    "    # Keep only modes 1 and 2\n",
    "    d.filter_by_list(\"Mode\", [1, 2])\n",
    "\n",
    "    # Set mode 1 to negative\n",
    "    d.df.loc[d.df[\"Mode\"] == 2, \"Value\"] *= -1\n",
    "\n",
    "    # Aggregate over Mode\n",
    "    d.aggreagate_all_by_sum(column_to_aggregate=\"Mode\", aggregated_entry_name=-1, column_to_sum=\"Value\")\n",
    "\n",
    "    if region == \"ALL\":\n",
    "        d.aggreagate_all_by_sum(column_to_aggregate=\"Region\", aggregated_entry_name=region, column_to_sum=\"Value\")\n",
    "\n",
    "    fig = hourly_comparer.plot(hourly_comparer.generate_traces(d))\n",
    "    fig.update_layout(title = f\"Storage Net Charge/Discharge, Tech: {tech}, Region: {region}\",\n",
    "                      )\n",
    "\n",
    "    return fig"
   ]
  },
  {
   "cell_type": "code",
   "execution_count": 101,
   "metadata": {},
   "outputs": [
    {
     "name": "stdout",
     "output_type": "stream",
     "text": [
      "Converting from PetaJoules to TerraWattHours\n",
      "Converting from PetaJoules to TerraWattHours\n"
     ]
    },
    {
     "data": {
      "application/vnd.plotly.v1+json": {
       "config": {
        "plotlyServerURL": "https://plot.ly"
       },
       "data": [
        {
         "marker": {
          "color": "#de97b0"
         },
         "name": "daily",
         "showlegend": true,
         "type": "bar",
         "x": [
          [
           "6",
           "492",
           "978",
           "1464",
           "1950",
           "2436",
           "2922",
           "3408",
           "3894",
           "4380",
           "4866",
           "5352",
           "5838",
           "6324",
           "6810",
           "7296",
           "7782",
           "8268",
           "8754"
          ],
          [
           "daily",
           "daily",
           "daily",
           "daily",
           "daily",
           "daily",
           "daily",
           "daily",
           "daily",
           "daily",
           "daily",
           "daily",
           "daily",
           "daily",
           "daily",
           "daily",
           "daily",
           "daily",
           "daily"
          ]
         ],
         "y": [
          -0.38688238693405036,
          -0.3748086791314464,
          -0.38688238693405036,
          0,
          0.04753719932908099,
          -0.04753719932908099,
          0,
          0,
          0,
          0.38688238693405036,
          -0.38688238693405036,
          0,
          0.3594421419281322,
          0,
          -0.3594421419281322,
          0.38688238693405036,
          0.015366537203314191,
          0.3594421419281322,
          0.38688238693405036
         ]
        },
        {
         "marker": {
          "color": "#b6ceff"
         },
         "name": "season",
         "showlegend": true,
         "type": "bar",
         "x": [
          [
           "6",
           "492",
           "978",
           "1464",
           "1950",
           "2436",
           "2922",
           "3408",
           "3894",
           "4380",
           "4866",
           "5352",
           "5838",
           "6324",
           "6810",
           "7296",
           "7782",
           "8268",
           "8754"
          ],
          [
           "season",
           "season",
           "season",
           "season",
           "season",
           "season",
           "season",
           "season",
           "season",
           "season",
           "season",
           "season",
           "season",
           "season",
           "season",
           "season",
           "season",
           "season",
           "season"
          ]
         ],
         "y": [
          -84.68557978623983,
          -100.79769002853509,
          -121.66292085365211,
          -124.72340225622925,
          -66.25486265496953,
          24.161985960921683,
          57.67800281151864,
          72.15109680866338,
          99.51906170122896,
          89.20518823328302,
          77.61440470685926,
          78.87543739542762,
          78.35514193123439,
          83.12698969744454,
          56.82879861643694,
          -4.850377688310797,
          -66.91103395583914,
          -81.1493824369374,
          -66.48085820230533
         ]
        }
       ],
       "layout": {
        "barmode": "group",
        "template": {
         "data": {
          "bar": [
           {
            "error_x": {
             "color": "#2a3f5f"
            },
            "error_y": {
             "color": "#2a3f5f"
            },
            "marker": {
             "line": {
              "color": "#E5ECF6",
              "width": 0.5
             },
             "pattern": {
              "fillmode": "overlay",
              "size": 10,
              "solidity": 0.2
             }
            },
            "type": "bar"
           }
          ],
          "barpolar": [
           {
            "marker": {
             "line": {
              "color": "#E5ECF6",
              "width": 0.5
             },
             "pattern": {
              "fillmode": "overlay",
              "size": 10,
              "solidity": 0.2
             }
            },
            "type": "barpolar"
           }
          ],
          "carpet": [
           {
            "aaxis": {
             "endlinecolor": "#2a3f5f",
             "gridcolor": "white",
             "linecolor": "white",
             "minorgridcolor": "white",
             "startlinecolor": "#2a3f5f"
            },
            "baxis": {
             "endlinecolor": "#2a3f5f",
             "gridcolor": "white",
             "linecolor": "white",
             "minorgridcolor": "white",
             "startlinecolor": "#2a3f5f"
            },
            "type": "carpet"
           }
          ],
          "choropleth": [
           {
            "colorbar": {
             "outlinewidth": 0,
             "ticks": ""
            },
            "type": "choropleth"
           }
          ],
          "contour": [
           {
            "colorbar": {
             "outlinewidth": 0,
             "ticks": ""
            },
            "colorscale": [
             [
              0,
              "#0d0887"
             ],
             [
              0.1111111111111111,
              "#46039f"
             ],
             [
              0.2222222222222222,
              "#7201a8"
             ],
             [
              0.3333333333333333,
              "#9c179e"
             ],
             [
              0.4444444444444444,
              "#bd3786"
             ],
             [
              0.5555555555555556,
              "#d8576b"
             ],
             [
              0.6666666666666666,
              "#ed7953"
             ],
             [
              0.7777777777777778,
              "#fb9f3a"
             ],
             [
              0.8888888888888888,
              "#fdca26"
             ],
             [
              1,
              "#f0f921"
             ]
            ],
            "type": "contour"
           }
          ],
          "contourcarpet": [
           {
            "colorbar": {
             "outlinewidth": 0,
             "ticks": ""
            },
            "type": "contourcarpet"
           }
          ],
          "heatmap": [
           {
            "colorbar": {
             "outlinewidth": 0,
             "ticks": ""
            },
            "colorscale": [
             [
              0,
              "#0d0887"
             ],
             [
              0.1111111111111111,
              "#46039f"
             ],
             [
              0.2222222222222222,
              "#7201a8"
             ],
             [
              0.3333333333333333,
              "#9c179e"
             ],
             [
              0.4444444444444444,
              "#bd3786"
             ],
             [
              0.5555555555555556,
              "#d8576b"
             ],
             [
              0.6666666666666666,
              "#ed7953"
             ],
             [
              0.7777777777777778,
              "#fb9f3a"
             ],
             [
              0.8888888888888888,
              "#fdca26"
             ],
             [
              1,
              "#f0f921"
             ]
            ],
            "type": "heatmap"
           }
          ],
          "heatmapgl": [
           {
            "colorbar": {
             "outlinewidth": 0,
             "ticks": ""
            },
            "colorscale": [
             [
              0,
              "#0d0887"
             ],
             [
              0.1111111111111111,
              "#46039f"
             ],
             [
              0.2222222222222222,
              "#7201a8"
             ],
             [
              0.3333333333333333,
              "#9c179e"
             ],
             [
              0.4444444444444444,
              "#bd3786"
             ],
             [
              0.5555555555555556,
              "#d8576b"
             ],
             [
              0.6666666666666666,
              "#ed7953"
             ],
             [
              0.7777777777777778,
              "#fb9f3a"
             ],
             [
              0.8888888888888888,
              "#fdca26"
             ],
             [
              1,
              "#f0f921"
             ]
            ],
            "type": "heatmapgl"
           }
          ],
          "histogram": [
           {
            "marker": {
             "pattern": {
              "fillmode": "overlay",
              "size": 10,
              "solidity": 0.2
             }
            },
            "type": "histogram"
           }
          ],
          "histogram2d": [
           {
            "colorbar": {
             "outlinewidth": 0,
             "ticks": ""
            },
            "colorscale": [
             [
              0,
              "#0d0887"
             ],
             [
              0.1111111111111111,
              "#46039f"
             ],
             [
              0.2222222222222222,
              "#7201a8"
             ],
             [
              0.3333333333333333,
              "#9c179e"
             ],
             [
              0.4444444444444444,
              "#bd3786"
             ],
             [
              0.5555555555555556,
              "#d8576b"
             ],
             [
              0.6666666666666666,
              "#ed7953"
             ],
             [
              0.7777777777777778,
              "#fb9f3a"
             ],
             [
              0.8888888888888888,
              "#fdca26"
             ],
             [
              1,
              "#f0f921"
             ]
            ],
            "type": "histogram2d"
           }
          ],
          "histogram2dcontour": [
           {
            "colorbar": {
             "outlinewidth": 0,
             "ticks": ""
            },
            "colorscale": [
             [
              0,
              "#0d0887"
             ],
             [
              0.1111111111111111,
              "#46039f"
             ],
             [
              0.2222222222222222,
              "#7201a8"
             ],
             [
              0.3333333333333333,
              "#9c179e"
             ],
             [
              0.4444444444444444,
              "#bd3786"
             ],
             [
              0.5555555555555556,
              "#d8576b"
             ],
             [
              0.6666666666666666,
              "#ed7953"
             ],
             [
              0.7777777777777778,
              "#fb9f3a"
             ],
             [
              0.8888888888888888,
              "#fdca26"
             ],
             [
              1,
              "#f0f921"
             ]
            ],
            "type": "histogram2dcontour"
           }
          ],
          "mesh3d": [
           {
            "colorbar": {
             "outlinewidth": 0,
             "ticks": ""
            },
            "type": "mesh3d"
           }
          ],
          "parcoords": [
           {
            "line": {
             "colorbar": {
              "outlinewidth": 0,
              "ticks": ""
             }
            },
            "type": "parcoords"
           }
          ],
          "pie": [
           {
            "automargin": true,
            "type": "pie"
           }
          ],
          "scatter": [
           {
            "fillpattern": {
             "fillmode": "overlay",
             "size": 10,
             "solidity": 0.2
            },
            "type": "scatter"
           }
          ],
          "scatter3d": [
           {
            "line": {
             "colorbar": {
              "outlinewidth": 0,
              "ticks": ""
             }
            },
            "marker": {
             "colorbar": {
              "outlinewidth": 0,
              "ticks": ""
             }
            },
            "type": "scatter3d"
           }
          ],
          "scattercarpet": [
           {
            "marker": {
             "colorbar": {
              "outlinewidth": 0,
              "ticks": ""
             }
            },
            "type": "scattercarpet"
           }
          ],
          "scattergeo": [
           {
            "marker": {
             "colorbar": {
              "outlinewidth": 0,
              "ticks": ""
             }
            },
            "type": "scattergeo"
           }
          ],
          "scattergl": [
           {
            "marker": {
             "colorbar": {
              "outlinewidth": 0,
              "ticks": ""
             }
            },
            "type": "scattergl"
           }
          ],
          "scattermapbox": [
           {
            "marker": {
             "colorbar": {
              "outlinewidth": 0,
              "ticks": ""
             }
            },
            "type": "scattermapbox"
           }
          ],
          "scatterpolar": [
           {
            "marker": {
             "colorbar": {
              "outlinewidth": 0,
              "ticks": ""
             }
            },
            "type": "scatterpolar"
           }
          ],
          "scatterpolargl": [
           {
            "marker": {
             "colorbar": {
              "outlinewidth": 0,
              "ticks": ""
             }
            },
            "type": "scatterpolargl"
           }
          ],
          "scatterternary": [
           {
            "marker": {
             "colorbar": {
              "outlinewidth": 0,
              "ticks": ""
             }
            },
            "type": "scatterternary"
           }
          ],
          "surface": [
           {
            "colorbar": {
             "outlinewidth": 0,
             "ticks": ""
            },
            "colorscale": [
             [
              0,
              "#0d0887"
             ],
             [
              0.1111111111111111,
              "#46039f"
             ],
             [
              0.2222222222222222,
              "#7201a8"
             ],
             [
              0.3333333333333333,
              "#9c179e"
             ],
             [
              0.4444444444444444,
              "#bd3786"
             ],
             [
              0.5555555555555556,
              "#d8576b"
             ],
             [
              0.6666666666666666,
              "#ed7953"
             ],
             [
              0.7777777777777778,
              "#fb9f3a"
             ],
             [
              0.8888888888888888,
              "#fdca26"
             ],
             [
              1,
              "#f0f921"
             ]
            ],
            "type": "surface"
           }
          ],
          "table": [
           {
            "cells": {
             "fill": {
              "color": "#EBF0F8"
             },
             "line": {
              "color": "white"
             }
            },
            "header": {
             "fill": {
              "color": "#C8D4E3"
             },
             "line": {
              "color": "white"
             }
            },
            "type": "table"
           }
          ]
         },
         "layout": {
          "annotationdefaults": {
           "arrowcolor": "#2a3f5f",
           "arrowhead": 0,
           "arrowwidth": 1
          },
          "autotypenumbers": "strict",
          "coloraxis": {
           "colorbar": {
            "outlinewidth": 0,
            "ticks": ""
           }
          },
          "colorscale": {
           "diverging": [
            [
             0,
             "#8e0152"
            ],
            [
             0.1,
             "#c51b7d"
            ],
            [
             0.2,
             "#de77ae"
            ],
            [
             0.3,
             "#f1b6da"
            ],
            [
             0.4,
             "#fde0ef"
            ],
            [
             0.5,
             "#f7f7f7"
            ],
            [
             0.6,
             "#e6f5d0"
            ],
            [
             0.7,
             "#b8e186"
            ],
            [
             0.8,
             "#7fbc41"
            ],
            [
             0.9,
             "#4d9221"
            ],
            [
             1,
             "#276419"
            ]
           ],
           "sequential": [
            [
             0,
             "#0d0887"
            ],
            [
             0.1111111111111111,
             "#46039f"
            ],
            [
             0.2222222222222222,
             "#7201a8"
            ],
            [
             0.3333333333333333,
             "#9c179e"
            ],
            [
             0.4444444444444444,
             "#bd3786"
            ],
            [
             0.5555555555555556,
             "#d8576b"
            ],
            [
             0.6666666666666666,
             "#ed7953"
            ],
            [
             0.7777777777777778,
             "#fb9f3a"
            ],
            [
             0.8888888888888888,
             "#fdca26"
            ],
            [
             1,
             "#f0f921"
            ]
           ],
           "sequentialminus": [
            [
             0,
             "#0d0887"
            ],
            [
             0.1111111111111111,
             "#46039f"
            ],
            [
             0.2222222222222222,
             "#7201a8"
            ],
            [
             0.3333333333333333,
             "#9c179e"
            ],
            [
             0.4444444444444444,
             "#bd3786"
            ],
            [
             0.5555555555555556,
             "#d8576b"
            ],
            [
             0.6666666666666666,
             "#ed7953"
            ],
            [
             0.7777777777777778,
             "#fb9f3a"
            ],
            [
             0.8888888888888888,
             "#fdca26"
            ],
            [
             1,
             "#f0f921"
            ]
           ]
          },
          "colorway": [
           "#636efa",
           "#EF553B",
           "#00cc96",
           "#ab63fa",
           "#FFA15A",
           "#19d3f3",
           "#FF6692",
           "#B6E880",
           "#FF97FF",
           "#FECB52"
          ],
          "font": {
           "color": "#2a3f5f"
          },
          "geo": {
           "bgcolor": "white",
           "lakecolor": "white",
           "landcolor": "#E5ECF6",
           "showlakes": true,
           "showland": true,
           "subunitcolor": "white"
          },
          "hoverlabel": {
           "align": "left"
          },
          "hovermode": "closest",
          "mapbox": {
           "style": "light"
          },
          "paper_bgcolor": "white",
          "plot_bgcolor": "#E5ECF6",
          "polar": {
           "angularaxis": {
            "gridcolor": "white",
            "linecolor": "white",
            "ticks": ""
           },
           "bgcolor": "#E5ECF6",
           "radialaxis": {
            "gridcolor": "white",
            "linecolor": "white",
            "ticks": ""
           }
          },
          "scene": {
           "xaxis": {
            "backgroundcolor": "#E5ECF6",
            "gridcolor": "white",
            "gridwidth": 2,
            "linecolor": "white",
            "showbackground": true,
            "ticks": "",
            "zerolinecolor": "white"
           },
           "yaxis": {
            "backgroundcolor": "#E5ECF6",
            "gridcolor": "white",
            "gridwidth": 2,
            "linecolor": "white",
            "showbackground": true,
            "ticks": "",
            "zerolinecolor": "white"
           },
           "zaxis": {
            "backgroundcolor": "#E5ECF6",
            "gridcolor": "white",
            "gridwidth": 2,
            "linecolor": "white",
            "showbackground": true,
            "ticks": "",
            "zerolinecolor": "white"
           }
          },
          "shapedefaults": {
           "line": {
            "color": "#2a3f5f"
           }
          },
          "ternary": {
           "aaxis": {
            "gridcolor": "white",
            "linecolor": "white",
            "ticks": ""
           },
           "baxis": {
            "gridcolor": "white",
            "linecolor": "white",
            "ticks": ""
           },
           "bgcolor": "#E5ECF6",
           "caxis": {
            "gridcolor": "white",
            "linecolor": "white",
            "ticks": ""
           }
          },
          "title": {
           "x": 0.05
          },
          "xaxis": {
           "automargin": true,
           "gridcolor": "white",
           "linecolor": "white",
           "ticks": "",
           "title": {
            "standoff": 15
           },
           "zerolinecolor": "white",
           "zerolinewidth": 2
          },
          "yaxis": {
           "automargin": true,
           "gridcolor": "white",
           "linecolor": "white",
           "ticks": "",
           "title": {
            "standoff": 15
           },
           "zerolinecolor": "white",
           "zerolinewidth": 2
          }
         }
        },
        "title": {
         "text": "Storage Net Charge/Discharge, Tech: D_Heat_HLB, Region: ALL"
        },
        "xaxis": {
         "title": {
          "text": "Hour"
         }
        },
        "yaxis": {
         "title": {
          "text": "Rate of Activity [TWh]"
         }
        }
       }
      }
     },
     "metadata": {},
     "output_type": "display_data"
    },
    {
     "name": "stdout",
     "output_type": "stream",
     "text": [
      "Converting from PetaJoules to TerraWattHours\n",
      "Converting from PetaJoules to TerraWattHours\n"
     ]
    },
    {
     "data": {
      "application/vnd.plotly.v1+json": {
       "config": {
        "plotlyServerURL": "https://plot.ly"
       },
       "data": [
        {
         "marker": {
          "color": "#de97b0"
         },
         "name": "daily",
         "showlegend": true,
         "type": "bar",
         "x": [
          [
           "6",
           "492",
           "978",
           "1464",
           "1950",
           "2436",
           "2922",
           "3408",
           "3894",
           "4380",
           "4866",
           "5352",
           "5838",
           "6324",
           "6810",
           "7296",
           "7782",
           "8268",
           "8754"
          ],
          [
           "daily",
           "daily",
           "daily",
           "daily",
           "daily",
           "daily",
           "daily",
           "daily",
           "daily",
           "daily",
           "daily",
           "daily",
           "daily",
           "daily",
           "daily",
           "daily",
           "daily",
           "daily",
           "daily"
          ]
         ],
         "y": [
          -2.3864542535547386,
          -33.249645484037416,
          -35.354273587393834,
          0.11022311038159631,
          1.564734876833024,
          -0.20467700108619558,
          -1.2958936342713507,
          0.06749278395775343,
          13.895609328612768,
          -3.2174384754218197,
          -8.482174408657311,
          0.5885423232442956,
          0.8924649244729854,
          -0.9210219819044249,
          -0.39385822261513315,
          10.97282673213604,
          22.327918845744893,
          -5.6706641926900065,
          52.73590958886068
         ]
        },
        {
         "marker": {
          "color": "#b6ceff"
         },
         "name": "season",
         "showlegend": true,
         "type": "bar",
         "x": [
          [
           "6",
           "492",
           "978",
           "1464",
           "1950",
           "2436",
           "2922",
           "3408",
           "3894",
           "4380",
           "4866",
           "5352",
           "5838",
           "6324",
           "6810",
           "7296",
           "7782",
           "8268",
           "8754"
          ],
          [
           "season",
           "season",
           "season",
           "season",
           "season",
           "season",
           "season",
           "season",
           "season",
           "season",
           "season",
           "season",
           "season",
           "season",
           "season",
           "season",
           "season",
           "season",
           "season"
          ]
         ],
         "y": [
          -36.960909323498704,
          -93.74791777123919,
          -99.12565201860258,
          -53.02478801584412,
          -12.106449760090555,
          3.3137798172927866,
          1.228233407726751,
          -19.57111338302989,
          129.20604086427554,
          378.1603099029143,
          110.81005840435986,
          -46.66886385281818,
          5.318488524508777,
          -10.347650394508932,
          -11.981170031074,
          -50.262518290901326,
          -27.59658250214545,
          -95.32170460359133,
          -1.3074106589028167
         ]
        }
       ],
       "layout": {
        "barmode": "group",
        "template": {
         "data": {
          "bar": [
           {
            "error_x": {
             "color": "#2a3f5f"
            },
            "error_y": {
             "color": "#2a3f5f"
            },
            "marker": {
             "line": {
              "color": "#E5ECF6",
              "width": 0.5
             },
             "pattern": {
              "fillmode": "overlay",
              "size": 10,
              "solidity": 0.2
             }
            },
            "type": "bar"
           }
          ],
          "barpolar": [
           {
            "marker": {
             "line": {
              "color": "#E5ECF6",
              "width": 0.5
             },
             "pattern": {
              "fillmode": "overlay",
              "size": 10,
              "solidity": 0.2
             }
            },
            "type": "barpolar"
           }
          ],
          "carpet": [
           {
            "aaxis": {
             "endlinecolor": "#2a3f5f",
             "gridcolor": "white",
             "linecolor": "white",
             "minorgridcolor": "white",
             "startlinecolor": "#2a3f5f"
            },
            "baxis": {
             "endlinecolor": "#2a3f5f",
             "gridcolor": "white",
             "linecolor": "white",
             "minorgridcolor": "white",
             "startlinecolor": "#2a3f5f"
            },
            "type": "carpet"
           }
          ],
          "choropleth": [
           {
            "colorbar": {
             "outlinewidth": 0,
             "ticks": ""
            },
            "type": "choropleth"
           }
          ],
          "contour": [
           {
            "colorbar": {
             "outlinewidth": 0,
             "ticks": ""
            },
            "colorscale": [
             [
              0,
              "#0d0887"
             ],
             [
              0.1111111111111111,
              "#46039f"
             ],
             [
              0.2222222222222222,
              "#7201a8"
             ],
             [
              0.3333333333333333,
              "#9c179e"
             ],
             [
              0.4444444444444444,
              "#bd3786"
             ],
             [
              0.5555555555555556,
              "#d8576b"
             ],
             [
              0.6666666666666666,
              "#ed7953"
             ],
             [
              0.7777777777777778,
              "#fb9f3a"
             ],
             [
              0.8888888888888888,
              "#fdca26"
             ],
             [
              1,
              "#f0f921"
             ]
            ],
            "type": "contour"
           }
          ],
          "contourcarpet": [
           {
            "colorbar": {
             "outlinewidth": 0,
             "ticks": ""
            },
            "type": "contourcarpet"
           }
          ],
          "heatmap": [
           {
            "colorbar": {
             "outlinewidth": 0,
             "ticks": ""
            },
            "colorscale": [
             [
              0,
              "#0d0887"
             ],
             [
              0.1111111111111111,
              "#46039f"
             ],
             [
              0.2222222222222222,
              "#7201a8"
             ],
             [
              0.3333333333333333,
              "#9c179e"
             ],
             [
              0.4444444444444444,
              "#bd3786"
             ],
             [
              0.5555555555555556,
              "#d8576b"
             ],
             [
              0.6666666666666666,
              "#ed7953"
             ],
             [
              0.7777777777777778,
              "#fb9f3a"
             ],
             [
              0.8888888888888888,
              "#fdca26"
             ],
             [
              1,
              "#f0f921"
             ]
            ],
            "type": "heatmap"
           }
          ],
          "heatmapgl": [
           {
            "colorbar": {
             "outlinewidth": 0,
             "ticks": ""
            },
            "colorscale": [
             [
              0,
              "#0d0887"
             ],
             [
              0.1111111111111111,
              "#46039f"
             ],
             [
              0.2222222222222222,
              "#7201a8"
             ],
             [
              0.3333333333333333,
              "#9c179e"
             ],
             [
              0.4444444444444444,
              "#bd3786"
             ],
             [
              0.5555555555555556,
              "#d8576b"
             ],
             [
              0.6666666666666666,
              "#ed7953"
             ],
             [
              0.7777777777777778,
              "#fb9f3a"
             ],
             [
              0.8888888888888888,
              "#fdca26"
             ],
             [
              1,
              "#f0f921"
             ]
            ],
            "type": "heatmapgl"
           }
          ],
          "histogram": [
           {
            "marker": {
             "pattern": {
              "fillmode": "overlay",
              "size": 10,
              "solidity": 0.2
             }
            },
            "type": "histogram"
           }
          ],
          "histogram2d": [
           {
            "colorbar": {
             "outlinewidth": 0,
             "ticks": ""
            },
            "colorscale": [
             [
              0,
              "#0d0887"
             ],
             [
              0.1111111111111111,
              "#46039f"
             ],
             [
              0.2222222222222222,
              "#7201a8"
             ],
             [
              0.3333333333333333,
              "#9c179e"
             ],
             [
              0.4444444444444444,
              "#bd3786"
             ],
             [
              0.5555555555555556,
              "#d8576b"
             ],
             [
              0.6666666666666666,
              "#ed7953"
             ],
             [
              0.7777777777777778,
              "#fb9f3a"
             ],
             [
              0.8888888888888888,
              "#fdca26"
             ],
             [
              1,
              "#f0f921"
             ]
            ],
            "type": "histogram2d"
           }
          ],
          "histogram2dcontour": [
           {
            "colorbar": {
             "outlinewidth": 0,
             "ticks": ""
            },
            "colorscale": [
             [
              0,
              "#0d0887"
             ],
             [
              0.1111111111111111,
              "#46039f"
             ],
             [
              0.2222222222222222,
              "#7201a8"
             ],
             [
              0.3333333333333333,
              "#9c179e"
             ],
             [
              0.4444444444444444,
              "#bd3786"
             ],
             [
              0.5555555555555556,
              "#d8576b"
             ],
             [
              0.6666666666666666,
              "#ed7953"
             ],
             [
              0.7777777777777778,
              "#fb9f3a"
             ],
             [
              0.8888888888888888,
              "#fdca26"
             ],
             [
              1,
              "#f0f921"
             ]
            ],
            "type": "histogram2dcontour"
           }
          ],
          "mesh3d": [
           {
            "colorbar": {
             "outlinewidth": 0,
             "ticks": ""
            },
            "type": "mesh3d"
           }
          ],
          "parcoords": [
           {
            "line": {
             "colorbar": {
              "outlinewidth": 0,
              "ticks": ""
             }
            },
            "type": "parcoords"
           }
          ],
          "pie": [
           {
            "automargin": true,
            "type": "pie"
           }
          ],
          "scatter": [
           {
            "fillpattern": {
             "fillmode": "overlay",
             "size": 10,
             "solidity": 0.2
            },
            "type": "scatter"
           }
          ],
          "scatter3d": [
           {
            "line": {
             "colorbar": {
              "outlinewidth": 0,
              "ticks": ""
             }
            },
            "marker": {
             "colorbar": {
              "outlinewidth": 0,
              "ticks": ""
             }
            },
            "type": "scatter3d"
           }
          ],
          "scattercarpet": [
           {
            "marker": {
             "colorbar": {
              "outlinewidth": 0,
              "ticks": ""
             }
            },
            "type": "scattercarpet"
           }
          ],
          "scattergeo": [
           {
            "marker": {
             "colorbar": {
              "outlinewidth": 0,
              "ticks": ""
             }
            },
            "type": "scattergeo"
           }
          ],
          "scattergl": [
           {
            "marker": {
             "colorbar": {
              "outlinewidth": 0,
              "ticks": ""
             }
            },
            "type": "scattergl"
           }
          ],
          "scattermapbox": [
           {
            "marker": {
             "colorbar": {
              "outlinewidth": 0,
              "ticks": ""
             }
            },
            "type": "scattermapbox"
           }
          ],
          "scatterpolar": [
           {
            "marker": {
             "colorbar": {
              "outlinewidth": 0,
              "ticks": ""
             }
            },
            "type": "scatterpolar"
           }
          ],
          "scatterpolargl": [
           {
            "marker": {
             "colorbar": {
              "outlinewidth": 0,
              "ticks": ""
             }
            },
            "type": "scatterpolargl"
           }
          ],
          "scatterternary": [
           {
            "marker": {
             "colorbar": {
              "outlinewidth": 0,
              "ticks": ""
             }
            },
            "type": "scatterternary"
           }
          ],
          "surface": [
           {
            "colorbar": {
             "outlinewidth": 0,
             "ticks": ""
            },
            "colorscale": [
             [
              0,
              "#0d0887"
             ],
             [
              0.1111111111111111,
              "#46039f"
             ],
             [
              0.2222222222222222,
              "#7201a8"
             ],
             [
              0.3333333333333333,
              "#9c179e"
             ],
             [
              0.4444444444444444,
              "#bd3786"
             ],
             [
              0.5555555555555556,
              "#d8576b"
             ],
             [
              0.6666666666666666,
              "#ed7953"
             ],
             [
              0.7777777777777778,
              "#fb9f3a"
             ],
             [
              0.8888888888888888,
              "#fdca26"
             ],
             [
              1,
              "#f0f921"
             ]
            ],
            "type": "surface"
           }
          ],
          "table": [
           {
            "cells": {
             "fill": {
              "color": "#EBF0F8"
             },
             "line": {
              "color": "white"
             }
            },
            "header": {
             "fill": {
              "color": "#C8D4E3"
             },
             "line": {
              "color": "white"
             }
            },
            "type": "table"
           }
          ]
         },
         "layout": {
          "annotationdefaults": {
           "arrowcolor": "#2a3f5f",
           "arrowhead": 0,
           "arrowwidth": 1
          },
          "autotypenumbers": "strict",
          "coloraxis": {
           "colorbar": {
            "outlinewidth": 0,
            "ticks": ""
           }
          },
          "colorscale": {
           "diverging": [
            [
             0,
             "#8e0152"
            ],
            [
             0.1,
             "#c51b7d"
            ],
            [
             0.2,
             "#de77ae"
            ],
            [
             0.3,
             "#f1b6da"
            ],
            [
             0.4,
             "#fde0ef"
            ],
            [
             0.5,
             "#f7f7f7"
            ],
            [
             0.6,
             "#e6f5d0"
            ],
            [
             0.7,
             "#b8e186"
            ],
            [
             0.8,
             "#7fbc41"
            ],
            [
             0.9,
             "#4d9221"
            ],
            [
             1,
             "#276419"
            ]
           ],
           "sequential": [
            [
             0,
             "#0d0887"
            ],
            [
             0.1111111111111111,
             "#46039f"
            ],
            [
             0.2222222222222222,
             "#7201a8"
            ],
            [
             0.3333333333333333,
             "#9c179e"
            ],
            [
             0.4444444444444444,
             "#bd3786"
            ],
            [
             0.5555555555555556,
             "#d8576b"
            ],
            [
             0.6666666666666666,
             "#ed7953"
            ],
            [
             0.7777777777777778,
             "#fb9f3a"
            ],
            [
             0.8888888888888888,
             "#fdca26"
            ],
            [
             1,
             "#f0f921"
            ]
           ],
           "sequentialminus": [
            [
             0,
             "#0d0887"
            ],
            [
             0.1111111111111111,
             "#46039f"
            ],
            [
             0.2222222222222222,
             "#7201a8"
            ],
            [
             0.3333333333333333,
             "#9c179e"
            ],
            [
             0.4444444444444444,
             "#bd3786"
            ],
            [
             0.5555555555555556,
             "#d8576b"
            ],
            [
             0.6666666666666666,
             "#ed7953"
            ],
            [
             0.7777777777777778,
             "#fb9f3a"
            ],
            [
             0.8888888888888888,
             "#fdca26"
            ],
            [
             1,
             "#f0f921"
            ]
           ]
          },
          "colorway": [
           "#636efa",
           "#EF553B",
           "#00cc96",
           "#ab63fa",
           "#FFA15A",
           "#19d3f3",
           "#FF6692",
           "#B6E880",
           "#FF97FF",
           "#FECB52"
          ],
          "font": {
           "color": "#2a3f5f"
          },
          "geo": {
           "bgcolor": "white",
           "lakecolor": "white",
           "landcolor": "#E5ECF6",
           "showlakes": true,
           "showland": true,
           "subunitcolor": "white"
          },
          "hoverlabel": {
           "align": "left"
          },
          "hovermode": "closest",
          "mapbox": {
           "style": "light"
          },
          "paper_bgcolor": "white",
          "plot_bgcolor": "#E5ECF6",
          "polar": {
           "angularaxis": {
            "gridcolor": "white",
            "linecolor": "white",
            "ticks": ""
           },
           "bgcolor": "#E5ECF6",
           "radialaxis": {
            "gridcolor": "white",
            "linecolor": "white",
            "ticks": ""
           }
          },
          "scene": {
           "xaxis": {
            "backgroundcolor": "#E5ECF6",
            "gridcolor": "white",
            "gridwidth": 2,
            "linecolor": "white",
            "showbackground": true,
            "ticks": "",
            "zerolinecolor": "white"
           },
           "yaxis": {
            "backgroundcolor": "#E5ECF6",
            "gridcolor": "white",
            "gridwidth": 2,
            "linecolor": "white",
            "showbackground": true,
            "ticks": "",
            "zerolinecolor": "white"
           },
           "zaxis": {
            "backgroundcolor": "#E5ECF6",
            "gridcolor": "white",
            "gridwidth": 2,
            "linecolor": "white",
            "showbackground": true,
            "ticks": "",
            "zerolinecolor": "white"
           }
          },
          "shapedefaults": {
           "line": {
            "color": "#2a3f5f"
           }
          },
          "ternary": {
           "aaxis": {
            "gridcolor": "white",
            "linecolor": "white",
            "ticks": ""
           },
           "baxis": {
            "gridcolor": "white",
            "linecolor": "white",
            "ticks": ""
           },
           "bgcolor": "#E5ECF6",
           "caxis": {
            "gridcolor": "white",
            "linecolor": "white",
            "ticks": ""
           }
          },
          "title": {
           "x": 0.05
          },
          "xaxis": {
           "automargin": true,
           "gridcolor": "white",
           "linecolor": "white",
           "ticks": "",
           "title": {
            "standoff": 15
           },
           "zerolinecolor": "white",
           "zerolinewidth": 2
          },
          "yaxis": {
           "automargin": true,
           "gridcolor": "white",
           "linecolor": "white",
           "ticks": "",
           "title": {
            "standoff": 15
           },
           "zerolinecolor": "white",
           "zerolinewidth": 2
          }
         }
        },
        "title": {
         "text": "Storage Net Charge/Discharge, Tech: D_Battery_Li-Ion, Region: ALL"
        },
        "xaxis": {
         "title": {
          "text": "Hour"
         }
        },
        "yaxis": {
         "title": {
          "text": "Rate of Activity [TWh]"
         }
        }
       }
      }
     },
     "metadata": {},
     "output_type": "display_data"
    },
    {
     "name": "stdout",
     "output_type": "stream",
     "text": [
      "Converting from PetaJoules to TerraWattHours\n",
      "Converting from PetaJoules to TerraWattHours\n"
     ]
    },
    {
     "data": {
      "application/vnd.plotly.v1+json": {
       "config": {
        "plotlyServerURL": "https://plot.ly"
       },
       "data": [
        {
         "marker": {
          "color": "#de97b0"
         },
         "name": "daily",
         "showlegend": true,
         "type": "bar",
         "x": [
          [
           "6",
           "492",
           "978",
           "1464",
           "1950",
           "2436",
           "2922",
           "3408",
           "3894",
           "4380",
           "4866",
           "5352",
           "5838",
           "6324",
           "6810",
           "7296",
           "7782",
           "8268",
           "8754"
          ],
          [
           "daily",
           "daily",
           "daily",
           "daily",
           "daily",
           "daily",
           "daily",
           "daily",
           "daily",
           "daily",
           "daily",
           "daily",
           "daily",
           "daily",
           "daily",
           "daily",
           "daily",
           "daily",
           "daily"
          ]
         ],
         "y": [
          -58.86537280027169,
          -101.42367160110547,
          -115.12190711942065,
          -131.9217342490379,
          -5.597719005114053,
          54.74643825207508,
          92.64742030551281,
          -22.102414626387176,
          193.4628499266732,
          196.75539996413892,
          189.2279664318134,
          -62.575639506160286,
          69.23569516106654,
          30.821104824651517,
          0.7183914313692961,
          -71.2803814535847,
          -47.54318882676915,
          -136.92036157926626,
          -55.2226530411237
         ]
        },
        {
         "marker": {
          "color": "#b6ceff"
         },
         "name": "season",
         "showlegend": true,
         "type": "bar",
         "x": [
          [
           "6",
           "492",
           "978",
           "1464",
           "1950",
           "2436",
           "2922",
           "3408",
           "3894",
           "4380",
           "4866",
           "5352",
           "5838",
           "6324",
           "6810",
           "7296",
           "7782",
           "8268",
           "8754"
          ],
          [
           "season",
           "season",
           "season",
           "season",
           "season",
           "season",
           "season",
           "season",
           "season",
           "season",
           "season",
           "season",
           "season",
           "season",
           "season",
           "season",
           "season",
           "season",
           "season"
          ]
         ],
         "y": [
          -47.09869573920447,
          -51.79280615875181,
          -54.52011416135525,
          -52.72506874998108,
          11.689248921534432,
          42.81386834737191,
          58.22713960562446,
          -32.69737821123044,
          99.4448453516749,
          86.44083437685089,
          96.40417299830618,
          -41.74817020175112,
          41.20411288949144,
          17.837492242918742,
          -10.00788112363052,
          -37.77395472413442,
          -19.73279226017813,
          -62.157298310553315,
          -33.075768481129934
         ]
        }
       ],
       "layout": {
        "barmode": "group",
        "template": {
         "data": {
          "bar": [
           {
            "error_x": {
             "color": "#2a3f5f"
            },
            "error_y": {
             "color": "#2a3f5f"
            },
            "marker": {
             "line": {
              "color": "#E5ECF6",
              "width": 0.5
             },
             "pattern": {
              "fillmode": "overlay",
              "size": 10,
              "solidity": 0.2
             }
            },
            "type": "bar"
           }
          ],
          "barpolar": [
           {
            "marker": {
             "line": {
              "color": "#E5ECF6",
              "width": 0.5
             },
             "pattern": {
              "fillmode": "overlay",
              "size": 10,
              "solidity": 0.2
             }
            },
            "type": "barpolar"
           }
          ],
          "carpet": [
           {
            "aaxis": {
             "endlinecolor": "#2a3f5f",
             "gridcolor": "white",
             "linecolor": "white",
             "minorgridcolor": "white",
             "startlinecolor": "#2a3f5f"
            },
            "baxis": {
             "endlinecolor": "#2a3f5f",
             "gridcolor": "white",
             "linecolor": "white",
             "minorgridcolor": "white",
             "startlinecolor": "#2a3f5f"
            },
            "type": "carpet"
           }
          ],
          "choropleth": [
           {
            "colorbar": {
             "outlinewidth": 0,
             "ticks": ""
            },
            "type": "choropleth"
           }
          ],
          "contour": [
           {
            "colorbar": {
             "outlinewidth": 0,
             "ticks": ""
            },
            "colorscale": [
             [
              0,
              "#0d0887"
             ],
             [
              0.1111111111111111,
              "#46039f"
             ],
             [
              0.2222222222222222,
              "#7201a8"
             ],
             [
              0.3333333333333333,
              "#9c179e"
             ],
             [
              0.4444444444444444,
              "#bd3786"
             ],
             [
              0.5555555555555556,
              "#d8576b"
             ],
             [
              0.6666666666666666,
              "#ed7953"
             ],
             [
              0.7777777777777778,
              "#fb9f3a"
             ],
             [
              0.8888888888888888,
              "#fdca26"
             ],
             [
              1,
              "#f0f921"
             ]
            ],
            "type": "contour"
           }
          ],
          "contourcarpet": [
           {
            "colorbar": {
             "outlinewidth": 0,
             "ticks": ""
            },
            "type": "contourcarpet"
           }
          ],
          "heatmap": [
           {
            "colorbar": {
             "outlinewidth": 0,
             "ticks": ""
            },
            "colorscale": [
             [
              0,
              "#0d0887"
             ],
             [
              0.1111111111111111,
              "#46039f"
             ],
             [
              0.2222222222222222,
              "#7201a8"
             ],
             [
              0.3333333333333333,
              "#9c179e"
             ],
             [
              0.4444444444444444,
              "#bd3786"
             ],
             [
              0.5555555555555556,
              "#d8576b"
             ],
             [
              0.6666666666666666,
              "#ed7953"
             ],
             [
              0.7777777777777778,
              "#fb9f3a"
             ],
             [
              0.8888888888888888,
              "#fdca26"
             ],
             [
              1,
              "#f0f921"
             ]
            ],
            "type": "heatmap"
           }
          ],
          "heatmapgl": [
           {
            "colorbar": {
             "outlinewidth": 0,
             "ticks": ""
            },
            "colorscale": [
             [
              0,
              "#0d0887"
             ],
             [
              0.1111111111111111,
              "#46039f"
             ],
             [
              0.2222222222222222,
              "#7201a8"
             ],
             [
              0.3333333333333333,
              "#9c179e"
             ],
             [
              0.4444444444444444,
              "#bd3786"
             ],
             [
              0.5555555555555556,
              "#d8576b"
             ],
             [
              0.6666666666666666,
              "#ed7953"
             ],
             [
              0.7777777777777778,
              "#fb9f3a"
             ],
             [
              0.8888888888888888,
              "#fdca26"
             ],
             [
              1,
              "#f0f921"
             ]
            ],
            "type": "heatmapgl"
           }
          ],
          "histogram": [
           {
            "marker": {
             "pattern": {
              "fillmode": "overlay",
              "size": 10,
              "solidity": 0.2
             }
            },
            "type": "histogram"
           }
          ],
          "histogram2d": [
           {
            "colorbar": {
             "outlinewidth": 0,
             "ticks": ""
            },
            "colorscale": [
             [
              0,
              "#0d0887"
             ],
             [
              0.1111111111111111,
              "#46039f"
             ],
             [
              0.2222222222222222,
              "#7201a8"
             ],
             [
              0.3333333333333333,
              "#9c179e"
             ],
             [
              0.4444444444444444,
              "#bd3786"
             ],
             [
              0.5555555555555556,
              "#d8576b"
             ],
             [
              0.6666666666666666,
              "#ed7953"
             ],
             [
              0.7777777777777778,
              "#fb9f3a"
             ],
             [
              0.8888888888888888,
              "#fdca26"
             ],
             [
              1,
              "#f0f921"
             ]
            ],
            "type": "histogram2d"
           }
          ],
          "histogram2dcontour": [
           {
            "colorbar": {
             "outlinewidth": 0,
             "ticks": ""
            },
            "colorscale": [
             [
              0,
              "#0d0887"
             ],
             [
              0.1111111111111111,
              "#46039f"
             ],
             [
              0.2222222222222222,
              "#7201a8"
             ],
             [
              0.3333333333333333,
              "#9c179e"
             ],
             [
              0.4444444444444444,
              "#bd3786"
             ],
             [
              0.5555555555555556,
              "#d8576b"
             ],
             [
              0.6666666666666666,
              "#ed7953"
             ],
             [
              0.7777777777777778,
              "#fb9f3a"
             ],
             [
              0.8888888888888888,
              "#fdca26"
             ],
             [
              1,
              "#f0f921"
             ]
            ],
            "type": "histogram2dcontour"
           }
          ],
          "mesh3d": [
           {
            "colorbar": {
             "outlinewidth": 0,
             "ticks": ""
            },
            "type": "mesh3d"
           }
          ],
          "parcoords": [
           {
            "line": {
             "colorbar": {
              "outlinewidth": 0,
              "ticks": ""
             }
            },
            "type": "parcoords"
           }
          ],
          "pie": [
           {
            "automargin": true,
            "type": "pie"
           }
          ],
          "scatter": [
           {
            "fillpattern": {
             "fillmode": "overlay",
             "size": 10,
             "solidity": 0.2
            },
            "type": "scatter"
           }
          ],
          "scatter3d": [
           {
            "line": {
             "colorbar": {
              "outlinewidth": 0,
              "ticks": ""
             }
            },
            "marker": {
             "colorbar": {
              "outlinewidth": 0,
              "ticks": ""
             }
            },
            "type": "scatter3d"
           }
          ],
          "scattercarpet": [
           {
            "marker": {
             "colorbar": {
              "outlinewidth": 0,
              "ticks": ""
             }
            },
            "type": "scattercarpet"
           }
          ],
          "scattergeo": [
           {
            "marker": {
             "colorbar": {
              "outlinewidth": 0,
              "ticks": ""
             }
            },
            "type": "scattergeo"
           }
          ],
          "scattergl": [
           {
            "marker": {
             "colorbar": {
              "outlinewidth": 0,
              "ticks": ""
             }
            },
            "type": "scattergl"
           }
          ],
          "scattermapbox": [
           {
            "marker": {
             "colorbar": {
              "outlinewidth": 0,
              "ticks": ""
             }
            },
            "type": "scattermapbox"
           }
          ],
          "scatterpolar": [
           {
            "marker": {
             "colorbar": {
              "outlinewidth": 0,
              "ticks": ""
             }
            },
            "type": "scatterpolar"
           }
          ],
          "scatterpolargl": [
           {
            "marker": {
             "colorbar": {
              "outlinewidth": 0,
              "ticks": ""
             }
            },
            "type": "scatterpolargl"
           }
          ],
          "scatterternary": [
           {
            "marker": {
             "colorbar": {
              "outlinewidth": 0,
              "ticks": ""
             }
            },
            "type": "scatterternary"
           }
          ],
          "surface": [
           {
            "colorbar": {
             "outlinewidth": 0,
             "ticks": ""
            },
            "colorscale": [
             [
              0,
              "#0d0887"
             ],
             [
              0.1111111111111111,
              "#46039f"
             ],
             [
              0.2222222222222222,
              "#7201a8"
             ],
             [
              0.3333333333333333,
              "#9c179e"
             ],
             [
              0.4444444444444444,
              "#bd3786"
             ],
             [
              0.5555555555555556,
              "#d8576b"
             ],
             [
              0.6666666666666666,
              "#ed7953"
             ],
             [
              0.7777777777777778,
              "#fb9f3a"
             ],
             [
              0.8888888888888888,
              "#fdca26"
             ],
             [
              1,
              "#f0f921"
             ]
            ],
            "type": "surface"
           }
          ],
          "table": [
           {
            "cells": {
             "fill": {
              "color": "#EBF0F8"
             },
             "line": {
              "color": "white"
             }
            },
            "header": {
             "fill": {
              "color": "#C8D4E3"
             },
             "line": {
              "color": "white"
             }
            },
            "type": "table"
           }
          ]
         },
         "layout": {
          "annotationdefaults": {
           "arrowcolor": "#2a3f5f",
           "arrowhead": 0,
           "arrowwidth": 1
          },
          "autotypenumbers": "strict",
          "coloraxis": {
           "colorbar": {
            "outlinewidth": 0,
            "ticks": ""
           }
          },
          "colorscale": {
           "diverging": [
            [
             0,
             "#8e0152"
            ],
            [
             0.1,
             "#c51b7d"
            ],
            [
             0.2,
             "#de77ae"
            ],
            [
             0.3,
             "#f1b6da"
            ],
            [
             0.4,
             "#fde0ef"
            ],
            [
             0.5,
             "#f7f7f7"
            ],
            [
             0.6,
             "#e6f5d0"
            ],
            [
             0.7,
             "#b8e186"
            ],
            [
             0.8,
             "#7fbc41"
            ],
            [
             0.9,
             "#4d9221"
            ],
            [
             1,
             "#276419"
            ]
           ],
           "sequential": [
            [
             0,
             "#0d0887"
            ],
            [
             0.1111111111111111,
             "#46039f"
            ],
            [
             0.2222222222222222,
             "#7201a8"
            ],
            [
             0.3333333333333333,
             "#9c179e"
            ],
            [
             0.4444444444444444,
             "#bd3786"
            ],
            [
             0.5555555555555556,
             "#d8576b"
            ],
            [
             0.6666666666666666,
             "#ed7953"
            ],
            [
             0.7777777777777778,
             "#fb9f3a"
            ],
            [
             0.8888888888888888,
             "#fdca26"
            ],
            [
             1,
             "#f0f921"
            ]
           ],
           "sequentialminus": [
            [
             0,
             "#0d0887"
            ],
            [
             0.1111111111111111,
             "#46039f"
            ],
            [
             0.2222222222222222,
             "#7201a8"
            ],
            [
             0.3333333333333333,
             "#9c179e"
            ],
            [
             0.4444444444444444,
             "#bd3786"
            ],
            [
             0.5555555555555556,
             "#d8576b"
            ],
            [
             0.6666666666666666,
             "#ed7953"
            ],
            [
             0.7777777777777778,
             "#fb9f3a"
            ],
            [
             0.8888888888888888,
             "#fdca26"
            ],
            [
             1,
             "#f0f921"
            ]
           ]
          },
          "colorway": [
           "#636efa",
           "#EF553B",
           "#00cc96",
           "#ab63fa",
           "#FFA15A",
           "#19d3f3",
           "#FF6692",
           "#B6E880",
           "#FF97FF",
           "#FECB52"
          ],
          "font": {
           "color": "#2a3f5f"
          },
          "geo": {
           "bgcolor": "white",
           "lakecolor": "white",
           "landcolor": "#E5ECF6",
           "showlakes": true,
           "showland": true,
           "subunitcolor": "white"
          },
          "hoverlabel": {
           "align": "left"
          },
          "hovermode": "closest",
          "mapbox": {
           "style": "light"
          },
          "paper_bgcolor": "white",
          "plot_bgcolor": "#E5ECF6",
          "polar": {
           "angularaxis": {
            "gridcolor": "white",
            "linecolor": "white",
            "ticks": ""
           },
           "bgcolor": "#E5ECF6",
           "radialaxis": {
            "gridcolor": "white",
            "linecolor": "white",
            "ticks": ""
           }
          },
          "scene": {
           "xaxis": {
            "backgroundcolor": "#E5ECF6",
            "gridcolor": "white",
            "gridwidth": 2,
            "linecolor": "white",
            "showbackground": true,
            "ticks": "",
            "zerolinecolor": "white"
           },
           "yaxis": {
            "backgroundcolor": "#E5ECF6",
            "gridcolor": "white",
            "gridwidth": 2,
            "linecolor": "white",
            "showbackground": true,
            "ticks": "",
            "zerolinecolor": "white"
           },
           "zaxis": {
            "backgroundcolor": "#E5ECF6",
            "gridcolor": "white",
            "gridwidth": 2,
            "linecolor": "white",
            "showbackground": true,
            "ticks": "",
            "zerolinecolor": "white"
           }
          },
          "shapedefaults": {
           "line": {
            "color": "#2a3f5f"
           }
          },
          "ternary": {
           "aaxis": {
            "gridcolor": "white",
            "linecolor": "white",
            "ticks": ""
           },
           "baxis": {
            "gridcolor": "white",
            "linecolor": "white",
            "ticks": ""
           },
           "bgcolor": "#E5ECF6",
           "caxis": {
            "gridcolor": "white",
            "linecolor": "white",
            "ticks": ""
           }
          },
          "title": {
           "x": 0.05
          },
          "xaxis": {
           "automargin": true,
           "gridcolor": "white",
           "linecolor": "white",
           "ticks": "",
           "title": {
            "standoff": 15
           },
           "zerolinecolor": "white",
           "zerolinewidth": 2
          },
          "yaxis": {
           "automargin": true,
           "gridcolor": "white",
           "linecolor": "white",
           "ticks": "",
           "title": {
            "standoff": 15
           },
           "zerolinecolor": "white",
           "zerolinewidth": 2
          }
         }
        },
        "title": {
         "text": "Storage Net Charge/Discharge, Tech: D_Gas_H2, Region: ALL"
        },
        "xaxis": {
         "title": {
          "text": "Hour"
         }
        },
        "yaxis": {
         "title": {
          "text": "Rate of Activity [TWh]"
         }
        }
       }
      }
     },
     "metadata": {},
     "output_type": "display_data"
    }
   ],
   "source": [
    "storage_rate_of_activity_fig(tech=\"D_Heat_HLB\", region=REGION).show()\n",
    "storage_rate_of_activity_fig(tech=\"D_Battery_Li-Ion\", region=REGION).show()\n",
    "storage_rate_of_activity_fig(tech=\"D_Gas_H2\", region=REGION).show()"
   ]
  }
 ],
 "metadata": {
  "kernelspec": {
   "display_name": "scenario_dashboard",
   "language": "python",
   "name": "python3"
  },
  "language_info": {
   "codemirror_mode": {
    "name": "ipython",
    "version": 3
   },
   "file_extension": ".py",
   "mimetype": "text/x-python",
   "name": "python",
   "nbconvert_exporter": "python",
   "pygments_lexer": "ipython3",
   "version": "3.12.4"
  }
 },
 "nbformat": 4,
 "nbformat_minor": 2
}
